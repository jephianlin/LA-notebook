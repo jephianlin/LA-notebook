{
 "cells": [
  {
   "cell_type": "markdown",
   "metadata": {},
   "source": [
    "# 最小多項式"
   ]
  },
  {
   "cell_type": "markdown",
   "metadata": {},
   "source": [
    "![Creative Commons License](https://i.creativecommons.org/l/by/4.0/88x31.png)  \n",
    "This work by Jephian Lin is licensed under a [Creative Commons Attribution 4.0 International License](http://creativecommons.org/licenses/by/4.0/)."
   ]
  },
  {
   "cell_type": "markdown",
   "metadata": {},
   "source": [
    "$\\newcommand{\\trans}{^\\top}\n",
    "\\newcommand{\\adj}{^{\\rm adj}}\n",
    "\\newcommand{\\cof}{^{\\rm cof}}\n",
    "\\newcommand{\\inp}[2]{\\left\\langle#1,#2\\right\\rangle}\n",
    "\\newcommand{\\dunion}{\\mathbin{\\dot\\cup}}\n",
    "\\newcommand{\\bzero}{\\mathbf{0}}\n",
    "\\newcommand{\\bone}{\\mathbf{1}}\n",
    "\\newcommand{\\ba}{\\mathbf{a}}\n",
    "\\newcommand{\\bb}{\\mathbf{b}}\n",
    "\\newcommand{\\bc}{\\mathbf{c}}\n",
    "\\newcommand{\\bd}{\\mathbf{d}}\n",
    "\\newcommand{\\be}{\\mathbf{e}}\n",
    "\\newcommand{\\bh}{\\mathbf{h}}\n",
    "\\newcommand{\\bp}{\\mathbf{p}}\n",
    "\\newcommand{\\bq}{\\mathbf{q}}\n",
    "\\newcommand{\\br}{\\mathbf{r}}\n",
    "\\newcommand{\\bx}{\\mathbf{x}}\n",
    "\\newcommand{\\by}{\\mathbf{y}}\n",
    "\\newcommand{\\bz}{\\mathbf{z}}\n",
    "\\newcommand{\\bu}{\\mathbf{u}}\n",
    "\\newcommand{\\bv}{\\mathbf{v}}\n",
    "\\newcommand{\\bw}{\\mathbf{w}}\n",
    "\\newcommand{\\tr}{\\operatorname{tr}}\n",
    "\\newcommand{\\nul}{\\operatorname{null}}\n",
    "\\newcommand{\\rank}{\\operatorname{rank}}\n",
    "%\\newcommand{\\ker}{\\operatorname{ker}}\n",
    "\\newcommand{\\range}{\\operatorname{range}}\n",
    "\\newcommand{\\Col}{\\operatorname{Col}}\n",
    "\\newcommand{\\Row}{\\operatorname{Row}}\n",
    "\\newcommand{\\spec}{\\operatorname{spec}}\n",
    "\\newcommand{\\vspan}{\\operatorname{span}}\n",
    "\\newcommand{\\Vol}{\\operatorname{Vol}}\n",
    "\\newcommand{\\sgn}{\\operatorname{sgn}}\n",
    "\\newcommand{\\idmap}{\\operatorname{id}}\n",
    "\\newcommand{\\am}{\\operatorname{am}}\n",
    "\\newcommand{\\gm}{\\operatorname{gm}}$"
   ]
  },
  {
   "cell_type": "code",
   "execution_count": null,
   "metadata": {},
   "outputs": [],
   "source": [
    "from lingeo import random_int_list, random_good_matrix\n",
    "from linspace import mtov"
   ]
  },
  {
   "cell_type": "markdown",
   "metadata": {},
   "source": [
    "## Main idea"
   ]
  },
  {
   "cell_type": "markdown",
   "metadata": {},
   "source": [
    "Let $A$ be an $n\\times n$ matrix.  \n",
    "Define the **minimal polynomial** of $A$ as the nonzero polynomial $m_A(x)$ with the smallest degree such that  \n",
    "\n",
    "- the leading coefficient of $m_A(x)$ is $1$, and \n",
    "- $m_A(A) = O$.  \n",
    "\n",
    "By the Cayley–Hamilton Theorem, the minimal polynomial exists and has degree at most $n$.  "
   ]
  },
  {
   "cell_type": "markdown",
   "metadata": {},
   "source": [
    "The minimal polynomial of $A$ has the following properties:  \n",
    "\n",
    "- If $p(x)$ is a polynomial with $p(A) = O$, then $m_A(x) \\mid p(x)$.  \n",
    "- The minimal polynomial of $A$ is unique.  \n",
    "- $m_A(x) \\mid p_A(x)$. "
   ]
  },
  {
   "cell_type": "markdown",
   "metadata": {},
   "source": [
    "Suppose $\\bv$ is a vector in $\\mathbb{R}^n$.  \n",
    "Define the **minimal polynomial** of $A$ at $\\bv$ as the nonzero polynomial $m_{A,\\bv}(x)$ with the smallest degree such that  \n",
    "\n",
    "- the leading coefficient of $m_{A,\\bv}(x)$ is $1$, and \n",
    "- $m_{A,\\bv}(A)\\bv = \\bzero$.  "
   ]
  },
  {
   "cell_type": "markdown",
   "metadata": {},
   "source": [
    "The minimal polynomial of $A$ at $\\bv$ has the following properties:  \n",
    "\n",
    "- If $p(x)$ is a polynomial with $p(A)\\bv = \\bzero$, then $m_{A,\\bv}(x) \\mid p(x)$.  \n",
    "- The minimal polynomial of $A$ is unique.  \n",
    "- $m_A(x) \\mid m_A(x)$.  \n",
    "- If $\\lambda$ is an eigenvalue of $A$, then $(x - \\lambda)$ is a factor of $m_A(x)$.  "
   ]
  },
  {
   "cell_type": "markdown",
   "metadata": {},
   "source": [
    "##### Theorem (Minimal polynomial and diagonalizability)\n",
    "\n",
    "Let $A$ be an $n\\times n$ real matrix.  \n",
    "Then $A$ is diagonalizable (over $\\mathbb{C}$) if and only if $m_A(x)$ has no repeated roots."
   ]
  },
  {
   "cell_type": "markdown",
   "metadata": {},
   "source": [
    "Let $A$ be an $n\\times n$ matrix.  \n",
    "One may use standard techniques on a vector space to find the minimal polynomial.  \n",
    "Let $\\beta$ be the standard basis of the space of $n\\times n$ matrices; see 210.\n",
    "\n",
    "1. Calculate the $n^2\\times n$ matrix  \n",
    "$$\n",
    "    \\Psi = \\begin{bmatrix}\n",
    "     | & | & ~ & | \\\\\n",
    "     [I]_\\beta & [A]_\\beta & \\cdots & [A^{n-1}]_\\beta \\\\\n",
    "     | & | & ~ & | \\\\\n",
    "    \\end{bmatrix}.\n",
    "$$\n",
    "2. Use the row operation to find the smallest $d$ such that  \n",
    "$$\n",
    "    A^d \\in \\vspan\\{I, A, \\ldots, A^{d-1}\\}.\n",
    "$$\n",
    "(Indeed, $d$ corresponds to the left-most free variable.)\n",
    "3. If  \n",
    "$$\n",
    "    A_d = c_1A_{d-1} + \\cdots + c_dI,\n",
    "$$\n",
    "then  \n",
    "$$\n",
    "    m_A(x) = x^d - c_1x^{d-1} - c_2x^{d-2} - \\cdots - c_d\n",
    "$$\n",
    "is the minimal polynomial of $A$.  "
   ]
  },
  {
   "cell_type": "markdown",
   "metadata": {},
   "source": [
    "The minimal polynomial of $A$ at $\\bv$ can be found in a similar mannar but focusing on the $n\\times n$ matrix\n",
    "$$\n",
    "    \\Psi = \\begin{bmatrix}\n",
    "     | & | & ~ & | \\\\\n",
    "     I\\bv & A\\bv & \\cdots & A^{n-1}\\bv \\\\\n",
    "     | & | & ~ & | \\\\\n",
    "    \\end{bmatrix}\n",
    "$$\n",
    "instead."
   ]
  },
  {
   "cell_type": "markdown",
   "metadata": {},
   "source": [
    "## Side stories\n",
    "\n",
    "- Jordan block\n",
    "- nilpotent matrix\n",
    "- idempotent"
   ]
  },
  {
   "cell_type": "markdown",
   "metadata": {},
   "source": [
    "## Experiments"
   ]
  },
  {
   "cell_type": "markdown",
   "metadata": {},
   "source": [
    "##### Exercise 1\n",
    "\n",
    "執行以下程式碼。  \n",
    "令  \n",
    "$$\n",
    "    \\Psi = \\begin{bmatrix}\n",
    "     | & | & ~ & | \\\\\n",
    "     [I]_\\beta & [A]_\\beta & \\cdots & [A^{n-1}]_\\beta \\\\\n",
    "     | & | & ~ & | \\\\\n",
    "    \\end{bmatrix}.\n",
    "$$\n",
    "已知 $R$ 為 $\\Psi$ 的最簡階梯型。"
   ]
  },
  {
   "cell_type": "code",
   "execution_count": null,
   "metadata": {
    "scrolled": false
   },
   "outputs": [],
   "source": [
    "### code\n",
    "set_random_seed(0)\n",
    "print_ans = False\n",
    "\n",
    "n = 3\n",
    "spec = random_int_list(n -1)\n",
    "spec.append(spec[-1])\n",
    "Q = random_good_matrix(n,n,n,2)\n",
    "D = diagonal_matrix(spec)\n",
    "A = Q * D * Q.inverse()\n",
    "\n",
    "Psi = matrix([mtov(A^i) for i in range(n)]).transpose()\n",
    "R = Psi.rref()\n",
    "\n",
    "print(\"n =\", n)\n",
    "pretty_print(LatexExpr(\"A =\"), A)\n",
    "pretty_print(LatexExpr(\"R =\"), R)\n",
    "\n",
    "if print_ans:\n",
    "    pretty_print(LatexExpr(r\"\\Psi =\"), Psi)\n",
    "    print(\"minimal polynomial:\", A.minpoly())"
   ]
  },
  {
   "cell_type": "markdown",
   "metadata": {},
   "source": [
    "##### Exercise 1(a)\n",
    "\n",
    "求 $\\Psi$。"
   ]
  },
  {
   "cell_type": "markdown",
   "metadata": {},
   "source": [
    "##### Exercise 1(b)\n",
    "\n",
    "計算 $m_A(x)$。"
   ]
  },
  {
   "cell_type": "markdown",
   "metadata": {},
   "source": [
    "## Exercises"
   ]
  },
  {
   "cell_type": "markdown",
   "metadata": {},
   "source": [
    "##### Exercise 2\n",
    "\n",
    "以下討論對角矩陣的最小多項式。"
   ]
  },
  {
   "cell_type": "markdown",
   "metadata": {},
   "source": [
    "##### Exercise 2(a)\n",
    "\n",
    "令  \n",
    "$$\n",
    "    A = \\begin{bmatrix}\n",
    "    1 & 0 & 0 \\\\\n",
    "    0 & 2 & 0 \\\\\n",
    "    0 & 0 & 3\n",
    "    \\end{bmatrix}.\n",
    "$$\n",
    "求 $m_A(x)$。"
   ]
  },
  {
   "cell_type": "markdown",
   "metadata": {},
   "source": [
    "##### Exercise 2(b)\n",
    "\n",
    "令  \n",
    "$$\n",
    "    A = \\begin{bmatrix}\n",
    "    2 & 0 & 0 \\\\\n",
    "    0 & 2 & 0 \\\\\n",
    "    0 & 0 & 3\n",
    "    \\end{bmatrix}.\n",
    "$$\n",
    "求 $m_A(x)$。"
   ]
  },
  {
   "cell_type": "markdown",
   "metadata": {},
   "source": [
    "##### Exercise 2(c)\n",
    "\n",
    "若 $r_1,\\ldots,r_n$ 為 $n$ 個實數，  \n",
    "而扣掉重覆元素後，其相異實數為 $\\lambda_1,\\ldots,\\lambda_q$。  \n",
    "令 $A$ 為一對角矩陣，其對角線上元素為 $r_1,\\ldots,r_n$。 \n",
    "求 $m_A(x)$。"
   ]
  },
  {
   "cell_type": "markdown",
   "metadata": {},
   "source": [
    "##### Exercise 3\n",
    "\n",
    "以下討論喬丹標準型的最小多項式。"
   ]
  },
  {
   "cell_type": "markdown",
   "metadata": {},
   "source": [
    "##### Exercise 3(a)\n",
    "\n",
    "令  \n",
    "$$\n",
    "    A = \\begin{bmatrix}\n",
    "    2 & 1 & 0 \\\\\n",
    "    0 & 2 & 1 \\\\\n",
    "    0 & 0 & 2\n",
    "    \\end{bmatrix}.\n",
    "$$\n",
    "求 $m_A(x)$。"
   ]
  },
  {
   "cell_type": "markdown",
   "metadata": {},
   "source": [
    "##### Exercise 3(b)\n",
    "\n",
    "令  \n",
    "$$\n",
    "    A = \\begin{bmatrix}\n",
    "    2 & 1 & 0 & 0 & 0 & 0 & 0 \\\\\n",
    "    0 & 2 & 1 & 0 & 0 & 0 & 0 \\\\\n",
    "    0 & 0 & 2 & 0 & 0 & 0 & 0 \\\\\n",
    "    0 & 0 & 0 & 2 & 1 & 0 & 0 \\\\\n",
    "    0 & 0 & 0 & 0 & 2 & 0 & 0 \\\\\n",
    "    0 & 0 & 0 & 0 & 0 & 3 & 1 \\\\\n",
    "    0 & 0 & 0 & 0 & 0 & 0 & 3\n",
    "    \\end{bmatrix}.\n",
    "$$\n",
    "求 $m_A(x)$。"
   ]
  },
  {
   "cell_type": "markdown",
   "metadata": {},
   "source": [
    "##### Exercise 3(c)\n",
    "\n",
    "定義 $J_{\\lambda,m}$ 為一 $m\\times m$ 矩陣，  \n",
    "其對角線上的元素皆為 $\\lambda$，  \n",
    "而在每個 $\\lambda$ 的上面一項放一個 $1$（除了第一行），  \n",
    "其餘元素為 $0$。  \n",
    "\n",
    "求 $J_{\\lambda,m}$ 的最小多項式。"
   ]
  },
  {
   "cell_type": "markdown",
   "metadata": {},
   "source": [
    "##### Exercise 3(d)\n",
    "\n",
    "令矩陣 $A$ 是一個區塊對角矩陣，  \n",
    "其對角區塊皆由一些 $J_{\\lambda,m}$ 組成。  \n",
    "\n",
    "說明 $A$ 的最小多項式為 $\\prod_\\lambda (x - \\lambda)^h$，  \n",
    "其中 $\\lambda$ 跑過對角線上所有的相異 $\\lambda$，  \n",
    "而對每個 $\\lambda$ 而言，$h$ 是所有 $J_{\\lambda,m}$ 中最大的區塊的大小。"
   ]
  },
  {
   "cell_type": "markdown",
   "metadata": {},
   "source": [
    "##### Exercise 4\n",
    "\n",
    "令  \n",
    "$$\n",
    "    A = \\begin{bmatrix}\n",
    "    4 & 6 & 2 \\\\\n",
    "    -4 & -10 & -4 \\\\\n",
    "    11 & 33 & 13\n",
    "    \\end{bmatrix}.\n",
    "$$"
   ]
  },
  {
   "cell_type": "markdown",
   "metadata": {},
   "source": [
    "##### Exercise 4(a)\n",
    "\n",
    "計算 $A^0, A^1, A^2$，  \n",
    "並求出  \n",
    "$$\n",
    "    \\Psi = \\begin{bmatrix}\n",
    "     | & | & | \\\\\n",
    "     [I]_\\beta & [A]_\\beta & [A^{2}]_\\beta \\\\\n",
    "     | & | & | \\\\\n",
    "    \\end{bmatrix}.\n",
    "$$"
   ]
  },
  {
   "cell_type": "markdown",
   "metadata": {},
   "source": [
    "##### Exercise 4(b)\n",
    "\n",
    "求 $m_A(x)$。"
   ]
  },
  {
   "cell_type": "markdown",
   "metadata": {},
   "source": [
    "##### Exercise 4(c)\n",
    "\n",
    "令 $\\bv = (2, -8, 22)$。  \n",
    "計算 $A^0\\bv, A^1\\bv, A^2\\bv$，  \n",
    "並求出  \n",
    "$$\n",
    "    \\Psi = \\begin{bmatrix}\n",
    "     | & | & | \\\\\n",
    "     I\\bv & A\\bv & A^{2}\\bv \\\\\n",
    "     | & | & | \\\\\n",
    "    \\end{bmatrix}\n",
    "$$"
   ]
  },
  {
   "cell_type": "markdown",
   "metadata": {},
   "source": [
    "##### Exercise 4(d)\n",
    "\n",
    "求 $m_{A,\\bv}(x)$。"
   ]
  },
  {
   "cell_type": "markdown",
   "metadata": {},
   "source": [
    "##### Exercise 5\n",
    "\n",
    "令 $A$ 為一 $n\\times n$ 矩陣。  \n",
    "說明若 $A^d \\in \\vspan\\{I, A, \\ldots, A^{d-1}\\}$  \n",
    "則對任何 $k\\geq d$ 都有 $A^k \\in \\vspan\\{I, A, \\ldots, A^{d-1}\\}$。  \n",
    "\n",
    "因此若 $A$ 的最小多項式為 $d$ 次時，  \n",
    "$\\{I, A, \\ldots, A^{d-1}\\}$ 為 $\\vspan\\{I, A, A^2, \\ldots \\}$ 的一組基底。"
   ]
  },
  {
   "cell_type": "markdown",
   "metadata": {},
   "source": [
    "##### Exercise 6\n",
    "\n",
    "令 $A$ 為一 $n\\times n$ 矩陣。  \n",
    "以下探討 $m_A(x)$ 的一些基本性質。"
   ]
  },
  {
   "cell_type": "markdown",
   "metadata": {},
   "source": [
    "##### Exercise 6(a)\n",
    "\n",
    "若 $p(x)$ 為一多項式且 $p(A) = O$，  \n",
    "說明對於任何多項式 $a(x)$ 和 $b(x)$，  \n",
    "把多項式 $a(x)p(x) + b(x)m_A(x)$ 代入 $A$ 也會是 $O$。  \n",
    "\n",
    "因此把 $g(x) = \\gcd(p(x), m_A(x))$ 代入 $A$ 也是 $O$。  \n",
    "由於 $m_A(x)$ 已經是次方數最小的，$g(x) = m_A(x)$，且 $m_A(x) \\mid p(x)$。  \n",
    "\n",
    "提示：參考 312。"
   ]
  },
  {
   "cell_type": "markdown",
   "metadata": {},
   "source": [
    "##### Exercise 6(b)\n",
    "\n",
    "說明每個矩陣的最小多項式是唯一的。"
   ]
  },
  {
   "cell_type": "markdown",
   "metadata": {},
   "source": [
    "##### Exercise 6(c)\n",
    "\n",
    "說明 $m_A(x) \\mid p_A(x)$。"
   ]
  },
  {
   "cell_type": "markdown",
   "metadata": {},
   "source": [
    "##### Exercise 7\n",
    "\n",
    "令 $A$ 為一 $n\\times n$ 矩陣、  \n",
    "而 $\\bv$ 為一 $\\mathbb{R}^n$ 中的向量。  \n",
    "以下探討 $m_{A,\\bv}(x)$ 的一些基本性質。"
   ]
  },
  {
   "cell_type": "markdown",
   "metadata": {},
   "source": [
    "##### Exercise 7(a)\n",
    "\n",
    "若 $p(x)$ 為一多項式且 $p(A)\\bv = \\bzero$，  \n",
    "說明對於任何多項式 $a(x)$ 和 $b(x)$，  \n",
    "把多項式 $a(x)p(x) + b(x)m_{A,\\bv}(x)$ 代入 $A$ 後再乘上 $\\bv$ 也會是 $\\bzero$。  \n",
    "\n",
    "因此把 $g(x) = \\gcd(p(x), m_{A,\\bv}(x))$ 代入 $A$ 後再乘上 $\\bv$ 也是 $\\bzero$。  \n",
    "由於 $m_{A,\\bv}(x)$ 已經是次方數最小的，$g(x) = m_{A,\\bv}(x)$，且 $m_{A,\\bv}(x) \\mid p(x)$。"
   ]
  },
  {
   "cell_type": "markdown",
   "metadata": {},
   "source": [
    "##### Exercise 7(b)\n",
    "\n",
    "說明每個矩陣在任一向量上的最小多項式是唯一的。"
   ]
  },
  {
   "cell_type": "markdown",
   "metadata": {},
   "source": [
    "##### Exercise 7(c)\n",
    "\n",
    "說明 $m_{A,\\bv}(x) \\mid m_A(x)$。"
   ]
  },
  {
   "cell_type": "markdown",
   "metadata": {},
   "source": [
    "##### Exercise 7(d)\n",
    "\n",
    "說明任何 $p_A(x)$ 的根也是 $m_A(x)$ 的根。"
   ]
  },
  {
   "cell_type": "markdown",
   "metadata": {},
   "source": [
    "##### Exercise 8\n",
    "\n",
    "依照以下步驟證明以下敘述等價：  \n",
    "\n",
    "1. $A$ 可以在複數中對角化。\n",
    "2. $A$ 的最小多項式沒有重根。  \n",
    "\n",
    "（由本節第 2 題已看出條件 1 會推得條件 2，所以以下著重在另一個方向的推導。）"
   ]
  },
  {
   "cell_type": "markdown",
   "metadata": {},
   "source": [
    "##### Exercise 8(a)\n",
    "\n",
    "令 $B_1,\\ldots, B_q$ 為 $n\\times n$ 矩陣。  \n",
    "證明若 $B_1\\cdots B_q = O$，則 $\\nul(B_1) + \\cdots + \\nul(B_q) \\geq n$。"
   ]
  },
  {
   "cell_type": "markdown",
   "metadata": {},
   "source": [
    "##### Exercise 8(b)\n",
    "\n",
    "令 $\\lambda_1,\\ldots,\\lambda_q$ 為 $A$ 的相異特徵值。  \n",
    "若 $A$ 的最小多項式沒有重根，\n",
    "說明 $\\gm(\\lambda_1) + \\cdots + \\gm(\\lambda_q) \\geq n$。"
   ]
  },
  {
   "cell_type": "markdown",
   "metadata": {},
   "source": [
    "##### Exercise 8(c)\n",
    "\n",
    "證明若 $A$ 的最小多項式沒有重根，則 $A$ 可對角化。"
   ]
  },
  {
   "cell_type": "markdown",
   "metadata": {},
   "source": [
    "##### Exercise 9\n",
    "\n",
    "以下探討最小多項式的應用。"
   ]
  },
  {
   "cell_type": "markdown",
   "metadata": {},
   "source": [
    "##### Exercise 9(a)\n",
    "\n",
    "若一個 $n\\times n$ 矩陣 $A$ 滿足 $A^2 = A$，則稱之為**冪等矩陣（idempotent matrix）** 。  \n",
    "說明任何冪等矩陣一定可以對角化，並找出所有的相異特徵值。"
   ]
  },
  {
   "cell_type": "markdown",
   "metadata": {},
   "source": [
    "##### Exercise 9(a)\n",
    "\n",
    "若一個 $n\\times n$ 矩陣 $A$ 找得到一個整數 $k \\geq 0$ 使得 $A^k = O$，則稱之為**冪零矩陣（nilpotent matrix）** 。  \n",
    "找出一個冪等矩陣所有的相異特徵值。"
   ]
  }
 ],
 "metadata": {
  "kernelspec": {
   "display_name": "SageMath 9.5",
   "language": "sage",
   "name": "sagemath"
  },
  "language_info": {
   "codemirror_mode": {
    "name": "ipython",
    "version": 3
   },
   "file_extension": ".py",
   "mimetype": "text/x-python",
   "name": "python",
   "nbconvert_exporter": "python",
   "pygments_lexer": "ipython3",
   "version": "3.10.2"
  }
 },
 "nbformat": 4,
 "nbformat_minor": 4
}
