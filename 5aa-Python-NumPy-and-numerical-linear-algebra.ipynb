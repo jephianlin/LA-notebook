{
 "cells": [
  {
   "cell_type": "markdown",
   "metadata": {},
   "source": [
    "# Python: NumPy 與數值線性代數"
   ]
  },
  {
   "cell_type": "markdown",
   "metadata": {},
   "source": [
    "![Creative Commons License](https://i.creativecommons.org/l/by/4.0/88x31.png)  \n",
    "This work by Jephian Lin is licensed under a [Creative Commons Attribution 4.0 International License](http://creativecommons.org/licenses/by/4.0/)."
   ]
  },
  {
   "cell_type": "code",
   "execution_count": null,
   "metadata": {},
   "outputs": [],
   "source": [
    "import numpy as np\n",
    "from numpy import linalg as LA"
   ]
  },
  {
   "cell_type": "markdown",
   "metadata": {},
   "source": [
    "## 符號運算與數值運算\n",
    "\n",
    "**符號運算** 通常比較慢，但帶來精確的結果；  \n",
    "**數值運算** 通常比較快，但必須處理計算誤差。  \n",
    "\n",
    "在線性代數裡，  \n",
    "符號運算擅長的包含：最簡階梯型、零解空間、秩與零維度、喬丹標準型等等；  \n",
    "數值運算擅長的包含：矩陣指數、特徵值、特徵向量、奇異值分解、QR 分解等等。\n",
    "\n",
    "Sage 為建立在 Python 上的一套代數系統，  \n",
    "主要目的在於處理符號運算；  \n",
    "而 NumPy 為純 Python 環境中的一個套件，  \n",
    "主要目的在於處理大型陣列  \n",
    "（把矩陣看成兩個維度的話，NumPy 可以處理任意維度的陣列）  \n",
    "的數值運算。  \n",
    "\n",
    "<!-- eng start -->\n",
    "**Symbolic computation** is slower but leads to an exact solution; while  \n",
    "**numerical computation** is faster but leads to a solution with numerical errors.  \n",
    "\n",
    "In linear algebra, symbolic computation is good for finding the reduced echelon form, the kernel, the rank and the nullity, and the Jordan canonical form, etc.; while numerical computation is good for finding the matrix exponential, the eigenvalues, the eigenvectors, the singular value decomposition, and the QR decomposition, etc.\n",
    "\n",
    "Sage is a algebra system built on Python, which is good at symbolic computation; while NumPy is a package in Python, which is good at numerical computation on huge arrays.  (A matrix can be viewed as an array of two dimension, while NumPy can deal with arrays of arbitrary dimensions.\n",
    "<!-- eng end -->"
   ]
  },
  {
   "cell_type": "markdown",
   "metadata": {},
   "source": [
    "## 建構矩陣"
   ]
  },
  {
   "cell_type": "markdown",
   "metadata": {},
   "source": [
    "1. `np.array( list of lists )`：把 `list of lists` 中的每個 `list` 當作矩陣的列。    \n",
    "2. `np.array(list).reshape(m,n)`：把 `list` 重組成 `m x n` 的矩陣。\n",
    "3. `np.eye(n)`：單位矩陣。  \n",
    "4. `np.zeros((m,n))`：全零矩陣。\n",
    "5. `np.diag(list)`：對角矩陣，其對角線上元素由 `list` 決定。\n",
    "\n",
    "利用 `print` 來顯示矩陣。  \n",
    "\n",
    "<!-- eng start -->\n",
    "1. `np.array( list of lists )` : construct an array whose rows are the `list` in `list of lists`.  \n",
    "2. `np.array(list).reshape(m,n)` : make `list` into an `m x n` matrix.  \n",
    "3. `np.eye(n)` : identity matrix.  \n",
    "4. `np.zeros((m,n))` : zero matrix.  \n",
    "5. `np.diag(list)` : diagonal matrix whose entries are determined by `list` .\n",
    "\n",
    "Use `print` to show the matrix.    \n",
    "<!-- eng end -->"
   ]
  },
  {
   "cell_type": "code",
   "execution_count": null,
   "metadata": {},
   "outputs": [],
   "source": [
    "A = np.array([[1,2,3], \n",
    "              [4,5,6]])\n",
    "print(A)"
   ]
  },
  {
   "cell_type": "code",
   "execution_count": null,
   "metadata": {},
   "outputs": [],
   "source": [
    "A = np.array([1,2,3,4,5,6]).reshape(2,3)\n",
    "print(A)"
   ]
  },
  {
   "cell_type": "code",
   "execution_count": null,
   "metadata": {},
   "outputs": [],
   "source": [
    "A = np.eye(3)\n",
    "# A = np.zeros((3,3))\n",
    "# A = np.diag([1,2,3])\n",
    "print(A)"
   ]
  },
  {
   "cell_type": "markdown",
   "metadata": {},
   "source": [
    "## 陣列之間的運算\n",
    "\n",
    "Operations between matrices"
   ]
  },
  {
   "cell_type": "markdown",
   "metadata": {},
   "source": [
    "有別於 Sage，在 NumPy 中的所有常見運算都是逐項處理。  \n",
    "若要處理矩陣相乘，可以使用 `A.dot(B)`。  \n",
    "\n",
    "<!-- eng start -->\n",
    "Different from Sage, most of the operations in NumPy is entrywise.  We may use `A.dot(B)` for the usual matrix multiplication.  \n",
    "<!-- eng end -->"
   ]
  },
  {
   "cell_type": "code",
   "execution_count": null,
   "metadata": {},
   "outputs": [],
   "source": [
    "A = np.array([1,2,3,4,5,6]).reshape(2,3)\n",
    "B = np.array([6,5,4,3,2,1]).reshape(2,3)\n",
    "\n",
    "C = A + B\n",
    "# C = A - B\n",
    "# C = A * B\n",
    "# C = A / B\n",
    "# C = A ** B\n",
    "print(C)"
   ]
  },
  {
   "cell_type": "code",
   "execution_count": null,
   "metadata": {},
   "outputs": [],
   "source": [
    "A = np.array([1,2,3,4,5,6]).reshape(2,3)\n",
    "B = np.array([6,5,4,3,2,1]).reshape(3,2)\n",
    "\n",
    "C = A.dot(B)\n",
    "print(C)"
   ]
  },
  {
   "cell_type": "markdown",
   "metadata": {},
   "source": [
    "## 從矩陣中選取各項或子矩陣\n",
    "\n",
    "Selecting an entry or a submatrix from a matrix"
   ]
  },
  {
   "cell_type": "markdown",
   "metadata": {},
   "source": [
    "若 `A` 是一個矩陣。  \n",
    "\n",
    "1. `A[i,j]`：選取第 `ij` 項。  \n",
    "2. `A[list1, list2]`：選取列在 `list1` 中行在 `list2` 中的子矩陣。\n",
    "\n",
    "也可以混合使用﹐如 `A[i, list]` 或 `A[list, j]`。  \n",
    "\n",
    "<!-- eng start -->\n",
    "Let `A` be a matrix.  \n",
    "\n",
    "1. `A[i,j]` : the `ij` entry of `A` .  \n",
    "2. `A[list1, list2]` : the submatrix of $A$ induced on rows in `list1` and columns in `list2` .  \n",
    "\n",
    "One may also mix the two usages, such as `A[i, list]` or `A[list, j]` .  \n",
    "<!-- eng end -->"
   ]
  },
  {
   "cell_type": "code",
   "execution_count": null,
   "metadata": {},
   "outputs": [],
   "source": [
    "A = np.array([1,2,3,4,5,6]).reshape(2,3)\n",
    "print(A)\n",
    "print(A[0,1])\n",
    "print(A[[0,1],[1,2]])"
   ]
  },
  {
   "cell_type": "markdown",
   "metadata": {},
   "source": [
    "選取子矩陣中 `list` 的可以用 `a:b` 的格式取代。  \n",
    "\n",
    "1. `a:b`：從 `a` 到 `b`（不包含 `b`）。  \n",
    "2. `a:`：從 `a` 到底。  \n",
    "3. `:b`：從頭到 `b`（不包含 `b`）。  \n",
    "4. `:`：全部。  \n",
    "\n",
    "<!-- eng start -->\n",
    "When selecting a submatrix, the argument `list` can be replaced by `a:b` .  \n",
    "\n",
    "1. `a:b` : from `a` to `b` (excluding `b` ).  \n",
    "2. `a:` : from `a` to the end.  \n",
    "3. `:b` : from the beginning to `b` (excluding `b` ).  \n",
    "4. `:` : all.  \n",
    "<!-- eng end -->"
   ]
  },
  {
   "cell_type": "code",
   "execution_count": null,
   "metadata": {},
   "outputs": [],
   "source": [
    "A = np.array([1,2,3,4,5,6]).reshape(2,3)\n",
    "print(A[:,1:])"
   ]
  },
  {
   "cell_type": "markdown",
   "metadata": {},
   "source": [
    "可以把選出來的子矩陣設定成給定的矩陣。  \n",
    "\n",
    "<!-- eng start -->\n",
    "We may also assign values to the selected submatrix.  \n",
    "<!-- eng end -->"
   ]
  },
  {
   "cell_type": "code",
   "execution_count": null,
   "metadata": {},
   "outputs": [],
   "source": [
    "A = np.zeros((2,3) )\n",
    "print(A)\n",
    "A[0,0] = 100\n",
    "print(A)\n",
    "A[:,1:] = np.eye(2)\n",
    "print(A)"
   ]
  },
  {
   "cell_type": "markdown",
   "metadata": {},
   "source": [
    "## 線性代數上的運算\n",
    "\n",
    "Operations in linear algebra"
   ]
  },
  {
   "cell_type": "markdown",
   "metadata": {},
   "source": [
    "若 `A` 為一矩陣。  \n",
    "\n",
    "1. `A.T`：`A` 的轉置。\n",
    "2. `LA.det`：`A` 的行列式值。\n",
    "3. `np.trace(A)`：`A` 的跡。\n",
    "4. `LA.inv`：`A` 的反矩陣。\n",
    "5. `np.poly`：`A` 的特徵多項式。  \n",
    "\n",
    "<!-- eng start -->\n",
    "Let `A` be a matrix.  \n",
    "\n",
    "1. `A.T` : the transpose of `A` .  \n",
    "2. `LA.det` : the determinant of `A` .  \n",
    "3. `np.trace(A)` : the trace of `A` .  \n",
    "4. `LA.inv` : the inverse of `A` .  \n",
    "5. `np.poly` : the characteristic polynomial of `A` .  \n",
    "<!-- eng end -->"
   ]
  },
  {
   "cell_type": "code",
   "execution_count": null,
   "metadata": {},
   "outputs": [],
   "source": [
    "A = np.array([1,2,3,4,5,6]).reshape(2,3)\n",
    "print(A.T)"
   ]
  },
  {
   "cell_type": "code",
   "execution_count": null,
   "metadata": {},
   "outputs": [],
   "source": [
    "A = np.array([1,2,3,4]).reshape(2,2)\n",
    "print(LA.det(A))"
   ]
  },
  {
   "cell_type": "code",
   "execution_count": null,
   "metadata": {},
   "outputs": [],
   "source": [
    "A = np.array([1,2,3,4]).reshape(2,2)\n",
    "print(np.trace(A))"
   ]
  },
  {
   "cell_type": "code",
   "execution_count": null,
   "metadata": {},
   "outputs": [],
   "source": [
    "A = np.array([1,2,3,4]).reshape(2,2)\n",
    "Ainv = LA.inv(A)\n",
    "print(\"A^{-1} =\")\n",
    "print(Ainv)\n",
    "print(\"A A^{-1} =\")\n",
    "print(A.dot(Ainv))"
   ]
  },
  {
   "cell_type": "code",
   "execution_count": null,
   "metadata": {},
   "outputs": [],
   "source": [
    "A = np.array([1,2,3,4]).reshape(2,2)\n",
    "p = np.poly(A)\n",
    "print(\"characteristic polynomial has coefficients\")\n",
    "print(p)\n",
    "### Cayley--Hamilton Theorem\n",
    "print(\"p_A(A) =\")\n",
    "print(p[0] * A.dot(A) + p[1] * A + p[2] * np.eye(2))"
   ]
  },
  {
   "cell_type": "markdown",
   "metadata": {},
   "source": [
    "## 特徵值、特徵向量、對角化\n",
    "\n",
    "Eigenvalues, eigenvectors, and diagonalization"
   ]
  },
  {
   "cell_type": "markdown",
   "metadata": {},
   "source": [
    "若 `A` 為一矩陣。  \n",
    "\n",
    "1. `eig` 或 `eigh`：回傳一個列表及一個矩陣，列表為 `A` 的特徵值，而矩陣的行向量為 `A` 的特徵向量。\n",
    "2. `eigvals` 或 `eigvalsh`：回傳 `A` 的特徵值。\n",
    "\n",
    "其中有 `h` 的版本是專為對稱矩陣而設計，並有以下特點：  \n",
    "\n",
    "- 回傳的特徵值都是實數，且由小到大排列。\n",
    "- 回傳的特徵向量會互向垂直，且長度是一。\n",
    "- 只適用對稱矩陣。  \n",
    "\n",
    "<!-- eng start -->\n",
    "Let `A` be a matrix.  \n",
    "\n",
    "1. `eig` or `eigh` : returns a list and a matrix, where the list consists of the eigenvalues of `A` , while the matrix contains the eigenvectors of `A` as the columns.  \n",
    "2. `eigvals` or `eigvalsh` : only the eigenvalues of `A` .  \n",
    "\n",
    "Here the version with an extra `h` is customized for Hermitian matrices and has the following features:   \n",
    "\n",
    "- The eigenvalues are all real, and they are sorted from small to large in the output.\n",
    "- The eigenvectors are orthonormal.  \n",
    "- It only works for Hermitian matrices.  \n",
    "<!-- eng end -->"
   ]
  },
  {
   "cell_type": "code",
   "execution_count": null,
   "metadata": {},
   "outputs": [],
   "source": [
    "A = np.array([1,2,3,4]).reshape(2,2)\n",
    "vals, vecs = LA.eig(A)\n",
    "print(\"eigenvalues =\")\n",
    "print(vals)\n",
    "print(\"eigenvectors are the columns of\")\n",
    "print(vecs)"
   ]
  },
  {
   "cell_type": "code",
   "execution_count": null,
   "metadata": {},
   "outputs": [],
   "source": [
    "A = np.array([1,2,3,4]).reshape(2,2)\n",
    "vals, vecs = LA.eig(A)\n",
    "### A v = lambda v\n",
    "k = 0\n",
    "print(\"A v\")\n",
    "print(A.dot(vecs[:,k]))\n",
    "print(\"lambda v\")\n",
    "print(vals[k] * vecs[:,k])"
   ]
  },
  {
   "cell_type": "code",
   "execution_count": null,
   "metadata": {},
   "outputs": [],
   "source": [
    "A = np.array([1,2,3,4]).reshape(2,2)\n",
    "vals, vecs = LA.eig(A)\n",
    "### D = Qinv A Q\n",
    "print(\"D =\")\n",
    "print(np.diag(vals))\n",
    "print(\"Q^{-1} A Q =\")\n",
    "print(LA.inv(vecs).dot(A).dot(vecs))"
   ]
  },
  {
   "cell_type": "code",
   "execution_count": null,
   "metadata": {},
   "outputs": [],
   "source": [
    "A = np.array([1,2,3,4]).reshape(2,2)\n",
    "vals, vecs = LA.eig(A)\n",
    "### e^A = Q e^D Qinv\n",
    "eD = np.diag(np.exp(vals))\n",
    "print(\"e^D =\")\n",
    "print(eD)\n",
    "eA = vecs.dot(eD).dot(LA.inv(vecs))\n",
    "print(\"e^A =\")\n",
    "print(eA)"
   ]
  }
 ],
 "metadata": {
  "kernelspec": {
   "display_name": "SageMath 9.7",
   "language": "sage",
   "name": "sagemath"
  },
  "language_info": {
   "codemirror_mode": {
    "name": "ipython",
    "version": 3
   },
   "file_extension": ".py",
   "mimetype": "text/x-python",
   "name": "python",
   "nbconvert_exporter": "python",
   "pygments_lexer": "ipython3",
   "version": "3.10.8"
  }
 },
 "nbformat": 4,
 "nbformat_minor": 4
}
