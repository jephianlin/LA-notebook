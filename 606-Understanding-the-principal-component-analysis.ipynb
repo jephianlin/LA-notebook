{
 "cells": [
  {
   "cell_type": "markdown",
   "metadata": {},
   "source": [
    "# 體驗主成份分析"
   ]
  },
  {
   "cell_type": "markdown",
   "metadata": {},
   "source": [
    "![Creative Commons License](https://i.creativecommons.org/l/by/4.0/88x31.png)  \n",
    "This work by Jephian Lin is licensed under a [Creative Commons Attribution 4.0 International License](http://creativecommons.org/licenses/by/4.0/)."
   ]
  },
  {
   "cell_type": "markdown",
   "metadata": {},
   "source": [
    "$\\newcommand{\\trans}{^\\top}\n",
    "\\newcommand{\\adj}{^{\\rm adj}}\n",
    "\\newcommand{\\cof}{^{\\rm cof}}\n",
    "\\newcommand{\\inp}[2]{\\left\\langle#1,#2\\right\\rangle}\n",
    "\\newcommand{\\dunion}{\\mathbin{\\dot\\cup}}\n",
    "\\newcommand{\\bzero}{\\mathbf{0}}\n",
    "\\newcommand{\\bone}{\\mathbf{1}}\n",
    "\\newcommand{\\ba}{\\mathbf{a}}\n",
    "\\newcommand{\\bb}{\\mathbf{b}}\n",
    "\\newcommand{\\bc}{\\mathbf{c}}\n",
    "\\newcommand{\\bd}{\\mathbf{d}}\n",
    "\\newcommand{\\be}{\\mathbf{e}}\n",
    "\\newcommand{\\bh}{\\mathbf{h}}\n",
    "\\newcommand{\\bp}{\\mathbf{p}}\n",
    "\\newcommand{\\bq}{\\mathbf{q}}\n",
    "\\newcommand{\\br}{\\mathbf{r}}\n",
    "\\newcommand{\\bx}{\\mathbf{x}}\n",
    "\\newcommand{\\by}{\\mathbf{y}}\n",
    "\\newcommand{\\bz}{\\mathbf{z}}\n",
    "\\newcommand{\\bu}{\\mathbf{u}}\n",
    "\\newcommand{\\bv}{\\mathbf{v}}\n",
    "\\newcommand{\\bw}{\\mathbf{w}}\n",
    "\\newcommand{\\tr}{\\operatorname{tr}}\n",
    "\\newcommand{\\nul}{\\operatorname{null}}\n",
    "\\newcommand{\\rank}{\\operatorname{rank}}\n",
    "%\\newcommand{\\ker}{\\operatorname{ker}}\n",
    "\\newcommand{\\range}{\\operatorname{range}}\n",
    "\\newcommand{\\Col}{\\operatorname{Col}}\n",
    "\\newcommand{\\Row}{\\operatorname{Row}}\n",
    "\\newcommand{\\spec}{\\operatorname{spec}}\n",
    "\\newcommand{\\vspan}{\\operatorname{span}}\n",
    "\\newcommand{\\Vol}{\\operatorname{Vol}}\n",
    "\\newcommand{\\sgn}{\\operatorname{sgn}}\n",
    "\\newcommand{\\idmap}{\\operatorname{id}}\n",
    "\\newcommand{\\am}{\\operatorname{am}}\n",
    "\\newcommand{\\gm}{\\operatorname{gm}}\n",
    "\\newcommand{\\mult}{\\operatorname{mult}}\n",
    "\\newcommand{\\iner}{\\operatorname{iner}}$"
   ]
  },
  {
   "cell_type": "code",
   "execution_count": null,
   "metadata": {},
   "outputs": [],
   "source": [
    "from lingeo import random_int_list"
   ]
  },
  {
   "cell_type": "markdown",
   "metadata": {},
   "source": [
    "## Main idea"
   ]
  },
  {
   "cell_type": "markdown",
   "metadata": {},
   "source": [
    "In statistics, data is often stored as a matrix (two-dimensional table) such that  \n",
    "each row represent a sample, while  \n",
    "each column represent a feature.  \n",
    "For example, the rows can be the students and the columns can be the scores in different subjects.  "
   ]
  },
  {
   "cell_type": "markdown",
   "metadata": {},
   "source": [
    "Let $X$ be an $N\\times d$ matrix for some data and $\\bx_1,\\ldots,\\bx_N\\in\\mathbb{R}^d$ its rows.  \n",
    "Thus,  \n",
    "\n",
    "$$\n",
    "    \\mu = \\frac{1}{N} \\sum_{i = 1}^N \\bx_i\n",
    "$$\n",
    "\n",
    "is the center of these data points.  "
   ]
  },
  {
   "cell_type": "markdown",
   "metadata": {},
   "source": [
    "One may **center** the data by creating a new matrix $X_0$ whose rows are $\\bx_1 - \\mu, \\ldots, \\bx_N - \\mu$.  \n",
    "Let $J$ be the $N\\times N$ all-ones matrix.  \n",
    "Then one way to describe this is $X_0 = (I - \\frac{1}{N}J)X$."
   ]
  },
  {
   "cell_type": "markdown",
   "metadata": {},
   "source": [
    "The **principal component analysis** (or **PCA**) is  \n",
    "a method of finding the most important directions of the data.  \n",
    "These directions (vectors) are called the **principal components** of the data."
   ]
  },
  {
   "cell_type": "markdown",
   "metadata": {},
   "source": [
    "##### Algorithm (principal component analysis)\n",
    "\n",
    "Input: a data represented by an $N\\times d$ matrix $X$ and the desired number $k$ of principal components  \n",
    "Output: the principal components represented by the column vectors of a matrix $P$\n",
    "\n",
    "1. Let $J$ be the $N\\times N$ all-ones matrix.  \n",
    "Define $X_0 = (I - \\frac{1}{n}J)X$.  \n",
    "2. Let $U\\Sigma V\\trans$ be the singular value decomposition of $X_0$.  \n",
    "3. Let $P$ be the $d\\times k$ matrix obtained by the first $k$ columns of $V$.  "
   ]
  },
  {
   "cell_type": "markdown",
   "metadata": {},
   "source": [
    "Once the principal components are found.  \n",
    "One may project all data points onto the plane spanned by the principal components.  \n",
    "This can be done by the $d\\times k$ matrix $Y = X_0P$,  \n",
    "whose rows are the new data points contains the essential information of the original data."
   ]
  },
  {
   "cell_type": "markdown",
   "metadata": {},
   "source": [
    "## Side stories\n",
    "\n",
    "- hidden words"
   ]
  },
  {
   "cell_type": "markdown",
   "metadata": {},
   "source": [
    "## Experiments"
   ]
  },
  {
   "cell_type": "markdown",
   "metadata": {},
   "source": [
    "##### Exercise 1\n",
    "\n",
    "執行以下程式碼。  \n",
    "\n",
    "<!-- eng start -->\n",
    "Run the code below.  \n",
    "<!-- eng end -->"
   ]
  },
  {
   "cell_type": "code",
   "execution_count": null,
   "metadata": {
    "scrolled": false
   },
   "outputs": [],
   "source": [
    "### code\n",
    "import numpy as np\n",
    "import matplotlib.pyplot as plt\n",
    "%matplotlib inline\n",
    "\n",
    "np.random.seed(0)\n",
    "print_ans = False\n",
    "\n",
    "mu = np.random.randint(-3,4, (2,))\n",
    "cov = np.array([[1,1.9],\n",
    "                [1.9,4]])\n",
    "X = np.random.multivariate_normal(mu, cov, (20,))\n",
    "mu = X.mean(axis=0)\n",
    "X0 = X - mu\n",
    "u,s,vh = np.linalg.svd(X0)\n",
    "P = vh.T[:,:1]\n",
    "\n",
    "plt.axis('equal')\n",
    "plt.scatter(*X.T)\n",
    "plt.scatter(*mu, c=\"red\")\n",
    "plt.arrow(*mu, *(P[:,0]), head_width=0.3, color=\"red\")\n",
    "\n",
    "xs = X0.dot(P)\n",
    "ys = np.zeros_like(xs)\n",
    "plt.scatter(xs, ys)\n",
    "\n",
    "pretty_print(LatexExpr(r\"V^\\top =\"))\n",
    "print(vh)\n",
    "\n",
    "if print_ans:\n",
    "    print(\"red point: center\")\n",
    "    print(\"red arrow: first principal component\")\n",
    "    print(\"orange points: projection of blue points onto the red arrow\")\n",
    "    print(\"red arrow = first row of VT = first column of V\")"
   ]
  },
  {
   "cell_type": "markdown",
   "metadata": {},
   "source": [
    "##### Exercise 1(a)\n",
    "\n",
    "若藍點為給定的資料。  \n",
    "改變不同的 `seed`，說明紅點、紅箭頭、橘點的意思。  \n",
    "\n",
    "<!-- eng start -->\n",
    "Let the blue point set be the data.  Choose different `seed` and explain the meaning of the red point, the red arrow, and the orange point.  \n",
    "<!-- eng end -->"
   ]
  },
  {
   "cell_type": "markdown",
   "metadata": {},
   "source": [
    "##### Exercise 1(b)\n",
    "\n",
    "令 $X_0$ 的列向量為將藍點資料置中過後的資料點。  \n",
    "若 $X_0 = U\\Sigma V\\trans$ 為其奇異值分解。  \n",
    "說明紅箭頭與 $V\\trans$ 的關係。  \n",
    "\n",
    "<!-- eng start -->\n",
    "Let $X_0$ be the matrix whose rows are the blue points, centered at their mean.  If $X_0 = U\\Sigma V\\trans$ is the singular value decomposition, describe the relation between the red arrow and $V\\trans$.  \n",
    "<!-- eng end -->"
   ]
  },
  {
   "cell_type": "markdown",
   "metadata": {},
   "source": [
    "## Exercises"
   ]
  },
  {
   "cell_type": "markdown",
   "metadata": {},
   "source": [
    "##### Exercise 2\n",
    "\n",
    "令 $X$ 為一 $N\\times d$ 矩陣，而其列向量為一筆資料。  \n",
    "令 $J$ 為 $N\\times N$ 的全一矩陣。  \n",
    "\n",
    "<!-- eng start -->\n",
    "Let $X$ be an $N\\times d$ matrix whose rows are the data points.  Let $J$ be the $N\\times N$ all-ones matrix.  \n",
    "<!-- eng end -->"
   ]
  },
  {
   "cell_type": "markdown",
   "metadata": {},
   "source": [
    "##### Exercise 2(a)\n",
    "\n",
    "說明 $\\frac{1}{N}JX$ 每列的意義。  \n",
    "\n",
    "<!-- eng start -->\n",
    "Describe the meaning of the rows of $\\frac{1}{N}JX$.  \n",
    "<!-- eng end -->"
   ]
  },
  {
   "cell_type": "markdown",
   "metadata": {},
   "source": [
    "##### Exercise 2(b)\n",
    "\n",
    "說明 $(I - \\frac{1}{N}J)X$ 每列的意義。  \n",
    "\n",
    "<!-- eng start -->\n",
    "Describe the meaning of the rows of $(I - \\frac{1}{N}J)X$.  \n",
    "<!-- eng end -->"
   ]
  },
  {
   "cell_type": "markdown",
   "metadata": {},
   "source": [
    "##### Exercise 3\n",
    "\n",
    "執行以下程式碼。  \n",
    "\n",
    "<!-- eng start -->\n",
    "Run the code below.  \n",
    "<!-- eng end -->"
   ]
  },
  {
   "cell_type": "code",
   "execution_count": null,
   "metadata": {},
   "outputs": [],
   "source": [
    "### code\n",
    "\n",
    "import numpy as np\n",
    "np.random.seed(0)\n",
    "X = np.random.randint(-3, 4, (5,2))\n",
    "mu = X.mean(axis=0)\n",
    "X0 = X - mu\n",
    "print(\"X =\\n\", X)\n",
    "print(\"mu =\\n\", mu)\n",
    "print(\"X0 =\\n\", X0)"
   ]
  },
  {
   "cell_type": "markdown",
   "metadata": {},
   "source": [
    "##### Exercise 3(a)\n",
    "\n",
    "解釋 `mu = X.mean(axis=0)` 的意義。  \n",
    "\n",
    "<!-- eng start -->\n",
    "Describe the meaning of `mu = X.mean(axis=0)` .  \n",
    "<!-- eng end -->"
   ]
  },
  {
   "cell_type": "markdown",
   "metadata": {},
   "source": [
    "##### Exercise 3(b)\n",
    "\n",
    "解釋 `X0 = X - mu` 的意義。  \n",
    "\n",
    "<!-- eng start -->\n",
    "Describe the meaning of `X0 = X - mu` .  \n",
    "<!-- eng end -->"
   ]
  },
  {
   "cell_type": "markdown",
   "metadata": {},
   "source": [
    "##### Exercise 4\n",
    "\n",
    "執行以下程式碼。  \n",
    "\n",
    "<!-- eng start -->\n",
    "Run the code below.  \n",
    "<!-- eng end -->"
   ]
  },
  {
   "cell_type": "code",
   "execution_count": null,
   "metadata": {},
   "outputs": [],
   "source": [
    "### code\n",
    "\n",
    "import numpy as np\n",
    "import matplotlib.pyplot as plt\n",
    "%matplotlib notebook\n",
    "\n",
    "np.random.seed(0)\n",
    "\n",
    "mu = np.random.randint(-3,4, (3,))\n",
    "cov = np.array([[3, -0.9, -1.9],\n",
    "                [-0.9, 11, -9.9], \n",
    "                [-1.9, -9.9, 12]])\n",
    "X = np.random.multivariate_normal(mu, cov, (100,))\n",
    "mu = X.mean(axis=0)\n",
    "X0 = X - mu\n",
    "u,s,vh = np.linalg.svd(X0)\n",
    "P = vh.T[:,:2]\n",
    "\n",
    "ax = plt.axes(projection='3d')\n",
    "ax.set_xlim(-5,5)\n",
    "ax.set_ylim(-5,5)\n",
    "ax.set_zlim(-5,5)\n",
    "\n",
    "ax.scatter(*X.T)\n",
    "ax.scatter(*mu, c=\"red\")\n",
    "ax.quiver(*(mu[:,np.newaxis] + np.zeros((2,))), *P, color=\"red\")"
   ]
  },
  {
   "cell_type": "code",
   "execution_count": null,
   "metadata": {},
   "outputs": [],
   "source": [
    "%matplotlib inline\n",
    "Y = X0.dot(P)\n",
    "plt.axis('equal')\n",
    "plt.scatter(*Y.T)"
   ]
  },
  {
   "cell_type": "markdown",
   "metadata": {},
   "source": [
    "##### Exercise 4(a)\n",
    "\n",
    "說明兩段程式碼產出的圖的關係。  \n",
    "\n",
    "<!-- eng start -->\n",
    "Describe the relation between the two graphs in the output.  \n",
    "<!-- eng end -->"
   ]
  },
  {
   "cell_type": "markdown",
   "metadata": {},
   "source": [
    "##### Exercise 4(b)\n",
    "\n",
    "使用 `X.shape` 來觀察一個陣列的形狀、  \n",
    "並逐句解釋下方程式碼所做的事情。\n",
    "\n",
    "```python\n",
    "mu = X.mean(axis=0)\n",
    "X0 = X - mu\n",
    "u,s,vh = np.linalg.svd(X0)\n",
    "P = vh.T[:,:2]\n",
    "```\n",
    "\n",
    "<!-- eng start -->\n",
    "You may use `X.shape` to check the shape of an array.  Then explain the meaning of each line in the code.  \n",
    "\n",
    "```python\n",
    "mu = X.mean(axis=0)\n",
    "X0 = X - mu\n",
    "u,s,vh = np.linalg.svd(X0)\n",
    "P = vh.T[:,:2]\n",
    "```\n",
    "<!-- eng end -->"
   ]
  },
  {
   "cell_type": "markdown",
   "metadata": {},
   "source": [
    "##### Exercise 5\n",
    "\n",
    "**挑戰**  \n",
    "以下程式碼讀進一筆資料。  \n",
    "這筆資料實際上是貼在高維度中的一個二維平面，  \n",
    "且它在這個平面上排出一個一個英文字。  \n",
    "\n",
    "請找出這個英文字是什麼。  \n",
    "\n",
    "<!-- eng start -->\n",
    "**Challenge**  \n",
    "The following code load some data from a file.  The data falls on a $2$-dimensional subspace of a higher dimensional space, and the data points show an English word.\n",
    "\n",
    "Try to find out this word.  \n",
    "<!-- eng end -->"
   ]
  },
  {
   "cell_type": "code",
   "execution_count": null,
   "metadata": {},
   "outputs": [],
   "source": [
    "X = np.genfromtxt('hidden_text.csv', delimiter=',')\n",
    "print(\"shape of X =\", X.shape)"
   ]
  },
  {
   "cell_type": "markdown",
   "metadata": {},
   "source": [
    "##### Exercise 6\n",
    "\n",
    "令 $X_0$ 及 $P$ 為主成份分析演算法中的矩陣。  \n",
    "說明 $X_0P$ 與 $X_0PP\\trans$ 的列向量所代表的意義。  \n",
    "\n",
    "<!-- eng start -->\n",
    "Let $X_0$ and $P$ be the matrices in the principal component analysis.  Explain the meanings of $X_0P$ and $X_0PP\\trans$.  \n",
    "<!-- eng end -->"
   ]
  }
 ],
 "metadata": {
  "kernelspec": {
   "display_name": "SageMath 9.7",
   "language": "sage",
   "name": "sagemath"
  },
  "language_info": {
   "codemirror_mode": {
    "name": "ipython",
    "version": 3
   },
   "file_extension": ".py",
   "mimetype": "text/x-python",
   "name": "python",
   "nbconvert_exporter": "python",
   "pygments_lexer": "ipython3",
   "version": "3.10.8"
  }
 },
 "nbformat": 4,
 "nbformat_minor": 4
}
