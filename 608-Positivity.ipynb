{
 "cells": [
  {
   "cell_type": "markdown",
   "metadata": {},
   "source": [
    "# 正定與半正定矩陣\n",
    "\n",
    "Positivity"
   ]
  },
  {
   "cell_type": "markdown",
   "metadata": {},
   "source": [
    "![Creative Commons License](https://i.creativecommons.org/l/by/4.0/88x31.png)  \n",
    "This work by Jephian Lin is licensed under a [Creative Commons Attribution 4.0 International License](http://creativecommons.org/licenses/by/4.0/)."
   ]
  },
  {
   "cell_type": "markdown",
   "metadata": {},
   "source": [
    "$\\newcommand{\\trans}{^\\top}\n",
    "\\newcommand{\\adj}{^{\\rm adj}}\n",
    "\\newcommand{\\cof}{^{\\rm cof}}\n",
    "\\newcommand{\\inp}[2]{\\left\\langle#1,#2\\right\\rangle}\n",
    "\\newcommand{\\dunion}{\\mathbin{\\dot\\cup}}\n",
    "\\newcommand{\\bzero}{\\mathbf{0}}\n",
    "\\newcommand{\\bone}{\\mathbf{1}}\n",
    "\\newcommand{\\ba}{\\mathbf{a}}\n",
    "\\newcommand{\\bb}{\\mathbf{b}}\n",
    "\\newcommand{\\bc}{\\mathbf{c}}\n",
    "\\newcommand{\\bd}{\\mathbf{d}}\n",
    "\\newcommand{\\be}{\\mathbf{e}}\n",
    "\\newcommand{\\bh}{\\mathbf{h}}\n",
    "\\newcommand{\\bp}{\\mathbf{p}}\n",
    "\\newcommand{\\bq}{\\mathbf{q}}\n",
    "\\newcommand{\\br}{\\mathbf{r}}\n",
    "\\newcommand{\\bx}{\\mathbf{x}}\n",
    "\\newcommand{\\by}{\\mathbf{y}}\n",
    "\\newcommand{\\bz}{\\mathbf{z}}\n",
    "\\newcommand{\\bu}{\\mathbf{u}}\n",
    "\\newcommand{\\bv}{\\mathbf{v}}\n",
    "\\newcommand{\\bw}{\\mathbf{w}}\n",
    "\\newcommand{\\tr}{\\operatorname{tr}}\n",
    "\\newcommand{\\nul}{\\operatorname{null}}\n",
    "\\newcommand{\\rank}{\\operatorname{rank}}\n",
    "%\\newcommand{\\ker}{\\operatorname{ker}}\n",
    "\\newcommand{\\range}{\\operatorname{range}}\n",
    "\\newcommand{\\Col}{\\operatorname{Col}}\n",
    "\\newcommand{\\Row}{\\operatorname{Row}}\n",
    "\\newcommand{\\spec}{\\operatorname{spec}}\n",
    "\\newcommand{\\vspan}{\\operatorname{span}}\n",
    "\\newcommand{\\Vol}{\\operatorname{Vol}}\n",
    "\\newcommand{\\sgn}{\\operatorname{sgn}}\n",
    "\\newcommand{\\idmap}{\\operatorname{id}}\n",
    "\\newcommand{\\am}{\\operatorname{am}}\n",
    "\\newcommand{\\gm}{\\operatorname{gm}}\n",
    "\\newcommand{\\mult}{\\operatorname{mult}}\n",
    "\\newcommand{\\iner}{\\operatorname{iner}}$"
   ]
  },
  {
   "cell_type": "code",
   "execution_count": null,
   "metadata": {},
   "outputs": [],
   "source": [
    "from lingeo import random_int_list, random_good_matrix\n",
    "from sym import inertia"
   ]
  },
  {
   "cell_type": "markdown",
   "metadata": {},
   "source": [
    "## Main idea"
   ]
  },
  {
   "cell_type": "markdown",
   "metadata": {},
   "source": [
    "A real symmetric matrix $A$ is said to be **positive definite** or **positive semidefinite** if  \n",
    "\n",
    "$$\n",
    "    \\bx\\trans A\\bx > 0 \\quad\\text{ or }\\quad \\bx\\trans A\\bx \\geq 0,\n",
    "$$\n",
    "\n",
    "respectively, for any nonzero vector $\\bx$.  "
   ]
  },
  {
   "cell_type": "markdown",
   "metadata": {},
   "source": [
    "A matrix $A$ is **negative definite** or **negative semidefinite** if $-A$ is positive definite or positive semidefinite, respectively."
   ]
  },
  {
   "cell_type": "markdown",
   "metadata": {},
   "source": [
    "##### Remark\n",
    "\n",
    "In general, only positivity of a matrix only focus on real symmetric matrices (or complex Hermitian matrices).  \n",
    "That is, when we say a matrix is positive (semi)definite, we automatically assume it is symmetric.  "
   ]
  },
  {
   "cell_type": "markdown",
   "metadata": {},
   "source": [
    "It is known that a matrix $A$ is positive definite if and only if all its eigenvalues are positive.  \n",
    "Similarly, $A$ is positive semidefinite if and only if all its eigenvalues are nonnegative.  \n",
    "Note that an $n\\times n$ positive semidefinite matrix $A$ is positive definite if and only if $\\rank(A) = n$.  "
   ]
  },
  {
   "cell_type": "markdown",
   "metadata": {},
   "source": [
    "Let $A$ be an $n\\times n$ positive semidefinite matrix of $\\rank(A) = k$.  \n",
    "One may diagonalize it as $A = QDQ\\trans $ by some orthogonal matrix $Q$ and diagonal matrix $D$.  \n",
    "Let $\\lambda_1,\\ldots,\\lambda_k$ be the nonzero eigenvalues of $A$.  \n",
    "Then we have  \n",
    "\n",
    "$$\n",
    "    A = Q\\begin{bmatrix}\n",
    "     \\lambda_1 & ~ & ~ & ~ \\\\\n",
    "     ~ & \\ddots & ~ & O_{r,n-r} \\\\\n",
    "     ~ & ~ & \\lambda_r & ~ \\\\\n",
    "     ~ & O_{n-r,r} & ~ & O_{n-r,n-r}\n",
    "    \\end{bmatrix} Q\\trans =\n",
    "    Q\\begin{bmatrix}\n",
    "     \\sqrt{\\lambda_1} & ~ & ~ \\\\\n",
    "     ~ & \\ddots & ~ \\\\\n",
    "     ~ & ~ & \\sqrt{\\lambda_r} \\\\\n",
    "     ~ & O_{n-r,r} & ~ \n",
    "    \\end{bmatrix}\\begin{bmatrix}\n",
    "     \\sqrt{\\lambda_1} & ~ & ~ & ~ \\\\\n",
    "     ~ & \\ddots & ~ & O_{r,n-r} \\\\\n",
    "     ~ & ~ & \\sqrt{\\lambda_r} & ~ \\\\\n",
    "    \\end{bmatrix} Q\\trans  = MM\\trans \n",
    "$$\n",
    "\n",
    "for some $k\\times n$ matrix $M$.  "
   ]
  },
  {
   "cell_type": "markdown",
   "metadata": {},
   "source": [
    "If a matrix $A$ can be written as $A = MM\\trans$ for some matrix $M$, then $A$ is called a **Gram** matrix.  \n",
    "If $\\br_1,\\ldots,\\br_n$ are the rows of $M$, then this means $A$ is a matrix of inner products;  \n",
    "that is, $A = \\begin{bmatrix} \\inp{\\br_i}{\\br_j} \\end{bmatrix}$.  "
   ]
  },
  {
   "cell_type": "markdown",
   "metadata": {},
   "source": [
    "Indeed, a matrix is a Gram matrix if and only if it is positive semidefinite."
   ]
  },
  {
   "cell_type": "markdown",
   "metadata": {},
   "source": [
    "## Side stories\n",
    "\n",
    "- square root of a matrix\n",
    "- inner product space"
   ]
  },
  {
   "cell_type": "markdown",
   "metadata": {},
   "source": [
    "## Experiments"
   ]
  },
  {
   "cell_type": "markdown",
   "metadata": {},
   "source": [
    "##### Exercise 1\n",
    "\n",
    "執行以下程式碼。  \n",
    "\n",
    "<!-- eng start -->\n",
    "Run the code below.  \n",
    "<!-- eng end -->"
   ]
  },
  {
   "cell_type": "code",
   "execution_count": null,
   "metadata": {
    "scrolled": false
   },
   "outputs": [],
   "source": [
    "### code\n",
    "set_random_seed(0)\n",
    "print_ans = False\n",
    "\n",
    "n = 3\n",
    "while True:\n",
    "    eigs = random_int_list(n, 1)\n",
    "    if not all(eig == 0 for eig in eigs):\n",
    "        break\n",
    "Q = random_good_matrix(n,n,n,2)\n",
    "A = Q * diagonal_matrix(eigs) * Q.transpose()\n",
    "\n",
    "pretty_print(LatexExpr(\"A =\"), A)\n",
    "print(\"eigenvalues =\", A.eigenvalues())\n",
    "        \n",
    "if print_ans:\n",
    "    iner = inertia(A)\n",
    "    if iner[0] > 0:\n",
    "        while True:\n",
    "            x = vector(random_int_list(n))\n",
    "            if x.inner_product(A * x) > 0:\n",
    "                break\n",
    "    if iner[1] > 0:\n",
    "        while True:\n",
    "            y = vector(random_int_list(n))\n",
    "            if y.inner_product(A * y) < 0:\n",
    "                break\n",
    "    if iner[1] == 0:\n",
    "        if iner[2] == 0:\n",
    "            print(\"positive definite\")\n",
    "        if iner[2] > 0:\n",
    "            print(\"positive semidefinite\")\n",
    "        print(\"x =\", x)\n",
    "    if iner[0] == 0:\n",
    "        if iner[2] == 0:\n",
    "            print(\"negative definite\")\n",
    "        if iner[2] > 0:\n",
    "            print(\"negative semidefinite\")\n",
    "        print(\"y =\", y)\n",
    "    if iner[0] > 0 and iner[1] > 0:\n",
    "        print(\"none above\")\n",
    "        print(\"x =\", x)\n",
    "        print(\"y =\", y)"
   ]
  },
  {
   "cell_type": "markdown",
   "metadata": {},
   "source": [
    "##### Exercise 1(a)\n",
    "\n",
    "判斷 $A$ 是否為正定、半正定、負定、半負定、或是皆不是。  \n",
    "\n",
    "<!-- eng start -->\n",
    "Determine whether $A$ is positive definite, positive semidefinite, negative definite, negative semidefinite, or none of above.  \n",
    "<!-- eng end -->"
   ]
  },
  {
   "cell_type": "markdown",
   "metadata": {},
   "source": [
    "##### Exercise 1(b)\n",
    "\n",
    "若 $A$ 為正定或半正定，找一個非零向量 $\\bx$ 使得 $\\bx\\trans A\\bx > 0$。  \n",
    "若 $A$ 為負定或半負定，找一個非零向量 $\\by$ 使得 $\\by\\trans A\\by < 0$。  \n",
    "若以上皆不是，找兩個非零向量 $\\bx$ 和 $\\by$ 使得 $\\bx\\trans A\\bx > 0$ 而 $\\by\\trans A\\by < 0$。  \n",
    "\n",
    "<!-- eng start -->\n",
    "If $A$ is positive definite or positive semidefinite, find a nonzero vector $\\bx$ such that $\\bx\\trans A\\bx > 0$.  If $A$ is negative definite or negative semidefinite, find a nonzero vector $\\bx$ such that $\\bx\\trans A\\bx < 0$.  If $A$ belongs to none of the above categories, find nonzero vectors $\\bx$ and $\\by$ such that $\\bx\\trans A\\bx > 0$ and $\\by\\trans A\\by < 0$.  \n",
    "<!-- eng end -->"
   ]
  },
  {
   "cell_type": "markdown",
   "metadata": {},
   "source": [
    "## Exercises"
   ]
  },
  {
   "cell_type": "markdown",
   "metadata": {},
   "source": [
    "##### Exercise 2\n",
    "\n",
    "判斷以下矩陣是否為正定、半正定、皆不是。  \n",
    "\n",
    "<!-- eng start -->\n",
    "For each of the following matrices, determine whether it is positive definite, positive semidefinite, or none of above.  \n",
    "<!-- eng end -->"
   ]
  },
  {
   "cell_type": "markdown",
   "metadata": {},
   "source": [
    "##### Exercise 2(a)\n",
    "\n",
    "$$\n",
    "    A = \\begin{bmatrix}\n",
    "     2 & 1 \\\\\n",
    "     1 & 2\n",
    "    \\end{bmatrix}.\n",
    "$$"
   ]
  },
  {
   "cell_type": "markdown",
   "metadata": {},
   "source": [
    "##### Exercise 2(b)\n",
    "\n",
    "$$\n",
    "    A = \\begin{bmatrix}\n",
    "     0 & 1 \\\\\n",
    "     1 & 0\n",
    "    \\end{bmatrix}.\n",
    "$$"
   ]
  },
  {
   "cell_type": "markdown",
   "metadata": {},
   "source": [
    "##### Exercise 2(c)\n",
    "\n",
    "$$\n",
    "    A = \\begin{bmatrix}\n",
    "     1 & 1 & 1 \\\\\n",
    "     1 & 1 & 1 \\\\\n",
    "     1 & 1 & 1 \\\\\n",
    "    \\end{bmatrix}.\n",
    "$$"
   ]
  },
  {
   "cell_type": "markdown",
   "metadata": {},
   "source": [
    "##### Exercise 3\n",
    "\n",
    "令 $A = \\begin{bmatrix} a_{ij} \\end{bmatrix}$ 為 $n\\times n$ 一正定矩陣。  \n",
    "\n",
    "<!-- eng start -->\n",
    "Let $A = \\begin{bmatrix} a_{ij} \\end{bmatrix}$ be an $n\\times n$ positive definite matrix.  \n",
    "<!-- eng end -->"
   ]
  },
  {
   "cell_type": "markdown",
   "metadata": {},
   "source": [
    "##### Exercise 3(a)\n",
    "\n",
    "證明對於所有 $i$ 都有 $a_{ii} \\geq 0$。  \n",
    "\n",
    "<!-- eng start -->\n",
    "Show that $a_{ii} \\geq 0$ for each $i$.  \n",
    "<!-- eng end -->"
   ]
  },
  {
   "cell_type": "markdown",
   "metadata": {},
   "source": [
    "##### Exercise 3(b)\n",
    "\n",
    "證明  \n",
    "\n",
    "$$\n",
    "    \\sum_{i=1}^n\\sum_{j=1}^n a_{ij} \\geq 0.\n",
    "$$  \n",
    "\n",
    "<!-- eng start -->\n",
    "Show that  \n",
    "\n",
    "$$\n",
    "    \\sum_{i=1}^n\\sum_{j=1}^n a_{ij} \\geq 0.\n",
    "$$  \n",
    "<!-- eng end -->"
   ]
  },
  {
   "cell_type": "markdown",
   "metadata": {},
   "source": [
    "##### Exercise 4\n",
    "\n",
    "證明以下關於（半）正定矩陣的相關性質。  \n",
    "\n",
    "<!-- eng start -->\n",
    "Prove the following properties of positive (semi)definite matrices.  \n",
    "<!-- eng end -->"
   ]
  },
  {
   "cell_type": "markdown",
   "metadata": {},
   "source": [
    "##### Exercise 4(a)\n",
    "\n",
    "正定矩陣的主子矩陣也是正定矩陣。  \n",
    "\n",
    "<!-- eng start -->\n",
    "The principal submatrix of a positive definite matrix is again a positive definite matrix.  \n",
    "<!-- eng end -->"
   ]
  },
  {
   "cell_type": "markdown",
   "metadata": {},
   "source": [
    "##### Exercise 4(b)\n",
    "\n",
    "正定矩陣加半正定矩陣是正定矩陣、  \n",
    "而半正定矩陣加半正定矩陣是半正定矩陣。  \n",
    "\n",
    "<!-- eng start -->\n",
    "The sum of a positive definite matrix and a positive semidefinite matrix is a positive definite matrix, while the sum of two positive semidefinite matrices is a positive semidefinite matrix.  \n",
    "<!-- eng end -->"
   ]
  },
  {
   "cell_type": "markdown",
   "metadata": {},
   "source": [
    "##### Exercise 5\n",
    "\n",
    "依照以下步驟證明以下敘述等價：  \n",
    "\n",
    "1. $A$ 是正定矩陣。\n",
    "2. $A$ 的特徵值均為正。  \n",
    "\n",
    "<!-- eng start -->\n",
    "Use the given instruction to show that the following are equivalent:  \n",
    "\n",
    "1. $A$ is a positive definite matrix.  \n",
    "2. Every eigenvalue of $A$ is positive.  \n",
    "<!-- eng end -->"
   ]
  },
  {
   "cell_type": "markdown",
   "metadata": {},
   "source": [
    "##### Exercise 5(a)\n",
    "\n",
    "證明若 $A$ 有一特徵值 $\\lambda\\leq 0$，則存在一個非零向量 $\\bx$ 使得 $\\bx\\trans A\\bx \\leq 0$。  \n",
    "因此若 $A$ 正定，則 $A$ 的特徵值均為正。  \n",
    "\n",
    "<!-- eng start -->\n",
    "Show that if $A$ has an eigenvalue $\\lambda \\leq 0$, then there is nonzero vector $\\bx$ such that $\\bx\\trans A\\bx \\leq 0$.  Therefore, if $A$ is positive definite, then every eigenvalue of $A$ is positive.    \n",
    "<!-- eng end -->"
   ]
  },
  {
   "cell_type": "markdown",
   "metadata": {},
   "source": [
    "##### Exercise 5(b)\n",
    "\n",
    "證明若 $A$ 的特徵值均為正，則對於所有非零向量 $\\bx$ 都有 $\\bx\\trans A\\bx > 0$。  \n",
    "（參考 607-3。）  \n",
    "\n",
    "<!-- eng start -->\n",
    "Show that if every eigenvalue of $A$ is positive, then $\\bx\\trans A\\bx > 0$ for any nonzero vector $\\bx$.  (See 607-3.)  \n",
    "<!-- eng end -->"
   ]
  },
  {
   "cell_type": "markdown",
   "metadata": {},
   "source": [
    "##### Exercise 6\n",
    "\n",
    "證明以下敘述等價：  \n",
    "\n",
    "1. $A$ 是半正定矩陣。\n",
    "2. $A$ 是格拉姆矩陣。  \n",
    "\n",
    "<!-- eng start -->\n",
    "Show that the following are equivalent.  \n",
    "\n",
    "1. $A$ is positive semidefinite.  \n",
    "2. $A$ is a Gram matrix.  \n",
    "<!-- eng end -->"
   ]
  },
  {
   "cell_type": "markdown",
   "metadata": {},
   "source": [
    "##### Exercise 7\n",
    "\n",
    "以下練習探討矩陣根號的概念。  \n",
    "\n",
    "<!-- eng start -->\n",
    "The following exercises explore the notion of the square root of a matrix.    \n",
    "<!-- eng end -->"
   ]
  },
  {
   "cell_type": "markdown",
   "metadata": {},
   "source": [
    "##### Exercise 7(a)\n",
    "\n",
    "證明若 $A$ 是一正定矩陣，  \n",
    "則其可寫成 $A = M^2$，  \n",
    "其中 $M$ 是對稱矩陣。  \n",
    "\n",
    "<!-- eng start -->\n",
    "Show that if $A$ is a positive definite matrix, then it can be written as $A = M^2$, where $M$ is a symmetric matrix.  \n",
    "<!-- eng end -->"
   ]
  },
  {
   "cell_type": "markdown",
   "metadata": {},
   "source": [
    "##### Exercise 7(b)\n",
    "\n",
    "若 $A$ 是一正定矩陣、$B$ 為一對稱矩陣，  \n",
    "證明 $AB$ 的特徵值均為實數。  \n",
    "\n",
    "提示：證明 $AB$ 和某對稱矩陣相似。  \n",
    "\n",
    "<!-- eng start -->\n",
    "Suppose $A$ is a positive definite matrix and $B$ is a symmetric matrix.  Show that every eigenvalue of $AB$ is real.  \n",
    "\n",
    "Hint:  Show that $AB$ is similar to some symmetric matrix.  \n",
    "<!-- eng end -->"
   ]
  },
  {
   "cell_type": "markdown",
   "metadata": {},
   "source": [
    "##### Exercise 8\n",
    "\n",
    "回顧 213-5 中提到的廣義內積的定義。  \n",
    "\n",
    "以下練習說明廣義內積完全是由正定矩陣做出來的。  \n",
    "\n",
    "<!-- eng start -->\n",
    "Recall the definition of an inner product in 213-5.  \n",
    "\n",
    "The following exercises show that any inner product is the quadratic form of some positive definite matrix.  \n",
    "<!-- eng end -->"
   ]
  },
  {
   "cell_type": "markdown",
   "metadata": {},
   "source": [
    "##### Exercise 8(a)\n",
    "\n",
    "令 $A$ 為一正定矩陣。  \n",
    "定義 $\\inp{\\bx}{\\by}_A:=\\by\\trans A\\bx$。\n",
    "\n",
    "證明 $\\inp{\\cdot}{\\cdot}_A$ 為一內積。  \n",
    "\n",
    "<!-- eng start -->\n",
    "Let $A$ be a positive definite matrix.  Define $\\inp{\\bx}{\\by}_A:=\\by\\trans A\\bx$.  Show that $\\inp{\\cdot}{\\cdot}_A$ is an inner product.  \n",
    "<!-- eng end -->"
   ]
  },
  {
   "cell_type": "markdown",
   "metadata": {},
   "source": [
    "##### Exercise 8(b)\n",
    "\n",
    "令 $\\inp{\\cdot}{\\cdot}$ 為一內積，  \n",
    "找一個矩陣 $A$ 使得對所有向量 $\\bx$ 和 $\\by$ 都有 $\\inp{\\bx}{\\by} = \\by\\trans A\\bx$。  \n",
    "驗證這個矩陣必須是正定的。  \n",
    "\n",
    "提示：選一些特別的 $\\bx$ 和 $\\by$ 來找到 $A$ 的各項。  \n",
    "\n",
    "<!-- eng start -->\n",
    "Let $\\inp{\\cdot}{\\cdot}$ be an inner product.  Find a matrix $A$ such that $\\inp{\\bx}{\\by} = \\by\\trans A\\bx$ for any vectors $\\bx$ and $\\by$.  Verify that this matrix must be positive definite.  \n",
    "\n",
    "Hint:  Substitute some particular $\\bx$ and $\\by$ to find the entries of $A$.  \n",
    "<!-- eng end -->"
   ]
  }
 ],
 "metadata": {
  "kernelspec": {
   "display_name": "SageMath 9.7",
   "language": "sage",
   "name": "sagemath"
  },
  "language_info": {
   "codemirror_mode": {
    "name": "ipython",
    "version": 3
   },
   "file_extension": ".py",
   "mimetype": "text/x-python",
   "name": "python",
   "nbconvert_exporter": "python",
   "pygments_lexer": "ipython3",
   "version": "3.10.8"
  }
 },
 "nbformat": 4,
 "nbformat_minor": 4
}
