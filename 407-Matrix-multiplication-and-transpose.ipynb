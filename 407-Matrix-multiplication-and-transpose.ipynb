{
 "cells": [
  {
   "cell_type": "markdown",
   "metadata": {},
   "source": [
    "# 矩陣乘積與轉置"
   ]
  },
  {
   "cell_type": "markdown",
   "metadata": {},
   "source": [
    "![Creative Commons License](https://i.creativecommons.org/l/by/4.0/88x31.png)  \n",
    "This work by Jephian Lin is licensed under a [Creative Commons Attribution 4.0 International License](http://creativecommons.org/licenses/by/4.0/)."
   ]
  },
  {
   "cell_type": "markdown",
   "metadata": {},
   "source": [
    "$\\newcommand{\\trans}{^\\top}\n",
    "\\newcommand{\\adj}{^{\\rm adj}}\n",
    "\\newcommand{\\cof}{^{\\rm cof}}\n",
    "\\newcommand{\\inp}[2]{\\left\\langle#1,#2\\right\\rangle}\n",
    "\\newcommand{\\dunion}{\\mathbin{\\dot\\cup}}\n",
    "\\newcommand{\\bzero}{\\mathbf{0}}\n",
    "\\newcommand{\\bone}{\\mathbf{1}}\n",
    "\\newcommand{\\ba}{\\mathbf{a}}\n",
    "\\newcommand{\\bb}{\\mathbf{b}}\n",
    "\\newcommand{\\bc}{\\mathbf{c}}\n",
    "\\newcommand{\\bd}{\\mathbf{d}}\n",
    "\\newcommand{\\be}{\\mathbf{e}}\n",
    "\\newcommand{\\bh}{\\mathbf{h}}\n",
    "\\newcommand{\\bp}{\\mathbf{p}}\n",
    "\\newcommand{\\bq}{\\mathbf{q}}\n",
    "\\newcommand{\\br}{\\mathbf{r}}\n",
    "\\newcommand{\\bx}{\\mathbf{x}}\n",
    "\\newcommand{\\by}{\\mathbf{y}}\n",
    "\\newcommand{\\bz}{\\mathbf{z}}\n",
    "\\newcommand{\\bu}{\\mathbf{u}}\n",
    "\\newcommand{\\bv}{\\mathbf{v}}\n",
    "\\newcommand{\\bw}{\\mathbf{w}}\n",
    "\\newcommand{\\tr}{\\operatorname{tr}}\n",
    "\\newcommand{\\nul}{\\operatorname{null}}\n",
    "\\newcommand{\\rank}{\\operatorname{rank}}\n",
    "%\\newcommand{\\ker}{\\operatorname{ker}}\n",
    "\\newcommand{\\range}{\\operatorname{range}}\n",
    "\\newcommand{\\Col}{\\operatorname{Col}}\n",
    "\\newcommand{\\Row}{\\operatorname{Row}}\n",
    "\\newcommand{\\spec}{\\operatorname{spec}}\n",
    "\\newcommand{\\vspan}{\\operatorname{span}}\n",
    "\\newcommand{\\Vol}{\\operatorname{Vol}}\n",
    "\\newcommand{\\sgn}{\\operatorname{sgn}}\n",
    "\\newcommand{\\idmap}{\\operatorname{id}}\n",
    "\\newcommand{\\am}{\\operatorname{am}}\n",
    "\\newcommand{\\gm}{\\operatorname{gm}}\n",
    "\\newcommand{\\mult}{\\operatorname{mult}}\n",
    "\\newcommand{\\iner}{\\operatorname{iner}}$"
   ]
  },
  {
   "cell_type": "code",
   "execution_count": null,
   "metadata": {},
   "outputs": [],
   "source": [
    "from lingeo import random_int_list, row_operation_process"
   ]
  },
  {
   "cell_type": "markdown",
   "metadata": {},
   "source": [
    "## Main idea"
   ]
  },
  {
   "cell_type": "markdown",
   "metadata": {},
   "source": [
    "When $A$ and $B$ are both $n\\times n$ matrices, then $\\det(AB) = \\det(A) \\det(B)$."
   ]
  },
  {
   "cell_type": "markdown",
   "metadata": {},
   "source": [
    "Intuitively, this follows from the fact that  \n",
    "_the determinants are the scaling factors_! "
   ]
  },
  {
   "cell_type": "markdown",
   "metadata": {},
   "source": [
    "A formal proof can be done by the elementary matrices.  \n",
    "If both $A$ and $B$ are invertible,  \n",
    "then they can be written as the products of elementary matrices  \n",
    "\n",
    "$$\n",
    "    A = F_1\\cdots F_k \\text{ and } B = E_1\\cdots E_h,\n",
    "$$  \n",
    "\n",
    "so $AB$ can be written as the product of elementary matrices  \n",
    "\n",
    "$$\n",
    "    AB = F_1\\cdots F_k E_1\\cdots E_h.\n",
    "$$\n",
    "\n",
    "Therefore, \n",
    "\n",
    "$$\n",
    "    \\begin{aligned}\n",
    "    \\det(AB) &= \\det(F_1)\\cdots\\det(F_k)\\det(E_1)\\cdots\\det(E_h) \\\\\n",
    "     &= \\big(\\det(F_1)\\cdots\\det(F_k)\\big)\\big(\\det(E_1)\\cdots\\det(E_h)\\big) \\\\\n",
    "     &= \\det(A)\\det(B).\n",
    "    \\end{aligned}\n",
    "$$"
   ]
  },
  {
   "cell_type": "markdown",
   "metadata": {},
   "source": [
    "On the other hand, it is known that $AB$ is invertible if and only if both $A$ and $B$ are invertible."
   ]
  },
  {
   "cell_type": "markdown",
   "metadata": {},
   "source": [
    "Thanks to this nice property, we may derive the following facts.  \n",
    "\n",
    "- If $Q$ is invertible, then $\\det(Q^{-1})\\det(Q) = \\det(I_n) = 1$.  \n",
    "- If $B = Q^{-1}AQ$ for some invertible $Q$, then $\\det(B) = \\det(A)$.  "
   ]
  },
  {
   "cell_type": "markdown",
   "metadata": {},
   "source": [
    "As a consequence, we may define the **determinant** of linear function $f: V\\rightarrow V$ by \n",
    "\n",
    "$$\n",
    "    \\det(f) = \\det([f]_\\beta^\\beta),\n",
    "$$\n",
    "\n",
    "where $\\beta$ can be any basis of $V$."
   ]
  },
  {
   "cell_type": "markdown",
   "metadata": {},
   "source": [
    "For matrix transpose, $\\det(A\\trans) = \\det(A)$.  "
   ]
  },
  {
   "cell_type": "markdown",
   "metadata": {},
   "source": [
    "Intuitively, this follows from the fact that \n",
    "\n",
    "$$\n",
    "    \\det(A\\trans) = \\Vol_C(A\\trans) = \\Vol_R(A) = \\det(A),\n",
    "$$\n",
    "\n",
    "since we have shown that the column parallelotope and the row parallelotop (surprisingly) have the same signed volumn."
   ]
  },
  {
   "cell_type": "markdown",
   "metadata": {},
   "source": [
    "Again, formally we may prove by the elementary matrices.  \n",
    "Let's make some observations first.  \n",
    "\n",
    "- If $E$ is the elementary matrix for $\\rho_i\\leftrightarrow\\rho_j$, then $E\\trans = E$, so $\\det(E\\trans) = \\det(E) = -1$.  \n",
    "- If $E$ is the elementary matrix for $\\rho_i: \\times k$, then $E\\trans = E$, so $\\det(E\\trans) = \\det(E) = k$.  \n",
    "- If $E$ is the elementary matrix for $\\rho_i: +k\\rho_j$, then $E\\trans$ is the elementary matrix for $\\rho_j: +k\\rho_i$, so $\\det(E\\trans) = \\det(E) = 1$.  "
   ]
  },
  {
   "cell_type": "markdown",
   "metadata": {},
   "source": [
    "If $A$ is invertible, then we may write $A$ as the product of elementary matrices  \n",
    "\n",
    "$$\n",
    "    A = F_1 \\cdots F_k,\n",
    "$$\n",
    "\n",
    "so \n",
    "\n",
    "$$\n",
    "    A\\trans = F_k\\trans \\cdots F_1\\trans\n",
    "$$\n",
    "\n",
    "and  \n",
    "\n",
    "$$\n",
    "    \\begin{aligned}\n",
    "    \\det(A\\trans) &= \\det(F_k\\trans)\\cdots\\det(F_1\\trans) \\\\\n",
    "     &= \\det(F_k) \\cdots \\det(F_1) \\\\\n",
    "     &= \\det(F_1) \\cdots \\det(F_k) \\\\\n",
    "     &= \\det(A).\n",
    "    \\end{aligned}\n",
    "$$"
   ]
  },
  {
   "cell_type": "markdown",
   "metadata": {},
   "source": [
    "## Side stories\n",
    "\n",
    "- inverse matrix\n",
    "- orthogonal matrix"
   ]
  },
  {
   "cell_type": "markdown",
   "metadata": {},
   "source": [
    "## Experiments"
   ]
  },
  {
   "cell_type": "markdown",
   "metadata": {},
   "source": [
    "##### Exercise 1\n",
    "\n",
    "執行以下程式碼。  \n",
    "已知 $A = F_1\\cdots F_k$ 及 $B = E_1\\cdots E_h$ 都是一群單位矩陣的乘積。  \n",
    "\n",
    "<!-- eng start -->\n",
    "Run the code below.  Suppose we know $A = F_1\\cdots F_k$ and $B = E_1\\cdots E_h$ are the product of some elementary matrices.  \n",
    "<!-- eng end -->"
   ]
  },
  {
   "cell_type": "code",
   "execution_count": null,
   "metadata": {
    "scrolled": true
   },
   "outputs": [],
   "source": [
    "### code\n",
    "set_random_seed(0)\n",
    "print_ans = False\n",
    "\n",
    "n = 2\n",
    "while True:\n",
    "    A = matrix(n, random_int_list(n^2, 3))\n",
    "    B = matrix(n, random_int_list(n^2, 3))\n",
    "    if A.det() != 0 and B.det() != 0:\n",
    "        break\n",
    "\n",
    "elems_A = row_operation_process(A, inv=True)\n",
    "elems_B = row_operation_process(B, inv=True)\n",
    "        \n",
    "print(\"A = F1 ... Fk\")\n",
    "pretty_print(A, LatexExpr(\"=\"), *elems_A)\n",
    "print(\"B = E1 ... Eh\")\n",
    "pretty_print(B, LatexExpr(\"=\"), *elems_B)\n",
    "\n",
    "\n",
    "if print_ans:\n",
    "    print(\"AB = F1 ... Fk E1 ... Eh\")\n",
    "    pretty_print(A * B, LatexExpr(\"=\"), *(elems_A + elems_B))\n",
    "    print(\"det(AB) =\", (A*B).det())\n",
    "    elems_AT = [elems.transpose() for elems in elems_A[::-1]]\n",
    "    print(\"A trans = Fk trans ... F1 trans\")\n",
    "    pretty_print(A.transpose(), LatexExpr(\"=\"), *elems_AT)\n",
    "    print(\"det(A trans) =\", A.transpose().det())"
   ]
  },
  {
   "cell_type": "markdown",
   "metadata": {},
   "source": [
    "##### Exercise 1(a)\n",
    "\n",
    "將 $AB$ 寫成基本矩陣的乘積，並求出 $\\det(AB)$。  \n",
    "\n",
    "<!-- eng start -->\n",
    "Write $AB$ as the product of some elementary matrices and find $\\det(AB)$.  \n",
    "<!-- eng end -->"
   ]
  },
  {
   "cell_type": "markdown",
   "metadata": {},
   "source": [
    "##### Exercise 1(b)\n",
    "\n",
    "將 $A\\trans$ 寫成基本矩陣的乘積，並求出 $\\det(A\\trans)$。  \n",
    "\n",
    "<!-- eng start -->\n",
    "Write $A\\trans$ as the product of some elementary matrices and find $\\det(A\\trans)$.  \n",
    "<!-- eng end -->"
   ]
  },
  {
   "cell_type": "markdown",
   "metadata": {},
   "source": [
    "## Exercises"
   ]
  },
  {
   "cell_type": "markdown",
   "metadata": {},
   "source": [
    "##### Exercise 2\n",
    "\n",
    "在總列數為 $3$ 的情況下，  \n",
    "寫下以下列運算的基本矩陣 $E$，  \n",
    "並解釋 $E\\trans$ 所對應的列運算是什麼。  \n",
    "\n",
    "<!-- eng start -->\n",
    "Consider matrices with $3$ rows.  Find the elementary matrix corresponding to each of the following properties.  Then explain what is the corresponding row operation for $E\\trans$.  \n",
    "<!-- eng end -->"
   ]
  },
  {
   "cell_type": "markdown",
   "metadata": {},
   "source": [
    "##### Exercise 2(a)\n",
    "\n",
    "列運算 $\\rho_i\\rightarrow\\rho_j$。  \n",
    "\n",
    "<!-- eng start -->\n",
    "The row operation $\\rho_i\\rightarrow\\rho_j$.  \n",
    "<!-- eng end -->"
   ]
  },
  {
   "cell_type": "markdown",
   "metadata": {},
   "source": [
    "##### Exercise 2(b)\n",
    "\n",
    "列運算 $\\rho_i: \\times k$。  \n",
    "\n",
    "<!-- eng start -->\n",
    "The row operation $\\rho_i: \\times k$.  \n",
    "<!-- eng end -->"
   ]
  },
  {
   "cell_type": "markdown",
   "metadata": {},
   "source": [
    "##### Exercise 2(c)\n",
    "\n",
    "列運算 $\\rho_i: +k\\rho_j$。  \n",
    "\n",
    "<!-- eng start -->\n",
    "The row operation $\\rho_i: +k\\rho_j$.  \n",
    "<!-- eng end -->"
   ]
  },
  {
   "cell_type": "markdown",
   "metadata": {},
   "source": [
    "##### Exercise 3\n",
    "\n",
    "若 $A$ 為一可逆矩陣。  \n",
    "證明 $\\det(A^{-1}) = \\det(A)^{-1}$。  \n",
    "\n",
    "<!-- eng start -->\n",
    "Suppose $A$ is an invertible matrix.  Show that $\\det(A^{-1}) = \\det(A)^{-1}$.  \n",
    "<!-- eng end -->"
   ]
  },
  {
   "cell_type": "markdown",
   "metadata": {},
   "source": [
    "##### Exercise 4\n",
    "\n",
    "若 $A$ 為一垂直矩陣（$A\\trans A = AA\\trans = I_n$）。  \n",
    "證明 $\\det(A) = \\pm 1$。  \n",
    "\n",
    "<!-- eng start -->\n",
    "Suppose $A$ is an orthogonal matrix.  Show that $\\det(A) = \\pm 1$.  \n",
    "<!-- eng end -->"
   ]
  },
  {
   "cell_type": "markdown",
   "metadata": {},
   "source": [
    "##### Exercise 5\n",
    "\n",
    "令 $V$ 為 $\\mathbb{R}^3$ 中的一個二維空間，  \n",
    "而 $f:\\mathbb{R}^3 \\rightarrow \\mathbb{R}^3$ 將向量 $\\bv\\in\\mathbb{R}^3$ 投影到 $V$ 上。  \n",
    "求 $\\det(f)$。  \n",
    "\n",
    "<!-- eng start -->\n",
    "Let $V$ be a $2$-dimensional subspace in $\\mathbb{R}^3$ and $f:\\mathbb{R}^3 \\rightarrow \\mathbb{R}^3$ is the projection sending any vector $\\bv\\in\\mathbb{R}^3$ onto $V$.  Find $\\det(f)$.  \n",
    "<!-- eng end -->"
   ]
  },
  {
   "cell_type": "markdown",
   "metadata": {},
   "source": [
    "##### Exercise 6\n",
    "\n",
    "令 $V$ 為 $\\mathbb{R}^3$ 中的一個二維空間，  \n",
    "而 $f:\\mathbb{R}^3 \\rightarrow \\mathbb{R}^3$ 將向量 $\\bv\\in\\mathbb{R}^3$ 鏡射到 $V$ 的對面。  \n",
    "求 $\\det(f)$。  \n",
    "\n",
    "<!-- eng start -->\n",
    "Let $V$ be a $2$-dimensional subspace in $\\mathbb{R}^3$ and $f:\\mathbb{R}^3 \\rightarrow \\mathbb{R}^3$ is the reflection sending any vector $\\bv\\in\\mathbb{R}^3$ to the other side of $V$.  Find $\\det(f)$.  \n",
    "<!-- eng end -->"
   ]
  },
  {
   "cell_type": "markdown",
   "metadata": {},
   "source": [
    "##### Exercise 7\n",
    "\n",
    "令 $A$ 和 $B$ 皆為 $n\\times n$ 矩陣。  \n",
    "依照以下步驟證明以下敘述等價。  \n",
    "\n",
    "- $AB$ 可逆。\n",
    "- $A$ 和 $B$ 皆可逆。\n",
    "\n",
    "（這題為證明 $\\det(AB) = \\det(A)\\det(B)$ 的必要過程，  \n",
    "所以請不要用行列式值來證明。）\n",
    "\n",
    "<!-- eng start -->\n",
    "Let $A$ and $B$ be $n\\times n$ matrix.  Follow the given steps to show the two statements below are equivalent.  \n",
    "\n",
    "- $AB$ is invertible.  \n",
    "- $A$ and $B$ are both invertible.  \n",
    "\n",
    "(This problem is a necessary step for proving $\\det(AB) = \\det(A)\\det(B)$, so please do not use the previous equality to prove it.  \n",
    "<!-- eng end -->"
   ]
  },
  {
   "cell_type": "markdown",
   "metadata": {},
   "source": [
    "##### Exercise 7(a)\n",
    "\n",
    "證明：  \n",
    "若 $\\ker(B) \\neq \\{\\bzero\\}$，則 $\\ker(AB) \\neq \\{\\bzero\\}$。  \n",
    "\n",
    "<!-- eng start -->\n",
    "Show that if $\\ker(B) \\neq \\{\\bzero\\}$, then $\\ker(AB) \\neq \\{\\bzero\\}$.  \n",
    "<!-- eng end -->"
   ]
  },
  {
   "cell_type": "markdown",
   "metadata": {},
   "source": [
    "##### Exercise 7(b)\n",
    "\n",
    "證明：  \n",
    "若 $\\Col(A) \\neq \\mathbb{R}^n$，則 $\\Col(AB) \\neq \\mathbb{R}^n$。  \n",
    "\n",
    "<!-- eng start -->\n",
    "Show that if $\\Col(A) \\neq \\mathbb{R}^n$, then $\\Col(AB) \\neq \\mathbb{R}^n$.  \n",
    "<!-- eng end -->"
   ]
  },
  {
   "cell_type": "markdown",
   "metadata": {},
   "source": [
    "##### Exercise 7(a)\n",
    "\n",
    "證明：  \n",
    "若 $A$ 和 $B$ 皆可逆，則 $AB$ 可逆。  \n",
    "\n",
    "<!-- eng start -->\n",
    "Show that if both $A$ and $B$ are invertible, then $AB$ is also invertible.  \n",
    "<!-- eng end -->"
   ]
  }
 ],
 "metadata": {
  "kernelspec": {
   "display_name": "SageMath 9.7",
   "language": "sage",
   "name": "sagemath"
  },
  "language_info": {
   "codemirror_mode": {
    "name": "ipython",
    "version": 3
   },
   "file_extension": ".py",
   "mimetype": "text/x-python",
   "name": "python",
   "nbconvert_exporter": "python",
   "pygments_lexer": "ipython3",
   "version": "3.10.8"
  }
 },
 "nbformat": 4,
 "nbformat_minor": 4
}
