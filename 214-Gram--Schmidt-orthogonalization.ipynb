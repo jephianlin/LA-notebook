{
 "cells": [
  {
   "cell_type": "markdown",
   "metadata": {},
   "source": [
    "# 基底正交化"
   ]
  },
  {
   "cell_type": "markdown",
   "metadata": {},
   "source": [
    "![Creative Commons License](https://i.creativecommons.org/l/by/4.0/88x31.png)  \n",
    "This work by Jephian Lin is licensed under a [Creative Commons Attribution 4.0 International License](http://creativecommons.org/licenses/by/4.0/)."
   ]
  },
  {
   "cell_type": "markdown",
   "metadata": {},
   "source": [
    "$\\newcommand{\\trans}{^\\top}\n",
    "\\newcommand{\\adj}{^{\\rm adj}}\n",
    "\\newcommand{\\cof}{^{\\rm cof}}\n",
    "\\newcommand{\\inp}[2]{\\left\\langle#1,#2\\right\\rangle}\n",
    "\\newcommand{\\dunion}{\\mathbin{\\dot\\cup}}\n",
    "\\newcommand{\\bzero}{\\mathbf{0}}\n",
    "\\newcommand{\\bone}{\\mathbf{1}}\n",
    "\\newcommand{\\ba}{\\mathbf{a}}\n",
    "\\newcommand{\\bb}{\\mathbf{b}}\n",
    "\\newcommand{\\bc}{\\mathbf{c}}\n",
    "\\newcommand{\\bd}{\\mathbf{d}}\n",
    "\\newcommand{\\be}{\\mathbf{e}}\n",
    "\\newcommand{\\bh}{\\mathbf{h}}\n",
    "\\newcommand{\\bp}{\\mathbf{p}}\n",
    "\\newcommand{\\bq}{\\mathbf{q}}\n",
    "\\newcommand{\\br}{\\mathbf{r}}\n",
    "\\newcommand{\\bx}{\\mathbf{x}}\n",
    "\\newcommand{\\by}{\\mathbf{y}}\n",
    "\\newcommand{\\bz}{\\mathbf{z}}\n",
    "\\newcommand{\\bu}{\\mathbf{u}}\n",
    "\\newcommand{\\bv}{\\mathbf{v}}\n",
    "\\newcommand{\\bw}{\\mathbf{w}}\n",
    "\\newcommand{\\tr}{\\operatorname{tr}}\n",
    "\\newcommand{\\nul}{\\operatorname{null}}\n",
    "\\newcommand{\\rank}{\\operatorname{rank}}\n",
    "%\\newcommand{\\ker}{\\operatorname{ker}}\n",
    "\\newcommand{\\range}{\\operatorname{range}}\n",
    "\\newcommand{\\Col}{\\operatorname{Col}}\n",
    "\\newcommand{\\Row}{\\operatorname{Row}}\n",
    "\\newcommand{\\spec}{\\operatorname{spec}}\n",
    "\\newcommand{\\vspan}{\\operatorname{span}}\n",
    "\\newcommand{\\Vol}{\\operatorname{Vol}}\n",
    "\\newcommand{\\sgn}{\\operatorname{sgn}}\n",
    "\\newcommand{\\idmap}{\\operatorname{id}}\n",
    "\\newcommand{\\am}{\\operatorname{am}}\n",
    "\\newcommand{\\gm}{\\operatorname{gm}}\n",
    "\\newcommand{\\mult}{\\operatorname{mult}}\n",
    "\\newcommand{\\iner}{\\operatorname{iner}}$"
   ]
  },
  {
   "cell_type": "code",
   "execution_count": null,
   "metadata": {},
   "outputs": [],
   "source": [
    "from lingeo import random_good_matrix\n",
    "from linspace import QR, projection_on_vector"
   ]
  },
  {
   "cell_type": "markdown",
   "metadata": {},
   "source": [
    "## Main idea"
   ]
  },
  {
   "cell_type": "markdown",
   "metadata": {},
   "source": [
    "Suppose $U$ is an inner product space.  \n",
    "Then every subspace of $U$ has an orthonormal basis.  \n",
    "Indeed, there is an algorithm for converting a basis into an orthonormal basis.  \n",
    "This process is referred to as **orthogonalization**."
   ]
  },
  {
   "cell_type": "markdown",
   "metadata": {},
   "source": [
    "Let $V$ be a subspace of $U$ and $S = \\{\\bu_1, \\ldots, \\bu_d\\}$ a basis of $V$.  \n",
    "Taking $S$ as the input, the following steps generates an orthonormal basis $\\hat{S} = \\{\\hat\\bu_1, \\ldots, \\hat\\bu_d\\}$ such that $V = \\vspan(S) = \\vspan(\\hat{S})$.  \n",
    "1. $\\hat\\bu_1 = \\bu_1$\n",
    "2. Let $V_{k-1}$ be the space spanned by $S_{k-1} = \\{\\hat\\bu_1,\\ldots, \\hat\\bu_{k-1}\\}$.  \n",
    "Then $\\hat\\bu_{k} = \\bu_{k} - \\operatorname{proj}_{V_{k-1}}(\\bu_{k})$, where $\\operatorname{proj}_{V_{k-1}}(\\bu_k)$ is the projection of $\\bu_k$ onto the subspace $V_{k-1}$.  \n",
    "Repeat this step for $k = 2,\\ldots, d$.\n",
    "4. Normalize each vector of $\\{\\hat\\bu_1, \\ldots, \\hat\\bu_d\\}$ to length one.  \n",
    "\n",
    "This algorithm is called the **Gram--Schmidt process**.  "
   ]
  },
  {
   "cell_type": "markdown",
   "metadata": {},
   "source": [
    "Let $\\operatorname{proj}_\\bv(\\bu)$ be the projection of $\\bu$ onto the line spanned by $\\bv$.  \n",
    "Notice here  \n",
    "$$\\begin{aligned} \n",
    " \\bu_k &= \\hat\\bu_k + \\operatorname{proj}_{V_{k-1}}(\\bu_k) \\\\\n",
    "  &= \\operatorname{proj}_{\\hat\\bu_1}(\\bu_k) + \\cdots + \\operatorname{proj}_{\\hat\\bu_{k-1}}(\\bu_k) + \\hat\\bu_k\n",
    "\\end{aligned}$$\n",
    "since $\\{\\hat\\bu_1,\\ldots,\\hat\\bu_{k-1}\\}$ is orthogonal.  \n",
    "Therefore, $\\bu_k \\in \\vspan(S_k)$.  \n",
    "Let $Q$ be the matrix whose columns are vectors in $\\hat{S}$  \n",
    "and $A$ the matrix whose columns are vectors in $S$.  \n",
    "Then $A = QR$ for some upper triangular matrix.  \n",
    "This decomposition is called the $QR$ decomposition of $A$."
   ]
  },
  {
   "cell_type": "markdown",
   "metadata": {},
   "source": [
    "Let $Q$ be an $m\\times n$ matrix.  \n",
    "Then the following are equivalent:  \n",
    "1. $Q\\trans Q = I_n$.  \n",
    "2. The set of columns of $Q$ is an orthonormal basis of $\\mathbb{R}^m$.  \n",
    "\n",
    "A matrix $Q$ satisfying one of these conditions is called a **column-orthogonal** matrix.  \n",
    "Similarly, $Q$ is **row-orthogonal** if the set of rows of $Q$ is an orthonormal basis of $\\mathbb{R}^n$.  "
   ]
  },
  {
   "cell_type": "markdown",
   "metadata": {},
   "source": [
    "When $Q$ is an $n\\times n$ matrix, then $Q$ is column-orthogonal if and only if $Q$ is row-orthogonal.  \n",
    "Such a matrix is an **orthogonal** matrix.  "
   ]
  },
  {
   "cell_type": "markdown",
   "metadata": {},
   "source": [
    "## Side stories\n",
    "- code\n",
    "- `A.QR()`"
   ]
  },
  {
   "cell_type": "markdown",
   "metadata": {},
   "source": [
    "## Experiments"
   ]
  },
  {
   "cell_type": "markdown",
   "metadata": {},
   "source": [
    "##### Exercise 1\n",
    "\n",
    "執行以下程式碼。  \n",
    "令 $S = \\{\\bu_1,\\bu_2,\\bu_3\\}$ 為 $A$ 中的各行向量。  \n",
    "利用以下的公式計算：  \n",
    "1. $\\hat\\bu_1 = \\bu_1$.  \n",
    "2. $\\hat\\bu_2 = \\bu_2 - \\operatorname{proj}_{\\hat\\bu_1}(\\bu_2)$.\n",
    "3. $\\hat\\bu_3 = \\bu_3 - \\operatorname{proj}_{\\hat\\bu_1}(\\bu_3) - \\operatorname{proj}_{\\hat\\bu_2}(\\bu_3)$.  "
   ]
  },
  {
   "cell_type": "code",
   "execution_count": null,
   "metadata": {
    "scrolled": false
   },
   "outputs": [],
   "source": [
    "### code\n",
    "set_random_seed(0)\n",
    "print_ans = False\n",
    "m,n,r = 4,3,3\n",
    "A = random_good_matrix(m,n,r,bound=1)\n",
    "Q, R = QR(A)\n",
    "u1,u2,u3 = A.transpose()\n",
    "uh1 = u1\n",
    "# uh2 = u2 - projection_on_vector(u2, uh1)\n",
    "# uh3 = ...\n",
    "\n",
    "print(\"A =\")\n",
    "show(A)\n",
    "\n",
    "if print_ans:\n",
    "    print(\"u-hat_i are the columns of\")\n",
    "    show(Q)\n",
    "    D = diagonal_matrix(q.norm() for q in Q.transpose())\n",
    "    print(\"An orthonormal basis can be the columns of\")\n",
    "    show(Q * D.inverse())\n",
    "    print(\"The QR decomposition can be\")\n",
    "    print(\"Q =\")\n",
    "    show(Q * D.inverse())\n",
    "    print(\"R =\")\n",
    "    show(D.inverse() * R)"
   ]
  },
  {
   "cell_type": "markdown",
   "metadata": {},
   "source": [
    "##### Exercise 1(a)\n",
    "\n",
    "計算 $\\hat{S} = \\{ \\hat\\bu_1, \\hat\\bu_2, \\hat\\bu_3\\}$。  \n",
    "可以用 `projection_on_vector(u, v)` 來計算 $\\operatorname{proj}_\\bv(\\bu)$。"
   ]
  },
  {
   "cell_type": "markdown",
   "metadata": {},
   "source": [
    "##### Exercise 1(b)\n",
    "\n",
    "判斷 $\\hat{S}$ 是否垂直、是否單位長垂直。  \n",
    "如果不是單位長垂直﹐找出一組單位長垂直的基底。  "
   ]
  },
  {
   "cell_type": "markdown",
   "metadata": {},
   "source": [
    "##### Exercise 1(c)\n",
    "\n",
    "求出一個垂直矩陣 $Q$ 及一個上三角矩陣 $R$ 使得 $A = QR$。  "
   ]
  },
  {
   "cell_type": "markdown",
   "metadata": {},
   "source": [
    "## Exercises"
   ]
  },
  {
   "cell_type": "markdown",
   "metadata": {},
   "source": [
    "##### Exercise 2\n",
    "\n",
    "求出以下空間的垂直基底。  \n",
    "（不一定要把向量縮為單位長。）"
   ]
  },
  {
   "cell_type": "markdown",
   "metadata": {},
   "source": [
    "##### Exercise 2(a)\n",
    "\n",
    "求出 $V = \\{(x,y,z) : x + y + z = 0\\}$ 的一組垂直基底。  "
   ]
  },
  {
   "cell_type": "markdown",
   "metadata": {},
   "source": [
    "##### Exercise 2(b)\n",
    "\n",
    "求出 $V = \\{(x,y,z,w) : x + y + z + w = 0\\}$ 的一組垂直基底。  "
   ]
  },
  {
   "cell_type": "markdown",
   "metadata": {},
   "source": [
    "##### Exercise 3\n",
    "\n",
    "令 $S = \\{\\bu_1,\\bu_2,\\bu_3\\}$ 為 向量空間 $V$ 的一組基底﹐且 $A$ 的各行向量為 $S$。  \n",
    "令 $\\hat{S} = \\{ \\hat\\bu_1, \\hat\\bu_2, \\hat\\bu_3\\}$ 為 $V$ 的一組單位長垂直基底﹐且 $Q$ 的各行向量為 $\\hat{S}$。  \n",
    "已知  \n",
    "$$\\begin{aligned} \n",
    " \\bu_1 &= \\hat\\bu_1, \\\\\n",
    " \\bu_2 &= 2\\hat\\bu_1 + 3\\hat\\bu_2, \\\\\n",
    " \\bu_3 &= 4\\hat\\bu_1 + 5\\hat\\bu_2 + 6\\hat\\bu_3.\\\\ \n",
    "\\end{aligned}$$\n",
    "求上三角矩陣 $R$ 使得 $A = QR$。  "
   ]
  },
  {
   "cell_type": "markdown",
   "metadata": {},
   "source": [
    "##### Exercise 4\n",
    "\n",
    "令 $QR$ 為 $A$ 的 $QR$ 分解。  "
   ]
  },
  {
   "cell_type": "markdown",
   "metadata": {},
   "source": [
    "##### Exercise 4(a)\n",
    "\n",
    "說明 $\\Col(A) = \\Col(Q)$。  "
   ]
  },
  {
   "cell_type": "markdown",
   "metadata": {},
   "source": [
    "##### Exercise 4(b)  \n",
    "\n",
    "因此對 $\\Col(A)$ 和對 $\\Col(Q)$ 的投影應該是一樣的。  \n",
    "說明 $A(A\\trans A)^{-1}A\\trans = Q(Q\\trans Q)^{-1}Q\\trans$。  "
   ]
  },
  {
   "cell_type": "markdown",
   "metadata": {},
   "source": [
    "##### Exercise 5\n",
    "\n",
    "寫一個程式﹐  \n",
    "讓輸入矩陣 $A$ 後會得出它的 $QR$ 分解。  "
   ]
  }
 ],
 "metadata": {
  "kernelspec": {
   "display_name": "SageMath 9.6",
   "language": "sage",
   "name": "sagemath"
  },
  "language_info": {
   "codemirror_mode": {
    "name": "ipython",
    "version": 3
   },
   "file_extension": ".py",
   "mimetype": "text/x-python",
   "name": "python",
   "nbconvert_exporter": "python",
   "pygments_lexer": "ipython3",
   "version": "3.10.5"
  }
 },
 "nbformat": 4,
 "nbformat_minor": 4
}
