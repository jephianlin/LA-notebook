{
 "cells": [
  {
   "cell_type": "markdown",
   "metadata": {},
   "source": [
    "# 建構新的子空間\n",
    "\n",
    "Constructing new subspaces"
   ]
  },
  {
   "cell_type": "markdown",
   "metadata": {},
   "source": [
    "![Creative Commons License](https://i.creativecommons.org/l/by/4.0/88x31.png)  \n",
    "This work by Jephian Lin is licensed under a [Creative Commons Attribution 4.0 International License](http://creativecommons.org/licenses/by/4.0/)."
   ]
  },
  {
   "cell_type": "markdown",
   "metadata": {},
   "source": [
    "$\\newcommand{\\trans}{^\\top}\n",
    "\\newcommand{\\adj}{^{\\rm adj}}\n",
    "\\newcommand{\\cof}{^{\\rm cof}}\n",
    "\\newcommand{\\inp}[2]{\\left\\langle#1,#2\\right\\rangle}\n",
    "\\newcommand{\\dunion}{\\mathbin{\\dot\\cup}}\n",
    "\\newcommand{\\bzero}{\\mathbf{0}}\n",
    "\\newcommand{\\bone}{\\mathbf{1}}\n",
    "\\newcommand{\\ba}{\\mathbf{a}}\n",
    "\\newcommand{\\bb}{\\mathbf{b}}\n",
    "\\newcommand{\\bc}{\\mathbf{c}}\n",
    "\\newcommand{\\bd}{\\mathbf{d}}\n",
    "\\newcommand{\\be}{\\mathbf{e}}\n",
    "\\newcommand{\\bh}{\\mathbf{h}}\n",
    "\\newcommand{\\bp}{\\mathbf{p}}\n",
    "\\newcommand{\\bq}{\\mathbf{q}}\n",
    "\\newcommand{\\br}{\\mathbf{r}}\n",
    "\\newcommand{\\bx}{\\mathbf{x}}\n",
    "\\newcommand{\\by}{\\mathbf{y}}\n",
    "\\newcommand{\\bz}{\\mathbf{z}}\n",
    "\\newcommand{\\bu}{\\mathbf{u}}\n",
    "\\newcommand{\\bv}{\\mathbf{v}}\n",
    "\\newcommand{\\bw}{\\mathbf{w}}\n",
    "\\newcommand{\\tr}{\\operatorname{tr}}\n",
    "\\newcommand{\\nul}{\\operatorname{null}}\n",
    "\\newcommand{\\rank}{\\operatorname{rank}}\n",
    "%\\newcommand{\\ker}{\\operatorname{ker}}\n",
    "\\newcommand{\\range}{\\operatorname{range}}\n",
    "\\newcommand{\\Col}{\\operatorname{Col}}\n",
    "\\newcommand{\\Row}{\\operatorname{Row}}\n",
    "\\newcommand{\\spec}{\\operatorname{spec}}\n",
    "\\newcommand{\\vspan}{\\operatorname{span}}\n",
    "\\newcommand{\\Vol}{\\operatorname{Vol}}\n",
    "\\newcommand{\\sgn}{\\operatorname{sgn}}\n",
    "\\newcommand{\\idmap}{\\operatorname{id}}\n",
    "\\newcommand{\\am}{\\operatorname{am}}\n",
    "\\newcommand{\\gm}{\\operatorname{gm}}\n",
    "\\newcommand{\\mult}{\\operatorname{mult}}\n",
    "\\newcommand{\\iner}{\\operatorname{iner}}$"
   ]
  },
  {
   "cell_type": "code",
   "execution_count": null,
   "metadata": {},
   "outputs": [],
   "source": [
    "from lingeo import random_good_matrix, column_space_matrix, left_kernel_matrix, kernel_matrix"
   ]
  },
  {
   "cell_type": "markdown",
   "metadata": {},
   "source": [
    "## Main idea"
   ]
  },
  {
   "cell_type": "markdown",
   "metadata": {},
   "source": [
    "Let $U$ and $V$ be two subspaces in the same vector space.  "
   ]
  },
  {
   "cell_type": "markdown",
   "metadata": {},
   "source": [
    "In general, the set $U\\cup V$ is no more a subspace.  \n",
    "However, we may define the **sum** of $U$ and $V$ as $U + V = \\vspan(U \\cup V)$, which is a subspace.  \n",
    "Suppose $\\beta_U$ and $\\beta_V$ are the bases of $U$ and $V$, respectively.  \n",
    "Then $U + V = \\vspan(\\beta_U \\cup \\beta_V)$.  \n",
    "However, $\\beta_U \\cup \\beta_V$ is not necessarily independent.  "
   ]
  },
  {
   "cell_type": "markdown",
   "metadata": {},
   "source": [
    "Suppose $\\beta_U$ and $\\beta_V$ are finite.  \n",
    "Let $A_U$ and $A_V$ be the matrix whose columns are vectors in $U$ and $V$, respectively.  \n",
    "Then the $\\beta_C$ corresponding to $\\begin{bmatrix} A_U & A_V \\end{bmatrix}$ is a basis of $U + V$.  "
   ]
  },
  {
   "cell_type": "markdown",
   "metadata": {},
   "source": [
    "On the other hand, the **intersection** $U \\cap V$ is indeed a subspace.  \n",
    "Suppose $\\beta_U$ and $\\beta_V$ are the bases of $U$ and $V$, respectively.  \n",
    "Then $(\\beta_U \\cap \\beta_V)$ is linearly independent but not necessarily spans $U\\cap V$.  \n",
    "(Even worse, it is quite possible that $U \\cap V = \\emptyset$.)"
   ]
  },
  {
   "cell_type": "markdown",
   "metadata": {},
   "source": [
    "Suppose we are able to matrices $B_U$ and $B_V$ such that $U = \\ker(B_U)$ and $V = \\ker(B_V)$.  \n",
    "Then $U \\cap V$ is the kernel of $\\begin{bmatrix} B_U \\\\ B_V \\end{bmatrix}$."
   ]
  },
  {
   "cell_type": "markdown",
   "metadata": {},
   "source": [
    "By the expanding lemma, one may find a basis $\\beta_\\cap$ of $U\\cap V$,  \n",
    "expand it to a basis $\\beta_U$ of $U$,  \n",
    "expand it to a basis $\\beta_V$ of $V$,  \n",
    "and show that $\\beta_\\cup = \\beta_U \\cup \\beta_V$ is a basis of $U + V$.  \n",
    "Therefore, we have  \n",
    "$$\\dim(U + V) = \\dim(U) + \\dim(V) - \\dim(U \\cap V).$$"
   ]
  },
  {
   "cell_type": "markdown",
   "metadata": {},
   "source": [
    "Suppose $V_1, \\ldots, V_k$ are some subspaces in the same vector space.  \n",
    "We say $\\{V_1, \\ldots, V_k\\}$ is linearly independent if  \n",
    "the only choice of $\\bv_1\\in V_1, \\ldots, \\bv_k\\in V_k$ satisfying  \n",
    "$$\\bv_1 + \\cdots + \\bv_k = \\bzero$$  \n",
    "is $\\bv_1 = \\cdots = \\bv_k = \\bzero$.  "
   ]
  },
  {
   "cell_type": "markdown",
   "metadata": {},
   "source": [
    "The following two statments are equivalents:  \n",
    "1. $\\{V_1, V_2\\}$ is linearly independent.  \n",
    "2. $V_1 \\cap V_2 = \\{ \\bzero \\}$.  \n",
    "\n",
    "However, even if $V_1,V_2,V_3$ mutually have trivial intersections, $\\{ V_1, V_2, V_3 \\}$ might not be linearly independent."
   ]
  },
  {
   "cell_type": "markdown",
   "metadata": {},
   "source": [
    "In the case that $\\{V_1,\\ldots, V_k\\}$ is linearly independent,  \n",
    "we call the subspace $V_1 + \\cdots + V_k$ the **direct sum** of them and  \n",
    "use the notation $V_1 \\oplus \\cdots \\oplus V_k$ instead to emphasize the linearly independence."
   ]
  },
  {
   "cell_type": "markdown",
   "metadata": {},
   "source": [
    "## Side stories\n",
    "- basis of the sum and the intersection\n",
    "- example of trivial intersections but not linearly independent"
   ]
  },
  {
   "cell_type": "markdown",
   "metadata": {},
   "source": [
    "## Experiments"
   ]
  },
  {
   "cell_type": "markdown",
   "metadata": {},
   "source": [
    "##### Exercise 1\n",
    "\n",
    "執行以下程式碼。  \n",
    "令 $\\bu_1, \\bu_2$ 為 $A_U$ 的各行向量、  \n",
    " $\\bv_1, \\bv_2$ 為 $A_V$ 的各行向量。  \n",
    "令 $U = \\Col(A_U)$ 且 $V = \\Col(A_V)$。  \n",
    "已知 $R$ 為 $\\begin{bmatrix} A_U & A_V \\end{bmatrix}$ 的最簡階梯形式矩陣。  \n",
    "\n",
    "<!-- eng start -->\n",
    "Run the code below.  Let $\\bu_1, \\bu_2$ be the columns of $A_I$ and $\\bv_1, \\bv_2$ the columns of $A_V$.  Let $U = \\Col(A_U)$ and $V = \\Col(A_V)$.  Suppose $R$ is the reduced echelon form of $\\begin{bmatrix} A_U & A_V \\end{bmatrix}$.  \n",
    "<!-- eng end -->"
   ]
  },
  {
   "cell_type": "code",
   "execution_count": null,
   "metadata": {
    "scrolled": false
   },
   "outputs": [],
   "source": [
    "### code\n",
    "set_random_seed(0)\n",
    "print_ans = False\n",
    "m,n,r = 4,3,3\n",
    "A = random_good_matrix(m,n,r)\n",
    "AU = A[:,:2]\n",
    "AV = A[:,1:]\n",
    "AUAV = AU.augment(AV, subdivide=True)\n",
    "\n",
    "print(\"[ A_U | A_V ] =\")\n",
    "show(AUAV)\n",
    "print(\"R =\")\n",
    "show(AUAV.rref())\n",
    "\n",
    "BU = left_kernel_matrix(AU)\n",
    "BV = left_kernel_matrix(AV)\n",
    "BUBV = BU.stack(BV, subdivide=True)\n",
    "\n",
    "if print_ans:\n",
    "    print(\"dim( U + V ) =\", r)\n",
    "    print(\"basis of U + V = columns of\")\n",
    "    print(column_space_matrix(AUAV))\n",
    "    print(\"dim( U cap V) =\", 4 - r)\n",
    "    print(\"basis of U cap V = columns of\")\n",
    "    print(kernel_matrix(BUBV))"
   ]
  },
  {
   "cell_type": "markdown",
   "metadata": {},
   "source": [
    "##### Exercise 1(a)\n",
    "\n",
    "求 $U + V$ 的一組基底、  \n",
    "以及它的維度。  \n",
    "\n",
    "<!-- eng start -->\n",
    "Find a basis of $U + V$ and determine its dimension.  \n",
    "<!-- eng end -->"
   ]
  },
  {
   "cell_type": "markdown",
   "metadata": {},
   "source": [
    "##### Exercise 1(b)\n",
    "\n",
    "求 $\\dim(U\\cap V)$。  \n",
    "\n",
    "<!-- eng start -->\n",
    "Find $\\dim(U\\cap V)$.  \n",
    "<!-- eng end -->"
   ]
  },
  {
   "cell_type": "markdown",
   "metadata": {},
   "source": [
    "##### Exercise 1(c)\n",
    "\n",
    "求 $U\\cap V$ 的一組基底。  \n",
    "\n",
    "<!-- eng start -->\n",
    "Find a basis of $U\\cap V$.  \n",
    "<!-- eng end -->"
   ]
  },
  {
   "cell_type": "markdown",
   "metadata": {},
   "source": [
    "## Exercises"
   ]
  },
  {
   "cell_type": "markdown",
   "metadata": {},
   "source": [
    "##### Exercise 2\n",
    "\n",
    "令  \n",
    "\n",
    "$$\n",
    "    A_U = \\begin{bmatrix}\n",
    "     1 & 2 \\\\\n",
    "     1 & 2 \\\\\n",
    "     2 & 1 \\\\\n",
    "     2 & 1 \\\\\n",
    "    \\end{bmatrix}, A_V = \\begin{bmatrix} \n",
    "     1 & 2 \\\\\n",
    "     2 & 1 \\\\\n",
    "     1 & 2 \\\\\n",
    "     2 & 1 \\\\\n",
    "    \\end{bmatrix}\n",
    "$$  \n",
    "\n",
    "且 $U = \\Col(A_U)$ 且 $V = \\Col(A_V)$。  \n",
    "\n",
    "<!-- eng start -->\n",
    "Let  \n",
    "\n",
    "$$\n",
    "    A_U = \\begin{bmatrix}\n",
    "     1 & 2 \\\\\n",
    "     1 & 2 \\\\\n",
    "     2 & 1 \\\\\n",
    "     2 & 1 \\\\\n",
    "    \\end{bmatrix}, A_V = \\begin{bmatrix} \n",
    "     1 & 2 \\\\\n",
    "     2 & 1 \\\\\n",
    "     1 & 2 \\\\\n",
    "     2 & 1 \\\\\n",
    "    \\end{bmatrix}.\n",
    "$$  \n",
    "\n",
    "Let $U = \\Col(A_U)$ and $V = \\Col(A_V)$.  \n",
    "<!-- eng end -->"
   ]
  },
  {
   "cell_type": "markdown",
   "metadata": {},
   "source": [
    "##### Exercise 2(a)\n",
    "\n",
    "求 $U + V$ 的一組基底。  \n",
    "\n",
    "<!-- eng start -->\n",
    "Find a basis of $U + V$.  \n",
    "<!-- eng end -->"
   ]
  },
  {
   "cell_type": "markdown",
   "metadata": {},
   "source": [
    "##### Exercise 2(b)\n",
    "\n",
    "找出 $B_U$ 和 $B_V$  \n",
    "使得 $U = \\ker(B_U)$ 且 $V = \\ker(B_V)$。  \n",
    "\n",
    "<!-- eng start -->\n",
    "Find $B_U$ and $B_V$ such that $U = \\ker(B_U)$ and $V = \\ker(B_V)$.  \n",
    "<!-- eng end -->"
   ]
  },
  {
   "cell_type": "markdown",
   "metadata": {},
   "source": [
    "##### Exercise 2(c)\n",
    "\n",
    "求 $U \\cap V$ 的一組基底。  \n",
    "\n",
    "<!-- eng start -->\n",
    "Find a basis of $U \\cap V$.  \n",
    "<!-- eng end -->"
   ]
  },
  {
   "cell_type": "markdown",
   "metadata": {},
   "source": [
    "##### Exercise 3\n",
    "\n",
    "若 $U$ 和 $V$ 為兩個子空間。  \n",
    "證明 $U + V$ 為一個子空間。  \n",
    "\n",
    "<!-- eng start -->\n",
    "Let $U$ and $V$ be subspaces.  Show that $U + V$ is a subspace.  \n",
    "<!-- eng end -->"
   ]
  },
  {
   "cell_type": "markdown",
   "metadata": {},
   "source": [
    "##### Exercise 4\n",
    "\n",
    "若 $U$ 和 $V$ 為兩個子空間。  \n",
    "證明 $U \\cap V$ 為一個子空間。  \n",
    "\n",
    "<!-- eng start -->\n",
    "Let $U$ and $V$ be subspaces.  Show that $U \\cap V$ is a subspace.  \n",
    "<!-- eng end -->"
   ]
  },
  {
   "cell_type": "markdown",
   "metadata": {},
   "source": [
    "##### Exercise 5\n",
    "\n",
    "若 $U$ 和 $V$ 為兩個子空間。  \n",
    "證明  \n",
    "\n",
    "$$\n",
    "    \\dim(U + V) = \\dim(U) + \\dim(V) - \\dim(U \\cap V).\n",
    "$$\n",
    "\n",
    "<!-- eng start -->\n",
    "Let $U$ and $V$ be subspaces.  Show that \n",
    "\n",
    "$$\n",
    "    \\dim(U + V) = \\dim(U) + \\dim(V) - \\dim(U \\cap V).\n",
    "$$\n",
    "<!-- eng end -->"
   ]
  },
  {
   "cell_type": "markdown",
   "metadata": {},
   "source": [
    "##### Exercise 6\n",
    "\n",
    "令  \n",
    "\n",
    "$$\n",
    "    A_U = \\begin{bmatrix}\n",
    "     1 & 2 \\\\\n",
    "     1 & 2 \\\\\n",
    "     2 & 1 \\\\\n",
    "     2 & 1 \\\\\n",
    "    \\end{bmatrix}, A_V = \\begin{bmatrix} \n",
    "     1 & 2 \\\\\n",
    "     2 & 1 \\\\\n",
    "     1 & 2 \\\\\n",
    "     2 & 1 \\\\\n",
    "    \\end{bmatrix}\n",
    "$$  \n",
    "\n",
    "且 $U = \\Col(A_U)$ 且 $V = \\Col(A_V)$。  \n",
    "\n",
    "<!-- eng start -->\n",
    "Let  \n",
    "\n",
    "$$\n",
    "    A_U = \\begin{bmatrix}\n",
    "     1 & 2 \\\\\n",
    "     1 & 2 \\\\\n",
    "     2 & 1 \\\\\n",
    "     2 & 1 \\\\\n",
    "    \\end{bmatrix}, A_V = \\begin{bmatrix} \n",
    "     1 & 2 \\\\\n",
    "     2 & 1 \\\\\n",
    "     1 & 2 \\\\\n",
    "     2 & 1 \\\\\n",
    "    \\end{bmatrix}.  \n",
    "$$  \n",
    "\n",
    "Let $U = \\Col(A_U)$ and $V = \\Col(A_V)$.  \n",
    "<!-- eng end -->"
   ]
  },
  {
   "cell_type": "markdown",
   "metadata": {},
   "source": [
    "##### Exercise 6(a)\n",
    "\n",
    "找出一組非零向量 $\\bu\\in U$ 及 $\\bv\\in V$  \n",
    "使得 $\\bu + \\bv = \\bzero$。  \n",
    "藉此說明 $\\{U, V\\}$ 不線性獨立。\n",
    "\n",
    "<!-- eng start -->\n",
    "Find nonzero vectors $\\bu\\in U$ and $\\bv\\in V$ such that $\\bu + \\bv = \\bzero$.  This shows that $\\{U, V\\}$ is not linearly independent.  \n",
    "<!-- eng end -->"
   ]
  },
  {
   "cell_type": "markdown",
   "metadata": {},
   "source": [
    "##### Exercise 6(b)\n",
    "\n",
    "令 $V_1$ 和 $V_2$ 為任意的兩個子空間。  \n",
    "證明以下敘述等價：  \n",
    "\n",
    "1. $\\{V_1, V_2\\}$ is linearly independent.  \n",
    "2. $V_1 \\cap V_2 = \\{ \\bzero \\}$.  \n",
    "\n",
    "<!-- eng start -->\n",
    "Let $V_1$ and $V_2$ be subspaces.  Show that the following are equivalent:  \n",
    "\n",
    "1. $\\{V_1, V_2\\}$ is linearly independent.  \n",
    "2. $V_1 \\cap V_2 = \\{ \\bzero \\}$.  \n",
    "<!-- eng end -->"
   ]
  },
  {
   "cell_type": "markdown",
   "metadata": {},
   "source": [
    "##### Exercise 7\n",
    "\n",
    "令 $\\bu_1,\\ldots,\\bu_k$ 為一群向量。  \n",
    "\n",
    "<!-- eng start -->\n",
    "Let $\\bu_1, \\ldots, \\bu_k$ be some vectors.  \n",
    "<!-- eng end -->"
   ]
  },
  {
   "cell_type": "markdown",
   "metadata": {},
   "source": [
    "##### Exercise 7(a)\n",
    "\n",
    "對於每個 $i = 1,\\ldots, k$，令 $U_i = \\vspan(\\{\\bu_i\\})$。  \n",
    "證明以下敘述等價：  \n",
    "\n",
    "1. $\\{U_1, \\ldots, U_k\\}$ is linearly independent.  \n",
    "2. $\\{\\bu_1, \\ldots, \\bu_k\\}$ is linearly independent.\n",
    "\n",
    "<!-- eng start -->\n",
    "For each $i = 1,\\ldots, k$, let $U_i = \\vspan(\\{\\bu_i\\})$.  Show that the following are equivalent:  \n",
    "\n",
    "1. $\\{U_1, \\ldots, U_k\\}$ is linearly independent.  \n",
    "2. $\\{\\bu_1, \\ldots, \\bu_k\\}$ is linearly independent.\n",
    "<!-- eng end -->"
   ]
  },
  {
   "cell_type": "markdown",
   "metadata": {},
   "source": [
    "##### Exercise 7(b)\n",
    "\n",
    "令  \n",
    "\n",
    "$$\n",
    "    V_1 = \\vspan\\left(\\left\\{\\begin{bmatrix} 1 \\\\ 0 \\end{bmatrix}\\right\\}\\right), \n",
    "    V_2 = \\vspan\\left(\\left\\{\\begin{bmatrix} 0 \\\\ 1 \\end{bmatrix}\\right\\}\\right), \n",
    "    V_3 = \\vspan\\left(\\left\\{\\begin{bmatrix} 1 \\\\ 1 \\end{bmatrix}\\right\\}\\right).\n",
    "$$  \n",
    "\n",
    "說明對任意相異的 $i$ 和 $j$ 都有 $V_i\\cap V_j = \\emptyset$﹐  \n",
    "但是 $\\{V_1,V_2,V_3\\}$ 並不線性獨立。  \n",
    "\n",
    "<!-- eng start -->\n",
    "Let  \n",
    "\n",
    "$$\n",
    "    V_1 = \\vspan\\left(\\left\\{\\begin{bmatrix} 1 \\\\ 0 \\end{bmatrix}\\right\\}\\right), \n",
    "    V_2 = \\vspan\\left(\\left\\{\\begin{bmatrix} 0 \\\\ 1 \\end{bmatrix}\\right\\}\\right), \n",
    "    V_3 = \\vspan\\left(\\left\\{\\begin{bmatrix} 1 \\\\ 1 \\end{bmatrix}\\right\\}\\right).\n",
    "$$  \n",
    "\n",
    "Verify that $V_i\\cap V_j = \\emptyset$ for any distinct $i$ and $j$, but $\\{V_1, V_2, V_3\\}$ is not linearly independent.  \n",
    "<!-- eng end -->"
   ]
  },
  {
   "cell_type": "markdown",
   "metadata": {},
   "source": [
    "##### Exercise 7(c)\n",
    "\n",
    "若 $\\{\\bu_1,\\ldots,\\bu_6\\}$ 線性獨立。  \n",
    "令 $V_1 = \\{\\bu_1, \\bu_2\\}$、  \n",
    "$V_2 = \\{\\bu_3, \\bu_4\\}$ 且  \n",
    "$V_3 = \\{\\bu_5, \\bu_6\\}$。  \n",
    "證明 $\\{V_1,V_2,V_3\\}$ 線性獨立。  \n",
    "（實際上把一群線性獨立的向量分成任意堆﹐  \n",
    "則每堆生成出來的空間  \n",
    "全部合在一起會是線性獨立的。）\n",
    "\n",
    "<!-- eng start -->\n",
    "Let $\\{\\bu_1,\\ldots,\\bu_6\\}$ be a linearly independent set.  Let $V_1 = \\{\\bu_1, \\bu_2\\}$, $V_2 = \\{\\bu_3, \\bu_4\\}$, and $V_3 = \\{\\bu_5, \\bu_6\\}$.  Show that $\\{V_1,V_2,V_3\\}$ is linearly independent.  (In fact, for any partition of a linearly independent set, the collection of the spanning set of its parts is linearly independent.)\n",
    "<!-- eng end -->"
   ]
  }
 ],
 "metadata": {
  "kernelspec": {
   "display_name": "SageMath 9.6",
   "language": "sage",
   "name": "sagemath"
  },
  "language_info": {
   "codemirror_mode": {
    "name": "ipython",
    "version": 3
   },
   "file_extension": ".py",
   "mimetype": "text/x-python",
   "name": "python",
   "nbconvert_exporter": "python",
   "pygments_lexer": "ipython3",
   "version": "3.10.6"
  }
 },
 "nbformat": 4,
 "nbformat_minor": 4
}
