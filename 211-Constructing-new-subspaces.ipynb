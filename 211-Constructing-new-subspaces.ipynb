{
 "cells": [
  {
   "cell_type": "markdown",
   "metadata": {},
   "source": [
    "# 建構新的子空間"
   ]
  },
  {
   "cell_type": "markdown",
   "metadata": {},
   "source": [
    "![Creative Commons License](https://i.creativecommons.org/l/by/4.0/88x31.png)  \n",
    "This work by Jephian Lin is licensed under a [Creative Commons Attribution 4.0 International License](http://creativecommons.org/licenses/by/4.0/)."
   ]
  },
  {
   "cell_type": "code",
   "execution_count": null,
   "metadata": {},
   "outputs": [],
   "source": [
    "from lingeo import random_good_matrix, column_space_matrix, left_kernel_matrix, kernel_matrix"
   ]
  },
  {
   "cell_type": "markdown",
   "metadata": {},
   "source": [
    "## Main idea"
   ]
  },
  {
   "cell_type": "markdown",
   "metadata": {},
   "source": [
    "Let $U$ and $V$ be two subspaces in the same vector space.  "
   ]
  },
  {
   "cell_type": "markdown",
   "metadata": {},
   "source": [
    "In general, the set $U\\cup V$ is no more a subspace.  \n",
    "However, we may define the **sum** of $U$ and $V$ as $U + V = \\operatorname{span}(U \\cup V)$, which is a subspace.  \n",
    "Suppose $\\beta_U$ and $\\beta_V$ are the bases of $U$ and $V$, respectively.  \n",
    "Then $U + V = \\operatorname{span}(\\beta_U \\cup \\beta_V)$.  \n",
    "However, $\\beta_U \\cup \\beta_V$ is not necessarily independent.  "
   ]
  },
  {
   "cell_type": "markdown",
   "metadata": {},
   "source": [
    "Suppose $\\beta_U$ and $\\beta_V$ are finite.  \n",
    "Let $A_U$ and $A_V$ be the matrix whose columns are vectors in $U$ and $V$, respectively.  \n",
    "Then the $\\beta_C$ corresponding to $\\begin{bmatrix} A_U & A_V \\end{bmatrix}$ is a basis of $U + V$.  "
   ]
  },
  {
   "cell_type": "markdown",
   "metadata": {},
   "source": [
    "On the other hand, the **intersection** $U \\cap V$ is indeed a subspace.  \n",
    "Suppose $\\beta_U$ and $\\beta_V$ are the bases of $U$ and $V$, respectively.  \n",
    "Then $(\\beta_U \\cap \\beta_V)$ is linearly independent but not necessarily spans $U\\cap V$.  \n",
    "(Even worse, it is quite possible that $U \\cap V = \\emptyset$.)"
   ]
  },
  {
   "cell_type": "markdown",
   "metadata": {},
   "source": [
    "Suppose we are able to matrices $B_U$ and $B_V$ such that $U = \\operatorname{ker}(B_U)$ and $V = \\operatorname{ker}(B_V)$.  \n",
    "Then $U \\cap V$ is the kernel of $\\begin{bmatrix} B_U \\\\ B_V \\end{bmatrix}$."
   ]
  },
  {
   "cell_type": "markdown",
   "metadata": {},
   "source": [
    "By the expanding lemma, one may find a basis $\\beta_\\cap$ of $U\\cap V$,  \n",
    "expand it to a basis $\\beta_U$ of $U$,  \n",
    "expand it to a basis $\\beta_V$ of $V$,  \n",
    "and show that $\\beta_\\cup = \\beta_U \\cup \\beta_V$ is a basis of $U + V$.  \n",
    "Therefore, we have  \n",
    "$$\\dim(U + V) = \\dim(U) + \\dim(V) - \\dim(U \\cap V).$$"
   ]
  },
  {
   "cell_type": "markdown",
   "metadata": {},
   "source": [
    "Suppose $V_1, \\ldots, V_k$ are some subspaces in the same vector space.  \n",
    "We say $\\{V_1, \\ldots, V_k\\}$ is linearly independent if  \n",
    "the only choice of ${\\bf v}_1\\in V_1, \\ldots, {\\bf v}_k\\in V_k$ satisfying  \n",
    "$${\\bf v}_1 + \\cdots + {\\bf v}_k = {\\bf 0}$$  \n",
    "is ${\\bf v}_1 = \\cdots = {\\bf v}_k = {\\bf 0}$.  "
   ]
  },
  {
   "cell_type": "markdown",
   "metadata": {},
   "source": [
    "The following two statments are equivalents:  \n",
    "1. $\\{V_1, V_2\\}$ is linearly independent.  \n",
    "2. $V_1 \\cap V_2 = \\{ {\\bf 0} \\}$.  \n",
    "\n",
    "However, even if $V_1,V_2,V_3$ mutually have trivial intersections, $\\{ V_1, V_2, V_3 \\}$ might not be linearly independent."
   ]
  },
  {
   "cell_type": "markdown",
   "metadata": {},
   "source": [
    "In the case that $\\{V_1,\\ldots, V_k\\}$ is linearly independent,  \n",
    "we call the subspace $V_1 + \\cdots + V_k$ the **direct sum** of them and  \n",
    "use the notation $V_1 \\oplus \\cdots \\oplus V_k$ instead to emphasize the linearly independence."
   ]
  },
  {
   "cell_type": "markdown",
   "metadata": {},
   "source": [
    "## Side stories\n",
    "- basis of the sum and the intersection\n",
    "- example of trivial intersections but not linearly independent"
   ]
  },
  {
   "cell_type": "markdown",
   "metadata": {},
   "source": [
    "## Experiments"
   ]
  },
  {
   "cell_type": "markdown",
   "metadata": {},
   "source": [
    "##### Exercise 1\n",
    "\n",
    "執行以下程式碼。  \n",
    "令 ${\\bf u}_1, {\\bf u}_2$ 為 $A_U$ 的各行向量、  \n",
    " ${\\bf v}_1, {\\bf v}_2$ 為 $A_V$ 的各行向量。  \n",
    "令 $U = \\operatorname{Col}(A_U)$ 且 $V = \\operatorname{Col}(A_V)$。  \n",
    "已知 $R$ 為 $\\begin{bmatrix} A_U & A_V \\end{bmatrix}$ 的最簡階梯形式矩陣。  "
   ]
  },
  {
   "cell_type": "code",
   "execution_count": null,
   "metadata": {
    "scrolled": false
   },
   "outputs": [],
   "source": [
    "### code\n",
    "set_random_seed(0)\n",
    "print_ans = False\n",
    "m,n,r = 4,3,3\n",
    "A = random_good_matrix(m,n,r)\n",
    "AU = A[:,:2]\n",
    "AV = A[:,1:]\n",
    "AUAV = AU.augment(AV, subdivide=True)\n",
    "\n",
    "print(\"[ A_U | A_V ] =\")\n",
    "show(AUAV)\n",
    "print(\"R =\")\n",
    "show(AUAV.rref())\n",
    "\n",
    "BU = left_kernel_matrix(AU)\n",
    "BV = left_kernel_matrix(AV)\n",
    "BUBV = BU.stack(BV, subdivide=True)\n",
    "\n",
    "if print_ans:\n",
    "    print(\"dim( U + V ) =\", r)\n",
    "    print(\"basis of U + V = columns of\")\n",
    "    print(column_space_matrix(AUAV))\n",
    "    print(\"dim( U cap V) =\", 4 - r)\n",
    "    print(\"basis of U cap V = columns of\")\n",
    "    print(kernel_matrix(BUBV))"
   ]
  },
  {
   "cell_type": "markdown",
   "metadata": {},
   "source": [
    "##### Exercise 1(a)\n",
    "\n",
    "求 $U + V$ 的一組基底、  \n",
    "以及它的維度。  "
   ]
  },
  {
   "cell_type": "markdown",
   "metadata": {},
   "source": [
    "##### Exercise 1(b)\n",
    "\n",
    "求 $\\dim(U\\cap V)$。  "
   ]
  },
  {
   "cell_type": "markdown",
   "metadata": {},
   "source": [
    "##### Exercise 1(c)\n",
    "\n",
    "求 $U\\cap V$ 的一組基底。  "
   ]
  },
  {
   "cell_type": "markdown",
   "metadata": {},
   "source": [
    "## Exercises"
   ]
  },
  {
   "cell_type": "markdown",
   "metadata": {},
   "source": [
    "##### Exercise 2\n",
    "\n",
    "令  \n",
    "$$A_U = \\begin{bmatrix}\n",
    " 1 & 2 \\\\\n",
    " 1 & 2 \\\\\n",
    " 2 & 1 \\\\\n",
    " 2 & 1 \\\\\n",
    "\\end{bmatrix}, A_V = \\begin{bmatrix} \n",
    " 1 & 2 \\\\\n",
    " 2 & 1 \\\\\n",
    " 1 & 2 \\\\\n",
    " 2 & 1 \\\\\n",
    "\\end{bmatrix}$$  \n",
    "且 $U = \\operatorname{Col}(A_U)$ 且 $V = \\operatorname{Col}(A_V)$。  "
   ]
  },
  {
   "cell_type": "markdown",
   "metadata": {},
   "source": [
    "##### Exercise 2(a)\n",
    "\n",
    "求 $U + V$ 的一組基底。  "
   ]
  },
  {
   "cell_type": "markdown",
   "metadata": {},
   "source": [
    "##### Exercise 2(b)\n",
    "\n",
    "找出 $B_U$ 和 $B_V$  \n",
    "使得 $U = \\operatorname{kerl}(B_U)$ 且 $V = \\operatorname{ker}(B_V)$。  "
   ]
  },
  {
   "cell_type": "markdown",
   "metadata": {},
   "source": [
    "##### Exercise 2(c)\n",
    "\n",
    "求 $U \\cap V$ 的一組基底。  "
   ]
  },
  {
   "cell_type": "markdown",
   "metadata": {},
   "source": [
    "##### Exercise 3\n",
    "\n",
    "若 $U$ 和 $V$ 為兩個子空間。  \n",
    "證明 $U + V$ 為一個子空間。  "
   ]
  },
  {
   "cell_type": "markdown",
   "metadata": {},
   "source": [
    "##### Exercise 4\n",
    "\n",
    "若 $U$ 和 $V$ 為兩個子空間。  \n",
    "證明 $U \\cap V$ 為一個子空間。  "
   ]
  },
  {
   "cell_type": "markdown",
   "metadata": {},
   "source": [
    "##### Exercise 5\n",
    "\n",
    "若 $U$ 和 $V$ 為兩個子空間。  \n",
    "證明  \n",
    "$$\\dim(U + V) = \\dim(U) + \\dim(V) - \\dim(U \\cap V).$$"
   ]
  },
  {
   "cell_type": "markdown",
   "metadata": {},
   "source": [
    "##### Exercise 6\n",
    "\n",
    "令  \n",
    "$$A_U = \\begin{bmatrix}\n",
    " 1 & 2 \\\\\n",
    " 1 & 2 \\\\\n",
    " 2 & 1 \\\\\n",
    " 2 & 1 \\\\\n",
    "\\end{bmatrix}, A_V = \\begin{bmatrix} \n",
    " 1 & 2 \\\\\n",
    " 2 & 1 \\\\\n",
    " 1 & 2 \\\\\n",
    " 2 & 1 \\\\\n",
    "\\end{bmatrix}$$  \n",
    "且 $U = \\operatorname{Col}(A_U)$ 且 $V = \\operatorname{Col}(A_V)$。  "
   ]
  },
  {
   "cell_type": "markdown",
   "metadata": {},
   "source": [
    "##### Exercise 6(a)\n",
    "\n",
    "找出一組向量 ${\\bf u}\\in U$ 及 ${\\bf v}\\in V$  \n",
    "使得 $1\\cdot {\\bf u} + 1\\cdot {\\bf v} = {\\bf 0}$。  \n",
    "藉此說明 $U$ 和 $V$ 不線性獨立。"
   ]
  },
  {
   "cell_type": "markdown",
   "metadata": {},
   "source": [
    "##### Exercise 6(b)\n",
    "\n",
    "令 $V_1$ 和 $V_2$ 為任意的兩個子空間。  \n",
    "證明以下敘述等價：  \n",
    "1. $\\{V_1, V_2\\}$ is linearly independent.  \n",
    "2. $V_1 \\cap V_2 = \\{ {\\bf 0} \\}$.  "
   ]
  },
  {
   "cell_type": "markdown",
   "metadata": {},
   "source": [
    "##### Exercise 7\n",
    "\n",
    "令 ${\\bf u}_1,\\ldots,{\\bf u}_k$ 為一群向量。  "
   ]
  },
  {
   "cell_type": "markdown",
   "metadata": {},
   "source": [
    "##### Exercise 7(a)\n",
    "\n",
    "對於每個 $i = 1,\\ldots k$﹐令 $U_i = \\operatorname{span}(\\{{\\bf u}_i\\})$。  \n",
    "證明以下敘述等價：  \n",
    "1. $\\{U_1, \\ldots, U_k\\}$ is linearly independent.  \n",
    "2. $\\{{\\bf u}_1, \\ldots, {\\bf u}_k\\}$ is linearly independent."
   ]
  },
  {
   "cell_type": "markdown",
   "metadata": {},
   "source": [
    "##### Exercise 7(c)\n",
    "\n",
    "令  \n",
    "$$V_1 = \\operatorname{span}\\left(\\left\\{\\begin{bmatrix} 1 \\\\ 0 \\end{bmatrix}\\right\\}\\right), \n",
    "V_2 = \\operatorname{span}\\left(\\left\\{\\begin{bmatrix} 0 \\\\ 1 \\end{bmatrix}\\right\\}\\right), \n",
    "V_3 = \\operatorname{span}\\left(\\left\\{\\begin{bmatrix} 1 \\\\ 1 \\end{bmatrix}\\right\\}\\right).$$  \n",
    "說明對任意相異的 $i$ 和 $j$ 都有 $V_i\\cap V_j = \\emptyset$﹐  \n",
    "但是 $\\{V_1,V_2,V_3\\}$ 並不線性獨立。  "
   ]
  },
  {
   "cell_type": "markdown",
   "metadata": {},
   "source": [
    "##### Exercise 7(d)\n",
    "\n",
    "若 $\\{{\\bf u}_1,\\ldots,{\\bf u}_6\\}$ 線性獨立。  \n",
    "令 $V_1 = \\{{\\bf u}_1, {\\bf u}_2\\}$、  \n",
    "$V_2 = \\{{\\bf u}_3, {\\bf u}_4\\}$ 且  \n",
    "$V_3 = \\{{\\bf u}_5, {\\bf u}_6\\}$。  \n",
    "證明 $\\{V_1,V_2,V_3\\}$ 線性獨立。  \n",
    "（實際上把一群線性獨立的向量分成任意堆﹐  \n",
    "則每堆生成出來的空間  \n",
    "全部合在一起會是線性獨立的。）"
   ]
  }
 ],
 "metadata": {
  "kernelspec": {
   "display_name": "SageMath 9.4",
   "language": "sage",
   "name": "sagemath"
  },
  "language_info": {
   "codemirror_mode": {
    "name": "ipython",
    "version": 3
   },
   "file_extension": ".py",
   "mimetype": "text/x-python",
   "name": "python",
   "nbconvert_exporter": "python",
   "pygments_lexer": "ipython3",
   "version": "3.9.7"
  }
 },
 "nbformat": 4,
 "nbformat_minor": 4
}
