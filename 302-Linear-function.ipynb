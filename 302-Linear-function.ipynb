{
 "cells": [
  {
   "cell_type": "markdown",
   "metadata": {},
   "source": [
    "# 線性函數\n",
    "\n",
    "Linear function"
   ]
  },
  {
   "cell_type": "markdown",
   "metadata": {},
   "source": [
    "![Creative Commons License](https://i.creativecommons.org/l/by/4.0/88x31.png)  \n",
    "This work by Jephian Lin is licensed under a [Creative Commons Attribution 4.0 International License](http://creativecommons.org/licenses/by/4.0/)."
   ]
  },
  {
   "cell_type": "markdown",
   "metadata": {},
   "source": [
    "$\\newcommand{\\trans}{^\\top}\n",
    "\\newcommand{\\adj}{^{\\rm adj}}\n",
    "\\newcommand{\\cof}{^{\\rm cof}}\n",
    "\\newcommand{\\inp}[2]{\\left\\langle#1,#2\\right\\rangle}\n",
    "\\newcommand{\\dunion}{\\mathbin{\\dot\\cup}}\n",
    "\\newcommand{\\bzero}{\\mathbf{0}}\n",
    "\\newcommand{\\bone}{\\mathbf{1}}\n",
    "\\newcommand{\\ba}{\\mathbf{a}}\n",
    "\\newcommand{\\bb}{\\mathbf{b}}\n",
    "\\newcommand{\\bc}{\\mathbf{c}}\n",
    "\\newcommand{\\bd}{\\mathbf{d}}\n",
    "\\newcommand{\\be}{\\mathbf{e}}\n",
    "\\newcommand{\\bh}{\\mathbf{h}}\n",
    "\\newcommand{\\bp}{\\mathbf{p}}\n",
    "\\newcommand{\\bq}{\\mathbf{q}}\n",
    "\\newcommand{\\br}{\\mathbf{r}}\n",
    "\\newcommand{\\bx}{\\mathbf{x}}\n",
    "\\newcommand{\\by}{\\mathbf{y}}\n",
    "\\newcommand{\\bz}{\\mathbf{z}}\n",
    "\\newcommand{\\bu}{\\mathbf{u}}\n",
    "\\newcommand{\\bv}{\\mathbf{v}}\n",
    "\\newcommand{\\bw}{\\mathbf{w}}\n",
    "\\newcommand{\\tr}{\\operatorname{tr}}\n",
    "\\newcommand{\\nul}{\\operatorname{null}}\n",
    "\\newcommand{\\rank}{\\operatorname{rank}}\n",
    "%\\newcommand{\\ker}{\\operatorname{ker}}\n",
    "\\newcommand{\\range}{\\operatorname{range}}\n",
    "\\newcommand{\\Col}{\\operatorname{Col}}\n",
    "\\newcommand{\\Row}{\\operatorname{Row}}\n",
    "\\newcommand{\\spec}{\\operatorname{spec}}\n",
    "\\newcommand{\\vspan}{\\operatorname{span}}\n",
    "\\newcommand{\\Vol}{\\operatorname{Vol}}\n",
    "\\newcommand{\\sgn}{\\operatorname{sgn}}\n",
    "\\newcommand{\\idmap}{\\operatorname{id}}\n",
    "\\newcommand{\\am}{\\operatorname{am}}\n",
    "\\newcommand{\\gm}{\\operatorname{gm}}\n",
    "\\newcommand{\\mult}{\\operatorname{mult}}\n",
    "\\newcommand{\\iner}{\\operatorname{iner}}$"
   ]
  },
  {
   "cell_type": "code",
   "execution_count": null,
   "metadata": {},
   "outputs": [],
   "source": [
    "from lingeo import random_good_matrix, kernel_matrix"
   ]
  },
  {
   "cell_type": "markdown",
   "metadata": {},
   "source": [
    "## Main idea"
   ]
  },
  {
   "cell_type": "markdown",
   "metadata": {},
   "source": [
    "Let $U$ and $V$ be two vector spaces.  \n",
    "A function $f: U\\rightarrow V$ is **linear** if  \n",
    "\n",
    "$$\n",
    "    \\begin{aligned} \n",
    "     f(\\bu_1 + \\bu_2) &= f(\\bu_1) + f(\\bu_2) \\\\\n",
    "     f(k\\bu) &= kf(\\bu) \\\\\n",
    "    \\end{aligned}\n",
    "$$\n",
    "\n",
    "for any vectors $\\bu, \\bu_1, \\bu_2\\in U$ and scalar $k\\in\\mathbb{R}$."
   ]
  },
  {
   "cell_type": "markdown",
   "metadata": {},
   "source": [
    "Let $f : U \\rightarrow V$ be a linear function.  \n",
    "The **kernel** of $f$ is $\\ker(f) = \\{\\bu\\in U: f(\\bu) = \\bzero\\}$.  \n",
    "Recall that $\\range(f) = \\{ f(\\bu) : \\bu\\in U \\}$.  \n",
    "Indeed, $\\ker(f)$ is a subspace of $U$ and $\\range(f)$ is a subspace of $V$.  \n",
    "Thus, we define the **rank** of $f$ as $\\rank(f) = \\dim(\\range(f))$ and  \n",
    "the **nullity** of $f$ as $\\nul(f) = \\dim(\\ker(f))$.  "
   ]
  },
  {
   "cell_type": "markdown",
   "metadata": {},
   "source": [
    "From the definition, $f$ is surjective if and only if $\\range(f) = V$, or, equivalently, $\\rank(f) = \\dim(V)$.  \n",
    "On the other hand, it is also known that $f$ is injective if and only if $\\ker(f) = \\{\\bzero\\}$, or, equivalently, $\\nul(f) = 0$.  "
   ]
  },
  {
   "cell_type": "markdown",
   "metadata": {},
   "source": [
    "Thanks to the structure of a linear function, the function values of a basis of $U$ is enough to determine the function.  \n",
    "Let $\\beta = \\{\\bu_1, \\ldots, \\bu_n\\}$ be a basis of $U$ and $f : U\\rightarrow V$ a linear function.  \n",
    "If $f(\\bu_1) = \\bv_1$, $\\ldots$, $f(\\bu_n) = \\bv_n$, then  \n",
    "\n",
    "$$\n",
    "    f(c_1\\bu_1 + \\cdots + c_n\\bu_n) = c_1\\bv_1 + \\cdots + c_n\\bv_n\n",
    "$$\n",
    "\n",
    "is uniquely determined, since every vector $\\bu$ can be written as a linear combinatoin $c_1\\bu_1 + \\cdots + c_m\\bu_m$ of $\\beta$ for some $c_1,\\ldots, c_n\\in\\mathbb{R}$.  "
   ]
  },
  {
   "cell_type": "markdown",
   "metadata": {},
   "source": [
    "## Side stories\n",
    "\n",
    "- basis of the range"
   ]
  },
  {
   "cell_type": "markdown",
   "metadata": {},
   "source": [
    "## Experiments"
   ]
  },
  {
   "cell_type": "markdown",
   "metadata": {},
   "source": [
    "##### Exercise 1\n",
    "\n",
    "執行以下程式碼。  \n",
    "假設已知 $f$ 為一從 $\\mathbb{R}^3$ 到 $\\mathbb{R}^4$ 的線性函數。  \n",
    "令 $\\beta = \\{\\be_1, \\be_2, \\be_3\\}$ 為 $I_3$ 的行向量集合﹐其為 $\\mathbb{R}^3$ 的基底。  \n",
    "\n",
    "<!-- eng start -->\n",
    "Run the code below.  Suppose $f: \\mathbb{R}^3 \\rightarrow \\mathbb{R}^4$ is a linear function.  Let $\\beta = \\{\\be_1, \\be_2, \\be_3\\}$ be the columns of $I_3$, which is a basis of $\\mathbb{R}^3$.  \n",
    "<!-- eng end -->"
   ]
  },
  {
   "cell_type": "code",
   "execution_count": null,
   "metadata": {
    "scrolled": false
   },
   "outputs": [],
   "source": [
    "### code\n",
    "set_random_seed(0)\n",
    "print_ans = False\n",
    "m,n,r = 4,3,2\n",
    "A = random_good_matrix(m,n,r)\n",
    "\n",
    "for i in range(n):\n",
    "    print(\"f(e%s) =\"%(i+1), A.column(i))\n",
    "\n",
    "if print_ans:\n",
    "    print(\"f(3e1 + 2e2) = 3f(e1) + 2f(e2) =\", 3*A.column(0) + 2*A.column(1))\n",
    "    print(\"To make f(u) = 0 for some nonzero u, one may choose u =\", kernel_matrix(A).column(0))\n",
    "    print(\"A =\")\n",
    "    show(A)"
   ]
  },
  {
   "cell_type": "markdown",
   "metadata": {},
   "source": [
    "##### Exercise 1(a)\n",
    "\n",
    "求 $f(3\\be_1 + 2\\be_2)$。  \n",
    "\n",
    "<!-- eng start -->\n",
    "Find $f(3\\be_1 + 2\\be_2)$.  \n",
    "<!-- eng end -->"
   ]
  },
  {
   "cell_type": "markdown",
   "metadata": {},
   "source": [
    "##### Exercise 1(b)\n",
    "\n",
    "求 $\\mathbb{R}^3$ 中的一個非零向量 $\\bu$ 使得 $f(\\bu) = \\bzero$。  \n",
    "\n",
    "<!-- eng start -->\n",
    "Find a nonzero vector $\\bu\\in\\mathbb{R}^3$ such that $f(\\bu) = \\bzero$.  \n",
    "<!-- eng end -->"
   ]
  },
  {
   "cell_type": "markdown",
   "metadata": {},
   "source": [
    "##### Exercise 1(c)\n",
    "\n",
    "找一個矩陣 $A$ 使得對所有向量 $\\bu\\in\\mathbb{R}^3$ 都有 $f(\\bu) = A\\bu$。  \n",
    "\n",
    "<!-- eng start -->\n",
    "Find a matrix $A$ such that $f(\\bu) = A\\bu$ for any vector $\\bu\\in\\mathbb{R}^3$.  \n",
    "<!-- eng end -->"
   ]
  },
  {
   "cell_type": "markdown",
   "metadata": {},
   "source": [
    "## Exercises"
   ]
  },
  {
   "cell_type": "markdown",
   "metadata": {},
   "source": [
    "##### Exercise 2\n",
    "\n",
    "判斷以下函數是否線性。  \n",
    "\n",
    "<!-- eng start -->\n",
    "Determine if each of the following functions is linear.  \n",
    "<!-- eng end -->"
   ]
  },
  {
   "cell_type": "markdown",
   "metadata": {},
   "source": [
    "##### Exercise 2(a)\n",
    "\n",
    "判斷 $f: \\mathbb{R}\\rightarrow\\mathbb{R}$ 且 $f(x) = 3x + 5$ 是否線性。  \n",
    "\n",
    "<!-- eng start -->\n",
    "Let $f: \\mathbb{R}\\rightarrow\\mathbb{R}$ be a function defined by $f(x) = 3x + 5$.  Is it linear?  \n",
    "<!-- eng end -->"
   ]
  },
  {
   "cell_type": "markdown",
   "metadata": {},
   "source": [
    "##### Exercise 2(b)\n",
    "\n",
    "判斷 $f: \\mathbb{R}\\rightarrow\\mathbb{R}$ 且 $f(x) = 3x$ 是否線性。  \n",
    "\n",
    "<!-- eng start -->\n",
    "Let $f: \\mathbb{R}\\rightarrow\\mathbb{R}$ be a function defined by $f(x) = 3x$.  Is it linear?  \n",
    "<!-- eng end -->"
   ]
  },
  {
   "cell_type": "markdown",
   "metadata": {},
   "source": [
    "##### Exercise 2(c)\n",
    "\n",
    "判斷 $f: \\mathbb{R}\\rightarrow\\mathbb{R}$ 且 $f(x) = x^2$ 是否線性。  \n",
    "\n",
    "<!-- eng start -->\n",
    "Let $f: \\mathbb{R}\\rightarrow\\mathbb{R}$ be a function defined by $f(x) = x^2$.  Is it linear?  \n",
    "<!-- eng end -->"
   ]
  },
  {
   "cell_type": "markdown",
   "metadata": {},
   "source": [
    "##### Exercise 2(d)\n",
    "\n",
    "判斷 $f: \\mathbb{R}^2\\rightarrow\\mathbb{R}$ 且 $f(x,y) = x^2 + y^2$ 是否線性。  \n",
    "\n",
    "<!-- eng start -->\n",
    "Let $f: \\mathbb{R}^2\\rightarrow\\mathbb{R}$ be a function defined by $f(x,y) = x^2 + y^2$.  Is it linear?  \n",
    "<!-- eng end -->"
   ]
  },
  {
   "cell_type": "markdown",
   "metadata": {},
   "source": [
    "##### Exercise 2(e)\n",
    "\n",
    "判斷 $f: \\mathbb{R}^2\\rightarrow\\mathbb{R}$ 且 $f(x,y) = 3x + 2y$ 是否線性。  \n",
    "\n",
    "<!-- eng start -->\n",
    "Let $f: \\mathbb{R}^2\\rightarrow\\mathbb{R}$ be a function defined by $f(x,y) = 3x + 2y$.  Is it linear?  \n",
    "<!-- eng end -->"
   ]
  },
  {
   "cell_type": "markdown",
   "metadata": {},
   "source": [
    "##### Exercise 2(f)\n",
    "\n",
    "判斷 $f: \\mathbb{R}^2\\rightarrow\\mathbb{R}$ 且 $f(x,y) = 3x + 2y + 1$ 是否線性。  \n",
    "\n",
    "<!-- eng start -->\n",
    "Let $f: \\mathbb{R}^2\\rightarrow\\mathbb{R}$ be a function defined by $f(x,y) = 3x + 2y + 1$.  Is it linear?  \n",
    "<!-- eng end -->"
   ]
  },
  {
   "cell_type": "markdown",
   "metadata": {},
   "source": [
    "##### Exercise 3\n",
    "\n",
    "令 $\\bu_1, \\bu_2, \\bu_3$ 為 $U$ 中的向量﹐  \n",
    "已知 $f$ 為從 $U$ 到 $\\mathbb{R}^4$ 的線性函數且  \n",
    "\n",
    "$$\n",
    "    \\begin{aligned}\n",
    "     f(\\bu_1) &= (1,1,1,1) \\\\\n",
    "     f(\\bu_2) &= (1,2,3,4) \\\\\n",
    "     f(\\bu_3) &= (4,3,2,1) \\\\\n",
    "    \\end{aligned}\n",
    "$$\n",
    "\n",
    "求 $f(3\\bu_1 + 2\\bu_2 + 2\\bu_3)$。  \n",
    "\n",
    "<!-- eng start -->\n",
    "Let $\\bu_1, \\bu_2, \\bu_3$ be vectors in the space $U$.  Suppose $f$ is a linear function from $U$ to $\\mathbb{R}^4$ such that \n",
    "\n",
    "$$\n",
    "    \\begin{aligned}\n",
    "     f(\\bu_1) &= (1,1,1,1) \\\\\n",
    "     f(\\bu_2) &= (1,2,3,4) \\\\\n",
    "     f(\\bu_3) &= (4,3,2,1) \\\\\n",
    "    \\end{aligned}\n",
    "$$\n",
    "\n",
    "Find $f(3\\bu_1 + 2\\bu_2 + 2\\bu_3)$.  \n",
    "<!-- eng end -->"
   ]
  },
  {
   "cell_type": "markdown",
   "metadata": {},
   "source": [
    "##### Exercise 4\n",
    "\n",
    "令 $f: U\\rightarrow V$ 為一線性函數。  \n",
    "證明以下敘述等價：  \n",
    "\n",
    "1. $f$ is injective.  \n",
    "2. $\\ker(f) = \\{ \\bzero \\}$.  \n",
    "3. $\\nul(f) = 0$.  \n",
    "\n",
    "<!-- eng start -->\n",
    "Let $f: U\\rightarrow V$ be a linear function.  Show that the following are equivalent:  \n",
    "\n",
    "1. $f$ is injective.  \n",
    "2. $\\ker(f) = \\{ \\bzero \\}$.  \n",
    "3. $\\nul(f) = 0$.  \n",
    "<!-- eng end -->"
   ]
  },
  {
   "cell_type": "markdown",
   "metadata": {},
   "source": [
    "##### Exercise 5\n",
    "\n",
    "嵌射顧名思義有點像是把定義域嵌入到對應域之中﹐所以很多性質都會被保留下來。  \n",
    "\n",
    "<!-- eng start -->\n",
    "The name \"injection\" indicates that the domain is injected, or embedded, into the codomain, so many properties of the domain preserve.\n",
    "<!-- eng end -->"
   ]
  },
  {
   "cell_type": "markdown",
   "metadata": {},
   "source": [
    "##### Exercise 5(a)\n",
    "\n",
    "令 $f: U\\rightarrow V$ 為一線性函數。  \n",
    "證明若 $f$ 是嵌射且  \n",
    "$\\alpha = \\{\\bu_1,\\ldots,\\bu_k\\}$ 為 $U$ 中的一線性獨立集﹐  \n",
    "則 $f(\\alpha)$ 是 $V$ 中的一線性獨立集。  \n",
    "\n",
    "<!-- eng start -->\n",
    "Let $f: U\\rightarrow V$ be a linear function.  Show that if $f$ is injective and $\\alpha = \\{\\bu_1,\\ldots,\\bu_k\\}$ is linearly independent in $U$, then $f(\\alpha)$ is linearly independent in $V$.  \n",
    "<!-- eng end -->"
   ]
  },
  {
   "cell_type": "markdown",
   "metadata": {},
   "source": [
    "##### Exercise 5(b)\n",
    "\n",
    "令 $f: U\\rightarrow V$ 為一線性函數。  \n",
    "證明若 $f$ 是嵌射且  \n",
    "$\\alpha = \\{\\bu_1,\\ldots,\\bu_k\\}$ 為 $U$ 的一組基底﹐  \n",
    "則 $f(\\alpha)$ 是 $\\range(f)$ 的一組基底。  \n",
    "\n",
    "<!-- eng start -->\n",
    "Let $f: U\\rightarrow V$ be a linear function.  Show that if $f$ is injective and $\\alpha = \\{\\bu_1,\\ldots,\\bu_k\\}$ is a basis of $U$, then $f(\\alpha)$ is a basis of $\\range(f)$.  \n",
    "<!-- eng end -->"
   ]
  },
  {
   "cell_type": "markdown",
   "metadata": {},
   "source": [
    "##### Exercise 6\n",
    "\n",
    "依照步驟確認線性擴充出來的函數符合我們要的性質。  \n",
    "令 $U$ 和 $V$ 為兩向量空間  \n",
    "且 $\\beta = \\{ \\bu_1, \\ldots, \\bu_n \\}$ 為 $U$ 的一組基底。  \n",
    "若 $f : U \\rightarrow V$ 是一個線性函數  \n",
    "且已知 $f(\\bu_1) = \\bv_1$, $\\ldots$, $f(\\bu_n) = \\bv_n$。  \n",
    "\n",
    "<!-- eng start -->\n",
    "Use the given instructions to verify the linear extension has the desired properties.  Let $U$ and $V$ be vector spaces and $\\beta = \\{ \\bu_1, \\ldots, \\bu_n \\}$ a basis of $U$.  Suppose $f: U\\rightarrow V$ is a linear function and $f(\\bu_1) = \\bv_1$, $\\ldots$, $f(\\bu_n) = \\bv_n$.  \n",
    "<!-- eng end -->"
   ]
  },
  {
   "cell_type": "markdown",
   "metadata": {},
   "source": [
    "##### Exercise 6(a)\n",
    "\n",
    "說明對任何 $\\beta$ 的線性組合﹐$f(c_1\\bu_1 + \\cdots + c_n\\bu_n)$ 必須是 $c_1\\bv_1 + \\cdots + c_n\\bv_n$。  \n",
    "\n",
    "<!-- eng start -->\n",
    "Explain why $f(c_1\\bu_1 + \\cdots + c_n\\bu_n)$ has to be $c_1\\bv_1 + \\cdots + c_n\\bv_n$.  \n",
    "<!-- eng end -->"
   ]
  },
  {
   "cell_type": "markdown",
   "metadata": {},
   "source": [
    "##### Exercise 6(b)\n",
    "\n",
    "說明 \n",
    "\n",
    "$$\n",
    "    f(c_1\\bu_1 + \\cdots + c_n\\bu_n) = c_1\\bv_1 + \\cdots + c_n\\bv_n\n",
    "$$\n",
    "\n",
    "這個公式是定義完善的函數。  \n",
    "（每個 $U$ 中的元素都有被定義到、  \n",
    "且線性組合的不同表示法不會造成任何問題。）  \n",
    "\n",
    "<!-- eng start -->\n",
    "Verify that  \n",
    "\n",
    "$$\n",
    "    f(c_1\\bu_1 + \\cdots + c_n\\bu_n) = c_1\\bv_1 + \\cdots + c_n\\bv_n\n",
    "$$\n",
    "\n",
    "is well-defined.  That is, check if $f$ is defined for every vector in $U$ and check if different representations of a vector in $U$ do not result in different function values.  \n",
    "<!-- eng end -->"
   ]
  },
  {
   "cell_type": "markdown",
   "metadata": {},
   "source": [
    "##### Exercise 6(c)\n",
    "\n",
    "說明 \n",
    "\n",
    "$$\n",
    "    f(c_1\\bu_1 + \\cdots + c_n\\bu_n) = c_1\\bv_1 + \\cdots + c_n\\bv_n\n",
    "$$\n",
    "\n",
    "這個公式是定義出來的函數是線性的。  \n",
    "\n",
    "<!-- eng start -->\n",
    "Verify that the function defined by  \n",
    "\n",
    "$$\n",
    "    f(c_1\\bu_1 + \\cdots + c_n\\bu_n) = c_1\\bv_1 + \\cdots + c_n\\bv_n\n",
    "$$\n",
    "\n",
    "is linear.  \n",
    "<!-- eng end -->"
   ]
  }
 ],
 "metadata": {
  "kernelspec": {
   "display_name": "SageMath 9.6",
   "language": "sage",
   "name": "sagemath"
  },
  "language_info": {
   "codemirror_mode": {
    "name": "ipython",
    "version": 3
   },
   "file_extension": ".py",
   "mimetype": "text/x-python",
   "name": "python",
   "nbconvert_exporter": "python",
   "pygments_lexer": "ipython3",
   "version": "3.10.6"
  }
 },
 "nbformat": 4,
 "nbformat_minor": 4
}
