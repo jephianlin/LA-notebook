{
 "cells": [
  {
   "cell_type": "markdown",
   "metadata": {},
   "source": [
    "# 線性函數"
   ]
  },
  {
   "cell_type": "markdown",
   "metadata": {},
   "source": [
    "![Creative Commons License](https://i.creativecommons.org/l/by/4.0/88x31.png)  \n",
    "This work by Jephian Lin is licensed under a [Creative Commons Attribution 4.0 International License](http://creativecommons.org/licenses/by/4.0/)."
   ]
  },
  {
   "cell_type": "code",
   "execution_count": null,
   "metadata": {},
   "outputs": [],
   "source": [
    "from lingeo import random_good_matrix, kernel_matrix"
   ]
  },
  {
   "cell_type": "markdown",
   "metadata": {},
   "source": [
    "## Main idea"
   ]
  },
  {
   "cell_type": "markdown",
   "metadata": {},
   "source": [
    "Let $U$ and $V$ be two vector spaces.  \n",
    "A function $f: U\\rightarrow V$ is **linear** if  \n",
    "$$\\begin{aligned} \n",
    " f({\\bf u}_1 + {\\bf u}_2) &= f({\\bf u}_1) + f({\\bf u}_2) \\\\\n",
    " f(k{\\bf u}) &= kf({\\bf u}) \\\\\n",
    "\\end{aligned}$$\n",
    "for any vectors ${\\bf u}, {\\bf u}_1, {\\bf u}_2\\in U$ and scalar $k\\in\\mathbb{R}$."
   ]
  },
  {
   "cell_type": "markdown",
   "metadata": {},
   "source": [
    "Let $f : U \\rightarrow V$ be a linear function.  \n",
    "The **kernel** of $f$ is $\\operatorname{ker}(f) = \\{{\\bf u}\\in U: f({\\bf u}) = {\\bf 0}\\}$.  \n",
    "Recall that $\\operatorname{range}(f) = \\{ f({\\bf u}) : {\\bf u}\\in U \\}$.  \n",
    "Indeed, $\\operatorname{ker}(f)$ is a subspace of $U$ and $\\operatorname{range}(f)$ is a subspace of $V$.  \n",
    "Thus, we define the **rank** of $f$ as $\\operatorname{rank}(f) = \\dim(\\operatorname{range}(f))$ and  \n",
    "the **nullity** of $f$ as $\\operatorname{null}(f) = \\dim(\\operatorname{ker}(f))$.  "
   ]
  },
  {
   "cell_type": "markdown",
   "metadata": {},
   "source": [
    "From the definition, $f$ is surjective if and only if $\\operatorname{range}(f) = V$, or, equivalently, $\\operatorname{rank}(f) = \\dim(V)$.  \n",
    "On the other hand, it is also known that $f$ is injective if and only if $\\operatorname{ker}(f) = \\{{\\bf 0}\\}$, or, equivalently, $\\operatorname{null}(f) = 0$.  "
   ]
  },
  {
   "cell_type": "markdown",
   "metadata": {},
   "source": [
    "Thanks to the structure of a linear function, the function values of a basis of $U$ is enough to determine the function.  \n",
    "Let $\\beta = \\{{\\bf u}_1, \\ldots, {\\bf u}_n\\}$ be a basis of $U$ and $f : U\\rightarrow V$ a linear function.  \n",
    "If $f({\\bf u}_1) = {\\bf v}_1$, $\\ldots$, $f({\\bf u}_n) = {\\bf v}_n$, then  \n",
    "$$f(c_1{\\bf u}_1 + \\cdots + c_n{\\bf u}_n) = c_1{\\bf v}_1 + \\cdots + c_n{\\bf v}_n$$\n",
    "is uniquely determined, since every vector ${\\bf u}$ can be written as a linear combinatoin $c_1{\\bf u}_1 + \\cdots + c_m{\\bf u}_m$ of $\\beta$ for some $c_1,\\ldots, c_n\\in\\mathbb{R}$.  "
   ]
  },
  {
   "cell_type": "markdown",
   "metadata": {},
   "source": [
    "## Side stories\n",
    "- basis of the range"
   ]
  },
  {
   "cell_type": "markdown",
   "metadata": {},
   "source": [
    "## Experiments"
   ]
  },
  {
   "cell_type": "markdown",
   "metadata": {},
   "source": [
    "##### Exercise 1\n",
    "\n",
    "執行以下程式碼。  \n",
    "假設已知 $f$ 為一從 $\\mathbb{R}^3$ 到 $\\mathbb{R}^4$ 的線性函數。  \n",
    "令 $\\beta = \\{{\\bf e}_1, {\\bf e}_2, {\\bf e}_3\\}$ 為 $I_3$ 的行向量集合﹐其為 $\\mathbb{R}^3$ 的基底。  "
   ]
  },
  {
   "cell_type": "code",
   "execution_count": null,
   "metadata": {
    "scrolled": false
   },
   "outputs": [],
   "source": [
    "### code\n",
    "set_random_seed(0)\n",
    "print_ans = False\n",
    "m,n,r = 4,3,2\n",
    "A = random_good_matrix(m,n,r)\n",
    "\n",
    "for i in range(n):\n",
    "    print(\"f(e%s) =\"%(i+1), A.column(i))\n",
    "\n",
    "if print_ans:\n",
    "    print(\"f(3e1 + 2e2) = 3f(e1) + 2f(e2) =\", 3*A.column(0) + 2*A.column(1))\n",
    "    print(\"To make f(u) = 0 for some nonzero u, one may choose u =\", kernel_matrix(A).column(0))\n",
    "    print(\"A =\")\n",
    "    show(A)"
   ]
  },
  {
   "cell_type": "markdown",
   "metadata": {},
   "source": [
    "##### Exercise 1(a)\n",
    "\n",
    "求 $f(3{\\bf e}_1 + 2{\\bf e}_2)$。  "
   ]
  },
  {
   "cell_type": "markdown",
   "metadata": {},
   "source": [
    "##### Exercise 1(b)\n",
    "\n",
    "求 $\\mathbb{R}^3$ 中的一個非零向量 ${\\bf u}$ 使得 $f({\\bf u}) = {\\bf 0}$。  "
   ]
  },
  {
   "cell_type": "markdown",
   "metadata": {},
   "source": [
    "##### Exercise 1(c)\n",
    "\n",
    "找一個矩陣 $A$ 使得對所有向量 ${\\bf u}\\in\\mathbb{R}^3$ 都有 $f({\\bf u}) = A{\\bf u}$。  "
   ]
  },
  {
   "cell_type": "markdown",
   "metadata": {},
   "source": [
    "## Exercises"
   ]
  },
  {
   "cell_type": "markdown",
   "metadata": {},
   "source": [
    "##### Exercise 2\n",
    "\n",
    "判斷以下函數是否線性。  "
   ]
  },
  {
   "cell_type": "markdown",
   "metadata": {},
   "source": [
    "##### Exercise 2(a)\n",
    "\n",
    "判斷 $f: \\mathbb{R}\\rightarrow\\mathbb{R}$ 且 $f(x) = 3x + 5$ 是否線性。  "
   ]
  },
  {
   "cell_type": "markdown",
   "metadata": {},
   "source": [
    "##### Exercise 2(b)\n",
    "\n",
    "判斷 $f: \\mathbb{R}\\rightarrow\\mathbb{R}$ 且 $f(x) = 3x$ 是否線性。  "
   ]
  },
  {
   "cell_type": "markdown",
   "metadata": {},
   "source": [
    "##### Exercise 2(c)\n",
    "\n",
    "判斷 $f: \\mathbb{R}\\rightarrow\\mathbb{R}$ 且 $f(x) = x^2$ 是否線性。  "
   ]
  },
  {
   "cell_type": "markdown",
   "metadata": {},
   "source": [
    "##### Exercise 2(d)\n",
    "\n",
    "判斷 $f: \\mathbb{R}^2\\rightarrow\\mathbb{R}$ 且 $f(x,y) = x^2 + y^2$ 是否線性。  "
   ]
  },
  {
   "cell_type": "markdown",
   "metadata": {},
   "source": [
    "##### Exercise 2(e)\n",
    "\n",
    "判斷 $f: \\mathbb{R}^2\\rightarrow\\mathbb{R}$ 且 $f(x,y) = 3x + 2y$ 是否線性。  "
   ]
  },
  {
   "cell_type": "markdown",
   "metadata": {},
   "source": [
    "##### Exercise 2(f)\n",
    "\n",
    "判斷 $f: \\mathbb{R}^2\\rightarrow\\mathbb{R}$ 且 $f(x,y) = 3x + 2y + 1$ 是否線性。  "
   ]
  },
  {
   "cell_type": "markdown",
   "metadata": {},
   "source": [
    "##### Exercise 3\n",
    "\n",
    "令 ${\\bf u}_1, {\\bf u}_2, {\\bf u}_3$ 為 $U$ 中的向量﹐  \n",
    "已知 $f$ 為從 $U$ 到 $\\mathbb{R}^4$ 的線性函數且  \n",
    "$$\\begin{aligned}\n",
    " f({\\bf u}_1) &= (1,1,1,1) \\\\\n",
    " f({\\bf u}_2) &= (1,2,3,4) \\\\\n",
    " f({\\bf u}_3) &= (4,3,2,1) \\\\\n",
    "\\end{aligned}$$\n",
    "求 $f(3{\\bf u}_1 + 2{\\bf u}_2 + 2{\\bf u}_3)$。  "
   ]
  },
  {
   "cell_type": "markdown",
   "metadata": {},
   "source": [
    "##### Exercise 4\n",
    "\n",
    "令 $f: U\\rightarrow V$ 為一線性函數。  \n",
    "證明以下敘述等價：  \n",
    "1. $f$ is injective.  \n",
    "2. $\\operatorname{ker}(f) = \\{ {\\bf 0} \\}$.  \n",
    "3. $\\operatorname{null}(f) = 0$.  "
   ]
  },
  {
   "cell_type": "markdown",
   "metadata": {},
   "source": [
    "##### Exercise 5\n",
    "\n",
    "嵌射顧名思義有點像是把定義域嵌入到對應域之中﹐所以很多性質都會被保留下來。  "
   ]
  },
  {
   "cell_type": "markdown",
   "metadata": {},
   "source": [
    "##### Exercise 5(a)\n",
    "\n",
    "令 $f: U\\rightarrow V$ 為一線性函數。  \n",
    "證明若 $f$ 是嵌射且  \n",
    "$\\alpha = \\{{\\bf u}_1,\\ldots,{\\bf u}_k\\}$ 為 $U$ 中的一線性獨立集﹐  \n",
    "則 $f(\\alpha)$ 是 $V$ 中的一線性獨立集。  "
   ]
  },
  {
   "cell_type": "markdown",
   "metadata": {},
   "source": [
    "##### Exercise 5(b)\n",
    "\n",
    "令 $f: U\\rightarrow V$ 為一線性函數。  \n",
    "證明若 $f$ 是嵌射且  \n",
    "$\\alpha = \\{{\\bf u}_1,\\ldots,{\\bf u}_k\\}$ 為 $U$ 的一組基底﹐  \n",
    "則 $f(\\alpha)$ 是 $\\operatorname{range}(f)$ 的一組基底。  "
   ]
  },
  {
   "cell_type": "markdown",
   "metadata": {},
   "source": [
    "##### Exercise 6\n",
    "\n",
    "依照步驟確認線性擴充出來的函數符合我們要的性質。  \n",
    "令 $U$ 和 $V$ 為兩向量空間  \n",
    "且 $\\beta = \\{ {\\bf u}_1, \\ldots, {\\bf u}_n \\}$ 為 $U$ 的一組基底。  \n",
    "若 $f : U \\rightarrow V$ 是一個線性函數  \n",
    "且已知 $f({\\bf u}_1) = {\\bf w}_1$, $\\ldots$, $f({\\bf u}_n) = {\\bf w}_n$。  "
   ]
  },
  {
   "cell_type": "markdown",
   "metadata": {},
   "source": [
    "##### Exercise 6(a)\n",
    "\n",
    "說明對任何 $\\beta$ 的線性組合﹐$f(c_1{\\bf u}_1 + \\cdots + c_n{\\bf u}_n)$ 必須是 $c_1{\\bf v}_1 + \\cdots + c_n{\\bf v}_n$。  "
   ]
  },
  {
   "cell_type": "markdown",
   "metadata": {},
   "source": [
    "##### Exercise 6(b)\n",
    "\n",
    "說明 \n",
    "$$f(c_1{\\bf u}_1 + \\cdots + c_n{\\bf u}_n) = c_1{\\bf v}_1 + \\cdots + c_n{\\bf v}_n$$\n",
    "這個公式是定義完善的函數。  \n",
    "（每個 $U$ 中的元素都有被定義到、  \n",
    "且線性組合的不同表示法不會造成任何問題。）  "
   ]
  },
  {
   "cell_type": "markdown",
   "metadata": {},
   "source": [
    "##### Exercise 6(c)\n",
    "\n",
    "說明 \n",
    "$$f(c_1{\\bf u}_1 + \\cdots + c_n{\\bf u}_n) = c_1{\\bf v}_1 + \\cdots + c_n{\\bf v}_n$$\n",
    "這個公式是定義出來的函數是線性的。  "
   ]
  }
 ],
 "metadata": {
  "kernelspec": {
   "display_name": "SageMath 9.0",
   "language": "sage",
   "name": "sagemath"
  },
  "language_info": {
   "codemirror_mode": {
    "name": "ipython",
    "version": 3
   },
   "file_extension": ".py",
   "mimetype": "text/x-python",
   "name": "python",
   "nbconvert_exporter": "python",
   "pygments_lexer": "ipython3",
   "version": "3.8.10"
  }
 },
 "nbformat": 4,
 "nbformat_minor": 4
}
