{
 "cells": [
  {
   "cell_type": "markdown",
   "metadata": {},
   "source": [
    "# Sage: 矩陣、線性方程組\n",
    "\n",
    "Sage: Matrices and linear equations"
   ]
  },
  {
   "cell_type": "markdown",
   "metadata": {},
   "source": [
    "![Creative Commons License](https://i.creativecommons.org/l/by/4.0/88x31.png)  \n",
    "This work by Jephian Lin is licensed under a [Creative Commons Attribution 4.0 International License](http://creativecommons.org/licenses/by/4.0/)."
   ]
  },
  {
   "cell_type": "markdown",
   "metadata": {},
   "source": [
    "$\\newcommand{\\trans}{^\\top}\n",
    "\\newcommand{\\adj}{^{\\rm adj}}\n",
    "\\newcommand{\\cof}{^{\\rm cof}}\n",
    "\\newcommand{\\inp}[2]{\\left\\langle#1,#2\\right\\rangle}\n",
    "\\newcommand{\\dunion}{\\mathbin{\\dot\\cup}}\n",
    "\\newcommand{\\bzero}{\\mathbf{0}}\n",
    "\\newcommand{\\bone}{\\mathbf{1}}\n",
    "\\newcommand{\\ba}{\\mathbf{a}}\n",
    "\\newcommand{\\bb}{\\mathbf{b}}\n",
    "\\newcommand{\\bc}{\\mathbf{c}}\n",
    "\\newcommand{\\bd}{\\mathbf{d}}\n",
    "\\newcommand{\\be}{\\mathbf{e}}\n",
    "\\newcommand{\\bh}{\\mathbf{h}}\n",
    "\\newcommand{\\bp}{\\mathbf{p}}\n",
    "\\newcommand{\\bq}{\\mathbf{q}}\n",
    "\\newcommand{\\br}{\\mathbf{r}}\n",
    "\\newcommand{\\bx}{\\mathbf{x}}\n",
    "\\newcommand{\\by}{\\mathbf{y}}\n",
    "\\newcommand{\\bz}{\\mathbf{z}}\n",
    "\\newcommand{\\bu}{\\mathbf{u}}\n",
    "\\newcommand{\\bv}{\\mathbf{v}}\n",
    "\\newcommand{\\bw}{\\mathbf{w}}\n",
    "\\newcommand{\\tr}{\\operatorname{tr}}\n",
    "\\newcommand{\\nul}{\\operatorname{null}}\n",
    "\\newcommand{\\rank}{\\operatorname{rank}}\n",
    "%\\newcommand{\\ker}{\\operatorname{ker}}\n",
    "\\newcommand{\\range}{\\operatorname{range}}\n",
    "\\newcommand{\\Col}{\\operatorname{Col}}\n",
    "\\newcommand{\\Row}{\\operatorname{Row}}\n",
    "\\newcommand{\\spec}{\\operatorname{spec}}\n",
    "\\newcommand{\\vspan}{\\operatorname{span}}\n",
    "\\newcommand{\\Vol}{\\operatorname{Vol}}\n",
    "\\newcommand{\\sgn}{\\operatorname{sgn}}\n",
    "\\newcommand{\\idmap}{\\operatorname{id}}\n",
    "\\newcommand{\\am}{\\operatorname{am}}\n",
    "\\newcommand{\\gm}{\\operatorname{gm}}\n",
    "\\newcommand{\\mult}{\\operatorname{mult}}\n",
    "\\newcommand{\\iner}{\\operatorname{iner}}$"
   ]
  },
  {
   "cell_type": "markdown",
   "metadata": {},
   "source": [
    "## 建構矩陣\n",
    "\n",
    "Construct a matrix"
   ]
  },
  {
   "cell_type": "markdown",
   "metadata": {},
   "source": [
    "1. `matrix( list of lists )`：把 `list of lists` 中的每個 `list` 當作矩陣的列。    \n",
    "2. `matrix(r, list)`：把 `list` 切成 `r` 個列。\n",
    "3. `identity_matrix(n)`：單位矩陣。  \n",
    "4. `zero_matrix(n)` or `zero_matrix(m,n)`：全零矩陣。\n",
    "\n",
    "利用 `print`（純文字）或 `show`（格式化文字）來顯示矩陣。  \n",
    "\n",
    "<!-- eng start -->\n",
    "1. `matrix( list of lists )`: return the matrix whose rows are the `lists` in `list of lists` .  \n",
    "2. `matrix(r, list)`: split `list` into `r` rows and return the matrix.  \n",
    "3. `identity_matrix(n)`: the identity matrix.    \n",
    "4. `zero_matrix(n)` or `zero_matrix(m,n)`: the zero matrix.  \n",
    "\n",
    "You may use `print` (pure text) or `show` (formatted output) to display the matrix.  \n",
    "<!-- eng end -->"
   ]
  },
  {
   "cell_type": "code",
   "execution_count": null,
   "metadata": {},
   "outputs": [],
   "source": [
    "A = matrix([[1,2,3], \n",
    "            [4,5,6]])\n",
    "print(A)"
   ]
  },
  {
   "cell_type": "code",
   "execution_count": null,
   "metadata": {},
   "outputs": [],
   "source": [
    "A = matrix(2, [1,2,3,4,5,6])\n",
    "show(A)"
   ]
  },
  {
   "cell_type": "code",
   "execution_count": null,
   "metadata": {},
   "outputs": [],
   "source": [
    "A = identity_matrix(3)\n",
    "# A = zero_matrix(3)\n",
    "# A = zero_matrix(3,4)\n",
    "show(A)"
   ]
  },
  {
   "cell_type": "markdown",
   "metadata": {},
   "source": [
    "## 從矩陣中選取各項或子矩陣\n",
    "\n",
    "Select an entry or a submatrix from a matrix"
   ]
  },
  {
   "cell_type": "markdown",
   "metadata": {},
   "source": [
    "若 `A` 是一個矩陣。  \n",
    "\n",
    "1. `A[i,j]`：選取第 `ij` 項。  \n",
    "2. `A[list1, list2]`：選取列在 `list1` 中、行在 `list2` 中的子矩陣。\n",
    "\n",
    "也可以混合使用﹐如 `A[i, list]` 或 `A[list, j]`。\n",
    "\n",
    "<!-- eng start -->\n",
    "Suppose `A` is a matrix.  \n",
    "\n",
    "1. `A[i,j]`: return the `ij`-entry.  \n",
    "2. `A[list1, list2]`: return the submatrix induced on rows in `list1` and columns in `list2` .\n",
    "\n",
    "You may mix the two usages, such as `A[i, list]` or `A[list, j]` .  \n",
    "<!-- eng end -->"
   ]
  },
  {
   "cell_type": "code",
   "execution_count": null,
   "metadata": {},
   "outputs": [],
   "source": [
    "A = matrix(2, [1,2,3,4,5,6])\n",
    "show(A)\n",
    "print(A[0,1])\n",
    "show(A[[0,1],[1,2]])"
   ]
  },
  {
   "cell_type": "markdown",
   "metadata": {},
   "source": [
    "選取子矩陣中 `list` 的可以用 `a:b` 的格式取代。  \n",
    "\n",
    "1. `a:b`：從 `a` 到 `b`（不包含 `b`）。  \n",
    "2. `a:`：從 `a` 到底。  \n",
    "3. `:b`：從頭到 `b`（不包含 `b`）。  \n",
    "4. `:`：全部。  \n",
    "\n",
    "<!-- eng start -->\n",
    "The `list` used for selecting the submatrix can be replaced by `a:b` .  \n",
    "\n",
    "1. `a:b`: from `a` to `b` (excluding `b`).  \n",
    "2. `a:`: from `a` to the end.  \n",
    "3. `:b`: from the beginning to `b`.  \n",
    "4. `:`: all.  \n",
    "<!-- eng end -->"
   ]
  },
  {
   "cell_type": "code",
   "execution_count": null,
   "metadata": {},
   "outputs": [],
   "source": [
    "A = matrix(2, [1,2,3,4,5,6])\n",
    "show(A[:,1:])"
   ]
  },
  {
   "cell_type": "markdown",
   "metadata": {},
   "source": [
    "可以把選出來的子矩陣設定成給定的矩陣。  \n",
    "\n",
    "<!-- eng start -->\n",
    "You may assign new values to the selected submatrix.  \n",
    "<!-- eng end -->"
   ]
  },
  {
   "cell_type": "code",
   "execution_count": null,
   "metadata": {},
   "outputs": [],
   "source": [
    "A = zero_matrix(2,3)\n",
    "show(A)\n",
    "A[0,0] = 100\n",
    "show(A)\n",
    "A[:,1:] = identity_matrix(2)\n",
    "show(A)"
   ]
  },
  {
   "cell_type": "markdown",
   "metadata": {},
   "source": [
    "## 求解\n",
    "\n",
    "Finding the solution(s)"
   ]
  },
  {
   "cell_type": "markdown",
   "metadata": {},
   "source": [
    "若 `A` 為一矩陣﹐可以用  \n",
    "\n",
    "1. `A.right_kernel()` 或\n",
    "2. `A.right_kernel().basis_matrix()`\n",
    "\n",
    "來找到零解的基底。\n",
    "\n",
    "<!-- eng start -->\n",
    "Let `A` be a matrix.  You may use \n",
    "\n",
    "1. `A.right_kernel()` or\n",
    "2. `A.right_kernel().basis_matrix()`\n",
    "\n",
    "to find a basis of the homogeneous solutions.  \n",
    "<!-- eng end -->"
   ]
  },
  {
   "cell_type": "code",
   "execution_count": null,
   "metadata": {},
   "outputs": [],
   "source": [
    "A = matrix(2, [1]*6)\n",
    "show(A)\n",
    "print(A.right_kernel())\n",
    "show(A.right_kernel().basis_matrix())"
   ]
  },
  {
   "cell_type": "markdown",
   "metadata": {},
   "source": [
    "可以用 `vector([list])` 來設定向量。  \n",
    "若 `A` 是矩陣而 `b` 是向量﹐  \n",
    "則 `A \\ b` 會給出一組解。  \n",
    "（也可以用 `A.solve_right(b)`。）  \n",
    "\n",
    "<!-- eng start -->\n",
    "Use `vector([list])` to construct a vector.  If `A` is a matrix and `b` is a vector, then `A \\ b` returns a solution.  (Equivalently, `A.solve_right(b)` has the same effect.)  \n",
    "<!-- eng end -->"
   ]
  },
  {
   "cell_type": "code",
   "execution_count": null,
   "metadata": {},
   "outputs": [],
   "source": [
    "A = matrix(2, [1]*6)\n",
    "b = vector([1,1])\n",
    "show(A)\n",
    "print(b)\n",
    "print(A \\ b)\n",
    "print(A.solve_right(b))"
   ]
  },
  {
   "cell_type": "markdown",
   "metadata": {},
   "source": [
    "## 最簡階梯形式矩陣、增廣矩陣\n",
    "\n",
    "Reduced echelon form and augmenting matrix"
   ]
  },
  {
   "cell_type": "markdown",
   "metadata": {},
   "source": [
    "若 `A` 為一矩陣﹐則 `A.rref()` 會回傳其最簡階梯形式矩陣。\n",
    "\n",
    "<!-- eng start -->\n",
    "Let `A` be a matrix.  Then `A.rref()` returns its reduced echelon form.  \n",
    "<!-- eng end -->"
   ]
  },
  {
   "cell_type": "code",
   "execution_count": null,
   "metadata": {},
   "outputs": [],
   "source": [
    "A = matrix(3, list(range(12)))\n",
    "show(A)\n",
    "show(A.rref())"
   ]
  },
  {
   "cell_type": "markdown",
   "metadata": {},
   "source": [
    "若 `A` 為一矩陣而 `b` 為一向量﹐則 `A.augment(b)` 會回傳相對應的增廣矩陣。  \n",
    "\n",
    "<!-- eng start -->\n",
    "Let `A` be a matrix and `b` a vector.  Then `A.augment(b)` returns their augmenting matrix.  \n",
    "<!-- eng end -->"
   ]
  },
  {
   "cell_type": "code",
   "execution_count": null,
   "metadata": {},
   "outputs": [],
   "source": [
    "A = matrix(3, list(range(12)))\n",
    "b = vector([1,5,9])\n",
    "Ab = A.augment(b)\n",
    "show(Ab)\n",
    "Ab = A.augment(b, subdivide=True)\n",
    "show(Ab)"
   ]
  },
  {
   "cell_type": "markdown",
   "metadata": {},
   "source": [
    "可以用以下函數對矩陣（或增廣矩陣）`A` 執行列運算。  \n",
    "\n",
    "1. `A.swap_rows(i,j)` .\n",
    "2. `A.rescale(i, k)` .\n",
    "3. `A.add_multiple_of_row(i, j, k)` .  \n",
    "\n",
    "注意這些函數會直接修改矩陣本身而不會回傳任何矩陣。\n",
    "\n",
    "<!-- eng start -->\n",
    "Apply the row operation to a matrix (or an augmenting matrix) `A` by the following functions.  \n",
    "\n",
    "1. `A.swap_rows(i,j)` .\n",
    "2. `A.rescale(i, k)` .\n",
    "3. `A.add_multiple_of_row(i, j, k)` .  \n",
    "\n",
    "Notice that these functions update the matrix itself and do not return any matrix.  \n",
    "<!-- eng end -->"
   ]
  },
  {
   "cell_type": "code",
   "execution_count": null,
   "metadata": {},
   "outputs": [],
   "source": [
    "A = matrix(3, list(range(12)))\n",
    "show(A)\n",
    "print(A.swap_rows(0,1))\n",
    "show(A)"
   ]
  },
  {
   "cell_type": "markdown",
   "metadata": {},
   "source": [
    "## 反矩陣\n",
    "\n",
    "Inverse matrix"
   ]
  },
  {
   "cell_type": "markdown",
   "metadata": {},
   "source": [
    "若 `A` 和 `B` 都是矩陣﹐則 `A.augment(B)` 也可以建立其相對應的增廣矩陣。  \n",
    "藉此可以計算反矩陣。  \n",
    "\n",
    "<!-- eng start -->\n",
    "Let `A` and `B` be matrices.  Then `A.augment(B)` also returns the corresponding augmenting matrix.  We may use it to compute the inverse.  \n",
    "<!-- eng end -->"
   ]
  },
  {
   "cell_type": "code",
   "execution_count": null,
   "metadata": {},
   "outputs": [],
   "source": [
    "A = matrix([[1,1,1], \n",
    "            [1,2,4], \n",
    "            [1,3,9]])\n",
    "I3 = identity_matrix(3)\n",
    "AI = A.augment(I3, subdivide=True)\n",
    "show(AI)\n",
    "IB = AI.rref()\n",
    "show(IB)\n",
    "B = IB[:,3:]\n",
    "show(A * B)"
   ]
  },
  {
   "cell_type": "markdown",
   "metadata": {},
   "source": [
    "若 `A` 是方陣﹐  \n",
    "\n",
    "1. `A.is_invertible()` 可以判斷其是否可逆﹐  \n",
    "2. `A.inverse()` 會求出它的逆矩陣。\n",
    "\n",
    "<!-- eng start -->\n",
    "Suppose `A` is a square matrix.  Then \n",
    "\n",
    "1. `A.is_invertible()` determines if `A` is invertible, and   \n",
    "2. `A.inverse()` returns the inverse of `A` .  \n",
    "<!-- eng end -->"
   ]
  },
  {
   "cell_type": "code",
   "execution_count": null,
   "metadata": {},
   "outputs": [],
   "source": [
    "A = matrix([[1,1,1], \n",
    "            [1,2,4], \n",
    "            [1,3,9]])\n",
    "print(A.is_invertible())\n",
    "show(A.inverse())"
   ]
  },
  {
   "cell_type": "markdown",
   "metadata": {},
   "source": [
    "## 四大基礎子空間的標準基底\n",
    "\n",
    "The standard bases of the four fundamental subspaces"
   ]
  },
  {
   "cell_type": "markdown",
   "metadata": {},
   "source": [
    "`lingeo` 是為這份教材所寫的函式庫。  \n",
    "其內容包含在 `lingeo.py` 裡。  \n",
    "可以用  \n",
    "\n",
    "```python\n",
    "from lingeo import random_good_matrix\n",
    "```\n",
    "\n",
    "來匯入須要的函數。  \n",
    "\n",
    "<!-- eng start -->\n",
    "`lingeo` is a library written for LA-notebook.  Its content can be found in `lingeo.py` , and you may use the syntax like  \n",
    "\n",
    "```python\n",
    "from lingeo import random_good_matrix\n",
    "```\n",
    "\n",
    "to import the necessary functions.  \n",
    "<!-- eng end -->"
   ]
  },
  {
   "cell_type": "code",
   "execution_count": null,
   "metadata": {},
   "outputs": [],
   "source": [
    "from lingeo import random_good_matrix\n",
    "from lingeo import row_space_matrix, column_space_matrix, kernel_matrix, left_kernel_matrix"
   ]
  },
  {
   "cell_type": "markdown",
   "metadata": {},
   "source": [
    "若 `A` 為一矩陣﹐則  \n",
    "\n",
    "1. `row_space_matrix(A)` 的列是由 $\\beta_R$ 組成、  \n",
    "2. `kernel_matrix(A)` 的行是由 $\\beta_K$ 組成、  \n",
    "3. `column_space_matrix(A)` 的行是由 $\\beta_C$ 組成、  \n",
    "4. `left_kernel_matrix(A)` 的列是由 $\\beta_L$ 組成。  \n",
    "\n",
    "<!-- eng start -->\n",
    "Let `A` be a matrix.  Then \n",
    "\n",
    "1. `row_space_matrix(A)` is the matrix whose rows are vectors in $\\beta_R$,  \n",
    "2. `kernel_matrix(A)` is the matrix whose columns are vectors in $\\beta_K$,  \n",
    "3. `column_space_matrix(A)` is the matrix whose columns are vectors in $\\beta_C$, and  \n",
    "4. `left_kernel_matrix(A)` is the matrix whose rows are vectors in $\\beta_L$.  \n",
    "<!-- eng end -->"
   ]
  },
  {
   "cell_type": "code",
   "execution_count": null,
   "metadata": {},
   "outputs": [],
   "source": [
    "m,n,r = 3,5,2\n",
    "A = random_good_matrix(m,n,r)\n",
    "show(A)\n",
    "\n",
    "print(\"row space matrix:\")\n",
    "show(row_space_matrix(A))\n",
    "\n",
    "print(\"kernel matrix:\")\n",
    "show(kernel_matrix(A))"
   ]
  },
  {
   "cell_type": "code",
   "execution_count": null,
   "metadata": {},
   "outputs": [],
   "source": [
    "m,n,r = 3,5,2\n",
    "A = random_good_matrix(m,n,r)\n",
    "show(A)\n",
    "\n",
    "print(\"column space matrix:\")\n",
    "show(column_space_matrix(A))\n",
    "\n",
    "print(\"left kernel matrix:\")\n",
    "show(left_kernel_matrix(A))"
   ]
  }
 ],
 "metadata": {
  "kernelspec": {
   "display_name": "SageMath 9.6",
   "language": "sage",
   "name": "sagemath"
  },
  "language_info": {
   "codemirror_mode": {
    "name": "ipython",
    "version": 3
   },
   "file_extension": ".py",
   "mimetype": "text/x-python",
   "name": "python",
   "nbconvert_exporter": "python",
   "pygments_lexer": "ipython3",
   "version": "3.10.5"
  }
 },
 "nbformat": 4,
 "nbformat_minor": 4
}
