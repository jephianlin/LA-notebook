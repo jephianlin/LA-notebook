{
 "cells": [
  {
   "cell_type": "markdown",
   "metadata": {},
   "source": [
    "# Sage: 矩陣、線性方程組"
   ]
  },
  {
   "cell_type": "markdown",
   "metadata": {},
   "source": [
    "![Creative Commons License](https://i.creativecommons.org/l/by/4.0/88x31.png)  \n",
    "This work by Jephian Lin is licensed under a [Creative Commons Attribution 4.0 International License](http://creativecommons.org/licenses/by/4.0/)."
   ]
  },
  {
   "cell_type": "markdown",
   "metadata": {},
   "source": [
    "## 建構矩陣"
   ]
  },
  {
   "cell_type": "markdown",
   "metadata": {},
   "source": [
    "1. `matrix( list of lists )`：把 `list of lists` 中的每個 `list` 當作矩陣的列。    \n",
    "2. `matrix(r, list)`：把 `list` 切成 `r` 個列。\n",
    "3. `identity_matrix(n)`：單位矩陣。  \n",
    "4. `zero_matrix(n)` or `zero_matrix(m,n)`：全零矩陣。\n",
    "\n",
    "利用 `print`（純文字）或 `show`（格式化文字）來顯示矩陣。  "
   ]
  },
  {
   "cell_type": "code",
   "execution_count": null,
   "metadata": {},
   "outputs": [],
   "source": [
    "A = matrix([[1,2,3], \n",
    "            [4,5,6]])\n",
    "print(A)"
   ]
  },
  {
   "cell_type": "code",
   "execution_count": null,
   "metadata": {},
   "outputs": [],
   "source": [
    "A = matrix(2, [1,2,3,4,5,6])\n",
    "show(A)"
   ]
  },
  {
   "cell_type": "code",
   "execution_count": null,
   "metadata": {},
   "outputs": [],
   "source": [
    "A = identity_matrix(3)\n",
    "# A = zero_matrix(3)\n",
    "# A = zero_matrix(3,4)\n",
    "show(A)"
   ]
  },
  {
   "cell_type": "markdown",
   "metadata": {},
   "source": [
    "## 從矩陣中選取各項或子矩陣"
   ]
  },
  {
   "cell_type": "markdown",
   "metadata": {},
   "source": [
    "若 `A` 是一個矩陣。  \n",
    "1. `A[i,j]`：選取第 `ij` 項。  \n",
    "2. `A[list1, list2]`：選取列在 中行在 中的子矩陣。\n",
    "\n",
    "也可以混合使用﹐如 `A[i, list]` 或 `A[list, j]`。"
   ]
  },
  {
   "cell_type": "code",
   "execution_count": null,
   "metadata": {},
   "outputs": [],
   "source": [
    "A = matrix(2, [1,2,3,4,5,6])\n",
    "show(A)\n",
    "print(A[0,1])\n",
    "show(A[[0,1],[1,2]])"
   ]
  },
  {
   "cell_type": "markdown",
   "metadata": {},
   "source": [
    "選取子矩陣中 `list` 的可以用 `a:b` 的格式取代。  \n",
    "1. `a:b`：從 `a` 到 `b`（不包含 `b`）。  \n",
    "2. `a:`：從 `a` 到底。  \n",
    "3. `:b`：從頭到 `b`（不包含 `b`）。  \n",
    "4. `:`：全部。  "
   ]
  },
  {
   "cell_type": "code",
   "execution_count": null,
   "metadata": {},
   "outputs": [],
   "source": [
    "A = matrix(2, [1,2,3,4,5,6])\n",
    "show(A[:,1:])"
   ]
  },
  {
   "cell_type": "markdown",
   "metadata": {},
   "source": [
    "可以把選出來的子矩陣設定成給定的矩陣。  "
   ]
  },
  {
   "cell_type": "code",
   "execution_count": null,
   "metadata": {},
   "outputs": [],
   "source": [
    "A = zero_matrix(2,3)\n",
    "show(A)\n",
    "A[0,0] = 100\n",
    "show(A)\n",
    "A[:,1:] = identity_matrix(2)\n",
    "show(A)"
   ]
  },
  {
   "cell_type": "markdown",
   "metadata": {},
   "source": [
    "## 求解"
   ]
  },
  {
   "cell_type": "markdown",
   "metadata": {},
   "source": [
    "若 `A` 為一矩陣﹐可以用  \n",
    "1. `A.right_kernel()` 或\n",
    "2. `A.right_kernel().basis_matrix()`\n",
    "\n",
    "來找到零解的基底。"
   ]
  },
  {
   "cell_type": "code",
   "execution_count": null,
   "metadata": {},
   "outputs": [],
   "source": [
    "A = matrix(2, [1]*6)\n",
    "show(A)\n",
    "print(A.right_kernel())\n",
    "show(A.right_kernel().basis_matrix())"
   ]
  },
  {
   "cell_type": "markdown",
   "metadata": {},
   "source": [
    "可以用 `vector([list])` 來設定向量。  \n",
    "若 `A` 是矩陣而 `b` 是向量﹐  \n",
    "則 `A \\ b` 會給出一組解。  \n",
    "（也可以用 `A.solve_right(b)`。）  "
   ]
  },
  {
   "cell_type": "code",
   "execution_count": null,
   "metadata": {},
   "outputs": [],
   "source": [
    "A = matrix(2, [1]*6)\n",
    "b = vector([1,1])\n",
    "show(A)\n",
    "print(b)\n",
    "print(A \\ b)\n",
    "print(A.solve_right(b))"
   ]
  },
  {
   "cell_type": "markdown",
   "metadata": {},
   "source": [
    "## 最簡階梯形式矩陣、增廣矩陣"
   ]
  },
  {
   "cell_type": "markdown",
   "metadata": {},
   "source": [
    "若 `A` 為一矩陣﹐則 `A.rref()` 會回傳其最簡階梯形式矩陣。"
   ]
  },
  {
   "cell_type": "code",
   "execution_count": null,
   "metadata": {},
   "outputs": [],
   "source": [
    "A = matrix(3, list(range(12)))\n",
    "show(A)\n",
    "show(A.rref())"
   ]
  },
  {
   "cell_type": "markdown",
   "metadata": {},
   "source": [
    "若 `A` 為一矩陣而 `b` 為一向量﹐則 `A.augment(b)` 會回傳相對應的增廣矩陣。  "
   ]
  },
  {
   "cell_type": "code",
   "execution_count": null,
   "metadata": {},
   "outputs": [],
   "source": [
    "A = matrix(3, list(range(12)))\n",
    "b = vector([1,5,9])\n",
    "Ab = A.augment(b)\n",
    "show(Ab)\n",
    "Ab = A.augment(b, subdivide=True)\n",
    "show(Ab)"
   ]
  },
  {
   "cell_type": "markdown",
   "metadata": {},
   "source": [
    "可以用以下函數對矩陣（或增廣矩陣）`A` 執行列運算。  \n",
    "1. `A.swap_rows(i,j)` .\n",
    "2. `A.rescale(i, k)` .\n",
    "3. `A.add_multiple_of_row(i, j, k)` .  \n",
    "\n",
    "注意這些函數會直接修改矩陣本身而不會回傳任何矩陣。"
   ]
  },
  {
   "cell_type": "code",
   "execution_count": null,
   "metadata": {},
   "outputs": [],
   "source": [
    "A = matrix(3, list(range(12)))\n",
    "show(A)\n",
    "print(A.swap_rows(0,1))\n",
    "show(A)"
   ]
  },
  {
   "cell_type": "markdown",
   "metadata": {},
   "source": [
    "## 反矩陣"
   ]
  },
  {
   "cell_type": "markdown",
   "metadata": {},
   "source": [
    "若 `A` 和 `B` 都是矩陣﹐則 `A.augment(B)` 也可以建立其相對應的增廣矩陣。  \n",
    "藉此可以計算反矩陣。  "
   ]
  },
  {
   "cell_type": "code",
   "execution_count": null,
   "metadata": {},
   "outputs": [],
   "source": [
    "A = matrix([[1,1,1], \n",
    "            [1,2,4], \n",
    "            [1,3,9]])\n",
    "I3 = identity_matrix(3)\n",
    "AI = A.augment(I3, subdivide=True)\n",
    "show(AI)\n",
    "IB = AI.rref()\n",
    "show(IB)\n",
    "B = IB[:,3:]\n",
    "show(A * B)"
   ]
  },
  {
   "cell_type": "markdown",
   "metadata": {},
   "source": [
    "若 `A` 是方陣﹐  \n",
    "1. `A.is_invertible()` 可以判斷其是否可逆﹐  \n",
    "2. `A.inverse()` 會求出它的逆矩陣。"
   ]
  },
  {
   "cell_type": "code",
   "execution_count": null,
   "metadata": {},
   "outputs": [],
   "source": [
    "A = matrix([[1,1,1], \n",
    "            [1,2,4], \n",
    "            [1,3,9]])\n",
    "print(A.is_invertible())\n",
    "show(A.inverse())"
   ]
  },
  {
   "cell_type": "markdown",
   "metadata": {},
   "source": [
    "## 四大基礎子空間的標準基底"
   ]
  },
  {
   "cell_type": "markdown",
   "metadata": {},
   "source": [
    "`lingeo` 是為這份教材所寫的函式庫。  \n",
    "其內容包含在 `lingeo.py` 裡。  \n",
    "可以用  \n",
    "```python\n",
    "from lingeo import random_good_matrix\n",
    "```\n",
    "來匯入須要的函數。  "
   ]
  },
  {
   "cell_type": "code",
   "execution_count": null,
   "metadata": {},
   "outputs": [],
   "source": [
    "from lingeo import random_good_matrix\n",
    "from lingeo import row_space_matrix, column_space_matrix, kernel_matrix, left_kernel_matrix"
   ]
  },
  {
   "cell_type": "markdown",
   "metadata": {},
   "source": [
    "若 `A` 為一矩陣﹐則  \n",
    "1. `row_space_matrix(A)` 的列是由 $\\beta_R$ 組成、  \n",
    "2. `kernel_matrix(A)` 的行是由 $\\beta_K$ 組成、  \n",
    "3. `column_space_matrix(A)` 的行是由 $\\beta_C$ 組成、  \n",
    "4. `left_kernel_matrix(A)` 的列是由 $\\beta_L$ 組成。  "
   ]
  },
  {
   "cell_type": "code",
   "execution_count": null,
   "metadata": {},
   "outputs": [],
   "source": [
    "m,n,r = 3,5,2\n",
    "A = random_good_matrix(m,n,r)\n",
    "show(A)\n",
    "\n",
    "print(\"row space matrix:\")\n",
    "show(row_space_matrix(A))\n",
    "\n",
    "print(\"kernel matrix:\")\n",
    "show(kernel_matrix(A))"
   ]
  },
  {
   "cell_type": "code",
   "execution_count": null,
   "metadata": {},
   "outputs": [],
   "source": [
    "m,n,r = 3,5,2\n",
    "A = random_good_matrix(m,n,r)\n",
    "show(A)\n",
    "\n",
    "print(\"column space matrix:\")\n",
    "show(column_space_matrix(A))\n",
    "\n",
    "print(\"left kernel matrix:\")\n",
    "show(left_kernel_matrix(A))"
   ]
  }
 ],
 "metadata": {
  "kernelspec": {
   "display_name": "SageMath 9.4",
   "language": "sage",
   "name": "sagemath"
  },
  "language_info": {
   "codemirror_mode": {
    "name": "ipython",
    "version": 3
   },
   "file_extension": ".py",
   "mimetype": "text/x-python",
   "name": "python",
   "nbconvert_exporter": "python",
   "pygments_lexer": "ipython3",
   "version": "3.10.1"
  }
 },
 "nbformat": 4,
 "nbformat_minor": 4
}
