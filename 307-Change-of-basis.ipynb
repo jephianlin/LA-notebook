{
 "cells": [
  {
   "cell_type": "markdown",
   "metadata": {},
   "source": [
    "# 基底轉換"
   ]
  },
  {
   "cell_type": "markdown",
   "metadata": {},
   "source": [
    "![Creative Commons License](https://i.creativecommons.org/l/by/4.0/88x31.png)  \n",
    "This work by Jephian Lin is licensed under a [Creative Commons Attribution 4.0 International License](http://creativecommons.org/licenses/by/4.0/)."
   ]
  },
  {
   "cell_type": "markdown",
   "metadata": {},
   "source": [
    "$\\newcommand{\\trans}{^\\top}\n",
    "\\newcommand{\\adj}{^{\\rm adj}}\n",
    "\\newcommand{\\cof}{^{\\rm cof}}\n",
    "\\newcommand{\\inp}[2]{\\left\\langle#1,#2\\right\\rangle}\n",
    "\\newcommand{\\dunion}{\\mathbin{\\dot\\cup}}\n",
    "\\newcommand{\\bzero}{\\mathbf{0}}\n",
    "\\newcommand{\\bone}{\\mathbf{1}}\n",
    "\\newcommand{\\ba}{\\mathbf{a}}\n",
    "\\newcommand{\\bb}{\\mathbf{b}}\n",
    "\\newcommand{\\bc}{\\mathbf{c}}\n",
    "\\newcommand{\\bd}{\\mathbf{d}}\n",
    "\\newcommand{\\be}{\\mathbf{e}}\n",
    "\\newcommand{\\bh}{\\mathbf{h}}\n",
    "\\newcommand{\\bp}{\\mathbf{p}}\n",
    "\\newcommand{\\bq}{\\mathbf{q}}\n",
    "\\newcommand{\\br}{\\mathbf{r}}\n",
    "\\newcommand{\\bx}{\\mathbf{x}}\n",
    "\\newcommand{\\by}{\\mathbf{y}}\n",
    "\\newcommand{\\bz}{\\mathbf{z}}\n",
    "\\newcommand{\\bu}{\\mathbf{u}}\n",
    "\\newcommand{\\bv}{\\mathbf{v}}\n",
    "\\newcommand{\\bw}{\\mathbf{w}}\n",
    "\\newcommand{\\tr}{\\operatorname{tr}}\n",
    "\\newcommand{\\nul}{\\operatorname{null}}\n",
    "\\newcommand{\\rank}{\\operatorname{rank}}\n",
    "%\\newcommand{\\ker}{\\operatorname{ker}}\n",
    "\\newcommand{\\range}{\\operatorname{range}}\n",
    "\\newcommand{\\Col}{\\operatorname{Col}}\n",
    "\\newcommand{\\Row}{\\operatorname{Row}}\n",
    "\\newcommand{\\spec}{\\operatorname{spec}}\n",
    "\\newcommand{\\vspan}{\\operatorname{span}}\n",
    "\\newcommand{\\Vol}{\\operatorname{Vol}}\n",
    "\\newcommand{\\sgn}{\\operatorname{sgn}}\n",
    "\\newcommand{\\idmap}{\\operatorname{id}}\n",
    "\\newcommand{\\am}{\\operatorname{am}}\n",
    "\\newcommand{\\gm}{\\operatorname{gm}}\n",
    "\\newcommand{\\mult}{\\operatorname{mult}}\n",
    "\\newcommand{\\iner}{\\operatorname{iner}}$"
   ]
  },
  {
   "cell_type": "code",
   "execution_count": null,
   "metadata": {},
   "outputs": [],
   "source": [
    "from lingeo import random_good_matrix"
   ]
  },
  {
   "cell_type": "markdown",
   "metadata": {},
   "source": [
    "## Main idea"
   ]
  },
  {
   "cell_type": "markdown",
   "metadata": {},
   "source": [
    "Let $V$ be a vector space.  \n",
    "Let $\\alpha = \\{\\bv_1, \\ldots, \\bv_n\\}$ and $\\beta = \\{\\bu_1, \\ldots, \\bu_n\\}$ be two bases of $V$.  \n",
    "Each vector $\\bb$ can have different representations $[\\bb]_\\alpha$ and $[\\bb]_\\beta$ depending on the bases used.  \n",
    "Let $[\\idmap]_\\alpha^\\beta$ be the $n \\times n$ matrix  \n",
    "$$\\begin{bmatrix}\n",
    " | & ~ & | \\\\\n",
    " [\\bv_1]_\\beta & \\cdots & [\\bv_n]_\\beta \\\\\n",
    " | & ~ & | \\\\\n",
    "\\end{bmatrix}$$.  \n",
    "Then $[\\idmap]_\\alpha^\\beta [\\bb]_\\alpha = [\\bb]_\\beta$ for any $\\bb\\in V$.  \n",
    "Therefore, we call $[\\idmap]_\\alpha^\\beta$ the **change of basis matrix** from $\\alpha$ to $\\beta$.  \n",
    "(The notation $[\\idmap]_\\alpha^\\beta$ means it is an identity map from $V$ to $V$ but we are observing the domain and the codomain from the points of view of $\\alpha$ and $\\beta$.  \n",
    "This notation will be more clear when we introduce the matrix representation of a linear function.)  "
   ]
  },
  {
   "cell_type": "markdown",
   "metadata": {},
   "source": [
    "The change of basis matrix $[\\idmap]_\\alpha^\\beta$ can be viewed as a function taking the representation in $\\alpha$ and output the representation in $\\beta$.  \n",
    "Therefore, if we have another basis $\\gamma$, then we have \n",
    "- $[\\idmap]_\\alpha^\\alpha = I_n$,\n",
    "- $[\\idmap]_\\beta^\\gamma[\\idmap]_\\alpha^\\beta = [\\idmap]_\\alpha^\\gamma$, \n",
    "- $[\\idmap]_\\beta^\\alpha[\\idmap]_\\alpha^\\beta = I_n$. \n",
    "\n",
    "Note that a matrix takes its input vector from the right, so we should read a product of matrices from right to left."
   ]
  },
  {
   "cell_type": "markdown",
   "metadata": {},
   "source": [
    "## Side stories\n",
    "- inverse of a change of basis matrix"
   ]
  },
  {
   "cell_type": "markdown",
   "metadata": {},
   "source": [
    "## Experiments"
   ]
  },
  {
   "cell_type": "markdown",
   "metadata": {},
   "source": [
    "##### Exercise 1\n",
    "\n",
    "執行以下程式碼。  "
   ]
  },
  {
   "cell_type": "code",
   "execution_count": null,
   "metadata": {
    "scrolled": false
   },
   "outputs": [],
   "source": [
    "### code\n",
    "set_random_seed(0)\n",
    "print_ans = False\n",
    "A = random_good_matrix(3,3,3, bound=3)\n",
    "B = random_good_matrix(3,3,3, bound=3)\n",
    "e1,e2,e3 = identity_matrix(3).transpose()\n",
    "u1,u2,u3 = A.transpose()\n",
    "v1,v2,v3 = B.transpose()\n",
    "\n",
    "print(\"alpha has three vectors:\")\n",
    "print(\"e1 =\", e1)\n",
    "print(\"e2 =\", e2)\n",
    "print(\"e3 =\", e3)\n",
    "\n",
    "print(\"beta has three vectors:\")\n",
    "print(\"u1 =\", u1)\n",
    "print(\"u2 =\", u2)\n",
    "print(\"u3 =\", u3)\n",
    "\n",
    "print(\"gamma has three vectors:\")\n",
    "print(\"v1 =\", v1)\n",
    "print(\"v2 =\", v2)\n",
    "print(\"v3 =\", v3)\n",
    "\n",
    "if print_ans:\n",
    "    print(\"[id]_alpha^beta =\")\n",
    "    show(A.inverse())\n",
    "    print(\"[id]_beta^alpha =\")\n",
    "    show(A)\n",
    "    print(\"[id]_beta^gamma =\")\n",
    "    show(B.inverse() * A)\n",
    "    print(\"[id]_alpha^gamma =\")\n",
    "    show(B.inverse())"
   ]
  },
  {
   "cell_type": "markdown",
   "metadata": {},
   "source": [
    "##### Exercise 1(a)\n",
    "\n",
    "計算 $[\\idmap]_\\alpha^\\beta$ 及 $[\\idmap]_\\beta^\\alpha$﹐  \n",
    "並確認 $[\\idmap]_\\beta^\\alpha [\\idmap]_\\alpha^\\beta = I_3$。  "
   ]
  },
  {
   "cell_type": "markdown",
   "metadata": {},
   "source": [
    "##### Exercise 1(b)\n",
    "\n",
    "計算 $[\\idmap]_\\beta^\\gamma$ 及 $[\\idmap]_\\alpha^\\gamma$，  \n",
    "並確認 $[\\idmap]_\\beta^\\gamma [\\idmap]_\\alpha^\\beta = [\\idmap]_\\alpha^\\gamma$。  "
   ]
  },
  {
   "cell_type": "markdown",
   "metadata": {},
   "source": [
    "## Exercises"
   ]
  },
  {
   "cell_type": "markdown",
   "metadata": {},
   "source": [
    "##### Exercise 2\n",
    "\n",
    "對於以下的各向量空間 $V$、  \n",
    "以及兩個基底 $\\alpha$ 和 $\\beta$﹐  \n",
    "求出 $[\\idmap]_\\alpha^\\beta$ 和 $[\\idmap]_\\beta^\\alpha$。  "
   ]
  },
  {
   "cell_type": "markdown",
   "metadata": {},
   "source": [
    "##### Exercise 2(a)\n",
    "\n",
    "令 $V = \\mathbb{R}^3$、  \n",
    "$\\alpha = \\{\\be_1, \\be_2, \\be_3\\}$ 為標準基底、  \n",
    "$$\\beta = \\left\\{\\begin{aligned} \n",
    " \\bu_1 = (0,0,1), \\\\\n",
    " \\bu_2 = (0,1,1), \\\\\n",
    " \\bu_3 = (1,1,1)\n",
    "\\end{aligned}\\right\\}.$$  "
   ]
  },
  {
   "cell_type": "markdown",
   "metadata": {},
   "source": [
    "##### Exercise 2(b)\n",
    "\n",
    "令 $V = \\mathbb{R}^3$、  \n",
    "$\\alpha = \\{\\be_1, \\be_2, \\be_3\\}$ 為標準基底、  \n",
    "$$\\beta = \\left\\{\\begin{aligned} \n",
    " \\bu_1 = (\\frac{1}{\\sqrt{3}}, \\frac{1}{\\sqrt{3}}, \\frac{1}{\\sqrt{3}}), \\\\\n",
    " \\bu_2 = (\\frac{1}{\\sqrt{2}},-\\frac{1}{\\sqrt{2}},0), \\\\\n",
    " \\bu_3 = (\\frac{1}{\\sqrt{6}},\\frac{1}{\\sqrt{6}},-\\frac{2}{\\sqrt{6}})\n",
    "\\end{aligned}\\right\\}.$$  "
   ]
  },
  {
   "cell_type": "markdown",
   "metadata": {},
   "source": [
    "##### Exercise 2(c)\n",
    "\n",
    "令 $V = \\mathcal{P}_2$、  \n",
    "$\\alpha = \\{1, x, x^2\\}$ 為標準基底、  \n",
    "$\\beta = \\{1, 1-x, (1-x)^2\\}$。  "
   ]
  },
  {
   "cell_type": "markdown",
   "metadata": {},
   "source": [
    "##### Exercise 2(d)\n",
    "\n",
    "令  \n",
    "$$\\begin{aligned}\n",
    " p_1(x) &= \\frac{(x-2)(x-3)}{(1-2)(1-3)}, \\\\\n",
    " p_2(x) &= \\frac{(x-1)(x-3)}{(2-1)(2-3)}, \\\\\n",
    " p_3(x) &= \\frac{(x-1)(x-2)}{(3-1)(3-2)}. \\\\\n",
    "\\end{aligned}$$\n",
    "令 $V = \\mathcal{P}_2$、  \n",
    "$\\alpha = \\{1, x, x^2\\}$ 為標準基底、  \n",
    "$\\beta = \\{p_1, p_2, p_3\\}$。  "
   ]
  },
  {
   "cell_type": "markdown",
   "metadata": {},
   "source": [
    "##### Exercise 3\n",
    "\n",
    "說明以下三個等式的直觀解釋：  \n",
    "- $[\\idmap]_\\alpha^\\alpha = I_n$,\n",
    "- $[\\idmap]_\\beta^\\gamma[\\idmap]_\\alpha^\\beta = [\\idmap]_\\alpha^\\gamma$, \n",
    "- $[\\idmap]_\\beta^\\alpha[\\idmap]_\\alpha^\\beta = I_n$. "
   ]
  },
  {
   "cell_type": "markdown",
   "metadata": {},
   "source": [
    "##### Exercise 4\n",
    "\n",
    "我們已經看到每個基底轉換矩陣 $[\\idmap]_\\alpha^\\beta$ 都是可逆的﹐而且其逆矩陣就是 $[\\idmap]_\\beta^\\alpha$。  \n",
    "證明每個 $n\\times n$ 的可逆矩陣也可以寫成 $\\mathbb{R}^n$ 中的兩組基底 $\\alpha$ 和 $\\beta$ 所建構出來的基底轉移矩陣。  \n",
    "（把 $\\alpha$ 取為 $A$ 的各行向量、  \n",
    "$\\beta$ 取為標準基底。）  "
   ]
  }
 ],
 "metadata": {
  "kernelspec": {
   "display_name": "SageMath 9.6",
   "language": "sage",
   "name": "sagemath"
  },
  "language_info": {
   "codemirror_mode": {
    "name": "ipython",
    "version": 3
   },
   "file_extension": ".py",
   "mimetype": "text/x-python",
   "name": "python",
   "nbconvert_exporter": "python",
   "pygments_lexer": "ipython3",
   "version": "3.10.5"
  }
 },
 "nbformat": 4,
 "nbformat_minor": 4
}
