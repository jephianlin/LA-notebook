{
 "cells": [
  {
   "cell_type": "markdown",
   "metadata": {},
   "source": [
    "# 列運算"
   ]
  },
  {
   "cell_type": "markdown",
   "metadata": {},
   "source": [
    "![Creative Commons License](https://i.creativecommons.org/l/by/4.0/88x31.png)  \n",
    "This work by Jephian Lin is licensed under a [Creative Commons Attribution 4.0 International License](http://creativecommons.org/licenses/by/4.0/)."
   ]
  },
  {
   "cell_type": "markdown",
   "metadata": {},
   "source": [
    "$\\newcommand{\\trans}{^\\top}\n",
    "\\newcommand{\\adj}{^{\\rm adj}}\n",
    "\\newcommand{\\cof}{^{\\rm cof}}\n",
    "\\newcommand{\\inp}[2]{\\left\\langle#1,#2\\right\\rangle}\n",
    "\\newcommand{\\dunion}{\\mathbin{\\dot\\cup}}\n",
    "\\newcommand{\\bzero}{\\mathbf{0}}\n",
    "\\newcommand{\\bone}{\\mathbf{1}}\n",
    "\\newcommand{\\ba}{\\mathbf{a}}\n",
    "\\newcommand{\\bb}{\\mathbf{b}}\n",
    "\\newcommand{\\bc}{\\mathbf{c}}\n",
    "\\newcommand{\\bd}{\\mathbf{d}}\n",
    "\\newcommand{\\be}{\\mathbf{e}}\n",
    "\\newcommand{\\bh}{\\mathbf{h}}\n",
    "\\newcommand{\\bp}{\\mathbf{p}}\n",
    "\\newcommand{\\bq}{\\mathbf{q}}\n",
    "\\newcommand{\\br}{\\mathbf{r}}\n",
    "\\newcommand{\\bx}{\\mathbf{x}}\n",
    "\\newcommand{\\by}{\\mathbf{y}}\n",
    "\\newcommand{\\bz}{\\mathbf{z}}\n",
    "\\newcommand{\\bu}{\\mathbf{u}}\n",
    "\\newcommand{\\bv}{\\mathbf{v}}\n",
    "\\newcommand{\\bw}{\\mathbf{w}}\n",
    "\\newcommand{\\tr}{\\operatorname{tr}}\n",
    "\\newcommand{\\nul}{\\operatorname{null}}\n",
    "\\newcommand{\\rank}{\\operatorname{rank}}\n",
    "%\\newcommand{\\ker}{\\operatorname{ker}}\n",
    "\\newcommand{\\range}{\\operatorname{range}}\n",
    "\\newcommand{\\Col}{\\operatorname{Col}}\n",
    "\\newcommand{\\Row}{\\operatorname{Row}}\n",
    "\\newcommand{\\spec}{\\operatorname{spec}}\n",
    "\\newcommand{\\vspan}{\\operatorname{span}}\n",
    "\\newcommand{\\Vol}{\\operatorname{Vol}}\n",
    "\\newcommand{\\sgn}{\\operatorname{sgn}}\n",
    "\\newcommand{\\idmap}{\\operatorname{id}}\n",
    "\\newcommand{\\am}{\\operatorname{am}}\n",
    "\\newcommand{\\gm}{\\operatorname{gm}}\n",
    "\\newcommand{\\mult}{\\operatorname{mult}}\n",
    "\\newcommand{\\iner}{\\operatorname{iner}}$"
   ]
  },
  {
   "cell_type": "code",
   "execution_count": null,
   "metadata": {},
   "outputs": [],
   "source": [
    "from lingeo import random_int_list, random_good_matrix"
   ]
  },
  {
   "cell_type": "markdown",
   "metadata": {},
   "source": [
    "## Main idea"
   ]
  },
  {
   "cell_type": "markdown",
   "metadata": {},
   "source": [
    "Let $A$ be an $m\\times n$ matrix $\\mathbb{R}^n$.  \n",
    "The following three types of operations on a matrix are called **row operations**.  \n",
    "1. swapping: swap the $i$-th and the $j$-th rows.  (Denoted as $\\rho_i\\leftrightarrow\\rho_j$.)\n",
    "2. rescaling: multiply the $i$-th row by a nonzero scalar $k$.  (Denoted as $\\rho_i:\\times k$.)\n",
    "3. row combination: multiply the $j$-th row by a scalar $k$ and add the result to the $i$-th row.  (Denoted as $\\rho_i: + k\\rho_j$.)\n",
    "\n",
    "Note that for $\\rho_i: +k\\rho_j$, the scalar $k$ can possibly be zero, but then the operation does nothing."
   ]
  },
  {
   "cell_type": "markdown",
   "metadata": {},
   "source": [
    "The **pivot** of a row vector is the index of its left-most entry.  "
   ]
  },
  {
   "cell_type": "markdown",
   "metadata": {},
   "source": [
    "A matrix $A$ is in the **echelon form** if:  \n",
    "1. Zero rows are below any nonzero rows.  \n",
    "2. From top to the bottom, the pivot of each row strickly moving to the right."
   ]
  },
  {
   "cell_type": "markdown",
   "metadata": {},
   "source": [
    "Each matrix can be reduced to an echelon from through row operations.  \n",
    "If necessary, one may do reduce the matrix further to the form below."
   ]
  },
  {
   "cell_type": "markdown",
   "metadata": {},
   "source": [
    "A matrix $A$ is in the **reduced echelon form** if:  \n",
    "1. It is in the echelon form.\n",
    "2. For each nonzero row, the entry at the pivot is $1$.  \n",
    "3. For each nonzero row, the column of $A$ at the pivot is zero except for the entry on this row."
   ]
  },
  {
   "cell_type": "markdown",
   "metadata": {},
   "source": [
    "The **pivots** of a reduced echelon form is the set of pivots of its rows.  \n",
    "The **pivots** of a matrix is the pivots of its reduced echelon form.  "
   ]
  },
  {
   "cell_type": "markdown",
   "metadata": {},
   "source": [
    "If $B$ can be obtained from $A$ by some row reduction, then we say $A$ **reduces to** $B$, denoted as $A\\rightarrow B$.  \n",
    "Each matrix reduces to a unique reduced echelon form."
   ]
  },
  {
   "cell_type": "markdown",
   "metadata": {},
   "source": [
    "Let $A$ be an $m\\times n$ matrix and $\\bb$ a vector in $\\mathbb{R}^m$.  \n",
    "Then the **augmenting matrix** of the equation $A\\bx = \\bb$ is the $m\\times (n+1)$ matrix  \n",
    "$$\\left[\\begin{array}{c|c} A & \\bb \\end{array}\\right].$$"
   ]
  },
  {
   "cell_type": "markdown",
   "metadata": {},
   "source": [
    "## Side stories\n",
    "- `A.nullspace`\n",
    "- `A.swap_rows`  \n",
    "- `A.rescale_row`  \n",
    "- `A.add_muptiple_of_row`  \n",
    "- equivalence relation\n",
    "- equivalence clases"
   ]
  },
  {
   "cell_type": "markdown",
   "metadata": {},
   "source": [
    "## Experiments"
   ]
  },
  {
   "cell_type": "markdown",
   "metadata": {},
   "source": [
    "##### Exercise 1\n",
    "執行下方程式碼。  \n",
    "找到矩陣 $A$ 的最簡階梯形式矩陣。  \n",
    "\n",
    "可以手算也可以考慮在下方程式碼加上：  \n",
    "1. $\\rho_i\\leftrightarrow\\rho_j$: `A.swap_rows(i,j)` .\n",
    "2. $\\rho_i: \\times k$: `A.rescale_row(i, k)` .\n",
    "3. $\\rho_i: +k\\rho_j$: `A.add_multiple_of_row(i, j, k)` ."
   ]
  },
  {
   "cell_type": "code",
   "execution_count": null,
   "metadata": {
    "scrolled": false
   },
   "outputs": [],
   "source": [
    "### code\n",
    "set_random_seed(0)\n",
    "print_ans = False\n",
    "A, R, pivots = random_good_matrix(3,5,2, return_answer=True)\n",
    "\n",
    "print(\"A =\")\n",
    "show(A)\n",
    "\n",
    "# A.swap_rows(0,1)\n",
    "# A.rescale_row(1, 1/3)\n",
    "# A.add_multiple_of_row(1, 0, -3)\n",
    "print(\"After row operations:\")\n",
    "show(A)\n",
    "\n",
    "if print_ans:\n",
    "    print(\"The reduced echelon form of A is\")\n",
    "    show(R)"
   ]
  },
  {
   "cell_type": "markdown",
   "metadata": {},
   "source": [
    "## Exercises"
   ]
  },
  {
   "cell_type": "markdown",
   "metadata": {},
   "source": [
    "##### Exercise 2\n",
    "\n",
    "證明每一個列運算都可以被復原。  "
   ]
  },
  {
   "cell_type": "markdown",
   "metadata": {},
   "source": [
    "##### Exercise 2(a)\n",
    "\n",
    "若 $A$ 經過列運算 $\\rho_i\\leftrightarrow\\rho_j$ 後得到 $B$。  \n",
    "找一個列運算讓 $B$ 變回 $A$。  "
   ]
  },
  {
   "cell_type": "markdown",
   "metadata": {},
   "source": [
    "##### Exercise 2(b)\n",
    "\n",
    "若 $A$ 經過列運算 $\\rho_i: \\times k$ 後得到 $B$。  \n",
    "找一個列運算讓 $B$ 變回 $A$。  "
   ]
  },
  {
   "cell_type": "markdown",
   "metadata": {},
   "source": [
    "##### Exercise 2(c)\n",
    "\n",
    "若 $A$ 經過列運算 $\\rho_i: + k\\rho_j$ 後得到 $B$。  \n",
    "找一個列運算讓 $B$ 變回 $A$。  "
   ]
  },
  {
   "cell_type": "markdown",
   "metadata": {},
   "source": [
    "##### Exercise 3\n",
    "\n",
    "令 $A$ 為一矩陣其各列向量為 $\\br_1,\\ldots,\\br_m$。  \n",
    "依照下面的步驟證明列運算不會改變列空間。  "
   ]
  },
  {
   "cell_type": "markdown",
   "metadata": {},
   "source": [
    "##### Exercise 3(a)\n",
    "\n",
    "若 $A$ 經過列運算 $\\rho_i\\leftrightarrow\\rho_j$ 後得到 $B$。  \n",
    "證明 $\\Row(A) = \\Row(B)$。  "
   ]
  },
  {
   "cell_type": "markdown",
   "metadata": {},
   "source": [
    "##### Exercise 3(b)\n",
    "\n",
    "若 $A$ 經過列運算 $\\rho_i: \\times k$ 後得到 $B$。  \n",
    "證明 $\\Row(A) = \\Row(B)$。  "
   ]
  },
  {
   "cell_type": "markdown",
   "metadata": {},
   "source": [
    "##### Exercise 3(c)\n",
    "\n",
    "若 $A$ 經過列運算 $\\rho_i: + k\\rho_j$ 後得到 $B$。  \n",
    "證明 $\\Row(A) = \\Row(B)$。  "
   ]
  },
  {
   "cell_type": "markdown",
   "metadata": {},
   "source": [
    "##### Exercise 4\n",
    "\n",
    "令 $A$ 為一矩陣其各列向量為 $\\br_1,\\ldots,\\br_m$  \n",
    "而 $\\bb = (b_1,\\ldots,b_m)\\trans$。  \n",
    "令 $A'$ 為方程組 $A\\bx = \\bb$ 增廣矩陣。  \n",
    "依照下面的步驟證明列運算不會改變解集合。  "
   ]
  },
  {
   "cell_type": "markdown",
   "metadata": {},
   "source": [
    "##### Exercise 4(a)\n",
    "\n",
    "若 $A'$ 經過列運算 $\\rho_i\\leftrightarrow\\rho_j$ 後得到 $B'$。  \n",
    "證明兩增廣矩陣對應到的方程組有一樣的解集合。  "
   ]
  },
  {
   "cell_type": "markdown",
   "metadata": {},
   "source": [
    "##### Exercise 4(b)\n",
    "\n",
    "若 $A'$ 經過列運算 $\\rho_i: \\times k$ 後得到 $B'$。  \n",
    "證明兩增廣矩陣對應到的方程組有一樣的解集合。  "
   ]
  },
  {
   "cell_type": "markdown",
   "metadata": {},
   "source": [
    "##### Exercise 4(c)\n",
    "\n",
    "若 $A$ 經過列運算 $\\rho_i: + k\\rho_j$ 後得到 $B$。  \n",
    "證明兩增廣矩陣對應到的方程組有一樣的解集合。  "
   ]
  },
  {
   "cell_type": "markdown",
   "metadata": {},
   "source": [
    "##### Exercise 5\n",
    "\n",
    "依照下面的步驟證明「可化簡到」是一個**等價關係**。  "
   ]
  },
  {
   "cell_type": "markdown",
   "metadata": {},
   "source": [
    "##### Exercise 5(a)\n",
    "\n",
    "證明反身性：  \n",
    "$A\\rightarrow A$。  "
   ]
  },
  {
   "cell_type": "markdown",
   "metadata": {},
   "source": [
    "##### Exercise 5(b)\n",
    "\n",
    "證明對稱性：  \n",
    "若 $A\\rightarrow B$﹐則 $B\\rightarrow A$。  "
   ]
  },
  {
   "cell_type": "markdown",
   "metadata": {},
   "source": [
    "##### Exercise 5(c)\n",
    "\n",
    "證明遞移性：  \n",
    "若 $A\\rightarrow B$ 且 $B\\rightarrow C$﹐則 $A\\rightarrow C$。  "
   ]
  },
  {
   "cell_type": "markdown",
   "metadata": {},
   "source": [
    "##### Exercise 5(d)\n",
    "\n",
    "如此一來「可化簡到」可以幫所有 $m\\times n$ 矩陣分類：  \n",
    "隨便拿出一個 $m\\times n$ 矩陣 $A$﹐取出所有可以從 $A$ 化簡到的矩陣﹐如此一來會形成一個**等價類** 。  \n",
    "若 $\\mathcal{M}_{m\\times n}$ 為所有 $m\\times n$ 矩陣的集合﹐  \n",
    "我們通常用 $\\mathcal{M}_{m\\times n} / \\rightarrow$ 來表示所有等價類所形成的集合。  \n",
    "利用最間階梯形式矩陣是唯一的這個性質﹐來說明怎麼判斷兩個矩陣是否落在同一個等價類中。"
   ]
  },
  {
   "cell_type": "markdown",
   "metadata": {},
   "source": [
    "##### Exercise 6\n",
    "\n",
    "若 $A$ 是一個 $m\\times n$ 矩陣。  \n",
    "證明 $A$ 可以化簡到的最簡階梯形式矩陣是唯一的。  "
   ]
  },
  {
   "cell_type": "markdown",
   "metadata": {},
   "source": [
    "###### Exercise 6(a)\n",
    "\n",
    "證明「$A$ 可以化簡到的最簡階梯形式矩陣是唯一的。」這個敘述在 $n=1$ 時是正確的。"
   ]
  },
  {
   "cell_type": "markdown",
   "metadata": {},
   "source": [
    "###### Exercise 6(b)\n",
    "\n",
    "假設「$A$ 可以化簡到的最簡階梯形式矩陣是唯一的。」這個敘述在 $n=k$ 時是正確的。  \n",
    "考慮一個 $n=k+1$ 的矩陣﹐並它寫成 $\\begin{bmatrix} A' & \\ba\\end{bmatrix}$。  \n",
    "根據假設﹐$A'$ 的最簡階梯式是唯一的,我們把它記作 $R'$。  \n",
    "說明 $A$ 化簡到最簡階梯形式時會是 $\\begin{bmatrix} R' & \\br\\end{bmatrix}$。  \n",
    "（因此唯一有可能不一樣的就是最後一行。）  "
   ]
  },
  {
   "cell_type": "markdown",
   "metadata": {},
   "source": [
    "###### Exercise 6(c)\n",
    "\n",
    "我們把 $R'$ 的行寫成 $\\bu_1,\\ldots,\\bu_k$。  \n",
    "\n",
    "考慮兩種狀況： \n",
    "首先﹐若 $\\ker(A)$ 中有一個向量 $\\bv = (c_1,\\ldots, c_{k+1})$ 其 $c_{k+1}\\neq 0$。  \n",
    "利用 $\\ker(A) = \\ker\\left(\\begin{bmatrix} R' & \\br \\end{bmatrix}\\right)$  \n",
    "說明 $\\br = -\\frac{1}{c_{k+1}}(c_1\\bu_1 + \\cdots + c_k\\bu_k)$ 是唯一的選擇。  "
   ]
  },
  {
   "cell_type": "markdown",
   "metadata": {},
   "source": [
    "###### Exercise 6(d)\n",
    "\n",
    "第二種狀況﹐$\\ker(A)$ 中的所有向量 $\\bv = (c_1,\\ldots, c_{k+1})$ 都是 $c_{k+1} = 0$。  \n",
    "說明這種狀況下 $\\ba\\notin\\Col(A')$ 且 $\\br\\notin\\Col(R')$。  \n",
    "如果 $R'$ 有 $h$ 個非零的列﹐說明 $\\br$ 一定在第 $h+1$ 項是 $1$ 而其它項都是 $0$。  "
   ]
  }
 ],
 "metadata": {
  "kernelspec": {
   "display_name": "SageMath 9.6",
   "language": "sage",
   "name": "sagemath"
  },
  "language_info": {
   "codemirror_mode": {
    "name": "ipython",
    "version": 3
   },
   "file_extension": ".py",
   "mimetype": "text/x-python",
   "name": "python",
   "nbconvert_exporter": "python",
   "pygments_lexer": "ipython3",
   "version": "3.10.5"
  }
 },
 "nbformat": 4,
 "nbformat_minor": 4
}
