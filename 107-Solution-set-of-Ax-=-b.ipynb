{
 "cells": [
  {
   "cell_type": "markdown",
   "metadata": {},
   "source": [
    "# $A{\\bf x} = {\\bf b}$ 的解集合\n",
    "\n",
    "Solution set of $A{\\bf x} = {\\bf b}$"
   ]
  },
  {
   "cell_type": "markdown",
   "metadata": {},
   "source": [
    "![Creative Commons License](https://i.creativecommons.org/l/by/4.0/88x31.png)  \n",
    "This work by Jephian Lin is licensed under a [Creative Commons Attribution 4.0 International License](http://creativecommons.org/licenses/by/4.0/)."
   ]
  },
  {
   "cell_type": "markdown",
   "metadata": {},
   "source": [
    "$\\newcommand{\\trans}{^\\top}\n",
    "\\newcommand{\\adj}{^{\\rm adj}}\n",
    "\\newcommand{\\cof}{^{\\rm cof}}\n",
    "\\newcommand{\\inp}[2]{\\left\\langle#1,#2\\right\\rangle}\n",
    "\\newcommand{\\dunion}{\\mathbin{\\dot\\cup}}\n",
    "\\newcommand{\\bzero}{\\mathbf{0}}\n",
    "\\newcommand{\\bone}{\\mathbf{1}}\n",
    "\\newcommand{\\ba}{\\mathbf{a}}\n",
    "\\newcommand{\\bb}{\\mathbf{b}}\n",
    "\\newcommand{\\bc}{\\mathbf{c}}\n",
    "\\newcommand{\\bd}{\\mathbf{d}}\n",
    "\\newcommand{\\be}{\\mathbf{e}}\n",
    "\\newcommand{\\bh}{\\mathbf{h}}\n",
    "\\newcommand{\\bp}{\\mathbf{p}}\n",
    "\\newcommand{\\bq}{\\mathbf{q}}\n",
    "\\newcommand{\\br}{\\mathbf{r}}\n",
    "\\newcommand{\\bx}{\\mathbf{x}}\n",
    "\\newcommand{\\by}{\\mathbf{y}}\n",
    "\\newcommand{\\bz}{\\mathbf{z}}\n",
    "\\newcommand{\\bu}{\\mathbf{u}}\n",
    "\\newcommand{\\bv}{\\mathbf{v}}\n",
    "\\newcommand{\\bw}{\\mathbf{w}}\n",
    "\\newcommand{\\tr}{\\operatorname{tr}}\n",
    "\\newcommand{\\nul}{\\operatorname{null}}\n",
    "\\newcommand{\\rank}{\\operatorname{rank}}\n",
    "%\\newcommand{\\ker}{\\operatorname{ker}}\n",
    "\\newcommand{\\range}{\\operatorname{range}}\n",
    "\\newcommand{\\Col}{\\operatorname{Col}}\n",
    "\\newcommand{\\Row}{\\operatorname{Row}}\n",
    "\\newcommand{\\spec}{\\operatorname{spec}}\n",
    "\\newcommand{\\vspan}{\\operatorname{span}}\n",
    "\\newcommand{\\Vol}{\\operatorname{Vol}}\n",
    "\\newcommand{\\sgn}{\\operatorname{sgn}}\n",
    "\\newcommand{\\idmap}{\\operatorname{id}}\n",
    "\\newcommand{\\am}{\\operatorname{am}}\n",
    "\\newcommand{\\gm}{\\operatorname{gm}}\n",
    "\\newcommand{\\mult}{\\operatorname{mult}}\n",
    "\\newcommand{\\iner}{\\operatorname{iner}}$"
   ]
  },
  {
   "cell_type": "code",
   "execution_count": null,
   "metadata": {},
   "outputs": [],
   "source": [
    "from lingeo import random_int_list, random_ref"
   ]
  },
  {
   "cell_type": "markdown",
   "metadata": {},
   "source": [
    "## Main idea"
   ]
  },
  {
   "cell_type": "markdown",
   "metadata": {},
   "source": [
    "Let $A$ be an $m\\times n$ matrix and $\\bb$ a vector in $\\mathbb{R}^n$.  \n",
    "Recall that $A\\bx = \\bb$ is equivalent to a system of linear equation.  \n",
    "When $\\bb = \\bzero$, the system is said to be homogeneous, and  \n",
    "$$\\ker(A) = \\{\\bx\\in\\mathbb{R}^n : A\\bx = \\bzero\\}.$$"
   ]
  },
  {
   "cell_type": "markdown",
   "metadata": {},
   "source": [
    "Let $U = \\{\\bx\\in\\mathbb{R}^n : A\\bx = \\bb\\}$ be the set of all solutions.  \n",
    "Then $U$ is an affine subspace in $\\mathbb{R}^n$.  \n",
    "In fact, $U$ can be written as $\\bp + \\ker(A)$, where $\\bp$ can be any vector in $U$."
   ]
  },
  {
   "cell_type": "markdown",
   "metadata": {},
   "source": [
    "We call $U$ the set of **general solutions**.  \n",
    "When one element is chosen from $U$, it is called a **particular solution**.  \n",
    "And $\\ker(A)$ is called the set of **homogeneous solutions**.\n",
    "\n",
    "Equivalently, the solutions set of $A\\bx = \\bb$ is of the form:\n",
    "\n",
    "    general solutions = particular solution + homogeneous solutions\n",
    "    (a shifted space)      (a vector)              (a space)"
   ]
  },
  {
   "cell_type": "markdown",
   "metadata": {},
   "source": [
    "## Side stories\n",
    "- `A.nullspace()`"
   ]
  },
  {
   "cell_type": "markdown",
   "metadata": {},
   "source": [
    "## Experiments"
   ]
  },
  {
   "cell_type": "markdown",
   "metadata": {},
   "source": [
    "##### Exercise 1\n",
    "\n",
    "執行下方程式碼。  \n",
    "\n",
    "<!-- eng start -->\n",
    "Run the code below.\n",
    "<!-- eng end -->"
   ]
  },
  {
   "cell_type": "code",
   "execution_count": null,
   "metadata": {
    "scrolled": false
   },
   "outputs": [],
   "source": [
    "### code\n",
    "set_random_seed(0)\n",
    "print_ans = False\n",
    "A = random_ref(3,5,2)\n",
    "p = vector(random_int_list(5))\n",
    "b = A * p\n",
    "\n",
    "h = A.right_kernel().basis()[0]\n",
    "p1 = p + h\n",
    "\n",
    "print(\"A =\")\n",
    "show(A)\n",
    "print(\"b =\", b)\n",
    "print(\"p =\", p)\n",
    "print(\"h =\", h)\n",
    "print(\"p1 =\", p1)"
   ]
  },
  {
   "cell_type": "markdown",
   "metadata": {},
   "source": [
    "##### Exercise 1(a)\n",
    "\n",
    "利用題目給的向量及矩陣，  \n",
    "確認 $\\bh$ 在 $\\ker(A)$ 中。  \n",
    "計算 $\\bp + \\bh$ 並驗證它符合 $A(\\bp + \\bh) = \\bb$。  \n",
    "\n",
    "<!-- eng start -->\n",
    "Use the given vectors and matrix and double-check if $\\bh$ is in $\\ker(A)$.  Then compute $\\bp + \\bh$ and verify $A(\\bp + \\bh) = \\bb$.\n",
    "<!-- eng end -->"
   ]
  },
  {
   "cell_type": "markdown",
   "metadata": {},
   "source": [
    "##### Exercise 1(b)\n",
    "\n",
    "如果已知 $A\\bp = \\bb$。  \n",
    "證明對任意 $\\ker(A)$ 中的向量 $\\bh$﹐  \n",
    "都有 $A(\\bp + \\bh) = \\bb$。  \n",
    "\n",
    "<!-- eng start -->\n",
    "Suppose $A\\bp = \\bb$.  Show that $A(\\bp + \\bh) = \\bb$ for any $\\bh\\in\\ker(A)$.  \n",
    "<!-- eng end -->"
   ]
  },
  {
   "cell_type": "markdown",
   "metadata": {},
   "source": [
    "##### Exercise 1(c)\n",
    "\n",
    "利用題目給的向量及矩陣，  \n",
    "確認它符合 $A\\bp_1 = \\bb$。  \n",
    "計算 $\\bp_1 - \\bp$ 並驗證它在 $\\ker(A)$ 中。  \n",
    "\n",
    "<!-- eng start -->\n",
    "Use the given vectors and matrix and double-check if $A\\bp_1 = \\bb$.  Then compute $\\bp_1 - \\bp$ and verify it is in $\\ker(A)$.  \n",
    "<!-- eng end -->"
   ]
  },
  {
   "cell_type": "markdown",
   "metadata": {},
   "source": [
    "##### Exercise 1(d)\n",
    "\n",
    "如果已知 $A\\bp = \\bb$。  \n",
    "證明對任意符合 $A\\bp_1 = \\bb$ 的向量 $\\bp_1$﹐  \n",
    "都有 $\\bp_1 - \\bp\\in\\ker(A)$。  \n",
    "\n",
    "<!-- eng start -->\n",
    "Suppose $A\\bp = \\bb$.  Show that $\\bp_1 - \\bp\\in\\ker(A)$ for any $\\bp_1$ satisfying $A\\bp_1 = \\bb$.\n",
    "<!-- eng end -->"
   ]
  },
  {
   "cell_type": "markdown",
   "metadata": {},
   "source": [
    "## Exercises"
   ]
  },
  {
   "cell_type": "markdown",
   "metadata": {},
   "source": [
    "##### Exercise 2\n",
    "\n",
    "給定矩陣 $A$ 和向量 $\\bb$。  \n",
    "令 $U = \\{ \\bx: A\\bx = \\bb \\}$。  \n",
    "證明 $V = \\{ \\bp_1 - \\bp_2 : \\bp_1, \\bp_2 \\in U \\}$ 是一個子空間。  \n",
    "（因此 $U$ 是一個仿射子空間。）\n",
    "\n",
    "<!-- eng start -->\n",
    "Let $A$ be a matrix and $\\bb$ a vector.  Let $U = \\{ \\bx: A\\bx = \\bb \\}$.  Show that $V = \\{ \\bp_1 - \\bp_2 : \\bp_1, \\bp_2 \\in U \\}$ is a subspace.  (Therefore, $U$ is an affine subspace.)\n",
    "<!-- eng end -->"
   ]
  },
  {
   "cell_type": "markdown",
   "metadata": {},
   "source": [
    "##### Exercise 3\n",
    "\n",
    "執行以下程式碼。  \n",
    "\n",
    "<!-- eng start -->\n",
    "Run the code below.\n",
    "<!-- eng end -->"
   ]
  },
  {
   "cell_type": "code",
   "execution_count": null,
   "metadata": {},
   "outputs": [],
   "source": [
    "### code\n",
    "set_random_seed(0)\n",
    "A = random_ref(3,5,2)\n",
    "b = vector(random_int_list(2) + [0])\n",
    "b1 = b + vector([0,0,1])\n",
    "\n",
    "print(\"A =\")\n",
    "show(A)\n",
    "print(\"b =\", b)\n",
    "print(\"b1 =\", b1)"
   ]
  },
  {
   "cell_type": "markdown",
   "metadata": {},
   "source": [
    "##### Exercise 3(a)\n",
    "\n",
    "湊出一個 $A\\bx = \\bb$ 的解，稱之作 $\\bp$。  \n",
    "\n",
    "<!-- eng start -->\n",
    "Try any method to find a solution to $A\\bx = \\bb$.  Let's call it $\\bp$.  \n",
    "<!-- eng end -->"
   ]
  },
  {
   "cell_type": "markdown",
   "metadata": {},
   "source": [
    "##### Exercise 3(b)\n",
    "\n",
    "利用參數式的方法找出 $\\bh_1$ 和 $\\bh_2$  \n",
    "使得 $\\ker(A) = \\vspan(\\{\\bh_1, \\bh_2, \\bh_3\\})$。  \n",
    "\n",
    "<!-- eng start -->\n",
    "Parametrize the equations to find $\\bh_1$ and $\\bh_2$ so that $\\ker(A) = \\vspan(\\{\\bh_1, \\bh_2, \\bh_3\\})$.  \n",
    "<!-- eng end -->"
   ]
  },
  {
   "cell_type": "markdown",
   "metadata": {},
   "source": [
    "##### Exercise 3(c)\n",
    "\n",
    "求出 $A\\bx = \\bb$ 的所有解。  \n",
    "\n",
    "<!-- eng start -->\n",
    "Find all solutions to $A\\bx = \\bb$.  \n",
    "<!-- eng end -->"
   ]
  },
  {
   "cell_type": "markdown",
   "metadata": {},
   "source": [
    "##### Exercise 3(d)\n",
    "\n",
    "說明 $A\\bx = \\bb_1$ 無解。  \n",
    "（儘管 $\\ker(A)$ 中有很多向量。）\n",
    "\n",
    "<!-- eng start -->\n",
    "Explain why $A\\bx = \\bb_1$ has no solution, even if $\\ker(A)$ has infinitely many vectors.\n",
    "<!-- eng end -->"
   ]
  },
  {
   "cell_type": "markdown",
   "metadata": {},
   "source": [
    "##### Exercise 4\n",
    "\n",
    "我們現階段對解集合的理解  \n",
    "已經可以告訴我們一些有趣的性質。\n",
    "\n",
    "<!-- eng start -->\n",
    "Based on what we have so far, we have the following interesting properties.\n",
    "<!-- eng end -->"
   ]
  },
  {
   "cell_type": "markdown",
   "metadata": {},
   "source": [
    "##### Exercise 4(a)\n",
    "\n",
    "令 $V$ 為一子空間。  \n",
    "若 $V$ 中至少有兩個向量，  \n",
    "$V$ 中向量的個數是否有可能是有限個？\n",
    "\n",
    "<!-- eng start -->\n",
    "Let $V$ be a subspace.  If $V$ contains at least two vectors, is it possible that $V$ contains only finitely many vectors?\n",
    "<!-- eng end -->"
   ]
  },
  {
   "cell_type": "markdown",
   "metadata": {},
   "source": [
    "##### Exercise 4(b)\n",
    "\n",
    "若 $A\\bx = \\bb$ 至少有兩個解，  \n",
    "全部解的個數是否有可能是有限個？\n",
    "\n",
    "<!-- eng start -->\n",
    "If $A\\bx = \\bb$ contains at least two vector, is it possible that the equation has only finitely many solutions?\n",
    "<!-- eng end -->"
   ]
  }
 ],
 "metadata": {
  "kernelspec": {
   "display_name": "SageMath 9.6",
   "language": "sage",
   "name": "sagemath"
  },
  "language_info": {
   "codemirror_mode": {
    "name": "ipython",
    "version": 3
   },
   "file_extension": ".py",
   "mimetype": "text/x-python",
   "name": "python",
   "nbconvert_exporter": "python",
   "pygments_lexer": "ipython3",
   "version": "3.10.7"
  }
 },
 "nbformat": 4,
 "nbformat_minor": 4
}
