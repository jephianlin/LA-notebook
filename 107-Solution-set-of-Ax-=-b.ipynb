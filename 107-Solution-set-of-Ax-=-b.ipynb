{
 "cells": [
  {
   "cell_type": "markdown",
   "metadata": {},
   "source": [
    "# $A{\\bf x} = {\\bf b}$ 的解集合"
   ]
  },
  {
   "cell_type": "markdown",
   "metadata": {},
   "source": [
    "![Creative Commons License](https://i.creativecommons.org/l/by/4.0/88x31.png)  \n",
    "This work by Jephian Lin is licensed under a [Creative Commons Attribution 4.0 International License](http://creativecommons.org/licenses/by/4.0/)."
   ]
  },
  {
   "cell_type": "markdown",
   "metadata": {},
   "source": [
    "$\\newcommand{\\trans}{^\\top}\n",
    "\\newcommand{\\adj}{^{\\rm adj}}\n",
    "\\newcommand{\\cof}{^{\\rm cof}}\n",
    "\\newcommand{\\inp}[2]{\\left\\langle#1,#2\\right\\rangle}\n",
    "\\newcommand{\\dunion}{\\mathbin{\\dot\\cup}}\n",
    "\\newcommand{\\bzero}{\\mathbf{0}}\n",
    "\\newcommand{\\bone}{\\mathbf{1}}\n",
    "\\newcommand{\\ba}{\\mathbf{a}}\n",
    "\\newcommand{\\bb}{\\mathbf{b}}\n",
    "\\newcommand{\\bc}{\\mathbf{c}}\n",
    "\\newcommand{\\bd}{\\mathbf{d}}\n",
    "\\newcommand{\\be}{\\mathbf{e}}\n",
    "\\newcommand{\\bh}{\\mathbf{h}}\n",
    "\\newcommand{\\bp}{\\mathbf{p}}\n",
    "\\newcommand{\\bq}{\\mathbf{q}}\n",
    "\\newcommand{\\br}{\\mathbf{r}}\n",
    "\\newcommand{\\bx}{\\mathbf{x}}\n",
    "\\newcommand{\\by}{\\mathbf{y}}\n",
    "\\newcommand{\\bz}{\\mathbf{z}}\n",
    "\\newcommand{\\bu}{\\mathbf{u}}\n",
    "\\newcommand{\\bv}{\\mathbf{v}}\n",
    "\\newcommand{\\bw}{\\mathbf{w}}\n",
    "\\newcommand{\\tr}{\\operatorname{tr}}\n",
    "\\newcommand{\\nul}{\\operatorname{null}}\n",
    "\\newcommand{\\rank}{\\operatorname{rank}}\n",
    "%\\newcommand{\\ker}{\\operatorname{ker}}\n",
    "\\newcommand{\\range}{\\operatorname{range}}\n",
    "\\newcommand{\\Col}{\\operatorname{Col}}\n",
    "\\newcommand{\\Row}{\\operatorname{Row}}\n",
    "\\newcommand{\\spec}{\\operatorname{spec}}\n",
    "\\newcommand{\\vspan}{\\operatorname{span}}\n",
    "\\newcommand{\\Vol}{\\operatorname{Vol}}\n",
    "\\newcommand{\\sgn}{\\operatorname{sgn}}\n",
    "\\newcommand{\\idmap}{\\operatorname{id}}\n",
    "\\newcommand{\\am}{\\operatorname{am}}\n",
    "\\newcommand{\\gm}{\\operatorname{gm}}\n",
    "\\newcommand{\\mult}{\\operatorname{mult}}\n",
    "\\newcommand{\\iner}{\\operatorname{iner}}$"
   ]
  },
  {
   "cell_type": "code",
   "execution_count": null,
   "metadata": {},
   "outputs": [],
   "source": [
    "from lingeo import random_int_list, random_ref"
   ]
  },
  {
   "cell_type": "markdown",
   "metadata": {},
   "source": [
    "## Main idea"
   ]
  },
  {
   "cell_type": "markdown",
   "metadata": {},
   "source": [
    "Let $A$ be an $m\\times n$ matrix and ${\\bf b}$ a vector in $\\mathbb{R}^n$.  \n",
    "Recall that $A{\\bf x} = {\\bf b}$ is equivalent to a system of linear equation.  \n",
    "When ${\\bf b} = {\\bf 0}$, the system is said to be homogeneous, and  \n",
    "$$\\operatorname{ker}(A) = \\{{\\bf x}\\in\\mathbb{R}^n : A{\\bf x} = {\\bf 0}\\}.$$"
   ]
  },
  {
   "cell_type": "markdown",
   "metadata": {},
   "source": [
    "Let $U = \\{{\\bf x}\\in\\mathbb{R}^n : A{\\bf x} = {\\bf b}\\}$ be the set of all solutions.  \n",
    "Then $U$ is an affine subspace in $\\mathbb{R}^n$.  \n",
    "In fact, $U$ can be written as ${\\bf p} + \\operatorname{ker}(A)$, where ${\\bf p}$ can be any vector in $U$."
   ]
  },
  {
   "cell_type": "markdown",
   "metadata": {},
   "source": [
    "We call $U$ the set of **general solutions**.  \n",
    "When one element is chosen from $U$, it is called a **particular solution**.  \n",
    "And $\\operatorname{ker}(A)$ is called the set of **homogeneous solutions**.\n",
    "\n",
    "Equivalently, the solutions set of $A{\\bf x} = {\\bf b}$ is of the form:\n",
    "\n",
    "    general solutions = particular solution + homogeneous solutions\n",
    "    (a shifted space)      (a vector)              (a space)"
   ]
  },
  {
   "cell_type": "markdown",
   "metadata": {},
   "source": [
    "## Side stories\n",
    "- `A.nullspace()`"
   ]
  },
  {
   "cell_type": "markdown",
   "metadata": {},
   "source": [
    "## Experiments"
   ]
  },
  {
   "cell_type": "markdown",
   "metadata": {},
   "source": [
    "##### Exercise 1\n",
    "執行下方程式碼。  "
   ]
  },
  {
   "cell_type": "code",
   "execution_count": null,
   "metadata": {
    "scrolled": false
   },
   "outputs": [],
   "source": [
    "### code\n",
    "set_random_seed(0)\n",
    "print_ans = False\n",
    "A = random_ref(3,5,2)\n",
    "p = vector(random_int_list(5))\n",
    "b = A * p\n",
    "\n",
    "h = A.right_kernel().basis()[0]\n",
    "p1 = p + h\n",
    "\n",
    "print(\"A =\")\n",
    "show(A)\n",
    "print(\"b =\", b)\n",
    "print(\"p =\", p)\n",
    "print(\"h =\", h)\n",
    "print(\"p1 =\", p1)"
   ]
  },
  {
   "cell_type": "markdown",
   "metadata": {},
   "source": [
    "##### Exercise 1(a)\n",
    "\n",
    "利用題目給的 ${\\bf h}$﹐  \n",
    "確認它在 $\\operatorname{ker}(A)$ 中。  \n",
    "計算 ${\\bf p} + {\\bf h}$ 並驗證它符合 $A({\\bf p} + {\\bf h}) = {\\bf b}$。  "
   ]
  },
  {
   "cell_type": "markdown",
   "metadata": {},
   "source": [
    "##### Exercise 1(b)\n",
    "\n",
    "如果已知 $A{\\bf p} = {\\bf b}$。  \n",
    "證明對任意 $\\operatorname{ker}(A)$ 中的向量 ${\\bf h}$﹐  \n",
    "都有 $A({\\bf p} + {\\bf h}) = {\\bf b}$。  "
   ]
  },
  {
   "cell_type": "markdown",
   "metadata": {},
   "source": [
    "##### Exercise 1(c)\n",
    "\n",
    "利用題目給的 ${\\bf p}_1$﹐  \n",
    "確認它符合 $A{\\bf p}_1 = {\\bf b}$。  \n",
    "計算 ${\\bf p}_1 - {\\bf p}$ 並驗證它在 $\\operatorname{ker}(A)$ 中。  "
   ]
  },
  {
   "cell_type": "markdown",
   "metadata": {},
   "source": [
    "##### Exercise 1(d)\n",
    "\n",
    "如果已知 $A{\\bf p} = {\\bf b}$。  \n",
    "證明對任意符合 $A{\\bf p}_1 = {\\bf b}$ 的向量 ${\\bf p}_1$﹐  \n",
    "都有 ${\\bf p}_1 - {\\bf p}\\in\\operatorname{ker}(A)$。  "
   ]
  },
  {
   "cell_type": "markdown",
   "metadata": {},
   "source": [
    "## Exercises"
   ]
  },
  {
   "cell_type": "markdown",
   "metadata": {},
   "source": [
    "##### Exercise 2\n",
    "\n",
    "給定矩陣 $A$ 和向量 ${\\bf b}$。  \n",
    "令 $U = \\{ {\\bf x}: A{\\bf x} = {\\bf b} \\}$。  \n",
    "證明 $V = \\{ {\\bf p}_1 - {\\bf p}_2 : {\\bf p}_1, {\\bf p}_2 \\in U \\}$ 是一個子空間。  \n",
    "（因此 $U$ 是一個仿射子空間。）"
   ]
  },
  {
   "cell_type": "markdown",
   "metadata": {},
   "source": [
    "##### Exercise 3\n",
    "\n",
    "執行以下程式碼。  "
   ]
  },
  {
   "cell_type": "code",
   "execution_count": null,
   "metadata": {},
   "outputs": [],
   "source": [
    "### code\n",
    "set_random_seed(0)\n",
    "A = random_ref(3,5,2)\n",
    "b = vector(random_int_list(2) + [0])\n",
    "b1 = b + vector([0,0,1])\n",
    "\n",
    "print(\"A =\")\n",
    "show(A)\n",
    "print(\"b =\", b)\n",
    "print(\"b1 =\", b1)"
   ]
  },
  {
   "cell_type": "markdown",
   "metadata": {},
   "source": [
    "##### Exercise 3(a)\n",
    "\n",
    "湊出一個 $A{\\bf x} = {\\bf b}$ 的解﹐稱之作 ${\\bf p}$。  "
   ]
  },
  {
   "cell_type": "markdown",
   "metadata": {},
   "source": [
    "##### Exercise 3(b)\n",
    "\n",
    "利用參數式的方法找出 ${\\bf h}_1$ 和 ${\\bf h}_2$  \n",
    "使得 $\\operatorname{ker}(A) = \\operatorname{span}(\\{{\\bf h}_1, {\\bf h}_2\\})$。  "
   ]
  },
  {
   "cell_type": "markdown",
   "metadata": {},
   "source": [
    "##### Exercise 3(c)\n",
    "\n",
    "求出 $A{\\bf x} = {\\bf b}$ 的所有解。  "
   ]
  },
  {
   "cell_type": "markdown",
   "metadata": {},
   "source": [
    "##### Exercise 3(d)\n",
    "\n",
    "說明 $A{\\bf x} = {\\bf b}_1$ 無解。  \n",
    "（儘管 $\\operatorname{ker}(A)$ 中有很多向量。）"
   ]
  },
  {
   "cell_type": "markdown",
   "metadata": {},
   "source": [
    "##### Exercise 4\n",
    "\n",
    "我們現階段對解集合的理解  \n",
    "已經可以告訴我們一些有趣的性質。"
   ]
  },
  {
   "cell_type": "markdown",
   "metadata": {},
   "source": [
    "##### Exercise 4(a)\n",
    "\n",
    "令 $V$ 為一子空間。  \n",
    "若 $V$ 中至少有兩個向量﹐  \n",
    "$V$ 中向量的個數是否有可能是有限個？"
   ]
  },
  {
   "cell_type": "markdown",
   "metadata": {},
   "source": [
    "##### Exercise 4(b)\n",
    "\n",
    "若 $A{\\bf x} = {\\bf b}$ 至少有兩個解﹐  \n",
    "全部解的個數是否有可能是有限個？"
   ]
  }
 ],
 "metadata": {
  "kernelspec": {
   "display_name": "SageMath 9.6",
   "language": "sage",
   "name": "sagemath"
  },
  "language_info": {
   "codemirror_mode": {
    "name": "ipython",
    "version": 3
   },
   "file_extension": ".py",
   "mimetype": "text/x-python",
   "name": "python",
   "nbconvert_exporter": "python",
   "pygments_lexer": "ipython3",
   "version": "3.10.5"
  }
 },
 "nbformat": 4,
 "nbformat_minor": 4
}
