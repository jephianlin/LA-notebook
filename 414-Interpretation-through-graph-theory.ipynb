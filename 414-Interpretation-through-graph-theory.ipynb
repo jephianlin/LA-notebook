{
 "cells": [
  {
   "cell_type": "markdown",
   "metadata": {},
   "source": [
    "# 代數圖論觀點\n",
    "\n",
    "Interpretation through graph theory"
   ]
  },
  {
   "cell_type": "markdown",
   "metadata": {},
   "source": [
    "![Creative Commons License](https://i.creativecommons.org/l/by/4.0/88x31.png)  \n",
    "This work by Jephian Lin is licensed under a [Creative Commons Attribution 4.0 International License](http://creativecommons.org/licenses/by/4.0/)."
   ]
  },
  {
   "cell_type": "markdown",
   "metadata": {},
   "source": [
    "$\\newcommand{\\trans}{^\\top}\n",
    "\\newcommand{\\adj}{^{\\rm adj}}\n",
    "\\newcommand{\\cof}{^{\\rm cof}}\n",
    "\\newcommand{\\inp}[2]{\\left\\langle#1,#2\\right\\rangle}\n",
    "\\newcommand{\\dunion}{\\mathbin{\\dot\\cup}}\n",
    "\\newcommand{\\bzero}{\\mathbf{0}}\n",
    "\\newcommand{\\bone}{\\mathbf{1}}\n",
    "\\newcommand{\\ba}{\\mathbf{a}}\n",
    "\\newcommand{\\bb}{\\mathbf{b}}\n",
    "\\newcommand{\\bc}{\\mathbf{c}}\n",
    "\\newcommand{\\bd}{\\mathbf{d}}\n",
    "\\newcommand{\\be}{\\mathbf{e}}\n",
    "\\newcommand{\\bh}{\\mathbf{h}}\n",
    "\\newcommand{\\bp}{\\mathbf{p}}\n",
    "\\newcommand{\\bq}{\\mathbf{q}}\n",
    "\\newcommand{\\br}{\\mathbf{r}}\n",
    "\\newcommand{\\bx}{\\mathbf{x}}\n",
    "\\newcommand{\\by}{\\mathbf{y}}\n",
    "\\newcommand{\\bz}{\\mathbf{z}}\n",
    "\\newcommand{\\bu}{\\mathbf{u}}\n",
    "\\newcommand{\\bv}{\\mathbf{v}}\n",
    "\\newcommand{\\bw}{\\mathbf{w}}\n",
    "\\newcommand{\\tr}{\\operatorname{tr}}\n",
    "\\newcommand{\\nul}{\\operatorname{null}}\n",
    "\\newcommand{\\rank}{\\operatorname{rank}}\n",
    "%\\newcommand{\\ker}{\\operatorname{ker}}\n",
    "\\newcommand{\\range}{\\operatorname{range}}\n",
    "\\newcommand{\\Col}{\\operatorname{Col}}\n",
    "\\newcommand{\\Row}{\\operatorname{Row}}\n",
    "\\newcommand{\\spec}{\\operatorname{spec}}\n",
    "\\newcommand{\\vspan}{\\operatorname{span}}\n",
    "\\newcommand{\\Vol}{\\operatorname{Vol}}\n",
    "\\newcommand{\\sgn}{\\operatorname{sgn}}\n",
    "\\newcommand{\\idmap}{\\operatorname{id}}\n",
    "\\newcommand{\\am}{\\operatorname{am}}\n",
    "\\newcommand{\\gm}{\\operatorname{gm}}\n",
    "\\newcommand{\\mult}{\\operatorname{mult}}\n",
    "\\newcommand{\\iner}{\\operatorname{iner}}$"
   ]
  },
  {
   "cell_type": "code",
   "execution_count": null,
   "metadata": {},
   "outputs": [],
   "source": [
    "from lingeo import random_int_list\n",
    "from gnm import matrix_digraph, effective_permutations, illustrate_det"
   ]
  },
  {
   "cell_type": "markdown",
   "metadata": {},
   "source": [
    "## Main idea"
   ]
  },
  {
   "cell_type": "markdown",
   "metadata": {},
   "source": [
    "In graph theory, a (simple) **graph** is a pair $G = (V(G),E(G))$ such that $E(G)$ is a set of $2$-subsets of $V(G)$.  \n",
    "An element in $V(G)$ is called a **vertex** , while an element in $E(G)$ is called an **edge** .  "
   ]
  },
  {
   "cell_type": "markdown",
   "metadata": {},
   "source": [
    "A **directed graph** (or **digraph**) is a pair $\\Gamma = (V(\\Gamma),E(\\Gamma))$ such that $E(\\Gamma)$ is a set of $2$-tuples $(i,j)$ with $i,j\\in V(\\Gamma)$.  \n",
    "An element in $E(\\Gamma)$ is called a **directed edge** .  \n",
    "A directed edge of the form $(i,i)$ is called a **loop** on vertex $i$.  "
   ]
  },
  {
   "cell_type": "markdown",
   "metadata": {},
   "source": [
    "A **weighted graph** is a graph $G$ along with a function $w:E(G) \\rightarrow \\mathbb{R}$  \n",
    "and $w(e)$ is called the **weight** of the edge $e$.  \n",
    "When $e = \\{i,j\\}$, we often write $w(i,j)$ for $w(e)$.  \n",
    "A **weighted digraph** is similarly defined.  "
   ]
  },
  {
   "cell_type": "markdown",
   "metadata": {},
   "source": [
    "When $A = \\begin{bmatrix} a_{ij} \\end{bmatrix}$ is an $n\\times n$ matrix, the **weighted digraph of $A$** is the weighted digraph $\\Gamma$ with  \n",
    "\n",
    "- $V(\\Gamma) = [n]$,  \n",
    "- $E(\\Gamma) = \\{(i,j): a_{ij} \\neq 0 \\}$, and \n",
    "- $w(i,j) = a_{ij}$,  \n",
    "\n",
    "denoted by $\\Gamma(A) = \\Gamma$. "
   ]
  },
  {
   "cell_type": "markdown",
   "metadata": {},
   "source": [
    "Let $\\Gamma$ be a weighted digraph on $n$ vertices.  \n",
    "An **elementary subgraph** of $\\Gamma$ is a subgraph $H$ of $\\Gamma$ such that  \n",
    "\n",
    "- $V(H) = V(\\Gamma)$, \n",
    "- $E(H) \\subseteq E(\\Gamma)$, and \n",
    "- every vertex of $H$ has exactly one directed edge leaving it and exactly one directed edge arriving it.  \n",
    "\n",
    "The set of all elementary subgraphs of $\\Gamma$ is denoted by $\\mathfrak{E}(\\Gamma)$.  "
   ]
  },
  {
   "cell_type": "markdown",
   "metadata": {},
   "source": [
    "Every elementary subgraph must be composed of some cycles.  \n",
    "Let $c(H)$ be the number of cycles, including loops, doubly directed edges, and cycles of length at least $3$.  \n",
    "The **sign** of $H$ is defined as $\\sgn(H) = (-1)^{n + c(H)}$.  \n",
    "The **weight** of $H$ is defined as the product of the weights of every edges of $H$.  "
   ]
  },
  {
   "cell_type": "markdown",
   "metadata": {},
   "source": [
    "##### Permutation expansion (graph theory version)\n",
    "\n",
    "Let $A$ be an $n\\times n$ matrix and $\\Gamma$ its weighted digraph.  \n",
    "Then  \n",
    "\n",
    "$$\n",
    "    \\det(A) = \\sum_{H\\in\\mathfrak{E}(\\Gamma)} \\sgn(H) w(H).\n",
    "$$"
   ]
  },
  {
   "cell_type": "markdown",
   "metadata": {},
   "source": [
    "## Side stories\n",
    "\n",
    "- adjacency matrix\n",
    "- companion matrix"
   ]
  },
  {
   "cell_type": "markdown",
   "metadata": {},
   "source": [
    "## Experiments"
   ]
  },
  {
   "cell_type": "markdown",
   "metadata": {},
   "source": [
    "##### Exercise 1\n",
    "\n",
    "執行以下程式碼。  \n",
    "\n",
    "<!-- eng start -->\n",
    "Run the code below.  \n",
    "<!-- eng end -->"
   ]
  },
  {
   "cell_type": "code",
   "execution_count": null,
   "metadata": {
    "scrolled": false
   },
   "outputs": [],
   "source": [
    "### code\n",
    "set_random_seed(0)\n",
    "print_ans = False\n",
    "\n",
    "n = 6\n",
    "b = 18\n",
    "while True:\n",
    "    l = random_int_list(n^2 - b, 3) + [0]*b\n",
    "    shuffle(l)\n",
    "    A = matrix(n, l)\n",
    "    perms = effective_permutations(A)\n",
    "    if len(perms) >= 3 and len(perms) <= 8:\n",
    "        break\n",
    "\n",
    "pretty_print(LatexExpr(\"A =\"), A)\n",
    "\n",
    "if print_ans:\n",
    "    Gamma = matrix_digraph(A)\n",
    "    Gamma.show(edge_labels=True)\n",
    "    illustrate_det(A)\n",
    "    print(\"det(A) =\", A.det())"
   ]
  },
  {
   "cell_type": "markdown",
   "metadata": {},
   "source": [
    "##### Exercise 1(a)\n",
    "\n",
    "畫出 $\\Gamma(A)$ 並標上每條邊的權重。  \n",
    "\n",
    "<!-- eng start -->\n",
    "Draw $\\Gamma(A)$ and mark the weight on each edge.  \n",
    "<!-- eng end -->"
   ]
  },
  {
   "cell_type": "markdown",
   "metadata": {},
   "source": [
    "##### Exercise 1(b)\n",
    "\n",
    "求出所有的基本子圖，計算其正負號以及權重。  \n",
    "\n",
    "<!-- eng start -->\n",
    "Find all elementary matrices, their signs, and their weights.  \n",
    "<!-- eng end -->"
   ]
  },
  {
   "cell_type": "markdown",
   "metadata": {},
   "source": [
    "##### Exercise 1(c)\n",
    "\n",
    "計算 $\\det(A)$。  \n",
    "\n",
    "<!-- eng start -->\n",
    "Find $\\det(A)$.  \n",
    "<!-- eng end -->"
   ]
  },
  {
   "cell_type": "markdown",
   "metadata": {},
   "source": [
    "## Exercises"
   ]
  },
  {
   "cell_type": "markdown",
   "metadata": {},
   "source": [
    "##### Exercise 2\n",
    "\n",
    "令  \n",
    "\n",
    "$$\n",
    "    A = \\begin{bmatrix}\n",
    "     0 & 1 & 0 & 0 \\\\\n",
    "     1 & 0 & 1 & 1 \\\\\n",
    "     0 & 1 & 0 & 1 \\\\\n",
    "     0 & 1 & 1 & 0\n",
    "    \\end{bmatrix}\n",
    "$$\n",
    "\n",
    "且 $\\Gamma$ 為其賦權有向圖。  \n",
    "找出所有 $\\Gamma$ 的基本子圖，並藉此求出 $\\det(A)$。  \n",
    "\n",
    "<!-- eng start -->\n",
    "Let  \n",
    "\n",
    "$$\n",
    "    A = \\begin{bmatrix}\n",
    "     0 & 1 & 0 & 0 \\\\\n",
    "     1 & 0 & 1 & 1 \\\\\n",
    "     0 & 1 & 0 & 1 \\\\\n",
    "     0 & 1 & 1 & 0\n",
    "    \\end{bmatrix}\n",
    "$$\n",
    "\n",
    "and $\\Gamma$ its weighted directed graph.  Find all elementary subgraphs of $\\Gamma$ and use them to find $\\det(A)$.  \n",
    "<!-- eng end -->"
   ]
  },
  {
   "cell_type": "markdown",
   "metadata": {},
   "source": [
    "##### Exercise 3\n",
    "\n",
    "對以下的矩陣 $A$，  \n",
    "令 $\\Gamma$ 為其賦權有向圖。  \n",
    "找出所有 $\\Gamma$ 的基本子圖，並藉此求出 $\\det(A)$。  \n",
    "\n",
    "<!-- eng start -->\n",
    "For each of the following matrices, let $\\Gamma$ be its weighted directed graph.  Find all elementary subgraphs of $\\Gamma$ and use them to find $\\det(A)$.  \n",
    "<!-- eng end -->"
   ]
  },
  {
   "cell_type": "markdown",
   "metadata": {},
   "source": [
    "##### Exercise 3(a)\n",
    "\n",
    "$$\n",
    "    A = \\begin{bmatrix}\n",
    "     0 & 1 & 0 \\\\\n",
    "     1 & 0 & 1 \\\\\n",
    "     0 & 1 & 0 \n",
    "    \\end{bmatrix}.\n",
    "$$"
   ]
  },
  {
   "cell_type": "markdown",
   "metadata": {},
   "source": [
    "##### Exercise 3(b)\n",
    "\n",
    "$$\n",
    "    A = \\begin{bmatrix}\n",
    "     0 & 1 & 0 & 0 \\\\\n",
    "     1 & 0 & 1 & 0 \\\\\n",
    "     0 & 1 & 0 & 1 \\\\\n",
    "     0 & 0 & 1 & 0\n",
    "    \\end{bmatrix}.\n",
    "$$"
   ]
  },
  {
   "cell_type": "markdown",
   "metadata": {},
   "source": [
    "##### Exercise 3(c)\n",
    "\n",
    "令 $A$ 為 $n\\times n$ 矩陣\n",
    "\n",
    "$$\n",
    "    A = \\begin{bmatrix}\n",
    "     0 & 1 & 0 & \\cdots & 0 \\\\\n",
    "     1 & 0 & 1 & \\ddots & \\vdots \\\\\n",
    "     0 & 1 & 0 & \\ddots & 0 \\\\\n",
    "     \\vdots & \\ddots & \\ddots & \\ddots & 1 \\\\\n",
    "     0 & \\cdots & 0 & 1 & 0\n",
    "    \\end{bmatrix}.\n",
    "$$  \n",
    "\n",
    "<!-- eng start -->\n",
    "Let $A$ be the $n\\times n$ matrix  \n",
    "\n",
    "$$\n",
    "    A = \\begin{bmatrix}\n",
    "     0 & 1 & 0 & \\cdots & 0 \\\\\n",
    "     1 & 0 & 1 & \\ddots & \\vdots \\\\\n",
    "     0 & 1 & 0 & \\ddots & 0 \\\\\n",
    "     \\vdots & \\ddots & \\ddots & \\ddots & 1 \\\\\n",
    "     0 & \\cdots & 0 & 1 & 0\n",
    "    \\end{bmatrix}.\n",
    "$$  \n",
    "<!-- eng end -->"
   ]
  },
  {
   "cell_type": "markdown",
   "metadata": {},
   "source": [
    "##### Exercise 4\n",
    "\n",
    "對以下的矩陣 $A$，  \n",
    "令 $\\Gamma$ 為其賦權有向圖。  \n",
    "找出所有 $\\Gamma$ 的基本子圖，並藉此求出 $\\det(A)$。  \n",
    "\n",
    "<!-- eng start -->\n",
    "For each of the following matrices, let $\\Gamma$ be its weighted directed graph.  Find all elementary subgraphs of $\\Gamma$ and use them to find $\\det(A)$.  \n",
    "<!-- eng end -->"
   ]
  },
  {
   "cell_type": "markdown",
   "metadata": {},
   "source": [
    "##### Exercise 4(a)\n",
    "\n",
    "$$\n",
    "    A = \\begin{bmatrix}\n",
    "     0 & 1 & 1 \\\\\n",
    "     1 & 0 & 1 \\\\\n",
    "     1 & 1 & 0 \n",
    "    \\end{bmatrix}.\n",
    "$$"
   ]
  },
  {
   "cell_type": "markdown",
   "metadata": {},
   "source": [
    "##### Exercise 4(b)\n",
    "\n",
    "$$\n",
    "    A = \\begin{bmatrix}\n",
    "     0 & 1 & 0 & 1 \\\\\n",
    "     1 & 0 & 1 & 0 \\\\\n",
    "     0 & 1 & 0 & 1 \\\\\n",
    "     1 & 0 & 1 & 0\n",
    "    \\end{bmatrix}.\n",
    "$$"
   ]
  },
  {
   "cell_type": "markdown",
   "metadata": {},
   "source": [
    "##### Exercise 4(c)\n",
    "\n",
    "令 $A$ 為 $n\\times n$ 矩陣\n",
    "\n",
    "$$\n",
    "    A = \\begin{bmatrix}\n",
    "     0 & 1 & 0 & \\cdots & 0 & 1\\\\\n",
    "     1 & 0 & 1 & \\ddots & ~ & 0\\\\\n",
    "     0 & 1 & 0 & \\ddots & ~ & \\vdots\\\\\n",
    "     \\vdots & \\ddots & \\ddots & \\ddots & 1 & 0 \\\\\n",
    "     0 & ~ & ~ & 1 & 0 & 1 \\\\\n",
    "     1 & 0 & \\cdots & 0 & 1 & 0\n",
    "    \\end{bmatrix}.\n",
    "$$  \n",
    "\n",
    "<!-- eng start -->\n",
    "Let $A$ be the $n\\times n$ matrix  \n",
    "\n",
    "$$\n",
    "    A = \\begin{bmatrix}\n",
    "     0 & 1 & 0 & \\cdots & 0 & 1\\\\\n",
    "     1 & 0 & 1 & \\ddots & ~ & 0\\\\\n",
    "     0 & 1 & 0 & \\ddots & ~ & \\vdots\\\\\n",
    "     \\vdots & \\ddots & \\ddots & \\ddots & 1 & 0 \\\\\n",
    "     0 & ~ & ~ & 1 & 0 & 1 \\\\\n",
    "     1 & 0 & \\cdots & 0 & 1 & 0\n",
    "    \\end{bmatrix}.\n",
    "$$  \n",
    "<!-- eng end -->"
   ]
  },
  {
   "cell_type": "markdown",
   "metadata": {},
   "source": [
    "##### Exercise 5\n",
    "\n",
    "令  \n",
    "\n",
    "$$\n",
    "    A = \\begin{bmatrix}\n",
    "    0 & 0 & \\cdots & 0 & a_n \\\\\n",
    "    1 & 0 & ~ & \\vdots & \\vdots \\\\\n",
    "    0 & \\ddots & \\ddots & ~ & ~ \\\\\n",
    "    \\vdots & \\ddots & ~ & 0 & a_2 \\\\\n",
    "    0 & \\cdots & 0 & 1 & a_1\n",
    "    \\end{bmatrix}.\n",
    "$$\n",
    "\n",
    "求 $\\det(A)$。  \n",
    "\n",
    "<!-- eng start -->\n",
    "Let  \n",
    "\n",
    "$$\n",
    "    A = \\begin{bmatrix}\n",
    "    0 & 0 & \\cdots & 0 & a_n \\\\\n",
    "    1 & 0 & ~ & \\vdots & \\vdots \\\\\n",
    "    0 & \\ddots & \\ddots & ~ & ~ \\\\\n",
    "    \\vdots & \\ddots & ~ & 0 & a_2 \\\\\n",
    "    0 & \\cdots & 0 & 1 & a_1\n",
    "    \\end{bmatrix}.\n",
    "$$\n",
    "\n",
    "Find $\\det(A)$.  \n",
    "<!-- eng end -->"
   ]
  },
  {
   "cell_type": "markdown",
   "metadata": {},
   "source": [
    "##### Exercise 6\n",
    "\n",
    "令 $A$ 和 $B$ 為 $m\\times n$ 矩陣且 $m\\neq n$。  \n",
    "說明  \n",
    "\n",
    "$$\n",
    "    M = \\begin{bmatrix} \n",
    "    O_n & B\\trans \\\\\n",
    "    A & O_m\n",
    "    \\end{bmatrix}\n",
    "$$\n",
    "\n",
    "所對應到的賦權有向圖並不擁有任何基本子圖。  \n",
    "因此這樣的矩陣一定有 $\\det(M) = 0$。  \n",
    "\n",
    "<!-- eng start -->\n",
    "Let $A$ and $B$ be $m\\times n$ matrices with $m\\neq n$.  Explain why the weighted directed graph of  \n",
    "\n",
    "$$\n",
    "    M = \\begin{bmatrix} \n",
    "    O_n & B\\trans \\\\\n",
    "    A & O_m\n",
    "    \\end{bmatrix}\n",
    "$$\n",
    "\n",
    "contains no elementary subgraph.  Therefore, any matrix of this form has $\\det(M) = 0$.  \n",
    "<!-- eng end -->"
   ]
  }
 ],
 "metadata": {
  "kernelspec": {
   "display_name": "SageMath 9.7",
   "language": "sage",
   "name": "sagemath"
  },
  "language_info": {
   "codemirror_mode": {
    "name": "ipython",
    "version": 3
   },
   "file_extension": ".py",
   "mimetype": "text/x-python",
   "name": "python",
   "nbconvert_exporter": "python",
   "pygments_lexer": "ipython3",
   "version": "3.10.8"
  }
 },
 "nbformat": 4,
 "nbformat_minor": 4
}
