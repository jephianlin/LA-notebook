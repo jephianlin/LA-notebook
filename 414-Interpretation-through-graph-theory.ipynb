{
 "cells": [
  {
   "cell_type": "markdown",
   "metadata": {},
   "source": [
    "# 代數圖論觀點"
   ]
  },
  {
   "cell_type": "markdown",
   "metadata": {},
   "source": [
    "![Creative Commons License](https://i.creativecommons.org/l/by/4.0/88x31.png)  \n",
    "This work by Jephian Lin is licensed under a [Creative Commons Attribution 4.0 International License](http://creativecommons.org/licenses/by/4.0/)."
   ]
  },
  {
   "cell_type": "markdown",
   "metadata": {},
   "source": [
    "$\\newcommand{\\trans}{^\\top}\n",
    "\\newcommand{\\adj}{^{\\rm adj}}\n",
    "\\newcommand{\\cof}{^{\\rm cof}}\n",
    "\\newcommand{\\inp}[2]{\\left\\langle#1,#2\\right\\rangle}\n",
    "\\newcommand{\\dunion}{\\mathbin{\\dot\\cup}}\n",
    "\\newcommand{\\bzero}{\\mathbf{0}}\n",
    "\\newcommand{\\bone}{\\mathbf{1}}\n",
    "\\newcommand{\\ba}{\\mathbf{a}}\n",
    "\\newcommand{\\bb}{\\mathbf{b}}\n",
    "\\newcommand{\\bc}{\\mathbf{c}}\n",
    "\\newcommand{\\bd}{\\mathbf{d}}\n",
    "\\newcommand{\\be}{\\mathbf{e}}\n",
    "\\newcommand{\\bh}{\\mathbf{h}}\n",
    "\\newcommand{\\bp}{\\mathbf{p}}\n",
    "\\newcommand{\\bq}{\\mathbf{q}}\n",
    "\\newcommand{\\br}{\\mathbf{r}}\n",
    "\\newcommand{\\bx}{\\mathbf{x}}\n",
    "\\newcommand{\\by}{\\mathbf{y}}\n",
    "\\newcommand{\\bz}{\\mathbf{z}}\n",
    "\\newcommand{\\bu}{\\mathbf{u}}\n",
    "\\newcommand{\\bv}{\\mathbf{v}}\n",
    "\\newcommand{\\bw}{\\mathbf{w}}\n",
    "\\newcommand{\\tr}{\\operatorname{tr}}\n",
    "\\newcommand{\\nul}{\\operatorname{null}}\n",
    "\\newcommand{\\rank}{\\operatorname{rank}}\n",
    "%\\newcommand{\\ker}{\\operatorname{ker}}\n",
    "\\newcommand{\\range}{\\operatorname{range}}\n",
    "\\newcommand{\\Col}{\\operatorname{Col}}\n",
    "\\newcommand{\\Row}{\\operatorname{Row}}\n",
    "\\newcommand{\\spec}{\\operatorname{spec}}\n",
    "\\newcommand{\\vspan}{\\operatorname{span}}\n",
    "\\newcommand{\\Vol}{\\operatorname{Vol}}\n",
    "\\newcommand{\\sgn}{\\operatorname{sgn}}\n",
    "\\newcommand{\\idmap}{\\operatorname{id}}$"
   ]
  },
  {
   "cell_type": "code",
   "execution_count": 1,
   "metadata": {},
   "outputs": [],
   "source": [
    "from lingeo import random_int_list\n",
    "from gnm import matrix_digraph, effective_permutations, illustrate_det"
   ]
  },
  {
   "cell_type": "markdown",
   "metadata": {},
   "source": [
    "## Main idea"
   ]
  },
  {
   "cell_type": "markdown",
   "metadata": {},
   "source": [
    "In graph theory, a (simple) **graph** is a pair $G = (V(G),E(G))$ such that $E(G)$ is a set of $2$-subsets of $V(G)$.  \n",
    "An element in $V(G)$ is called a **vertex** , while an element in $E(G)$ is called an **edge** .  "
   ]
  },
  {
   "cell_type": "markdown",
   "metadata": {},
   "source": [
    "A **directed graph** (or **digraph**) is a pair $\\Gamma = (V(\\Gamma),E(\\Gamma))$ such that $E(\\Gamma)$ is a set of $2$-tuples $(i,j)$ with $i,j\\in V(\\Gamma)$.  \n",
    "An element in $E(\\Gamma)$ is called a **directed edge** .  \n",
    "A directed edge of the form $(i,i)$ is called a **loop** on vertex $i$.  "
   ]
  },
  {
   "cell_type": "markdown",
   "metadata": {},
   "source": [
    "A **weighted graph** is a graph $G$ along with a function $w:E(G) \\rightarrow \\mathbb{R}$  \n",
    "and $w(e)$ is called the **weight** of the edge $e$.  \n",
    "When $e = \\{i,j\\}$, we often write $w(i,j)$ for $w(e)$.  \n",
    "A **weighted digraph** is similarly defined.  "
   ]
  },
  {
   "cell_type": "markdown",
   "metadata": {},
   "source": [
    "When $A = \\begin{bmatrix} a_{ij} \\end{bmatrix}$ is an $n\\times n$ matrix, the **weighted digraph of $A$** is the weighted digraph $\\Gamma$ with  \n",
    "\n",
    "- $V(\\Gamma) = [n]$,  \n",
    "- $E(\\Gamma) = \\{(i,j): a_{ij} \\neq 0 \\}$, and \n",
    "- $w(i,j) = a_{ij}$,  \n",
    "\n",
    "denoted by $\\Gamma(A) = \\Gamma$. "
   ]
  },
  {
   "cell_type": "markdown",
   "metadata": {},
   "source": [
    "Let $\\Gamma$ be a weighted digraph on $n$ vertices.  \n",
    "An **elementary subgraph** of $G$ is a subgraph $H$ of $\\Gamma$ such that  \n",
    "\n",
    "- $V(H) = V(\\Gamma)$, \n",
    "- $E(H) \\subseteq V(\\Gamma)$, and \n",
    "- every vertex of $H$ has exactly one directed edge leaving it and exactly one directed edge arriving it.  \n",
    "\n",
    "The set of all elementary subgraphs of $\\Gamma$ is denoted by $\\mathfrak{E}(\\Gamma)$.  "
   ]
  },
  {
   "cell_type": "markdown",
   "metadata": {},
   "source": [
    "Every elementary subgraph must be composed of some cycles.  \n",
    "Let $c(H)$ be the number of cycles, including loops, doubly directed edges, and cycles of length at least $3$.  \n",
    "The **sign** of $H$ is defined as $\\sgn(H) = (-1)^{n + c(H)}$.  \n",
    "The **weight** of $H$ is defined as the product of the weights of every edges of $H$.  "
   ]
  },
  {
   "cell_type": "markdown",
   "metadata": {},
   "source": [
    "##### Permutation expansion (graph theory version)\n",
    "\n",
    "Let $A$ be an $n\\times n$ matrix and $\\Gamma$ its weighted digraph.  \n",
    "Then  \n",
    "$$\n",
    "    \\det(A) = \\sum_{H\\in\\mathfrak{E}(\\Gamma)} \\sgn(H) w(H).\n",
    "$$"
   ]
  },
  {
   "cell_type": "markdown",
   "metadata": {},
   "source": [
    "## Side stories\n",
    "\n",
    "- adjacency matrix\n",
    "- companion matrix"
   ]
  },
  {
   "cell_type": "markdown",
   "metadata": {},
   "source": [
    "## Experiments"
   ]
  },
  {
   "cell_type": "markdown",
   "metadata": {},
   "source": [
    "##### Exercise 1\n",
    "\n",
    "執行以下程式碼。  "
   ]
  },
  {
   "cell_type": "code",
   "execution_count": 9,
   "metadata": {
    "scrolled": false
   },
   "outputs": [
    {
     "data": {
      "text/html": [
       "<html>\\[\\newcommand{\\Bold}[1]{\\mathbf{#1}}A = \\left(\\begin{array}{rrrrrr}\n",
       "0 & 0 & -2 & 0 & 0 & 0 \\\\\n",
       "2 & -2 & 0 & 0 & -3 & 0 \\\\\n",
       "3 & 0 & -3 & 0 & 2 & 0 \\\\\n",
       "-3 & 0 & 0 & -2 & 2 & 1 \\\\\n",
       "-3 & 3 & -3 & 0 & 0 & 0 \\\\\n",
       "0 & 0 & 3 & -2 & 2 & 0\n",
       "\\end{array}\\right)\\]</html>"
      ],
      "text/latex": [
       "$$\\newcommand{\\Bold}[1]{\\mathbf{#1}}A = \\left(\\begin{array}{rrrrrr}\n",
       "0 & 0 & -2 & 0 & 0 & 0 \\\\\n",
       "2 & -2 & 0 & 0 & -3 & 0 \\\\\n",
       "3 & 0 & -3 & 0 & 2 & 0 \\\\\n",
       "-3 & 0 & 0 & -2 & 2 & 1 \\\\\n",
       "-3 & 3 & -3 & 0 & 0 & 0 \\\\\n",
       "0 & 0 & 3 & -2 & 2 & 0\n",
       "\\end{array}\\right)$$"
      ],
      "text/plain": [
       "A = [ 0  0 -2  0  0  0]\n",
       "[ 2 -2  0  0 -3  0]\n",
       "[ 3  0 -3  0  2  0]\n",
       "[-3  0  0 -2  2  1]\n",
       "[-3  3 -3  0  0  0]\n",
       "[ 0  0  3 -2  2  0]"
      ]
     },
     "metadata": {},
     "output_type": "display_data"
    }
   ],
   "source": [
    "### code\n",
    "set_random_seed(0)\n",
    "print_ans = False\n",
    "\n",
    "n = 6\n",
    "b = 18\n",
    "while True:\n",
    "    l = random_int_list(n^2 - b, 3) + [0]*b\n",
    "    shuffle(l)\n",
    "    A = matrix(n, l)\n",
    "    perms = effective_permutations(A)\n",
    "    if len(perms) >= 3 and len(perms) <= 8:\n",
    "        break\n",
    "\n",
    "pretty_print(LatexExpr(\"A =\"), A)\n",
    "\n",
    "if print_ans:\n",
    "    Gamma = matrix_digraph(A)\n",
    "    Gamma.show(edge_labels=True)\n",
    "    illustrate_det(A)\n",
    "    print(\"det(A) =\", A.det())"
   ]
  },
  {
   "cell_type": "markdown",
   "metadata": {},
   "source": [
    "##### Exercise 1(a)\n",
    "\n",
    "畫出 $\\Gamma(A)$ 並標上每條邊的權重。"
   ]
  },
  {
   "cell_type": "markdown",
   "metadata": {},
   "source": [
    "##### Exercise 1(b)\n",
    "\n",
    "求出所有的基本子圖，計算其正負號以及權重。"
   ]
  },
  {
   "cell_type": "markdown",
   "metadata": {},
   "source": [
    "##### Exercise 1(c)\n",
    "\n",
    "計算 $\\det(A)$。"
   ]
  },
  {
   "cell_type": "markdown",
   "metadata": {},
   "source": [
    "## Exercises"
   ]
  },
  {
   "cell_type": "markdown",
   "metadata": {},
   "source": [
    "##### Exercise 2\n",
    "\n",
    "對以下的矩陣 $A$，  \n",
    "令 $\\Gamma$ 為其賦權有向圖。  \n",
    "找出所有 $\\Gamma$ 的基本子圖，並藉此求出 $\\det(A)$。"
   ]
  },
  {
   "cell_type": "markdown",
   "metadata": {},
   "source": [
    "##### Exercise 3\n",
    "\n",
    "令  \n",
    "$$\n",
    "    A = \\begin{bmatrix}\n",
    "     1 & 1 \\\\\n",
    "     1 & 2\n",
    "    \\end{bmatrix}.\n",
    "$$\n",
    "則可建立一個表格包含所有的排列、其正負號、以及其配合 $A$ 的權重。\n",
    "\n",
    "\n",
    "| one-line repr | cycle repr | sign | weight |\n",
    "|--------|--------|--------|--------|\n",
    "| $12$ | $(1)(2)$ | $1$ | $2$ |\n",
    "| $21$ | $(12)$ | $-1$ | $1$ |\n",
    "\n",
    "如此可知 $\\det(A) = 1\\cdot 2 + (-1)\\cdot 1 = 1$。"
   ]
  },
  {
   "cell_type": "markdown",
   "metadata": {},
   "source": [
    "##### Exercise 3(a)\n",
    "\n",
    "令  \n",
    "$$\n",
    "    A = \\begin{bmatrix}\n",
    "     1 & 1 & 1 \\\\\n",
    "     1 & 2 & 4 \\\\\n",
    "     1 & 3 & 9\n",
    "    \\end{bmatrix}.\n",
    "$$\n",
    "依照同樣方法建立 $\\mathfrak{S}_3$ 的表格，並求出 $\\det(A)$。"
   ]
  },
  {
   "cell_type": "markdown",
   "metadata": {},
   "source": [
    "##### Exercise 3(b)\n",
    "\n",
    "令  \n",
    "$$\n",
    "    A = \\begin{bmatrix}\n",
    "     1 & 1 & 1 & 1 \\\\\n",
    "     1 & 2 & 4 & 8 \\\\\n",
    "     1 & 3 & 9 & 27 \\\\\n",
    "     1 & 4 & 16 & 64\n",
    "    \\end{bmatrix}.\n",
    "$$\n",
    "依照同樣方法建立 $\\mathfrak{S}_4$ 的表格，並求出 $\\det(A)$。"
   ]
  },
  {
   "cell_type": "markdown",
   "metadata": {},
   "source": [
    "##### Exercise 4\n",
    "\n",
    "令 $A$ 為一 $n\\times n$ 矩陣。"
   ]
  },
  {
   "cell_type": "markdown",
   "metadata": {},
   "source": [
    "##### Exercise 4(a)\n",
    "\n",
    "已知 $n = 2$ 時 $\\det(A)$ 為 $2$ 項相加減、  \n",
    "$n = 3$ 時 $\\det(A)$ 為 $6$ 項相加減。  \n",
    "求對於一般的 $n$來說，  \n",
    "$\\det(A)$ 的排列展開式有幾項相加減？"
   ]
  },
  {
   "cell_type": "markdown",
   "metadata": {},
   "source": [
    "##### Exercise 4(b)\n",
    "\n",
    "在這些項中，  \n",
    "有幾項是要加的（$\\sgn(\\sigma) = 1$）、  \n",
    "有幾項是要減的（$\\sgn(\\sigma) = -1$）？"
   ]
  },
  {
   "cell_type": "markdown",
   "metadata": {},
   "source": [
    "##### Exercise 4(c)\n",
    "\n",
    "在這些項中，有幾項有用到 $A$ 的 $1,1$-項？"
   ]
  },
  {
   "cell_type": "markdown",
   "metadata": {},
   "source": [
    "##### Exercise 5\n",
    "\n",
    "利用排列展開式說明 $\\det(A)$ 是一個以 $A$ 中各元素為變數的整係數多項式。  \n",
    "（因此如果 $A$ 是整數矩陣，則 $\\det(A)$ 也是整數；  \n",
    "而如果 $A$ 是有理數，則 $\\det(A)$ 也是有理數。  \n",
    "令一方面，這也表示 $\\det(A)$ 對 $A$ 中的元素來說是連續的。）"
   ]
  },
  {
   "cell_type": "markdown",
   "metadata": {},
   "source": [
    "##### Exercise 6\n",
    "\n",
    "對以下 $n\\times n$ 矩陣 $A$，  \n",
    "列出所有 $w_A(\\sigma) \\neq 0$ 的排列及其正號，  \n",
    "並藉此求出 $\\det(A)$。  \n",
    "\n",
    "（這個方法在 $A$ 是稀疏矩陣的時候特別有效率。）"
   ]
  },
  {
   "cell_type": "markdown",
   "metadata": {},
   "source": [
    "##### Exercise 6(a)\n",
    "\n",
    "$$\n",
    "    A = \\begin{bmatrix}\n",
    "     0 & 1 & 0 & 0 \\\\\n",
    "     1 & 0 & 1 & 0 \\\\\n",
    "     0 & 1 & 0 & 1 \\\\\n",
    "     0 & 0 & 1 & 0 \\\\\n",
    "    \\end{bmatrix}.\n",
    "$$"
   ]
  },
  {
   "cell_type": "markdown",
   "metadata": {},
   "source": [
    "##### Exercise 6(b)\n",
    "\n",
    "$$\n",
    "    A = \\begin{bmatrix}\n",
    "     0 & 1 & 0 & 1 \\\\\n",
    "     1 & 0 & 1 & 0 \\\\\n",
    "     0 & 1 & 0 & 1 \\\\\n",
    "     1 & 0 & 1 & 0 \\\\\n",
    "    \\end{bmatrix}.\n",
    "$$"
   ]
  },
  {
   "cell_type": "markdown",
   "metadata": {},
   "source": [
    "##### Exercise 6(c)\n",
    "\n",
    "$$\n",
    "    A = \\begin{bmatrix}\n",
    "     0 & 1 & 1 & 1 \\\\\n",
    "     1 & 0 & 0 & 0 \\\\\n",
    "     1 & 0 & 0 & 0 \\\\\n",
    "     1 & 0 & 0 & 0 \\\\\n",
    "    \\end{bmatrix}.\n",
    "$$"
   ]
  }
 ],
 "metadata": {
  "kernelspec": {
   "display_name": "SageMath 9.4",
   "language": "sage",
   "name": "sagemath"
  },
  "language_info": {
   "codemirror_mode": {
    "name": "ipython",
    "version": 3
   },
   "file_extension": ".py",
   "mimetype": "text/x-python",
   "name": "python",
   "nbconvert_exporter": "python",
   "pygments_lexer": "ipython3",
   "version": "3.10.1"
  }
 },
 "nbformat": 4,
 "nbformat_minor": 4
}
