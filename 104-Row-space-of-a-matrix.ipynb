{
 "cells": [
  {
   "cell_type": "markdown",
   "metadata": {},
   "source": [
    "# 矩陣的列空間"
   ]
  },
  {
   "cell_type": "markdown",
   "metadata": {},
   "source": [
    "![Creative Commons License](https://i.creativecommons.org/l/by/4.0/88x31.png)  \n",
    "This work by Jephian Lin is licensed under a [Creative Commons Attribution 4.0 International License](http://creativecommons.org/licenses/by/4.0/)."
   ]
  },
  {
   "cell_type": "markdown",
   "metadata": {},
   "source": [
    "## Main idea"
   ]
  },
  {
   "cell_type": "markdown",
   "metadata": {},
   "source": [
    "##### Matrix-vector multiplication (by row)\n",
    "$$A = \\begin{bmatrix} \n",
    " - & {\\bf r}_1 & - \\\\\n",
    " ~ & \\vdots & ~ \\\\\n",
    " - & {\\bf r}_m & - \\\\\n",
    "\\end{bmatrix}$$\n",
    "be an $m\\times n$ matrix and ${\\bf v}$ a vector in $\\mathbb{R}^n$.  \n",
    "Then the $i$-th entry of $A{\\bf v}$ is  \n",
    "$$(A{\\bf v})_i = \\langle{\\bf r}_i, {\\bf v}\\rangle.$$"
   ]
  },
  {
   "cell_type": "markdown",
   "metadata": {},
   "source": [
    "A set in $\\mathbb{R}^n$ of the form \n",
    "$$\\{ {\\bf v}\\in\\mathbb{R}^n : \\langle{\\bf r}, {\\bf v}\\rangle = b \\}$$  \n",
    "for some vector ${\\bf r}$ and scalar $b$  \n",
    "is called a **hyperplane**,  \n",
    "where ${\\bf r}$ is its **normal vector**.  "
   ]
  },
  {
   "cell_type": "markdown",
   "metadata": {},
   "source": [
    "Therefore, if  \n",
    "$${\\bf b} = \\begin{bmatrix} b_1 \\\\ \\vdots \\\\ b_m \\end{bmatrix},$$  \n",
    "then the solution set of $A{\\bf v} = {\\bf b}$ is  \n",
    "the intersections of the hyperplanes given by $\\langle{\\bf r}_i, {\\bf v}\\rangle = b_i$ for $i = 1,\\ldots m$.  "
   ]
  },
  {
   "cell_type": "markdown",
   "metadata": {},
   "source": [
    "A **hyperplane** is a subspace if and only if it contains the origin ${\\bf 0}$,  \n",
    "which is equivalent to the corresponding $b$ is $0$."
   ]
  },
  {
   "cell_type": "markdown",
   "metadata": {},
   "source": [
    "The **row space** of $A$ is defined as   \n",
    "$$\\operatorname{Row}(A) = \\operatorname{span}(\\{{\\bf r}_1, \\ldots, {\\bf r}_m\\}).$$  "
   ]
  },
  {
   "cell_type": "markdown",
   "metadata": {},
   "source": [
    "Let $V$ be a subspace in $\\mathbb{R}^n$.  \n",
    "The **orthogonal complement** of $V$ is defined as  \n",
    "$$V^\\perp = \\{{\\bf w}\\in\\mathbb{R}^n : \\langle{\\bf w},{\\bf v}\\rangle = 0 \\text{ for all }{\\bf v}\\in V\\}.$$  \n",
    "Thus, $\\operatorname{ker}(A) = \\operatorname{Row}(A)^\\perp$ for any matrix $A$.  "
   ]
  },
  {
   "cell_type": "markdown",
   "metadata": {},
   "source": [
    "## Side stories\n",
    "- paramertrization\n",
    "- partition of space"
   ]
  },
  {
   "cell_type": "markdown",
   "metadata": {},
   "source": [
    "## Experiments"
   ]
  },
  {
   "cell_type": "markdown",
   "metadata": {},
   "source": [
    "##### Exercise 1\n",
    "執行下方程式碼。  \n",
    "紅色、藍色、綠色的平面分別為 $\\langle{\\bf r}_i,{\\bf v}\\rangle = b_i$ 畫出來的超平面。  "
   ]
  },
  {
   "cell_type": "code",
   "execution_count": null,
   "metadata": {
    "scrolled": false
   },
   "outputs": [],
   "source": [
    "### code\n",
    "# set_random_seed(0)\n",
    "# print_ans = False\n",
    "r1 = vector([1,0,0])\n",
    "r2 = vector([0,1,0])\n",
    "r3 = vector([0,0,1])\n",
    "b1,b2,b3 = 0,0,0\n",
    "\n",
    "H.<x,y,z> = HyperplaneArrangements(QQ)\n",
    "h1 = r1[0]*x + r1[1]*y + r1[2]*z - b1\n",
    "h2 = r2[0]*x + r2[1]*y + r2[2]*z - b2\n",
    "h3 = r3[0]*x + r3[1]*y + r3[2]*z - b3\n",
    "\n",
    "h1.plot(color=\"red\") + h2.plot(color=\"blue\") + h3.plot(color=\"green\")"
   ]
  },
  {
   "cell_type": "markdown",
   "metadata": {},
   "source": [
    "##### Exercise 1(a)\n",
    "設定一些 `r1, r2, r3` 及 `b1, b2, b3` 使得三個超平面的交集為一直線。  "
   ]
  },
  {
   "cell_type": "code",
   "execution_count": null,
   "metadata": {},
   "outputs": [],
   "source": [
    "r1 = vector([1,0,0])\n",
    "r2 = vector([0,1,0])\n",
    "r3 = vector([0,0,1])\n",
    "b1,b2,b3 = 0,0,0\n",
    "\n",
    "H.<x,y,z> = HyperplaneArrangements(QQ)\n",
    "h1 = r1[0]*x + r1[1]*y + r1[2]*z - b1\n",
    "h2 = r2[0]*x + r2[1]*y + r2[2]*z - b2\n",
    "h3 = r3[0]*x + r3[1]*y + r3[2]*z - b3\n",
    "\n",
    "h1.plot(color=\"red\") + h2.plot(color=\"blue\") + h3.plot(color=\"green\")"
   ]
  },
  {
   "cell_type": "markdown",
   "metadata": {},
   "source": [
    "##### Exercise 1(b)\n",
    "設定一些 `r1, r2, r3` 及 `b1, b2, b3` 使得三個超平面的交集為一平面。  "
   ]
  },
  {
   "cell_type": "code",
   "execution_count": null,
   "metadata": {},
   "outputs": [],
   "source": [
    "r1 = vector([1,0,0])\n",
    "r2 = vector([0,1,0])\n",
    "r3 = vector([0,0,1])\n",
    "b1,b2,b3 = 0,0,0\n",
    "\n",
    "H.<x,y,z> = HyperplaneArrangements(QQ)\n",
    "h1 = r1[0]*x + r1[1]*y + r1[2]*z - b1\n",
    "h2 = r2[0]*x + r2[1]*y + r2[2]*z - b2\n",
    "h3 = r3[0]*x + r3[1]*y + r3[2]*z - b3\n",
    "\n",
    "h1.plot(color=\"red\") + h2.plot(color=\"blue\") + h3.plot(color=\"green\")"
   ]
  },
  {
   "cell_type": "markdown",
   "metadata": {},
   "source": [
    "##### Exercise 1(c)\n",
    "設定一些 `r1, r2, r3` 及 `b1, b2, b3` 使得三個超平面的交集為空集合。  "
   ]
  },
  {
   "cell_type": "code",
   "execution_count": null,
   "metadata": {},
   "outputs": [],
   "source": [
    "r1 = vector([1,0,0])\n",
    "r2 = vector([0,1,0])\n",
    "r3 = vector([0,0,1])\n",
    "b1,b2,b3 = 0,0,0\n",
    "\n",
    "H.<x,y,z> = HyperplaneArrangements(QQ)\n",
    "h1 = r1[0]*x + r1[1]*y + r1[2]*z - b1\n",
    "h2 = r2[0]*x + r2[1]*y + r2[2]*z - b2\n",
    "h3 = r3[0]*x + r3[1]*y + r3[2]*z - b3\n",
    "\n",
    "h1.plot(color=\"red\") + h2.plot(color=\"blue\") + h3.plot(color=\"green\")"
   ]
  },
  {
   "cell_type": "markdown",
   "metadata": {},
   "source": [
    "## Exercises"
   ]
  },
  {
   "cell_type": "markdown",
   "metadata": {},
   "source": [
    "##### Exercise 2\n",
    "超平面的基本性質。"
   ]
  },
  {
   "cell_type": "markdown",
   "metadata": {},
   "source": [
    "##### Exercise 2(a)\n",
    "找兩個向量 ${\\bf u}_1, {\\bf u}_2$  \n",
    "使得 $\\left\\{\\begin{bmatrix}x\\\\y\\\\z\\end{bmatrix} : x + y + z = 0\\right\\} = \\operatorname{span}(\\{{\\bf u}_1, {\\bf u}_2\\})$。  \n",
    "（可以令 $y = c_1$ 及 $z = c_2$ 來算出解的參數式。）  \n",
    "這讓我們更確定一個通過原點的超平面是一個子空間。  "
   ]
  },
  {
   "cell_type": "markdown",
   "metadata": {},
   "source": [
    "##### Exercise 2(b)\n",
    "說明如果一個超平面沒有通過原點則不是一個子空間。"
   ]
  },
  {
   "cell_type": "markdown",
   "metadata": {},
   "source": [
    "##### Exercise 2(c)\n",
    "實際上﹐每個齊次線性方程組（$A{\\bf v} = {\\bf 0}$）  \n",
    "的解都可以用參數式表達。  \n",
    "找兩個向量 ${\\bf u}_1, {\\bf u}_2$  \n",
    "使得 $\\left\\{\\begin{bmatrix}x\\\\y\\\\z\\\\w\\end{bmatrix} :  \n",
    "\\begin{array}{ccccc} \n",
    "x & +y &   & +w & =0 \\\\\n",
    "  &    & z & +w &= 0 \\\\\n",
    "\\end{array}\\right\\} = \\operatorname{span}(\\{{\\bf u}_1, {\\bf u}_2\\})$。  \n",
    "（可以令 $y = c_1$ 及 $w = c_2$ 來算出解的參數式。）"
   ]
  },
  {
   "cell_type": "markdown",
   "metadata": {},
   "source": [
    "##### Exercise 3\n",
    "證明 $\\operatorname{ker}(A) = \\operatorname{Row}(A)^\\perp$。  "
   ]
  },
  {
   "cell_type": "markdown",
   "metadata": {},
   "source": [
    "Sample:  \n",
    "Let ${\\bf r}_1, \\ldots, {\\bf r}_m$ be the rows of $A$.  \n",
    "\n",
    "**\"$\\subseteq$\"**  \n",
    "If ${\\bf v}\\in\\operatorname{ker}(A)$, then ...  \n",
    "...  \n",
    "Therefore, ${\\bf v}\\in\\operatorname{Row}(A)^\\perp$.  \n",
    "\n",
    "**\"$\\supseteq$\"**  \n",
    "If ${\\bf v}\\in\\operatorname{Row}(A)^\\perp$, then ...  \n",
    "...  \n",
    "Therefore, ${\\bf v}\\in\\operatorname{ker}(A)$.  "
   ]
  },
  {
   "cell_type": "markdown",
   "metadata": {},
   "source": [
    "##### Exercise 4\n",
    "\n",
    "一個超平面會把 $\\mathbb{R}^n$ 分割成兩部份。  \n",
    "更精確來說﹐  \n",
    "給定法量向 ${\\bf r}$ 和偏移量 $b$﹐  \n",
    "整個 空間會被分成三部份  \n",
    "正部︰$\\{{\\bf v}: \\langle{\\bf r},{\\bf v}\\rangle > b\\}$、  \n",
    "負部︰$\\{{\\bf v}: \\langle{\\bf r},{\\bf v}\\rangle < b\\}$、  \n",
    "邊界︰$\\{{\\bf v}: \\langle{\\bf r},{\\bf v}\\rangle = b\\}$（超平面本身）。  "
   ]
  },
  {
   "cell_type": "markdown",
   "metadata": {},
   "source": [
    "##### Exercise 4(a)\n",
    "考慮法向量 ${\\bf r} = (1,1,1)$ 和偏移量 $b = 5$ 所定義出來的超平面。  \n",
    "問點  \n",
    "${\\bf v}_1 = (0,2,3)$、  \n",
    "${\\bf v}_2 = (1,0,1)$、  \n",
    "${\\bf v}_3 = (3,2,1)$  \n",
    "分別落在超平面的正部、負部、或是邊界？  "
   ]
  },
  {
   "cell_type": "markdown",
   "metadata": {},
   "source": [
    "##### Exercise 4(b)\n",
    "\n",
    "給定以下點  \n",
    "${\\bf v}_1 = (3,4,5,6)$、  \n",
    "${\\bf v}_2 = (2,3,6,7)$、  \n",
    "${\\bf v}_3 = (3,1,8,6)$、  \n",
    "${\\bf v}_4 = (5,5,5,3)$、  \n",
    "${\\bf v}_5 = (0,0,0,0)$、  \n",
    "${\\bf v}_6 = (1,1,2,2)$、  \n",
    "${\\bf v}_7 = (1,3,-1,-2)$、  \n",
    "${\\bf v}_8 = (1,2,3,4)$、  \n",
    "找一組法向量以及偏移量使得  \n",
    "其定義出來的超平面讓  \n",
    "${\\bf v}_1, {\\bf v}_2, {\\bf v}_3, {\\bf v}_4$ 落在正部、  \n",
    "${\\bf v}_5, {\\bf v}_6, {\\bf v}_7, {\\bf v}_8$ 落在負部。  "
   ]
  }
 ],
 "metadata": {
  "kernelspec": {
   "display_name": "SageMath 9.0",
   "language": "sage",
   "name": "sagemath"
  },
  "language_info": {
   "codemirror_mode": {
    "name": "ipython",
    "version": 3
   },
   "file_extension": ".py",
   "mimetype": "text/x-python",
   "name": "python",
   "nbconvert_exporter": "python",
   "pygments_lexer": "ipython3",
   "version": "3.8.10"
  }
 },
 "nbformat": 4,
 "nbformat_minor": 4
}
