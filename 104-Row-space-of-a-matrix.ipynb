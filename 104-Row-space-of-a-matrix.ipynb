{
 "cells": [
  {
   "cell_type": "markdown",
   "metadata": {},
   "source": [
    "# 矩陣的列空間\n",
    "\n",
    "Row space of a matrix"
   ]
  },
  {
   "cell_type": "markdown",
   "metadata": {},
   "source": [
    "![Creative Commons License](https://i.creativecommons.org/l/by/4.0/88x31.png)  \n",
    "This work by Jephian Lin is licensed under a [Creative Commons Attribution 4.0 International License](http://creativecommons.org/licenses/by/4.0/)."
   ]
  },
  {
   "cell_type": "markdown",
   "metadata": {},
   "source": [
    "$\\newcommand{\\trans}{^\\top}\n",
    "\\newcommand{\\adj}{^{\\rm adj}}\n",
    "\\newcommand{\\cof}{^{\\rm cof}}\n",
    "\\newcommand{\\inp}[2]{\\left\\langle#1,#2\\right\\rangle}\n",
    "\\newcommand{\\dunion}{\\mathbin{\\dot\\cup}}\n",
    "\\newcommand{\\bzero}{\\mathbf{0}}\n",
    "\\newcommand{\\bone}{\\mathbf{1}}\n",
    "\\newcommand{\\ba}{\\mathbf{a}}\n",
    "\\newcommand{\\bb}{\\mathbf{b}}\n",
    "\\newcommand{\\bc}{\\mathbf{c}}\n",
    "\\newcommand{\\bd}{\\mathbf{d}}\n",
    "\\newcommand{\\be}{\\mathbf{e}}\n",
    "\\newcommand{\\bh}{\\mathbf{h}}\n",
    "\\newcommand{\\bp}{\\mathbf{p}}\n",
    "\\newcommand{\\bq}{\\mathbf{q}}\n",
    "\\newcommand{\\br}{\\mathbf{r}}\n",
    "\\newcommand{\\bx}{\\mathbf{x}}\n",
    "\\newcommand{\\by}{\\mathbf{y}}\n",
    "\\newcommand{\\bz}{\\mathbf{z}}\n",
    "\\newcommand{\\bu}{\\mathbf{u}}\n",
    "\\newcommand{\\bv}{\\mathbf{v}}\n",
    "\\newcommand{\\bw}{\\mathbf{w}}\n",
    "\\newcommand{\\tr}{\\operatorname{tr}}\n",
    "\\newcommand{\\nul}{\\operatorname{null}}\n",
    "\\newcommand{\\rank}{\\operatorname{rank}}\n",
    "%\\newcommand{\\ker}{\\operatorname{ker}}\n",
    "\\newcommand{\\range}{\\operatorname{range}}\n",
    "\\newcommand{\\Col}{\\operatorname{Col}}\n",
    "\\newcommand{\\Row}{\\operatorname{Row}}\n",
    "\\newcommand{\\spec}{\\operatorname{spec}}\n",
    "\\newcommand{\\vspan}{\\operatorname{span}}\n",
    "\\newcommand{\\Vol}{\\operatorname{Vol}}\n",
    "\\newcommand{\\sgn}{\\operatorname{sgn}}\n",
    "\\newcommand{\\idmap}{\\operatorname{id}}\n",
    "\\newcommand{\\am}{\\operatorname{am}}\n",
    "\\newcommand{\\gm}{\\operatorname{gm}}\n",
    "\\newcommand{\\mult}{\\operatorname{mult}}\n",
    "\\newcommand{\\iner}{\\operatorname{iner}}$"
   ]
  },
  {
   "cell_type": "markdown",
   "metadata": {},
   "source": [
    "## Main idea"
   ]
  },
  {
   "cell_type": "markdown",
   "metadata": {},
   "source": [
    "##### Matrix-vector multiplication (by row)\n",
    "$$A = \\begin{bmatrix} \n",
    " - & \\br_1 & - \\\\\n",
    " ~ & \\vdots & ~ \\\\\n",
    " - & \\br_m & - \\\\\n",
    "\\end{bmatrix}$$\n",
    "be an $m\\times n$ matrix and $\\bv$ a vector in $\\mathbb{R}^n$.  \n",
    "Then the $i$-th entry of $A\\bv$ is  \n",
    "$$(A\\bv)_i = \\inp{\\br_i}{\\bv}.$$"
   ]
  },
  {
   "cell_type": "markdown",
   "metadata": {},
   "source": [
    "A set in $\\mathbb{R}^n$ of the form \n",
    "$$\\{ \\bv\\in\\mathbb{R}^n : \\inp{\\br}{\\bv} = b \\}$$  \n",
    "for some vector $\\br$ and scalar $b$  \n",
    "is called a **hyperplane**,  \n",
    "where $\\br$ is its **normal vector**.  "
   ]
  },
  {
   "cell_type": "markdown",
   "metadata": {},
   "source": [
    "Therefore, if  \n",
    "$$\\bb = \\begin{bmatrix} b_1 \\\\ \\vdots \\\\ b_m \\end{bmatrix},$$  \n",
    "then the solution set of $A\\bv = \\bb$ is  \n",
    "the intersections of the hyperplanes given by $\\inp{\\br_i}{\\bv} = b_i$ for $i = 1,\\ldots m$.  "
   ]
  },
  {
   "cell_type": "markdown",
   "metadata": {},
   "source": [
    "A **hyperplane** is a subspace if and only if it contains the origin $\\bzero$,  \n",
    "which is equivalent to the corresponding $b$ is $0$."
   ]
  },
  {
   "cell_type": "markdown",
   "metadata": {},
   "source": [
    "The **row space** of $A$ is defined as   \n",
    "$$\\Row(A) = \\vspan(\\{\\br_1, \\ldots, \\br_m\\}).$$  "
   ]
  },
  {
   "cell_type": "markdown",
   "metadata": {},
   "source": [
    "Let $V$ be a subspace in $\\mathbb{R}^n$.  \n",
    "The **orthogonal complement** of $V$ is defined as  \n",
    "$$V^\\perp = \\{\\bw\\in\\mathbb{R}^n : \\inp{\\bw}{\\bv} = 0 \\text{ for all }\\bv\\in V\\}.$$  \n",
    "Thus, $\\ker(A) = \\Row(A)^\\perp$ for any matrix $A$.  "
   ]
  },
  {
   "cell_type": "markdown",
   "metadata": {},
   "source": [
    "## Side stories\n",
    "- paramertrization\n",
    "- partition of space"
   ]
  },
  {
   "cell_type": "markdown",
   "metadata": {},
   "source": [
    "## Experiments"
   ]
  },
  {
   "cell_type": "markdown",
   "metadata": {},
   "source": [
    "##### Exercise 1\n",
    "\n",
    "執行下方程式碼。  \n",
    "紅色、藍色、綠色的平面分別為 $\\inp{\\br_i}{\\bv} = b_i$ 畫出來的超平面。  \n",
    "\n",
    "<!-- eng start -->\n",
    "Run the code below.  Let the hyperplanes of $\\inp{\\br_i}{\\bv} = b_i$ be the red, blue, and green plane.\n",
    "<!-- eng end -->"
   ]
  },
  {
   "cell_type": "code",
   "execution_count": null,
   "metadata": {
    "scrolled": false
   },
   "outputs": [],
   "source": [
    "### code\n",
    "set_random_seed(0)\n",
    "print_ans = False\n",
    "r1 = vector([1,0,0])\n",
    "r2 = vector([0,1,0])\n",
    "r3 = vector([0,0,1])\n",
    "b1,b2,b3 = 0,0,0\n",
    "\n",
    "H.<x,y,z> = HyperplaneArrangements(QQ)\n",
    "h1 = r1[0]*x + r1[1]*y + r1[2]*z - b1\n",
    "h2 = r2[0]*x + r2[1]*y + r2[2]*z - b2\n",
    "h3 = r3[0]*x + r3[1]*y + r3[2]*z - b3\n",
    "\n",
    "h1.plot(color=\"red\") + h2.plot(color=\"blue\") + h3.plot(color=\"green\")"
   ]
  },
  {
   "cell_type": "markdown",
   "metadata": {},
   "source": [
    "##### Exercise 1(a)\n",
    "\n",
    "設定一些 `r1, r2, r3` 及 `b1, b2, b3` 使得三個超平面的交集為一直線。  \n",
    "\n",
    "<!-- eng start -->\n",
    "Choose some appropriate `r1, r2, r3` and `b1, b2, b3` so that the intersection of the three hyperplanes is a straight line.\n",
    "<!-- eng end -->"
   ]
  },
  {
   "cell_type": "code",
   "execution_count": null,
   "metadata": {},
   "outputs": [],
   "source": [
    "r1 = vector([1,0,0])\n",
    "r2 = vector([0,1,0])\n",
    "r3 = vector([0,0,1])\n",
    "b1,b2,b3 = 0,0,0\n",
    "\n",
    "H.<x,y,z> = HyperplaneArrangements(QQ)\n",
    "h1 = r1[0]*x + r1[1]*y + r1[2]*z - b1\n",
    "h2 = r2[0]*x + r2[1]*y + r2[2]*z - b2\n",
    "h3 = r3[0]*x + r3[1]*y + r3[2]*z - b3\n",
    "\n",
    "h1.plot(color=\"red\") + h2.plot(color=\"blue\") + h3.plot(color=\"green\")"
   ]
  },
  {
   "cell_type": "markdown",
   "metadata": {},
   "source": [
    "##### Exercise 1(b)\n",
    "\n",
    "設定一些 `r1, r2, r3` 及 `b1, b2, b3` 使得三個超平面的交集為一平面。  \n",
    "\n",
    "<!-- eng start -->\n",
    "Choose some appropriate `r1, r2, r3` and `b1, b2, b3` so that the intersection of the three hyperplanes is a plane.\n",
    "<!-- eng end -->"
   ]
  },
  {
   "cell_type": "code",
   "execution_count": null,
   "metadata": {},
   "outputs": [],
   "source": [
    "r1 = vector([1,0,0])\n",
    "r2 = vector([0,1,0])\n",
    "r3 = vector([0,0,1])\n",
    "b1,b2,b3 = 0,0,0\n",
    "\n",
    "H.<x,y,z> = HyperplaneArrangements(QQ)\n",
    "h1 = r1[0]*x + r1[1]*y + r1[2]*z - b1\n",
    "h2 = r2[0]*x + r2[1]*y + r2[2]*z - b2\n",
    "h3 = r3[0]*x + r3[1]*y + r3[2]*z - b3\n",
    "\n",
    "h1.plot(color=\"red\") + h2.plot(color=\"blue\") + h3.plot(color=\"green\")"
   ]
  },
  {
   "cell_type": "markdown",
   "metadata": {},
   "source": [
    "##### Exercise 1(c)\n",
    "\n",
    "設定一些 `r1, r2, r3` 及 `b1, b2, b3` 使得三個超平面的交集為空集合。  \n",
    "\n",
    "<!-- eng start -->\n",
    "Choose some appropriate `r1, r2, r3` and `b1, b2, b3` so that the intersection of the three hyperplanes is the emptyset.\n",
    "<!-- eng end -->"
   ]
  },
  {
   "cell_type": "code",
   "execution_count": null,
   "metadata": {},
   "outputs": [],
   "source": [
    "r1 = vector([1,0,0])\n",
    "r2 = vector([0,1,0])\n",
    "r3 = vector([0,0,1])\n",
    "b1,b2,b3 = 0,0,0\n",
    "\n",
    "H.<x,y,z> = HyperplaneArrangements(QQ)\n",
    "h1 = r1[0]*x + r1[1]*y + r1[2]*z - b1\n",
    "h2 = r2[0]*x + r2[1]*y + r2[2]*z - b2\n",
    "h3 = r3[0]*x + r3[1]*y + r3[2]*z - b3\n",
    "\n",
    "h1.plot(color=\"red\") + h2.plot(color=\"blue\") + h3.plot(color=\"green\")"
   ]
  },
  {
   "cell_type": "markdown",
   "metadata": {},
   "source": [
    "## Exercises"
   ]
  },
  {
   "cell_type": "markdown",
   "metadata": {},
   "source": [
    "##### Exercise 2\n",
    "\n",
    "超平面的基本性質。\n",
    "\n",
    "<!-- eng start -->\n",
    "Basic properties of a hyperplane.\n",
    "<!-- eng end -->"
   ]
  },
  {
   "cell_type": "markdown",
   "metadata": {},
   "source": [
    "##### Exercise 2(a)\n",
    "\n",
    "找兩個向量 $\\bu_1, \\bu_2$  \n",
    "使得 $\\left\\{\\begin{bmatrix}x\\\\y\\\\z\\end{bmatrix} : x + y + z = 0\\right\\} = \\vspan(\\{\\bu_1, \\bu_2\\})$。  \n",
    "（可以令 $y = c_1$ 及 $z = c_2$ 來算出解的參數式。）  \n",
    "這讓我們更確定一個通過原點的超平面是一個子空間。  \n",
    "\n",
    "<!-- eng start -->\n",
    "Find vectors $\\bu_1$ and $\\bu_2$ so that $\\left\\{\\begin{bmatrix}x\\\\y\\\\z\\end{bmatrix} : x + y + z = 0\\right\\} = \\vspan(\\{\\bu_1, \\bu_2\\})$.  (You may assume $y = c_1$ and $z = c_2$ to parametrize the equation.)  This indicates that a hyperplane passing through the origin is likely to be a subspace.\n",
    "<!-- eng end -->"
   ]
  },
  {
   "cell_type": "markdown",
   "metadata": {},
   "source": [
    "##### Exercise 2(b)\n",
    "\n",
    "說明如果一個超平面沒有通過原點則不是一個子空間。\n",
    "\n",
    "<!-- eng start -->\n",
    "Show that a hyperplane without passing through the origin is not a subspace.\n",
    "<!-- eng end -->"
   ]
  },
  {
   "cell_type": "markdown",
   "metadata": {},
   "source": [
    "##### Exercise 2(c)\n",
    "\n",
    "實際上，每個齊次線性方程組（$A\\bv = \\bzero$）  \n",
    "的解都可以用參數式表達。  \n",
    "找兩個向量 $\\bu_1, \\bu_2$  \n",
    "使得 $\\left\\{\\begin{bmatrix}x\\\\y\\\\z\\\\w\\end{bmatrix} :  \n",
    "\\begin{array}{ccccc} \n",
    "x & +y &   & +w & =0 \\\\\n",
    "  &    & z & +w &= 0 \\\\\n",
    "\\end{array}\\right\\} = \\vspan(\\{\\bu_1, \\bu_2\\})$。  \n",
    "（可以令 $y = c_1$ 及 $w = c_2$ 來算出解的參數式。）\n",
    "\n",
    "<!-- eng start -->\n",
    "Indeed, the solution set of a homogeneous system of linear equations (i.e., $A\\bv = \\bzero$) can be parametrized as the span of some vectors.  \n",
    "\n",
    "Find vectors $\\bu_1$ and $\\bu_2$ so that $\\left\\{\\begin{bmatrix}x\\\\y\\\\z\\\\w\\end{bmatrix} :  \n",
    "\\begin{array}{ccccc} \n",
    "x & +y &   & +w & =0 \\\\\n",
    "  &    & z & +w &= 0 \\\\\n",
    "\\end{array}\\right\\} = \\vspan(\\{\\bu_1, \\bu_2\\})$.  (You may assume $y = c_1$ and $w = c_2$ to parametrize the equations.)\n",
    "<!-- eng end -->"
   ]
  },
  {
   "cell_type": "markdown",
   "metadata": {},
   "source": [
    "##### Exercise 3\n",
    "\n",
    "證明 $\\ker(A) = \\Row(A)^\\perp$。  \n",
    "\n",
    "<!-- eng start -->\n",
    "Prove that $\\ker(A) = \\Row(A)^\\perp$.  \n",
    "<!-- eng end -->"
   ]
  },
  {
   "cell_type": "markdown",
   "metadata": {},
   "source": [
    "Sample:  \n",
    "Let $\\br_1, \\ldots, \\br_m$ be the rows of $A$.  \n",
    "\n",
    "**\"$\\subseteq$\"**  \n",
    "If $\\bv\\in\\ker(A)$, then ...  \n",
    "...  \n",
    "Therefore, $\\bv\\in\\Row(A)^\\perp$.  \n",
    "\n",
    "**\"$\\supseteq$\"**  \n",
    "If $\\bv\\in\\Row(A)^\\perp$, then ...  \n",
    "...  \n",
    "Therefore, $\\bv\\in\\ker(A)$.  "
   ]
  },
  {
   "cell_type": "markdown",
   "metadata": {},
   "source": [
    "##### Exercise 4\n",
    "\n",
    "一個超平面會把 $\\mathbb{R}^n$ 分割成兩部份。  \n",
    "更精確來說﹐  \n",
    "給定法量向 $\\br$ 和偏移量 $b$，  \n",
    "整個 $\\mathbb{R}^n$ 空間會被分成三部份  \n",
    "\n",
    "- 正部︰$\\{\\bv: \\inp{\\br}{\\bv} > b\\}$、  \n",
    "- 負部︰$\\{\\bv: \\inp{\\br}{\\bv} < b\\}$、  \n",
    "- 邊界︰$\\{\\bv: \\inp{\\br}{\\bv} = b\\}$（超平面本身）。  \n",
    "\n",
    "<!-- eng start -->\n",
    "A hyperplane cuts $\\mathbb{R}^n$ into two regions.  To be more precise, given a normal vector $\\br$ and a bias $b$, the whole space $\\mathbb{R}^n$ is composed of three parts  \n",
    "\n",
    "- positive side: $\\{\\bv: \\inp{\\br}{\\bv} > b\\}$,  \n",
    "- negative side: $\\{\\bv: \\inp{\\br}{\\bv} < b\\}$,  \n",
    "- boundary $\\{\\bv: \\inp{\\br}{\\bv} = b\\}$ (the hyperplane itself).\n",
    "<!-- eng end -->"
   ]
  },
  {
   "cell_type": "markdown",
   "metadata": {},
   "source": [
    "##### Exercise 4(a)\n",
    "\n",
    "考慮法向量 $\\br = (1,1,1)$ 和偏移量 $b = 5$ 所定義出來的超平面。  \n",
    "問點  \n",
    "$\\bv_1 = (0,2,3)$、  \n",
    "$\\bv_2 = (1,0,1)$、  \n",
    "$\\bv_3 = (3,2,1)$  \n",
    "分別落在超平面的正部、負部、或是邊界？  \n",
    "\n",
    "<!-- eng start -->\n",
    "Let $\\br = (1,1,1)$ and $b = 5$  be the normal vector and the bias of a normal plane.  For each of $\\bv_1 = (0,2,3)$, $\\bv_2 = (1,0,1)$, and $\\bv_3 = (3,2,1)$, determine whether it belongs to the positive side, the negative side, or the boundary?\n",
    "<!-- eng end -->"
   ]
  },
  {
   "cell_type": "markdown",
   "metadata": {},
   "source": [
    "##### Exercise 4(b)\n",
    "\n",
    "給定以下點  \n",
    "\n",
    "- $\\bv_1 = (3,4,5,6)$、  \n",
    "- $\\bv_2 = (2,3,6,7)$、  \n",
    "- $\\bv_3 = (3,1,8,6)$、  \n",
    "- $\\bv_4 = (5,5,5,3)$、  \n",
    "- $\\bv_5 = (0,0,0,0)$、  \n",
    "- $\\bv_6 = (1,1,2,2)$、  \n",
    "- $\\bv_7 = (1,3,-1,-2)$、  \n",
    "- $\\bv_8 = (1,2,3,4)$、  \n",
    "\n",
    "找一組法向量以及偏移量使得  \n",
    "其定義出來的超平面讓  \n",
    "$\\bv_1, \\bv_2, \\bv_3, \\bv_4$ 落在正部、  \n",
    "$\\bv_5, \\bv_6, \\bv_7, \\bv_8$ 落在負部。  \n",
    "\n",
    "<!-- eng start -->\n",
    "Consider the following points \n",
    "\n",
    "- $\\bv_1 = (3,4,5,6)$, \n",
    "- $\\bv_2 = (2,3,6,7)$, \n",
    "- $\\bv_3 = (3,1,8,6)$, \n",
    "- $\\bv_4 = (5,5,5,3)$, \n",
    "- $\\bv_5 = (0,0,0,0)$, \n",
    "- $\\bv_6 = (1,1,2,2)$, \n",
    "- $\\bv_7 = (1,3,-1,-2)$, \n",
    "- $\\bv_8 = (1,2,3,4)$.  \n",
    "\n",
    "Find a normal vector and a bias so that for the corresponding hyperplane, the points $\\bv_1, \\bv_2, \\bv_3, \\bv_4$ fall in the positive side, while $\\bv_5, \\bv_6, \\bv_7, \\bv_8$ fall in the negative site.\n",
    "<!-- eng end -->"
   ]
  }
 ],
 "metadata": {
  "kernelspec": {
   "display_name": "SageMath 9.6",
   "language": "sage",
   "name": "sagemath"
  },
  "language_info": {
   "codemirror_mode": {
    "name": "ipython",
    "version": 3
   },
   "file_extension": ".py",
   "mimetype": "text/x-python",
   "name": "python",
   "nbconvert_exporter": "python",
   "pygments_lexer": "ipython3",
   "version": "3.10.5"
  }
 },
 "nbformat": 4,
 "nbformat_minor": 4
}
