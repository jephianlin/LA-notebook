{
 "cells": [
  {
   "cell_type": "markdown",
   "metadata": {},
   "source": [
    "# 瑞利商"
   ]
  },
  {
   "cell_type": "markdown",
   "metadata": {},
   "source": [
    "![Creative Commons License](https://i.creativecommons.org/l/by/4.0/88x31.png)  \n",
    "This work by Jephian Lin is licensed under a [Creative Commons Attribution 4.0 International License](http://creativecommons.org/licenses/by/4.0/)."
   ]
  },
  {
   "cell_type": "markdown",
   "metadata": {},
   "source": [
    "$\\newcommand{\\trans}{^\\top}\n",
    "\\newcommand{\\adj}{^{\\rm adj}}\n",
    "\\newcommand{\\cof}{^{\\rm cof}}\n",
    "\\newcommand{\\inp}[2]{\\left\\langle#1,#2\\right\\rangle}\n",
    "\\newcommand{\\dunion}{\\mathbin{\\dot\\cup}}\n",
    "\\newcommand{\\bzero}{\\mathbf{0}}\n",
    "\\newcommand{\\bone}{\\mathbf{1}}\n",
    "\\newcommand{\\ba}{\\mathbf{a}}\n",
    "\\newcommand{\\bb}{\\mathbf{b}}\n",
    "\\newcommand{\\bc}{\\mathbf{c}}\n",
    "\\newcommand{\\bd}{\\mathbf{d}}\n",
    "\\newcommand{\\be}{\\mathbf{e}}\n",
    "\\newcommand{\\bh}{\\mathbf{h}}\n",
    "\\newcommand{\\bp}{\\mathbf{p}}\n",
    "\\newcommand{\\bq}{\\mathbf{q}}\n",
    "\\newcommand{\\br}{\\mathbf{r}}\n",
    "\\newcommand{\\bx}{\\mathbf{x}}\n",
    "\\newcommand{\\by}{\\mathbf{y}}\n",
    "\\newcommand{\\bz}{\\mathbf{z}}\n",
    "\\newcommand{\\bu}{\\mathbf{u}}\n",
    "\\newcommand{\\bv}{\\mathbf{v}}\n",
    "\\newcommand{\\bw}{\\mathbf{w}}\n",
    "\\newcommand{\\tr}{\\operatorname{tr}}\n",
    "\\newcommand{\\nul}{\\operatorname{null}}\n",
    "\\newcommand{\\rank}{\\operatorname{rank}}\n",
    "%\\newcommand{\\ker}{\\operatorname{ker}}\n",
    "\\newcommand{\\range}{\\operatorname{range}}\n",
    "\\newcommand{\\Col}{\\operatorname{Col}}\n",
    "\\newcommand{\\Row}{\\operatorname{Row}}\n",
    "\\newcommand{\\spec}{\\operatorname{spec}}\n",
    "\\newcommand{\\vspan}{\\operatorname{span}}\n",
    "\\newcommand{\\Vol}{\\operatorname{Vol}}\n",
    "\\newcommand{\\sgn}{\\operatorname{sgn}}\n",
    "\\newcommand{\\idmap}{\\operatorname{id}}\n",
    "\\newcommand{\\am}{\\operatorname{am}}\n",
    "\\newcommand{\\gm}{\\operatorname{gm}}\n",
    "\\newcommand{\\mult}{\\operatorname{mult}}\n",
    "\\newcommand{\\iner}{\\operatorname{iner}}$"
   ]
  },
  {
   "cell_type": "code",
   "execution_count": null,
   "metadata": {},
   "outputs": [],
   "source": [
    "from lingeo import random_int_list"
   ]
  },
  {
   "cell_type": "markdown",
   "metadata": {},
   "source": [
    "## Main idea"
   ]
  },
  {
   "cell_type": "markdown",
   "metadata": {},
   "source": [
    "Let $A$ be an $n\\times n$ real symmetric matrix with eigenvalues $\\lambda_1 \\leq \\cdots \\leq \\lambda_n$.  \n",
    "According to the spectral theorem, there is an orthonormal basis $\\beta = \\{\\bv_1, \\ldots, \\bv_n\\}$ corresponding to $\\lambda_1,\\ldots,\\lambda_n$.  "
   ]
  },
  {
   "cell_type": "markdown",
   "metadata": {},
   "source": [
    "Let $\\bv$ be a vector in $\\mathbb{R}^n$.  \n",
    "Then we have the following properties:  \n",
    "\n",
    "- It can be written as $\\bx = c_1\\bv_1 + \\cdots + c_n\\bv_n$ for some coefficients $c_1,\\ldots,c_n$.  \n",
    "- $\\|\\bx\\|^2 = \\inp{\\bx}{\\bx} = c_1^2 + \\cdots + c_n^2$.  \n",
    "- $\\bx\\trans A\\bx = \\inp{A\\bx}{\\bx} = c_1^2\\lambda_1 + \\cdots + c_n^2\\lambda_n$.  "
   ]
  },
  {
   "cell_type": "markdown",
   "metadata": {},
   "source": [
    "With these property in mind, one may solve the optimization problem:  \n",
    "\n",
    "minimize $\\bx\\trans A\\bx$,  \n",
    "subject to $\\|\\bx\\| = 1$.\n",
    "\n",
    "The minimum value is $\\lambda_1$ and is achieved by $\\bx = \\bv_1$ (or other vector in the same eigenspace).  \n",
    "Similarly, if the problem is asking for an maximum value,  \n",
    "then the maximum value is $\\lambda_n$ and is achieved by $\\bx = \\bv_n$.  "
   ]
  },
  {
   "cell_type": "markdown",
   "metadata": {},
   "source": [
    "Let $A$ be an $n\\times n$ real symmetric matrix.  \n",
    "The **Rayleigh quotient** of $A$ is a function of the form   \n",
    "\n",
    "$$\n",
    "    R_A(\\bx) = \\frac{\\bx\\trans A\\bx}{\\bx\\trans \\bx}.\n",
    "$$"
   ]
  },
  {
   "cell_type": "markdown",
   "metadata": {},
   "source": [
    "##### Rayleigh quotient theorem\n",
    "\n",
    "Let $A$ be an $n\\times n$ real symmetric matrix.  Then  \n",
    "\n",
    "$$\n",
    "    \\begin{aligned}\n",
    "    \\lambda_1 &= \\min_{ \\substack{\\bx\\in\\mathbb{R}^n \\\\ \\bx\\neq\\bzero} } R_A(\\bx) = \\min_{ \\substack{\\bx\\in\\mathbb{R}^n \\\\ \\|\\bx\\| = 1} } \\bx\\trans A\\bx, \\\\\n",
    "    \\lambda_n &= \\max_{ \\substack{\\bx\\in\\mathbb{R}^n \\\\ \\bx\\neq\\bzero} } R_A(\\bx) = \\max_{ \\substack{\\bx\\in\\mathbb{R}^n \\\\ \\|\\bx\\| = 1} } \\bx\\trans A\\bx.\n",
    "    \\end{aligned}\n",
    "$$\n",
    "\n",
    "The minimum is achieved by an eigenvector of $\\lambda_1$, while the maximum is achieved by an eigenvector of $\\lambda_n$.  "
   ]
  },
  {
   "cell_type": "markdown",
   "metadata": {},
   "source": [
    "Moreover, if one already know $\\lambda_1$ and $\\bv_1$, then  \n",
    "\n",
    "$$\n",
    "    \\lambda_2 = \\min_{ \\substack{\\bx\\in\\mathbb{R}^n \\\\ \\bx\\neq\\bzero,\\ \\bx\\perp\\bv_1} } R_A(\\bx) = \\min_{ \\substack{\\bx\\in\\mathbb{R}^n \\\\ \\|\\bx\\| = 1,\\ \\bx\\perp\\bv_1} } \\bx\\trans A\\bx.\n",
    "$$\n",
    "\n",
    "The vector $\\bv_{n-1}$ can be done in a similar way if $\\lambda_n$ and $\\bv_n$ is known."
   ]
  },
  {
   "cell_type": "markdown",
   "metadata": {},
   "source": [
    "## Side stories\n",
    "\n",
    "- optimization problem\n",
    "- Courant–Fisher theorem"
   ]
  },
  {
   "cell_type": "markdown",
   "metadata": {},
   "source": [
    "## Experiments"
   ]
  },
  {
   "cell_type": "markdown",
   "metadata": {},
   "source": [
    "##### Exercise 1\n",
    "\n",
    "執行以下程式碼。  \n",
    "\n",
    "<!-- eng start -->\n",
    "Run the code below.  \n",
    "<!-- eng end -->"
   ]
  },
  {
   "cell_type": "code",
   "execution_count": null,
   "metadata": {
    "scrolled": false
   },
   "outputs": [],
   "source": [
    "### code\n",
    "set_random_seed(0)\n",
    "print_ans = False\n",
    "\n",
    "n = 3\n",
    "eigs = random_int_list(n)\n",
    "A = diagonal_matrix(eigs)\n",
    "\n",
    "pretty_print(LatexExpr(\"A =\"), A)\n",
    "        \n",
    "if print_ans:\n",
    "    xAx = \" + \".join(\"x_%s^2 (%s)\"%(i+1, eigs[i]) for i in range(n))\n",
    "    print(\"xT A x =\", xAx)\n",
    "    print(\"max value:\", max(eigs))\n",
    "    print(\"achieved by:\", identity_matrix(n)[max(list(range(n)), key=lambda k: eigs[k])])\n",
    "    print(\"min value:\", min(eigs))\n",
    "    print(\"achieved by:\", identity_matrix(n)[min(list(range(n)), key=lambda k: eigs[k])])"
   ]
  },
  {
   "cell_type": "markdown",
   "metadata": {},
   "source": [
    "##### Exercise 1(a)\n",
    "\n",
    "令  \n",
    "\n",
    "$$\n",
    "    \\bx = \\begin{bmatrix} x_1 \\\\ \\vdots \\\\ x_n \\end{bmatrix}.\n",
    "$$\n",
    "\n",
    "計算 $\\bx\\trans A\\bx$。  \n",
    "\n",
    "<!-- eng start -->\n",
    "Let  \n",
    "\n",
    "$$\n",
    "    \\bx = \\begin{bmatrix} x_1 \\\\ \\vdots \\\\ x_n \\end{bmatrix}.\n",
    "$$\n",
    "\n",
    "Find $\\bx\\trans A\\bx$.  \n",
    "<!-- eng end -->"
   ]
  },
  {
   "cell_type": "markdown",
   "metadata": {},
   "source": [
    "##### Exercise 1(b)\n",
    "\n",
    "求 $\\bx\\trans A\\bx$ 在 $\\|\\bx\\| = 1$ 限制下的最大值。  \n",
    "達成這個最大值的 $\\bx$ 為何？  \n",
    "\n",
    "<!-- eng start -->\n",
    "Subject to $\\|\\bx\\| = 1$, find the maximum of $\\bx\\trans A\\bx$.  What is the $\\bx$ that achieves the maximum?  \n",
    "<!-- eng end -->"
   ]
  },
  {
   "cell_type": "markdown",
   "metadata": {},
   "source": [
    "##### Exercise 1(c)\n",
    "\n",
    "求 $\\bx\\trans A\\bx$ 在 $\\|\\bx\\| = 1$ 限制下的最小值。  \n",
    "達成這個最小值的 $\\bx$ 為何？  \n",
    "\n",
    "<!-- eng start -->\n",
    "Subject to $\\|\\bx\\| = 1$, find the minimum of $\\bx\\trans A\\bx$.  What is the $\\bx$ that achieves the minimum?  \n",
    "<!-- eng end -->"
   ]
  },
  {
   "cell_type": "markdown",
   "metadata": {},
   "source": [
    "## Exercises"
   ]
  },
  {
   "cell_type": "markdown",
   "metadata": {},
   "source": [
    "##### Exercise 2\n",
    "\n",
    "令 $A = \\begin{bmatrix} a_{ii} \\end{bmatrix}$ 為一 $n\\times n$ 實對稱矩陣，且其特徵值為 $\\lambda_1 \\leq \\cdots \\leq \\lambda_n$。  \n",
    "\n",
    "<!-- eng start -->\n",
    "Let $A = \\begin{bmatrix} a_{ii} \\end{bmatrix}$ be an $n\\times n$ real symmetric matrix with eigenvalues $\\lambda_1 \\leq \\cdots \\leq \\lambda_n$.  \n",
    "<!-- eng end -->"
   ]
  },
  {
   "cell_type": "markdown",
   "metadata": {},
   "source": [
    "##### Exercise 2(a)\n",
    "\n",
    "證明對所有 $i = 1,\\ldots,n$ 都有 $\\lambda_1 \\leq a_{ii} \\leq \\lambda_n$。  \n",
    "\n",
    "提示：找一個適合的向量 $\\bx$ 來套用 $\\lambda_1 \\leq R_A(\\bx) \\leq \\lambda_n$。  \n",
    "\n",
    "<!-- eng start -->\n",
    "Show that $\\lambda_1 \\leq a_{ii} \\leq \\lambda_n$ for each $i = 1,\\ldots,n$.  \n",
    "\n",
    "Hint:  Find an appropriate vector $\\bx$ for the inequality $\\lambda_1 \\leq R_A(\\bx) \\leq \\lambda_n$.  \n",
    "<!-- eng end -->"
   ]
  },
  {
   "cell_type": "markdown",
   "metadata": {},
   "source": [
    "##### Exercise 2(b)\n",
    "\n",
    "令\n",
    "\n",
    "$$\n",
    "    A = \\begin{bmatrix}\n",
    "     2 & -1 & -1 \\\\\n",
    "     -1 & 1 & 0 \\\\\n",
    "     -1 & 0 & 1 \n",
    "    \\end{bmatrix}.\n",
    "$$\n",
    "\n",
    "說明 $A$ 的最大特徵值 $\\lambda_3 \\geq 2$。  \n",
    "\n",
    "<!-- eng start -->\n",
    "Let  \n",
    "\n",
    "$$\n",
    "    A = \\begin{bmatrix}\n",
    "     2 & -1 & -1 \\\\\n",
    "     -1 & 1 & 0 \\\\\n",
    "     -1 & 0 & 1 \n",
    "    \\end{bmatrix}.\n",
    "$$\n",
    "\n",
    "Show that the maximum eigenvalue of $A$ has $\\lambda_3 \\geq 2$.  \n",
    "<!-- eng end -->"
   ]
  },
  {
   "cell_type": "markdown",
   "metadata": {},
   "source": [
    "##### Exercise 3\n",
    "\n",
    "令 $A = \\begin{bmatrix} a_{ii} \\end{bmatrix}$ 為一 $n\\times n$ 實對稱矩陣，且其特徵值為 $\\lambda_1 \\leq \\cdots \\leq \\lambda_n$。  \n",
    "\n",
    "<!-- eng start -->\n",
    "Let $A = \\begin{bmatrix} a_{ii} \\end{bmatrix}$ be an $n\\times n$ real symmetric matrix with eigenvalues $\\lambda_1 \\leq \\cdots \\leq \\lambda_n$.  \n",
    "<!-- eng end -->"
   ]
  },
  {
   "cell_type": "markdown",
   "metadata": {},
   "source": [
    "##### Exercise 3(a)\n",
    "\n",
    "證明 $\\lambda_1 \\leq \\frac{1}{n} \\sum_{i=1}^n\\sum_{j=1}^n a_{ij} \\leq \\lambda_n$。  \n",
    "\n",
    "<!-- eng start -->\n",
    "Show that $\\lambda_1 \\leq \\frac{1}{n} \\sum_{i=1}^n\\sum_{j=1}^n a_{ij} \\leq \\lambda_n$.  \n",
    "<!-- eng end -->"
   ]
  },
  {
   "cell_type": "markdown",
   "metadata": {},
   "source": [
    "##### Exercise 3(b)\n",
    "\n",
    "令\n",
    "\n",
    "$$\n",
    "    A = \\begin{bmatrix}\n",
    "     0 & 1 & 1 \\\\\n",
    "     1 & 0 & 0 \\\\\n",
    "     1 & 0 & 0 \n",
    "    \\end{bmatrix}.\n",
    "$$\n",
    "\n",
    "說明 $A$ 的最大特徵值 $\\lambda_3 \\geq \\frac{4}{3}$。  \n",
    "\n",
    "<!-- eng start -->\n",
    "Let  \n",
    "\n",
    "$$\n",
    "    A = \\begin{bmatrix}\n",
    "     0 & 1 & 1 \\\\\n",
    "     1 & 0 & 0 \\\\\n",
    "     1 & 0 & 0 \n",
    "    \\end{bmatrix}.\n",
    "$$\n",
    "\n",
    "Show that the maximum eigenvalue of $A$ has $\\lambda_3 \\geq \\frac{4}{3}$.  \n",
    "<!-- eng end -->"
   ]
  },
  {
   "cell_type": "markdown",
   "metadata": {},
   "source": [
    "##### Exercise 4\n",
    "\n",
    "令 $A$ 為一 $n\\times n$ 實對稱矩陣，且其特徵值為 $\\lambda_1 \\leq \\cdots \\leq \\lambda_n$。  \n",
    "令 $B$ 為 $A$ 刪掉第一行第一列的矩陣，而其特徵值為 $\\mu_1 \\leq \\cdots \\leq \\mu_{n-1}$。  \n",
    "證明 $\\lambda_1 \\leq \\mu_1$ 且 $\\mu_{n-1} \\leq \\lambda_n$。  \n",
    "\n",
    "<!-- eng start -->\n",
    "Let $A$ be an $n\\times n$ real symmetric matrix with eigenvalues $\\lambda_1 \\leq \\cdots \\leq \\lambda_n$.  Let $B$ be the matrix obtained from $A$ by removing its first row and column, and let $\\mu_1 \\leq \\cdots \\leq \\mu_{n-1}$ be its eigenvalues.  Show that $\\lambda_1 \\leq \\mu_1$ and $\\mu_{n-1} \\leq \\lambda_n$.  \n",
    "<!-- eng end -->"
   ]
  },
  {
   "cell_type": "markdown",
   "metadata": {},
   "source": [
    "##### Exercise 5\n",
    "\n",
    "令  \n",
    "\n",
    "$$\n",
    "    A = \\begin{bmatrix}\n",
    "     2 & 1 & 1 \\\\\n",
    "     1 & 2 & 1 \\\\\n",
    "     1 & 1 & 2\n",
    "    \\end{bmatrix}.\n",
    "$$\n",
    "\n",
    "解以下極值問題：  \n",
    "\n",
    "maximize $\\bx\\trans A \\bx$,  \n",
    "subject to $\\|\\bx\\| = 1$.  \n",
    "\n",
    "<!-- eng start -->\n",
    "Let  \n",
    "\n",
    "$$\n",
    "    A = \\begin{bmatrix}\n",
    "     2 & 1 & 1 \\\\\n",
    "     1 & 2 & 1 \\\\\n",
    "     1 & 1 & 2\n",
    "    \\end{bmatrix}.\n",
    "$$\n",
    "\n",
    "Solve the optimization problem:  \n",
    "\n",
    "maximize $\\bx\\trans A \\bx$,  \n",
    "subject to $\\|\\bx\\| = 1$.  \n",
    "<!-- eng end -->"
   ]
  },
  {
   "cell_type": "markdown",
   "metadata": {},
   "source": [
    "##### Exercise 6\n",
    "\n",
    "已知  \n",
    "\n",
    "$$\n",
    "    A_n = \\begin{bmatrix}\n",
    "    0 & 1 & ~ & 0 \\\\\n",
    "    1 & 0 & \\ddots & ~ \\\\\n",
    "    ~ & \\ddots & \\ddots & 1 \\\\\n",
    "    0 & ~ & 1 & 0\n",
    "    \\end{bmatrix}\n",
    "$$\n",
    "\n",
    "的所有特徵值為 $\\{2\\cos(\\frac{2k\\pi}{n+1}): k = 1,\\ldots, n\\}$。  \n",
    "\n",
    "求在 $x_1^2 + \\cdots + x_n^2 = 1$ 的限制下，  \n",
    "$x_1x_2 + x_2x_3 + \\cdots + x_{n-1}x_n$ 的最大值為何。  \n",
    "\n",
    "<!-- eng start -->\n",
    "It is known that  \n",
    "\n",
    "$$\n",
    "    A_n = \\begin{bmatrix}\n",
    "    0 & 1 & ~ & 0 \\\\\n",
    "    1 & 0 & \\ddots & ~ \\\\\n",
    "    ~ & \\ddots & \\ddots & 1 \\\\\n",
    "    0 & ~ & 1 & 0\n",
    "    \\end{bmatrix}\n",
    "$$\n",
    "\n",
    "has the spectrum $\\{2\\cos(\\frac{2k\\pi}{n+1}): k = 1,\\ldots, n\\}$.    \n",
    "\n",
    "Subject to $x_1^2 + \\cdots + x_n^2 = 1$, find the maximum of $x_1x_2 + x_2x_3 + \\cdots + x_{n-1}x_n$.  \n",
    "<!-- eng end -->"
   ]
  },
  {
   "cell_type": "markdown",
   "metadata": {},
   "source": [
    "##### Exercise 7\n",
    "\n",
    "令  \n",
    "\n",
    "$$\n",
    "    L = \\begin{bmatrix}\n",
    "     2 & -1 & -1 \\\\\n",
    "     -1 & 1 & 0 \\\\\n",
    "     -1 & 0 & 1\n",
    "    \\end{bmatrix}.\n",
    "$$\n",
    "\n",
    "解以下極值問題：  \n",
    "\n",
    "minimize $\\bx\\trans L \\bx$,  \n",
    "subject to $\\|\\bx\\| = 1$ and $\\bx = \\bone$.  \n",
    "\n",
    "這裡 $\\bone$ 為全一向量。  \n",
    "\n",
    "<!-- eng start -->\n",
    "Let  \n",
    "\n",
    "$$\n",
    "    L = \\begin{bmatrix}\n",
    "     2 & -1 & -1 \\\\\n",
    "     -1 & 1 & 0 \\\\\n",
    "     -1 & 0 & 1\n",
    "    \\end{bmatrix}.\n",
    "$$\n",
    "\n",
    "Solve the optimization problem:  \n",
    "\n",
    "minimize $\\bx\\trans L \\bx$,  \n",
    "subject to $\\|\\bx\\| = 1$ and $\\bx = \\bone$.  \n",
    "<!-- eng end -->"
   ]
  },
  {
   "cell_type": "markdown",
   "metadata": {},
   "source": [
    "##### Exercise 8\n",
    "\n",
    "查找各種資源，並描述柯朗–費雪定理（Courant–Fischer Theorem）。  \n",
    "\n",
    "<!-- eng start -->\n",
    "Use any resource you prefer, state the Courant–Fischer Theorem.  \n",
    "<!-- eng end -->"
   ]
  }
 ],
 "metadata": {
  "kernelspec": {
   "display_name": "SageMath 9.7",
   "language": "sage",
   "name": "sagemath"
  },
  "language_info": {
   "codemirror_mode": {
    "name": "ipython",
    "version": 3
   },
   "file_extension": ".py",
   "mimetype": "text/x-python",
   "name": "python",
   "nbconvert_exporter": "python",
   "pygments_lexer": "ipython3",
   "version": "3.10.8"
  }
 },
 "nbformat": 4,
 "nbformat_minor": 4
}
