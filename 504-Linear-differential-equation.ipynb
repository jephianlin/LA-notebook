{
 "cells": [
  {
   "cell_type": "markdown",
   "metadata": {},
   "source": [
    "# 線性微分方程"
   ]
  },
  {
   "cell_type": "markdown",
   "metadata": {},
   "source": [
    "![Creative Commons License](https://i.creativecommons.org/l/by/4.0/88x31.png)  \n",
    "This work by Jephian Lin is licensed under a [Creative Commons Attribution 4.0 International License](http://creativecommons.org/licenses/by/4.0/)."
   ]
  },
  {
   "cell_type": "markdown",
   "metadata": {},
   "source": [
    "$\\newcommand{\\trans}{^\\top}\n",
    "\\newcommand{\\adj}{^{\\rm adj}}\n",
    "\\newcommand{\\cof}{^{\\rm cof}}\n",
    "\\newcommand{\\inp}[2]{\\left\\langle#1,#2\\right\\rangle}\n",
    "\\newcommand{\\dunion}{\\mathbin{\\dot\\cup}}\n",
    "\\newcommand{\\bzero}{\\mathbf{0}}\n",
    "\\newcommand{\\bone}{\\mathbf{1}}\n",
    "\\newcommand{\\ba}{\\mathbf{a}}\n",
    "\\newcommand{\\bb}{\\mathbf{b}}\n",
    "\\newcommand{\\bc}{\\mathbf{c}}\n",
    "\\newcommand{\\bd}{\\mathbf{d}}\n",
    "\\newcommand{\\be}{\\mathbf{e}}\n",
    "\\newcommand{\\bh}{\\mathbf{h}}\n",
    "\\newcommand{\\bp}{\\mathbf{p}}\n",
    "\\newcommand{\\bq}{\\mathbf{q}}\n",
    "\\newcommand{\\br}{\\mathbf{r}}\n",
    "\\newcommand{\\bx}{\\mathbf{x}}\n",
    "\\newcommand{\\by}{\\mathbf{y}}\n",
    "\\newcommand{\\bz}{\\mathbf{z}}\n",
    "\\newcommand{\\bu}{\\mathbf{u}}\n",
    "\\newcommand{\\bv}{\\mathbf{v}}\n",
    "\\newcommand{\\bw}{\\mathbf{w}}\n",
    "\\newcommand{\\tr}{\\operatorname{tr}}\n",
    "\\newcommand{\\nul}{\\operatorname{null}}\n",
    "\\newcommand{\\rank}{\\operatorname{rank}}\n",
    "%\\newcommand{\\ker}{\\operatorname{ker}}\n",
    "\\newcommand{\\range}{\\operatorname{range}}\n",
    "\\newcommand{\\Col}{\\operatorname{Col}}\n",
    "\\newcommand{\\Row}{\\operatorname{Row}}\n",
    "\\newcommand{\\spec}{\\operatorname{spec}}\n",
    "\\newcommand{\\vspan}{\\operatorname{span}}\n",
    "\\newcommand{\\Vol}{\\operatorname{Vol}}\n",
    "\\newcommand{\\sgn}{\\operatorname{sgn}}\n",
    "\\newcommand{\\idmap}{\\operatorname{id}}$"
   ]
  },
  {
   "cell_type": "code",
   "execution_count": null,
   "metadata": {},
   "outputs": [],
   "source": [
    "from lingeo import random_int_list, random_good_matrix"
   ]
  },
  {
   "cell_type": "markdown",
   "metadata": {},
   "source": [
    "## Main idea"
   ]
  },
  {
   "cell_type": "markdown",
   "metadata": {},
   "source": [
    "In this section, every function, such as $x$ and $y$, are from $\\mathbb{R}$ to $\\mathbb{R}$ in variable $t$.  \n",
    "We will use the notation $\\dot{x}$ and $x'$ interchangeably for $\\frac{dx}{dt}$.  \n",
    "Note that the derivative is taken with respect to $t$ but not to $x$.  "
   ]
  },
  {
   "cell_type": "markdown",
   "metadata": {},
   "source": [
    "Some differential equations are easy to be solved.  \n",
    "For example, the solution to the equation  \n",
    "$$\n",
    "    \\dot{x} = kx\n",
    "$$  \n",
    "is $x = C_1e^{kt}$ for any constant $C_1\\in\\mathbb{R}$.  \n",
    "And one may try that the solution to the equation  \n",
    "$$\n",
    "    \\dot{x} = kx + Ce^{kt}\n",
    "$$\n",
    "is $x = (C_2 + C_1t)e^{kt}$ for any constant $C_2\\in\\mathbb{R}$.  \n",
    "(To see these are _all_ the solutions relies on the Picard–Lindelöf theorem.)"
   ]
  },
  {
   "cell_type": "markdown",
   "metadata": {},
   "source": [
    "Let $x_1$ and $x_2$ be functions in variable $t$.  \n",
    "The system  \n",
    "$$\n",
    "    \\begin{aligned}\n",
    "    \\dot{x}_1 &= ax_1 + bx_2 \\\\\n",
    "    \\dot{x}_2 &= cx_1 + dx_2\n",
    "    \\end{aligned}\n",
    "$$\n",
    "is called a **homogeneous system of first-order linear differential equation**."
   ]
  },
  {
   "cell_type": "markdown",
   "metadata": {},
   "source": [
    "One may write  \n",
    "$$\n",
    "    \\bx = \\begin{bmatrix} x_1 \\\\ x_2 \\end{bmatrix}, \\quad  \n",
    "    \\dot{\\bx} = \\begin{bmatrix} \\dot{x}_1 \\\\ \\dot{x}_2 \\end{bmatrix}, \\text{ and}\\quad \n",
    "    A = \\begin{bmatrix} \n",
    "     a & b \\\\\n",
    "     c & d \n",
    "    \\end{bmatrix}.  \n",
    "$$\n",
    "Then the system becomes  \n",
    "$$\n",
    "    \\dot{\\bx} = A\\bx.\n",
    "$$"
   ]
  },
  {
   "cell_type": "markdown",
   "metadata": {},
   "source": [
    "If $A$ is diagonalizable as $D = Q^{-1}AQ$, we may set $Q\\by = \\bx$ for some $\\by = \\begin{bmatrix} y_1 \\\\ y_2 \\end{bmatrix}$.  \n",
    "Since $Q$ is a constant matrix, $\\dot{\\bx} = \\dot{(Q\\by)} = Q\\dot{\\by}$.\n",
    "Thus, the original system becomes  \n",
    "$$\n",
    "    \\dot{\\by} = Q^{-1}AQ \\by = D\\by,\n",
    "$$\n",
    "which is much easier to be solved.  \n",
    "Once $\\by$ is solved, $\\bx$ can be found by $\\bx = Q\\by$.  "
   ]
  },
  {
   "cell_type": "markdown",
   "metadata": {},
   "source": [
    "## Side stories\n",
    "\n",
    "- higher order differential equation"
   ]
  },
  {
   "cell_type": "markdown",
   "metadata": {},
   "source": [
    "## Experiments"
   ]
  },
  {
   "cell_type": "markdown",
   "metadata": {},
   "source": [
    "##### Exercise 1\n",
    "\n",
    "執行以下程式碼。  "
   ]
  },
  {
   "cell_type": "code",
   "execution_count": null,
   "metadata": {
    "scrolled": false
   },
   "outputs": [],
   "source": [
    "### code\n",
    "set_random_seed(0)\n",
    "print_ans = False\n",
    "\n",
    "lam1,lam2 = random_int_list(2, 3)\n",
    "Q = random_good_matrix(2,2,2)\n",
    "A = Q * diagonal_matrix([lam1, lam2]) * Q.inverse()\n",
    "\n",
    "pretty_print(LatexExpr(r\"\\dot{x}_1 = (%s)x_1 + (%s)x_2\"%(A[0,0],A[0,1])))\n",
    "pretty_print(LatexExpr(r\"\\dot{x}_2 = (%s)x_1 + (%s)x_2\"%(A[1,0],A[1,1])))\n",
    "\n",
    "t = var(\"t\")\n",
    "y = vector([exp(lam1 * t), exp(lam2 * t)])\n",
    "x = Q * y\n",
    "pretty_print(LatexExpr(\"x_1 =\"), x[0])\n",
    "pretty_print(LatexExpr(\"x_2 =\"), x[1])\n",
    "\n",
    "if print_ans:\n",
    "    pretty_print(LatexExpr(r\"\\dot{x}_1 =\"), x[0].derivative(t))\n",
    "    pretty_print(LatexExpr(r\"\\dot{x}_2 =\"), x[1].derivative(t))"
   ]
  },
  {
   "cell_type": "markdown",
   "metadata": {},
   "source": [
    "##### Exercise 1(a)\n",
    "\n",
    "計算 $\\dot{x}_1$ 及 $\\dot{x}_2$。"
   ]
  },
  {
   "cell_type": "markdown",
   "metadata": {},
   "source": [
    "##### Exercise 1(b)\n",
    "\n",
    "驗證題目給的 $x_1$ 和 $x_2$ 是否滿足給定的微分方程組。"
   ]
  },
  {
   "cell_type": "markdown",
   "metadata": {},
   "source": [
    "## Exercises"
   ]
  },
  {
   "cell_type": "markdown",
   "metadata": {},
   "source": [
    "##### Exercise 2\n",
    "\n",
    "解以下的微分方程組。  \n",
    "（請記得加上該有的常數。）"
   ]
  },
  {
   "cell_type": "markdown",
   "metadata": {},
   "source": [
    "##### Exercise 2(a)\n",
    "\n",
    "已知  \n",
    "$$\n",
    "    \\begin{bmatrix}\n",
    "    4 & 0 \\\\\n",
    "    0 & 6\n",
    "    \\end{bmatrix}\n",
    "    = \n",
    "    \\begin{bmatrix}\n",
    "    1 & 1 \\\\\n",
    "    1 & -1\n",
    "    \\end{bmatrix}^{-1}\n",
    "    \\begin{bmatrix}\n",
    "    5 & -1 \\\\\n",
    "    -1 & 5\n",
    "    \\end{bmatrix}\n",
    "    \\begin{bmatrix}\n",
    "    1 & 1 \\\\\n",
    "    1 & -1\n",
    "    \\end{bmatrix}.\n",
    "$$\n",
    "解微分方程組：  \n",
    "$$\n",
    "    \\begin{aligned}\n",
    "    \\dot{x}_1 &= 5x_1 - x_2 \\\\\n",
    "    \\dot{x}_2 &= -x_1 + 5x_2\n",
    "    \\end{aligned}\n",
    "$$"
   ]
  },
  {
   "cell_type": "markdown",
   "metadata": {},
   "source": [
    "##### Exercise 2(b)\n",
    "\n",
    "已知  \n",
    "$$\n",
    "    \\begin{bmatrix}\n",
    "    4 & 0 \\\\\n",
    "    0 & -6\n",
    "    \\end{bmatrix}\n",
    "    = \n",
    "    \\begin{bmatrix}\n",
    "    1 & 1 \\\\\n",
    "    1 & -1\n",
    "    \\end{bmatrix}^{-1}\n",
    "    \\begin{bmatrix}\n",
    "    -1 & 5 \\\\\n",
    "    5 & -1\n",
    "    \\end{bmatrix}\n",
    "    \\begin{bmatrix}\n",
    "    1 & 1 \\\\\n",
    "    1 & -1\n",
    "    \\end{bmatrix}.\n",
    "$$\n",
    "解微分方程組：  \n",
    "$$\n",
    "    \\begin{aligned}\n",
    "    \\dot{x}_1 &= -x_1 + 5x_2 \\\\\n",
    "    \\dot{x}_2 &= 5x_1 - 5x_2\n",
    "    \\end{aligned}\n",
    "$$"
   ]
  },
  {
   "cell_type": "markdown",
   "metadata": {},
   "source": [
    "##### Exercise 2(c)\n",
    "\n",
    "已知  \n",
    "$$\n",
    "    \\begin{bmatrix}\n",
    "    2 & 0 \\\\\n",
    "    0 & 0\n",
    "    \\end{bmatrix}\n",
    "    = \n",
    "    \\begin{bmatrix}\n",
    "    1 & 1 \\\\\n",
    "    1 & -1\n",
    "    \\end{bmatrix}^{-1}\n",
    "    \\begin{bmatrix}\n",
    "    1 & 1 \\\\\n",
    "    1 & 1\n",
    "    \\end{bmatrix}\n",
    "    \\begin{bmatrix}\n",
    "    1 & 1 \\\\\n",
    "    1 & -1\n",
    "    \\end{bmatrix}.\n",
    "$$\n",
    "解微分方程組：  \n",
    "$$\n",
    "    \\begin{aligned}\n",
    "    \\dot{x}_1 &= x_1 + x_2 \\\\\n",
    "    \\dot{x}_2 &= x_1 + x_2\n",
    "    \\end{aligned}\n",
    "$$"
   ]
  },
  {
   "cell_type": "markdown",
   "metadata": {},
   "source": [
    "##### Exercise 3\n",
    "\n",
    "解以下的微分方程組。  \n",
    "（請記得加上該有的常數。）"
   ]
  },
  {
   "cell_type": "markdown",
   "metadata": {},
   "source": [
    "##### Exercise 3(a)\n",
    "\n",
    "已知  \n",
    "$$\n",
    "    \\begin{bmatrix}\n",
    "    3 & 0 & 0 \\\\\n",
    "    0 & 4 & 0 \\\\\n",
    "    0 & 0 & 6\n",
    "    \\end{bmatrix}\n",
    "    = \n",
    "    \\begin{bmatrix}\n",
    "    1 & 1 & 1 \\\\\n",
    "    1 & -1 & 1 \\\\\n",
    "    1 & 0 & -2\n",
    "    \\end{bmatrix}^{-1}\n",
    "    \\begin{bmatrix}\n",
    "    4 & 0 & -1 \\\\\n",
    "    0 & 4 & -1 \\\\\n",
    "    -1 & -1 & 5\n",
    "    \\end{bmatrix}\n",
    "    \\begin{bmatrix}\n",
    "    1 & 1 & 1 \\\\\n",
    "    1 & -1 & 1 \\\\\n",
    "    1 & 0 & -2\n",
    "    \\end{bmatrix}.\n",
    "$$\n",
    "解微分方程組：  \n",
    "$$\n",
    "    \\begin{aligned}\n",
    "    \\dot{x}_1 &= 4x_1 + 0x_2 - x_3 \\\\\n",
    "    \\dot{x}_2 &= 0x_1 + 4x_2 - x_3 \\\\\n",
    "    \\dot{x}_3 &= -x_1 - x_2 + 5x_3\n",
    "    \\end{aligned}\n",
    "$$"
   ]
  },
  {
   "cell_type": "markdown",
   "metadata": {},
   "source": [
    "##### Exercise 3(b)\n",
    "\n",
    "已知  \n",
    "$$\n",
    "    \\begin{bmatrix}\n",
    "    3 & 0 & 0 \\\\\n",
    "    0 & 4 & 0 \\\\\n",
    "    0 & 0 & -6\n",
    "    \\end{bmatrix}\n",
    "    = \n",
    "    \\begin{bmatrix}\n",
    "    1 & 1 & 1 \\\\\n",
    "    1 & -1 & 1 \\\\\n",
    "    1 & 0 & -2\n",
    "    \\end{bmatrix}^{-1}\n",
    "    \\begin{bmatrix}\n",
    "    2 & -2 & 3 \\\\\n",
    "    -2 & 2 & 3 \\\\\n",
    "    3 & 3 & -3\n",
    "    \\end{bmatrix}\n",
    "    \\begin{bmatrix}\n",
    "    1 & 1 & 1 \\\\\n",
    "    1 & -1 & 1 \\\\\n",
    "    1 & 0 & -2\n",
    "    \\end{bmatrix}.\n",
    "$$\n",
    "解微分方程組：  \n",
    "$$\n",
    "    \\begin{aligned}\n",
    "    \\dot{x}_1 &= 2x_1 - 2x_2 + 3x_3 \\\\\n",
    "    \\dot{x}_2 &= -2x_1 + 2x_2 + 3x_3 \\\\\n",
    "    \\dot{x}_3 &= 3x_1 + 3x_2 - 3x_3\n",
    "    \\end{aligned}\n",
    "$$"
   ]
  },
  {
   "cell_type": "markdown",
   "metadata": {},
   "source": [
    "##### Exercise 4\n",
    "\n",
    "對於高階的線性微分方程 $y'' + c_1 y' + c_2 y = 0$，  \n",
    "我們也可以寫成矩陣形式。  \n",
    "令\n",
    "$$\n",
    "    \\by = \\begin{bmatrix} y \\\\ y' \\end{bmatrix}, \\quad\n",
    "    \\dot{\\by} = \\begin{bmatrix} y' \\\\ y'' \\end{bmatrix},\\text{ and}\\quad\n",
    "    A = \\begin{bmatrix}  \n",
    "    0 & 1 \\\\\n",
    "    -c_2 & -c_1\n",
    "    \\end{bmatrix}. \n",
    "$$\n",
    "則原方程式可以改寫為  \n",
    "$$\n",
    "    \\dot{\\by} = A\\by.\n",
    "$$\n",
    "解以下的微分方程。"
   ]
  },
  {
   "cell_type": "markdown",
   "metadata": {},
   "source": [
    "##### Exercise 4(a)\n",
    "\n",
    "已知  \n",
    "$$\n",
    "    \\begin{bmatrix}\n",
    "    2 & 0 \\\\\n",
    "    0 & 3\n",
    "    \\end{bmatrix}\n",
    "    = \n",
    "    \\begin{bmatrix}\n",
    "    1 & 1 \\\\\n",
    "    3 & 2\n",
    "    \\end{bmatrix}^{-1}\n",
    "    \\begin{bmatrix}\n",
    "    0 & 1 \\\\\n",
    "    -6 & 5\n",
    "    \\end{bmatrix}\n",
    "    \\begin{bmatrix}\n",
    "    1 & 1 \\\\\n",
    "    3 & 2\n",
    "    \\end{bmatrix}.\n",
    "$$\n",
    "考慮微分方程 $y'' - 5y' + 6y = 0$。"
   ]
  },
  {
   "cell_type": "markdown",
   "metadata": {},
   "source": [
    "##### Exercise 4(b)\n",
    "\n",
    "已知  \n",
    "$$\n",
    "    \\begin{bmatrix}\n",
    "    2 & 0 \\\\\n",
    "    0 & -2\n",
    "    \\end{bmatrix}\n",
    "    = \n",
    "    \\begin{bmatrix}\n",
    "    1 & 1 \\\\\n",
    "    2 & -2\n",
    "    \\end{bmatrix}^{-1}\n",
    "    \\begin{bmatrix}\n",
    "    0 & 1 \\\\\n",
    "    -4 & 0\n",
    "    \\end{bmatrix}\n",
    "    \\begin{bmatrix}\n",
    "    1 & 1 \\\\\n",
    "    2 & -2\n",
    "    \\end{bmatrix}.\n",
    "$$\n",
    "考慮微分方程 $y'' + 0y' + 4y = 0$。"
   ]
  },
  {
   "cell_type": "markdown",
   "metadata": {},
   "source": [
    "##### Exercise 4(c)\n",
    "\n",
    "已知  \n",
    "$$\n",
    "    \\begin{bmatrix}\n",
    "    2 & 1 \\\\\n",
    "    0 & 2\n",
    "    \\end{bmatrix}\n",
    "    = \n",
    "    \\begin{bmatrix}\n",
    "    2 & -1 \\\\\n",
    "    4 & 0\n",
    "    \\end{bmatrix}^{-1}\n",
    "    \\begin{bmatrix}\n",
    "    0 & 1 \\\\\n",
    "    -4 & 4\n",
    "    \\end{bmatrix}\n",
    "    \\begin{bmatrix}\n",
    "    2 & -1 \\\\\n",
    "    4 & 0\n",
    "    \\end{bmatrix}.\n",
    "$$\n",
    "考慮微分方程 $y'' - 4y' + 4y = 0$。"
   ]
  },
  {
   "cell_type": "markdown",
   "metadata": {},
   "source": [
    "##### Exercise 4(d)\n",
    "\n",
    "已知  \n",
    "$$\n",
    "    \\begin{bmatrix}\n",
    "    3 & 1 \\\\\n",
    "    0 & 3\n",
    "    \\end{bmatrix}\n",
    "    = \n",
    "    \\begin{bmatrix}\n",
    "    3 & -1 \\\\\n",
    "    9 & 0\n",
    "    \\end{bmatrix}^{-1}\n",
    "    \\begin{bmatrix}\n",
    "    0 & 1 \\\\\n",
    "    -9 & 6\n",
    "    \\end{bmatrix}\n",
    "    \\begin{bmatrix}\n",
    "    3 & -1 \\\\\n",
    "    9 & 0\n",
    "    \\end{bmatrix}.\n",
    "$$\n",
    "考慮微分方程 $y'' - 6y' - 9y = 0$。"
   ]
  },
  {
   "cell_type": "markdown",
   "metadata": {},
   "source": [
    "##### Exercise 5\n",
    "\n",
    "已知  \n",
    "$$\n",
    "    \\begin{bmatrix}\n",
    "    3 & 0 & 0 \\\\\n",
    "    0 & 2 & 0 \\\\\n",
    "    0 & 0 & 1\n",
    "    \\end{bmatrix}\n",
    "    = \n",
    "    \\begin{bmatrix}\n",
    "    1 & 1 & 1 \\\\\n",
    "    3 & 2 & 1 \\\\\n",
    "    9 & 4 & 1\n",
    "    \\end{bmatrix}^{-1}\n",
    "    \\begin{bmatrix}\n",
    "    0 & 1 & 0 \\\\\n",
    "    0 & 0 & 1 \\\\\n",
    "    6 & -11 & 6\n",
    "    \\end{bmatrix}\n",
    "    \\begin{bmatrix}\n",
    "    1 & 1 & 1 \\\\\n",
    "    3 & 2 & 1 \\\\\n",
    "    9 & 4 & 1\n",
    "    \\end{bmatrix}.\n",
    "$$\n",
    "解微分方程 $y''' - 6y'' + 11y' - 6y = 0$。"
   ]
  }
 ],
 "metadata": {
  "kernelspec": {
   "display_name": "SageMath 9.4",
   "language": "sage",
   "name": "sagemath"
  },
  "language_info": {
   "codemirror_mode": {
    "name": "ipython",
    "version": 3
   },
   "file_extension": ".py",
   "mimetype": "text/x-python",
   "name": "python",
   "nbconvert_exporter": "python",
   "pygments_lexer": "ipython3",
   "version": "3.10.1"
  }
 },
 "nbformat": 4,
 "nbformat_minor": 4
}
