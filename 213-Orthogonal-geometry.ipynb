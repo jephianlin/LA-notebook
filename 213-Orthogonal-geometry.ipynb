{
 "cells": [
  {
   "cell_type": "markdown",
   "metadata": {},
   "source": [
    "# 垂直幾何"
   ]
  },
  {
   "cell_type": "markdown",
   "metadata": {},
   "source": [
    "![Creative Commons License](https://i.creativecommons.org/l/by/4.0/88x31.png)  \n",
    "This work by Jephian Lin is licensed under a [Creative Commons Attribution 4.0 International License](http://creativecommons.org/licenses/by/4.0/)."
   ]
  },
  {
   "cell_type": "code",
   "execution_count": null,
   "metadata": {},
   "outputs": [],
   "source": [
    "from lingeo import random_int_list, random_good_matrix\n",
    "from linspace import QR"
   ]
  },
  {
   "cell_type": "markdown",
   "metadata": {},
   "source": [
    "## Main idea"
   ]
  },
  {
   "cell_type": "markdown",
   "metadata": {},
   "source": [
    "The notion of \"angle\" is not necessary possible for every vector space.  \n",
    "However, many vector spaces over $\\mathbb{R}$ or $\\mathbb{C}$ do have (at least) one meaningful inner product, and the angle is therefore defined.  \n",
    "Such a vector space is called an _inner product space_.  \n",
    "Here, we only focus on concrete examples.  "
   ]
  },
  {
   "cell_type": "markdown",
   "metadata": {},
   "source": [
    "Let $V$ be a vector space and $\\langle \\cdot, \\cdot \\rangle$ an inner product on $V$.  \n",
    "Recall that ${\\bf u}$ and ${\\bf v}$ are **orthogonal** if $\\langle {\\bf u}, {\\bf v} \\rangle = 0$.  \n",
    "Let $S = \\{{\\bf u}_1, \\ldots, {\\bf u}_k\\}$ be a collection of vectors.  \n",
    "Then $S$ is **orthogonal** if $\\langle {\\bf u}_i, {\\bf u}_j \\rangle = 0$ for any pair of distinct $i,j$.  \n",
    "Moreover, if $S$ is orthogonal and $\\|{\\bf u}\\|^2 = \\langle {\\bf u}_i, {\\bf u}_i \\rangle = 1$ for any $i$, then $S$ is called **orthognormal**.  \n",
    "If a basis $\\beta$ is orthogonal, then one may rescale every vector to length one to make it orthonormal.  "
   ]
  },
  {
   "cell_type": "markdown",
   "metadata": {},
   "source": [
    "Suppose $S = \\{{\\bf u}_1, \\ldots, {\\bf u}_k\\}$ is orthogonal.  \n",
    "Then  \n",
    "$$\\begin{array}{cc}\n",
    " & (a_1{\\bf u}_1 + \\cdots a_k{\\bf u}_k) \\\\\n",
    " \\cdot & (b_1{\\bf u}_1 + \\cdots b_k{\\bf u}_k) \\\\\n",
    " = & (a_1b_1\\|{\\bf u}_1\\|^2 + \\cdots a_kb_k\\|{\\bf u}_k\\|^2) \\\\\n",
    "\\end{array}$$\n",
    "holds for any two linear combination of $S$.  \n",
    "In particular, when $S$ is orthonormal, the inner product is  \n",
    "$$(a_1{\\bf u}_1 + \\cdots a_k{\\bf u}_k) \\cdot\n",
    " (b_1{\\bf u}_1 + \\cdots b_k{\\bf u}_k) = \n",
    " a_1b_1 + \\cdots + a_kb_k,$$\n",
    "and the length is  \n",
    "$$\\|a_1{\\bf u}_1 + \\cdots a_k{\\bf u}_k\\| = a_1^2 + \\cdots + a_k^2.$$"
   ]
  },
  {
   "cell_type": "markdown",
   "metadata": {},
   "source": [
    "Let ${\\bf b}$ be a vector and $S = \\{{\\bf u}_1, \\ldots, {\\bf u}_k\\}$ is orthogonal.  \n",
    "Suppose ${\\bf b}_1, \\ldots, {\\bf b}_k$ are the projection of ${\\bf b}$ onto each vectors ${\\bf u}_1, \\ldots, {\\bf u}_k$, respectively, and ${\\bf b}_S$ is the projection of ${\\bf b}$ onto $\\operatorname{span}(S)$.  \n",
    "Then ${\\bf b}_S = {\\bf b}_1 + \\cdots {\\bf b}_k$.  "
   ]
  },
  {
   "cell_type": "markdown",
   "metadata": {},
   "source": [
    "Let ${\\bf b}$ be a vector and $V$ a subspace.  \n",
    "Suppose ${\\bf b}$ can be written as ${\\bf b} = {\\bf w} + {\\bf h}$ such that ${\\bf w}\\in V$ and ${\\bf h}\\in V^\\perp$.  \n",
    "Then ${\\bf v} = {\\bf w}$ minimize the length $\\|{\\bf b} - {\\bf v}\\|$ among all vector ${\\bf v} \\in V$."
   ]
  },
  {
   "cell_type": "markdown",
   "metadata": {},
   "source": [
    "## Side stories\n",
    "- linear regression\n",
    "- inner product space"
   ]
  },
  {
   "cell_type": "markdown",
   "metadata": {},
   "source": [
    "## Experiments"
   ]
  },
  {
   "cell_type": "markdown",
   "metadata": {},
   "source": [
    "##### Exercise 1\n",
    "\n",
    "執行以下程式碼。  \n",
    "令 $S = \\{{\\bf u}_1,\\ldots,{\\bf u}_3\\}$ 為 $Q$ 中的各行向量。  \n",
    "己知 ${\\bf b}\\in \\operatorname{span}(S)$。  "
   ]
  },
  {
   "cell_type": "code",
   "execution_count": null,
   "metadata": {
    "scrolled": false
   },
   "outputs": [],
   "source": [
    "### code\n",
    "set_random_seed(0)\n",
    "print_ans = False\n",
    "m,n,r = 4,3,3\n",
    "A = random_good_matrix(m,n,r,bound=1)\n",
    "Q, R = QR(A)\n",
    "v = vector(random_int_list(3,2))\n",
    "b = Q * v\n",
    "\n",
    "print(\"Q =\")\n",
    "show(Q)\n",
    "print(\"b =\", b)\n",
    "\n",
    "if print_ans:\n",
    "    print(\"S is orthogonal but not orthonormal.\")\n",
    "    print(\"b = \" + \" + \".join(\"%s u%s\"%(v[i],i+1) for i in range(n)))\n",
    "    print(\"Length of b =\", b.norm())"
   ]
  },
  {
   "cell_type": "markdown",
   "metadata": {},
   "source": [
    "##### Exercise 1(a)\n",
    "\n",
    "判斷 $S$ 是否垂直、  \n",
    "是否單位長垂直。"
   ]
  },
  {
   "cell_type": "markdown",
   "metadata": {},
   "source": [
    "##### Exercise 1(b)\n",
    "\n",
    "找出一組向量 $S'$ 使得 $\\operatorname{span}(S') = \\operatorname{span}(S)$  \n",
    "且 $S'$ 是單位長垂直。  "
   ]
  },
  {
   "cell_type": "markdown",
   "metadata": {},
   "source": [
    "##### Exercise 1(c)\n",
    "\n",
    "將 ${\\bf b}$ 寫成 $S$ 的線性組合。  "
   ]
  },
  {
   "cell_type": "markdown",
   "metadata": {},
   "source": [
    "##### Exercise 1(d)\n",
    "\n",
    "利用 ${\\bf b}$ 的線性組合算出 ${\\bf b}$ 的長度。  "
   ]
  },
  {
   "cell_type": "markdown",
   "metadata": {},
   "source": [
    "## Exercises"
   ]
  },
  {
   "cell_type": "markdown",
   "metadata": {},
   "source": [
    "##### Exercise 2\n",
    "\n",
    "以下小題討論垂直和線性獨立的關係。  "
   ]
  },
  {
   "cell_type": "markdown",
   "metadata": {},
   "source": [
    "##### Exercise 2(a)\n",
    "\n",
    "證明如果 $S$ 是單位長垂直的﹐則 $S$ 線性獨立。  "
   ]
  },
  {
   "cell_type": "markdown",
   "metadata": {},
   "source": [
    "##### Exercise 2(b)\n",
    "\n",
    "找一組向量集合 $S$ 使得它是垂直的但不線性獨立。"
   ]
  },
  {
   "cell_type": "markdown",
   "metadata": {},
   "source": [
    "##### Exercise 3\n",
    "\n",
    "令 \n",
    "$$A = \\begin{bmatrix} \n",
    " 1 & 1 \\\\\n",
    " 1 & 2 \\\\\n",
    " 1 & 3 \\\\\n",
    " 1 & 4 \\\\\n",
    "\\end{bmatrix}$$  \n",
    "而 ${\\bf b} = (2.4, 3.1, 3.4, 4.1)$。  "
   ]
  },
  {
   "cell_type": "markdown",
   "metadata": {},
   "source": [
    "##### Exercise 3(a)\n",
    "\n",
    "求 $\\operatorname{Col}(A)$ 中和 ${\\bf b}$ 最接近的向量 ${\\bf w}$、  \n",
    "並將它寫成 $A$ 的行向量的線性組合。  "
   ]
  },
  {
   "cell_type": "markdown",
   "metadata": {},
   "source": [
    "##### Exercise 3(b)\n",
    "\n",
    "令 $(x_1,x_2,x_3,x_4) = (1,2,3,4)$ 為 $A$ 的第二個行向量  \n",
    "且 $(y_1,y_2,y_3,y_4) = (2.4, 3.1, 3.4, 4.1) = {\\bf b}$。  \n",
    "求解 $c_0$ 和 $c_1$ 使得 $\\sum_{i=1}^4 (c_0 + c_1x_i - y_i)^2$ 最小。  "
   ]
  },
  {
   "cell_type": "markdown",
   "metadata": {},
   "source": [
    "##### Exercise 4\n",
    "\n",
    "令  \n",
    "$$A = \\begin{bmatrix}\n",
    " 1 & 1 & 1 & 1 \\\\ \n",
    " 1 & 1 & 1 & 1 \\\\ \n",
    " 0 & 1 & 2 & 3 \\\\ \n",
    "\\end{bmatrix}$$  \n",
    "且 ${\\bf b} = (3,3,2)$。  \n",
    "求解集合 $U = \\{ {\\bf x}\\in\\mathbb{R}^4 : A{\\bf x} = {\\bf b} \\}$ 中長度最短的向量。  "
   ]
  },
  {
   "cell_type": "markdown",
   "metadata": {},
   "source": [
    "##### Exercise 5\n",
    "\n",
    "一個_內積_ $\\langle \\cdot, \\cdot \\rangle$ 要符合以下的條件：  \n",
    "1. $\\langle{\\bf x}_1 + {\\bf x}_2,{\\bf y}\\rangle = \\langle{\\bf x}_1,{\\bf y}\\rangle + \\langle{\\bf x}_2,{\\bf y}\\rangle$.\n",
    "2. $\\langle k{\\bf x},{\\bf y}\\rangle = k\\langle{\\bf x},{\\bf y}\\rangle$.\n",
    "3. $\\langle {\\bf x},{\\bf y}\\rangle = \\langle {\\bf y},{\\bf x}\\rangle$.\n",
    "4. $\\langle {\\bf x}, {\\bf x} \\rangle \\geq 0$, and the equality holds if and only if ${\\bf x} = {\\bf 0}$.  \n",
    "\n",
    "驗證以下定義的各種雙變數函數都可視為內積。  "
   ]
  },
  {
   "cell_type": "markdown",
   "metadata": {},
   "source": [
    "##### Exercise 5(a)\n",
    "\n",
    "考慮 $V = \\mathcal{M}_{2,3}$。  \n",
    "定義兩矩陣 $A$ 和 $B$ 的內積為  \n",
    "$$\\langle A, B \\rangle = \\operatorname{tr}(B^\\top A).$$"
   ]
  },
  {
   "cell_type": "markdown",
   "metadata": {},
   "source": [
    "##### Exercise 5(b)\n",
    "\n",
    "考慮 $V = \\mathcal{P}_3$。  \n",
    "定義兩多項式  \n",
    "$$\\begin{aligned} \n",
    " p_1 &= a_0 + a_1x + a_2x^2 + a_3x^3 \\\\\n",
    " p_2 &= b_0 + b_1x + b_2x^2 + b_3x^3 \\\\\n",
    "\\end{aligned}$$\n",
    "的內積為  \n",
    "$$\\langle p_1, p_2 \\rangle = a_0b_0 + a_1b_1 + a_2b_2 + a_3b_3.$$"
   ]
  },
  {
   "cell_type": "markdown",
   "metadata": {},
   "source": [
    "##### Exercise 5(c)\n",
    "\n",
    "考慮 $V = \\mathcal{P}_3$。  \n",
    "定義兩多項式  \n",
    "$$\\begin{aligned} \n",
    " p_1 &= a_0 + a_1x + a_2x^2 + a_3x^3 \\\\\n",
    " p_2 &= b_0 + b_1x + b_2x^2 + b_3x^3 \\\\\n",
    "\\end{aligned}$$\n",
    "的內積為  \n",
    "$$\\langle p_1, p_2 \\rangle = p_1(1)p_2(1) + p_1(2)p_2(2) + p_1(3)p_2(3).$$"
   ]
  },
  {
   "cell_type": "markdown",
   "metadata": {},
   "source": [
    "##### Exercise 5(c)\n",
    "\n",
    "考慮 $V$ 為 $[0,1]$ 區間上的所有連續函數。  \n",
    "定義兩函數 $f$ 和 $g$ 的內積為  \n",
    "$$\\langle f, g \\rangle = \\int_0^1 fg\\, dx.$$"
   ]
  }
 ],
 "metadata": {
  "kernelspec": {
   "display_name": "SageMath 9.0",
   "language": "sage",
   "name": "sagemath"
  },
  "language_info": {
   "codemirror_mode": {
    "name": "ipython",
    "version": 3
   },
   "file_extension": ".py",
   "mimetype": "text/x-python",
   "name": "python",
   "nbconvert_exporter": "python",
   "pygments_lexer": "ipython3",
   "version": "3.8.10"
  }
 },
 "nbformat": 4,
 "nbformat_minor": 4
}
