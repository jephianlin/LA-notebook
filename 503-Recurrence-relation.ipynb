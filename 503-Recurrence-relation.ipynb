{
 "cells": [
  {
   "cell_type": "markdown",
   "metadata": {},
   "source": [
    "# 遞迴關係式"
   ]
  },
  {
   "cell_type": "markdown",
   "metadata": {},
   "source": [
    "![Creative Commons License](https://i.creativecommons.org/l/by/4.0/88x31.png)  \n",
    "This work by Jephian Lin is licensed under a [Creative Commons Attribution 4.0 International License](http://creativecommons.org/licenses/by/4.0/)."
   ]
  },
  {
   "cell_type": "markdown",
   "metadata": {},
   "source": [
    "$\\newcommand{\\trans}{^\\top}\n",
    "\\newcommand{\\adj}{^{\\rm adj}}\n",
    "\\newcommand{\\cof}{^{\\rm cof}}\n",
    "\\newcommand{\\inp}[2]{\\left\\langle#1,#2\\right\\rangle}\n",
    "\\newcommand{\\dunion}{\\mathbin{\\dot\\cup}}\n",
    "\\newcommand{\\bzero}{\\mathbf{0}}\n",
    "\\newcommand{\\bone}{\\mathbf{1}}\n",
    "\\newcommand{\\ba}{\\mathbf{a}}\n",
    "\\newcommand{\\bb}{\\mathbf{b}}\n",
    "\\newcommand{\\bc}{\\mathbf{c}}\n",
    "\\newcommand{\\bd}{\\mathbf{d}}\n",
    "\\newcommand{\\be}{\\mathbf{e}}\n",
    "\\newcommand{\\bh}{\\mathbf{h}}\n",
    "\\newcommand{\\bp}{\\mathbf{p}}\n",
    "\\newcommand{\\bq}{\\mathbf{q}}\n",
    "\\newcommand{\\br}{\\mathbf{r}}\n",
    "\\newcommand{\\bx}{\\mathbf{x}}\n",
    "\\newcommand{\\by}{\\mathbf{y}}\n",
    "\\newcommand{\\bz}{\\mathbf{z}}\n",
    "\\newcommand{\\bu}{\\mathbf{u}}\n",
    "\\newcommand{\\bv}{\\mathbf{v}}\n",
    "\\newcommand{\\bw}{\\mathbf{w}}\n",
    "\\newcommand{\\tr}{\\operatorname{tr}}\n",
    "\\newcommand{\\nul}{\\operatorname{null}}\n",
    "\\newcommand{\\rank}{\\operatorname{rank}}\n",
    "%\\newcommand{\\ker}{\\operatorname{ker}}\n",
    "\\newcommand{\\range}{\\operatorname{range}}\n",
    "\\newcommand{\\Col}{\\operatorname{Col}}\n",
    "\\newcommand{\\Row}{\\operatorname{Row}}\n",
    "\\newcommand{\\spec}{\\operatorname{spec}}\n",
    "\\newcommand{\\vspan}{\\operatorname{span}}\n",
    "\\newcommand{\\Vol}{\\operatorname{Vol}}\n",
    "\\newcommand{\\sgn}{\\operatorname{sgn}}\n",
    "\\newcommand{\\idmap}{\\operatorname{id}}$"
   ]
  },
  {
   "cell_type": "code",
   "execution_count": null,
   "metadata": {},
   "outputs": [],
   "source": [
    "from lingeo import random_int_list"
   ]
  },
  {
   "cell_type": "markdown",
   "metadata": {},
   "source": [
    "## Main idea"
   ]
  },
  {
   "cell_type": "markdown",
   "metadata": {},
   "source": [
    "Consider a sequence that satisfies  \n",
    "$$\n",
    "    \\begin{aligned}\n",
    "    a_{n+2} &= c_1a_{n+1} + c_2a_n, \\\\\n",
    "    a_0 &= p,\\quad a_1 = q,\n",
    "    \\end{aligned}\n",
    "$$\n",
    "where $c_1,c_2,p,q$ are some given values.  \n",
    "The first line is called a **recurrence relation**, while  \n",
    "the second line is called the **initial conditions**.  "
   ]
  },
  {
   "cell_type": "markdown",
   "metadata": {},
   "source": [
    "A famous example is the **Fibonacci sequence** defined by  \n",
    "$$\n",
    "    \\begin{aligned}\n",
    "    a_{n+2} &= a_{n+1} + a_n, \\\\\n",
    "    a_0 &= 1,\\quad a_1 = 1.\n",
    "    \\end{aligned}\n",
    "$$"
   ]
  },
  {
   "cell_type": "markdown",
   "metadata": {},
   "source": [
    "Such a relation can be written as  \n",
    "$$\n",
    "    \\begin{bmatrix} a_{n+1} \\\\ a_{n+2} \\end{bmatrix}\n",
    "     =\n",
    "    \\begin{bmatrix}\n",
    "     0 & 1 \\\\\n",
    "     c_2 & c_1 \n",
    "    \\end{bmatrix}\n",
    "    \\begin{bmatrix} a_{n} \\\\ a_{n+1} \\end{bmatrix}.\n",
    "$$"
   ]
  },
  {
   "cell_type": "markdown",
   "metadata": {},
   "source": [
    "That is, by setting $\\bv_n = \\begin{bmatrix} a_n \\\\ a_{n+1} \\end{bmatrix}$,  \n",
    "there is a matrix $A$ such that  \n",
    "$$\n",
    "    \\begin{aligned}\n",
    "    \\bv_{n+1} &= A\\bv_n, \\\\\n",
    "    \\bv_0 &= \\begin{bmatrix} p \\\\ q \\end{bmatrix}.\n",
    "    \\end{aligned}\n",
    "$$\n",
    "As long as we have a formulat for $A^n$, then we know $\\bv_n = A^n\\bv_0$.  "
   ]
  },
  {
   "cell_type": "markdown",
   "metadata": {},
   "source": [
    "## Side stories\n",
    "\n",
    "- Fibonacci sequence\n",
    "- $\\mathbb{R}^\\mathbb{Z}$ and the advancement operator"
   ]
  },
  {
   "cell_type": "markdown",
   "metadata": {},
   "source": [
    "## Experiments"
   ]
  },
  {
   "cell_type": "markdown",
   "metadata": {},
   "source": [
    "##### Exercise 1\n",
    "\n",
    "執行以下程式碼。  "
   ]
  },
  {
   "cell_type": "code",
   "execution_count": null,
   "metadata": {
    "scrolled": false
   },
   "outputs": [],
   "source": [
    "### code\n",
    "set_random_seed(0)\n",
    "print_ans = False\n",
    "\n",
    "while True:\n",
    "    c1,c2 = random_int_list(2, 3)\n",
    "    if c1 != 0 and c2 != 0:\n",
    "        break\n",
    "        \n",
    "p,q = random_int_list(2, 3)\n",
    "\n",
    "pretty_print(LatexExpr(\"a_{n+2} = (%s)a_{n+1} + (%s)a_{n}\"%(c1,c2)))\n",
    "pretty_print(LatexExpr(\"a_0 = %s\"%p))\n",
    "pretty_print(LatexExpr(\"a_1 = %s\"%q))\n",
    "\n",
    "A = matrix([[0,1],[c2,c1]])\n",
    "pretty_print(LatexExpr(\"A^5 =\"), A^5)\n",
    "\n",
    "if print_ans:\n",
    "    anp0,anp1 = p,q\n",
    "    for k in range(2,6):\n",
    "        anp2 = c2 * anp0 + c1 * anp1\n",
    "        pretty_print(LatexExpr(\"a_{%s} = %s\"%(k,anp2)))\n",
    "        anp0 = anp1\n",
    "        anp1 = anp2"
   ]
  },
  {
   "cell_type": "markdown",
   "metadata": {},
   "source": [
    "##### Exercise 1(a)\n",
    "\n",
    "依照定義依序求出 $a_2,\\ldots, a_5$。"
   ]
  },
  {
   "cell_type": "markdown",
   "metadata": {},
   "source": [
    "##### Exercise 1(b)\n",
    "\n",
    "令 $\\bv_n = \\begin{bmatrix} a_n \\\\ a_{n+1} \\end{bmatrix}$，  \n",
    "找到一個矩陣 $A$ 使得 $\\bv_{n+1} = A\\bv_n$。"
   ]
  },
  {
   "cell_type": "markdown",
   "metadata": {},
   "source": [
    "##### Exercise 1(c)\n",
    "\n",
    "利用題目給的 $A^5$，求出 $a_5$。  \n",
    "比較答案是否和前面算的一樣。"
   ]
  },
  {
   "cell_type": "markdown",
   "metadata": {},
   "source": [
    "## Exercises"
   ]
  },
  {
   "cell_type": "markdown",
   "metadata": {},
   "source": [
    "##### Exercise 2\n",
    "\n",
    "解以下遞迴關係式中 $a_n$ 的一般式。"
   ]
  },
  {
   "cell_type": "markdown",
   "metadata": {},
   "source": [
    "##### Exercise 2(a)\n",
    "\n",
    "已知  \n",
    "$$\n",
    "    \\begin{bmatrix}\n",
    "    2 & 0 \\\\\n",
    "    0 & 3\n",
    "    \\end{bmatrix}\n",
    "    = \n",
    "    \\begin{bmatrix}\n",
    "    1 & 1 \\\\\n",
    "    3 & 2\n",
    "    \\end{bmatrix}^{-1}\n",
    "    \\begin{bmatrix}\n",
    "    0 & 1 \\\\\n",
    "    -6 & 5\n",
    "    \\end{bmatrix}\n",
    "    \\begin{bmatrix}\n",
    "    1 & 1 \\\\\n",
    "    3 & 2\n",
    "    \\end{bmatrix}.\n",
    "$$\n",
    "考慮遞迴關係式 $a_{n+2} = 5a_{n+1} - 6a_n$、$a_0 = a_1 = 1$。"
   ]
  },
  {
   "cell_type": "markdown",
   "metadata": {},
   "source": [
    "##### Exercise 2(b)\n",
    "\n",
    "已知  \n",
    "$$\n",
    "    \\begin{bmatrix}\n",
    "    2 & 0 \\\\\n",
    "    0 & -2\n",
    "    \\end{bmatrix}\n",
    "    = \n",
    "    \\begin{bmatrix}\n",
    "    1 & 1 \\\\\n",
    "    2 & -2\n",
    "    \\end{bmatrix}^{-1}\n",
    "    \\begin{bmatrix}\n",
    "    0 & 1 \\\\\n",
    "    -4 & 0\n",
    "    \\end{bmatrix}\n",
    "    \\begin{bmatrix}\n",
    "    1 & 1 \\\\\n",
    "    2 & -2\n",
    "    \\end{bmatrix}.\n",
    "$$\n",
    "考慮遞迴關係式 $a_{n+2} = 0a_{n+1} - 4a_n$、$a_0 = a_1 = 1$。"
   ]
  },
  {
   "cell_type": "markdown",
   "metadata": {},
   "source": [
    "##### Exercise 2(b)\n",
    "\n",
    "已知  \n",
    "$$\n",
    "    \\begin{bmatrix}\n",
    "    2 & 1 \\\\\n",
    "    0 & 2\n",
    "    \\end{bmatrix}\n",
    "    = \n",
    "    \\begin{bmatrix}\n",
    "    2 & -1 \\\\\n",
    "    4 & 0\n",
    "    \\end{bmatrix}^{-1}\n",
    "    \\begin{bmatrix}\n",
    "    0 & 1 \\\\\n",
    "    -4 & 4\n",
    "    \\end{bmatrix}\n",
    "    \\begin{bmatrix}\n",
    "    2 & -1 \\\\\n",
    "    4 & 0\n",
    "    \\end{bmatrix}.\n",
    "$$\n",
    "考慮遞迴關係式 $a_{n+2} = 4a_{n+1} - 4a_n$、$a_0 = a_1 = 1$。"
   ]
  },
  {
   "cell_type": "markdown",
   "metadata": {},
   "source": [
    "##### Exercise 2(b)\n",
    "\n",
    "已知  \n",
    "$$\n",
    "    \\begin{bmatrix}\n",
    "    3 & 1 \\\\\n",
    "    0 & 3\n",
    "    \\end{bmatrix}\n",
    "    = \n",
    "    \\begin{bmatrix}\n",
    "    3 & -1 \\\\\n",
    "    9 & 0\n",
    "    \\end{bmatrix}^{-1}\n",
    "    \\begin{bmatrix}\n",
    "    0 & 1 \\\\\n",
    "    -9 & 6\n",
    "    \\end{bmatrix}\n",
    "    \\begin{bmatrix}\n",
    "    3 & -1 \\\\\n",
    "    9 & 0\n",
    "    \\end{bmatrix}.\n",
    "$$\n",
    "考慮遞迴關係式 $a_{n+2} = 6a_{n+1} - 9a_n$、$a_0 = a_1 = 1$。"
   ]
  },
  {
   "cell_type": "markdown",
   "metadata": {},
   "source": [
    "##### Exercise 3\n",
    "\n",
    "已知  \n",
    "$$\n",
    "    \\begin{bmatrix}\n",
    "    3 & 0 & 0 \\\\\n",
    "    0 & 2 & 0 \\\\\n",
    "    0 & 0 & 1\n",
    "    \\end{bmatrix}\n",
    "    = \n",
    "    \\begin{bmatrix}\n",
    "    1 & 1 & 1 \\\\\n",
    "    3 & 2 & 1 \\\\\n",
    "    9 & 4 & 1\n",
    "    \\end{bmatrix}^{-1}\n",
    "    \\begin{bmatrix}\n",
    "    0 & 1 & 0 \\\\\n",
    "    0 & 0 & 1 \\\\\n",
    "    6 & -11 & 6\n",
    "    \\end{bmatrix}\n",
    "    \\begin{bmatrix}\n",
    "    1 & 1 & 1 \\\\\n",
    "    3 & 2 & 1 \\\\\n",
    "    9 & 4 & 1\n",
    "    \\end{bmatrix}.\n",
    "$$\n",
    "考慮遞迴關係式 $a_{n+3} = 6a_{n+2} - 11a_{n+1} + 6a_n$、$a_0 = a_1 = a_2 = 1$。  \n",
    "解 $a_n$ 的一般式。"
   ]
  },
  {
   "cell_type": "markdown",
   "metadata": {},
   "source": [
    "##### Exercise 4\n",
    "\n",
    "解費波那契數列的 $a_n$ 的一般式。"
   ]
  },
  {
   "cell_type": "markdown",
   "metadata": {},
   "source": [
    "##### Exercise 5\n",
    "\n",
    "以下提供解遞迴關係式的另一種觀點。"
   ]
  },
  {
   "cell_type": "markdown",
   "metadata": {},
   "source": [
    "##### Exercise 5(a)\n",
    "\n",
    "考慮集合  \n",
    "$$\n",
    "    \\mathbb{R}^\\mathbb{Z} = \\{( \\ldots, a_{-1}, a_0, a_1, \\ldots): a_n \\in \\mathbb{R} \\text{ for all }n\\in\\mathbb{Z}\\}.\n",
    "$$\n",
    "定義向量加法與數列的純量乘法為  \n",
    "$$\n",
    "    ( \\ldots, a_{-1}, a_0, a_1, \\ldots) + ( \\ldots, b_{-1}, b_0, b_1, \\ldots) = ( \\ldots, a_{-1} + b_{-1}, a_0 + b_0, a_1 + b_1, \\ldots),\n",
    "$$\n",
    "$$\n",
    "    k( \\ldots, a_{-1}, a_0, a_1, \\ldots) = ( \\ldots, ka_{-1}, ka_0, ka_1, \\ldots).\n",
    "$$\n",
    "說明 $\\mathbb{R}^\\mathbb{Z}$ 搭配以上定義的向量加法與純量乘法後，是一個向量空間。"
   ]
  },
  {
   "cell_type": "markdown",
   "metadata": {},
   "source": [
    "##### Exercise 5(b)\n",
    "\n",
    "定義一個左移函數（advanced operator） $A: \\mathbb{R}^\\mathbb{Z} \\rightarrow \\mathbb{R}^\\mathbb{Z}$ 為  \n",
    "$$\n",
    "    A(\\ldots, a_n, \\ldots) = (\\ldots, a_{n+1},\\ldots).\n",
    "$$\n",
    "即將數列 $(\\ldots, a_n, \\ldots)$ 全部往左移一格。  \n",
    "說明 $A$ 是一個線性函數。"
   ]
  },
  {
   "cell_type": "markdown",
   "metadata": {},
   "source": [
    "##### Exercise 5(a)\n",
    "\n"
   ]
  },
  {
   "cell_type": "markdown",
   "metadata": {},
   "source": [
    "說明 $A - 3\\idmap$ 也是一個線性函數且  \n",
    "$$\n",
    "    \\ker(A - 3\\idmap) = \\vspan\\{(\\ldots, 3^n, \\ldots)\\}.\n",
    "$$"
   ]
  },
  {
   "cell_type": "markdown",
   "metadata": {},
   "source": [
    "##### Exercise 5(b)\n",
    "\n",
    "若 $f$ 和 $g$ 為兩個 $\\mathbb{R}^\\mathbb{Z} \\rightarrow \\mathbb{R}^\\mathbb{Z}$ 的函數。  \n",
    "我們用 $fg$ 代表函數的合成 $f(g(\\cdot))$。  \n",
    "所以 $A^2$ 表示代入 $A$ 函數兩次。  \n",
    "\n",
    "已知 $A^2 - 5A + 6\\idmap = (A - 2\\idmap)(A - 3\\idmap)$。  \n",
    "說明  \n",
    "$$\n",
    "    \\ker(A^2 - 5A + 6\\idmap) \\supseteq \\vspan \\{(\\ldots, 2^n, \\ldots), (\\ldots, 3^n, \\ldots)\\}.\n",
    "$$  \n",
    "（實際上兩個集合相等，但另一個方向證明要花比較多的力氣。）"
   ]
  }
 ],
 "metadata": {
  "kernelspec": {
   "display_name": "SageMath 9.4",
   "language": "sage",
   "name": "sagemath"
  },
  "language_info": {
   "codemirror_mode": {
    "name": "ipython",
    "version": 3
   },
   "file_extension": ".py",
   "mimetype": "text/x-python",
   "name": "python",
   "nbconvert_exporter": "python",
   "pygments_lexer": "ipython3",
   "version": "3.10.1"
  }
 },
 "nbformat": 4,
 "nbformat_minor": 4
}
