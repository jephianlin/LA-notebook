{
 "cells": [
  {
   "cell_type": "markdown",
   "metadata": {},
   "source": [
    "# 常見的向量空間"
   ]
  },
  {
   "cell_type": "markdown",
   "metadata": {},
   "source": [
    "![Creative Commons License](https://i.creativecommons.org/l/by/4.0/88x31.png)  \n",
    "This work by Jephian Lin is licensed under a [Creative Commons Attribution 4.0 International License](http://creativecommons.org/licenses/by/4.0/)."
   ]
  },
  {
   "cell_type": "code",
   "execution_count": null,
   "metadata": {},
   "outputs": [],
   "source": [
    "from lingeo import random_int_list\n",
    "from linspace import vtop, vtom"
   ]
  },
  {
   "cell_type": "markdown",
   "metadata": {},
   "source": [
    "## Main idea"
   ]
  },
  {
   "cell_type": "markdown",
   "metadata": {},
   "source": [
    "Let $\\mathcal{P}_d$ be the set of all polynomials of degree at most $d$ (with real coefficients).  \n",
    "Let $+$ and $\\cdot$ be the regular polynomial addition and scalr multiplication, respectively.  \n",
    "Then $(\\mathcal{P}_d, +, \\cdot)$ is a vector space, usually denoted as just $\\mathcal{P}_d$."
   ]
  },
  {
   "cell_type": "markdown",
   "metadata": {},
   "source": [
    "It is known that $\\beta = \\{1, x, \\ldots, x^d\\}$ is a basis of $\\mathcal{P}_d$, so $\\dim(\\mathcal{P}_d) = d + 1$.  \n",
    "The zero vector in $\\mathcal{P}_d$ is $0 = 0 + 0x + \\cdots + 0x^d$.  \n",
    "We usually call $\\beta$ the **standard basis** of $\\mathcal{P}_d$.  "
   ]
  },
  {
   "cell_type": "markdown",
   "metadata": {},
   "source": [
    "It is easy to see that essentially every polynomial stores $d+1$ coefficients, and its behavior is very similar to a vector in $\\mathbb{R}^{d+1}$.  \n",
    "When $p = a_0 + a_1x + \\cdots + a_dx^d$, we define $\\operatorname{ptov}(p) = (a_0,\\ldots,a_d)$.  "
   ]
  },
  {
   "cell_type": "markdown",
   "metadata": {},
   "source": [
    "Let $\\mathcal{M}_{m,n}$ be the set of all $m\\times n$ matrices (over $\\mathbb{R}$).  \n",
    "Let $+$ and $\\cdot$ be the regular matrix addition and scalr multiplication, respectively.  \n",
    "Then $(\\mathcal{M}_{m,n}, +, \\cdot)$ is a vector space, usually denoted as just $\\mathcal{M}_{m,n}$."
   ]
  },
  {
   "cell_type": "markdown",
   "metadata": {},
   "source": [
    "Let $E_{ij}$ be the matrix whose $ij$-entry is $1$ while other entries are $0$.  \n",
    "It is known that $\\beta = \\{E_{11}, \\ldots, E_{1n}, \\ldots, E_{m1}, \\ldots1, E_{mn}\\}$ is a basis of $\\mathcal{M}_{m,n}$, so $\\dim(\\mathcal{M}_{m,n}) = mn$.  \n",
    "The zero vector in $\\mathcal{M}_{m,n}$ is $O_{m,n}$, the $m\\times n$ zero matrix.    \n",
    "We usually call $\\beta$ the **standard basis** of $\\mathcal{M}_{m,n}$.  "
   ]
  },
  {
   "cell_type": "markdown",
   "metadata": {},
   "source": [
    "Again, every $m\\times n$ matrix stores $mn$ coefficients, and behaves almost the same as a vector in $\\mathbb{R}^{mn}$.  \n",
    "When $M = \\begin{bmatrix} a_{ij} \\end{bmatrix}$, we define $\\operatorname{mtov}(M) = (a_{11},\\ldots,a_{1n},\\ldots,a_{m1},\\ldots,a_{mn})$.  "
   ]
  },
  {
   "cell_type": "markdown",
   "metadata": {},
   "source": [
    "## Side stories\n",
    "- gcd of polynomials\n",
    "- matrix equation"
   ]
  },
  {
   "cell_type": "markdown",
   "metadata": {},
   "source": [
    "## Experiments"
   ]
  },
  {
   "cell_type": "markdown",
   "metadata": {},
   "source": [
    "##### Exercise 1\n",
    "\n",
    "執行以下程式碼。  \n",
    "己知 $A{\\bf v} = {\\bf b}$。  "
   ]
  },
  {
   "cell_type": "code",
   "execution_count": null,
   "metadata": {
    "scrolled": false
   },
   "outputs": [],
   "source": [
    "### code\n",
    "set_random_seed(0)\n",
    "print_ans = False\n",
    "m,n = 4,3\n",
    "A = matrix(m, random_int_list(m*n))\n",
    "v = vector(random_int_list(n))\n",
    "b = A * v\n",
    "\n",
    "print(\"A =\")\n",
    "show(A)\n",
    "print(\"v = (c1, c2, c3) =\", v)\n",
    "print(\"b =\", b)\n",
    "\n",
    "print(\"p1 =\", vtop(A.transpose()[0]))\n",
    "print(\"p2 =\", vtop(A.transpose()[1]))\n",
    "print(\"p3 =\", vtop(A.transpose()[2]))\n",
    "\n",
    "print(\"M1, M2, M3 =\")\n",
    "pretty_print(vtom(A.transpose()[0],2,2), \", \", \n",
    "             vtom(A.transpose()[1],2,2), \", \", \n",
    "             vtom(A.transpose()[2],2,2)\n",
    "            )\n",
    "\n",
    "if print_ans:\n",
    "    print(\"c1p1 + c2p2 + c3p3 =\", vtop(b))\n",
    "    print(\"c1M1 + c2M2 + c3M3 =\")\n",
    "    show(vtom(b,2,2))"
   ]
  },
  {
   "cell_type": "markdown",
   "metadata": {},
   "source": [
    "##### Exercise 1(a)\n",
    "\n",
    "求 $c_1p_1 + c_2p_2 + c_3p_3$。  "
   ]
  },
  {
   "cell_type": "markdown",
   "metadata": {},
   "source": [
    "##### Exercise 1(b)\n",
    "\n",
    "求 $c_1M_1 + c_2M_2 + c_3M_3$。  "
   ]
  },
  {
   "cell_type": "markdown",
   "metadata": {},
   "source": [
    "## Exercises"
   ]
  },
  {
   "cell_type": "markdown",
   "metadata": {},
   "source": [
    "##### Exercise 2\n",
    "\n",
    "令 $U$ 為 $\\mathcal{P}_3$ 中所有 $p_1 = (x+1)(x+2)$ 的倍式、  \n",
    "$V$ 為 $\\mathcal{P}_3$ 中所有 $p_2 = (x+1)(x+3)$ 的倍式。  "
   ]
  },
  {
   "cell_type": "markdown",
   "metadata": {},
   "source": [
    "##### Exercise 2(a)\n",
    "\n",
    "說明 $U$ 和 $V$ 都是 $\\mathcal{P}_3$ 的子空間、  \n",
    "並判斷它們的維度。  "
   ]
  },
  {
   "cell_type": "markdown",
   "metadata": {},
   "source": [
    "##### Exercise 2(b)\n",
    "\n",
    "令 $A$ 為一個 $4\\times 2$ 矩陣其各行向量為 $\\operatorname{ptov}(p_1)$ 和 $\\operatorname{ptov}(xp_1)$、  \n",
    "$B$ 為一個 $4\\times 2$ 矩陣其各行向量為 $\\operatorname{ptov}(p_2)$ 和 $\\operatorname{ptov}(xp_2)$。  \n",
    "令 ${\\bf b} = (1,1,0,0)$。  \n",
    "求 $\\begin{bmatrix} A & B \\end{bmatrix}{\\bf x} = {\\bf b}$ 中 ${\\bf x}$ 的一個解﹐  \n",
    "並找到兩個一次以下的多項式 $a$ 和 $b$  \n",
    "使得 $ap_1 + bp_2 = 1 + x$。  "
   ]
  },
  {
   "cell_type": "markdown",
   "metadata": {},
   "source": [
    "##### Exercise 2(c)\n",
    "\n",
    "找出一個 $\\mathcal{P}_3$ 中的多項式 $q$  \n",
    "使得它無法利用 $a,b\\in\\mathcal{P}_1$ 寫成 $q = ap_1 + bp_2$ 的形式。  "
   ]
  },
  {
   "cell_type": "markdown",
   "metadata": {},
   "source": [
    "##### Exercise 3\n",
    "\n",
    "令 $A$ 為 $3\\times 3$ 的全 $1$ 矩陣。  \n",
    "令  \n",
    "$$V = \\{ X\\in\\mathcal{M}_{3,3} : AX = O \\}.$$"
   ]
  },
  {
   "cell_type": "markdown",
   "metadata": {},
   "source": [
    "##### Exercise 3(a)\n",
    "\n",
    "說明 $V$ 是 $\\mathcal{M}_{3,3}$ 的子空間、  \n",
    "並判斷它的維度。  "
   ]
  },
  {
   "cell_type": "markdown",
   "metadata": {},
   "source": [
    "##### Exercise 3(b)\n",
    "\n",
    "把 $X$ 寫成  \n",
    "$$X = \\begin{bmatrix}\n",
    " a & b & c \\\\\n",
    " d & e & f \\\\\n",
    " g & h & i \\\\\n",
    "\\end{bmatrix}.$$\n",
    "找出一個 $9\\times 9$ 的矩陣 $\\Psi$  \n",
    "使得 $AX = O \\iff \\Psi\\operatorname{mtov}(X) = {\\bf 0}$。  "
   ]
  },
  {
   "cell_type": "markdown",
   "metadata": {},
   "source": [
    "##### Exercise 3(c)\n",
    "\n",
    "求出 $V$ 的一組基底。  "
   ]
  },
  {
   "cell_type": "markdown",
   "metadata": {},
   "source": [
    "##### Exercise 4(a)\n",
    "\n",
    "令 $V = \\{ A \\in \\mathcal{M}_{n,n} : A^\\top = A \\}$  \n",
    "為所有 對稱矩陣所形成的集合。  \n",
    "驗證 $V$ 為 $\\mathcal{M}_{n,n}$ 的一個子空間、  \n",
    "並求出它的維度。  "
   ]
  },
  {
   "cell_type": "markdown",
   "metadata": {},
   "source": [
    "##### Exercise 4(b)\n",
    "\n",
    "令 $V = \\{ A \\in \\mathcal{M}_{n,n} : A^\\top = -A \\}$  \n",
    "為所有 對稱矩陣所形成的集合。  \n",
    "驗證 $V$ 為 $\\mathcal{M}_{n,n}$ 的一個子空間、  \n",
    "並求出它的維度。  "
   ]
  },
  {
   "cell_type": "markdown",
   "metadata": {},
   "source": [
    "##### Exercise 5\n",
    "\n",
    "考慮向量空間 $\\mathcal{P}_4$。  \n",
    "令  \n",
    "$$D = \\begin{bmatrix}  \n",
    " 0 & 1 & 0 & 0 \\\\\n",
    " 0 & 0 & 2 & 0 \\\\\n",
    " 0 & 0 & 0 & 3 \\\\\n",
    " 0 & 0 & 0 & 0 \\\\\n",
    "\\end{bmatrix}.$$"
   ]
  },
  {
   "cell_type": "markdown",
   "metadata": {},
   "source": [
    "##### Exercise 5(a)\n",
    "\n",
    "令 $p$ 為 $\\mathcal{P}_4$ 中的一個多項式  \n",
    "而 $p'$ 為其微分。  \n",
    "驗證 $\\operatorname{ptov}(p') = D\\operatorname{ptov}(p)$。  "
   ]
  },
  {
   "cell_type": "markdown",
   "metadata": {},
   "source": [
    "##### Exercise 5(b)\n",
    "\n",
    "求 $\\mathcal{P}_4$ 中所有 $p' = 0$ 的 $p$。  "
   ]
  },
  {
   "cell_type": "markdown",
   "metadata": {},
   "source": [
    "##### Exercise 5(c)\n",
    "\n",
    "求 $\\mathcal{P}_4$ 中所有 $p' = x$ 的 $p$。  "
   ]
  }
 ],
 "metadata": {
  "kernelspec": {
   "display_name": "SageMath 9.4",
   "language": "sage",
   "name": "sagemath"
  },
  "language_info": {
   "codemirror_mode": {
    "name": "ipython",
    "version": 3
   },
   "file_extension": ".py",
   "mimetype": "text/x-python",
   "name": "python",
   "nbconvert_exporter": "python",
   "pygments_lexer": "ipython3",
   "version": "3.9.7"
  }
 },
 "nbformat": 4,
 "nbformat_minor": 4
}
