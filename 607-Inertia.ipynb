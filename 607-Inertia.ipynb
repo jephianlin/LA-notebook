{
 "cells": [
  {
   "cell_type": "markdown",
   "metadata": {},
   "source": [
    "# 慣性"
   ]
  },
  {
   "cell_type": "markdown",
   "metadata": {},
   "source": [
    "![Creative Commons License](https://i.creativecommons.org/l/by/4.0/88x31.png)  \n",
    "This work by Jephian Lin is licensed under a [Creative Commons Attribution 4.0 International License](http://creativecommons.org/licenses/by/4.0/)."
   ]
  },
  {
   "cell_type": "markdown",
   "metadata": {},
   "source": [
    "$\\newcommand{\\trans}{^\\top}\n",
    "\\newcommand{\\adj}{^{\\rm adj}}\n",
    "\\newcommand{\\cof}{^{\\rm cof}}\n",
    "\\newcommand{\\inp}[2]{\\left\\langle#1,#2\\right\\rangle}\n",
    "\\newcommand{\\dunion}{\\mathbin{\\dot\\cup}}\n",
    "\\newcommand{\\bzero}{\\mathbf{0}}\n",
    "\\newcommand{\\bone}{\\mathbf{1}}\n",
    "\\newcommand{\\ba}{\\mathbf{a}}\n",
    "\\newcommand{\\bb}{\\mathbf{b}}\n",
    "\\newcommand{\\bc}{\\mathbf{c}}\n",
    "\\newcommand{\\bd}{\\mathbf{d}}\n",
    "\\newcommand{\\be}{\\mathbf{e}}\n",
    "\\newcommand{\\bh}{\\mathbf{h}}\n",
    "\\newcommand{\\bp}{\\mathbf{p}}\n",
    "\\newcommand{\\bq}{\\mathbf{q}}\n",
    "\\newcommand{\\br}{\\mathbf{r}}\n",
    "\\newcommand{\\bx}{\\mathbf{x}}\n",
    "\\newcommand{\\by}{\\mathbf{y}}\n",
    "\\newcommand{\\bz}{\\mathbf{z}}\n",
    "\\newcommand{\\bu}{\\mathbf{u}}\n",
    "\\newcommand{\\bv}{\\mathbf{v}}\n",
    "\\newcommand{\\bw}{\\mathbf{w}}\n",
    "\\newcommand{\\tr}{\\operatorname{tr}}\n",
    "\\newcommand{\\nul}{\\operatorname{null}}\n",
    "\\newcommand{\\rank}{\\operatorname{rank}}\n",
    "%\\newcommand{\\ker}{\\operatorname{ker}}\n",
    "\\newcommand{\\range}{\\operatorname{range}}\n",
    "\\newcommand{\\Col}{\\operatorname{Col}}\n",
    "\\newcommand{\\Row}{\\operatorname{Row}}\n",
    "\\newcommand{\\spec}{\\operatorname{spec}}\n",
    "\\newcommand{\\vspan}{\\operatorname{span}}\n",
    "\\newcommand{\\Vol}{\\operatorname{Vol}}\n",
    "\\newcommand{\\sgn}{\\operatorname{sgn}}\n",
    "\\newcommand{\\idmap}{\\operatorname{id}}\n",
    "\\newcommand{\\am}{\\operatorname{am}}\n",
    "\\newcommand{\\gm}{\\operatorname{gm}}\n",
    "\\newcommand{\\iner}{\\operatorname{iner}}$"
   ]
  },
  {
   "cell_type": "code",
   "execution_count": null,
   "metadata": {},
   "outputs": [],
   "source": [
    "from lingeo import random_int_list\n",
    "from sym import inertia"
   ]
  },
  {
   "cell_type": "markdown",
   "metadata": {},
   "source": [
    "## Main idea"
   ]
  },
  {
   "cell_type": "markdown",
   "metadata": {},
   "source": [
    "Let $A$ be an $n\\times n$ symmetric matrix.  \n",
    "According to the spectral theorem, all eigenvalues of $A$ are real, so they can be arranged from small to large on the real line.  \n",
    "Let $n_+(A)$, $n_-(A)$, and $n_0(A)$ be the number of positive, negative, and zero eigenvalues of $A$, respectively.  \n",
    "Then the **inertia** of $A$ is defined as  \n",
    "\n",
    "$$\n",
    "    \\iner(A) = (n_+(A), n_-(A), n_0(A)).\n",
    "$$"
   ]
  },
  {
   "cell_type": "markdown",
   "metadata": {},
   "source": [
    "Two symmetric matrices $A$ and $B$ are **congruent** if there is an invertible matrix $Q$ such that  \n",
    "\n",
    "$$\n",
    "    Q\\trans AQ = B.\n",
    "$$\n",
    "\n",
    "Notice that $Q$ _has to_ be invertible, yet it is $Q\\trans$ in the relation.  "
   ]
  },
  {
   "cell_type": "markdown",
   "metadata": {},
   "source": [
    "##### Sylvester's law of inertia\n",
    "\n",
    "If two symmetric matrices are congruent, then they have the same inertia.  \n",
    "Moreover, every real symmetric matrix $A$ is congruent to a matrix of the form\n",
    "\n",
    "$$\n",
    "    \\begin{bmatrix}\n",
    "     I_p & ~ & ~ \\\\\n",
    "     ~ & -I_q & ~ \\\\\n",
    "     ~ & ~ & O_r\n",
    "    \\end{bmatrix},\n",
    "$$\n",
    "\n",
    "where $p = n_+(A)$, $q = n_-(A)$, and $r = n_0(A)$.  "
   ]
  },
  {
   "cell_type": "markdown",
   "metadata": {},
   "source": [
    "Since every invertible matrix can be decomposed into the product of some elementary matrix.  \n",
    "Two symmetric matrices $A$ and $B$ are congruent means there are elementary matrices $E_1,\\ldots, E_k$ such that   \n",
    "\n",
    "$$\n",
    "    E_k\\trans\\cdots E_1\\trans AE_1\\cdots E_k = B.\n",
    "$$  \n",
    "\n",
    "That is, applying some symmetric row/column operations simultaneously to $A$ will result in $B$."
   ]
  },
  {
   "cell_type": "markdown",
   "metadata": {},
   "source": [
    "## Side stories\n",
    "\n",
    "- quadratic form\n",
    "- local optimum by derivatives"
   ]
  },
  {
   "cell_type": "markdown",
   "metadata": {},
   "source": [
    "## Experiments"
   ]
  },
  {
   "cell_type": "markdown",
   "metadata": {},
   "source": [
    "##### Exercise 1\n",
    "\n",
    "執行以下程式碼。  "
   ]
  },
  {
   "cell_type": "code",
   "execution_count": null,
   "metadata": {
    "scrolled": false
   },
   "outputs": [],
   "source": [
    "### code\n",
    "set_random_seed(0)\n",
    "print_ans = False\n",
    "\n",
    "n = 3\n",
    "entries = [1,1] + random_int_list(binomial(n+1,2), 3)\n",
    "A = zero_matrix(n)\n",
    "\n",
    "k = 0\n",
    "for i in range(n):\n",
    "    for j in range(i,n):\n",
    "        A[i,j] = entries[k]\n",
    "        A[j,i] = entries[k]\n",
    "        k += 1\n",
    "\n",
    "pretty_print(LatexExpr(\"A =\"), A)\n",
    "        \n",
    "if print_ans:\n",
    "    B = copy(A)\n",
    "    B.add_multiple_of_row(1,0,-1)\n",
    "    B.add_multiple_of_column(1,0,-1)\n",
    "    print(\"A after row/column operation:\")\n",
    "    show(B)\n",
    "    print(\"(n+, n-, n0) =\", inertia(A))"
   ]
  },
  {
   "cell_type": "markdown",
   "metadata": {},
   "source": [
    "##### Exercise 1(a)\n",
    "\n",
    "對 $A$ 進行列運算 $\\rho_2:-\\rho_1$、再進行行運算 $\\kappa_2:-\\kappa_1$ 的結果為何？"
   ]
  },
  {
   "cell_type": "markdown",
   "metadata": {},
   "source": [
    "##### Exercise 1(b)\n",
    "\n",
    "將 $A$ 進行一系列對稱的行列運算，讓它變成對角矩陣且對角線上只有 $1$、$0$、$-1$。  \n",
    "求 $\\iner(A)$。"
   ]
  },
  {
   "cell_type": "markdown",
   "metadata": {},
   "source": [
    "## Exercises"
   ]
  },
  {
   "cell_type": "markdown",
   "metadata": {},
   "source": [
    "##### Exercise 2\n",
    "\n",
    "求以下矩陣 $A$ 的 $\\iner(A)$。"
   ]
  },
  {
   "cell_type": "markdown",
   "metadata": {},
   "source": [
    "##### Exercise 2(a)\n",
    "\n",
    "$$\n",
    "    A = \\begin{bmatrix}\n",
    "     1 & 1 \\\\\n",
    "     1 & 1\n",
    "    \\end{bmatrix}.\n",
    "$$"
   ]
  },
  {
   "cell_type": "markdown",
   "metadata": {},
   "source": [
    "##### Exercise 2(b)\n",
    "\n",
    "$$\n",
    "    A = \\begin{bmatrix}\n",
    "     0 & 1 \\\\\n",
    "     1 & 0\n",
    "    \\end{bmatrix}.\n",
    "$$"
   ]
  },
  {
   "cell_type": "markdown",
   "metadata": {},
   "source": [
    "##### Exercise 2(c)\n",
    "\n",
    "$$\n",
    "    A = \\begin{bmatrix}\n",
    "     1 & 1 & 1 \\\\\n",
    "     1 & 1 & 1 \\\\\n",
    "     1 & 1 & 1 \\\\\n",
    "    \\end{bmatrix}.\n",
    "$$"
   ]
  },
  {
   "cell_type": "markdown",
   "metadata": {},
   "source": [
    "##### Exercise 2(d)\n",
    "\n",
    "$$\n",
    "    A = \\begin{bmatrix}\n",
    "     0 & 1 & 1 \\\\\n",
    "     1 & 0 & 1 \\\\\n",
    "     1 & 1 & 0 \\\\\n",
    "    \\end{bmatrix}.\n",
    "$$"
   ]
  },
  {
   "cell_type": "markdown",
   "metadata": {},
   "source": [
    "##### Exercise 2(e)\n",
    "\n",
    "$$\n",
    "    A = \\begin{bmatrix}\n",
    "     0 & 1 \\\\\n",
    "     1 & 0\n",
    "    \\end{bmatrix}.\n",
    "$$"
   ]
  },
  {
   "cell_type": "markdown",
   "metadata": {},
   "source": [
    "##### Exercise 3\n",
    "\n",
    "一個矩陣 $A$ 的 **二次型（quadratic form）** 指的是長得像 $\\bx\\trans A\\bx$ 的式子。  \n",
    "證明以下關於二次型的性質。"
   ]
  },
  {
   "cell_type": "markdown",
   "metadata": {},
   "source": [
    "##### Exercise 3(a)\n",
    "\n",
    "令  \n",
    "\n",
    "$$\n",
    "    A = \\begin{bmatrix}\n",
    "     2 & -1 \\\\\n",
    "     -1 & 2 \n",
    "    \\end{bmatrix}, \\quad\n",
    "    \\bx = \\begin{bmatrix} x \\\\ y \\end{bmatrix}.\n",
    "$$\n",
    "\n",
    "證明 $\\bx\\trans A\\bx \\geq 0$。  \n",
    "\n"
   ]
  },
  {
   "cell_type": "markdown",
   "metadata": {},
   "source": [
    "##### Exercise 3(b)\n",
    "\n",
    "解釋 `X0 = X - mu` 的意義。"
   ]
  },
  {
   "cell_type": "markdown",
   "metadata": {},
   "source": [
    "##### Exercise 4\n",
    "\n",
    "執行以下程式碼。"
   ]
  },
  {
   "cell_type": "code",
   "execution_count": null,
   "metadata": {},
   "outputs": [],
   "source": [
    "### code\n",
    "\n",
    "import numpy as np\n",
    "import matplotlib.pyplot as plt\n",
    "%matplotlib notebook\n",
    "\n",
    "np.random.seed(0)\n",
    "\n",
    "mu = np.random.randint(-3,4, (3,))\n",
    "cov = np.array([[3, -0.9, -1.9],\n",
    "                [-0.9, 11, -9.9], \n",
    "                [-1.9, -9.9, 12]])\n",
    "X = np.random.multivariate_normal(mu, cov, (100,))\n",
    "mu = X.mean(axis=0)\n",
    "X0 = X - mu\n",
    "u,s,vh = np.linalg.svd(X0)\n",
    "P = vh.T[:,:2]\n",
    "\n",
    "ax = plt.axes(projection='3d')\n",
    "ax.set_xlim(-5,5)\n",
    "ax.set_ylim(-5,5)\n",
    "ax.set_zlim(-5,5)\n",
    "\n",
    "ax.scatter(*X.T)\n",
    "ax.scatter(*mu, c=\"red\")\n",
    "ax.quiver(*(mu[:,np.newaxis] + np.zeros((2,))), *P, color=\"red\")"
   ]
  },
  {
   "cell_type": "code",
   "execution_count": null,
   "metadata": {},
   "outputs": [],
   "source": [
    "%matplotlib inline\n",
    "Y = X0.dot(P)\n",
    "plt.axis('equal')\n",
    "plt.scatter(*Y.T)"
   ]
  },
  {
   "cell_type": "markdown",
   "metadata": {},
   "source": [
    "##### Exercise 4(a)\n",
    "\n",
    "說明兩段程式碼產出的圖的關係。"
   ]
  },
  {
   "cell_type": "markdown",
   "metadata": {},
   "source": [
    "##### Exercise 4(b)\n",
    "\n",
    "使用 `X.shape` 來觀察一個陣列的形狀、  \n",
    "並逐句解釋下方程式碼所做的事情。\n",
    "\n",
    "```python\n",
    "mu = X.mean(axis=0)\n",
    "X0 = X - mu\n",
    "u,s,vh = np.linalg.svd(X0)\n",
    "P = vh.T[:,:2]\n",
    "```"
   ]
  },
  {
   "cell_type": "markdown",
   "metadata": {},
   "source": [
    "##### Exercise 5\n",
    "\n",
    "**挑戰**  \n",
    "以下程式碼讀進一筆資料。  \n",
    "這筆資料實際上是貼在高維度中的一個二維平面，  \n",
    "且它在這個平面上排出一個一個英文字。  \n",
    "\n",
    "請找出這個英文字是什麼。"
   ]
  },
  {
   "cell_type": "code",
   "execution_count": null,
   "metadata": {},
   "outputs": [],
   "source": [
    "X = np.genfromtxt('hidden_text.csv', delimiter=',')\n",
    "print(\"shape of X =\", X.shape)"
   ]
  },
  {
   "cell_type": "markdown",
   "metadata": {},
   "source": [
    "##### Exercise 6\n",
    "\n",
    "令 $X_0$ 及 $P$ 為主成份分析演算法中的矩陣。  \n",
    "說明 $X_0P$ 與 $X_0PP\\trans$ 的列向量所代量的意義。"
   ]
  }
 ],
 "metadata": {
  "kernelspec": {
   "display_name": "SageMath 9.5",
   "language": "sage",
   "name": "sagemath"
  },
  "language_info": {
   "codemirror_mode": {
    "name": "ipython",
    "version": 3
   },
   "file_extension": ".py",
   "mimetype": "text/x-python",
   "name": "python",
   "nbconvert_exporter": "python",
   "pygments_lexer": "ipython3",
   "version": "3.10.2"
  }
 },
 "nbformat": 4,
 "nbformat_minor": 4
}
