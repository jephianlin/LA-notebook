{
 "cells": [
  {
   "cell_type": "markdown",
   "metadata": {},
   "source": [
    "# 慣性"
   ]
  },
  {
   "cell_type": "markdown",
   "metadata": {},
   "source": [
    "![Creative Commons License](https://i.creativecommons.org/l/by/4.0/88x31.png)  \n",
    "This work by Jephian Lin is licensed under a [Creative Commons Attribution 4.0 International License](http://creativecommons.org/licenses/by/4.0/)."
   ]
  },
  {
   "cell_type": "markdown",
   "metadata": {},
   "source": [
    "$\\newcommand{\\trans}{^\\top}\n",
    "\\newcommand{\\adj}{^{\\rm adj}}\n",
    "\\newcommand{\\cof}{^{\\rm cof}}\n",
    "\\newcommand{\\inp}[2]{\\left\\langle#1,#2\\right\\rangle}\n",
    "\\newcommand{\\dunion}{\\mathbin{\\dot\\cup}}\n",
    "\\newcommand{\\bzero}{\\mathbf{0}}\n",
    "\\newcommand{\\bone}{\\mathbf{1}}\n",
    "\\newcommand{\\ba}{\\mathbf{a}}\n",
    "\\newcommand{\\bb}{\\mathbf{b}}\n",
    "\\newcommand{\\bc}{\\mathbf{c}}\n",
    "\\newcommand{\\bd}{\\mathbf{d}}\n",
    "\\newcommand{\\be}{\\mathbf{e}}\n",
    "\\newcommand{\\bh}{\\mathbf{h}}\n",
    "\\newcommand{\\bp}{\\mathbf{p}}\n",
    "\\newcommand{\\bq}{\\mathbf{q}}\n",
    "\\newcommand{\\br}{\\mathbf{r}}\n",
    "\\newcommand{\\bx}{\\mathbf{x}}\n",
    "\\newcommand{\\by}{\\mathbf{y}}\n",
    "\\newcommand{\\bz}{\\mathbf{z}}\n",
    "\\newcommand{\\bu}{\\mathbf{u}}\n",
    "\\newcommand{\\bv}{\\mathbf{v}}\n",
    "\\newcommand{\\bw}{\\mathbf{w}}\n",
    "\\newcommand{\\tr}{\\operatorname{tr}}\n",
    "\\newcommand{\\nul}{\\operatorname{null}}\n",
    "\\newcommand{\\rank}{\\operatorname{rank}}\n",
    "%\\newcommand{\\ker}{\\operatorname{ker}}\n",
    "\\newcommand{\\range}{\\operatorname{range}}\n",
    "\\newcommand{\\Col}{\\operatorname{Col}}\n",
    "\\newcommand{\\Row}{\\operatorname{Row}}\n",
    "\\newcommand{\\spec}{\\operatorname{spec}}\n",
    "\\newcommand{\\vspan}{\\operatorname{span}}\n",
    "\\newcommand{\\Vol}{\\operatorname{Vol}}\n",
    "\\newcommand{\\sgn}{\\operatorname{sgn}}\n",
    "\\newcommand{\\idmap}{\\operatorname{id}}\n",
    "\\newcommand{\\am}{\\operatorname{am}}\n",
    "\\newcommand{\\gm}{\\operatorname{gm}}\n",
    "\\newcommand{\\iner}{\\operatorname{iner}}$"
   ]
  },
  {
   "cell_type": "code",
   "execution_count": null,
   "metadata": {},
   "outputs": [],
   "source": [
    "from lingeo import random_int_list\n",
    "from sym import sym_from_list, inertia"
   ]
  },
  {
   "cell_type": "markdown",
   "metadata": {},
   "source": [
    "## Main idea"
   ]
  },
  {
   "cell_type": "markdown",
   "metadata": {},
   "source": [
    "Let $A$ be an $n\\times n$ symmetric matrix.  \n",
    "According to the spectral theorem, all eigenvalues of $A$ are real, so they can be arranged from small to large on the real line.  \n",
    "Let $n_+(A)$, $n_-(A)$, and $n_0(A)$ be the number of positive, negative, and zero eigenvalues of $A$, respectively.  \n",
    "Then the **inertia** of $A$ is defined as  \n",
    "\n",
    "$$\n",
    "    \\iner(A) = (n_+(A), n_-(A), n_0(A)).\n",
    "$$"
   ]
  },
  {
   "cell_type": "markdown",
   "metadata": {},
   "source": [
    "Two symmetric matrices $A$ and $B$ are **congruent** if there is an invertible matrix $Q$ such that  \n",
    "\n",
    "$$\n",
    "    Q\\trans AQ = B.\n",
    "$$\n",
    "\n",
    "Notice that $Q$ _has to_ be invertible, yet it is $Q\\trans$ in the relation.  "
   ]
  },
  {
   "cell_type": "markdown",
   "metadata": {},
   "source": [
    "##### Sylvester's law of inertia\n",
    "\n",
    "If two symmetric matrices are congruent, then they have the same inertia.  \n",
    "Moreover, every real symmetric matrix $A$ is congruent to a matrix of the form\n",
    "\n",
    "$$\n",
    "    \\begin{bmatrix}\n",
    "     I_p & ~ & ~ \\\\\n",
    "     ~ & -I_q & ~ \\\\\n",
    "     ~ & ~ & O_r\n",
    "    \\end{bmatrix},\n",
    "$$\n",
    "\n",
    "where $p = n_+(A)$, $q = n_-(A)$, and $r = n_0(A)$.  "
   ]
  },
  {
   "cell_type": "markdown",
   "metadata": {},
   "source": [
    "Since every invertible matrix can be decomposed into the product of some elementary matrix.  \n",
    "Two symmetric matrices $A$ and $B$ are congruent means there are elementary matrices $E_1,\\ldots, E_k$ such that   \n",
    "\n",
    "$$\n",
    "    E_k\\trans\\cdots E_1\\trans AE_1\\cdots E_k = B.\n",
    "$$  \n",
    "\n",
    "That is, applying some symmetric row/column operations simultaneously to $A$ will result in $B$."
   ]
  },
  {
   "cell_type": "markdown",
   "metadata": {},
   "source": [
    "## Side stories\n",
    "\n",
    "- quadratic form\n",
    "- local optimum by derivatives"
   ]
  },
  {
   "cell_type": "markdown",
   "metadata": {},
   "source": [
    "## Experiments"
   ]
  },
  {
   "cell_type": "markdown",
   "metadata": {},
   "source": [
    "##### Exercise 1\n",
    "\n",
    "執行以下程式碼。  "
   ]
  },
  {
   "cell_type": "code",
   "execution_count": null,
   "metadata": {
    "scrolled": false
   },
   "outputs": [],
   "source": [
    "### code\n",
    "set_random_seed(0)\n",
    "print_ans = False\n",
    "\n",
    "n = 3\n",
    "entries = [1,1] + random_int_list(binomial(n+1,2) - 2, 3)\n",
    "A = sym_from_list(n, entries)\n",
    "\n",
    "pretty_print(LatexExpr(\"A =\"), A)\n",
    "        \n",
    "if print_ans:\n",
    "    B = copy(A)\n",
    "    B.add_multiple_of_row(1,0,-1)\n",
    "    B.add_multiple_of_column(1,0,-1)\n",
    "    print(\"A after row/column operation:\")\n",
    "    show(B)\n",
    "    print(\"(n+, n-, n0) =\", inertia(A))"
   ]
  },
  {
   "cell_type": "markdown",
   "metadata": {},
   "source": [
    "##### Exercise 1(a)\n",
    "\n",
    "對 $A$ 進行列運算 $\\rho_2:-\\rho_1$、再進行行運算 $\\kappa_2:-\\kappa_1$ 的結果為何？"
   ]
  },
  {
   "cell_type": "markdown",
   "metadata": {},
   "source": [
    "##### Exercise 1(b)\n",
    "\n",
    "將 $A$ 進行一系列對稱的行列運算，讓它變成對角矩陣且對角線上只有 $1$、$0$、$-1$。  \n",
    "求 $\\iner(A)$。"
   ]
  },
  {
   "cell_type": "markdown",
   "metadata": {},
   "source": [
    "## Exercises"
   ]
  },
  {
   "cell_type": "markdown",
   "metadata": {},
   "source": [
    "##### Exercise 2\n",
    "\n",
    "求以下矩陣 $A$ 的 $\\iner(A)$。"
   ]
  },
  {
   "cell_type": "markdown",
   "metadata": {},
   "source": [
    "##### Exercise 2(a)\n",
    "\n",
    "$$\n",
    "    A = \\begin{bmatrix}\n",
    "     1 & 1 \\\\\n",
    "     1 & 1\n",
    "    \\end{bmatrix}.\n",
    "$$"
   ]
  },
  {
   "cell_type": "markdown",
   "metadata": {},
   "source": [
    "##### Exercise 2(b)\n",
    "\n",
    "$$\n",
    "    A = \\begin{bmatrix}\n",
    "     0 & 1 \\\\\n",
    "     1 & 0\n",
    "    \\end{bmatrix}.\n",
    "$$"
   ]
  },
  {
   "cell_type": "markdown",
   "metadata": {},
   "source": [
    "##### Exercise 2(c)\n",
    "\n",
    "$$\n",
    "    A = \\begin{bmatrix}\n",
    "     1 & 1 & 1 \\\\\n",
    "     1 & 1 & 1 \\\\\n",
    "     1 & 1 & 1 \\\\\n",
    "    \\end{bmatrix}.\n",
    "$$"
   ]
  },
  {
   "cell_type": "markdown",
   "metadata": {},
   "source": [
    "##### Exercise 2(d)\n",
    "\n",
    "$$\n",
    "    A = \\begin{bmatrix}\n",
    "     0 & 1 & 1 \\\\\n",
    "     1 & 0 & 1 \\\\\n",
    "     1 & 1 & 0 \\\\\n",
    "    \\end{bmatrix}.\n",
    "$$"
   ]
  },
  {
   "cell_type": "markdown",
   "metadata": {},
   "source": [
    "##### Exercise 2(e)\n",
    "\n",
    "$$\n",
    "    A = \\begin{bmatrix}\n",
    "     0 & 1 \\\\\n",
    "     1 & 0\n",
    "    \\end{bmatrix}.\n",
    "$$"
   ]
  },
  {
   "cell_type": "markdown",
   "metadata": {},
   "source": [
    "##### Exercise 3\n",
    "\n",
    "一個矩陣 $A$ 的 **二次型（quadratic form）** 指的是長得像 $\\bx\\trans A\\bx$ 的式子。  \n",
    "證明以下關於二次型的性質。"
   ]
  },
  {
   "cell_type": "markdown",
   "metadata": {},
   "source": [
    "##### Exercise 3(a)\n",
    "\n",
    "令  \n",
    "\n",
    "$$\n",
    "    A = \\begin{bmatrix}\n",
    "     2 & -1 \\\\\n",
    "     -1 & 2 \n",
    "    \\end{bmatrix}, \\quad\n",
    "    \\bx = \\begin{bmatrix} x \\\\ y \\end{bmatrix}.\n",
    "$$\n",
    "\n",
    "證明 $\\bx\\trans A\\bx \\geq 0$。  \n",
    "\n",
    "提示：展開後並將其寫成 $1(ax + by)^2 + 3(cx+dy)^2$。"
   ]
  },
  {
   "cell_type": "markdown",
   "metadata": {},
   "source": [
    "##### Exercise 3(b)\n",
    "\n",
    "令 $A$ 為一 $2\\times 2$ 實對稱矩陣，且其特徵值為 $\\lambda_1,\\lambda_2$。  \n",
    "令\n",
    "\n",
    "$$\n",
    "    \\bx = \\begin{bmatrix} x \\\\ y \\end{bmatrix}.\n",
    "$$\n",
    "\n",
    "證明 $\\bx\\trans A\\bx$ 可寫成 $\\lambda_1(ax + bx)^2 + \\lambda_2(cx + dy)^2$ 的形式。  "
   ]
  },
  {
   "cell_type": "markdown",
   "metadata": {},
   "source": [
    "##### Exercise 3(c)\n",
    "\n",
    "令 $A$ 為一 $2\\times 2$ 實對稱矩陣，且其特徵值為 $\\lambda_1,\\lambda_2$。  \n",
    "證明：  \n",
    "\n",
    "1. 若 $\\lambda_1, \\lambda_2 \\geq 0$ 時，$\\bx\\trans A\\bx \\geq 0$。\n",
    "2. 若 $\\lambda_1, \\lambda_2 \\leq 0$ 時，$\\bx\\trans A\\bx \\leq 0$。\n",
    "3. 若 $\\lambda_1, \\lambda_2 > 0$ 且 $\\bx\\neq\\bzero$ 時，$\\bx\\trans A\\bx > 0$。\n",
    "4. 若 $\\lambda_1, \\lambda_2 < 0$ 且 $\\bx\\neq\\bzero$ 時，$\\bx\\trans A\\bx < 0$。"
   ]
  },
  {
   "cell_type": "markdown",
   "metadata": {},
   "source": [
    "##### Exercise 4\n",
    "\n",
    "令 $A$ 為一 $2\\times 2$ 實對稱矩陣。  \n",
    "證明：  \n",
    "\n",
    "1. 若 $\\det(A) > 0$ 且 $\\tr(A) > 0$，則 $\\iner(A) = (2,0,0)$。\n",
    "2. 若 $\\det(A) > 0$ 且 $\\tr(A) < 0$，則 $\\iner(A) = (0,2,0)$。\n",
    "3. 若 $\\det(A) < 0$，則 $\\iner(A) = (1,1,0)$。"
   ]
  },
  {
   "cell_type": "markdown",
   "metadata": {},
   "source": [
    "##### Exercise 5\n",
    "\n",
    "令 $f: \\mathbb{R}^2 \\rightarrow \\mathbb{R}$ 為一二次可微函數且其微分連續。\n",
    "令 $(x_0,y_0)\\in\\mathbb{R}^2$ 為一點、  \n",
    "而 $f_{xx}, f_{xy} = f_{yx}, f_{yy}$ 分別為 $f$ 對 $x$ 或 $y$ 的二次微分。\n",
    "\n",
    "令  \n",
    "\n",
    "$$\n",
    "    A = \\begin{bmatrix}\n",
    "    f_{xx} & f_{yx} \\\\\n",
    "    f_{xy} & f_{yy}\n",
    "    \\end{bmatrix}, \\quad\n",
    "    \\bx = \\begin{bmatrix} x \\\\ y_0 + y \\end{bmatrix}.\n",
    "$$\n",
    "\n",
    "已知 $f$ 的函數值可以用  \n",
    "\n",
    "$$\n",
    "    f(x_0 + x, y_0 + y) \\sim f(x_0, y_0) + \\bx\\trans A \\bx.\n",
    "$$\n",
    "\n",
    "逼近。\n",
    "\n",
    "說明為什麼：  \n",
    "\n",
    "1. 若 $\\det(A) > 0$ 且 $\\tr(A) > 0$，則 $f$ 在 $(x_0,y_0)$ 有局部最小值。\n",
    "2. 若 $\\det(A) > 0$ 且 $\\tr(A) < 0$，則 $f$ 在 $(x_0,y_0)$ 有局部最大值。\n",
    "3. 若 $\\det(A) < 0$，則 $f$ 在 $(x_0,y_0)$ 為𩣑點。"
   ]
  },
  {
   "cell_type": "markdown",
   "metadata": {},
   "source": [
    "##### Exercise 6\n",
    "\n",
    "利用以下步驟證明西爾維斯特慣性定理。\n",
    "\n",
    "##### Sylvester's law of inertia\n",
    "\n",
    "If two symmetric matrices are congruent, then they have the same inertia.  "
   ]
  },
  {
   "cell_type": "markdown",
   "metadata": {},
   "source": [
    "##### Exercise 6(a)\n",
    "\n",
    "定義\n",
    "\n",
    "$$\n",
    "    E(t) = \\begin{bmatrix}\n",
    "     1 & t \\\\\n",
    "     0 & 1\n",
    "    \\end{bmatrix}.\n",
    "$$\n",
    "\n",
    "說明 $E(t)\\trans AE(t)$ 在任何 $t\\in\\mathbb{R}$ 時都有相同的零維數。"
   ]
  },
  {
   "cell_type": "markdown",
   "metadata": {},
   "source": [
    "##### Exercise 6(b)\n",
    "\n",
    "定義\n",
    "\n",
    "$$\n",
    "    E(t) = \\begin{bmatrix}\n",
    "     t & 0 \\\\\n",
    "     0 & 1\n",
    "    \\end{bmatrix}.\n",
    "$$\n",
    "\n",
    "說明 $E(t)\\trans AE(t)$ 在任何 $t > 0$ 時都有相同的零維數。"
   ]
  },
  {
   "cell_type": "markdown",
   "metadata": {},
   "source": [
    "##### Exercise 6(c)\n",
    "\n",
    "定義\n",
    "\n",
    "$$\n",
    "    E = \\begin{bmatrix}\n",
    "     -1 & 0 \\\\\n",
    "     0 & 1\n",
    "    \\end{bmatrix}.\n",
    "$$\n",
    "\n",
    "說明 $\\iner(E\\trans AE) = \\iner(A)$。"
   ]
  },
  {
   "cell_type": "markdown",
   "metadata": {},
   "source": [
    "##### Exercise 6(d)\n",
    "\n",
    "已知矩陣的特徵值會隨矩陣的數值連續變動。  \n",
    "利用這個性質證明西爾維斯特慣性定理。"
   ]
  }
 ],
 "metadata": {
  "kernelspec": {
   "display_name": "SageMath 9.5",
   "language": "sage",
   "name": "sagemath"
  },
  "language_info": {
   "codemirror_mode": {
    "name": "ipython",
    "version": 3
   },
   "file_extension": ".py",
   "mimetype": "text/x-python",
   "name": "python",
   "nbconvert_exporter": "python",
   "pygments_lexer": "ipython3",
   "version": "3.10.2"
  }
 },
 "nbformat": 4,
 "nbformat_minor": 4
}
