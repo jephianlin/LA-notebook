{
 "cells": [
  {
   "cell_type": "markdown",
   "metadata": {},
   "source": [
    "# 向量空間中的向量表示法\n",
    "\n",
    "Vector representation in a vector space"
   ]
  },
  {
   "cell_type": "markdown",
   "metadata": {},
   "source": [
    "![Creative Commons License](https://i.creativecommons.org/l/by/4.0/88x31.png)  \n",
    "This work by Jephian Lin is licensed under a [Creative Commons Attribution 4.0 International License](http://creativecommons.org/licenses/by/4.0/)."
   ]
  },
  {
   "cell_type": "markdown",
   "metadata": {},
   "source": [
    "$\\newcommand{\\trans}{^\\top}\n",
    "\\newcommand{\\adj}{^{\\rm adj}}\n",
    "\\newcommand{\\cof}{^{\\rm cof}}\n",
    "\\newcommand{\\inp}[2]{\\left\\langle#1,#2\\right\\rangle}\n",
    "\\newcommand{\\dunion}{\\mathbin{\\dot\\cup}}\n",
    "\\newcommand{\\bzero}{\\mathbf{0}}\n",
    "\\newcommand{\\bone}{\\mathbf{1}}\n",
    "\\newcommand{\\ba}{\\mathbf{a}}\n",
    "\\newcommand{\\bb}{\\mathbf{b}}\n",
    "\\newcommand{\\bc}{\\mathbf{c}}\n",
    "\\newcommand{\\bd}{\\mathbf{d}}\n",
    "\\newcommand{\\be}{\\mathbf{e}}\n",
    "\\newcommand{\\bh}{\\mathbf{h}}\n",
    "\\newcommand{\\bp}{\\mathbf{p}}\n",
    "\\newcommand{\\bq}{\\mathbf{q}}\n",
    "\\newcommand{\\br}{\\mathbf{r}}\n",
    "\\newcommand{\\bx}{\\mathbf{x}}\n",
    "\\newcommand{\\by}{\\mathbf{y}}\n",
    "\\newcommand{\\bz}{\\mathbf{z}}\n",
    "\\newcommand{\\bu}{\\mathbf{u}}\n",
    "\\newcommand{\\bv}{\\mathbf{v}}\n",
    "\\newcommand{\\bw}{\\mathbf{w}}\n",
    "\\newcommand{\\tr}{\\operatorname{tr}}\n",
    "\\newcommand{\\nul}{\\operatorname{null}}\n",
    "\\newcommand{\\rank}{\\operatorname{rank}}\n",
    "%\\newcommand{\\ker}{\\operatorname{ker}}\n",
    "\\newcommand{\\range}{\\operatorname{range}}\n",
    "\\newcommand{\\Col}{\\operatorname{Col}}\n",
    "\\newcommand{\\Row}{\\operatorname{Row}}\n",
    "\\newcommand{\\spec}{\\operatorname{spec}}\n",
    "\\newcommand{\\vspan}{\\operatorname{span}}\n",
    "\\newcommand{\\Vol}{\\operatorname{Vol}}\n",
    "\\newcommand{\\sgn}{\\operatorname{sgn}}\n",
    "\\newcommand{\\idmap}{\\operatorname{id}}\n",
    "\\newcommand{\\am}{\\operatorname{am}}\n",
    "\\newcommand{\\gm}{\\operatorname{gm}}\n",
    "\\newcommand{\\mult}{\\operatorname{mult}}\n",
    "\\newcommand{\\iner}{\\operatorname{iner}}$"
   ]
  },
  {
   "cell_type": "code",
   "execution_count": null,
   "metadata": {},
   "outputs": [],
   "source": [
    "from lingeo import random_int_list\n",
    "from linspace import ptov, vtop"
   ]
  },
  {
   "cell_type": "markdown",
   "metadata": {},
   "source": [
    "## Main idea"
   ]
  },
  {
   "cell_type": "markdown",
   "metadata": {},
   "source": [
    "Let $V$ be a vector space.  \n",
    "Let $\\beta = \\{ \\bu_1, \\ldots, \\bu_n \\}$ be a basis of $V$.  \n",
    "Every vector $\\bv\\in V$ has a unique way to be written as a linear combination   \n",
    "$$\\bv = c_1\\bu_1 + \\cdots + c_n\\bu_n.$$  \n",
    "We call the vector $(c_1,\\ldots, c_n)\\in\\mathbb{R}^n$ the **vector representation** of $\\bv$ with respect to the basis $\\beta$, denoted as $[\\bv]_\\beta$.  "
   ]
  },
  {
   "cell_type": "markdown",
   "metadata": {},
   "source": [
    "Let $\\mathcal{P}_d$ be the vector space of all polynomials of degree at most $d$.  \n",
    "Let $\\beta = \\{1, x, \\ldots, x^d\\}$ be the standard basis of $\\mathcal{P}_d$.  \n",
    "Then $[p]_\\beta = \\operatorname{ptov}(p)$ is simply writing down the coefficients of $p$ into a vector in $\\mathbb{R}^{d+1}$.  "
   ]
  },
  {
   "cell_type": "markdown",
   "metadata": {},
   "source": [
    "Let $\\mathcal{M}_{m.n}$ be the vector space of all $m\\times n$ matrices.  \n",
    "Let $\\beta = \\{E_{11}, \\ldots, E_{1n}, \\ldots, E_{m1}, \\ldots, E_{mn}\\}$ be the standard basis of $\\mathcal{M}_{m,n}$.  \n",
    "Then $[A]_\\beta = \\operatorname{mtov}(A)$ is simply writing down the entries of $A$ into a vector in $\\mathbb{R}^{mn}$ in the row-major order.  "
   ]
  },
  {
   "cell_type": "markdown",
   "metadata": {},
   "source": [
    "## Side stories\n",
    "- use the standard basis to solve the vector representation\n",
    "- new inner product"
   ]
  },
  {
   "cell_type": "markdown",
   "metadata": {},
   "source": [
    "## Experiments"
   ]
  },
  {
   "cell_type": "markdown",
   "metadata": {},
   "source": [
    "##### Exercise 1\n",
    "\n",
    "執行以下程式碼。  \n",
    "令 $\\mathcal{P}_2$ 為所有次數小於等於 $2$ 的多項式所形成的向量空間。  \n",
    "令 $\\alpha = \\{1, x, x^2\\}$ 為 $\\mathcal{P}_2$ 的標準基底。  \n",
    "令 $\\beta = \\{1, (1+x), (1+x)^2\\}$ 為 $\\mathcal{P}_2$ 的另一組基底。  \n",
    "\n",
    "<!-- eng start -->\n",
    "Run the code below.  Let $\\mathcal{P}_2$ be the vector space of all polynomials of degree at most $2$.  Let $\\alpha = \\{1, x, x^2\\}$ be the standard basis of $\\mathcal{P}_2$.  Let $\\beta = \\{1, (1+x), (1+x)^2\\}$ be another basis of $\\mathcal{P}_2$.  \n",
    "<!-- eng end -->"
   ]
  },
  {
   "cell_type": "code",
   "execution_count": null,
   "metadata": {
    "scrolled": false
   },
   "outputs": [],
   "source": [
    "### code\n",
    "set_random_seed(0)\n",
    "print_ans = False\n",
    "d = 2\n",
    "p1,p2,p3 = 1, 1+x, (1+x)^2\n",
    "p = vtop(vector(random_int_list(d+1)))\n",
    "\n",
    "print(\"p =\", p)\n",
    "\n",
    "if print_ans:\n",
    "    A = matrix([ptov(p1, d), ptov(p2, d), ptov(p3, d)]).transpose()\n",
    "    p_alpha = ptov(p, d)\n",
    "    p_beta = A.inverse() * p_alpha\n",
    "    print(\"[p]_alpha =\", ptov(p, d))\n",
    "    print(\"[p]_beta =\", p_beta)\n",
    "    print(\"A =\")\n",
    "    show(A)"
   ]
  },
  {
   "cell_type": "markdown",
   "metadata": {},
   "source": [
    "##### Exercise 1(a)\n",
    "\n",
    "求出 $[p]_\\alpha$。  \n",
    "\n",
    "<!-- eng start -->\n",
    "Find $[p]_\\alpha$.  \n",
    "<!-- eng end -->"
   ]
  },
  {
   "cell_type": "markdown",
   "metadata": {},
   "source": [
    "##### Exercise 1(b)\n",
    "\n",
    "求出 $[p]_\\beta$。  \n",
    "\n",
    "<!-- eng start -->\n",
    "Find $[p]_\\beta$.  \n",
    "<!-- eng end -->"
   ]
  },
  {
   "cell_type": "markdown",
   "metadata": {},
   "source": [
    "##### Exercise 1(c)\n",
    "\n",
    "令 $p_1, \\ldots, p_3$ 為 $\\beta$ 中的各多項式。  \n",
    "寫出 $3\\times 3$ 矩陣 $A$  \n",
    "其各行向量為 $[p_1]_\\alpha, \\ldots, [p_3]_\\alpha$。  \n",
    "\n",
    "<!-- eng start -->\n",
    "Let $p_1, \\ldots, p_3$ be the polynomials in $\\beta$.  Find the $3\\times 3$ matrix $A$ whose columns are $[p_1]_\\alpha, \\ldots, [p_3]_\\alpha$.  \n",
    "<!-- eng end -->"
   ]
  },
  {
   "cell_type": "markdown",
   "metadata": {},
   "source": [
    "##### Exercise 1(d)\n",
    "\n",
    "驗證並說明為什麼 $A[p]_\\beta = [p]_\\alpha$。  \n",
    "\n",
    "<!-- eng start -->\n",
    "Verify and explain why $A[p]_\\beta = [p]_\\alpha$.  \n",
    "<!-- eng end -->"
   ]
  },
  {
   "cell_type": "markdown",
   "metadata": {},
   "source": [
    "## Exercises"
   ]
  },
  {
   "cell_type": "markdown",
   "metadata": {},
   "source": [
    "##### Exercise 2\n",
    "\n",
    "令 $\\mathcal{P}_2$ 為所有次數小於等於 $2$ 的多項式所形成的向量空間。  \n",
    "令 $p = 2 + 3x + 4x^2$。  \n",
    "\n",
    "<!-- eng start -->\n",
    "Let $\\mathcal{P}_2$ be the vector space of all polynomials of degree at most $2$.  Let $p = 2 + 3x + 4x^2$.  \n",
    "<!-- eng end -->"
   ]
  },
  {
   "cell_type": "markdown",
   "metadata": {},
   "source": [
    "##### Exercise 2(a)\n",
    "\n",
    "令 $\\beta = \\{1,x,x^2\\}$ 為 $\\mathcal{P}_2$ 的一組基底。  \n",
    "求 $[p]_\\beta$。  \n",
    "\n",
    "<!-- eng start -->\n",
    "Let $\\beta = \\{1,x,x^2\\}$ be a basis of $\\mathcal{P}_2$.  Find $[p]_\\beta$.  \n",
    "<!-- eng end -->"
   ]
  },
  {
   "cell_type": "markdown",
   "metadata": {},
   "source": [
    "##### Exercise 2(b)\n",
    "\n",
    "令 $\\beta = \\{1,(1-x),(1-x)^2\\}$ 為 $\\mathcal{P}_2$ 的一組基底。  \n",
    "求 $[p]_\\beta$。  \n",
    "\n",
    "<!-- eng start -->\n",
    "Let $\\beta = \\{1,(1-x),(1-x)^2\\}$ be a basis of $\\mathcal{P}_2$.  Find $[p]_\\beta$.  \n",
    "<!-- eng end -->"
   ]
  },
  {
   "cell_type": "markdown",
   "metadata": {},
   "source": [
    "##### Exercise 2(c)\n",
    "\n",
    "令 $\\beta = \\{1,x,x(x-1)\\}$ 為 $\\mathcal{P}_2$ 的一組基底。  \n",
    "求 $[p]_\\beta$。  \n",
    "\n",
    "<!-- eng start -->\n",
    "Let $\\beta = \\{1,x,x(x-1)\\}$ be a basis of $\\mathcal{P}_2$.  Find $[p]_\\beta$.  \n",
    "<!-- eng end -->"
   ]
  },
  {
   "cell_type": "markdown",
   "metadata": {},
   "source": [
    "##### Exercise 2(d)\n",
    "\n",
    "令  \n",
    "\n",
    "$$\n",
    "    \\begin{aligned}\n",
    "     p_1(x) &= \\frac{(x-2)(x-3)}{(1-2)(1-3)}, \\\\\n",
    "     p_2(x) &= \\frac{(x-1)(x-3)}{(2-1)(2-3)}, \\\\\n",
    "     p_3(x) &= \\frac{(x-1)(x-2)}{(3-1)(3-2)}. \\\\\n",
    "    \\end{aligned}\n",
    "$$\n",
    "\n",
    "令 $\\beta = \\{p_1, p_2, p_3\\}$ 為 $\\mathcal{P}_2$ 的一組基底。  \n",
    "求 $[p]_\\beta$。  \n",
    "\n",
    "<!-- eng start -->\n",
    "Let  \n",
    "\n",
    "$$\n",
    "    \\begin{aligned}\n",
    "     p_1(x) &= \\frac{(x-2)(x-3)}{(1-2)(1-3)}, \\\\\n",
    "     p_2(x) &= \\frac{(x-1)(x-3)}{(2-1)(2-3)}, \\\\\n",
    "     p_3(x) &= \\frac{(x-1)(x-2)}{(3-1)(3-2)}. \\\\\n",
    "    \\end{aligned}\n",
    "$$\n",
    "\n",
    "Let $\\beta = \\{p_1, p_2, p_3\\}$ be a basis of $\\mathcal{P}_2$.  Find $[p]_\\beta$.  \n",
    "<!-- eng end -->"
   ]
  },
  {
   "cell_type": "markdown",
   "metadata": {},
   "source": [
    "##### Exercise 3\n",
    "\n",
    "令 $\\mathcal{M}_{2,3}$ 為所有 $2\\times 3$ 矩陣所形成的向量空間。  \n",
    "令  \n",
    "\n",
    "$$\n",
    "    A = \\begin{bmatrix} \n",
    "     1 & 2 & 3 \\\\\n",
    "     4 & 5 & 6 \\\\\n",
    "    \\end{bmatrix}.\n",
    "$$  \n",
    "\n",
    "<!-- eng start -->\n",
    "Let $\\mathcal{M}_{2,3}$ be the vector space of all $2\\times 3$ matrices.  \n",
    "\n",
    "Let  \n",
    "\n",
    "$$\n",
    "    A = \\begin{bmatrix} \n",
    "     1 & 2 & 3 \\\\\n",
    "     4 & 5 & 6 \\\\\n",
    "    \\end{bmatrix}.\n",
    "$$  \n",
    "<!-- eng end -->"
   ]
  },
  {
   "cell_type": "markdown",
   "metadata": {},
   "source": [
    "##### Exercise 3(a)\n",
    "\n",
    "令 $\\beta = \\{E_{11}, E_{12}, E_{13}, E_{21}, E_{22}, E_{23}\\}$ 為 $\\mathcal{M}_{2,3}$ 的標準基底。  \n",
    "求 $[A]_\\beta$。  \n",
    "\n",
    "<!-- eng start -->\n",
    "Let $\\beta = \\{E_{11}, E_{12}, E_{13}, E_{21}, E_{22}, E_{23}\\}$ be the standard basis of $\\mathcal{M}_{2,3}$.  Find $[A]_\\beta$.  \n",
    "<!-- eng end -->"
   ]
  },
  {
   "cell_type": "markdown",
   "metadata": {},
   "source": [
    "##### Exercise 3(b)\n",
    "\n",
    "令 \n",
    "\n",
    "$$\n",
    "    M_1 = \\begin{bmatrix} \n",
    "     1 & 1 & 1 \\\\\n",
    "     1 & 1 & 1 \\\\\n",
    "    \\end{bmatrix}, \n",
    "    M_2 = \\begin{bmatrix} \n",
    "     0 & 1 & 1 \\\\\n",
    "     1 & 1 & 1 \\\\\n",
    "    \\end{bmatrix}, \n",
    "    M_3 = \\begin{bmatrix} \n",
    "     0 & 0 & 1 \\\\\n",
    "     1 & 1 & 1 \\\\\n",
    "    \\end{bmatrix}, \n",
    "$$\n",
    "\n",
    "$$\n",
    "    M_4 = \\begin{bmatrix} \n",
    "     0 & 0 & 0 \\\\\n",
    "     1 & 1 & 1 \\\\\n",
    "    \\end{bmatrix}, \n",
    "    M_5 = \\begin{bmatrix} \n",
    "     0 & 0 & 0 \\\\\n",
    "     0 & 1 & 1 \\\\\n",
    "    \\end{bmatrix}, \n",
    "    M_6 = \\begin{bmatrix} \n",
    "     0 & 0 & 0 \\\\\n",
    "     0 & 0 & 1 \\\\\n",
    "    \\end{bmatrix}. \n",
    "$$  \n",
    "\n",
    "令 $\\beta = \\{M_1, M_2, M_3, M_4, M_5, M_6\\}$ 為 $\\mathcal{M}_{2,3}$ 的一組基底。  \n",
    "求 $[A]_\\beta$。  \n",
    "\n",
    "<!-- eng start -->\n",
    "Let  \n",
    "\n",
    "$$\n",
    "    M_1 = \\begin{bmatrix} \n",
    "     1 & 1 & 1 \\\\\n",
    "     1 & 1 & 1 \\\\\n",
    "    \\end{bmatrix}, \n",
    "    M_2 = \\begin{bmatrix} \n",
    "     0 & 1 & 1 \\\\\n",
    "     1 & 1 & 1 \\\\\n",
    "    \\end{bmatrix}, \n",
    "    M_3 = \\begin{bmatrix} \n",
    "     0 & 0 & 1 \\\\\n",
    "     1 & 1 & 1 \\\\\n",
    "    \\end{bmatrix}, \n",
    "$$\n",
    "\n",
    "$$\n",
    "    M_4 = \\begin{bmatrix} \n",
    "     0 & 0 & 0 \\\\\n",
    "     1 & 1 & 1 \\\\\n",
    "    \\end{bmatrix}, \n",
    "    M_5 = \\begin{bmatrix} \n",
    "     0 & 0 & 0 \\\\\n",
    "     0 & 1 & 1 \\\\\n",
    "    \\end{bmatrix}, \n",
    "    M_6 = \\begin{bmatrix} \n",
    "     0 & 0 & 0 \\\\\n",
    "     0 & 0 & 1 \\\\\n",
    "    \\end{bmatrix}. \n",
    "$$  \n",
    "\n",
    "Let $\\beta = \\{M_1, M_2, M_3, M_4, M_5, M_6\\}$ be a basis of $\\mathcal{M}_{2,3}$.  Find $[A]_\\beta$.  \n",
    "<!-- eng end -->"
   ]
  },
  {
   "cell_type": "markdown",
   "metadata": {},
   "source": [
    "##### Exercise 4\n",
    "\n",
    "以下例子說明一些向量空間的內積  \n",
    "其實就是某個表示法下的 $\\mathbb{R}^n$ 標準內積。  \n",
    "（實際上所有有限維度空間中的內積  \n",
    "都可以寫成某個表示法下的 $\\mathbb{R}^n$ 標準內積。  \n",
    "但證明須要用到一些對角化的工具。）  \n",
    "\n",
    "<!-- eng start -->\n",
    "In the following examples, we will see that some inner product of abstract vectors can be written as the standard inner product of their vector representations in $\\mathbb{R}^n$.  Indeed, any inner product on a finite-dimentional vector space can be written as the standard inner product of vector representations in $\\mathbb{R}^n$.  \n",
    "<!-- eng end -->"
   ]
  },
  {
   "cell_type": "markdown",
   "metadata": {},
   "source": [
    "##### Exercise 4(a)\n",
    "\n",
    "令 $\\mathcal{M}_{m,n}$ 為所有 $m\\times n$ 矩陣所形成的向量空間。  \n",
    "我們曾經驗證過 $\\inp{A}{B} = \\tr(B\\trans A)$ 是一種合法的內積。  \n",
    "\n",
    "說明其實 $\\tr(B\\trans A) = \\inp{[A]_\\beta}{[B]_\\beta}$，  \n",
    "其中 $\\beta$ 是 $\\mathcal{M}_{m,n}$ 的標準基底。  \n",
    "\n",
    "<!-- eng start -->\n",
    "Let $\\mathcal{M}_{m,n}$ be the vector space of all $m\\times n$ matrices.  In 213-5, We have verified that $\\inp{A}{B} = \\tr(B\\trans A)$ is indeed an inner product.  \n",
    "\n",
    "Verify and give some intuition to $\\tr(B\\trans A) = \\inp{[A]_\\beta}{[B]_\\beta}$, where $\\beta$ is the standard basis of $\\mathcal{M}_{m,n}$.  \n",
    "<!-- eng end -->"
   ]
  },
  {
   "cell_type": "markdown",
   "metadata": {},
   "source": [
    "##### Exercise 4(b)\n",
    "\n",
    "令 $\\mathcal{P}_3$ 為所有次數小於等於 $3$ 的多項式所形成的向量空間。  \n",
    "我們曾經驗證過 $\\inp{p_1}{p_2} = a_0b_0 + a_1b_1 + a_2b_2 + a_3b_3$ 是一種合法的內積，其中  \n",
    "\n",
    "$$\n",
    "    \\begin{aligned} \n",
    "     p_1 &= a_0 + a_1x + a_2x^2 + a_3x^3, \\\\\n",
    "     p_2 &= b_0 + b_1x + b_2x^2 + b_3x^3. \\\\\n",
    "    \\end{aligned}\n",
    "$$\n",
    "\n",
    "說明其實 $\\inp{p_1}{p_2} = \\inp{[p_1]_\\beta}{[p_2]_\\beta}$，  \n",
    "其中 $\\beta$ 是 $\\mathcal{P}_3$ 的標準基底。  \n",
    "\n",
    "<!-- eng start -->\n",
    "Let $\\mathcal{P}_3$ be the vector space of all polynomials of degree at most $3$.  In 213-5, We have verified that $\\inp{p_1}{p_2} = a_0b_0 + a_1b_1 + a_2b_2 + a_3b_3$ is indeed an inner product, where\n",
    "\n",
    "$$\n",
    "    \\begin{aligned} \n",
    "     p_1 &= a_0 + a_1x + a_2x^2 + a_3x^3, \\\\\n",
    "     p_2 &= b_0 + b_1x + b_2x^2 + b_3x^3. \\\\\n",
    "    \\end{aligned}\n",
    "$$\n",
    "\n",
    "Verify and give some intuition to $\\inp{p_1}{p_2} = \\inp{[p_1]_\\beta}{[p_2]_\\beta}$, where $\\beta$ is the standard basis of $\\mathcal{P}_3$.  \n",
    "<!-- eng end -->"
   ]
  },
  {
   "cell_type": "markdown",
   "metadata": {},
   "source": [
    "##### Exercise 4(c)\n",
    "\n",
    "令 $\\mathcal{P}_3$ 為所有次數小於等於 $3$ 的多項式所形成的向量空間。  \n",
    "我們曾經驗證過 $\\inp{p_1}{p_2} = p_1(1)p_2(1) + p_1(2)p_2(2) + p_1(3)p_2(3) + p_1(4)p_2(4)$ 是一種合法的內積。  \n",
    "令  \n",
    "\n",
    "$$\n",
    "    \\begin{aligned}\n",
    "     f_1(x) &= \\frac{(x-2)(x-3)(x-4)}{(1-2)(1-3)(1-4)}, \\\\\n",
    "     f_2(x) &= \\frac{(x-1)(x-3)(x-4)}{(2-1)(2-3)(2-4)}, \\\\\n",
    "     f_3(x) &= \\frac{(x-1)(x-2)(x-4)}{(3-1)(3-2)(3-4)}, \\\\\n",
    "     f_4(x) &= \\frac{(x-1)(x-2)(x-3)}{(4-1)(4-2)(4-3)}. \\\\\n",
    "    \\end{aligned}\n",
    "$$\n",
    "\n",
    "說明其實 $\\inp{p_1}{p_2} = \\inp{[p_1]_\\beta}{[p_2]_\\beta}$，  \n",
    "其中 $\\beta = \\{f_1, f_2, f_3, f_4\\}$ 是 $\\mathcal{P}_3$ 的一組基底。  \n",
    "\n",
    "<!-- eng start -->\n",
    "Let $\\mathcal{P}_3$ be the vector space of all polynomials of degree at most $3$.  In 213-5, We have verified that $\\inp{p_1}{p_2} = p_1(1)p_2(1) + p_1(2)p_2(2) + p_1(3)p_2(3) + p_1(4)p_2(4)$ is indeed an inner product.\n",
    "\n",
    "Let  \n",
    "\n",
    "$$\n",
    "    \\begin{aligned}\n",
    "     f_1(x) &= \\frac{(x-2)(x-3)(x-4)}{(1-2)(1-3)(1-4)}, \\\\\n",
    "     f_2(x) &= \\frac{(x-1)(x-3)(x-4)}{(2-1)(2-3)(2-4)}, \\\\\n",
    "     f_3(x) &= \\frac{(x-1)(x-2)(x-4)}{(3-1)(3-2)(3-4)}, \\\\\n",
    "     f_4(x) &= \\frac{(x-1)(x-2)(x-3)}{(4-1)(4-2)(4-3)}. \\\\\n",
    "    \\end{aligned}\n",
    "$$\n",
    "\n",
    "Verify and give some intuition to $\\inp{p_1}{p_2} = \\inp{[p_1]_\\beta}{[p_2]_\\beta}$, where $\\beta = \\{f_1, f_2, f_3, f_4\\}$ 是 $\\mathcal{P}_3$ is the standard basis of $\\mathcal{P}_3$.  \n",
    "<!-- eng end -->"
   ]
  }
 ],
 "metadata": {
  "kernelspec": {
   "display_name": "SageMath 9.6",
   "language": "sage",
   "name": "sagemath"
  },
  "language_info": {
   "codemirror_mode": {
    "name": "ipython",
    "version": 3
   },
   "file_extension": ".py",
   "mimetype": "text/x-python",
   "name": "python",
   "nbconvert_exporter": "python",
   "pygments_lexer": "ipython3",
   "version": "3.10.6"
  }
 },
 "nbformat": 4,
 "nbformat_minor": 4
}
