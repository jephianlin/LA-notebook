{
 "cells": [
  {
   "cell_type": "markdown",
   "metadata": {},
   "source": [
    "# 垂直子空間"
   ]
  },
  {
   "cell_type": "markdown",
   "metadata": {},
   "source": [
    "![Creative Commons License](https://i.creativecommons.org/l/by/4.0/88x31.png)  \n",
    "This work by Jephian Lin is licensed under a [Creative Commons Attribution 4.0 International License](http://creativecommons.org/licenses/by/4.0/)."
   ]
  },
  {
   "cell_type": "code",
   "execution_count": null,
   "metadata": {},
   "outputs": [],
   "source": [
    "from lingeo import random_int_list, random_good_matrix, kernel_matrix"
   ]
  },
  {
   "cell_type": "markdown",
   "metadata": {},
   "source": [
    "## Main idea"
   ]
  },
  {
   "cell_type": "markdown",
   "metadata": {},
   "source": [
    "Let $U$ and $V$ be two subspaces under the same inner product space.  \n",
    "We say $U$ and $V$ are orthogonal if $\\langle {\\bf u}, {\\bf v} \\rangle = 0$ for any ${\\bf u}\\in U$ and ${\\bf v}\\in V$.  \n",
    "Similarly, we say a collection of subspaces $\\{V_1,\\ldots,V_k\\}$ is orthogonal if they are pairwisely orthogonal.  "
   ]
  },
  {
   "cell_type": "markdown",
   "metadata": {},
   "source": [
    "If $\\{V_1,\\ldots,V_k\\}$ is orthogonal, then they are necssarily independent.  \n",
    "Therefore, we have the direct sum $V_1 \\oplus \\cdots \\oplus V_k$.  \n",
    "Suppose $V = V_1 \\oplus \\cdots \\oplus V_k$.  \n",
    "Then every vector ${\\bf v}\\in V$ can be uniquely written as ${\\bf v} = {\\bf v}_1 + \\cdots + {\\bf v}_k$ with ${\\bf v}_i\\in V_i$ for each $i = 1,\\ldots,k$."
   ]
  },
  {
   "cell_type": "markdown",
   "metadata": {},
   "source": [
    "Let $A$ be an $m\\times n$ matrix.  \n",
    "We have seen several cases of mutually orthogonal subspaces related to $A$.  \n",
    "With the new terminology, we may safely say:  \n",
    "1. The subspaces $\\operatorname{Row}(A)$ and $\\operatorname{ker}(A)$ are orthogonal, and $\\mathbb{R}^n = \\operatorname{Row}(A) \\oplus \\operatorname{ker}(A)$.  \n",
    "1. The subspaces $\\operatorname{Col}(A)$ and $\\operatorname{ker}(A^\\top)$ are orthogonal, and $\\mathbb{R}^m = \\operatorname{Col}(A) \\oplus \\operatorname{ker}(A^\\top)$.  "
   ]
  },
  {
   "cell_type": "markdown",
   "metadata": {},
   "source": [
    "Suppose $V$ is a subspace in $\\mathbb{R}^n$.  \n",
    "We also have $\\mathbb{R}^n = V \\oplus V^\\perp$."
   ]
  },
  {
   "cell_type": "markdown",
   "metadata": {},
   "source": [
    "## Side stories\n",
    "- projection matrix"
   ]
  },
  {
   "cell_type": "markdown",
   "metadata": {},
   "source": [
    "## Experiments"
   ]
  },
  {
   "cell_type": "markdown",
   "metadata": {},
   "source": [
    "##### Exercise 1\n",
    "\n",
    "執行以下程式碼。  \n",
    "已知 $R$ 為 $A$ 的最簡階梯形式矩陣。  "
   ]
  },
  {
   "cell_type": "code",
   "execution_count": null,
   "metadata": {
    "scrolled": false
   },
   "outputs": [],
   "source": [
    "### code\n",
    "set_random_seed(0)\n",
    "print_ans = False\n",
    "m,n,r = 2,4,2\n",
    "A = random_good_matrix(m,n,r)\n",
    "R = A.rref()\n",
    "H = kernel_matrix(R)\n",
    "c = random_int_list(2, r=3)\n",
    "b = c[0]*R[0] + c[1]*H.transpose()[0]\n",
    "\n",
    "print(\"A =\")\n",
    "show(A)\n",
    "print(\"R =\")\n",
    "show(R)\n",
    "print(\"b = \", b)\n",
    "\n",
    "if print_ans:\n",
    "    r = c[0]*R[0]\n",
    "    h = c[1]*H.transpose()[0]\n",
    "    print(\"r =\", r)\n",
    "    print(\"h =\", h)\n",
    "    print(\"|b|^2 =\", b.norm()**2)\n",
    "    print(\"|r|^2 + |h|^2 = %s + %s = %s\"%(r.norm()**2, h.norm()**2, r.norm()**2 + h.norm()**2))"
   ]
  },
  {
   "cell_type": "markdown",
   "metadata": {},
   "source": [
    "##### Exercise 1(a)\n",
    "\n",
    "將 ${\\bf b}$ 寫成 ${\\bf r} + {\\bf h}$  \n",
    "\n",
    "其中 ${\\bf r}\\in\\operatorname{Row}(A)$ 而 ${\\bf h}\\in\\operatorname{ker}(A)$。  "
   ]
  },
  {
   "cell_type": "markdown",
   "metadata": {},
   "source": [
    "##### Exercise 1(b)\n",
    "\n",
    "證驗 ${\\bf r}$ 和 ${\\bf h}$ 垂直﹐  \n",
    "而且 $\\|{\\bf b}\\|^2 = \\|{\\bf r}\\|^2 + \\|{\\bf h}\\|^2$。  "
   ]
  },
  {
   "cell_type": "markdown",
   "metadata": {},
   "source": [
    "##### Exercise 1(c)\n",
    "\n",
    "因為每一個 中的向量都可以分解成 ${\\bf r}\\in\\operatorname{Row}(A)$ 和 ${\\bf h}\\in\\operatorname{ker}(A)$ 中的向量相加。  \n",
    "說明對任何 $m\\times n$ 矩陣都有  \n",
    "$$\\{A{\\bf x}: {\\bf x}\\in\\mathbb{R}^n \\} = \\{ A{\\bf r} : {\\bf r}\\in\\operatorname{Row}(A)\\}.$$"
   ]
  },
  {
   "cell_type": "markdown",
   "metadata": {},
   "source": [
    "## Exercises"
   ]
  },
  {
   "cell_type": "markdown",
   "metadata": {},
   "source": [
    "##### Exercise 2\n",
    "\n",
    "令 $S = \\{V_1,\\ldots,V_k\\}$ 為一群子空間。  \n",
    "證明若 $S$ 是垂直的集合﹐則 $S$ 線性獨立。  "
   ]
  },
  {
   "cell_type": "markdown",
   "metadata": {},
   "source": [
    "##### Exercise 3\n",
    "\n",
    "若 $S = \\{V_1, V_2, V_3\\}$ 垂直。  \n",
    "令 $V = V_1 \\oplus V_2 \\oplus V_3$、  \n",
    "$P$ 為 $V$ 的投影矩陣、  \n",
    "$P_1,P_2,P_3$ 分別為 $V_1,V_2,V_3$ 的投影矩陣。  "
   ]
  },
  {
   "cell_type": "markdown",
   "metadata": {},
   "source": [
    "##### Exercise 3(a)\n",
    "\n",
    "說明 $P_1P_2 = P_2P_1$。  "
   ]
  },
  {
   "cell_type": "markdown",
   "metadata": {},
   "source": [
    "##### Exercise 3(b)\n",
    "\n",
    "說明 $P = P_1 + P_2 + P_3$。  "
   ]
  },
  {
   "cell_type": "markdown",
   "metadata": {},
   "source": [
    "##### Exercise 3(c)\n",
    "\n",
    "若 $V = \\mathbb{R}^n$ 為全空間。  \n",
    "說明 $I_n = P_1 + P_2 + P_3$。  "
   ]
  },
  {
   "cell_type": "markdown",
   "metadata": {},
   "source": [
    "##### Exercise 4\n",
    "\n",
    "依照步驟證明以下敘述等價：  \n",
    "1. $P$ 是某個空間的投影矩陣。  \n",
    "2. $P$ 對稱、而且 $P = P^2$。  "
   ]
  },
  {
   "cell_type": "markdown",
   "metadata": {},
   "source": [
    "##### Exercise 4(a)\n",
    "\n",
    "證明若 $P$ 是一個投影矩陣﹐  \n",
    "則 $P$ 是 $\\operatorname{Col}(P)$ 的投影矩陣。  \n",
    "因此如果 ${\\bf u}\\in\\operatorname{Col}(P)$ 則 $P{\\bf u} = {\\bf u}$、  \n",
    "如果 ${\\bf u}\\in\\operatorname{ker}(P^\\top)$ 則 $P{\\bf u} = {\\bf 0}$、  \n",
    "同時每個向量都可以分成 ${\\bf u} = P{\\bf u} + (I - P){\\bf u}$  \n",
    "使得 $P{\\bf u}\\in\\operatorname{Col}(P)$ 且 $(I - P){\\bf u}\\in\\operatorname{ker}(P^\\top)$。  \n",
    "\n",
    "藉由這些性質說明如果條件一成立則條件二成立。  "
   ]
  },
  {
   "cell_type": "markdown",
   "metadata": {},
   "source": [
    "##### Exercise 4(b)  \n",
    "\n",
    "若 $P$ 對稱且 $P = P^2$。  \n",
    "說明 $\\mathbb{R}^n = \\operatorname{Col}(P) \\oplus \\operatorname{ker}(P)$ 且  \n",
    "如果 ${\\bf u}\\in\\operatorname{Col}(P)$ 則 $P{\\bf u} = {\\bf u}$、  \n",
    "如果 ${\\bf u}\\in\\operatorname{ker}(P)$ 則 $P{\\bf u} = {\\bf 0}$。  \n",
    "\n",
    "藉由這些性質說明如果條件二成立則條件一成立。  "
   ]
  },
  {
   "cell_type": "markdown",
   "metadata": {},
   "source": [
    "##### Exercise 5\n",
    "\n",
    "證明若 $V = V_1 \\oplus \\cdots \\oplus V_k$﹐  \n",
    "則每一個向量 ${\\bf v}\\in V$ 都可以被寫成 ${\\bf v} = {\\bf v}_1 + \\cdots + {\\bf v}_k$﹐  \n",
    "使得對每一個 $i = 1,\\ldots,k$ 都有 ${\\bf v}_i\\in V_i$﹐  \n",
    "而且這種寫法唯一。  "
   ]
  },
  {
   "cell_type": "markdown",
   "metadata": {},
   "source": [
    "##### Exercise 6\n",
    "\n",
    "利用垂直空間分解母空間的現象在其它向量空間也很常見。  "
   ]
  },
  {
   "cell_type": "markdown",
   "metadata": {},
   "source": [
    "##### Exercise 6(a)  \n",
    "\n",
    "令 $U = \\mathcal{M}_{n\\times n}$ 為一向量空間﹐搭配內積 $\\langle A,B\\rangle = \\operatorname{tr}(B^\\top A)$。  \n",
    "令 $V$ 為 $U$ 中所有對稱矩陣的集合、  \n",
    "令 $W$ 為 $U$ 中所有反對稱矩陣的集合。  \n",
    "說明 $V$ 和 $W$ 垂直且 $U = V \\oplus W$。  "
   ]
  },
  {
   "cell_type": "markdown",
   "metadata": {},
   "source": [
    "##### Exercise 6(a)  \n",
    "\n",
    "令 $U = \\mathcal{P}_{d}$ 為一向量空間﹐搭配內積  \n",
    "$$\\langle a_0 + a_1x + \\cdots + a_dx^d, b_0 + b_1x + \\cdots + b_dx^d \\rangle = a_0b_0 + a_1b_1 + \\cdots + a_db_d.$$  \n",
    "令 $V$ 為 $U$ 中所有偶函數的集合、  \n",
    "令 $W$ 為 $U$ 中所有奇函數的集合。  \n",
    "說明 $V$ 和 $W$ 垂直且 $U = V \\oplus W$。  "
   ]
  }
 ],
 "metadata": {
  "kernelspec": {
   "display_name": "SageMath 9.0",
   "language": "sage",
   "name": "sagemath"
  },
  "language_info": {
   "codemirror_mode": {
    "name": "ipython",
    "version": 3
   },
   "file_extension": ".py",
   "mimetype": "text/x-python",
   "name": "python",
   "nbconvert_exporter": "python",
   "pygments_lexer": "ipython3",
   "version": "3.8.10"
  }
 },
 "nbformat": 4,
 "nbformat_minor": 4
}
