{
 "cells": [
  {
   "cell_type": "markdown",
   "metadata": {},
   "source": [
    "# 垂直子空間\n",
    "\n",
    "Direct sum of orthogonal subspaces"
   ]
  },
  {
   "cell_type": "markdown",
   "metadata": {},
   "source": [
    "![Creative Commons License](https://i.creativecommons.org/l/by/4.0/88x31.png)  \n",
    "This work by Jephian Lin is licensed under a [Creative Commons Attribution 4.0 International License](http://creativecommons.org/licenses/by/4.0/)."
   ]
  },
  {
   "cell_type": "markdown",
   "metadata": {},
   "source": [
    "$\\newcommand{\\trans}{^\\top}\n",
    "\\newcommand{\\adj}{^{\\rm adj}}\n",
    "\\newcommand{\\cof}{^{\\rm cof}}\n",
    "\\newcommand{\\inp}[2]{\\left\\langle#1,#2\\right\\rangle}\n",
    "\\newcommand{\\dunion}{\\mathbin{\\dot\\cup}}\n",
    "\\newcommand{\\bzero}{\\mathbf{0}}\n",
    "\\newcommand{\\bone}{\\mathbf{1}}\n",
    "\\newcommand{\\ba}{\\mathbf{a}}\n",
    "\\newcommand{\\bb}{\\mathbf{b}}\n",
    "\\newcommand{\\bc}{\\mathbf{c}}\n",
    "\\newcommand{\\bd}{\\mathbf{d}}\n",
    "\\newcommand{\\be}{\\mathbf{e}}\n",
    "\\newcommand{\\bh}{\\mathbf{h}}\n",
    "\\newcommand{\\bp}{\\mathbf{p}}\n",
    "\\newcommand{\\bq}{\\mathbf{q}}\n",
    "\\newcommand{\\br}{\\mathbf{r}}\n",
    "\\newcommand{\\bx}{\\mathbf{x}}\n",
    "\\newcommand{\\by}{\\mathbf{y}}\n",
    "\\newcommand{\\bz}{\\mathbf{z}}\n",
    "\\newcommand{\\bu}{\\mathbf{u}}\n",
    "\\newcommand{\\bv}{\\mathbf{v}}\n",
    "\\newcommand{\\bw}{\\mathbf{w}}\n",
    "\\newcommand{\\tr}{\\operatorname{tr}}\n",
    "\\newcommand{\\nul}{\\operatorname{null}}\n",
    "\\newcommand{\\rank}{\\operatorname{rank}}\n",
    "%\\newcommand{\\ker}{\\operatorname{ker}}\n",
    "\\newcommand{\\range}{\\operatorname{range}}\n",
    "\\newcommand{\\Col}{\\operatorname{Col}}\n",
    "\\newcommand{\\Row}{\\operatorname{Row}}\n",
    "\\newcommand{\\spec}{\\operatorname{spec}}\n",
    "\\newcommand{\\vspan}{\\operatorname{span}}\n",
    "\\newcommand{\\Vol}{\\operatorname{Vol}}\n",
    "\\newcommand{\\sgn}{\\operatorname{sgn}}\n",
    "\\newcommand{\\idmap}{\\operatorname{id}}\n",
    "\\newcommand{\\am}{\\operatorname{am}}\n",
    "\\newcommand{\\gm}{\\operatorname{gm}}\n",
    "\\newcommand{\\mult}{\\operatorname{mult}}\n",
    "\\newcommand{\\iner}{\\operatorname{iner}}$"
   ]
  },
  {
   "cell_type": "code",
   "execution_count": null,
   "metadata": {},
   "outputs": [],
   "source": [
    "from lingeo import random_int_list, random_good_matrix, kernel_matrix"
   ]
  },
  {
   "cell_type": "markdown",
   "metadata": {},
   "source": [
    "## Main idea"
   ]
  },
  {
   "cell_type": "markdown",
   "metadata": {},
   "source": [
    "Let $U$ and $V$ be two subspaces under the same inner product space.  \n",
    "We say $U$ and $V$ are orthogonal if $\\inp{\\bu}{\\bv} = 0$ for any $\\bu\\in U$ and $\\bv\\in V$.  \n",
    "Similarly, we say a collection of subspaces $\\{V_1,\\ldots,V_k\\}$ is orthogonal if they are pairwisely orthogonal.  "
   ]
  },
  {
   "cell_type": "markdown",
   "metadata": {},
   "source": [
    "If $\\{V_1,\\ldots,V_k\\}$ is orthogonal and none of them are $\\{\\bzero\\}$, then they are necssarily independent.  \n",
    "Therefore, we have the direct sum $V_1 \\oplus \\cdots \\oplus V_k$.  \n",
    "Suppose $V = V_1 \\oplus \\cdots \\oplus V_k$.  \n",
    "Then every vector $\\bv\\in V$ can be uniquely written as $\\bv = \\bv_1 + \\cdots + \\bv_k$ with $\\bv_i\\in V_i$ for each $i = 1,\\ldots,k$."
   ]
  },
  {
   "cell_type": "markdown",
   "metadata": {},
   "source": [
    "Let $A$ be an $m\\times n$ matrix.  \n",
    "We have seen several cases of mutually orthogonal subspaces related to $A$.  \n",
    "With the new terminology, we may safely say:  \n",
    "1. The subspaces $\\Row(A)$ and $\\ker(A)$ are orthogonal, and $\\mathbb{R}^n = \\Row(A) \\oplus \\ker(A)$.  \n",
    "1. The subspaces $\\Col(A)$ and $\\ker(A\\trans)$ are orthogonal, and $\\mathbb{R}^m = \\Col(A) \\oplus \\ker(A\\trans)$.  "
   ]
  },
  {
   "cell_type": "markdown",
   "metadata": {},
   "source": [
    "Suppose $V$ is a subspace in $\\mathbb{R}^n$.  \n",
    "We also have $\\mathbb{R}^n = V \\oplus V^\\perp$."
   ]
  },
  {
   "cell_type": "markdown",
   "metadata": {},
   "source": [
    "## Side stories\n",
    "- projection matrix"
   ]
  },
  {
   "cell_type": "markdown",
   "metadata": {},
   "source": [
    "## Experiments"
   ]
  },
  {
   "cell_type": "markdown",
   "metadata": {},
   "source": [
    "##### Exercise 1\n",
    "\n",
    "執行以下程式碼。  \n",
    "已知 $R$ 為 $A$ 的最簡階梯形式矩陣。  \n",
    "\n",
    "<!-- eng start -->\n",
    "Run the code below.  Let $R$ be the reduced echelon form of $A$.  \n",
    "<!-- eng end -->"
   ]
  },
  {
   "cell_type": "code",
   "execution_count": null,
   "metadata": {
    "scrolled": false
   },
   "outputs": [],
   "source": [
    "### code\n",
    "set_random_seed(0)\n",
    "print_ans = False\n",
    "m,n,r = 2,4,2\n",
    "A = random_good_matrix(m,n,r)\n",
    "R = A.rref()\n",
    "H = kernel_matrix(R)\n",
    "c = random_int_list(2, r=3)\n",
    "b = c[0]*R[0] + c[1]*H.transpose()[0]\n",
    "\n",
    "print(\"A =\")\n",
    "show(A)\n",
    "print(\"R =\")\n",
    "show(R)\n",
    "print(\"b = \", b)\n",
    "\n",
    "if print_ans:\n",
    "    r = c[0]*R[0]\n",
    "    h = c[1]*H.transpose()[0]\n",
    "    print(\"r =\", r)\n",
    "    print(\"h =\", h)\n",
    "    print(\"|b|^2 =\", b.norm()**2)\n",
    "    print(\"|r|^2 + |h|^2 = %s + %s = %s\"%(r.norm()**2, h.norm()**2, r.norm()**2 + h.norm()**2))"
   ]
  },
  {
   "cell_type": "markdown",
   "metadata": {},
   "source": [
    "##### Exercise 1(a)\n",
    "\n",
    "將 $\\bb$ 寫成 $\\br + \\bh$  \n",
    "其中 $\\br\\in\\Row(A)$ 而 $\\bh\\in\\ker(A)$。  \n",
    "\n",
    "<!-- eng start -->\n",
    "Write $\\bb$ as $\\br + \\bh$ such that $\\br\\in\\Row(A)$ and $\\bh\\in\\ker(A)$.  \n",
    "<!-- eng end -->"
   ]
  },
  {
   "cell_type": "markdown",
   "metadata": {},
   "source": [
    "##### Exercise 1(b)\n",
    "\n",
    "證驗 $\\br$ 和 $\\bh$ 垂直﹐  \n",
    "而且 $\\|\\bb\\|^2 = \\|\\br\\|^2 + \\|\\bh\\|^2$。  \n",
    "\n",
    "<!-- eng start -->\n",
    "Verify that $\\br$ and $\\bh$ are orthogonal and $\\|\\bb\\|^2 = \\|\\br\\|^2 + \\|\\bh\\|^2$.  \n",
    "<!-- eng end -->"
   ]
  },
  {
   "cell_type": "markdown",
   "metadata": {},
   "source": [
    "##### Exercise 1(c)\n",
    "\n",
    "因為每一個 $\\mathbb{R}^n$ 中的向量都可以分解成 $\\br\\in\\Row(A)$ 和 $\\bh\\in\\ker(A)$ 中的向量相加。  \n",
    "說明對任何 $m\\times n$ 矩陣都有  \n",
    "\n",
    "$$\n",
    "    \\{A\\bx: \\bx\\in\\mathbb{R}^n \\} = \\{ A\\br : \\br\\in\\Row(A)\\}.\n",
    "$$\n",
    "\n",
    "<!-- eng start -->\n",
    "Since any vector in $\\mathbb{R}^n$ can be written as the sum of vectors $\\br\\in\\Row(A)$ and $\\bh\\in\\ker(A)$.  Show that \n",
    "\n",
    "$$\n",
    "    \\{A\\bx: \\bx\\in\\mathbb{R}^n \\} = \\{ A\\br : \\br\\in\\Row(A)\\}.\n",
    "$$\n",
    "\n",
    "for any $m\\times n$ matrix $A$.  \n",
    "<!-- eng end -->"
   ]
  },
  {
   "cell_type": "markdown",
   "metadata": {},
   "source": [
    "## Exercises"
   ]
  },
  {
   "cell_type": "markdown",
   "metadata": {},
   "source": [
    "##### Exercise 2\n",
    "\n",
    "令 $S = \\{V_1,\\ldots,V_k\\}$ 為一群子空間。  \n",
    "證明若 $S$ 是垂直的集合且 $S$ 不包含 $\\{\\bzero\\}$﹐則 $S$ 線性獨立。  \n",
    "\n",
    "<!-- eng start -->\n",
    "Let $S = \\{V_1,\\ldots,V_k\\}$ be a family of subspaces.  Show that if $S$ is orthogonal and none of its elements is $\\{\\bzero\\}$, then $S$ is linearly independent.  \n",
    "<!-- eng end -->"
   ]
  },
  {
   "cell_type": "markdown",
   "metadata": {},
   "source": [
    "##### Exercise 3\n",
    "\n",
    "若 $S = \\{V_1, V_2, V_3\\}$ 垂直。  \n",
    "令 $V = V_1 \\oplus V_2 \\oplus V_3$、  \n",
    "$P$ 為 $V$ 的投影矩陣、  \n",
    "$P_1,P_2,P_3$ 分別為 $V_1,V_2,V_3$ 的投影矩陣。  \n",
    "\n",
    "<!-- eng start -->\n",
    "Suppose $S = \\{V_1,\\ldots,V_k\\}$ is an orthogonal set of subspaces.  Let $V = V_1 \\oplus V_2 \\oplus V_3$, $P$ the projection matrix onto $V$, and $P_1, P_2, P_3$ the projection matrices onto $V_1, V_2, V_3$, respectively.  \n",
    "<!-- eng end -->"
   ]
  },
  {
   "cell_type": "markdown",
   "metadata": {},
   "source": [
    "##### Exercise 3(a)\n",
    "\n",
    "說明 $P_1P_2 = P_2P_1$。  \n",
    "\n",
    "<!-- eng start -->\n",
    "Give some intuition of why $P_1P_2 = P_2P_1$.  \n",
    "<!-- eng end -->"
   ]
  },
  {
   "cell_type": "markdown",
   "metadata": {},
   "source": [
    "##### Exercise 3(b)\n",
    "\n",
    "說明 $P = P_1 + P_2 + P_3$。  \n",
    "\n",
    "<!-- eng start -->\n",
    "Give some intuition of why $P = P_1 + P_2 + P_3$.  \n",
    "<!-- eng end -->"
   ]
  },
  {
   "cell_type": "markdown",
   "metadata": {},
   "source": [
    "##### Exercise 3(c)\n",
    "\n",
    "若 $V = \\mathbb{R}^n$ 為全空間。  \n",
    "說明 $I_n = P_1 + P_2 + P_3$。  \n",
    "\n",
    "<!-- eng start -->\n",
    "Suppose $V = \\mathbb{R}^n$ is the whole space.  Show that $I_n = P_1 + P_2 + P_3$.   \n",
    "<!-- eng end -->"
   ]
  },
  {
   "cell_type": "markdown",
   "metadata": {},
   "source": [
    "##### Exercise 4\n",
    "\n",
    "依照步驟證明以下敘述等價：  \n",
    "\n",
    "1. $P$ 是某個空間的投影矩陣。  \n",
    "2. $P$ 對稱、而且 $P = P^2$。  \n",
    "\n",
    "<!-- eng start -->\n",
    "Use the given instructions to show that the following are equivalent:  \n",
    "\n",
    "1. $P$ is the projection matrix onto some subspace.    \n",
    "2. $P$ is symmetric and $P = P^2$.  \n",
    "<!-- eng end -->"
   ]
  },
  {
   "cell_type": "markdown",
   "metadata": {},
   "source": [
    "##### Exercise 4(a)\n",
    "\n",
    "證明若 $P$ 是一個投影矩陣﹐  \n",
    "則 $P$ 是 $\\Col(P)$ 的投影矩陣。  \n",
    "因此如果 $\\bu\\in\\Col(P)$ 則 $P\\bu = \\bu$、  \n",
    "如果 $\\bu\\in\\ker(P\\trans)$ 則 $P\\bu = \\bzero$、  \n",
    "同時每個向量都可以分成 $\\bu = P\\bu + (I - P)\\bu$  \n",
    "使得 $P\\bu\\in\\Col(P)$ 且 $(I - P)\\bu\\in\\ker(P\\trans)$。  \n",
    "\n",
    "藉由這些性質說明如果條件一成立則條件二成立。  \n",
    "\n",
    "<!-- eng start -->\n",
    "If $P$ is a projection matrix, then $P$ is the projection matrix onto $\\Col(P)$.  Therefore, $P\\bu = \\bu$ if $\\bu\\in\\Col(P)$ and $P\\bu = \\bzero$ if $\\bu\\in\\ker(P\\trans)$.  Also, every vector can be written as $\\bu = P\\bu + (I - P)\\bu$ such that $P\\bu\\in\\Col(P)$ and $(I - P)\\bu\\in\\ker(P\\trans)$.  \n",
    "\n",
    "Justify these statements and use them to show that Condition 1 implies Condition 2.  \n",
    "<!-- eng end -->"
   ]
  },
  {
   "cell_type": "markdown",
   "metadata": {},
   "source": [
    "##### Exercise 4(b)  \n",
    "\n",
    "若 $P$ 對稱且 $P = P^2$。  \n",
    "說明 $\\mathbb{R}^n = \\Col(P) \\oplus \\ker(P)$ 且  \n",
    "如果 $\\bu\\in\\Col(P)$ 則 $P\\bu = \\bu$、  \n",
    "如果 $\\bu\\in\\ker(P)$ 則 $P\\bu = \\bzero$。  \n",
    "\n",
    "藉由這些性質說明如果條件二成立則條件一成立。  \n",
    "\n",
    "<!-- eng start -->\n",
    "Suppose $P$ is a symmetric matrix and $P = P^2$.  Then $\\mathbb{R}^n = \\Col(P) \\oplus \\ker(P)$.  Also, $P\\bu = \\bu$ if $\\bu\\in\\Col(P)$ and $P\\bu = \\bzero$ if $\\bu\\in\\ker(P)$.  \n",
    "\n",
    "Justify these statements and use them to show that Condition 2 implies Condition 1.  \n",
    "<!-- eng end -->"
   ]
  },
  {
   "cell_type": "markdown",
   "metadata": {},
   "source": [
    "##### Exercise 5\n",
    "\n",
    "證明若 $V = V_1 \\oplus \\cdots \\oplus V_k$﹐  \n",
    "則每一個向量 $\\bv\\in V$ 都可以被寫成 $\\bv = \\bv_1 + \\cdots + \\bv_k$﹐  \n",
    "使得對每一個 $i = 1,\\ldots,k$ 都有 $\\bv_i\\in V_i$﹐  \n",
    "而且這種寫法唯一。  \n",
    "\n",
    "<!-- eng start -->\n",
    "Show that if $V = V_1 \\oplus \\cdots \\oplus V_k$, then every vector $\\bv\\in V$ can be written as $\\bv = \\bv_1 + \\cdots + \\bv_k$ such that $\\bv_i\\in V_i$ for each $i = 1, \\ldots, k$.  Moreover, such a representation is unique.  \n",
    "<!-- eng end -->"
   ]
  },
  {
   "cell_type": "markdown",
   "metadata": {},
   "source": [
    "##### Exercise 6\n",
    "\n",
    "利用垂直空間分解母空間的現象在其它向量空間也很常見。  \n",
    "\n",
    "<!-- eng start -->\n",
    "It is also common to see other vector spaces being decomposed into orthogonal subspaces.  \n",
    "<!-- eng end -->"
   ]
  },
  {
   "cell_type": "markdown",
   "metadata": {},
   "source": [
    "##### Exercise 6(a)  \n",
    "\n",
    "令 $U = \\mathcal{M}_{n\\times n}$ 為一向量空間，搭配內積 $\\inp{A}{B} = \\tr(B\\trans A)$。  \n",
    "令 $V$ 為 $U$ 中所有對稱矩陣的集合、  \n",
    "令 $W$ 為 $U$ 中所有反對稱矩陣的集合。  \n",
    "說明 $\\{V, W\\}$ 垂直且 $U = V \\oplus W$。  \n",
    "\n",
    "<!-- eng start -->\n",
    "Let $U = \\mathcal{M}_{n\\times n}$ be the vector space equipped with the inner product $\\inp{A}{B} = \\tr(B\\trans A)$.  Let $V$ be the subspace of $U$ consisting of all symmetric matrices.  Let $W$ be the subspace of $U$ consisting of all skew-symmetric matrices.  Show that $\\{V, W\\}$ is orthogonal and $U = V \\oplus W$.  \n",
    "<!-- eng end -->"
   ]
  },
  {
   "cell_type": "markdown",
   "metadata": {},
   "source": [
    "##### Exercise 6(a)  \n",
    "\n",
    "令 $U = \\mathcal{P}_{d}$ 為一向量空間，搭配內積  \n",
    "\n",
    "$$\n",
    "    \\inp{a_0 + a_1x + \\cdots + a_dx^d}{b_0 + b_1x + \\cdots + b_dx^d} = a_0b_0 + a_1b_1 + \\cdots + a_db_d.\n",
    "$$  \n",
    "\n",
    "令 $V$ 為 $U$ 中所有偶函數的集合、  \n",
    "令 $W$ 為 $U$ 中所有奇函數的集合。  \n",
    "說明 $V$ 和 $W$ 垂直且 $U = V \\oplus W$。  \n",
    "\n",
    "<!-- eng start -->\n",
    "Let $U = \\mathcal{P}_{d}$ be the vector space equipped with the inner product \n",
    "\n",
    "$$\n",
    "    \\inp{a_0 + a_1x + \\cdots + a_dx^d}{b_0 + b_1x + \\cdots + b_dx^d} = a_0b_0 + a_1b_1 + \\cdots + a_db_d.\n",
    "$$  \n",
    "\n",
    "Let $V$ be the subspace of $U$ consisting of all even functions.  Let $W$ be the subspace of $U$ consisting of all odd functions.  Show that $\\{V, W\\}$ is orthogonal and $U = V \\oplus W$.  \n",
    "<!-- eng end -->"
   ]
  }
 ],
 "metadata": {
  "kernelspec": {
   "display_name": "SageMath 9.6",
   "language": "sage",
   "name": "sagemath"
  },
  "language_info": {
   "codemirror_mode": {
    "name": "ipython",
    "version": 3
   },
   "file_extension": ".py",
   "mimetype": "text/x-python",
   "name": "python",
   "nbconvert_exporter": "python",
   "pygments_lexer": "ipython3",
   "version": "3.10.6"
  }
 },
 "nbformat": 4,
 "nbformat_minor": 4
}
