{
 "cells": [
  {
   "cell_type": "markdown",
   "metadata": {},
   "source": [
    "# $\\mathbb{R}^n$ 中的子空間"
   ]
  },
  {
   "cell_type": "markdown",
   "metadata": {},
   "source": [
    "![Creative Commons License](https://i.creativecommons.org/l/by/4.0/88x31.png)  \n",
    "This work by Jephian Lin is licensed under a [Creative Commons Attribution 4.0 International License](http://creativecommons.org/licenses/by/4.0/)."
   ]
  },
  {
   "cell_type": "markdown",
   "metadata": {},
   "source": [
    "$\\newcommand{\\trans}{^\\top}\n",
    "\\newcommand{\\adj}{^{\\rm adj}}\n",
    "\\newcommand{\\cof}{^{\\rm cof}}\n",
    "\\newcommand{\\inp}[2]{\\left\\langle#1,#2\\right\\rangle}\n",
    "\\newcommand{\\dunion}{\\mathbin{\\dot\\cup}}\n",
    "\\newcommand{\\bzero}{\\mathbf{0}}\n",
    "\\newcommand{\\bone}{\\mathbf{1}}\n",
    "\\newcommand{\\ba}{\\mathbf{a}}\n",
    "\\newcommand{\\bb}{\\mathbf{b}}\n",
    "\\newcommand{\\bc}{\\mathbf{c}}\n",
    "\\newcommand{\\bd}{\\mathbf{d}}\n",
    "\\newcommand{\\be}{\\mathbf{e}}\n",
    "\\newcommand{\\bh}{\\mathbf{h}}\n",
    "\\newcommand{\\bp}{\\mathbf{p}}\n",
    "\\newcommand{\\bq}{\\mathbf{q}}\n",
    "\\newcommand{\\br}{\\mathbf{r}}\n",
    "\\newcommand{\\bx}{\\mathbf{x}}\n",
    "\\newcommand{\\by}{\\mathbf{y}}\n",
    "\\newcommand{\\bz}{\\mathbf{z}}\n",
    "\\newcommand{\\bu}{\\mathbf{u}}\n",
    "\\newcommand{\\bv}{\\mathbf{v}}\n",
    "\\newcommand{\\bw}{\\mathbf{w}}\n",
    "\\newcommand{\\tr}{\\operatorname{tr}}\n",
    "\\newcommand{\\nul}{\\operatorname{null}}\n",
    "\\newcommand{\\rank}{\\operatorname{rank}}\n",
    "%\\newcommand{\\ker}{\\operatorname{ker}}\n",
    "\\newcommand{\\range}{\\operatorname{range}}\n",
    "\\newcommand{\\Col}{\\operatorname{Col}}\n",
    "\\newcommand{\\Row}{\\operatorname{Row}}\n",
    "\\newcommand{\\spec}{\\operatorname{spec}}\n",
    "\\newcommand{\\vspan}{\\operatorname{span}}\n",
    "\\newcommand{\\Vol}{\\operatorname{Vol}}\n",
    "\\newcommand{\\sgn}{\\operatorname{sgn}}\n",
    "\\newcommand{\\idmap}{\\operatorname{id}}\n",
    "\\newcommand{\\am}{\\operatorname{am}}\n",
    "\\newcommand{\\gm}{\\operatorname{gm}}\n",
    "\\newcommand{\\mult}{\\operatorname{mult}}\n",
    "\\newcommand{\\iner}{\\operatorname{iner}}$"
   ]
  },
  {
   "cell_type": "code",
   "execution_count": null,
   "metadata": {},
   "outputs": [],
   "source": [
    "from lingeo import random_int_list, draw_span"
   ]
  },
  {
   "cell_type": "markdown",
   "metadata": {},
   "source": [
    "## Main idea"
   ]
  },
  {
   "cell_type": "markdown",
   "metadata": {},
   "source": [
    "Let $S$ be a set of (possibily infinitely many) vectors in $\\mathbb{R}^n$.  \n",
    "A **linear combination** of $S$ is a vector of the form \n",
    "$$c_1\\bu_1 + \\cdots + c_k\\bu_k,$$\n",
    "for some vectors $\\bu_1,\\ldots, \\bu_k\\in S$ and  \n",
    "some scalars $c_1,\\ldots,c_k\\in\\mathbb{R}$.  \n",
    "\n",
    "_Although $S$ can have infinitely many vectors, a linear combination only uses finitely many vectors in $S$._\n",
    "\n",
    "The **span** of $S$ is the set of all linear combination of $S$,  \n",
    "denoted by $\\vspan(S)$.  \n",
    "(We vacuously define $\\vspan(\\emptyset) = \\{\\bzero\\}$.)"
   ]
  },
  {
   "cell_type": "markdown",
   "metadata": {},
   "source": [
    "Let $V$ be a subset of $\\mathbb{R}^n$.  Then the following two conditions are equivalent.  \n",
    "\n",
    "1. $V = \\vspan(S)$ for some vectors $S$.  \n",
    "2. $V$ is a nonempty subset that is closed under scalar multiplication and vector addition.  That is, \n",
    "    1. $V \\neq \\emptyset$. \n",
    "    2. For any scalar $k$ and vector $\\bv\\in V$, $k\\bv\\in V$. (closed under scalr multiplication)\n",
    "    3. For any two vectors $\\bu,\\bv\\in V$, $\\bu + \\bv\\in V$. (closed under vector addition) \n",
    "\n",
    "If either one of the two conditions holds, then $V$ is called a **subspace** of $\\mathbb{R}^n$.  "
   ]
  },
  {
   "cell_type": "markdown",
   "metadata": {},
   "source": [
    "A **system of linear equations** has the form  \n",
    "$$\\left\\{\\begin{array}{ccccccc}\n",
    " a_{11}x_1 & + & \\cdots & + & a_{1n}x_n & = & b_1 \\\\\n",
    " \\vdots & ~ & ~ & ~ & \\vdots & = & \\vdots \\\\\n",
    " a_{m1}x_1 & + & \\cdots & + & a_{mn}x_n & = & b_m \\\\\n",
    "\\end{array}\\right.$$\n",
    "for some variables $x_1,\\ldots,x_n$, and some numbers $a_{ij}$'s and $b_1,\\ldots,b_m$.  \n",
    "When $b_1 = \\cdots = b_m = 0$, it is a **homogeneous** system of linear equations.  "
   ]
  },
  {
   "cell_type": "markdown",
   "metadata": {},
   "source": [
    "An $m\\times n$ **matrix** $A$ over $\\mathbb{R}$ is array  \n",
    "$$\\begin{bmatrix}\n",
    "a_{11} & \\cdots & a_{1n} \\\\\n",
    " \\vdots & ~ & \\vdots \\\\\n",
    "a_{m1} & \\cdots & a_{mn} \\\\\n",
    "\\end{bmatrix}$$  \n",
    "for some numbers $a_{ij}$'s.  \n",
    "\n",
    "##### Matrix-vector multiplication (by entry)\n",
    "Let $A = \\begin{bmatrix} a_{ij}\\end{bmatrix}$ be an $m\\times n$ matrix and $\\bv = (v_1,\\ldots,v_n)$ a vector in $\\mathbb{R}^n$.  \n",
    "Then $A\\bv$ is a vector in $\\mathbb{R}^m$ whose $i$-th entry is  \n",
    "$$\\sum_{k=1}^n a_{ik}v_k.$$\n",
    "\n",
    "Thus, every system of linear equation can be written as $A\\bx = \\bb$, while  \n",
    "it is homogeneous when $\\bb = \\bzero$.  "
   ]
  },
  {
   "cell_type": "markdown",
   "metadata": {},
   "source": [
    "The solution set of $A\\bv = \\bzero$ is called the **kernel** of $A$, denoted as $\\ker(A)$.  \n",
    "That is, $\\ker(A) = \\{\\bv\\in\\mathbb{R}^n : A\\bv = \\bzero\\}$.  \n",
    "The kernel of an $m\\times n$ matrix is a subspace in $\\mathbb{R}^n$.  "
   ]
  },
  {
   "cell_type": "markdown",
   "metadata": {},
   "source": [
    "## Side stories\n",
    "- set equal"
   ]
  },
  {
   "cell_type": "markdown",
   "metadata": {},
   "source": [
    "## Experiments"
   ]
  },
  {
   "cell_type": "markdown",
   "metadata": {},
   "source": [
    "##### Exercise 1\n",
    "執行下方程式碼。  \n",
    "原點為橘色點、\n",
    "從原點延伸出去的紅色向量和淡藍色向量分別為 $\\bu_1$ 和 $\\bu_2$。  \n",
    "黑色向量為 $\\bb$。  \n",
    "問 $\\bb$ 是否是 $\\{\\bu_1, \\bu_2\\}$ 的線性組合？  \n",
    "若是﹐求 $c_1,c_2$ 使得 $\\bb = c_1\\bu_1 + c_2\\bu_2$。"
   ]
  },
  {
   "cell_type": "code",
   "execution_count": null,
   "metadata": {
    "scrolled": false
   },
   "outputs": [],
   "source": [
    "### code\n",
    "set_random_seed(0)\n",
    "print_ans = False\n",
    "while True:\n",
    "    l = random_int_list(9)\n",
    "    A = matrix(3, l)\n",
    "    if A.det() != 0:\n",
    "        break\n",
    "u1 = vector(A[0])\n",
    "u2 = vector(A[1])\n",
    "u3 = vector(A[2])\n",
    "        \n",
    "inside = choice([0,1,1])\n",
    "coefs = random_int_list(2, 2)\n",
    "if inside:\n",
    "    b = coefs[0]*u1 + coefs[1]*u2\n",
    "else:\n",
    "    b = coefs[0]*u1 + coefs[1]*u2 + 3*u3\n",
    "    \n",
    "print(\"u1 =\", u1)\n",
    "print(\"u2 =\", u2)\n",
    "print(\"b =\", b)\n",
    "\n",
    "pic = draw_span([u1,u2])\n",
    "pic += arrow((0,0,0), b, width=5, color=\"black\")\n",
    "show(pic)\n",
    "\n",
    "if print_ans:\n",
    "    if inside:\n",
    "        print(\"b is a linear combination of { u1, u2 } since b = %s u1 + %s u2.\"%(coefs[0], coefs[1]))\n",
    "    else:\n",
    "        print(\"b is not a linear combination of { u1, u2 }.\")"
   ]
  },
  {
   "cell_type": "markdown",
   "metadata": {},
   "source": [
    "## Exercises"
   ]
  },
  {
   "cell_type": "markdown",
   "metadata": {},
   "source": [
    "##### Exercise 2(a)\n",
    "令  \n",
    "$$\\be_1 = \\begin{bmatrix}1\\\\0\\\\0\\end{bmatrix}, \n",
    "\\be_2 = \\begin{bmatrix}0\\\\1\\\\0\\end{bmatrix}, \n",
    "\\be_3 = \\begin{bmatrix}0\\\\0\\\\1\\end{bmatrix}.$$  \n",
    "說明 $\\mathbb{R}^3 = \\vspan(\\{\\be_1, \\be_2, \\be_3\\})$﹐  \n",
    "因此它是一個子空間。  \n",
    "（要說明每一個 $\\mathbb{R}^3$ 中的向量都可以寫成 $c_1\\be_1 + c_2\\be_2 + c_3\\be_3$ 的形式。）"
   ]
  },
  {
   "cell_type": "markdown",
   "metadata": {},
   "source": [
    "##### Exercise 2(b)\n",
    "令  \n",
    "$$\\bb = \\begin{bmatrix}1\\\\2\\\\-3\\end{bmatrix}, \n",
    "\\bu_1 = \\begin{bmatrix}-1\\\\1\\\\0\\end{bmatrix}, \n",
    "\\bu_2 = \\begin{bmatrix}0\\\\-1\\\\1\\end{bmatrix}.$$  \n",
    "說明 $\\bb\\in\\vspan(\\{\\bu_1, \\bu_2\\})$。"
   ]
  },
  {
   "cell_type": "markdown",
   "metadata": {},
   "source": [
    "##### Exercise 2(c)\n",
    "令 \n",
    "$$\\bb = \\begin{bmatrix}1\\\\1\\\\1\\end{bmatrix}, \n",
    "\\bu_1 = \\begin{bmatrix}-1\\\\1\\\\0\\end{bmatrix}, \n",
    "\\bu_2 = \\begin{bmatrix}0\\\\-1\\\\1\\end{bmatrix}.$$  \n",
    "說明 $\\bb\\notin\\vspan(\\{\\bu_1, \\bu_2\\})$。"
   ]
  },
  {
   "cell_type": "markdown",
   "metadata": {},
   "source": [
    "##### Exercise 2(d)\n",
    "令  \n",
    "$$\\bb = \\begin{bmatrix}1\\\\2\\\\-3\\end{bmatrix}, \n",
    "\\bu_1 = \\begin{bmatrix}-1\\\\1\\\\0\\end{bmatrix}, \n",
    "\\bu_2 = \\begin{bmatrix}0\\\\-1\\\\1\\end{bmatrix}, \n",
    "\\bu_3 = \\begin{bmatrix}-1\\\\0\\\\1\\end{bmatrix}.$$  \n",
    "找出至少兩組 $c_1, c_2, c_3$ 使得 $\\bb = c_1\\bu_1 + c_2\\bu_2 + c_3\\bu_3$。  \n",
    "這說明了線性組合的表示法不見得唯一。"
   ]
  },
  {
   "cell_type": "markdown",
   "metadata": {},
   "source": [
    "##### Exercise 3\n",
    "依照各小題的步驟來證明子空間的兩個條件等價。  \n",
    "\n",
    "1. $V = \\vspan(S)$ for some vectors $S$.  \n",
    "2. $V$ is a nonempty subset that is closed under scalar multiplication and vector addition.\n",
    "\n",
    "並用這些條件來判斷一個集合是否為子空間。"
   ]
  },
  {
   "cell_type": "markdown",
   "metadata": {},
   "source": [
    "##### Exercise 3(a)\n",
    "證明若條件 1 成立則條件 2 成立。"
   ]
  },
  {
   "cell_type": "markdown",
   "metadata": {},
   "source": [
    "Sample:  \n",
    "Suppose $V = \\vspan(S)$ for some $S\\subseteq\\mathbb{R}^n$.  \n",
    "We verify each of the requirements in condition 2.  \n",
    "\n",
    "**nonempty**  \n",
    "Since $\\vspan(S)$ always contains ..., $V$ is nonempty.  \n",
    "\n",
    "**closed under scalar multiplication**  \n",
    "Suppose $\\bv\\in V$ and $k$ a scalar.  \n",
    "Then $\\bv$ can be written as $c_1\\bu_1 + \\cdots + c_k\\bu_k$ for some vectors $\\bu_i\\in S$ and scalars $c_i$.  \n",
    "Then ...  \n",
    "So $k\\bv\\in\\vspan(S) = V$.  \n",
    "\n",
    "**closed under vector addition**  \n",
    "Suppose $\\bv_1,\\bv_2\\in V$.  \n",
    "Then $\\bv_1$ can be written as ...,  \n",
    "and $\\bv_2$ can be written as ...  \n",
    "Then ...  \n",
    "So $\\bv_1 + \\bv_2 \\in\\vspan(S) = V$.  "
   ]
  },
  {
   "cell_type": "markdown",
   "metadata": {},
   "source": [
    "##### Exercise 3(b)\n",
    "證明若條件 2 成立則條件 1 成立。"
   ]
  },
  {
   "cell_type": "markdown",
   "metadata": {},
   "source": [
    "Sample:  \n",
    "Suppose $V$ is a nonempty subset of $\\mathbb{R}^n$ and is closed under scalar multiplication and vector addition.  \n",
    "It is enough to show that $V = \\vspan(V)$.  \n",
    "\n",
    "**$V\\subseteq\\vspan(V)$**  \n",
    "...\n",
    "\n",
    "**$\\vspan(V)\\subseteq V$**  \n",
    "Let $\\bu$ be an element of $\\vspan(V)$.  \n",
    "Then $\\bu$ can be written as ...  \n",
    "...  \n",
    "Therefore, $\\bu\\in V$."
   ]
  },
  {
   "cell_type": "markdown",
   "metadata": {},
   "source": [
    "##### Exercise 3(c)\n",
    "判斷 $\\emptyset$ 是否為一子空間。"
   ]
  },
  {
   "cell_type": "markdown",
   "metadata": {},
   "source": [
    "##### Exercise 3(d)\n",
    "判斷 $\\{\\bzero\\}$ 是否為一子空間。"
   ]
  },
  {
   "cell_type": "markdown",
   "metadata": {},
   "source": [
    "##### Exercise 3(e)\n",
    "判斷 $\\left\\{\\begin{bmatrix}1\\\\1\\\\1\\end{bmatrix}\\right\\}$ 是否為一子空間。"
   ]
  },
  {
   "cell_type": "markdown",
   "metadata": {},
   "source": [
    "##### Exercise 3(f)\n",
    "判斷 $\\left\\{t\\begin{bmatrix}1\\\\1\\\\1\\end{bmatrix} : t\\in\\mathbb{R}\\right\\}$ 是否為一子空間。"
   ]
  },
  {
   "cell_type": "markdown",
   "metadata": {},
   "source": [
    "##### Exercise 3(g)\n",
    "判斷 $\\left\\{\\begin{bmatrix}x\\\\y\\\\z\\end{bmatrix} : x^2 + y^2 + z^2 = 1\\right\\}$ 是否為一子空間。"
   ]
  },
  {
   "cell_type": "markdown",
   "metadata": {},
   "source": [
    "##### Exercise 3(h)\n",
    "判斷 $\\left\\{\\begin{bmatrix}x\\\\y\\\\z\\end{bmatrix} : x^2 + y^2 + z^2 \\geq 1\\right\\}$ 是否為一子空間。"
   ]
  },
  {
   "cell_type": "markdown",
   "metadata": {},
   "source": [
    "##### Exercise 3(i)\n",
    "判斷 $\\left\\{\\begin{bmatrix}x\\\\y\\\\z\\end{bmatrix} : x \\geq 0\\right\\}$ 是否為一子空間。"
   ]
  },
  {
   "cell_type": "markdown",
   "metadata": {},
   "source": [
    "##### Exercise 3(j)\n",
    "判斷 $\\left\\{\\begin{bmatrix}x\\\\y\\\\z\\end{bmatrix} : x + y + z = 0\\right\\}$ 是否為一子空間。"
   ]
  },
  {
   "cell_type": "markdown",
   "metadata": {},
   "source": [
    "##### Exercise 3(k)\n",
    "判斷 $\\left\\{\\begin{bmatrix}x\\\\y\\\\z\\end{bmatrix} : x + y + z = 1\\right\\}$ 是否為一子空間。"
   ]
  },
  {
   "cell_type": "markdown",
   "metadata": {},
   "source": [
    "##### Exercise 3(l)\n",
    "判斷 $\\left\\{\\begin{bmatrix}x\\\\y\\\\z\\end{bmatrix} : \n",
    "\\begin{aligned} \n",
    "x + y + z &= 0 \\\\\n",
    "x + 2y + 3z &= 0\n",
    "\\end{aligned}\n",
    "\\right\\}$ 是否為一子空間。"
   ]
  },
  {
   "cell_type": "markdown",
   "metadata": {},
   "source": [
    "##### Exercise 4(a)\n",
    "證明對任何 $S\\subseteq\\mathbb{R}^n$ 都有 $\\vspan(\\vspan(S)) = \\vspan(S)$。"
   ]
  },
  {
   "cell_type": "markdown",
   "metadata": {},
   "source": [
    "##### Exercise 4(b)\n",
    "令 $S\\subseteq\\mathbb{R}^n$。  \n",
    "證明以下敘述等價：  \n",
    "1. $\\bw\\in\\vspan(S)$.\n",
    "2. $\\vspan(S\\cup\\{\\bw\\}) = \\vspan(S)$."
   ]
  }
 ],
 "metadata": {
  "kernelspec": {
   "display_name": "SageMath 9.6",
   "language": "sage",
   "name": "sagemath"
  },
  "language_info": {
   "codemirror_mode": {
    "name": "ipython",
    "version": 3
   },
   "file_extension": ".py",
   "mimetype": "text/x-python",
   "name": "python",
   "nbconvert_exporter": "python",
   "pygments_lexer": "ipython3",
   "version": "3.10.5"
  }
 },
 "nbformat": 4,
 "nbformat_minor": 4
}
