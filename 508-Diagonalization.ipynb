{
 "cells": [
  {
   "cell_type": "markdown",
   "metadata": {},
   "source": [
    "# 矩陣對角化"
   ]
  },
  {
   "cell_type": "markdown",
   "metadata": {},
   "source": [
    "![Creative Commons License](https://i.creativecommons.org/l/by/4.0/88x31.png)  \n",
    "This work by Jephian Lin is licensed under a [Creative Commons Attribution 4.0 International License](http://creativecommons.org/licenses/by/4.0/)."
   ]
  },
  {
   "cell_type": "markdown",
   "metadata": {},
   "source": [
    "$\\newcommand{\\trans}{^\\top}\n",
    "\\newcommand{\\adj}{^{\\rm adj}}\n",
    "\\newcommand{\\cof}{^{\\rm cof}}\n",
    "\\newcommand{\\inp}[2]{\\left\\langle#1,#2\\right\\rangle}\n",
    "\\newcommand{\\dunion}{\\mathbin{\\dot\\cup}}\n",
    "\\newcommand{\\bzero}{\\mathbf{0}}\n",
    "\\newcommand{\\bone}{\\mathbf{1}}\n",
    "\\newcommand{\\ba}{\\mathbf{a}}\n",
    "\\newcommand{\\bb}{\\mathbf{b}}\n",
    "\\newcommand{\\bc}{\\mathbf{c}}\n",
    "\\newcommand{\\bd}{\\mathbf{d}}\n",
    "\\newcommand{\\be}{\\mathbf{e}}\n",
    "\\newcommand{\\bh}{\\mathbf{h}}\n",
    "\\newcommand{\\bp}{\\mathbf{p}}\n",
    "\\newcommand{\\bq}{\\mathbf{q}}\n",
    "\\newcommand{\\br}{\\mathbf{r}}\n",
    "\\newcommand{\\bx}{\\mathbf{x}}\n",
    "\\newcommand{\\by}{\\mathbf{y}}\n",
    "\\newcommand{\\bz}{\\mathbf{z}}\n",
    "\\newcommand{\\bu}{\\mathbf{u}}\n",
    "\\newcommand{\\bv}{\\mathbf{v}}\n",
    "\\newcommand{\\bw}{\\mathbf{w}}\n",
    "\\newcommand{\\tr}{\\operatorname{tr}}\n",
    "\\newcommand{\\nul}{\\operatorname{null}}\n",
    "\\newcommand{\\rank}{\\operatorname{rank}}\n",
    "%\\newcommand{\\ker}{\\operatorname{ker}}\n",
    "\\newcommand{\\range}{\\operatorname{range}}\n",
    "\\newcommand{\\Col}{\\operatorname{Col}}\n",
    "\\newcommand{\\Row}{\\operatorname{Row}}\n",
    "\\newcommand{\\spec}{\\operatorname{spec}}\n",
    "\\newcommand{\\vspan}{\\operatorname{span}}\n",
    "\\newcommand{\\Vol}{\\operatorname{Vol}}\n",
    "\\newcommand{\\sgn}{\\operatorname{sgn}}\n",
    "\\newcommand{\\idmap}{\\operatorname{id}}$"
   ]
  },
  {
   "cell_type": "code",
   "execution_count": null,
   "metadata": {},
   "outputs": [],
   "source": [
    "from lingeo import random_int_list, random_good_matrix"
   ]
  },
  {
   "cell_type": "markdown",
   "metadata": {},
   "source": [
    "## Main idea"
   ]
  },
  {
   "cell_type": "markdown",
   "metadata": {},
   "source": [
    "We know that an $n\\times n$ matrix is diagonalizable if and only if there is a basis of $\\mathbb{R}^n$ composed of eigenvectors.  \n",
    "We also know how to find the eigenvalues through the characteristic polynomial.  \n",
    "Indeed, that is all we need to perform the diagonalization of a matrix.  "
   ]
  },
  {
   "cell_type": "markdown",
   "metadata": {},
   "source": [
    "Let $A$ be an $n\\times n$ matrix.  \n",
    "Here are the steps for its diagonalization:\n",
    "1. Calculate the characteristic polynomial $p_A(x) = \\det(A - xI)$ and solve the roots for $\\spec(A)$.  \n",
    "2. For each $\\lambda\\in\\spec(A)$, find a basis $\\beta_\\lambda$ for $\\ker(A - \\lambda I)$.  \n",
    "3. Let $\\beta$ be the union of all such $\\beta_\\lambda$.  \n",
    "4. If $\\beta$ is a basis of $\\mathbb{R}^n$, then $A$ can be diagonalized through $\\beta$.  \n",
    "That is, $[f_A]_\\beta^\\beta = D$ is a diagonal matrix.  \n",
    "Equivalently, $D = Q^{-1}AQ$, where $Q$ is the matrix whose columns are the vectors in $\\beta$.  "
   ]
  },
  {
   "cell_type": "markdown",
   "metadata": {},
   "source": [
    "##### Remark\n",
    "\n",
    "If $\\beta = \\{\\bv_1, \\ldots, \\bv_n\\}$ is a basis of $\\mathbb{R}^n$ such $\\bv_i$ is an eigenvector of $A$ with respect to $\\lambda_i$ for all $i$.    \n",
    "Then the equalities $A\\bv_i = \\lambda_i\\bv_i$ is equivalent to  \n",
    "$$\n",
    "    AQ = \n",
    "    A\\begin{bmatrix}\n",
    "     | & ~ & | \\\\\n",
    "     {\\bf v}_1 & \\cdots & {\\bf v}_n \\\\\n",
    "     | & ~ & | \n",
    "    \\end{bmatrix} \n",
    "     = \n",
    "    \\begin{bmatrix}\n",
    "     | & ~ & | \\\\\n",
    "     \\lambda_1{\\bf v}_1 & \\cdots & \\lambda_n{\\bf v}_n \\\\\n",
    "     | & ~ & | \n",
    "    \\end{bmatrix}\n",
    "     = \n",
    "    \\begin{bmatrix}\n",
    "     | & ~ & | \\\\\n",
    "     {\\bf v}_1 & \\cdots & {\\bf v}_n \\\\\n",
    "     | & ~ & | \n",
    "    \\end{bmatrix}\n",
    "    \\begin{bmatrix}\n",
    "     \\lambda_1 & ~ & ~ \\\\\n",
    "     ~ & \\ddots & ~ \\\\\n",
    "     ~ & ~ & \\lambda_n \n",
    "    \\end{bmatrix}\n",
    "     = QD.\n",
    "$$"
   ]
  },
  {
   "cell_type": "markdown",
   "metadata": {},
   "source": [
    "##### Remark\n",
    "\n",
    "The above process might not able to finish for a few different reasons:\n",
    "\n",
    "- The root of $p_A(x)$ might not be real.  If we instite the basis should be using real vectors, then it cannot be done.  \n",
    "- It is possible that $\\beta_\\lambda$ does not provide enough independent eigenvectors, so $\\beta$ is not a bsis of $\\mathbb{R}^n$.  "
   ]
  },
  {
   "cell_type": "markdown",
   "metadata": {},
   "source": [
    "Here is an example of diagonalizing  \n",
    "$$\n",
    "    A = \\begin{bmatrix}\n",
    "    2 & 3 \\\\\n",
    "    3 & 2\n",
    "    \\end{bmatrix}.\n",
    "$$"
   ]
  },
  {
   "cell_type": "markdown",
   "metadata": {},
   "source": [
    "_Solve for the eigenvalues_:  \n",
    "\n",
    "The characteristic polynomial of $A$ is  \n",
    "$$\n",
    "    p_A(x) = \n",
    "    \\det\\begin{bmatrix}\n",
    "    2 - x & 3 \\\\\n",
    "    3 & 2 - x\n",
    "    \\end{bmatrix} \n",
    "    = x^2 - 4x - 5,\n",
    "$$\n",
    "which as roots $-1, 5$.  "
   ]
  },
  {
   "cell_type": "markdown",
   "metadata": {},
   "source": [
    "_Solve for the eigenvectors_:  \n",
    "\n",
    "For $\\lambda = 5$, calculate the basis of $\\ker(A - 5I)$ and get  \n",
    "$$\n",
    "    \\ker(A - 5I) = \\ker \\begin{bmatrix} -3 & 3 \\\\ 3 & -3 \\end{bmatrix} = \\vspan\\left\\{\\begin{bmatrix} 1 \\\\ 1 \\end{bmatrix}\\right\\}.\n",
    "$$\n",
    "\n",
    "For $\\lambda = -1$, calculate the basis of $\\ker(A + I)$ and get  \n",
    "$$\n",
    "    \\ker(A + I) = \\ker \\begin{bmatrix} 3 & 3 \\\\ 3 & 3 \\end{bmatrix} = \\vspan\\left\\{\\begin{bmatrix} 1 \\\\ -1 \\end{bmatrix}\\right\\}.\n",
    "$$"
   ]
  },
  {
   "cell_type": "markdown",
   "metadata": {},
   "source": [
    "By setting  \n",
    "$$\n",
    "    \\beta = \\left\\{\n",
    "    \\begin{bmatrix} 1 \\\\ 1 \\end{bmatrix}, \n",
    "    \\begin{bmatrix} 1 \\\\ -1 \\end{bmatrix}\\right\\}\n",
    "    \\text{ and }\n",
    "    Q = \\begin{bmatrix}\n",
    "     1 & 1 \\\\\n",
    "     1 & -1\n",
    "    \\end{bmatrix},\n",
    "$$\n",
    "we get  \n",
    "$$\n",
    "    [f_A]_\\beta^\\beta = Q^{-1}AQ = \n",
    "    \\begin{bmatrix}\n",
    "    5 & 0 \\\\\n",
    "    0 & -1\n",
    "    \\end{bmatrix}.\n",
    "$$"
   ]
  },
  {
   "cell_type": "markdown",
   "metadata": {},
   "source": [
    "## Side stories\n",
    "\n",
    "- Jordan block\n",
    "- discrete Fourier transform"
   ]
  },
  {
   "cell_type": "markdown",
   "metadata": {},
   "source": [
    "## Experiments"
   ]
  },
  {
   "cell_type": "markdown",
   "metadata": {},
   "source": [
    "##### Exercise 1\n",
    "\n",
    "執行以下程式碼。  "
   ]
  },
  {
   "cell_type": "code",
   "execution_count": null,
   "metadata": {
    "scrolled": false
   },
   "outputs": [],
   "source": [
    "### code\n",
    "set_random_seed(0)\n",
    "print_ans = False\n",
    "\n",
    "n = 3\n",
    "spec = random_int_list(n, 3)\n",
    "D = diagonal_matrix(spec)\n",
    "Q = random_good_matrix(n,n,n,2)\n",
    "A = Q * D * Q.inverse()\n",
    "\n",
    "pretty_print(LatexExpr(\"A =\"), A)\n",
    "pA = (-1)^n * A.charpoly()\n",
    "print(\"characteristic polyomial =\", pA)\n",
    "print(\"                         =\", factor(pA))\n",
    "\n",
    "if print_ans:\n",
    "    print(\"eigenvalues are:\" + \", \".join(\"%s\"%val for val in spec))\n",
    "    print(\"corresponding eigenvectors are:\")\n",
    "    for i in range(n):\n",
    "        pretty_print(LatexExpr(r\"\\lambda =\"), spec[i], \", eigenvector =\", Q[:,i])\n",
    "    pretty_print(LatexExpr(\"Q =\"), Q)"
   ]
  },
  {
   "cell_type": "markdown",
   "metadata": {},
   "source": [
    "##### Exercise 1(a)\n",
    "\n",
    "求出 $A$ 的所有特徵值。"
   ]
  },
  {
   "cell_type": "markdown",
   "metadata": {},
   "source": [
    "##### Exercise 1(b)\n",
    "\n",
    "對每個特徵值，求出對應的特徵向量。"
   ]
  },
  {
   "cell_type": "markdown",
   "metadata": {},
   "source": [
    "##### Exercise 1(c)\n",
    "\n",
    "求出 $Q$ 使得 $D = Q^{-1}AQ$ 是一個對角矩陣。"
   ]
  },
  {
   "cell_type": "markdown",
   "metadata": {},
   "source": [
    "## Exercises"
   ]
  },
  {
   "cell_type": "markdown",
   "metadata": {},
   "source": [
    "##### Exercise 2\n",
    "\n",
    "將以下矩陣 $A$ 對角化。  \n",
    "（求出可逆矩陣 $Q$ 和對角矩陣 $D$ 使得 $D = Q^{-1}AQ$。）"
   ]
  },
  {
   "cell_type": "markdown",
   "metadata": {},
   "source": [
    "##### Exercise 2(a)\n",
    "\n",
    "$$\n",
    "    A = \\begin{bmatrix}\n",
    "    0 & 1 \\\\\n",
    "    -6 & 5\n",
    "    \\end{bmatrix}.\n",
    "$$"
   ]
  },
  {
   "cell_type": "markdown",
   "metadata": {},
   "source": [
    "##### Exercise 2(b)\n",
    "\n",
    "$$\n",
    "    A = \\begin{bmatrix}\n",
    "    0 & -1 \\\\\n",
    "    1 & 0\n",
    "    \\end{bmatrix}.\n",
    "$$"
   ]
  },
  {
   "cell_type": "markdown",
   "metadata": {},
   "source": [
    "##### Exercise 3\n",
    "\n",
    "將以下矩陣 $A$ 對角化。  \n",
    "（求出可逆矩陣 $Q$ 和對角矩陣 $D$ 使得 $D = Q^{-1}AQ$。）"
   ]
  },
  {
   "cell_type": "markdown",
   "metadata": {},
   "source": [
    "##### Exercise 3(a)\n",
    "\n",
    "$$\n",
    "    A = \\begin{bmatrix}\n",
    "    4 & 0 & -1 \\\\\n",
    "    0 & 4 & -1 \\\\\n",
    "    -1 & -1 & 5\n",
    "    \\end{bmatrix}.\n",
    "$$"
   ]
  },
  {
   "cell_type": "markdown",
   "metadata": {},
   "source": [
    "##### Exercise 3(b)\n",
    "\n",
    "$$\n",
    "    A = \\begin{bmatrix}\n",
    "    0 & 1 & 0 \\\\\n",
    "    0 & 0 & 1 \\\\\n",
    "    6 & -11 & 6\n",
    "    \\end{bmatrix}.\n",
    "$$"
   ]
  },
  {
   "cell_type": "markdown",
   "metadata": {},
   "source": [
    "##### Exercise 3(c)\n",
    "\n",
    "$$\n",
    "    A = \\begin{bmatrix}\n",
    "    0 & 1 & 0 \\\\\n",
    "    0 & 0 & 1 \\\\\n",
    "    1 & 0 & 0\n",
    "    \\end{bmatrix}.\n",
    "$$"
   ]
  },
  {
   "cell_type": "markdown",
   "metadata": {},
   "source": [
    "##### Exercise 4\n",
    "\n",
    "將以下矩陣 $A$ 對角化，  \n",
    "並說明 $f_A$ 的作用。"
   ]
  },
  {
   "cell_type": "markdown",
   "metadata": {},
   "source": [
    "##### 4(a)\n",
    "\n",
    "$$\n",
    "    A = \\begin{bmatrix}\n",
    "    \\frac{2}{3} & -\\frac{1}{3} & -\\frac{1}{3} \\\\\n",
    "    -\\frac{1}{3} & \\frac{2}{3} & -\\frac{1}{3} \\\\\n",
    "    -\\frac{1}{3} & -\\frac{1}{3} & \\frac{2}{3}\n",
    "    \\end{bmatrix}.\n",
    "$$"
   ]
  },
  {
   "cell_type": "markdown",
   "metadata": {},
   "source": [
    "##### 4(b)\n",
    "\n",
    "$$\n",
    "    A = \\begin{bmatrix}\n",
    "    \\frac{1}{3} & -\\frac{2}{3} & -\\frac{2}{3} \\\\\n",
    "    -\\frac{2}{3} & \\frac{1}{3} & -\\frac{2}{3} \\\\\n",
    "    -\\frac{2}{3} & -\\frac{2}{3} & \\frac{1}{3}\n",
    "    \\end{bmatrix}.\n",
    "$$"
   ]
  },
  {
   "cell_type": "markdown",
   "metadata": {},
   "source": [
    "##### Exercise 5\n",
    "\n",
    "令  \n",
    "$$\n",
    "    A = \\begin{bmatrix}\n",
    "    3 & 1 & 0 \\\\\n",
    "    0 & 3 & 1 \\\\\n",
    "    0 & 0 & 3\n",
    "    \\end{bmatrix}.\n",
    "$$\n",
    "說明 $A$ 矩陣只有一個特徵值 $3$（重根三次），  \n",
    "但 $\\ker(A - 3I)$ 的維度只有 $1$，  \n",
    "找不到足夠的向量將 $A$ 對角化。"
   ]
  },
  {
   "cell_type": "markdown",
   "metadata": {},
   "source": [
    "##### Exercise 6\n",
    "\n",
    "令  \n",
    "$$\n",
    "    A = \\begin{bmatrix}\n",
    "     0 & 1 & 0 & 0 & 0 \\\\\n",
    "     0 & 0 & 1 & 0 & 0 \\\\\n",
    "     0 & 0 & 0 & 1 & 0 \\\\\n",
    "     0 & 0 & 0 & 0 & 1 \\\\\n",
    "     1 & 0 & 0 & 0 & 0\n",
    "    \\end{bmatrix}\n",
    "$$\n",
    "並令 $\\zeta = e^{\\frac{2\\pi}{5}i}$ 為 $-1$ 的五次方根。  \n",
    "\n",
    "這個練習告訴我們，如果運氣很好有找到所有的特徵向量，則不見得要解特徵多項式也可以找得到 $\\spec(A)$。"
   ]
  },
  {
   "cell_type": "markdown",
   "metadata": {},
   "source": [
    "##### Exercise 6(a)\n",
    "\n",
    "令  \n",
    "$$\n",
    "    Q = \\begin{bmatrix}\n",
    "     1 & 1 & 1 & 1 & 1 \\\\\n",
    "     1 & \\zeta & \\zeta^2 & \\zeta^3 & \\zeta^4 \\\\\n",
    "     1 & \\zeta^2 & \\zeta^4 & \\zeta^6 & \\zeta^8 \\\\\n",
    "     1 & \\zeta^3 & \\zeta^6 & \\zeta^9 & \\zeta^{12} \\\\\n",
    "     1 & \\zeta^4 & \\zeta^8 & \\zeta^{12} & \\zeta^{16} \\\\\n",
    "    \\end{bmatrix}.\n",
    "$$\n",
    "驗證 $Q^*Q = 5I_5$，  \n",
    "因此 $Q$ 可逆且其行向量集合是一組 $\\mathbb{R}^5$ 的基底。\n",
    "\n",
    "（這裡 $Q^*$ 的意思是將 $Q$ 轉置後再逐項取共軛。）"
   ]
  },
  {
   "cell_type": "markdown",
   "metadata": {},
   "source": [
    "##### Exercise 6(b)\n",
    "\n",
    "說明 $Q$ 的每個行向量都是 $A$ 的特徵向量，並找出對應的特徵值。  \n",
    "利用這點將 $A$ 對角化。"
   ]
  }
 ],
 "metadata": {
  "kernelspec": {
   "display_name": "SageMath 9.4",
   "language": "sage",
   "name": "sagemath"
  },
  "language_info": {
   "codemirror_mode": {
    "name": "ipython",
    "version": 3
   },
   "file_extension": ".py",
   "mimetype": "text/x-python",
   "name": "python",
   "nbconvert_exporter": "python",
   "pygments_lexer": "ipython3",
   "version": "3.10.1"
  }
 },
 "nbformat": 4,
 "nbformat_minor": 4
}
