{
 "cells": [
  {
   "cell_type": "markdown",
   "metadata": {},
   "source": [
    "# 西爾維斯特矩陣、結式\n",
    "\n",
    "Sylvester matrix and resultant"
   ]
  },
  {
   "cell_type": "markdown",
   "metadata": {},
   "source": [
    "![Creative Commons License](https://i.creativecommons.org/l/by/4.0/88x31.png)  \n",
    "This work by Jephian Lin is licensed under a [Creative Commons Attribution 4.0 International License](http://creativecommons.org/licenses/by/4.0/)."
   ]
  },
  {
   "cell_type": "markdown",
   "metadata": {},
   "source": [
    "$\\newcommand{\\trans}{^\\top}\n",
    "\\newcommand{\\adj}{^{\\rm adj}}\n",
    "\\newcommand{\\cof}{^{\\rm cof}}\n",
    "\\newcommand{\\inp}[2]{\\left\\langle#1,#2\\right\\rangle}\n",
    "\\newcommand{\\dunion}{\\mathbin{\\dot\\cup}}\n",
    "\\newcommand{\\bzero}{\\mathbf{0}}\n",
    "\\newcommand{\\bone}{\\mathbf{1}}\n",
    "\\newcommand{\\ba}{\\mathbf{a}}\n",
    "\\newcommand{\\bb}{\\mathbf{b}}\n",
    "\\newcommand{\\bc}{\\mathbf{c}}\n",
    "\\newcommand{\\bd}{\\mathbf{d}}\n",
    "\\newcommand{\\be}{\\mathbf{e}}\n",
    "\\newcommand{\\bh}{\\mathbf{h}}\n",
    "\\newcommand{\\bp}{\\mathbf{p}}\n",
    "\\newcommand{\\bq}{\\mathbf{q}}\n",
    "\\newcommand{\\br}{\\mathbf{r}}\n",
    "\\newcommand{\\bx}{\\mathbf{x}}\n",
    "\\newcommand{\\by}{\\mathbf{y}}\n",
    "\\newcommand{\\bz}{\\mathbf{z}}\n",
    "\\newcommand{\\bu}{\\mathbf{u}}\n",
    "\\newcommand{\\bv}{\\mathbf{v}}\n",
    "\\newcommand{\\bw}{\\mathbf{w}}\n",
    "\\newcommand{\\tr}{\\operatorname{tr}}\n",
    "\\newcommand{\\nul}{\\operatorname{null}}\n",
    "\\newcommand{\\rank}{\\operatorname{rank}}\n",
    "%\\newcommand{\\ker}{\\operatorname{ker}}\n",
    "\\newcommand{\\range}{\\operatorname{range}}\n",
    "\\newcommand{\\Col}{\\operatorname{Col}}\n",
    "\\newcommand{\\Row}{\\operatorname{Row}}\n",
    "\\newcommand{\\spec}{\\operatorname{spec}}\n",
    "\\newcommand{\\vspan}{\\operatorname{span}}\n",
    "\\newcommand{\\Vol}{\\operatorname{Vol}}\n",
    "\\newcommand{\\sgn}{\\operatorname{sgn}}\n",
    "\\newcommand{\\idmap}{\\operatorname{id}}\n",
    "\\newcommand{\\am}{\\operatorname{am}}\n",
    "\\newcommand{\\gm}{\\operatorname{gm}}\n",
    "\\newcommand{\\mult}{\\operatorname{mult}}\n",
    "\\newcommand{\\iner}{\\operatorname{iner}}$"
   ]
  },
  {
   "cell_type": "code",
   "execution_count": null,
   "metadata": {},
   "outputs": [],
   "source": [
    "from lingeo import random_int_list\n",
    "from linspace import vtop, ptov, syl"
   ]
  },
  {
   "cell_type": "markdown",
   "metadata": {},
   "source": [
    "## Main idea"
   ]
  },
  {
   "cell_type": "markdown",
   "metadata": {},
   "source": [
    "Let $p$ and $q$ be two polynomials.  \n",
    "The **greatest common divisor** of $p$ and $q$ is the polynomial $g$ of largest degree such that $g \\mid p$ and $g\\mid q$.  \n",
    "This polynomial is unique up to scalar multiplication, so usually we let $\\gcd(p,q)$ be the one with leading coefficeint $1$.  "
   ]
  },
  {
   "cell_type": "markdown",
   "metadata": {},
   "source": [
    "By the Euclidean algorithm, it is known that the following two sets are equal.  \n",
    "$$\\{ap + bq: a,b\\in \\mathcal{P}\\} = \\{ag: a\\in\\mathcal{P}\\},$$\n",
    "where $\\mathcal{P}$ is the set of all polynomials.  "
   ]
  },
  {
   "cell_type": "markdown",
   "metadata": {},
   "source": [
    "A refined version is as follows.  \n",
    "Let $p$ and $q$ be two polynomials of degree $m$ and $n$, respectively.  \n",
    "Then  \n",
    "$$\\{ap + bq \\in\\mathcal{P}_{m+n}: a\\in\\mathcal{P}_{n-1},b\\in\\mathcal{P}_{m-1}\\} = \\{ag \\in\\mathcal{P}_{m+n}: a\\in\\mathcal{P}\\}.$$"
   ]
  },
  {
   "cell_type": "markdown",
   "metadata": {},
   "source": [
    "Given two polynomials $p, q$ of degrees $m,n$, consider the function  \n",
    "$$\\begin{array}{rccc}\n",
    " f : & \\mathcal{P}_{n-1} \\times \\mathcal{P}_{m-1} & \\rightarrow & \\mathcal{P}_{m+n-1} \\\\\n",
    " & (a,b) & \\mapsto & ap + bq \\\\\n",
    "\\end{array},$$\n",
    "which is linear.  \n",
    "Thus,  \n",
    "$$\\range(f) = \\{ap + bq \\in\\mathcal{P}_{m+n-1}: a\\in\\mathcal{P}_{n-1},b\\in\\mathcal{P}_{m-1}\\} = \\{ag \\in\\mathcal{P}_{m+n-1}: a\\in\\mathcal{P}\\},$$\n",
    "where $g = \\gcd(p,q)$.  \n",
    "Therefore, $f$ is surjective if and only if $\\gcd(p,q) = 1$.  "
   ]
  },
  {
   "cell_type": "markdown",
   "metadata": {},
   "source": [
    "Let $\\alpha_q = \\{1,\\ldots, x^{n-1}\\}$ and $\\alpha_q = \\{1,\\ldots, x^{m-1}\\}$ be the standard bases of $\\mathcal{P}_{n-1}$ and $\\mathcal{P}_{m-1}$.  \n",
    "Let \n",
    "$$\\alpha = \\{(a,0): a\\in\\alpha_p\\} \\cup \\{(0,b) : b\\in\\alpha_q\\}.$$  \n",
    "Then $\\alpha$ is a basis of $\\mathcal{P}_{n-1}\\times\\mathcal{P}_{m-1}$.  \n",
    "On the other hand, let $\\beta$ be the standard basis of $\\mathcal{P}_{m+n-1}$.  "
   ]
  },
  {
   "cell_type": "markdown",
   "metadata": {},
   "source": [
    "Construct the $(m + n)\\times (m + n)$ matrix   \n",
    "$$S_{p,q} = \\begin{bmatrix}  \n",
    " | & ~ & | & | & ~ & | \\\\\n",
    " [p]_\\beta & \\cdots & [x^{n-1}p]_\\beta & [q]_\\beta & \\cdots & [x^{m-1}q]_\\beta \\\\\n",
    " | & ~ & | & | & ~ & | \\\\\n",
    "\\end{bmatrix}.$$  \n",
    "Then $S_{p,q} = [f]_\\alpha^\\beta$ and is called the **Sylvester matrix** of $p$ and $q$.  \n",
    "The determinant of $S_{p,q}$ is called the **resultant** of $p$ and $q$, denoted as $\\operatorname{res}(p,q)$.  \n",
    "(We have not learnt the properties of the determinant, but at least it make senses when $S_{p,q}$ is a small matrix.)  "
   ]
  },
  {
   "cell_type": "markdown",
   "metadata": {},
   "source": [
    "Let $p,q$ be two polynomials.  \n",
    "Let $S_{p,q}$ their Sylvester matrix and $\\operatorname{res}(p,q)$ the resultant.  \n",
    "Then the following are equivalent:  \n",
    "1. $\\gcd(p,q) = 1$.\n",
    "2. $f$ is surjective.  \n",
    "3. $f$ is injective.  \n",
    "4. $S_{p,q}$ is invertible.  \n",
    "5. $\\operatorname{res}(p,q)\\neq 0$.  "
   ]
  },
  {
   "cell_type": "markdown",
   "metadata": {},
   "source": [
    "## Side stories\n",
    "- gcd by row operations\n",
    "- multiple root"
   ]
  },
  {
   "cell_type": "markdown",
   "metadata": {},
   "source": [
    "## Experiments"
   ]
  },
  {
   "cell_type": "markdown",
   "metadata": {},
   "source": [
    "##### Exercise 1\n",
    "\n",
    "執行以下程式碼。  \n",
    "\n",
    "<!-- eng start -->\n",
    "Run the code below.  \n",
    "<!-- eng end -->"
   ]
  },
  {
   "cell_type": "code",
   "execution_count": null,
   "metadata": {
    "scrolled": true
   },
   "outputs": [],
   "source": [
    "### code\n",
    "set_random_seed(0)\n",
    "print_ans = False\n",
    "m,n = 2,3\n",
    "p = vtop(vector(random_int_list(m+1)))\n",
    "q = vtop(vector(random_int_list(n+1)))\n",
    "\n",
    "print(\"p =\", p)\n",
    "print(\"q =\", q)\n",
    "\n",
    "A = syl(p,q)\n",
    "\n",
    "if print_ans:\n",
    "    print(\"alpha = {(1,0), (x,0), (x^2,0), (0,1), (0,x)}\")\n",
    "    print(\"beta = {1, x, x^2, x^3, x^4}\")\n",
    "    print(\"Spq =\")\n",
    "    show(A)\n",
    "    print(\"gcd(p,q) = 1?\", (A.determinant() != 0))"
   ]
  },
  {
   "cell_type": "markdown",
   "metadata": {},
   "source": [
    "##### Exercise 1(a)\n",
    "\n",
    "寫出 $\\mathcal{P}_2\\times\\mathcal{P}_1$ 的標準基底 $\\alpha$、  \n",
    "以及 $\\mathcal{P}_4$ 的標準基底 $\\beta$。  \n",
    "\n",
    "<!-- eng start -->\n",
    "Find the standard basis $\\alpha$ of $\\mathcal{P}_2\\times\\mathcal{P}_1$ and the standard basis $\\beta$ of $\\mathcal{P}_4$.  \n",
    "<!-- eng end -->"
   ]
  },
  {
   "cell_type": "markdown",
   "metadata": {},
   "source": [
    "##### Exercise 1(b)\n",
    "\n",
    "寫出 $p$ 與 $q$ 的西爾維斯特矩陣 $A$。  \n",
    "\n",
    "<!-- eng start -->\n",
    "Find the Sylvester matrix $A$ of $p$ and $q$.  \n",
    "<!-- eng end -->"
   ]
  },
  {
   "cell_type": "markdown",
   "metadata": {},
   "source": [
    "##### Exercise 1(c)\n",
    "\n",
    "判斷 $p,q$ 是否互質。  \n",
    "\n",
    "<!-- eng start -->\n",
    "Determine if $\\gcd(p,q) = 1$.  \n",
    "<!-- eng end -->"
   ]
  },
  {
   "cell_type": "markdown",
   "metadata": {},
   "source": [
    "## Exercises"
   ]
  },
  {
   "cell_type": "markdown",
   "metadata": {},
   "source": [
    "##### Exercise 2\n",
    "\n",
    "對以下的 $p$ 和 $q$﹐利用西爾維斯特矩陣判斷它們是否互質。  \n",
    "\n",
    "<!-- eng start -->\n",
    "For each pair of the following $p$ and $q$, find the Sylvester matrix of them and determine if $\\gcd(p,q) = 1$.  \n",
    "<!-- eng end -->"
   ]
  },
  {
   "cell_type": "markdown",
   "metadata": {},
   "source": [
    "##### Exercise 2(a)\n",
    "\n",
    "$$\n",
    "    \\begin{aligned}\n",
    "    p &= 1 + 2x + x^2, \\\\\n",
    "    q &= 2 + x.\n",
    "    \\end{aligned}\n",
    "$$"
   ]
  },
  {
   "cell_type": "markdown",
   "metadata": {},
   "source": [
    "##### Exercise 2(b)\n",
    "\n",
    "$$\n",
    "    \\begin{aligned}\n",
    "    p &= 1 + 2x + x^2, \\\\\n",
    "    q &= 2 + 3x + x^2.\n",
    "    \\end{aligned}\n",
    "$$"
   ]
  },
  {
   "cell_type": "markdown",
   "metadata": {},
   "source": [
    "##### Exercise 2(c)\n",
    "\n",
    "$$\n",
    "    \\begin{aligned}\n",
    "    p &= 1 + 2x + x^2, \\\\\n",
    "    q &= 6 + 11x + 6x^2 + x^3.\n",
    "    \\end{aligned}\n",
    "$$"
   ]
  },
  {
   "cell_type": "markdown",
   "metadata": {},
   "source": [
    "##### Exercise 3\n",
    "\n",
    "說明西爾維斯特矩陣 $S_{p,q}$ 就是 $[f]_\\alpha^\\beta$。  \n",
    "\n",
    "<!-- eng start -->\n",
    "Show that the Sylvester matrix $S_{p,q}$ is indeed $[f]_\\alpha^\\beta$.  \n",
    "<!-- eng end -->"
   ]
  },
  {
   "cell_type": "markdown",
   "metadata": {},
   "source": [
    "##### Exercise 4\n",
    "\n",
    "執行以下程式碼。  \n",
    "嘗試各種不同的 $p,q$。  \n",
    "令 $A$ 為它們的西爾維斯特矩陣﹐  \n",
    "將 $A$ 左上和右下翻轉後得到 $B$。  \n",
    "令 $R$ 為 $B$ 的最簡階梯形式矩陣。  \n",
    "觀察 $\\gcd(p,q)$ 和 $R$ 的關係﹐並說明為什麼。  \n",
    "\n",
    "<!-- eng start -->\n",
    "Run the code below.  Try different choices of $p$ and $q$.  Let $A$ be their Sylvester matrix and $B$ the matrix obtained from $A$ by flipping along the skew diagonal (the one from bottom-left to top-right).  Let $R$ be the reduced echelon form of $B$.  Find a relation between $\\gcd(p,q)$ and $R$ and provide your reasons.  \n",
    "<!-- eng end -->"
   ]
  },
  {
   "cell_type": "code",
   "execution_count": null,
   "metadata": {},
   "outputs": [],
   "source": [
    "p = 1 + x\n",
    "q = 1 + 2*x + x**2\n",
    "A = syl(p,q)\n",
    "B = A.antitranspose()\n",
    "R = B.rref()\n",
    "print(\"A =\")\n",
    "show(A)\n",
    "print(\"B =\")\n",
    "show(B)\n",
    "print(\"R =\")\n",
    "show(R)\n",
    "print(\"gcd =\", p.polynomial(QQ).gcd(q.polynomial(QQ)))"
   ]
  },
  {
   "cell_type": "markdown",
   "metadata": {},
   "source": [
    "##### Exercise 5\n",
    "\n",
    "令 $p,q$ 為兩多項式且 $g = \\gcd(p,q)$。  \n",
    "證明  \n",
    "\n",
    "$$\n",
    "    \\{ap + bq: a,b\\in \\mathcal{P}\\} = \\{ag: a\\in\\mathcal{P}\\}.\n",
    "$$  \n",
    "\n",
    "<!-- eng start -->\n",
    "Let $p$ and $q$ be polynomials and $g = \\gcd(p,q)$.  Show that  \n",
    "\n",
    "$$\n",
    "    \\{ap + bq: a,b\\in \\mathcal{P}\\} = \\{ag: a\\in\\mathcal{P}\\}.\n",
    "$$  \n",
    "<!-- eng end -->"
   ]
  }
 ],
 "metadata": {
  "kernelspec": {
   "display_name": "SageMath 9.6",
   "language": "sage",
   "name": "sagemath"
  },
  "language_info": {
   "codemirror_mode": {
    "name": "ipython",
    "version": 3
   },
   "file_extension": ".py",
   "mimetype": "text/x-python",
   "name": "python",
   "nbconvert_exporter": "python",
   "pygments_lexer": "ipython3",
   "version": "3.10.6"
  }
 },
 "nbformat": 4,
 "nbformat_minor": 4
}
