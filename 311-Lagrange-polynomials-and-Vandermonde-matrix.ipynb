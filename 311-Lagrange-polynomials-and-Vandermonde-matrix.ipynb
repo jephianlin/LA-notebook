{
 "cells": [
  {
   "cell_type": "markdown",
   "metadata": {},
   "source": [
    "# 拉格朗日多項式、凡德孟矩陣"
   ]
  },
  {
   "cell_type": "markdown",
   "metadata": {},
   "source": [
    "![Creative Commons License](https://i.creativecommons.org/l/by/4.0/88x31.png)  \n",
    "This work by Jephian Lin is licensed under a [Creative Commons Attribution 4.0 International License](http://creativecommons.org/licenses/by/4.0/)."
   ]
  },
  {
   "cell_type": "code",
   "execution_count": null,
   "metadata": {},
   "outputs": [],
   "source": [
    "from lingeo import random_int_list\n",
    "from linspace import vtop, ptov, lagrange_polynomials"
   ]
  },
  {
   "cell_type": "markdown",
   "metadata": {},
   "source": [
    "## Main idea"
   ]
  },
  {
   "cell_type": "markdown",
   "metadata": {},
   "source": [
    "Consider the vector space $\\mathcal{P}_d$.  \n",
    "Let $\\alpha = \\{1, \\ldots, x^d\\}$ be the standard basis of $\\mathcal{P}_d$.  \n",
    "Pick $d+1$ _distinct_ values $\\lambda_0,\\ldots,\\lambda_{d}\\in\\mathbb{R}$.  \n",
    "Define  \n",
    "$$f_i = \\frac{ \\displaystyle\\prod_{\\substack{k\\in\\{0,\\ldots,d\\} \\\\ k \\neq i }} (x - \\lambda_k) }\n",
    "{ \\displaystyle\\prod_{\\substack{k\\in\\{0,\\ldots,d\\} \\\\ k \\neq i }} (\\lambda_i - \\lambda_k) }.$$  \n",
    "Thus, each $f_i$ is a polynomial of degree $d$ such that $f_i(\\lambda_i) = 1$ and $f_i(\\lambda_k) = 0$ for all $k\\neq i$.  \n",
    "A polynomial of this form is called a **Lagrange polynomial**.  \n",
    "Meanwhile, $\\beta = \\{f_0,\\ldots,f_d\\}$ is a basis of $\\mathcal{P}_d$ and is called the **Lagrange basis** with respect to $\\lambda_0,\\ldots,\\lambda_d$.  "
   ]
  },
  {
   "cell_type": "markdown",
   "metadata": {},
   "source": [
    "##### Lagrange interpolation\n",
    "\n",
    "Let $\\lambda_0,\\ldots,\\lambda_d$ be distinct real numbers and $\\beta = \\{f_0,\\ldots,f_d\\}$ the corresponding Lagrange polynomials.  \n",
    "Then every polynomial $p$ in $\\mathcal{P}_d$ has a unique way to be written as a linear combination of $\\beta$.  \n",
    "Indeed,  \n",
    "$$p = p(\\lambda_0)f_0 + \\cdots + p(\\lambda_d)f_d.$$  \n",
    "In other words, $[p]_\\beta = ( p(\\lambda_0), \\ldots, p(\\lambda_d) )$ is the vector that records the evaluations of $p$ at $\\lambda_0,\\ldots,\\lambda_d$."
   ]
  },
  {
   "cell_type": "markdown",
   "metadata": {},
   "source": [
    "Let $\\lambda_0,\\ldots,\\lambda_d$ be distinct real numbers.  \n",
    "A $(d+1)\\times (d+1)$ matrix of the form  \n",
    "$$A = \\begin{bmatrix} \n",
    " 1 & \\lambda_0 & \\cdots & \\lambda_0^d \\\\\n",
    " 1 & \\lambda_1 & \\cdots & \\lambda_1^d \\\\\n",
    " \\vdots & \\vdots &  & \\vdots \\\\\n",
    " 1 & \\lambda_d & \\cdots & \\lambda_d^d \\\\\n",
    "\\end{bmatrix}$$  \n",
    "is called a **Vandermonde matrix**.  \n",
    "\n",
    "When the considered space is $\\mathcal{P}_d$, \n",
    "$\\alpha$ is its standard basis, and  \n",
    "$\\beta$ is the Lagrange basis with respect to $\\lambda_0,\\ldots,\\lambda_d$,  \n",
    "the change of basis matrix $[\\operatorname{id}]_\\alpha^\\beta$ is the Vandermonde matrix with respect to $\\lambda_0,\\ldots,\\lambda_d$.  \n",
    "Therefore, a Vandermonde matrix is always invertible.  "
   ]
  },
  {
   "cell_type": "markdown",
   "metadata": {},
   "source": [
    "Suppose the evaluations of a polynomial are known on $\\lambda_0,\\ldots,\\lambda_d$.  \n",
    "That is, $[p]_\\beta = ( p(\\lambda_0), \\ldots, p(\\lambda_d) )$ is known.  \n",
    "Then $p = c_0 + c_1x + \\cdots + c_dx^d$ is uniquely determined by  \n",
    "$[p]_\\alpha = (c_0,\\ldots,c_d)$ and $([\\operatorname{id}]_\\alpha^\\beta)^{-1}[p]_\\beta$.  "
   ]
  },
  {
   "cell_type": "markdown",
   "metadata": {},
   "source": [
    "## Side stories\n",
    "- determinant of a Vandermonde matrix"
   ]
  },
  {
   "cell_type": "markdown",
   "metadata": {},
   "source": [
    "## Experiments"
   ]
  },
  {
   "cell_type": "markdown",
   "metadata": {},
   "source": [
    "##### Exercise 1\n",
    "\n",
    "執行以下程式碼。  \n",
    "令 $\\alpha$ 為 $\\mathcal{P}_2$ 的標準基底。  \n",
    "令 $\\beta$ 為下述 $\\lambda_0,\\ldots,\\lambda_2$ 的拉格朗日基底。  "
   ]
  },
  {
   "cell_type": "code",
   "execution_count": null,
   "metadata": {
    "scrolled": true
   },
   "outputs": [],
   "source": [
    "### code\n",
    "set_random_seed(0)\n",
    "print_ans = False\n",
    "d = 2\n",
    "v = vector(random_int_list(d+1))\n",
    "p = vtop(v)\n",
    "while True:\n",
    "    lambdas = random_int_list(d+1, 3)\n",
    "    if len(set(lambdas)) == len(lambdas):\n",
    "        break\n",
    "\n",
    "print(\"lambda_0, ..., lambda_%s =\"%d + \" \" + \", \".join(\"%s\"%lambdas[i] for i in range(d+1)))\n",
    "print(\"p =\", p)\n",
    "\n",
    "if print_ans:\n",
    "    print(\"[p]_alpha =\", v)\n",
    "    print(\"[p]_beta =\", vector(p.subs(x=lambdas[i]) for i in range(d+1)))\n",
    "    A = matrix.vandermonde(lambdas)\n",
    "    print(\"A =\")\n",
    "    show(A)\n",
    "    print(\"beta contains the following polynomials\")\n",
    "    beta = lagrange_polynomials(lambdas)\n",
    "    for i in range(d+1):\n",
    "        print(beta[i])\n",
    "    print(\"A inverse =\")\n",
    "    show(A.inverse())"
   ]
  },
  {
   "cell_type": "markdown",
   "metadata": {},
   "source": [
    "##### Exercise 1(a)\n",
    "\n",
    "寫出相對應的凡德孟矩陣 $A$。  "
   ]
  },
  {
   "cell_type": "markdown",
   "metadata": {},
   "source": [
    "##### Exercise 1(b)\n",
    "\n",
    "求出 $[p]_\\alpha$ 及 $[p]_\\beta$ 並驗證 $A[p]_\\alpha = [p]_\\beta$。  "
   ]
  },
  {
   "cell_type": "markdown",
   "metadata": {},
   "source": [
    "##### Exercise 1(c)\n",
    "\n",
    "寫出相對應的拉格朗日基底 $\\beta$、並求出凡德孟矩陣的反矩陣。  "
   ]
  },
  {
   "cell_type": "markdown",
   "metadata": {},
   "source": [
    "## Exercises"
   ]
  },
  {
   "cell_type": "markdown",
   "metadata": {},
   "source": [
    "##### Exercise 2\n",
    "\n",
    "以下小題說明給定一個次數小於等於 $d$ 的多項式 $p$  \n",
    "以及它在 $d+1$ 個相異點 $\\lambda_0,\\ldots,\\lambda_d$ 上的函數值 $p(\\lambda_0),\\ldots,p(\\lambda_d)$﹐  \n",
    "可以唯一決定多項式 $p$。  "
   ]
  },
  {
   "cell_type": "markdown",
   "metadata": {},
   "source": [
    "##### Exercise 2(a)\n",
    "\n",
    "令 $p = c_0 + c_1x + c_2x^2$ 為一多項式。  \n",
    "已知 $p(1) = 1$, $p(2) = 2$, $p(3) = 3$。  \n",
    "說明這些條件等同於  \n",
    "$$\\begin{aligned}  \n",
    " c_0 + c_1 + c_2 &= 1, \\\\\n",
    " c_0 + 2c_1 + 4c_2 &= 2, \\\\\n",
    " c_0 + 3c_1 + 9c_2 &= 3, \\\\ \n",
    "\\end{aligned}$$  \n",
    "並解出 $p$。  "
   ]
  },
  {
   "cell_type": "markdown",
   "metadata": {},
   "source": [
    "##### Exercise 2(b)\n",
    "\n",
    "令 $\\lambda_0,\\ldots,\\lambda_d$ 為 $d+1$ 個相異實數。  \n",
    "令 $y_0,\\ldots, y_d$ 任意$d+1$ 個實數（可能相等）。  \n",
    "利用凡德孟矩陣可逆的性質﹐證明方程組  \n",
    "$$\\begin{array}{rcl}\n",
    " c_0 + \\lambda_0c_1 + \\cdots + \\lambda_0^dc_d &= &y_0 \\\\\n",
    " c_0 + \\lambda_1c_1 + \\cdots + \\lambda_1^dc_d &= &y_1 \\\\\n",
    " &\\vdots &  \\\\\n",
    " c_0 + \\lambda_dc_1 + \\cdots + \\lambda_d^dc_d &= &y_d \\\\\n",
    "\\end{array}$$\n",
    "必定有唯一解。  \n"
   ]
  },
  {
   "cell_type": "markdown",
   "metadata": {},
   "source": [
    "##### Exercise 3\n",
    "\n",
    "依照以下步驟說明拉格朗日基底確實一組基底。 \n",
    "\n",
    "考慮向量空間 $\\mathcal{P}_d$。  \n",
    "給定 $d+1$ 個相異實數 $\\lambda_0,\\ldots,\\lambda_d$。  \n",
    "令 $\\beta = \\{f_0, \\ldots, f_d\\}$ 為其對應的拉格基底。  "
   ]
  },
  {
   "cell_type": "markdown",
   "metadata": {},
   "source": [
    "##### Exercise 3(a)\n",
    "\n",
    "令 $p\\in\\mathcal{P}_d$。  \n",
    "說明 $p$ 可以寫成 $\\beta$ 的線性組合。  "
   ]
  },
  {
   "cell_type": "markdown",
   "metadata": {},
   "source": [
    "##### Exercise 3(b)\n",
    "\n",
    "證明 $\\beta$ 線性獨立。  \n",
    "（令 $c_0f_0 + \\cdots + c_df_d = 0$﹐  \n",
    "依序將等號兩側代入 $x = \\lambda_0,\\ldots, \\lambda_d$。）  "
   ]
  },
  {
   "cell_type": "markdown",
   "metadata": {},
   "source": [
    "##### Exercise 4\n",
    "\n",
    "考慮向量空間 $\\mathcal{P}_d$。  \n",
    "令 $\\alpha$ 和 $\\beta$ 分別為其標準基底和拉格朗日基底。  \n",
    "令 $A = [\\operatorname{id}]_\\alpha^\\beta$。  \n",
    "說明 $A^{-1}$ 的各行向量就是把 $\\beta$ 中的各多項式展開的係數。  "
   ]
  },
  {
   "cell_type": "markdown",
   "metadata": {},
   "source": [
    "##### Exercise 5\n",
    "\n",
    "令 $\\lambda_1,\\ldots,\\lambda_n$ 為 $n$ 個相異實數。  \n",
    "令 $V$ 為一向量空間而 $\\gamma = \\{{\\bf u}_1, \\ldots, {\\bf u}_n\\}$ 為任意 $n$ 個非零向量。  \n",
    "假設已知  \n",
    "$$\\begin{array}{rcl}\n",
    " c_1{\\bf u}_1 + \\cdots + c_n{\\bf u}_n &= &{\\bf 0}, \\\\\n",
    " &\\vdots &  \\\\\n",
    " c_1\\lambda_1^{n-1}{\\bf u}_1 + \\cdots + c_n\\lambda_n^{n-1}{\\bf u}_d &= &{\\bf 0}. \\\\\n",
    "\\end{array}$$\n",
    "證明 $c_1 = \\cdots = c_n = 0$。  \n",
    "（找一個多項式 $f$ 使得 $f(\\lambda_1) = 1$ 且對所有的 $k\\neq 1$ 都有 $f(\\lambda_k) = 0$。  \n",
    "將 $f$ 展開寫成 $f_0 = a_0 + a_1x + \\cdots + a_{n-1}x^{n-1}$。  \n",
    "從最上面往下﹐每一列分別乘以 $a_0,\\ldots, a_n$ 後加起來﹐藉此得到 $c_1 = 0$。  \n",
    "用類似手法說明其它係數也是 $0$。） "
   ]
  },
  {
   "cell_type": "markdown",
   "metadata": {},
   "source": [
    "##### Exercise 6\n",
    "\n",
    "若 $A$ 是實數 $\\lambda_0,\\ldots,\\lambda_d$ 對應的凡德孟矩陣。  \n",
    "證明當 $d = 1,2$ 時﹐  \n",
    "$$\\det(A) = \\prod_{i<j}(\\lambda_i - \\lambda_j).$$\n",
    "（實際上這個公式對所有大小的凡德孟矩陣都對。）  "
   ]
  }
 ],
 "metadata": {
  "kernelspec": {
   "display_name": "SageMath 9.0",
   "language": "sage",
   "name": "sagemath"
  },
  "language_info": {
   "codemirror_mode": {
    "name": "ipython",
    "version": 3
   },
   "file_extension": ".py",
   "mimetype": "text/x-python",
   "name": "python",
   "nbconvert_exporter": "python",
   "pygments_lexer": "ipython3",
   "version": "3.8.10"
  }
 },
 "nbformat": 4,
 "nbformat_minor": 4
}
