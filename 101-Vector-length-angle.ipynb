{
 "cells": [
  {
   "cell_type": "markdown",
   "metadata": {},
   "source": [
    "# 向量、長度、角度\n",
    "\n",
    "Vector, length, and angle"
   ]
  },
  {
   "cell_type": "markdown",
   "metadata": {},
   "source": [
    "![Creative Commons License](https://i.creativecommons.org/l/by/4.0/88x31.png)  \n",
    "This work by Jephian Lin is licensed under a [Creative Commons Attribution 4.0 International License](http://creativecommons.org/licenses/by/4.0/)."
   ]
  },
  {
   "cell_type": "markdown",
   "metadata": {},
   "source": [
    "$\\newcommand{\\trans}{^\\top}\n",
    "\\newcommand{\\adj}{^{\\rm adj}}\n",
    "\\newcommand{\\cof}{^{\\rm cof}}\n",
    "\\newcommand{\\inp}[2]{\\left\\langle#1,#2\\right\\rangle}\n",
    "\\newcommand{\\dunion}{\\mathbin{\\dot\\cup}}\n",
    "\\newcommand{\\bzero}{\\mathbf{0}}\n",
    "\\newcommand{\\bone}{\\mathbf{1}}\n",
    "\\newcommand{\\ba}{\\mathbf{a}}\n",
    "\\newcommand{\\bb}{\\mathbf{b}}\n",
    "\\newcommand{\\bc}{\\mathbf{c}}\n",
    "\\newcommand{\\bd}{\\mathbf{d}}\n",
    "\\newcommand{\\be}{\\mathbf{e}}\n",
    "\\newcommand{\\bh}{\\mathbf{h}}\n",
    "\\newcommand{\\bp}{\\mathbf{p}}\n",
    "\\newcommand{\\bq}{\\mathbf{q}}\n",
    "\\newcommand{\\br}{\\mathbf{r}}\n",
    "\\newcommand{\\bx}{\\mathbf{x}}\n",
    "\\newcommand{\\by}{\\mathbf{y}}\n",
    "\\newcommand{\\bz}{\\mathbf{z}}\n",
    "\\newcommand{\\bu}{\\mathbf{u}}\n",
    "\\newcommand{\\bv}{\\mathbf{v}}\n",
    "\\newcommand{\\bw}{\\mathbf{w}}\n",
    "\\newcommand{\\tr}{\\operatorname{tr}}\n",
    "\\newcommand{\\nul}{\\operatorname{null}}\n",
    "\\newcommand{\\rank}{\\operatorname{rank}}\n",
    "%\\newcommand{\\ker}{\\operatorname{ker}}\n",
    "\\newcommand{\\range}{\\operatorname{range}}\n",
    "\\newcommand{\\Col}{\\operatorname{Col}}\n",
    "\\newcommand{\\Row}{\\operatorname{Row}}\n",
    "\\newcommand{\\spec}{\\operatorname{spec}}\n",
    "\\newcommand{\\vspan}{\\operatorname{span}}\n",
    "\\newcommand{\\Vol}{\\operatorname{Vol}}\n",
    "\\newcommand{\\sgn}{\\operatorname{sgn}}\n",
    "\\newcommand{\\idmap}{\\operatorname{id}}\n",
    "\\newcommand{\\am}{\\operatorname{am}}\n",
    "\\newcommand{\\gm}{\\operatorname{gm}}\n",
    "\\newcommand{\\mult}{\\operatorname{mult}}\n",
    "\\newcommand{\\iner}{\\operatorname{iner}}$"
   ]
  },
  {
   "cell_type": "code",
   "execution_count": null,
   "metadata": {},
   "outputs": [],
   "source": [
    "from lingeo import random_int_vec, draw_two_vec"
   ]
  },
  {
   "cell_type": "markdown",
   "metadata": {},
   "source": [
    "## Main idea"
   ]
  },
  {
   "cell_type": "markdown",
   "metadata": {},
   "source": [
    "A **vector** over $\\mathbb{R}$ of dimension $n$ is a sequence $\\bx = (x_1, \\ldots, x_n)$ of numbers in $\\mathbb{R}$.  \n",
    "(In contrast, we often call a number in $\\mathbb{R}$ a **scalar**.)\n",
    "\n",
    "The collection of all vectors over $\\mathbb{R}$ of dimension $n$ is denoted by $\\mathbb{R}^n$.  \n",
    "We often use $\\bzero$ and $\\bone$ to refer to $(0,\\ldots,0)$ and $(1,\\ldots,1)$ of appropriate dimensions, respectively.\n",
    "\n",
    "The **length** of a vector $\\bx = (x_1,\\ldots, x_n)$ is defined as  \n",
    "\n",
    "$$\n",
    "    \\|\\bx\\| = \\sqrt{x_1^2 + \\cdots + x_n^2}.\n",
    "$$\n",
    "\n",
    "The **inner product** of two vectors $\\bx = (x_1, \\ldots, x_n)$ and $\\by = (y_1, \\ldots, y_n)$ is defined as  \n",
    "$$\n",
    "    \\inp{\\bx}{\\by} = x_1y_1 + \\cdots + x_ny_n.\n",
    "$$"
   ]
  },
  {
   "cell_type": "markdown",
   "metadata": {},
   "source": [
    "We have the following properties:  \n",
    "1. $\\|\\bx\\| \\geq 0$ and the equality holds if and only if $\\bx = \\bzero$.\n",
    "2. $\\|k\\bx\\| = |k|\\cdot\\|\\bx\\|$.\n",
    "3. $\\|\\bx\\| + \\|\\by\\| \\geq \\|\\bx - \\by\\|$ (triangle inequality).\n",
    "4. $\\|\\bx\\|^2 = \\inp{\\bx}{\\bx}$.\n",
    "5. $\\inp{\\bx_1 + \\bx_2}{\\by} = \\inp{\\bx_1}{\\by} + \\inp{\\bx_2}{\\by}$.\n",
    "6. $\\inp{k\\bx}{\\by} = k\\inp{\\bx}{\\by}$.\n",
    "7. $\\inp{\\bx}{\\by} = \\inp{\\by}{\\bx}$.\n",
    "8. $|\\inp{\\bx}{\\by}| \\leq \\|\\bx\\|\\cdot \\|\\by\\|$ (Cauchy–Schwarz inequality).  "
   ]
  },
  {
   "cell_type": "markdown",
   "metadata": {},
   "source": [
    "Thanks to the Cauchy–Schwarz inequality, we define the **angle** between two vectors $\\bx$ and $\\by$ as the angle $\\theta$ such that $\\cos\\theta = \\frac{\\inp{\\bx}{\\by}}{\\|\\bx\\|\\|\\by\\|}$.  \n",
    "We say $\\bx$ and $\\by$ are **orthogonal** if $\\inp{\\bx}{\\by} = 0$."
   ]
  },
  {
   "cell_type": "markdown",
   "metadata": {},
   "source": [
    "## Side stories\n",
    "- cosine law\n",
    "- orthogonal\n",
    "- projection"
   ]
  },
  {
   "cell_type": "markdown",
   "metadata": {},
   "source": [
    "## Experiments"
   ]
  },
  {
   "cell_type": "markdown",
   "metadata": {},
   "source": [
    "##### Exercise 1\n",
    "執行下方程式碼。  \n",
    "令 $O$ 為原點、  \n",
    "$A$ 和 $B$ 分別為 `x`, `y` 的向量終點。  \n",
    "（可以選用自己喜好的 `ramdom_seed`）\n",
    "\n",
    "<!-- eng start -->\n",
    "Run the code below.  Let $A$ and $B$ be the head of `x` and `y` , respectively.\n",
    "\n",
    "(You may choose `ramdom_seed` as any integer.)\n",
    "<!-- eng end -->"
   ]
  },
  {
   "cell_type": "code",
   "execution_count": null,
   "metadata": {},
   "outputs": [],
   "source": [
    "### code\n",
    "set_random_seed(0)\n",
    "print_ans = False\n",
    "x = random_int_vec(6)\n",
    "y = random_int_vec(6)\n",
    "print(\"x =\", x)\n",
    "print(\"y =\", y)\n",
    "pic = draw_two_vec(x, y)\n",
    "pic.axes(False)\n",
    "show(pic)\n",
    "\n",
    "if print_ans:\n",
    "    print(\"OA =\", x.norm())\n",
    "    print(\"OB =\", y.norm())\n",
    "    print(\"AB =\", (x-y).norm())\n",
    "    cos_cos = (x.norm()**2 + y.norm()**2 - (x-y).norm()**2) / 2 / x.norm() / y.norm()\n",
    "    cos_inner = x.inner_product(y) / x.norm() / y.norm()\n",
    "    print(\"cos by cos law =\", \n",
    "          cos_cos, \"=\", \n",
    "          N(cos_cos))\n",
    "    print(\"cos by inner product =\", \n",
    "          cos_inner, \"=\", \n",
    "          N(cos_inner))"
   ]
  },
  {
   "cell_type": "markdown",
   "metadata": {},
   "source": [
    "##### Exercise 1(a)\n",
    "計算 $\\overline{OA}$、$\\overline{OB}$、和 $\\overline{AB}$ 的長度，  \n",
    "並利用**餘絃定理**來計算 $\\cos\\angle AOB$。  \n",
    "\n",
    "<!-- eng start -->\n",
    "Find the length of $\\overline{OA}$, $\\overline{OB}$, and $\\overline{AB}$.  Then find $\\cos\\angle AOB$ by the cosine law.\n",
    "<!-- eng end -->"
   ]
  },
  {
   "cell_type": "markdown",
   "metadata": {},
   "source": [
    "##### Exercise 1(b)\n",
    "令 $\\theta$ 為 `x`, `y` 之間用內積定出來的夾角﹐  \n",
    "求 $\\cos\\theta$。  \n",
    "\n",
    "<!-- eng start -->\n",
    "Let $\\theta$ be the angle between `x` and `y` .  Find $\\cos\\theta$.\n",
    "<!-- eng end -->"
   ]
  },
  {
   "cell_type": "markdown",
   "metadata": {},
   "source": [
    "##### Exercise 1(c)\n",
    "\n",
    "前兩題算出來總是一樣嗎？  \n",
    "請用代數的方法證明。\n",
    "\n",
    "<!-- eng start -->\n",
    "Are the results from the previous two problems the same?  Do some algebra to prove it.\n",
    "<!-- eng end -->"
   ]
  },
  {
   "cell_type": "markdown",
   "metadata": {},
   "source": [
    "Sample:  \n",
    "It is known that $\\overline{OA} = \\|\\bx\\|$, $\\overline{OB} = \\|\\by\\|$, and $\\overline{AB} = \\|\\bx - \\by\\|$.  \n",
    "Thus,  \n",
    "$\\frac{\\overline{OA}^2 + \\overline{OB}^2 - \\overline{AB}^2}{2\\overline{OA}\\cdot \\overline{OB}}$  \n",
    "$ = \\cdots $  \n",
    "$\\frac{\\inp{\\bx}{\\by}}{\\|\\bx\\|\\|\\by\\|}$."
   ]
  },
  {
   "cell_type": "markdown",
   "metadata": {},
   "source": [
    "## Exercises"
   ]
  },
  {
   "cell_type": "markdown",
   "metadata": {},
   "source": [
    "##### Exercise 2\n",
    "\n",
    "將每個向量都展開  \n",
    "（像是 $\\bx = (x_1,\\ldots, x_n)$）﹐  \n",
    "把每個長度和內積的定義也都展開。  \n",
    "證明 Main idea 中最後列出來的那些性質  \n",
    "（除了三角不等式和柯西不等式以外）。\n",
    "\n",
    "<!-- eng start -->\n",
    "Write down each vector by its entries, such as $\\bx = (x_1, \\ldots, x_n)$.  Also, write down the formula of the lengths and the inner product of vectors by their entries.  Prove the properties listed in Main idea (except for the triangle inequality and the Cauchy–Schwarz inequality.\n",
    "<!-- eng end -->"
   ]
  },
  {
   "cell_type": "markdown",
   "metadata": {},
   "source": [
    "##### Exercise 3\n",
    "\n",
    "證明 $\\|\\bx \\pm \\by\\|^2 = \\|\\bx\\|^2 \\pm 2\\inp{\\bx}{\\by} + \\|\\by\\|^2$。\n",
    "\n",
    "<!-- eng start -->\n",
    "Prove $\\|\\bx \\pm \\by\\|^2 = \\|\\bx\\|^2 \\pm 2\\inp{\\bx}{\\by} + \\|\\by\\|^2$.\n",
    "<!-- eng end -->"
   ]
  },
  {
   "cell_type": "markdown",
   "metadata": {},
   "source": [
    "##### Exercise 4\n",
    "\n",
    "給定兩個向量 $\\bx,\\by$。  \n",
    "若 $\\by$ 可以寫成兩個分量相加 $\\by = \\bh + \\bw$﹐  \n",
    "其中 $\\bh$ 和 $\\bx$ 垂直（所以 $\\inp{\\bh}{\\bx} = 0$）、  \n",
    "而 $\\bw$ 和 $\\bx$ 平行（所以 $\\bw = k\\bx$)﹐  \n",
    "求 $\\bh$ 和 $\\bw$（用 $\\bx$ 和 $\\by$ 表示出來）。  \n",
    "\n",
    "<!-- eng start -->\n",
    "Let $\\bx$ and $\\by$ be two vectors.  Suppose $\\by$ can be written as $\\by = \\bh + \\bw$ such that $\\bh$ is orthogonal to $\\bx$ (i.e., $\\inp{\\bh}{\\bx} = 0$), and $\\bw$ is parallel to $\\bx$.  Find $\\bh$ and $\\bw$ as a formula of $\\bx$ and $\\by$.\n",
    "<!-- eng end -->"
   ]
  },
  {
   "cell_type": "markdown",
   "metadata": {},
   "source": [
    "##### Exercise 5\n",
    "依照以下步驟證明三角不等式和柯西不等式等價。  \n",
    "\n",
    "**三角不等式**  \n",
    "對任意兩個向量 $\\bx,\\by\\in\\mathbb{R}^n$  \n",
    "不等式 $\\|\\bx\\| + \\|\\by\\| \\geq \\|\\bx - \\by\\|$ 皆成立。\n",
    "\n",
    "**柯西不等式**  \n",
    "對任意兩個向量 $\\bx,\\by\\in\\mathbb{R}^n$  \n",
    "不等式 $|\\inp{\\bx}{\\by}| \\leq \\|\\bx\\|\\cdot \\|\\by\\|$ 皆成立。\n",
    "\n",
    "<!-- eng start -->\n",
    "Following the steps below to prove the triangle inequality and the Cauchy–Schwarz inequality.\n",
    "\n",
    "**Triangle inequality**  \n",
    "The inequality $\\|\\bx\\| + \\|\\by\\| \\geq \\|\\bx - \\by\\|$ holds for any vectors $\\bx,\\by\\in\\mathbb{R}^n$.\n",
    "\n",
    "**Cauchy–Schwarz inequality**\n",
    "The inequality $|\\inp{\\bx}{\\by}| \\leq \\|\\bx\\|\\cdot \\|\\by\\|$ holds for any vectors $\\bx,\\by\\in\\mathbb{R}^n$.\n",
    "<!-- eng end -->"
   ]
  },
  {
   "cell_type": "markdown",
   "metadata": {},
   "source": [
    "##### Exercise 5(a)\n",
    "\n",
    "證明若三角不等式成立則柯西不等式成立。\n",
    "\n",
    "<!-- eng start -->\n",
    "Prove that the triangle inequality implies the Cauchy–Schwarz inequality.\n",
    "<!-- eng end -->"
   ]
  },
  {
   "cell_type": "markdown",
   "metadata": {},
   "source": [
    "Sample:  \n",
    "Let $\\bx$ and $\\by$ be any given vectors in $\\mathbb{R}^n$.  \n",
    "By the triangle inequality, $\\|\\bx\\| + \\|\\by\\| \\geq \\|\\bx - \\by\\|$.  \n",
    "...  \n",
    "Therefore, $|\\inp{\\bx}{\\by}| \\leq \\|\\bx\\|\\cdot \\|\\by\\|$.  \n",
    "Since $\\bx$ and $\\by$ are arbitrary, the Cauchy–Schwarz inequality holds for any vectors $\\bx$ and $\\by$.  "
   ]
  },
  {
   "cell_type": "markdown",
   "metadata": {},
   "source": [
    "##### Exercise 5(b)\n",
    "\n",
    "證明若柯西不等式成立則三角不等式成立。\n",
    "\n",
    "<!-- eng start -->\n",
    "Prove that the Cauchy–Schwarz inequality implies the triangle inequality.\n",
    "<!-- eng end -->"
   ]
  },
  {
   "cell_type": "markdown",
   "metadata": {},
   "source": [
    "Sample:  \n",
    "Let $\\bx$ and $\\by$ be any given vectors in $\\mathbb{R}^n$.  \n",
    "By the Cauchy–Schwarz inequality, $|\\inp{\\bx}{\\by}| \\leq \\|\\bx\\|\\cdot \\|\\by\\|$.  \n",
    "...  \n",
    "Therefore, $\\|\\bx\\| + \\|\\by\\| \\geq \\|\\bx - \\by\\|$.  \n",
    "Since $\\bx$ and $\\by$ are arbitrary, the triangle inequality holds for any vectors $\\bx$ and $\\by$.  "
   ]
  },
  {
   "cell_type": "markdown",
   "metadata": {},
   "source": [
    "##### Exercise 6\n",
    "\n",
    "依照以下步驟證明柯西不等式。  \n",
    "\n",
    "<!-- eng start -->\n",
    "Prove the Cauchy–Schwarz inequality by the following steps.\n",
    "<!-- eng end -->"
   ]
  },
  {
   "cell_type": "markdown",
   "metadata": {},
   "source": [
    "##### Exercise 6(a)\n",
    "\n",
    "證明當 $\\|\\bx\\| = \\|\\by\\| = 1$ 時柯西不等式成立。\n",
    "\n",
    "<!-- eng start -->\n",
    "Prove that the Cauchy–Schwarz inequality is true when $\\|\\bx\\| = \\|\\by\\| = 1$.\n",
    "<!-- eng end -->"
   ]
  },
  {
   "cell_type": "markdown",
   "metadata": {},
   "source": [
    "Sample:  \n",
    "Let $\\bx$ and $\\by$ be two vectors of length $1$.  \n",
    "Since $\\|\\bx - \\by\\|^2 \\geq 0$, we have  \n",
    "...  \n",
    "Since $\\|\\bx + \\by\\|^2 \\geq 0$, we have  \n",
    "...  \n",
    "Therefore, $|\\inp{\\bx}{\\by}| \\leq 1$ whenever $\\|\\bx\\| = \\|\\by\\| = 1$.  "
   ]
  },
  {
   "cell_type": "markdown",
   "metadata": {},
   "source": [
    "##### Exercise 6(b)\n",
    "\n",
    "證明對任何非零向量 $\\bx,\\by\\in\\mathbb{R}^n$ 柯西不等式皆成立。\n",
    "\n",
    "<!-- eng start -->\n",
    "Prove that the Cauchy–Schwarz inequality is true for any nonzero $\\bx,\\by\\in\\mathbb{R}^n$.\n",
    "<!-- eng end -->"
   ]
  },
  {
   "cell_type": "markdown",
   "metadata": {},
   "source": [
    "Sample:  \n",
    "Now suppose $\\bx$ and $\\by$ be arbitrary nonzero vectors in $\\mathbb{R}^n$.  \n",
    "Let $\\bx' = \\bx/\\|\\bx\\|$ and $\\by' = \\by/\\|\\by\\|$.  \n",
    "Thus, $\\|\\bx'\\| = \\|\\by'\\| = 1$.  \n",
    "By the previous claim, ...  \n",
    "...  \n",
    "Therefore, $|\\inp{\\bx}{\\by}| \\leq \\|\\bx\\|\\cdot \\|\\by\\|$ for any nonzero vectors $\\bx$ and $\\by$.  "
   ]
  },
  {
   "cell_type": "markdown",
   "metadata": {},
   "source": [
    "##### Exercise 6(c)\n",
    "\n",
    "考慮剩餘的可能性並完成柯西不等式的證明。\n",
    "\n",
    "<!-- eng start -->\n",
    "Finish the remaining cases and prove the Cauchy–Schwarz inequality.\n",
    "<!-- eng end -->"
   ]
  },
  {
   "cell_type": "markdown",
   "metadata": {},
   "source": [
    "##### Exercise 7\n",
    "\n",
    "複數向量的集合記作 $\\mathbb{C}^n$。  \n",
    "若 $\\bx = (x_1,\\ldots,x_n)$ 為複數向量﹐  \n",
    "其**長度**定義為 $\\|\\bx\\| = \\sqrt{|x_1|^2 + \\cdots |x_n|^2}$。  \n",
    "若 $\\bx = (x_1,\\ldots,x_n)$ 及 $\\by = (y_1,\\ldots,y_n)$ 為兩複數向量﹐  \n",
    "其**內積**定義為 $\\inp{\\bx}{\\by} = x_1\\overline{y_1} + \\cdots + x_n\\overline{y_n}$。  \n",
    "\n",
    "<!-- eng start -->\n",
    "The set of all $n$-dimensional vectors over $\\mathbb{C}$ is denoted by $\\mathbb{C}^n$.  Let $\\bx = (x_1,\\ldots,x_n)$ and $\\by = (y_1,\\ldots,y_n)$ be vectors in $\\mathbb{C}^n$.  The **length** of $\\bx$ is $\\|\\bx\\| = \\sqrt{|x_1|^2 + \\cdots |x_n|^2}$, while the **inner product** of $\\bx$ and $\\by$ is defined by $\\inp{\\bx}{\\by} = x_1\\overline{y_1} + \\cdots + x_n\\overline{y_n}$.\n",
    "<!-- eng end -->"
   ]
  },
  {
   "cell_type": "markdown",
   "metadata": {},
   "source": [
    "##### Exercise 7(a)\n",
    "\n",
    "證明複數向量有以下性質：  \n",
    "\n",
    "1. $\\|\\bx\\| \\geq 0$ and the equality holds if and only if $\\bx = \\bzero$.\n",
    "2. $\\|k\\bx\\| = |k|\\cdot\\|\\bx\\|$.\n",
    "3. $\\|\\bx\\| + \\|\\by\\| \\geq \\|\\bx - \\by\\|$ (triangle inequality).\n",
    "4. $\\|\\bx\\|^2 = \\inp{\\bx}{\\bx}$.\n",
    "5. $\\inp{\\bx_1 + \\bx_2}{\\by} = \\inp{\\bx_1}{\\by} + \\inp{\\bx_2}{\\by}$.\n",
    "6. $\\inp{k\\bx}{\\by} = k\\inp{\\bx}{\\by}$ and $\\inp{\\bx}{k\\by} = \\overline{k}\\inp{\\bx}{\\by}$.\n",
    "7. $\\inp{\\bx}{\\by} = \\overline{\\inp{\\by}{\\bx}}$.\n",
    "8. $|\\inp{\\bx}{\\by}| \\leq \\|\\bx\\|\\cdot \\|\\by\\|$ (Cauchy–Schwarz inequality).  \n",
    "\n",
    "提示：  \n",
    "可以先證明 $\\|\\bx\\pm\\by\\|^2 = \\|\\bx\\|^2 \\pm 2\\operatorname{Re}\\inp{\\bx}{\\by} + \\|\\by\\|^2$。  \n",
    "我們總是可以找到一個好的 $e^{i\\theta}$  \n",
    "使得 $\\operatorname{Re}\\inp{e^{i\\theta}\\bx}{\\by} = |\\inp{\\bx}{\\by}|$。\n",
    "\n",
    "<!-- eng start -->\n",
    "Prove the properties above for vectors over $\\mathbb{C}$.\n",
    "    \n",
    "1. $\\|\\bx\\| \\geq 0$ and the equality holds if and only if $\\bx = \\bzero$.\n",
    "2. $\\|k\\bx\\| = |k|\\cdot\\|\\bx\\|$.\n",
    "3. $\\|\\bx\\| + \\|\\by\\| \\geq \\|\\bx - \\by\\|$ (triangle inequality).\n",
    "4. $\\|\\bx\\|^2 = \\inp{\\bx}{\\bx}$.\n",
    "5. $\\inp{\\bx_1 + \\bx_2}{\\by} = \\inp{\\bx_1}{\\by} + \\inp{\\bx_2}{\\by}$.\n",
    "6. $\\inp{k\\bx}{\\by} = k\\inp{\\bx}{\\by}$ and $\\inp{\\bx}{k\\by} = \\overline{k}\\inp{\\bx}{\\by}$.\n",
    "7. $\\inp{\\bx}{\\by} = \\overline{\\inp{\\by}{\\bx}}$.\n",
    "8. $|\\inp{\\bx}{\\by}| \\leq \\|\\bx\\|\\cdot \\|\\by\\|$ (Cauchy–Schwarz inequality).  \n",
    "    \n",
    "Hint:  \n",
    "First show that $\\|\\bx\\pm\\by\\|^2 = \\|\\bx\\|^2 \\pm 2\\operatorname{Re}\\inp{\\bx}{\\by} + \\|\\by\\|^2$.  Then find a $\\theta$ such that $\\operatorname{Re}\\inp{e^{i\\theta}\\bx}{\\by} = |\\inp{\\bx}{\\by}|$.\n",
    "<!-- eng end -->"
   ]
  },
  {
   "cell_type": "markdown",
   "metadata": {},
   "source": [
    "##### Exercise 7(b)\n",
    "\n",
    "若 $\\bx,\\by\\in\\mathbb{C}^n$。  \n",
    "證明  \n",
    "$$\\frac{\\operatorname{Re}\\inp{\\bx}{\\by}}{\\|\\bx\\|\\|\\by\\|} = \n",
    "\\frac{\\|\\bx\\|^2 + \\|\\by\\|^2 - \\|\\bx - \\by\\|^2}{2\\|\\bx\\|\\|\\by\\|}.$$  \n",
    "因此我們可以把兩複數向量的**夾角**定義為 $\\theta$﹐  \n",
    "而這個 $\\theta$ 要滿足 $\\cos\\theta = \\frac{\\operatorname{Re}\\inp{\\bx}{\\by}}{\\|\\bx\\|\\|\\by\\|}$。  \n",
    "\n",
    "<!-- eng start -->\n",
    "Let $\\bx,\\by\\in\\mathbb{C}^n$.  Prove that\n",
    "    \n",
    "$$\n",
    "    \\frac{\\operatorname{Re}\\inp{\\bx}{\\by}}{\\|\\bx\\|\\|\\by\\|} = \n",
    "    \\frac{\\|\\bx\\|^2 + \\|\\by\\|^2 - \\|\\bx - \\by\\|^2}{2\\|\\bx\\|\\|\\by\\|}.\n",
    "$$  \n",
    "    \n",
    "Therefore, we may define the **angle** between the two vectors as the $\\theta$ satisfying $\\cos\\theta = \\frac{\\operatorname{Re}\\inp{\\bx}{\\by}}{\\|\\bx\\|\\|\\by\\|}$.\n",
    "<!-- eng end -->"
   ]
  },
  {
   "cell_type": "markdown",
   "metadata": {},
   "source": [
    "##### Exercise 7(c)\n",
    "\n",
    "若 $\\bx,\\by\\in\\mathbb{C}^n$。  \n",
    "求 $\\by$ 在 $\\bx$ 上的投影。  \n",
    "\n",
    "注意 $\\inp{\\bx}{\\by}$ 和 $\\inp{\\by}{\\bx}$ 不一樣喔！\n",
    "\n",
    "<!-- eng start -->\n",
    "Let $\\bx,\\by\\in\\mathbb{C}^n$.  Find the projection of $\\by$ onto the direction of $\\bx$.\n",
    "\n",
    "Notice $\\inp{\\bx}{\\by}$ and $\\inp{\\by}{\\bx}$ are different for vectors over $\\mathbb{C}$!\n",
    "<!-- eng end -->"
   ]
  }
 ],
 "metadata": {
  "kernelspec": {
   "display_name": "SageMath 9.6",
   "language": "sage",
   "name": "sagemath"
  },
  "language_info": {
   "codemirror_mode": {
    "name": "ipython",
    "version": 3
   },
   "file_extension": ".py",
   "mimetype": "text/x-python",
   "name": "python",
   "nbconvert_exporter": "python",
   "pygments_lexer": "ipython3",
   "version": "3.10.6"
  }
 },
 "nbformat": 4,
 "nbformat_minor": 4
}
