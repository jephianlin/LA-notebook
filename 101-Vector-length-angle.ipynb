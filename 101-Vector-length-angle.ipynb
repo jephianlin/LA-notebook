{
 "cells": [
  {
   "cell_type": "markdown",
   "metadata": {},
   "source": [
    "# 向量、長度、角度"
   ]
  },
  {
   "cell_type": "markdown",
   "metadata": {},
   "source": [
    "![Creative Commons License](https://i.creativecommons.org/l/by/4.0/88x31.png)  \n",
    "This work by Jephian Lin is licensed under a [Creative Commons Attribution 4.0 International License](http://creativecommons.org/licenses/by/4.0/)."
   ]
  },
  {
   "cell_type": "code",
   "execution_count": null,
   "metadata": {},
   "outputs": [],
   "source": [
    "from lingeo import random_int_vec, draw_two_vec"
   ]
  },
  {
   "cell_type": "markdown",
   "metadata": {},
   "source": [
    "## Main idea"
   ]
  },
  {
   "cell_type": "markdown",
   "metadata": {},
   "source": [
    "A **vector** over $\\mathbb{R}$ of dimension $n$ is a sequence ${\\bf x} = (x_1, \\ldots, x_n)$ of numbers in $\\mathbb{R}$.  \n",
    "(In contrast, we often call a number in $\\mathbb{R}$ a **scalar**.)\n",
    "\n",
    "The collection of all vectors over $\\mathbb{R}$ of dimension $n$ is denoted by $\\mathbb{R}^n$.  \n",
    "We often use ${\\bf 0}$ and ${\\bf 1}$ to refer to $(0,\\ldots,0)$ and $(1,\\ldots,1)$ of appropriate dimensions, respectively.\n",
    "\n",
    "The **length** of a vector ${\\bf x} = (x_1,\\ldots, x_n)$ is defined as  \n",
    "$$\\|{\\bf x}\\| = \\sqrt{x_1^2 + \\cdots + x_n^2}.$$\n",
    "\n",
    "The **inner product** of two vectors ${\\bf x} = (x_1, \\ldots, x_n)$ and ${\\bf y} = (y_1, \\ldots, y_n)$ is defined as  \n",
    "$$\\langle{\\bf x},{\\bf y}\\rangle = x_1y_1 + \\cdots + x_ny_n.$$"
   ]
  },
  {
   "cell_type": "markdown",
   "metadata": {},
   "source": [
    "We have the following properties:  \n",
    "1. $\\|{\\bf x}\\| \\geq 0$ and the equality holds if and only if ${\\bf x} = {\\bf 0}$.\n",
    "2. $\\|k{\\bf x}\\| = |k|\\cdot\\|{\\bf x}\\|$.\n",
    "3. $\\|{\\bf x}\\| + \\|{\\bf y}\\| \\geq \\|{\\bf x} - {\\bf y}\\|$ (triangle inequality).\n",
    "4. $\\|{\\bf x}\\|^2 = \\langle{\\bf x},{\\bf x}\\rangle$.\n",
    "5. $\\langle{\\bf x}_1 + {\\bf x}_2,{\\bf y}\\rangle = \\langle{\\bf x}_1,{\\bf y}\\rangle + \\langle{\\bf x}_2,{\\bf y}\\rangle$.\n",
    "6. $\\langle k{\\bf x},{\\bf y}\\rangle = k\\langle{\\bf x},{\\bf y}\\rangle$.\n",
    "7. $\\langle {\\bf x},{\\bf y}\\rangle = \\langle {\\bf y},{\\bf x}\\rangle$.\n",
    "8. $|\\langle {\\bf x},{\\bf y}\\rangle| \\leq \\|{\\bf x}\\|\\cdot \\|{\\bf y}\\|$ (Cauchy--Schwarz inequality).  "
   ]
  },
  {
   "cell_type": "markdown",
   "metadata": {},
   "source": [
    "Thanks to the Cauchy--Schwarz inequality, we define the **angle** between two vectors ${\\bf x}$ and ${\\bf y}$ as the angle $\\theta$ such that $\\cos\\theta = \\frac{\\langle{\\bf x},{\\bf y}\\rangle}{\\|{\\bf x}\\|\\|{\\bf y}\\|}$.  \n",
    "We ${\\bf x}$ and ${\\bf y}$ are **orthogonal** if $\\langle{\\bf x},{\\bf y}\\rangle = 0$."
   ]
  },
  {
   "cell_type": "markdown",
   "metadata": {},
   "source": [
    "## Side stories\n",
    "- cosine law\n",
    "- orthogonal\n",
    "- projection"
   ]
  },
  {
   "cell_type": "markdown",
   "metadata": {},
   "source": [
    "## Experiments"
   ]
  },
  {
   "cell_type": "markdown",
   "metadata": {},
   "source": [
    "##### Exercise 1\n",
    "執行下方程式碼。  \n",
    "令 $O$ 為原點、  \n",
    "$A$ 和　$B$　分別為 `x`, `y` 的向量終點。  \n",
    "（可以選用自己喜好的 `ramdom_seed`）"
   ]
  },
  {
   "cell_type": "code",
   "execution_count": null,
   "metadata": {},
   "outputs": [],
   "source": [
    "### code\n",
    "set_random_seed(0)\n",
    "print_ans = False\n",
    "x = random_int_vec(6)\n",
    "y = random_int_vec(6)\n",
    "print(\"x =\", x)\n",
    "print(\"y =\", y)\n",
    "pic = draw_two_vec(x, y)\n",
    "pic.axes(False)\n",
    "show(pic)\n",
    "\n",
    "if print_ans:\n",
    "    print(\"OA =\", x.norm())\n",
    "    print(\"OB =\", y.norm())\n",
    "    print(\"AB =\", (x-y).norm())\n",
    "    cos_cos = (x.norm()**2 + y.norm()**2 - (x-y).norm()**2) / 2 / x.norm() / y.norm()\n",
    "    cos_inner = x.inner_product(y) / x.norm() / y.norm()\n",
    "    print(\"cos by cos law =\", \n",
    "          cos_cos, \"=\", \n",
    "          N(cos_cos))\n",
    "    print(\"cos by inner product =\", \n",
    "          cos_inner, \"=\", \n",
    "          N(cos_inner))"
   ]
  },
  {
   "cell_type": "markdown",
   "metadata": {},
   "source": [
    "##### Exercise 1(a)\n",
    "計算 $\\overline{OA}$、$\\overline{OB}$、和 $\\overline{AB}$ 的長度，  \n",
    "並利用**餘絃定理**來計算 $\\cos\\angle AOB$。  "
   ]
  },
  {
   "cell_type": "markdown",
   "metadata": {},
   "source": [
    "##### Exercise 1(b)\n",
    "令 $\\theta$ 為 `x`, `y` 之間用內積定出來的夾角﹐  \n",
    "求 $\\cos\\theta$。  "
   ]
  },
  {
   "cell_type": "markdown",
   "metadata": {},
   "source": [
    "##### Exercise 1(c)\n",
    "前兩題算出來總是一樣嗎？  \n",
    "請用代數的方法證明。"
   ]
  },
  {
   "cell_type": "markdown",
   "metadata": {},
   "source": [
    "Sample:  \n",
    "It is known that $\\overline{OA} = \\|{\\bf x}\\|$, $\\overline{OB} = \\|{\\bf y}\\|$, and $\\overline{AB} = \\|{\\bf x} - {\\bf y}\\|$.  \n",
    "Thus,  \n",
    "$\\frac{\\overline{OA}^2 + \\overline{OB}^2 - \\overline{AB}^2}{2\\overline{OA}\\cdot \\overline{OB}}$  \n",
    "$ = \\cdots $  \n",
    "$\\frac{\\langle {\\bf x},{\\bf y}\\rangle}{\\|{\\bf x}\\|\\|{\\bf y}\\|}$."
   ]
  },
  {
   "cell_type": "markdown",
   "metadata": {},
   "source": [
    "## Exercises"
   ]
  },
  {
   "cell_type": "markdown",
   "metadata": {},
   "source": [
    "##### Exercise 2\n",
    "將每個向量都展開  \n",
    "（像是 ${\\bf x} = (x_1,\\ldots, x_n)$）﹐  \n",
    "把每個長度和內積的定義也都展開。  \n",
    "證明 Main idea 中最後列出來的那些性質  \n",
    "（除了三角不等式和柯西不等式以外）。"
   ]
  },
  {
   "cell_type": "markdown",
   "metadata": {},
   "source": [
    "##### Exercise 3\n",
    "證明 $\\|{\\bf x} \\pm {\\bf y}\\|^2 = \\|{\\bf x}\\|^2 \\pm 2\\langle{\\bf x},{\\bf y}\\rangle + \\|{\\bf y}\\|^2$。"
   ]
  },
  {
   "cell_type": "markdown",
   "metadata": {},
   "source": [
    "##### Exercise 4\n",
    "給定兩個向量 ${\\bf x},{\\bf y}$。  \n",
    "若 ${\\bf y}$ 可以寫成兩個分量相加 ${\\bf y} = {\\bf h} + {\\bf w}$﹐  \n",
    "其中 ${\\bf h}$ 和 ${\\bf x}$ 垂直（所以 $\\langle{\\bf h},{\\bf x}\\rangle = 0$）、  \n",
    "而 ${\\bf w}$ 和 ${\\bf x}$ 平行（所以 ${\\bf w} = k{\\bf x}$)﹐  \n",
    "求 ${\\bf h}$ 和 ${\\bf w}$（用 和 表示出來）。  "
   ]
  },
  {
   "cell_type": "markdown",
   "metadata": {},
   "source": [
    "##### Exercise 5\n",
    "依照以下步驟證明三角不等式和柯西不等式等價。  \n",
    "\n",
    "**三角不等式**  \n",
    "對任意兩個向量 ${\\bf x},{\\bf y}\\in\\mathbb{R}^n$  \n",
    "不等式 $\\|{\\bf x}\\| + \\|{\\bf y}\\| \\geq \\|{\\bf x} - {\\bf y}\\|$ 皆成立。\n",
    "\n",
    "**柯西不等式**  \n",
    "對任意兩個向量 ${\\bf x},{\\bf y}\\in\\mathbb{R}^n$  \n",
    "不等式 $|\\langle {\\bf x},{\\bf y}\\rangle| \\leq \\|{\\bf x}\\|\\cdot \\|{\\bf y}\\|$ 皆成立。"
   ]
  },
  {
   "cell_type": "markdown",
   "metadata": {},
   "source": [
    "##### Exercise 5(a)\n",
    "證明若三角不等式成立則柯西不等式成立。"
   ]
  },
  {
   "cell_type": "markdown",
   "metadata": {},
   "source": [
    "Sample:  \n",
    "Let ${\\bf x}$ and ${\\bf y}$ be any given vectors in $\\mathbb{R}^n$.  \n",
    "By the triangle inequality, $\\|{\\bf x}\\| + \\|{\\bf y}\\| \\geq \\|{\\bf x} - {\\bf y}\\|$.  \n",
    "...  \n",
    "Therefore, $|\\langle {\\bf x},{\\bf y}\\rangle| \\leq \\|{\\bf x}\\|\\cdot \\|{\\bf y}\\|$.  \n",
    "Since ${\\bf x}$ and ${\\bf y}$ are arbitrary, the Cauchy--Schwarz inequality holds for any vectors ${\\bf x}$ and ${\\bf y}$.  "
   ]
  },
  {
   "cell_type": "markdown",
   "metadata": {},
   "source": [
    "##### Exercise 5(b)\n",
    "證明若柯西不等式成立則三角不等式成立。"
   ]
  },
  {
   "cell_type": "markdown",
   "metadata": {},
   "source": [
    "Sample:  \n",
    "Let ${\\bf x}$ and ${\\bf y}$ be any given vectors in $\\mathbb{R}^n$.  \n",
    "By the Cauchy--Schwarz inequality, $|\\langle {\\bf x},{\\bf y}\\rangle| \\leq \\|{\\bf x}\\|\\cdot \\|{\\bf y}\\|$.  \n",
    "...  \n",
    "Therefore, $\\|{\\bf x}\\| + \\|{\\bf y}\\| \\geq \\|{\\bf x} - {\\bf y}\\|$.  \n",
    "Since ${\\bf x}$ and ${\\bf y}$ are arbitrary, the triangle inequality holds for any vectors ${\\bf x}$ and ${\\bf y}$.  "
   ]
  },
  {
   "cell_type": "markdown",
   "metadata": {},
   "source": [
    "##### Exercise 6\n",
    "依照以下步驟證明柯西不等式。  "
   ]
  },
  {
   "cell_type": "markdown",
   "metadata": {},
   "source": [
    "##### Exercise 6(a)\n",
    "證明當 $\\|{\\bf x}\\| = \\|{\\bf y}\\| = 1$ 時柯西不等式成立。"
   ]
  },
  {
   "cell_type": "markdown",
   "metadata": {},
   "source": [
    "Sample:  \n",
    "Let ${\\bf x}$ and ${\\bf y}$ be two vectors of length $1$.  \n",
    "Since $\\|{\\bf x} - {\\bf y}\\|^2 \\geq 0$, we have  \n",
    "...  \n",
    "Since $\\|{\\bf x} + {\\bf y}\\|^2 \\geq 0$, we have  \n",
    "...  \n",
    "Therefore, $|\\langle{\\bf x},{\\bf y}\\rangle| \\leq 1$ whenever $\\|{\\bf x}\\| = \\|{\\bf y}\\| = 1$.  "
   ]
  },
  {
   "cell_type": "markdown",
   "metadata": {},
   "source": [
    "##### Exercise 6(b)\n",
    "證明對任何非零向量 ${\\bf x},{\\bf y}\\in\\mathbb{R}^n$ 柯西不等式皆成立。"
   ]
  },
  {
   "cell_type": "markdown",
   "metadata": {},
   "source": [
    "Sample:  \n",
    "Now suppose ${\\bf x}$ and ${\\bf y}$ be arbitrary nonzero vectors in $\\mathbb{R}^n$.  \n",
    "Let ${\\bf x}' = {\\bf x}/\\|{\\bf x}\\|$ and ${\\bf y}' = {\\bf y}/\\|{\\bf y}\\|$.  \n",
    "Thus, $\\|{\\bf x}'\\| = \\|{\\bf y}'\\| = 1$.  \n",
    "By the previous claim, ...  \n",
    "...  \n",
    "Therefore, $|\\langle {\\bf x},{\\bf y}\\rangle| \\leq \\|{\\bf x}\\|\\cdot \\|{\\bf y}\\|$ for any nonzero vectors ${\\bf x}$ and ${\\bf y}$.  "
   ]
  },
  {
   "cell_type": "markdown",
   "metadata": {},
   "source": [
    "##### Exercise 6(c)\n",
    "考慮剩餘的可能性並完成柯西不等式的證明。"
   ]
  },
  {
   "cell_type": "markdown",
   "metadata": {},
   "source": [
    "##### Exercise 7\n",
    "複數向量的集合記作 $\\mathbb{C}^n$。  \n",
    "若 ${\\bf x} = (x_1,\\ldots,x_n)$ 為複數向量﹐  \n",
    "其**長度**定義為 $\\|{\\bf x}\\| = \\sqrt{|x_1|^2 + \\cdots |x_n|^2}$。  \n",
    "若 ${\\bf x} = (x_1,\\ldots,x_n)$ 及 ${\\bf y} = (y_1,\\ldots,y_n)$ 為兩複數向量﹐  \n",
    "其**內積**定義為 $\\langle{\\bf x},{\\bf y}\\rangle = x_1\\overline{y_1} + \\cdots + x_n\\overline{y_n}$。  "
   ]
  },
  {
   "cell_type": "markdown",
   "metadata": {},
   "source": [
    "##### Exercise 7(a)\n",
    "證明複數向量有以下性質：  \n",
    "1. $\\|{\\bf x}\\| \\geq 0$ and the equality holds if and only if ${\\bf x} = {\\bf 0}$.\n",
    "2. $\\|k{\\bf x}\\| = |k|\\cdot\\|{\\bf x}\\|$.\n",
    "3. $\\|{\\bf x}\\| + \\|{\\bf y}\\| \\geq \\|{\\bf x} - {\\bf y}\\|$ (triangle inequality).\n",
    "4. $\\|{\\bf x}\\|^2 = \\langle{\\bf x},{\\bf x}\\rangle$.\n",
    "5. $\\langle{\\bf x}_1 + {\\bf x}_2,{\\bf y}\\rangle = \\langle{\\bf x}_1,{\\bf y}\\rangle + \\langle{\\bf x}_2,{\\bf y}\\rangle$.\n",
    "6. $\\langle k{\\bf x},{\\bf y}\\rangle = k\\langle{\\bf x},{\\bf y}\\rangle$ and $\\langle {\\bf x},k{\\bf y}\\rangle = \\overline{k}\\langle{\\bf x},{\\bf y}\\rangle$.\n",
    "7. $\\langle {\\bf x},{\\bf y}\\rangle = \\overline{\\langle {\\bf y},{\\bf x}\\rangle}$.\n",
    "8. $|\\langle {\\bf x},{\\bf y}\\rangle| \\leq \\|{\\bf x}\\|\\cdot \\|{\\bf y}\\|$ (Cauchy--Schwarz inequality).  \n",
    "\n",
    "提示：  \n",
    "可以先證明 $\\|{\\bf x}\\pm{\\bf y}\\|^2 = \\|{\\bf x}\\|^2 \\pm 2\\operatorname{Re}\\langle{\\bf x},{\\bf y}\\rangle + \\|{\\bf y}\\|^2$。  \n",
    "我們總是可以找到一個好的 $e^{i\\theta}$  \n",
    "使得 $\\operatorname{Re}\\langle e^{i\\theta}{\\bf x},{\\bf y}\\rangle = |\\langle{\\bf x},{\\bf y}\\rangle|$。"
   ]
  },
  {
   "cell_type": "markdown",
   "metadata": {},
   "source": [
    "##### Exercise 7(b)\n",
    "若 ${\\bf x},{\\bf y}\\in\\mathbb{C}^n$。  \n",
    "證明  \n",
    "$$\\frac{\\operatorname{Re}\\langle{\\bf x}, {\\bf y}\\rangle}{\\|{\\bf x}\\|\\|{\\bf y}\\|} = \n",
    "\\frac{\\|{\\bf x}\\|^2 + \\|{\\bf y}\\|^2 - \\|{\\bf x} - {\\bf y}\\|^2}{2\\|{\\bf x}\\|\\|{\\bf y}\\|}.$$  \n",
    "因此我們可以把兩複數向量的**夾角**定義為 $\\theta$﹐  \n",
    "而這個 $\\theta$ 要滿足 $\\cos\\theta = \\frac{\\operatorname{Re}\\langle{\\bf x}, {\\bf y}\\rangle}{\\|{\\bf x}\\|\\|{\\bf y}\\|}$。  "
   ]
  },
  {
   "cell_type": "markdown",
   "metadata": {},
   "source": [
    "##### Exercise 7(c)\n",
    "若 ${\\bf x},{\\bf y}\\in\\mathbb{C}^n$。  \n",
    "求 ${\\bf y}$ 在 ${\\bf x}$ 上的投影。  \n",
    "\n",
    "注意 $\\langle {\\bf x},{\\bf y}\\rangle$ 和 $\\langle {\\bf y},{\\bf x}\\rangle$ 不一樣喔！"
   ]
  }
 ],
 "metadata": {
  "kernelspec": {
   "display_name": "SageMath 9.0",
   "language": "sage",
   "name": "sagemath"
  },
  "language_info": {
   "codemirror_mode": {
    "name": "ipython",
    "version": 3
   },
   "file_extension": ".py",
   "mimetype": "text/x-python",
   "name": "python",
   "nbconvert_exporter": "python",
   "pygments_lexer": "ipython3",
   "version": "3.8.10"
  }
 },
 "nbformat": 4,
 "nbformat_minor": 4
}
