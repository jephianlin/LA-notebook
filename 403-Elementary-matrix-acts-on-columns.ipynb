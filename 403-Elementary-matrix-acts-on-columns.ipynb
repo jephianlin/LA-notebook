{
 "cells": [
  {
   "cell_type": "markdown",
   "metadata": {},
   "source": [
    "# 基本矩陣與行超平行體"
   ]
  },
  {
   "cell_type": "markdown",
   "metadata": {},
   "source": [
    "![Creative Commons License](https://i.creativecommons.org/l/by/4.0/88x31.png)  \n",
    "This work by Jephian Lin is licensed under a [Creative Commons Attribution 4.0 International License](http://creativecommons.org/licenses/by/4.0/)."
   ]
  },
  {
   "cell_type": "markdown",
   "metadata": {},
   "source": [
    "$\\newcommand{\\trans}{^\\top}\n",
    "\\newcommand{\\adj}{^{\\rm adj}}\n",
    "\\newcommand{\\cof}{^{\\rm cof}}\n",
    "\\newcommand{\\inp}[2]{\\left\\langle#1,#2\\right\\rangle}\n",
    "\\newcommand{\\dunion}{\\mathbin{\\dot\\cup}}\n",
    "\\newcommand{\\bzero}{\\mathbf{0}}\n",
    "\\newcommand{\\bone}{\\mathbf{1}}\n",
    "\\newcommand{\\ba}{\\mathbf{a}}\n",
    "\\newcommand{\\bb}{\\mathbf{b}}\n",
    "\\newcommand{\\bc}{\\mathbf{c}}\n",
    "\\newcommand{\\bd}{\\mathbf{d}}\n",
    "\\newcommand{\\be}{\\mathbf{e}}\n",
    "\\newcommand{\\bh}{\\mathbf{h}}\n",
    "\\newcommand{\\bp}{\\mathbf{p}}\n",
    "\\newcommand{\\bq}{\\mathbf{q}}\n",
    "\\newcommand{\\br}{\\mathbf{r}}\n",
    "\\newcommand{\\bx}{\\mathbf{x}}\n",
    "\\newcommand{\\by}{\\mathbf{y}}\n",
    "\\newcommand{\\bz}{\\mathbf{z}}\n",
    "\\newcommand{\\bu}{\\mathbf{u}}\n",
    "\\newcommand{\\bv}{\\mathbf{v}}\n",
    "\\newcommand{\\bw}{\\mathbf{w}}\n",
    "\\newcommand{\\tr}{\\operatorname{tr}}\n",
    "\\newcommand{\\nul}{\\operatorname{null}}\n",
    "\\newcommand{\\rank}{\\operatorname{rank}}\n",
    "%\\newcommand{\\ker}{\\operatorname{ker}}\n",
    "\\newcommand{\\range}{\\operatorname{range}}\n",
    "\\newcommand{\\Col}{\\operatorname{Col}}\n",
    "\\newcommand{\\Row}{\\operatorname{Row}}\n",
    "\\newcommand{\\spec}{\\operatorname{spec}}\n",
    "\\newcommand{\\vspan}{\\operatorname{span}}\n",
    "\\newcommand{\\Vol}{\\operatorname{Vol}}$"
   ]
  },
  {
   "cell_type": "code",
   "execution_count": null,
   "metadata": {},
   "outputs": [],
   "source": [
    "from lingeo import random_int_list, row_operation_process"
   ]
  },
  {
   "cell_type": "markdown",
   "metadata": {},
   "source": [
    "## Main idea"
   ]
  },
  {
   "cell_type": "markdown",
   "metadata": {},
   "source": [
    "Each $n\\times n$ matrix can be viewed as a list of columns vectors $\\{\\bu_1,\\ldots, \\bu_n\\}$.  \n",
    "We define the **column parallelotope** of $A$ as the polytope  \n",
    "$$\n",
    "    \\{c_1\\bu_1 + \\cdots + c_n\\bu_n : c_i\\in [0,1] \\text{ for all }i = 1,\\ldots, n\\}\n",
    "$$\n",
    "spanned by the columns $\\{\\bu_1,\\ldots, \\bu_n\\}$ of $A$.  \n",
    "Let $\\Vol_C(A)$ be the **signed volume** of the column parallelotope."
   ]
  },
  {
   "cell_type": "markdown",
   "metadata": {},
   "source": [
    "Then $\\Vol_C(A)$ can be defined through the following rules.  \n",
    "\n",
    "- $\\Vol_C(I_n) = 1$.\n",
    "- If $E$ is the elementary matrix of $\\rho_i\\leftrightarrow\\rho_j$, then $E$ swaps the $i$- and $j$- coordinates of columns of $A$.  \n",
    "Thus, $\\Vol_C(EA) = -\\Vol_C(A)$ and we define $\\Vol_C(E) = -1$.\n",
    "- If $E$ is the elementary matrix of $\\rho_i:\\times k$, then $E$ rescales the $i$-coordinates of columns of $A$.  \n",
    "Thus, $\\Vol_C(EA) = k\\Vol_C(A)$ and we define $\\Vol_C(E) = k$.\n",
    "- If $E$ is the elementary matrix of $\\rho_i:+k\\rho_j\\times$, then $E$ slants the $i$-coordinates of columns of $A$ to the direction of $j$-coordinates.  \n",
    "Thus, $\\Vol_C(EA) = \\Vol_C(A)$ and we define $\\Vol_C(E) = 1$.  "
   ]
  },
  {
   "cell_type": "markdown",
   "metadata": {},
   "source": [
    "As a consequence, if a matrix $A$ is invertible and  \n",
    "can be written as the product a sequence of elementary matrices $F_1\\cdots F_k$,  \n",
    "then $\\Vol_C(A) = \\Vol_C(F_1)\\cdots\\Vol_C(F_k)\\Vol_C(I_n) = \\Vol_C(F_1)\\cdots\\Vol_C(F_k)$."
   ]
  },
  {
   "cell_type": "markdown",
   "metadata": {},
   "source": [
    "In contrast, if $A$ is not invertible,  \n",
    "then column parallelotope collapses and is flat $\\Vol_C(A) = 0$.  "
   ]
  },
  {
   "cell_type": "markdown",
   "metadata": {},
   "source": [
    "From this point of view,  \n",
    "the value of $\\Vol_C(A)$ can be both  \n",
    "the signed volume and  \n",
    "the **scaling factor** changing $\\Vol_C(B)$ to $\\Vol_C(AB)$ for any $B$.  "
   ]
  },
  {
   "cell_type": "markdown",
   "metadata": {},
   "source": [
    "## Side stories\n",
    "- Jacobian"
   ]
  },
  {
   "cell_type": "markdown",
   "metadata": {},
   "source": [
    "## Experiments"
   ]
  },
  {
   "cell_type": "markdown",
   "metadata": {},
   "source": [
    "##### Exercise 1\n",
    "\n",
    "執行以下程式碼。  \n",
    "已知 $A = F_1\\cdots F_k$ 是一群單位矩陣的乘積。"
   ]
  },
  {
   "cell_type": "code",
   "execution_count": null,
   "metadata": {
    "scrolled": false
   },
   "outputs": [],
   "source": [
    "### code\n",
    "set_random_seed(0)\n",
    "print_ans = False\n",
    "\n",
    "n = 2\n",
    "while True:\n",
    "    A = matrix(2, random_int_list(n^2, 3))\n",
    "    if A.det() != 0:\n",
    "        break\n",
    "        \n",
    "elems = row_operation_process(A, inv=True)\n",
    "\n",
    "pretty_print(A, LatexExpr(\"=\"), *elems)\n",
    "\n",
    "R = identity_matrix(n)\n",
    "k = 1\n",
    "vols = [1]\n",
    "for elem in elems[::-1]:\n",
    "    R = elem * R\n",
    "    vols.append(R.det())\n",
    "    vecs = R.columns()\n",
    "    P = polytopes.parallelotope(vecs).plot(\n",
    "        xmin=-3, \n",
    "        xmax=3,\n",
    "        ymin=-3,\n",
    "        ymax=3,\n",
    "        wireframe=\"black\", \n",
    "        fill=\"lightgreen\"\n",
    "    )\n",
    "    for v in vecs:\n",
    "        P += text(\"%s\"%v, v + vector([0,0.5]), fontweight=1000).plot()\n",
    "    show(P, title=\"$V_{%s}$\"%k)\n",
    "    k += 1\n",
    "\n",
    "if print_ans:\n",
    "    for k,vol in enumerate(vols):\n",
    "        print(\"The signed volumn (area) of V%s is\"%k, vol)"
   ]
  },
  {
   "cell_type": "markdown",
   "metadata": {},
   "source": [
    "##### Exercise 1(a)\n",
    "\n",
    "令 $V_0$ 為單位矩陣的行超平行體。  \n",
    "說明如何從 $V_0$ 得到 $V_1$ 並求出 $V_1$ 的面積。"
   ]
  },
  {
   "cell_type": "markdown",
   "metadata": {},
   "source": [
    "##### Exercise 1(b)\n",
    "\n",
    "依序說明如何從 $V_i$ 得到 $V_{i+1}$，  \n",
    "並求出 $V_2,\\ldots, V_k$ 的面積。"
   ]
  },
  {
   "cell_type": "markdown",
   "metadata": {},
   "source": [
    "## Exercises"
   ]
  },
  {
   "cell_type": "markdown",
   "metadata": {},
   "source": [
    "##### Exercise 2\n",
    "\n",
    "對以下矩陣 $A$，  \n",
    "用文字描述它的行平行體，並用求出它的有向體積。"
   ]
  },
  {
   "cell_type": "markdown",
   "metadata": {},
   "source": [
    "##### Exercise 2(a)\n",
    "\n",
    "$$\n",
    "    A = \\begin{bmatrix}\n",
    "     1 & 0 & 0 \\\\\n",
    "     0 & 2 & 0 \\\\\n",
    "     0 & 0 & 3\n",
    "    \\end{bmatrix}.\n",
    "$$"
   ]
  },
  {
   "cell_type": "markdown",
   "metadata": {},
   "source": [
    "##### Exercise 2(b)\n",
    "\n",
    "$$\n",
    "    A = \\begin{bmatrix}\n",
    "     0 & 1 & 0 \\\\\n",
    "     2 & 0 & 0 \\\\\n",
    "     0 & 0 & 3\n",
    "    \\end{bmatrix}.\n",
    "$$"
   ]
  },
  {
   "cell_type": "markdown",
   "metadata": {},
   "source": [
    "##### Exercise 2(c)\n",
    "\n",
    "$$\n",
    "    A = \\begin{bmatrix}\n",
    "     1 & 1 & 1 \\\\\n",
    "     1 & 2 & 3 \\\\\n",
    "     0 & 0 & 0\n",
    "    \\end{bmatrix}.\n",
    "$$"
   ]
  },
  {
   "cell_type": "markdown",
   "metadata": {},
   "source": [
    "##### Exercise 2(d)\n",
    "\n",
    "$$\n",
    "    A = \\begin{bmatrix}\n",
    "     1 & 1 & 0 \\\\\n",
    "     1 & 2 & 0 \\\\\n",
    "     1 & 3 & 0\n",
    "    \\end{bmatrix}.\n",
    "$$"
   ]
  },
  {
   "cell_type": "markdown",
   "metadata": {},
   "source": [
    "##### Exercise 2(b)\n",
    "\n",
    "$$\n",
    "    A = \\begin{bmatrix}\n",
    "     1 & 2 & 0 \\\\\n",
    "     3 & 4 & 0 \\\\\n",
    "     0 & 0 & 5\n",
    "    \\end{bmatrix}.\n",
    "$$"
   ]
  },
  {
   "cell_type": "markdown",
   "metadata": {},
   "source": [
    "##### Exercise 3\n",
    "\n",
    "在 $\\Vol_C$ 的定義中，假設我們已經接受了  \n",
    "\n",
    "- If $E$ is the elementary matrix of $\\rho_i:\\times k$, then $E$ rescales the $i$-coordinates of columns of $A$.  \n",
    "Thus, $\\Vol_C(EA) = k\\Vol_C(A)$ and we define $\\Vol_C(E) = k$.\n",
    "- If $E$ is the elementary matrix of $\\rho_i:+k\\rho_j\\times$, then $E$ slants the $i$-coordinates of columns of $A$ to the direction of $j$-coordinates.  \n",
    "Thus, $\\Vol_C(EA) = \\Vol_C(A)$ and we define $\\Vol_C(E) = 1$.  \n",
    "\n",
    "說明為什麼  \n",
    "\n",
    "- If $E$ is the elementary matrix of $\\rho_i\\leftrightarrow\\rho_j$, then $E$ swaps the $i$- and $j$- coordinates of columns of $A$.  \n",
    "Thus, $\\Vol_C(EA) = -\\Vol_C(A)$ and we define $\\Vol_C(E) = -1$.\n",
    "\n",
    "中的 $-1$ 是合理的。"
   ]
  },
  {
   "cell_type": "markdown",
   "metadata": {},
   "source": [
    "##### Exercise 4\n",
    "\n",
    "利用 $\\Vol_C$ 定義中的四條準則，說明以下性質。"
   ]
  },
  {
   "cell_type": "markdown",
   "metadata": {},
   "source": [
    "##### Exercise 4(a)\n",
    "\n",
    "若 $A$ 中有一列為零向量，說明 $\\Vol_C(A) = 0$。  "
   ]
  },
  {
   "cell_type": "markdown",
   "metadata": {},
   "source": [
    "##### Exercise 4(b)\n",
    "\n",
    "若 $A$ 中有兩列向量相等，說明 $\\Vol_C(A) = 0$。  "
   ]
  },
  {
   "cell_type": "markdown",
   "metadata": {},
   "source": [
    "##### Exercise 4(c)\n",
    "\n",
    "若 $A$ 中的列向量集合線性相依，說明 $\\Vol_C(A) = 0$。  "
   ]
  },
  {
   "cell_type": "markdown",
   "metadata": {},
   "source": [
    "##### Exercise 5\n",
    "\n",
    "積分的概念在於  \n",
    "把許多小方塊（或是其它幾何形狀）的體積累積起來。  \n",
    "當這些小方塊的體積會隨著座標變動的時候則須要乘上一些調整量來確保體積正確。  \n",
    "我們知道笛卡爾座標和極座標轉換時有以下公式  \n",
    "$$\n",
    "    \\int f\\,dxdy = \\int f rdrd\\theta.\n",
    "$$\n",
    "當 $x = r\\cos\\theta$ 且 $y = r\\sin\\theta$ 時，  \n",
    "計算  \n",
    "$$\n",
    "    J = \\begin{bmatrix}  \n",
    "    \\frac{\\partial x}{\\partial r} & \\frac{\\partial y}{\\partial r} \\\\\n",
    "    \\frac{\\partial x}{\\partial \\theta} & \\frac{\\partial y}{\\partial \\theta} \\\\\n",
    "    \\end{bmatrix}\n",
    "$$\n",
    "的 $\\Vol_C(J)$。  \n",
    "而這個值告訴我們極座標上的一個小方塊  \n",
    "和笛卡爾座標上的一個小方塊  \n",
    "它們的體積的比率為何。"
   ]
  }
 ],
 "metadata": {
  "kernelspec": {
   "display_name": "SageMath 9.4",
   "language": "sage",
   "name": "sagemath"
  },
  "language_info": {
   "codemirror_mode": {
    "name": "ipython",
    "version": 3
   },
   "file_extension": ".py",
   "mimetype": "text/x-python",
   "name": "python",
   "nbconvert_exporter": "python",
   "pygments_lexer": "ipython3",
   "version": "3.10.1"
  }
 },
 "nbformat": 4,
 "nbformat_minor": 4
}
