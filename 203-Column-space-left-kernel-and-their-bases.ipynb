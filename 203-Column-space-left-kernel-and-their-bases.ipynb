{
 "cells": [
  {
   "cell_type": "markdown",
   "metadata": {},
   "source": [
    "# 行空間、左零解空間、及其基底\n",
    "\n",
    "Column space, left kernel, and their bases"
   ]
  },
  {
   "cell_type": "markdown",
   "metadata": {},
   "source": [
    "![Creative Commons License](https://i.creativecommons.org/l/by/4.0/88x31.png)  \n",
    "This work by Jephian Lin is licensed under a [Creative Commons Attribution 4.0 International License](http://creativecommons.org/licenses/by/4.0/)."
   ]
  },
  {
   "cell_type": "markdown",
   "metadata": {},
   "source": [
    "$\\newcommand{\\trans}{^\\top}\n",
    "\\newcommand{\\adj}{^{\\rm adj}}\n",
    "\\newcommand{\\cof}{^{\\rm cof}}\n",
    "\\newcommand{\\inp}[2]{\\left\\langle#1,#2\\right\\rangle}\n",
    "\\newcommand{\\dunion}{\\mathbin{\\dot\\cup}}\n",
    "\\newcommand{\\bzero}{\\mathbf{0}}\n",
    "\\newcommand{\\bone}{\\mathbf{1}}\n",
    "\\newcommand{\\ba}{\\mathbf{a}}\n",
    "\\newcommand{\\bb}{\\mathbf{b}}\n",
    "\\newcommand{\\bc}{\\mathbf{c}}\n",
    "\\newcommand{\\bd}{\\mathbf{d}}\n",
    "\\newcommand{\\be}{\\mathbf{e}}\n",
    "\\newcommand{\\bh}{\\mathbf{h}}\n",
    "\\newcommand{\\bp}{\\mathbf{p}}\n",
    "\\newcommand{\\bq}{\\mathbf{q}}\n",
    "\\newcommand{\\br}{\\mathbf{r}}\n",
    "\\newcommand{\\bx}{\\mathbf{x}}\n",
    "\\newcommand{\\by}{\\mathbf{y}}\n",
    "\\newcommand{\\bz}{\\mathbf{z}}\n",
    "\\newcommand{\\bu}{\\mathbf{u}}\n",
    "\\newcommand{\\bv}{\\mathbf{v}}\n",
    "\\newcommand{\\bw}{\\mathbf{w}}\n",
    "\\newcommand{\\tr}{\\operatorname{tr}}\n",
    "\\newcommand{\\nul}{\\operatorname{null}}\n",
    "\\newcommand{\\rank}{\\operatorname{rank}}\n",
    "%\\newcommand{\\ker}{\\operatorname{ker}}\n",
    "\\newcommand{\\range}{\\operatorname{range}}\n",
    "\\newcommand{\\Col}{\\operatorname{Col}}\n",
    "\\newcommand{\\Row}{\\operatorname{Row}}\n",
    "\\newcommand{\\spec}{\\operatorname{spec}}\n",
    "\\newcommand{\\vspan}{\\operatorname{span}}\n",
    "\\newcommand{\\Vol}{\\operatorname{Vol}}\n",
    "\\newcommand{\\sgn}{\\operatorname{sgn}}\n",
    "\\newcommand{\\idmap}{\\operatorname{id}}\n",
    "\\newcommand{\\am}{\\operatorname{am}}\n",
    "\\newcommand{\\gm}{\\operatorname{gm}}\n",
    "\\newcommand{\\mult}{\\operatorname{mult}}\n",
    "\\newcommand{\\iner}{\\operatorname{iner}}$"
   ]
  },
  {
   "cell_type": "code",
   "execution_count": null,
   "metadata": {},
   "outputs": [],
   "source": [
    "from lingeo import random_good_matrix, column_space_matrix, left_kernel_matrix"
   ]
  },
  {
   "cell_type": "markdown",
   "metadata": {},
   "source": [
    "## Main idea"
   ]
  },
  {
   "cell_type": "markdown",
   "metadata": {},
   "source": [
    "You are recommended to read the section _Four fundamental subspaces_ first, where you will find the definition of $\\beta_R$, $\\beta_K$, $\\beta_C$, $\\beta_L$.  "
   ]
  },
  {
   "cell_type": "markdown",
   "metadata": {},
   "source": [
    "Let $A$ be a matrix.  \n",
    "Let $\\beta_C$ and $\\beta_L$ be the standard bases of $\\Col(A)$ and $\\ker(A\\trans)$, respectively.  \n",
    "We have known that  \n",
    "1. $\\Col(A) = \\vspan(\\beta_C)$.  \n",
    "2. $\\ker(A\\trans) = \\vspan(\\beta_L)$.  \n",
    "\n",
    "In fact, both $\\beta_C$ and $\\beta_L$ are linearly independent.  \n",
    "Therefore, it is fine that we call them the standard bases."
   ]
  },
  {
   "cell_type": "markdown",
   "metadata": {},
   "source": [
    "When $S$ is a finite set of vectors and $V = \\vspan(S)$, we may find a basis of $V$ as follows.  \n",
    "1. Write the matrix $A$ whose columns are the vectors in $S$ (in any order).  \n",
    "2. Let $R$ be the reduced echelon form of $A$ and find the pivots of $R$.  \n",
    "3. Let $\\beta_C$ be the columns of $A$ that corresponds to the pivots.  \n",
    "\n",
    "Thus, $\\beta_C$ is a basis of $V$.  "
   ]
  },
  {
   "cell_type": "markdown",
   "metadata": {},
   "source": [
    "Let $\\bb$ be a vector in $\\mathbb{R}^n$.  \n",
    "Let $V$ be a subspace in $\\mathbb{R}^n$ spanned by a finite set of vectors $S$.  \n",
    "Then we may find the projection of $\\bb$ onto $V$ as follows.  \n",
    "1. Find a basis of $V$.  \n",
    "2. Write the matrix $A$ whose columns are the vectors in the basis.  \n",
    "3. The projection is $A(A\\trans A)^{-1}A\\trans \\bb$."
   ]
  },
  {
   "cell_type": "markdown",
   "metadata": {},
   "source": [
    "## Side stories\n",
    "- projection\n",
    "- basis with preferred vector"
   ]
  },
  {
   "cell_type": "markdown",
   "metadata": {},
   "source": [
    "## Experiments"
   ]
  },
  {
   "cell_type": "markdown",
   "metadata": {},
   "source": [
    "##### Exercise 1\n",
    "\n",
    "執行下方程式碼。  \n",
    "令 $R$ 為 $A$ 最簡階梯形式矩陣。  \n",
    "令 $S= \\{ \\bu_1, \\ldots, \\bu_5 \\}$ 為 $A$ 的各行向量且 $V = \\vspan(S)$。  \n",
    "\n",
    "<!-- eng start -->\n",
    "Run the code below.  Let $R$ be the reduced echelon form of $A$.  Let $S= \\{ \\bu_1, \\ldots, \\bu_5 \\}$ be the columns of $A$ and $V = \\vspan(S)$.    \n",
    "<!-- eng end -->"
   ]
  },
  {
   "cell_type": "code",
   "execution_count": null,
   "metadata": {
    "scrolled": true
   },
   "outputs": [],
   "source": [
    "### code\n",
    "set_random_seed(0)\n",
    "print_ans = False\n",
    "m,n,r = 3,5,2\n",
    "A, R, pivots = random_good_matrix(m,n,r, return_answer=True)\n",
    "C = column_space_matrix(A)\n",
    "\n",
    "print(\"A =\")\n",
    "show(A)\n",
    "print(\"R =\")\n",
    "show(R)\n",
    "\n",
    "if print_ans:\n",
    "    print(\"A basis of V can be the set of columns of\")\n",
    "    show(C)\n",
    "    free = [i for i in range(n) if i not in pivots]\n",
    "    for f in free:\n",
    "        print(\"u%s = \"%(f+1) + \" + \".join(\"%s u%s\"%(R[j,f], pivots[j]+1) for j in range(r)) )"
   ]
  },
  {
   "cell_type": "markdown",
   "metadata": {},
   "source": [
    "##### Exercise 1(a)\n",
    "\n",
    "求 $V$ 的一組基底。  \n",
    "\n",
    "<!-- eng start -->\n",
    "Find a basis of $V$.  \n",
    "<!-- eng end -->"
   ]
  },
  {
   "cell_type": "markdown",
   "metadata": {},
   "source": [
    "##### Exercise 1(b)\n",
    "\n",
    "把每個 $S$ 中不在基底裡的向量  \n",
    "寫成基底的線性組合。  \n",
    "\n",
    "<!-- eng start -->\n",
    "For any vector in $S$ but not in your basis in the previous problem, write it as a linear combination of the basis.  \n",
    "<!-- eng end -->"
   ]
  },
  {
   "cell_type": "markdown",
   "metadata": {},
   "source": [
    "## Exercises"
   ]
  },
  {
   "cell_type": "markdown",
   "metadata": {},
   "source": [
    "##### Exercise 2\n",
    "\n",
    "執行以下程式碼。  \n",
    "其中 $\\left[\\begin{array}{c|c} R & B \\end{array}\\right]$ 是 $\\left[\\begin{array}{c|c} A & I \\end{array}\\right]$ 的最簡階梯形式矩陣。  \n",
    "\n",
    "<!-- eng start -->\n",
    "Run the code below.  Let $\\left[\\begin{array}{c|c} R & B \\end{array}\\right]$ be the reduced echelon form $\\left[\\begin{array}{c|c} A & I \\end{array}\\right]$.  \n",
    "<!-- eng end -->"
   ]
  },
  {
   "cell_type": "code",
   "execution_count": null,
   "metadata": {},
   "outputs": [],
   "source": [
    "### code\n",
    "set_random_seed(0)\n",
    "print_ans = False\n",
    "m,n,r = 4,5,2\n",
    "A = random_good_matrix(m,n,r)\n",
    "AI = A.augment(identity_matrix(m), subdivide=True)\n",
    "RB = AI.rref()\n",
    "\n",
    "print(\"[ A | I ] =\")\n",
    "show(AI)\n",
    "print(\"[ R | B ] =\")\n",
    "show(RB)\n",
    "\n",
    "if print_ans:\n",
    "    print(\"A basis of the column space can be the set of columns of\")\n",
    "    show(column_space_matrix(A))\n",
    "    print(\"A basis of the left kernel can be the set of rows of\")\n",
    "    show(left_kernel_matrix(A))"
   ]
  },
  {
   "cell_type": "markdown",
   "metadata": {},
   "source": [
    "##### Exercise 2(a)\n",
    "\n",
    "求出 $\\Col(A)$ 的一組基底。  \n",
    "\n",
    "<!-- eng start -->\n",
    "Find a basis of $\\Col(A)$.  \n",
    "<!-- eng end -->"
   ]
  },
  {
   "cell_type": "markdown",
   "metadata": {},
   "source": [
    "##### Exercise 2(b)\n",
    "\n",
    "求出 $\\ker(A\\trans)$ 的一組基底。  \n",
    "\n",
    "<!-- eng start -->\n",
    "Find a basis of $\\ker(A\\trans)$.  \n",
    "<!-- eng end -->"
   ]
  },
  {
   "cell_type": "markdown",
   "metadata": {},
   "source": [
    "##### Exercise 3\n",
    "\n",
    "令  \n",
    "\n",
    "$$\n",
    "    A = \\begin{bmatrix}\n",
    "     1 & 0 & 0 & 0 & 0 \\\\\n",
    "     -1 & 1 & 1 & 0 & 0 \\\\\n",
    "     0 & -1 & 0 & 1 & 0 \\\\\n",
    "     0 & 0 & -1 & -1 & 1 \\\\\n",
    "     0 & 0 & 0 & 0 & -1 \\\\\n",
    "    \\end{bmatrix}\n",
    "$$  \n",
    "\n",
    "而 $S = \\{ \\bu_1, \\ldots, \\bu_5 \\}$ 為 $A$ 的各行向量。  \n",
    "集合 $S$ 有 $\\binom{5}{4} = 5$ 個大小為 $4$ 的子集。  \n",
    "把這些子集分類﹐哪些是行空間的基底？哪些不是？  \n",
    "\n",
    "<!-- eng start -->\n",
    "Let  \n",
    "\n",
    "$$\n",
    "    A = \\begin{bmatrix}\n",
    "     1 & 0 & 0 & 0 & 0 \\\\\n",
    "     -1 & 1 & 1 & 0 & 0 \\\\\n",
    "     0 & -1 & 0 & 1 & 0 \\\\\n",
    "     0 & 0 & -1 & -1 & 1 \\\\\n",
    "     0 & 0 & 0 & 0 & -1 \\\\\n",
    "    \\end{bmatrix}\n",
    "$$  \n",
    "\n",
    "and $S = \\{ \\bu_1, \\ldots, \\bu_5 \\}$ the columns of $A$.  The set $S$ contains $\\binom{5}{4} = 5$ subsets of size $3$.  For each of them, determine if it is a basis of $\\Col(A)$ or not.  \n",
    "<!-- eng end -->"
   ]
  },
  {
   "cell_type": "markdown",
   "metadata": {},
   "source": [
    "##### Exercise 4\n",
    "\n",
    "令 $A$ 為一矩陣而 $R$ 為其最簡階梯形式矩陣。  \n",
    "考慮 $R$ 的軸﹐  \n",
    "令 $A_p$ 為 $A$ 中對應到軸的那些行所組成的矩陣、  \n",
    "令 $R_p$ 為 $R$ 中對應到軸的那些行所組成的矩陣。  \n",
    "（所以 $A_p$ 的各行向量就是 $\\beta_C$。）  \n",
    "\n",
    "依序證明 $\\ker(R_p) = \\{ \\bzero \\}$ 以及 $\\ker(A_p) = \\{ \\bzero \\}$﹐  \n",
    "最後得到 $\\beta_C$ 是線性獨立的。  \n",
    "\n",
    "<!-- eng start -->\n",
    "Let $A$ be a matrix and $R$ its reduced echelon form.  Let $A_p$ be the submatrix of $A$ induced on the columns corresponding to the pivots of $R$.  Let $R_p$ be the submatrix of $R$ induced on the columns of its pivots.  (Therefore, the columns of $A_p$ form $\\beta_C$.)  \n",
    "\n",
    "Show that $\\ker(R_p) = \\{ \\bzero \\}$ and $\\ker(A_p) = \\{ \\bzero \\}$.  Use these facts to prove that $\\beta_C$ is linearly independent.  \n",
    "<!-- eng end -->"
   ]
  },
  {
   "cell_type": "markdown",
   "metadata": {},
   "source": [
    "##### Exercise 5\n",
    "\n",
    "若 $S = \\{ \\bu_1, \\ldots, \\bu_k \\}$ 為一群 $\\mathbb{R}^n$ 中的向量。  \n",
    "在某些比較簡單的狀況下﹐我們可以用以下的過程來說明 $S$ 是一個線性獨立集。  \n",
    "\n",
    "1. 令 $S' = S$。  \n",
    "2. 若 $j = 1,\\ldots, n$ 中有一個足標﹐使得 $S'$ 中的每個向量的第 $j$ 項都是零﹐除了 $\\bu_i$ 的第 $j$ 項不是零﹐則把 $\\bu_i$ 從 $S'$ 中拿掉。  \n",
    "3. 重覆步驟 2﹐如果最後可以把所有向量都拿掉的話﹐則 $S$ 是一個線性獨立集。  \n",
    "\n",
    "這個方法稱作 **zero forcing** 。  \n",
    "\n",
    "<!-- eng start -->\n",
    "Let $S = \\{ \\bu_1, \\ldots, \\bu_k \\}$ be some vectors in $\\mathbb{R}^n$.  In some special cases, we may use the following process to show that $S$ is linearly independent.   \n",
    "\n",
    "1. Let $S' = S$.  \n",
    "2. If for some $j = 1,\\ldots, n$, every vector in $S'$ has its $j$-th entry zero except for one vector $\\bu_i$ with its $j$-th entry nonzero, then remove $\\bu_i$ from $S'$.   \n",
    "3. Repeat Step 2.  If there is a way to remove all vectors, then $S$ is a linearly independent set.  \n",
    "\n",
    "This process is called **zero forcing** .  \n",
    "<!-- eng end -->"
   ]
  },
  {
   "cell_type": "markdown",
   "metadata": {},
   "source": [
    "##### Exercise 5(a)\n",
    "\n",
    "利用 zero forcing 的方法﹐  \n",
    "說明 \n",
    "\n",
    "$$ \n",
    "    A = \\begin{bmatrix}\n",
    "     1 & 0 & 0 & 0 & 1 \\\\\n",
    "     1 & 1 & 1 & 0 & 1 \\\\\n",
    "     1 & 1 & 1 & 1 & 1 \\\\\n",
    "     1 & 1 & 0 & 0 & 1 \\\\\n",
    "    \\end{bmatrix}\n",
    "$$\n",
    "\n",
    "的列向量集合是線性獨立的。  \n",
    "\n",
    "<!-- eng start -->\n",
    "Use zero forcing to show that the rows of  \n",
    "\n",
    "$$ \n",
    "    A = \\begin{bmatrix}\n",
    "     1 & 0 & 0 & 0 & 1 \\\\\n",
    "     1 & 1 & 1 & 0 & 1 \\\\\n",
    "     1 & 1 & 1 & 1 & 1 \\\\\n",
    "     1 & 1 & 0 & 0 & 1 \\\\\n",
    "    \\end{bmatrix}\n",
    "$$\n",
    "\n",
    "form a linearly independent set.  \n",
    "<!-- eng end -->"
   ]
  },
  {
   "cell_type": "markdown",
   "metadata": {},
   "source": [
    "##### Exercise 5(b)\n",
    "\n",
    "說明  \n",
    "\n",
    "$$ \n",
    "    A = \\begin{bmatrix}\n",
    "     1 & 1 & 1 & 1  \\\\\n",
    "     1 & 2 & 4 & 8  \\\\\n",
    "     1 & 3 & 9 & 27 \\\\\n",
    "    \\end{bmatrix}\n",
    "$$  \n",
    "\n",
    "的列向量集合是線性獨立的﹐  \n",
    "但 zero forcing 的方法並不適用。  \n",
    "\n",
    "<!-- eng start -->\n",
    "Verify that the row of \n",
    "\n",
    "$$ \n",
    "    A = \\begin{bmatrix}\n",
    "     1 & 1 & 1 & 1  \\\\\n",
    "     1 & 2 & 4 & 8  \\\\\n",
    "     1 & 3 & 9 & 27 \\\\\n",
    "    \\end{bmatrix}\n",
    "$$  \n",
    "\n",
    "form a linearly independent set, but zero forcing fails to show the independence.  \n",
    "<!-- eng end -->"
   ]
  },
  {
   "cell_type": "markdown",
   "metadata": {},
   "source": [
    "##### Exercise 6\n",
    "\n",
    "利用 zero forcing 的方法來說明 $\\beta_L$ 是線性獨立的。  \n",
    "\n",
    "<!-- eng start -->\n",
    "Use zero forcing to show that $\\beta_L$ is linearly independent.  \n",
    "<!-- eng end -->"
   ]
  },
  {
   "cell_type": "markdown",
   "metadata": {},
   "source": [
    "##### Exercise 7\n",
    "\n",
    "令  \n",
    "\n",
    "$$\n",
    "    A = \\begin{bmatrix}\n",
    "     1 & 0 & 0 & 0 & 0 \\\\\n",
    "     -1 & 1 & 1 & 0 & 0 \\\\\n",
    "     0 & -1 & 0 & 1 & 0 \\\\\n",
    "     0 & 0 & -1 & -1 & 1 \\\\\n",
    "     0 & 0 & 0 & 0 & -1 \\\\\n",
    "    \\end{bmatrix}\n",
    "$$  \n",
    "\n",
    "而 $S = \\{ \\bu_1, \\ldots, \\bu_5 \\}$ 為 $A$ 的各行向量。  \n",
    "令 $A'$ 是把 $A$ 中第一行和第四行互換所得的矩陣。  \n",
    "因此 $\\Col(A) = \\Col(A')$。  \n",
    "計算 $A$ 和 $A'$ 各自算出來的 $\\beta_C$。  \n",
    "它們一樣嗎？  \n",
    "\n",
    "（這個例子說明如果想把確保某一個非零向量有被選到基底中﹐  \n",
    "只要把它放在第一行再做高斯消去法就好。）\n",
    "\n",
    "<!-- eng start -->\n",
    "Let  \n",
    "\n",
    "$$\n",
    "    A = \\begin{bmatrix}\n",
    "     1 & 0 & 0 & 0 & 0 \\\\\n",
    "     -1 & 1 & 1 & 0 & 0 \\\\\n",
    "     0 & -1 & 0 & 1 & 0 \\\\\n",
    "     0 & 0 & -1 & -1 & 1 \\\\\n",
    "     0 & 0 & 0 & 0 & -1 \\\\\n",
    "    \\end{bmatrix}\n",
    "$$  \n",
    "\n",
    "and $S = \\{ \\bu_1, \\ldots, \\bu_5 \\}$ the columns of $A$.  Let $A'$ be the matrix obtained from $A$ by switching the first column and the fourth column.  Thus, $\\Col(A) = \\Col(A')$.  Find the $\\beta_C$ for $A$ and for $A'$, respectively.  Are they the same?  \n",
    "\n",
    "This example shows that if we wish a column to be selected into the basis of the column space, then we may put it as the first column and then run the Gaussian elimination.  \n",
    "<!-- eng end -->"
   ]
  }
 ],
 "metadata": {
  "kernelspec": {
   "display_name": "SageMath 9.6",
   "language": "sage",
   "name": "sagemath"
  },
  "language_info": {
   "codemirror_mode": {
    "name": "ipython",
    "version": 3
   },
   "file_extension": ".py",
   "mimetype": "text/x-python",
   "name": "python",
   "nbconvert_exporter": "python",
   "pygments_lexer": "ipython3",
   "version": "3.10.5"
  }
 },
 "nbformat": 4,
 "nbformat_minor": 4
}
