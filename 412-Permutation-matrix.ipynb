{
 "cells": [
  {
   "cell_type": "markdown",
   "metadata": {},
   "source": [
    "# 排列矩陣"
   ]
  },
  {
   "cell_type": "markdown",
   "metadata": {},
   "source": [
    "![Creative Commons License](https://i.creativecommons.org/l/by/4.0/88x31.png)  \n",
    "This work by Jephian Lin is licensed under a [Creative Commons Attribution 4.0 International License](http://creativecommons.org/licenses/by/4.0/)."
   ]
  },
  {
   "cell_type": "markdown",
   "metadata": {},
   "source": [
    "$\\newcommand{\\trans}{^\\top}\n",
    "\\newcommand{\\adj}{^{\\rm adj}}\n",
    "\\newcommand{\\cof}{^{\\rm cof}}\n",
    "\\newcommand{\\inp}[2]{\\left\\langle#1,#2\\right\\rangle}\n",
    "\\newcommand{\\dunion}{\\mathbin{\\dot\\cup}}\n",
    "\\newcommand{\\bzero}{\\mathbf{0}}\n",
    "\\newcommand{\\bone}{\\mathbf{1}}\n",
    "\\newcommand{\\ba}{\\mathbf{a}}\n",
    "\\newcommand{\\bb}{\\mathbf{b}}\n",
    "\\newcommand{\\bc}{\\mathbf{c}}\n",
    "\\newcommand{\\bd}{\\mathbf{d}}\n",
    "\\newcommand{\\be}{\\mathbf{e}}\n",
    "\\newcommand{\\bh}{\\mathbf{h}}\n",
    "\\newcommand{\\bp}{\\mathbf{p}}\n",
    "\\newcommand{\\bq}{\\mathbf{q}}\n",
    "\\newcommand{\\br}{\\mathbf{r}}\n",
    "\\newcommand{\\bx}{\\mathbf{x}}\n",
    "\\newcommand{\\by}{\\mathbf{y}}\n",
    "\\newcommand{\\bz}{\\mathbf{z}}\n",
    "\\newcommand{\\bu}{\\mathbf{u}}\n",
    "\\newcommand{\\bv}{\\mathbf{v}}\n",
    "\\newcommand{\\bw}{\\mathbf{w}}\n",
    "\\newcommand{\\tr}{\\operatorname{tr}}\n",
    "\\newcommand{\\nul}{\\operatorname{null}}\n",
    "\\newcommand{\\rank}{\\operatorname{rank}}\n",
    "%\\newcommand{\\ker}{\\operatorname{ker}}\n",
    "\\newcommand{\\range}{\\operatorname{range}}\n",
    "\\newcommand{\\Col}{\\operatorname{Col}}\n",
    "\\newcommand{\\Row}{\\operatorname{Row}}\n",
    "\\newcommand{\\spec}{\\operatorname{spec}}\n",
    "\\newcommand{\\vspan}{\\operatorname{span}}\n",
    "\\newcommand{\\Vol}{\\operatorname{Vol}}\n",
    "\\newcommand{\\sgn}{\\operatorname{sgn}}\n",
    "\\newcommand{\\idmap}{\\operatorname{id}}$"
   ]
  },
  {
   "cell_type": "code",
   "execution_count": null,
   "metadata": {},
   "outputs": [],
   "source": [
    "from gnm import *"
   ]
  },
  {
   "cell_type": "markdown",
   "metadata": {},
   "source": [
    "## Main idea"
   ]
  },
  {
   "cell_type": "markdown",
   "metadata": {},
   "source": [
    "Let $[n] = \\{1,\\ldots,n\\}$.  \n",
    "A **permutation** is a bijection from $[n]$ to itself.  \n",
    "The identity map $\\idmap_n: [n]\\rightarrow [n]$ with $\\idmap_n(x) = x$ is called the **identity permutation** .  \n",
    "Let $\\mathfrak{S}_n$ be the set of all permutations on $[n]$.  \n",
    "There are several ways to represents a permutation $\\sigma: [n]\\rightarrow [n]$."
   ]
  },
  {
   "cell_type": "markdown",
   "metadata": {},
   "source": [
    "**Two-line representation**:  \n",
    "$$\n",
    "    \\begin{array}{cccc}\n",
    "     1 & 2 & \\cdots & n \\\\\n",
    "     \\sigma(1) & \\sigma(2) & \\cdots & \\sigma(n)\n",
    "    \\end{array}\n",
    "$$  \n",
    "This notation is a bit lengthy but it is easy to see the inverse."
   ]
  },
  {
   "cell_type": "markdown",
   "metadata": {},
   "source": [
    "**One-line representation**:  \n",
    "$$\n",
    "    \\sigma(1)\\sigma(2)\\cdots\\sigma(n)\n",
    "$$\n",
    "This one is short but hard to see the connection between $i$ and $\\sigma(i)$."
   ]
  },
  {
   "cell_type": "markdown",
   "metadata": {},
   "source": [
    "**Cycle representation**:  \n",
    "$$\n",
    "    \\big(i_1\\sigma(i_1)\\sigma^2(i_1)\\cdots\\big)\\big(i_2\\sigma(i_2)\\sigma^2(i_2)\\cdots\\big) \\cdots\n",
    "$$\n",
    "It shows the cycle behavior of a permutation but is less easy to calculate the composition of two permutations."
   ]
  },
  {
   "cell_type": "markdown",
   "metadata": {},
   "source": [
    "**Graph representation**:\n",
    "$$\n",
    "    \\begin{aligned}\n",
    "    V &= [n] \\\\\n",
    "    E &= \\{(i,\\sigma(i)): i\\in [n]\\} \\\\\n",
    "    G_\\sigma &= (V,E)\n",
    "    \\end{aligned}\n",
    "$$\n",
    "This is a **digraph** on $n$ **vertices** and $n$ **directed edges**.  \n",
    "Note that the digraph $G$ is composed of several cycles."
   ]
  },
  {
   "cell_type": "markdown",
   "metadata": {},
   "source": [
    "The **sign** of a permutation $\\sigma$ is  \n",
    "$$\n",
    "    \\sgn(\\sigma) = (-1)^k = (-1)^{n + c(\\sigma)}.\n",
    "$$\n",
    "where $k$ is the number of swaps of two values on the one-line representation so that it can becomes $12\\ldots n$,  \n",
    "while $c(\\sigma)$ is the number of cycles in $G_\\sigma$.  "
   ]
  },
  {
   "cell_type": "markdown",
   "metadata": {},
   "source": [
    "Let $\\sigma$ be a permutation on $[n]$.  \n",
    "The **permutation matrix** $P_\\sigma$ of $\\sigma$ is the $0,1$-matrix whose $i,\\sigma(i)$-entries are $1$ for $i = 1,\\ldots,n$.  \n",
    "Therefore, a permutation matrix is a matrix such that there is a unique $1$ one each row and each column.  \n",
    "It turns out that  \n",
    "$$\n",
    "    \\det(P_\\sigma) = \\sgn(\\sigma).\n",
    "$$"
   ]
  },
  {
   "cell_type": "markdown",
   "metadata": {},
   "source": [
    "## Side stories\n",
    "\n",
    "- well-defined\n",
    "- Stirling numbers"
   ]
  },
  {
   "cell_type": "markdown",
   "metadata": {},
   "source": [
    "## Experiments"
   ]
  },
  {
   "cell_type": "markdown",
   "metadata": {},
   "source": [
    "##### Exercise 1\n",
    "\n",
    "執行以下程式碼。  "
   ]
  },
  {
   "cell_type": "code",
   "execution_count": null,
   "metadata": {
    "scrolled": false
   },
   "outputs": [],
   "source": [
    "### code\n",
    "set_random_seed(None)\n",
    "print_ans = False\n",
    "\n",
    "n = 5\n",
    "sigma = random_permutation(n)\n",
    "print(\"n = \", n)\n",
    "print(\"one-line representation of sigma =\", sigma)\n",
    "\n",
    "if print_ans:\n",
    "    print(\"Two-line representation:\")\n",
    "    print(two_line_repr(sigma))\n",
    "    print(\"Cycle representation:\")\n",
    "    print(cycle_repr(sigma))\n",
    "    print(\"One may convert sigma back to 12...n by the following swaps:\")\n",
    "    print(permutation_sort(sigma))\n",
    "    print(\"sgn(sigma) =\", permutation_sign(sigma))\n",
    "    permutation_digraph(sigma).show()\n",
    "    P = permutation_matrix(sigma)\n",
    "    print(\"permutation matrix =\")\n",
    "    pretty_print(P)\n",
    "    print(\"det(P) =\", P.det())"
   ]
  },
  {
   "cell_type": "markdown",
   "metadata": {},
   "source": [
    "##### Exercise 1(a)\n",
    "\n",
    "寫出 $\\sigma$ 的雙行表示法、以及循環表示法。  \n",
    "說明如何將 $\\sigma$ 單行表示法經過元素互換變回 $12\\ldots n$。  \n",
    "最後求出 $\\sgn(\\sigma)$。"
   ]
  },
  {
   "cell_type": "markdown",
   "metadata": {},
   "source": [
    "##### Exercise 1(b)\n",
    "\n",
    "畫出 $\\sigma$ 的圖表示法 $G_\\sigma$、  \n",
    "計算 $G_\\sigma$ 上的圈數、  \n",
    "並求出 $\\sgn(\\sigma)$。  "
   ]
  },
  {
   "cell_type": "markdown",
   "metadata": {},
   "source": [
    "##### Exercise 1(b)\n",
    "\n",
    "寫下 $\\sigma$ 的排列矩陣 $P_\\sigma$，  \n",
    "並求出 $\\det(P_\\sigma)$。  "
   ]
  },
  {
   "cell_type": "markdown",
   "metadata": {},
   "source": [
    "## Exercises"
   ]
  },
  {
   "cell_type": "markdown",
   "metadata": {},
   "source": [
    "##### Exercise 2\n",
    "\n",
    "當 $n = 2$ 時，\n",
    "下表列出所有 $\\mathfrak{S}_n$ 中排列、  \n",
    "其單行表示法、循環表示法、及其正負號：\n",
    "\n",
    "one-line repr | cycle repr | sign \n",
    "--------|--------|--------\n",
    "$12$ | $(1)(2)$ | $1$\n",
    "$21$ | $(12)$ | $-1$\n",
    "\n",
    "分別建立 $n = 3$ 及 $n = 4$ 的表格。"
   ]
  },
  {
   "cell_type": "markdown",
   "metadata": {},
   "source": [
    "##### Exercise 3\n",
    "\n",
    "以下練習討論將一個排列變回單位排列所需的置換數。"
   ]
  },
  {
   "cell_type": "markdown",
   "metadata": {},
   "source": [
    "##### Exercise 3(a)\n",
    "\n",
    "令 $\\sigma$ 的循環表示法為 $(1,2,3)$。  \n",
    "求要經過幾次置換（元換互換）才能將 $\\sigma$ 的單行表示法變回 $123$。  "
   ]
  },
  {
   "cell_type": "markdown",
   "metadata": {},
   "source": [
    "##### Exercise 3(b)\n",
    "\n",
    "令 $\\sigma$ 的循環表示法為 $(1,2,3,4)$。  \n",
    "求要經過幾次置換（元換互換）才能將 $\\sigma$ 的單行表示法變回 $1234$。  "
   ]
  },
  {
   "cell_type": "markdown",
   "metadata": {},
   "source": [
    "##### Exercise 3(c)\n",
    "\n",
    "若 $\\sigma$ 的循環表示法中只有一個循環且長度為 $n$。  \n",
    "求要經過幾次置換（元換互換）才能將 $\\sigma$ 的單行表示法變回 $12\\cdots n$。  "
   ]
  },
  {
   "cell_type": "markdown",
   "metadata": {},
   "source": [
    "##### Exercise 3(d)\n",
    "\n",
    "若 $\\sigma$ 的循環表示法中包含 $k$ 個循環，  \n",
    "且每個循環且長度分別為 $n_1, n_2, \\ldots, n_k$。  \n",
    "令 $n = n_1 + \\cdots + n_k$。  \n",
    "求要經過幾次置換（元換互換）才能將 $\\sigma$ 的單行表示法變回 $12\\cdots n$。  "
   ]
  },
  {
   "cell_type": "markdown",
   "metadata": {},
   "source": [
    "##### Exercise 3(e)\n",
    "\n",
    "說明對任意 $[n]$ 上的排列 $\\sigma$，  \n",
    "所需的置換數和 $n + c(\\sigma)$ 的奇偶性一致。"
   ]
  },
  {
   "cell_type": "markdown",
   "metadata": {},
   "source": [
    "##### Exercise 4\n",
    "\n",
    "若 $\\sigma$ 為 $[n]$ 上的一個排列。  \n",
    "說明 $f(\\sigma) = (-1)^{n + c(\\sigma)}$ 符合以下性質：  \n",
    "\n",
    "1. $f(\\idmap_n) = 1$。   \n",
    "2. 若將 $\\sigma$ 的單行表示法中的 $\\sigma(i)$ 和 $\\sigma(j)$ 互換而得到一個新的排列 $\\tau$，  \n",
    "則 $f(\\tau) = -f(\\sigma)$。  \n",
    "\n",
    "因此 $\\sgn(\\sigma) = f(\\sigma)$ 是一個定義完善的函數。"
   ]
  },
  {
   "cell_type": "markdown",
   "metadata": {},
   "source": [
    "##### Exercise 5\n",
    "\n",
    "給定兩個整數 $n\\geq k \\geq 0$。  \n",
    "**第一類斯特靈數（Stirling numbers of the first kind）** $s(n,k)$  \n",
    "指的是 $\\mathfrak{S}_n$ 中恰有 $k$ 個循環的排列的個數  \n",
    "乘上 $(-1)^{n-k}$。  \n",
    "**第一類斯特靈數（Stirling numbers of the first kind）** $S(n,k)$  \n",
    "指的是要把 $[n]$ 分成非空的 $k$ 堆的分法數。\n",
    "\n",
    "對於 $i,j \\in \\{0,1,2,3\\}$ 將 $s(i,j)$ 寫成一個 $4\\times 4$ 矩陣 $S_1$。  \n",
    "對於 $i,j \\in \\{0,1,2,3\\}$ 將 $S(i,j)$ 寫成一個 $4\\times 4$ 矩陣 $S_2$。  \n",
    "寫出 $S_1$ 和 $S_2$，並觀察其和 410-7 中矩陣的關係。"
   ]
  }
 ],
 "metadata": {
  "kernelspec": {
   "display_name": "SageMath 9.4",
   "language": "sage",
   "name": "sagemath"
  },
  "language_info": {
   "codemirror_mode": {
    "name": "ipython",
    "version": 3
   },
   "file_extension": ".py",
   "mimetype": "text/x-python",
   "name": "python",
   "nbconvert_exporter": "python",
   "pygments_lexer": "ipython3",
   "version": "3.10.1"
  }
 },
 "nbformat": 4,
 "nbformat_minor": 4
}
