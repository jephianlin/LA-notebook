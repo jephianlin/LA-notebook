{
 "cells": [
  {
   "cell_type": "markdown",
   "metadata": {},
   "source": [
    "# 排列矩陣"
   ]
  },
  {
   "cell_type": "markdown",
   "metadata": {},
   "source": [
    "![Creative Commons License](https://i.creativecommons.org/l/by/4.0/88x31.png)  \n",
    "This work by Jephian Lin is licensed under a [Creative Commons Attribution 4.0 International License](http://creativecommons.org/licenses/by/4.0/)."
   ]
  },
  {
   "cell_type": "markdown",
   "metadata": {},
   "source": [
    "$\\newcommand{\\trans}{^\\top}\n",
    "\\newcommand{\\adj}{^{\\rm adj}}\n",
    "\\newcommand{\\cof}{^{\\rm cof}}\n",
    "\\newcommand{\\inp}[2]{\\left\\langle#1,#2\\right\\rangle}\n",
    "\\newcommand{\\dunion}{\\mathbin{\\dot\\cup}}\n",
    "\\newcommand{\\bzero}{\\mathbf{0}}\n",
    "\\newcommand{\\bone}{\\mathbf{1}}\n",
    "\\newcommand{\\ba}{\\mathbf{a}}\n",
    "\\newcommand{\\bb}{\\mathbf{b}}\n",
    "\\newcommand{\\bc}{\\mathbf{c}}\n",
    "\\newcommand{\\bd}{\\mathbf{d}}\n",
    "\\newcommand{\\be}{\\mathbf{e}}\n",
    "\\newcommand{\\bh}{\\mathbf{h}}\n",
    "\\newcommand{\\bp}{\\mathbf{p}}\n",
    "\\newcommand{\\bq}{\\mathbf{q}}\n",
    "\\newcommand{\\br}{\\mathbf{r}}\n",
    "\\newcommand{\\bx}{\\mathbf{x}}\n",
    "\\newcommand{\\by}{\\mathbf{y}}\n",
    "\\newcommand{\\bz}{\\mathbf{z}}\n",
    "\\newcommand{\\bu}{\\mathbf{u}}\n",
    "\\newcommand{\\bv}{\\mathbf{v}}\n",
    "\\newcommand{\\bw}{\\mathbf{w}}\n",
    "\\newcommand{\\tr}{\\operatorname{tr}}\n",
    "\\newcommand{\\nul}{\\operatorname{null}}\n",
    "\\newcommand{\\rank}{\\operatorname{rank}}\n",
    "%\\newcommand{\\ker}{\\operatorname{ker}}\n",
    "\\newcommand{\\range}{\\operatorname{range}}\n",
    "\\newcommand{\\Col}{\\operatorname{Col}}\n",
    "\\newcommand{\\Row}{\\operatorname{Row}}\n",
    "\\newcommand{\\spec}{\\operatorname{spec}}\n",
    "\\newcommand{\\vspan}{\\operatorname{span}}\n",
    "\\newcommand{\\Vol}{\\operatorname{Vol}}\n",
    "\\newcommand{\\sgn}{\\operatorname{sgn}}\n",
    "\\newcommand{\\idmap}{\\operatorname{id}}\n",
    "\\newcommand{\\am}{\\operatorname{am}}\n",
    "\\newcommand{\\gm}{\\operatorname{gm}}\n",
    "\\newcommand{\\mult}{\\operatorname{mult}}\n",
    "\\newcommand{\\iner}{\\operatorname{iner}}$"
   ]
  },
  {
   "cell_type": "code",
   "execution_count": null,
   "metadata": {},
   "outputs": [],
   "source": [
    "from gnm import random_permutation"
   ]
  },
  {
   "cell_type": "markdown",
   "metadata": {},
   "source": [
    "## Main idea"
   ]
  },
  {
   "cell_type": "markdown",
   "metadata": {},
   "source": [
    "Let $[n] = \\{1,\\ldots,n\\}$.  \n",
    "A **permutation** is a bijection from $[n]$ to itself.  \n",
    "The identity map $\\idmap_n: [n]\\rightarrow [n]$ with $\\idmap_n(x) = x$ is called the **identity permutation** .  \n",
    "Let $\\mathfrak{S}_n$ be the set of all permutations on $[n]$.  \n",
    "There are several ways to represents a permutation $\\sigma: [n]\\rightarrow [n]$."
   ]
  },
  {
   "cell_type": "markdown",
   "metadata": {},
   "source": [
    "**Two-line representation**:  \n",
    "\n",
    "$$\n",
    "    \\begin{array}{cccc}\n",
    "     1 & 2 & \\cdots & n \\\\\n",
    "     \\sigma(1) & \\sigma(2) & \\cdots & \\sigma(n)\n",
    "    \\end{array}\n",
    "$$  \n",
    "\n",
    "This notation is a bit lengthy but it is easy to see the inverse."
   ]
  },
  {
   "cell_type": "markdown",
   "metadata": {},
   "source": [
    "**One-line representation**:  \n",
    "\n",
    "$$\n",
    "    \\sigma(1)\\sigma(2)\\cdots\\sigma(n)\n",
    "$$\n",
    "\n",
    "This one is short but hard to see the connection between $i$ and $\\sigma(i)$."
   ]
  },
  {
   "cell_type": "markdown",
   "metadata": {},
   "source": [
    "**Cycle representation**:  \n",
    "\n",
    "$$\n",
    "    \\big(i_1\\sigma(i_1)\\sigma^2(i_1)\\cdots\\big)\\big(i_2\\sigma(i_2)\\sigma^2(i_2)\\cdots\\big) \\cdots\n",
    "$$\n",
    "\n",
    "It shows the cycle behavior of a permutation but is less easy to calculate the composition of two permutations."
   ]
  },
  {
   "cell_type": "markdown",
   "metadata": {},
   "source": [
    "**Graph representation**:\n",
    "\n",
    "$$\n",
    "    \\begin{aligned}\n",
    "    V &= [n] \\\\\n",
    "    E &= \\{(i,\\sigma(i)): i\\in [n]\\} \\\\\n",
    "    G_\\sigma &= (V,E)\n",
    "    \\end{aligned}\n",
    "$$\n",
    "\n",
    "This is a **digraph** on $n$ **vertices** and $n$ **directed edges**.  \n",
    "Note that the digraph $G$ is composed of several cycles."
   ]
  },
  {
   "cell_type": "markdown",
   "metadata": {},
   "source": [
    "The **sign** of a permutation $\\sigma$ is  \n",
    "\n",
    "$$\n",
    "    \\sgn(\\sigma) = (-1)^k = (-1)^{n + c(\\sigma)}.\n",
    "$$\n",
    "\n",
    "where $k$ is the number of swaps of two values on the one-line representation so that it can becomes $12\\ldots n$,  \n",
    "while $c(\\sigma)$ is the number of cycles in $G_\\sigma$.  "
   ]
  },
  {
   "cell_type": "markdown",
   "metadata": {},
   "source": [
    "Let $\\sigma$ be a permutation on $[n]$.  \n",
    "The **permutation matrix** $P_\\sigma$ of $\\sigma$ is the $0,1$-matrix whose $i,\\sigma(i)$-entries are $1$ for $i = 1,\\ldots,n$.  \n",
    "Therefore, a permutation matrix is a matrix such that there is a unique $1$ one each row and each column.  \n",
    "It turns out that  \n",
    "\n",
    "$$\n",
    "    \\det(P_\\sigma) = \\sgn(\\sigma).\n",
    "$$"
   ]
  },
  {
   "cell_type": "markdown",
   "metadata": {},
   "source": [
    "## Side stories\n",
    "\n",
    "- well-defined\n",
    "- Stirling numbers"
   ]
  },
  {
   "cell_type": "markdown",
   "metadata": {},
   "source": [
    "## Experiments"
   ]
  },
  {
   "cell_type": "markdown",
   "metadata": {},
   "source": [
    "##### Exercise 1\n",
    "\n",
    "執行以下程式碼。  \n",
    "\n",
    "<!-- eng start -->\n",
    "Run the code below.  \n",
    "<!-- eng end -->"
   ]
  },
  {
   "cell_type": "code",
   "execution_count": null,
   "metadata": {
    "scrolled": false
   },
   "outputs": [],
   "source": [
    "### code\n",
    "set_random_seed(0)\n",
    "print_ans = False\n",
    "\n",
    "n = 5\n",
    "sigma = random_permutation(n)\n",
    "print(\"n = \", n)\n",
    "print(\"one-line representation of sigma =\", sigma.one_line)\n",
    "\n",
    "if print_ans:\n",
    "    print(\"Two-line representation:\")\n",
    "    print(sigma.two_line_repr())\n",
    "    print(\"Cycle representation:\")\n",
    "    print(sigma.cycle_repr())\n",
    "    print(\"One may convert sigma back to 12...n by the following swaps:\")\n",
    "    print(sigma.sort())\n",
    "    print(\"sgn(sigma) =\", sigma.sign())\n",
    "    sigma.digraph().show()\n",
    "    P = sigma.matrix()\n",
    "    print(\"permutation matrix =\")\n",
    "    pretty_print(P)\n",
    "    print(\"det(P) =\", P.det())"
   ]
  },
  {
   "cell_type": "markdown",
   "metadata": {},
   "source": [
    "##### Exercise 1(a)\n",
    "\n",
    "寫出 $\\sigma$ 的雙行表示法、以及循環表示法。  \n",
    "說明如何將 $\\sigma$ 單行表示法經過元素互換變回 $12\\ldots n$。  \n",
    "最後求出 $\\sgn(\\sigma)$。  \n",
    "\n",
    "<!-- eng start -->\n",
    "Find the two-line representation and the cycle representation of $\\sigma$.  Explain how to start from its one-line representation and reach $12\\ldots n$ by switching elements.  Then find $\\sgn(\\sigma)$.  \n",
    "<!-- eng end -->"
   ]
  },
  {
   "cell_type": "markdown",
   "metadata": {},
   "source": [
    "##### Exercise 1(b)\n",
    "\n",
    "畫出 $\\sigma$ 的圖表示法 $G_\\sigma$、  \n",
    "計算 $G_\\sigma$ 上的圈數、  \n",
    "並求出 $\\sgn(\\sigma)$。  \n",
    "\n",
    "<!-- eng start -->\n",
    "Draw the graph representation $G_\\sigma$ for $\\sigma$, count the number of cycles on $G_\\sigma$, and then find $\\sgn(\\sigma)$.  \n",
    "<!-- eng end -->"
   ]
  },
  {
   "cell_type": "markdown",
   "metadata": {},
   "source": [
    "##### Exercise 1(b)\n",
    "\n",
    "寫下 $\\sigma$ 的排列矩陣 $P_\\sigma$，  \n",
    "並求出 $\\det(P_\\sigma)$。  \n",
    "\n",
    "<!-- eng start -->\n",
    "Find the permutation matrix $P_\\sigma$ for $\\sigma$ and then find $\\det(P_\\sigma)$.  \n",
    "<!-- eng end -->"
   ]
  },
  {
   "cell_type": "markdown",
   "metadata": {},
   "source": [
    "## Exercises"
   ]
  },
  {
   "cell_type": "markdown",
   "metadata": {},
   "source": [
    "##### Exercise 2\n",
    "\n",
    "當 $n = 2$ 時，\n",
    "下表列出所有 $\\mathfrak{S}_n$ 中排列、  \n",
    "其單行表示法、循環表示法、及其正負號：\n",
    "\n",
    "one-line repr | cycle repr | sign \n",
    "--------|--------|--------\n",
    "$12$ | $(1)(2)$ | $1$\n",
    "$21$ | $(12)$ | $-1$\n",
    "\n",
    "分別建立 $n = 3$ 及 $n = 4$ 的表格。  \n",
    "\n",
    "<!-- eng start -->\n",
    "For $n = 2$, list all permuatations in $\\mathfrak{S}_n$ can find the one-line representation, cycle representation, and the sign for each of them.  \n",
    "\n",
    "one-line repr | cycle repr | sign \n",
    "--------|--------|--------\n",
    "$12$ | $(1)(2)$ | $1$\n",
    "$21$ | $(12)$ | $-1$\n",
    "\n",
    "Also build the table for $n = 3$ and $n = 4$.  \n",
    "<!-- eng end -->"
   ]
  },
  {
   "cell_type": "markdown",
   "metadata": {},
   "source": [
    "##### Exercise 3\n",
    "\n",
    "以下練習討論將一個排列變回單位排列所需的置換數。  \n",
    "\n",
    "<!-- eng start -->\n",
    "The following exercises study the number of steps of switching elements in order to obtain the identity permutation.  \n",
    "<!-- eng end -->"
   ]
  },
  {
   "cell_type": "markdown",
   "metadata": {},
   "source": [
    "##### Exercise 3(a)\n",
    "\n",
    "令 $\\sigma$ 的循環表示法為 $(1,2,3)$。  \n",
    "求要經過幾次置換（元換互換）才能將 $\\sigma$ 的單行表示法變回 $123$。  \n",
    "\n",
    "<!-- eng start -->\n",
    "Let $\\sigma$ be the permutation with its cycle representation $(1,2,3)$.  How many steps of switching elements are required to make it back to the identity permutation with the one-line representation $123$.  \n",
    "<!-- eng end -->"
   ]
  },
  {
   "cell_type": "markdown",
   "metadata": {},
   "source": [
    "##### Exercise 3(b)\n",
    "\n",
    "令 $\\sigma$ 的循環表示法為 $(1,2,3,4)$。  \n",
    "求要經過幾次置換（元換互換）才能將 $\\sigma$ 的單行表示法變回 $1234$。  \n",
    "\n",
    "<!-- eng start -->\n",
    "Let $\\sigma$ be the permutation with its cycle representation $(1,2,3,4)$.  How many steps of switching elements are required to make it back to the identity permutation with the one-line representation $1234$.  \n",
    "<!-- eng end -->"
   ]
  },
  {
   "cell_type": "markdown",
   "metadata": {},
   "source": [
    "##### Exercise 3(c)\n",
    "\n",
    "若 $\\sigma$ 的循環表示法中只有一個循環且長度為 $n$。  \n",
    "求要經過幾次置換（元換互換）才能將 $\\sigma$ 的單行表示法變回 $12\\cdots n$。  \n",
    "\n",
    "<!-- eng start -->\n",
    "Suppose $\\sigma$ be a permutation with only one cycle of length $n$.  How many steps of switching elements are required to make it back to the identity permutation with the one-line representation $12\\cdots n$.  \n",
    "<!-- eng end -->"
   ]
  },
  {
   "cell_type": "markdown",
   "metadata": {},
   "source": [
    "##### Exercise 3(d)\n",
    "\n",
    "若 $\\sigma$ 的循環表示法中包含 $k$ 個循環，  \n",
    "且每個循環且長度分別為 $n_1, n_2, \\ldots, n_k$。  \n",
    "令 $n = n_1 + \\cdots + n_k$。  \n",
    "求要經過幾次置換（元換互換）才能將 $\\sigma$ 的單行表示法變回 $12\\cdots n$。  \n",
    "\n",
    "<!-- eng start -->\n",
    "Suppose $\\sigma$ be a permutation with $k$ cycles and their lengths are $n_1, n_2, \\ldots, n_k$.  Let $n = n_1 + \\cdots + n_k$.  How many steps of switching elements are required to make it back to the identity permutation with the one-line representation $12\\cdots n$.  \n",
    "<!-- eng end -->"
   ]
  },
  {
   "cell_type": "markdown",
   "metadata": {},
   "source": [
    "##### Exercise 3(e)\n",
    "\n",
    "說明對任意 $[n]$ 上的排列 $\\sigma$，  \n",
    "所需的置換數和 $n + c(\\sigma)$ 的奇偶性一致。  \n",
    "\n",
    "<!-- eng start -->\n",
    "For any permutation $\\sigma$ on $[n]$, explain why the number of steps of switching elements and $n + c(\\sigma)$ have the same parity.  \n",
    "<!-- eng end -->"
   ]
  },
  {
   "cell_type": "markdown",
   "metadata": {},
   "source": [
    "##### Exercise 4\n",
    "\n",
    "若 $\\sigma$ 為 $[n]$ 上的一個排列。  \n",
    "說明 $f(\\sigma) = (-1)^{n + c(\\sigma)}$ 符合以下性質：  \n",
    "\n",
    "1. $f(\\idmap_n) = 1$。   \n",
    "2. 若將 $\\sigma$ 的單行表示法中的 $\\sigma(i)$ 和 $\\sigma(j)$ 互換而得到一個新的排列 $\\tau$，  \n",
    "則 $f(\\tau) = -f(\\sigma)$。  \n",
    "\n",
    "因此 $\\sgn(\\sigma) = f(\\sigma)$ 是一個定義完善的函數。\n",
    "\n",
    "<!-- eng start -->\n",
    "Let $\\sigma$ be a permutation on $[n]$.  Explain why $f(\\sigma) = (-1)^{n + c(\\sigma)}$ has the following properties:  \n",
    "\n",
    "1. $f(\\idmap_n) = 1$。   \n",
    "2. Suppose $\\tau$ is obtained from $\\sigma$ by switching the elements $\\sigma(i)$ and $\\sigma(j)$ in the one-line representation.  Then $f(\\tau) = -f(\\sigma)$.  \n",
    "\n",
    "Therefore, $\\sgn(\\sigma) = f(\\sigma)$ is well-defined function.  \n",
    "<!-- eng end -->"
   ]
  },
  {
   "cell_type": "markdown",
   "metadata": {},
   "source": [
    "##### Exercise 5\n",
    "\n",
    "給定兩個整數 $n\\geq k \\geq 0$。  \n",
    "**第一類斯特靈數（Stirling numbers of the first kind）** $s(n,k)$  \n",
    "指的是 $\\mathfrak{S}_n$ 中恰有 $k$ 個循環的排列的個數  \n",
    "乘上 $(-1)^{n-k}$。  \n",
    "**第二類斯特靈數（Stirling numbers of the second kind）** $S(n,k)$  \n",
    "指的是要把 $[n]$ 分成非空的 $k$ 堆的分法數。\n",
    "\n",
    "對於 $i,j \\in \\{0,1,2,3\\}$ 將 $s(i,j)$ 寫成一個 $4\\times 4$ 矩陣 $S_1$。  \n",
    "對於 $i,j \\in \\{0,1,2,3\\}$ 將 $S(i,j)$ 寫成一個 $4\\times 4$ 矩陣 $S_2$。  \n",
    "寫出 $S_1$ 和 $S_2$，並觀察其和 410-7 中矩陣的關係。  \n",
    "\n",
    "<!-- eng start -->\n",
    "Let $n \\geq k \\geq 0$ be integers.  The **Stirling numbers of the first kind** $s(n,k)$ is the number of permutations in $\\mathfrak{S}_n$ that has exactly $k$ cycles along with the sign $(-1)^{n-k}$.  The **Stirling numbers of the first kind** $S(n,k)$ is the number of ways to partition $[n]$ into $k$ indistinguishable nonempty sets.  \n",
    "\n",
    "For each combination of $i,j \\in \\{0,1,2,3\\}$, find $s(i,j)$ and record them into a $4\\times 4$ matrix $S_1$.  For each combination of $i,j \\in \\{0,1,2,3\\}$, find $S(i,j)$ and record them into a $4\\times 4$ matrix $S_2$.  Write down $S_1$ and $S_2$ and compare them with what those in 410-7.  \n",
    "<!-- eng end -->"
   ]
  }
 ],
 "metadata": {
  "kernelspec": {
   "display_name": "SageMath 9.7",
   "language": "sage",
   "name": "sagemath"
  },
  "language_info": {
   "codemirror_mode": {
    "name": "ipython",
    "version": 3
   },
   "file_extension": ".py",
   "mimetype": "text/x-python",
   "name": "python",
   "nbconvert_exporter": "python",
   "pygments_lexer": "ipython3",
   "version": "3.10.8"
  }
 },
 "nbformat": 4,
 "nbformat_minor": 4
}
