{
 "cells": [
  {
   "cell_type": "markdown",
   "metadata": {},
   "source": [
    "# 零解"
   ]
  },
  {
   "cell_type": "markdown",
   "metadata": {},
   "source": [
    "![Creative Commons License](https://i.creativecommons.org/l/by/4.0/88x31.png)  \n",
    "This work by Jephian Lin is licensed under a [Creative Commons Attribution 4.0 International License](http://creativecommons.org/licenses/by/4.0/)."
   ]
  },
  {
   "cell_type": "markdown",
   "metadata": {},
   "source": [
    "$\\newcommand{\\trans}{^\\top}\n",
    "\\newcommand{\\adj}{^{\\rm adj}}\n",
    "\\newcommand{\\cof}{^{\\rm cof}}\n",
    "\\newcommand{\\inp}[2]{\\left\\langle#1,#2\\right\\rangle}\n",
    "\\newcommand{\\dunion}{\\mathbin{\\dot\\cup}}\n",
    "\\newcommand{\\bzero}{\\mathbf{0}}\n",
    "\\newcommand{\\bone}{\\mathbf{1}}\n",
    "\\newcommand{\\ba}{\\mathbf{a}}\n",
    "\\newcommand{\\bb}{\\mathbf{b}}\n",
    "\\newcommand{\\bc}{\\mathbf{c}}\n",
    "\\newcommand{\\bd}{\\mathbf{d}}\n",
    "\\newcommand{\\be}{\\mathbf{e}}\n",
    "\\newcommand{\\bh}{\\mathbf{h}}\n",
    "\\newcommand{\\bp}{\\mathbf{p}}\n",
    "\\newcommand{\\bq}{\\mathbf{q}}\n",
    "\\newcommand{\\br}{\\mathbf{r}}\n",
    "\\newcommand{\\bx}{\\mathbf{x}}\n",
    "\\newcommand{\\by}{\\mathbf{y}}\n",
    "\\newcommand{\\bz}{\\mathbf{z}}\n",
    "\\newcommand{\\bu}{\\mathbf{u}}\n",
    "\\newcommand{\\bv}{\\mathbf{v}}\n",
    "\\newcommand{\\bw}{\\mathbf{w}}\n",
    "\\newcommand{\\tr}{\\operatorname{tr}}\n",
    "\\newcommand{\\nul}{\\operatorname{null}}\n",
    "\\newcommand{\\rank}{\\operatorname{rank}}\n",
    "%\\newcommand{\\ker}{\\operatorname{ker}}\n",
    "\\newcommand{\\range}{\\operatorname{range}}\n",
    "\\newcommand{\\Col}{\\operatorname{Col}}\n",
    "\\newcommand{\\Row}{\\operatorname{Row}}\n",
    "\\newcommand{\\spec}{\\operatorname{spec}}\n",
    "\\newcommand{\\vspan}{\\operatorname{span}}\n",
    "\\newcommand{\\Vol}{\\operatorname{Vol}}\n",
    "\\newcommand{\\sgn}{\\operatorname{sgn}}\n",
    "\\newcommand{\\idmap}{\\operatorname{id}}\n",
    "\\newcommand{\\am}{\\operatorname{am}}\n",
    "\\newcommand{\\gm}{\\operatorname{gm}}\n",
    "\\newcommand{\\mult}{\\operatorname{mult}}\n",
    "\\newcommand{\\iner}{\\operatorname{iner}}$"
   ]
  },
  {
   "cell_type": "code",
   "execution_count": null,
   "metadata": {},
   "outputs": [],
   "source": [
    "from lingeo import random_good_matrix, betak_solver"
   ]
  },
  {
   "cell_type": "markdown",
   "metadata": {},
   "source": [
    "## Main idea"
   ]
  },
  {
   "cell_type": "markdown",
   "metadata": {},
   "source": [
    "Let $A$ be an $m\\times n$ matrix and ${\\bf b}$ a vector in $\\mathbb{R}^n$.  \n",
    "Recall that the homogeneous solutions are the solutions to $A{\\bf x} = {\\bf 0}$, which is irrelavent to ${\\bf b}$.  \n",
    "That is, the homogeneous solutions form the set $\\operatorname{ker}(A)$."
   ]
  },
  {
   "cell_type": "markdown",
   "metadata": {},
   "source": [
    "Let $R$ be the reduced echelon form of $A$.  \n",
    "Suppose $x_{i_1},\\ldots, x_{i_k}$ are the free variables.  \n",
    "For each $s = 1,\\ldots, k$, we obtained ${\\bf h}_s$ as follows:  \n",
    "1. Set $x_{i_s} = 1$ and the remaining free variables as $0$.\n",
    "2. Under this settting, solve $A{\\bf x} = {\\bf 0}$ and call the solution ${\\bf h}_s$.\n",
    "\n",
    "Then $\\operatorname{ker}(A) = \\operatorname{span}(\\{{\\bf h}_1,\\ldots,{\\bf h}_k\\})$."
   ]
  },
  {
   "cell_type": "markdown",
   "metadata": {},
   "source": [
    "Since the set of solutions to $A{\\bf x} = {\\bf b}$ is ${\\bf p} + \\operatorname{ker}(A)$ for some particular solution ${\\bf p}$, \n",
    "$$\\{ {\\bf x}\\in\\mathbb{R}^n : A{\\bf x} = {\\bf b} \\} = \n",
    "\\{ {\\bf p} + c_1{\\bf h}_1 + \\cdots + c_k{\\bf h}_k : c_1,\\ldots,c_k\\in\\mathbb{R} \\}.$$"
   ]
  },
  {
   "cell_type": "markdown",
   "metadata": {},
   "source": [
    "Suppose ${\\bf b}\\in\\operatorname{ker}(A)$.  \n",
    "The following are equivalent:  \n",
    "1. $A{\\bf x} = {\\bf b}$ has a unique solution.  \n",
    "2. The reduced echelon form of $A$ has no free variable.  \n",
    "3. The reduced echelon form of $A$ has $n$ pivots.  \n",
    "4. $\\operatorname{ker}(A) = \\{{\\bf 0}\\}$."
   ]
  },
  {
   "cell_type": "markdown",
   "metadata": {},
   "source": [
    "Since $A{\\bf x} = {\\bf 0}$ always has a trivial solution $A{\\bf 0} = {\\bf 0}$, , the followin are equivalent:\n",
    "1. ${\\bf 0}$ is the only solution to $A{\\bf x} = {\\bf 0}$.  \n",
    "2. The reduced echelon form of $A$ has no free variable.  \n",
    "3. The reduced echelon form of $A$ has $n$ pivots.  \n",
    "4. $\\operatorname{ker}(A) = \\{{\\bf 0}\\}$."
   ]
  },
  {
   "cell_type": "markdown",
   "metadata": {},
   "source": [
    "## Side stories\n",
    "- unique representation\n",
    "- polynomial passing through given points"
   ]
  },
  {
   "cell_type": "markdown",
   "metadata": {},
   "source": [
    "## Experiments"
   ]
  },
  {
   "cell_type": "markdown",
   "metadata": {},
   "source": [
    "##### Exercise 1\n",
    "\n",
    "執行下方程式碼。  \n",
    "矩陣 $R$ 是 $A$ 的最簡階梯形式矩陣。  \n",
    "利用 Main idea 中說明的方法找出 $\\{{\\bf h}_1,\\ldots,{\\bf h}_k\\}$。  "
   ]
  },
  {
   "cell_type": "code",
   "execution_count": null,
   "metadata": {
    "scrolled": false
   },
   "outputs": [],
   "source": [
    "### code\n",
    "set_random_seed(0)\n",
    "print_ans = False\n",
    "A, R, pivots = random_good_matrix(3,5,2, return_answer=True)\n",
    "\n",
    "print(\"A =\")\n",
    "show(A)\n",
    "print(\"R =\")\n",
    "show(R)\n",
    "\n",
    "if print_ans:\n",
    "    free = [i for i in range(5) if i not in pivots]\n",
    "    print(\"Free variables are xi with i =\", free)\n",
    "    for i in range(len(free)):\n",
    "        hi = betak_solver(R, free, i+1)\n",
    "        print(\"h%s =\"%(i+1), vector(hi))"
   ]
  },
  {
   "cell_type": "markdown",
   "metadata": {},
   "source": [
    "## Exercises"
   ]
  },
  {
   "cell_type": "markdown",
   "metadata": {},
   "source": [
    "##### Exercise 2\n",
    "\n",
    "令 $A$ 為一 $m\\times n$ 矩陣而 $R$ 為其最簡階梯形式矩陣。  \n",
    "考慮方程式 $A{\\bf x} = {\\bf 0}$。  \n",
    "若 $R$ 有 $r$ 個軸﹐則可以算出 $\\operatorname{ker}(A)$ 的生成集 $S = \\{{\\bf h}_1,\\ldots,{\\bf h}_{n-r}\\}$。  \n",
    "令 $H$ 為一 $n\\times (n-r)$ 矩陣其和行向量依序為 $S$ 中的各項量。  \n",
    "\n",
    "可以執行以下程式碼看例子。  "
   ]
  },
  {
   "cell_type": "code",
   "execution_count": null,
   "metadata": {},
   "outputs": [],
   "source": [
    "### code\n",
    "set_random_seed(0)\n",
    "A, R, pivots = random_good_matrix(5,7,4,return_answer=True)\n",
    "\n",
    "free = [i for i in range(7) if i not in pivots]\n",
    "H = zero_matrix(QQ, 7, 3)\n",
    "for i in range(3):\n",
    "    H[:,i] = betak_solver(R, free, i+1)\n",
    "    \n",
    "print(\"A =\")\n",
    "show(A)\n",
    "print(\"R =\")\n",
    "show(R)\n",
    "print(\"H =\")\n",
    "show(H)"
   ]
  },
  {
   "cell_type": "markdown",
   "metadata": {},
   "source": [
    "##### Exercise 2(a)\n",
    "\n",
    "把 $R$ 中的前 $r$ 列取出來  \n",
    "（也就是那些非零的列向量）、  \n",
    "再從中把對應到領導變數的那些行向量拿出來﹐  \n",
    "組成一個 $r\\times r$ 矩陣。  \n",
    "這個矩陣長什麼樣子？說明為什麼？"
   ]
  },
  {
   "cell_type": "markdown",
   "metadata": {},
   "source": [
    "##### Exercise 2(b)\n",
    "\n",
    "把 $H$ 對應到自由變數的那些列向量拿出來﹐  \n",
    "組成一個 $(n-r)\\times (n-r)$ 矩陣。  \n",
    "這個矩陣長什麼樣子？說明為什麼？"
   ]
  },
  {
   "cell_type": "markdown",
   "metadata": {},
   "source": [
    "##### Exercise 2(c)\n",
    "\n",
    "把 $R$ 中的前 $r$ 列取出來  \n",
    "（也就是那些非零的列向量）、  \n",
    "再從中把對應到自由變數的那些行向量拿出來﹐  \n",
    "組成一個 $r\\times (n-r)$ 矩陣、稱作 $R'$。  \n",
    "\n",
    "另一方面，把 $H$ 中對應到領導變數的列向量拿出來﹐  \n",
    "組成一個 $r\\times (n-r)$ 矩陣、稱作 $H'$。\n",
    "\n",
    "這兩個矩陣 $R'$ 和 $H'$ 有什麼關係？說明為什麼？"
   ]
  },
  {
   "cell_type": "markdown",
   "metadata": {},
   "source": [
    "##### Exercise 3\n",
    "\n",
    "執行以下程式碼。  \n",
    "已知 ${\\bf b}\\in\\operatorname{Col}(A)$。  \n",
    "驗證以下關於唯一解的問題。  "
   ]
  },
  {
   "cell_type": "code",
   "execution_count": null,
   "metadata": {},
   "outputs": [],
   "source": [
    "### code\n",
    "set_random_seed(0)\n",
    "A = random_good_matrix(5,3,3)\n",
    "b = A * vector([1,1,1])\n",
    "print(\"A =\")\n",
    "show(A)\n",
    "print(\"b =\", b)"
   ]
  },
  {
   "cell_type": "markdown",
   "metadata": {},
   "source": [
    "##### Exercise 3(a)\n",
    "\n",
    "說明 $A{\\bf x} = {\\bf b}$ 有唯一解。"
   ]
  },
  {
   "cell_type": "markdown",
   "metadata": {},
   "source": [
    "##### Exercise 3(b)\n",
    "\n",
    "說明 $A{\\bf x} = {\\bf 0}$ 有唯一解。"
   ]
  },
  {
   "cell_type": "markdown",
   "metadata": {},
   "source": [
    "##### Exercise 3(c)\n",
    "\n",
    "若 $f(x) = c_0 + c_1 x + c_2 x^2$。  \n",
    "若 $f(1) = b_1$、  \n",
    "$f(2) = b_2$、  \n",
    "$f(3) = b_3$。  \n",
    "說明不論 $b_1$、$b_2$、$b_3$ 給的是多少﹐$c_0$、$c_1$、$c_2$ 都有唯一解。"
   ]
  },
  {
   "cell_type": "markdown",
   "metadata": {},
   "source": [
    "##### Exercise 3(d)\n",
    "\n",
    "若 $f(x) = c_0 + c_1 x + c_2 x^2$。  \n",
    "若 $x_1$、$x_2$、$x_3$ 為三相異實數且   \n",
    "$f(x_1) = b_1$、  \n",
    "$f(x_2) = b_2$、  \n",
    "$f(x_3) = b_3$。  \n",
    "說明不論 $b_1$、$b_2$、$b_3$ 給的是多少﹐$c_0$、$c_1$、$c_2$ 都有唯一解。"
   ]
  }
 ],
 "metadata": {
  "kernelspec": {
   "display_name": "SageMath 9.6",
   "language": "sage",
   "name": "sagemath"
  },
  "language_info": {
   "codemirror_mode": {
    "name": "ipython",
    "version": 3
   },
   "file_extension": ".py",
   "mimetype": "text/x-python",
   "name": "python",
   "nbconvert_exporter": "python",
   "pygments_lexer": "ipython3",
   "version": "3.10.5"
  }
 },
 "nbformat": 4,
 "nbformat_minor": 4
}
