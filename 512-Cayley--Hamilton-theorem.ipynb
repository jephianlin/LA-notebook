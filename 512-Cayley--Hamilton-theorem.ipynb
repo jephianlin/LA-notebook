{
 "cells": [
  {
   "cell_type": "markdown",
   "metadata": {},
   "source": [
    "# 凱力–漢米頓定理"
   ]
  },
  {
   "cell_type": "markdown",
   "metadata": {},
   "source": [
    "![Creative Commons License](https://i.creativecommons.org/l/by/4.0/88x31.png)  \n",
    "This work by Jephian Lin is licensed under a [Creative Commons Attribution 4.0 International License](http://creativecommons.org/licenses/by/4.0/)."
   ]
  },
  {
   "cell_type": "markdown",
   "metadata": {},
   "source": [
    "$\\newcommand{\\trans}{^\\top}\n",
    "\\newcommand{\\adj}{^{\\rm adj}}\n",
    "\\newcommand{\\cof}{^{\\rm cof}}\n",
    "\\newcommand{\\inp}[2]{\\left\\langle#1,#2\\right\\rangle}\n",
    "\\newcommand{\\dunion}{\\mathbin{\\dot\\cup}}\n",
    "\\newcommand{\\bzero}{\\mathbf{0}}\n",
    "\\newcommand{\\bone}{\\mathbf{1}}\n",
    "\\newcommand{\\ba}{\\mathbf{a}}\n",
    "\\newcommand{\\bb}{\\mathbf{b}}\n",
    "\\newcommand{\\bc}{\\mathbf{c}}\n",
    "\\newcommand{\\bd}{\\mathbf{d}}\n",
    "\\newcommand{\\be}{\\mathbf{e}}\n",
    "\\newcommand{\\bh}{\\mathbf{h}}\n",
    "\\newcommand{\\bp}{\\mathbf{p}}\n",
    "\\newcommand{\\bq}{\\mathbf{q}}\n",
    "\\newcommand{\\br}{\\mathbf{r}}\n",
    "\\newcommand{\\bx}{\\mathbf{x}}\n",
    "\\newcommand{\\by}{\\mathbf{y}}\n",
    "\\newcommand{\\bz}{\\mathbf{z}}\n",
    "\\newcommand{\\bu}{\\mathbf{u}}\n",
    "\\newcommand{\\bv}{\\mathbf{v}}\n",
    "\\newcommand{\\bw}{\\mathbf{w}}\n",
    "\\newcommand{\\tr}{\\operatorname{tr}}\n",
    "\\newcommand{\\nul}{\\operatorname{null}}\n",
    "\\newcommand{\\rank}{\\operatorname{rank}}\n",
    "%\\newcommand{\\ker}{\\operatorname{ker}}\n",
    "\\newcommand{\\range}{\\operatorname{range}}\n",
    "\\newcommand{\\Col}{\\operatorname{Col}}\n",
    "\\newcommand{\\Row}{\\operatorname{Row}}\n",
    "\\newcommand{\\spec}{\\operatorname{spec}}\n",
    "\\newcommand{\\vspan}{\\operatorname{span}}\n",
    "\\newcommand{\\Vol}{\\operatorname{Vol}}\n",
    "\\newcommand{\\sgn}{\\operatorname{sgn}}\n",
    "\\newcommand{\\idmap}{\\operatorname{id}}\n",
    "\\newcommand{\\am}{\\operatorname{am}}\n",
    "\\newcommand{\\gm}{\\operatorname{gm}}\n",
    "\\newcommand{\\mult}{\\operatorname{mult}}\n",
    "\\newcommand{\\iner}{\\operatorname{iner}}$"
   ]
  },
  {
   "cell_type": "code",
   "execution_count": null,
   "metadata": {},
   "outputs": [],
   "source": [
    "from lingeo import random_int_list\n",
    "from linspace import vtop"
   ]
  },
  {
   "cell_type": "markdown",
   "metadata": {},
   "source": [
    "## Main idea"
   ]
  },
  {
   "cell_type": "markdown",
   "metadata": {},
   "source": [
    "Let $A$ be an $n\\times n$ matrix and  \n",
    "\n",
    "$$\n",
    "    p(x) = a_0x^d + a_1x^{d-1} + \\cdots + a_d\n",
    "$$\n",
    "\n",
    "a polynomial.  \n",
    "Then define  \n",
    "\n",
    "$$\n",
    "    p(A) = a_0A^d + a_1A^{d-1} + \\cdots + a_dI.\n",
    "$$"
   ]
  },
  {
   "cell_type": "markdown",
   "metadata": {},
   "source": [
    "##### Cayley–Hamilton Theorem\n",
    "\n",
    "Let $A$ be an $n\\times n$ matrix and  \n",
    "\n",
    "$$\n",
    "    p_A(x) = s_0(-x)^n + s_1(-x)^{n-1} + \\cdots + s_n\n",
    "$$\n",
    "\n",
    "its characteristic polyonimal.  \n",
    "Then  \n",
    "\n",
    "$$\n",
    "    p_A(A) = s_0(-A)^n + s_1(-A)^{n-1} + \\cdots + s_nI = O.\n",
    "$$"
   ]
  },
  {
   "cell_type": "markdown",
   "metadata": {},
   "source": [
    "##### Remark\n",
    "\n",
    "Although $p_A(x) = \\det(A - xI)$, it is not correct that $p_A(A) = \\det(A - A\\cdot I)$ by definition.  \n",
    "In particular, $p_A(A)$ is a matrix, while $\\det(A - AI)$ is a number."
   ]
  },
  {
   "cell_type": "markdown",
   "metadata": {},
   "source": [
    "##### Proof of the Cayley–Hamilton Theorem\n",
    "\n",
    "Let $A_x = A - xI$.  \n",
    "Then we know $\\det(A_x) = p_A(x)$ and the adjucate $A_x\\adj$ of $A_x$ has the property    \n",
    "\n",
    "$$\n",
    "    \\begin{aligned}\n",
    "    A_x\\adj A_x &= p_A(x)  I \\\\\n",
    "     &=  s_0I(-x)^n + s_1I(-x)^{n-1} + \\cdots + s_nI.\n",
    "    \\end{aligned}\n",
    "$$"
   ]
  },
  {
   "cell_type": "markdown",
   "metadata": {},
   "source": [
    "On the other hand, each entry of $A_x\\adj$ is a polynomial of degree at most $n-1$, so we may write  \n",
    "\n",
    "$$\n",
    "    A_x\\adj = C_1(-x)^{n-1} + C_2(-x)^{n-2} + \\cdots + C_n\n",
    "$$\n",
    "\n",
    "for some constant matrices $C_1,\\ldots, C_n$.  \n",
    "Therefore,  \n",
    "\n",
    "$$\n",
    "    \\begin{aligned}\n",
    "    A_x\\adj A_x &= A_x\\adj(A - xI) \\\\\n",
    "     &= C_1(-x)^n + (C_1A + C_2)(-x)^{n-1} + \\cdots + (C_{n-1}A + C_n)(-x) + C_nA.\n",
    "    \\end{aligned}\n",
    "$$"
   ]
  },
  {
   "cell_type": "markdown",
   "metadata": {},
   "source": [
    "By comparing the coefficients of the two expressions of $A_x\\adj A_x$ we get  \n",
    "\n",
    "$$\n",
    "    \\begin{array}{rclcl}\n",
    "    s_0 I &= & & &C_1 \\\\\n",
    "    s_1 I &= &C_1A &+ &C_2\\\\\n",
    "    \\vdots &&&& \\\\\n",
    "    s_{n-1}I &= &C_{n-1}A &+ &C_n\\\\\n",
    "    s_nI &= &C_nA. & &\n",
    "    \\end{array}\n",
    "$$"
   ]
  },
  {
   "cell_type": "markdown",
   "metadata": {},
   "source": [
    "By post-multiplying $(-A)^n-k$ to both sides of the $k$-th equation for $k = 0,\\ldots, n$, we get  \n",
    "\n",
    "$$\n",
    "    \\begin{aligned}\n",
    "    p_A(A) &= s_0(-A)^n + s_1(-A)^{n-1} + \\cdots + s_nI \\\\\n",
    "     &= C_1(-A)^n + C_1A(-A)^{n-1} + C_2(-A)^{n-1} + C_2A(-A)^{n-2} + \\cdots + C_n(-A) + C_nA\\\\\n",
    "     &= O.\n",
    "    \\end{aligned}\n",
    "$$"
   ]
  },
  {
   "cell_type": "markdown",
   "metadata": {},
   "source": [
    "Notice that $s_0,\\ldots,s_n$ can be written as polynomials in entries of $A$.  \n",
    "Also, each entry of $A^0,\\ldots,A^n$ can be written as a polynomial in entries of $A$.  \n",
    "This mean each entry of $p_A(A)$ is a polynomial in entries of $A$, and it is zero polynomial!  \n",
    "\n",
    "How come these terms cancel with each other can be viewed from graph theory, but it is beyond the scope.  \n",
    "See the book _A Combinatorial Approach to Matrix Theory and Its Applications_ by Richard A. Brualdi and Dragoš Cvetković for more details."
   ]
  },
  {
   "cell_type": "markdown",
   "metadata": {},
   "source": [
    "## Side stories\n",
    "\n",
    "- matrix as a complex number"
   ]
  },
  {
   "cell_type": "markdown",
   "metadata": {},
   "source": [
    "## Experiments"
   ]
  },
  {
   "cell_type": "markdown",
   "metadata": {},
   "source": [
    "##### Exercise 1\n",
    "\n",
    "執行以下程式碼。  \n",
    "\n",
    "<!-- eng start -->\n",
    "Run the code below.  \n",
    "<!-- eng end -->"
   ]
  },
  {
   "cell_type": "code",
   "execution_count": null,
   "metadata": {
    "scrolled": false
   },
   "outputs": [],
   "source": [
    "### code\n",
    "set_random_seed(0)\n",
    "print_ans = False\n",
    "\n",
    "n = 2\n",
    "A = matrix(n, random_int_list(n^2))\n",
    "cs = random_int_list(n + 1)\n",
    "p = vtop(cs)\n",
    "\n",
    "print(\"n =\", n)\n",
    "pretty_print(LatexExpr(\"A =\"), A)\n",
    "pretty_print(LatexExpr(\"p =\"), p)\n",
    "\n",
    "if print_ans:\n",
    "    for i in range(n + 1):\n",
    "        pretty_print(LatexExpr(\"A^{%s} =\"%i), A^i)\n",
    "    pofA = sum([cs[i] * A^i for i in range(n + 1)], identity_matrix(n))\n",
    "    pretty_print(LatexExpr(\"p(A) =\"), pofA)"
   ]
  },
  {
   "cell_type": "markdown",
   "metadata": {},
   "source": [
    "##### Exercise 1(a)\n",
    "\n",
    "計算 $A^0, A^1, \\ldots, A^n$。  \n",
    "\n",
    "<!-- eng start -->\n",
    "Find $A^0, A^1, \\ldots, A^n$.  \n",
    "<!-- eng end -->"
   ]
  },
  {
   "cell_type": "markdown",
   "metadata": {},
   "source": [
    "##### Exercise 1(b)\n",
    "\n",
    "計算 $p(A)$。  \n",
    "\n",
    "<!-- eng start -->\n",
    "Find $p(A)$.  \n",
    "<!-- eng end -->"
   ]
  },
  {
   "cell_type": "markdown",
   "metadata": {},
   "source": [
    "## Exercises"
   ]
  },
  {
   "cell_type": "markdown",
   "metadata": {},
   "source": [
    "##### Exercise 2\n",
    "\n",
    "令  \n",
    "\n",
    "$$\n",
    "    p(x) = x^2 - 5x + 6 = (x - 2)(x - 3).\n",
    "$$\n",
    "\n",
    "說明  \n",
    "\n",
    "$$\n",
    "    p(A) = A^2 - 5A + 6 = (A - 2I)(A - 3I).\n",
    "$$  \n",
    "\n",
    "因此 $p(A)$ 不會因為 $p$ 的表達式不同而影響結果。  \n",
    "\n",
    "<!-- eng start -->\n",
    "Let  \n",
    "\n",
    "$$\n",
    "    p(x) = x^2 - 5x + 6 = (x - 2)(x - 3).\n",
    "$$\n",
    "\n",
    "Verify  \n",
    "\n",
    "$$\n",
    "    p(A) = A^2 - 5A + 6 = (A - 2I)(A - 3I).\n",
    "$$  \n",
    "\n",
    "and explain why $p(A)$ does not depend on the different expressions of $p(A)$.  \n",
    "<!-- eng end -->"
   ]
  },
  {
   "cell_type": "markdown",
   "metadata": {},
   "source": [
    "##### Exercise 3\n",
    "\n",
    "對以下 $n\\times n$ 矩陣 $A$，  \n",
    "求出其特徵多項式 $p_A(x)$ 並計算 $A^0, \\ldots, A^n$，  \n",
    "最後驗證 $p_A(A) = O$。  \n",
    "\n",
    "<!-- eng start -->\n",
    "For the following matrices $A$, find the characteristic polynomial $p_A(x)$ and calculate $A^0, \\ldots, A^n$, and then verify $p_A(A) = O$.  \n",
    "<!-- eng end -->"
   ]
  },
  {
   "cell_type": "markdown",
   "metadata": {},
   "source": [
    "##### Exercise 3(a)\n",
    "\n",
    "$$\n",
    "    A = \\begin{bmatrix}\n",
    "    1 & 2 \\\\\n",
    "    3 & 4\n",
    "    \\end{bmatrix}.\n",
    "$$"
   ]
  },
  {
   "cell_type": "markdown",
   "metadata": {},
   "source": [
    "##### Exercise 3(b)\n",
    "\n",
    "$$\n",
    "    A = \\begin{bmatrix}\n",
    "    1 & 1 & 1 \\\\\n",
    "    1 & 1 & 1 \\\\\n",
    "    1 & 1 & 1 \n",
    "    \\end{bmatrix}.\n",
    "$$"
   ]
  },
  {
   "cell_type": "markdown",
   "metadata": {},
   "source": [
    "##### Exercise 4\n",
    "\n",
    "令  \n",
    "\n",
    "$$\n",
    "    A = \\begin{bmatrix}\n",
    "    1 & 0 & 0 \\\\\n",
    "    0 & 2 & 0 \\\\\n",
    "    0 & 0 & 3\n",
    "    \\end{bmatrix}.\n",
    "$$\n",
    "\n",
    "計算 $B_1 = A - I$、$B_2 = A - 2I$、及 $B_3 = A - 3I$。  \n",
    "說明 $B_1,B_2,B_3$ 彼此兩兩可交換，並驗證 $B_1B_2B_3 = O$。  \n",
    "求出特徵多項式 $p_A(x)$ 並說明為什麼 $p_A(A) = O$。  \n",
    "\n",
    "<!-- eng start -->\n",
    "Let  \n",
    "\n",
    "$$\n",
    "    A = \\begin{bmatrix}\n",
    "    1 & 0 & 0 \\\\\n",
    "    0 & 2 & 0 \\\\\n",
    "    0 & 0 & 3\n",
    "    \\end{bmatrix}.\n",
    "$$\n",
    "\n",
    "Calculate $B_1 = A - I$, $B_2 = A - 2I$, and $B_3 = A - 3I$.  Explain why $B_1, B_2, B_3$ are mutually commutative and verify $B_1B_2B_3 = O$.  Find the characteristic polynomial $p_A(x)$ and explain why $p_A(A) = O$.  \n",
    "<!-- eng end -->"
   ]
  },
  {
   "cell_type": "markdown",
   "metadata": {},
   "source": [
    "##### Exercise 5\n",
    "\n",
    "令  \n",
    "\n",
    "$$\n",
    "    A = \\begin{bmatrix}\n",
    "    0 & 1 & 0 & 0 & 0 \\\\\n",
    "    0 & 0 & 1 & 0 & 0 \\\\\n",
    "    0 & 0 & 0 & 1 & 0 \\\\\n",
    "    0 & 0 & 0 & 0 & 1 \\\\\n",
    "    0 & 0 & 0 & 0 & 0\n",
    "    \\end{bmatrix}.\n",
    "$$\n",
    "\n",
    "計算 $A^0, A^1, \\ldots, A^5$。  \n",
    "求出特徵多項式 $p_A(x)$ 並說明為什麼 $p_A(A) = O$。  \n",
    "\n",
    "<!-- eng start -->\n",
    "Let  \n",
    "\n",
    "$$\n",
    "    A = \\begin{bmatrix}\n",
    "    0 & 1 & 0 & 0 & 0 \\\\\n",
    "    0 & 0 & 1 & 0 & 0 \\\\\n",
    "    0 & 0 & 0 & 1 & 0 \\\\\n",
    "    0 & 0 & 0 & 0 & 1 \\\\\n",
    "    0 & 0 & 0 & 0 & 0\n",
    "    \\end{bmatrix}.\n",
    "$$\n",
    "\n",
    "Calculate $A^0, A^1, \\ldots, A^5$.  Then find the characteristic polynomial $p_A(x)$ and explain why $p_A(A) = O$.  \n",
    "<!-- eng end -->"
   ]
  },
  {
   "cell_type": "markdown",
   "metadata": {},
   "source": [
    "##### Exercise 6\n",
    "\n",
    "令  \n",
    "\n",
    "$$\n",
    "    A = \\begin{bmatrix}\n",
    "    1 & 1 & 0 & 0 & 0 & 0 & 0 & 0 & 0 \\\\\n",
    "    0 & 1 & 0 & 0 & 0 & 0 & 0 & 0 & 0 \\\\\n",
    "    0 & 0 & 2 & 1 & 0 & 0 & 0 & 0 & 0 \\\\\n",
    "    0 & 0 & 0 & 2 & 1 & 0 & 0 & 0 & 0 \\\\\n",
    "    0 & 0 & 0 & 0 & 2 & 0 & 0 & 0 & 0 \\\\\n",
    "    0 & 0 & 0 & 0 & 0 & 3 & 1 & 0 & 0 \\\\\n",
    "    0 & 0 & 0 & 0 & 0 & 0 & 3 & 1 & 0 \\\\\n",
    "    0 & 0 & 0 & 0 & 0 & 0 & 0 & 3 & 1 \\\\\n",
    "    0 & 0 & 0 & 0 & 0 & 0 & 0 & 0 & 3\n",
    "    \\end{bmatrix}\n",
    "$$\n",
    "\n",
    "計算 $B_1 = (A - I)^2$、$B_2 = (A - 2I)^3$、及 $B_3 = (A - 3I)^4$。  \n",
    "說明 $B_1,B_2,B_3$ 彼此兩兩可交換，並驗證 $B_1B_2B_3 = O$。  \n",
    "求出特徵多項式 $p_A(x)$ 並說明為什麼 $p_A(A) = O$。  \n",
    "\n",
    "<!-- eng start -->\n",
    "Let  \n",
    "\n",
    "$$\n",
    "    A = \\begin{bmatrix}\n",
    "    1 & 1 & 0 & 0 & 0 & 0 & 0 & 0 & 0 \\\\\n",
    "    0 & 1 & 0 & 0 & 0 & 0 & 0 & 0 & 0 \\\\\n",
    "    0 & 0 & 2 & 1 & 0 & 0 & 0 & 0 & 0 \\\\\n",
    "    0 & 0 & 0 & 2 & 1 & 0 & 0 & 0 & 0 \\\\\n",
    "    0 & 0 & 0 & 0 & 2 & 0 & 0 & 0 & 0 \\\\\n",
    "    0 & 0 & 0 & 0 & 0 & 3 & 1 & 0 & 0 \\\\\n",
    "    0 & 0 & 0 & 0 & 0 & 0 & 3 & 1 & 0 \\\\\n",
    "    0 & 0 & 0 & 0 & 0 & 0 & 0 & 3 & 1 \\\\\n",
    "    0 & 0 & 0 & 0 & 0 & 0 & 0 & 0 & 3\n",
    "    \\end{bmatrix}\n",
    "$$\n",
    "\n",
    "Calculate $B_1 = A - I$, $B_2 = A - 2I$, and $B_3 = A - 3I$.  Explain why $B_1, B_2, B_3$ are mutually commutative and verify $B_1B_2B_3 = O$.  Find the characteristic polynomial $p_A(x)$ and explain why $p_A(A) = O$.  \n",
    "<!-- eng end -->"
   ]
  },
  {
   "cell_type": "markdown",
   "metadata": {},
   "source": [
    "##### Exercise 7\n",
    "\n",
    "令  \n",
    "\n",
    "$$\n",
    "    A = \\begin{bmatrix}\n",
    "    1 & 2 & 3 \\\\\n",
    "    4 & 5 & 6 \\\\\n",
    "    7 & 8 & 9\n",
    "    \\end{bmatrix}\n",
    "$$\n",
    "\n",
    "而 $A_x = A - xI$。  \n",
    "計算 $A_x\\adj$ 並將其寫成  \n",
    "\n",
    "$$\n",
    "    A_x\\adj = C_1(-x)^{2} + C_2(-x)^{1} + C_3.\n",
    "$$  \n",
    "\n",
    "<!-- eng start -->\n",
    "Let  \n",
    "\n",
    "$$\n",
    "    A = \\begin{bmatrix}\n",
    "    1 & 2 & 3 \\\\\n",
    "    4 & 5 & 6 \\\\\n",
    "    7 & 8 & 9\n",
    "    \\end{bmatrix}\n",
    "$$\n",
    "\n",
    "and $A_x = A - xI$.  Compute $A_x\\adj$ and write it into the form\n",
    "\n",
    "$$\n",
    "    A_x\\adj = C_1(-x)^{2} + C_2(-x)^{1} + C_3.\n",
    "$$  \n",
    "<!-- eng end -->"
   ]
  },
  {
   "cell_type": "markdown",
   "metadata": {},
   "source": [
    "##### Exercise 8\n",
    "\n",
    "當 $z = a + bi$ 為一複數時，定義  \n",
    "\n",
    "$$\n",
    "    A(z) = \n",
    "    \\begin{bmatrix}  \n",
    "    a & -b \\\\\n",
    "    b & a\n",
    "    \\end{bmatrix}.\n",
    "$$\n",
    "\n",
    "驗證對於任兩複數 $z_1,z_2$ 都有  \n",
    "\n",
    "- $A(z_1z_2) = A(z_1)A(z_2)$ 及\n",
    "- $A(z_1 + z_2) = A(z_1) + A(z_2)$。\n",
    "\n",
    "所以當 $p$ 是一個多項式滿足 $p(z) = 0$ 時，則有 $p(A(z)) = O$。\n",
    "\n",
    "<!-- eng start -->\n",
    "For any complex number $z = a + bi$, define  \n",
    "\n",
    "$$\n",
    "    A(z) = \n",
    "    \\begin{bmatrix}  \n",
    "    a & -b \\\\\n",
    "    b & a\n",
    "    \\end{bmatrix}.\n",
    "$$\n",
    "\n",
    "Verify that \n",
    "\n",
    "- $A(z_1z_2) = A(z_1)A(z_2)$ and\n",
    "- $A(z_1 + z_2) = A(z_1) + A(z_2)$\n",
    "\n",
    "for any two complex numbers $z_1,z_2$.  Therefore, if $p$ is a polynomial with $p(z) = 0$, then we also have $p(A(z)) = O$.  \n",
    "<!-- eng end -->"
   ]
  }
 ],
 "metadata": {
  "kernelspec": {
   "display_name": "SageMath 9.7",
   "language": "sage",
   "name": "sagemath"
  },
  "language_info": {
   "codemirror_mode": {
    "name": "ipython",
    "version": 3
   },
   "file_extension": ".py",
   "mimetype": "text/x-python",
   "name": "python",
   "nbconvert_exporter": "python",
   "pygments_lexer": "ipython3",
   "version": "3.10.8"
  }
 },
 "nbformat": 4,
 "nbformat_minor": 4
}
