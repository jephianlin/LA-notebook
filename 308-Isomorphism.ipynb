{
 "cells": [
  {
   "cell_type": "markdown",
   "metadata": {},
   "source": [
    "# 同構"
   ]
  },
  {
   "cell_type": "markdown",
   "metadata": {},
   "source": [
    "![Creative Commons License](https://i.creativecommons.org/l/by/4.0/88x31.png)  \n",
    "This work by Jephian Lin is licensed under a [Creative Commons Attribution 4.0 International License](http://creativecommons.org/licenses/by/4.0/)."
   ]
  },
  {
   "cell_type": "markdown",
   "metadata": {},
   "source": [
    "$\\newcommand{\\trans}{^\\top}\n",
    "\\newcommand{\\adj}{^{\\rm adj}}\n",
    "\\newcommand{\\cof}{^{\\rm cof}}\n",
    "\\newcommand{\\inp}[2]{\\left\\langle#1,#2\\right\\rangle}\n",
    "\\newcommand{\\dunion}{\\mathbin{\\dot\\cup}}\n",
    "\\newcommand{\\bzero}{\\mathbf{0}}\n",
    "\\newcommand{\\bone}{\\mathbf{1}}\n",
    "\\newcommand{\\ba}{\\mathbf{a}}\n",
    "\\newcommand{\\bb}{\\mathbf{b}}\n",
    "\\newcommand{\\bc}{\\mathbf{c}}\n",
    "\\newcommand{\\bd}{\\mathbf{d}}\n",
    "\\newcommand{\\be}{\\mathbf{e}}\n",
    "\\newcommand{\\bh}{\\mathbf{h}}\n",
    "\\newcommand{\\bp}{\\mathbf{p}}\n",
    "\\newcommand{\\bq}{\\mathbf{q}}\n",
    "\\newcommand{\\br}{\\mathbf{r}}\n",
    "\\newcommand{\\bx}{\\mathbf{x}}\n",
    "\\newcommand{\\by}{\\mathbf{y}}\n",
    "\\newcommand{\\bz}{\\mathbf{z}}\n",
    "\\newcommand{\\bu}{\\mathbf{u}}\n",
    "\\newcommand{\\bv}{\\mathbf{v}}\n",
    "\\newcommand{\\bw}{\\mathbf{w}}\n",
    "\\newcommand{\\tr}{\\operatorname{tr}}\n",
    "\\newcommand{\\nul}{\\operatorname{null}}\n",
    "\\newcommand{\\rank}{\\operatorname{rank}}\n",
    "%\\newcommand{\\ker}{\\operatorname{ker}}\n",
    "\\newcommand{\\range}{\\operatorname{range}}\n",
    "\\newcommand{\\Col}{\\operatorname{Col}}\n",
    "\\newcommand{\\Row}{\\operatorname{Row}}\n",
    "\\newcommand{\\spec}{\\operatorname{spec}}\n",
    "\\newcommand{\\vspan}{\\operatorname{span}}\n",
    "\\newcommand{\\Vol}{\\operatorname{Vol}}\n",
    "\\newcommand{\\sgn}{\\operatorname{sgn}}\n",
    "\\newcommand{\\idmap}{\\operatorname{id}}\n",
    "\\newcommand{\\am}{\\operatorname{am}}\n",
    "\\newcommand{\\gm}{\\operatorname{gm}}\n",
    "\\newcommand{\\mult}{\\operatorname{mult}}\n",
    "\\newcommand{\\iner}{\\operatorname{iner}}$"
   ]
  },
  {
   "cell_type": "code",
   "execution_count": null,
   "metadata": {},
   "outputs": [],
   "source": [
    "from linspace import random_nvspace"
   ]
  },
  {
   "cell_type": "markdown",
   "metadata": {},
   "source": [
    "## Main idea"
   ]
  },
  {
   "cell_type": "markdown",
   "metadata": {},
   "source": [
    "Let $V$ and $U$ be two vector space.  \n",
    "An **isomorphism** from $V$ to $U$ is a bijective linear function from $V$ to $U$.  \n",
    "If there is an isomorphism from $V$ to $U$, then $V$ is **isomorphic** to $U$."
   ]
  },
  {
   "cell_type": "markdown",
   "metadata": {},
   "source": [
    "Suppose $f$ is an isomorphism from $V$ to $U$.  \n",
    "Since $f$ a bijective function, the inverse $f^{-1}$ of $f$ exists.  \n",
    "One may show that $f^{-1}$ is also linear, so $V$ is isomorphic to $U$ if and only if $U$ is isomorphic to $V$.  "
   ]
  },
  {
   "cell_type": "markdown",
   "metadata": {},
   "source": [
    "Suppose $f$ is an isomorphism from $V$ to $U$.  \n",
    "If $\\alpha$ is a basis of $V$, then $f(\\alpha)$ is a basis of $U$, so $\\dim(V) = \\dim(U)$.  "
   ]
  },
  {
   "cell_type": "markdown",
   "metadata": {},
   "source": [
    "On the other hand, suppose $\\dim(V) = \\dim(U)$.  \n",
    "If $\\alpha$ is a basis of $V$ and $\\beta$ is a basis of $U$, then there is an isomorphism sending $\\alpha$ to $\\beta$, so $V$ and $U$ is isomorphic.  "
   ]
  },
  {
   "cell_type": "markdown",
   "metadata": {},
   "source": [
    "In summary, two finite-dimensional vector spaces are isomorphic if and only if they have the same dimension.  \n",
    "Therefore, all finite-dimensional vector spaces can be partitioned by isomorphism, and the partition is the same as the partition by the dimension."
   ]
  },
  {
   "cell_type": "markdown",
   "metadata": {},
   "source": [
    "## Side stories\n",
    "- classification of isomorphic vector spaces\n",
    "- equivalence relation"
   ]
  },
  {
   "cell_type": "markdown",
   "metadata": {},
   "source": [
    "## Experiments"
   ]
  },
  {
   "cell_type": "markdown",
   "metadata": {},
   "source": [
    "##### Exercise 1\n",
    "\n",
    "執行以下程式碼。  \n",
    "判斷該向量空間的維度、並寫出一組基底。  "
   ]
  },
  {
   "cell_type": "code",
   "execution_count": null,
   "metadata": {
    "scrolled": false
   },
   "outputs": [],
   "source": [
    "### code\n",
    "set_random_seed(0)\n",
    "print_ans = False\n",
    "\n",
    "d = choice(range(21))\n",
    "V = random_nvspace(d)\n",
    "print(V)\n",
    "\n",
    "if print_ans:\n",
    "    print(\"dim =\", V.dim)"
   ]
  },
  {
   "cell_type": "markdown",
   "metadata": {},
   "source": [
    "## Exercises"
   ]
  },
  {
   "cell_type": "markdown",
   "metadata": {},
   "source": [
    "##### Exercise 2\n",
    "\n",
    "令 $V = \\operatorname{span}\\{(1,1,1)\\}^\\perp$。  \n",
    "證明 $V$ 和 $\\mathbb{R}^2$ 同構。  "
   ]
  },
  {
   "cell_type": "markdown",
   "metadata": {},
   "source": [
    "##### Exercise 3\n",
    "\n",
    "證明 $\\mathcal{P}_d$ 和 $\\mathbb{R}^{d+1}$ 同構。  "
   ]
  },
  {
   "cell_type": "markdown",
   "metadata": {},
   "source": [
    "##### Exercise 4\n",
    "\n",
    "證明 $\\mathcal{M}_{m,n}$ 和 $\\mathbb{R}^{mn}$ 同構。  "
   ]
  },
  {
   "cell_type": "markdown",
   "metadata": {},
   "source": [
    "##### Exercise 5\n",
    "\n",
    "令 $V$ 和 $U$ 為兩有限維度的向量空間。  \n",
    "依照以下步驟證明兩敘述等價：  \n",
    "1. $V$ 和 $U$ 同構。  \n",
    "2. $V$ 和 $U$ 的維度相同。  "
   ]
  },
  {
   "cell_type": "markdown",
   "metadata": {},
   "source": [
    "##### Exercise 5(a)\n",
    "\n",
    "證明若 $f: V\\rightarrow U$ 是一個對射且  \n",
    "$\\alpha$ 是 $V$ 的一組基底﹐  \n",
    "則 $f(\\alpha)$ 是 $U$ 的一組基底。  \n",
    "因此 $\\dim(V) = \\dim(U)$。  "
   ]
  },
  {
   "cell_type": "markdown",
   "metadata": {},
   "source": [
    "##### Exercise 5(b)\n",
    "\n",
    "證明若 $\\dim(V) = \\dim(U)$、  \n",
    "$\\alpha = \\{ {\\bf v}_1, \\ldots, {\\bf v}_n \\}$ 為 $V$ 的一組基底、  \n",
    "$\\beta = \\{ {\\bf u}_1, \\ldots, {\\bf u}_n \\}$ 為 $U$ 的一組基底﹐  \n",
    "則存在一個線性函數符合  \n",
    "$$\\begin{array}{rcl}\n",
    " f : V & \\rightarrow & U \\\\\n",
    " {\\bf v}_1 & \\mapsto & {\\bf u}_1 \\\\\n",
    "   & \\vdots &   \\\\\n",
    " {\\bf v}_n & \\mapsto & {\\bf u}_n \\\\\n",
    "\\end{array}$$\n",
    "且 $f$ 是對射。  "
   ]
  },
  {
   "cell_type": "markdown",
   "metadata": {},
   "source": [
    "##### Exercise 6\n",
    "\n",
    "證明向量空間的同構是一個等價關係。  "
   ]
  }
 ],
 "metadata": {
  "kernelspec": {
   "display_name": "SageMath 9.6",
   "language": "sage",
   "name": "sagemath"
  },
  "language_info": {
   "codemirror_mode": {
    "name": "ipython",
    "version": 3
   },
   "file_extension": ".py",
   "mimetype": "text/x-python",
   "name": "python",
   "nbconvert_exporter": "python",
   "pygments_lexer": "ipython3",
   "version": "3.10.5"
  }
 },
 "nbformat": 4,
 "nbformat_minor": 4
}
