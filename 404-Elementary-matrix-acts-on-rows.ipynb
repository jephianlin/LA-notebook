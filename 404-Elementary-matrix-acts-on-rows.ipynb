{
 "cells": [
  {
   "cell_type": "markdown",
   "metadata": {},
   "source": [
    "# 基本矩陣與列超平行體"
   ]
  },
  {
   "cell_type": "markdown",
   "metadata": {},
   "source": [
    "![Creative Commons License](https://i.creativecommons.org/l/by/4.0/88x31.png)  \n",
    "This work by Jephian Lin is licensed under a [Creative Commons Attribution 4.0 International License](http://creativecommons.org/licenses/by/4.0/)."
   ]
  },
  {
   "cell_type": "markdown",
   "metadata": {},
   "source": [
    "$\\newcommand{\\trans}{^\\top}\n",
    "\\newcommand{\\adj}{^{\\rm adj}}\n",
    "\\newcommand{\\cof}{^{\\rm cof}}\n",
    "\\newcommand{\\inp}[2]{\\left\\langle#1,#2\\right\\rangle}\n",
    "\\newcommand{\\dunion}{\\mathbin{\\dot\\cup}}\n",
    "\\newcommand{\\bzero}{\\mathbf{0}}\n",
    "\\newcommand{\\bone}{\\mathbf{1}}\n",
    "\\newcommand{\\ba}{\\mathbf{a}}\n",
    "\\newcommand{\\bb}{\\mathbf{b}}\n",
    "\\newcommand{\\bc}{\\mathbf{c}}\n",
    "\\newcommand{\\bd}{\\mathbf{d}}\n",
    "\\newcommand{\\be}{\\mathbf{e}}\n",
    "\\newcommand{\\bh}{\\mathbf{h}}\n",
    "\\newcommand{\\bp}{\\mathbf{p}}\n",
    "\\newcommand{\\bq}{\\mathbf{q}}\n",
    "\\newcommand{\\br}{\\mathbf{r}}\n",
    "\\newcommand{\\bx}{\\mathbf{x}}\n",
    "\\newcommand{\\by}{\\mathbf{y}}\n",
    "\\newcommand{\\bz}{\\mathbf{z}}\n",
    "\\newcommand{\\bu}{\\mathbf{u}}\n",
    "\\newcommand{\\bv}{\\mathbf{v}}\n",
    "\\newcommand{\\bw}{\\mathbf{w}}\n",
    "\\newcommand{\\tr}{\\operatorname{tr}}\n",
    "\\newcommand{\\nul}{\\operatorname{null}}\n",
    "\\newcommand{\\rank}{\\operatorname{rank}}\n",
    "%\\newcommand{\\ker}{\\operatorname{ker}}\n",
    "\\newcommand{\\range}{\\operatorname{range}}\n",
    "\\newcommand{\\Col}{\\operatorname{Col}}\n",
    "\\newcommand{\\Row}{\\operatorname{Row}}\n",
    "\\newcommand{\\spec}{\\operatorname{spec}}\n",
    "\\newcommand{\\vspan}{\\operatorname{span}}\n",
    "\\newcommand{\\Vol}{\\operatorname{Vol}}\n",
    "\\newcommand{\\sgn}{\\operatorname{sgn}}\n",
    "\\newcommand{\\idmap}{\\operatorname{id}}\n",
    "\\newcommand{\\am}{\\operatorname{am}}\n",
    "\\newcommand{\\gm}{\\operatorname{gm}}\n",
    "\\newcommand{\\mult}{\\operatorname{mult}}\n",
    "\\newcommand{\\iner}{\\operatorname{iner}}$"
   ]
  },
  {
   "cell_type": "code",
   "execution_count": null,
   "metadata": {},
   "outputs": [],
   "source": [
    "from lingeo import random_int_list, row_operation_process"
   ]
  },
  {
   "cell_type": "markdown",
   "metadata": {},
   "source": [
    "## Main idea"
   ]
  },
  {
   "cell_type": "markdown",
   "metadata": {},
   "source": [
    "Each $n\\times n$ matrix can be viewed as a list of row vectors $\\{\\br_1,\\ldots, \\br_n\\}$.  \n",
    "We define the **row parallelotope** of $A$ as the polytope  \n",
    "\n",
    "$$\n",
    "    \\{c_1\\br_1 + \\cdots + c_n\\br_n : c_i\\in [0,1] \\text{ for all }i = 1,\\ldots, n\\}\n",
    "$$\n",
    "\n",
    "spanned by the rows $\\{\\br_1,\\ldots, \\br_n\\}$ of $A$.  \n",
    "Let $\\Vol_R(A)$ be the **signed volume** of the row parallelotope."
   ]
  },
  {
   "cell_type": "markdown",
   "metadata": {},
   "source": [
    "Then $\\Vol_R(A)$ can be defined through the following rules.  \n",
    "\n",
    "- $\\Vol_R(I_n) = 1$.\n",
    "- If $E$ is the elementary matrix of $\\rho_i\\leftrightarrow\\rho_j$, then $E$ **swaps** the $i$-th and $j$-th rows of $A$.  \n",
    "Thus, $\\Vol_R(EA) = -\\Vol_R(A)$ and we define $\\Vol_R(E) = -1$.\n",
    "- If $E$ is the elementary matrix of $\\rho_i:\\times k$, then $E$ **rescales** the $i$-th row of $A$.  \n",
    "Thus, $\\Vol_R(EA) = k\\Vol_R(A)$ and we define $\\Vol_R(E) = k$.  \n",
    "(Note that this statement still holds even when $k = 0$.)\n",
    "- If $E$ is the elementary matrix of $\\rho_i:+k\\rho_j$, then $E$ **slants** the $i$-th row of $A$ to the direction of $j$-th row.  \n",
    "Thus, $\\Vol_R(EA) = \\Vol_R(A)$ and we define $\\Vol_R(E) = 1$.  "
   ]
  },
  {
   "cell_type": "markdown",
   "metadata": {},
   "source": [
    "As a consequence, if a matrix $A$ is invertible and  \n",
    "can be written as the product a sequence of elementary matrices $F_1\\cdots F_k$,  \n",
    "then $\\Vol_R(A) = \\Vol_R(F_1)\\cdots\\Vol_R(F_k)\\Vol_R(I_n) = \\Vol_R(F_1)\\cdots\\Vol_R(F_k)$."
   ]
  },
  {
   "cell_type": "markdown",
   "metadata": {},
   "source": [
    "In contrast, if $A$ is not invertible,  \n",
    "then row parallelotope collapses and is flat $\\Vol_R(A) = 0$.  "
   ]
  },
  {
   "cell_type": "markdown",
   "metadata": {},
   "source": [
    "From this point of view,  \n",
    "the value of $\\Vol_R(A)$ can be both  \n",
    "the signed volume and  \n",
    "the **scaling factor** changing $\\Vol_R(B)$ to $\\Vol_R(AB)$ for any $B$.  "
   ]
  },
  {
   "cell_type": "markdown",
   "metadata": {},
   "source": [
    "## Side stories\n",
    "- operations on spanning vectors"
   ]
  },
  {
   "cell_type": "markdown",
   "metadata": {},
   "source": [
    "## Experiments"
   ]
  },
  {
   "cell_type": "markdown",
   "metadata": {},
   "source": [
    "##### Exercise 1\n",
    "\n",
    "執行以下程式碼。  \n",
    "已知 $A = F_1\\cdots F_k$ 是一群單位矩陣的乘積。  \n",
    "\n",
    "<!-- eng start -->\n",
    "Run the code below.  Suppose we know $A = F_1\\cdots F_k$ is the product of some elementary matrices.  \n",
    "<!-- eng end -->"
   ]
  },
  {
   "cell_type": "code",
   "execution_count": null,
   "metadata": {
    "scrolled": false
   },
   "outputs": [],
   "source": [
    "### code\n",
    "set_random_seed(0)\n",
    "print_ans = False\n",
    "\n",
    "n = 2\n",
    "while True:\n",
    "    A = matrix(n, random_int_list(n^2, 3))\n",
    "    if A.det() != 0:\n",
    "        break\n",
    "        \n",
    "elems = row_operation_process(A, inv=True)\n",
    "\n",
    "pretty_print(A, LatexExpr(\"=\"), *elems)\n",
    "\n",
    "R = identity_matrix(n)\n",
    "k = 1\n",
    "vols = [1]\n",
    "for elem in elems[::-1]:\n",
    "    R = elem * R\n",
    "    vols.append(R.det())\n",
    "    vecs = R.rows()\n",
    "    P = polytopes.parallelotope(vecs).plot(\n",
    "        xmin=-3, \n",
    "        xmax=3,\n",
    "        ymin=-3,\n",
    "        ymax=3,\n",
    "        wireframe=\"black\", \n",
    "        fill=\"lightgreen\"\n",
    "    )\n",
    "    for v in vecs:\n",
    "        P += text(\"%s\"%v, v + vector([0,0.5]), fontweight=1000).plot()\n",
    "    show(P, title=\"$V_{%s}$\"%k)\n",
    "    k += 1\n",
    "\n",
    "if print_ans:\n",
    "    for k,vol in enumerate(vols):\n",
    "        print(\"The signed volumn (area) of V%s is\"%k, vol)"
   ]
  },
  {
   "cell_type": "markdown",
   "metadata": {},
   "source": [
    "##### Exercise 1(a)\n",
    "\n",
    "令 $V_0$ 為單位矩陣的列超平行體。  \n",
    "說明如何從 $V_0$ 得到 $V_1$ 並求出 $V_1$ 的面積。  \n",
    "\n",
    "<!-- eng start -->\n",
    "Let $V_0$ be the row parallelotope for the identity matrix.  Explain how to obtain $V_1$ from $V_0$ and find the volume of $V_1$.  \n",
    "<!-- eng end -->"
   ]
  },
  {
   "cell_type": "markdown",
   "metadata": {},
   "source": [
    "##### Exercise 1(b)\n",
    "\n",
    "依序說明如何從 $V_i$ 得到 $V_{i+1}$，  \n",
    "並求出 $V_2,\\ldots, V_k$ 的面積。  \n",
    "\n",
    "<!-- eng start -->\n",
    "Explain how to obtain $V_{i+1}$ from $V_i$ and find the volume of $V_{i+1}$ for each $i$.  Then find the volume for each of $V_2,\\ldots, V_k$.   \n",
    "<!-- eng end -->"
   ]
  },
  {
   "cell_type": "markdown",
   "metadata": {},
   "source": [
    "## Exercises"
   ]
  },
  {
   "cell_type": "markdown",
   "metadata": {},
   "source": [
    "##### Exercise 2\n",
    "\n",
    "對以下矩陣 $A$，  \n",
    "用文字描述它的列平行體，並用求出它的有向體積。  \n",
    "\n",
    "<!-- eng start -->\n",
    "For each of the following matrices $A$, use a few sentences to decribe its row parallelotope.  Then find its signed volumn.\n",
    "<!-- eng end -->"
   ]
  },
  {
   "cell_type": "markdown",
   "metadata": {},
   "source": [
    "##### Exercise 2(a)\n",
    "\n",
    "$$\n",
    "    A = \\begin{bmatrix}\n",
    "     1 & 0 & 0 \\\\\n",
    "     0 & 2 & 0 \\\\\n",
    "     0 & 0 & 3\n",
    "    \\end{bmatrix}.\n",
    "$$"
   ]
  },
  {
   "cell_type": "markdown",
   "metadata": {},
   "source": [
    "##### Exercise 2(b)\n",
    "\n",
    "$$\n",
    "    A = \\begin{bmatrix}\n",
    "     0 & 1 & 0 \\\\\n",
    "     2 & 0 & 0 \\\\\n",
    "     0 & 0 & 3\n",
    "    \\end{bmatrix}.\n",
    "$$"
   ]
  },
  {
   "cell_type": "markdown",
   "metadata": {},
   "source": [
    "##### Exercise 2(c)\n",
    "\n",
    "$$\n",
    "    A = \\begin{bmatrix}\n",
    "     1 & 1 & 1 \\\\\n",
    "     1 & 2 & 3 \\\\\n",
    "     0 & 0 & 0\n",
    "    \\end{bmatrix}.\n",
    "$$"
   ]
  },
  {
   "cell_type": "markdown",
   "metadata": {},
   "source": [
    "##### Exercise 2(d)\n",
    "\n",
    "$$\n",
    "    A = \\begin{bmatrix}\n",
    "     1 & 1 & 0 \\\\\n",
    "     1 & 2 & 0 \\\\\n",
    "     1 & 3 & 0\n",
    "    \\end{bmatrix}.\n",
    "$$"
   ]
  },
  {
   "cell_type": "markdown",
   "metadata": {},
   "source": [
    "##### Exercise 2(e)\n",
    "\n",
    "$$\n",
    "    A = \\begin{bmatrix}\n",
    "     1 & 2 & 0 \\\\\n",
    "     3 & 4 & 0 \\\\\n",
    "     0 & 0 & 5\n",
    "    \\end{bmatrix}.\n",
    "$$"
   ]
  },
  {
   "cell_type": "markdown",
   "metadata": {},
   "source": [
    "##### Exercise 3\n",
    "\n",
    "在 $\\Vol_R$ 的定義中，假設我們已經接受了  \n",
    "\n",
    "- If $E$ is the elementary matrix of $\\rho_i:\\times k$, then $E$ **rescales** the $i$-th row of $A$.  \n",
    "- If $E$ is the elementary matrix of $\\rho_i:+k\\rho_j\\times$, then $E$ **slants** the $i$-th row of $A$ to the direction of $j$-th row.  \n",
    "\n",
    "說明為什麼  \n",
    "\n",
    "- If $E$ is the elementary matrix of $\\rho_i\\leftrightarrow\\rho_j$, then $E$ **swaps** the $i$-th and $j$-th rows of $A$.  \n",
    "\n",
    "中的 $-1$ 是合理的。  \n",
    "\n",
    "<!-- eng start -->\n",
    "In the definition of $\\Vol_R$, suppose we already accept the following rules.  \n",
    "\n",
    "- If $E$ is the elementary matrix of $\\rho_i:\\times k$, then $E$ **rescales** the $i$-th row of $A$.  \n",
    "- If $E$ is the elementary matrix of $\\rho_i:+k\\rho_j\\times$, then $E$ **slants** the $i$-th row of $A$ to the direction of $j$-th row.  \n",
    "\n",
    "Explain the $-1$ in the rule below is reasonable.\n",
    "\n",
    "- If $E$ is the elementary matrix of $\\rho_i\\leftrightarrow\\rho_j$, then $E$ **swaps** the $i$-th and $j$-th rows of $A$.  \n",
    "<!-- eng end -->"
   ]
  },
  {
   "cell_type": "markdown",
   "metadata": {},
   "source": [
    "##### Exercise 4\n",
    "\n",
    "利用 $\\Vol_R$ 定義中的四條準則，說明以下性質。  \n",
    "\n",
    "<!-- eng start -->\n",
    "Use the four rules in the definition of $\\Vol_R$ to expalin the following properties.  \n",
    "<!-- eng end -->"
   ]
  },
  {
   "cell_type": "markdown",
   "metadata": {},
   "source": [
    "##### Exercise 4(a)\n",
    "\n",
    "若 $A$ 中有一列為零向量，說明 $\\Vol_R(A) = 0$。  \n",
    "\n",
    "<!-- eng start -->\n",
    "If $A$ has a zero row, then $\\Vol_R(A) = 0$.  \n",
    "<!-- eng end -->"
   ]
  },
  {
   "cell_type": "markdown",
   "metadata": {},
   "source": [
    "##### Exercise 4(b)\n",
    "\n",
    "若 $A$ 中有兩列向量相等，說明 $\\Vol_R(A) = 0$。  \n",
    "\n",
    "<!-- eng start -->\n",
    "If $A$ has two rows in common, then $\\Vol_R(A) = 0$.  \n",
    "<!-- eng end -->"
   ]
  },
  {
   "cell_type": "markdown",
   "metadata": {},
   "source": [
    "##### Exercise 4(c)\n",
    "\n",
    "若 $A$ 中的列向量集合線性相依，說明 $\\Vol_R(A) = 0$。  \n",
    "\n",
    "<!-- eng start -->\n",
    "If some rows of $A$ form a linearly dependent set, then $\\Vol_R(A) = 0$.  \n",
    "<!-- eng end -->"
   ]
  },
  {
   "cell_type": "markdown",
   "metadata": {},
   "source": [
    "##### Exercise 5\n",
    "\n",
    "令 \n",
    "\n",
    "$$\n",
    "    A = \\begin{bmatrix}\n",
    "    \\frac{1}{\\sqrt{3}} & \\frac{1}{\\sqrt{2}} & \\frac{1}{\\sqrt{6}}\\\\\n",
    "    \\frac{1}{\\sqrt{3}} & -\\frac{1}{\\sqrt{2}} & \\frac{1}{\\sqrt{6}}\\\\\n",
    "    \\frac{1}{\\sqrt{3}} & 0 & -\\frac{2}{\\sqrt{6}}\\\\\n",
    "    \\end{bmatrix}.\n",
    "$$\n",
    "\n",
    "<!-- eng start -->\n",
    "Let  \n",
    "\n",
    "$$\n",
    "    A = \\begin{bmatrix}\n",
    "    \\frac{1}{\\sqrt{3}} & \\frac{1}{\\sqrt{2}} & \\frac{1}{\\sqrt{6}}\\\\\n",
    "    \\frac{1}{\\sqrt{3}} & -\\frac{1}{\\sqrt{2}} & \\frac{1}{\\sqrt{6}}\\\\\n",
    "    \\frac{1}{\\sqrt{3}} & 0 & -\\frac{2}{\\sqrt{6}}\\\\\n",
    "    \\end{bmatrix}.\n",
    "$$  \n",
    "<!-- eng end -->"
   ]
  },
  {
   "cell_type": "markdown",
   "metadata": {},
   "source": [
    "##### Exercise 5(a)\n",
    "\n",
    "已知 $A$ 的列向量彼此互相垂直  \n",
    "且長度皆為 $1$。  \n",
    "以直觀的方式猜測 $\\Vol_R(A)$。  \n",
    "真的計算看看你的猜測是否正確。  \n",
    "\n",
    "<!-- eng start -->\n",
    "We know the rows of $A$ are mutually orthogonal and of length $1$.  Guess what is $\\Vol_R(A)$ by intuition.  Then check if your intuition is correct by definition.  \n",
    "<!-- eng end -->"
   ]
  },
  {
   "cell_type": "markdown",
   "metadata": {},
   "source": [
    "##### Exercise 5(b)\n",
    "\n",
    "將 $A$ 矩陣的  \n",
    "第一個列向量伸縮為原來的 $3$ 倍，  \n",
    "第二個列向量伸縮為原來的 $4$ 倍，  \n",
    "第三個列向量伸縮為原來的 $5$ 倍，  \n",
    "並得到 $B$ 矩陣。  \n",
    "以直觀的方式猜測 $\\Vol_R(B)$。  \n",
    "真的計算看看你的猜測是否正確。\n",
    "\n",
    "<!-- eng start -->\n",
    "Construct a new matrix $B$ from $A$ by rescaling the first row by $3$, the second row by $4$, and the third row by $5$.  Guess what is $\\Vol_R(A)$ by intuition.  Then check if your intuition is correct by definition.  \n",
    "<!-- eng end -->"
   ]
  },
  {
   "cell_type": "markdown",
   "metadata": {},
   "source": [
    "##### Exercise 6\n",
    "\n",
    "令 $\\bx$、$\\by$、及 $\\bz$ 為 $\\mathbb{R}^3$ 中的向量。  \n",
    "令 $V_1$ 為 $\\bx, \\by, \\bz$ 所張出來的平行六面體，  \n",
    "而 $V_2$ 為 $\\bx + \\by, \\by + \\bz, \\bz + \\bx$ 所張出來的平行六面體。  \n",
    "問 $V_2$ 的有向體積是 $V_1$ 的有向體積的幾倍？  \n",
    "\n",
    "<!-- eng start -->\n",
    "Let $\\bx$, $\\by$, and $\\bz$ be vectors in $\\mathbb{R}^3$.  Let $V_1$ be the parallelotope spanned by $\\bx, \\by, \\bz$.  Let $V_2$ be the parallelotope spanned by $\\bx + \\by, \\by + \\bz, \\bz + \\bx$.  What is the ratio between the volumn of $V_2$ and the volumn of $V_1$?   \n",
    "<!-- eng end -->"
   ]
  }
 ],
 "metadata": {
  "kernelspec": {
   "display_name": "SageMath 9.7",
   "language": "sage",
   "name": "sagemath"
  },
  "language_info": {
   "codemirror_mode": {
    "name": "ipython",
    "version": 3
   },
   "file_extension": ".py",
   "mimetype": "text/x-python",
   "name": "python",
   "nbconvert_exporter": "python",
   "pygments_lexer": "ipython3",
   "version": "3.10.8"
  }
 },
 "nbformat": 4,
 "nbformat_minor": 4
}
