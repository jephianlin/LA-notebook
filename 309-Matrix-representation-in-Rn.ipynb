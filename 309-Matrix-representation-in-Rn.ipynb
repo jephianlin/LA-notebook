{
 "cells": [
  {
   "cell_type": "markdown",
   "metadata": {},
   "source": [
    "# $\\mathbb{R}^n$ 中的矩陣表示法\n",
    "\n",
    "Matrix representation in $\\mathbb{R}^n$"
   ]
  },
  {
   "cell_type": "markdown",
   "metadata": {},
   "source": [
    "![Creative Commons License](https://i.creativecommons.org/l/by/4.0/88x31.png)  \n",
    "This work by Jephian Lin is licensed under a [Creative Commons Attribution 4.0 International License](http://creativecommons.org/licenses/by/4.0/)."
   ]
  },
  {
   "cell_type": "markdown",
   "metadata": {},
   "source": [
    "$\\newcommand{\\trans}{^\\top}\n",
    "\\newcommand{\\adj}{^{\\rm adj}}\n",
    "\\newcommand{\\cof}{^{\\rm cof}}\n",
    "\\newcommand{\\inp}[2]{\\left\\langle#1,#2\\right\\rangle}\n",
    "\\newcommand{\\dunion}{\\mathbin{\\dot\\cup}}\n",
    "\\newcommand{\\bzero}{\\mathbf{0}}\n",
    "\\newcommand{\\bone}{\\mathbf{1}}\n",
    "\\newcommand{\\ba}{\\mathbf{a}}\n",
    "\\newcommand{\\bb}{\\mathbf{b}}\n",
    "\\newcommand{\\bc}{\\mathbf{c}}\n",
    "\\newcommand{\\bd}{\\mathbf{d}}\n",
    "\\newcommand{\\be}{\\mathbf{e}}\n",
    "\\newcommand{\\bh}{\\mathbf{h}}\n",
    "\\newcommand{\\bp}{\\mathbf{p}}\n",
    "\\newcommand{\\bq}{\\mathbf{q}}\n",
    "\\newcommand{\\br}{\\mathbf{r}}\n",
    "\\newcommand{\\bx}{\\mathbf{x}}\n",
    "\\newcommand{\\by}{\\mathbf{y}}\n",
    "\\newcommand{\\bz}{\\mathbf{z}}\n",
    "\\newcommand{\\bu}{\\mathbf{u}}\n",
    "\\newcommand{\\bv}{\\mathbf{v}}\n",
    "\\newcommand{\\bw}{\\mathbf{w}}\n",
    "\\newcommand{\\tr}{\\operatorname{tr}}\n",
    "\\newcommand{\\nul}{\\operatorname{null}}\n",
    "\\newcommand{\\rank}{\\operatorname{rank}}\n",
    "%\\newcommand{\\ker}{\\operatorname{ker}}\n",
    "\\newcommand{\\range}{\\operatorname{range}}\n",
    "\\newcommand{\\Col}{\\operatorname{Col}}\n",
    "\\newcommand{\\Row}{\\operatorname{Row}}\n",
    "\\newcommand{\\spec}{\\operatorname{spec}}\n",
    "\\newcommand{\\vspan}{\\operatorname{span}}\n",
    "\\newcommand{\\Vol}{\\operatorname{Vol}}\n",
    "\\newcommand{\\sgn}{\\operatorname{sgn}}\n",
    "\\newcommand{\\idmap}{\\operatorname{id}}\n",
    "\\newcommand{\\am}{\\operatorname{am}}\n",
    "\\newcommand{\\gm}{\\operatorname{gm}}\n",
    "\\newcommand{\\mult}{\\operatorname{mult}}\n",
    "\\newcommand{\\iner}{\\operatorname{iner}}$"
   ]
  },
  {
   "cell_type": "code",
   "execution_count": null,
   "metadata": {},
   "outputs": [],
   "source": [
    "from lingeo import random_int_list, random_good_matrix"
   ]
  },
  {
   "cell_type": "markdown",
   "metadata": {},
   "source": [
    "## Main idea"
   ]
  },
  {
   "cell_type": "markdown",
   "metadata": {},
   "source": [
    "Recall that if $f : \\mathbb{R}^n \\rightarrow \\mathbb{R}^m$ is a linear function and $\\{ \\be_1,\\ldots, \\be_n\\}$ is the standard basis of $\\mathbb{R}^n$.  \n",
    "Then the matrix  \n",
    "\n",
    "$$\n",
    "    [f] = \\begin{bmatrix}\n",
    "     | & ~ & | \\\\\n",
    "     f(\\be_1) & \\cdots & f(\\be_n) \\\\ \n",
    "     | & ~ & | \\\\\n",
    "    \\end{bmatrix}\n",
    "$$\n",
    "\n",
    "has the property that $f(\\bb) = [f]\\bb$ for all $\\bb\\in\\mathbb{R}^n$.  "
   ]
  },
  {
   "cell_type": "markdown",
   "metadata": {},
   "source": [
    "Sometimes $f(\\be_i)$ cannot be easily found, while the function $f$ is described by the bases of $\\mathbb{R}^n$ and $\\mathbb{R}^m$ instead.  \n",
    "Let $f : \\mathbb{R}^n \\rightarrow \\mathbb{R}^m$ be a linear function,  \n",
    "$\\alpha = \\{ \\bv_1, \\ldots, \\bv_n \\}$ be a basis of $\\mathbb{R}^n$, and  \n",
    "$\\beta$ a basis of $\\mathbb{R}^m$.  \n",
    "Then the matrix  \n",
    "\n",
    "$$\n",
    "    [f]_\\alpha^\\beta = \\begin{bmatrix}\n",
    "     | & ~ & | \\\\\n",
    "     [f(\\bv_1)]_\\beta & \\cdots & [f(\\bv_n)]_\\beta \\\\ \n",
    "     | & ~ & | \\\\\n",
    "    \\end{bmatrix}\n",
    "$$\n",
    "\n",
    "has the property that $[f(\\bb)]_\\beta = [f]_\\alpha^\\beta [\\bb]_\\alpha$.  \n",
    "Therefore, we call $[f]_\\alpha^\\beta$ the **matrix representation** of $f$ with respect to $\\alpha$ and $\\beta$.  "
   ]
  },
  {
   "cell_type": "markdown",
   "metadata": {},
   "source": [
    "The equality can be visualized by the following diagram.  \n",
    "\n",
    "$$\n",
    "    \\begin{array}{ccc}\n",
    "     \\bb & \\xrightarrow{f} & f(\\bb) \\\\\n",
    "     \\downarrow & ~ & \\downarrow \\\\\n",
    "     [\\bb]_\\alpha & \\xrightarrow{[f]_\\alpha^\\beta\\cdot\\square} & [f(\\bb)]_\\beta \\\\ \n",
    "    \\end{array}\n",
    "$$"
   ]
  },
  {
   "cell_type": "markdown",
   "metadata": {},
   "source": [
    "Let $\\mathcal{E}_n$ and $\\mathcal{E}_m$ be the standard basis of $\\mathbb{R}^n$ and $\\mathbb{R}^m$, respectively.  Since we know \n",
    "\n",
    "- $[f]\\bb =f(\\bb)$,\n",
    "- $[\\idmap]_{\\mathcal{E}_n}^\\alpha \\bb = [\\bb]_\\alpha$, \n",
    "- $[\\idmap]_{\\mathcal{E}_m}^\\beta f(\\bb) = [f(\\bb)]_\\beta$.  \n",
    "\n",
    "We know $[f] = ([\\idmap]_{\\mathcal{E}_m}^\\beta)^{-1} \n",
    "[f]_\\alpha^\\beta\n",
    "[\\idmap]_{\\mathcal{E}_n}^\\alpha \n",
    "= [\\idmap]_\\beta^{\\mathcal{E}_m} \n",
    "[f]_\\alpha^\\beta\n",
    "([\\idmap]_\\alpha^{\\mathcal{E}_n})^{-1}$."
   ]
  },
  {
   "cell_type": "markdown",
   "metadata": {},
   "source": [
    "## Side stories\n",
    "\n",
    "- projection"
   ]
  },
  {
   "cell_type": "markdown",
   "metadata": {},
   "source": [
    "## Experiments"
   ]
  },
  {
   "cell_type": "markdown",
   "metadata": {},
   "source": [
    "##### Exercise 1\n",
    "\n",
    "執行以下程式碼。  \n",
    "已知 $f$ 為 $\\mathbb{R}^3$ 到 $\\mathbb{R}^2$ 的線性函數﹐  \n",
    "而 $\\alpha$ 和 $\\beta$ 分別為 $\\mathbb{R}^3$ 和 $\\mathbb{R}^2$ 的一組基底。  \n",
    "\n",
    "<!-- eng start -->\n",
    "Run the code below.  Let $f: \\mathbb{R}^3 \\rightarrow \\mathbb{R}^2$ be a linear function.  Let $\\alpha$ and $\\beta$ be bases of $\\mathbb{R}^3$ and $\\mathbb{R}^2$, respectively.  \n",
    "<!-- eng end -->"
   ]
  },
  {
   "cell_type": "code",
   "execution_count": null,
   "metadata": {
    "scrolled": false
   },
   "outputs": [],
   "source": [
    "### code\n",
    "set_random_seed(0)\n",
    "print_ans = False\n",
    "m,n = 2,3\n",
    "alpha = random_good_matrix(n,n,n, bound=3)\n",
    "beta = random_good_matrix(m,m,m, bound=3)\n",
    "A = matrix(m, random_int_list(m*n))\n",
    "v = vector(random_int_list(n, 3))\n",
    "b = alpha * v\n",
    "\n",
    "print(\"alpha contains %s vectors:\"%n)\n",
    "for j in range(n):\n",
    "    print(\"v%s =\"%(j+1), alpha.column(j))\n",
    "\n",
    "print(\"beta contains %s vectors:\"%m)\n",
    "for i in range(m):\n",
    "    print(\"u%s =\"%(i+1), beta.column(i))\n",
    "\n",
    "for j in range(n):\n",
    "    print( \"f(v%s) = \"%(j+1) + \" + \".join(\"%s u%s\"%(A[i,j],i+1) for i in range(m)) )\n",
    "    \n",
    "print(\"b =\", b)\n",
    "\n",
    "if print_ans:\n",
    "    print(\"[b]_alpha =\", v)\n",
    "    print(\"[f(b)]_beta =\", A*v)\n",
    "    print(\"f(b) =\", beta * A * v)\n",
    "    print(\"[f]_alpha^beta =\")\n",
    "    show(A)\n",
    "    print(\"[f] =\")\n",
    "    show(beta * A * alpha.inverse())"
   ]
  },
  {
   "cell_type": "markdown",
   "metadata": {},
   "source": [
    "##### Exercise 1(a)\n",
    "\n",
    "求 $[\\bb]_\\alpha$、$[f(\\bb)]_\\beta$、及 $f(\\bb)$。  \n",
    "\n",
    "<!-- eng start -->\n",
    "Find $[\\bb]_\\alpha$, $[f(\\bb)]_\\beta$, and $f(\\bb)$.  \n",
    "<!-- eng end -->"
   ]
  },
  {
   "cell_type": "markdown",
   "metadata": {},
   "source": [
    "##### Exercise 1(b)\n",
    "\n",
    "求 $[f]_\\alpha^\\beta$ 及 $[f]$。  \n",
    "\n",
    "<!-- eng start -->\n",
    "Find $[f]_\\alpha^\\beta$ 及 $[f]$.  \n",
    "<!-- eng end -->"
   ]
  },
  {
   "cell_type": "markdown",
   "metadata": {},
   "source": [
    "## Exercises"
   ]
  },
  {
   "cell_type": "markdown",
   "metadata": {},
   "source": [
    "##### Exercise 2\n",
    "\n",
    "令 $f : \\mathbb{R}^n \\rightarrow \\mathbb{R}^m$ 為一線性函數、  \n",
    "$\\alpha = \\{\\bv_1, \\ldots, \\bv_n\\}$ 為 $\\mathbb{R}^n$ 的一組基底、  \n",
    "$\\beta = \\{\\bu_1, \\ldots, \\bu_m\\}$ 為 $\\mathbb{R}^m$ 的一組基底。  \n",
    "\n",
    "<!-- eng start -->\n",
    "Let $f : \\mathbb{R}^n \\rightarrow \\mathbb{R}^m$ be a linear function, $\\alpha = \\{\\bv_1, \\ldots, \\bv_n\\}$ a basis of $\\mathbb{R}^n$, and $\\beta = \\{\\bu_1, \\ldots, \\bu_m\\}$ a basis of $\\mathbb{R}^m$.  \n",
    "<!-- eng end -->"
   ]
  },
  {
   "cell_type": "markdown",
   "metadata": {},
   "source": [
    "##### Exercise 2(a)\n",
    "\n",
    "令 $m = n = 3$ 且  \n",
    "$\\alpha = \\beta$ 為  \n",
    "\n",
    "$$\n",
    "    A = \\begin{bmatrix} \n",
    "     \\frac{1}{\\sqrt{3}} & \\frac{1}{\\sqrt{2}} & \\frac{1}{\\sqrt{6}} \\\\\n",
    "     \\frac{1}{\\sqrt{3}} & -\\frac{1}{\\sqrt{2}} & \\frac{1}{\\sqrt{6}} \\\\\n",
    "     \\frac{1}{\\sqrt{3}} & 0 & -\\frac{2}{\\sqrt{6}} \\\\\n",
    "    \\end{bmatrix}\n",
    "$$\n",
    "\n",
    "的各行向量。  \n",
    "已知  \n",
    "$f(\\bv_1) = \\bu_1$、  \n",
    "$f(\\bv_2) = \\bu_2$、  \n",
    "$f(\\bv_3) = \\bzero$。  \n",
    "求 $[f]_\\alpha^\\beta$ 及 $[f]$ 並說明 $f$ 的作用。  \n",
    "\n",
    "<!-- eng start -->\n",
    "Let $m = n = 3$ and $\\alpha = \\beta$ the columns of \n",
    "\n",
    "$$\n",
    "    A = \\begin{bmatrix} \n",
    "     \\frac{1}{\\sqrt{3}} & \\frac{1}{\\sqrt{2}} & \\frac{1}{\\sqrt{6}} \\\\\n",
    "     \\frac{1}{\\sqrt{3}} & -\\frac{1}{\\sqrt{2}} & \\frac{1}{\\sqrt{6}} \\\\\n",
    "     \\frac{1}{\\sqrt{3}} & 0 & -\\frac{2}{\\sqrt{6}} \\\\\n",
    "    \\end{bmatrix}.\n",
    "$$\n",
    "\n",
    "Suppose $f(\\bv_1) = \\bu_1$, $f(\\bv_2) = \\bu_2$, and $f(\\bv_3) = \\bzero$.  Find $[f]_\\alpha^\\beta$ and $[f]$.  Then describe the effect of $f$.  \n",
    "<!-- eng end -->"
   ]
  },
  {
   "cell_type": "markdown",
   "metadata": {},
   "source": [
    "##### Exercise 2(b)\n",
    "\n",
    "令 $m = n = 3$ 且  \n",
    "$\\alpha = \\beta$ 為  \n",
    "\n",
    "$$\n",
    "    A = \\begin{bmatrix} \n",
    "     \\frac{1}{\\sqrt{3}} & \\frac{1}{\\sqrt{2}} & \\frac{1}{\\sqrt{6}} \\\\\n",
    "     \\frac{1}{\\sqrt{3}} & -\\frac{1}{\\sqrt{2}} & \\frac{1}{\\sqrt{6}} \\\\\n",
    "     \\frac{1}{\\sqrt{3}} & 0 & -\\frac{2}{\\sqrt{6}} \\\\\n",
    "    \\end{bmatrix}\n",
    "$$\n",
    "\n",
    "的各行向量。  \n",
    "已知  \n",
    "$f(\\bv_1) = \\bu_1$、  \n",
    "$f(\\bv_2) = \\bu_2$、  \n",
    "$f(\\bv_3) = -\\bu_3$。  \n",
    "求 $[f]_\\alpha^\\beta$ 及 $[f]$ 並說明 $f$ 的作用。  \n",
    "\n",
    "<!-- eng start -->\n",
    "Let $m = n = 3$ and $\\alpha = \\beta$ the columns of \n",
    "\n",
    "$$\n",
    "    A = \\begin{bmatrix} \n",
    "     \\frac{1}{\\sqrt{3}} & \\frac{1}{\\sqrt{2}} & \\frac{1}{\\sqrt{6}} \\\\\n",
    "     \\frac{1}{\\sqrt{3}} & -\\frac{1}{\\sqrt{2}} & \\frac{1}{\\sqrt{6}} \\\\\n",
    "     \\frac{1}{\\sqrt{3}} & 0 & -\\frac{2}{\\sqrt{6}} \\\\\n",
    "    \\end{bmatrix}.\n",
    "$$\n",
    "\n",
    "Suppose $f(\\bv_1) = \\bu_1$, $f(\\bv_2) = \\bu_2$, and $f(\\bv_3) = -\\bu_3$.  Find $[f]_\\alpha^\\beta$ and $[f]$.  Then describe the effect of $f$.  \n",
    "<!-- eng end -->"
   ]
  },
  {
   "cell_type": "markdown",
   "metadata": {},
   "source": [
    "##### Exercise 2(c)\n",
    "\n",
    "令 $m = n = 3$ 且  \n",
    "$\\alpha = \\beta$ 為  \n",
    "\n",
    "$$\n",
    "    A = \\begin{bmatrix} \n",
    "     \\frac{1}{\\sqrt{3}} & \\frac{1}{\\sqrt{2}} & \\frac{1}{\\sqrt{6}} \\\\\n",
    "     \\frac{1}{\\sqrt{3}} & -\\frac{1}{\\sqrt{2}} & \\frac{1}{\\sqrt{6}} \\\\\n",
    "     \\frac{1}{\\sqrt{3}} & 0 & -\\frac{2}{\\sqrt{6}} \\\\\n",
    "    \\end{bmatrix}\n",
    "$$\n",
    "\n",
    "的各行向量。  \n",
    "已知  \n",
    "$f(\\bv_1) = \\bu_2$、  \n",
    "$f(\\bv_2) = -\\bu_1$、  \n",
    "$f(\\bv_3) = \\bu_3$。  \n",
    "求 $[f]_\\alpha^\\beta$ 及 $[f]$ 並說明 $f$ 的作用。  \n",
    "\n",
    "<!-- eng start -->\n",
    "Let $m = n = 3$ and $\\alpha = \\beta$ the columns of \n",
    "\n",
    "$$\n",
    "    A = \\begin{bmatrix} \n",
    "     \\frac{1}{\\sqrt{3}} & \\frac{1}{\\sqrt{2}} & \\frac{1}{\\sqrt{6}} \\\\\n",
    "     \\frac{1}{\\sqrt{3}} & -\\frac{1}{\\sqrt{2}} & \\frac{1}{\\sqrt{6}} \\\\\n",
    "     \\frac{1}{\\sqrt{3}} & 0 & -\\frac{2}{\\sqrt{6}} \\\\\n",
    "    \\end{bmatrix}\n",
    "$$\n",
    "\n",
    "Suppose $f(\\bv_1) = \\bu_2$, $f(\\bv_2) = -\\bu_1$, and $f(\\bv_3) = \\bu_3$.  Find $[f]_\\alpha^\\beta$ and $[f]$.  Then describe the effect of $f$.  \n",
    "<!-- eng end -->"
   ]
  },
  {
   "cell_type": "markdown",
   "metadata": {},
   "source": [
    "##### Exercise 2(d)\n",
    "\n",
    "令 $m = 3$、$n = 2$ 且  \n",
    "$\\alpha$ 為  \n",
    "\n",
    "$$\n",
    "    A = \\begin{bmatrix} \n",
    "     \\frac{1}{\\sqrt{3}} & \\frac{1}{\\sqrt{2}} & \\frac{1}{\\sqrt{6}} \\\\\n",
    "     \\frac{1}{\\sqrt{3}} & -\\frac{1}{\\sqrt{2}} & \\frac{1}{\\sqrt{6}} \\\\\n",
    "     \\frac{1}{\\sqrt{3}} & 0 & -\\frac{2}{\\sqrt{6}} \\\\\n",
    "    \\end{bmatrix}\n",
    "$$\n",
    "\n",
    "的各行向量、  \n",
    "$\\beta$ 為  \n",
    "\n",
    "$$\n",
    "    B = \\begin{bmatrix} \n",
    "     1 & 1 \\\\\n",
    "     0 & 1 \\\\\n",
    "    \\end{bmatrix}\n",
    "$$\n",
    "\n",
    "的各行向量。  \n",
    "已知  \n",
    "$f(\\bv_1) = 3\\bu_1$、  \n",
    "$f(\\bv_2) = 4\\bu_2$、  \n",
    "$f(\\bv_3) = \\bzero$。  \n",
    "求 $[f]_\\alpha^\\beta$ 及 $[f]$。  \n",
    "\n",
    "<!-- eng start -->\n",
    "Let $m = 3$, $n = 2$, $\\alpha$ the columns of \n",
    "\n",
    "$$\n",
    "    A = \\begin{bmatrix} \n",
    "     \\frac{1}{\\sqrt{3}} & \\frac{1}{\\sqrt{2}} & \\frac{1}{\\sqrt{6}} \\\\\n",
    "     \\frac{1}{\\sqrt{3}} & -\\frac{1}{\\sqrt{2}} & \\frac{1}{\\sqrt{6}} \\\\\n",
    "     \\frac{1}{\\sqrt{3}} & 0 & -\\frac{2}{\\sqrt{6}} \\\\\n",
    "    \\end{bmatrix}\n",
    "$$\n",
    "\n",
    "and $\\beta$ the columns of \n",
    "\n",
    "$$\n",
    "    B = \\begin{bmatrix} \n",
    "     1 & 1 \\\\\n",
    "     0 & 1 \\\\\n",
    "    \\end{bmatrix}\n",
    "$$\n",
    "\n",
    "Suppose $f(\\bv_1) = 3\\bu_1$, $f(\\bv_2) = 4\\bu_2$, and $f(\\bv_3) = \\bzero$.  Find $[f]_\\alpha^\\beta$ and $[f]$.  Then describe the effect of $f$.  \n",
    "<!-- eng end -->"
   ]
  },
  {
   "cell_type": "markdown",
   "metadata": {},
   "source": [
    "##### Exercise 3\n",
    "\n",
    "若 $f : \\mathbb{R}^n \\rightarrow \\mathbb{R}^m$ 為一線性函數。  \n",
    "而 $\\mathcal{E}_n$ 和 $\\mathcal{E}_m$ 分別為 $\\mathbb{R}^n$ 和 $\\mathbb{R}^m$ 的一組基底。  \n",
    "說明 $[f]$ 就是 $[f]_{\\mathcal{E}_n}^{\\mathcal{E}_m}$。  \n",
    "\n",
    "<!-- eng start -->\n",
    "Let $f : \\mathbb{R}^n \\rightarrow \\mathbb{R}^m$ be a linear function.  Let  $\\mathcal{E}_n$ and $\\mathcal{E}_m$ be the standard bases of $\\mathbb{R}^n$ and $\\mathbb{R}^m$, respectively.  Verify that $[f]$ is indeed $[f]_{\\mathcal{E}_n}^{\\mathcal{E}_m}$.  \n",
    "<!-- eng end -->"
   ]
  }
 ],
 "metadata": {
  "kernelspec": {
   "display_name": "SageMath 9.6",
   "language": "sage",
   "name": "sagemath"
  },
  "language_info": {
   "codemirror_mode": {
    "name": "ipython",
    "version": 3
   },
   "file_extension": ".py",
   "mimetype": "text/x-python",
   "name": "python",
   "nbconvert_exporter": "python",
   "pygments_lexer": "ipython3",
   "version": "3.10.6"
  }
 },
 "nbformat": 4,
 "nbformat_minor": 4
}
