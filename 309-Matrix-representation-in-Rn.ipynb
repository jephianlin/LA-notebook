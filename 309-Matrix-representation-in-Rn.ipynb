{
 "cells": [
  {
   "cell_type": "markdown",
   "metadata": {},
   "source": [
    "# $\\mathbb{R}^n$ 中的矩陣表示法"
   ]
  },
  {
   "cell_type": "markdown",
   "metadata": {},
   "source": [
    "![Creative Commons License](https://i.creativecommons.org/l/by/4.0/88x31.png)  \n",
    "This work by Jephian Lin is licensed under a [Creative Commons Attribution 4.0 International License](http://creativecommons.org/licenses/by/4.0/)."
   ]
  },
  {
   "cell_type": "code",
   "execution_count": null,
   "metadata": {},
   "outputs": [],
   "source": [
    "from lingeo import random_int_list, random_good_matrix"
   ]
  },
  {
   "cell_type": "markdown",
   "metadata": {},
   "source": [
    "## Main idea"
   ]
  },
  {
   "cell_type": "markdown",
   "metadata": {},
   "source": [
    "Recall that if $f : \\mathbb{R}^n \\rightarrow \\mathbb{R}^m$ is a linear function and $\\{ {\\bf e}_1,\\ldots, {\\bf e}_n\\}$ is the standard basis of $\\mathbb{R}^n$.  \n",
    "Then the matrix  \n",
    "$$[f] = \\begin{bmatrix}\n",
    " | & ~ & | \\\\\n",
    " f({\\bf e}_1) & \\cdots & f({\\bf e}_n) \\\\ \n",
    " | & ~ & | \\\\\n",
    "\\end{bmatrix}$$\n",
    "has the property that $f({\\bf b}) = [f]{\\bf b}$ for all ${\\bf b}\\in\\mathbb{R}^n$.  "
   ]
  },
  {
   "cell_type": "markdown",
   "metadata": {},
   "source": [
    "Sometimes $f({\\bf e}_i)$ cannot be easily found, while the function $f$ is described by the bases of $\\mathbb{R}^n$ and $\\mathbb{R}^m$ instead.  \n",
    "Let $f : \\mathbb{R}^n \\rightarrow \\mathbb{R}^m$ be a linear function,  \n",
    "$\\alpha = \\{ {\\bf v}_1, \\ldots, {\\bf v}_n \\}$ be a basis of $\\mathbb{R}^n$, and  \n",
    "$\\beta$ a basis of $\\mathbb{R}^m$.  \n",
    "Then the matrix  \n",
    "$$[f]_\\alpha^\\beta = \\begin{bmatrix}\n",
    " | & ~ & | \\\\\n",
    " [f({\\bf v}_1)]_\\beta & \\cdots & [f({\\bf v}_n)]_\\beta \\\\ \n",
    " | & ~ & | \\\\\n",
    "\\end{bmatrix}$$\n",
    "has the property that $[f({\\bf b})]_\\beta = [f]_\\alpha^\\beta [{\\bf b}]_\\alpha$.  \n",
    "Therefore, we call $[f]_\\alpha^\\beta$ the **matrix representation** of $f$ with respect to $\\alpha$ and $\\beta$.  "
   ]
  },
  {
   "cell_type": "markdown",
   "metadata": {},
   "source": [
    "The equality can be visualized by the following diagram.  \n",
    "$$\\begin{array}{ccc}\n",
    " {\\bf b} & \\xrightarrow{f} & f({\\bf b}) \\\\\n",
    " \\downarrow & ~ & \\downarrow \\\\\n",
    " [{\\bf b}]_\\alpha & \\xrightarrow{[f]_\\alpha^\\beta\\cdot\\square} & [f({\\bf b})]_\\beta \\\\ \n",
    "\\end{array}$$\n"
   ]
  },
  {
   "cell_type": "markdown",
   "metadata": {},
   "source": [
    "Let $\\mathcal{E}_n$ and $\\mathcal{E}_m$ be the standard basis of $\\mathbb{R}^n$ and $\\mathbb{R}^m$, respectively.  Since we know \n",
    "- $[f]{\\bf b} =f({\\bf b})$,\n",
    "- $[\\operatorname{id}]_{\\mathcal{E}_n}^\\alpha {\\bf b} = [{\\bf b}]_\\alpha$, \n",
    "- $[\\operatorname{id}]_{\\mathcal{E}_n}^\\beta f({\\bf b}) = [f({\\bf b})]_\\beta$.  \n",
    "\n",
    "We know $[f] = ([\\operatorname{id}]_{\\mathcal{E}_n}^\\beta)^{-1} \n",
    "[f]_\\alpha^\\beta)\n",
    "[\\operatorname{id}]_{\\mathcal{E}_n}^\\alpha$."
   ]
  },
  {
   "cell_type": "markdown",
   "metadata": {},
   "source": [
    "## Side stories\n",
    "- projection"
   ]
  },
  {
   "cell_type": "markdown",
   "metadata": {},
   "source": [
    "## Experiments"
   ]
  },
  {
   "cell_type": "markdown",
   "metadata": {},
   "source": [
    "##### Exercise 1\n",
    "\n",
    "執行以下程式碼。  \n",
    "已知 $f$ 為 $\\mathbb{R}^3$ 到 $\\mathbb{R}^2$ 的線性函數﹐  \n",
    "而 $\\alpha$ 和 $\\beta$ 分別為 $\\mathbb{R}^3$ 和 $\\mathbb{R}^2$ 的一組基底。  "
   ]
  },
  {
   "cell_type": "code",
   "execution_count": null,
   "metadata": {
    "scrolled": false
   },
   "outputs": [],
   "source": [
    "### code\n",
    "set_random_seed(0)\n",
    "print_ans = False\n",
    "m,n = 2,3\n",
    "alpha = random_good_matrix(n,n,n, bound=3)\n",
    "beta = random_good_matrix(m,m,m, bound=3)\n",
    "A = matrix(m, random_int_list(m*n))\n",
    "v = vector(random_int_list(n, 3))\n",
    "b = alpha * v\n",
    "\n",
    "print(\"alpha contains %s vectors:\"%n)\n",
    "for j in range(n):\n",
    "    print(\"v%s =\"%(j+1), alpha.column(j))\n",
    "\n",
    "print(\"beta contains %s vectors:\"%m)\n",
    "for i in range(m):\n",
    "    print(\"u%s =\"%(i+1), beta.column(i))\n",
    "\n",
    "for j in range(n):\n",
    "    print( \"f(v%s) = \"%(j+1) + \" + \".join(\"%s u%s\"%(A[i,j],i+1) for i in range(m)) )\n",
    "    \n",
    "print(\"b =\", b)\n",
    "\n",
    "if print_ans:\n",
    "    print(\"[b]_alpha =\", v)\n",
    "    print(\"[f(b)]_beta =\", A*v)\n",
    "    print(\"f(b) =\", beta * A * v)\n",
    "    print(\"[f]_alpha^beta =\")\n",
    "    show(A)\n",
    "    print(\"[f] =\")\n",
    "    show(beta * A * alpha.inverse())"
   ]
  },
  {
   "cell_type": "markdown",
   "metadata": {},
   "source": [
    "##### Exercise 1(a)\n",
    "\n",
    "求 $[{\\bf b}]_\\alpha$、$[f({\\bf b})]_\\beta$ 、及 $f({\\bf b})$。  "
   ]
  },
  {
   "cell_type": "markdown",
   "metadata": {},
   "source": [
    "##### Exercise 1(b)\n",
    "\n",
    "求 $[f]_\\alpha^\\beta$ 及 $[f]$。  "
   ]
  },
  {
   "cell_type": "markdown",
   "metadata": {},
   "source": [
    "## Exercises"
   ]
  },
  {
   "cell_type": "markdown",
   "metadata": {},
   "source": [
    "##### Exercise 2\n",
    "\n",
    "令 $f : \\mathbb{R}^n \\rightarrow \\mathbb{R}^m$ 為一線性函數、  \n",
    "$\\alpha = \\{{\\bf v}_1, \\ldots, {\\bf v}_n\\}$ 為 $\\mathbb{R}^n$ 的一組基底、  \n",
    "$\\beta = \\{{\\bf u}_1, \\ldots, {\\bf u}_m\\}$ 為 $\\mathbb{R}^m$ 的一組基底。  "
   ]
  },
  {
   "cell_type": "markdown",
   "metadata": {},
   "source": [
    "##### Exercise 2(a)\n",
    "\n",
    "令 $m = n = 3$ 且  \n",
    "$\\alpha = \\beta$ 為  \n",
    "$$A = \\begin{bmatrix} \n",
    " \\frac{1}{\\sqrt{3}} & \\frac{1}{\\sqrt{2}} & \\frac{1}{\\sqrt{6}} \\\\\n",
    " \\frac{1}{\\sqrt{3}} & -\\frac{1}{\\sqrt{2}} & \\frac{1}{\\sqrt{6}} \\\\\n",
    " \\frac{1}{\\sqrt{3}} & 0 & -\\frac{2}{\\sqrt{6}} \\\\\n",
    "\\end{bmatrix}$$\n",
    "的各行向量。  \n",
    "已知  \n",
    "$f({\\bf v}_1) = {\\bf u}_1$、  \n",
    "$f({\\bf v}_2) = {\\bf u}_2$、  \n",
    "$f({\\bf v}_3) = {\\bf 0}$。  \n",
    "求 $[f]_\\alpha^\\beta$ 及 $[f]$ 並說明 $f$ 的作用。  "
   ]
  },
  {
   "cell_type": "markdown",
   "metadata": {},
   "source": [
    "##### Exercise 2(b)\n",
    "\n",
    "令 $m = n = 3$ 且  \n",
    "$\\alpha = \\beta$ 為  \n",
    "$$A = \\begin{bmatrix} \n",
    " \\frac{1}{\\sqrt{3}} & \\frac{1}{\\sqrt{2}} & \\frac{1}{\\sqrt{6}} \\\\\n",
    " \\frac{1}{\\sqrt{3}} & -\\frac{1}{\\sqrt{2}} & \\frac{1}{\\sqrt{6}} \\\\\n",
    " \\frac{1}{\\sqrt{3}} & 0 & -\\frac{2}{\\sqrt{6}} \\\\\n",
    "\\end{bmatrix}$$\n",
    "的各行向量。  \n",
    "已知  \n",
    "$f({\\bf v}_1) = {\\bf u}_1$、  \n",
    "$f({\\bf v}_2) = {\\bf u}_2$、  \n",
    "$f({\\bf v}_3) = -{\\bf u}_3$。  \n",
    "求 $[f]_\\alpha^\\beta$ 及 $[f]$ 並說明 $f$ 的作用。  "
   ]
  },
  {
   "cell_type": "markdown",
   "metadata": {},
   "source": [
    "##### Exercise 2(c)\n",
    "\n",
    "令 $m = n = 3$ 且  \n",
    "$\\alpha = \\beta$ 為  \n",
    "$$A = \\begin{bmatrix} \n",
    " \\frac{1}{\\sqrt{3}} & \\frac{1}{\\sqrt{2}} & \\frac{1}{\\sqrt{6}} \\\\\n",
    " \\frac{1}{\\sqrt{3}} & -\\frac{1}{\\sqrt{2}} & \\frac{1}{\\sqrt{6}} \\\\\n",
    " \\frac{1}{\\sqrt{3}} & 0 & -\\frac{2}{\\sqrt{6}} \\\\\n",
    "\\end{bmatrix}$$\n",
    "的各行向量。  \n",
    "已知  \n",
    "$f({\\bf v}_1) = {\\bf u}_2$、  \n",
    "$f({\\bf v}_2) = -{\\bf u}_1$、  \n",
    "$f({\\bf v}_3) = {\\bf u}_3$。  \n",
    "求 $[f]_\\alpha^\\beta$ 及 $[f]$ 並說明 $f$ 的作用。  "
   ]
  },
  {
   "cell_type": "markdown",
   "metadata": {},
   "source": [
    "##### Exercise 2(d)\n",
    "\n",
    "令 $m = 3$、$n = 2$ 且  \n",
    "$\\alpha$ 為  \n",
    "$$A = \\begin{bmatrix} \n",
    " \\frac{1}{\\sqrt{3}} & \\frac{1}{\\sqrt{2}} & \\frac{1}{\\sqrt{6}} \\\\\n",
    " \\frac{1}{\\sqrt{3}} & -\\frac{1}{\\sqrt{2}} & \\frac{1}{\\sqrt{6}} \\\\\n",
    " \\frac{1}{\\sqrt{3}} & 0 & -\\frac{2}{\\sqrt{6}} \\\\\n",
    "\\end{bmatrix}$$\n",
    "的各行向量、  \n",
    "$\\beta$ 為  \n",
    "$$B = \\begin{bmatrix} \n",
    " 1 & 1 \\\\\n",
    " 0 & 1 \\\\\n",
    "\\end{bmatrix}$$\n",
    "的各行向量。  \n",
    "已知  \n",
    "$f({\\bf v}_1) = 3{\\bf u}_1$、  \n",
    "$f({\\bf v}_2) = 4{\\bf u}_2$、  \n",
    "$f({\\bf v}_3) = {\\bf 0}$。  \n",
    "求 $[f]_\\alpha^\\beta$ 及 $[f]$。  "
   ]
  },
  {
   "cell_type": "markdown",
   "metadata": {},
   "source": [
    "##### Exercise 3\n",
    "\n",
    "若 $f : \\mathbb{R}^n \\rightarrow \\mathbb{R}^m$ 為一線性函數。  \n",
    "而 $\\mathcal{E}_n$ 和 $\\mathcal{E}_m$ 分別為 $\\mathbb{R}^n$ 和 $\\mathbb{R}^m$ 的一組基底。  \n",
    "說明 $[f]$ 就是 $[f]_{\\mathcal{E}_n}^{\\mathcal{E}_m}$。  "
   ]
  }
 ],
 "metadata": {
  "kernelspec": {
   "display_name": "SageMath 9.4",
   "language": "sage",
   "name": "sagemath"
  },
  "language_info": {
   "codemirror_mode": {
    "name": "ipython",
    "version": 3
   },
   "file_extension": ".py",
   "mimetype": "text/x-python",
   "name": "python",
   "nbconvert_exporter": "python",
   "pygments_lexer": "ipython3",
   "version": "3.10.1"
  }
 },
 "nbformat": 4,
 "nbformat_minor": 4
}
