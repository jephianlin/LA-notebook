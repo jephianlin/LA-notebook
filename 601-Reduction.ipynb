{
 "cells": [
  {
   "cell_type": "markdown",
   "metadata": {},
   "source": [
    "# 對一個特徵向量化簡"
   ]
  },
  {
   "cell_type": "markdown",
   "metadata": {},
   "source": [
    "![Creative Commons License](https://i.creativecommons.org/l/by/4.0/88x31.png)  \n",
    "This work by Jephian Lin is licensed under a [Creative Commons Attribution 4.0 International License](http://creativecommons.org/licenses/by/4.0/)."
   ]
  },
  {
   "cell_type": "markdown",
   "metadata": {},
   "source": [
    "$\\newcommand{\\trans}{^\\top}\n",
    "\\newcommand{\\adj}{^{\\rm adj}}\n",
    "\\newcommand{\\cof}{^{\\rm cof}}\n",
    "\\newcommand{\\inp}[2]{\\left\\langle#1,#2\\right\\rangle}\n",
    "\\newcommand{\\dunion}{\\mathbin{\\dot\\cup}}\n",
    "\\newcommand{\\bzero}{\\mathbf{0}}\n",
    "\\newcommand{\\bone}{\\mathbf{1}}\n",
    "\\newcommand{\\ba}{\\mathbf{a}}\n",
    "\\newcommand{\\bb}{\\mathbf{b}}\n",
    "\\newcommand{\\bc}{\\mathbf{c}}\n",
    "\\newcommand{\\bd}{\\mathbf{d}}\n",
    "\\newcommand{\\be}{\\mathbf{e}}\n",
    "\\newcommand{\\bh}{\\mathbf{h}}\n",
    "\\newcommand{\\bp}{\\mathbf{p}}\n",
    "\\newcommand{\\bq}{\\mathbf{q}}\n",
    "\\newcommand{\\br}{\\mathbf{r}}\n",
    "\\newcommand{\\bx}{\\mathbf{x}}\n",
    "\\newcommand{\\by}{\\mathbf{y}}\n",
    "\\newcommand{\\bz}{\\mathbf{z}}\n",
    "\\newcommand{\\bu}{\\mathbf{u}}\n",
    "\\newcommand{\\bv}{\\mathbf{v}}\n",
    "\\newcommand{\\bw}{\\mathbf{w}}\n",
    "\\newcommand{\\tr}{\\operatorname{tr}}\n",
    "\\newcommand{\\nul}{\\operatorname{null}}\n",
    "\\newcommand{\\rank}{\\operatorname{rank}}\n",
    "%\\newcommand{\\ker}{\\operatorname{ker}}\n",
    "\\newcommand{\\range}{\\operatorname{range}}\n",
    "\\newcommand{\\Col}{\\operatorname{Col}}\n",
    "\\newcommand{\\Row}{\\operatorname{Row}}\n",
    "\\newcommand{\\spec}{\\operatorname{spec}}\n",
    "\\newcommand{\\vspan}{\\operatorname{span}}\n",
    "\\newcommand{\\Vol}{\\operatorname{Vol}}\n",
    "\\newcommand{\\sgn}{\\operatorname{sgn}}\n",
    "\\newcommand{\\idmap}{\\operatorname{id}}\n",
    "\\newcommand{\\am}{\\operatorname{am}}\n",
    "\\newcommand{\\gm}{\\operatorname{gm}}$"
   ]
  },
  {
   "cell_type": "code",
   "execution_count": null,
   "metadata": {},
   "outputs": [],
   "source": [
    "from lingeo import random_int_vec"
   ]
  },
  {
   "cell_type": "markdown",
   "metadata": {},
   "source": [
    "## Main idea"
   ]
  },
  {
   "cell_type": "markdown",
   "metadata": {},
   "source": [
    "We start with some basic ideas on complex matrices.  \n",
    "Let $A$ be a complex matrix.  \n",
    "Then the **conjugate transpose** of $A$ is the matirx obtained from $A\\trans$ by taking conjugate entrywisely.  \n",
    "Recall that if $\\bx$ and $\\by$ are complex column vectors, then their inner product is $\\inp{\\bx}{\\by} = \\by^* \\bx$."
   ]
  },
  {
   "cell_type": "markdown",
   "metadata": {},
   "source": [
    "If a complex matrix $A$ satisfies $A^* A = AA^* = I$, then it is called a **unitary** matrix.  \n",
    "In comparison, if a real matrix satisfies $A\\trans A = AA\\trans = I$, then it is an orthogonal matrix.  "
   ]
  },
  {
   "cell_type": "markdown",
   "metadata": {},
   "source": [
    "Let $A$ be an $n\\times n$ complex matrix.  \n",
    "Then the following are equivalent:  \n",
    "- $A$ is a unitary matrix.  \n",
    "- $A^{-1} = A^*$.  \n",
    "- The columns of $A$ form an orthonormal basis of $\\mathbb{C}^n$.  \n",
    "- The rows of $A$ form an orthonormal basis of $\\mathbb{C}^n$.  "
   ]
  },
  {
   "cell_type": "markdown",
   "metadata": {},
   "source": [
    "Let $\\bv\\in\\mathbb{C}^n$ be a nonzero vector.  \n",
    "Then one may expand $\\bv$ into a basis $\\beta$ of $\\mathbb{C}^n$ whose first vector is $\\bv$.  \n",
    "Let $Q$ be the matrix whose columns are the vectors in $\\beta$.  Then $Q$ is an invertible matrix whose first column is $\\bv$.  \n",
    "If necessary, one may apply the Gram–Schimdt process to obtain an orthonormal basis of $\\mathbb{C}^n$ whose first vector is $\\frac{\\bv}{\\|\\bv\\|}$.  \n",
    "Thus, there is a unitary matrix $Q$ whose first column is $\\frac{\\bv}{\\|\\bv\\|}$.  "
   ]
  },
  {
   "cell_type": "markdown",
   "metadata": {},
   "source": [
    "##### Lemma (Reduction lemma)\n",
    "\n",
    "Let $A$ be a complex matrix.  \n",
    "Suppose $\\bv$ is an eigenvector of $A$ with respect to the eigenvalue $\\lambda$.  \n",
    "Let $Q$ be an invertible matrix whose first column is $\\bv$.  \n",
    "Then $Q^{-1}AQ$ has the form  \n",
    "\n",
    "$$\n",
    "    \\begin{bmatrix}\n",
    "     \\lambda & * \\\\\n",
    "     \\bzero & A_2\n",
    "    \\end{bmatrix}.\n",
    "$$\n",
    "\n",
    "Moreover, $Q$ can be chosen as a unitary matrix whose first column is $\\frac{\\bv}{\\|\\bv\\|}$.  "
   ]
  },
  {
   "cell_type": "markdown",
   "metadata": {},
   "source": [
    "##### Remark\n",
    "\n",
    "Note that the eigenvalues of a real matrix are not necessarily all real.  \n",
    "Suppose $A$ is a real matrix and $\\lambda$ is a real eigenvalue of $A$.  \n",
    "Then the eigenvector $\\bv\\in\\ker(A - \\lambda I)$ can be chosen to be real.  \n",
    "Also, the $Q$ matrix in the reduction lemma can be chosen to be orthogonal.  \n",
    "However, $A_2$ can still possibly have a non-real eigenvalue."
   ]
  },
  {
   "cell_type": "markdown",
   "metadata": {},
   "source": [
    "## Side stories\n",
    "\n",
    "- all-ones vector\n",
    "- cases of real matrices"
   ]
  },
  {
   "cell_type": "markdown",
   "metadata": {},
   "source": [
    "## Experiments"
   ]
  },
  {
   "cell_type": "markdown",
   "metadata": {},
   "source": [
    "##### Exercise 1\n",
    "\n",
    "執行以下程式碼。  \n",
    "令 $\\beta = \\{\\bu_1,\\ldots,\\bu_n\\}$ 為 $Q$ 的行向量集合。"
   ]
  },
  {
   "cell_type": "code",
   "execution_count": null,
   "metadata": {
    "scrolled": false
   },
   "outputs": [],
   "source": [
    "### code\n",
    "set_random_seed(0)\n",
    "print_ans = False\n",
    "\n",
    "n = 4\n",
    "Q = identity_matrix(n)\n",
    "Q[1:,0] = random_int_vec(n-1, 3)\n",
    "D = matrix(n, random_int_vec(n**2,3))\n",
    "D[1:,0] = vector([0] * (n-1))\n",
    "A = Q * D * Q.inverse()\n",
    "\n",
    "print(\"n =\", n)\n",
    "pretty_print(LatexExpr(\"A =\"), A)\n",
    "pretty_print(LatexExpr(\"Q =\"), Q)\n",
    "\n",
    "if print_ans:\n",
    "    print(\"The representation of f_A(u1) with respect to beta is\")\n",
    "    pretty_print(D[:,0])\n",
    "    pretty_print(LatexExpr(\"Q^{-1} =\"), Q.inverse())\n",
    "    pretty_print(LatexExpr(\"Q^{-1} A Q =\"), Q.inverse() * A * Q)"
   ]
  },
  {
   "cell_type": "markdown",
   "metadata": {},
   "source": [
    "##### Exercise 1(a)\n",
    "\n",
    "求 $[f_A(\\bu_1)]_\\beta$。"
   ]
  },
  {
   "cell_type": "markdown",
   "metadata": {},
   "source": [
    "##### Exercise 1(b)\n",
    "\n",
    "求 $Q^{-1}$。"
   ]
  },
  {
   "cell_type": "markdown",
   "metadata": {},
   "source": [
    "##### Exercise 1(c)\n",
    "\n",
    "求 $[f_A]_\\beta^\\beta$."
   ]
  },
  {
   "cell_type": "markdown",
   "metadata": {},
   "source": [
    "## Exercises"
   ]
  },
  {
   "cell_type": "markdown",
   "metadata": {},
   "source": [
    "##### Exercise 2\n",
    "\n",
    "令 $\\bone$ 為全一向量。  \n",
    "（其長度將由文意決定。）  \n",
    "已知以下矩陣 $A$ 皆有 $\\bone$ 這個特徵向量。  \n",
    "求出 $A$ 的所有特徵值。"
   ]
  },
  {
   "cell_type": "markdown",
   "metadata": {},
   "source": [
    "##### Exercise 2(a)\n",
    "\n",
    "$$\n",
    "    A = \\begin{bmatrix}\n",
    "     0 & 1 & 1 \\\\\n",
    "     1 & 0 & 1 \\\\\n",
    "     1 & 1 & 0\n",
    "    \\end{bmatrix}.\n",
    "$$"
   ]
  },
  {
   "cell_type": "markdown",
   "metadata": {},
   "source": [
    "##### Exercise 2(b)\n",
    "\n",
    "$$\n",
    "    A = \\begin{bmatrix}\n",
    "     0 & 1 & 1 & 1 \\\\\n",
    "     1 & 0 & 1 & 1 \\\\\n",
    "     1 & 1 & 0 & 1 \\\\\n",
    "     1 & 1 & 1 & 0\n",
    "    \\end{bmatrix}.\n",
    "$$"
   ]
  },
  {
   "cell_type": "markdown",
   "metadata": {},
   "source": [
    "##### Exercise 2(c)\n",
    "\n",
    "$$\n",
    "    A = \\begin{bmatrix}\n",
    "     1 & -1 & 0 \\\\\n",
    "     -1 & 2 & -1 \\\\\n",
    "     0 & -1 & 1\n",
    "    \\end{bmatrix}.\n",
    "$$"
   ]
  },
  {
   "cell_type": "markdown",
   "metadata": {},
   "source": [
    "##### Exercise 2(d)\n",
    "\n",
    "$$\n",
    "    A = \\begin{bmatrix}\n",
    "     0.2 & 0.8 & 0 \\\\\n",
    "     0.4 & 0.2 & 0.4 \\\\\n",
    "     0 & 0.8 & 0.2\n",
    "    \\end{bmatrix}.\n",
    "$$"
   ]
  },
  {
   "cell_type": "markdown",
   "metadata": {},
   "source": [
    "##### Exercise 3\n",
    "\n",
    "令  \n",
    "\n",
    "$$\n",
    "    A = \\begin{bmatrix}\n",
    "     0 & 1 & 1 & 1 \\\\\n",
    "     1 & 2 & 0 & 0 \\\\\n",
    "     1 & 0 & 2 & 0 \\\\\n",
    "     1 & 0 & 0 & 2 \\\\ \n",
    "    \\end{bmatrix}.\n",
    "$$\n",
    "已知 $\\bone$ 為 $A$ 的一特徵值。  \n",
    "求 $A$ 的所有特徵值。  \n",
    "\n",
    "提示：將 $A$ 對 $\\bone$ 化簡後，再對 $A_2$ 化簡一次。"
   ]
  },
  {
   "cell_type": "markdown",
   "metadata": {},
   "source": [
    "##### Exercise 4\n",
    "\n",
    "令  \n",
    "\n",
    "$$\n",
    "    A = \\begin{bmatrix}\n",
    "     0 & 1 & 0 \\\\\n",
    "     0 & 0 & 1 \\\\\n",
    "     1 & 0 & 0 \n",
    "    \\end{bmatrix}.  \n",
    "$$"
   ]
  },
  {
   "cell_type": "markdown",
   "metadata": {},
   "source": [
    "##### Exercise 4(a)\n",
    "\n",
    "令 $\\omega = e^{\\frac{2\\pi}{3}i}$ 且  \n",
    "\n",
    "$$\n",
    "    \\bv = \\begin{bmatrix} 1 \\\\ \\omega \\\\ \\omega^2 \\end{bmatrix}.\n",
    "$$\n",
    "\n",
    "求出 $\\bv$ 所對應的特徵值 $\\lambda$，  \n",
    "並說明如何找到一個么正矩陣 $Q$ 使得  \n",
    "\n",
    "$$\n",
    "    Q^* AQ = \\begin{bmatrix}\n",
    "     \\lambda & * \\\\\n",
    "     \\bzero & A_2\n",
    "    \\end{bmatrix}.\n",
    "$$"
   ]
  },
  {
   "cell_type": "markdown",
   "metadata": {},
   "source": [
    "##### Exercise 4(b)\n",
    "\n",
    "令  \n",
    "\n",
    "$$\n",
    "    \\bv = \\begin{bmatrix} 1 \\\\ 1 \\\\ 1 \\end{bmatrix}.\n",
    "$$\n",
    "\n",
    "求出 $\\bv$ 所對應的特徵值 $\\lambda$，  \n",
    "並說明如何找到一個實垂直矩陣 $Q$ 使得  \n",
    "\n",
    "$$\n",
    "    Q\\trans AQ = \\begin{bmatrix}\n",
    "     \\lambda & * \\\\\n",
    "     \\bzero & A_2\n",
    "    \\end{bmatrix}.\n",
    "$$"
   ]
  },
  {
   "cell_type": "markdown",
   "metadata": {},
   "source": [
    "##### Exercise 4(c)\n",
    "\n",
    "令 $\\omega = e^{\\frac{2\\pi}{3}i}$ 且  \n",
    "\n",
    "$$\n",
    "    \\bv = \\begin{bmatrix} 1 \\\\ \\omega \\\\ \\omega^2 \\end{bmatrix}.\n",
    "$$\n",
    "\n",
    "已知 $\\bv$ 所對應的特徵值 $\\lambda$ 為 $\\omega = a + bi$。\n",
    "令 $\\bv = \\bx + \\by i$，也就是 $\\bx$ 和 $\\by$ 分別為 $\\bv$ 的實部和虛部向量。 \n",
    "\n",
    "驗證  \n",
    "\n",
    "$$\n",
    "    \\begin{aligned}\n",
    "    A \\bx &= a\\bx - b\\by, \\\\\n",
    "    A \\by &= b\\bx + a\\by.\n",
    "    \\end{aligned}\n",
    "$$\n",
    "\n",
    "並說明如何找到一個可逆矩陣 $Q$ 使得  \n",
    "\n",
    "$$\n",
    "    Q^{-1} AQ = \\begin{bmatrix}\n",
    "     a & b & * \\\\\n",
    "     -b & a & * \\\\\n",
    "     0 & 0 & A_2\n",
    "    \\end{bmatrix}.\n",
    "$$"
   ]
  }
 ],
 "metadata": {
  "kernelspec": {
   "display_name": "SageMath 9.5",
   "language": "sage",
   "name": "sagemath"
  },
  "language_info": {
   "codemirror_mode": {
    "name": "ipython",
    "version": 3
   },
   "file_extension": ".py",
   "mimetype": "text/x-python",
   "name": "python",
   "nbconvert_exporter": "python",
   "pygments_lexer": "ipython3",
   "version": "3.10.2"
  }
 },
 "nbformat": 4,
 "nbformat_minor": 4
}
