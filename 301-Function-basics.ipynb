{
 "cells": [
  {
   "cell_type": "markdown",
   "metadata": {},
   "source": [
    "# 函數基本概念"
   ]
  },
  {
   "cell_type": "markdown",
   "metadata": {},
   "source": [
    "![Creative Commons License](https://i.creativecommons.org/l/by/4.0/88x31.png)  \n",
    "This work by Jephian Lin is licensed under a [Creative Commons Attribution 4.0 International License](http://creativecommons.org/licenses/by/4.0/)."
   ]
  },
  {
   "cell_type": "code",
   "execution_count": null,
   "metadata": {},
   "outputs": [],
   "source": [
    "from lingeo import random_int_list, random_good_matrix, kernel_matrix"
   ]
  },
  {
   "cell_type": "markdown",
   "metadata": {},
   "source": [
    "## Main idea"
   ]
  },
  {
   "cell_type": "markdown",
   "metadata": {},
   "source": [
    "Let $S$ and $T$ be two sets.  \n",
    "A **function** $f$ from $S$ to $T$ is an assignment of each element $s\\in S$ with an element $f(s)\\in T$.  \n",
    "We usually write  \n",
    "$$\\begin{aligned}\n",
    " f : S &\\rightarrow T \\\\\n",
    " s &\\mapsto f(s)\n",
    "\\end{aligned}$$\n",
    "to descriibe a function.  \n",
    "We call $S$ and $T$ the **domain** and the **codomain** of $f$.  "
   ]
  },
  {
   "cell_type": "markdown",
   "metadata": {},
   "source": [
    "A function $f:S\\rightarrow T$ is **injective** if  \n",
    "- for any distinct elements $s_1,s_2\\in S$, i.e., $s_1\\neq s_2$, their values under the function $f(s_1), f(s_1)$ are also distinct, i.e., $f(s_1)\\neq f(s_2)$.  \n",
    "\n",
    "Equivalently, $f$ is injective if $f(s_1) = f(s_2)$ implies $s_1 = s_2$.  \n",
    "The term \"injective\" is also known as \"**one-to-one**\".  \n",
    "An **injection** is an injective function."
   ]
  },
  {
   "cell_type": "markdown",
   "metadata": {},
   "source": [
    "A function $f : S \\rightarrow T$ is **surjective** if  \n",
    "- for any element $t\\in T$, there is an element $s\\in S$ such that $f(s) = t$.  \n",
    "\n",
    "The **range** of a function $f$ is  \n",
    "$$\\operatorname{range}(f) = \\{f(s) : s\\in S\\}.$$  \n",
    "Therefore, $f$ is surjective if and only if $\\operatorname{range}(f) = T$.  \n",
    "The term \"surjective\" is also known as \"**onto**\".  \n",
    "A **surjection** is a surjective function.  "
   ]
  },
  {
   "cell_type": "markdown",
   "metadata": {},
   "source": [
    "If a function $f$ is both injective and surjective, then it is **bijective**.  \n",
    "A **bijection** is a bijective function.  "
   ]
  },
  {
   "cell_type": "markdown",
   "metadata": {},
   "source": [
    "If $f$ is a bijection, then one may define its **inverse** as  \n",
    "$$\\begin{aligned} \n",
    " f^{-1} : T &\\rightarrow S \\\\\n",
    " t &\\mapsto f^{-1}(t),\n",
    "\\end{aligned}$$\n",
    "where $f^{-1}(t)$ is defined as the unique element $s\\in S$ such that $f(s) = t$.  \n",
    "(Here the existence of $s$ is because $f$ is surjective, and the uniqueness of $s$ is because $f$ is injective.)  "
   ]
  },
  {
   "cell_type": "markdown",
   "metadata": {},
   "source": [
    "Let $f : S \\rightarrow T$ be a function.  \n",
    "If $S'\\subseteq S$, then the **image** of $S'$ is \n",
    "$$f(S') = \\{ f(s) : s\\in S'\\}.$$\n",
    "If $T'\\subseteq T$, then the **preimage** of $T'$ is \n",
    "$$f^{-1}(T') = \\{ s\\in S : f(s) \\in T'\\}.$$  \n",
    "Therefore, $\\operatorname{range}(f) = f(S)$.  \n",
    "\n",
    "Note that although both the inverse and the preimage use the notation $f^{-1}$, the inverse is a function of elements in $T$ while the preimage is a function of subsets in $T$, so they should be distinguishable."
   ]
  },
  {
   "cell_type": "markdown",
   "metadata": {},
   "source": [
    "When the domain $S$, the codomain $T$, and a formula $f$ are given, we say $f$ is **well-defined** if $f$ is indeed a function.  \n",
    "Here are some examples.  \n",
    "1. The value $f(s)$ should exist in $T$:  Let $S = T = \\mathbb{R}$ and $f(x) = \\frac{1}{x}$.  Then $f$ is not well-defined since $f(0)$ is not a real number.\n",
    "2. The value of an element under different representation should have the same value:  This happens when an element has several equivalent representation, e.g., $\\frac{1}{2} = \\frac{2}{4}$.  Let $S = \\mathbb{Q} \\times \\mathbb{Q}$, $T = \\mathbb{Q}$, and $f(\\frac{a}{b}, \\frac{c}{d}) = \\frac{a+c}{b+d}$.  Thus, we have $(\\frac{1}{2}, \\frac{3}{3}) = (\\frac{2}{4}, \\frac{3}{3})$ but $f(\\frac{1}{2}, \\frac{3}{3}) = \\frac{4}{5} \\neq f(\\frac{2}{4}, \\frac{3}{3}) = \\frac{5}{8}$."
   ]
  },
  {
   "cell_type": "markdown",
   "metadata": {},
   "source": [
    "## Side stories\n",
    "- countable"
   ]
  },
  {
   "cell_type": "markdown",
   "metadata": {},
   "source": [
    "## Experiments"
   ]
  },
  {
   "cell_type": "markdown",
   "metadata": {},
   "source": [
    "##### Exercise 1\n",
    "\n",
    "執行以下程式碼。  "
   ]
  },
  {
   "cell_type": "code",
   "execution_count": 19,
   "metadata": {
    "scrolled": false
   },
   "outputs": [
    {
     "name": "stdout",
     "output_type": "stream",
     "text": [
      "S = [1, 2, 3, 4]\n",
      "T = [1, 2, 3, 4]\n",
      "f : S --> T\n",
      "f(1) = 2\n",
      "f(2) = 4\n",
      "f(3) = 1\n",
      "f(4) = 3\n"
     ]
    }
   ],
   "source": [
    "### code\n",
    "set_random_seed(0)\n",
    "print_ans = False\n",
    "inj = choice([True, False])\n",
    "sur = choice([True, False])\n",
    "S = list(range(1,5))\n",
    "if inj and sur:\n",
    "    T = list(range(1,5))\n",
    "if inj and not sur:\n",
    "    T = list(range(1,6))\n",
    "if not inj and sur:\n",
    "    T = list(range(1,4))\n",
    "if not inj and not sur:\n",
    "    T = list(range(1,5))\n",
    "while True:\n",
    "    f = {s: choice(T) for s in S}\n",
    "    ran = list(set(f.values()))\n",
    "    if inj == (len(ran) == len(S)) and sur == (len(ran) == len(T)):\n",
    "        break\n",
    "    \n",
    "print(\"S =\", S)\n",
    "print(\"T =\", T)\n",
    "print(\"f : S --> T\")\n",
    "for s in S:\n",
    "    print(\"f(%s) =\"%s, f[s])\n",
    "\n",
    "\n",
    "if print_ans:\n",
    "    print(\"Injective?\", inj)\n",
    "    print(\"Surjective?\", sur)\n",
    "    print(\"range(f) =\", ran)"
   ]
  },
  {
   "cell_type": "markdown",
   "metadata": {},
   "source": [
    "##### Exercise 1(a)\n",
    "\n",
    "判斷 $f$ 是否為嵌射函數。  "
   ]
  },
  {
   "cell_type": "markdown",
   "metadata": {},
   "source": [
    "##### Exercise 1(b)\n",
    "\n",
    "判斷 $f$ 是否為映射函數。  "
   ]
  },
  {
   "cell_type": "markdown",
   "metadata": {},
   "source": [
    "##### Exercise 1(c)\n",
    "\n",
    "寫出 $f$ 的值域。  "
   ]
  },
  {
   "cell_type": "markdown",
   "metadata": {},
   "source": [
    "## Exercises"
   ]
  },
  {
   "cell_type": "markdown",
   "metadata": {},
   "source": [
    "##### Exercise 2\n",
    "\n",
    "令 $S = \\{V_1,\\ldots,V_k\\}$ 為一群子空間。  \n",
    "證明若 $S$ 是垂直的集合﹐則 $S$ 線性獨立。  "
   ]
  },
  {
   "cell_type": "markdown",
   "metadata": {},
   "source": [
    "##### Exercise 3\n",
    "\n",
    "若 $S = \\{V_1, V_2, V_3\\}$ 垂直。  \n",
    "令 $V = V_1 \\oplus V_2 \\oplus V_3$、  \n",
    "$P$ 為 $V$ 的投影矩陣、  \n",
    "$P_1,P_2,P_3$ 分別為 $V_1,V_2,V_3$ 的投影矩陣。  "
   ]
  },
  {
   "cell_type": "markdown",
   "metadata": {},
   "source": [
    "##### Exercise 3(a)\n",
    "\n",
    "說明 $P_1P_2 = P_2P_1$。  "
   ]
  },
  {
   "cell_type": "markdown",
   "metadata": {},
   "source": [
    "##### Exercise 3(b)\n",
    "\n",
    "說明 $P = P_1 + P_2 + P_3$。  "
   ]
  },
  {
   "cell_type": "markdown",
   "metadata": {},
   "source": [
    "##### Exercise 3(c)\n",
    "\n",
    "若 $V = \\mathbb{R}^n$ 為全空間。  \n",
    "說明 $I_n = P_1 + P_2 + P_3$。  "
   ]
  },
  {
   "cell_type": "markdown",
   "metadata": {},
   "source": [
    "##### Exercise 4\n",
    "\n",
    "依照步驟證明以下敘述等價：  \n",
    "1. $P$ 是某個空間的投影矩陣。  \n",
    "2. $P$ 對稱、而且 $P = P^2$。  "
   ]
  },
  {
   "cell_type": "markdown",
   "metadata": {},
   "source": [
    "##### Exercise 4(a)\n",
    "\n",
    "證明若 $P$ 是一個投影矩陣﹐  \n",
    "則 $P$ 是 $\\operatorname{Col}(P)$ 的投影矩陣。  \n",
    "因此如果 ${\\bf u}\\in\\operatorname{Col}(P)$ 則 $P{\\bf u} = {\\bf u}$、  \n",
    "如果 ${\\bf u}\\in\\operatorname{ker}(P^\\top)$ 則 $P{\\bf u} = {\\bf 0}$、  \n",
    "同時每個向量都可以分成 ${\\bf u} = P{\\bf u} + (I - P){\\bf u}$  \n",
    "使得 $P{\\bf u}\\in\\operatorname{Col}(P)$ 且 $(I - P){\\bf u}\\in\\operatorname{ker}(P^\\top)$。  \n",
    "\n",
    "藉由這些性質說明如果條件一成立則條件二成立。  "
   ]
  },
  {
   "cell_type": "markdown",
   "metadata": {},
   "source": [
    "##### Exercise 4(b)  \n",
    "\n",
    "若 $P$ 對稱且 $P = P^2$。  \n",
    "說明 $\\mathbb{R}^n = \\operatorname{Col}(P) \\oplus \\operatorname{ker}(P)$ 且  \n",
    "如果 ${\\bf u}\\in\\operatorname{Col}(P)$ 則 $P{\\bf u} = {\\bf u}$、  \n",
    "如果 ${\\bf u}\\in\\operatorname{ker}(P)$ 則 $P{\\bf u} = {\\bf 0}$。  \n",
    "\n",
    "藉由這些性質說明如果條件二成立則條件一成立。  "
   ]
  },
  {
   "cell_type": "markdown",
   "metadata": {},
   "source": [
    "##### Exercise 5\n",
    "\n",
    "證明若 $V = V_1 \\oplus \\cdots \\oplus V_k$﹐  \n",
    "則每一個向量 ${\\bf v}\\in V$ 都可以被寫成 ${\\bf v} = {\\bf v}_1 + \\cdots + {\\bf v}_k$﹐  \n",
    "使得對每一個 $i = 1,\\ldots,k$ 都有 ${\\bf v}_i\\in V_i$﹐  \n",
    "而且這種寫法唯一。  "
   ]
  },
  {
   "cell_type": "markdown",
   "metadata": {},
   "source": [
    "##### Exercise 6\n",
    "\n",
    "利用垂直空間分解母空間的現象在其它向量空間也很常見。  "
   ]
  },
  {
   "cell_type": "markdown",
   "metadata": {},
   "source": [
    "##### Exercise 6(a)  \n",
    "\n",
    "令 $U = \\mathcal{M}_{n\\times n}$ 為一向量空間﹐搭配內積 $\\langle A,B\\rangle = \\operatorname{tr}(B^\\top A)$。  \n",
    "令 $V$ 為 $U$ 中所有對稱矩陣的集合、  \n",
    "令 $W$ 為 $U$ 中所有反對稱矩陣的集合。  \n",
    "說明 $V$ 和 $W$ 垂直且 $U = V \\oplus W$。  "
   ]
  },
  {
   "cell_type": "markdown",
   "metadata": {},
   "source": [
    "##### Exercise 6(a)  \n",
    "\n",
    "令 $U = \\mathcal{P}_{d}$ 為一向量空間﹐搭配內積  \n",
    "$$\\langle a_0 + a_1x + \\cdots + a_dx^d, b_0 + b_1x + \\cdots + b_dx^d \\rangle = a_0b_0 + a_1b_1 + \\cdots + a_db_d.$$  \n",
    "令 $V$ 為 $U$ 中所有偶函數的集合、  \n",
    "令 $W$ 為 $U$ 中所有奇函數的集合。  \n",
    "說明 $V$ 和 $W$ 垂直且 $U = V \\oplus W$。  "
   ]
  }
 ],
 "metadata": {
  "kernelspec": {
   "display_name": "SageMath 9.0",
   "language": "sage",
   "name": "sagemath"
  },
  "language_info": {
   "codemirror_mode": {
    "name": "ipython",
    "version": 3
   },
   "file_extension": ".py",
   "mimetype": "text/x-python",
   "name": "python",
   "nbconvert_exporter": "python",
   "pygments_lexer": "ipython3",
   "version": "3.8.10"
  }
 },
 "nbformat": 4,
 "nbformat_minor": 4
}
