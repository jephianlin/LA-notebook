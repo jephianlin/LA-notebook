{
 "cells": [
  {
   "cell_type": "markdown",
   "metadata": {},
   "source": [
    "# 函數基本概念\n",
    "\n",
    "Function basics"
   ]
  },
  {
   "cell_type": "markdown",
   "metadata": {},
   "source": [
    "![Creative Commons License](https://i.creativecommons.org/l/by/4.0/88x31.png)  \n",
    "This work by Jephian Lin is licensed under a [Creative Commons Attribution 4.0 International License](http://creativecommons.org/licenses/by/4.0/)."
   ]
  },
  {
   "cell_type": "markdown",
   "metadata": {},
   "source": [
    "$\\newcommand{\\trans}{^\\top}\n",
    "\\newcommand{\\adj}{^{\\rm adj}}\n",
    "\\newcommand{\\cof}{^{\\rm cof}}\n",
    "\\newcommand{\\inp}[2]{\\left\\langle#1,#2\\right\\rangle}\n",
    "\\newcommand{\\dunion}{\\mathbin{\\dot\\cup}}\n",
    "\\newcommand{\\bzero}{\\mathbf{0}}\n",
    "\\newcommand{\\bone}{\\mathbf{1}}\n",
    "\\newcommand{\\ba}{\\mathbf{a}}\n",
    "\\newcommand{\\bb}{\\mathbf{b}}\n",
    "\\newcommand{\\bc}{\\mathbf{c}}\n",
    "\\newcommand{\\bd}{\\mathbf{d}}\n",
    "\\newcommand{\\be}{\\mathbf{e}}\n",
    "\\newcommand{\\bh}{\\mathbf{h}}\n",
    "\\newcommand{\\bp}{\\mathbf{p}}\n",
    "\\newcommand{\\bq}{\\mathbf{q}}\n",
    "\\newcommand{\\br}{\\mathbf{r}}\n",
    "\\newcommand{\\bx}{\\mathbf{x}}\n",
    "\\newcommand{\\by}{\\mathbf{y}}\n",
    "\\newcommand{\\bz}{\\mathbf{z}}\n",
    "\\newcommand{\\bu}{\\mathbf{u}}\n",
    "\\newcommand{\\bv}{\\mathbf{v}}\n",
    "\\newcommand{\\bw}{\\mathbf{w}}\n",
    "\\newcommand{\\tr}{\\operatorname{tr}}\n",
    "\\newcommand{\\nul}{\\operatorname{null}}\n",
    "\\newcommand{\\rank}{\\operatorname{rank}}\n",
    "%\\newcommand{\\ker}{\\operatorname{ker}}\n",
    "\\newcommand{\\range}{\\operatorname{range}}\n",
    "\\newcommand{\\Col}{\\operatorname{Col}}\n",
    "\\newcommand{\\Row}{\\operatorname{Row}}\n",
    "\\newcommand{\\spec}{\\operatorname{spec}}\n",
    "\\newcommand{\\vspan}{\\operatorname{span}}\n",
    "\\newcommand{\\Vol}{\\operatorname{Vol}}\n",
    "\\newcommand{\\sgn}{\\operatorname{sgn}}\n",
    "\\newcommand{\\idmap}{\\operatorname{id}}\n",
    "\\newcommand{\\am}{\\operatorname{am}}\n",
    "\\newcommand{\\gm}{\\operatorname{gm}}\n",
    "\\newcommand{\\mult}{\\operatorname{mult}}\n",
    "\\newcommand{\\iner}{\\operatorname{iner}}$"
   ]
  },
  {
   "cell_type": "markdown",
   "metadata": {},
   "source": [
    "## Main idea"
   ]
  },
  {
   "cell_type": "markdown",
   "metadata": {},
   "source": [
    "Let $S$ and $T$ be two sets.  \n",
    "A **function** $f$ from $S$ to $T$ is an assignment of each element $s\\in S$ with an element $f(s)\\in T$.  \n",
    "We usually write  \n",
    "$$\\begin{aligned}\n",
    " f : S &\\rightarrow T \\\\\n",
    " s &\\mapsto f(s)\n",
    "\\end{aligned}$$\n",
    "to descriibe a function.  \n",
    "We call $S$ and $T$ the **domain** and the **codomain** of $f$.  "
   ]
  },
  {
   "cell_type": "markdown",
   "metadata": {},
   "source": [
    "A function $f:S\\rightarrow T$ is **injective** if  \n",
    "- for any distinct elements $s_1,s_2\\in S$, i.e., $s_1\\neq s_2$, their values under the function $f(s_1), f(s_1)$ are also distinct, i.e., $f(s_1)\\neq f(s_2)$.  \n",
    "\n",
    "Equivalently, $f$ is injective if $f(s_1) = f(s_2)$ implies $s_1 = s_2$.  \n",
    "The term \"injective\" is also known as \"**one-to-one**\".  \n",
    "An **injection** is an injective function."
   ]
  },
  {
   "cell_type": "markdown",
   "metadata": {},
   "source": [
    "A function $f : S \\rightarrow T$ is **surjective** if  \n",
    "- for any element $t\\in T$, there is an element $s\\in S$ such that $f(s) = t$.  \n",
    "\n",
    "The **range** of a function $f$ is  \n",
    "$$\\range(f) = \\{f(s) : s\\in S\\}.$$  \n",
    "Therefore, $f$ is surjective if and only if $\\range(f) = T$.  \n",
    "The term \"surjective\" is also known as \"**onto**\".  \n",
    "A **surjection** is a surjective function.  "
   ]
  },
  {
   "cell_type": "markdown",
   "metadata": {},
   "source": [
    "If a function $f$ is both injective and surjective, then it is **bijective**.  \n",
    "A **bijection** is a bijective function.  "
   ]
  },
  {
   "cell_type": "markdown",
   "metadata": {},
   "source": [
    "If $f$ is a bijection, then one may define its **inverse** as  \n",
    "$$\\begin{aligned} \n",
    " f^{-1} : T &\\rightarrow S \\\\\n",
    " t &\\mapsto f^{-1}(t),\n",
    "\\end{aligned}$$\n",
    "where $f^{-1}(t)$ is defined as the unique element $s\\in S$ such that $f(s) = t$.  \n",
    "(Here the existence of $s$ is because $f$ is surjective, and the uniqueness of $s$ is because $f$ is injective.)  "
   ]
  },
  {
   "cell_type": "markdown",
   "metadata": {},
   "source": [
    "The function  \n",
    "$$\\begin{aligned}\n",
    " \\idmap_S : S &\\rightarrow S \\\\\n",
    "  s &\\mapsto s\n",
    "\\end{aligned}$$\n",
    "is called the **identity map** on $S$, denoted as $\\idmap_S$."
   ]
  },
  {
   "cell_type": "markdown",
   "metadata": {},
   "source": [
    "Let $f : S \\rightarrow T$ be a function.  \n",
    "If $S'\\subseteq S$, then the **image** of $S'$ is \n",
    "$$f(S') = \\{ f(s) : s\\in S'\\}.$$\n",
    "If $T'\\subseteq T$, then the **preimage** of $T'$ is \n",
    "$$f^{-1}(T') = \\{ s\\in S : f(s) \\in T'\\}.$$  \n",
    "Therefore, $\\range(f) = f(S)$.  \n",
    "\n",
    "Note that although both the inverse and the preimage use the notation $f^{-1}$, the inverse is a function of elements in $T$ while the preimage is a function of subsets in $T$, so they should be distinguishable."
   ]
  },
  {
   "cell_type": "markdown",
   "metadata": {},
   "source": [
    "When the domain $S$, the codomain $T$, and a formula $f$ are given, we say $f$ is **well-defined** if $f$ is indeed a function.  \n",
    "Here are some examples.  \n",
    "1. The value $f(s)$ should exist in $T$:  Let $S = T = \\mathbb{R}$ and $f(x) = \\frac{1}{x}$.  Then $f$ is not well-defined since $f(0)$ is not a real number.\n",
    "2. The value of an element under different representation should have the same value:  This happens when an element has several equivalent representation, e.g., $\\frac{1}{2} = \\frac{2}{4}$.  Let $S = \\mathbb{Q} \\times \\mathbb{Q}$, $T = \\mathbb{Q}$, and $f(\\frac{a}{b}, \\frac{c}{d}) = \\frac{a+c}{b+d}$.  Thus, we have $(\\frac{1}{2}, \\frac{3}{3}) = (\\frac{2}{4}, \\frac{3}{3})$ but $f(\\frac{1}{2}, \\frac{3}{3}) = \\frac{4}{5} \\neq f(\\frac{2}{4}, \\frac{3}{3}) = \\frac{5}{8}$."
   ]
  },
  {
   "cell_type": "markdown",
   "metadata": {},
   "source": [
    "## Side stories\n",
    "- countable"
   ]
  },
  {
   "cell_type": "markdown",
   "metadata": {},
   "source": [
    "## Experiments"
   ]
  },
  {
   "cell_type": "markdown",
   "metadata": {},
   "source": [
    "##### Exercise 1\n",
    "\n",
    "執行以下程式碼。  \n",
    "\n",
    "<!-- eng start -->\n",
    "Run the code below.  \n",
    "<!-- eng end -->"
   ]
  },
  {
   "cell_type": "code",
   "execution_count": null,
   "metadata": {
    "scrolled": false
   },
   "outputs": [],
   "source": [
    "### code\n",
    "set_random_seed(0)\n",
    "print_ans = False\n",
    "inj = choice([True, False])\n",
    "sur = choice([True, False])\n",
    "S = list(range(1,5))\n",
    "if inj and sur:\n",
    "    T = list(range(1,5))\n",
    "if inj and not sur:\n",
    "    T = list(range(1,6))\n",
    "if not inj and sur:\n",
    "    T = list(range(1,4))\n",
    "if not inj and not sur:\n",
    "    T = list(range(1,5))\n",
    "while True:\n",
    "    f = {s: choice(T) for s in S}\n",
    "    ran = list(set(f.values()))\n",
    "    if inj == (len(ran) == len(S)) and sur == (len(ran) == len(T)):\n",
    "        break\n",
    "    \n",
    "print(\"S =\", S)\n",
    "print(\"T =\", T)\n",
    "print(\"f : S --> T\")\n",
    "for s in S:\n",
    "    print(\"f(%s) =\"%s, f[s])\n",
    "\n",
    "\n",
    "if print_ans:\n",
    "    print(\"Injective?\", inj)\n",
    "    print(\"Surjective?\", sur)\n",
    "    print(\"range(f) =\", ran)"
   ]
  },
  {
   "cell_type": "markdown",
   "metadata": {},
   "source": [
    "##### Exercise 1(a)\n",
    "\n",
    "判斷 $f$ 是否為嵌射函數。  \n",
    "\n",
    "<!-- eng start -->\n",
    "Is $f$ injective?  \n",
    "<!-- eng end -->"
   ]
  },
  {
   "cell_type": "markdown",
   "metadata": {},
   "source": [
    "##### Exercise 1(b)\n",
    "\n",
    "判斷 $f$ 是否為映射函數。  \n",
    "\n",
    "<!-- eng start -->\n",
    "Is $f$ surjective?  \n",
    "<!-- eng end -->"
   ]
  },
  {
   "cell_type": "markdown",
   "metadata": {},
   "source": [
    "##### Exercise 1(c)\n",
    "\n",
    "寫出 $f$ 的值域。  \n",
    "\n",
    "<!-- eng start -->\n",
    "Find the range of $f$.  \n",
    "<!-- eng end -->"
   ]
  },
  {
   "cell_type": "markdown",
   "metadata": {},
   "source": [
    "## Exercises"
   ]
  },
  {
   "cell_type": "markdown",
   "metadata": {},
   "source": [
    "##### Exercise 2\n",
    "\n",
    "找出符合各條件的函數。  \n",
    "\n",
    "<!-- eng start -->\n",
    "Find examples of functions satisfying the following conditions.  \n",
    "<!-- eng end -->"
   ]
  },
  {
   "cell_type": "markdown",
   "metadata": {},
   "source": [
    "##### Exercise 2(a)\n",
    "\n",
    "給兩個函數的例子﹐一個是嵌射、一個不是。\n",
    "\n",
    "<!-- eng start -->\n",
    "Give an example of an injective function and an example of a non-injective function.  \n",
    "<!-- eng end -->"
   ]
  },
  {
   "cell_type": "markdown",
   "metadata": {},
   "source": [
    "##### Exercise 2(b)\n",
    "\n",
    "給兩個函數的例子﹐一個是映射、一個不是。\n",
    "\n",
    "<!-- eng start -->\n",
    "Give an example of a surjective function and an example of a non-surjective function.  \n",
    "<!-- eng end -->"
   ]
  },
  {
   "cell_type": "markdown",
   "metadata": {},
   "source": [
    "##### Exercise 3\n",
    "\n",
    "令 $S = \\{1,2,3,4\\}$、  \n",
    "$T = \\{1,2,3,4\\}$、且  \n",
    "\n",
    "$$\n",
    "    \\begin{aligned}\n",
    "     f : S &\\rightarrow T \\\\\n",
    "     f(1) &= 2 \\\\\n",
    "     f(2) &= 3 \\\\\n",
    "     f(3) &= 4 \\\\\n",
    "     f(4) &= 1\n",
    "    \\end{aligned}.\n",
    "$$\n",
    "\n",
    "<!-- eng start -->\n",
    "Let $S = \\{1,2,3,4\\}$, $T = \\{1,2,3,4\\}$, and  \n",
    "\n",
    "$$\n",
    "    \\begin{aligned}\n",
    "     f : S &\\rightarrow T \\\\\n",
    "     f(1) &= 2 \\\\\n",
    "     f(2) &= 3 \\\\\n",
    "     f(3) &= 4 \\\\\n",
    "     f(4) &= 1\n",
    "    \\end{aligned}.\n",
    "$$\n",
    "<!-- eng end -->"
   ]
  },
  {
   "cell_type": "markdown",
   "metadata": {},
   "source": [
    "##### Exercise 3(a)\n",
    "\n",
    "求 $f(\\{1,3\\})$。  \n",
    "\n",
    "<!-- eng start -->\n",
    "Find $f(\\{1,3\\})$.  \n",
    "<!-- eng end -->"
   ]
  },
  {
   "cell_type": "markdown",
   "metadata": {},
   "source": [
    "##### Exercise 3(b)\n",
    "\n",
    "求 $f^{-1}(\\{1,3\\})$。  \n",
    "\n",
    "<!-- eng start -->\n",
    "Find $f^{-1}(\\{1,3\\})$.  \n",
    "<!-- eng end -->"
   ]
  },
  {
   "cell_type": "markdown",
   "metadata": {},
   "source": [
    "##### Exercise 3(c)\n",
    "\n",
    "寫出 $f$ 的反函數。  \n",
    "\n",
    "<!-- eng start -->\n",
    "Find the inverse function of $f$.  \n",
    "<!-- eng end -->"
   ]
  },
  {
   "cell_type": "markdown",
   "metadata": {},
   "source": [
    "##### Exercise 3(d)\n",
    "\n",
    "求 $f^{-1}(\\{1\\})$。  \n",
    "\n",
    "<!-- eng start -->\n",
    "Find $f^{-1}(\\{1\\})$.  \n",
    "<!-- eng end -->"
   ]
  },
  {
   "cell_type": "markdown",
   "metadata": {},
   "source": [
    "##### Exercise 3(e)\n",
    "\n",
    "求 $f^{-1}(1)$。  \n",
    "\n",
    "<!-- eng start -->\n",
    "Find $f^{-1}(1)$.  \n",
    "<!-- eng end -->"
   ]
  },
  {
   "cell_type": "markdown",
   "metadata": {},
   "source": [
    "##### Exercise 4\n",
    "\n",
    "令 $f:S\\rightarrow T$ 為一函數。  \n",
    "證明以下關於投影區和送影區的性質。  \n",
    "\n",
    "<!-- eng start -->\n",
    "Let $f: S\\rightarrow T$ be a function.  Prove the following properties about the domain and the codomain.  \n",
    "<!-- eng end -->"
   ]
  },
  {
   "cell_type": "markdown",
   "metadata": {},
   "source": [
    "##### Exercise 4(a)\n",
    "\n",
    "證明對任何子集 $S'\\subseteq S$ 都有 $S'\\subseteq f^{-1}(f(S'))$。  \n",
    "找一個例子讓 $S'\\subsetneq f^{-1}(f(S'))$。  \n",
    "\n",
    "<!-- eng start -->\n",
    "Prove that $S'\\subseteq f^{-1}(f(S'))$ for any $S'\\subseteq S$.  Find an example where $S'\\subsetneq f^{-1}(f(S'))$.  \n",
    "<!-- eng end -->"
   ]
  },
  {
   "cell_type": "markdown",
   "metadata": {},
   "source": [
    "##### Exercise 4(b)  \n",
    "\n",
    "證明對任何子集 $T'\\subseteq T$ 都有 $T'\\supseteq f(f^{-1}(T'))$。  \n",
    "找一個例子讓 $T'\\supsetneq f(f^{-1}(T'))$。  \n",
    "\n",
    "<!-- eng start -->\n",
    "Prove that $T'\\supseteq f(f^{-1}(T'))$ for any $T'\\subseteq T$.  Find an example where $T'\\supsetneq f(f^{-1}(T'))$.  \n",
    "<!-- eng end -->"
   ]
  },
  {
   "cell_type": "markdown",
   "metadata": {},
   "source": [
    "##### Exercise 4(c)\n",
    "\n",
    "證明若 $f$ 是嵌射﹐  \n",
    "則對任何子集 $S'\\subseteq S$ 都有 $S'= f^{-1}(f(S'))$。  \n",
    "\n",
    "<!-- eng start -->\n",
    "Suppose $f$ is injective.  Prove that $S'= f^{-1}(f(S'))$ for any $S'\\subseteq S$.  \n",
    "<!-- eng end -->"
   ]
  },
  {
   "cell_type": "markdown",
   "metadata": {},
   "source": [
    "##### Exercise 4(d)  \n",
    "\n",
    "證明若 $f$ 是映射﹐  \n",
    "則對任何子集 $T'\\subseteq T$ 都有 $T'= f(f^{-1}(T'))$。  \n",
    "\n",
    "<!-- eng start -->\n",
    "Suppose $f$ is surjective.  Prove that $T'= f(f^{-1}(T'))$ for any $T'\\subseteq T$.  \n",
    "<!-- eng end -->"
   ]
  },
  {
   "cell_type": "markdown",
   "metadata": {},
   "source": [
    "##### Exercise 5\n",
    "\n",
    "在以下集合中找到一個對射。  \n",
    "（兩個集合間如果存在一個對射﹐則它們的 **數量級** 就被視為是一樣的。  \n",
    "這個現象在個數有限的時候很自然﹐  \n",
    "但當個數無限多的時候會出現一個集合和它的子集個數一樣多的狀況﹐有些違反直覺﹐  \n",
    "但其實這現象就類似於 $\\infty + 1 = \\infty$ 這種概念﹐在無限大的時候是可接受的。  \n",
    "所有和自然數同樣數量級的集合﹐我們就說這樣的集合大小是 **無窮可數** 多個。  \n",
    "所以在當代的數學定義裡 $|\\mathbb{N}| = |\\mathbb{Z}| = |\\mathbb{Q}|$﹐  \n",
    "但 $|\\mathbb{R}| \\neq |\\mathbb{N}|$。）\n",
    "\n",
    "<!-- eng start -->\n",
    "For the following pairs of sets, find a bijection between them.  \n",
    "\n",
    "When there is a bijection between two sets, then we believe the two sets have the same **cardinality** .  This is natural for finite sets.  However, it could be counter-intuitive for infinite sets since sometimes a infinite set has the same cardinality with its proper subset.  Indeed, this is similar to the idea of $\\infty + 1 = \\infty$, which is acceptable.  A set that has the same cardinality with the set of natural numbers is called **countable** , or **countably infinite** .  Therefore, in modern mathematics, we have $|\\mathbb{N}| = |\\mathbb{Z}| = |\\mathbb{Q}|$, but $|\\mathbb{R}| \\neq |\\mathbb{N}|$.\n",
    "<!-- eng end -->"
   ]
  },
  {
   "cell_type": "markdown",
   "metadata": {},
   "source": [
    "##### Exercise 5(a)\n",
    "\n",
    "令 $S = \\{1,2,3\\}$ 且 $T = \\{x,y,z\\}$。  \n",
    "找一個 $S$ 到 $T$ 的對射。  \n",
    "\n",
    "<!-- eng start -->\n",
    "Let $S = \\{1,2,3\\}$ and $T = \\{x,y,z\\}$.  Find a bijection between $S$ and $T$.  \n",
    "<!-- eng end -->"
   ]
  },
  {
   "cell_type": "markdown",
   "metadata": {},
   "source": [
    "##### Exercise 5(b)\n",
    "\n",
    "令 $S = \\mathbb{Z}$ 且 $T = 2\\mathbb{Z} = \\{2z: z\\in\\mathbb{Z}\\}$。  \n",
    "找一個 $S$ 到 $T$ 的對射。  \n",
    "\n",
    "<!-- eng start -->\n",
    "Let $S = \\mathbb{Z}$ and $T = 2\\mathbb{Z} = \\{2z: z\\in\\mathbb{Z}\\}$.  Find a bijection between $S$ and $T$.  \n",
    "<!-- eng end -->"
   ]
  },
  {
   "cell_type": "markdown",
   "metadata": {},
   "source": [
    "##### Exercise 5(c)\n",
    "\n",
    "令 $S = 2\\mathbb{Z} = \\{2z : z\\in\\mathbb{Z}\\}$ 且 $T = 2\\mathbb{Z} + 1 = \\{2z+1 : z\\in\\mathbb{Z}\\}$。  \n",
    "找一個 $S$ 到 $T$ 的對射。  \n",
    "\n",
    "<!-- eng start -->\n",
    "Let $S = 2\\mathbb{Z} = \\{2z : z\\in\\mathbb{Z}\\}$ and $T = 2\\mathbb{Z} + 1 = \\{2z+1 : z\\in\\mathbb{Z}\\}$.  Find a bijection between $S$ and $T$.  \n",
    "<!-- eng end -->"
   ]
  },
  {
   "cell_type": "markdown",
   "metadata": {},
   "source": [
    "##### Exercise 5(d)\n",
    "\n",
    "令 $S = \\mathbb{N} = \\{1,2,3,\\ldots\\}$ 且 $T = \\mathbb{Z}$。  \n",
    "找一個 $S$ 到 $T$ 的對射。  \n",
    "\n",
    "<!-- eng start -->\n",
    "Let $S = \\mathbb{N} = \\{1,2,3,\\ldots\\}$ and $T = \\mathbb{Z}$.  Find a bijection between $S$ and $T$.  \n",
    "<!-- eng end -->"
   ]
  }
 ],
 "metadata": {
  "kernelspec": {
   "display_name": "SageMath 9.6",
   "language": "sage",
   "name": "sagemath"
  },
  "language_info": {
   "codemirror_mode": {
    "name": "ipython",
    "version": 3
   },
   "file_extension": ".py",
   "mimetype": "text/x-python",
   "name": "python",
   "nbconvert_exporter": "python",
   "pygments_lexer": "ipython3",
   "version": "3.10.6"
  }
 },
 "nbformat": 4,
 "nbformat_minor": 4
}
