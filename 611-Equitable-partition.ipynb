{
 "cells": [
  {
   "cell_type": "markdown",
   "metadata": {},
   "source": [
    "# 等量分割\n",
    "\n",
    "Equitable partition"
   ]
  },
  {
   "cell_type": "markdown",
   "metadata": {},
   "source": [
    "![Creative Commons License](https://i.creativecommons.org/l/by/4.0/88x31.png)  \n",
    "This work by Jephian Lin is licensed under a [Creative Commons Attribution 4.0 International License](http://creativecommons.org/licenses/by/4.0/)."
   ]
  },
  {
   "cell_type": "markdown",
   "metadata": {},
   "source": [
    "$\\newcommand{\\trans}{^\\top}\n",
    "\\newcommand{\\adj}{^{\\rm adj}}\n",
    "\\newcommand{\\cof}{^{\\rm cof}}\n",
    "\\newcommand{\\inp}[2]{\\left\\langle#1,#2\\right\\rangle}\n",
    "\\newcommand{\\dunion}{\\mathbin{\\dot\\cup}}\n",
    "\\newcommand{\\bzero}{\\mathbf{0}}\n",
    "\\newcommand{\\bone}{\\mathbf{1}}\n",
    "\\newcommand{\\ba}{\\mathbf{a}}\n",
    "\\newcommand{\\bb}{\\mathbf{b}}\n",
    "\\newcommand{\\bc}{\\mathbf{c}}\n",
    "\\newcommand{\\bd}{\\mathbf{d}}\n",
    "\\newcommand{\\be}{\\mathbf{e}}\n",
    "\\newcommand{\\bh}{\\mathbf{h}}\n",
    "\\newcommand{\\bp}{\\mathbf{p}}\n",
    "\\newcommand{\\bq}{\\mathbf{q}}\n",
    "\\newcommand{\\br}{\\mathbf{r}}\n",
    "\\newcommand{\\bx}{\\mathbf{x}}\n",
    "\\newcommand{\\by}{\\mathbf{y}}\n",
    "\\newcommand{\\bz}{\\mathbf{z}}\n",
    "\\newcommand{\\bu}{\\mathbf{u}}\n",
    "\\newcommand{\\bv}{\\mathbf{v}}\n",
    "\\newcommand{\\bw}{\\mathbf{w}}\n",
    "\\newcommand{\\tr}{\\operatorname{tr}}\n",
    "\\newcommand{\\nul}{\\operatorname{null}}\n",
    "\\newcommand{\\rank}{\\operatorname{rank}}\n",
    "%\\newcommand{\\ker}{\\operatorname{ker}}\n",
    "\\newcommand{\\range}{\\operatorname{range}}\n",
    "\\newcommand{\\Col}{\\operatorname{Col}}\n",
    "\\newcommand{\\Row}{\\operatorname{Row}}\n",
    "\\newcommand{\\spec}{\\operatorname{spec}}\n",
    "\\newcommand{\\vspan}{\\operatorname{span}}\n",
    "\\newcommand{\\Vol}{\\operatorname{Vol}}\n",
    "\\newcommand{\\sgn}{\\operatorname{sgn}}\n",
    "\\newcommand{\\idmap}{\\operatorname{id}}\n",
    "\\newcommand{\\am}{\\operatorname{am}}\n",
    "\\newcommand{\\gm}{\\operatorname{gm}}\n",
    "\\newcommand{\\mult}{\\operatorname{mult}}\n",
    "\\newcommand{\\iner}{\\operatorname{iner}}$"
   ]
  },
  {
   "cell_type": "code",
   "execution_count": null,
   "metadata": {},
   "outputs": [],
   "source": [
    "from lingeo import random_int_list"
   ]
  },
  {
   "cell_type": "markdown",
   "metadata": {},
   "source": [
    "## Main idea"
   ]
  },
  {
   "cell_type": "markdown",
   "metadata": {},
   "source": [
    "Recall that $[n] = \\{1,\\ldots,n\\}$.  \n",
    "We say $(X_1, \\ldots, X_k)$ is a partition of $[n]$ if $X_1\\cup \\cdots \\cup X_k = [n]$ and they are mutually disjoint.  "
   ]
  },
  {
   "cell_type": "markdown",
   "metadata": {},
   "source": [
    "Let $A$ be an $n\\times n$ (not necessarily symmetric) matrix.  \n",
    "For subsets $X_1,X_2\\subseteq [n]$, we define $A[X_i,X_j]$ as the submatrix of $A$ induced on the rows in $X_i$ and the columns in $X_j$.  \n",
    "A partition $\\pi = (X_1,\\ldots,X_k)$ of $[n]$ is called an **equitable partition** if  \n",
    "for any $i,j\\in [n]$, the submatrix $A[X_i, X_j]$ has a constant row sum $s_{ij}$.  \n",
    "The **quotient matrix** of $A$ with respect to a equitable partition is an $k\\times k$ matrix $\\begin{bmatrix} s_{ij} \\end{bmatrix}$, denoted by $A / \\pi$."
   ]
  },
  {
   "cell_type": "markdown",
   "metadata": {},
   "source": [
    "Let $X$ be a subset of $[n]$.  \n",
    "The **characteristic vector** of $X$ is the vector $\\phi_X$ in $\\mathbb{R}^n$ such that  \n",
    "its entries corresponding to $X$ are $1$ while others are $0$.  "
   ]
  },
  {
   "cell_type": "markdown",
   "metadata": {},
   "source": [
    "Let $A$ be an $n\\times n$ matrix and $\\pi = (X_1, \\ldots, X_k)$ a partition of $[n]$.  \n",
    "The following two statements are equivalent.  \n",
    "\n",
    "- $(X_1, \\ldots, X_k)$ is an equitable partition of $A$.  \n",
    "- $V = \\vspan\\{\\phi_{X_1},\\ldots,\\phi_{X_k}\\}$ is an $A$-invariant subspace."
   ]
  },
  {
   "cell_type": "markdown",
   "metadata": {},
   "source": [
    "Consider the function $f_A\\big|_V : V \\rightarrow V$ defined by $\\bv \\mapsto A\\bv$.  \n",
    "Note that $\\beta = \\{\\phi_{X_1},\\ldots,\\phi_{X_k}\\}$ is an orthogonal basis of $V$.  \n",
    "Then $[f_A\\big|_V]_\\beta^\\beta$ is the quotient matrix $A/\\pi$."
   ]
  },
  {
   "cell_type": "markdown",
   "metadata": {},
   "source": [
    "## Side stories\n",
    "\n",
    "- remaining eigenvalues"
   ]
  },
  {
   "cell_type": "markdown",
   "metadata": {},
   "source": [
    "## Experiments"
   ]
  },
  {
   "cell_type": "markdown",
   "metadata": {},
   "source": [
    "##### Exercise 1\n",
    "\n",
    "執行以下程式碼。  \n",
    "\n",
    "<!-- eng start -->\n",
    "Run the code below.  \n",
    "<!-- eng end -->"
   ]
  },
  {
   "cell_type": "code",
   "execution_count": null,
   "metadata": {
    "scrolled": false
   },
   "outputs": [],
   "source": [
    "### code\n",
    "set_random_seed(0)\n",
    "print_ans = None\n",
    "\n",
    "A = zero_matrix(5,5)\n",
    "quo = random_int_list(3,2)\n",
    "A[:3,:3] = graphs.CompleteGraph(3).laplacian_matrix() + quo[0] * identity_matrix(3)\n",
    "A[3:,3:] = graphs.CompleteGraph(2).laplacian_matrix() + quo[2] * identity_matrix(2)\n",
    "A[:3,3:] = quo[1] * ones_matrix(3,2)\n",
    "A[3:,:3] = A[:3,3:].transpose()\n",
    "\n",
    "pretty_print(LatexExpr(\"A =\"), A)\n",
    "\n",
    "if print_ans:\n",
    "    par = [[0,1,2],[3,4]]\n",
    "    print(\"an equitable partition can be\", par)\n",
    "    k = len(par)\n",
    "    C = zero_matrix(k,k)\n",
    "    for i in range(k):\n",
    "        for j in range(k):\n",
    "            C[i,j] = sum(A[par[i], par[j]][0])\n",
    "    print(\"quotient matrix =\")\n",
    "    show(C)"
   ]
  },
  {
   "cell_type": "markdown",
   "metadata": {},
   "source": [
    "##### Exercise 1(a)\n",
    "\n",
    "找出一個 $A$ 的等量分割。  \n",
    "\n",
    "<!-- eng start -->\n",
    "Find an equitable partition of $A$.  \n",
    "<!-- eng end -->"
   ]
  },
  {
   "cell_type": "markdown",
   "metadata": {},
   "source": [
    "##### Exercise 1(b)\n",
    "\n",
    "求出這個等量分割的商矩陣、及其所有特徵值。  \n",
    "\n",
    "<!-- eng start -->\n",
    "Find the quotient matrix and its spectrum.  \n",
    "<!-- eng end -->"
   ]
  },
  {
   "cell_type": "markdown",
   "metadata": {},
   "source": [
    "## Exercises"
   ]
  },
  {
   "cell_type": "markdown",
   "metadata": {},
   "source": [
    "##### Exercise 2\n",
    "\n",
    "求以下特定形態矩陣的特徵值。  \n",
    "\n",
    "<!-- eng start -->\n",
    "Find the spectra of the following special matrices.  \n",
    "<!-- eng end -->"
   ]
  },
  {
   "cell_type": "markdown",
   "metadata": {},
   "source": [
    "##### Exercise 2(a)\n",
    "\n",
    "已知  \n",
    "\n",
    "$$\n",
    "    A = \\begin{bmatrix}\n",
    "     0 & 0 & 1 & 1 & 1 \\\\\n",
    "     0 & 0 & 1 & 1 & 1 \\\\\n",
    "     1 & 1 & 0 & 0 & 0 \\\\\n",
    "     1 & 1 & 0 & 0 & 0 \\\\\n",
    "     1 & 1 & 0 & 0 & 0 \\\\\n",
    "    \\end{bmatrix}\n",
    "$$\n",
    "\n",
    "有特徵值 $0$ 且其重數為 $3$。  \n",
    "利用等量分割的方法來找出最後兩個特徵值。  \n",
    "\n",
    "<!-- eng start -->\n",
    "It is known that $0$ is an eigenvalue of  \n",
    "\n",
    "$$\n",
    "    A = \\begin{bmatrix}\n",
    "     0 & 0 & 1 & 1 & 1 \\\\\n",
    "     0 & 0 & 1 & 1 & 1 \\\\\n",
    "     1 & 1 & 0 & 0 & 0 \\\\\n",
    "     1 & 1 & 0 & 0 & 0 \\\\\n",
    "     1 & 1 & 0 & 0 & 0 \\\\\n",
    "    \\end{bmatrix}\n",
    "$$\n",
    "\n",
    "with multiplicity $3$.  Use the equitable partition technique to find the remaining two eigenvalues.  \n",
    "<!-- eng end -->"
   ]
  },
  {
   "cell_type": "markdown",
   "metadata": {},
   "source": [
    "##### Exercise 2(b)\n",
    "\n",
    "求\n",
    "\n",
    "$$\n",
    "    A = \\begin{bmatrix}\n",
    "     O_{m,m} & J_{m,n} \\\\\n",
    "     J_{n,m} & O_{n,n}\n",
    "    \\end{bmatrix}\n",
    "$$\n",
    "\n",
    "的所有特徵值。  \n",
    "這裡 $O$ 和 $J$ 分別是相對應大小的全零和全一矩陣。  \n",
    "\n",
    "<!-- eng start -->\n",
    "Find the spectrum of  \n",
    "\n",
    "$$\n",
    "    A = \\begin{bmatrix}\n",
    "     O_{m,m} & J_{m,n} \\\\\n",
    "     J_{n,m} & O_{n,n}\n",
    "    \\end{bmatrix}.\n",
    "$$\n",
    "\n",
    "Here $O$ and $J$ are the zero matrix and the all-ones matrix of the corresponding sizes.  \n",
    "<!-- eng end -->"
   ]
  },
  {
   "cell_type": "markdown",
   "metadata": {},
   "source": [
    "##### Exercise 3\n",
    "\n",
    "求  \n",
    "\n",
    "$$\n",
    "    A = \\begin{bmatrix}\n",
    "     0 & 0 & 1 & 1 & 1 & 1 \\\\\n",
    "     0 & 0 & 1 & 1 & 1 & 1 \\\\\n",
    "     1 & 1 & 0 & 0 & 1 & 1 \\\\\n",
    "     1 & 1 & 0 & 0 & 1 & 1 \\\\\n",
    "     1 & 1 & 1 & 1 & 0 & 0 \\\\\n",
    "     1 & 1 & 1 & 1 & 0 & 0\n",
    "    \\end{bmatrix}\n",
    "$$\n",
    "\n",
    "的所有特徵值。  \n",
    "\n",
    "<!-- eng start -->\n",
    "Find the spectrum of  \n",
    "\n",
    "$$\n",
    "    A = \\begin{bmatrix}\n",
    "     0 & 0 & 1 & 1 & 1 & 1 \\\\\n",
    "     0 & 0 & 1 & 1 & 1 & 1 \\\\\n",
    "     1 & 1 & 0 & 0 & 1 & 1 \\\\\n",
    "     1 & 1 & 0 & 0 & 1 & 1 \\\\\n",
    "     1 & 1 & 1 & 1 & 0 & 0 \\\\\n",
    "     1 & 1 & 1 & 1 & 0 & 0\n",
    "    \\end{bmatrix}.\n",
    "$$\n",
    "<!-- eng end -->"
   ]
  },
  {
   "cell_type": "markdown",
   "metadata": {},
   "source": [
    "##### Exercise 4\n",
    "\n",
    "令  \n",
    "\n",
    "$$\n",
    "    A = \\begin{bmatrix}\n",
    "     3 & -1 & -1 & -1 \\\\\n",
    "     -1 & 1 & 0 & 0 \\\\\n",
    "     -1 & 0 & 1 & 0 \\\\\n",
    "     -1 & 0 & 0 & 1 \\\\\n",
    "    \\end{bmatrix}.\n",
    "$$\n",
    "\n",
    "當 $X_1 = \\{1\\}$、$X_2 = \\{2,3,4\\}$ 時，$\\pi = (X_1,X_2)$ 為 $A$ 的一個等量分割。\n",
    "\n",
    "以下練習說明可以利用商矩陣的特徵向量回推原矩陣的特徵向量。  \n",
    "\n",
    "<!-- eng start -->\n",
    "Let  \n",
    "\n",
    "$$\n",
    "    A = \\begin{bmatrix}\n",
    "     3 & -1 & -1 & -1 \\\\\n",
    "     -1 & 1 & 0 & 0 \\\\\n",
    "     -1 & 0 & 1 & 0 \\\\\n",
    "     -1 & 0 & 0 & 1 \\\\\n",
    "    \\end{bmatrix}.\n",
    "$$\n",
    "\n",
    "Then $\\pi = (X_1,X_2)$ with $X_1 = \\{1\\}$ and $X_2 = \\{2,3,4\\}$ is an equitable partition of $A$.  \n",
    "\n",
    "The following exercises shows how to find the eigenvectors of $A$ from the eigenvectors of the quotient matrix.  \n",
    "<!-- eng end -->"
   ]
  },
  {
   "cell_type": "markdown",
   "metadata": {},
   "source": [
    "##### Exercise 4(a)\n",
    "\n",
    "將 $A\\phi_{X_1}$ 和 $A\\phi_{X_2}$ 分別寫成 $\\beta = \\{\\phi_{X_1}, \\phi_{X_2}\\}$ 的線性組合。  \n",
    "令 $V = \\vspan(\\beta)$。  \n",
    "求出 $[f_A\\big|_V]_\\beta^\\beta$。  \n",
    "\n",
    "<!-- eng start -->\n",
    "For each of $A\\phi_{X_1}$ and $A\\phi_{X_2}$, write it as a linear combination of $\\beta = \\{\\phi_{X_1}, \\phi_{X_2}\\}$.  Let $V = \\vspan(\\beta)$.  Then find $[f_A\\big|_V]_\\beta^\\beta$.  \n",
    "<!-- eng end -->"
   ]
  },
  {
   "cell_type": "markdown",
   "metadata": {},
   "source": [
    "##### Exercise 4(b)\n",
    "\n",
    "計算 $A/\\pi$ 並和上一題的結果作比較。  \n",
    "\n",
    "<!-- eng start -->\n",
    "Find $A/\\pi$ and compare it with your result of the previous exercise.  \n",
    "<!-- eng end -->"
   ]
  },
  {
   "cell_type": "markdown",
   "metadata": {},
   "source": [
    "##### Exercise 4(c)\n",
    "\n",
    "計算 $A/\\pi$ 的所有特徵值及特徵向量。  \n",
    "\n",
    "<!-- eng start -->\n",
    "Find the spectrum of $A/\\pi$ and the corresponding eigenvectors.  \n",
    "<!-- eng end -->"
   ]
  },
  {
   "cell_type": "markdown",
   "metadata": {},
   "source": [
    "##### Exercise 4(d)\n",
    "\n",
    "若  \n",
    "\n",
    "$$\n",
    "    \\bu = \\begin{bmatrix} a \\\\ b \\end{bmatrix}\n",
    "$$\n",
    "\n",
    "為 $A/\\pi$ 的一特徵向量、且其特徵值為 $\\lambda$。  \n",
    "驗證 $a\\phi_{X_1} + b\\phi_{X_2}$ 為 $A$ 的特徵向量、且其特徵值也是 $\\lambda$。  \n",
    "說明為什麼。  \n",
    "\n",
    "<!-- eng start -->\n",
    "Suppose  \n",
    "\n",
    "$$\n",
    "    \\bu = \\begin{bmatrix} a \\\\ b \\end{bmatrix}\n",
    "$$\n",
    "\n",
    "is an eigenvector of $A/\\pi$ with respect to the eigenvalue $\\lambda$.  Verify that $a\\phi_{X_1} + b\\phi_{X_2}$ is an eigenvector of $A$ with respect to the same eigenvalue $\\lambda$.  Why?  \n",
    "<!-- eng end -->"
   ]
  },
  {
   "cell_type": "markdown",
   "metadata": {},
   "source": [
    "##### Exercise 5\n",
    "\n",
    "令  \n",
    "\n",
    "$$\n",
    "    A = \\begin{bmatrix}\n",
    "     nI_m & -J_{m,n} \\\\\n",
    "     -J_{n,m} & mI_n\n",
    "    \\end{bmatrix}.\n",
    "$$\n",
    "\n",
    "求 $A$ 的所有特徵值和特徵向量。  \n",
    "\n",
    "<!-- eng start -->\n",
    "Let  \n",
    "\n",
    "$$\n",
    "    A = \\begin{bmatrix}\n",
    "     nI_m & -J_{m,n} \\\\\n",
    "     -J_{n,m} & mI_n\n",
    "    \\end{bmatrix}.\n",
    "$$\n",
    "\n",
    "Find the spectrum of $A$ and the corresponding eigenvectors.  \n",
    "<!-- eng end -->"
   ]
  },
  {
   "cell_type": "markdown",
   "metadata": {},
   "source": [
    "##### Exercise 6\n",
    "\n",
    "令 $A$ 為一 $n\\times n$ 矩陣、而 $\\pi = (X_1,\\ldots,X_k)$ 為一等量分割。  \n",
    "令 $\\beta = \\left\\{\\frac{1}{\\|\\phi_{X_1}\\|}\\phi_{X_1}, \\ldots, \\frac{1}{\\|\\phi_{X_k}\\|}\\phi_{X_k}\\right\\}$ 為 $\\vspan(\\beta)$ 的垂直標準基底。  \n",
    "將 $\\beta$ 擴充成一組 $\\mathbb{R}^n$ 的垂直標準基底 $\\alpha = \\beta\\cup\\gamma$。  \n",
    "\n",
    "說明 $[f_A]_\\alpha^\\alpha$ 可寫成  \n",
    "\n",
    "$$\n",
    "    \\begin{bmatrix}\n",
    "     A_1 & O \\\\\n",
    "     O & A_2\n",
    "    \\end{bmatrix}\n",
    "$$\n",
    "\n",
    "的形式，其中 $A_1 = A/\\pi$。  \n",
    "因此所有等量分割沒找出來的特徵值都落在 $A_2$ 裡。  \n",
    "\n",
    "<!-- eng start -->\n",
    "Let $A$ be an $n\\times n$ matrix and $\\pi = (X_1,\\ldots,X_k)$ an equitable partition of $A$.  Let $\\beta = \\left\\{\\frac{1}{\\|\\phi_{X_1}\\|}\\phi_{X_1}, \\ldots, \\frac{1}{\\|\\phi_{X_k}\\|}\\phi_{X_k}\\right\\}$ be an orthonormal basis of $\\vspan(\\beta)$.  Expand $\\beta$ into an orthonormal basis $\\alpha = \\beta\\cup\\gamma$ of $\\mathbb{R}^n$.  \n",
    "\n",
    "Show that $[f_A]_\\alpha^\\alpha$ can be written as the form  \n",
    "\n",
    "$$\n",
    "    \\begin{bmatrix}\n",
    "     A_1 & O \\\\\n",
    "     O & A_2\n",
    "    \\end{bmatrix},\n",
    "$$\n",
    "\n",
    "where $A_1 = A/\\pi$.  Therefore, the spectrum of $A_2$ is exactly the eigenvalues not in the quotient matrix.  \n",
    "<!-- eng end -->"
   ]
  }
 ],
 "metadata": {
  "kernelspec": {
   "display_name": "SageMath 9.7",
   "language": "sage",
   "name": "sagemath"
  },
  "language_info": {
   "codemirror_mode": {
    "name": "ipython",
    "version": 3
   },
   "file_extension": ".py",
   "mimetype": "text/x-python",
   "name": "python",
   "nbconvert_exporter": "python",
   "pygments_lexer": "ipython3",
   "version": "3.10.8"
  }
 },
 "nbformat": 4,
 "nbformat_minor": 4
}
