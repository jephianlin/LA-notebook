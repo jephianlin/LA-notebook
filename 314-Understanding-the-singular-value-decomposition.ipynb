{
 "cells": [
  {
   "cell_type": "markdown",
   "metadata": {},
   "source": [
    "# 體驗奇異值分解"
   ]
  },
  {
   "cell_type": "markdown",
   "metadata": {},
   "source": [
    "![Creative Commons License](https://i.creativecommons.org/l/by/4.0/88x31.png)  \n",
    "This work by Jephian Lin is licensed under a [Creative Commons Attribution 4.0 International License](http://creativecommons.org/licenses/by/4.0/)."
   ]
  },
  {
   "cell_type": "code",
   "execution_count": null,
   "metadata": {},
   "outputs": [],
   "source": [
    "from lingeo import random_int_list"
   ]
  },
  {
   "cell_type": "markdown",
   "metadata": {},
   "source": [
    "## Main idea"
   ]
  },
  {
   "cell_type": "markdown",
   "metadata": {},
   "source": [
    "Let $A$ be an $m\\times n$ matrix and  \n",
    "$f_A : \\mathbb{R}^n\\rightarrow\\mathbb{R}^n$ the corresponding linear function defined by $f({\\bf v}) = A{\\bf v}$. Let $\\mathcal{E}_n$ and $\\mathcal{E}_m$ be the standard bases of $\\mathbb{R}^n$ and $\\mathbb{R}^m$, respectively.  \n",
    "Then $[f_A] = [f_A]_{\\mathcal{E}_n}^{\\mathcal{E}_m} = A$.  "
   ]
  },
  {
   "cell_type": "markdown",
   "metadata": {},
   "source": [
    "Let $\\alpha$ be another basis of $\\mathbb{R}^n$ and $V = [\\operatorname{id}]_\\alpha^{\\mathcal{E}_n}$.  \n",
    "Let $\\beta$ be another basis of $\\mathbb{R}^m$ and $U = [\\operatorname{id}]_\\beta^{\\mathcal{E}_m}$.  \n",
    "Then $[f_A]_\\alpha^\\beta = U^{-1}AV$ and $A = U[f_A]_\\alpha^\\beta V^{-1}$.  "
   ]
  },
  {
   "cell_type": "markdown",
   "metadata": {},
   "source": [
    "##### Singular value decomposition\n",
    "\n",
    "Let $A$ be an $m\\times n$ matrix.  \n",
    "Then there are orthonormal bases $\\alpha$ and $\\beta$ of $\\mathbb{R}^n$ and $\\mathbb{R}^m$, respectively, such that \n",
    "$$[f_A]_\\alpha^\\beta = \\Sigma = \\begin{bmatrix} \n",
    " \\operatorname{diag}(\\sigma_1, \\ldots, \\sigma_r) & O_{r,n-r} \\\\\n",
    " O_{m-r,r} & O_{m-r,n-r} \n",
    "\\end{bmatrix},$$\n",
    "where $\\sigma_1\\geq\\cdots\\geq\\sigma_r$ and $\\operatorname{diag}(\\sigma_1,\\ldots,\\sigma_r)$ is the diagonal matrix with the given diagonal entries.  \n",
    "\n",
    "That is, there are $m\\times m$ and $n\\times n$ orthogonal matrices $U$ and $V$ such that $U^\\top AV = \\Sigma$ and $A = U\\Sigma V^\\top$.  "
   ]
  },
  {
   "cell_type": "markdown",
   "metadata": {},
   "source": [
    "Let $\\alpha = \\{ {\\bf v}_1, \\ldots, {\\bf v}_n \\}$ and $\\beta = \\{ {\\bf u}_1, \\ldots, {\\bf u}_m \\}$ be the bases in the singular value decomposition.  \n",
    "Then $V$ is the matrix whose columns are vectors in $\\alpha$, and  \n",
    "$U$ is the matrix whose columns are vectors in $\\beta$.  \n",
    "Since $\\alpha$ and $\\beta$ orthogonal orthonormal, $U$ and $V$ are orthogonal and $U^{-1} = U^\\top$ and $V^{-1} = V^\\top$.  "
   ]
  },
  {
   "cell_type": "markdown",
   "metadata": {},
   "source": [
    "By examining $AV = U\\Sigma$, we have  \n",
    "$$AV = \n",
    "A\\begin{bmatrix}\n",
    " | & ~ & | \\\\\n",
    " {\\bf v}_1 & \\cdots & {\\bf v}_n \\\\\n",
    " | & ~ & | \n",
    "\\end{bmatrix} = \n",
    "U\\Sigma = \n",
    "\\begin{bmatrix}\n",
    " | & ~ & | \\\\\n",
    " {\\bf v}_1 & \\cdots & {\\bf v}_n \\\\\n",
    " | & ~ & | \n",
    "\\end{bmatrix}\n",
    "\\begin{bmatrix} \n",
    " \\operatorname{diag}(\\sigma_1, \\ldots, \\sigma_r) & O_{r,n-r} \\\\\n",
    " O_{m-r,r} & O_{m-r,n-r} \n",
    "\\end{bmatrix} = \n",
    "\\begin{bmatrix}\n",
    " | & ~ & | \\\\\n",
    " \\sigma_1{\\bf v}_1 & \\cdots & \\sigma_r{\\bf v}_r & O_{n,n-r} \\\\\n",
    " | & ~ & | \n",
    "\\end{bmatrix}.$$ \n",
    "Therefore, $A{\\bf v}_i = \\lambda_i {\\bf u}_i$ for $i = 1,\\ldots, r$ and $A{\\bf v}_i = {\\bf 0}$ for $i = r+1,\\ldots, n$.  "
   ]
  },
  {
   "cell_type": "markdown",
   "metadata": {},
   "source": [
    "The values $\\sigma_1,\\ldots,\\sigma_r$ are called the **sigular values** of $A$.  \n",
    "Singular values are necessarily positive, and the number of singular values is $r = \\operatorname{rank}(A)$.  "
   ]
  },
  {
   "cell_type": "markdown",
   "metadata": {},
   "source": [
    "## Side stories\n",
    "- image compression"
   ]
  },
  {
   "cell_type": "markdown",
   "metadata": {},
   "source": [
    "## Experiments"
   ]
  },
  {
   "cell_type": "markdown",
   "metadata": {},
   "source": [
    "##### Exercise 1\n",
    "\n",
    "執行以下程式碼。  \n",
    "令 $f : \\mathbb{R}^4 \\rightarrow \\mathbb{R}^3$ 為一線性函數。  \n",
    "令 $\\alpha = \\{{\\bf v}_1,\\ldots, {\\bf v}_4\\}$ 及 $\\beta = \\{{\\bf u}_1,\\ldots, {\\bf u}_3\\}$ 分別為 $\\mathbb{R}^4$ 和 $\\mathbb{R}^3$ 的一組單位長垂直基底。  \n",
    "已知 $\\Sigma = [f]_\\alpha^\\beta$。  "
   ]
  },
  {
   "cell_type": "code",
   "execution_count": null,
   "metadata": {
    "scrolled": false
   },
   "outputs": [],
   "source": [
    "### code\n",
    "set_random_seed(0)\n",
    "print_ans = False\n",
    "r = choice([1,2,3])\n",
    "sigs = list(map(lambda k: abs(k), random_int_list(r)))\n",
    "sigs.sort(reverse=True)\n",
    "\n",
    "m,n = 3,4\n",
    "Sigma = zero_matrix(m,n)\n",
    "for i in range(r):\n",
    "    Sigma[i,i] = sigs[i]\n",
    "\n",
    "print(\"Sigma =\")\n",
    "show(Sigma)\n",
    "\n",
    "if print_ans:\n",
    "    for i in range(n):\n",
    "        if i < r:\n",
    "            print(\"A v%s = %s u%s\"%(i+1, sigs[i], i+1))\n",
    "        else:\n",
    "            print(\"A v%s = 0\"%(i+1))\n",
    "    print(\"range(f_A) = span({ u1, ..., u%s })\"%r)\n",
    "    print(\"ker(f_A) = span({ v%s, ..., vn })\"%(r+1))\n",
    "    print(\"rank(f_A) =\", r)\n",
    "    print(\"null(f_A) =\", n-r)"
   ]
  },
  {
   "cell_type": "markdown",
   "metadata": {},
   "source": [
    "##### Exercise 1(a)\n",
    "\n",
    "利用 $\\Sigma$ 說明 $f_A$ 的作用。  "
   ]
  },
  {
   "cell_type": "markdown",
   "metadata": {},
   "source": [
    "##### Exercise 1(b)\n",
    "\n",
    "找出 $\\operatorname{range}(f_A)$、$\\operatorname{ker}(f_A)$、$\\operatorname{rank}(f_A)$、$\\operatorname{null}(f_A)$。  "
   ]
  },
  {
   "cell_type": "markdown",
   "metadata": {},
   "source": [
    "## Exercises"
   ]
  },
  {
   "cell_type": "markdown",
   "metadata": {},
   "source": [
    "##### Exercise 2\n",
    "\n",
    "令 $A$ 為一 $3\\times 4$ 矩陣、  \n",
    "$\\alpha = \\{ {\\bf v}_1,\\ldots,{\\bf v}_4 \\}$ 為 $\\mathbb{R}^4$ 的一組基底、  \n",
    "$\\beta = \\{ {\\bf u}_1,\\ldots,{\\bf u}_3 \\}$ 為 $\\mathbb{R}^3$ 的一組基底。  \n",
    "已知  \n",
    "$$[f_A]_\\beta^\\beta = \\begin{bmatrix}  \n",
    " 3 & 0 & 0 & 0 \\\\\n",
    " 0 & 4 & 0 & 0 \\\\\n",
    " 0 & 0 & 5 & 0 \\\\\n",
    "\\end{bmatrix}.$$  \n",
    "將 $A{\\bf v}_1$、$A{\\bf v}_2$、$A{\\bf v}_3$、及 $A({\\bf v}_1 + {\\bf v}_2 + {\\bf v}_3)$ 分別寫成 $\\beta$ 的線性組合。  "
   ]
  },
  {
   "cell_type": "markdown",
   "metadata": {},
   "source": [
    "##### Exercise 3\n",
    "\n",
    "令 \n",
    "$$A = \\begin{bmatrix}  \n",
    " 1 & 1 & 1 & 1 \\\\\n",
    " 1 & 1 & 1 & 1 \\\\\n",
    " 1 & 1 & 1 & 1 \\\\\n",
    "\\end{bmatrix},$$ \n",
    "$\\beta = \\{ {\\bf v}_1, \\ldots, {\\bf v}_4 \\}$ 為  \n",
    "$$\\begin{bmatrix}\n",
    " \\frac{1}{2} & \\frac{1}{\\sqrt{2}} & \\frac{1}{\\sqrt{6}} & \\frac{1}{\\sqrt{12}} \\\\\n",
    " \\frac{1}{2} & -\\frac{1}{\\sqrt{2}} & \\frac{1}{\\sqrt{6}} & \\frac{1}{\\sqrt{12}} \\\\\n",
    " \\frac{1}{2} & 0 & -\\frac{2}{\\sqrt{6}} & \\frac{1}{\\sqrt{12}} \\\\\n",
    " \\frac{1}{2} & 0 & 0 & -\\frac{3}{\\sqrt{12}} \\\\\n",
    "\\end{bmatrix}$$\n",
    "的行向量集合、  \n",
    "且 $\\beta = \\{ {\\bf u}_1, \\ldots, {\\bf u}_3 \\}$ 為  \n",
    "$$\\begin{bmatrix}\n",
    " \\frac{1}{\\sqrt{3}} & \\frac{1}{\\sqrt{2}} & \\frac{1}{\\sqrt{6}} \\\\\n",
    " \\frac{1}{\\sqrt{3}} & -\\frac{1}{\\sqrt{2}} & \\frac{1}{\\sqrt{6}} \\\\\n",
    " \\frac{1}{\\sqrt{3}} & 0 & -\\frac{2}{\\sqrt{6}} \\\\\n",
    "\\end{bmatrix}$$\n",
    "的行向量集合。  "
   ]
  },
  {
   "cell_type": "markdown",
   "metadata": {},
   "source": [
    "##### Exercise 3(a)\n",
    "\n",
    "寫出 $[f_A]_\\alpha^\\beta$ 並說明 $f_A$ 的作用。  "
   ]
  },
  {
   "cell_type": "markdown",
   "metadata": {},
   "source": [
    "##### Exercise 3(b)\n",
    "\n",
    "找出兩個垂直矩陣 $U$ 和 $V$  \n",
    "以及一個只有在 $i,i$-項有值的矩陣 $\\Sigma$ 使得 $A = U\\Sigma V^\\top$。  "
   ]
  },
  {
   "cell_type": "markdown",
   "metadata": {},
   "source": [
    "###### Exercise 4\n",
    "\n",
    "令 $A$ 為 $m\\times n$ 矩陣且 $\\operatorname{rank}(A) = r$。  \n",
    "令 $A = U\\Sigma V^\\top$ 為其奇異值分解﹐其中 $\\sigma_1\\geq \\cdots \\geq \\sigma_r > 0$ 為其奇異值。    \n",
    "令 ${\\bf u}_1,\\ldots,{\\bf u}_{m}$ 為 $U$ 的各行向量、  \n",
    "${\\bf v}_0, \\ldots, {\\bf v}_{n-1}$ 為 $V$ 的各行向量。  "
   ]
  },
  {
   "cell_type": "markdown",
   "metadata": {},
   "source": [
    "##### Exercise 4(a)\n",
    "\n",
    "說明\n",
    "$$A = \\sum_{i=1}^{r} \\sigma_i{\\bf u}_i{\\bf v}_i^\\top.$$  "
   ]
  },
  {
   "cell_type": "markdown",
   "metadata": {},
   "source": [
    "##### Exercise 4(b)\n",
    "\n",
    "定義 $\\|M\\| = \\sqrt{\\operatorname{M^\\top M}}$ 為矩陣的長度。  \n",
    "說明 $\\|M\\|^2$ 就是 $M$ 的各項平方和。  "
   ]
  },
  {
   "cell_type": "markdown",
   "metadata": {},
   "source": [
    "##### Exercise 4(c)\n",
    "\n",
    "說明對任何 $i = 1,\\ldots, r$ 都有 $\\|{\\bf u}_i{\\bf v}_i\\| = 1$。  \n",
    "\n",
    "因此我們可以令 $A' = \\sum_{i=1}^{k} \\sigma_i{\\bf u}_i{\\bf v}_i^\\top$ 當作 $A$ 的逼近﹐而且有 $\\|A - A'\\| \\leq \\sum_{k+1}^r \\sigma_i$。  \n",
    "（矩陣長度也符何三角不等式。）  "
   ]
  },
  {
   "cell_type": "markdown",
   "metadata": {},
   "source": [
    "##### Exercise 4(d)\n",
    "\n",
    "每張圖片的亮度都可視為一個矩陣。  \n",
    "令 $A$ 為原圖﹐則我們可以用 $A'$ 來降低原圖的大小。  \n",
    "執行以下程式碼。  \n",
    "試試看選用各個 $k$ 的差異。  \n",
    "算一下把 $A'$ 儲存起來要幾個數字。  "
   ]
  },
  {
   "cell_type": "code",
   "execution_count": null,
   "metadata": {},
   "outputs": [],
   "source": [
    "import numpy as np\n",
    "import matplotlib.pyplot as plt\n",
    "from scipy import linalg as LA\n",
    "\n",
    "arr = plt.imread('incrediville-side.jpg').mean(axis=-1)\n",
    "plt.imshow(arr, cmap='Greys_r', vmin=0, vmax=255)\n",
    "\n",
    "U,s,Vh = LA.svd(arr) ### might take long"
   ]
  },
  {
   "cell_type": "code",
   "execution_count": null,
   "metadata": {},
   "outputs": [],
   "source": [
    "k = 50 ### between 1 to 3120\n",
    "arr_new = U[:,:k].dot(np.diag(s[:k])).dot(Vh[:k,:])\n",
    "plt.imshow(arr_new, cmap='Greys_r', vmin=0, vmax=255)"
   ]
  }
 ],
 "metadata": {
  "kernelspec": {
   "display_name": "SageMath 9.5",
   "language": "sage",
   "name": "sagemath"
  },
  "language_info": {
   "codemirror_mode": {
    "name": "ipython",
    "version": 3
   },
   "file_extension": ".py",
   "mimetype": "text/x-python",
   "name": "python",
   "nbconvert_exporter": "python",
   "pygments_lexer": "ipython3",
   "version": "3.10.2"
  }
 },
 "nbformat": 4,
 "nbformat_minor": 4
}
