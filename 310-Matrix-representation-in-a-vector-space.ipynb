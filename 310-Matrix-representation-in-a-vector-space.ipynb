{
 "cells": [
  {
   "cell_type": "markdown",
   "metadata": {},
   "source": [
    "# 向量空間中的矩陣表示法"
   ]
  },
  {
   "cell_type": "markdown",
   "metadata": {},
   "source": [
    "![Creative Commons License](https://i.creativecommons.org/l/by/4.0/88x31.png)  \n",
    "This work by Jephian Lin is licensed under a [Creative Commons Attribution 4.0 International License](http://creativecommons.org/licenses/by/4.0/)."
   ]
  },
  {
   "cell_type": "code",
   "execution_count": null,
   "metadata": {},
   "outputs": [],
   "source": [
    "from lingeo import random_int_list, random_good_matrix\n",
    "from linspace import vtop"
   ]
  },
  {
   "cell_type": "markdown",
   "metadata": {},
   "source": [
    "## Main idea"
   ]
  },
  {
   "cell_type": "markdown",
   "metadata": {},
   "source": [
    "Let $f : V \\rightarrow U$ be a linear function,  \n",
    "$\\alpha = \\{ {\\bf v}_1, \\ldots, {\\bf v}_n \\}$ be a basis of $V$, and  \n",
    "$\\beta$ a basis of $U$.  \n",
    "Then the matrix  \n",
    "$$[f]_\\alpha^\\beta = \\begin{bmatrix}\n",
    " | & ~ & | \\\\\n",
    " [f({\\bf v}_1)]_\\beta & \\cdots & [f({\\bf v}_n)]_\\beta \\\\ \n",
    " | & ~ & | \\\\\n",
    "\\end{bmatrix}$$\n",
    "has the property that $f({\\bf b}) = [f]_\\alpha^\\beta [{\\bf b}]_\\alpha = [f({\\bf b})]_\\beta$.  \n",
    "Therefore, we call $[f]_\\alpha^\\beta$ the **matrix representation** of $f$ with respect to $\\alpha$ and $\\beta$.  "
   ]
  },
  {
   "cell_type": "markdown",
   "metadata": {},
   "source": [
    "The equality can be visualized by the following diagram.  \n",
    "$$\\begin{array}{ccc}\n",
    " {\\bf b} & \\xrightarrow{f} & f({\\bf b}) \\\\\n",
    " \\downarrow & ~ & \\downarrow \\\\\n",
    " [{\\bf b}]_\\alpha & \\xrightarrow{[f]_\\alpha^\\beta\\cdot\\square} & [f({\\bf b})]_\\beta \\\\ \n",
    "\\end{array}$$\n"
   ]
  },
  {
   "cell_type": "markdown",
   "metadata": {},
   "source": [
    "Let $A = [f]_\\alpha^\\beta$.  \n",
    "Lots of (if not all) information about $f$ can be found from the the matrix representation.  \n",
    "- $\\operatorname{range}(f) = \\{{\\bf u}\\in U: [{\\bf u}]_\\beta\\in\\operatorname{range}(A)\\}$\n",
    "- $\\operatorname{ker}(f) = \\{{\\bf v}\\in V: [{\\bf v}]_\\beta\\in\\operatorname{ker}(A)\\}$\n",
    "- $\\operatorname{rank}(f) = \\operatorname{rank}(A)$\n",
    "- $\\operatorname{null}(f) = \\operatorname{null}(A)$\n"
   ]
  },
  {
   "cell_type": "markdown",
   "metadata": {},
   "source": [
    "##### Dimension theorem (general)\n",
    "\n",
    "Let $f$ be a linear function from $V$ to $U$.  \n",
    "Then $\\operatorname{rank}(f) + \\operatorname{null}(f) = \\dim(V)$.  "
   ]
  },
  {
   "cell_type": "markdown",
   "metadata": {},
   "source": [
    "## Side stories\n",
    "- derivative\n",
    "- transpose"
   ]
  },
  {
   "cell_type": "markdown",
   "metadata": {},
   "source": [
    "## Experiments"
   ]
  },
  {
   "cell_type": "markdown",
   "metadata": {},
   "source": [
    "##### Exercise 1\n",
    "\n",
    "執行以下程式碼。  \n",
    "已知 $f$ 為 $\\mathcal{P}^2$ 到 $\\mathcal{P}^1$ 的線性函數﹐  \n",
    "而 $\\alpha$ 和 $\\beta$ 分別為 $\\mathcal{P}^2$ 和 $\\mathcal{P}^1$ 的一組基底。  "
   ]
  },
  {
   "cell_type": "code",
   "execution_count": null,
   "metadata": {
    "scrolled": false
   },
   "outputs": [],
   "source": [
    "### code\n",
    "set_random_seed(0)\n",
    "print_ans = False\n",
    "m,n = 2,3\n",
    "alpha = random_good_matrix(n,n,n, bound=3)\n",
    "beta = random_good_matrix(m,m,m, bound=3)\n",
    "A = matrix(m, random_int_list(m*n))\n",
    "v = vector(random_int_list(n, 3))\n",
    "b = alpha * v\n",
    "\n",
    "print(\"alpha contains %s polynomials:\"%n)\n",
    "for j in range(n):\n",
    "    print(\"v%s =\"%(j+1), vtop(alpha.column(j)))\n",
    "\n",
    "print(\"beta contains %s polynomials:\"%m)\n",
    "for i in range(m):\n",
    "    print(\"u%s =\"%(i+1), vtop(beta.column(i)))\n",
    "\n",
    "for j in range(n):\n",
    "    print( \"f(v%s) = \"%(j+1) + \" + \".join(\"%s u%s\"%(A[i,j],i+1) for i in range(m)) )\n",
    "    \n",
    "print(\"b =\", vtop(b))\n",
    "\n",
    "if print_ans:\n",
    "    print(\"[b]_alpha =\", v)\n",
    "    print(\"[f(b)]_beta =\", A*v)\n",
    "    print(\"f(b) =\", beta.inverse() * A * v)\n",
    "    print(\"[f]_alpha^beta =\")\n",
    "    show(A)"
   ]
  },
  {
   "cell_type": "markdown",
   "metadata": {},
   "source": [
    "##### Exercise 1(a)\n",
    "\n",
    "求 $[{\\bf b}]_\\alpha$、$[f({\\bf b})]_\\beta$ 、及 $f({\\bf b})$。  "
   ]
  },
  {
   "cell_type": "markdown",
   "metadata": {},
   "source": [
    "##### Exercise 1(b)\n",
    "\n",
    "求 $[f]_\\alpha^\\beta$。  "
   ]
  },
  {
   "cell_type": "markdown",
   "metadata": {},
   "source": [
    "## Exercises"
   ]
  },
  {
   "cell_type": "markdown",
   "metadata": {},
   "source": [
    "##### Exercise 2\n",
    "\n",
    "令 $f : V \\rightarrow \\mathbb{R}^m$ 為一線性函數、  \n",
    "$\\alpha = \\{{\\bf v}_1, \\ldots, {\\bf v}_n\\}$ 為 $V$ 的一組基底、  \n",
    "$\\beta = \\{{\\bf u}_1, \\ldots, {\\bf u}_m\\}$ 為 $U$ 的一組基底。  "
   ]
  },
  {
   "cell_type": "markdown",
   "metadata": {},
   "source": [
    "##### Exercise 2(a)\n",
    "\n",
    "令 $V = \\mathcal{P}^3$、$U = \\mathcal{P}^2$ 且  \n",
    "$f(p) = p'$ 為 $p$ 的微分。  \n",
    "令 $\\alpha$、$\\beta$ 分別為 $V$ 和 $U$ 的標準基底。  \n",
    "求 $[f]_\\alpha^\\beta$、$\\operatorname{rank}(f)$、及 $\\operatorname{null}(f)$。  "
   ]
  },
  {
   "cell_type": "markdown",
   "metadata": {},
   "source": [
    "##### Exercise 2(b)\n",
    "\n",
    "令 $V = \\mathcal{P}^3$、$U = \\mathcal{P}^3$ 且  \n",
    "$f(p) = p'$ 為 $p$ 的微分。  \n",
    "令 $\\alpha$、$\\beta$ 分別為 $V$ 和 $U$ 的標準基底。  \n",
    "求 $[f]_\\alpha^\\beta$、$\\operatorname{rank}(f)$、及 $\\operatorname{null}(f)$。  "
   ]
  },
  {
   "cell_type": "markdown",
   "metadata": {},
   "source": [
    "##### Exercise 2(c)\n",
    "\n",
    "令 $V = \\mathcal{P}^3$、$U = \\mathcal{P}^4$ 且  \n",
    "$f(p) = (1-x)\\cdot p$。  \n",
    "令 $\\alpha$、$\\beta$ 分別為 $V$ 和 $U$ 的標準基底。  \n",
    "求 $[f]_\\alpha^\\beta$、$\\operatorname{rank}(f)$、及 $\\operatorname{null}(f)$。  "
   ]
  },
  {
   "cell_type": "markdown",
   "metadata": {},
   "source": [
    "##### Exercise 2(d)\n",
    "\n",
    "令 $V = U = \\mathcal{M}_{2,2}$ 且  \n",
    "$f(A) = A^\\top$ 為 $A$ 的轉置。  \n",
    "令 $\\alpha = \\beta$ 為 $\\mathcal{M}_{2,2}$ 的標準基底。  \n",
    "求 $[f]_\\alpha^\\beta$、$\\operatorname{rank}(f)$、及 $\\operatorname{null}(f)$。  "
   ]
  },
  {
   "cell_type": "markdown",
   "metadata": {},
   "source": [
    "##### Exercise 2(e)\n",
    "\n",
    "令  \n",
    "$$M = \\begin{bmatrix} \n",
    " 1 & 2 \\\\ \n",
    " 2 & 4 \\\\\n",
    "\\end{bmatrix}.$$  \n",
    "令 $V = U = \\mathcal{M}_{2,2}$ 且  \n",
    "$f(A) = MA$。  \n",
    "令 $\\alpha = \\beta$ 為 $\\mathcal{M}_{2,2}$ 的標準基底。  \n",
    "求 $[f]_\\alpha^\\beta$、$\\operatorname{rank}(f)$、及 $\\operatorname{null}(f)$。  "
   ]
  }
 ],
 "metadata": {
  "kernelspec": {
   "display_name": "SageMath 9.3",
   "language": "sage",
   "name": "sagemath"
  },
  "language_info": {
   "codemirror_mode": {
    "name": "ipython",
    "version": 3
   },
   "file_extension": ".py",
   "mimetype": "text/x-python",
   "name": "python",
   "nbconvert_exporter": "python",
   "pygments_lexer": "ipython3",
   "version": "3.9.6"
  }
 },
 "nbformat": 4,
 "nbformat_minor": 4
}
