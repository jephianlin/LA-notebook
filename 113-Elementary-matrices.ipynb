{
 "cells": [
  {
   "cell_type": "markdown",
   "metadata": {},
   "source": [
    "# 基本矩陣\n",
    "\n",
    "Elementary matrices"
   ]
  },
  {
   "cell_type": "markdown",
   "metadata": {},
   "source": [
    "![Creative Commons License](https://i.creativecommons.org/l/by/4.0/88x31.png)  \n",
    "This work by Jephian Lin is licensed under a [Creative Commons Attribution 4.0 International License](http://creativecommons.org/licenses/by/4.0/)."
   ]
  },
  {
   "cell_type": "markdown",
   "metadata": {},
   "source": [
    "$\\newcommand{\\trans}{^\\top}\n",
    "\\newcommand{\\adj}{^{\\rm adj}}\n",
    "\\newcommand{\\cof}{^{\\rm cof}}\n",
    "\\newcommand{\\inp}[2]{\\left\\langle#1,#2\\right\\rangle}\n",
    "\\newcommand{\\dunion}{\\mathbin{\\dot\\cup}}\n",
    "\\newcommand{\\bzero}{\\mathbf{0}}\n",
    "\\newcommand{\\bone}{\\mathbf{1}}\n",
    "\\newcommand{\\ba}{\\mathbf{a}}\n",
    "\\newcommand{\\bb}{\\mathbf{b}}\n",
    "\\newcommand{\\bc}{\\mathbf{c}}\n",
    "\\newcommand{\\bd}{\\mathbf{d}}\n",
    "\\newcommand{\\be}{\\mathbf{e}}\n",
    "\\newcommand{\\bh}{\\mathbf{h}}\n",
    "\\newcommand{\\bp}{\\mathbf{p}}\n",
    "\\newcommand{\\bq}{\\mathbf{q}}\n",
    "\\newcommand{\\br}{\\mathbf{r}}\n",
    "\\newcommand{\\bx}{\\mathbf{x}}\n",
    "\\newcommand{\\by}{\\mathbf{y}}\n",
    "\\newcommand{\\bz}{\\mathbf{z}}\n",
    "\\newcommand{\\bu}{\\mathbf{u}}\n",
    "\\newcommand{\\bv}{\\mathbf{v}}\n",
    "\\newcommand{\\bw}{\\mathbf{w}}\n",
    "\\newcommand{\\tr}{\\operatorname{tr}}\n",
    "\\newcommand{\\nul}{\\operatorname{null}}\n",
    "\\newcommand{\\rank}{\\operatorname{rank}}\n",
    "%\\newcommand{\\ker}{\\operatorname{ker}}\n",
    "\\newcommand{\\range}{\\operatorname{range}}\n",
    "\\newcommand{\\Col}{\\operatorname{Col}}\n",
    "\\newcommand{\\Row}{\\operatorname{Row}}\n",
    "\\newcommand{\\spec}{\\operatorname{spec}}\n",
    "\\newcommand{\\vspan}{\\operatorname{span}}\n",
    "\\newcommand{\\Vol}{\\operatorname{Vol}}\n",
    "\\newcommand{\\sgn}{\\operatorname{sgn}}\n",
    "\\newcommand{\\idmap}{\\operatorname{id}}\n",
    "\\newcommand{\\am}{\\operatorname{am}}\n",
    "\\newcommand{\\gm}{\\operatorname{gm}}\n",
    "\\newcommand{\\mult}{\\operatorname{mult}}\n",
    "\\newcommand{\\iner}{\\operatorname{iner}}$"
   ]
  },
  {
   "cell_type": "code",
   "execution_count": null,
   "metadata": {},
   "outputs": [],
   "source": [
    "from lingeo import random_int_list, random_good_matrix"
   ]
  },
  {
   "cell_type": "markdown",
   "metadata": {},
   "source": [
    "## Main idea"
   ]
  },
  {
   "cell_type": "markdown",
   "metadata": {},
   "source": [
    "##### Matrix-matrix multipliciation (by row)\n",
    "\n",
    "Let $A$ be an $m\\times n$ matrix whose rows are $\\br_1\\trans,\\ldots,\\br_m\\trans$.  \n",
    "Let $B$ be an $n\\times \\ell$ matrix.  \n",
    "Then the rows of $AB$ are $\\br_1\\trans A, \\ldots, \\br_m\\trans A$."
   ]
  },
  {
   "cell_type": "markdown",
   "metadata": {},
   "source": [
    "Let $A$ be an $m\\times n$ matrix.  \n",
    "One may perform a row operation on $A$ to obtained $A'$.  \n",
    "- If $A\\xrightarrow{\\rho_i\\leftrightarrow\\rho_j}A'$ and $I_n\\xrightarrow{\\rho_i\\leftrightarrow\\rho_j}E$, then $EA = A'$.  \n",
    "- If $A\\xrightarrow{\\rho_i: \\times k}A'$ and $I_n\\xrightarrow{\\rho_i: \\times k}E$, then $EA = A'$.  \n",
    "- If $A\\xrightarrow{\\rho_i: +k\\rho_j}A'$ and $I_n\\xrightarrow{\\rho_i: +k\\rho_j}E$, then $EA = A'$.  \n",
    "\n",
    "These matrices $E$ generated from $I_n$ by performing one row operation are called **elementary matrices**.  \n",
    "The inverse of an elementary matrix is also an elementary matrix, which corresponds to the inverse operation."
   ]
  },
  {
   "cell_type": "markdown",
   "metadata": {},
   "source": [
    "If $A$ reduces to $R$, then there are $E_1,\\ldots,E_k$, each corresponding to a row operation, such that  \n",
    "$$E_k\\cdots E_1A = R.$$\n",
    "In particualr, $R$ can be chosen as the reduced echelon form of $A$.  "
   ]
  },
  {
   "cell_type": "markdown",
   "metadata": {},
   "source": [
    "If $A$ is invertible, then its reduced echelon form is $I_n$.  \n",
    "Therefore, there are elementary matrices $E_1,\\ldots,E_k$ such that $E_k\\cdots E_1A = I_n$.  \n",
    "That is, every invertible matrix can be written as the product of a sequence of elementary matrices $E_1^{-1}\\cdots E_k^{-1}$."
   ]
  },
  {
   "cell_type": "markdown",
   "metadata": {},
   "source": [
    "## Side stories\n",
    "- alternative proof of $AB = I_n \\iff BA = I_n$\n",
    "- block row operation\n",
    "- column operation\n",
    "- congruent"
   ]
  },
  {
   "cell_type": "markdown",
   "metadata": {},
   "source": [
    "## Experiments"
   ]
  },
  {
   "cell_type": "markdown",
   "metadata": {},
   "source": [
    "##### Exercise 1\n",
    "\n",
    "執行下方程式碼。  \n",
    "矩陣 $A$ 經過給定的列運算後得到 $B$。  \n",
    "求出一個基本矩陣 $E$ 使得 $EA = B$。  \n",
    "\n",
    "<!-- eng start -->\n",
    "Run the code below.  It is known that $B$ is obtained from $A$ by applying the given row operation.  Find an elementary matrix $E$ such that $EA = B$.  \n",
    "<!-- eng end -->"
   ]
  },
  {
   "cell_type": "code",
   "execution_count": null,
   "metadata": {
    "scrolled": false
   },
   "outputs": [],
   "source": [
    "### code\n",
    "set_random_seed(0)\n",
    "print_ans = False\n",
    "A = matrix(3, random_int_list(12))\n",
    "print(\"A =\")\n",
    "show(A)\n",
    "\n",
    "B = copy(A)\n",
    "E = identity_matrix(3)\n",
    "\n",
    "t = choice([1,2,3])\n",
    "rows = list(range(3))\n",
    "shuffle(rows)\n",
    "i,j = rows[:2]\n",
    "k = choice([-2,-3,2,3])\n",
    "\n",
    "if t == 1:\n",
    "    print(\"row operation -- row%s <--> row%s\"%(i+1,j+1))\n",
    "    B.swap_rows(i,j)\n",
    "    E.swap_rows(i,j)\n",
    "if t == 2:\n",
    "    print(\"row operation -- row%s: *%s\"%(i+1,k))\n",
    "    B.rescale_row(i,k)\n",
    "    E.rescale_row(i,k)\n",
    "if t == 3:\n",
    "    print(\"row operation -- row%s: +%srow%s\"%(i+1,k,j+1))\n",
    "    B.add_multiple_of_row(i,j,k)\n",
    "    E.add_multiple_of_row(i,j,k)\n",
    "print(\"B =\")\n",
    "show(B)\n",
    "\n",
    "if print_ans:\n",
    "    print(\"E =\")\n",
    "    show(E)"
   ]
  },
  {
   "cell_type": "markdown",
   "metadata": {},
   "source": [
    "## Exercises"
   ]
  },
  {
   "cell_type": "markdown",
   "metadata": {},
   "source": [
    "##### Exercise 2\n",
    "\n",
    "執行以下程式碼。  \n",
    "已知 $A$ 是可逆的  \n",
    "（所以它的最簡階梯形式是 $I_3$）。  \n",
    "寫出一群基本矩陣 $E_1,\\ldots,E_k$  \n",
    "使得 $E_k\\cdots E_1 A = I_3$。  \n",
    "（注意先做的列運算  \n",
    "它的基本矩陣要寫在比較靠近 $A$ 的位置  \n",
    "也就是右邊。）  \n",
    "\n",
    "<!-- eng start -->\n",
    "Run the code below.  It is known that $A$ is invertible (so its reduced echelon form is $I_3$).  Find a sequence of elementary matrices $E_1,\\ldots, E_k$ such that $E_k\\cdots E_1 A = I_3$.  (Notice that the elementary matrix corresponding to the first row operation applied to $A$ should be the closest to $A$, which is the rightmost position.)\n",
    "<!-- eng end -->"
   ]
  },
  {
   "cell_type": "code",
   "execution_count": null,
   "metadata": {},
   "outputs": [],
   "source": [
    "### code\n",
    "set_random_seed(0)\n",
    "A = random_good_matrix(3,3,3)\n",
    "print(\"A =\")\n",
    "show(A)"
   ]
  },
  {
   "cell_type": "markdown",
   "metadata": {},
   "source": [
    "##### Exercise 3\n",
    "\n",
    "考慮 $5\\times 5$ 的基本矩陣。  \n",
    "\n",
    "<!-- eng start -->\n",
    "Consider a $5\\times 5$ elementary matrix.\n",
    "<!-- eng end -->"
   ]
  },
  {
   "cell_type": "markdown",
   "metadata": {},
   "source": [
    "##### Exercise 3(a)\n",
    "\n",
    "寫出 $\\rho_1\\leftrightarrow\\rho_2$ 所對應的基本矩陣、  \n",
    "以及它的反矩陣。  \n",
    "\n",
    "<!-- eng start -->\n",
    "Write down the elementary matrix of $\\rho_1\\leftrightarrow\\rho_2$, and find its inverse.  \n",
    "<!-- eng end -->"
   ]
  },
  {
   "cell_type": "markdown",
   "metadata": {},
   "source": [
    "##### Exercise 3(b)\n",
    "\n",
    "寫出 $\\rho_1: \\times 3$ 所對應的基本矩陣、  \n",
    "以及它的反矩陣。  \n",
    "\n",
    "<!-- eng start -->\n",
    "Write down the elementary matrix of $\\rho_1: \\times 3$, and find its inverse.  \n",
    "<!-- eng end -->"
   ]
  },
  {
   "cell_type": "markdown",
   "metadata": {},
   "source": [
    "##### Exercise 3(c)\n",
    "\n",
    "寫出 $\\rho_1: +2\\rho_2$ 所對應的基本矩陣、  \n",
    "以及它的反矩陣。  \n",
    "\n",
    "<!-- eng start -->\n",
    "Write down the elementary matrix of $\\rho_1: +2\\rho_2$, and find its inverse.  \n",
    "<!-- eng end -->"
   ]
  },
  {
   "cell_type": "markdown",
   "metadata": {},
   "source": [
    "##### Exercise 4\n",
    "\n",
    "若矩陣 $M$ 被分割四塊如下  \n",
    "\n",
    "$$\n",
    "    \\begin{bmatrix} \n",
    "     A & B \\\\ \n",
    "     C & D \n",
    "    \\end{bmatrix},\n",
    "$$\n",
    "\n",
    "其中 $A$ 為 $m\\times m$ 方陣並且可逆、  \n",
    "而 $C$ 的高度為 $n$。  \n",
    "\n",
    "驗證等式  \n",
    "\n",
    "$$\n",
    "    \\begin{bmatrix} \n",
    "     I_m & O \\\\\n",
    "     -CA^{-1} & I_n\n",
    "    \\end{bmatrix}\\begin{bmatrix}\n",
    "     A & B \\\\ \n",
    "     C & D \n",
    "    \\end{bmatrix} = \\begin{bmatrix}\n",
    "     A & B \\\\\n",
    "     O & D - CA^{-1}B\n",
    "    \\end{bmatrix}.\n",
    "$$\n",
    "\n",
    "這個可視為是對一塊一塊的矩陣做列運算。  \n",
    "\n",
    "<!-- eng start -->\n",
    "Suppose a matrix $M$ can be written as \n",
    "\n",
    "$$\n",
    "    \\begin{bmatrix} \n",
    "     A & B \\\\ \n",
    "     C & D \n",
    "    \\end{bmatrix},\n",
    "$$\n",
    "\n",
    "where $A$ is an $m\\times m$ matrix and $C$ is of height $n$.  \n",
    "\n",
    "Verify the identity\n",
    "\n",
    "$$\n",
    "    \\begin{bmatrix} \n",
    "     I_m & O \\\\\n",
    "     -CA^{-1} & I_n\n",
    "    \\end{bmatrix}\\begin{bmatrix}\n",
    "     A & B \\\\ \n",
    "     C & D \n",
    "    \\end{bmatrix} = \\begin{bmatrix}\n",
    "     A & B \\\\\n",
    "     O & D - CA^{-1}B\n",
    "    \\end{bmatrix}.\n",
    "$$\n",
    "\n",
    "This can be viewed as a block row operation.\n",
    "<!-- eng end -->"
   ]
  },
  {
   "cell_type": "markdown",
   "metadata": {},
   "source": [
    "##### Exercise 5\n",
    "\n",
    "令 $A$ 和 $B$ 為 $n\\times n$ 矩陣。  \n",
    "以下步驟提供另一種方式證明︰  \n",
    "若 $AB = I_n$ 則 $BA = I_n$。  \n",
    "\n",
    "<!-- eng start -->\n",
    "Let $A$ and $B$ be $n\\times n$ matrices.  The following provide a different way to show that $AB = I_n$ if and only if $BA = I_n$.  \n",
    "<!-- eng end -->"
   ]
  },
  {
   "cell_type": "markdown",
   "metadata": {},
   "source": [
    "##### Exercise 5(a)\n",
    "\n",
    "若 $AB = I_n$。  \n",
    "證明增廣矩陣 $\\left[\\begin{array}{c|c} A & I_n \\end{array}\\right]$ 的最簡階梯形式矩陣  \n",
    "一定是 $\\left[\\begin{array}{c|c} I_n & B \\end{array}\\right]$。  \n",
    "\n",
    "<!-- eng start -->\n",
    "Suppose $AB = I_n$.  Show that the reduced echelon form of $\\left[\\begin{array}{c|c} A & I_n \\end{array}\\right]$ is $\\left[\\begin{array}{c|c} I_n & B \\end{array}\\right]$.  \n",
    "<!-- eng end -->"
   ]
  },
  {
   "cell_type": "markdown",
   "metadata": {},
   "source": [
    "##### Exercise 5(b)\n",
    "\n",
    "記錄所有的列運算可以得到一群基本矩陣 $E_1,\\ldots, E_k$。  \n",
    "說明 $E_k\\cdots E_1 A = I_n$ 且 $E_k\\cdots E_1 I_n = B$﹐  \n",
    "因此 $BA = I_n$。  \n",
    "\n",
    "<!-- eng start -->\n",
    "By recording the row operations, we may obtain a sequence of elementary matrices $E_1,\\ldots, E_k$.  Explain why $E_k\\cdots E_1 A = I_n$ and $E_k\\cdots E_1 I_n = B$.  Therefore, $BA = I_n$.  \n",
    "<!-- eng end -->"
   ]
  },
  {
   "cell_type": "markdown",
   "metadata": {},
   "source": [
    "##### Exercise 6\n",
    "\n",
    "相對於列運算﹐  \n",
    "我們也可以自然地定義 **行運算** ：  \n",
    "\n",
    "1. swapping: swap the $i$-th and the $j$-th columns.  (Denoted as $\\kappa_i\\leftrightarrow\\kappa_j$.)\n",
    "2. rescaling: multiply the $i$-th column by a nonzero scalar $k$.  (Denoted as $\\kappa_i:\\times k$.)\n",
    "3. column combination: multiply the $j$-th column by a scalar $k$ and add the result to the $i$-th column.  (Denoted as $\\kappa_i: + k\\kappa_j$.)\n",
    "\n",
    "令 $A$ 為一 $m\\times n$ 矩陣。  \n",
    "若 $A$ 經過某一行運算以後得到 $A'$。  \n",
    "而 $I_n$ 經過同一行運算以後得到 $E$。  \n",
    "則 $AE = A'$。  \n",
    "（注意列運算基本矩陣乘在左邊﹐用來控制右邊矩陣的列；  \n",
    "而行運算基本矩陣乘在右邊﹐用來控制左邊矩陣的行。）  \n",
    "\n",
    "考慮 $5\\times 5$ 的基本矩陣。  \n",
    "\n",
    "<!-- eng start -->\n",
    "Analogously, we may define a **column operation** as one of the following:\n",
    "\n",
    "1. swapping: swap the $i$-th and the $j$-th columns.  (Denoted as $\\kappa_i\\leftrightarrow\\kappa_j$.)\n",
    "2. rescaling: multiply the $i$-th column by a nonzero scalar $k$.  (Denoted as $\\kappa_i:\\times k$.)\n",
    "3. column combination: multiply the $j$-th column by a scalar $k$ and add the result to the $i$-th column.  (Denoted as $\\kappa_i: + k\\kappa_j$.)\n",
    "\n",
    "Let $A$ be an $m\\times n$ matrix.  Suppose $A'$ is obtained from $A$ by applying a column operation.  Let $E$ be the matrix obtained from $I_n$ by applying the same column operation.  Then $AE = A'$.  (Notice that the row elementary matrix is put on the left of the target matrix to control its row, while the column elementary matrix is put on the right of the target matrix to control its column.)  \n",
    "\n",
    "Consider a $5\\times 5$ elementary matrix.\n",
    "<!-- eng end -->"
   ]
  },
  {
   "cell_type": "markdown",
   "metadata": {},
   "source": [
    "##### Exercise 6(a)\n",
    "\n",
    "寫出 $\\kappa_1\\leftrightarrow\\kappa_2$ 所對應的基本矩陣、  \n",
    "以及它的反矩陣。  \n",
    "\n",
    "<!-- eng start -->\n",
    "Write down the elementary matrix of $\\kappa_1\\leftrightarrow\\kappa_2$, and find its inverse.  \n",
    "<!-- eng end -->"
   ]
  },
  {
   "cell_type": "markdown",
   "metadata": {},
   "source": [
    "##### Exercise 6(b)\n",
    "\n",
    "寫出 $\\kappa_1: \\times 3$ 所對應的基本矩陣、  \n",
    "以及它的反矩陣。  \n",
    "\n",
    "<!-- eng start -->\n",
    "Write down the elementary matrix of $\\kappa_1: \\times 3$, and find its inverse.  \n",
    "<!-- eng end -->"
   ]
  },
  {
   "cell_type": "markdown",
   "metadata": {},
   "source": [
    "##### Exercise 6(c)\n",
    "\n",
    "寫出 $\\kappa_1: +2\\kappa_2$ 所對應的基本矩陣、  \n",
    "以及它的反矩陣。  \n",
    "\n",
    "<!-- eng start -->\n",
    "Write down the elementary matrix of $\\kappa_1: +2\\kappa_2$, and find its inverse.  \n",
    "<!-- eng end -->"
   ]
  },
  {
   "cell_type": "markdown",
   "metadata": {},
   "source": [
    "##### Exercise 6(d)\n",
    "\n",
    "令 \n",
    "\n",
    "$$ \n",
    "    J = \\begin{bmatrix} \n",
    "     1 & 1 & 1 \\\\\n",
    "     1 & 1 & 1 \\\\\n",
    "     1 & 1 & 1 \\\\\n",
    "    \\end{bmatrix}\n",
    "$$\n",
    "\n",
    "且 \n",
    "\n",
    "$$ \n",
    "    D = \\begin{bmatrix} \n",
    "     1 & 0 & 0 \\\\\n",
    "     0 & 0 & 0 \\\\\n",
    "     0 & 0 & 0 \\\\\n",
    "    \\end{bmatrix}.\n",
    "$$  \n",
    "\n",
    "求一可逆矩陣 $E$ 使得 $E\\trans JE = D$。  \n",
    "\n",
    "<!-- eng start -->\n",
    "Let  \n",
    "\n",
    "$$ \n",
    "    J = \\begin{bmatrix} \n",
    "     1 & 1 & 1 \\\\\n",
    "     1 & 1 & 1 \\\\\n",
    "     1 & 1 & 1 \\\\\n",
    "    \\end{bmatrix}\n",
    "$$\n",
    "\n",
    "and  \n",
    "\n",
    "$$ \n",
    "    D = \\begin{bmatrix} \n",
    "     1 & 0 & 0 \\\\\n",
    "     0 & 0 & 0 \\\\\n",
    "     0 & 0 & 0 \\\\\n",
    "    \\end{bmatrix}.\n",
    "$$  \n",
    "\n",
    "Find an invertible matrix $E$ such that $E\\trans JE = D$.  \n",
    "<!-- eng end -->"
   ]
  }
 ],
 "metadata": {
  "kernelspec": {
   "display_name": "SageMath 9.6",
   "language": "sage",
   "name": "sagemath"
  },
  "language_info": {
   "codemirror_mode": {
    "name": "ipython",
    "version": 3
   },
   "file_extension": ".py",
   "mimetype": "text/x-python",
   "name": "python",
   "nbconvert_exporter": "python",
   "pygments_lexer": "ipython3",
   "version": "3.10.5"
  }
 },
 "nbformat": 4,
 "nbformat_minor": 4
}
