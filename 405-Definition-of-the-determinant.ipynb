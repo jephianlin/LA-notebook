{
 "cells": [
  {
   "cell_type": "markdown",
   "metadata": {},
   "source": [
    "# 基本矩陣與列超平行體"
   ]
  },
  {
   "cell_type": "markdown",
   "metadata": {},
   "source": [
    "![Creative Commons License](https://i.creativecommons.org/l/by/4.0/88x31.png)  \n",
    "This work by Jephian Lin is licensed under a [Creative Commons Attribution 4.0 International License](http://creativecommons.org/licenses/by/4.0/)."
   ]
  },
  {
   "cell_type": "markdown",
   "metadata": {},
   "source": [
    "$\\newcommand{\\trans}{^\\top}\n",
    "\\newcommand{\\adj}{^{\\rm adj}}\n",
    "\\newcommand{\\cof}{^{\\rm cof}}\n",
    "\\newcommand{\\inp}[2]{\\left\\langle#1,#2\\right\\rangle}\n",
    "\\newcommand{\\dunion}{\\mathbin{\\dot\\cup}}\n",
    "\\newcommand{\\bzero}{\\mathbf{0}}\n",
    "\\newcommand{\\bone}{\\mathbf{1}}\n",
    "\\newcommand{\\ba}{\\mathbf{a}}\n",
    "\\newcommand{\\bb}{\\mathbf{b}}\n",
    "\\newcommand{\\bc}{\\mathbf{c}}\n",
    "\\newcommand{\\bd}{\\mathbf{d}}\n",
    "\\newcommand{\\be}{\\mathbf{e}}\n",
    "\\newcommand{\\bh}{\\mathbf{h}}\n",
    "\\newcommand{\\bp}{\\mathbf{p}}\n",
    "\\newcommand{\\bq}{\\mathbf{q}}\n",
    "\\newcommand{\\br}{\\mathbf{r}}\n",
    "\\newcommand{\\bx}{\\mathbf{x}}\n",
    "\\newcommand{\\by}{\\mathbf{y}}\n",
    "\\newcommand{\\bz}{\\mathbf{z}}\n",
    "\\newcommand{\\bu}{\\mathbf{u}}\n",
    "\\newcommand{\\bv}{\\mathbf{v}}\n",
    "\\newcommand{\\bw}{\\mathbf{w}}\n",
    "\\newcommand{\\tr}{\\operatorname{tr}}\n",
    "\\newcommand{\\nul}{\\operatorname{null}}\n",
    "\\newcommand{\\rank}{\\operatorname{rank}}\n",
    "%\\newcommand{\\ker}{\\operatorname{ker}}\n",
    "\\newcommand{\\range}{\\operatorname{range}}\n",
    "\\newcommand{\\Col}{\\operatorname{Col}}\n",
    "\\newcommand{\\Row}{\\operatorname{Row}}\n",
    "\\newcommand{\\spec}{\\operatorname{spec}}\n",
    "\\newcommand{\\vspan}{\\operatorname{span}}\n",
    "\\newcommand{\\Vol}{\\operatorname{Vol}}$"
   ]
  },
  {
   "cell_type": "code",
   "execution_count": null,
   "metadata": {},
   "outputs": [],
   "source": [
    "from lingeo import random_int_list, row_operation_process"
   ]
  },
  {
   "cell_type": "markdown",
   "metadata": {},
   "source": [
    "## Main idea"
   ]
  },
  {
   "cell_type": "markdown",
   "metadata": {},
   "source": [
    "For $n\\times n$ matrices $A$, the **determinant** $\\det(A)$ is defined through the following rules.  \n",
    "\n",
    "- $\\det(I_n) = 1$.\n",
    "- If $E$ is the elementary matrix of $\\rho_i\\leftrightarrow\\rho_j$, then $\\det(EA) = -\\det(A)$ and we define $\\det(E) = -1$.\n",
    "- If $E$ is the elementary matrix of $\\rho_i:\\times k$, then $E$ **rescales** the $i$-th row of $A$.  \n",
    "Thus, $\\det(EA) = k\\det(A)$ and we define $\\Vol_R(E) = k$.  \n",
    "(Note that this statement still holds even when $k = 0$.)\n",
    "- If $E$ is the elementary matrix of $\\rho_i:+k\\rho_j\\times$, then $E$ **slants** the $i$-th row of $A$ to the direction of $j$-th row.  \n",
    "Thus, $\\det(EA) = \\det(A)$ and we define $\\det(E) = 1$.  "
   ]
  },
  {
   "cell_type": "markdown",
   "metadata": {},
   "source": [
    "As a consequence, if a matrix $A$ is invertible and  \n",
    "can be written as the product a sequence of elementary matrices $F_1\\cdots F_k$,  \n",
    "then $\\det(A) = \\det(F_1)\\cdots\\det(F_k)\\det(I_n) = \\det(F_1)\\cdots\\det(F_k)$."
   ]
  },
  {
   "cell_type": "markdown",
   "metadata": {},
   "source": [
    "In contrast, if $A$ is not invertible,  \n",
    "then $\\det(A) = 0$.  \n",
    "\n",
    "In particular, this happens when  \n",
    "\n",
    "- $A$ has a zero row, or  \n",
    "- $A$ has repeated rows."
   ]
  },
  {
   "cell_type": "markdown",
   "metadata": {},
   "source": [
    "By definitions, $\\det(A) = \\Vol_C(A) = \\Vol_R(A)$ for any matrix $A$.  "
   ]
  },
  {
   "cell_type": "markdown",
   "metadata": {},
   "source": [
    "##### Remark\n",
    "\n",
    "Thanks to row operations, the definition of $\\det(A)$ assigns at least a value to $\\det(A)$.  \n",
    "However, _maybe_ the rules assigns more than one values to it.  \n",
    "That is, the function might not be _well-defined_.\n",
    "\n",
    "A matrix $A$ can be written as the product of different sequences of elementary matrices.  \n",
    "For example, one may write  \n",
    "$$\n",
    "    A = F_1 \\cdots F_k = E_1 \\cdots E_h\n",
    "$$\n",
    "for elementary matrices $F_1,\\ldots, F_k$ and $E_1,\\ldots, E_h$.  \n",
    "However, it is not yet clear by the definition  \n",
    "that $\\det(F_1) \\cdots \\det(F_k) = \\det(E_1) \\cdots \\det(E_h)$.  \n",
    "\n",
    "We will deal with this issue at the end of this chapter."
   ]
  },
  {
   "cell_type": "markdown",
   "metadata": {},
   "source": [
    "## Side stories\n",
    "- well-defined\n",
    "- permutation matrices"
   ]
  },
  {
   "cell_type": "markdown",
   "metadata": {},
   "source": [
    "## Experiments"
   ]
  },
  {
   "cell_type": "markdown",
   "metadata": {},
   "source": [
    "##### Exercise 1\n",
    "\n",
    "執行以下程式碼。  "
   ]
  },
  {
   "cell_type": "code",
   "execution_count": null,
   "metadata": {
    "scrolled": false
   },
   "outputs": [],
   "source": [
    "### code\n",
    "set_random_seed(0)\n",
    "print_ans = False\n",
    "\n",
    "n = 4\n",
    "while True:\n",
    "    A = matrix(n, random_int_list(n^2, 3))\n",
    "    if A.det() != 0:\n",
    "        break\n",
    "        \n",
    "# elems = row_operation_process(A, inv=True)\n",
    "\n",
    "print(\"A =\")\n",
    "pretty_print(A)\n",
    "\n",
    "if print_ans:\n",
    "    print(\"determinant of A =\", A.det())"
   ]
  },
  {
   "cell_type": "markdown",
   "metadata": {},
   "source": [
    "##### Exercise 1(a)\n",
    "\n",
    "將 $A$ 消成最簡階梯形式、  \n",
    "並記錄下每一步的列運算。"
   ]
  },
  {
   "cell_type": "markdown",
   "metadata": {},
   "source": [
    "##### Exercise 1(b)\n",
    "\n",
    "求出 $\\det(A)$。"
   ]
  },
  {
   "cell_type": "markdown",
   "metadata": {},
   "source": [
    "## Exercises"
   ]
  },
  {
   "cell_type": "markdown",
   "metadata": {},
   "source": [
    "##### Exercise 2\n",
    "\n",
    "對以下矩陣 $A$，  \n",
    "求出 $\\det(A)$。"
   ]
  },
  {
   "cell_type": "markdown",
   "metadata": {},
   "source": [
    "##### Exercise 2(a)\n",
    "\n",
    "$$\n",
    "    A = \\begin{bmatrix}\n",
    "     0 & 1 & 0 & 0 \\\\\n",
    "     0 & 0 & 1 & 0 \\\\\n",
    "     0 & 0 & 0 & 1 \\\\\n",
    "     1 & 0 & 0 & 0 \\\\\n",
    "    \\end{bmatrix}.\n",
    "$$"
   ]
  },
  {
   "cell_type": "markdown",
   "metadata": {},
   "source": [
    "##### Exercise 2(b)\n",
    "\n",
    "$$\n",
    "    A = \\begin{bmatrix}\n",
    "     0 & 0 & 1 & 0 \\\\\n",
    "     0 & 0 & 0 & 1 \\\\\n",
    "     1 & 0 & 0 & 0 \\\\\n",
    "     0 & 1 & 0 & 0 \\\\\n",
    "    \\end{bmatrix}.\n",
    "$$"
   ]
  },
  {
   "cell_type": "markdown",
   "metadata": {},
   "source": [
    "##### Exercise 2(c)\n",
    "\n",
    "$$\n",
    "    A = \\begin{bmatrix}\n",
    "     0 & 0 & 0 & 1 \\\\\n",
    "     0 & 0 & 1 & 0 \\\\\n",
    "     0 & 1 & 0 & 0 \\\\\n",
    "     1 & 0 & 0 & 0 \\\\\n",
    "    \\end{bmatrix}.\n",
    "$$"
   ]
  },
  {
   "cell_type": "markdown",
   "metadata": {},
   "source": [
    "##### Exercise 2(d)\n",
    "\n",
    "$$\n",
    "    A = \\begin{bmatrix}\n",
    "     0 & 0 & 0 & 1 \\\\\n",
    "     0 & 0 & 2 & 0 \\\\\n",
    "     0 & 3 & 0 & 0 \\\\\n",
    "     4 & 0 & 0 & 0 \\\\\n",
    "    \\end{bmatrix}.\n",
    "$$"
   ]
  },
  {
   "cell_type": "markdown",
   "metadata": {},
   "source": [
    "##### Exercise 2(b)\n",
    "\n",
    "$$\n",
    "    A = \\begin{bmatrix}\n",
    "     0 & 0 & 1 & 0 \\\\\n",
    "     0 & 0 & 0 & 2 \\\\\n",
    "     3 & 0 & 0 & 0 \\\\\n",
    "     0 & 4 & 0 & 0 \\\\\n",
    "    \\end{bmatrix}.\n",
    "$$"
   ]
  },
  {
   "cell_type": "markdown",
   "metadata": {},
   "source": [
    "##### Exercise 3\n",
    "\n",
    "對以下矩陣 $A$，  \n",
    "求出 $\\det(A)$。"
   ]
  },
  {
   "cell_type": "markdown",
   "metadata": {},
   "source": [
    "##### Exercise 3(a)\n",
    "\n",
    "$$\n",
    "    A = \\begin{bmatrix}\n",
    "     1 & 1 & 1 & 1 \\\\\n",
    "     1 & 2 & 2 & 2 \\\\\n",
    "     1 & 2 & 3 & 3 \\\\\n",
    "     1 & 2 & 3 & 4\n",
    "    \\end{bmatrix}.\n",
    "$$"
   ]
  },
  {
   "cell_type": "markdown",
   "metadata": {},
   "source": [
    "##### Exercise 3(b)\n",
    "\n",
    "$$\n",
    "    A = \\begin{bmatrix}\n",
    "     1 & 1 & \\cdots & 1 \\\\\n",
    "     1 & 2 & \\cdots & 2 \\\\\n",
    "     \\vdots  & \\vdots & \\ddots & \\vdots \\\\\n",
    "     1 & 2 & \\cdots & n\n",
    "    \\end{bmatrix}.\n",
    "$$"
   ]
  },
  {
   "cell_type": "markdown",
   "metadata": {},
   "source": [
    "##### Exercise 4\n",
    "\n",
    "對以下矩陣 $A$，  \n",
    "求出 $\\det(A)$。"
   ]
  },
  {
   "cell_type": "markdown",
   "metadata": {},
   "source": [
    "##### Exercise 4(a)\n",
    "\n",
    "$$\n",
    "    A = \\begin{bmatrix}\n",
    "     1 & 1 & 1 & 1 \\\\\n",
    "     1 & 2 & 4 & 8 \\\\\n",
    "     1 & 3 & 9 & 27 \\\\\n",
    "     1 & 4 & 16 & 64\n",
    "    \\end{bmatrix}.\n",
    "$$"
   ]
  },
  {
   "cell_type": "markdown",
   "metadata": {},
   "source": [
    "##### Exercise 4(b)\n",
    "\n",
    "$$\n",
    "    A = \\begin{bmatrix}\n",
    "     1 & 1 & 1 & 1 & 1\\\\\n",
    "     1 & 2 & 4 & 8 & 16 \\\\\n",
    "     1 & 3 & 9 & 27 & 81 \\\\\n",
    "     1 & 4 & 16 & 64 & 256 \\\\\n",
    "     1 & 5 & 25 & 125 & 625\n",
    "    \\end{bmatrix}.\n",
    "$$"
   ]
  },
  {
   "cell_type": "markdown",
   "metadata": {},
   "source": [
    "##### Exercise 5\n",
    "\n",
    "對以下矩陣 $A$，  \n",
    "求出 $\\det(A)$。  \n",
    "\n",
    "提示：把所有列加到第一列。"
   ]
  },
  {
   "cell_type": "markdown",
   "metadata": {},
   "source": [
    "##### Exercise 5(a)\n",
    "\n",
    "$$\n",
    "    A = \\begin{bmatrix}\n",
    "     4 & -1 & -1 & -1 \\\\\n",
    "     -1 & 4 & -1 & -1 \\\\\n",
    "     -1 & -1 & 4 & -1 \\\\\n",
    "     -1 & -1 & -1 & 4\n",
    "    \\end{bmatrix}.\n",
    "$$"
   ]
  },
  {
   "cell_type": "markdown",
   "metadata": {},
   "source": [
    "##### Exercise 5(b)\n",
    "\n",
    "令 $A$ 為一 $n\\times n$ 矩陣  \n",
    "$$\n",
    "    \\begin{bmatrix}\n",
    "     n-1 & -1 & \\cdots & -1 \\\\\n",
    "     -1 & n-1 & \\ddots & \\vdots \\\\\n",
    "     \\vdots & \\ddots & \\ddots & -1 \\\\\n",
    "     -1 & \\cdots & -1 & n -1\n",
    "    \\end{bmatrix}.\n",
    "$$"
   ]
  },
  {
   "cell_type": "markdown",
   "metadata": {},
   "source": [
    "##### Exercise 6\n",
    "\n",
    "利用 $\\det$ 定義中的四條準則，說明以下性質。"
   ]
  },
  {
   "cell_type": "markdown",
   "metadata": {},
   "source": [
    "##### Exercise 6(a)\n",
    "\n",
    "若 $A$ 中有一列為零向量，說明 $\\det(A) = 0$。  "
   ]
  },
  {
   "cell_type": "markdown",
   "metadata": {},
   "source": [
    "##### Exercise 6(b)\n",
    "\n",
    "若 $A$ 中有兩列向量相等，說明 $\\det(A) = 0$。  "
   ]
  },
  {
   "cell_type": "markdown",
   "metadata": {},
   "source": [
    "##### Exercise 6(c)\n",
    "\n",
    "若 $A$ 中的列向量集合線性相依，說明 $\\det(A) = 0$。  "
   ]
  }
 ],
 "metadata": {
  "kernelspec": {
   "display_name": "SageMath 9.4",
   "language": "sage",
   "name": "sagemath"
  },
  "language_info": {
   "codemirror_mode": {
    "name": "ipython",
    "version": 3
   },
   "file_extension": ".py",
   "mimetype": "text/x-python",
   "name": "python",
   "nbconvert_exporter": "python",
   "pygments_lexer": "ipython3",
   "version": "3.10.1"
  }
 },
 "nbformat": 4,
 "nbformat_minor": 4
}
