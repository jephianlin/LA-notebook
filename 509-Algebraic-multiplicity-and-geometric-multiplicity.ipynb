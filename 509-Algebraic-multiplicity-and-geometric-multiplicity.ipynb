{
 "cells": [
  {
   "cell_type": "markdown",
   "metadata": {},
   "source": [
    "# 代數重數與幾何重數"
   ]
  },
  {
   "cell_type": "markdown",
   "metadata": {},
   "source": [
    "![Creative Commons License](https://i.creativecommons.org/l/by/4.0/88x31.png)  \n",
    "This work by Jephian Lin is licensed under a [Creative Commons Attribution 4.0 International License](http://creativecommons.org/licenses/by/4.0/)."
   ]
  },
  {
   "cell_type": "markdown",
   "metadata": {},
   "source": [
    "$\\newcommand{\\trans}{^\\top}\n",
    "\\newcommand{\\adj}{^{\\rm adj}}\n",
    "\\newcommand{\\cof}{^{\\rm cof}}\n",
    "\\newcommand{\\inp}[2]{\\left\\langle#1,#2\\right\\rangle}\n",
    "\\newcommand{\\dunion}{\\mathbin{\\dot\\cup}}\n",
    "\\newcommand{\\bzero}{\\mathbf{0}}\n",
    "\\newcommand{\\bone}{\\mathbf{1}}\n",
    "\\newcommand{\\ba}{\\mathbf{a}}\n",
    "\\newcommand{\\bb}{\\mathbf{b}}\n",
    "\\newcommand{\\bc}{\\mathbf{c}}\n",
    "\\newcommand{\\bd}{\\mathbf{d}}\n",
    "\\newcommand{\\be}{\\mathbf{e}}\n",
    "\\newcommand{\\bh}{\\mathbf{h}}\n",
    "\\newcommand{\\bp}{\\mathbf{p}}\n",
    "\\newcommand{\\bq}{\\mathbf{q}}\n",
    "\\newcommand{\\br}{\\mathbf{r}}\n",
    "\\newcommand{\\bx}{\\mathbf{x}}\n",
    "\\newcommand{\\by}{\\mathbf{y}}\n",
    "\\newcommand{\\bz}{\\mathbf{z}}\n",
    "\\newcommand{\\bu}{\\mathbf{u}}\n",
    "\\newcommand{\\bv}{\\mathbf{v}}\n",
    "\\newcommand{\\bw}{\\mathbf{w}}\n",
    "\\newcommand{\\tr}{\\operatorname{tr}}\n",
    "\\newcommand{\\nul}{\\operatorname{null}}\n",
    "\\newcommand{\\rank}{\\operatorname{rank}}\n",
    "%\\newcommand{\\ker}{\\operatorname{ker}}\n",
    "\\newcommand{\\range}{\\operatorname{range}}\n",
    "\\newcommand{\\Col}{\\operatorname{Col}}\n",
    "\\newcommand{\\Row}{\\operatorname{Row}}\n",
    "\\newcommand{\\spec}{\\operatorname{spec}}\n",
    "\\newcommand{\\vspan}{\\operatorname{span}}\n",
    "\\newcommand{\\Vol}{\\operatorname{Vol}}\n",
    "\\newcommand{\\sgn}{\\operatorname{sgn}}\n",
    "\\newcommand{\\idmap}{\\operatorname{id}}\n",
    "\\newcommand{\\am}{\\operatorname{am}}\n",
    "\\newcommand{\\gm}{\\operatorname{gm}}$"
   ]
  },
  {
   "cell_type": "code",
   "execution_count": null,
   "metadata": {},
   "outputs": [],
   "source": [
    "from lingeo import random_int_list, random_good_matrix"
   ]
  },
  {
   "cell_type": "markdown",
   "metadata": {},
   "source": [
    "## Main idea"
   ]
  },
  {
   "cell_type": "markdown",
   "metadata": {},
   "source": [
    "We have seen whether a matrix $A$ is diagonalizable depends on how many (independent) vectors we can find in $\\ker(A - \\lambda I)$ for each eigenvalue $\\lambda\\in\\spec(A)$.  \n",
    "In this section, we will give some quantitative measures on how much a matrix is diagonalizable.  "
   ]
  },
  {
   "cell_type": "markdown",
   "metadata": {},
   "source": [
    "Let $A$ be an $n\\times n$ matrix and $p_A(x)$ its characteristic polynomial.  \n",
    "For each $\\lambda \\in \\spec(A)$,  \n",
    "\n",
    "- the **algebtraic multiplicity** of $\\lambda$ is the multiplicity of $\\lambda$ as a root of $p_A(x)$, denoted by $\\am_A(\\lambda)$, while \n",
    "- the **geometric multiplicity** of $\\lambda$ is the dimension of $\\ker(A - \\lambda I)$, denoted by $\\gm_A(\\lambda)$.  \n",
    "\n",
    "When the context is clear, the subscript $A$ can be omitted.  "
   ]
  },
  {
   "cell_type": "markdown",
   "metadata": {},
   "source": [
    "For any $n\\times n$ matrix $A$ and $\\lambda\\in\\spec(A)$, the following properties hold.\n",
    "\n",
    "- $1 \\leq \\gm(\\lambda) \\leq \\am(\\lambda)$. \n",
    "- The sum of $\\am(\\lambda)$ over all distinct eigenvalues $\\lambda$ is $n$.  \n",
    "- The matrix $A$ is diagonalizable if and only $\\gm(\\lambda) = \\am(\\lambda)$ for all distinct eigenvalues $\\lambda$."
   ]
  },
  {
   "cell_type": "markdown",
   "metadata": {},
   "source": [
    "The fact $1\\leq\\gm(\\lambda)$ follows immediate from the definition that $A - \\lambda I$ is singular when $\\lambda$ is an eigenvalue.  \n",
    "The exercises contains a proof of $\\gm(\\lambda) \\leq \\am(\\lambda)$.  \n",
    "The sum of $\\am(\\lambda)$ is equal to the degree of $p_A(x)$, which is $n$.  "
   ]
  },
  {
   "cell_type": "markdown",
   "metadata": {},
   "source": [
    "If $\\gm(\\lambda) < \\am(\\lambda)$ for some $\\lambda$, then the sum of all geometric multiplicities is less than $n$, so it is impossible to find a basis composed of eigenvectors.  \n",
    "If $\\gm(\\lambda) = \\am(\\lambda)$ for all distinct eigenvalues $\\lambda$, we will show in the next section that $A$ is diagonalizable.  "
   ]
  },
  {
   "cell_type": "markdown",
   "metadata": {},
   "source": [
    "##### Proposition\n",
    "\n",
    "Let $A$ be an $n\\times n$ matrix.  \n",
    "If the characteristic polynomial $p_A(x)$ has $n$ distinct roots, then $A$ is diagonalizable."
   ]
  },
  {
   "cell_type": "markdown",
   "metadata": {},
   "source": [
    "## Side stories\n",
    "\n",
    "- Jordan block\n",
    "- invariant subspace"
   ]
  },
  {
   "cell_type": "markdown",
   "metadata": {},
   "source": [
    "## Experiments"
   ]
  },
  {
   "cell_type": "markdown",
   "metadata": {},
   "source": [
    "##### Exercise 1\n",
    "\n",
    "執行以下程式碼。  "
   ]
  },
  {
   "cell_type": "code",
   "execution_count": null,
   "metadata": {
    "scrolled": false
   },
   "outputs": [],
   "source": [
    "### code\n",
    "set_random_seed(0)\n",
    "print_ans = False\n",
    "\n",
    "am1 = choice([2,3])\n",
    "am2 = choice([2,3])\n",
    "n = am1 + am2\n",
    "while True:\n",
    "    lam1, lam2 = random_int_list(2,3)\n",
    "    if lam1 != lam2:\n",
    "        break\n",
    "gm1 = randint(1,am1)\n",
    "gm2 = randint(1,am2)\n",
    "\n",
    "block1 = [matrix([[lam1]]) for i in range(gm1 - 1)] + [jordan_block(lam1, am1 - gm1 + 1)]\n",
    "block2 = [matrix([[lam2]]) for i in range(gm2 - 1)] + [jordan_block(lam2, am2 - gm2 + 1)]\n",
    "D = block_diagonal_matrix(block1 + block2)\n",
    "Q = random_good_matrix(n,n,n,2)\n",
    "A = Q * D * Q.inverse()\n",
    "\n",
    "pretty_print(LatexExpr(\"A =\"), A)\n",
    "pA = (-1)^n * A.charpoly()\n",
    "print(\"characteristic polyomial =\", pA)\n",
    "print(\"                         =\", factor(pA))\n",
    "print(\"rref of A - (%s)I:\"%lam1)\n",
    "pretty_print((A - lam1).rref())\n",
    "print(\"rref of A - (%s)I:\"%lam2)\n",
    "pretty_print((A - lam2).rref())\n",
    "\n",
    "if print_ans:\n",
    "    print(\"lambda =\", lam1)\n",
    "    print(\"am(lambda) =\", am1)\n",
    "    print(\"gm(lambda) =\", gm1)\n",
    "    print(\"lambda =\", lam2)\n",
    "    print(\"am(lambda) =\", am2)\n",
    "    print(\"gm(lambda) =\", gm2)\n",
    "    print(\"Diagonalizable?\", am1 == gm1 and am2 == gm2)"
   ]
  },
  {
   "cell_type": "markdown",
   "metadata": {},
   "source": [
    "##### Exercise 1(a)\n",
    "\n",
    "求 $A$ 的每一個特徵值的代數重數與幾何重數。"
   ]
  },
  {
   "cell_type": "markdown",
   "metadata": {},
   "source": [
    "##### Exercise 1(b)\n",
    "\n",
    "判斷 $A$ 是否可對角化。"
   ]
  },
  {
   "cell_type": "markdown",
   "metadata": {},
   "source": [
    "## Exercises"
   ]
  },
  {
   "cell_type": "markdown",
   "metadata": {},
   "source": [
    "##### Exercise 2\n",
    "\n",
    "對以下矩陣，  \n",
    "計算每一個特徵值的代數重數與幾何重數，  \n",
    "並判斷其是否可以對角化。"
   ]
  },
  {
   "cell_type": "markdown",
   "metadata": {},
   "source": [
    "##### Exercise 2(a)\n",
    "\n",
    "$$\n",
    "    A = \\begin{bmatrix}\n",
    "    0 & 1 \\\\\n",
    "    -6 & 5\n",
    "    \\end{bmatrix}.\n",
    "$$"
   ]
  },
  {
   "cell_type": "markdown",
   "metadata": {},
   "source": [
    "##### Exercise 2(b)\n",
    "\n",
    "$$\n",
    "    A = \\begin{bmatrix}\n",
    "    -1 & 1 \\\\\n",
    "    -1 & 1\n",
    "    \\end{bmatrix}.\n",
    "$$"
   ]
  },
  {
   "cell_type": "markdown",
   "metadata": {},
   "source": [
    "##### Exercise 3\n",
    "\n",
    "對以下矩陣，  \n",
    "計算每一個特徵值的代數重數與幾何重數，  \n",
    "並判斷其是否可以對角化。"
   ]
  },
  {
   "cell_type": "markdown",
   "metadata": {},
   "source": [
    "##### Exercise 3(a)\n",
    "\n",
    "$$\n",
    "    A = \\begin{bmatrix}\n",
    "    4 & 0 & -1 \\\\\n",
    "    0 & 4 & -1 \\\\\n",
    "    -1 & -1 & 5\n",
    "    \\end{bmatrix}.\n",
    "$$"
   ]
  },
  {
   "cell_type": "markdown",
   "metadata": {},
   "source": [
    "##### Exercise 3(b)\n",
    "\n",
    "$$\n",
    "    A = \\begin{bmatrix}\n",
    "    1 & 3 & 2 \\\\\n",
    "    2 & 4 & 3 \\\\\n",
    "    -3 & -7 & -5\n",
    "    \\end{bmatrix}.\n",
    "$$"
   ]
  },
  {
   "cell_type": "markdown",
   "metadata": {},
   "source": [
    "##### Exercise 4\n",
    "\n",
    "以下矩陣稱為喬丹區塊矩陣（Jordan block）。  \n",
    "說明以下矩陣  \n",
    "不計算重數的話只有一個特徵值，  \n",
    "計算這個特徵值的代數重數與幾何重數。  \n",
    "\n",
    "因此大小大於等於 $2$ 的喬丹區塊矩陣皆不可對角化。"
   ]
  },
  {
   "cell_type": "markdown",
   "metadata": {},
   "source": [
    "##### Exercise 4(a)\n",
    "\n",
    "$$\n",
    "    A = \\begin{bmatrix}\n",
    "    0 & 1 & 0 & 0 \\\\\n",
    "    0 & 0 & 1 & 0 \\\\\n",
    "    0 & 0 & 0 & 1 \\\\\n",
    "    0 & 0 & 0 & 0\n",
    "    \\end{bmatrix}.\n",
    "$$"
   ]
  },
  {
   "cell_type": "markdown",
   "metadata": {},
   "source": [
    "##### Exercise 4(b)\n",
    "\n",
    "$$\n",
    "    A = \\begin{bmatrix}\n",
    "    3 & 1 & 0 & 0 & 0 \\\\\n",
    "    0 & 3 & 1 & 0 & 0 \\\\\n",
    "    0 & 0 & 3 & 1 & 0 \\\\\n",
    "    0 & 0 & 0 & 3 & 1 \\\\\n",
    "    0 & 0 & 0 & 0 & 3\n",
    "    \\end{bmatrix}.\n",
    "$$"
   ]
  },
  {
   "cell_type": "markdown",
   "metadata": {},
   "source": [
    "##### Exercise 5\n",
    "\n",
    "找尋滿足以下條件的矩陣。"
   ]
  },
  {
   "cell_type": "markdown",
   "metadata": {},
   "source": [
    "##### Exercise 5(a)\n",
    "\n",
    "找一個矩陣 $A$ 使得  \n",
    "$\\spec(A) = \\{2,2,3,3,3\\}$、  \n",
    "$\\gm(2) = 1$ 且 $\\gm(3) = 2$。"
   ]
  },
  {
   "cell_type": "markdown",
   "metadata": {},
   "source": [
    "##### Exercise 5(a)\n",
    "\n",
    "找一個每一項都不為零的矩陣 $A$ 使得  \n",
    "$\\spec(A) = \\{2,2,3,3,3\\}$、  \n",
    "$\\gm(2) = 1$ 且 $\\gm(3) = 2$。"
   ]
  },
  {
   "cell_type": "markdown",
   "metadata": {},
   "source": [
    "##### Exercise 6\n",
    "\n",
    "令 $A$ 為一 $n\\times n$ 矩陣而 $\\lambda$ 為其一特徵值。  \n",
    "依照以下步驟證明 $\\gm(\\lambda) \\leq \\am(\\lambda)$。"
   ]
  },
  {
   "cell_type": "markdown",
   "metadata": {},
   "source": [
    "##### Exercise 6(a)\n",
    "\n",
    "令 $d = \\gm(\\lambda)$ 為 $\\ker(A - \\lambda I)$ 的維度。  \n",
    "找一組 $\\ker(A - \\lambda I)$ 的基底 $\\alpha$，  \n",
    "並將其擴展為 $\\mathbb{R}^n$ 的一組基底 $\\beta$。  \n",
    "（所以 $\\alpha\\subseteq\\beta$ 且 $|\\alpha| = d$。）  \n",
    "說明 $[f_A]_\\beta^\\beta$ 會有以下型式  \n",
    "$$\n",
    "    \\begin{bmatrix}\n",
    "    \\lambda I_d & B \\\\\n",
    "    O_{n-d,d} & D\n",
    "    \\end{bmatrix}.\n",
    "$$  \n",
    "（這裡 $D$ 只是一個矩陣的符號，不一定是對角矩陣。）"
   ]
  },
  {
   "cell_type": "markdown",
   "metadata": {},
   "source": [
    "##### Exercise 6(b)\n",
    "\n",
    "由於 $[f_A]_\\beta^\\beta$ 和 $A$ 有相同的特徵多項式。  \n",
    "說明 $p_A(x)$ 中有 $(\\lambda - x)^d$ 這個因式，  \n",
    "因此 $\\gm(\\lambda) \\leq \\am(\\lambda)$。"
   ]
  },
  {
   "cell_type": "markdown",
   "metadata": {},
   "source": [
    "##### Exercise 7\n",
    "\n",
    "令 $A$ 為一矩陣而 $W$ 為一 $\\mathbb{R}^n$ 的子空間。  \n",
    "如果  \n",
    "$$\n",
    "    f_A(W) = \\{A\\bw: \\bw\\in W\\} \\subseteq W,\n",
    "$$\n",
    "則我們稱 $W$ 是一個 **$A$-不變子空間（$A$-invariant subspace）**。  \n",
    "\n",
    "同樣地，令 $f:V\\rightarrow V$ 為一個線性函數  \n",
    "而 $W$ 是 $V$ 的一個子空間。\n",
    "如果  \n",
    "$$\n",
    "    f(W) = \\{f(\\bw): \\bw\\in W\\} \\subseteq W,\n",
    "$$\n",
    "則我們稱 $W$ 是一個 **$f$-不變子空間（$f$-invariant subspace）**。  "
   ]
  },
  {
   "cell_type": "markdown",
   "metadata": {},
   "source": [
    "##### Exercise 7(a)\n",
    "\n",
    "令 $A$ 為一 $n\\times n$ 矩陣而 $W$ 為一 $A$-不變子空間。  \n",
    "令 $\\alpha$ 為 $W$ 的一組基底  \n",
    "並將基擴展為 $\\mathbb{R}^n$ 的一組基底 $\\beta$。  \n",
    "說明 $[f_A]_\\beta^\\beta$ 會有以下型式  \n",
    "$$\n",
    "    \\begin{bmatrix}\n",
    "    \\lambda A' & B \\\\\n",
    "    O_{n-d,d} & D\n",
    "    \\end{bmatrix}.\n",
    "$$  \n",
    "（這裡 $D$ 只是一個矩陣的符號，不一定是對角矩陣。）"
   ]
  },
  {
   "cell_type": "markdown",
   "metadata": {},
   "source": [
    "##### Exercise 7(b)\n",
    "\n",
    "若 $A$ 為一矩陣，而 $\\lambda$ 為其一特徵值。  \n",
    "說明 $\\ker(A - \\lambda I)$ 為一 $A$-不變子空間。"
   ]
  }
 ],
 "metadata": {
  "kernelspec": {
   "display_name": "SageMath 9.5",
   "language": "sage",
   "name": "sagemath"
  },
  "language_info": {
   "codemirror_mode": {
    "name": "ipython",
    "version": 3
   },
   "file_extension": ".py",
   "mimetype": "text/x-python",
   "name": "python",
   "nbconvert_exporter": "python",
   "pygments_lexer": "ipython3",
   "version": "3.10.1"
  }
 },
 "nbformat": 4,
 "nbformat_minor": 4
}
