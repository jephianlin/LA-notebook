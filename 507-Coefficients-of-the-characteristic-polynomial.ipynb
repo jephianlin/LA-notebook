{
 "cells": [
  {
   "cell_type": "markdown",
   "metadata": {},
   "source": [
    "# 特徵多項式係數"
   ]
  },
  {
   "cell_type": "markdown",
   "metadata": {},
   "source": [
    "![Creative Commons License](https://i.creativecommons.org/l/by/4.0/88x31.png)  \n",
    "This work by Jephian Lin is licensed under a [Creative Commons Attribution 4.0 International License](http://creativecommons.org/licenses/by/4.0/)."
   ]
  },
  {
   "cell_type": "markdown",
   "metadata": {},
   "source": [
    "$\\newcommand{\\trans}{^\\top}\n",
    "\\newcommand{\\adj}{^{\\rm adj}}\n",
    "\\newcommand{\\cof}{^{\\rm cof}}\n",
    "\\newcommand{\\inp}[2]{\\left\\langle#1,#2\\right\\rangle}\n",
    "\\newcommand{\\dunion}{\\mathbin{\\dot\\cup}}\n",
    "\\newcommand{\\bzero}{\\mathbf{0}}\n",
    "\\newcommand{\\bone}{\\mathbf{1}}\n",
    "\\newcommand{\\ba}{\\mathbf{a}}\n",
    "\\newcommand{\\bb}{\\mathbf{b}}\n",
    "\\newcommand{\\bc}{\\mathbf{c}}\n",
    "\\newcommand{\\bd}{\\mathbf{d}}\n",
    "\\newcommand{\\be}{\\mathbf{e}}\n",
    "\\newcommand{\\bh}{\\mathbf{h}}\n",
    "\\newcommand{\\bp}{\\mathbf{p}}\n",
    "\\newcommand{\\bq}{\\mathbf{q}}\n",
    "\\newcommand{\\br}{\\mathbf{r}}\n",
    "\\newcommand{\\bx}{\\mathbf{x}}\n",
    "\\newcommand{\\by}{\\mathbf{y}}\n",
    "\\newcommand{\\bz}{\\mathbf{z}}\n",
    "\\newcommand{\\bu}{\\mathbf{u}}\n",
    "\\newcommand{\\bv}{\\mathbf{v}}\n",
    "\\newcommand{\\bw}{\\mathbf{w}}\n",
    "\\newcommand{\\tr}{\\operatorname{tr}}\n",
    "\\newcommand{\\nul}{\\operatorname{null}}\n",
    "\\newcommand{\\rank}{\\operatorname{rank}}\n",
    "%\\newcommand{\\ker}{\\operatorname{ker}}\n",
    "\\newcommand{\\range}{\\operatorname{range}}\n",
    "\\newcommand{\\Col}{\\operatorname{Col}}\n",
    "\\newcommand{\\Row}{\\operatorname{Row}}\n",
    "\\newcommand{\\spec}{\\operatorname{spec}}\n",
    "\\newcommand{\\vspan}{\\operatorname{span}}\n",
    "\\newcommand{\\Vol}{\\operatorname{Vol}}\n",
    "\\newcommand{\\sgn}{\\operatorname{sgn}}\n",
    "\\newcommand{\\idmap}{\\operatorname{id}}$"
   ]
  },
  {
   "cell_type": "code",
   "execution_count": null,
   "metadata": {},
   "outputs": [],
   "source": [
    "from lingeo import random_int_list, random_good_matrix"
   ]
  },
  {
   "cell_type": "markdown",
   "metadata": {},
   "source": [
    "## Main idea"
   ]
  },
  {
   "cell_type": "markdown",
   "metadata": {},
   "source": [
    "Let $A$ be an $n\\times n$ matrix.  \n",
    "Let $\\alpha \\subseteq [n]$ be a subset of indices.  \n",
    "We let $A[\\alpha]$ be the submatrix of $A$ induced on rows and columns in $\\alpha$.  \n",
    "Such a matrix is called a **principal submatrix** of $A$, and its determinant is called a **principal minor**."
   ]
  },
  {
   "cell_type": "markdown",
   "metadata": {},
   "source": [
    "Let $S_k = S_k(A)$ be the sum of all $k\\times k$ principal minorts.  \n",
    "Vacuously, we define $S_0 = 1$.  \n",
    "Then  \n",
    "$$\n",
    "    \\det(A - xI) = S_0(-x)^n + S_1(-x)^{n-1} + \\cdots + S_n.\n",
    "$$"
   ]
  },
  {
   "cell_type": "markdown",
   "metadata": {},
   "source": [
    "In particular,  \n",
    "$S_1 = \\tr(A)$ is the sum of all diagonal entries of $A$, and  \n",
    "$S_n = \\det(A)$.  "
   ]
  },
  {
   "cell_type": "markdown",
   "metadata": {},
   "source": [
    "This identity follows from the expansion of the characteristic polynomial by the distributive law on each column.  \n",
    "Here is an example.  \n",
    "\n",
    "$$\n",
    "    \\begin{aligned}\n",
    "    \\det\\begin{bmatrix}\n",
    "     1 - x & 2 & 3 \\\\\n",
    "     4 & 5 - x & 6 \\\\\n",
    "     7 & 8 & 9 - x\n",
    "    \\end{bmatrix} \n",
    "     &=\n",
    "    \\det\\begin{bmatrix}\n",
    "     -x & 0 & 0 \\\\\n",
    "     0 & -x & 0 \\\\\n",
    "     0 & 0 & -x\n",
    "    \\end{bmatrix} \n",
    "     + \n",
    "    \\det\\begin{bmatrix}\n",
    "     -x & 0 & 3 \\\\\n",
    "     0 & -x & 6 \\\\\n",
    "     0 & 0 & 9\n",
    "    \\end{bmatrix} \n",
    "     +\n",
    "    \\det\\begin{bmatrix}\n",
    "     -x & 2 & 0 \\\\\n",
    "     0 & 5 & 0 \\\\\n",
    "     0 & 8 & -x\n",
    "    \\end{bmatrix} \n",
    "     +\n",
    "    \\det\\begin{bmatrix}\n",
    "     1 & 0 & 0 \\\\\n",
    "     4 & -x & 0 \\\\\n",
    "     7 & 0 & -x\n",
    "    \\end{bmatrix} \n",
    "     + \\\\\n",
    "     &\\mathrel{\\phantom{=}}\n",
    "    \\det\\begin{bmatrix}\n",
    "     -x & 2 & 3 \\\\\n",
    "     0 & 5 & 6 \\\\\n",
    "     0 & 8 & 9 \n",
    "    \\end{bmatrix} \n",
    "    +\n",
    "    \\det\\begin{bmatrix}\n",
    "     1 & 0 & 3 \\\\\n",
    "     4 & -x & 6 \\\\\n",
    "     7 & 0 & 9\n",
    "    \\end{bmatrix} \n",
    "     + \n",
    "    \\det\\begin{bmatrix}\n",
    "     1 & 2 & 0 \\\\\n",
    "     4 & 5 & 0 \\\\\n",
    "     7 & 8 & -x\n",
    "    \\end{bmatrix} \n",
    "     + \n",
    "    \\det\\begin{bmatrix}\n",
    "     1 & 2 & 3 \\\\\n",
    "     4 & 5 & 6 \\\\\n",
    "     7 & 8 & 9\n",
    "    \\end{bmatrix}. \n",
    "    \\end{aligned}\n",
    "$$"
   ]
  },
  {
   "cell_type": "markdown",
   "metadata": {},
   "source": [
    "## Side stories\n",
    "\n",
    "- Vieta's formulas\n",
    "- Cauchy–Binet formula"
   ]
  },
  {
   "cell_type": "markdown",
   "metadata": {},
   "source": [
    "## Experiments"
   ]
  },
  {
   "cell_type": "markdown",
   "metadata": {},
   "source": [
    "##### Exercise 1\n",
    "\n",
    "執行以下程式碼。  "
   ]
  },
  {
   "cell_type": "code",
   "execution_count": null,
   "metadata": {
    "scrolled": false
   },
   "outputs": [],
   "source": [
    "### code\n",
    "set_random_seed(0)\n",
    "print_ans = False\n",
    "\n",
    "n = 3\n",
    "spec = random_int_list(n, 3)\n",
    "D = diagonal_matrix(spec)\n",
    "Q = random_good_matrix(n,n,n,2)\n",
    "A = Q * D * Q.inverse()\n",
    "\n",
    "pretty_print(LatexExpr(\"A =\"), A)\n",
    "\n",
    "if print_ans:\n",
    "    for k in [3,2,1]:\n",
    "        print(\"k =\", k)\n",
    "        kmtx = []\n",
    "        kmnr = []\n",
    "        for alpha in Combinations(list(range(3)), k):\n",
    "            kmtx.append(A[alpha, alpha])\n",
    "            kmnr.append(A[alpha, alpha].det())\n",
    "        print(\"all k x k principal submatricies:\")\n",
    "        pretty_print(*kmtx)\n",
    "        print(\"all k x k principal minors:\")\n",
    "        print(kmnr)\n",
    "        print(\"Sk =\", sum(kmnr))\n",
    "        print(\"---\")\n",
    "        \n",
    "    pA = (-1)^n * A.charpoly()\n",
    "    print(\"characteristic polyomial =\", pA)\n",
    "    print(\"spectrum is the set { \" + \", \".join(\"%s\"%val for val in spec) + \" }\")"
   ]
  },
  {
   "cell_type": "markdown",
   "metadata": {},
   "source": [
    "##### Exercise 1(a)\n",
    "\n",
    "列出所有的 $3\\times 3$ 主子矩陣，並計算 $S_3$。"
   ]
  },
  {
   "cell_type": "markdown",
   "metadata": {},
   "source": [
    "##### Exercise 1(b)\n",
    "\n",
    "列出所有的 $2\\times 2$ 主子矩陣，並計算 $S_2$。"
   ]
  },
  {
   "cell_type": "markdown",
   "metadata": {},
   "source": [
    "##### Exercise 1(c)\n",
    "\n",
    "列出所有的 $1\\times 1$ 主子矩陣，並計算 $S_1$。"
   ]
  },
  {
   "cell_type": "markdown",
   "metadata": {},
   "source": [
    "##### Exercise 1(d)\n",
    "\n",
    "計算 $A$ 的特徵多項式及 $\\spec(A)$。"
   ]
  },
  {
   "cell_type": "markdown",
   "metadata": {},
   "source": [
    "## Exercises"
   ]
  },
  {
   "cell_type": "markdown",
   "metadata": {},
   "source": [
    "##### Exercise 2\n",
    "\n",
    "利用 $S_k$ 計算以下矩陣 $A$ 的特徵多項式以及 $\\spec(A)$。"
   ]
  },
  {
   "cell_type": "markdown",
   "metadata": {},
   "source": [
    "##### Exercise 2(a)\n",
    "\n",
    "$$\n",
    "    A = \\begin{bmatrix}\n",
    "    5 & -1 \\\\\n",
    "    -1 & 5\n",
    "    \\end{bmatrix}.\n",
    "$$"
   ]
  },
  {
   "cell_type": "markdown",
   "metadata": {},
   "source": [
    "##### Exercise 2(b)\n",
    "\n",
    "$$\n",
    "    A = \\begin{bmatrix}\n",
    "    0 & 1 \\\\\n",
    "    -6 & 5\n",
    "    \\end{bmatrix}.\n",
    "$$"
   ]
  },
  {
   "cell_type": "markdown",
   "metadata": {},
   "source": [
    "##### Exercise 2(c)\n",
    "\n",
    "$$\n",
    "    A = \\begin{bmatrix}\n",
    "    0 & 1 \\\\\n",
    "    -4 & 0\n",
    "    \\end{bmatrix}.\n",
    "$$"
   ]
  },
  {
   "cell_type": "markdown",
   "metadata": {},
   "source": [
    "##### Exercise 2(d)\n",
    "\n",
    "$$\n",
    "    A = \\begin{bmatrix}\n",
    "    0 & -1 \\\\\n",
    "    1 & 0\n",
    "    \\end{bmatrix}.\n",
    "$$"
   ]
  },
  {
   "cell_type": "markdown",
   "metadata": {},
   "source": [
    "##### Exercise 3\n",
    "\n",
    "利用 $S_k$ 計算以下矩陣 $A$ 的特徵多項式以及 $\\spec(A)$。"
   ]
  },
  {
   "cell_type": "markdown",
   "metadata": {},
   "source": [
    "##### Exercise 3(a)\n",
    "\n",
    "$$\n",
    "    A = \\begin{bmatrix}\n",
    "    4 & 0 & -1 \\\\\n",
    "    0 & 4 & -1 \\\\\n",
    "    -1 & -1 & 5\n",
    "    \\end{bmatrix}.\n",
    "$$"
   ]
  },
  {
   "cell_type": "markdown",
   "metadata": {},
   "source": [
    "##### Exercise 3(b)\n",
    "\n",
    "$$\n",
    "    A = \\begin{bmatrix}\n",
    "    0 & 1 & 0 \\\\\n",
    "    0 & 0 & 1 \\\\\n",
    "    6 & -11 & 6\n",
    "    \\end{bmatrix}.\n",
    "$$"
   ]
  },
  {
   "cell_type": "markdown",
   "metadata": {},
   "source": [
    "##### Exercise 3(c)\n",
    "\n",
    "$$\n",
    "    A = \\begin{bmatrix}\n",
    "    0 & 1 & 0 \\\\\n",
    "    0 & 0 & 1 \\\\\n",
    "    1 & 0 & 0\n",
    "    \\end{bmatrix}.\n",
    "$$"
   ]
  },
  {
   "cell_type": "markdown",
   "metadata": {},
   "source": [
    "##### Exercise 4\n",
    "\n",
    "令 $J_n$ 為 $n\\times n$ 的全 $1$ 矩陣。  \n",
    "對每一個 $k = 0,\\ldots, n$，計算 $S_k$，  \n",
    "並藉此求 $J_n$ 的特徵多項式及 $\\spec(J_n)$。  "
   ]
  },
  {
   "cell_type": "markdown",
   "metadata": {},
   "source": [
    "##### Exercise 5\n",
    "\n",
    "令 $J_{m,n}$ 為 $m\\times n$ 的全 $1$ 矩陣，而  \n",
    "$$\n",
    "    A = \\begin{bmatrix}\n",
    "    O_{n,n} & J_{n,m} \\\\\n",
    "    J_{m,n} & O_{m,m}\n",
    "    \\end{bmatrix}.\n",
    "$$\n",
    "對每一個 $k = 0,\\ldots, n$，計算 $S_k$，  \n",
    "並藉此求 $A$ 的特徵多項式及 $\\spec(A)$。  "
   ]
  },
  {
   "cell_type": "markdown",
   "metadata": {},
   "source": [
    "##### Exercise 6\n",
    "\n",
    "令 $A$ 為一 $n\\times n$ 矩陣。  \n",
    "若特徵多項式 $p_A(x)$ 的根為 $\\lambda_1,\\ldots,\\lambda_n$，則  \n",
    "$$\n",
    "    p_A(x) = (\\lambda_1 - x) \\cdots (\\lambda_n - x).\n",
    "$$\n",
    "如此一來我們就有根與係數的關係  \n",
    "$$\n",
    "    \\begin{aligned}\n",
    "    S_0 &= 1, \\\\\n",
    "    S_1 &= \\lambda_1 + \\cdots + \\lambda_n, \\\\\n",
    "    S_2 &= \\sum_{i<j}\\lambda_i\\lambda_j, \\\\\n",
    "    \\vdots & \\\\\n",
    "    S_n &= \\lambda_1\\cdots\\lambda_n.\n",
    "    \\end{aligned}\n",
    "$$"
   ]
  },
  {
   "cell_type": "markdown",
   "metadata": {},
   "source": [
    "##### Exercise 6(a)\n",
    "\n",
    "令 $J_n$ 為 $n\\times n$ 的全 $1$ 矩陣。  \n",
    "若已知 $\\spec(J_n)$ 中有 $n-1$ 個零，  \n",
    "求最後一個特徵值。\n",
    "\n",
    "（未來會發現這是求 $\\spec(J_n)$，  \n",
    "也可以反推特徵多項式，  \n",
    "所以請不要用先前提目的結果來計算這題。）"
   ]
  },
  {
   "cell_type": "markdown",
   "metadata": {},
   "source": [
    "##### Exercise 6(b)\n",
    "\n",
    "令 $J_{m,n}$ 為 $m\\times n$ 的全 $1$ 矩陣，而  \n",
    "$$\n",
    "    A = \\begin{bmatrix}\n",
    "    O_{n,n} & J_{n,m} \\\\\n",
    "    J_{m,n} & O_{m,m}\n",
    "    \\end{bmatrix}.\n",
    "$$\n",
    "若已知 $\\spec(A)$ 中有 $n-2$ 個零，  \n",
    "求最後兩個特徵值。\n",
    "\n",
    "（未來會發現這是求 $\\spec(A)$，  \n",
    "也可以反推特徵多項式，  \n",
    "所以請不要用先前提目的結果來計算這題。）"
   ]
  },
  {
   "cell_type": "markdown",
   "metadata": {},
   "source": [
    "##### Exercise 7\n",
    "\n",
    "證明若 $A$ 和 $B$ 相似  \n",
    "（也就是存在可逆的 $Q$ 使得 $B = Q^{-1}AQ$），  \n",
    "則對每一個 $k = 0,\\ldots, n$ 都有 $S_k(B) = S_k(A)$。  \n",
    "\n",
    "因此我們也可以把任一線性函數 $f:V\\rightarrow V$ 的 $S_k(f)$ 定義成 $S_k([f]_\\beta^\\beta)$，  \n",
    "其中 $\\beta$ 可以是 $V$ 的任意基底。"
   ]
  },
  {
   "cell_type": "markdown",
   "metadata": {},
   "source": [
    "##### Exercise 8\n",
    "\n",
    "令 $A$ 與 $B$ 分別為 $m\\times n$ 與 $n\\times n$ 矩陣，且 $m\\leq n$。  \n",
    "若 $\\alpha\\subseteq [n]$ 是一些下標的集合，  \n",
    "定義 $A[:,\\alpha]$ 是由 $A$ 中 $\\alpha$ 裡的那些行所組成的 $m\\times |\\alpha|$ 矩陣，  \n",
    "而 $B[\\alpha,:]$ 是由 $B$ 中 $\\alpha$ 裡的那些列所組成的 $|\\alpha|\\times m$ 矩陣。  \n",
    "\n",
    "##### Theorem (Cauchy–Binet formula)\n",
    "\n",
    "$$\n",
    "    \\det(AB) = \\sum_{\\substack{\\alpha\\subseteq [n] \\\\ |\\alpha| = m}} \\det(A[:,\\alpha])\\det(B[\\alpha,:]).\n",
    "$$"
   ]
  },
  {
   "cell_type": "markdown",
   "metadata": {},
   "source": [
    "##### Exercise 8(a)\n",
    "\n",
    "令  \n",
    "$$\n",
    "    A = \\begin{bmatrix}\n",
    "    1 & 2 & 3 \\\\\n",
    "    4 & 5 & 6\n",
    "    \\end{bmatrix}\n",
    "    \\text{ and }\n",
    "    B = \\begin{bmatrix}\n",
    "    7 & 8 \\\\\n",
    "    9 & 10 \\\\\n",
    "    11 & 12\n",
    "    \\end{bmatrix}.\n",
    "$$\n",
    "對所有大小為 $2$ 的集合 $\\alpha\\subseteq [3]$，  \n",
    "求出所有的 $A[:,\\alpha]$ 及 $B[\\alpha,:]$，  \n",
    "並利用柯西比內公式計算 $AB$ 的行列式值。"
   ]
  },
  {
   "cell_type": "markdown",
   "metadata": {},
   "source": [
    "##### Exercise 8(b)\n",
    "\n",
    "令  \n",
    "$$\n",
    "    M = \\begin{bmatrix}\n",
    "    O_{n,n} & B \\\\\n",
    "    A & O_{m,m}\n",
    "    \\end{bmatrix}.\n",
    "$$\n",
    "利用 506-6 求出 $p_M(x)$ 的 $(-x)^{n-m}$ 項係數。"
   ]
  },
  {
   "cell_type": "markdown",
   "metadata": {},
   "source": [
    "##### Exercise 8(b)\n",
    "\n",
    "令  \n",
    "$$\n",
    "    M = \\begin{bmatrix}\n",
    "    O_{n,n} & B \\\\\n",
    "    A & O_{m,m}\n",
    "    \\end{bmatrix}.\n",
    "$$\n",
    "利用 $S_{2m}$ 的定義直接求出 $S_{2m}(M)$。  \n",
    "配合上一題證明柯西比內公式。"
   ]
  },
  {
   "cell_type": "markdown",
   "metadata": {},
   "source": [
    "##### Exercise 9\n",
    "\n",
    "令 $A$ 為一 $n\\times n$ 矩陣。  \n",
    "將 $p_A(x)$ 代入 $x = 0$ 可得  \n",
    "$$\n",
    "    S_n = p_A(0) = \\det(A - 0I) = \\det(A).\n",
    "$$\n",
    "類似地，我們可以利用 506-10 計算\n",
    "$$\n",
    "    S_{n-1} = -\\frac{dp_A(x)}{dx}\\Big|_{x=0} = \\sum_{i = 1}^n p_{A(i)}(x)\\Big|_{x=0} = \\sum_{i=1}^n\\det(A(i)).\n",
    "$$\n",
    "\n",
    "利用數學歸納法證明  \n",
    "$$\n",
    "    \\det(A - xI) = S_0(-x)^n + S_1(-x)^{n-1} + \\cdots + S_n.\n",
    "$$"
   ]
  }
 ],
 "metadata": {
  "kernelspec": {
   "display_name": "SageMath 9.4",
   "language": "sage",
   "name": "sagemath"
  },
  "language_info": {
   "codemirror_mode": {
    "name": "ipython",
    "version": 3
   },
   "file_extension": ".py",
   "mimetype": "text/x-python",
   "name": "python",
   "nbconvert_exporter": "python",
   "pygments_lexer": "ipython3",
   "version": "3.10.1"
  }
 },
 "nbformat": 4,
 "nbformat_minor": 4
}
