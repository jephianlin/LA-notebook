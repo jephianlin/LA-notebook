{
 "cells": [
  {
   "cell_type": "markdown",
   "metadata": {},
   "source": [
    "# 分配律、拉普拉斯展開"
   ]
  },
  {
   "cell_type": "markdown",
   "metadata": {},
   "source": [
    "![Creative Commons License](https://i.creativecommons.org/l/by/4.0/88x31.png)  \n",
    "This work by Jephian Lin is licensed under a [Creative Commons Attribution 4.0 International License](http://creativecommons.org/licenses/by/4.0/)."
   ]
  },
  {
   "cell_type": "markdown",
   "metadata": {},
   "source": [
    "$\\newcommand{\\trans}{^\\top}\n",
    "\\newcommand{\\adj}{^{\\rm adj}}\n",
    "\\newcommand{\\cof}{^{\\rm cof}}\n",
    "\\newcommand{\\inp}[2]{\\left\\langle#1,#2\\right\\rangle}\n",
    "\\newcommand{\\dunion}{\\mathbin{\\dot\\cup}}\n",
    "\\newcommand{\\bzero}{\\mathbf{0}}\n",
    "\\newcommand{\\bone}{\\mathbf{1}}\n",
    "\\newcommand{\\ba}{\\mathbf{a}}\n",
    "\\newcommand{\\bb}{\\mathbf{b}}\n",
    "\\newcommand{\\bc}{\\mathbf{c}}\n",
    "\\newcommand{\\bd}{\\mathbf{d}}\n",
    "\\newcommand{\\be}{\\mathbf{e}}\n",
    "\\newcommand{\\bh}{\\mathbf{h}}\n",
    "\\newcommand{\\bp}{\\mathbf{p}}\n",
    "\\newcommand{\\bq}{\\mathbf{q}}\n",
    "\\newcommand{\\br}{\\mathbf{r}}\n",
    "\\newcommand{\\bx}{\\mathbf{x}}\n",
    "\\newcommand{\\by}{\\mathbf{y}}\n",
    "\\newcommand{\\bz}{\\mathbf{z}}\n",
    "\\newcommand{\\bu}{\\mathbf{u}}\n",
    "\\newcommand{\\bv}{\\mathbf{v}}\n",
    "\\newcommand{\\bw}{\\mathbf{w}}\n",
    "\\newcommand{\\tr}{\\operatorname{tr}}\n",
    "\\newcommand{\\nul}{\\operatorname{null}}\n",
    "\\newcommand{\\rank}{\\operatorname{rank}}\n",
    "%\\newcommand{\\ker}{\\operatorname{ker}}\n",
    "\\newcommand{\\range}{\\operatorname{range}}\n",
    "\\newcommand{\\Col}{\\operatorname{Col}}\n",
    "\\newcommand{\\Row}{\\operatorname{Row}}\n",
    "\\newcommand{\\spec}{\\operatorname{spec}}\n",
    "\\newcommand{\\vspan}{\\operatorname{span}}\n",
    "\\newcommand{\\Vol}{\\operatorname{Vol}}\n",
    "\\newcommand{\\sgn}{\\operatorname{sgn}}\n",
    "\\newcommand{\\idmap}{\\operatorname{id}}\n",
    "\\newcommand{\\am}{\\operatorname{am}}\n",
    "\\newcommand{\\gm}{\\operatorname{gm}}\n",
    "\\newcommand{\\mult}{\\operatorname{mult}}\n",
    "\\newcommand{\\iner}{\\operatorname{iner}}$"
   ]
  },
  {
   "cell_type": "code",
   "execution_count": null,
   "metadata": {},
   "outputs": [],
   "source": [
    "from lingeo import random_int_list"
   ]
  },
  {
   "cell_type": "markdown",
   "metadata": {},
   "source": [
    "## Main idea"
   ]
  },
  {
   "cell_type": "markdown",
   "metadata": {},
   "source": [
    "The determinant function satisfies the **distributive law** on each row.  \n",
    "That is,  \n",
    "\n",
    "$$\n",
    "    \\det\\begin{bmatrix}\n",
    "     - & \\ba\\trans + \\bb\\trans & - \\\\\n",
    "     - & \\br_2\\trans & - \\\\\n",
    "     ~ & \\vdots & ~ \\\\\n",
    "     - & \\br_n\\trans & -\n",
    "    \\end{bmatrix} \n",
    "     = \n",
    "    \\det\\begin{bmatrix}\n",
    "     - & \\ba\\trans & - \\\\\n",
    "     - & \\br_2\\trans & - \\\\\n",
    "     ~ & \\vdots & ~ \\\\\n",
    "     - & \\br_n\\trans & -\n",
    "    \\end{bmatrix}\n",
    "    +\n",
    "    \\det\\begin{bmatrix}\n",
    "     - & \\bb\\trans & - \\\\\n",
    "     - & \\br_2\\trans & - \\\\\n",
    "     ~ & \\vdots & ~ \\\\\n",
    "     - & \\br_n\\trans & -\n",
    "    \\end{bmatrix}.\n",
    "$$\n",
    "\n",
    "Since one may swap two rows or take the transpose without chaning the determinant, the distributive law holds for any row and any column.  "
   ]
  },
  {
   "cell_type": "markdown",
   "metadata": {},
   "source": [
    "If we think of the determinant $\\det(A)$ as a function on $n$ row vectors $f(\\br_1,\\ldots,\\br_n)$,  \n",
    "then $f$ is linear on each vector individually.  \n",
    "That is,  \n",
    "\n",
    "$$\n",
    "    \\begin{aligned}\n",
    "    f( \\ldots, \\ba + \\bb, \\ldots ) &= f( \\ldots, \\ba, \\ldots ) + f( \\ldots, \\bb, \\ldots ), \\\\\n",
    "    f( \\ldots, k\\ba, \\ldots ) &= k f( \\ldots, \\ba, \\ldots ).\n",
    "    \\end{aligned}\n",
    "$$\n",
    "\n",
    "A function with this property is said to be **multilinear**."
   ]
  },
  {
   "cell_type": "markdown",
   "metadata": {},
   "source": [
    "Let $A = \\begin{bmatrix} a_{ij} \\end{bmatrix}$ be an $n\\times n$ matrix.  \n",
    "Let $\\br_1, \\ldots, \\br_n$ be the rows of $A$.  \n",
    "Define $A(i,j)$ as the submatrix obtained from $A$ by removing the $i$-th row and the $j$-th column.  "
   ]
  },
  {
   "cell_type": "markdown",
   "metadata": {},
   "source": [
    "By expanding the first row, we have  \n",
    "\n",
    "$$\n",
    "    \\begin{aligned}\n",
    "    \\det(A) &= \n",
    "    \\det\\begin{bmatrix}\n",
    "     a_{11} & \\cdots & a_{1n} \\\\\n",
    "     - & \\br_2\\trans & - \\\\\n",
    "     ~ & \\vdots & ~ \\\\\n",
    "     - & \\br_n\\trans & -\n",
    "    \\end{bmatrix} \\\\\n",
    "     &= \n",
    "    \\det\\begin{bmatrix}\n",
    "     a_{11} & 0 & \\cdots & ~ & 0 \\\\\n",
    "     - & ~ & \\br_2\\trans & ~ & - \\\\\n",
    "     ~ & ~ & \\vdots & ~ & ~ \\\\\n",
    "     - & ~ & \\br_n\\trans & ~ & -\n",
    "    \\end{bmatrix}\n",
    "    +\n",
    "    \\det\\begin{bmatrix}\n",
    "     0 & a_{12} & 0 & \\cdots & 0 \\\\\n",
    "     - & ~ & \\br_2\\trans & ~ & - \\\\\n",
    "     ~ & ~ & \\vdots & ~ & ~ \\\\\n",
    "     - & ~ & \\br_n\\trans & ~ & -\n",
    "    \\end{bmatrix}\n",
    "    +\n",
    "    \\det\\begin{bmatrix}\n",
    "     0 & \\cdots & ~ & 0 & a_{1n} \\\\\n",
    "     - & ~ & \\br_2\\trans & ~ & - \\\\\n",
    "     ~ & ~ & \\vdots & ~ & ~ \\\\\n",
    "     - & ~ & \\br_n\\trans & ~ & -\n",
    "    \\end{bmatrix} \\\\\n",
    "     &= \n",
    "    a_{11}\\det A(1,1) - a_{12}\\det A(1,2) + \\cdots + (-1)^{1+n}a_{1n}\\det A(1,n).\n",
    "    \\end{aligned}\n",
    "$$"
   ]
  },
  {
   "cell_type": "markdown",
   "metadata": {},
   "source": [
    "Again, this formula works for any row and column.  \n",
    "We may expand the $i$-th row and get  \n",
    "\n",
    "$$\n",
    "    \\det(A) = \\sum_{j=1}^n (-1)^{i + j} a_{ij} \\det A(i,j).\n",
    "$$\n",
    "\n",
    "The formula for expanding a column is similar.  \n",
    "This identity is called the **Laplace expansion**.  "
   ]
  },
  {
   "cell_type": "markdown",
   "metadata": {},
   "source": [
    "## Side stories\n",
    "\n",
    "- variable matrix\n",
    "- differentiation"
   ]
  },
  {
   "cell_type": "markdown",
   "metadata": {},
   "source": [
    "## Experiments"
   ]
  },
  {
   "cell_type": "markdown",
   "metadata": {},
   "source": [
    "##### Exercise 1\n",
    "\n",
    "執行以下程式碼。  \n",
    "\n",
    "<!-- eng start -->\n",
    "Run the code below.  \n",
    "<!-- eng end -->"
   ]
  },
  {
   "cell_type": "code",
   "execution_count": null,
   "metadata": {
    "scrolled": false
   },
   "outputs": [],
   "source": [
    "### code\n",
    "set_random_seed(0)\n",
    "print_ans = False\n",
    "\n",
    "n = 4\n",
    "A = matrix(n, random_int_list(n^2,3))\n",
    "\n",
    "expr = []\n",
    "dets = []\n",
    "for j in range(n):\n",
    "    expr.append(LatexExpr(r\"\\det\"))\n",
    "    B = copy(A)\n",
    "    for k in range(n):\n",
    "        if k != j:\n",
    "            B[0,k] = 0\n",
    "    dets.append(B.det())\n",
    "    expr.append(copy(B))\n",
    "    if j != n-1:\n",
    "        expr.append(LatexExpr(\"+\"))\n",
    "    \n",
    "print(\"n =\", n)\n",
    "pretty_print(LatexExpr(r\"\\det\"), A, LatexExpr(\"=\"), *expr)\n",
    "\n",
    "if print_ans:\n",
    "    print(\"%s = \"%A.det() + \" + \".join(\"%s\"%d for d in dets))"
   ]
  },
  {
   "cell_type": "markdown",
   "metadata": {},
   "source": [
    "##### Exercise 1(a)\n",
    "\n",
    "對每一個 $j = 1, ..., n$，  \n",
    "計算 $\\det A(1,j)$。  \n",
    "\n",
    "<!-- eng start -->\n",
    "For each $j = 1, ..., n$, find $\\det A(1,j)$.  \n",
    "<!-- eng end -->"
   ]
  },
  {
   "cell_type": "markdown",
   "metadata": {},
   "source": [
    "##### Exercise 1(b)\n",
    "\n",
    "計算題目給的等式中的每一個行列式值、  \n",
    "並驗證等式成立。  \n",
    "\n",
    "<!-- eng start -->\n",
    "Calculate each term in the equality and verify the equality holds.  \n",
    "<!-- eng end -->"
   ]
  },
  {
   "cell_type": "markdown",
   "metadata": {},
   "source": [
    "## Exercises"
   ]
  },
  {
   "cell_type": "markdown",
   "metadata": {},
   "source": [
    "##### Exercise 2\n",
    "\n",
    "以下題目探討矩陣中單一一項對行列式值的影響。  \n",
    "\n",
    "<!-- eng start -->\n",
    "The following problem studies how an entry of a matrix changees the determinant.  \n",
    "<!-- eng end -->"
   ]
  },
  {
   "cell_type": "markdown",
   "metadata": {},
   "source": [
    "##### Exercise 2(a)\n",
    "\n",
    "令  \n",
    "\n",
    "$$\n",
    "    A = \\begin{bmatrix}\n",
    "     1 + x & 2 & 3 \\\\\n",
    "     4 & 5 & 6 \\\\\n",
    "     7 & 8 & 9\n",
    "    \\end{bmatrix}.\n",
    "$$\n",
    "\n",
    "求 $\\det(A)$。\n",
    "\n",
    "<!-- eng start -->\n",
    "Let  \n",
    "\n",
    "$$\n",
    "    A = \\begin{bmatrix}\n",
    "     1 + x & 2 & 3 \\\\\n",
    "     4 & 5 & 6 \\\\\n",
    "     7 & 8 & 9\n",
    "    \\end{bmatrix}.\n",
    "$$\n",
    "\n",
    "Find $\\det(A)$.  \n",
    "<!-- eng end -->"
   ]
  },
  {
   "cell_type": "markdown",
   "metadata": {},
   "source": [
    "##### Exercise 2(b)\n",
    "\n",
    "觀察到 \n",
    "\n",
    "$$\n",
    "    (1+x,2,3) = (1,2,3) + (x,0,0).\n",
    "$$\n",
    "\n",
    "利用這個性質，  \n",
    "將 $\\det(A)$ 的常數項寫成一個 $3\\times 3$ 矩陣的行列式值、  \n",
    "並將其一次項寫成一個 $2\\times 2$ 矩陣的行列式值。  \n",
    "\n",
    "<!-- eng start -->\n",
    "Use the fact that  \n",
    "\n",
    "$$\n",
    "    (1+x,2,3) = (1,2,3) + (x,0,0)\n",
    "$$\n",
    "\n",
    "to write $\\det(A)$ as a polynomial of degree $2$ such that its constant term is the determinant of a $3\\times 3$ matrix while its linear term is the determinant of a $2\\times 2$ matrix.  \n",
    "<!-- eng end -->"
   ]
  },
  {
   "cell_type": "markdown",
   "metadata": {},
   "source": [
    "##### Exercise 2(c)\n",
    "\n",
    "把 $\\det(A)$ 看成 $x$ 的函數，求 $\\frac{d\\det(A)}{dx}$。  \n",
    "\n",
    "搭配上一題，  \n",
    "這說明當一個矩陣 $A$ 的 $i,j$-項增加 $x$ 的時候，  \n",
    "其行列式值會增加 $x\\cdot (-1)^{i+j}\\det A(i,j)$。  \n",
    "\n",
    "<!-- eng start -->\n",
    "Consider $\\det(A)$ as a function of $x$.  Find $\\frac{d\\det(A)}{dx}$.  \n",
    "\n",
    "Use the result of the previous problem, explain the determinant of $A$ increases by $x\\cdot (-1)^{i+j}\\det A(i,j)$ when its $i,j$-entry increases by $x$.  \n",
    "<!-- eng end -->"
   ]
  },
  {
   "cell_type": "markdown",
   "metadata": {},
   "source": [
    "##### Exercise 3\n",
    "\n",
    "對以下 $n\\times n$ 矩陣，  \n",
    "將每列寫成兩個向量相加，  \n",
    "其中一個向量只有常數，另一個向量只有 $x$。  \n",
    "\n",
    "如此可以將 $\\det(A)$ 寫成 $2^n$ 個行列式值相加。  \n",
    "計算這些行列式值並計算 $\\det(A)$。  \n",
    "\n",
    "<!-- eng start -->\n",
    "For each of the following $n\\times n$ matrix, write each row as a sum of two vectors, where one is composed of constants only, while the other is composed of linear terms.  \n",
    "\n",
    "Thus, we may write $\\det(A)$ as the sum of $2^n$ determinants.  Calculate each of them to find $\\det(A)$.  \n",
    "<!-- eng end -->"
   ]
  },
  {
   "cell_type": "markdown",
   "metadata": {},
   "source": [
    "##### Exercise 3(a)\n",
    "\n",
    "$$\n",
    "    A = \\begin{bmatrix}\n",
    "     1 - x & 2 \\\\\n",
    "     3 & 4 - x\n",
    "    \\end{bmatrix}.\n",
    "$$"
   ]
  },
  {
   "cell_type": "markdown",
   "metadata": {},
   "source": [
    "##### Exercise 3(b)\n",
    "\n",
    "$$\n",
    "    A = \\begin{bmatrix}\n",
    "     1 - x & 2 & 3 \\\\\n",
    "     4 & 5 - x & 6 \\\\\n",
    "     7 & 8 & 9 - x\n",
    "    \\end{bmatrix}.\n",
    "$$"
   ]
  },
  {
   "cell_type": "markdown",
   "metadata": {},
   "source": [
    "##### Exercise 4\n",
    "\n",
    "令  \n",
    "$$\n",
    "    A = \\begin{bmatrix}\n",
    "     a & b & c & d \\\\\n",
    "     e & f & g & h \\\\\n",
    "     i & j & k & \\ell \\\\\n",
    "     m & n & o & p\n",
    "    \\end{bmatrix}.\n",
    "$$\n",
    "求 $\\det(A)$。  "
   ]
  },
  {
   "cell_type": "markdown",
   "metadata": {},
   "source": [
    "##### Exercise 5\n",
    "\n",
    "給定向量 $\\ba$、$\\bb$、以及 $\\br_2,\\ldots,\\br_n$。  \n",
    "令  \n",
    "\n",
    "$$\n",
    "    M = \\begin{bmatrix}\n",
    "     - & \\ba\\trans + \\bb\\trans & - \\\\\n",
    "     - & \\br_2\\trans & - \\\\\n",
    "     ~ & \\vdots & ~ \\\\\n",
    "     - & \\br_n\\trans & -\n",
    "    \\end{bmatrix}\n",
    "    ,\\quad \n",
    "    A = \\begin{bmatrix}\n",
    "     - & \\ba\\trans & - \\\\\n",
    "     - & \\br_2\\trans & - \\\\\n",
    "     ~ & \\vdots & ~ \\\\\n",
    "     - & \\br_n\\trans & -\n",
    "    \\end{bmatrix}\n",
    "    ,\\text{ and}\\quad\n",
    "    B = \\begin{bmatrix}\n",
    "     - & \\bb\\trans & - \\\\\n",
    "     - & \\br_2\\trans & - \\\\\n",
    "     ~ & \\vdots & ~ \\\\\n",
    "     - & \\br_n\\trans & -\n",
    "    \\end{bmatrix}.\n",
    "$$\n",
    "\n",
    "依照以下步驟證明行列式值的分配律 $\\det(M) = \\det(A) + \\det(B)$。  \n",
    "\n",
    "<!-- eng start -->\n",
    "Let $\\ba$, $\\bb$, and $\\br_2, \\ldots, \\br_n$ be some vectors.  \n",
    "Let  \n",
    "\n",
    "$$\n",
    "    M = \\begin{bmatrix}\n",
    "     - & \\ba\\trans + \\bb\\trans & - \\\\\n",
    "     - & \\br_2\\trans & - \\\\\n",
    "     ~ & \\vdots & ~ \\\\\n",
    "     - & \\br_n\\trans & -\n",
    "    \\end{bmatrix}\n",
    "    ,\\quad \n",
    "    A = \\begin{bmatrix}\n",
    "     - & \\ba\\trans & - \\\\\n",
    "     - & \\br_2\\trans & - \\\\\n",
    "     ~ & \\vdots & ~ \\\\\n",
    "     - & \\br_n\\trans & -\n",
    "    \\end{bmatrix}\n",
    "    ,\\text{ and}\\quad\n",
    "    B = \\begin{bmatrix}\n",
    "     - & \\bb\\trans & - \\\\\n",
    "     - & \\br_2\\trans & - \\\\\n",
    "     ~ & \\vdots & ~ \\\\\n",
    "     - & \\br_n\\trans & -\n",
    "    \\end{bmatrix}.\n",
    "$$\n",
    "\n",
    "Follow the steps below to show the distributive law of the determinant, that is, $\\det(M) = \\det(A) + \\det(B)$.  \n",
    "<!-- eng end -->"
   ]
  },
  {
   "cell_type": "markdown",
   "metadata": {},
   "source": [
    "##### Exercise 5(a)\n",
    "\n",
    "證明當 $\\{\\br_2,\\ldots,\\br_n\\}$ 線性相依的時候，$\\det(M) = \\det(A) = \\det(B) = 0$。  \n",
    "因此等式成立。  \n",
    "\n",
    "<!-- eng start -->\n",
    "Show that $\\det(M) = \\det(A) = \\det(B) = 0$ when $\\{\\br_2,\\ldots,\\br_n\\}$ is linearly dependent, so the equality holds.  \n",
    "<!-- eng end -->"
   ]
  },
  {
   "cell_type": "markdown",
   "metadata": {},
   "source": [
    "##### Exercise 5(b)\n",
    "\n",
    "假設 $\\{\\br_2,\\ldots,\\br_n\\}$ 線性獨立。  \n",
    "找一個向量 $\\br_1$ 使得 $\\beta = \\{\\br_1,\\br_2,\\ldots,\\br_n\\}$ 是 $\\mathbb{R}^n$ 的一組基底。  \n",
    "因此可以將 $\\ba$ 和 $\\bb$ 寫成 $\\beta$ 的線性組合：  \n",
    "\n",
    "$$\n",
    "    \\begin{aligned}\n",
    "    \\ba &= a_1\\br_1 + \\cdots + a_n\\br_n \\\\\n",
    "    \\bb &= b_1\\br_1 + \\cdots + b_n\\br_n\n",
    "    \\end{aligned}\n",
    "$$\n",
    "\n",
    "藉由列運算說明行列式值的分配律成立。  \n",
    "\n",
    "<!-- eng start -->\n",
    "Suppose $\\{\\br_2,\\ldots,\\br_n\\}$ is linearly independent.  Find a vector $\\br_1$ such that $\\beta = \\{\\br_1,\\br_2,\\ldots,\\br_n\\}$ is a basis of $\\mathbb{R}^n$.  Thus, both $\\ba$ and $\\bb$ can be written as linear combinations of $\\beta$:\n",
    "\n",
    "$$\n",
    "    \\begin{aligned}\n",
    "    \\ba &= a_1\\br_1 + \\cdots + a_n\\br_n \\\\\n",
    "    \\bb &= b_1\\br_1 + \\cdots + b_n\\br_n\n",
    "    \\end{aligned}\n",
    "$$\n",
    "\n",
    "Use row operations to show the distributive law in this case.  \n",
    "<!-- eng end -->"
   ]
  }
 ],
 "metadata": {
  "kernelspec": {
   "display_name": "SageMath 9.7",
   "language": "sage",
   "name": "sagemath"
  },
  "language_info": {
   "codemirror_mode": {
    "name": "ipython",
    "version": 3
   },
   "file_extension": ".py",
   "mimetype": "text/x-python",
   "name": "python",
   "nbconvert_exporter": "python",
   "pygments_lexer": "ipython3",
   "version": "3.10.8"
  }
 },
 "nbformat": 4,
 "nbformat_minor": 4
}
