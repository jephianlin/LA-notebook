{
 "cells": [
  {
   "cell_type": "markdown",
   "metadata": {},
   "source": [
    "# $\\mathbb{R}^n$ 中的仿射子空間\n",
    "\n",
    "Affine subspaces in $\\mathbb{R}^n$"
   ]
  },
  {
   "cell_type": "markdown",
   "metadata": {},
   "source": [
    "![Creative Commons License](https://i.creativecommons.org/l/by/4.0/88x31.png)  \n",
    "This work by Jephian Lin is licensed under a [Creative Commons Attribution 4.0 International License](http://creativecommons.org/licenses/by/4.0/)."
   ]
  },
  {
   "cell_type": "markdown",
   "metadata": {},
   "source": [
    "$\\newcommand{\\trans}{^\\top}\n",
    "\\newcommand{\\adj}{^{\\rm adj}}\n",
    "\\newcommand{\\cof}{^{\\rm cof}}\n",
    "\\newcommand{\\inp}[2]{\\left\\langle#1,#2\\right\\rangle}\n",
    "\\newcommand{\\dunion}{\\mathbin{\\dot\\cup}}\n",
    "\\newcommand{\\bzero}{\\mathbf{0}}\n",
    "\\newcommand{\\bone}{\\mathbf{1}}\n",
    "\\newcommand{\\ba}{\\mathbf{a}}\n",
    "\\newcommand{\\bb}{\\mathbf{b}}\n",
    "\\newcommand{\\bc}{\\mathbf{c}}\n",
    "\\newcommand{\\bd}{\\mathbf{d}}\n",
    "\\newcommand{\\be}{\\mathbf{e}}\n",
    "\\newcommand{\\bh}{\\mathbf{h}}\n",
    "\\newcommand{\\bp}{\\mathbf{p}}\n",
    "\\newcommand{\\bq}{\\mathbf{q}}\n",
    "\\newcommand{\\br}{\\mathbf{r}}\n",
    "\\newcommand{\\bx}{\\mathbf{x}}\n",
    "\\newcommand{\\by}{\\mathbf{y}}\n",
    "\\newcommand{\\bz}{\\mathbf{z}}\n",
    "\\newcommand{\\bu}{\\mathbf{u}}\n",
    "\\newcommand{\\bv}{\\mathbf{v}}\n",
    "\\newcommand{\\bw}{\\mathbf{w}}\n",
    "\\newcommand{\\tr}{\\operatorname{tr}}\n",
    "\\newcommand{\\nul}{\\operatorname{null}}\n",
    "\\newcommand{\\rank}{\\operatorname{rank}}\n",
    "%\\newcommand{\\ker}{\\operatorname{ker}}\n",
    "\\newcommand{\\range}{\\operatorname{range}}\n",
    "\\newcommand{\\Col}{\\operatorname{Col}}\n",
    "\\newcommand{\\Row}{\\operatorname{Row}}\n",
    "\\newcommand{\\spec}{\\operatorname{spec}}\n",
    "\\newcommand{\\vspan}{\\operatorname{span}}\n",
    "\\newcommand{\\Vol}{\\operatorname{Vol}}\n",
    "\\newcommand{\\sgn}{\\operatorname{sgn}}\n",
    "\\newcommand{\\idmap}{\\operatorname{id}}\n",
    "\\newcommand{\\am}{\\operatorname{am}}\n",
    "\\newcommand{\\gm}{\\operatorname{gm}}\n",
    "\\newcommand{\\mult}{\\operatorname{mult}}\n",
    "\\newcommand{\\iner}{\\operatorname{iner}}$"
   ]
  },
  {
   "cell_type": "code",
   "execution_count": null,
   "metadata": {},
   "outputs": [],
   "source": [
    "from lingeo import random_int_list, draw_span"
   ]
  },
  {
   "cell_type": "markdown",
   "metadata": {},
   "source": [
    "## Main idea"
   ]
  },
  {
   "cell_type": "markdown",
   "metadata": {},
   "source": [
    "An **affine subspace** in $\\mathbb{R}^n$ is a subset of $\\mathbb{R}^n$ of the form  \n",
    "$$\\bp + V = \\{\\bp + \\bv: \\bv \\in V\\},$$\n",
    "where $\\bp$ is a vector and $V$ is a subspace in $\\mathbb{R}^n$.  \n",
    "An affine subspace is a subspace if and only if it contains the origin $\\bzero$."
   ]
  },
  {
   "cell_type": "markdown",
   "metadata": {},
   "source": [
    "Let $U$ be an affine subspace in $\\mathbb{R}^n$.  \n",
    "Then $U = \\bp + V$ for some vector $\\bp$ and some subspace if and only if  \n",
    "$\\bp$ is a vector in $U$ and $V = \\{\\bp_1 - \\bp_2: \\bp_1,\\bp_2\\in U\\}$."
   ]
  },
  {
   "cell_type": "markdown",
   "metadata": {},
   "source": [
    "## Side stories\n",
    "- element + set\n",
    "- choice of the representative"
   ]
  },
  {
   "cell_type": "markdown",
   "metadata": {},
   "source": [
    "## Experiments"
   ]
  },
  {
   "cell_type": "markdown",
   "metadata": {},
   "source": [
    "##### Exercise 1\n",
    "\n",
    "執行下方程式碼。  \n",
    "原點為橘色點、$\\bp$ 為橘色向量、  \n",
    "從 $\\bp$ 的終點延伸出去的紅色向量和淡藍色向量分別為 $\\bu_1$ 和 $\\bu_2$。  \n",
    "黑色向量為 $\\bb$。  \n",
    "問 $\\bb$ 是否是落在 $\\bp + \\vspan(\\{\\bu_1, \\bu_2\\})$？  \n",
    "若是，求 $c_1,c_2$ 使得 $\\bb = \\bp + c_1\\bu_1 + c_2\\bu_2$。\n",
    "\n",
    "<!-- eng start -->\n",
    "Run the code below.  Let the origin be the orange point and $\\bp$ the orange vector.  Let $\\bu_1$ and $\\bu_2$ be the red and lightblue vectors whose tails at $\\bp$.  Is $\\bb$ in $\\bp + \\vspan(\\{\\bu_1, \\bu_2\\})$?  If yes, find $c_1$ and $c_2$ so that $\\bb = \\bp + c_1\\bu_1 + c_2\\bu_2$.\n",
    "<!-- eng end -->"
   ]
  },
  {
   "cell_type": "code",
   "execution_count": null,
   "metadata": {
    "scrolled": false
   },
   "outputs": [],
   "source": [
    "### code\n",
    "set_random_seed(0)\n",
    "print_ans = False\n",
    "while True:\n",
    "    l = random_int_list(9)\n",
    "    A = matrix(3, l)\n",
    "    if A.det() != 0:\n",
    "        break\n",
    "u1 = vector(A[0])\n",
    "u2 = vector(A[1])\n",
    "u3 = vector(A[2])\n",
    "p = vector(random_int_list(3))        \n",
    "\n",
    "inside = choice([0,1,1])\n",
    "coefs = random_int_list(2, 2)\n",
    "if inside:\n",
    "    b = p + coefs[0]*u1 + coefs[1]*u2\n",
    "else:\n",
    "    b = p + coefs[0]*u1 + coefs[1]*u2 + 3*u3\n",
    "    \n",
    "print(\"p =\", p)\n",
    "print(\"u1 =\", u1)\n",
    "print(\"u2 =\", u2)\n",
    "print(\"b =\", b)\n",
    "\n",
    "pic = draw_span([u1,u2], p)\n",
    "pic += arrow((0,0,0), b, width=5, color=\"black\")\n",
    "show(pic)\n",
    "\n",
    "if print_ans:\n",
    "    if inside:\n",
    "        print(\"b is on Col(A) since b = %s u1 + %s u2.\"%(coefs[0], coefs[1]))\n",
    "    else:\n",
    "        print(\"b is not on Col(A).\")"
   ]
  },
  {
   "cell_type": "markdown",
   "metadata": {},
   "source": [
    "## Exercises"
   ]
  },
  {
   "cell_type": "markdown",
   "metadata": {},
   "source": [
    "##### Exercise 2\n",
    "\n",
    "若 $S$ 為一實數的集合、$p$ 為一實數。  \n",
    "我們定義 $p + S = \\{p + s: s\\in S\\}$。  \n",
    "\n",
    "<!-- eng start -->\n",
    "Let $S$ be a subset in $\\mathbb{R}$ and $p$ a real number.  Define $p + S = \\{p + s: s\\in S\\}$.\n",
    "<!-- eng end -->"
   ]
  },
  {
   "cell_type": "markdown",
   "metadata": {},
   "source": [
    "##### Exercise 2(a)\n",
    "\n",
    "執行以下程式碼。  \n",
    "算出 $p + S$。  \n",
    "\n",
    "<!-- eng start -->\n",
    "Run the code below.  Find $p + S$.\n",
    "<!-- eng end -->"
   ]
  },
  {
   "cell_type": "code",
   "execution_count": null,
   "metadata": {},
   "outputs": [],
   "source": [
    "### code\n",
    "set_random_seed(0)\n",
    "print_ans = False\n",
    "nums = list(range(-20,21))\n",
    "p = choice(nums)\n",
    "while True:\n",
    "    S = [choice(nums) for _ in range(5)]\n",
    "    if len(set(S)) == len(S):\n",
    "        break\n",
    "        \n",
    "print(\"p =\", p)\n",
    "print(\"S =\", S)\n",
    "\n",
    "if print_ans:\n",
    "    print(\"p + S =\", [p + s for s in S])"
   ]
  },
  {
   "cell_type": "markdown",
   "metadata": {},
   "source": [
    "##### Exercise 2(b)\n",
    "\n",
    "令 $3\\mathbb{Z} = \\{3k: k \\in \\mathbb{Z}\\}$。  \n",
    "寫出 $1 + 3\\mathbb{Z}$ 和 $-2 + 3\\mathbb{Z}$﹐  \n",
    "並觀察它兩者是否一樣。  \n",
    "\n",
    "<!-- eng start -->\n",
    "Let $3\\mathbb{Z} = \\{3k: k \\in \\mathbb{Z}\\}$.  Examine the sets $1 + 3\\mathbb{Z}$ and $-2 + 3\\mathbb{Z}$ and check if they are the same.\n",
    "<!-- eng end -->"
   ]
  },
  {
   "cell_type": "markdown",
   "metadata": {},
   "source": [
    "##### Exercise 2(c)\n",
    "\n",
    "若 $U = 1 + 3\\mathbb{Z}$。  \n",
    "說明 $\\{p_1 - p_2: p_1, p_2 \\in U\\} = \\mathbb{Z}$。  \n",
    "\n",
    "<!-- eng start -->\n",
    "Let $U = 1 + 3\\mathbb{Z}$.  Show that $\\{p_1 - p_2: p_1, p_2 \\in U\\} = \\mathbb{Z}$.  \n",
    "<!-- eng end -->"
   ]
  },
  {
   "cell_type": "markdown",
   "metadata": {},
   "source": [
    "##### Exercise 3\n",
    "\n",
    "令 $U = \\left\\{\\begin{bmatrix}x\\\\y\\\\z\\end{bmatrix} : x + y + z = 3\\right\\}$。  \n",
    "\n",
    "<!-- eng start -->\n",
    "Let $U = \\left\\{\\begin{bmatrix}x\\\\y\\\\z\\end{bmatrix} : x + y + z = 3\\right\\}$.  \n",
    "<!-- eng end -->"
   ]
  },
  {
   "cell_type": "markdown",
   "metadata": {},
   "source": [
    "##### Exercise 3(a)\n",
    "\n",
    "找一群 $\\mathbb{R}^3$ 中的向量 $\\bp$、$\\bu_1$、$\\bu_2$﹐  \n",
    "使得 $U = \\bp + \\vspan(\\{\\bu_1, \\bu_2\\})$。  \n",
    "\n",
    "<!-- eng start -->\n",
    "Find some vectors $\\bp$, $\\bu_1$, and $\\bu_2$ such that $U = \\bp + \\vspan(\\{\\bu_1, \\bu_2\\})$.\n",
    "<!-- eng end -->"
   ]
  },
  {
   "cell_type": "markdown",
   "metadata": {},
   "source": [
    "##### Exercise 3(b)\n",
    "\n",
    "驗證 $V = \\{\\bp_1 - \\bp_2 : \\bp_1,\\bp_2 \\in U\\}$ 是一個子空間  \n",
    "（它非空、對純量乘法和向量加法有封閉性）。  \n",
    "因此 $U$ 可以寫成 $U = \\bp + V$，  \n",
    "其中 $\\bp$ 可以取為 $U$ 中的任一向量。  \n",
    "\n",
    "<!-- eng start -->\n",
    "Show that $V = \\{\\bp_1 - \\bp_2 : \\bp_1,\\bp_2 \\in U\\}$ is a subspace.  (That is, verify it is an non-empty set closed under scalar multiplication and addition.)  Therefore, $U$ can be written as $U = \\bp + V$, where $\\bp$ can be any vector in $U$.\n",
    "<!-- eng end -->"
   ]
  },
  {
   "cell_type": "markdown",
   "metadata": {},
   "source": [
    "##### Exercise 3(c)\n",
    "\n",
    "證明任一個超平面  \n",
    "\n",
    "$$\n",
    "    \\{ \\bv\\in\\mathbb{R}^n : \\inp{\\br}{\\bv} = b \\}\n",
    "$$  \n",
    "\n",
    "（其中 $\\br\\in\\mathbb{R}^n$、$b\\in\\mathbb{R}$）\n",
    "都是一個仿射子空間。  \n",
    "而且 $\\bp$ 和 $V = \\{\\bp_1 - \\bp_2 : \\bp_1,\\bp_2 \\in U\\}$ 中的所有向量垂直﹐  \n",
    "因此它是 $U$ 的法向量。  \n",
    "\n",
    "<!-- eng start -->\n",
    "Show that any hyperplane \n",
    "\n",
    "$$\n",
    "    \\{ \\bv\\in\\mathbb{R}^n : \\inp{\\br}{\\bv} = b \\},\n",
    "$$  \n",
    "\n",
    "where $\\br\\in\\mathbb{R}^n$ and $b\\in\\mathbb{R}$, is an affine subspace.  Moreover, $\\bp$ is orthogonal to any vector in $V = \\{\\bp_1 - \\bp_2 : \\bp_1,\\bp_2 \\in U\\}$.  Therefore, $\\bp$ is the normal vector of $U$.\n",
    "<!-- eng end -->"
   ]
  },
  {
   "cell_type": "markdown",
   "metadata": {},
   "source": [
    "##### Exercise 4\n",
    "\n",
    "令 $U = \\left\\{\\begin{bmatrix}x\\\\y\\\\z\\\\w\\end{bmatrix} :  \n",
    "\\begin{array}{ccccc} \n",
    "x & +y &   & +w & = 3 \\\\\n",
    "  &    & z & +w & = 2 \\\\\n",
    "\\end{array}\\right\\}$。  \n",
    "找一群 $\\mathbb{R}^4$ 中的向量 $\\bp$、$\\bu_1$、$\\bu_2$﹐  \n",
    "使得 $U = \\bp + \\vspan(\\{\\bu_1, \\bu_2\\})$。  \n",
    "（因此這組方程式的解形成一個仿射子空間。）\n",
    "\n",
    "<!-- eng start -->\n",
    "Let $U = \\left\\{\\begin{bmatrix}x\\\\y\\\\z\\\\w\\end{bmatrix} :  \n",
    "\\begin{array}{ccccc} \n",
    "x & +y &   & +w & = 3 \\\\\n",
    "  &    & z & +w & = 2 \\\\\n",
    "\\end{array}\\right\\}$.  Find some vectors $\\bp$, $\\bu_1$, and $\\bu_2$ in $\\mathbb{R}^4$ so that $U = \\bp + \\vspan(\\{\\bu_1, \\bu_2\\})$.  (Therefore, the solution set of this system of linear equations is an affine subspace.)  \n",
    "<!-- eng end -->"
   ]
  },
  {
   "cell_type": "markdown",
   "metadata": {},
   "source": [
    "##### Exercise 5\n",
    "\n",
    "令 $U$ 為 $\\mathbb{R}^n$ 中的仿射子空間。  \n",
    "\n",
    "<!-- eng start -->\n",
    "Let $U$ be an affine subspace in $\\mathbb{R}^n$.  \n",
    "<!-- eng end -->"
   ]
  },
  {
   "cell_type": "markdown",
   "metadata": {},
   "source": [
    "##### Exercise 5(a)\n",
    "\n",
    "若 $V$ 為 $\\mathbb{R}^n$ 中的一子空間、  \n",
    "$\\bp_1$ 和 $\\bp_2$ 為 $\\mathbb{R}^n$ 中的向量。  \n",
    "證明以下敘述等價：  \n",
    "\n",
    "1. $\\bp_1 + V = \\bp_2 + V$.  \n",
    "2. $\\bp_1 - \\bp_2 \\in V$.\n",
    "\n",
    "<!-- eng start -->\n",
    "Let $V$ be a subspace in $\\mathbb{R}^n$.  Let $\\bp_1$ and $\\bp_2$ be vectors in $\\mathbb{R}^n$.  Show that the following are equivalent:\n",
    "\n",
    "1. $\\bp_1 + V = \\bp_2 + V$.  \n",
    "2. $\\bp_1 - \\bp_2 \\in V$.\n",
    "<!-- eng end -->"
   ]
  },
  {
   "cell_type": "markdown",
   "metadata": {},
   "source": [
    "##### Exercise 5(b)\n",
    "\n",
    "若 $U$ 可以寫為 $\\bp + V$，  \n",
    "其中 $\\bp\\in\\mathbb{R}^n$ 且 $V$ 為 $\\mathbb{R}^n$ 中的一子空間。  \n",
    "\n",
    "證明 $V = \\{\\bp_1 - \\bp_2 : \\bp_1,\\bp_2 \\in U\\}$  \n",
    "且 $\\bp$ 可以選為 $U$ 中的任一元素。  \n",
    "\n",
    "<!-- eng start -->\n",
    "Suppose $U$ can be written as $\\bp + V$, where $\\bp\\in\\mathbb{R}^n$ and $V$ a subspace in $\\mathbb{R}^n$.  Show that $V = \\{\\bp_1 - \\bp_2 : \\bp_1,\\bp_2 \\in U\\}$.  Also, $\\bp$ can be chosen as any vector in $U$. \n",
    "<!-- eng end -->"
   ]
  }
 ],
 "metadata": {
  "kernelspec": {
   "display_name": "SageMath 9.6",
   "language": "sage",
   "name": "sagemath"
  },
  "language_info": {
   "codemirror_mode": {
    "name": "ipython",
    "version": 3
   },
   "file_extension": ".py",
   "mimetype": "text/x-python",
   "name": "python",
   "nbconvert_exporter": "python",
   "pygments_lexer": "ipython3",
   "version": "3.10.5"
  }
 },
 "nbformat": 4,
 "nbformat_minor": 4
}
