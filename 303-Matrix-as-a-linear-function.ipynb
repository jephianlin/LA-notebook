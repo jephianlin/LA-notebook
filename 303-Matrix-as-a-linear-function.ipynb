{
 "cells": [
  {
   "cell_type": "markdown",
   "metadata": {},
   "source": [
    "# 將矩陣視為線性函數"
   ]
  },
  {
   "cell_type": "markdown",
   "metadata": {},
   "source": [
    "![Creative Commons License](https://i.creativecommons.org/l/by/4.0/88x31.png)  \n",
    "This work by Jephian Lin is licensed under a [Creative Commons Attribution 4.0 International License](http://creativecommons.org/licenses/by/4.0/)."
   ]
  },
  {
   "cell_type": "markdown",
   "metadata": {},
   "source": [
    "$\\newcommand{\\trans}{^\\top}\n",
    "\\newcommand{\\adj}{^{\\rm adj}}\n",
    "\\newcommand{\\cof}{^{\\rm cof}}\n",
    "\\newcommand{\\inp}[2]{\\left\\langle#1,#2\\right\\rangle}\n",
    "\\newcommand{\\dunion}{\\mathbin{\\dot\\cup}}\n",
    "\\newcommand{\\bzero}{\\mathbf{0}}\n",
    "\\newcommand{\\bone}{\\mathbf{1}}\n",
    "\\newcommand{\\ba}{\\mathbf{a}}\n",
    "\\newcommand{\\bb}{\\mathbf{b}}\n",
    "\\newcommand{\\bc}{\\mathbf{c}}\n",
    "\\newcommand{\\bd}{\\mathbf{d}}\n",
    "\\newcommand{\\be}{\\mathbf{e}}\n",
    "\\newcommand{\\bh}{\\mathbf{h}}\n",
    "\\newcommand{\\bp}{\\mathbf{p}}\n",
    "\\newcommand{\\bq}{\\mathbf{q}}\n",
    "\\newcommand{\\br}{\\mathbf{r}}\n",
    "\\newcommand{\\bx}{\\mathbf{x}}\n",
    "\\newcommand{\\by}{\\mathbf{y}}\n",
    "\\newcommand{\\bz}{\\mathbf{z}}\n",
    "\\newcommand{\\bu}{\\mathbf{u}}\n",
    "\\newcommand{\\bv}{\\mathbf{v}}\n",
    "\\newcommand{\\bw}{\\mathbf{w}}\n",
    "\\newcommand{\\tr}{\\operatorname{tr}}\n",
    "\\newcommand{\\nul}{\\operatorname{null}}\n",
    "\\newcommand{\\rank}{\\operatorname{rank}}\n",
    "%\\newcommand{\\ker}{\\operatorname{ker}}\n",
    "\\newcommand{\\range}{\\operatorname{range}}\n",
    "\\newcommand{\\Col}{\\operatorname{Col}}\n",
    "\\newcommand{\\Row}{\\operatorname{Row}}\n",
    "\\newcommand{\\spec}{\\operatorname{spec}}\n",
    "\\newcommand{\\vspan}{\\operatorname{span}}\n",
    "\\newcommand{\\Vol}{\\operatorname{Vol}}\n",
    "\\newcommand{\\sgn}{\\operatorname{sgn}}\n",
    "\\newcommand{\\idmap}{\\operatorname{id}}\n",
    "\\newcommand{\\am}{\\operatorname{am}}\n",
    "\\newcommand{\\gm}{\\operatorname{gm}}\n",
    "\\newcommand{\\mult}{\\operatorname{mult}}\n",
    "\\newcommand{\\iner}{\\operatorname{iner}}$"
   ]
  },
  {
   "cell_type": "code",
   "execution_count": null,
   "metadata": {},
   "outputs": [],
   "source": [
    "from lingeo import random_int_list, random_good_matrix, kernel_matrix, row_space_matrix, left_kernel_matrix"
   ]
  },
  {
   "cell_type": "markdown",
   "metadata": {},
   "source": [
    "## Main idea"
   ]
  },
  {
   "cell_type": "markdown",
   "metadata": {},
   "source": [
    "Let $A$ be an $m\\times n$ matrix.  \n",
    "Then \n",
    "$$\\begin{aligned} \n",
    " f_A: \\mathbb{R}^n &\\rightarrow \\mathbb{R}^m \\\\\n",
    "  \\bu &\\mapsto A\\bu \n",
    "\\end{aligned}$$  \n",
    "defines a linear function.  \n",
    "With this connection,  \n",
    "- $\\range(f_A) = \\Col(A)$,  \n",
    "- $\\ker(f_A) = \\ker(A)$, \n",
    "- $\\rank(f_A) = \\rank(A)$, \n",
    "- $\\nul(f_A) = \\nul(A)$.  "
   ]
  },
  {
   "cell_type": "markdown",
   "metadata": {},
   "source": [
    "By the dimension theorem, the following are equivalent:  \n",
    "1. $f_A$ is injective.  \n",
    "2. $\\nul(A) = 0$.  \n",
    "3. $\\rank(A) = n$.  "
   ]
  },
  {
   "cell_type": "markdown",
   "metadata": {},
   "source": [
    "On the other hand, $f_A$ is surjective if and only if $\\rank(A) = m$.  "
   ]
  },
  {
   "cell_type": "markdown",
   "metadata": {},
   "source": [
    "Therefore, the inverse of $f_A$ exists only when $\\rank(A) = m = n$.  \n",
    "When the inverse function exists, $f_A^{-1} = f_{A^{-1}}$.  "
   ]
  },
  {
   "cell_type": "markdown",
   "metadata": {},
   "source": [
    "Let $I_n$ be the identity matrix.  \n",
    "Then $f_{I_n} = \\idmap_{\\mathbb{R}^n}$.  "
   ]
  },
  {
   "cell_type": "markdown",
   "metadata": {},
   "source": [
    "Let $\\mathcal{E}_n = \\{ \\be_1, \\ldots, \\be_n \\}$ be the standard basis of $\\mathbb{R}^n$.  \n",
    "Let  \n",
    "$$D = \\begin{bmatrix}  \n",
    " d_1 & ~ & ~ \\\\\n",
    " ~ & \\ddots & ~ \\\\\n",
    " ~ & ~ & d_n \\\\\n",
    "\\end{bmatrix}$$\n",
    "be an $n\\times n$ diagonal matrix.  \n",
    "Then $f_D$ is a scaling function that satisfying  \n",
    "$$\\begin{array}{ccc}  \n",
    " \\be_1 &\\mapsto & d_1\\be_1, \\\\\n",
    "  &\\vdots & \\\\\n",
    " \\be_n &\\mapsto & d_n\\be_n. \\\\\n",
    "\\end{array}$$"
   ]
  },
  {
   "cell_type": "markdown",
   "metadata": {},
   "source": [
    "In particular, if $A$ is a diagonal matrix whose diagonal entries are $1$ or $0$, then $f_A$ is a projection.  \n",
    "If $A$ is a diagonal matrix whose diagonal entries are $1$ or $-1$, then $f_A$ is a reflection.  "
   ]
  },
  {
   "cell_type": "markdown",
   "metadata": {},
   "source": [
    "Let  \n",
    "$$R_\\theta = \\begin{bmatrix}  \n",
    " \\cos\\theta & -\\sin\\theta \\\\ \n",
    " \\sin\\theta & \\cos\\theta \n",
    "\\end{bmatrix}.$$  \n",
    "Let $R(i,j,\\theta)$ be the $n\\times n$ matrix obtained $I_n$ by replacing the $2\\times 2$ principal submatrix on the $i$-th and $j$-th rows/columns with $R_\\theta$.  \n",
    "Then $R(i,j,\\theta)$ is called the **Givens rotation**.  \n",
    "The function $f_{R(i,j,\\theta)}$ is a rotation on the $i,j$-coordinates.  "
   ]
  },
  {
   "cell_type": "markdown",
   "metadata": {},
   "source": [
    "A **permutation** is a bijection between $\\{1, \\ldots, n\\}$ to itself.  \n",
    "Let $\\sigma$ be a permutation on $\\{1,\\ldots,n\\}$.  \n",
    "Define the matrix $P$ such that the $\\sigma(i),i$-entry is $1$ for $i = 1,\\ldots, n$ while other entries are zero.  \n",
    "Then $f_P$ is a function sending $\\be_i$ to $\\be_{\\sigma(i)}$.  "
   ]
  },
  {
   "cell_type": "markdown",
   "metadata": {},
   "source": [
    "## Side stories\n",
    "- build $A$ from $A\\be_i$"
   ]
  },
  {
   "cell_type": "markdown",
   "metadata": {},
   "source": [
    "## Experiments"
   ]
  },
  {
   "cell_type": "markdown",
   "metadata": {},
   "source": [
    "##### Exercise 1\n",
    "\n",
    "執行以下程式碼。  \n",
    "已知 $\\left[\\begin{array}{c|c} R & \\br \\end{array}\\right]$ 為 $\\left[\\begin{array}{c|c} A & \\bb \\end{array}\\right]$ 的最簡階梯形式矩陣。  \n",
    "令 $f_A$ 為對應到矩陣 $A$ 的線性函數。  "
   ]
  },
  {
   "cell_type": "code",
   "execution_count": null,
   "metadata": {
    "scrolled": false
   },
   "outputs": [],
   "source": [
    "### code\n",
    "set_random_seed(0)\n",
    "print_ans = False\n",
    "ran = choice([True, False])\n",
    "ker = choice([True, False])\n",
    "m,n,r = 3,4,2\n",
    "A = random_good_matrix(m,n,r)\n",
    "v = vector(random_int_list(n))\n",
    "b = A * v + ( zero_vector(m) if ran else left_kernel_matrix(A).row(0) )\n",
    "u = kernel_matrix(A).column(0) + ( zero_vector(n) if ker else row_space_matrix(A).row(0) )\n",
    "Ab = A.augment(b, subdivide=True)\n",
    "Rr = Ab.rref()\n",
    "\n",
    "print(\"[ A | b ] =\")\n",
    "show(Ab)\n",
    "print(\"[ R | r ] =\")\n",
    "show(Rr)\n",
    "print(\"u =\", u)\n",
    "\n",
    "if print_ans:\n",
    "    print(\"b in range(f_A)?\", ran)\n",
    "    print(\"u in kernel(f_A)?\", ker)"
   ]
  },
  {
   "cell_type": "markdown",
   "metadata": {},
   "source": [
    "##### Exercise 1(a)\n",
    "\n",
    "判斷 $\\bb$ 是否落在 $\\range(f_A)$ 中。  "
   ]
  },
  {
   "cell_type": "markdown",
   "metadata": {},
   "source": [
    "##### Exercise 1(b)\n",
    "\n",
    "判斷 $\\bu$ 是否落在 $\\ker(f_A)$ 中。  "
   ]
  },
  {
   "cell_type": "markdown",
   "metadata": {},
   "source": [
    "## Exercises"
   ]
  },
  {
   "cell_type": "markdown",
   "metadata": {},
   "source": [
    "##### Exercise 2\n",
    "\n",
    "對以下各矩陣 $A$：  \n",
    "1. 說明 $f_A$ 的作用。  \n",
    "2. 寫出 $\\range(f)$ 及 $\\rank(f)$。  \n",
    "3. 寫出 $\\ker(f)$ 及 $\\nul(f)$。  \n",
    "4. 判斷 $f_A$ 是否可逆；若可逆﹐其反函數為何？"
   ]
  },
  {
   "cell_type": "markdown",
   "metadata": {},
   "source": [
    "##### Exercise 2(a)\n",
    "\n",
    "$$A = \\begin{bmatrix}  \n",
    " 1 & 0 & 0 \\\\\n",
    " 0 & 2 & 0 \\\\\n",
    " 0 & 0 & 3 \\\\\n",
    "\\end{bmatrix}.$$  "
   ]
  },
  {
   "cell_type": "markdown",
   "metadata": {},
   "source": [
    "##### Exercise 2(b)\n",
    "\n",
    "$$A = \\begin{bmatrix}  \n",
    " 1 & 0 & 0 \\\\\n",
    " 0 & 1 & 0 \\\\\n",
    " 0 & 0 & 0 \\\\\n",
    "\\end{bmatrix}.$$"
   ]
  },
  {
   "cell_type": "markdown",
   "metadata": {},
   "source": [
    "##### Exercise 2(c)\n",
    "\n",
    "$$A = \\begin{bmatrix}  \n",
    " 1 & 0 & 0 \\\\\n",
    " 0 & 1 & 0 \\\\\n",
    " 0 & 0 & -1 \\\\\n",
    "\\end{bmatrix}.$$"
   ]
  },
  {
   "cell_type": "markdown",
   "metadata": {},
   "source": [
    "##### Exercise 2(d)\n",
    "\n",
    "$$A = \\begin{bmatrix}  \n",
    " 1 & 0 & 0 \\\\\n",
    " 0 & \\frac{1}{\\sqrt{2}} & -\\frac{1}{\\sqrt{2}} \\\\\n",
    " 0 & \\frac{1}{\\sqrt{2}} & \\frac{1}{\\sqrt{2}} \\\\\n",
    "\\end{bmatrix}.$$"
   ]
  },
  {
   "cell_type": "markdown",
   "metadata": {},
   "source": [
    "##### Exercise 2(e)\n",
    "\n",
    "$$A = \\begin{bmatrix}  \n",
    " 0 & 1 & 0 \\\\\n",
    " 0 & 0 & 1 \\\\\n",
    " 1 & 0 & 0 \\\\\n",
    "\\end{bmatrix}.$$"
   ]
  },
  {
   "cell_type": "markdown",
   "metadata": {},
   "source": [
    "##### Exercise 3\n",
    "\n",
    "令 $A$ 為一 $m\\times n$ 矩陣。  "
   ]
  },
  {
   "cell_type": "markdown",
   "metadata": {},
   "source": [
    "##### Exercise 3(a)\n",
    "\n",
    "說明若 $m < n$ 則 $f_A$ 不可能是嵌射。  "
   ]
  },
  {
   "cell_type": "markdown",
   "metadata": {},
   "source": [
    "##### Exercise 3(b)\n",
    "\n",
    "說明若 $m > n$ 則 $f_A$ 不可能是映射。  "
   ]
  },
  {
   "cell_type": "markdown",
   "metadata": {},
   "source": [
    "##### Exercise 4\n",
    "\n",
    "令 $A$ 為一可逆矩陣。  \n",
    "驗證 $f_A^{-1} = f_{A^{-1}}$。  "
   ]
  },
  {
   "cell_type": "markdown",
   "metadata": {},
   "source": [
    "##### Exercise 5\n",
    "\n",
    "令 $A$ 為一 $m\\times n$ 矩陣。  \n",
    "令 $\\mathcal{E}_n = \\{ \\be_1,\\ldots, \\be_n \\}$ 為 $\\mathbb{R}^n$ 的標準基底。  "
   ]
  },
  {
   "cell_type": "markdown",
   "metadata": {},
   "source": [
    "##### Exercise 5(a)\n",
    "\n",
    "若 $m = 4$、$n = 3$ 且已知  \n",
    "$$\\begin{aligned}  \n",
    " f(\\be_1) &= (1,1,1,1), \\\\\n",
    " f(\\be_2) &= (1,2,3,4), \\\\\n",
    " f(\\be_3) &= (4,3,2,1). \\\\\n",
    "\\end{aligned}$$  \n",
    "求 $A$。  "
   ]
  },
  {
   "cell_type": "markdown",
   "metadata": {},
   "source": [
    "##### Exercise 5(b)\n",
    "\n",
    "說明 $A$ 會是把 $f(\\be_1), \\ldots, f(\\be_n)$ 依序當成行向量的矩陣。  "
   ]
  }
 ],
 "metadata": {
  "kernelspec": {
   "display_name": "SageMath 9.6",
   "language": "sage",
   "name": "sagemath"
  },
  "language_info": {
   "codemirror_mode": {
    "name": "ipython",
    "version": 3
   },
   "file_extension": ".py",
   "mimetype": "text/x-python",
   "name": "python",
   "nbconvert_exporter": "python",
   "pygments_lexer": "ipython3",
   "version": "3.10.5"
  }
 },
 "nbformat": 4,
 "nbformat_minor": 4
}
