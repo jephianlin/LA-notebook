{
 "cells": [
  {
   "cell_type": "markdown",
   "metadata": {},
   "source": [
    "# 柯西交錯定理"
   ]
  },
  {
   "cell_type": "markdown",
   "metadata": {},
   "source": [
    "![Creative Commons License](https://i.creativecommons.org/l/by/4.0/88x31.png)  \n",
    "This work by Jephian Lin is licensed under a [Creative Commons Attribution 4.0 International License](http://creativecommons.org/licenses/by/4.0/)."
   ]
  },
  {
   "cell_type": "markdown",
   "metadata": {},
   "source": [
    "$\\newcommand{\\trans}{^\\top}\n",
    "\\newcommand{\\adj}{^{\\rm adj}}\n",
    "\\newcommand{\\cof}{^{\\rm cof}}\n",
    "\\newcommand{\\inp}[2]{\\left\\langle#1,#2\\right\\rangle}\n",
    "\\newcommand{\\dunion}{\\mathbin{\\dot\\cup}}\n",
    "\\newcommand{\\bzero}{\\mathbf{0}}\n",
    "\\newcommand{\\bone}{\\mathbf{1}}\n",
    "\\newcommand{\\ba}{\\mathbf{a}}\n",
    "\\newcommand{\\bb}{\\mathbf{b}}\n",
    "\\newcommand{\\bc}{\\mathbf{c}}\n",
    "\\newcommand{\\bd}{\\mathbf{d}}\n",
    "\\newcommand{\\be}{\\mathbf{e}}\n",
    "\\newcommand{\\bh}{\\mathbf{h}}\n",
    "\\newcommand{\\bp}{\\mathbf{p}}\n",
    "\\newcommand{\\bq}{\\mathbf{q}}\n",
    "\\newcommand{\\br}{\\mathbf{r}}\n",
    "\\newcommand{\\bx}{\\mathbf{x}}\n",
    "\\newcommand{\\by}{\\mathbf{y}}\n",
    "\\newcommand{\\bz}{\\mathbf{z}}\n",
    "\\newcommand{\\bu}{\\mathbf{u}}\n",
    "\\newcommand{\\bv}{\\mathbf{v}}\n",
    "\\newcommand{\\bw}{\\mathbf{w}}\n",
    "\\newcommand{\\tr}{\\operatorname{tr}}\n",
    "\\newcommand{\\nul}{\\operatorname{null}}\n",
    "\\newcommand{\\rank}{\\operatorname{rank}}\n",
    "%\\newcommand{\\ker}{\\operatorname{ker}}\n",
    "\\newcommand{\\range}{\\operatorname{range}}\n",
    "\\newcommand{\\Col}{\\operatorname{Col}}\n",
    "\\newcommand{\\Row}{\\operatorname{Row}}\n",
    "\\newcommand{\\spec}{\\operatorname{spec}}\n",
    "\\newcommand{\\vspan}{\\operatorname{span}}\n",
    "\\newcommand{\\Vol}{\\operatorname{Vol}}\n",
    "\\newcommand{\\sgn}{\\operatorname{sgn}}\n",
    "\\newcommand{\\idmap}{\\operatorname{id}}\n",
    "\\newcommand{\\am}{\\operatorname{am}}\n",
    "\\newcommand{\\gm}{\\operatorname{gm}}\n",
    "\\newcommand{\\mult}{\\operatorname{mult}}\n",
    "\\newcommand{\\iner}{\\operatorname{iner}}$"
   ]
  },
  {
   "cell_type": "code",
   "execution_count": null,
   "metadata": {},
   "outputs": [],
   "source": [
    "from lingeo import random_int_list\n",
    "from sym import sym_from_list"
   ]
  },
  {
   "cell_type": "markdown",
   "metadata": {},
   "source": [
    "## Main idea"
   ]
  },
  {
   "cell_type": "markdown",
   "metadata": {},
   "source": [
    "##### Cauchy interlacing theorem\n",
    "\n",
    "Let $A$ be an $n\\times n$ real symmetric matrix with eigenvalues $\\lambda_1 \\leq \\cdots \\leq \\lambda_n$.  \n",
    "Let $B$ be an $(n-1)\\times (n-1)$ principal submatrix of $A$ and $\\mu_1 \\leq \\cdots \\leq \\mu_{n-1}$ its eigenvalues.  \n",
    "Then \n",
    "\n",
    "$$\n",
    "    \\lambda_1 \\leq \\mu_1 \\leq \\lambda_2 \\leq \\cdots \\leq \\lambda_n.\n",
    "$$\n",
    "\n",
    "In general, if $B$ is an $k\\times k$ principal submatrix of $A$ and $\\mu_1 \\leq \\cdots \\leq \\mu_k$ its eigenvalues, then  \n",
    "\n",
    "$$\n",
    "    \\lambda_i \\leq \\mu_i \\leq \\lambda_{n - (k - i)}\n",
    "$$\n",
    "\n",
    "for any $i = 1, \\ldots, k$.  "
   ]
  },
  {
   "cell_type": "markdown",
   "metadata": {},
   "source": [
    "If two sets of real numbers $\\lambda_1 \\leq \\cdots \\leq \\lambda_n$ and $\\mu_1 \\leq \\cdots \\leq \\mu_k$ satisfies $\\lambda_i \\leq \\mu_i \\leq \\lambda_{n - (k - i)}$ for all $i = 1, \\ldots, k$,  \n",
    "then we say they have the **interlacing property**."
   ]
  },
  {
   "cell_type": "markdown",
   "metadata": {},
   "source": [
    "## Side stories\n",
    "\n",
    "- Poincaré separation theorem\n",
    "- eigenvector-eigenvalue identity revisited"
   ]
  },
  {
   "cell_type": "markdown",
   "metadata": {},
   "source": [
    "## Experiments"
   ]
  },
  {
   "cell_type": "markdown",
   "metadata": {},
   "source": [
    "##### Exercise 1\n",
    "\n",
    "執行以下程式碼。  "
   ]
  },
  {
   "cell_type": "code",
   "execution_count": null,
   "metadata": {
    "scrolled": false
   },
   "outputs": [],
   "source": [
    "### code\n",
    "set_random_seed(0)\n",
    "print_ans = False\n",
    "\n",
    "n = 3\n",
    "entries = random_int_list(binomial(n+1,2))\n",
    "A = sym_from_list(n, entries)\n",
    "B = A[1:,1:]\n",
    "eigs_A = A.eigenvalues()\n",
    "eigs_A.sort()\n",
    "\n",
    "print(\"n =\", n)\n",
    "pretty_print(LatexExpr(\"A =\"), A)\n",
    "print(\"eigenvalues of A from small to large:\", eigs_A)\n",
    "pretty_print(LatexExpr(\"B =\"), B)\n",
    "\n",
    "if print_ans:\n",
    "    eigs_B = B.eigenvalues()\n",
    "    eigs_B.sort()\n",
    "    print(\"eigenvalues of B from small to large:\", eigs_B)"
   ]
  },
  {
   "cell_type": "markdown",
   "metadata": {},
   "source": [
    "##### Exercise 1(a)\n",
    "\n",
    "計算 $B$ 的特徵值 $\\mu_1 \\leq \\cdots \\leq \\mu_{n-1}$。"
   ]
  },
  {
   "cell_type": "markdown",
   "metadata": {},
   "source": [
    "##### Exercise 1(b)\n",
    "\n",
    "驗證是否 $\\lambda_1 \\leq \\mu_1 \\leq \\lambda_2 \\leq \\cdots \\leq \\lambda_n$."
   ]
  },
  {
   "cell_type": "markdown",
   "metadata": {},
   "source": [
    "## Exercises"
   ]
  },
  {
   "cell_type": "markdown",
   "metadata": {},
   "source": [
    "##### Exercise 2\n",
    "\n",
    "令 $A$ 為一 $n\\times n$ 實對稱矩陣、$B$ 為其一 $(n-1)\\times(n-1)$ 主子矩陣。  \n",
    "若 $\\lambda$ 為 $A$ 的一特徵向量。  \n",
    "利用柯西交錯定理說明 $|\\mult_A(\\lambda) - \\mult_B(\\lambda)| \\leq 1$。  \n",
    "\n",
    "這裡 $\\mult_A(\\lambda)$ 指的是 $\\lambda$ 為 $A$ 的特徵向量的重數。"
   ]
  },
  {
   "cell_type": "markdown",
   "metadata": {},
   "source": [
    "##### Exercise 3\n",
    "\n",
    "令 $A$ 為一 $n\\times n$ 實對稱矩陣。  \n",
    "令 $Q$ 為一 $n\\times n$ 實垂直矩陣、而 $S$ 為由 $Q$ 的前 $k$ 行所構成的 $n\\times k$ 矩陣。  \n",
    "證明 $A$ 和 $B = S\\trans AS$ 的特徵值具有交錯性質。"
   ]
  },
  {
   "cell_type": "markdown",
   "metadata": {},
   "source": [
    "##### Exercise 4\n",
    "\n",
    "令 $A = \\begin{bmatrix} a_{ij} \\end{bmatrix}$ 為一 $n\\times n$ 實對稱矩陣，且其特徵值為 $\\lambda_1 \\leq \\cdots \\leq \\lambda_n$。  \n",
    "證明對所有 $i = 1,\\ldots,n$ 都有 $\\lambda_1 \\leq a_{ii} \\leq \\lambda_n$。  \n",
    "\n",
    "提示：對任意 $i$ 而言，$\\begin{bmatrix} a_{ii} \\end{bmatrix}$ 也是 $A$ 的一個 $1\\times 1$ 主子矩陣。"
   ]
  },
  {
   "cell_type": "markdown",
   "metadata": {},
   "source": [
    "##### Exercise 5\n",
    "\n",
    "令 $A = \\begin{bmatrix} a_{ij} \\end{bmatrix}$ 為一 $n\\times n$ 實對稱矩陣，且其特徵值為 $\\lambda_1 \\leq \\cdots \\leq \\lambda_n$。  \n",
    "證明 $\\lambda_1 \\leq \\frac{1}{n} \\sum_{i=1}^n\\sum_{j=1}^n a_{ij} \\leq \\lambda_n$。\n",
    "\n",
    "提示：取 $S$ 為 $n\\times 1$ 的矩陣且其第一行為 $\\frac{1}{\\sqrt{n}}\\bone$。"
   ]
  },
  {
   "cell_type": "markdown",
   "metadata": {},
   "source": [
    "##### Exercise 6\n",
    "\n",
    "令 $A$ 為一 $n\\times n$ 實對稱矩陣，且其特徵值為 $\\lambda_1 \\leq \\cdots \\leq \\lambda_n$。  \n",
    "令 $B$ 為 $A$ 的一個 $k\\times k$ 主子矩陣，而其特徵值為 $\\mu_1 \\leq \\cdots \\leq \\mu_k$。  \n",
    "我們可以假設 $B$ 取的是 $A$ 的最後 $k$ 個行和最後 $k$ 個列。  \n",
    "令  \n",
    "\n",
    "$$\n",
    "    P = \\begin{bmatrix} O_{n-k,k} \\\\ I_k \\end{bmatrix}.\n",
    "$$\n",
    "\n",
    "則 $B$ 也可以寫成 $B = P\\trans AP$。  \n",
    "\n",
    "依照以下步驟證明柯西交錯定理。"
   ]
  },
  {
   "cell_type": "markdown",
   "metadata": {},
   "source": [
    "##### Exercise 6(a)"
   ]
  },
  {
   "cell_type": "markdown",
   "metadata": {},
   "source": [
    "##### Exercise 7\n",
    "\n",
    "回顧 604-7 提到的特徵向量-特徵值等式。  \n",
    "證明該等式在特徵值重數不為 $1$ 的時候也成立。\n",
    "\n",
    "##### Eigenvector-eigenvalue identity\n",
    "\n",
    "若 $A$ 為一 $n\\times n$ 實對稱矩陣。  \n",
    "其特徵值為 $\\lambda_1,\\ldots,\\lambda_n$ 且某一個 $\\lambda_i$ 只出現一次沒有重覆。  \n",
    "令 $\\bv_1,\\ldots, \\bv_n$ 為其相對應的特徵向量，且其形成一垂直標準基。\n",
    "\n",
    "$$\n",
    "    (A - \\lambda_i I)\\adj = \\left(\\prod_{j\\neq i}(\\lambda_j - \\lambda_i)\\right)\\bv_i\\bv_i\\trans.\n",
    "$$"
   ]
  }
 ],
 "metadata": {
  "kernelspec": {
   "display_name": "SageMath 9.5",
   "language": "sage",
   "name": "sagemath"
  },
  "language_info": {
   "codemirror_mode": {
    "name": "ipython",
    "version": 3
   },
   "file_extension": ".py",
   "mimetype": "text/x-python",
   "name": "python",
   "nbconvert_exporter": "python",
   "pygments_lexer": "ipython3",
   "version": "3.10.2"
  }
 },
 "nbformat": 4,
 "nbformat_minor": 4
}
