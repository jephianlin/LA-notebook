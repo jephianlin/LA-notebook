{
 "cells": [
  {
   "cell_type": "markdown",
   "metadata": {},
   "source": [
    "# 柯西交錯定理\n",
    "\n",
    "Cauchy interlacing theorem"
   ]
  },
  {
   "cell_type": "markdown",
   "metadata": {},
   "source": [
    "![Creative Commons License](https://i.creativecommons.org/l/by/4.0/88x31.png)  \n",
    "This work by Jephian Lin is licensed under a [Creative Commons Attribution 4.0 International License](http://creativecommons.org/licenses/by/4.0/)."
   ]
  },
  {
   "cell_type": "markdown",
   "metadata": {},
   "source": [
    "$\\newcommand{\\trans}{^\\top}\n",
    "\\newcommand{\\adj}{^{\\rm adj}}\n",
    "\\newcommand{\\cof}{^{\\rm cof}}\n",
    "\\newcommand{\\inp}[2]{\\left\\langle#1,#2\\right\\rangle}\n",
    "\\newcommand{\\dunion}{\\mathbin{\\dot\\cup}}\n",
    "\\newcommand{\\bzero}{\\mathbf{0}}\n",
    "\\newcommand{\\bone}{\\mathbf{1}}\n",
    "\\newcommand{\\ba}{\\mathbf{a}}\n",
    "\\newcommand{\\bb}{\\mathbf{b}}\n",
    "\\newcommand{\\bc}{\\mathbf{c}}\n",
    "\\newcommand{\\bd}{\\mathbf{d}}\n",
    "\\newcommand{\\be}{\\mathbf{e}}\n",
    "\\newcommand{\\bh}{\\mathbf{h}}\n",
    "\\newcommand{\\bp}{\\mathbf{p}}\n",
    "\\newcommand{\\bq}{\\mathbf{q}}\n",
    "\\newcommand{\\br}{\\mathbf{r}}\n",
    "\\newcommand{\\bx}{\\mathbf{x}}\n",
    "\\newcommand{\\by}{\\mathbf{y}}\n",
    "\\newcommand{\\bz}{\\mathbf{z}}\n",
    "\\newcommand{\\bu}{\\mathbf{u}}\n",
    "\\newcommand{\\bv}{\\mathbf{v}}\n",
    "\\newcommand{\\bw}{\\mathbf{w}}\n",
    "\\newcommand{\\tr}{\\operatorname{tr}}\n",
    "\\newcommand{\\nul}{\\operatorname{null}}\n",
    "\\newcommand{\\rank}{\\operatorname{rank}}\n",
    "%\\newcommand{\\ker}{\\operatorname{ker}}\n",
    "\\newcommand{\\range}{\\operatorname{range}}\n",
    "\\newcommand{\\Col}{\\operatorname{Col}}\n",
    "\\newcommand{\\Row}{\\operatorname{Row}}\n",
    "\\newcommand{\\spec}{\\operatorname{spec}}\n",
    "\\newcommand{\\vspan}{\\operatorname{span}}\n",
    "\\newcommand{\\Vol}{\\operatorname{Vol}}\n",
    "\\newcommand{\\sgn}{\\operatorname{sgn}}\n",
    "\\newcommand{\\idmap}{\\operatorname{id}}\n",
    "\\newcommand{\\am}{\\operatorname{am}}\n",
    "\\newcommand{\\gm}{\\operatorname{gm}}\n",
    "\\newcommand{\\mult}{\\operatorname{mult}}\n",
    "\\newcommand{\\iner}{\\operatorname{iner}}$"
   ]
  },
  {
   "cell_type": "code",
   "execution_count": null,
   "metadata": {},
   "outputs": [],
   "source": [
    "from lingeo import random_int_list\n",
    "from sym import sym_from_list"
   ]
  },
  {
   "cell_type": "markdown",
   "metadata": {},
   "source": [
    "## Main idea"
   ]
  },
  {
   "cell_type": "markdown",
   "metadata": {},
   "source": [
    "##### Cauchy interlacing theorem\n",
    "\n",
    "Let $A$ be an $n\\times n$ real symmetric matrix with eigenvalues $\\lambda_1 \\leq \\cdots \\leq \\lambda_n$.  \n",
    "Let $B$ be an $(n-1)\\times (n-1)$ principal submatrix of $A$ and $\\mu_1 \\leq \\cdots \\leq \\mu_{n-1}$ its eigenvalues.  \n",
    "Then \n",
    "\n",
    "$$\n",
    "    \\lambda_1 \\leq \\mu_1 \\leq \\lambda_2 \\leq \\cdots \\leq \\lambda_n.\n",
    "$$\n",
    "\n",
    "In general, if $B$ is an $k\\times k$ principal submatrix of $A$ and $\\mu_1 \\leq \\cdots \\leq \\mu_k$ its eigenvalues, then  \n",
    "\n",
    "$$\n",
    "    \\lambda_i \\leq \\mu_i \\leq \\lambda_{n - (k - i)}\n",
    "$$\n",
    "\n",
    "for any $i = 1, \\ldots, k$.  "
   ]
  },
  {
   "cell_type": "markdown",
   "metadata": {},
   "source": [
    "If two sets of real numbers $\\lambda_1 \\leq \\cdots \\leq \\lambda_n$ and $\\mu_1 \\leq \\cdots \\leq \\mu_k$ satisfies $\\lambda_i \\leq \\mu_i \\leq \\lambda_{n - (k - i)}$ for all $i = 1, \\ldots, k$,  \n",
    "then we say they have the **interlacing property**."
   ]
  },
  {
   "cell_type": "markdown",
   "metadata": {},
   "source": [
    "## Side stories\n",
    "\n",
    "- Poincaré separation theorem\n",
    "- eigenvector-eigenvalue identity revisited"
   ]
  },
  {
   "cell_type": "markdown",
   "metadata": {},
   "source": [
    "## Experiments"
   ]
  },
  {
   "cell_type": "markdown",
   "metadata": {},
   "source": [
    "##### Exercise 1\n",
    "\n",
    "執行以下程式碼。  \n",
    "\n",
    "<!-- eng start -->\n",
    "Run the code below.  \n",
    "<!-- eng end -->"
   ]
  },
  {
   "cell_type": "code",
   "execution_count": null,
   "metadata": {
    "scrolled": false
   },
   "outputs": [],
   "source": [
    "### code\n",
    "set_random_seed(0)\n",
    "print_ans = False\n",
    "\n",
    "n = 3\n",
    "entries = random_int_list(binomial(n+1,2))\n",
    "A = sym_from_list(n, entries)\n",
    "B = A[1:,1:]\n",
    "eigs_A = A.eigenvalues()\n",
    "eigs_A.sort()\n",
    "\n",
    "print(\"n =\", n)\n",
    "pretty_print(LatexExpr(\"A =\"), A)\n",
    "print(\"eigenvalues of A from small to large:\", eigs_A)\n",
    "pretty_print(LatexExpr(\"B =\"), B)\n",
    "\n",
    "if print_ans:\n",
    "    eigs_B = B.eigenvalues()\n",
    "    eigs_B.sort()\n",
    "    print(\"eigenvalues of B from small to large:\", eigs_B)"
   ]
  },
  {
   "cell_type": "markdown",
   "metadata": {},
   "source": [
    "##### Exercise 1(a)\n",
    "\n",
    "計算 $B$ 的特徵值 $\\mu_1 \\leq \\cdots \\leq \\mu_{n-1}$。  \n",
    "\n",
    "<!-- eng start -->\n",
    "Find the eigenvalues $\\mu_1 \\leq \\cdots \\leq \\mu_{n-1}$ of $B$.  \n",
    "<!-- eng end -->"
   ]
  },
  {
   "cell_type": "markdown",
   "metadata": {},
   "source": [
    "##### Exercise 1(b)\n",
    "\n",
    "驗證是否 $\\lambda_1 \\leq \\mu_1 \\leq \\lambda_2 \\leq \\cdots \\leq \\lambda_n$。  \n",
    "\n",
    "<!-- eng start -->\n",
    "Verify that $\\lambda_1 \\leq \\mu_1 \\leq \\lambda_2 \\leq \\cdots \\leq \\lambda_n$.  \n",
    "<!-- eng end -->"
   ]
  },
  {
   "cell_type": "markdown",
   "metadata": {},
   "source": [
    "## Exercises"
   ]
  },
  {
   "cell_type": "markdown",
   "metadata": {},
   "source": [
    "##### Exercise 2\n",
    "\n",
    "令 $A$ 為一 $n\\times n$ 實對稱矩陣、$B$ 為其一 $(n-1)\\times(n-1)$ 主子矩陣。  \n",
    "若 $\\lambda$ 為 $A$ 的一特徵值。  \n",
    "利用柯西交錯定理說明 $|\\mult_A(\\lambda) - \\mult_B(\\lambda)| \\leq 1$。  \n",
    "\n",
    "這裡 $\\mult_A(\\lambda)$ 指的是 $\\lambda$ 為 $A$ 的特徵向量的重數。  \n",
    "\n",
    "<!-- eng start -->\n",
    "Let $A$ be an $n\\times n$ real symmetric matrix, $B$ an $(n-1)\\times(n-1)$ principal submatrix of $A$.  Suppose $\\lambda$ is an eigenvalue of $A$.  Use the Cauchy interlacing theorem to show that $|\\mult_A(\\lambda) - \\mult_B(\\lambda)| \\leq 1$.  \n",
    "\n",
    "Here $\\mult_A(\\lambda)$ is the multiplicity of $\\lambda$ as an eigenvalue of $A$.  \n",
    "<!-- eng end -->"
   ]
  },
  {
   "cell_type": "markdown",
   "metadata": {},
   "source": [
    "##### Exercise 3\n",
    "\n",
    "令 $A$ 為一 $n\\times n$ 實對稱矩陣。  \n",
    "令 $Q$ 為一 $n\\times n$ 實垂直矩陣、而 $S$ 為由 $Q$ 的前 $k$ 行所構成的 $n\\times k$ 矩陣。  \n",
    "證明 $A$ 和 $B = S\\trans AS$ 的特徵值具有交錯性質。\n",
    "\n",
    "這個定理稱作**龐加萊分割定理（Poincaré separation theorem）**。  \n",
    "\n",
    "<!-- eng start -->\n",
    "Let $A$ be an $n\\times n$ real symmetric matrix.  Let $Q$ be an $n\\times n$ real orthogonal matrix and $S$ the $n\\times k$ matrix whose columns are the first $k$ columns of $Q$.  Show that the spectrum of $B = S\\trans AS$ interlace the spectrum of $A$.  \n",
    "\n",
    "This theorem is known as the **Poincaré separation theorem** .  \n",
    "<!-- eng end -->"
   ]
  },
  {
   "cell_type": "markdown",
   "metadata": {},
   "source": [
    "##### Exercise 4\n",
    "\n",
    "令 $A = \\begin{bmatrix} a_{ij} \\end{bmatrix}$ 為一 $n\\times n$ 實對稱矩陣，且其特徵值為 $\\lambda_1 \\leq \\cdots \\leq \\lambda_n$。  \n",
    "證明對所有 $i = 1,\\ldots,n$ 都有 $\\lambda_1 \\leq a_{ii} \\leq \\lambda_n$。  \n",
    "\n",
    "提示：對任意 $i$ 而言，$\\begin{bmatrix} a_{ii} \\end{bmatrix}$ 也是 $A$ 的一個 $1\\times 1$ 主子矩陣。  \n",
    "\n",
    "<!-- eng start -->\n",
    "Let $A = \\begin{bmatrix} a_{ij} \\end{bmatrix}$ be an $n\\times n$ real symmetric matrix with eigenvalues $\\lambda_1 \\leq \\cdots \\leq \\lambda_n$.  Show that $\\lambda_1 \\leq a_{ii} \\leq \\lambda_n$ for all $i = 1,\\ldots,n$.  \n",
    "\n",
    "Hint:  For each $i$, the matrix $\\begin{bmatrix} a_{ii} \\end{bmatrix}$ is a $1\\times 1$ principal submatrix of $A$.  \n",
    "<!-- eng end -->"
   ]
  },
  {
   "cell_type": "markdown",
   "metadata": {},
   "source": [
    "##### Exercise 5\n",
    "\n",
    "令 $A = \\begin{bmatrix} a_{ij} \\end{bmatrix}$ 為一 $n\\times n$ 實對稱矩陣，且其特徵值為 $\\lambda_1 \\leq \\cdots \\leq \\lambda_n$。  \n",
    "證明 $\\lambda_1 \\leq \\frac{1}{n} \\sum_{i=1}^n\\sum_{j=1}^n a_{ij} \\leq \\lambda_n$。\n",
    "\n",
    "提示：取 $S$ 為 $n\\times 1$ 的矩陣且其第一行為 $\\frac{1}{\\sqrt{n}}\\bone$。並套用龐加萊分割定理。  \n",
    "\n",
    "<!-- eng start -->\n",
    "Let $A = \\begin{bmatrix} a_{ij} \\end{bmatrix}$ be an $n\\times n$ real symmetric matrix with eigenvalues $\\lambda_1 \\leq \\cdots \\leq \\lambda_n$.  Show that $\\lambda_1 \\leq \\frac{1}{n} \\sum_{i=1}^n\\sum_{j=1}^n a_{ij} \\leq \\lambda_n$.  \n",
    "\n",
    "Hint:  Let $S$ be the $n\\times 1$ matrix whose first column is $\\frac{1}{\\sqrt{n}}\\bone$.  Then apply the Poincaré separation theorem with $S$.  \n",
    "<!-- eng end -->"
   ]
  },
  {
   "cell_type": "markdown",
   "metadata": {},
   "source": [
    "##### Exercise 6\n",
    "\n",
    "令 $A$ 為一 $n\\times n$ 實對稱矩陣，且其特徵值為 $\\lambda_1 \\leq \\cdots \\leq \\lambda_n$，而 $\\bv_1,\\ldots,\\bv_n$ 為其對應的垂直標準特徵基底。  \n",
    "令 $B$ 為 $A$ 的一個 $k\\times k$ 主子矩陣，而其特徵值為 $\\mu_1 \\leq \\cdots \\leq \\mu_k$ 而 $\\bu_1,\\ldots,\\bu_{k}$ 為其對應的垂直標準特徵基底。  \n",
    "我們可以假設 $B$ 取的是 $A$ 的最後 $k$ 個行和最後 $k$ 個列。  \n",
    "令  \n",
    "\n",
    "$$\n",
    "    P = \\begin{bmatrix} O_{k,n-k} & I_k \\end{bmatrix}.\n",
    "$$\n",
    "\n",
    "則 $B$ 也可以寫成 $B = PAP\\trans$。  \n",
    "\n",
    "固定一個 $i$，依照以下步驟證明柯西交錯定理 $\\lambda_i \\leq \\mu_i \\leq \\lambda_{n - (k - i)}$。  \n",
    "\n",
    "<!-- eng start -->\n",
    "Let $A = \\begin{bmatrix} a_{ij} \\end{bmatrix}$ be an $n\\times n$ real symmetric matrix with eigenvalues $\\lambda_1 \\leq \\cdots \\leq \\lambda_n$ and $\\bv_1,\\ldots,\\bv_n$ the corresponding orthonormal eigenbasis.  Let $B$ be a $k\\times k$ principal submatrix of $A$ with eigenvalues $\\mu_1 \\leq \\cdots \\leq \\mu_k$ and $\\bu_1,\\ldots,\\bu_{k}$ the corresponding orthonormal eigenbasis.  We may assume that $B$ is the submatrix of $A$ indueced from the last $k$ rows and columns.  Let  \n",
    "\n",
    "$$\n",
    "    P = \\begin{bmatrix} O_{k,n-k} & I_k \\end{bmatrix}.\n",
    "$$\n",
    "\n",
    "Then $B$ can be written as $B = PAP\\trans$.  \n",
    "\n",
    "Fix $i$.  Then use the given instruction to prove the Cauchy interlacing theorem $\\lambda_i \\leq \\mu_i \\leq \\lambda_{n - (k - i)}$.  \n",
    "<!-- eng end -->"
   ]
  },
  {
   "cell_type": "markdown",
   "metadata": {},
   "source": [
    "##### Exercise 6(a)\n",
    "\n",
    "令 $V = \\vspan\\{\\bv_1, \\ldots, \\bv_{i-1}\\} \\subseteq \\mathbb{R}^n$，  \n",
    "說明 $PV = \\{P\\bv: \\bv\\in V\\}$ 的維度至多是 $i-1$。  \n",
    "因此 $(PV)^\\perp$ 的維度至少是 $k - i + 1$。  \n",
    "\n",
    "<!-- eng start -->\n",
    "Let $V = \\vspan\\{\\bv_1, \\ldots, \\bv_{i-1}\\} \\subseteq \\mathbb{R}^n$.  Show that the dimension of $PV = \\{P\\bv: \\bv\\in V\\}$ is at most $i - 1$.  Therefore, the dimension of $(PV)^\\perp$ is at most $k - i + 1$.  \n",
    "<!-- eng end -->"
   ]
  },
  {
   "cell_type": "markdown",
   "metadata": {},
   "source": [
    "##### Exercise 6(b)\n",
    "\n",
    "令 $W = \\vspan\\{\\bu_1, \\ldots, \\bu_{i}\\} \\subseteq \\mathbb{R}^k$。  \n",
    "說明 $W\\cap (PV)^\\perp$ 必存在非零向量。  \n",
    "\n",
    "<!-- eng start -->\n",
    "Let $W = \\vspan\\{\\bu_1, \\ldots, \\bu_{i}\\} \\subseteq \\mathbb{R}^k$.  Show that $W\\cap (PV)^\\perp$ contains a nonzero vector.  \n",
    "<!-- eng end -->"
   ]
  },
  {
   "cell_type": "markdown",
   "metadata": {},
   "source": [
    "##### Exercise 6(c)\n",
    "\n",
    "任取一非零向量 $\\bw\\in W\\cap (PV)^\\perp$，  \n",
    "並令 $\\bv$ 為在 $\\bw$ 前面補 $n-k$ 個零的向量  \n",
    "（因此 $P\\bv = \\bw$）。  \n",
    "說明  \n",
    "\n",
    "$$\n",
    "    \\lambda_i \\leq  R_A(\\bv) = \\frac{\\bw\\trans B\\bw}{\\bw\\trans\\bw} \\leq \\mu_i.\n",
    "$$  \n",
    "\n",
    "（之後只要把 $A$ 取代成 $-A$ 就可以證明另一側的不等式 $\\mu_i \\leq \\lambda_{n - (k - i)}$。）  \n",
    "\n",
    "<!-- eng start -->\n",
    "Pick a nonzero vector $\\bw\\in W\\cap (PV)^\\perp$ and let $\\bv$ be the vector obtained from $\\bw$ by padding $n-k$ zeros in the fron.  (Thus, $P\\bv = \\bw$.)  Show that \n",
    "\n",
    "$$\n",
    "    \\lambda_i \\leq  R_A(\\bv) = \\frac{\\bw\\trans B\\bw}{\\bw\\trans\\bw} \\leq \\mu_i.\n",
    "$$  \n",
    "\n",
    "(Then one may replace $A$ by $-A$ to get the other inequality $\\mu_i \\leq \\lambda_{n - (k - i)}$.)  \n",
    "<!-- eng end -->"
   ]
  },
  {
   "cell_type": "markdown",
   "metadata": {},
   "source": [
    "##### Exercise 7\n",
    "\n",
    "回顧 604-7 提到的特徵向量-特徵值等式。  \n",
    "\n",
    "##### Eigenvector-eigenvalue identity\n",
    "\n",
    "若 $A$ 為一 $n\\times n$ 實對稱矩陣。  \n",
    "其特徵值為 $\\lambda_1,\\ldots,\\lambda_n$ 且某一個 $\\lambda_i$ 只出現一次沒有重覆。  \n",
    "令 $\\bv_1,\\ldots, \\bv_n$ 為其相對應的特徵向量，且其形成一垂直標準基。\n",
    "\n",
    "$$\n",
    "    (A - \\lambda_i I)\\adj = \\left(\\prod_{j\\neq i}(\\lambda_j - \\lambda_i)\\right)\\bv_i\\bv_i\\trans.\n",
    "$$\n",
    "\n",
    "說明儘管在 $\\mult_A(\\lambda_i) \\geq 2$ 的時候，  \n",
    "左式和右式都會等於零矩陣，  \n",
    "因此該等式仍然成立。  \n",
    "\n",
    "<!-- eng start -->\n",
    "Recall the eigenvector-eigenvalue identity introduced in 604-7.  \n",
    "\n",
    "##### Eigenvector-eigenvalue identity\n",
    "\n",
    "Let $A$ be an $n\\times n$ real symmetric matrix such that $\\lambda_1,\\ldots,\\lambda_n$ are its eigenvalues and $\\lambda_i$ is a simple eigenvalue.  Let $\\bv_1,\\ldots, \\bv_n$ be the corresponding eigenvectors, which form an orthogonal basis.  Then  \n",
    "\n",
    "$$\n",
    "    (A - \\lambda_i I)\\adj = \\left(\\prod_{j\\neq i}(\\lambda_j - \\lambda_i)\\right)\\bv_i\\bv_i\\trans.\n",
    "$$  \n",
    "\n",
    "Show that the both sides are zero matrices when $\\mult_A(\\lambda_i) \\geq 2$.  Therefore, the identity is still true in this case.  \n",
    "<!-- eng end -->"
   ]
  }
 ],
 "metadata": {
  "kernelspec": {
   "display_name": "SageMath 9.7",
   "language": "sage",
   "name": "sagemath"
  },
  "language_info": {
   "codemirror_mode": {
    "name": "ipython",
    "version": 3
   },
   "file_extension": ".py",
   "mimetype": "text/x-python",
   "name": "python",
   "nbconvert_exporter": "python",
   "pygments_lexer": "ipython3",
   "version": "3.10.8"
  }
 },
 "nbformat": 4,
 "nbformat_minor": 4
}
