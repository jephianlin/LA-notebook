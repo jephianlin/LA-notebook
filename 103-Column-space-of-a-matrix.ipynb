{
 "cells": [
  {
   "cell_type": "markdown",
   "metadata": {},
   "source": [
    "# 矩陣的行空間"
   ]
  },
  {
   "cell_type": "markdown",
   "metadata": {},
   "source": [
    "![Creative Commons License](https://i.creativecommons.org/l/by/4.0/88x31.png)  \n",
    "This work by Jephian Lin is licensed under a [Creative Commons Attribution 4.0 International License](http://creativecommons.org/licenses/by/4.0/)."
   ]
  },
  {
   "cell_type": "code",
   "execution_count": null,
   "metadata": {},
   "outputs": [],
   "source": [
    "from lingeo import random_int_list, draw_span"
   ]
  },
  {
   "cell_type": "markdown",
   "metadata": {},
   "source": [
    "## Main idea"
   ]
  },
  {
   "cell_type": "markdown",
   "metadata": {},
   "source": [
    "##### Matrix-vector multiplication (by column)\n",
    "Let  \n",
    "$$A = \\begin{bmatrix} \n",
    " | & ~ & | \\\\\n",
    " {\\bf u}_1 & \\cdots & {\\bf u}_n \\\\\n",
    " | & ~ & | \\\\\n",
    "\\end{bmatrix}$$\n",
    "be an $m\\times n$ matrix and  \n",
    "$${\\bf v} = \\begin{bmatrix} c_1 \\\\ \\vdots \\\\ c_n \\end{bmatrix}$$\n",
    "a vector in $\\mathbb{R}^n$.  \n",
    "Then  \n",
    "$$A{\\bf v} = c_1{\\bf u}_1 + \\cdots + c_n{\\bf u}_n.$$  "
   ]
  },
  {
   "cell_type": "markdown",
   "metadata": {},
   "source": [
    "Thus,  \n",
    "$$\\{A{\\bf v}: {\\bf v}\\in\\mathbb{R}^n\\} = \\operatorname{span}(\\{{\\bf u}_1, \\ldots, {\\bf u}_n\\}),$$\n",
    "which is called the **column space** $\\operatorname{Col}(A)$ of $A$."
   ]
  },
  {
   "cell_type": "markdown",
   "metadata": {},
   "source": [
    "Therefore,  \n",
    "the equation $A{\\bf v} = {\\bf b}$ has a solution if and only if ${\\bf b}\\in\\operatorname{Col}(A)$.  "
   ]
  },
  {
   "cell_type": "markdown",
   "metadata": {},
   "source": [
    "## Side stories\n",
    "- set equal"
   ]
  },
  {
   "cell_type": "markdown",
   "metadata": {},
   "source": [
    "## Experiments"
   ]
  },
  {
   "cell_type": "markdown",
   "metadata": {},
   "source": [
    "##### Exercise 1\n",
    "執行下方程式碼。  \n",
    "令 ${\\bf u}_1$ 及 ${\\bf u}_2$ 為 $A$ 的行向量。  \n",
    "原點為橘色點、\n",
    "從原點延伸出去的紅色向量和淡藍色向量分別為 ${\\bf u}_1$ 和 ${\\bf u}_2$。  \n",
    "黑色向量為 ${\\bf b}$。  \n",
    "問 $A{\\bf v} = {\\bf b}$ 的 ${\\bf v}$ 是否有解？  \n",
    "若有解﹐求 ${\\bf v}$。"
   ]
  },
  {
   "cell_type": "code",
   "execution_count": null,
   "metadata": {
    "scrolled": false
   },
   "outputs": [],
   "source": [
    "### code\n",
    "set_random_seed(0)\n",
    "print_ans = False\n",
    "while True:\n",
    "    l = random_int_list(9)\n",
    "    Ae = matrix(3, l)\n",
    "    if Ae.det() != 0:\n",
    "        break\n",
    "u1 = vector(Ae[:,0])\n",
    "u2 = vector(Ae[:,1])\n",
    "u3 = vector(Ae[:,2])\n",
    "A = Ae[:,:2]\n",
    "\n",
    "inside = choice([0,1,1])\n",
    "coefs = random_int_list(2, 2)\n",
    "if inside:\n",
    "    b = coefs[0]*u1 + coefs[1]*u2\n",
    "else:\n",
    "    b = coefs[0]*u1 + coefs[1]*u2 + 3*u3\n",
    "    \n",
    "print(\"A =\")\n",
    "print(A)\n",
    "print(\"b =\", b)\n",
    "\n",
    "pic = draw_span([u1,u2])\n",
    "pic += arrow((0,0,0), b, width=5, color=\"black\")\n",
    "show(pic)"
   ]
  },
  {
   "cell_type": "markdown",
   "metadata": {},
   "source": [
    "## Exercises"
   ]
  },
  {
   "cell_type": "markdown",
   "metadata": {},
   "source": [
    "##### Exercise 2(a)\n",
    "令  \n",
    "$${\\bf e}_1 = \\begin{bmatrix}1\\\\0\\\\0\\end{bmatrix}, \n",
    "{\\bf e}_2 = \\begin{bmatrix}0\\\\1\\\\0\\end{bmatrix}, \n",
    "{\\bf e}_3 = \\begin{bmatrix}0\\\\0\\\\1\\end{bmatrix}.$$  \n",
    "說明 $\\mathbb{R}^3 = \\operatorname{span}(\\{{\\bf e}_1, {\\bf e}_2, {\\bf e}_3\\})$﹐  \n",
    "因此它是一個子空間。  \n",
    "（要說明每一個 $\\mathbb{R}^3$ 中的向量都可以寫成 $c_1{\\bf e}_1 + c_2{\\bf e}_2 + c_3{\\bf e}_3$ 的形式。）"
   ]
  },
  {
   "cell_type": "markdown",
   "metadata": {},
   "source": [
    "##### Exercise 2(b)\n",
    "令  \n",
    "$${\\bf b} = \\begin{bmatrix}1\\\\2\\\\-3\\end{bmatrix}, \n",
    "{\\bf u}_1 = \\begin{bmatrix}-1\\\\1\\\\0\\end{bmatrix}, \n",
    "{\\bf u}_2 = \\begin{bmatrix}0\\\\-1\\\\1\\end{bmatrix}.$$  \n",
    "說明 ${\\bf b}\\in\\operatorname{span}(\\{{\\bf u}_1, {\\bf u}_2\\})$。"
   ]
  },
  {
   "cell_type": "markdown",
   "metadata": {},
   "source": [
    "##### Exercise 2(c)\n",
    "令 \n",
    "$${\\bf b} = \\begin{bmatrix}1\\\\1\\\\1\\end{bmatrix}, \n",
    "{\\bf u}_1 = \\begin{bmatrix}-1\\\\1\\\\0\\end{bmatrix}, \n",
    "{\\bf u}_2 = \\begin{bmatrix}0\\\\-1\\\\1\\end{bmatrix}.$$  \n",
    "說明 ${\\bf b}\\notin\\operatorname{span}(\\{{\\bf u}_1, {\\bf u}_2\\})$。"
   ]
  },
  {
   "cell_type": "markdown",
   "metadata": {},
   "source": [
    "##### Exercise 2(d)\n",
    "令  \n",
    "$${\\bf b} = \\begin{bmatrix}1\\\\2\\\\-3\\end{bmatrix}, \n",
    "{\\bf u}_1 = \\begin{bmatrix}-1\\\\1\\\\0\\end{bmatrix}, \n",
    "{\\bf u}_2 = \\begin{bmatrix}0\\\\-1\\\\1\\end{bmatrix}, \n",
    "{\\bf u}_3 = \\begin{bmatrix}-1\\\\0\\\\1\\end{bmatrix}.$$  \n",
    "找出至少兩組 $c_1, c_2, c_3$ 使得 ${\\bf b} = c_1{\\bf u}_1 + c_2{\\bf u}_2 + c_3{\\bf u}_3$。  \n",
    "這說明了線性組合的表示法不見得唯一。"
   ]
  },
  {
   "cell_type": "markdown",
   "metadata": {},
   "source": [
    "##### Exercise 3\n",
    "依照各小題的步驟來證明子空間的兩個條件等價。  \n",
    "\n",
    "1. $V = \\operatorname{span}(S)$ for some vectors $S$.  \n",
    "2. $V$ is a nonempty subset that is closed under scalar multiplication and vector addition.\n",
    "\n",
    "並用這些條件來判斷一個集合是否為子空間。"
   ]
  },
  {
   "cell_type": "markdown",
   "metadata": {},
   "source": [
    "##### Exercise 3(a)\n",
    "證明若條件 1 成立則條件 2 成立。"
   ]
  },
  {
   "cell_type": "markdown",
   "metadata": {},
   "source": [
    "Sample:  \n",
    "Suppose $V = \\operatorname{span}(S)$ for some $S\\subseteq\\mathbb{R}^n$.  \n",
    "We verify each of the requirements in condition 2.  \n",
    "\n",
    "**nonempty**  \n",
    "Since $\\operatorname{span}(S)$ always contains ..., $V$ is nonempty.  \n",
    "\n",
    "**closed under scalar multiplication**  \n",
    "Suppose ${\\bf v}\\in V$ and $k$ a scalar.  \n",
    "Then ${\\bf v}$ can be written as $c_1{\\bf u}_1 + \\cdots + c_k{\\bf u}_k$ for some vectors ${\\bf u}_i\\in S$ and scalars $c_i$.  \n",
    "Then ...  \n",
    "So $k{\\bf v}\\in\\operatorname{span}(S) = V$.  \n",
    "\n",
    "**closed under vector addition**  \n",
    "Suppose ${\\bf v}_1,{\\bf v}_2\\in V$.  \n",
    "Then ${\\bf v}_1$ can be written as ...,  \n",
    "and ${\\bf v}_2$ can be written as ...  \n",
    "Then ...  \n",
    "So ${\\bf v}_1 + {\\bf v}_2 \\in\\operatorname{span}(S) = V$.  "
   ]
  },
  {
   "cell_type": "markdown",
   "metadata": {},
   "source": [
    "##### Exercise 3(b)\n",
    "證明若條件 2 成立則條件 1 成立。"
   ]
  },
  {
   "cell_type": "markdown",
   "metadata": {},
   "source": [
    "Sample:  \n",
    "Suppose $V$ is a nonempty subset of $\\mathbb{R}^n$ and is closed under scalar multiplication and vector addition.  \n",
    "It is enough to show that $V = \\operatorname{span}(V)$.  \n",
    "\n",
    "**$V\\subseteq\\operatorname{span}(V)$**  \n",
    "...\n",
    "\n",
    "**$\\operatorname{span}(V)\\subseteq V$**  \n",
    "Let ${\\bf u}$ be an element of $\\operatorname{span}(V)$.  \n",
    "Then ${\\bf u}$ can be written as ...  \n",
    "...  \n",
    "Therefore, ${\\bf u}\\in\\operatorname{span}(V)$."
   ]
  },
  {
   "cell_type": "markdown",
   "metadata": {},
   "source": [
    "##### Exercise 3(c)\n",
    "判斷 $\\emptyset$ 是否為一子空間。"
   ]
  },
  {
   "cell_type": "markdown",
   "metadata": {},
   "source": [
    "##### Exercise 3(d)\n",
    "判斷 $\\{{\\bf 0}\\}$ 是否為一子空間。"
   ]
  },
  {
   "cell_type": "markdown",
   "metadata": {},
   "source": [
    "##### Exercise 3(e)\n",
    "判斷 $\\left\\{\\begin{bmatrix}1\\\\1\\\\1\\end{bmatrix}\\right\\}$ 是否為一子空間。"
   ]
  },
  {
   "cell_type": "markdown",
   "metadata": {},
   "source": [
    "##### Exercise 3(f)\n",
    "判斷 $\\left\\{t\\begin{bmatrix}1\\\\1\\\\1\\end{bmatrix} : t\\in\\mathbb{R}\\right\\}$ 是否為一子空間。"
   ]
  },
  {
   "cell_type": "markdown",
   "metadata": {},
   "source": [
    "##### Exercise 3(g)\n",
    "判斷 $\\left\\{\\begin{bmatrix}x\\\\y\\\\z\\end{bmatrix} : x^2 + y^2 + z^2 = 1\\right\\}$ 是否為一子空間。"
   ]
  },
  {
   "cell_type": "markdown",
   "metadata": {},
   "source": [
    "##### Exercise 3(h)\n",
    "判斷 $\\left\\{\\begin{bmatrix}x\\\\y\\\\z\\end{bmatrix} : x^2 + y^2 + z^2 \\geq 1\\right\\}$ 是否為一子空間。"
   ]
  },
  {
   "cell_type": "markdown",
   "metadata": {},
   "source": [
    "##### Exercise 3(i)\n",
    "判斷 $\\left\\{\\begin{bmatrix}x\\\\y\\\\z\\end{bmatrix} : x \\geq 0\\right\\}$ 是否為一子空間。"
   ]
  },
  {
   "cell_type": "markdown",
   "metadata": {},
   "source": [
    "##### Exercise 3(j)\n",
    "判斷 $\\left\\{\\begin{bmatrix}x\\\\y\\\\z\\end{bmatrix} : x + y + z = 0\\right\\}$ 是否為一子空間。"
   ]
  },
  {
   "cell_type": "markdown",
   "metadata": {},
   "source": [
    "##### Exercise 3(k)\n",
    "判斷 $\\left\\{\\begin{bmatrix}x\\\\y\\\\z\\end{bmatrix} : x + y + z = 1\\right\\}$ 是否為一子空間。"
   ]
  },
  {
   "cell_type": "markdown",
   "metadata": {},
   "source": [
    "##### Exercise 3(l)\n",
    "判斷 $\\left\\{\\begin{bmatrix}x\\\\y\\\\z\\end{bmatrix} : \n",
    "\\begin{aligned} \n",
    "x + y + z &= 0 \\\\\n",
    "x + 2y + 3z &= 0\n",
    "\\end{aligned}\n",
    "\\right\\}$ 是否為一子空間。"
   ]
  }
 ],
 "metadata": {
  "kernelspec": {
   "display_name": "SageMath 9.0",
   "language": "sage",
   "name": "sagemath"
  },
  "language_info": {
   "codemirror_mode": {
    "name": "ipython",
    "version": 3
   },
   "file_extension": ".py",
   "mimetype": "text/x-python",
   "name": "python",
   "nbconvert_exporter": "python",
   "pygments_lexer": "ipython3",
   "version": "3.8.10"
  }
 },
 "nbformat": 4,
 "nbformat_minor": 4
}
