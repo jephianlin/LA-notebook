{
 "cells": [
  {
   "cell_type": "markdown",
   "metadata": {},
   "source": [
    "# 矩陣的行空間"
   ]
  },
  {
   "cell_type": "markdown",
   "metadata": {},
   "source": [
    "![Creative Commons License](https://i.creativecommons.org/l/by/4.0/88x31.png)  \n",
    "This work by Jephian Lin is licensed under a [Creative Commons Attribution 4.0 International License](http://creativecommons.org/licenses/by/4.0/)."
   ]
  },
  {
   "cell_type": "markdown",
   "metadata": {},
   "source": [
    "$\\newcommand{\\trans}{^\\top}\n",
    "\\newcommand{\\adj}{^{\\rm adj}}\n",
    "\\newcommand{\\cof}{^{\\rm cof}}\n",
    "\\newcommand{\\inp}[2]{\\left\\langle#1,#2\\right\\rangle}\n",
    "\\newcommand{\\dunion}{\\mathbin{\\dot\\cup}}\n",
    "\\newcommand{\\bzero}{\\mathbf{0}}\n",
    "\\newcommand{\\bone}{\\mathbf{1}}\n",
    "\\newcommand{\\ba}{\\mathbf{a}}\n",
    "\\newcommand{\\bb}{\\mathbf{b}}\n",
    "\\newcommand{\\bc}{\\mathbf{c}}\n",
    "\\newcommand{\\bd}{\\mathbf{d}}\n",
    "\\newcommand{\\be}{\\mathbf{e}}\n",
    "\\newcommand{\\bh}{\\mathbf{h}}\n",
    "\\newcommand{\\bp}{\\mathbf{p}}\n",
    "\\newcommand{\\bq}{\\mathbf{q}}\n",
    "\\newcommand{\\br}{\\mathbf{r}}\n",
    "\\newcommand{\\bx}{\\mathbf{x}}\n",
    "\\newcommand{\\by}{\\mathbf{y}}\n",
    "\\newcommand{\\bz}{\\mathbf{z}}\n",
    "\\newcommand{\\bu}{\\mathbf{u}}\n",
    "\\newcommand{\\bv}{\\mathbf{v}}\n",
    "\\newcommand{\\bw}{\\mathbf{w}}\n",
    "\\newcommand{\\tr}{\\operatorname{tr}}\n",
    "\\newcommand{\\nul}{\\operatorname{null}}\n",
    "\\newcommand{\\rank}{\\operatorname{rank}}\n",
    "%\\newcommand{\\ker}{\\operatorname{ker}}\n",
    "\\newcommand{\\range}{\\operatorname{range}}\n",
    "\\newcommand{\\Col}{\\operatorname{Col}}\n",
    "\\newcommand{\\Row}{\\operatorname{Row}}\n",
    "\\newcommand{\\spec}{\\operatorname{spec}}\n",
    "\\newcommand{\\vspan}{\\operatorname{span}}\n",
    "\\newcommand{\\Vol}{\\operatorname{Vol}}\n",
    "\\newcommand{\\sgn}{\\operatorname{sgn}}\n",
    "\\newcommand{\\idmap}{\\operatorname{id}}\n",
    "\\newcommand{\\am}{\\operatorname{am}}\n",
    "\\newcommand{\\gm}{\\operatorname{gm}}\n",
    "\\newcommand{\\mult}{\\operatorname{mult}}\n",
    "\\newcommand{\\iner}{\\operatorname{iner}}$"
   ]
  },
  {
   "cell_type": "code",
   "execution_count": null,
   "metadata": {},
   "outputs": [],
   "source": [
    "from lingeo import random_int_list, draw_span"
   ]
  },
  {
   "cell_type": "markdown",
   "metadata": {},
   "source": [
    "## Main idea"
   ]
  },
  {
   "cell_type": "markdown",
   "metadata": {},
   "source": [
    "##### Matrix-vector multiplication (by column)\n",
    "Let  \n",
    "$$A = \\begin{bmatrix} \n",
    " | & ~ & | \\\\\n",
    " \\bu_1 & \\cdots & \\bu_n \\\\\n",
    " | & ~ & | \\\\\n",
    "\\end{bmatrix}$$\n",
    "be an $m\\times n$ matrix and  \n",
    "$$\\bv = \\begin{bmatrix} c_1 \\\\ \\vdots \\\\ c_n \\end{bmatrix}$$\n",
    "a vector in $\\mathbb{R}^n$.  \n",
    "Then  \n",
    "$$A\\bv = c_1\\bu_1 + \\cdots + c_n\\bu_n.$$  "
   ]
  },
  {
   "cell_type": "markdown",
   "metadata": {},
   "source": [
    "Thus,  \n",
    "$$\\{A\\bv: \\bv\\in\\mathbb{R}^n\\} = \\vspan(\\{\\bu_1, \\ldots, \\bu_n\\}),$$\n",
    "which is called the **column space** $\\Col(A)$ of $A$."
   ]
  },
  {
   "cell_type": "markdown",
   "metadata": {},
   "source": [
    "Therefore,  \n",
    "the equation $A\\bv = \\bb$ has a solution if and only if $\\bb\\in\\Col(A)$.  "
   ]
  },
  {
   "cell_type": "markdown",
   "metadata": {},
   "source": [
    "## Side stories\n",
    "- redundant vectors for span\n",
    "- `A \\ b`"
   ]
  },
  {
   "cell_type": "markdown",
   "metadata": {},
   "source": [
    "## Experiments"
   ]
  },
  {
   "cell_type": "markdown",
   "metadata": {},
   "source": [
    "##### Exercise 1\n",
    "執行下方程式碼。  \n",
    "令 $\\bu_1$ 及 $\\bu_2$ 為 $A$ 的行向量。  \n",
    "原點為橘色點、\n",
    "從原點延伸出去的紅色向量和淡藍色向量分別為 $\\bu_1$ 和 $\\bu_2$。  \n",
    "黑色向量為 $\\bb$。  \n",
    "問 $A\\bv = \\bb$ 的 $\\bv$ 是否有解？  \n",
    "若有解﹐求 $\\bv$。"
   ]
  },
  {
   "cell_type": "code",
   "execution_count": null,
   "metadata": {
    "scrolled": false
   },
   "outputs": [],
   "source": [
    "### code\n",
    "set_random_seed(0)\n",
    "print_ans = False\n",
    "while True:\n",
    "    l = random_int_list(9)\n",
    "    Ae = matrix(3, l)\n",
    "    if Ae.det() != 0:\n",
    "        break\n",
    "u1 = vector(Ae[:,0])\n",
    "u2 = vector(Ae[:,1])\n",
    "u3 = vector(Ae[:,2])\n",
    "A = Ae[:,:2]\n",
    "\n",
    "inside = choice([0,1,1])\n",
    "coefs = random_int_list(2, 2)\n",
    "if inside:\n",
    "    b = coefs[0]*u1 + coefs[1]*u2\n",
    "else:\n",
    "    b = coefs[0]*u1 + coefs[1]*u2 + 3*u3\n",
    "    \n",
    "print(\"A =\")\n",
    "print(A)\n",
    "print(\"b =\", b)\n",
    "\n",
    "pic = draw_span([u1,u2])\n",
    "pic += arrow((0,0,0), b, width=5, color=\"black\")\n",
    "show(pic)\n",
    "\n",
    "if print_ans:\n",
    "    if inside:\n",
    "        print(\"It has a solution v = %s.\"%vector(coefs[:2]))\n",
    "    else:\n",
    "        print(\"It has no solution.\")"
   ]
  },
  {
   "cell_type": "markdown",
   "metadata": {},
   "source": [
    "## Exercises"
   ]
  },
  {
   "cell_type": "markdown",
   "metadata": {},
   "source": [
    "##### Exercise 2(a)\n",
    "令  \n",
    "$$A = \\begin{bmatrix}  \n",
    " 1 & 2 & 3 \\\\\n",
    " 4 & 5 & 6 \\\\\n",
    " 7 & 8 & 9\n",
    "\\end{bmatrix}\\text{ and }\n",
    "\\bb = \\begin{bmatrix}3\\\\9\\\\15\\end{bmatrix}.$$  \n",
    "判斷 $\\bb$ 是否在 $\\Col(A)$ 中、  \n",
    "並給出說明。  "
   ]
  },
  {
   "cell_type": "markdown",
   "metadata": {},
   "source": [
    "##### Exercise 2(b)\n",
    "令  \n",
    "$$A = \\begin{bmatrix}  \n",
    " 1 & 2 & 3 \\\\\n",
    " 4 & 5 & 6 \\\\\n",
    " 7 & 8 & 9\n",
    "\\end{bmatrix}\\text{ and }\n",
    "\\bb = \\begin{bmatrix}1\\\\1\\\\1\\end{bmatrix}.$$  \n",
    "判斷 $\\bb$ 是否在 $\\Col(A)$ 中、  \n",
    "並給出說明。  "
   ]
  },
  {
   "cell_type": "markdown",
   "metadata": {},
   "source": [
    "##### Exercise 2(c)\n",
    "令  \n",
    "$$A = \\begin{bmatrix}  \n",
    " 0 & 1 & 0 & 1 \\\\\n",
    " 1 & 0 & 1 & 0 \\\\\n",
    " 0 & 1 & 0 & 1 \\\\\n",
    " 1 & 0 & 1 & 0 \\\\\n",
    "\\end{bmatrix}\\text{ and }\n",
    "\\bb = \\begin{bmatrix}2\\\\2\\\\2\\\\2\\end{bmatrix}.$$  \n",
    "判斷 $\\bb$ 是否在 $\\Col(A)$ 中、  \n",
    "並給出說明。  "
   ]
  },
  {
   "cell_type": "markdown",
   "metadata": {},
   "source": [
    "##### Exercise 3(a)\n",
    "令  \n",
    "$$A = \\begin{bmatrix}  \n",
    " 1 & 2 \\\\\n",
    " 1 & 2 \\\\\n",
    "\\end{bmatrix}\\text{ and }\n",
    "\\bb = \\begin{bmatrix}3\\\\4\\end{bmatrix}.$$  \n",
    "給出一些直覺的敘述﹐說明 $\\bb\\notin\\Col(A)$。  "
   ]
  },
  {
   "cell_type": "markdown",
   "metadata": {},
   "source": [
    "##### Exercise 3(b)\n",
    "令  \n",
    "$$A = \\begin{bmatrix}  \n",
    " 1 & 1 \\\\\n",
    " 1 & 1 \\\\\n",
    " -1 & -1 \\\\\n",
    " -1 & -1 \\\\\n",
    "\\end{bmatrix}\\text{ and }\n",
    "\\bb = \\begin{bmatrix}0\\\\0\\\\1\\\\2\\end{bmatrix}.$$  \n",
    "給出一些直覺的敘述﹐說明 $\\bb\\notin\\Col(A)$。  "
   ]
  },
  {
   "cell_type": "markdown",
   "metadata": {},
   "source": [
    "##### Exercise 3(c)\n",
    "令  \n",
    "$$A = \\begin{bmatrix}  \n",
    " -1 & -1 & -1 \\\\\n",
    " 1 & 0 & 0 \\\\\n",
    " 0 & 1 & 0 \\\\\n",
    " 0 & 0 & 1 \\\\\n",
    "\\end{bmatrix}\\text{ and }\n",
    "\\bb = \\begin{bmatrix}-4\\\\1\\\\1\\\\1\\end{bmatrix}.$$  \n",
    "給出一些直覺的敘述﹐說明 $\\bb\\notin\\Col(A)$。  "
   ]
  },
  {
   "cell_type": "markdown",
   "metadata": {},
   "source": [
    "##### Exercise 4\n",
    "\n",
    "以下的小題探討哪些向量刪除以後不會影響生成出來的子空間。  \n",
    "令  \n",
    "$$A = \\begin{bmatrix}\n",
    " 1 & -1 & 1 & 0 \\\\\n",
    " 1 & 1 & 0 & -1 \\\\\n",
    " 1 & 0 & -1 & 1 \\\\\n",
    "\\end{bmatrix}$$\n",
    "且 $S = \\{\\bu_1,\\ldots,\\bu_4\\}$ 為 $A$ 的所有行向量。  "
   ]
  },
  {
   "cell_type": "markdown",
   "metadata": {},
   "source": [
    "##### Exercise 4(a)\n",
    "對 $S$ 中的每一個 $\\bu_i$ 逐個檢查﹐  \n",
    "哪一個 $\\bu_i \\in \\vspan(S\\setminus\\{\\bu_i\\})$。  \n",
    "\n",
    "根據上一節的練習﹐  \n",
    "如果扣掉一個這樣的 $\\bu_i$ 並不會影響生成出來的子空間。  "
   ]
  },
  {
   "cell_type": "markdown",
   "metadata": {},
   "source": [
    "##### Exercise 4(b)\n",
    "\n",
    "經過計算﹐  \n",
    "$$A \\begin{bmatrix}0\\\\1\\\\1\\\\1\\end{bmatrix} = \\bzero.$$\n",
    "也就是 $1\\bu_2 + 1\\bu_3 + 1\\bu_4 = \\bzero$。  \n",
    "用這個等式來說明  \n",
    "$\\bu_2, \\bu_3, \\bu_4$ 中刪掉任何一個都不會影響生成出來的子空間。  "
   ]
  },
  {
   "cell_type": "markdown",
   "metadata": {},
   "source": [
    "##### Exercise 4(c)\n",
    "令 $A'$ 為 $A$ 的前三行組成的矩陣。  \n",
    "我們己知 $\\Col(A') = \\Col(A)$。  \n",
    "經過解方程式的計算可以發現 $\\ker(A') = \\{\\bzero\\}$。  \n",
    "利用這個性質說明 $A'$ 的行之中  \n",
    "沒辦法再拿掉任何一行  \n",
    "但同時保持行空間。"
   ]
  },
  {
   "cell_type": "markdown",
   "metadata": {},
   "source": [
    "##### Exercise 4(d)\n",
    "令 $A$ 為任一矩陣且  \n",
    "$S = \\{\\bu_1,\\ldots,\\bu_n\\}$ 為其所有行向量。  \n",
    "證明以下敘述等價：  \n",
    "1. $\\ker(A) = \\{\\bzero\\}$.  \n",
    "2. $\\vspan(S\\setminus\\bu_i) \\subsetneq \\vspan(S)$ for all $i=1, \\ldots, n$.  "
   ]
  },
  {
   "cell_type": "markdown",
   "metadata": {},
   "source": [
    "##### Exercise 5(a)\n",
    "令 $A = \\begin{bmatrix}\n",
    " a & b \\\\\n",
    " c & d \\\\\n",
    "\\end{bmatrix}$。  \n",
    "定義 $\\det(A) = ad - bc$。  \n",
    "說明若 $\\det(A) \\neq 0$﹐則 $\\Col(A) = \\mathbb{R}^2$ 。  "
   ]
  },
  {
   "cell_type": "markdown",
   "metadata": {},
   "source": [
    "##### Exercise 5(b)\n",
    "令 $A = \\begin{bmatrix}\n",
    " a & b & c \\\\\n",
    " d & e & f \\\\\n",
    " i & j & k \\\\\n",
    "\\end{bmatrix}$。  \n",
    "定義 $\\det(A) = aek + bfi + cdj - cei - dbk - afj$。  \n",
    "說明若 $\\det(A) \\neq 0$﹐則 $\\Col(A) = \\mathbb{R}^3$ 。  "
   ]
  }
 ],
 "metadata": {
  "kernelspec": {
   "display_name": "SageMath 9.6",
   "language": "sage",
   "name": "sagemath"
  },
  "language_info": {
   "codemirror_mode": {
    "name": "ipython",
    "version": 3
   },
   "file_extension": ".py",
   "mimetype": "text/x-python",
   "name": "python",
   "nbconvert_exporter": "python",
   "pygments_lexer": "ipython3",
   "version": "3.10.5"
  }
 },
 "nbformat": 4,
 "nbformat_minor": 4
}
