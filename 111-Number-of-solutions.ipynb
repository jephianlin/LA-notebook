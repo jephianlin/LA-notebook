{
 "cells": [
  {
   "cell_type": "markdown",
   "metadata": {},
   "source": [
    "# 解的個數"
   ]
  },
  {
   "cell_type": "markdown",
   "metadata": {},
   "source": [
    "![Creative Commons License](https://i.creativecommons.org/l/by/4.0/88x31.png)  \n",
    "This work by Jephian Lin is licensed under a [Creative Commons Attribution 4.0 International License](http://creativecommons.org/licenses/by/4.0/)."
   ]
  },
  {
   "cell_type": "code",
   "execution_count": null,
   "metadata": {},
   "outputs": [],
   "source": [
    "from lingeo import random_good_matrix"
   ]
  },
  {
   "cell_type": "markdown",
   "metadata": {},
   "source": [
    "## Main idea"
   ]
  },
  {
   "cell_type": "markdown",
   "metadata": {},
   "source": [
    "Let $A$ be an $m\\times n$ matrix and ${\\bf b}$ a vector in $\\mathbb{R}^n$.  \n",
    "Recall that  \n",
    "$$\\{ {\\bf x}\\in\\mathbb{R}^n : A{\\bf x} = {\\bf b} \\} = {\\bf p} + \\operatorname{ker}(A).$$"
   ]
  },
  {
   "cell_type": "markdown",
   "metadata": {},
   "source": [
    "Since $\\operatorname{ker}(A)$ is a subspace in $\\mathbb{R}^n$, it either contains  \n",
    "1. only one vector, which is ${\\bf 0}$, or  \n",
    "2. infintely many vectors.  \n",
    "\n",
    "In the first case, we say the homogeneous equation only has the **trivial solution**.  \n",
    "In the second case, we say the homogeneous equation has **nontrivial solutions**."
   ]
  },
  {
   "cell_type": "markdown",
   "metadata": {},
   "source": [
    "On the other hand, we know  \n",
    "1. a particular solution exists if ${\\bf b}\\in\\operatorname{Col}(A)$, and  \n",
    "2. a particular solution does not exists if ${\\bf b}\\notin\\operatorname{Col}(A)$.  \n",
    "\n",
    "In the first case, we say the equation $A{\\bf x} = {\\bf b}$ is **consistent**.  \n",
    "In the second case, we say the equation $A{\\bf x} = {\\bf b}$ is **inconsistent**.  "
   ]
  },
  {
   "cell_type": "markdown",
   "metadata": {},
   "source": [
    "Therefore, a system of linear equations $A{\\bf x} = {\\bf b}$ either have $0$, $1$, or infinitely solutions.  \n",
    "This table summarizes the number of solutions of $A{\\bf x} = {\\bf b}$.\n",
    "\n",
    " hom \\ par | consistent | inconsistent \n",
    " --------- | ---------- | ------------ \n",
    " trivial | one | none \n",
    " nontrivial | infinite | none\n",
    " \n",
    "Note that whether its homogeneous equation only has the trivial solution or not depends only on $A$."
   ]
  },
  {
   "cell_type": "markdown",
   "metadata": {},
   "source": [
    "Let $r$ be the number of pivots in the reduced echelon form of $A$.  \n",
    "Here we summarize some facts that we have learnt:  \n",
    "1. If $r = m$, then $\\operatorname{Col}(A) = \\mathbb{R}^m$.  \n",
    "2. If $r = n$, then $\\operatorname{ker}(A) = \\{{\\bf 0}\\}$.  \n",
    "\n",
    "Since $r\\leq\\min\\{m,n\\}$, the two conditions happen together only when $r = m = n$.  "
   ]
  },
  {
   "cell_type": "markdown",
   "metadata": {},
   "source": [
    "Let $A$ be an $n\\times n$ matrix and $r$ its number of pivots in its reduced echelon form.  \n",
    "We say $A$ is **singular** if $r < n$ and is **nonsingular** if $r = n$.  \n",
    "The following are equivalent:  \n",
    "1. $A$ is nonsingular.  \n",
    "2. $\\operatorname{Col}(A) = \\mathbb{R}^n$.  \n",
    "3. $\\operatorname{ker}(A) = \\{{\\bf 0}\\}$.  \n",
    "4. For any ${\\bf b}\\in\\mathbb{R}^n$, the equation $A{\\bf x} = {\\bf b}$ has a unique solution.  "
   ]
  },
  {
   "cell_type": "markdown",
   "metadata": {},
   "source": [
    "## Side stories\n",
    "- determinant and nonsingularity for small matrices"
   ]
  },
  {
   "cell_type": "markdown",
   "metadata": {},
   "source": [
    "## Experiments"
   ]
  },
  {
   "cell_type": "markdown",
   "metadata": {},
   "source": [
    "##### Exercise 1\n",
    "\n",
    "執行下方程式碼。  \n",
    "矩陣 $\\left[\\begin{array}{c|c}R&{\\bf r}\\end{array}\\right]$ 是 $\\left[\\begin{array}{c|c}A&{\\bf b}\\end{array}\\right]$ 的最簡階梯形式矩陣。  \n",
    "判斷方程式 $A{\\bf x} = {\\bf b}$ 解的個數  \n",
    "（零個、一個、或是無限多個）。"
   ]
  },
  {
   "cell_type": "code",
   "execution_count": null,
   "metadata": {
    "scrolled": false
   },
   "outputs": [],
   "source": [
    "### code\n",
    "set_random_seed(None)\n",
    "print_ans = True\n",
    "has_sol = choice([True, False])\n",
    "tri_ker = choice([True, False])\n",
    "r = 5 if tri_ker else 4\n",
    "while True:\n",
    "    Ab, R, pivots = random_good_matrix(5,6,r, return_answer=True)\n",
    "    if (5 not in pivots) == has_sol:\n",
    "        break\n",
    "A = Ab[:,:5]\n",
    "b = vector(Ab[:,5])\n",
    "Ab = A.augment(b, subdivide=True)\n",
    "Rr = Ab.rref()\n",
    "\n",
    "print(\"[ A | b ] =\")\n",
    "show(Ab)\n",
    "print(\"[ R | r ] =\")\n",
    "show(Rr)\n",
    "\n",
    "if print_ans:\n",
    "    has_sol = False if 5 in pivots else True\n",
    "    leading = [i+1 for i in pivots if i != 5]\n",
    "    free = [i for i in range(1,6) if i not in leading]\n",
    "    num_sol = 0 if not has_sol else (1 if len(free) == 0 else oo)\n",
    "    print(\"Number of solutions?\", num_sol)"
   ]
  },
  {
   "cell_type": "markdown",
   "metadata": {},
   "source": [
    "## Exercises"
   ]
  },
  {
   "cell_type": "markdown",
   "metadata": {},
   "source": [
    "##### Exercise 2\n",
    "\n",
    "令 $A$ 為一 $m\\times n$ 矩陣而 ${\\bf b}\\in\\mathbb{R}^m$。  "
   ]
  },
  {
   "cell_type": "markdown",
   "metadata": {},
   "source": [
    "##### Exercise 2(a)\n",
    "\n",
    "說明若 $m < n$ 則 $A{\\bf x} = {\\bf b}$  \n",
    "要嘛無解、要嘛無限多解。  "
   ]
  },
  {
   "cell_type": "markdown",
   "metadata": {},
   "source": [
    "##### Exercise 2(b)\n",
    "\n",
    "說明若 $m > n$ 則 $A{\\bf x} = {\\bf b}$  \n",
    "要嘛無解、要嘛有唯一解。  "
   ]
  },
  {
   "cell_type": "markdown",
   "metadata": {},
   "source": [
    "##### Exercise 3\n",
    "\n",
    "Singular 這個字是意思是「奇異的」。  \n",
    "執行以下的程式碼。  \n",
    "這段程式請電腦隨機產生一個矩陣 $A$  \n",
    "其每一項都是從 $-5$ 到 $5$ 中機率相同地取出一個整數。  \n",
    "試試看出現 singular 的機會高不高。  \n",
    "\n",
    "（因為大部份的矩陣都不奇異的﹐所以一開始才把這類 $r < n$ 的矩陣稱為奇異的。  \n",
    "然而在數學上「非奇異的」是一個重要的性質﹐  \n",
    "課本和學術論文上一直會用到「The matrix is nonsingular.」這種句子﹐  \n",
    "甚至時常使用「The matrix is not nonsingular.」。  \n",
    "這種雙重否定的敘述讓人混亂。  \n",
    "然而未來我們會學到「非奇異的」和「可逆的」這兩個述敘等價﹐  \n",
    "這樣就可以避免雙重否定的困擾。）"
   ]
  },
  {
   "cell_type": "code",
   "execution_count": null,
   "metadata": {},
   "outputs": [],
   "source": [
    "### code\n",
    "l = [choice(list(range(-5,6))) for _ in range(25)]\n",
    "A = matrix(5, l)\n",
    "show(A)\n",
    "print(\"Is A singular?\", A.is_singular())"
   ]
  },
  {
   "cell_type": "markdown",
   "metadata": {},
   "source": [
    "##### Exercise 4\n",
    "\n",
    "對於小的矩陣﹐證明以下敘述等價：  \n",
    "1. $\\det(A) \\neq 0$.\n",
    "2. $A$ is nonsingular."
   ]
  },
  {
   "cell_type": "markdown",
   "metadata": {},
   "source": [
    "##### Exercise 4(a)\n",
    "\n",
    "若 $A$ 是 $2\\times 2$ 矩陣﹐證明以下敘述等價：  \n",
    "1. $\\det(A) \\neq 0$.\n",
    "2. $A$ is nonsingular."
   ]
  },
  {
   "cell_type": "markdown",
   "metadata": {},
   "source": [
    "##### Exercise 4(b)\n",
    "\n",
    "若 $A$ 是 $3\\times 3$ 矩陣﹐證明以下敘述等價：  \n",
    "1. $\\det(A) \\neq 0$.\n",
    "2. $A$ is nonsingular."
   ]
  }
 ],
 "metadata": {
  "kernelspec": {
   "display_name": "SageMath 9.0",
   "language": "sage",
   "name": "sagemath"
  },
  "language_info": {
   "codemirror_mode": {
    "name": "ipython",
    "version": 3
   },
   "file_extension": ".py",
   "mimetype": "text/x-python",
   "name": "python",
   "nbconvert_exporter": "python",
   "pygments_lexer": "ipython3",
   "version": "3.8.10"
  }
 },
 "nbformat": 4,
 "nbformat_minor": 4
}
