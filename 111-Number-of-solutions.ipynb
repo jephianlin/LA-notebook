{
 "cells": [
  {
   "cell_type": "markdown",
   "metadata": {},
   "source": [
    "# 解的個數\n",
    "\n",
    "Number of solutions"
   ]
  },
  {
   "cell_type": "markdown",
   "metadata": {},
   "source": [
    "![Creative Commons License](https://i.creativecommons.org/l/by/4.0/88x31.png)  \n",
    "This work by Jephian Lin is licensed under a [Creative Commons Attribution 4.0 International License](http://creativecommons.org/licenses/by/4.0/)."
   ]
  },
  {
   "cell_type": "markdown",
   "metadata": {},
   "source": [
    "$\\newcommand{\\trans}{^\\top}\n",
    "\\newcommand{\\adj}{^{\\rm adj}}\n",
    "\\newcommand{\\cof}{^{\\rm cof}}\n",
    "\\newcommand{\\inp}[2]{\\left\\langle#1,#2\\right\\rangle}\n",
    "\\newcommand{\\dunion}{\\mathbin{\\dot\\cup}}\n",
    "\\newcommand{\\bzero}{\\mathbf{0}}\n",
    "\\newcommand{\\bone}{\\mathbf{1}}\n",
    "\\newcommand{\\ba}{\\mathbf{a}}\n",
    "\\newcommand{\\bb}{\\mathbf{b}}\n",
    "\\newcommand{\\bc}{\\mathbf{c}}\n",
    "\\newcommand{\\bd}{\\mathbf{d}}\n",
    "\\newcommand{\\be}{\\mathbf{e}}\n",
    "\\newcommand{\\bh}{\\mathbf{h}}\n",
    "\\newcommand{\\bp}{\\mathbf{p}}\n",
    "\\newcommand{\\bq}{\\mathbf{q}}\n",
    "\\newcommand{\\br}{\\mathbf{r}}\n",
    "\\newcommand{\\bx}{\\mathbf{x}}\n",
    "\\newcommand{\\by}{\\mathbf{y}}\n",
    "\\newcommand{\\bz}{\\mathbf{z}}\n",
    "\\newcommand{\\bu}{\\mathbf{u}}\n",
    "\\newcommand{\\bv}{\\mathbf{v}}\n",
    "\\newcommand{\\bw}{\\mathbf{w}}\n",
    "\\newcommand{\\tr}{\\operatorname{tr}}\n",
    "\\newcommand{\\nul}{\\operatorname{null}}\n",
    "\\newcommand{\\rank}{\\operatorname{rank}}\n",
    "%\\newcommand{\\ker}{\\operatorname{ker}}\n",
    "\\newcommand{\\range}{\\operatorname{range}}\n",
    "\\newcommand{\\Col}{\\operatorname{Col}}\n",
    "\\newcommand{\\Row}{\\operatorname{Row}}\n",
    "\\newcommand{\\spec}{\\operatorname{spec}}\n",
    "\\newcommand{\\vspan}{\\operatorname{span}}\n",
    "\\newcommand{\\Vol}{\\operatorname{Vol}}\n",
    "\\newcommand{\\sgn}{\\operatorname{sgn}}\n",
    "\\newcommand{\\idmap}{\\operatorname{id}}\n",
    "\\newcommand{\\am}{\\operatorname{am}}\n",
    "\\newcommand{\\gm}{\\operatorname{gm}}\n",
    "\\newcommand{\\mult}{\\operatorname{mult}}\n",
    "\\newcommand{\\iner}{\\operatorname{iner}}$"
   ]
  },
  {
   "cell_type": "code",
   "execution_count": null,
   "metadata": {},
   "outputs": [],
   "source": [
    "from lingeo import random_good_matrix"
   ]
  },
  {
   "cell_type": "markdown",
   "metadata": {},
   "source": [
    "## Main idea"
   ]
  },
  {
   "cell_type": "markdown",
   "metadata": {},
   "source": [
    "Let $A$ be an $m\\times n$ matrix and $\\bb$ a vector in $\\mathbb{R}^n$.  \n",
    "Recall that  \n",
    "$$\\{ \\bx\\in\\mathbb{R}^n : A\\bx = \\bb \\} = \\bp + \\ker(A).$$"
   ]
  },
  {
   "cell_type": "markdown",
   "metadata": {},
   "source": [
    "Since $\\ker(A)$ is a subspace in $\\mathbb{R}^n$, it either contains  \n",
    "1. only one vector, which is $\\bzero$, or  \n",
    "2. infintely many vectors.  \n",
    "\n",
    "In the first case, we say the homogeneous equation only has the **trivial solution**.  \n",
    "In the second case, we say the homogeneous equation has **nontrivial solutions**."
   ]
  },
  {
   "cell_type": "markdown",
   "metadata": {},
   "source": [
    "On the other hand, we know  \n",
    "1. a particular solution exists if $\\bb\\in\\Col(A)$, and  \n",
    "2. a particular solution does not exists if $\\bb\\notin\\Col(A)$.  \n",
    "\n",
    "In the first case, we say the equation $A\\bx = \\bb$ is **consistent**.  \n",
    "In the second case, we say the equation $A\\bx = \\bb$ is **inconsistent**.  "
   ]
  },
  {
   "cell_type": "markdown",
   "metadata": {},
   "source": [
    "Therefore, a system of linear equations $A\\bx = \\bb$ either have $0$, $1$, or infinitely solutions.  \n",
    "This table summarizes the number of solutions of $A\\bx = \\bb$.\n",
    "\n",
    " hom \\ par | consistent | inconsistent \n",
    " --------- | ---------- | ------------ \n",
    " trivial | one | none \n",
    " nontrivial | infinite | none\n",
    " \n",
    "Note that whether its homogeneous equation only has the trivial solution or not depends only on $A$."
   ]
  },
  {
   "cell_type": "markdown",
   "metadata": {},
   "source": [
    "Let $r$ be the number of pivots in the reduced echelon form of $A$.  \n",
    "Here we summarize some facts that we have learnt:  \n",
    "1. If $r = m$, then $\\Col(A) = \\mathbb{R}^m$.  \n",
    "2. If $r = n$, then $\\ker(A) = \\{\\bzero\\}$.  \n",
    "\n",
    "Since $r\\leq\\min\\{m,n\\}$, the two conditions happen together only when $r = m = n$.  "
   ]
  },
  {
   "cell_type": "markdown",
   "metadata": {},
   "source": [
    "Let $A$ be an $n\\times n$ matrix and $r$ its number of pivots in its reduced echelon form.  \n",
    "We say $A$ is **singular** if $r < n$ and is **nonsingular** if $r = n$.  \n",
    "The following are equivalent:  \n",
    "1. $A$ is nonsingular.  \n",
    "2. $\\Col(A) = \\mathbb{R}^n$.  \n",
    "3. $\\ker(A) = \\{\\bzero\\}$.  \n",
    "4. For any $\\bb\\in\\mathbb{R}^n$, the equation $A\\bx = \\bb$ has a unique solution.  "
   ]
  },
  {
   "cell_type": "markdown",
   "metadata": {},
   "source": [
    "## Side stories\n",
    "- determinant and nonsingularity for small matrices"
   ]
  },
  {
   "cell_type": "markdown",
   "metadata": {},
   "source": [
    "## Experiments"
   ]
  },
  {
   "cell_type": "markdown",
   "metadata": {},
   "source": [
    "##### Exercise 1\n",
    "\n",
    "執行下方程式碼。  \n",
    "矩陣 $\\left[\\begin{array}{c|c}R&\\br\\end{array}\\right]$ 是 $\\left[\\begin{array}{c|c}A&\\bb\\end{array}\\right]$ 的最簡階梯形式矩陣。  \n",
    "判斷方程式 $A\\bx = \\bb$ 解的個數  \n",
    "（零個、一個、或是無限多個）。\n",
    "\n",
    "<!-- eng start -->\n",
    "Run the code below.  Let $\\left[\\begin{array}{c|c}R&\\br\\end{array}\\right]$ be the reduced echelon form of $\\left[\\begin{array}{c|c}A&\\bb\\end{array}\\right]$.  Determine the number of solutions to $A\\bx = \\bb$.  (None, one solution, or infinitely many solutions.)\n",
    "<!-- eng end -->"
   ]
  },
  {
   "cell_type": "code",
   "execution_count": null,
   "metadata": {
    "scrolled": false
   },
   "outputs": [],
   "source": [
    "### code\n",
    "set_random_seed(0)\n",
    "print_ans = False\n",
    "has_sol = choice([True, False])\n",
    "tri_ker = choice([True, False])\n",
    "r = 5 if tri_ker else 4\n",
    "while True:\n",
    "    Ab, R, pivots = random_good_matrix(5,6,r, return_answer=True)\n",
    "    if (5 not in pivots) == has_sol:\n",
    "        break\n",
    "A = Ab[:,:5]\n",
    "b = vector(Ab[:,5])\n",
    "Ab = A.augment(b, subdivide=True)\n",
    "Rr = Ab.rref()\n",
    "\n",
    "print(\"[ A | b ] =\")\n",
    "show(Ab)\n",
    "print(\"[ R | r ] =\")\n",
    "show(Rr)\n",
    "\n",
    "if print_ans:\n",
    "    has_sol = False if 5 in pivots else True\n",
    "    leading = [i+1 for i in pivots if i != 5]\n",
    "    free = [i for i in range(1,6) if i not in leading]\n",
    "    num_sol = 0 if not has_sol else (1 if len(free) == 0 else oo)\n",
    "    print(\"Number of solutions?\", num_sol)"
   ]
  },
  {
   "cell_type": "markdown",
   "metadata": {},
   "source": [
    "## Exercises"
   ]
  },
  {
   "cell_type": "markdown",
   "metadata": {},
   "source": [
    "##### Exercise 2\n",
    "\n",
    "令 $A$ 為一 $m\\times n$ 矩陣而 $\\bb\\in\\mathbb{R}^m$。  \n",
    "說明若 $m < n$ 則 $A\\bx = \\bb$  \n",
    "要嘛無解、要嘛無限多解。 \n",
    "\n",
    "<!-- eng start -->\n",
    "Let $A$ be an $m\\times n$ matrix and $\\bb\\in\\mathbb{R}^m$.  Show that if $m < n$, then $A\\bx = \\bb$ has either no solution or infinitely many solutions.\n",
    "<!-- eng end -->"
   ]
  },
  {
   "cell_type": "markdown",
   "metadata": {},
   "source": [
    "##### Exercise 3\n",
    "\n",
    "Singular 這個字是意思是「奇異的」。  \n",
    "執行以下的程式碼。  \n",
    "這段程式請電腦隨機產生一個矩陣 $A$  \n",
    "其每一項都是從 $-5$ 到 $5$ 中機率相同地取出一個整數。  \n",
    "試試看出現 singular 的機會高不高。  \n",
    "\n",
    "（因為大部份的矩陣都不奇異的﹐所以一開始才把這類 $r < n$ 的矩陣稱為奇異的。  \n",
    "然而在數學上「非奇異的」是一個重要的性質﹐  \n",
    "課本和學術論文上一直會用到「The matrix is nonsingular.」這種句子﹐  \n",
    "甚至時常使用「The matrix is not nonsingular.」。  \n",
    "這種雙重否定的敘述讓人混亂。  \n",
    "然而未來我們會學到「非奇異的」和「可逆的」這兩個述敘等價﹐  \n",
    "這樣就可以避免雙重否定的困擾。）\n",
    "\n",
    "<!-- eng start -->\n",
    "The term \"singular\" indicates that it is a special case.  Run the code below.  The code generates a random matrix $A$, where each entry is a random integer between $-5$ and $5$ with evenly distributed probabilty.  Try a few times and describe how likely you can get a singular matrix.  \n",
    "\n",
    "Note: Since most of matrices are not singular, so the matrices with rank $r < n$ are named singular.  However, the term \"nonsingular\" is an important concept in mathematics, and it is quite common to see some sentences like \"The matrix is nonsingular.\"  Even worse, sentences like \"The matrix is not nonsingular\" are also very common.  Such statements with double negation is confusing.  Fortunately, we will later learn that \"nonsingular\" is equivalent to \"invertible\", so we can always avoid sentences with double negation.\n",
    "<!-- eng end -->"
   ]
  },
  {
   "cell_type": "code",
   "execution_count": null,
   "metadata": {},
   "outputs": [],
   "source": [
    "### code\n",
    "l = [choice(list(range(-5,6))) for _ in range(25)]\n",
    "A = matrix(5, l)\n",
    "show(A)\n",
    "print(\"Is A singular?\", A.is_singular())"
   ]
  },
  {
   "cell_type": "markdown",
   "metadata": {},
   "source": [
    "##### Exercise 4\n",
    "\n",
    "對於小的矩陣﹐證明以下敘述等價：  \n",
    "1. $\\det(A) \\neq 0$.\n",
    "2. $A$ is nonsingular."
   ]
  },
  {
   "cell_type": "markdown",
   "metadata": {},
   "source": [
    "##### Exercise 4(a)\n",
    "\n",
    "若 $A$ 是 $2\\times 2$ 矩陣﹐證明以下敘述等價：  \n",
    "1. $\\det(A) \\neq 0$.\n",
    "2. $A$ is nonsingular."
   ]
  },
  {
   "cell_type": "markdown",
   "metadata": {},
   "source": [
    "##### Exercise 4(b)\n",
    "\n",
    "若 $A$ 是 $3\\times 3$ 矩陣﹐證明以下敘述等價：  \n",
    "1. $\\det(A) \\neq 0$.\n",
    "2. $A$ is nonsingular."
   ]
  }
 ],
 "metadata": {
  "kernelspec": {
   "display_name": "SageMath 9.6",
   "language": "sage",
   "name": "sagemath"
  },
  "language_info": {
   "codemirror_mode": {
    "name": "ipython",
    "version": 3
   },
   "file_extension": ".py",
   "mimetype": "text/x-python",
   "name": "python",
   "nbconvert_exporter": "python",
   "pygments_lexer": "ipython3",
   "version": "3.10.5"
  }
 },
 "nbformat": 4,
 "nbformat_minor": 4
}
