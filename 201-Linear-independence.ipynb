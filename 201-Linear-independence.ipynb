{
 "cells": [
  {
   "cell_type": "markdown",
   "metadata": {},
   "source": [
    "# 線性獨立"
   ]
  },
  {
   "cell_type": "markdown",
   "metadata": {},
   "source": [
    "![Creative Commons License](https://i.creativecommons.org/l/by/4.0/88x31.png)  \n",
    "This work by Jephian Lin is licensed under a [Creative Commons Attribution 4.0 International License](http://creativecommons.org/licenses/by/4.0/)."
   ]
  },
  {
   "cell_type": "code",
   "execution_count": null,
   "metadata": {},
   "outputs": [],
   "source": [
    "from lingeo import random_good_matrix, random_int_list, kernel_matrix"
   ]
  },
  {
   "cell_type": "markdown",
   "metadata": {},
   "source": [
    "## Main idea"
   ]
  },
  {
   "cell_type": "markdown",
   "metadata": {},
   "source": [
    "Let $S = \\{{\\bf u}_1,\\ldots,{\\bf u}_k\\}$ be a set of finite many vectors.  \n",
    "We say $S$ is **linearly independent** if the only coefficients $c_1,\\ldots, c_k\\in\\mathbb{R}$ satisfying  \n",
    "$$c_1{\\bf u}_1 + \\cdots + c_k{\\bf u}_k = {\\bf 0}$$  \n",
    "is $c_1 = \\cdots = c_k = 0$.  \n",
    "(A infinite set of vectors is linearly independent if any finite subsut of it is linearly independent.)  "
   ]
  },
  {
   "cell_type": "markdown",
   "metadata": {},
   "source": [
    "The following are equivalent:  \n",
    "1. $S$ is linearly independent.  \n",
    "2. For any vector ${\\bf u}\\in S$, ${\\bf u}\\notin\\operatorname{span}(S\\setminus\\{{\\bf u}\\})$.  \n",
    "3. For any vector ${\\bf u}\\in S$, $\\operatorname{span}(S\\setminus\\{{\\bf u}\\})\\subsetneq\\operatorname{span}(S)$.  \n",
    "\n",
    "Therefore, intuitively, $S$ is linearly independent means every vector in it is important."
   ]
  },
  {
   "cell_type": "markdown",
   "metadata": {},
   "source": [
    "There are other equivalent conditions that is easier to check.  \n",
    "Let $S$ be a set of vectors and $A$ the matrix whose columns are vectors in $S$.  \n",
    "The following are equivalent:  \n",
    "1. $S$ is linearly independent.  \n",
    "2. The representation of any linear combination of $S$ is unique.  \n",
    "That is, if ${\\bf b} = c_1{\\bf u}_1 + \\cdots + c_k{\\bf u}_k = d_1{\\bf u}_1 + \\cdots + d_k{\\bf u}_k$, then $c_1 = d_1$, $\\ldots$, and $c_k = d_k$.  \n",
    "3. For any ${\\bf b}\\in\\operatorname{Col}(A)$, the solution to $A{\\bf x} = {\\bf b}$ is unique.  \n",
    "4. $\\operatorname{ker}(A) = \\{{\\bf 0}\\}$.  "
   ]
  },
  {
   "cell_type": "markdown",
   "metadata": {},
   "source": [
    "## Side stories\n",
    "- unique representation of polynomials\n",
    "- interpolation"
   ]
  },
  {
   "cell_type": "markdown",
   "metadata": {},
   "source": [
    "## Experiments"
   ]
  },
  {
   "cell_type": "markdown",
   "metadata": {},
   "source": [
    "##### Exercise 1\n",
    "\n",
    "執行下方程式碼。  \n",
    "矩陣 $\\left[\\begin{array}{c|c} R & {\\bf r} \\end{array}\\right]$ 是 $\\left[\\begin{array}{c|c} A & {\\bf b} \\end{array}\\right]$ 的最簡階梯形式矩陣。  \n",
    "令 ${\\bf u}_1,\\ldots,{\\bf u}_5$ 為 $A$ 的各行向量。  "
   ]
  },
  {
   "cell_type": "code",
   "execution_count": null,
   "metadata": {
    "scrolled": false
   },
   "outputs": [],
   "source": [
    "### code\n",
    "set_random_seed(0)\n",
    "print_ans = False\n",
    "m,n,r = 3,5,2\n",
    "A = random_good_matrix(m,n,r)\n",
    "v = vector(random_int_list(5))\n",
    "b = A * v\n",
    "Ab = A.augment(b, subdivide=True)\n",
    "Rr = Ab.rref()\n",
    "\n",
    "print(\"[ A | b ] =\")\n",
    "show(Ab)\n",
    "print(\"[ R | r ] =\")\n",
    "show(Rr)\n",
    "\n",
    "if print_ans:\n",
    "    c = kernel_matrix(A).transpose()[0]\n",
    "    print(\"{} u1 + {} u2 + {} u3 + {} u4 + {} u5 = 0\".format(*c))\n",
    "    print(\"b = {} u1 + {} u2 + {} u3 + {} u4 + {} u5\".format(*v))\n",
    "    print(\"b = {} u1 + {} u2 + {} u3 + {} u4 + {} u5\".format(*(v+c)))\n",
    "    for i in range(5):\n",
    "        if c[i] != 0:\n",
    "            first = i\n",
    "            break\n",
    "    print(\"u%s = -( \"%(i+1) + \n",
    "          \" + \".join(\"%s u%s\"%(c[i]/c[first], i+1) for i in range(5) if i != first) + \" )\")"
   ]
  },
  {
   "cell_type": "markdown",
   "metadata": {},
   "source": [
    "##### Exercise 1(a)\n",
    "\n",
    "找一群不是全為 $0$ 的數字 $c_1,\\ldots,c_5$﹐  \n",
    "使得 $c_1{\\bf u}_1 + \\cdots + c_5{\\bf u}_5 = {\\bf 0}$。  "
   ]
  },
  {
   "cell_type": "markdown",
   "metadata": {},
   "source": [
    "##### Exercise 1(b)\n",
    "\n",
    "已知 ${\\bf b} \\in \\operatorname{Col}(A)$。  \n",
    "找兩群相對應數字不完全一樣的數字 $c_1,\\ldots,c_5$ 和 $d_1,\\ldots,d_5$﹐  \n",
    "使得 $c_1{\\bf u}_1 + \\cdots + c_5{\\bf u}_5 = d_1{\\bf u}_1 + \\cdots + d_5{\\bf u}_5$。  "
   ]
  },
  {
   "cell_type": "markdown",
   "metadata": {},
   "source": [
    "##### Exercise 1(c)\n",
    "\n",
    "將 $A$ 的其中一個行向量寫成其它行向量的線性組合。  "
   ]
  },
  {
   "cell_type": "markdown",
   "metadata": {},
   "source": [
    "## Exercises"
   ]
  },
  {
   "cell_type": "markdown",
   "metadata": {},
   "source": [
    "##### Exercise 2\n",
    "\n",
    "執行以下程式碼。  \n",
    "令 $S = \\{ {\\bf u}_1, {\\bf u}_2, {\\bf u}_3 \\}$ 為矩陣 $A$ 的各行向量。  \n",
    "問 $S$ 是否線性獨立。  \n",
    "若是，將 ${\\bf b}$ 寫成 $S$ 的線性組合。  \n",
    "若否，找到一個 $S$ 中的向量將其寫成其它向量的線性組合。  "
   ]
  },
  {
   "cell_type": "code",
   "execution_count": null,
   "metadata": {},
   "outputs": [],
   "source": [
    "### code\n",
    "set_random_seed(0)\n",
    "print_ans = False\n",
    "ind = choice([True, False])\n",
    "m,n,r = 5,3,3 if ind else 2\n",
    "A = random_good_matrix(m,n,r)\n",
    "print(\"A =\")\n",
    "show(A)\n",
    "v = vector(random_int_list(3))\n",
    "b = A * v\n",
    "print(\"b =\", b)\n",
    "\n",
    "if print_ans:\n",
    "    print(\"Linearly independent?\", ind)\n",
    "    if ind:\n",
    "        print(\"b = \" + \" + \".join(\"%s u%s\"%(v[i], i+1) for i in range(3)))\n",
    "    else:\n",
    "        c = kernel_matrix(A).transpose()[0]\n",
    "        for i in range(3):\n",
    "            if c[i] != 0:\n",
    "                first = i\n",
    "                break\n",
    "        print(\"u%s = -( \"%(i+1) + \n",
    "              \" + \".join(\"%s u%s\"%(c[i]/c[first], i+1) for i in range(3) if i != first) + \" )\")"
   ]
  },
  {
   "cell_type": "markdown",
   "metadata": {},
   "source": [
    "##### Exercise 3\n",
    "\n",
    "以下的例子說明了多項式也有類似地「表示法唯一」的性質。  \n",
    "（有沒有辦法把多項式寫成向量的樣子？）  "
   ]
  },
  {
   "cell_type": "markdown",
   "metadata": {},
   "source": [
    "##### Exercise 3(a)\n",
    "\n",
    "證明一個二次多項式 $f(x)$ 如果可以寫成 $c_0 + c_1(x-1) + c_2(x-1)^2$ 的樣子。  \n",
    "則 $c_0,c_1,c_2$ 的選擇唯一。  "
   ]
  },
  {
   "cell_type": "markdown",
   "metadata": {},
   "source": [
    "##### Exercise 3(b)\n",
    "\n",
    "令  \n",
    "$$\\begin{aligned}\n",
    "f_1(x) &= \\frac{(x-2)(x-3)}{(1-2)(1-3)}, \\\\\n",
    "f_2(x) &= \\frac{(x-1)(x-3)}{(2-1)(2-3)}, \\\\\n",
    "f_3(x) &= \\frac{(x-1)(x-2)}{(3-1)(3-2)}. \\\\\n",
    "\\end{aligned}$$\n",
    "證明一個二次多項式 $f(x)$ 如果可以寫成 $c_1f_1(x) + c_2f_2(x) + c_3f_3(x)$ 的樣子。  \n",
    "則 $c_1,c_2,c_3$ 的選擇唯一。  "
   ]
  },
  {
   "cell_type": "markdown",
   "metadata": {},
   "source": [
    "##### Exercise 4\n",
    "\n",
    "證明以下敘述等價：  \n",
    "1. $S$ is linearly independent.  \n",
    "2. For any vector ${\\bf u}\\in S$, ${\\bf u}\\notin\\operatorname{span}(S\\setminus\\{{\\bf u}\\})$.  \n",
    "3. For any vector ${\\bf u}\\in S$, $\\operatorname{span}(S\\setminus\\{{\\bf u}\\})\\subsetneq\\operatorname{span}(S)$.  "
   ]
  },
  {
   "cell_type": "markdown",
   "metadata": {},
   "source": [
    "##### Exercise 5\n",
    "\n",
    "證明以下敘述等價：  \n",
    "1. $S$ is linearly independent.  \n",
    "2. The representation of any linear combination of $S$ is unique.  \n",
    "That is, if ${\\bf b} = c_1{\\bf u}_1 + \\cdots + c_k{\\bf u}_k = d_1{\\bf u}_1 + \\cdots + d_k{\\bf u}_k$, then $c_1 = d_1$, $\\ldots$, and $c_k = d_k$.  \n",
    "3. For any ${\\bf b}\\in\\operatorname{Col}(A)$, the solution to $A{\\bf x} = {\\bf b}$ is unique.  \n",
    "4. $\\operatorname{ker}(A) = \\{{\\bf 0}\\}$.   "
   ]
  },
  {
   "cell_type": "markdown",
   "metadata": {},
   "source": [
    "##### Exercise 6(a)\n",
    "\n",
    "若 $A$ 是一個 $2\\times 2$ 的矩陣且 $\\det(A) \\neq 0$。  \n",
    "證明 $A$ 的行向量所形成的集合是線性獨立的。"
   ]
  },
  {
   "cell_type": "markdown",
   "metadata": {},
   "source": [
    "##### Exercise 6(b)\n",
    "\n",
    "若 $A$ 是一個 $3\\times 3$ 的矩陣且 $\\det(A) \\neq 0$。  \n",
    "證明 $A$ 的行向量所形成的集合是線性獨立的。"
   ]
  }
 ],
 "metadata": {
  "kernelspec": {
   "display_name": "SageMath 9.4",
   "language": "sage",
   "name": "sagemath"
  },
  "language_info": {
   "codemirror_mode": {
    "name": "ipython",
    "version": 3
   },
   "file_extension": ".py",
   "mimetype": "text/x-python",
   "name": "python",
   "nbconvert_exporter": "python",
   "pygments_lexer": "ipython3",
   "version": "3.9.7"
  }
 },
 "nbformat": 4,
 "nbformat_minor": 4
}
