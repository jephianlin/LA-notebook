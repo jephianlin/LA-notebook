{
 "cells": [
  {
   "cell_type": "markdown",
   "metadata": {},
   "source": [
    "# 線性獨立\n",
    "\n",
    "Linear independence"
   ]
  },
  {
   "cell_type": "markdown",
   "metadata": {},
   "source": [
    "![Creative Commons License](https://i.creativecommons.org/l/by/4.0/88x31.png)  \n",
    "This work by Jephian Lin is licensed under a [Creative Commons Attribution 4.0 International License](http://creativecommons.org/licenses/by/4.0/)."
   ]
  },
  {
   "cell_type": "markdown",
   "metadata": {},
   "source": [
    "$\\newcommand{\\trans}{^\\top}\n",
    "\\newcommand{\\adj}{^{\\rm adj}}\n",
    "\\newcommand{\\cof}{^{\\rm cof}}\n",
    "\\newcommand{\\inp}[2]{\\left\\langle#1,#2\\right\\rangle}\n",
    "\\newcommand{\\dunion}{\\mathbin{\\dot\\cup}}\n",
    "\\newcommand{\\bzero}{\\mathbf{0}}\n",
    "\\newcommand{\\bone}{\\mathbf{1}}\n",
    "\\newcommand{\\ba}{\\mathbf{a}}\n",
    "\\newcommand{\\bb}{\\mathbf{b}}\n",
    "\\newcommand{\\bc}{\\mathbf{c}}\n",
    "\\newcommand{\\bd}{\\mathbf{d}}\n",
    "\\newcommand{\\be}{\\mathbf{e}}\n",
    "\\newcommand{\\bh}{\\mathbf{h}}\n",
    "\\newcommand{\\bp}{\\mathbf{p}}\n",
    "\\newcommand{\\bq}{\\mathbf{q}}\n",
    "\\newcommand{\\br}{\\mathbf{r}}\n",
    "\\newcommand{\\bx}{\\mathbf{x}}\n",
    "\\newcommand{\\by}{\\mathbf{y}}\n",
    "\\newcommand{\\bz}{\\mathbf{z}}\n",
    "\\newcommand{\\bu}{\\mathbf{u}}\n",
    "\\newcommand{\\bv}{\\mathbf{v}}\n",
    "\\newcommand{\\bw}{\\mathbf{w}}\n",
    "\\newcommand{\\tr}{\\operatorname{tr}}\n",
    "\\newcommand{\\nul}{\\operatorname{null}}\n",
    "\\newcommand{\\rank}{\\operatorname{rank}}\n",
    "%\\newcommand{\\ker}{\\operatorname{ker}}\n",
    "\\newcommand{\\range}{\\operatorname{range}}\n",
    "\\newcommand{\\Col}{\\operatorname{Col}}\n",
    "\\newcommand{\\Row}{\\operatorname{Row}}\n",
    "\\newcommand{\\spec}{\\operatorname{spec}}\n",
    "\\newcommand{\\vspan}{\\operatorname{span}}\n",
    "\\newcommand{\\Vol}{\\operatorname{Vol}}\n",
    "\\newcommand{\\sgn}{\\operatorname{sgn}}\n",
    "\\newcommand{\\idmap}{\\operatorname{id}}\n",
    "\\newcommand{\\am}{\\operatorname{am}}\n",
    "\\newcommand{\\gm}{\\operatorname{gm}}\n",
    "\\newcommand{\\mult}{\\operatorname{mult}}\n",
    "\\newcommand{\\iner}{\\operatorname{iner}}$"
   ]
  },
  {
   "cell_type": "code",
   "execution_count": null,
   "metadata": {},
   "outputs": [],
   "source": [
    "from lingeo import random_good_matrix, random_int_list, kernel_matrix"
   ]
  },
  {
   "cell_type": "markdown",
   "metadata": {},
   "source": [
    "## Main idea"
   ]
  },
  {
   "cell_type": "markdown",
   "metadata": {},
   "source": [
    "Let $S = \\{\\bu_1,\\ldots,\\bu_k\\}$ be a set of finite many vectors.  \n",
    "We say $S$ is **linearly independent** if the only coefficients $c_1,\\ldots, c_k\\in\\mathbb{R}$ satisfying  \n",
    "$$c_1\\bu_1 + \\cdots + c_k\\bu_k = \\bzero$$  \n",
    "is $c_1 = \\cdots = c_k = 0$.  \n",
    "(A infinite set of vectors is linearly independent if any finite subsut of it is linearly independent.)  "
   ]
  },
  {
   "cell_type": "markdown",
   "metadata": {},
   "source": [
    "The following are equivalent:  \n",
    "1. $S$ is linearly independent.  \n",
    "2. For any vector $\\bu\\in S$, $\\bu\\notin\\vspan(S\\setminus\\{\\bu\\})$.  \n",
    "3. For any vector $\\bu\\in S$, $\\vspan(S\\setminus\\{\\bu\\})\\subsetneq\\vspan(S)$.  \n",
    "\n",
    "Therefore, intuitively, $S$ is linearly independent means every vector in it is important."
   ]
  },
  {
   "cell_type": "markdown",
   "metadata": {},
   "source": [
    "There are other equivalent conditions that is easier to check.  \n",
    "Let $S$ be a set of vectors and $A$ the matrix whose columns are vectors in $S$.  \n",
    "The following are equivalent:  \n",
    "1. $S$ is linearly independent.  \n",
    "2. The representation of any linear combination of $S$ is unique.  \n",
    "That is, if $\\bb = c_1\\bu_1 + \\cdots + c_k\\bu_k = d_1\\bu_1 + \\cdots + d_k\\bu_k$, then $c_1 = d_1$, $\\ldots$, and $c_k = d_k$.  \n",
    "3. For any $\\bb\\in\\Col(A)$, the solution to $A\\bx = \\bb$ is unique.  \n",
    "4. $\\ker(A) = \\{\\bzero\\}$.  "
   ]
  },
  {
   "cell_type": "markdown",
   "metadata": {},
   "source": [
    "## Side stories\n",
    "- unique representation of polynomials\n",
    "- interpolation"
   ]
  },
  {
   "cell_type": "markdown",
   "metadata": {},
   "source": [
    "## Experiments"
   ]
  },
  {
   "cell_type": "markdown",
   "metadata": {},
   "source": [
    "##### Exercise 1\n",
    "\n",
    "執行下方程式碼。  \n",
    "矩陣 $\\left[\\begin{array}{c|c} R & \\br \\end{array}\\right]$ 是 $\\left[\\begin{array}{c|c} A & \\bb \\end{array}\\right]$ 的最簡階梯形式矩陣。  \n",
    "令 $\\bu_1,\\ldots,\\bu_5$ 為 $A$ 的各行向量。  \n",
    "\n",
    "<!-- eng start -->\n",
    "Run the code below.  Let $\\left[\\begin{array}{c|c} R & \\br \\end{array}\\right]$ be the reduced echelon form of $\\left[\\begin{array}{c|c} A & \\bb \\end{array}\\right]$.  Let $\\bu_1,\\ldots,\\bu_5$ be the columns of $A$.    \n",
    "<!-- eng end -->"
   ]
  },
  {
   "cell_type": "code",
   "execution_count": null,
   "metadata": {
    "scrolled": false
   },
   "outputs": [],
   "source": [
    "### code\n",
    "set_random_seed(0)\n",
    "print_ans = False\n",
    "m,n,r = 3,5,2\n",
    "A = random_good_matrix(m,n,r)\n",
    "v = vector(random_int_list(5))\n",
    "b = A * v\n",
    "Ab = A.augment(b, subdivide=True)\n",
    "Rr = Ab.rref()\n",
    "\n",
    "print(\"[ A | b ] =\")\n",
    "show(Ab)\n",
    "print(\"[ R | r ] =\")\n",
    "show(Rr)\n",
    "\n",
    "if print_ans:\n",
    "    c = kernel_matrix(A).transpose()[0]\n",
    "    print(\"{} u1 + {} u2 + {} u3 + {} u4 + {} u5 = 0\".format(*c))\n",
    "    print(\"b = {} u1 + {} u2 + {} u3 + {} u4 + {} u5\".format(*v))\n",
    "    print(\"b = {} u1 + {} u2 + {} u3 + {} u4 + {} u5\".format(*(v+c)))\n",
    "    for i in range(5):\n",
    "        if c[i] != 0:\n",
    "            first = i\n",
    "            break\n",
    "    print(\"u%s = -( \"%(i+1) + \n",
    "          \" + \".join(\"%s u%s\"%(c[i]/c[first], i+1) for i in range(5) if i != first) + \" )\")"
   ]
  },
  {
   "cell_type": "markdown",
   "metadata": {},
   "source": [
    "##### Exercise 1(a)\n",
    "\n",
    "找一群不是全為 $0$ 的數字 $c_1,\\ldots,c_5$﹐  \n",
    "使得 $c_1\\bu_1 + \\cdots + c_5\\bu_5 = \\bzero$。  \n",
    "\n",
    "<!-- eng start -->\n",
    "Find some numbers $c_1, \\ldots, c_5$ that are not all zeros such that $c_1\\bu_1 + \\cdots + c_5\\bu_5 = \\bzero$.  \n",
    "<!-- eng end -->"
   ]
  },
  {
   "cell_type": "markdown",
   "metadata": {},
   "source": [
    "##### Exercise 1(b)\n",
    "\n",
    "已知 $\\bb \\in \\Col(A)$。  \n",
    "找兩群相對應數字不完全一樣的數字 $c_1,\\ldots,c_5$ 和 $d_1,\\ldots,d_5$﹐  \n",
    "使得 $c_1\\bu_1 + \\cdots + c_5\\bu_5 = d_1\\bu_1 + \\cdots + d_5\\bu_5$。  \n",
    "\n",
    "<!-- eng start -->\n",
    "Suppose $\\bb\\in\\Col(A)$.  Find two different sets of numbers $c_1,\\ldots,c_5$ and $d_1,\\ldots,d_5$ such that $c_1\\bu_1 + \\cdots + c_5\\bu_5 = d_1\\bu_1 + \\cdots + d_5\\bu_5$.  \n",
    "<!-- eng end -->"
   ]
  },
  {
   "cell_type": "markdown",
   "metadata": {},
   "source": [
    "##### Exercise 1(c)\n",
    "\n",
    "將 $A$ 的其中一個行向量寫成其它行向量的線性組合。  \n",
    "\n",
    "<!-- eng start -->\n",
    "Find a column of $A$ that can be written as a linear combination of other columns.  \n",
    "<!-- eng end -->"
   ]
  },
  {
   "cell_type": "markdown",
   "metadata": {},
   "source": [
    "## Exercises"
   ]
  },
  {
   "cell_type": "markdown",
   "metadata": {},
   "source": [
    "##### Exercise 2\n",
    "\n",
    "執行以下程式碼。  \n",
    "令 $S = \\{ \\bu_1, \\bu_2, \\bu_3 \\}$ 為矩陣 $A$ 的各行向量。  \n",
    "問 $S$ 是否線性獨立。  \n",
    "若是，將 $\\bb$ 寫成 $S$ 的線性組合。  \n",
    "若否，找到一個 $S$ 中的向量將其寫成其它向量的線性組合。  \n",
    "\n",
    "<!-- eng start -->\n",
    "Run the code below.  Let $S = \\{ \\bu_1, \\bu_2, \\bu_3 \\}$ be the columns of $A$.  Is $S$ linearely independent?  If yes, write $\\bb$ as a linear combination of $S$.  If not, find a vector in $S$ that can be written as a linear combination of other vectors in $S$.  \n",
    "<!-- eng end -->"
   ]
  },
  {
   "cell_type": "code",
   "execution_count": null,
   "metadata": {},
   "outputs": [],
   "source": [
    "### code\n",
    "set_random_seed(0)\n",
    "print_ans = False\n",
    "ind = choice([True, False])\n",
    "m,n,r = 5,3,3 if ind else 2\n",
    "A = random_good_matrix(m,n,r)\n",
    "print(\"A =\")\n",
    "show(A)\n",
    "v = vector(random_int_list(3))\n",
    "b = A * v\n",
    "print(\"b =\", b)\n",
    "\n",
    "if print_ans:\n",
    "    print(\"Linearly independent?\", ind)\n",
    "    if ind:\n",
    "        print(\"b = \" + \" + \".join(\"%s u%s\"%(v[i], i+1) for i in range(3)))\n",
    "    else:\n",
    "        c = kernel_matrix(A).transpose()[0]\n",
    "        for i in range(3):\n",
    "            if c[i] != 0:\n",
    "                first = i\n",
    "                break\n",
    "        print(\"u%s = -( \"%(i+1) + \n",
    "              \" + \".join(\"%s u%s\"%(c[i]/c[first], i+1) for i in range(3) if i != first) + \" )\")"
   ]
  },
  {
   "cell_type": "markdown",
   "metadata": {},
   "source": [
    "##### Exercise 3\n",
    "\n",
    "以下的例子說明了多項式也有類似地「表示法唯一」的性質。  \n",
    "（有沒有辦法把多項式寫成向量的樣子？）  \n",
    "\n",
    "<!-- eng start -->\n",
    "The following examples demonstrate that a polynomial can be uniquely represented as a linear combination of some given set of polynomials.  This is analogous to the fact that a vector can be uniquely represented as a linear combination of a linearly independent set of vectors.  (Can you translate a polynomial into a vectors?)  \n",
    "<!-- eng end -->"
   ]
  },
  {
   "cell_type": "markdown",
   "metadata": {},
   "source": [
    "##### Exercise 3(a)\n",
    "\n",
    "證明一個二次多項式 $f(x)$ 如果可以寫成 $c_0 + c_1(x-1) + c_2(x-1)^2$ 的樣子。  \n",
    "則 $c_0,c_1,c_2$ 的選擇唯一。  \n",
    "\n",
    "<!-- eng start -->\n",
    "Show that if a polynomial $f(x)$ of degree at most $2$ can be written as $c_0 + c_1(x-1) + c_2(x-1)^2$, then the choice of $c_0, c_1, c_2$ is unique.  \n",
    "<!-- eng end -->"
   ]
  },
  {
   "cell_type": "markdown",
   "metadata": {},
   "source": [
    "##### Exercise 3(b)\n",
    "\n",
    "令  \n",
    "\n",
    "$$\n",
    "    \\begin{aligned}\n",
    "    f_1(x) &= \\frac{(x-2)(x-3)}{(1-2)(1-3)}, \\\\\n",
    "    f_2(x) &= \\frac{(x-1)(x-3)}{(2-1)(2-3)}, \\\\\n",
    "    f_3(x) &= \\frac{(x-1)(x-2)}{(3-1)(3-2)}. \\\\\n",
    "    \\end{aligned}\n",
    "$$\n",
    "\n",
    "證明一個二次多項式 $f(x)$ 如果可以寫成 $c_1f_1(x) + c_2f_2(x) + c_3f_3(x)$ 的樣子。  \n",
    "則 $c_1,c_2,c_3$ 的選擇唯一。  \n",
    "\n",
    "<!-- eng start -->\n",
    "Let \n",
    "\n",
    "$$\n",
    "    \\begin{aligned}\n",
    "    f_1(x) &= \\frac{(x-2)(x-3)}{(1-2)(1-3)}, \\\\\n",
    "    f_2(x) &= \\frac{(x-1)(x-3)}{(2-1)(2-3)}, \\\\\n",
    "    f_3(x) &= \\frac{(x-1)(x-2)}{(3-1)(3-2)}. \\\\\n",
    "    \\end{aligned}\n",
    "$$\n",
    "\n",
    "Show that if a polynomial $f(x)$ of degree at most $2$ can be written as $c_1f_1(x) + c_2f_2(x) + c_3f_3(x)$, then the choice of $c_1, c_2, c_3$ is unique.  \n",
    "<!-- eng end -->"
   ]
  },
  {
   "cell_type": "markdown",
   "metadata": {},
   "source": [
    "##### Exercise 4\n",
    "\n",
    "證明以下敘述等價：  \n",
    "\n",
    "1. $S$ is linearly independent.  \n",
    "2. For any vector $\\bu\\in S$, $\\bu\\notin\\vspan(S\\setminus\\{\\bu\\})$.  \n",
    "3. For any vector $\\bu\\in S$, $\\vspan(S\\setminus\\{\\bu\\})\\subsetneq\\vspan(S)$.  \n",
    "\n",
    "<!-- eng start -->\n",
    "Show that the following are equivalent:  \n",
    "\n",
    "1. $S$ is linearly independent.  \n",
    "2. For any vector $\\bu\\in S$, $\\bu\\notin\\vspan(S\\setminus\\{\\bu\\})$.  \n",
    "3. For any vector $\\bu\\in S$, $\\vspan(S\\setminus\\{\\bu\\})\\subsetneq\\vspan(S)$.  \n",
    "<!-- eng end -->"
   ]
  },
  {
   "cell_type": "markdown",
   "metadata": {},
   "source": [
    "##### Exercise 5\n",
    "\n",
    "證明以下敘述等價： \n",
    "\n",
    "1. $S$ is linearly independent.  \n",
    "2. The representation of any linear combination of $S$ is unique.  \n",
    "That is, if $\\bb = c_1\\bu_1 + \\cdots + c_k\\bu_k = d_1\\bu_1 + \\cdots + d_k\\bu_k$, then $c_1 = d_1$, $\\ldots$, and $c_k = d_k$.  \n",
    "3. For any $\\bb\\in\\Col(A)$, the solution to $A\\bx = \\bb$ is unique.  \n",
    "4. $\\ker(A) = \\{\\bzero\\}$.   \n",
    "\n",
    "<!-- eng start -->\n",
    "Show that the following are equivalent:  \n",
    "\n",
    "1. $S$ is linearly independent.  \n",
    "2. The representation of any linear combination of $S$ is unique.  \n",
    "That is, if $\\bb = c_1\\bu_1 + \\cdots + c_k\\bu_k = d_1\\bu_1 + \\cdots + d_k\\bu_k$, then $c_1 = d_1$, $\\ldots$, and $c_k = d_k$.  \n",
    "3. For any $\\bb\\in\\Col(A)$, the solution to $A\\bx = \\bb$ is unique.  \n",
    "4. $\\ker(A) = \\{\\bzero\\}$.   \n",
    "<!-- eng end -->"
   ]
  },
  {
   "cell_type": "markdown",
   "metadata": {},
   "source": [
    "##### Exercise 6(a)\n",
    "\n",
    "若 $A$ 是一個 $2\\times 2$ 的矩陣且 $\\det(A) \\neq 0$。  \n",
    "證明 $A$ 的行向量所形成的集合是線性獨立的。\n",
    "\n",
    "<!-- eng start -->\n",
    "Suppose $A$ is a $2\\times 2$ matrix with $\\det(A) \\neq 0$.  Show that the columns of $A$ form a linearly independent set.  \n",
    "<!-- eng end -->"
   ]
  },
  {
   "cell_type": "markdown",
   "metadata": {},
   "source": [
    "##### Exercise 6(b)\n",
    "\n",
    "若 $A$ 是一個 $3\\times 3$ 的矩陣且 $\\det(A) \\neq 0$。  \n",
    "證明 $A$ 的行向量所形成的集合是線性獨立的。\n",
    "\n",
    "<!-- eng start -->\n",
    "Suppose $A$ is a $3\\times 3$ matrix with $\\det(A) \\neq 0$.  Show that the columns of $A$ form a linearly independent set.  \n",
    "<!-- eng end -->"
   ]
  }
 ],
 "metadata": {
  "kernelspec": {
   "display_name": "SageMath 9.6",
   "language": "sage",
   "name": "sagemath"
  },
  "language_info": {
   "codemirror_mode": {
    "name": "ipython",
    "version": 3
   },
   "file_extension": ".py",
   "mimetype": "text/x-python",
   "name": "python",
   "nbconvert_exporter": "python",
   "pygments_lexer": "ipython3",
   "version": "3.10.5"
  }
 },
 "nbformat": 4,
 "nbformat_minor": 4
}
