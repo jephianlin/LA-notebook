{
 "cells": [
  {
   "cell_type": "markdown",
   "metadata": {},
   "source": [
    "# 奇異值分解"
   ]
  },
  {
   "cell_type": "markdown",
   "metadata": {},
   "source": [
    "![Creative Commons License](https://i.creativecommons.org/l/by/4.0/88x31.png)  \n",
    "This work by Jephian Lin is licensed under a [Creative Commons Attribution 4.0 International License](http://creativecommons.org/licenses/by/4.0/)."
   ]
  },
  {
   "cell_type": "markdown",
   "metadata": {},
   "source": [
    "$\\newcommand{\\trans}{^\\top}\n",
    "\\newcommand{\\adj}{^{\\rm adj}}\n",
    "\\newcommand{\\cof}{^{\\rm cof}}\n",
    "\\newcommand{\\inp}[2]{\\left\\langle#1,#2\\right\\rangle}\n",
    "\\newcommand{\\dunion}{\\mathbin{\\dot\\cup}}\n",
    "\\newcommand{\\bzero}{\\mathbf{0}}\n",
    "\\newcommand{\\bone}{\\mathbf{1}}\n",
    "\\newcommand{\\ba}{\\mathbf{a}}\n",
    "\\newcommand{\\bb}{\\mathbf{b}}\n",
    "\\newcommand{\\bc}{\\mathbf{c}}\n",
    "\\newcommand{\\bd}{\\mathbf{d}}\n",
    "\\newcommand{\\be}{\\mathbf{e}}\n",
    "\\newcommand{\\bh}{\\mathbf{h}}\n",
    "\\newcommand{\\bp}{\\mathbf{p}}\n",
    "\\newcommand{\\bq}{\\mathbf{q}}\n",
    "\\newcommand{\\br}{\\mathbf{r}}\n",
    "\\newcommand{\\bx}{\\mathbf{x}}\n",
    "\\newcommand{\\by}{\\mathbf{y}}\n",
    "\\newcommand{\\bz}{\\mathbf{z}}\n",
    "\\newcommand{\\bu}{\\mathbf{u}}\n",
    "\\newcommand{\\bv}{\\mathbf{v}}\n",
    "\\newcommand{\\bw}{\\mathbf{w}}\n",
    "\\newcommand{\\tr}{\\operatorname{tr}}\n",
    "\\newcommand{\\nul}{\\operatorname{null}}\n",
    "\\newcommand{\\rank}{\\operatorname{rank}}\n",
    "%\\newcommand{\\ker}{\\operatorname{ker}}\n",
    "\\newcommand{\\range}{\\operatorname{range}}\n",
    "\\newcommand{\\Col}{\\operatorname{Col}}\n",
    "\\newcommand{\\Row}{\\operatorname{Row}}\n",
    "\\newcommand{\\spec}{\\operatorname{spec}}\n",
    "\\newcommand{\\vspan}{\\operatorname{span}}\n",
    "\\newcommand{\\Vol}{\\operatorname{Vol}}\n",
    "\\newcommand{\\sgn}{\\operatorname{sgn}}\n",
    "\\newcommand{\\idmap}{\\operatorname{id}}\n",
    "\\newcommand{\\am}{\\operatorname{am}}\n",
    "\\newcommand{\\gm}{\\operatorname{gm}}$"
   ]
  },
  {
   "cell_type": "code",
   "execution_count": null,
   "metadata": {},
   "outputs": [],
   "source": [
    "# from lingeo import random_int_list"
   ]
  },
  {
   "cell_type": "markdown",
   "metadata": {},
   "source": [
    "## Main idea"
   ]
  },
  {
   "cell_type": "markdown",
   "metadata": {},
   "source": [
    "Continuing the introduction of the singular value decomposition in 314, this section will provide the theoretical foundation of it."
   ]
  },
  {
   "cell_type": "markdown",
   "metadata": {},
   "source": [
    "##### Singular value decomposition\n",
    "\n",
    "Let $A$ be an $m\\times n$ matrix.  \n",
    "Then there are orthonormal bases $\\alpha$ and $\\beta$ of $\\mathbb{R}^n$ and $\\mathbb{R}^m$, respectively, such that \n",
    "$$[f_A]_\\alpha^\\beta = \\Sigma = \\begin{bmatrix} \n",
    " \\operatorname{diag}(\\sigma_1, \\ldots, \\sigma_r) & O_{r,n-r} \\\\\n",
    " O_{m-r,r} & O_{m-r,n-r} \n",
    "\\end{bmatrix},$$\n",
    "where $\\sigma_1\\geq\\cdots\\geq\\sigma_r$ and $\\operatorname{diag}(\\sigma_1,\\ldots,\\sigma_r)$ is the diagonal matrix with the given diagonal entries.  \n",
    "\n",
    "That is, there are $m\\times m$ and $n\\times n$ orthogonal matrices $U$ and $V$ such that $U^\\top AV = \\Sigma$ and $A = U\\Sigma V^\\top$.  "
   ]
  },
  {
   "cell_type": "markdown",
   "metadata": {},
   "source": [
    "Recall that $AB$ and $BA$ have the same set of nonzero eigenvalues.  \n",
    "(See 506-6.)  \n",
    "The values $\\sigma_1 \\geq \\cdots \\geq \\sigma_r$ are called the **singular values** of $A$.  \n",
    "\n",
    "- They are the nonzero eigenvalues of $A\\trans A$.  \n",
    "- They are the nonzero eigenvalues of $AA\\trans$.  \n",
    "- They are positive.  \n",
    "- There are $r = \\rank(A)$ of them.  "
   ]
  },
  {
   "cell_type": "markdown",
   "metadata": {},
   "source": [
    "Indeed, the columns of $V$ form an orthonormal eigenbasis of $A\\trans A$,  \n",
    "while the columns of $U$ form an orthonormal eigenbasis of $AA\\trans$.  "
   ]
  },
  {
   "cell_type": "markdown",
   "metadata": {},
   "source": [
    "The singular value decomposition of an $m\\times n$ matirx can be found by the following steps:  \n",
    "\n",
    "1. Compute an orthonormal eigenbasis $\\alpha$ of $A\\trans A$.  \n",
    "2. Order the eigenvectors in $\\alpha$ by the corresponding eigenvalues in the non-increasing order.  \n",
    "Let $\\alpha_1$ and $\\alpha_2$ be the sets of eigenvectors in $\\alpha$ that correspond to positive and zero eigenvalues, respectively.  \n",
    "3. Let $\\beta_1 = A\\alpha_1 = \\{A\\bv: \\bv \\in \\alpha_1\\}$.  \n",
    "Let $\\beta_0$ be an orthonormal basis of $\\ker(AA\\trans)$.  \n",
    "Let $\\beta = \\beta_1 \\cup \\beta_0$.  \n",
    "\n",
    "Thus, the desired eigenbasis are found.  "
   ]
  },
  {
   "cell_type": "markdown",
   "metadata": {},
   "source": [
    "For the construction of the matrices.  \n",
    "\n",
    "- Construct $V$ by using $\\alpha$ as the columns vectors.  \n",
    "- Construct $U$ by using $\\beta$ as the columns vectors.  \n",
    "- The singular values are the nonzero eigenvalues of $A\\trans A$ (or $AA\\trans$)."
   ]
  },
  {
   "cell_type": "markdown",
   "metadata": {},
   "source": [
    "## Side stories\n",
    "\n",
    "- $AB$ and $BA$ have the same nonzero eigenvalues\n",
    "- image compression\n",
    "- Moore–Penrose pseudo inverse"
   ]
  },
  {
   "cell_type": "markdown",
   "metadata": {},
   "source": [
    "## Experiments"
   ]
  },
  {
   "cell_type": "markdown",
   "metadata": {},
   "source": [
    "##### Exercise 1\n",
    "\n",
    "執行以下程式碼。  "
   ]
  },
  {
   "cell_type": "code",
   "execution_count": null,
   "metadata": {
    "scrolled": false
   },
   "outputs": [],
   "source": [
    "### code\n",
    "set_random_seed(0)\n",
    "print_ans = None\n",
    "\n",
    "while True:\n",
    "    L = matrix(3, random_int_list(9, 2))\n",
    "    eigs = random_int_list(2)\n",
    "    if L.is_invertible() and eigs[0] != eigs[1]:\n",
    "        break\n",
    "    \n",
    "Q,R = QR(L)\n",
    "for j in range(3):\n",
    "    v = Q[:,j]\n",
    "    length = sqrt((v.transpose() * v)[0,0])\n",
    "    Q[:,j] = v / length\n",
    "\n",
    "eigs.append(eigs[-1])\n",
    "D = diagonal_matrix(eigs)\n",
    "A = Q * D * Q.transpose()\n",
    "\n",
    "pretty_print(LatexExpr(\"A =\"), A)\n",
    "pretty_print(LatexExpr(\"A = Q D Q^{-1} =\"), Q, D, Q.transpose())\n",
    "\n",
    "if print_ans:\n",
    "    print(\"eigenvalues of A:\", eigs)\n",
    "    print(\"eigenvectors of A = columns of Q\")\n",
    "    pretty_print(LatexExpr(\"A =\"), \n",
    "                 eigs[0], Q[:,0]*Q[:,0].transpose(), \n",
    "                 LatexExpr(\"+\"), \n",
    "                 eigs[1], Q[:,1:]*Q[:,1:].transpose())"
   ]
  },
  {
   "cell_type": "markdown",
   "metadata": {},
   "source": [
    "##### Exercise 1(a)\n",
    "\n",
    "求 $A$ 的所有特徵值及其對應的特徵向量。"
   ]
  },
  {
   "cell_type": "markdown",
   "metadata": {},
   "source": [
    "##### Exercise 1(b)\n",
    "\n",
    "求 $A$ 的譜分解。"
   ]
  },
  {
   "cell_type": "markdown",
   "metadata": {},
   "source": [
    "## Exercises"
   ]
  },
  {
   "cell_type": "markdown",
   "metadata": {},
   "source": [
    "##### Exercise 2\n",
    "\n",
    "求以下矩陣的譜分解。"
   ]
  },
  {
   "cell_type": "markdown",
   "metadata": {},
   "source": [
    "##### Exercise 2(a)\n",
    "\n",
    "$$\n",
    "    A = \\begin{bmatrix}\n",
    "     0 & 1 \\\\\n",
    "     1 & 0\n",
    "    \\end{bmatrix}.\n",
    "$$"
   ]
  },
  {
   "cell_type": "markdown",
   "metadata": {},
   "source": [
    "##### Exercise 2(b)\n",
    "\n",
    "$$\n",
    "    A = \\begin{bmatrix}\n",
    "     1 & 1 & 1 \\\\\n",
    "     1 & 1 & 1 \\\\\n",
    "     1 & 1 & 1 \\\\\n",
    "    \\end{bmatrix}.\n",
    "$$"
   ]
  },
  {
   "cell_type": "markdown",
   "metadata": {},
   "source": [
    "##### Exercise 2(c)\n",
    "\n",
    "$$\n",
    "    A = \\begin{bmatrix}\n",
    "     2 & -1 & -1 \\\\\n",
    "     -1 & 2 & -1 \\\\\n",
    "     -1 & -1 & 2\n",
    "    \\end{bmatrix}.\n",
    "$$"
   ]
  },
  {
   "cell_type": "markdown",
   "metadata": {},
   "source": [
    "##### Exercise 3\n",
    "\n",
    "令 $\\bu$ 為一長度為 $1$ 的實向量。  \n",
    "令 $P = \\bu\\bu\\trans$。"
   ]
  },
  {
   "cell_type": "markdown",
   "metadata": {},
   "source": [
    "##### Exercise 3(a)\n",
    "\n",
    "說明 $P$ 為垂直投影到 $\\vspan\\{\\bu\\}$ 的投影矩陣。"
   ]
  },
  {
   "cell_type": "markdown",
   "metadata": {},
   "source": [
    "##### Exercise 3(b)\n",
    "\n",
    "證明 $\\tr(P\\trans P) = \\rank(P) = 1$。"
   ]
  },
  {
   "cell_type": "markdown",
   "metadata": {},
   "source": [
    "##### Exercise 4\n",
    "\n",
    "令 $\\{\\bu_1, \\ldots, \\bu_d\\}$ 為一群互相垂直且長度均為 $1$ 的實向量。  \n",
    "令 $P = \\bu_1\\bu_1\\trans + \\cdots + \\bu_d\\bu_d\\trans$。"
   ]
  },
  {
   "cell_type": "markdown",
   "metadata": {},
   "source": [
    "##### Exercise 4(a)\n",
    "\n",
    "說明 $P$ 為垂直投影到 $\\vspan\\{\\bu_1,\\ldots, \\bu_d\\}$ 的投影矩陣。"
   ]
  },
  {
   "cell_type": "markdown",
   "metadata": {},
   "source": [
    "##### Exercise 4(b)\n",
    "\n",
    "證明 $\\tr(P\\trans P) = \\rank(P) = d$。"
   ]
  },
  {
   "cell_type": "markdown",
   "metadata": {},
   "source": [
    "##### Exercise 5\n",
    "\n",
    "一個 **垂直投影矩陣** 指的是一個可以被垂直矩陣對角化且特徵值均是 $1$ 或 $0$ 的矩陣。  \n",
    "\n",
    "令 $P$ 為一實方陣。  \n",
    "證明以下敘述等價：  \n",
    "\n",
    "1. $P$ 為一垂直投影矩陣。\n",
    "2. $P$ 是對稱矩陣，且 $P^2 = P$。"
   ]
  },
  {
   "cell_type": "markdown",
   "metadata": {},
   "source": [
    "##### Exercise 6\n",
    "\n",
    "雖然譜分解裡的條件沒有明顯說明 $P_i$ 是垂直投影矩陣，  \n",
    "依照以下步驟證明下列條件\n",
    "\n",
    "1. $A = \\sum_{j=1}^q \\mu_j P_j$,  \n",
    "2. $P_i^2 = P_i$ for any $i$, \n",
    "3. $P_iP_j = O$ for any $i$ and $j$, and \n",
    "4. $\\sum_{j=1}^q P_j = I_n$.\n",
    "\n",
    "足以說明每一個 $P_i$ 都是垂直投影矩陣。"
   ]
  },
  {
   "cell_type": "markdown",
   "metadata": {},
   "source": [
    "##### Exercise 6(a)\n",
    "\n",
    "驗證  \n",
    "\n",
    "$$\n",
    "    \\begin{aligned}\n",
    "    I &= P_1 + \\cdots + P_q, \\\\\n",
    "    A &= \\mu_1 P_1 + \\cdots + \\mu_q P_q, \\\\\n",
    "    A^2 &= \\mu_1^2 P_1 + \\cdots + \\mu_q^2 P_q, \\\\\n",
    "    ~ & \\vdots \\\\\n",
    "    A^{q-1} &= \\mu_1^{q-1} P_1 + \\cdots + \\mu_q^{q-1} P_q.\n",
    "    \\end{aligned}\n",
    "$$\n",
    "\n",
    "並利用拉格朗日多項式來說明對每一個 $i = 1,\\ldots, q$ 來說，  \n",
    "都找得到一些係數 $c_0,\\ldots,c_{q-1}$ 使得 $P_i = c_0 I + c_1 A + \\cdots + c_{q-1} A^{q-1}$。  \n",
    "因此每一個 $P_i$ 都是對稱矩陣。"
   ]
  },
  {
   "cell_type": "markdown",
   "metadata": {},
   "source": [
    "##### Exercise 6(b)\n",
    "\n",
    "說明每一個 $P_i$ 都是垂直投影矩陣。"
   ]
  },
  {
   "cell_type": "markdown",
   "metadata": {},
   "source": [
    "##### Exercise 7\n",
    "\n",
    "依照以下步驟證明下述定理。\n",
    "\n",
    "##### Eigenvector-eigenvalue identity\n",
    "若 $A$ 為一 $n\\times n$ 實對稱矩陣。  \n",
    "其特徵值為 $\\lambda_1,\\ldots,\\lambda_n$ 且某一個 $\\lambda_i$ 只出現一次沒有重覆。  \n",
    "令 $\\bv_1,\\ldots, \\bv_n$ 為其相對應的特徵向量，且其形成一垂直標準基。\n",
    "\n",
    "$$\n",
    "    (A - \\lambda_i I)\\adj = \\left(\\prod_{j\\neq i}(\\lambda_j - \\lambda_i)\\right)\\bv_i\\bv_i\\trans.\n",
    "$$"
   ]
  },
  {
   "cell_type": "markdown",
   "metadata": {},
   "source": [
    "##### Exercise 7(a)\n",
    "\n",
    "說明當 $x$ 不為 $A$ 的特徵值時，  \n",
    "\n",
    "$$\n",
    "    \\begin{aligned}\n",
    "    (A - xI)\\adj &= \\det(A - xI) \\times \\sum_{j = 1}^n (\\lambda_j - x)^{-1}\\bv_i\\bv_i\\trans \\\\\n",
    "    &= \\sum_{j = 1}^n p_i(x) \\bv_i\\bv_i\\trans, \n",
    "    \\end{aligned}\n",
    "$$\n",
    "\n",
    "其中 \n",
    "\n",
    "$$\n",
    "    p_j(x) = \\prod_{k \\neq j}(\\lambda_k - x).\n",
    "$$"
   ]
  },
  {
   "cell_type": "markdown",
   "metadata": {},
   "source": [
    "##### Exercise 7(b)\n",
    "\n",
    "將 $x$ 趨近到 $\\lambda_i$ 並證明特徵向量-特徵值定理。"
   ]
  }
 ],
 "metadata": {
  "kernelspec": {
   "display_name": "SageMath 9.5",
   "language": "sage",
   "name": "sagemath"
  },
  "language_info": {
   "codemirror_mode": {
    "name": "ipython",
    "version": 3
   },
   "file_extension": ".py",
   "mimetype": "text/x-python",
   "name": "python",
   "nbconvert_exporter": "python",
   "pygments_lexer": "ipython3",
   "version": "3.10.2"
  }
 },
 "nbformat": 4,
 "nbformat_minor": 4
}
