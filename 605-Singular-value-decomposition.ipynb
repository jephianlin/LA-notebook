{
 "cells": [
  {
   "cell_type": "markdown",
   "metadata": {},
   "source": [
    "# 奇異值分解"
   ]
  },
  {
   "cell_type": "markdown",
   "metadata": {},
   "source": [
    "![Creative Commons License](https://i.creativecommons.org/l/by/4.0/88x31.png)  \n",
    "This work by Jephian Lin is licensed under a [Creative Commons Attribution 4.0 International License](http://creativecommons.org/licenses/by/4.0/)."
   ]
  },
  {
   "cell_type": "markdown",
   "metadata": {},
   "source": [
    "$\\newcommand{\\trans}{^\\top}\n",
    "\\newcommand{\\adj}{^{\\rm adj}}\n",
    "\\newcommand{\\cof}{^{\\rm cof}}\n",
    "\\newcommand{\\inp}[2]{\\left\\langle#1,#2\\right\\rangle}\n",
    "\\newcommand{\\dunion}{\\mathbin{\\dot\\cup}}\n",
    "\\newcommand{\\bzero}{\\mathbf{0}}\n",
    "\\newcommand{\\bone}{\\mathbf{1}}\n",
    "\\newcommand{\\ba}{\\mathbf{a}}\n",
    "\\newcommand{\\bb}{\\mathbf{b}}\n",
    "\\newcommand{\\bc}{\\mathbf{c}}\n",
    "\\newcommand{\\bd}{\\mathbf{d}}\n",
    "\\newcommand{\\be}{\\mathbf{e}}\n",
    "\\newcommand{\\bh}{\\mathbf{h}}\n",
    "\\newcommand{\\bp}{\\mathbf{p}}\n",
    "\\newcommand{\\bq}{\\mathbf{q}}\n",
    "\\newcommand{\\br}{\\mathbf{r}}\n",
    "\\newcommand{\\bx}{\\mathbf{x}}\n",
    "\\newcommand{\\by}{\\mathbf{y}}\n",
    "\\newcommand{\\bz}{\\mathbf{z}}\n",
    "\\newcommand{\\bu}{\\mathbf{u}}\n",
    "\\newcommand{\\bv}{\\mathbf{v}}\n",
    "\\newcommand{\\bw}{\\mathbf{w}}\n",
    "\\newcommand{\\tr}{\\operatorname{tr}}\n",
    "\\newcommand{\\nul}{\\operatorname{null}}\n",
    "\\newcommand{\\rank}{\\operatorname{rank}}\n",
    "%\\newcommand{\\ker}{\\operatorname{ker}}\n",
    "\\newcommand{\\range}{\\operatorname{range}}\n",
    "\\newcommand{\\Col}{\\operatorname{Col}}\n",
    "\\newcommand{\\Row}{\\operatorname{Row}}\n",
    "\\newcommand{\\spec}{\\operatorname{spec}}\n",
    "\\newcommand{\\vspan}{\\operatorname{span}}\n",
    "\\newcommand{\\Vol}{\\operatorname{Vol}}\n",
    "\\newcommand{\\sgn}{\\operatorname{sgn}}\n",
    "\\newcommand{\\idmap}{\\operatorname{id}}\n",
    "\\newcommand{\\am}{\\operatorname{am}}\n",
    "\\newcommand{\\gm}{\\operatorname{gm}}$"
   ]
  },
  {
   "cell_type": "code",
   "execution_count": null,
   "metadata": {},
   "outputs": [],
   "source": [
    "from lingeo import random_int_list"
   ]
  },
  {
   "cell_type": "markdown",
   "metadata": {},
   "source": [
    "## Main idea"
   ]
  },
  {
   "cell_type": "markdown",
   "metadata": {},
   "source": [
    "Continuing the introduction of the singular value decomposition in 314, this section will provide the theoretical foundation of it."
   ]
  },
  {
   "cell_type": "markdown",
   "metadata": {},
   "source": [
    "##### Singular value decomposition\n",
    "\n",
    "Let $A$ be an $m\\times n$ matrix.  \n",
    "Then there are orthonormal bases $\\alpha$ and $\\beta$ of $\\mathbb{R}^n$ and $\\mathbb{R}^m$, respectively, such that \n",
    "\n",
    "$$\n",
    "    [f_A]_\\alpha^\\beta = \\Sigma = \\begin{bmatrix} \n",
    "     \\operatorname{diag}(\\sigma_1, \\ldots, \\sigma_r) & O_{r,n-r} \\\\\n",
    "     O_{m-r,r} & O_{m-r,n-r} \n",
    "    \\end{bmatrix},\n",
    "$$\n",
    "\n",
    "where $\\sigma_1\\geq\\cdots\\geq\\sigma_r$ and $\\operatorname{diag}(\\sigma_1,\\ldots,\\sigma_r)$ is the diagonal matrix with the given diagonal entries.  \n",
    "\n",
    "That is, there are $m\\times m$ and $n\\times n$ orthogonal matrices $U$ and $V$ such that $U^\\top AV = \\Sigma$ and $A = U\\Sigma V^\\top$.  "
   ]
  },
  {
   "cell_type": "markdown",
   "metadata": {},
   "source": [
    "Recall that $AB$ and $BA$ have the same set of nonzero eigenvalues.  \n",
    "(See 506-6.)  \n",
    "The values $\\sigma_1 \\geq \\cdots \\geq \\sigma_r$ are called the **singular values** of $A$.  \n",
    "\n",
    "- They are the (positive) square roots of the nonzero eigenvalues of $A\\trans A$.  \n",
    "- They are the (positive) square roots of the nonzero eigenvalues of $AA\\trans$.  \n",
    "- They are positive.  \n",
    "- There are $r = \\rank(A)$ of them.  "
   ]
  },
  {
   "cell_type": "markdown",
   "metadata": {},
   "source": [
    "Indeed, the columns of $V$ form an orthonormal eigenbasis of $A\\trans A$,  \n",
    "while the columns of $U$ form an orthonormal eigenbasis of $AA\\trans$.  "
   ]
  },
  {
   "cell_type": "markdown",
   "metadata": {},
   "source": [
    "The singular value decomposition of an $m\\times n$ matirx can be found by the following steps:  \n",
    "\n",
    "1. Compute an orthonormal eigenbasis $\\alpha$ of $A\\trans A$.  \n",
    "2. Order the eigenvectors in $\\alpha$ by the corresponding eigenvalues in the non-increasing order.  \n",
    "Let $\\alpha_1$ and $\\alpha_2$ be the sets of eigenvectors in $\\alpha$ that correspond to positive and zero eigenvalues, respectively.  \n",
    "Let $\\lambda_1 \\geq \\cdots \\geq \\lambda_r$ be the positive eigenvalues and $\\sigma_i = \\sqrt{\\lambda_i}$ for $i = 1,\\ldots, r$.\n",
    "3. Let $\\beta_1 = \\{\\frac{1}{\\sigma_i}A\\bv: \\bv \\in \\alpha_1\\}$.  \n",
    "Let $\\beta_0$ be an orthonormal basis of $\\ker(AA\\trans)$.  \n",
    "Let $\\beta = \\beta_1 \\cup \\beta_0$.  \n",
    "\n",
    "Thus, the desired eigenbasis are found.  "
   ]
  },
  {
   "cell_type": "markdown",
   "metadata": {},
   "source": [
    "For the construction of the matrices.  \n",
    "\n",
    "- Construct $V$ by using $\\alpha$ as the columns vectors.  \n",
    "- Construct $U$ by using $\\beta$ as the columns vectors.  \n",
    "- The singular values are the (positive) square roots of nonzero eigenvalues of $A\\trans A$ (or $AA\\trans$)."
   ]
  },
  {
   "cell_type": "markdown",
   "metadata": {},
   "source": [
    "## Side stories\n",
    "\n",
    "- $AB$ and $BA$ have the same nonzero eigenvalues\n",
    "- image compression\n",
    "- Moore–Penrose pseudo inverse (TBD)"
   ]
  },
  {
   "cell_type": "markdown",
   "metadata": {},
   "source": [
    "## Experiments"
   ]
  },
  {
   "cell_type": "markdown",
   "metadata": {},
   "source": [
    "##### Exercise 1\n",
    "\n",
    "執行以下程式碼。  \n",
    "令 $\\alpha = \\{\\bv_1, \\ldots, \\bv_n\\}$ 為 $\\mathbb{R}^n$ 中的垂直標準基、  \n",
    "$\\beta = \\{\\bu_1, \\ldots, \\bu_m\\}$ 為 $\\mathbb{R}^m$ 中的垂直標準基。  \n",
    "已知一線性函數 $f = \\mathbb{R}^n \\rightarrow \\mathbb{R}^m$ 具有 $[f]_\\alpha^\\beta = \\Sigma$ 的性質。"
   ]
  },
  {
   "cell_type": "code",
   "execution_count": null,
   "metadata": {
    "scrolled": false
   },
   "outputs": [],
   "source": [
    "### code\n",
    "set_random_seed(0)\n",
    "print_ans = False\n",
    "\n",
    "r = choice([1,2,3])\n",
    "while True:\n",
    "    sigs = list(map(lambda k: abs(k), random_int_list(r)))\n",
    "    sigs.sort(reverse=True)\n",
    "    if sigs[-1] > 0:\n",
    "        break\n",
    "\n",
    "m,n = 3,4\n",
    "Sigma = zero_matrix(m,n)\n",
    "for i in range(r):\n",
    "    Sigma[i,i] = sigs[i]\n",
    "\n",
    "cs = random_int_list(n)\n",
    "    \n",
    "print(\"m,n = %s,%s\"%(m, n))\n",
    "pretty_print(LatexExpr(r\"\\Sigma =\"), Sigma)\n",
    "print(\"c_1, ..., c_n =\", cs)\n",
    "\n",
    "if print_ans:\n",
    "    rs = [Sigma[i,i] for i in range(m)]\n",
    "    cvs = \" + \".join(r\"(%s)\\mathbf{v}_{%s}\"%(cs[i], i + 1) for i in range(n))\n",
    "    fcvs = \" + \".join(r\"(%s)\\mathbf{u}_{%s}\"%(rs[i] * cs[i], i + 1) for i in range(m))\n",
    "    pretty_print(LatexExpr(cvs + \"=\" + fcvs))\n",
    "    print(\"kernel of f is the span of v%s ~ vn\"%(r+1))\n",
    "    print(\"range of f is the span of u1 ~ u%s\"%(r))"
   ]
  },
  {
   "cell_type": "markdown",
   "metadata": {},
   "source": [
    "##### Exercise 1(a)\n",
    "\n",
    "將 $f(c_1\\bv_1 + \\cdots + c_n\\bv_n)$ 寫成 $\\beta$ 的線性組合。"
   ]
  },
  {
   "cell_type": "markdown",
   "metadata": {},
   "source": [
    "##### Exercise 1(b)\n",
    "\n",
    "用 $\\alpha$ 中的向量來描述 $\\ker(f)$。"
   ]
  },
  {
   "cell_type": "markdown",
   "metadata": {},
   "source": [
    "##### Exercise 1(c)\n",
    "\n",
    "用 $\\beta$ 中的向量來描述 $\\range(f)$。"
   ]
  },
  {
   "cell_type": "markdown",
   "metadata": {},
   "source": [
    "## Exercises"
   ]
  },
  {
   "cell_type": "markdown",
   "metadata": {},
   "source": [
    "##### Exercise 2\n",
    "\n",
    "求以下矩陣的奇異值分解。"
   ]
  },
  {
   "cell_type": "markdown",
   "metadata": {},
   "source": [
    "##### Exercise 2(a)\n",
    "\n",
    "$$\n",
    "    A = \\begin{bmatrix}\n",
    "     1 & 1 & 1 \\\\\n",
    "     1 & 1 & 1\n",
    "    \\end{bmatrix}.\n",
    "$$"
   ]
  },
  {
   "cell_type": "markdown",
   "metadata": {},
   "source": [
    "##### Exercise 2(b)\n",
    "\n",
    "$$\n",
    "    A = \\begin{bmatrix}\n",
    "     1 & 0 & 1 \\\\\n",
    "     0 & 1 & 0\n",
    "    \\end{bmatrix}.\n",
    "$$"
   ]
  },
  {
   "cell_type": "markdown",
   "metadata": {},
   "source": [
    "##### Exercise 3\n",
    "\n",
    "依照以下步驟求出  \n",
    "\n",
    "$$\n",
    "    A = \\begin{bmatrix}\n",
    "     1 & 1 & 1 & 1 \\\\\n",
    "     1 & 1 & -1 & -1 \n",
    "    \\end{bmatrix}\n",
    "$$\n",
    "\n",
    "的奇異值分解。"
   ]
  },
  {
   "cell_type": "markdown",
   "metadata": {},
   "source": [
    "##### Exercise 3(a)\n",
    "\n",
    "求出 $A\\trans A$ 的所有特徵值 $\\lambda_1 \\geq \\cdots \\geq \\lambda_4$ 及其對應的一組垂直單位長的特徵基底 $\\alpha = \\{\\bv_1,\\ldots, \\bv_4\\}$。 "
   ]
  },
  {
   "cell_type": "markdown",
   "metadata": {},
   "source": [
    "##### Exercise 3(b)\n",
    "\n",
    "求出 $AA\\trans$ 的所有特徵值 $\\mu_1 \\geq \\mu_2$ 及其對應的一組垂直單位長的特徵基底 $\\beta = \\{\\bu_1, \\bu_2\\}$。  "
   ]
  },
  {
   "cell_type": "markdown",
   "metadata": {},
   "source": [
    "##### Exercise 3(c)\n",
    "\n",
    "令 $\\sigma_1 = \\sqrt{\\lambda_1}$、$\\sigma_2 = \\sqrt{\\lambda_2}$。  \n",
    "判斷以下敘述是否正確：  \n",
    "\n",
    "1. $\\lambda_1 = \\mu_1$ 且 $\\lambda_2 = \\mu_2$。\n",
    "2. $A\\bv_1 = \\sigma\\bu_1$ 且 $A\\bv_2 = \\sigma_2\\bu_2$。  \n",
    "3. $A\\bv_1$ 是 $AA\\trans$ 的特徵向量且特徵值為 $\\lambda_1$。  \n",
    "$A\\bv_2$ 是 $AA\\trans$ 的特徵向量且特徵值為 $\\lambda_2$。  \n",
    "3. $A\\bv_1$ 的長度為 $\\sigma_1$、$A\\bv_2$ 的長度為 $\\sigma_2$。"
   ]
  },
  {
   "cell_type": "markdown",
   "metadata": {},
   "source": [
    "##### Exercise 3(d)\n",
    "\n",
    "將 $\\beta$ 做適當的修正使得 $\\alpha$、$\\beta$ 可以將 $A$ 奇異值分解。"
   ]
  },
  {
   "cell_type": "markdown",
   "metadata": {},
   "source": [
    "##### Exercise 4\n",
    "\n",
    "在 506-6 我們用連續性論證來說明 $AB$ 和 $BA$ 有相同的非零特徵值集合。  \n",
    "這裡提供另一種方式來證明。  "
   ]
  },
  {
   "cell_type": "markdown",
   "metadata": {},
   "source": [
    "##### Exercise 4(a)\n",
    "\n",
    "令  \n",
    "\n",
    "$$\n",
    "    X = \\begin{bmatrix}\n",
    "    AB & A \\\\\n",
    "    O & O\n",
    "    \\end{bmatrix}, \\quad\n",
    "    Y = \\begin{bmatrix}\n",
    "    O & A \\\\\n",
    "    O & BA\n",
    "    \\end{bmatrix}.\n",
    "$$\n",
    "\n",
    "參考 408 寫出「把 $X$ 的上區塊左乘 $B$ 加到下區塊」的區塊基本矩陣 $E$。  \n",
    "並驗證 $EXE^{-1} = Y$。"
   ]
  },
  {
   "cell_type": "markdown",
   "metadata": {},
   "source": [
    "##### Exercise 4(b)\n",
    "\n",
    "證明 $AB$ 和 $BA$ 有相同的非零特徵值集合。"
   ]
  },
  {
   "cell_type": "markdown",
   "metadata": {},
   "source": [
    "##### Exercise 5\n",
    "\n",
    "執行以下程式碼，並用文字解釋輸出的各項是什麼。"
   ]
  },
  {
   "cell_type": "code",
   "execution_count": null,
   "metadata": {},
   "outputs": [],
   "source": [
    "### code\n",
    "import numpy as np\n",
    "\n",
    "arr = np.array([\n",
    "    [1,1,1],\n",
    "    [1,1,1]\n",
    "])\n",
    "np.linalg.svd(arr)"
   ]
  },
  {
   "cell_type": "markdown",
   "metadata": {},
   "source": [
    "##### Exercise 6\n",
    "\n",
    "以下小題解釋如何利用奇異值分解進行影像壓縮（去除雜訊）。"
   ]
  },
  {
   "cell_type": "markdown",
   "metadata": {},
   "source": [
    "##### Exercise 6(a)\n",
    "\n",
    "執行以下程式碼。\n",
    "選用不同的 `k` 來看看結果有什麼差異。  \n",
    "用文字敘述 `k` 對結果的影響、  \n",
    "並選一個 `k` 是你能接受的最小值。 "
   ]
  },
  {
   "cell_type": "code",
   "execution_count": null,
   "metadata": {},
   "outputs": [],
   "source": [
    "### 未壓縮原圖\n",
    "import numpy as np\n",
    "from PIL import Image\n",
    "\n",
    "r = 10\n",
    "img = Image.open('incrediville-side.jpg')\n",
    "x,y = img.size\n",
    "img = img.resize((x // r, y // r)).convert(\"L\")\n",
    "\n",
    "img"
   ]
  },
  {
   "cell_type": "code",
   "execution_count": null,
   "metadata": {},
   "outputs": [],
   "source": [
    "### 壓縮\n",
    "k = 10\n",
    "\n",
    "arr = np.array(img)\n",
    "u,s,vh = np.linalg.svd(arr)\n",
    "arr_compressed = (u[:,:k] * s[:k]).dot(vh[:k,:])\n",
    "\n",
    "img_compressed = Image.fromarray(arr_compressed.astype('uint8'), 'L')\n",
    "img_compressed"
   ]
  },
  {
   "cell_type": "markdown",
   "metadata": {},
   "source": [
    "##### Exercise 6(b)\n",
    "\n",
    "令 $A$ 為一 $m\\times n$ 矩陣、且 $\\rank(A) = r$。  \n",
    "已知 $A = U\\Sigma V^\\top$ 為其奇異值分解。  \n",
    "令 $\\bu_1,\\ldots,\\bu_{m}$ 為 $U$ 的各行向量、  \n",
    "而 $\\bv_1, \\ldots, \\bv_{n}$ 為 $V$ 的各行向量。  \n",
    "\n",
    "說明 $A$ 可寫成  \n",
    "\n",
    "$$\n",
    "    A = \\sum_{i=1}^{r} \\sigma_i \\bu_i \\bv_i\\trans.\n",
    "$$  \n",
    "\n",
    "因此對任意 $k \\leq r$ 而言，$A' = \\sum_{i=1}^{k} \\sigma_i \\bu_i \\bv_i\\trans$ 都可視為 $A$ 的一個逼近。"
   ]
  },
  {
   "cell_type": "markdown",
   "metadata": {},
   "source": [
    "##### Exercise 6(c)\n",
    "\n",
    "在矩陣世界裡，我們定義長度平方為 $\\|X\\|^2 = \\tr(X\\trans X)$。  \n",
    "因此也可以計算兩矩陣 $X$ 和 $Y$ 的距離為 $\\|X - Y\\|$。  \n",
    "\n",
    "驗證對每一個 $i$ 都有 $\\|\\bu_i\\bv_i\\trans\\| = 1$，  \n",
    "並說明 $\\|A - A'\\|^2 = \\sum_{i = k+1}^r \\sigma_i^2$。  \n",
    "\n",
    "（因此我們刪除小的奇異值是合理的，並不會改變 $A$ 太多。）"
   ]
  },
  {
   "cell_type": "markdown",
   "metadata": {},
   "source": [
    "##### Exercise 6(d)\n",
    "\n",
    "令 `x` 為電腦儲存一個浮點數所需的容量。  \n",
    "說明一張 $m\\times n$ 畫素的灰階圖片大約佔 $mn$ `x` 的容量、  \n",
    "而給定 $k$ 經過壓縮後的圖片大約佔 $mk + nk + k$ `x` 的容量。  "
   ]
  },
  {
   "cell_type": "markdown",
   "metadata": {},
   "source": [
    "##### Exercise 7\n",
    "\n",
    "以下練習討論一個矩陣 $A$ 的**摩爾–彭若斯廣義反矩陣（Moore–Penrose pseudoinverse）** 。  \n",
    "記作 $A^\\dagger$。  "
   ]
  },
  {
   "cell_type": "markdown",
   "metadata": {},
   "source": [
    "##### Exercise 7(a)\n",
    "\n",
    "若 $\\sigma_1, \\ldots, \\sigma_r$ 為非零實數，且\n",
    "\n",
    "$$\n",
    "    \\Sigma = \\begin{bmatrix} \n",
    "     \\operatorname{diag}(\\sigma_1, \\ldots, \\sigma_r) & O_{r,n-r} \\\\\n",
    "     O_{m-r,r} & O_{m-r,n-r} \n",
    "    \\end{bmatrix},\n",
    "$$\n",
    "\n",
    "則  \n",
    "\n",
    "$$\n",
    "    \\Sigma^\\dagger = \\begin{bmatrix} \n",
    "     \\operatorname{diag}(\\sigma_1^{-1}, \\ldots, \\sigma_r^{-1}) & O_{r,m-r} \\\\\n",
    "     O_{n-r,r} & O_{n-r,m-r} \n",
    "    \\end{bmatrix}.\n",
    "$$\n",
    "\n",
    "（注意零矩陣的大小。）\n",
    "\n",
    "求  \n",
    "\n",
    "$$\n",
    "    \\Sigma = \\begin{bmatrix}\n",
    "     2 & 0 & 0 \\\\\n",
    "     0 & 1 & 0\n",
    "    \\end{bmatrix}\n",
    "$$\n",
    "\n",
    "的 $\\Sigma^\\dagger$。"
   ]
  },
  {
   "cell_type": "markdown",
   "metadata": {},
   "source": [
    "##### Exercise 7(b)\n",
    "\n",
    "若 $A$ 的奇異值分解為 $U\\Sigma V\\trans$，  \n",
    "則 $A^\\dagger = V\\Sigma^\\dagger U\\trans$。  \n",
    "\n",
    "求  \n",
    "\n",
    "$$\n",
    "    A = \\begin{bmatrix}\n",
    "     1 & 1 & 1 \\\\\n",
    "     1 & 1 & 1 \\\\\n",
    "    \\end{bmatrix}\n",
    "$$\n",
    "\n",
    "的 $A^\\dagger$。"
   ]
  },
  {
   "cell_type": "markdown",
   "metadata": {},
   "source": [
    "##### Exercise 8\n",
    "\n",
    "令 $A$ 為一 $m\\times n$ 矩陣。  \n",
    "以下練習建立奇異值分解的理論基礎。"
   ]
  },
  {
   "cell_type": "markdown",
   "metadata": {},
   "source": [
    "##### Exercise 8(a)\n",
    "\n",
    "令 $\\bv$ 為 $A\\trans A$ 的特徵向量且 $A\\trans A\\bv = \\lambda\\bv$。  \n",
    "證明 $A\\bv$ 滿足 $AA\\trans (A\\bv) = \\lambda(A\\bv)$。  "
   ]
  },
  {
   "cell_type": "markdown",
   "metadata": {},
   "source": [
    "##### Exercise 8(b)\n",
    "\n",
    "令 $\\bv$ 為 $A\\trans A$ 的特徵向量且 $A\\trans A\\bv = \\lambda\\bv$。  \n",
    "證明對任意向量 $\\bu\\in\\mathbb{R}^n$，都有 $\\inp{A\\bv}{A\\bu} = \\lambda\\inp{\\bv}{\\bu}$。  "
   ]
  },
  {
   "cell_type": "markdown",
   "metadata": {},
   "source": [
    "##### Exercise 8(c)\n",
    "\n",
    "藉由以上性質證明：  \n",
    "\n",
    "1. $\\lambda \\geq 0$。  \n",
    "2. $A\\bv$ 是 $AA\\trans$ 的特徵向量且長度為 $\\sqrt{\\lambda}$。  \n",
    "3. 若 $\\alpha_1$ 為 $\\Row(A\\trans A)$ 的一組垂直標準特徵基底、  \n",
    "則 $\\beta_1 = \\{\\frac{1}{\\sigma_i}A\\bv: \\bv \\in \\alpha_1\\}$ 為 $\\Row(AA\\trans)$ 的一組垂直標準特徵基底。  "
   ]
  }
 ],
 "metadata": {
  "kernelspec": {
   "display_name": "SageMath 9.5",
   "language": "sage",
   "name": "sagemath"
  },
  "language_info": {
   "codemirror_mode": {
    "name": "ipython",
    "version": 3
   },
   "file_extension": ".py",
   "mimetype": "text/x-python",
   "name": "python",
   "nbconvert_exporter": "python",
   "pygments_lexer": "ipython3",
   "version": "3.10.2"
  }
 },
 "nbformat": 4,
 "nbformat_minor": 4
}
