{
 "cells": [
  {
   "cell_type": "markdown",
   "metadata": {},
   "source": [
    "# 拉普拉斯嵌入法與譜分群"
   ]
  },
  {
   "cell_type": "markdown",
   "metadata": {},
   "source": [
    "![Creative Commons License](https://i.creativecommons.org/l/by/4.0/88x31.png)  \n",
    "This work by Jephian Lin is licensed under a [Creative Commons Attribution 4.0 International License](http://creativecommons.org/licenses/by/4.0/)."
   ]
  },
  {
   "cell_type": "markdown",
   "metadata": {},
   "source": [
    "$\\newcommand{\\trans}{^\\top}\n",
    "\\newcommand{\\adj}{^{\\rm adj}}\n",
    "\\newcommand{\\cof}{^{\\rm cof}}\n",
    "\\newcommand{\\inp}[2]{\\left\\langle#1,#2\\right\\rangle}\n",
    "\\newcommand{\\dunion}{\\mathbin{\\dot\\cup}}\n",
    "\\newcommand{\\bzero}{\\mathbf{0}}\n",
    "\\newcommand{\\bone}{\\mathbf{1}}\n",
    "\\newcommand{\\ba}{\\mathbf{a}}\n",
    "\\newcommand{\\bb}{\\mathbf{b}}\n",
    "\\newcommand{\\bc}{\\mathbf{c}}\n",
    "\\newcommand{\\bd}{\\mathbf{d}}\n",
    "\\newcommand{\\be}{\\mathbf{e}}\n",
    "\\newcommand{\\bh}{\\mathbf{h}}\n",
    "\\newcommand{\\bp}{\\mathbf{p}}\n",
    "\\newcommand{\\bq}{\\mathbf{q}}\n",
    "\\newcommand{\\br}{\\mathbf{r}}\n",
    "\\newcommand{\\bx}{\\mathbf{x}}\n",
    "\\newcommand{\\by}{\\mathbf{y}}\n",
    "\\newcommand{\\bz}{\\mathbf{z}}\n",
    "\\newcommand{\\bu}{\\mathbf{u}}\n",
    "\\newcommand{\\bv}{\\mathbf{v}}\n",
    "\\newcommand{\\bw}{\\mathbf{w}}\n",
    "\\newcommand{\\tr}{\\operatorname{tr}}\n",
    "\\newcommand{\\nul}{\\operatorname{null}}\n",
    "\\newcommand{\\rank}{\\operatorname{rank}}\n",
    "%\\newcommand{\\ker}{\\operatorname{ker}}\n",
    "\\newcommand{\\range}{\\operatorname{range}}\n",
    "\\newcommand{\\Col}{\\operatorname{Col}}\n",
    "\\newcommand{\\Row}{\\operatorname{Row}}\n",
    "\\newcommand{\\spec}{\\operatorname{spec}}\n",
    "\\newcommand{\\vspan}{\\operatorname{span}}\n",
    "\\newcommand{\\Vol}{\\operatorname{Vol}}\n",
    "\\newcommand{\\sgn}{\\operatorname{sgn}}\n",
    "\\newcommand{\\idmap}{\\operatorname{id}}\n",
    "\\newcommand{\\am}{\\operatorname{am}}\n",
    "\\newcommand{\\gm}{\\operatorname{gm}}\n",
    "\\newcommand{\\mult}{\\operatorname{mult}}\n",
    "\\newcommand{\\iner}{\\operatorname{iner}}$"
   ]
  },
  {
   "cell_type": "code",
   "execution_count": null,
   "metadata": {},
   "outputs": [],
   "source": [
    "# from lingeo import random_int_list"
   ]
  },
  {
   "cell_type": "markdown",
   "metadata": {},
   "source": [
    "## Main idea"
   ]
  },
  {
   "cell_type": "markdown",
   "metadata": {},
   "source": [
    "Sometimes a graph can have some \"clusters\" such that the vertices in each cluster are strongly related, while vertices from different clusters are weakly related.  \n",
    "The Laplacian matrix is good at find these clusters."
   ]
  },
  {
   "cell_type": "markdown",
   "metadata": {},
   "source": [
    "Let $G$ be a graph on $n$ vertices and $L$ its Laplacian matrix.  \n",
    "Let $\\lambda_1 \\leq \\cdots \\leq \\lambda_n$ be the eigenvalues.  \n",
    "We knew that $\\nul(L)$ is the lagest $k$ such that $\\lambda_k = 0$, and it is also the number of connected components of $G$.  \n",
    "Similarly, we may pick a threshold $\\epsilon > 0$ such that eigenvalues with $\\lambda < \\epsilon$ is considered as zeroish eigenvalues.  \n",
    "Then the largest $k$ such that $\\lambda_k < \\epsilon$ can be interpreted as the number of clusters.  "
   ]
  },
  {
   "cell_type": "markdown",
   "metadata": {},
   "source": [
    "Let $\\{\\bv_1,\\ldots, \\bv_n\\}$ be the corresponding orthonormal eigenbasis.  \n",
    "We knew that $\\bv_1 = \\bone$.  \n",
    "The unit eigenvector $\\bv_2$ corresponding to $\\lambda_2$ is called the **Fiedler vector**."
   ]
  },
  {
   "cell_type": "markdown",
   "metadata": {},
   "source": [
    "One may partition a graph by its Fiedler vector as follows:  \n",
    "\n",
    "- Let $(\\bv_2)_i$ be the $i$-th entry of the Fiedler vector $\\bv_2$.  \n",
    "- Let $N_+ = \\{ i : (\\bv_2)_i > 0\\}$.\n",
    "- Let $N_- = \\{ i : (\\bv_2)_i < 0\\}$.\n",
    "- Let $N_0 = \\{ i : (\\bv_2)_i = 0\\}$.\n",
    "- Then the graph can be partitioned either by $(N_+\\cup N_0, N_-)$ or $(N_+, N_-\\cup N_0)$.  "
   ]
  },
  {
   "cell_type": "markdown",
   "metadata": {},
   "source": [
    "Let $G$ be a graph and $W$ a subset of vertices.  \n",
    "Then the **induced subgraph** of $G$ on $W$ is denoted by $G[W]$ and is the graph on the vertex set $W$ and with all edges in $G$ whose both endpoints are in $W$.  "
   ]
  },
  {
   "cell_type": "markdown",
   "metadata": {},
   "source": [
    "##### Fiedler's partition theorem (simple version)\n",
    "\n",
    "Let $G$ be a connected graph and $L$ its Laplacian matrix.  \n",
    "Assume the multiplicity of the second smallest eigenvalue $\\lambda_2$ is $1$.  \n",
    "Let $\\bv=(v_0,\\ldots,v_{n-1})$ be the eigenvector of $L$ with respect to $\\lambda_2$.  \n",
    "Let $N_+ = \\{ i : (\\bv_2)_i > 0\\}$.  \n",
    "Let $N_- = \\{ i : (\\bv_2)_i < 0\\}$.  \n",
    "Let $N_0 = \\{ i : (\\bv_2)_i = 0\\}$.  \n",
    "Then $G[N_+]$ and $G[N_0\\cup N_-]$ are *connected* subgraphs of $G$."
   ]
  },
  {
   "cell_type": "markdown",
   "metadata": {},
   "source": [
    "From this point of view, the Fiedler vector assigns a number to each vertex, so it can be viewed as a feature vector.  \n",
    "Indeed, one may use $\\bv_3, \\bv_4, \\ldots$ as new feature vectors.  \n",
    "This lead to the idea called the **spectral embedding** of a graph.  "
   ]
  },
  {
   "cell_type": "markdown",
   "metadata": {},
   "source": [
    "##### Algorithm (spectral embedding)\n",
    "\n",
    "Input: a graph $G$ on $n$ vertices, and the desired dimension $k$\n",
    "Output: an $n\\times k$ data matrix $Y$\n",
    "\n",
    "1. Let $L = L(G)$.\n",
    "2. Find a diagonal matrix $D$, whose diagonal entries are $\\lambda_1 \\leq \\cdots \\leq \\lambda_d$, and an orthogonal matrix $Q$ such that $L = QDQ\\trans$.  \n",
    "3. Let $Y$ be the $n\\times k$ matrix composed of the $2$-nd to the $(k+1)$-th columns of $Q$.  "
   ]
  },
  {
   "cell_type": "markdown",
   "metadata": {},
   "source": [
    "The importance of spectral embedding is to provide a way to transform a graph data into a data matrix.  \n",
    "Thus, one may use clustering algorithms, such as $k$-means, to cluster the vertices of the graph.  \n",
    "The combination of spectral embedding and $k$-means is called the **spectral clustering** ."
   ]
  },
  {
   "cell_type": "markdown",
   "metadata": {},
   "source": [
    "Finally, all the theories in 614 and 615 works for weighted graphs, where each edge $\\{i,j\\}$ is assigned with a positive weight $w_{ij}$.  \n",
    "The **weighted Laplacian matrix** of a weighted graph is having $-w_{ij}$ on the edges and  \n",
    "\n",
    "$$\n",
    "    \\sum_{ \\substack{j \\neq i\\\\\\{j,i\\}\\in E(G)} } w_{ij}.\n",
    "$$\n",
    "\n",
    "on the $i,i$-entry.  "
   ]
  },
  {
   "cell_type": "markdown",
   "metadata": {},
   "source": [
    "## Side stories\n",
    "\n",
    "- $k$-means\n",
    "- image segmentation"
   ]
  },
  {
   "cell_type": "markdown",
   "metadata": {},
   "source": [
    "## Experiments"
   ]
  },
  {
   "cell_type": "markdown",
   "metadata": {},
   "source": [
    "##### Exercise 1\n",
    "\n",
    "執行以下程式碼。  "
   ]
  },
  {
   "cell_type": "code",
   "execution_count": 2,
   "metadata": {
    "scrolled": false
   },
   "outputs": [
    {
     "data": {
      "image/png": "[encoded data removed]",
      "text/plain": [
       "Graphics object consisting of 9 graphics primitives"
      ]
     },
     "metadata": {},
     "output_type": "display_data"
    }
   ],
   "source": [
    "### code\n",
    "set_random_seed(0)\n",
    "print_ans = False\n",
    "\n",
    "n = 4\n",
    "g = graphs.RandomGNP(n, 0.5)\n",
    "g.relabel({i:i + 1 for i in range(n)})\n",
    "\n",
    "g.show(figsize=(3,3), title=\"$G$\")\n",
    "\n",
    "if print_ans:\n",
    "    L = g.laplacian_matrix()\n",
    "    pretty_print(LatexExpr(\"L =\"), L)\n",
    "    xs = var(\" \".join(\"x%s\"%i for i in g.vertices()))\n",
    "    qua = sum((xs[e[0] - 1] - xs[e[1] - 1])^2 for e in g.edges(labels=False))\n",
    "    print(\"quadratic form:\")\n",
    "    show(qua)\n",
    "    print(\"ker(L) is spanned by the rows of\")\n",
    "    show(L.kernel().basis_matrix())\n",
    "    print(\"Number of connected components =\", L.nullity())"
   ]
  },
  {
   "cell_type": "markdown",
   "metadata": {},
   "source": [
    "##### Exercise 1(a)\n",
    "\n",
    "寫出圖 $G$ 的拉普拉斯矩陣 $L$。"
   ]
  },
  {
   "cell_type": "markdown",
   "metadata": {},
   "source": [
    "##### Exercise 1(b)\n",
    "\n",
    "寫出 $L$ 的二次型。"
   ]
  },
  {
   "cell_type": "markdown",
   "metadata": {},
   "source": [
    "##### Exercise 1(c)\n",
    "\n",
    "已知 $\\bx\\trans L\\bx = 0$ 和 $L\\bx = \\bzero$ 等價。  \n",
    "利用二次型求出 $\\ker(L)$ 並判斷 $G$ 的連通區塊個數。"
   ]
  },
  {
   "cell_type": "markdown",
   "metadata": {},
   "source": [
    "## Exercises"
   ]
  },
  {
   "cell_type": "markdown",
   "metadata": {},
   "source": [
    "##### Exercise 2\n",
    "\n",
    "令  \n",
    "\n",
    "$$\n",
    "    \\begin{aligned}\n",
    "    V &= \\{1,2,3,4\\} \\\\\n",
    "    E &= \\{\\{1,2\\}, \\{1,3\\}, \\{1,4\\}\\}\n",
    "    \\end{aligned}\n",
    "$$\n",
    "\n",
    "且 $G = (V,E)$。"
   ]
  },
  {
   "cell_type": "markdown",
   "metadata": {},
   "source": [
    "##### Exercise 2(a)\n",
    "\n",
    "畫出圖 $G$。"
   ]
  },
  {
   "cell_type": "markdown",
   "metadata": {},
   "source": [
    "##### Exercise 2(b)\n",
    "\n",
    "寫出圖 $L = L(G)$ 以及其二次型。"
   ]
  },
  {
   "cell_type": "markdown",
   "metadata": {},
   "source": [
    "##### Exercise 2(c)\n",
    "\n",
    "說明 $L$ 是一個半正定矩陣，且 $L\\bone = \\bzero$。"
   ]
  },
  {
   "cell_type": "markdown",
   "metadata": {},
   "source": [
    "##### Exercise 3\n",
    "\n",
    "令  \n",
    "\n",
    "$$\n",
    "    \\begin{aligned}\n",
    "    V &= \\{1,2,3,4\\} \\\\\n",
    "    E &= \\{\\{1,2\\}, \\{3,4\\}\\}\n",
    "    \\end{aligned}\n",
    "$$\n",
    "\n",
    "且 $G = (V,E)$。"
   ]
  },
  {
   "cell_type": "markdown",
   "metadata": {},
   "source": [
    "##### Exercise 3(a)\n",
    "\n",
    "畫出圖 $G$。"
   ]
  },
  {
   "cell_type": "markdown",
   "metadata": {},
   "source": [
    "##### Exercise 3(b)\n",
    "\n",
    "寫出圖 $L = L(G)$ 以及其二次型。"
   ]
  },
  {
   "cell_type": "markdown",
   "metadata": {},
   "source": [
    "##### Exercise 3(c)\n",
    "\n",
    "求 $\\bx\\trans L\\bx = 0$ 的所有解。"
   ]
  },
  {
   "cell_type": "markdown",
   "metadata": {},
   "source": [
    "##### Exercise 3(d)\n",
    "\n",
    "已知 $\\bx\\trans L\\bx = 0$ 和 $L\\bx = \\bzero$ 等價。  \n",
    "利用二次型求出 $\\ker(L)$ 並判斷 $G$ 的連通區塊個數。"
   ]
  },
  {
   "cell_type": "markdown",
   "metadata": {},
   "source": [
    "##### Exercise 4\n",
    "\n",
    "令 $G$ 為一圖、且 $L = L(G)$。  \n",
    "以下練習探討 $\\ker(L)$ 的結構。"
   ]
  },
  {
   "cell_type": "markdown",
   "metadata": {},
   "source": [
    "##### Exercise 4(a)\n",
    "\n",
    "令 $P$ 為任一半正定矩陣，證明 $\\bx\\trans P\\bx = 0$ 和 $P\\bx = \\bzero$ 等價。  \n",
    "\n",
    "提示：可利用瑞利商定理、或是利用格拉姆矩陣的特性。"
   ]
  },
  {
   "cell_type": "markdown",
   "metadata": {},
   "source": [
    "##### Exercise 4(b)\n",
    "\n",
    "求 $\\bx\\trans L\\bx = 0$ 的解。"
   ]
  },
  {
   "cell_type": "markdown",
   "metadata": {},
   "source": [
    "##### Exercise 4(c)\n",
    "\n",
    "用上一提的結果說明 $\\ker(L) = \\{\\phi_{X_1}, \\ldots, \\phi_{X_k}\\}$。  \n",
    "這裡 $X_1, \\ldots, X_k$ 為 $G$ 的各連通區塊所在的點集合、  \n",
    "而 $\\phi_{X_1}, \\ldots, \\phi_{X_k}$ 為其指標向量（characteristic vector）。"
   ]
  },
  {
   "cell_type": "markdown",
   "metadata": {},
   "source": [
    "##### Exercise 5\n",
    "\n",
    "令 $G = (V,E)$ 為一圖、其中 $V = \\{v_1,\\ldots,v_n\\}$、$E = \\{e_1,\\ldots,e_m\\}$。  \n",
    "定義 $\\bu_j$ 為一 $\\mathbb{R}^n$ 中的向量，  \n",
    "其上有一個 $1$ 和一個 $-1$，分別落在 $e_j$ 的兩個端點上（哪一個放 $-1$ 皆可），  \n",
    "而其它項皆是 $0$。\n",
    "\n",
    "則 $G$ 的 **相連矩陣（incidence matrix）** 為一 $n\\times m$ 矩陣 $N(G)$，  \n",
    "其第 $j$ 行為 $\\bu_j$。  \n",
    "\n",
    "（相連矩陣並不唯一，取決於 $-1$ 放的位置，有 $2^m$ 種。）"
   ]
  },
  {
   "cell_type": "markdown",
   "metadata": {},
   "source": [
    "##### Exercise 5(a)\n",
    "\n",
    "令  \n",
    "\n",
    "$$\n",
    "    \\begin{aligned}\n",
    "    V &= \\{1,2,3,4\\} \\\\\n",
    "    E &= \\{\\{1,2\\}, \\{1,3\\}, \\{1,4\\}\\}\n",
    "    \\end{aligned}\n",
    "$$\n",
    "\n",
    "且 $G = (V,E)$。  \n",
    "寫出 $G$ 的一個相連矩陣 $N$，並驗證 $NN\\trans = L(G)$。"
   ]
  },
  {
   "cell_type": "markdown",
   "metadata": {},
   "source": [
    "##### Exercise 5(b)\n",
    "\n",
    "令 $N$ 為 $G$ 的一個相連矩陣、  \n",
    "而 $L$ 為 $G$ 的拉普拉斯矩陣。  \n",
    "\n",
    "證明對任意 $G$ 都有 $NN\\trans = L$。"
   ]
  },
  {
   "cell_type": "markdown",
   "metadata": {},
   "source": [
    "##### Exercise 5(c)\n",
    "\n",
    "利用 $NN\\trans = L$ 來再次證明  \n",
    "\n",
    "$$\n",
    "    \\bx\\trans L\\bx = \\sum_{\\{i,j\\}\\in E(G)}(x_i - x_j)^2.\n",
    "$$"
   ]
  },
  {
   "cell_type": "markdown",
   "metadata": {},
   "source": [
    "##### Exercise 6\n",
    "\n",
    "令 $G$ 為一 $n$ 個點的圖而 $L = L(G)$。  \n",
    "令 $L$ 的特徵值為 $\\lambda_1 \\leq \\lambda_2 \\leq \\cdots \\leq \\lambda_n$。  \n",
    "因為 $L\\bone = \\bzero$，所以 $\\lambda_1$。  \n",
    "而 $\\lambda_2$ 則稱為 $G$ 的 **代數連通度（algebraic connectivity）** ，記作 $\\lambda_2(G)$。"
   ]
  },
  {
   "cell_type": "markdown",
   "metadata": {},
   "source": [
    "##### Exercise 6(a)\n",
    "\n",
    "證明以下敘述等價：  \n",
    "\n",
    "- $\\lambda_2(G) = 0$。  \n",
    "- $G$ 不連通。"
   ]
  },
  {
   "cell_type": "markdown",
   "metadata": {},
   "source": [
    "##### Exercise 6(b)\n",
    "\n",
    "圖 $G$ 的連通度指的是最少須要拿掉幾個點才能讓 $G$ 變得不連通，這個連通度記作 $\\kappa(G)$。  \n",
    "另一個 $\\lambda_2(G)$ 被稱為代數連通度的原因是 $\\lambda_2(G) \\leq \\kappa(G)$ 對任何圖 $G$ 都成立。  \n",
    "\n",
    "令  \n",
    "\n",
    "$$\n",
    "    \\begin{aligned}\n",
    "    V &= \\{1,2,3,4\\} \\\\\n",
    "    E &= \\{\\{1,2\\}, \\{2,3\\}, \\{3,4\\}, \\{4,1\\}\\}\n",
    "    \\end{aligned}\n",
    "$$\n",
    "\n",
    "且 $G = (V,E)$。  \n",
    "計算 $G$ 的 $\\lambda_2(G)$ 和 $\\kappa(G)$。"
   ]
  },
  {
   "cell_type": "markdown",
   "metadata": {},
   "source": [
    "##### Exercise 6(c)\n",
    "\n",
    "令  \n",
    "\n",
    "$$\n",
    "    \\begin{aligned}\n",
    "    V &= \\{1,2,3,4,5,6\\} \\\\\n",
    "    E &= \\{\\{1,2\\}, \\{2,3\\}, \\{3,4\\}, \\{4,5\\}, \\{5,6\\}, \\{6,1\\}\\}\n",
    "    \\end{aligned}\n",
    "$$\n",
    "\n",
    "且 $G = (V,E)$。  \n",
    "計算 $G$ 的 $\\lambda_2(G)$ 和 $\\kappa(G)$。"
   ]
  }
 ],
 "metadata": {
  "kernelspec": {
   "display_name": "SageMath 9.5",
   "language": "sage",
   "name": "sagemath"
  },
  "language_info": {
   "codemirror_mode": {
    "name": "ipython",
    "version": 3
   },
   "file_extension": ".py",
   "mimetype": "text/x-python",
   "name": "python",
   "nbconvert_exporter": "python",
   "pygments_lexer": "ipython3",
   "version": "3.10.2"
  }
 },
 "nbformat": 4,
 "nbformat_minor": 4
}
