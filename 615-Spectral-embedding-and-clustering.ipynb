{
 "cells": [
  {
   "cell_type": "markdown",
   "metadata": {},
   "source": [
    "# 拉普拉斯嵌入法與譜分群\n",
    "\n",
    "Spectral embedding and clustering"
   ]
  },
  {
   "cell_type": "markdown",
   "metadata": {},
   "source": [
    "![Creative Commons License](https://i.creativecommons.org/l/by/4.0/88x31.png)  \n",
    "This work by Jephian Lin is licensed under a [Creative Commons Attribution 4.0 International License](http://creativecommons.org/licenses/by/4.0/)."
   ]
  },
  {
   "cell_type": "markdown",
   "metadata": {},
   "source": [
    "$\\newcommand{\\trans}{^\\top}\n",
    "\\newcommand{\\adj}{^{\\rm adj}}\n",
    "\\newcommand{\\cof}{^{\\rm cof}}\n",
    "\\newcommand{\\inp}[2]{\\left\\langle#1,#2\\right\\rangle}\n",
    "\\newcommand{\\dunion}{\\mathbin{\\dot\\cup}}\n",
    "\\newcommand{\\bzero}{\\mathbf{0}}\n",
    "\\newcommand{\\bone}{\\mathbf{1}}\n",
    "\\newcommand{\\ba}{\\mathbf{a}}\n",
    "\\newcommand{\\bb}{\\mathbf{b}}\n",
    "\\newcommand{\\bc}{\\mathbf{c}}\n",
    "\\newcommand{\\bd}{\\mathbf{d}}\n",
    "\\newcommand{\\be}{\\mathbf{e}}\n",
    "\\newcommand{\\bh}{\\mathbf{h}}\n",
    "\\newcommand{\\bp}{\\mathbf{p}}\n",
    "\\newcommand{\\bq}{\\mathbf{q}}\n",
    "\\newcommand{\\br}{\\mathbf{r}}\n",
    "\\newcommand{\\bx}{\\mathbf{x}}\n",
    "\\newcommand{\\by}{\\mathbf{y}}\n",
    "\\newcommand{\\bz}{\\mathbf{z}}\n",
    "\\newcommand{\\bu}{\\mathbf{u}}\n",
    "\\newcommand{\\bv}{\\mathbf{v}}\n",
    "\\newcommand{\\bw}{\\mathbf{w}}\n",
    "\\newcommand{\\tr}{\\operatorname{tr}}\n",
    "\\newcommand{\\nul}{\\operatorname{null}}\n",
    "\\newcommand{\\rank}{\\operatorname{rank}}\n",
    "%\\newcommand{\\ker}{\\operatorname{ker}}\n",
    "\\newcommand{\\range}{\\operatorname{range}}\n",
    "\\newcommand{\\Col}{\\operatorname{Col}}\n",
    "\\newcommand{\\Row}{\\operatorname{Row}}\n",
    "\\newcommand{\\spec}{\\operatorname{spec}}\n",
    "\\newcommand{\\vspan}{\\operatorname{span}}\n",
    "\\newcommand{\\Vol}{\\operatorname{Vol}}\n",
    "\\newcommand{\\sgn}{\\operatorname{sgn}}\n",
    "\\newcommand{\\idmap}{\\operatorname{id}}\n",
    "\\newcommand{\\am}{\\operatorname{am}}\n",
    "\\newcommand{\\gm}{\\operatorname{gm}}\n",
    "\\newcommand{\\mult}{\\operatorname{mult}}\n",
    "\\newcommand{\\iner}{\\operatorname{iner}}$"
   ]
  },
  {
   "cell_type": "markdown",
   "metadata": {},
   "source": [
    "## Main idea"
   ]
  },
  {
   "cell_type": "markdown",
   "metadata": {},
   "source": [
    "Sometimes a graph can have some \"clusters\" such that the vertices in each cluster are strongly related, while vertices from different clusters are weakly related.  \n",
    "The Laplacian matrix is good at find these clusters."
   ]
  },
  {
   "cell_type": "markdown",
   "metadata": {},
   "source": [
    "Let $G$ be a graph on $n$ vertices and $L$ its Laplacian matrix.  \n",
    "Let $\\lambda_1 \\leq \\cdots \\leq \\lambda_n$ be the eigenvalues.  \n",
    "We knew that $\\nul(L)$ is the lagest $k$ such that $\\lambda_k = 0$, and it is also the number of connected components of $G$.  \n",
    "Similarly, we may pick a threshold $\\epsilon > 0$ such that eigenvalues with $\\lambda < \\epsilon$ is considered as zeroish eigenvalues.  \n",
    "Then the largest $k$ such that $\\lambda_k < \\epsilon$ can be interpreted as the number of clusters.  "
   ]
  },
  {
   "cell_type": "markdown",
   "metadata": {},
   "source": [
    "Let $\\{\\bv_1,\\ldots, \\bv_n\\}$ be the corresponding orthonormal eigenbasis.  \n",
    "We knew that $\\bv_1 = \\bone$.  \n",
    "The unit eigenvector $\\bv_2$ corresponding to $\\lambda_2$ is called the **Fiedler vector**."
   ]
  },
  {
   "cell_type": "markdown",
   "metadata": {},
   "source": [
    "One may partition a graph by its Fiedler vector as follows:  \n",
    "\n",
    "- Let $(\\bv_2)_i$ be the $i$-th entry of the Fiedler vector $\\bv_2$.  \n",
    "- Let $N_+ = \\{ i : (\\bv_2)_i > 0\\}$.\n",
    "- Let $N_- = \\{ i : (\\bv_2)_i < 0\\}$.\n",
    "- Let $N_0 = \\{ i : (\\bv_2)_i = 0\\}$.\n",
    "- Then the graph can be partitioned either by $(N_+\\cup N_0, N_-)$ or $(N_+, N_-\\cup N_0)$.  "
   ]
  },
  {
   "cell_type": "markdown",
   "metadata": {},
   "source": [
    "Let $G$ be a graph and $W$ a subset of vertices.  \n",
    "Then the **induced subgraph** of $G$ on $W$ is denoted by $G[W]$ and is the graph on the vertex set $W$ and with all edges in $G$ whose both endpoints are in $W$.  "
   ]
  },
  {
   "cell_type": "markdown",
   "metadata": {},
   "source": [
    "##### Fiedler's partition theorem (simple version)\n",
    "\n",
    "Let $G$ be a connected graph and $L$ its Laplacian matrix.  \n",
    "Assume the multiplicity of the second smallest eigenvalue $\\lambda_2$ is $1$.  \n",
    "Let $\\bv=(v_0,\\ldots,v_{n-1})$ be the eigenvector of $L$ with respect to $\\lambda_2$.  \n",
    "Let $N_+ = \\{ i : (\\bv_2)_i > 0\\}$.  \n",
    "Let $N_- = \\{ i : (\\bv_2)_i < 0\\}$.  \n",
    "Let $N_0 = \\{ i : (\\bv_2)_i = 0\\}$.  \n",
    "Then $G[N_+]$ and $G[N_0\\cup N_-]$ are *connected* subgraphs of $G$."
   ]
  },
  {
   "cell_type": "markdown",
   "metadata": {},
   "source": [
    "From this point of view, the Fiedler vector assigns a number to each vertex, so it can be viewed as a feature vector.  \n",
    "Indeed, one may use $\\bv_3, \\bv_4, \\ldots$ as new feature vectors.  \n",
    "This lead to the idea called the **spectral embedding** of a graph.  "
   ]
  },
  {
   "cell_type": "markdown",
   "metadata": {},
   "source": [
    "##### Algorithm (spectral embedding)\n",
    "\n",
    "Input: a graph $G$ on $n$ vertices, and the desired dimension $k$  \n",
    "Output: an $n\\times k$ data matrix $Y$\n",
    "\n",
    "1. Let $L = L(G)$.\n",
    "2. Find a diagonal matrix $D$, whose diagonal entries are $\\lambda_1 \\leq \\cdots \\leq \\lambda_d$, and an orthogonal matrix $Q$ such that $L = QDQ\\trans$.  \n",
    "3. Let $Y$ be the $n\\times k$ matrix composed of the $2$-nd to the $(k+1)$-th columns of $Q$.  "
   ]
  },
  {
   "cell_type": "markdown",
   "metadata": {},
   "source": [
    "The importance of spectral embedding is to provide a way to transform a graph data into a data matrix.  \n",
    "Thus, one may use clustering algorithms, such as $k$-means, to cluster the vertices of the graph.  \n",
    "The combination of spectral embedding and $k$-means is called the **spectral clustering** ."
   ]
  },
  {
   "cell_type": "markdown",
   "metadata": {},
   "source": [
    "Finally, all the theories in 614 and 615 works for weighted graphs, where each edge $\\{i,j\\}$ is assigned with a positive weight $w_{ij}$.  \n",
    "The **weighted Laplacian matrix** of a weighted graph is having $-w_{ij}$ on the edges and  \n",
    "\n",
    "$$\n",
    "    \\sum_{ \\substack{j \\neq i\\\\\\{j,i\\}\\in E(G)} } w_{ij}.\n",
    "$$\n",
    "\n",
    "on the $i,i$-entry.  "
   ]
  },
  {
   "cell_type": "markdown",
   "metadata": {},
   "source": [
    "## Side stories\n",
    "\n",
    "- $k$-means\n",
    "- image segmentation"
   ]
  },
  {
   "cell_type": "markdown",
   "metadata": {},
   "source": [
    "## Experiments"
   ]
  },
  {
   "cell_type": "markdown",
   "metadata": {},
   "source": [
    "##### Exercise 1\n",
    "\n",
    "執行以下程式碼。  \n",
    "\n",
    "<!-- eng start -->\n",
    "Run the code below.  \n",
    "<!-- eng end -->"
   ]
  },
  {
   "cell_type": "code",
   "execution_count": null,
   "metadata": {
    "scrolled": false
   },
   "outputs": [],
   "source": [
    "### code\n",
    "set_random_seed(0)\n",
    "print_ans = False\n",
    "\n",
    "k = choice([2,3,4])\n",
    "sizes = [choice([4,5,6]) for i in range(k)]\n",
    "n = sum(sizes)\n",
    "psum = 0\n",
    "cuts = [0]\n",
    "for s in sizes:\n",
    "    psum += s\n",
    "    cuts.append(psum)\n",
    "\n",
    "g = graphs.PathGraph(n)\n",
    "g.set_pos(None)\n",
    "for a,b in zip(cuts[:-1], cuts[1:]):\n",
    "    for i in range(a, b - 1):\n",
    "        for j in range(i + 1, b):\n",
    "            g.add_edge(i,j)\n",
    "    \n",
    "g.show(figsize=(5,5), title=\"$G$\")\n",
    "L = g.laplacian_matrix()\n",
    "eigs = L.eigenvalues()\n",
    "eigs.sort()\n",
    "print(\"eigenvalues:\", eigs)\n",
    "\n",
    "if print_ans:\n",
    "    print(\"I would guess G has %s clusters.\"%k)"
   ]
  },
  {
   "cell_type": "markdown",
   "metadata": {},
   "source": [
    "##### Exercise 1(a)\n",
    "\n",
    "觀察畫出來的圖，你認為 $G$ 有幾個群？  \n",
    "\n",
    "<!-- eng start -->\n",
    "Observe the given graphs.  Based on your intuition, how many clusters are there in $G$?\n",
    "<!-- eng end -->"
   ]
  },
  {
   "cell_type": "markdown",
   "metadata": {},
   "source": [
    "##### Exercise 1(b)\n",
    "\n",
    "觀察 $L(G)$ 的特徵值，你認為 $G$ 有幾群？  \n",
    "\n",
    "<!-- eng start -->\n",
    "Observe the eigenvalues of $L(G)$.  Based on your intuition, how many clusters are there in $G$?\n",
    "<!-- eng end -->"
   ]
  },
  {
   "cell_type": "markdown",
   "metadata": {},
   "source": [
    "## Exercises"
   ]
  },
  {
   "cell_type": "markdown",
   "metadata": {},
   "source": [
    "##### Exercise 2\n",
    "\n",
    "逐行解釋以下程式碼。  \n",
    "\n",
    "<!-- eng start -->\n",
    "Explain the code below line by line.  \n",
    "<!-- eng end -->"
   ]
  },
  {
   "cell_type": "code",
   "execution_count": null,
   "metadata": {},
   "outputs": [],
   "source": [
    "### code\n",
    "import numpy as np\n",
    "from scipy.linalg import eigh\n",
    "\n",
    "g = graphs.PathGraph(11)\n",
    "L = np.array(g.laplacian_matrix())\n",
    "eigs,vecs = eigh(L, eigvals=(1,1))\n",
    "fvec = vecs.T[0]\n",
    "eps = 0.00001\n",
    "Np = [i for i in g.vertices() if fvec[i] > eps]\n",
    "Nm = [i for i in g.vertices() if fvec[i] < -eps]\n",
    "Nz = [i for i in g.vertices() if abs(fvec[i]) < eps]\n",
    "\n",
    "g.show(vertex_colors={\"red\": Np, \"green\": Nm, \"white\": Nz})"
   ]
  },
  {
   "cell_type": "markdown",
   "metadata": {},
   "source": [
    "##### Exercise 3\n",
    "\n",
    "逐行解釋以下程式碼。  \n",
    "\n",
    "<!-- eng start -->\n",
    "Explain the code below line by line.  \n",
    "<!-- eng end -->"
   ]
  },
  {
   "cell_type": "code",
   "execution_count": null,
   "metadata": {},
   "outputs": [],
   "source": [
    "### code\n",
    "import numpy as np\n",
    "from scipy.linalg import eigh\n",
    "import matplotlib.pyplot as plt\n",
    "%matplotlib inline\n",
    "\n",
    "g = graphs.CycleGraph(10)\n",
    "n = g.order()\n",
    "L = np.array(g.laplacian_matrix())\n",
    "vals,vecs = eigh(L, subset_by_index=(1,2))\n",
    "x,y = vecs.T\n",
    "\n",
    "plt.axis(\"equal\")\n",
    "### plot points\n",
    "plt.scatter(x, y, s=50, zorder=3)\n",
    "### add vertex labels\n",
    "for i in range(n):\n",
    "    plt.annotate(i, (x[i], y[i]), zorder=4)\n",
    "### add lines\n",
    "for i,j in g.edges(labels=False):\n",
    "    plt.plot([x[i],x[j]], [y[i],y[j]], 'c')"
   ]
  },
  {
   "cell_type": "markdown",
   "metadata": {},
   "source": [
    "##### Exercise 4\n",
    "\n",
    "逐行解釋以下程式碼。  \n",
    "\n",
    "<!-- eng start -->\n",
    "Explain the code below line by line.  \n",
    "<!-- eng end -->"
   ]
  },
  {
   "cell_type": "code",
   "execution_count": null,
   "metadata": {},
   "outputs": [],
   "source": [
    "### code\n",
    "import numpy as np\n",
    "from scipy.linalg import eigh\n",
    "import matplotlib.pyplot as plt\n",
    "from mpl_toolkits import mplot3d\n",
    "%matplotlib notebook\n",
    "\n",
    "g = graphs.CubeGraph(3)\n",
    "g.relabel()\n",
    "n = g.order()\n",
    "L = np.array(g.laplacian_matrix())\n",
    "vals,vecs = eigh(L, subset_by_index=(1,3))\n",
    "x,y,z = vecs.T\n",
    "\n",
    "ax = plt.axes(projection='3d')\n",
    "ax.set_xlim(-1,1)\n",
    "ax.set_ylim(-1,1)\n",
    "ax.set_zlim(-1,1)\n",
    "\n",
    "### plot points\n",
    "ax.scatter(x, y, z, s=50, zorder=3)\n",
    "### add vertex labels\n",
    "for i in range(n):\n",
    "    ax.text(x[i], y[i], z[i], i, zorder=4)\n",
    "### add lines\n",
    "for i,j in g.edges(labels=False):\n",
    "    ax.plot([x[i],x[j]], [y[i],y[j]], [z[i],z[j]], 'c')"
   ]
  },
  {
   "cell_type": "markdown",
   "metadata": {},
   "source": [
    "##### Exercise 5\n",
    "\n",
    "令 $G$ 為一 $n$ 個點的圖、$L = L(G)$。  \n",
    "令 $Y$ 為一 $n\\times k$ 矩陣，其各列為 $\\bx_1, \\ldots, \\bx_n\\in\\mathbb{R}^k$。  \n",
    "\n",
    "<!-- eng start -->\n",
    "Let $G$ be a graph on $n$ vertices and $L = L(G)$.  Let $Y$ be an $n\\times k$ matrix whose rows are $\\bx_1, \\ldots, \\bx_n\\in\\mathbb{R}^k$.  \n",
    "<!-- eng end -->"
   ]
  },
  {
   "cell_type": "markdown",
   "metadata": {},
   "source": [
    "##### Exercise 5(a)\n",
    "\n",
    "說明  \n",
    "\n",
    "$$\n",
    "    \\tr(Y\\trans LY) = \\sum_{\\{i,j\\}\\in E(G)} \\|\\bx_i - \\bx_j\\|^2.\n",
    "$$  \n",
    "\n",
    "<!-- eng start -->\n",
    "Show that  \n",
    "\n",
    "$$\n",
    "    \\tr(Y\\trans LY) = \\sum_{\\{i,j\\}\\in E(G)} \\|\\bx_i - \\bx_j\\|^2.\n",
    "$$  \n",
    "<!-- eng end -->"
   ]
  },
  {
   "cell_type": "markdown",
   "metadata": {},
   "source": [
    "##### Exercise 5(b)\n",
    "\n",
    "說明 $\\bone\\trans Y = \\bzero$ 表示 $\\bx_1, \\ldots, \\bx_n$ 的中心點在原點。  \n",
    "\n",
    "<!-- eng start -->\n",
    "Explain why $\\bone\\trans Y = \\bzero$ means $\\bx_1, \\ldots, \\bx_n$ are centered at the origin.  \n",
    "<!-- eng end -->"
   ]
  },
  {
   "cell_type": "markdown",
   "metadata": {},
   "source": [
    "##### Exercise 5(c)\n",
    "\n",
    "說明 $Y\\trans Y = I$ 表示 $Y$ 的各特徵向量（行向量）  \n",
    "彼此互相垂直、而且各自的變異數均為 $1$。  \n",
    "\n",
    "<!-- eng start -->\n",
    "Explain why $Y\\trans Y = I$ means the feature vectors (columns) of $Y$ are mutually orthogonal and each has variance $1$.  \n",
    "<!-- eng end -->"
   ]
  },
  {
   "cell_type": "markdown",
   "metadata": {},
   "source": [
    "##### Exercise 5(d)\n",
    "\n",
    "解釋拉普拉斯嵌入法做出來的 $Y$，就是以下最佳化問題的解：\n",
    "\n",
    "minimize $\\tr(Y\\trans LY) = \\sum_{\\{i,j\\}\\in E(G)} \\|\\bx_i - \\bx_j\\|^2$,  \n",
    "subject to $\\bone\\trans Y = \\bzero$, $Y\\trans Y = I$  \n",
    "\n",
    "<!-- eng start -->\n",
    "Show that the $Y$ from the spectral embedding is the solution to the optimization problem:  \n",
    "\n",
    "minimize $\\tr(Y\\trans LY) = \\sum_{\\{i,j\\}\\in E(G)} \\|\\bx_i - \\bx_j\\|^2$,  \n",
    "subject to $\\bone\\trans Y = \\bzero$, $Y\\trans Y = I$  \n",
    "<!-- eng end -->"
   ]
  },
  {
   "cell_type": "markdown",
   "metadata": {},
   "source": [
    "##### Exercise 6\n",
    "\n",
    "先執行（讀入）筆記最下方的所有函數，並執行以下程式碼。  \n",
    "查找資源解釋什麼是 $k$-means 分群演算法。  \n",
    "\n",
    "<!-- eng start -->\n",
    "Run the code in the end of this note to load the functions, then run the code below.  Search online to explain the $k$-means clustering algorithm.  \n",
    "<!-- eng end -->"
   ]
  },
  {
   "cell_type": "code",
   "execution_count": null,
   "metadata": {},
   "outputs": [],
   "source": [
    "### code\n",
    "%matplotlib inline\n",
    "X = make_blobs()\n",
    "y_new, centers = k_means(X, 3)\n",
    "plt.scatter(*X.T, c=y_new)"
   ]
  },
  {
   "cell_type": "markdown",
   "metadata": {},
   "source": [
    "##### Exercise 7\n",
    "\n",
    "各種分群演算法都可以拿來將圖片的像素分群，整體的效果等同在將圖像分割。  \n",
    "先執行（讀入）筆記最下方的所有函數，並執行以下程式碼。  \n",
    "逐行解釋以下程式碼。  \n",
    "\n",
    "<!-- eng start -->\n",
    "Any clustering algorithm can be used to partition the pixels of an image.  And the effect of this is equivalent to image segmentation.  Run the code in the end of this note to load the functions, then run the code below.  Explain the code below line by line.\n",
    "<!-- eng end -->"
   ]
  },
  {
   "cell_type": "code",
   "execution_count": null,
   "metadata": {},
   "outputs": [],
   "source": [
    "### original image\n",
    "import numpy as np\n",
    "from PIL import Image\n",
    "\n",
    "r = 10\n",
    "img = Image.open('incrediville-side.jpg')\n",
    "x,y = img.size\n",
    "img = img.resize((x // r, y // r))\n",
    "\n",
    "img"
   ]
  },
  {
   "cell_type": "code",
   "execution_count": null,
   "metadata": {},
   "outputs": [],
   "source": [
    "### image segmentation by the k-means clustering algorithm\n",
    "import matplotlib.pyplot as plt\n",
    "k = 3\n",
    "\n",
    "arr = np.array(img, dtype=float) / 256\n",
    "m,n,r = arr.shape\n",
    "N = m * n\n",
    "arr = arr.reshape(N, r)\n",
    "y_new, centers = k_means(arr, k)\n",
    "\n",
    "fig,axs = plt.subplots(1, 3, figsize=np.array([3*n,m])/100)\n",
    "for i in range(k):\n",
    "    axs[i].axis('off')\n",
    "    axs[i].imshow((y_new == i).reshape(m,n), cmap='binary')"
   ]
  },
  {
   "cell_type": "markdown",
   "metadata": {},
   "source": [
    "## 本次練習所須的函數"
   ]
  },
  {
   "cell_type": "code",
   "execution_count": null,
   "metadata": {},
   "outputs": [],
   "source": [
    "import numpy as np\n",
    "import matplotlib.pyplot as plt"
   ]
  },
  {
   "cell_type": "code",
   "execution_count": null,
   "metadata": {},
   "outputs": [],
   "source": [
    "def make_blobs(N=150, k=3, d=2, seed=None):\n",
    "    \"\"\"\n",
    "    Input:\n",
    "        N: an integer, number of samples\n",
    "        k: an integer, number of blobs\n",
    "        d: an integer, dimension of the space\n",
    "    Output:\n",
    "        a dataset X of shape (N, d)\n",
    "    \"\"\"\n",
    "    np.random.seed(seed)\n",
    "    X = np.random.randn(N,d)\n",
    "    blob_size = N // k\n",
    "    centers = np.random.randn(k, d) * 3\n",
    "    for i in range(k):\n",
    "        left = blob_size * i\n",
    "        right = blob_size * (i+1) if i != k-1 else N\n",
    "        X[left:right] += centers[i]\n",
    "    return X"
   ]
  },
  {
   "cell_type": "code",
   "execution_count": null,
   "metadata": {},
   "outputs": [],
   "source": [
    "def dist_mtx(X, Y=None):\n",
    "    \"\"\"Return the distance matrix between rows of X and rows of Y\n",
    "    \n",
    "    Input:  \n",
    "        X: an array of shape (N,d)\n",
    "        Y: an array of shape (M,d)\n",
    "            if None, Y = X\n",
    "           \n",
    "    Output:\n",
    "        the matrix [d_ij] where d_ij is the distance between  \n",
    "        the i-th row of X and the j-th row of Y\n",
    "    \"\"\"\n",
    "    if isinstance(Y, np.ndarray):\n",
    "        pass\n",
    "    elif Y == None:\n",
    "        Y = X.copy()\n",
    "    else:\n",
    "        raise TypeError(\"Y should be a NumPy array or None\") \n",
    "    X_col = X[:, np.newaxis, :]\n",
    "    Y_row = Y[np.newaxis, :, :]\n",
    "    diff = X_col - Y_row\n",
    "    dist = np.sqrt(np.sum(diff**2, axis=-1))\n",
    "    return dist"
   ]
  },
  {
   "cell_type": "code",
   "execution_count": null,
   "metadata": {},
   "outputs": [],
   "source": [
    "def k_means(X, k, init=\"random\"):\n",
    "    \"\"\"k-means clustering algorithm\n",
    "    \n",
    "    Input:  \n",
    "        X: an array of shape (N,d)  \n",
    "            rows for samples and columns for features\n",
    "        k: number of clusters\n",
    "        init: \"random\" or an array of shape (k,d)\n",
    "            if \"random\", k points are chosen randomly from X as the initial cluster centers  \n",
    "            if an array, the array is used as the initial cluster centers\n",
    "        \n",
    "    Output:\n",
    "        (y_new, centers)\n",
    "        y_new: an array of shape (N,)  \n",
    "            that records the labels in (0, ..., k-1) of each sample \n",
    "        centers: an array of shape (k,d)  \n",
    "            that records the cluster centers\n",
    "            \n",
    "    Example:\n",
    "        mu = np.array([3,3])\n",
    "        cov = np.eye(2)\n",
    "        X = np.vstack([np.random.multivariate_normal(mu, cov, 100), \n",
    "                       np.random.multivariate_normal(-mu, cov, 100)])\n",
    "        y_new,centers = k_means(X, 2)\n",
    "    \"\"\"\n",
    "    N,d = X.shape\n",
    "    \n",
    "    ### initialize y and center\n",
    "    if isinstance(init, np.ndarray):\n",
    "        centers = init.copy()\n",
    "    elif init == \"random\":\n",
    "        inds = np.random.choice(np.arange(N), k, replace=False)\n",
    "        centers = X[inds, :]\n",
    "    else:\n",
    "        raise TypeError(\"init can only be a NumPy array or 'random'\")\n",
    "\n",
    "    dist = dist_mtx(X, centers)\n",
    "    y_new = dist.argmin(axis=1)\n",
    "    \n",
    "    while True:        \n",
    "        ### compute the new centers\n",
    "        for i in range(k):\n",
    "            mask = (y_new == i)\n",
    "            centers[i] = X[mask].mean(axis=0)\n",
    "        \n",
    "        ### generate the new y_new\n",
    "        dist = dist_mtx(X, centers)\n",
    "        y_last = y_new.copy()\n",
    "        y_new = dist.argmin(axis=1)\n",
    "        \n",
    "        if np.all(y_last == y_new):\n",
    "            break\n",
    "\n",
    "    return y_new, centers"
   ]
  },
  {
   "cell_type": "code",
   "execution_count": null,
   "metadata": {},
   "outputs": [],
   "source": []
  }
 ],
 "metadata": {
  "kernelspec": {
   "display_name": "SageMath 9.6",
   "language": "sage",
   "name": "sagemath"
  },
  "language_info": {
   "codemirror_mode": {
    "name": "ipython",
    "version": 3
   },
   "file_extension": ".py",
   "mimetype": "text/x-python",
   "name": "python",
   "nbconvert_exporter": "python",
   "pygments_lexer": "ipython3",
   "version": "3.10.5"
  }
 },
 "nbformat": 4,
 "nbformat_minor": 4
}
