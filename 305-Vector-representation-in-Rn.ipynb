{
 "cells": [
  {
   "cell_type": "markdown",
   "metadata": {},
   "source": [
    "# $\\mathbb{R}^n$ 中的向量表示法\n",
    "\n",
    "Vector representation in $\\mathbb{R}^n$"
   ]
  },
  {
   "cell_type": "markdown",
   "metadata": {},
   "source": [
    "![Creative Commons License](https://i.creativecommons.org/l/by/4.0/88x31.png)  \n",
    "This work by Jephian Lin is licensed under a [Creative Commons Attribution 4.0 International License](http://creativecommons.org/licenses/by/4.0/)."
   ]
  },
  {
   "cell_type": "markdown",
   "metadata": {},
   "source": [
    "$\\newcommand{\\trans}{^\\top}\n",
    "\\newcommand{\\adj}{^{\\rm adj}}\n",
    "\\newcommand{\\cof}{^{\\rm cof}}\n",
    "\\newcommand{\\inp}[2]{\\left\\langle#1,#2\\right\\rangle}\n",
    "\\newcommand{\\dunion}{\\mathbin{\\dot\\cup}}\n",
    "\\newcommand{\\bzero}{\\mathbf{0}}\n",
    "\\newcommand{\\bone}{\\mathbf{1}}\n",
    "\\newcommand{\\ba}{\\mathbf{a}}\n",
    "\\newcommand{\\bb}{\\mathbf{b}}\n",
    "\\newcommand{\\bc}{\\mathbf{c}}\n",
    "\\newcommand{\\bd}{\\mathbf{d}}\n",
    "\\newcommand{\\be}{\\mathbf{e}}\n",
    "\\newcommand{\\bh}{\\mathbf{h}}\n",
    "\\newcommand{\\bp}{\\mathbf{p}}\n",
    "\\newcommand{\\bq}{\\mathbf{q}}\n",
    "\\newcommand{\\br}{\\mathbf{r}}\n",
    "\\newcommand{\\bx}{\\mathbf{x}}\n",
    "\\newcommand{\\by}{\\mathbf{y}}\n",
    "\\newcommand{\\bz}{\\mathbf{z}}\n",
    "\\newcommand{\\bu}{\\mathbf{u}}\n",
    "\\newcommand{\\bv}{\\mathbf{v}}\n",
    "\\newcommand{\\bw}{\\mathbf{w}}\n",
    "\\newcommand{\\tr}{\\operatorname{tr}}\n",
    "\\newcommand{\\nul}{\\operatorname{null}}\n",
    "\\newcommand{\\rank}{\\operatorname{rank}}\n",
    "%\\newcommand{\\ker}{\\operatorname{ker}}\n",
    "\\newcommand{\\range}{\\operatorname{range}}\n",
    "\\newcommand{\\Col}{\\operatorname{Col}}\n",
    "\\newcommand{\\Row}{\\operatorname{Row}}\n",
    "\\newcommand{\\spec}{\\operatorname{spec}}\n",
    "\\newcommand{\\vspan}{\\operatorname{span}}\n",
    "\\newcommand{\\Vol}{\\operatorname{Vol}}\n",
    "\\newcommand{\\sgn}{\\operatorname{sgn}}\n",
    "\\newcommand{\\idmap}{\\operatorname{id}}\n",
    "\\newcommand{\\am}{\\operatorname{am}}\n",
    "\\newcommand{\\gm}{\\operatorname{gm}}\n",
    "\\newcommand{\\mult}{\\operatorname{mult}}\n",
    "\\newcommand{\\iner}{\\operatorname{iner}}$"
   ]
  },
  {
   "cell_type": "code",
   "execution_count": null,
   "metadata": {},
   "outputs": [],
   "source": [
    "from lingeo import random_int_list, random_good_matrix"
   ]
  },
  {
   "cell_type": "markdown",
   "metadata": {},
   "source": [
    "## Main idea"
   ]
  },
  {
   "cell_type": "markdown",
   "metadata": {},
   "source": [
    "Recall that $\\mathcal{E}_n = \\{ \\be_1, \\ldots, \\be_n \\}$ is the standard basis of $\\mathbb{R}^n$.  \n",
    "For any vector $\\bv = (c_1, \\ldots, c_n)\\in\\mathbb{R}^n$, it can be written as  \n",
    "\n",
    "$$\n",
    "    \\bv = c_1\\be_1 + \\cdots + c_n\\be_n.\n",
    "$$"
   ]
  },
  {
   "cell_type": "markdown",
   "metadata": {},
   "source": [
    "Similarly, let $\\beta = \\{ \\bu_1, \\ldots, \\bu_n \\}$ be a basis of $\\mathbb{R}^n$.  \n",
    "Every vector $\\bv\\in\\mathbb{R}^n$ has a unique way to be written as a linear combination  \n",
    "\n",
    "$$\n",
    "    \\bv = c_1\\bu_1 + \\cdots + c_n\\bu_n.\n",
    "$$  \n",
    "\n",
    "We call the vector $(c_1,\\ldots, c_n)\\in\\mathbb{R}^n$ the **vector representation** of $\\bv$ with respect to the basis $\\beta$, denoted as $[\\bv]_\\beta$.  \n",
    "Since every vector in $\\mathbb{R}^n$ can be written as a linear combinatoin of $\\beta$ and the way of writing it is unique, it is a one-to-one correspondence between $\\bv$ and $[\\bv]_\\beta$.  "
   ]
  },
  {
   "cell_type": "markdown",
   "metadata": {},
   "source": [
    "Let let $\\beta = \\{ \\bu_1, \\ldots, \\bu_n \\}$ be a basis of $\\mathbb{R}^n$ and  \n",
    "$A$ the $n\\times n$ matrix whose columns are vectors in $\\beta$.  \n",
    "Since $\\beta$ is a basis, $A$ is invertible.  \n",
    "By definition, \n",
    "\n",
    "$$\n",
    "    A[\\bv]_\\beta = \\bv \\text{ and } A^{-1}\\bv = [\\bv]_\\beta.\n",
    "$$  "
   ]
  },
  {
   "cell_type": "markdown",
   "metadata": {},
   "source": [
    "When $\\beta$ is the standard basis of $\\mathbb{R}^n$, $A = I_n$ nad $[\\bv]_\\beta = \\bv$.  \n",
    "Therefore, our usual way of writting a vector is the vector representation with respect to the standard basis."
   ]
  },
  {
   "cell_type": "markdown",
   "metadata": {},
   "source": [
    "In the case when $\\beta$ is an orthonormal basis, $A$ is an orthogonal matrix and $A^{-1} = A\\trans$.  \n",
    "Therefore, \n",
    "\n",
    "$$\n",
    "    A[\\bv]_\\beta = \\bv \\text{ and } A\\trans\\bv = [\\bv]_\\beta.\n",
    "$$"
   ]
  },
  {
   "cell_type": "markdown",
   "metadata": {},
   "source": [
    "## Side stories\n",
    "\n",
    "- vector representation algebra\n",
    "- define new inner product"
   ]
  },
  {
   "cell_type": "markdown",
   "metadata": {},
   "source": [
    "## Experiments"
   ]
  },
  {
   "cell_type": "markdown",
   "metadata": {},
   "source": [
    "##### Exercise 1\n",
    "\n",
    "執行以下程式碼。  \n",
    "令 $\\beta = \\{ \\bu_1, \\ldots, \\bu_3 \\}$ 為 $A$ 的行向量且  \n",
    "已知其為 $\\mathbb{R}^3$ 的基底。  \n",
    "\n",
    "<!-- eng start -->\n",
    "Run the code below.  Let $\\beta = \\{ \\bu_1, \\ldots, \\bu_3 \\}$ be the columns of $A$.  Suppose $\\beta$ is a basis of $\\mathbb{R}^3$.  \n",
    "<!-- eng end -->"
   ]
  },
  {
   "cell_type": "code",
   "execution_count": null,
   "metadata": {
    "scrolled": false
   },
   "outputs": [],
   "source": [
    "### code\n",
    "set_random_seed(0)\n",
    "print_ans = False\n",
    "m,n,r = 3,3,3\n",
    "A = random_good_matrix(m,n,r, bound=3)\n",
    "x1 = vector(random_int_list(n, 3))\n",
    "x2 = vector(random_int_list(n, 3))\n",
    "v1,v2 = A*x1, A*x2\n",
    "k = choice([3,4,5])\n",
    "\n",
    "print(\"A =\")\n",
    "show(A)\n",
    "print(\"v1 =\", v1)\n",
    "print(\"v2 =\", v2)\n",
    "print(\"k =\", k)\n",
    "\n",
    "if print_ans:\n",
    "    Ainv = A.inverse()\n",
    "    print(\"[v1]_beta =\", Ainv * v1)\n",
    "    print(\"[v2]_beta =\", Ainv * v2)\n",
    "    print(\"[v1 + v2]_beta =\", Ainv * (v1 + v2))\n",
    "    print(\"[v1]_beta + [v2]_beta =\", Ainv * v1 + Ainv * v2)\n",
    "    print(\"[k * v1]_beta =\", Ainv * (k*v1))\n",
    "    print(\"k * [v1]_beta =\", k * Ainv * v1)\n",
    "    print(\"< [v1]_beta, [v2]_beta > =\", (Ainv * v1).inner_product(Ainv * v2))\n",
    "    print(\"< v1, v2 > =\", (v1).inner_product(v2))"
   ]
  },
  {
   "cell_type": "markdown",
   "metadata": {},
   "source": [
    "##### Exercise 1(a)\n",
    "\n",
    "求出 $[\\bv_1]_\\beta$ 及 $[\\bv_2]_\\beta$。\n",
    "\n",
    "<!-- eng start -->\n",
    "Find $[\\bv_1]_\\beta$ and $[\\bv_2]_\\beta$.  \n",
    "<!-- eng end -->"
   ]
  },
  {
   "cell_type": "markdown",
   "metadata": {},
   "source": [
    "##### Exercise 1(b)\n",
    "\n",
    "判斷是否 $[\\bv_1 + \\bv_2]_\\beta = [\\bv_1]_\\beta + [\\bv_2]_\\beta$。  \n",
    "\n",
    "<!-- eng start -->\n",
    "Check if $[\\bv_1 + \\bv_2]_\\beta = [\\bv_1]_\\beta + [\\bv_2]_\\beta$.  \n",
    "<!-- eng end -->"
   ]
  },
  {
   "cell_type": "markdown",
   "metadata": {},
   "source": [
    "##### Exercise 1(c)\n",
    "\n",
    "判斷是否 $[k\\bv_1]_\\beta = k[\\bv_1]_\\beta$。  \n",
    "\n",
    "<!-- eng start -->\n",
    "Check if $[k\\bv_1]_\\beta = k[\\bv_1]_\\beta$.  \n",
    "<!-- eng end -->"
   ]
  },
  {
   "cell_type": "markdown",
   "metadata": {},
   "source": [
    "##### Exercise 1(d)\n",
    "\n",
    "判斷是否 $\\inp{\\bv_1}{\\bv_2} = \\inp{[\\bv_1]_\\beta}{[\\bv_2]_\\beta}$。  \n",
    "\n",
    "<!-- eng start -->\n",
    "Check if $\\inp{\\bv_1}{\\bv_2} = \\inp{[\\bv_1]_\\beta}{[\\bv_2]_\\beta}$.  \n",
    "<!-- eng end -->"
   ]
  },
  {
   "cell_type": "markdown",
   "metadata": {},
   "source": [
    "## Exercises"
   ]
  },
  {
   "cell_type": "markdown",
   "metadata": {},
   "source": [
    "##### Exercise 2\n",
    "\n",
    "已知\n",
    "\n",
    "$$\n",
    "    A = \\begin{bmatrix}\n",
    "    1 & 0 & 1 \\\\\n",
    "    -1 & 1 & -4 \\\\\n",
    "    5 & -2 & 12\n",
    "    \\end{bmatrix}\n",
    "$$\n",
    "\n",
    "的反矩陣為\n",
    "\n",
    "$$\n",
    "    A^{-1} = \\begin{bmatrix}\n",
    "    4 & -2 & -1 \\\\\n",
    "    -8 & 7 & 3 \\\\\n",
    "    -3 & 2 & 1\n",
    "    \\end{bmatrix}.\n",
    "$$  \n",
    "\n",
    "令 $\\beta$ 為 $A$ 的行向量集合。  \n",
    "令 $\\bv_1 = (1,1,1)$、  \n",
    "$\\bv_2 = (1,2,3)$。  \n",
    "求 $[\\bv_1]_\\beta$ 和 $[\\bv_2]_\\beta$。  \n",
    "\n",
    "<!-- eng start -->\n",
    "It is known that the inverse of \n",
    "\n",
    "$$\n",
    "    A = \\begin{bmatrix}\n",
    "    1 & 0 & 1 \\\\\n",
    "    -1 & 1 & -4 \\\\\n",
    "    5 & -2 & 12\n",
    "    \\end{bmatrix}\n",
    "$$\n",
    "\n",
    "is\n",
    "\n",
    "$$\n",
    "    A^{-1} = \\begin{bmatrix}\n",
    "    4 & -2 & -1 \\\\\n",
    "    -8 & 7 & 3 \\\\\n",
    "    -3 & 2 & 1\n",
    "    \\end{bmatrix}.\n",
    "$$  \n",
    "\n",
    "Let $\\beta$ be the columns of $A$.  Let $\\bv_1 = (1,1,1)$ and $\\bv_2 = (1,2,3)$.  Find $[\\bv_1]_\\beta$ and $[\\bv_2]_\\beta$.  \n",
    "<!-- eng end -->"
   ]
  },
  {
   "cell_type": "markdown",
   "metadata": {},
   "source": [
    "##### Exercise 3\n",
    "\n",
    "已知\n",
    "\n",
    "$$\n",
    "    A = \\begin{bmatrix}\n",
    "    \\frac{1}{\\sqrt{3}} & \\frac{1}{\\sqrt{2}} & \\frac{1}{\\sqrt{6}} \\\\\n",
    "    \\frac{1}{\\sqrt{3}} & -\\frac{1}{\\sqrt{2}} & \\frac{1}{\\sqrt{6}} \\\\\n",
    "    \\frac{1}{\\sqrt{3}} & 0 & -\\frac{2}{\\sqrt{6}}\n",
    "    \\end{bmatrix}\n",
    "$$\n",
    "\n",
    "為一垂直矩陣。  \n",
    "令 $\\beta$ 為 $A$ 的行向量集合。  \n",
    "令 $\\bv_1 = (1,1,1)$、  \n",
    "$\\bv_2 = (1,2,3)$。  \n",
    "求 $[\\bv_1]_\\beta$ 和 $[\\bv_2]_\\beta$。  \n",
    "\n",
    "<!-- eng start -->\n",
    "It is known that \n",
    "\n",
    "$$\n",
    "    A = \\begin{bmatrix}\n",
    "    \\frac{1}{\\sqrt{3}} & \\frac{1}{\\sqrt{2}} & \\frac{1}{\\sqrt{6}} \\\\\n",
    "    \\frac{1}{\\sqrt{3}} & -\\frac{1}{\\sqrt{2}} & \\frac{1}{\\sqrt{6}} \\\\\n",
    "    \\frac{1}{\\sqrt{3}} & 0 & -\\frac{2}{\\sqrt{6}}\n",
    "    \\end{bmatrix}\n",
    "$$\n",
    "\n",
    "is an orthogonal matrix.  Let $\\beta$ be the columns of $A$.  Let $\\bv_1 = (1,1,1)$ and $\\bv_2 = (1,2,3)$.  Find $[\\bv_1]_\\beta$ and $[\\bv_2]_\\beta$.  \n",
    "<!-- eng end -->"
   ]
  },
  {
   "cell_type": "markdown",
   "metadata": {},
   "source": [
    "##### Exercise 3\n",
    "\n",
    "令 $\\beta$ 為 $\\mathbb{R}^n$ 中的一組基底。  \n",
    "定義  \n",
    "\n",
    "$$\n",
    "    \\begin{aligned}  \n",
    "    f : \\mathbb{R}^n &\\rightarrow \\mathbb{R}^n \\\\\n",
    "     \\bv &\\mapsto [\\bv]_\\beta \\\\\n",
    "    \\end{aligned}\n",
    "$$  \n",
    "\n",
    "為一函數。  \n",
    "\n",
    "<!-- eng start -->\n",
    "Let $\\beta$ be a basis of $\\mathbb{R}^n$.  Define the function  \n",
    "\n",
    "$$\n",
    "    \\begin{aligned}  \n",
    "    f : \\mathbb{R}^n &\\rightarrow \\mathbb{R}^n \\\\\n",
    "     \\bv &\\mapsto [\\bv]_\\beta \\\\\n",
    "    \\end{aligned}\n",
    "$$  \n",
    "<!-- eng end -->"
   ]
  },
  {
   "cell_type": "markdown",
   "metadata": {},
   "source": [
    "##### Exercise 3(a)\n",
    "\n",
    "驗證 $f$ 為一線性函數。\n",
    "\n",
    "<!-- eng start -->\n",
    "Verify that $f$ is linear.  \n",
    "<!-- eng end -->"
   ]
  },
  {
   "cell_type": "markdown",
   "metadata": {},
   "source": [
    "##### Exercise 3(b)\n",
    "\n",
    "判斷 $f$ 是否是嵌射。  \n",
    "\n",
    "<!-- eng start -->\n",
    "Is $f$ injective?  \n",
    "<!-- eng end -->"
   ]
  },
  {
   "cell_type": "markdown",
   "metadata": {},
   "source": [
    "##### Exercise 3(c)\n",
    "\n",
    "判斷 $f$ 是否是映射。  \n",
    "\n",
    "<!-- eng start -->\n",
    "Is $f$ surjective?  \n",
    "<!-- eng end -->"
   ]
  },
  {
   "cell_type": "markdown",
   "metadata": {},
   "source": [
    "##### Exercise 3(d)\n",
    "\n",
    "求出 $f$ 的矩陣表示法 $[f]$。  \n",
    "\n",
    "<!-- eng start -->\n",
    "Find the matrix representation $[f]$ of $f$.  \n",
    "<!-- eng end -->"
   ]
  },
  {
   "cell_type": "markdown",
   "metadata": {},
   "source": [
    "##### Exercise 4\n",
    "\n",
    "回顧一個_內積_ $\\inp{\\cdot}{\\cdot}$ 必須符合以下的條件：  \n",
    "\n",
    "1. $\\inp{\\bx_1 + \\bx_2}{\\by} = \\inp{\\bx_1}{\\by} + \\inp{\\bx_2}{\\by}$.\n",
    "2. $\\inp{k\\bx}{\\by} = k\\inp{\\bx}{\\by}$.\n",
    "3. $\\inp{\\bx}{\\by} = \\inp{\\by}{\\bx}$.\n",
    "4. $\\inp{\\bx}{\\bx} \\geq 0$, and the equality holds if and only if $\\bx = \\bzero$.  \n",
    "\n",
    "<!-- eng start -->\n",
    "Recall that an inner product $\\inp{\\cdot}{\\cdot}$ has to have the following properties:   \n",
    "\n",
    "1. $\\inp{\\bx_1 + \\bx_2}{\\by} = \\inp{\\bx_1}{\\by} + \\inp{\\bx_2}{\\by}$.\n",
    "2. $\\inp{k\\bx}{\\by} = k\\inp{\\bx}{\\by}$.\n",
    "3. $\\inp{\\bx}{\\by} = \\inp{\\by}{\\bx}$.\n",
    "4. $\\inp{\\bx}{\\bx} \\geq 0$, and the equality holds if and only if $\\bx = \\bzero$.  \n",
    "<!-- eng end -->"
   ]
  },
  {
   "cell_type": "markdown",
   "metadata": {},
   "source": [
    "##### Exercise 4(a)\n",
    "\n",
    "令 $\\beta$ 為 $\\mathbb{R}^n$ 中的一組基底。  \n",
    "定義一個新的雙變數函數 $\\inp{\\bx}{\\by}_\\beta = \\inp{[\\bx]_\\beta}{[\\by]_\\beta}$﹐  \n",
    "其中 $\\inp{[\\bx]_\\beta}{[\\by]_\\beta}$ 指的是 $\\mathbb{R}^n$ 中的標準內積。  \n",
    "驗證 $\\inp{\\cdot}{\\cdot}_\\beta$ 也是 $\\mathbb{R}^n$ 上的另一種內積。  \n",
    "\n",
    "<!-- eng start -->\n",
    "Let $\\beta$ be a basis of $\\mathbb{R}^n$.  Define a new bivariate function $\\inp{\\bx}{\\by}_\\beta = \\inp{[\\bx]_\\beta}{[\\by]_\\beta}$, where $\\inp{[\\bx]_\\beta}{[\\by]_\\beta}$ is the standard inner product on $\\mathbb{R}^n$.  Verify that $\\inp{\\cdot}{\\cdot}_\\beta$ is also an inner product on $\\mathbb{R}^n$.   \n",
    "<!-- eng end -->"
   ]
  },
  {
   "cell_type": "markdown",
   "metadata": {},
   "source": [
    "##### Exercise 4(a)\n",
    "\n",
    "證明當 $\\beta$ 是單位長垂直基底時﹐任意向量都有 $\\inp{\\bx}{\\by}_\\beta = \\inp{\\bx}{\\by}$。  \n",
    "\n",
    "<!-- eng start -->\n",
    "Show that if $\\beta$ is orthonormal, then $\\inp{\\bx}{\\by}_\\beta = \\inp{\\bx}{\\by}$ for any vectors.  \n",
    "<!-- eng end -->"
   ]
  }
 ],
 "metadata": {
  "kernelspec": {
   "display_name": "SageMath 9.6",
   "language": "sage",
   "name": "sagemath"
  },
  "language_info": {
   "codemirror_mode": {
    "name": "ipython",
    "version": 3
   },
   "file_extension": ".py",
   "mimetype": "text/x-python",
   "name": "python",
   "nbconvert_exporter": "python",
   "pygments_lexer": "ipython3",
   "version": "3.10.6"
  }
 },
 "nbformat": 4,
 "nbformat_minor": 4
}
