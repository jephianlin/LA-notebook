{
 "cells": [
  {
   "cell_type": "markdown",
   "metadata": {},
   "source": [
    "# 拉普拉斯矩陣"
   ]
  },
  {
   "cell_type": "markdown",
   "metadata": {},
   "source": [
    "![Creative Commons License](https://i.creativecommons.org/l/by/4.0/88x31.png)  \n",
    "This work by Jephian Lin is licensed under a [Creative Commons Attribution 4.0 International License](http://creativecommons.org/licenses/by/4.0/)."
   ]
  },
  {
   "cell_type": "markdown",
   "metadata": {},
   "source": [
    "$\\newcommand{\\trans}{^\\top}\n",
    "\\newcommand{\\adj}{^{\\rm adj}}\n",
    "\\newcommand{\\cof}{^{\\rm cof}}\n",
    "\\newcommand{\\inp}[2]{\\left\\langle#1,#2\\right\\rangle}\n",
    "\\newcommand{\\dunion}{\\mathbin{\\dot\\cup}}\n",
    "\\newcommand{\\bzero}{\\mathbf{0}}\n",
    "\\newcommand{\\bone}{\\mathbf{1}}\n",
    "\\newcommand{\\ba}{\\mathbf{a}}\n",
    "\\newcommand{\\bb}{\\mathbf{b}}\n",
    "\\newcommand{\\bc}{\\mathbf{c}}\n",
    "\\newcommand{\\bd}{\\mathbf{d}}\n",
    "\\newcommand{\\be}{\\mathbf{e}}\n",
    "\\newcommand{\\bh}{\\mathbf{h}}\n",
    "\\newcommand{\\bp}{\\mathbf{p}}\n",
    "\\newcommand{\\bq}{\\mathbf{q}}\n",
    "\\newcommand{\\br}{\\mathbf{r}}\n",
    "\\newcommand{\\bx}{\\mathbf{x}}\n",
    "\\newcommand{\\by}{\\mathbf{y}}\n",
    "\\newcommand{\\bz}{\\mathbf{z}}\n",
    "\\newcommand{\\bu}{\\mathbf{u}}\n",
    "\\newcommand{\\bv}{\\mathbf{v}}\n",
    "\\newcommand{\\bw}{\\mathbf{w}}\n",
    "\\newcommand{\\tr}{\\operatorname{tr}}\n",
    "\\newcommand{\\nul}{\\operatorname{null}}\n",
    "\\newcommand{\\rank}{\\operatorname{rank}}\n",
    "%\\newcommand{\\ker}{\\operatorname{ker}}\n",
    "\\newcommand{\\range}{\\operatorname{range}}\n",
    "\\newcommand{\\Col}{\\operatorname{Col}}\n",
    "\\newcommand{\\Row}{\\operatorname{Row}}\n",
    "\\newcommand{\\spec}{\\operatorname{spec}}\n",
    "\\newcommand{\\vspan}{\\operatorname{span}}\n",
    "\\newcommand{\\Vol}{\\operatorname{Vol}}\n",
    "\\newcommand{\\sgn}{\\operatorname{sgn}}\n",
    "\\newcommand{\\idmap}{\\operatorname{id}}\n",
    "\\newcommand{\\am}{\\operatorname{am}}\n",
    "\\newcommand{\\gm}{\\operatorname{gm}}\n",
    "\\newcommand{\\mult}{\\operatorname{mult}}\n",
    "\\newcommand{\\iner}{\\operatorname{iner}}$"
   ]
  },
  {
   "cell_type": "code",
   "execution_count": null,
   "metadata": {},
   "outputs": [],
   "source": [
    "# from lingeo import random_int_list"
   ]
  },
  {
   "cell_type": "markdown",
   "metadata": {},
   "source": [
    "## Main idea"
   ]
  },
  {
   "cell_type": "markdown",
   "metadata": {},
   "source": [
    "This section discusses the Laplacian matrix of a simple graph.  \n",
    "See 414 for more basic properties of a graph.  "
   ]
  },
  {
   "cell_type": "markdown",
   "metadata": {},
   "source": [
    "Let $G = (V,E)$ be a graph.  \n",
    "The **degree** of a vertex $v$ in $G$ is the number of edges incident to $v$, denoted by $\\deg_G(v)$.  \n",
    "Two vertices are said to be **reachable** if there is a way to go from one vertex to the other vertex through a sequence of edges.  \n",
    "Being reachable is an equivalence relation on $V$, and the subgraph induced on each equivalence class is called a **(connected) component** of $G$.  "
   ]
  },
  {
   "cell_type": "markdown",
   "metadata": {},
   "source": [
    "Let $G = (V,E)$ be a graph with $V = [n]$.  \n",
    "The **Laplacian matrix** of $G$ is the $n\\times n$ matrix $L(G)$ whose $i,j$-entry is  \n",
    "\n",
    "$$\n",
    "    \\begin{cases}\n",
    "    \\deg_G(i) & \\text{if }i = j, \\\\\n",
    "    -1 & \\text{if }\\{i,j\\}\\in E(G), \\\\\n",
    "    0 & otherwise.\n",
    "    \\end{cases}\n",
    "$$"
   ]
  },
  {
   "cell_type": "markdown",
   "metadata": {},
   "source": [
    "Let $\\bx = (x_1,\\ldots, x_n)\\trans$.  \n",
    "Then the quadratic form of $L = L(G)$ is   \n",
    "\n",
    "$$\n",
    "    \\bx\\trans L\\bx = \\sum_{\\{i,j\\}\\in E(G)}(x_i - x_j)^2.\n",
    "$$"
   ]
  },
  {
   "cell_type": "markdown",
   "metadata": {},
   "source": [
    "Let $G$ be a graph and $L = L(G)$ its Laplacian matrix.  \n",
    "Thanks to the quadratic form, we can see the following properties:  \n",
    "\n",
    "- The matrix $L$ is positive semidefinite for any choice of $G$, and $L\\bone = \\bzero$.  \n",
    "- The number of components of $G$ is the same as $\\nul(L)$.  "
   ]
  },
  {
   "cell_type": "markdown",
   "metadata": {},
   "source": [
    "## Side stories\n",
    "\n",
    "- structure of $\\ker(L(G))$\n",
    "- incident matrix\n",
    "- algebraic connectivity"
   ]
  },
  {
   "cell_type": "markdown",
   "metadata": {},
   "source": [
    "## Experiments"
   ]
  },
  {
   "cell_type": "markdown",
   "metadata": {},
   "source": [
    "##### Exercise 1\n",
    "\n",
    "執行以下程式碼。  "
   ]
  },
  {
   "cell_type": "code",
   "execution_count": null,
   "metadata": {
    "scrolled": false
   },
   "outputs": [],
   "source": [
    "### code\n",
    "set_random_seed(0)\n",
    "print_ans = False\n",
    "\n",
    "n = 4\n",
    "g = graphs.RandomGNP(n, 0.5)\n",
    "g.relabel({i:i + 1 for i in range(n)})\n",
    "\n",
    "g.show(figsize=(3,3), title=\"$G$\")\n",
    "\n",
    "if print_ans:\n",
    "    L = g.laplacian_matrix()\n",
    "    pretty_print(LatexExpr(\"L =\"), L)\n",
    "    xs = var(\" \".join(\"x%s\"%i for i in g.vertices()))\n",
    "    qua = sum((xs[e[0] - 1] - xs[e[1] - 1])^2 for e in g.edges(labels=False))\n",
    "    print(\"quadratic form:\")\n",
    "    show(qua)\n",
    "    print(\"ker(L) is spanned by the rows of\")\n",
    "    show(L.kernel().basis_matrix())\n",
    "    print(\"Number of connected components =\", L.nullity())"
   ]
  },
  {
   "cell_type": "markdown",
   "metadata": {},
   "source": [
    "##### Exercise 1(a)\n",
    "\n",
    "寫出圖 $G$ 的拉普拉斯矩陣 $L$。"
   ]
  },
  {
   "cell_type": "markdown",
   "metadata": {},
   "source": [
    "##### Exercise 1(b)\n",
    "\n",
    "寫出 $L$ 的二次型。"
   ]
  },
  {
   "cell_type": "markdown",
   "metadata": {},
   "source": [
    "##### Exercise 1(c)\n",
    "\n",
    "已知 $\\bx\\trans L\\bx = 0$ 和 $L\\bx = \\bzero$ 等價。  \n",
    "利用二次型求出 $\\ker(L)$ 並判斷 $G$ 的連通區塊個數。"
   ]
  },
  {
   "cell_type": "markdown",
   "metadata": {},
   "source": [
    "## Exercises"
   ]
  },
  {
   "cell_type": "markdown",
   "metadata": {},
   "source": [
    "##### Exercise 2\n",
    "\n",
    "令  \n",
    "\n",
    "$$\n",
    "    \\begin{aligned}\n",
    "    V &= \\{1,2,3,4\\} \\\\\n",
    "    E &= \\{\\{1,2\\}, \\{1,3\\}, \\{1,4\\}\\}\n",
    "    \\end{aligned}\n",
    "$$\n",
    "\n",
    "且 $G = (V,E)$。"
   ]
  },
  {
   "cell_type": "markdown",
   "metadata": {},
   "source": [
    "##### Exercise 2(a)\n",
    "\n",
    "畫出圖 $G$。"
   ]
  },
  {
   "cell_type": "markdown",
   "metadata": {},
   "source": [
    "##### Exercise 2(b)\n",
    "\n",
    "寫出圖 $L = L(G)$ 以及其二次型。"
   ]
  },
  {
   "cell_type": "markdown",
   "metadata": {},
   "source": [
    "##### Exercise 2(c)\n",
    "\n",
    "說明 $L$ 是一個半正定矩陣，且 $L\\bone = \\bzero$。"
   ]
  },
  {
   "cell_type": "markdown",
   "metadata": {},
   "source": [
    "##### Exercise 3\n",
    "\n",
    "令  \n",
    "\n",
    "$$\n",
    "    \\begin{aligned}\n",
    "    V &= \\{1,2,3,4\\} \\\\\n",
    "    E &= \\{\\{1,2\\}, \\{3,4\\}\\}\n",
    "    \\end{aligned}\n",
    "$$\n",
    "\n",
    "且 $G = (V,E)$。"
   ]
  },
  {
   "cell_type": "markdown",
   "metadata": {},
   "source": [
    "##### Exercise 3(a)\n",
    "\n",
    "畫出圖 $G$。"
   ]
  },
  {
   "cell_type": "markdown",
   "metadata": {},
   "source": [
    "##### Exercise 3(b)\n",
    "\n",
    "寫出圖 $L = L(G)$ 以及其二次型。"
   ]
  },
  {
   "cell_type": "markdown",
   "metadata": {},
   "source": [
    "##### Exercise 3(c)\n",
    "\n",
    "求 $\\bx\\trans L\\bx = 0$ 的所有解。"
   ]
  },
  {
   "cell_type": "markdown",
   "metadata": {},
   "source": [
    "##### Exercise 3(d)\n",
    "\n",
    "已知 $\\bx\\trans L\\bx = 0$ 和 $L\\bx = \\bzero$ 等價。  \n",
    "利用二次型求出 $\\ker(L)$ 並判斷 $G$ 的連通區塊個數。"
   ]
  },
  {
   "cell_type": "markdown",
   "metadata": {},
   "source": [
    "##### Exercise 4\n",
    "\n",
    "令 $G$ 為一圖、且 $L = L(G)$。  \n",
    "以下練習探討 $\\ker(L)$ 的結構。"
   ]
  },
  {
   "cell_type": "markdown",
   "metadata": {},
   "source": [
    "##### Exercise 4(a)\n",
    "\n",
    "令 $P$ 為任一半正定矩陣，證明 $\\bx\\trans P\\bx = 0$ 和 $P\\bx = \\bzero$ 等價。  \n",
    "\n",
    "提示：可利用瑞利商定理、或是利用格拉姆矩陣的特性。"
   ]
  },
  {
   "cell_type": "markdown",
   "metadata": {},
   "source": [
    "##### Exercise 4(b)\n",
    "\n",
    "求 $\\bx\\trans L\\bx = 0$ 的解。"
   ]
  },
  {
   "cell_type": "markdown",
   "metadata": {},
   "source": [
    "##### Exercise 4(c)\n",
    "\n",
    "用上一提的結果說明 $\\ker(L) = \\{\\phi_{X_1}, \\ldots, \\phi_{X_k}\\}$。  \n",
    "這裡 $X_1, \\ldots, X_k$ 為 $G$ 的各連通區塊所在的點集合、  \n",
    "而 $\\phi_{X_1}, \\ldots, \\phi_{X_k}$ 為其指標向量（characteristic vector）。"
   ]
  },
  {
   "cell_type": "markdown",
   "metadata": {},
   "source": [
    "##### Exercise 5\n",
    "\n",
    "令 $G = (V,E)$ 為一圖、其中 $V = \\{v_1,\\ldots,v_n\\}$、$E = \\{e_1,\\ldots,e_m\\}$。  \n",
    "定義 $\\bu_j$ 為一 $\\mathbb{R}^n$ 中的向量，  \n",
    "其上有一個 $1$ 和一個 $-1$，分別落在 $e_j$ 的兩個端點上（哪一個放 $-1$ 皆可），  \n",
    "而其它項皆是 $0$。\n",
    "\n",
    "則 $G$ 的 **相連矩陣（incidence matrix）** 為一 $n\\times m$ 矩陣 $N(G)$，  \n",
    "其第 $j$ 行為 $\\bu_j$。  \n",
    "\n",
    "（相連矩陣並不唯一，取決於 $-1$ 放的位置，有 $2^m$ 種。）"
   ]
  },
  {
   "cell_type": "markdown",
   "metadata": {},
   "source": [
    "##### Exercise 5(a)\n",
    "\n",
    "令  \n",
    "\n",
    "$$\n",
    "    \\begin{aligned}\n",
    "    V &= \\{1,2,3,4\\} \\\\\n",
    "    E &= \\{\\{1,2\\}, \\{1,3\\}, \\{1,4\\}\\}\n",
    "    \\end{aligned}\n",
    "$$\n",
    "\n",
    "且 $G = (V,E)$。  \n",
    "寫出 $G$ 的一個相連矩陣 $N$，並驗證 $NN\\trans = L(G)$。"
   ]
  },
  {
   "cell_type": "markdown",
   "metadata": {},
   "source": [
    "##### Exercise 5(b)\n",
    "\n",
    "令 $N$ 為 $G$ 的一個相連矩陣、  \n",
    "而 $L$ 為 $G$ 的拉普拉斯矩陣。  \n",
    "\n",
    "證明對任意 $G$ 都有 $NN\\trans = L$。"
   ]
  },
  {
   "cell_type": "markdown",
   "metadata": {},
   "source": [
    "##### Exercise 5(c)\n",
    "\n",
    "利用 $NN\\trans = L$ 來再次證明  \n",
    "\n",
    "$$\n",
    "    \\bx\\trans L\\bx = \\sum_{\\{i,j\\}\\in E(G)}(x_i - x_j)^2.\n",
    "$$"
   ]
  },
  {
   "cell_type": "markdown",
   "metadata": {},
   "source": [
    "##### Exercise 6\n",
    "\n",
    "令 $G$ 為一 $n$ 個點的圖而 $L = L(G)$。  \n",
    "令 $L$ 的特徵值為 $\\lambda_1 \\leq \\lambda_2 \\leq \\cdots \\leq \\lambda_n$。  \n",
    "因為 $L\\bone = \\bzero$，所以 $\\lambda_1$。  \n",
    "而 $\\lambda_2$ 則稱為 $G$ 的 **代數連通度（algebraic connectivity）** ，記作 $\\lambda_2(G)$。"
   ]
  },
  {
   "cell_type": "markdown",
   "metadata": {},
   "source": [
    "##### Exercise 6(a)\n",
    "\n",
    "證明以下敘述等價：  \n",
    "\n",
    "- $\\lambda_2(G) = 0$。  \n",
    "- $G$ 不連通。"
   ]
  },
  {
   "cell_type": "markdown",
   "metadata": {},
   "source": [
    "##### Exercise 6(b)\n",
    "\n",
    "圖 $G$ 的連通度指的是最少須要拿掉幾個點才能讓 $G$ 變得不連通，這個連通度記作 $\\kappa(G)$。  \n",
    "另一個 $\\lambda_2(G)$ 被稱為代數連通度的原因是 $\\lambda_2(G) \\leq \\kappa(G)$ 對任何圖 $G$ 都成立。  \n",
    "\n",
    "令  \n",
    "\n",
    "$$\n",
    "    \\begin{aligned}\n",
    "    V &= \\{1,2,3,4\\} \\\\\n",
    "    E &= \\{\\{1,2\\}, \\{2,3\\}, \\{3,4\\}, \\{4,1\\}\\}\n",
    "    \\end{aligned}\n",
    "$$\n",
    "\n",
    "且 $G = (V,E)$。  \n",
    "計算 $G$ 的 $\\lambda_2(G)$ 和 $\\kappa(G)$。"
   ]
  },
  {
   "cell_type": "markdown",
   "metadata": {},
   "source": [
    "##### Exercise 6(c)\n",
    "\n",
    "令  \n",
    "\n",
    "$$\n",
    "    \\begin{aligned}\n",
    "    V &= \\{1,2,3,4,5,6\\} \\\\\n",
    "    E &= \\{\\{1,2\\}, \\{2,3\\}, \\{3,4\\}, \\{4,5\\}, \\{5,6\\}, \\{6,1\\}\\}\n",
    "    \\end{aligned}\n",
    "$$\n",
    "\n",
    "且 $G = (V,E)$。  \n",
    "計算 $G$ 的 $\\lambda_2(G)$ 和 $\\kappa(G)$。"
   ]
  }
 ],
 "metadata": {
  "kernelspec": {
   "display_name": "SageMath 9.5",
   "language": "sage",
   "name": "sagemath"
  },
  "language_info": {
   "codemirror_mode": {
    "name": "ipython",
    "version": 3
   },
   "file_extension": ".py",
   "mimetype": "text/x-python",
   "name": "python",
   "nbconvert_exporter": "python",
   "pygments_lexer": "ipython3",
   "version": "3.10.2"
  }
 },
 "nbformat": 4,
 "nbformat_minor": 4
}
