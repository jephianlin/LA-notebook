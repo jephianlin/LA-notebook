{
 "cells": [
  {
   "cell_type": "markdown",
   "metadata": {},
   "source": [
    "# 薛爾上三角化"
   ]
  },
  {
   "cell_type": "markdown",
   "metadata": {},
   "source": [
    "![Creative Commons License](https://i.creativecommons.org/l/by/4.0/88x31.png)  \n",
    "This work by Jephian Lin is licensed under a [Creative Commons Attribution 4.0 International License](http://creativecommons.org/licenses/by/4.0/)."
   ]
  },
  {
   "cell_type": "markdown",
   "metadata": {},
   "source": [
    "$\\newcommand{\\trans}{^\\top}\n",
    "\\newcommand{\\adj}{^{\\rm adj}}\n",
    "\\newcommand{\\cof}{^{\\rm cof}}\n",
    "\\newcommand{\\inp}[2]{\\left\\langle#1,#2\\right\\rangle}\n",
    "\\newcommand{\\dunion}{\\mathbin{\\dot\\cup}}\n",
    "\\newcommand{\\bzero}{\\mathbf{0}}\n",
    "\\newcommand{\\bone}{\\mathbf{1}}\n",
    "\\newcommand{\\ba}{\\mathbf{a}}\n",
    "\\newcommand{\\bb}{\\mathbf{b}}\n",
    "\\newcommand{\\bc}{\\mathbf{c}}\n",
    "\\newcommand{\\bd}{\\mathbf{d}}\n",
    "\\newcommand{\\be}{\\mathbf{e}}\n",
    "\\newcommand{\\bh}{\\mathbf{h}}\n",
    "\\newcommand{\\bp}{\\mathbf{p}}\n",
    "\\newcommand{\\bq}{\\mathbf{q}}\n",
    "\\newcommand{\\br}{\\mathbf{r}}\n",
    "\\newcommand{\\bx}{\\mathbf{x}}\n",
    "\\newcommand{\\by}{\\mathbf{y}}\n",
    "\\newcommand{\\bz}{\\mathbf{z}}\n",
    "\\newcommand{\\bu}{\\mathbf{u}}\n",
    "\\newcommand{\\bv}{\\mathbf{v}}\n",
    "\\newcommand{\\bw}{\\mathbf{w}}\n",
    "\\newcommand{\\tr}{\\operatorname{tr}}\n",
    "\\newcommand{\\nul}{\\operatorname{null}}\n",
    "\\newcommand{\\rank}{\\operatorname{rank}}\n",
    "%\\newcommand{\\ker}{\\operatorname{ker}}\n",
    "\\newcommand{\\range}{\\operatorname{range}}\n",
    "\\newcommand{\\Col}{\\operatorname{Col}}\n",
    "\\newcommand{\\Row}{\\operatorname{Row}}\n",
    "\\newcommand{\\spec}{\\operatorname{spec}}\n",
    "\\newcommand{\\vspan}{\\operatorname{span}}\n",
    "\\newcommand{\\Vol}{\\operatorname{Vol}}\n",
    "\\newcommand{\\sgn}{\\operatorname{sgn}}\n",
    "\\newcommand{\\idmap}{\\operatorname{id}}\n",
    "\\newcommand{\\am}{\\operatorname{am}}\n",
    "\\newcommand{\\gm}{\\operatorname{gm}}\n",
    "\\newcommand{\\mult}{\\operatorname{mult}}\n",
    "\\newcommand{\\iner}{\\operatorname{iner}}$"
   ]
  },
  {
   "cell_type": "code",
   "execution_count": null,
   "metadata": {},
   "outputs": [],
   "source": [
    "from lingeo import random_int_list, random_good_matrix"
   ]
  },
  {
   "cell_type": "markdown",
   "metadata": {},
   "source": [
    "## Main idea"
   ]
  },
  {
   "cell_type": "markdown",
   "metadata": {},
   "source": [
    "Recall that an $n\\times n$ matrix $A = \\begin{bmatrix} a_{ij} \\end{bmatrix}$ is called upper triangular if $a_{ij} = 0$ for all $i > j$.  "
   ]
  },
  {
   "cell_type": "markdown",
   "metadata": {},
   "source": [
    "##### Schur triangulation theorem\n",
    "\n",
    "Let $A$ be a square complex matrix.  \n",
    "Then there are a unitary matrix $Q$ such that $Q^*AQ = T$ is a upper triangular matrix.\n",
    "\n",
    "Necessarily, the diagonal entries of $T$ are the eigenvalues of $A$.  "
   ]
  },
  {
   "cell_type": "markdown",
   "metadata": {},
   "source": [
    "Note that if $A$ is a real matrix with complex eigenvalues, then the Schur triangulation theorem still work since $A$ can be viewed as a complex matrix.  \n",
    "However, the decomposition will enforce $Q$ and $T$ to have non-real entries."
   ]
  },
  {
   "cell_type": "markdown",
   "metadata": {},
   "source": [
    "##### Schur triangulation theorem (real matrix with real eigenvalues)\n",
    "\n",
    "Let $A$ be a square real matrix.  \n",
    "Then there are a real orthogonal matrix $Q$ such that $Q\\trans AQ = T$ is a upper triangular matrix.\n",
    "\n",
    "Necessarily, the diagonal entries of $T$ are the eigenvalues of $A$.  "
   ]
  },
  {
   "cell_type": "markdown",
   "metadata": {},
   "source": [
    "##### Schur triangulation theorem (real matrix)\n",
    "\n",
    "Let $A$ be a square real matrix.  \n",
    "Then there are a real invertible matrix $Q$ such that $Q^{-1}AQ = T$ has the form \n",
    "\n",
    "$$\n",
    "    T = \\begin{bmatrix}\n",
    "    B_1 & ~ & * \\\\\n",
    "     ~ & \\ddots & ~ \\\\\n",
    "     O & ~ & B_t\n",
    "    \\end{bmatrix},\n",
    "$$\n",
    "\n",
    "such that $B_k = \\begin{bmatrix} \\lambda_k \\end{bmatrix}$ if $\\lambda_k\\in\\mathbb{R}$  \n",
    "and $B_k = \\begin{bmatrix} a & b \\\\ -b & a \\end{bmatrix}$ if $\\lambda_k = a + bi$ with $b \\neq 0$.  \n",
    "\n",
    "Necessarily, the diagonal blocks of $T$ determine the eigenvalues of $A$.  "
   ]
  },
  {
   "cell_type": "markdown",
   "metadata": {},
   "source": [
    "## Side stories\n",
    "\n",
    "- cases of real matrices\n",
    "- properties of unitary/orthogonal matrices"
   ]
  },
  {
   "cell_type": "markdown",
   "metadata": {},
   "source": [
    "## Experiments"
   ]
  },
  {
   "cell_type": "markdown",
   "metadata": {},
   "source": [
    "##### Exercise 1\n",
    "\n",
    "執行以下程式碼。  \n",
    "\n",
    "<!-- eng start -->\n",
    "Run the code below.  \n",
    "<!-- eng end -->"
   ]
  },
  {
   "cell_type": "code",
   "execution_count": null,
   "metadata": {
    "scrolled": false
   },
   "outputs": [],
   "source": [
    "### code\n",
    "set_random_seed(0)\n",
    "print_ans = False\n",
    "\n",
    "n = 4\n",
    "eigs = random_int_list(n)\n",
    "Q = random_good_matrix(n - 1, n - 1, n - 1, 3)\n",
    "A2 = Q * diagonal_matrix(eigs[1:]) * Q.inverse()\n",
    "Q2 = identity_matrix(n - 1)\n",
    "Q2[:,0] = Q[:,0]\n",
    "T2 = Q2.inverse() * A2 * Q2\n",
    "A = zero_matrix(n, n)\n",
    "A[0,0] = eigs[0]\n",
    "A[0,1:] = vector(random_int_list(n - 1)) \n",
    "A[1:,1:] = A2\n",
    "\n",
    "pretty_print(LatexExpr(\"Q_2^{-1} A_2 Q_2 =\"), Q2.inverse(), A2, Q2, LatexExpr(\"=\"), T2)\n",
    "pretty_print(LatexExpr(\"A =\"), A)\n",
    "\n",
    "if print_ans:\n",
    "    Qhat2 = block_diagonal_matrix(matrix([[1]]), Q2)\n",
    "    T = Qhat2.inverse() * A * Qhat2\n",
    "    pretty_print(LatexExpr(r\"\\hat{Q}_2^{-1} A_2 \\hat{Q}_2 =\"), Qhat2.inverse(), A, Qhat2, LatexExpr(\"=\"), T)\n",
    "    print(\"eigenvalues of A:\", eigs)"
   ]
  },
  {
   "cell_type": "markdown",
   "metadata": {},
   "source": [
    "##### Exercise 1(a)\n",
    "\n",
    "令 $\\hat{Q}_2 = 1 \\oplus Q_2$。  \n",
    "求 $\\hat{Q}_2^{-1} A\\hat{Q}_2$。  \n",
    "\n",
    "<!-- eng start -->\n",
    "Let $\\hat{Q}_2 = 1 \\oplus Q_2$.  Find $\\hat{Q}_2^{-1} A\\hat{Q}_2$.  \n",
    "<!-- eng end -->"
   ]
  },
  {
   "cell_type": "markdown",
   "metadata": {},
   "source": [
    "##### Exercise 1(b)\n",
    "\n",
    "求 $A$ 的所有特徵值。  \n",
    "\n",
    "<!-- eng start -->\n",
    "Find the spectrum of $A$.  \n",
    "<!-- eng end -->"
   ]
  },
  {
   "cell_type": "markdown",
   "metadata": {},
   "source": [
    "## Exercises"
   ]
  },
  {
   "cell_type": "markdown",
   "metadata": {},
   "source": [
    "##### Exercise 2\n",
    "\n",
    "令  \n",
    "\n",
    "$$\n",
    "    A = \\begin{bmatrix}\n",
    "    -1 & -4 & 2 \\\\\n",
    "    2 & 4 & -1 \\\\\n",
    "    0 & -2 & 3\n",
    "    \\end{bmatrix}.\n",
    "$$\n",
    "\n",
    "求一個實垂直矩陣 $Q$ 使得 $Q\\trans AQ$ 為一上三角矩陣。  \n",
    "\n",
    "<!-- eng start -->\n",
    "Let  \n",
    "\n",
    "$$\n",
    "    A = \\begin{bmatrix}\n",
    "    -1 & -4 & 2 \\\\\n",
    "    2 & 4 & -1 \\\\\n",
    "    0 & -2 & 3\n",
    "    \\end{bmatrix}.\n",
    "$$\n",
    "\n",
    "Find a real orthogonal matrix $Q$ such that $Q\\trans AQ$ is an upper triangular matrix.  \n",
    "<!-- eng end -->"
   ]
  },
  {
   "cell_type": "markdown",
   "metadata": {},
   "source": [
    "##### Exercise 3\n",
    "\n",
    "令 $A$ 為一方陣、\n",
    "$Q$ 為一可逆矩陣、\n",
    "而 $T$ 為一上三角矩陣。  \n",
    "\n",
    "已知 $Q^{-1}AQ = T$，  \n",
    "證明 $\\spec(A) = \\spec(D)$ 且它們就是 $D$ 的對角線元素所成的集合。  \n",
    "\n",
    "<!-- eng start -->\n",
    "Let $A$ be a square matrix, $Q$ an invertible matrix, and $T$ an upper triangular matrix.  \n",
    "\n",
    "It is known that $Q^{-1}AQ = T$.  Show that $\\spec(A) = \\spec(D)$ and they equal the set of diagonal entries of $D$.  \n",
    "<!-- eng end -->"
   ]
  },
  {
   "cell_type": "markdown",
   "metadata": {},
   "source": [
    "##### Exercise 4\n",
    "\n",
    "若 $P$ 和 $Q$ 為大小相同的么正矩陣，證明 $PQ$ 和 $QP$ 都是么正矩陣。  \n",
    "若 $P$ 和 $Q$ 為大小相同的實垂直矩陣，證明 $PQ$ 和 $QP$ 都是實垂直矩陣。  \n",
    "\n",
    "<!-- eng start -->\n",
    "If $P$ and $Q$ are unitary matrices of the same order, show that $PQ$ and $QP$ are both unitary.  If $P$ and $Q$ are real orthogonal matrices of the same order, show that $PQ$ and $QP$ are both real orthogonal.  \n",
    "<!-- eng end -->"
   ]
  },
  {
   "cell_type": "markdown",
   "metadata": {},
   "source": [
    "##### Exercise 5\n",
    "\n",
    "證明一般版本的薛爾上三角化定理：\n",
    "\n",
    "##### Schur triangulation theorem\n",
    "\n",
    "Let $A$ be a square complex matrix.  \n",
    "Then there are a unitary matrix $Q$ such that $Q^*AQ = T$ is a upper triangular matrix.\n",
    "\n",
    "Necessarily, the diagonal entries of $T$ are the eigenvalues of $A$.  \n",
    "\n",
    "<!-- eng start -->\n",
    "Prove the Schur triangulation theorem.\n",
    "\n",
    "##### Schur triangulation theorem\n",
    "\n",
    "Let $A$ be a square complex matrix.  \n",
    "Then there are a unitary matrix $Q$ such that $Q^*AQ = T$ is a upper triangular matrix.\n",
    "\n",
    "Necessarily, the diagonal entries of $T$ are the eigenvalues of $A$.  \n",
    "<!-- eng end -->"
   ]
  },
  {
   "cell_type": "markdown",
   "metadata": {},
   "source": [
    "##### Exercise 6\n",
    "\n",
    "證明所有特徵值皆為實數的實矩陣版本的薛爾上三角化定理：\n",
    "\n",
    "##### Schur triangulation theorem (real matrix with real eigenvalues)\n",
    "\n",
    "Let $A$ be a square real matrix.  \n",
    "Then there are a real orthogonal matrix $Q$ such that $Q\\trans AQ = T$ is a upper triangular matrix.\n",
    "\n",
    "Necessarily, the diagonal entries of $T$ are the eigenvalues of $A$.  \n",
    "\n",
    "<!-- eng start -->\n",
    "Prove the Schur triangulation theorem for real matrices with real eigenvalues.\n",
    "\n",
    "##### Schur triangulation theorem (real matrix with real eigenvalues)\n",
    "\n",
    "Let $A$ be a square real matrix.  \n",
    "Then there are a real orthogonal matrix $Q$ such that $Q\\trans AQ = T$ is a upper triangular matrix.\n",
    "\n",
    "Necessarily, the diagonal entries of $T$ are the eigenvalues of $A$.  \n",
    "<!-- eng end -->"
   ]
  },
  {
   "cell_type": "markdown",
   "metadata": {},
   "source": [
    "##### Exercise 5\n",
    "\n",
    "證明一般實矩陣版本的薛爾上三角化定理：\n",
    "\n",
    "##### Schur triangulation theorem (real matrix)\n",
    "\n",
    "Let $A$ be a square real matrix.  \n",
    "Then there are a real invertible matrix $Q$ such that $Q^{-1}AQ = T$ has the form \n",
    "\n",
    "$$\n",
    "    T = \\begin{bmatrix}\n",
    "    B_1 & ~ & * \\\\\n",
    "     ~ & \\ddots & ~ \\\\\n",
    "     O & ~ & B_t\n",
    "    \\end{bmatrix},\n",
    "$$\n",
    "\n",
    "such that $B_k = \\begin{bmatrix} \\lambda_k \\end{bmatrix}$ if $\\lambda_k\\in\\mathbb{R}$  \n",
    "and $B_k = \\begin{bmatrix} a & b \\\\ -b & a \\end{bmatrix}$ if $\\lambda = a + bi$ with $b \\neq 0$.  \n",
    "\n",
    "Necessarily, the diagonal blocks of $T$ determine the eigenvalues of $A$.  \n",
    "\n",
    "<!-- eng start -->\n",
    "Prove the Schur triangulation theorem for real matrices.\n",
    "\n",
    "##### Schur triangulation theorem (real matrix)\n",
    "\n",
    "Let $A$ be a square real matrix.  \n",
    "Then there are a real invertible matrix $Q$ such that $Q^{-1}AQ = T$ has the form \n",
    "\n",
    "$$\n",
    "    T = \\begin{bmatrix}\n",
    "    B_1 & ~ & * \\\\\n",
    "     ~ & \\ddots & ~ \\\\\n",
    "     O & ~ & B_t\n",
    "    \\end{bmatrix},\n",
    "$$\n",
    "\n",
    "such that $B_k = \\begin{bmatrix} \\lambda_k \\end{bmatrix}$ if $\\lambda_k\\in\\mathbb{R}$  \n",
    "and $B_k = \\begin{bmatrix} a & b \\\\ -b & a \\end{bmatrix}$ if $\\lambda = a + bi$ with $b \\neq 0$.  \n",
    "\n",
    "Necessarily, the diagonal blocks of $T$ determine the eigenvalues of $A$.  \n",
    "<!-- eng end -->"
   ]
  }
 ],
 "metadata": {
  "kernelspec": {
   "display_name": "SageMath 9.7",
   "language": "sage",
   "name": "sagemath"
  },
  "language_info": {
   "codemirror_mode": {
    "name": "ipython",
    "version": 3
   },
   "file_extension": ".py",
   "mimetype": "text/x-python",
   "name": "python",
   "nbconvert_exporter": "python",
   "pygments_lexer": "ipython3",
   "version": "3.10.8"
  }
 },
 "nbformat": 4,
 "nbformat_minor": 4
}
