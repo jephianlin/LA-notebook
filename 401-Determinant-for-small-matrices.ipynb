{
 "cells": [
  {
   "cell_type": "markdown",
   "metadata": {},
   "source": [
    "# 小型矩陣的行列式值"
   ]
  },
  {
   "cell_type": "markdown",
   "metadata": {},
   "source": [
    "![Creative Commons License](https://i.creativecommons.org/l/by/4.0/88x31.png)  \n",
    "This work by Jephian Lin is licensed under a [Creative Commons Attribution 4.0 International License](http://creativecommons.org/licenses/by/4.0/)."
   ]
  },
  {
   "cell_type": "markdown",
   "metadata": {},
   "source": [
    "$\\newcommand{\\trans}{^\\top}\n",
    "\\newcommand{\\adj}{^{\\rm adj}}\n",
    "\\newcommand{\\cof}{^{\\rm cof}}\n",
    "\\newcommand{\\inp}[2]{\\left\\langle#1,#2\\right\\rangle}\n",
    "\\newcommand{\\dunion}{\\mathbin{\\dot\\cup}}\n",
    "\\newcommand{\\bzero}{\\mathbf{0}}\n",
    "\\newcommand{\\bone}{\\mathbf{1}}\n",
    "\\newcommand{\\ba}{\\mathbf{a}}\n",
    "\\newcommand{\\bb}{\\mathbf{b}}\n",
    "\\newcommand{\\bc}{\\mathbf{c}}\n",
    "\\newcommand{\\bd}{\\mathbf{d}}\n",
    "\\newcommand{\\be}{\\mathbf{e}}\n",
    "\\newcommand{\\bh}{\\mathbf{h}}\n",
    "\\newcommand{\\bp}{\\mathbf{p}}\n",
    "\\newcommand{\\bq}{\\mathbf{q}}\n",
    "\\newcommand{\\br}{\\mathbf{r}}\n",
    "\\newcommand{\\bx}{\\mathbf{x}}\n",
    "\\newcommand{\\by}{\\mathbf{y}}\n",
    "\\newcommand{\\bz}{\\mathbf{z}}\n",
    "\\newcommand{\\bu}{\\mathbf{u}}\n",
    "\\newcommand{\\bv}{\\mathbf{v}}\n",
    "\\newcommand{\\bw}{\\mathbf{w}}\n",
    "\\newcommand{\\tr}{\\operatorname{tr}}\n",
    "\\newcommand{\\nul}{\\operatorname{null}}\n",
    "\\newcommand{\\rank}{\\operatorname{rank}}\n",
    "%\\newcommand{\\ker}{\\operatorname{ker}}\n",
    "\\newcommand{\\range}{\\operatorname{range}}\n",
    "\\newcommand{\\Col}{\\operatorname{Col}}\n",
    "\\newcommand{\\Row}{\\operatorname{Row}}\n",
    "\\newcommand{\\spec}{\\operatorname{spec}}\n",
    "\\newcommand{\\vspan}{\\operatorname{span}}$"
   ]
  },
  {
   "cell_type": "code",
   "execution_count": null,
   "metadata": {},
   "outputs": [],
   "source": [
    "from lingeo import random_good_matrix"
   ]
  },
  {
   "cell_type": "markdown",
   "metadata": {},
   "source": [
    "## Main idea"
   ]
  },
  {
   "cell_type": "markdown",
   "metadata": {},
   "source": [
    "In this section we explore some basic properties of the determinant of a $2\\times 2$ or a $3\\times 3$ matrix.  \n",
    "Let  \n",
    "$$\n",
    "    A = \\begin{bmatrix}\n",
    "     a & b \\\\\n",
    "     c & d \n",
    "    \\end{bmatrix}\n",
    "$$\n",
    "be a $2\\times 2$ matrix.  \n",
    "Then its **determinant** is defined as  \n",
    "$$\n",
    "    \\det(A) = ad - bc.\n",
    "$$\n",
    "When  \n",
    "$$\n",
    "    A = \\begin{bmatrix}\n",
    "     a & b & c \\\\\n",
    "     d & e & f \\\\\n",
    "     g & h & i\n",
    "    \\end{bmatrix}\n",
    "$$\n",
    "is a $3\\times 3$ matrix, the **determinant** is  \n",
    "$$\n",
    "    \\begin{aligned}\n",
    "    \\det(A) &= aei - afh - bdi + bfg + cdh - ceg \\\\\n",
    "     &= a(ei - fh) - b(di -fg) + c(dh - eg).\n",
    "    \\end{aligned}\n",
    "$$"
   ]
  },
  {
   "cell_type": "markdown",
   "metadata": {},
   "source": [
    "Let $n = 2,3$ and $A$ an $n\\times n$ matrix.  \n",
    "Then the determinant functions have the following basic properties.  \n",
    "(See Section 108 for the notations of row operations.)\n",
    "\n",
    "- $\\det(I_n) = 1$.\n",
    "- If $B$ is obtained from $A$ by performing the row operation $\\rho_i\\leftrightarrow\\rho_j$, then $\\det(B) = -\\det(A)$.\n",
    "- If $B$ is obtained from $A$ by performing the row operation $\\rho_i:\\times k$, then $\\det(B) = k\\det(A)$.\n",
    "- If $B$ is obtained from $A$ by performing the row operation $\\rho_i:+k\\rho_j$, then $\\det(B) = \\det(A)$."
   ]
  },
  {
   "cell_type": "markdown",
   "metadata": {},
   "source": [
    "When $A$ is a $2\\times 2$ matrix, one may construct a _parallelogram_ spanned by its row vectors.  \n",
    "It is known that $\\det(A)$ is the _signed area_ of this parallelogram.  \n",
    "\n",
    "When $A$ is a $3\\times 3$ matrix, one may construct a _parallelepiped_ spanned by its row vectors.  \n",
    "It is known that $\\det(A)$ is the _signed volume_ of this parallelepiped.  \n",
    "\n",
    "The same statement holds when the row vectors are replaced with the column vectors."
   ]
  },
  {
   "cell_type": "markdown",
   "metadata": {},
   "source": [
    "As a consequence, $\\det(A) \\neq 0$ if and only if $A$ is invertible."
   ]
  },
  {
   "cell_type": "markdown",
   "metadata": {},
   "source": [
    "For any sqaure matrices $A$ and $B$ of the same size,  \n",
    "the determinant function also has the following properties.  \n",
    "\n",
    "- $\\det(A) = \\det(A\\trans)$.\n",
    "- $\\det(AB) = \\det(A)\\det(B)$."
   ]
  },
  {
   "cell_type": "markdown",
   "metadata": {},
   "source": [
    "## Side stories\n",
    "- characteristic polynomial"
   ]
  },
  {
   "cell_type": "markdown",
   "metadata": {},
   "source": [
    "## Experiments"
   ]
  },
  {
   "cell_type": "markdown",
   "metadata": {},
   "source": [
    "##### Exercise 1\n",
    "\n",
    "執行以下程式碼。  "
   ]
  },
  {
   "cell_type": "code",
   "execution_count": null,
   "metadata": {
    "scrolled": false
   },
   "outputs": [],
   "source": [
    "### code\n",
    "set_random_seed(0)\n",
    "print_ans = False\n",
    "n = 2\n",
    "k1 = 2\n",
    "k2 = 3\n",
    "A1 = random_good_matrix(n,n,n) * choice([-2,-1,1,2])\n",
    "A2 = copy(A1)\n",
    "A2.swap_rows(0,1)\n",
    "A3 = copy(A2)\n",
    "A3.rescale_row(1,k1)\n",
    "A4 = copy(A3)\n",
    "A4.add_multiple_of_row(1,0,k2)\n",
    "\n",
    "print(\"A1\")\n",
    "pretty_print(A1)\n",
    "print(\"A2\")\n",
    "pretty_print(A2)\n",
    "print(\"A3\")\n",
    "pretty_print(A3)\n",
    "print(\"A4\")\n",
    "pretty_print(A4)\n",
    "\n",
    "if print_ans:\n",
    "    print(\"det(A1) =\", A1.det())\n",
    "    print(\"A2 is obtained from A1 by swapping rows, so \")\n",
    "    print(\"det(A2) = - det(A1) =\", A2.det())\n",
    "    print(\"A3 is obtained from A2 by rescaling a row, so \")\n",
    "    print(\"det(A3) = %s * det(A2) =\"%k1, A3.det())\n",
    "    print(\"A4 is obtained from A3 by adding a multiple of a row to the other, so \")\n",
    "    print(\"det(A4) = det(A3) =\", A4.det())"
   ]
  },
  {
   "cell_type": "markdown",
   "metadata": {},
   "source": [
    "##### Exercise 1(a)\n",
    "\n",
    "用定義計算 $\\det(A_1)$。  "
   ]
  },
  {
   "cell_type": "markdown",
   "metadata": {},
   "source": [
    "##### Exercise 1(b)\n",
    "\n",
    "用定義計算 $\\det(A_2)$。  \n",
    "已知 $A_2$ 可以由 $A_1$ 經過列運算得出，  \n",
    "利用 $\\det(A_1)$ 再次計算 $\\det(A_2)$ 來驗證答案。  "
   ]
  },
  {
   "cell_type": "markdown",
   "metadata": {},
   "source": [
    "##### Exercise 1(c)\n",
    "\n",
    "用定義計算 $\\det(A_3)$。  \n",
    "已知 $A_3$ 可以由 $A_2$ 經過列運算得出，  \n",
    "利用 $\\det(A_2)$ 再次計算 $\\det(A_3)$ 來驗證答案。  "
   ]
  },
  {
   "cell_type": "markdown",
   "metadata": {},
   "source": [
    "##### Exercise 1(d)\n",
    "\n",
    "用定義計算 $\\det(A_4)$。  \n",
    "已知 $A_4$ 可以由 $A_3$ 經過列運算得出，  \n",
    "利用 $\\det(A_3)$ 再次計算 $\\det(A_4)$ 來驗證答案。  "
   ]
  },
  {
   "cell_type": "markdown",
   "metadata": {},
   "source": [
    "## Exercises"
   ]
  },
  {
   "cell_type": "markdown",
   "metadata": {},
   "source": [
    "##### Exercise 2\n",
    "\n",
    "以下練習驗證行列式值和矩陣是否可逆的關係。"
   ]
  },
  {
   "cell_type": "markdown",
   "metadata": {},
   "source": [
    "##### Exercise 2(a)\n",
    "\n",
    "寫出一個行列式值為 $0$  \n",
    "且矩陣中每項皆不為 $0$  \n",
    "的 $3\\times 3$ 矩陣。  \n",
    "用列運算判斷其是否可逆。"
   ]
  },
  {
   "cell_type": "markdown",
   "metadata": {},
   "source": [
    "##### Exercise 2(b)\n",
    "\n",
    "寫出一個行列式值不為 $0$  \n",
    "且矩陣中每項皆不為 $0$  \n",
    "的 $3\\times 3$ 矩陣。  \n",
    "用列運算判斷其是否可逆。"
   ]
  },
  {
   "cell_type": "markdown",
   "metadata": {},
   "source": [
    "##### Exercise 2(c)\n",
    "\n",
    "令  \n",
    "$$\n",
    "    A_x = \\begin{bmatrix}\n",
    "     2 - x & 3 \\\\\n",
    "     3 & 2 - x\n",
    "    \\end{bmatrix}.\n",
    "$$\n",
    "找出所有會讓 $A_x$ 奇異（不可逆）的 $x$。  \n",
    "對每個這樣的 $x$，求出一個非零向量 $\\bv_x$ 使得 $A_x\\bv_x = \\bzero$。"
   ]
  },
  {
   "cell_type": "markdown",
   "metadata": {},
   "source": [
    "##### Exercise 2(d)\n",
    "\n",
    "令  \n",
    "$$\n",
    "    A_x = \\begin{bmatrix}\n",
    "     0 - x & 1 & 1 \\\\\n",
    "     1 & 0 - x & 0 \\\\\n",
    "     1 & 0 & 0 - x \\\\\n",
    "    \\end{bmatrix}.\n",
    "$$\n",
    "找出所有會讓 $A_x$ 奇異（不可逆）的 $x$。  \n",
    "對每個這樣的 $x$，求出一個非零向量 $\\bv_x$ 使得 $A_x\\bv_x = \\bzero$。"
   ]
  },
  {
   "cell_type": "markdown",
   "metadata": {},
   "source": [
    "##### Exercise 3\n",
    "\n",
    "令 $n = 2,3$、且 $A$ 為一 $n\\times n$ 的矩陣。  \n",
    "利用定義證明以下性質：  \n",
    "\n",
    "- $\\det(I_n) = 1$.\n",
    "- If $B$ is obtained from $A$ by performing the row operation $\\rho_i\\leftrightarrow\\rho_j$, then $\\det(B) = -\\det(A)$.\n",
    "- If $B$ is obtained from $A$ by performing the row operation $\\rho_i:\\times k$, then $\\det(B) = k\\det(A)$.\n",
    "- If $B$ is obtained from $A$ by performing the row operation $\\rho_i:+k\\rho_j\\times$, then $\\det(B) = \\det(A)$."
   ]
  },
  {
   "cell_type": "markdown",
   "metadata": {},
   "source": [
    "##### Exercise 4\n",
    "\n",
    "令 $n = 2,3$、且 $A$ 為一 $n\\times n$ 的矩陣。  \n",
    "利用定義證明以下性質：  \n",
    "\n",
    "- $\\det(A) = \\det(A\\trans)$.\n",
    "- $\\det(AB) = \\det(A)\\det(B)$."
   ]
  }
 ],
 "metadata": {
  "kernelspec": {
   "display_name": "SageMath 9.5",
   "language": "sage",
   "name": "sagemath"
  },
  "language_info": {
   "codemirror_mode": {
    "name": "ipython",
    "version": 3
   },
   "file_extension": ".py",
   "mimetype": "text/x-python",
   "name": "python",
   "nbconvert_exporter": "python",
   "pygments_lexer": "ipython3",
   "version": "3.10.2"
  }
 },
 "nbformat": 4,
 "nbformat_minor": 4
}
