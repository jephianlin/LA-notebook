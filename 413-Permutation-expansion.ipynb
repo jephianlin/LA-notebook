{
 "cells": [
  {
   "cell_type": "markdown",
   "metadata": {},
   "source": [
    "# 排列展開式"
   ]
  },
  {
   "cell_type": "markdown",
   "metadata": {},
   "source": [
    "![Creative Commons License](https://i.creativecommons.org/l/by/4.0/88x31.png)  \n",
    "This work by Jephian Lin is licensed under a [Creative Commons Attribution 4.0 International License](http://creativecommons.org/licenses/by/4.0/)."
   ]
  },
  {
   "cell_type": "markdown",
   "metadata": {},
   "source": [
    "$\\newcommand{\\trans}{^\\top}\n",
    "\\newcommand{\\adj}{^{\\rm adj}}\n",
    "\\newcommand{\\cof}{^{\\rm cof}}\n",
    "\\newcommand{\\inp}[2]{\\left\\langle#1,#2\\right\\rangle}\n",
    "\\newcommand{\\dunion}{\\mathbin{\\dot\\cup}}\n",
    "\\newcommand{\\bzero}{\\mathbf{0}}\n",
    "\\newcommand{\\bone}{\\mathbf{1}}\n",
    "\\newcommand{\\ba}{\\mathbf{a}}\n",
    "\\newcommand{\\bb}{\\mathbf{b}}\n",
    "\\newcommand{\\bc}{\\mathbf{c}}\n",
    "\\newcommand{\\bd}{\\mathbf{d}}\n",
    "\\newcommand{\\be}{\\mathbf{e}}\n",
    "\\newcommand{\\bh}{\\mathbf{h}}\n",
    "\\newcommand{\\bp}{\\mathbf{p}}\n",
    "\\newcommand{\\bq}{\\mathbf{q}}\n",
    "\\newcommand{\\br}{\\mathbf{r}}\n",
    "\\newcommand{\\bx}{\\mathbf{x}}\n",
    "\\newcommand{\\by}{\\mathbf{y}}\n",
    "\\newcommand{\\bz}{\\mathbf{z}}\n",
    "\\newcommand{\\bu}{\\mathbf{u}}\n",
    "\\newcommand{\\bv}{\\mathbf{v}}\n",
    "\\newcommand{\\bw}{\\mathbf{w}}\n",
    "\\newcommand{\\tr}{\\operatorname{tr}}\n",
    "\\newcommand{\\nul}{\\operatorname{null}}\n",
    "\\newcommand{\\rank}{\\operatorname{rank}}\n",
    "%\\newcommand{\\ker}{\\operatorname{ker}}\n",
    "\\newcommand{\\range}{\\operatorname{range}}\n",
    "\\newcommand{\\Col}{\\operatorname{Col}}\n",
    "\\newcommand{\\Row}{\\operatorname{Row}}\n",
    "\\newcommand{\\spec}{\\operatorname{spec}}\n",
    "\\newcommand{\\vspan}{\\operatorname{span}}\n",
    "\\newcommand{\\Vol}{\\operatorname{Vol}}\n",
    "\\newcommand{\\sgn}{\\operatorname{sgn}}\n",
    "\\newcommand{\\idmap}{\\operatorname{id}}$"
   ]
  },
  {
   "cell_type": "code",
   "execution_count": null,
   "metadata": {},
   "outputs": [],
   "source": [
    "from lingeo import random_int_list\n",
    "from gnm import random_permutation"
   ]
  },
  {
   "cell_type": "markdown",
   "metadata": {},
   "source": [
    "## Main idea"
   ]
  },
  {
   "cell_type": "markdown",
   "metadata": {},
   "source": [
    "One may inductively apply the Laplace expansion to any given matrix.  \n",
    "For example,  \n",
    "$$\n",
    "    \\begin{aligned}\n",
    "    \\det\\begin{bmatrix}\n",
    "     1 & 2 & 3 \\\\\n",
    "     4 & 5 & 6 \\\\\n",
    "     7 & 8 & 9\n",
    "    \\end{bmatrix}\n",
    "     &= \n",
    "    \\det\\begin{bmatrix}\n",
    "     1 & 0 & 0 \\\\\n",
    "     4 & 5 & 6 \\\\\n",
    "     7 & 8 & 9\n",
    "    \\end{bmatrix}\n",
    "     +\n",
    "    \\det\\begin{bmatrix}\n",
    "     0 & 2 & 0 \\\\\n",
    "     4 & 5 & 6 \\\\\n",
    "     7 & 8 & 9\n",
    "    \\end{bmatrix}\n",
    "     + \n",
    "    \\det\\begin{bmatrix}\n",
    "     0 & 0 & 3 \\\\\n",
    "     4 & 5 & 6 \\\\\n",
    "     7 & 8 & 9\n",
    "    \\end{bmatrix} \\\\\n",
    "     &= \n",
    "    \\det\\begin{bmatrix}\n",
    "     1 & 0 & 0 \\\\\n",
    "     0 & 5 & 6 \\\\\n",
    "     0 & 8 & 9\n",
    "    \\end{bmatrix}\n",
    "     +\n",
    "    \\det\\begin{bmatrix}\n",
    "     0 & 2 & 0 \\\\\n",
    "     4 & 0 & 6 \\\\\n",
    "     7 & 0 & 9\n",
    "    \\end{bmatrix}\n",
    "     + \n",
    "    \\det\\begin{bmatrix}\n",
    "     0 & 0 & 3 \\\\\n",
    "     4 & 5 & 0 \\\\\n",
    "     7 & 8 & 0\n",
    "    \\end{bmatrix} \\\\\n",
    "     &= \n",
    "    \\det\\begin{bmatrix}\n",
    "     1 & 0 & 0 \\\\\n",
    "     0 & 5 & 0 \\\\\n",
    "     0 & 0 & 9\n",
    "    \\end{bmatrix}\n",
    "     +\n",
    "    \\det\\begin{bmatrix}\n",
    "     1 & 0 & 0 \\\\\n",
    "     0 & 0 & 6 \\\\\n",
    "     0 & 0 & 9\n",
    "    \\end{bmatrix}\n",
    "     + \\\\\n",
    "     &\\mathrel{\\phantom{=}}\n",
    "    \\det\\begin{bmatrix}\n",
    "     0 & 2 & 0 \\\\\n",
    "     4 & 0 & 0 \\\\\n",
    "     0 & 0 & 9\n",
    "    \\end{bmatrix}\n",
    "     + \n",
    "    \\det\\begin{bmatrix}\n",
    "     0 & 2 & 0 \\\\\n",
    "     0 & 0 & 6 \\\\\n",
    "     7 & 0 & 0\n",
    "    \\end{bmatrix} \n",
    "     + \\\\\n",
    "     &\\mathrel{\\phantom{=}}\n",
    "    \\det\\begin{bmatrix}\n",
    "     0 & 0 & 3 \\\\\n",
    "     4 & 0 & 0 \\\\\n",
    "     0 & 8 & 0\n",
    "    \\end{bmatrix}\n",
    "     + \n",
    "    \\det\\begin{bmatrix}\n",
    "     0 & 0 & 3 \\\\\n",
    "     0 & 5 & 0 \\\\\n",
    "     7 & 0 & 0\n",
    "    \\end{bmatrix}. \\\\\n",
    "    \\end{aligned}\n",
    "$$"
   ]
  },
  {
   "cell_type": "markdown",
   "metadata": {},
   "source": [
    "Let $A = \\begin{bmatrix} a_{ij} \\end{bmatrix}$ be an $n\\times n$ matrix.  \n",
    "Recall that $\\mathfrak{S}_n$ is the set of all permutations on $[n]$.  \n",
    "Define the **weight** of a permutation $\\sigma\\in\\mathfrak{S}_n$ as \n",
    "$$\n",
    "    w_A(\\sigma) = a_{1\\sigma(1)}\\cdots a_{n\\sigma(n)}.\n",
    "$$\n",
    "When the matrix $A$ is clear from the context, we often write $w(\\sigma) = w_A(\\sigma)$.  "
   ]
  },
  {
   "cell_type": "markdown",
   "metadata": {},
   "source": [
    "##### Permutation expansion\n",
    "\n",
    "Let $A = \\begin{bmatrix} a_{ij} \\end{bmatrix}$ be an $n\\times n$ matrix.  \n",
    "Then  \n",
    "$$\n",
    "    \\det(A) = \\sum_{\\sigma\\in\\mathfrak{S}_n} \\sgn(\\sigma)w(\\sigma).\n",
    "$$"
   ]
  },
  {
   "cell_type": "markdown",
   "metadata": {},
   "source": [
    "## Side stories\n",
    "\n",
    "- continuity of determinant"
   ]
  },
  {
   "cell_type": "markdown",
   "metadata": {},
   "source": [
    "## Experiments"
   ]
  },
  {
   "cell_type": "markdown",
   "metadata": {},
   "source": [
    "##### Exercise 1\n",
    "\n",
    "執行以下程式碼。  "
   ]
  },
  {
   "cell_type": "code",
   "execution_count": null,
   "metadata": {
    "scrolled": false
   },
   "outputs": [],
   "source": [
    "### code\n",
    "set_random_seed(0)\n",
    "print_ans = False\n",
    "\n",
    "n = 5\n",
    "A = matrix(n, random_int_list(n^2, 3))\n",
    "sigma1 = random_permutation(n)\n",
    "sigma2 = random_permutation(n)\n",
    "sigma3 = random_permutation(n)\n",
    "\n",
    "pretty_print(LatexExpr(\"A =\"), A)\n",
    "print(\"one-line representation of sigma1 =\", sigma1.one_line)\n",
    "print(\"one-line representation of sigma2 =\", sigma2.one_line)\n",
    "print(\"one-line representation of sigma3 =\", sigma3.one_line)\n",
    "\n",
    "if print_ans:\n",
    "    print(\"sgn(sigma1) =\", sigma1.sign())\n",
    "    print(\"w_A(sigma1) =\", sigma1.weight(A))\n",
    "    print(\"sgn(sigma2) =\", sigma2.sign())\n",
    "    print(\"w_A(sigma2) =\", sigma2.weight(A))\n",
    "    print(\"sgn(sigma3) =\", sigma3.sign())\n",
    "    print(\"w_A(sigma3) =\", sigma3.weight(A))"
   ]
  },
  {
   "cell_type": "markdown",
   "metadata": {},
   "source": [
    "##### Exercise 1(a)\n",
    "\n",
    "求 $\\sgn(\\sigma_1)$ 及 $w_A(\\sigma_1)$。"
   ]
  },
  {
   "cell_type": "markdown",
   "metadata": {},
   "source": [
    "##### Exercise 1(b)\n",
    "\n",
    "求 $\\sgn(\\sigma_2)$ 及 $w_A(\\sigma_2)$。"
   ]
  },
  {
   "cell_type": "markdown",
   "metadata": {},
   "source": [
    "##### Exercise 1(c)\n",
    "\n",
    "求 $\\sgn(\\sigma_3)$ 及 $w_A(\\sigma_3)$。"
   ]
  },
  {
   "cell_type": "markdown",
   "metadata": {},
   "source": [
    "## Exercises"
   ]
  },
  {
   "cell_type": "markdown",
   "metadata": {},
   "source": [
    "##### Exercise 2\n",
    "\n",
    "令  \n",
    "$$\n",
    "    A = \\begin{bmatrix}\n",
    "     1 & 1 & 1 \\\\\n",
    "     1 & 2 & 4 \\\\\n",
    "     1 & 3 & 9\n",
    "    \\end{bmatrix}.\n",
    "$$\n",
    "利用拉普拉斯展開，將 $\\det(A)$ 寫成 $6$ 個矩陣的行列式值和，  \n",
    "其中每個矩陣的每行每列都至多只有一個非零項。"
   ]
  },
  {
   "cell_type": "markdown",
   "metadata": {},
   "source": [
    "##### Exercise 3\n",
    "\n",
    "令  \n",
    "$$\n",
    "    A = \\begin{bmatrix}\n",
    "     1 & 1 \\\\\n",
    "     1 & 2\n",
    "    \\end{bmatrix}.\n",
    "$$\n",
    "則可建立一個表格包含所有的排列、其正負號、以及其配合 $A$ 的權重。\n",
    "\n",
    "\n",
    "| one-line repr | cycle repr | sign | weight |\n",
    "|--------|--------|--------|--------|\n",
    "| $12$ | $(1)(2)$ | $1$ | $2$ |\n",
    "| $21$ | $(12)$ | $-1$ | $1$ |\n",
    "\n",
    "如此可知 $\\det(A) = 1\\cdot 2 + (-1)\\cdot 1 = 1$。"
   ]
  },
  {
   "cell_type": "markdown",
   "metadata": {},
   "source": [
    "##### Exercise 3(a)\n",
    "\n",
    "令  \n",
    "$$\n",
    "    A = \\begin{bmatrix}\n",
    "     1 & 1 & 1 \\\\\n",
    "     1 & 2 & 4 \\\\\n",
    "     1 & 3 & 9\n",
    "    \\end{bmatrix}.\n",
    "$$\n",
    "依照同樣方法建立 $\\mathfrak{S}_3$ 的表格，並求出 $\\det(A)$。"
   ]
  },
  {
   "cell_type": "markdown",
   "metadata": {},
   "source": [
    "##### Exercise 3(b)\n",
    "\n",
    "令  \n",
    "$$\n",
    "    A = \\begin{bmatrix}\n",
    "     1 & 1 & 1 & 1 \\\\\n",
    "     1 & 2 & 4 & 8 \\\\\n",
    "     1 & 3 & 9 & 27 \\\\\n",
    "     1 & 4 & 16 & 64\n",
    "    \\end{bmatrix}.\n",
    "$$\n",
    "依照同樣方法建立 $\\mathfrak{S}_4$ 的表格，並求出 $\\det(A)$。"
   ]
  },
  {
   "cell_type": "markdown",
   "metadata": {},
   "source": [
    "##### Exercise 4\n",
    "\n",
    "令 $A$ 為一 $n\\times n$ 矩陣。"
   ]
  },
  {
   "cell_type": "markdown",
   "metadata": {},
   "source": [
    "##### Exercise 4(a)\n",
    "\n",
    "已知 $n = 2$ 時 $\\det(A)$ 為 $2$ 項相加減、  \n",
    "$n = 3$ 時 $\\det(A)$ 為 $6$ 項相加減。  \n",
    "求對於一般的 $n$來說，  \n",
    "$\\det(A)$ 的排列展開式有幾項相加減？"
   ]
  },
  {
   "cell_type": "markdown",
   "metadata": {},
   "source": [
    "##### Exercise 4(b)\n",
    "\n",
    "在這些項中，  \n",
    "有幾項是要加的（$\\sgn(\\sigma) = 1$）、  \n",
    "有幾項是要減的（$\\sgn(\\sigma) = -1$）？"
   ]
  },
  {
   "cell_type": "markdown",
   "metadata": {},
   "source": [
    "##### Exercise 4(c)\n",
    "\n",
    "在這些項中，有幾項有用到 $A$ 的 $1,1$-項？"
   ]
  },
  {
   "cell_type": "markdown",
   "metadata": {},
   "source": [
    "##### Exercise 5\n",
    "\n",
    "利用排列展開式說明 $\\det(A)$ 是一個以 $A$ 中各元素為變數的整係數多項式。  \n",
    "（因此如果 $A$ 是整數矩陣，則 $\\det(A)$ 也是整數；  \n",
    "而如果 $A$ 是有理數，則 $\\det(A)$ 也是有理數。  \n",
    "令一方面，這也表示 $\\det(A)$ 對 $A$ 中的元素來說是連續的。）"
   ]
  },
  {
   "cell_type": "markdown",
   "metadata": {},
   "source": [
    "##### Exercise 6\n",
    "\n",
    "對以下 $n\\times n$ 矩陣 $A$，  \n",
    "列出所有 $w_A(\\sigma) \\neq 0$ 的排列及其正號，  \n",
    "並藉此求出 $\\det(A)$。  \n",
    "\n",
    "（這個方法在 $A$ 是稀疏矩陣的時候特別有效率。）"
   ]
  },
  {
   "cell_type": "markdown",
   "metadata": {},
   "source": [
    "##### Exercise 6(a)\n",
    "\n",
    "$$\n",
    "    A = \\begin{bmatrix}\n",
    "     0 & 1 & 0 & 0 \\\\\n",
    "     1 & 0 & 1 & 0 \\\\\n",
    "     0 & 1 & 0 & 1 \\\\\n",
    "     0 & 0 & 1 & 0 \\\\\n",
    "    \\end{bmatrix}.\n",
    "$$"
   ]
  },
  {
   "cell_type": "markdown",
   "metadata": {},
   "source": [
    "##### Exercise 6(b)\n",
    "\n",
    "$$\n",
    "    A = \\begin{bmatrix}\n",
    "     0 & 1 & 0 & 1 \\\\\n",
    "     1 & 0 & 1 & 0 \\\\\n",
    "     0 & 1 & 0 & 1 \\\\\n",
    "     1 & 0 & 1 & 0 \\\\\n",
    "    \\end{bmatrix}.\n",
    "$$"
   ]
  },
  {
   "cell_type": "markdown",
   "metadata": {},
   "source": [
    "##### Exercise 6(c)\n",
    "\n",
    "$$\n",
    "    A = \\begin{bmatrix}\n",
    "     0 & 1 & 1 & 1 \\\\\n",
    "     1 & 0 & 0 & 0 \\\\\n",
    "     1 & 0 & 0 & 0 \\\\\n",
    "     1 & 0 & 0 & 0 \\\\\n",
    "    \\end{bmatrix}.\n",
    "$$"
   ]
  }
 ],
 "metadata": {
  "kernelspec": {
   "display_name": "SageMath 9.4",
   "language": "sage",
   "name": "sagemath"
  },
  "language_info": {
   "codemirror_mode": {
    "name": "ipython",
    "version": 3
   },
   "file_extension": ".py",
   "mimetype": "text/x-python",
   "name": "python",
   "nbconvert_exporter": "python",
   "pygments_lexer": "ipython3",
   "version": "3.10.1"
  }
 },
 "nbformat": 4,
 "nbformat_minor": 4
}
