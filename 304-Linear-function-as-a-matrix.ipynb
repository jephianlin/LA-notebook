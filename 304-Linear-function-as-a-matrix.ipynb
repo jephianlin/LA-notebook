{
 "cells": [
  {
   "cell_type": "markdown",
   "metadata": {},
   "source": [
    "# 將線性函數化為矩陣"
   ]
  },
  {
   "cell_type": "markdown",
   "metadata": {},
   "source": [
    "![Creative Commons License](https://i.creativecommons.org/l/by/4.0/88x31.png)  \n",
    "This work by Jephian Lin is licensed under a [Creative Commons Attribution 4.0 International License](http://creativecommons.org/licenses/by/4.0/)."
   ]
  },
  {
   "cell_type": "code",
   "execution_count": null,
   "metadata": {},
   "outputs": [],
   "source": [
    "from lingeo import random_int_list"
   ]
  },
  {
   "cell_type": "markdown",
   "metadata": {},
   "source": [
    "## Main idea"
   ]
  },
  {
   "cell_type": "markdown",
   "metadata": {},
   "source": [
    "Let $A$ be an $m\\times n$ matrix, \n",
    "$\\mathcal{E}_n = \\{ {\\bf e}_1, \\ldots, {\\bf e}_n \\}$ the standard basis of $\\mathbb{R}^n$, and \n",
    "${\\bf u}_1, \\ldots, {\\bf n}$ the columns of $A$.  \n",
    "Recall that $f_A$ is the unique linear function that satisfies the following conditions.  \n",
    "$$\\begin{array}{rcl}\n",
    " f : \\mathbb{R}^n & \\rightarrow & \\mathbb{R}^m \\\\ \n",
    " {\\bf e}_1 & \\mapsto & {\\bf u}_1 \\\\ \n",
    " ~ & \\cdots & ~ \\\\\n",
    " {\\bf e}_n & \\mapsto & {\\bf u}_n \\\\\n",
    "\\end{array}$$"
   ]
  },
  {
   "cell_type": "markdown",
   "metadata": {},
   "source": [
    "In fact, every linear function $f$ from $\\mathbb{R}^n$ to $\\mathbb{R}^m$ has an $m\\times n$ matrix $A$ such that $f({\\bf v}) = A{\\bf v}$ for all ${\\bf v}\\in\\mathbb{R}^n$.  \n",
    "Let $f$ be a linear function from $\\mathbb{R}^n$ to $\\mathbb{R}^m$ and  \n",
    "$\\mathcal{E}_n = \\{ {\\bf e}_1, \\ldots, {\\bf e}_n \\}$ the standard basis of $\\mathbb{R}^n$.  \n",
    "Calculate ${\\bf u}_1 = f({\\bf e}_1)$, $\\ldots$, ${\\bf u}_n = f({\\bf e}_n)$ and  \n",
    "construct a matrix $A$ whose columns are ${\\bf u}_1, \\ldots, {\\bf u}_n$.  \n",
    "Thus, $f({\\bf v}) = A{\\bf v}$ for all ${\\bf v}\\in\\mathbb{R}^n$, and we call $A$ the **matrix representation** of $f$, denoted as $A = [f]$."
   ]
  },
  {
   "cell_type": "markdown",
   "metadata": {},
   "source": [
    "##### Dimension theorem ($\\mathbb{R}^n$ to $\\mathbb{R}^m$)\n",
    "\n",
    "Let $f$ be a linear function from $\\mathbb{R}^n$ to $\\mathbb{R}^m$.  \n",
    "Then $\\operatorname{rank}(f) + \\operatorname{null}(f) = n$.  "
   ]
  },
  {
   "cell_type": "markdown",
   "metadata": {},
   "source": [
    "As a consequence, for a linear function from $\\mathbb{R}^n$ to $\\mathbb{R}^m$, the following are equivalent.  \n",
    "1. $f$ is injective.  \n",
    "2. $\\operatorname{null}(f) = 0$.  \n",
    "3. $\\operatorname{rank}(f) = n$.  "
   ]
  },
  {
   "cell_type": "markdown",
   "metadata": {},
   "source": [
    "## Side stories\n",
    "- total derivative"
   ]
  },
  {
   "cell_type": "markdown",
   "metadata": {},
   "source": [
    "## Experiments"
   ]
  },
  {
   "cell_type": "markdown",
   "metadata": {},
   "source": [
    "##### Exercise 1\n",
    "\n",
    "執行以下程式碼。  \n",
    "己知 $f$ 是從 $\\mathbb{R}^4$ 到 $\\mathbb{R}^3$ 的一個函數。  "
   ]
  },
  {
   "cell_type": "code",
   "execution_count": null,
   "metadata": {
    "scrolled": false
   },
   "outputs": [],
   "source": [
    "### code\n",
    "set_random_seed(0)\n",
    "print_ans = False\n",
    "m,n = 3,4\n",
    "A = matrix(m, random_int_list(m*n))\n",
    "f = lambda v: A * v\n",
    "\n",
    "if print_ans:\n",
    "    print(\"f(0) = 0?\", True)\n",
    "    print(\"f(v1 + v2) = f(v1) + f(v2)?\", True)\n",
    "    print(\"f(k * v) = k * f(v)?\", True)\n",
    "    print(\"A =\")\n",
    "    show(A)"
   ]
  },
  {
   "cell_type": "markdown",
   "metadata": {},
   "source": [
    "##### Exercise 1(a)\n",
    "\n",
    "驗證是否 $f({\\bf 0}) = {\\bf 0}$。  \n",
    "注意這裡兩個零向量分別是定義域和對應域上的零向量。"
   ]
  },
  {
   "cell_type": "code",
   "execution_count": null,
   "metadata": {},
   "outputs": [],
   "source": [
    "zero4 = vector([0,0,0,0])\n",
    "f(zero4)"
   ]
  },
  {
   "cell_type": "markdown",
   "metadata": {},
   "source": [
    "##### Exercise 1(b)\n",
    "\n",
    "輸入任意的 ${\\bf v}_1, {\\bf v}_2\\in\\mathbb{R}^4$。  \n",
    "驗證明是否 $f({\\bf v}_1 + {\\bf v}_2) = f({\\bf v}_1) + f({\\bf v}_2)$。  "
   ]
  },
  {
   "cell_type": "code",
   "execution_count": null,
   "metadata": {},
   "outputs": [],
   "source": [
    "v1 = vector([1,2,3,4])\n",
    "v2 = vector([1,1,1,1])\n",
    "print(f(v1 + v2))\n",
    "print(\"%s + %s =\"%(f(v1), f(v2)), f(v1) + f(v2))"
   ]
  },
  {
   "cell_type": "markdown",
   "metadata": {},
   "source": [
    "##### Exercise 1(c)\n",
    "\n",
    "輸入任意的 $k\\in\\mathbb{R}$ 及 ${\\bf v}\\in\\mathbb{R}^4$。  \n",
    "驗證明是否 $f(k{\\bf v}) = kf({\\bf v})$。  "
   ]
  },
  {
   "cell_type": "code",
   "execution_count": null,
   "metadata": {},
   "outputs": [],
   "source": [
    "k = 3\n",
    "v = vector([1,1,1,1])\n",
    "print(f(k * v))\n",
    "print(\"%s * %s =\"%(k, f(v)), k*f(v))"
   ]
  },
  {
   "cell_type": "markdown",
   "metadata": {},
   "source": [
    "##### Exercise 1(d)\n",
    "\n",
    "找到一個矩陣 $A$ 使得對於所有 ${\\bf v}\\in\\mathbb{R}^4$ 都有 $f({\\bf v}) = A{\\bf v}$。  "
   ]
  },
  {
   "cell_type": "markdown",
   "metadata": {},
   "source": [
    "## Exercises"
   ]
  },
  {
   "cell_type": "markdown",
   "metadata": {},
   "source": [
    "##### Exercise 2\n",
    "\n",
    "考慮以下函數 $f$﹐求出矩陣 $A$ 使得 $f = f_A$。  "
   ]
  },
  {
   "cell_type": "markdown",
   "metadata": {},
   "source": [
    "##### Exercise 2(a)\n",
    "\n",
    "$$f(x,y,z) = (x,y,0).$$  "
   ]
  },
  {
   "cell_type": "markdown",
   "metadata": {},
   "source": [
    "##### Exercise 2(b)\n",
    "\n",
    "$$f(x,y,z) = (3x,4y,5z).$$  "
   ]
  },
  {
   "cell_type": "markdown",
   "metadata": {},
   "source": [
    "##### Exercise 2(c)\n",
    "\n",
    "$$f(x,y,z) = (x+2y+3z,4x+5y+6z,7x+8y+9z).$$  "
   ]
  },
  {
   "cell_type": "markdown",
   "metadata": {},
   "source": [
    "##### Exercise 2(d)\n",
    "\n",
    "$$f(x,y,z) = (y,z,x).$$  "
   ]
  },
  {
   "cell_type": "markdown",
   "metadata": {},
   "source": [
    "##### Exercise 2(e)\n",
    "\n",
    "函數 $f$ 把每個 $\\mathbb{R}^3$ 中的向量投影到 $(1,1,1)$ 的方向上。"
   ]
  },
  {
   "cell_type": "markdown",
   "metadata": {},
   "source": [
    "##### Exercise 2(f)\n",
    "\n",
    "函數 $f$ 把每個 $\\mathbb{R}^3$ 中的向量沿著 $z$ 軸逆時鐘旋轉 $45^\\circ$。  \n",
    "（這裡的旋轉是以北極往南看的逆時鐘。）  "
   ]
  },
  {
   "cell_type": "markdown",
   "metadata": {},
   "source": [
    "##### Exercise 3\n",
    "\n",
    "令 $f$ 是一個 $\\mathbb{R}^n$ 到 $\\mathbb{R}^m$ 的可微分函數（不一定線性）﹐  \n",
    "則 $f$ 可以寫成 \n",
    "$$f(x_1,\\ldots, x_n) = (f_1(x_1,\\ldots, x_n), \\ldots, f_m(x_1,\\ldots, x_n)).$$\n",
    "而 $f$ 的全微分為  \n",
    "$$\\begin{bmatrix}  \n",
    " \\frac{\\partial f_1}{\\partial x_1} & \\cdots & \\frac{\\partial f_1}{\\partial x_n} \\\\\n",
    " \\vdots & \\cdots & \\vdots \\\\\n",
    " \\frac{\\partial f_m}{\\partial x_1} & \\cdots & \\frac{\\partial f_m}{\\partial x_n} \\\\\n",
    "\\end{bmatrix}.$$"
   ]
  },
  {
   "cell_type": "markdown",
   "metadata": {},
   "source": [
    "##### Exercise 3(a)\n",
    "\n",
    "微分的用意是希望函數的區部性質非常接近線性函數。  \n",
    "說明為什麼全微分會被定為一個 $m\\times n$ 矩陣而不是一個 $n\\times m$ 矩陣。  "
   ]
  },
  {
   "cell_type": "markdown",
   "metadata": {},
   "source": [
    "##### Exercise 3(b)\n",
    "\n",
    "令 $A$ 為一 $m\\times n$ 矩陣而 ${\\bf b}\\in\\mathbb{R}^m$。  \n",
    "定義 $f({\\bf x}) = A{\\bf x} + {\\bf b}$。  \n",
    "求 $f$ 的全微分。  "
   ]
  }
 ],
 "metadata": {
  "kernelspec": {
   "display_name": "SageMath 9.0",
   "language": "sage",
   "name": "sagemath"
  },
  "language_info": {
   "codemirror_mode": {
    "name": "ipython",
    "version": 3
   },
   "file_extension": ".py",
   "mimetype": "text/x-python",
   "name": "python",
   "nbconvert_exporter": "python",
   "pygments_lexer": "ipython3",
   "version": "3.8.10"
  }
 },
 "nbformat": 4,
 "nbformat_minor": 4
}
