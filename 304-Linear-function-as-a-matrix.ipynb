{
 "cells": [
  {
   "cell_type": "markdown",
   "metadata": {},
   "source": [
    "# 將線性函數化為矩陣\n",
    "\n",
    "Linear function as a matrix"
   ]
  },
  {
   "cell_type": "markdown",
   "metadata": {},
   "source": [
    "![Creative Commons License](https://i.creativecommons.org/l/by/4.0/88x31.png)  \n",
    "This work by Jephian Lin is licensed under a [Creative Commons Attribution 4.0 International License](http://creativecommons.org/licenses/by/4.0/)."
   ]
  },
  {
   "cell_type": "markdown",
   "metadata": {},
   "source": [
    "$\\newcommand{\\trans}{^\\top}\n",
    "\\newcommand{\\adj}{^{\\rm adj}}\n",
    "\\newcommand{\\cof}{^{\\rm cof}}\n",
    "\\newcommand{\\inp}[2]{\\left\\langle#1,#2\\right\\rangle}\n",
    "\\newcommand{\\dunion}{\\mathbin{\\dot\\cup}}\n",
    "\\newcommand{\\bzero}{\\mathbf{0}}\n",
    "\\newcommand{\\bone}{\\mathbf{1}}\n",
    "\\newcommand{\\ba}{\\mathbf{a}}\n",
    "\\newcommand{\\bb}{\\mathbf{b}}\n",
    "\\newcommand{\\bc}{\\mathbf{c}}\n",
    "\\newcommand{\\bd}{\\mathbf{d}}\n",
    "\\newcommand{\\be}{\\mathbf{e}}\n",
    "\\newcommand{\\bh}{\\mathbf{h}}\n",
    "\\newcommand{\\bp}{\\mathbf{p}}\n",
    "\\newcommand{\\bq}{\\mathbf{q}}\n",
    "\\newcommand{\\br}{\\mathbf{r}}\n",
    "\\newcommand{\\bx}{\\mathbf{x}}\n",
    "\\newcommand{\\by}{\\mathbf{y}}\n",
    "\\newcommand{\\bz}{\\mathbf{z}}\n",
    "\\newcommand{\\bu}{\\mathbf{u}}\n",
    "\\newcommand{\\bv}{\\mathbf{v}}\n",
    "\\newcommand{\\bw}{\\mathbf{w}}\n",
    "\\newcommand{\\tr}{\\operatorname{tr}}\n",
    "\\newcommand{\\nul}{\\operatorname{null}}\n",
    "\\newcommand{\\rank}{\\operatorname{rank}}\n",
    "%\\newcommand{\\ker}{\\operatorname{ker}}\n",
    "\\newcommand{\\range}{\\operatorname{range}}\n",
    "\\newcommand{\\Col}{\\operatorname{Col}}\n",
    "\\newcommand{\\Row}{\\operatorname{Row}}\n",
    "\\newcommand{\\spec}{\\operatorname{spec}}\n",
    "\\newcommand{\\vspan}{\\operatorname{span}}\n",
    "\\newcommand{\\Vol}{\\operatorname{Vol}}\n",
    "\\newcommand{\\sgn}{\\operatorname{sgn}}\n",
    "\\newcommand{\\idmap}{\\operatorname{id}}\n",
    "\\newcommand{\\am}{\\operatorname{am}}\n",
    "\\newcommand{\\gm}{\\operatorname{gm}}\n",
    "\\newcommand{\\mult}{\\operatorname{mult}}\n",
    "\\newcommand{\\iner}{\\operatorname{iner}}$"
   ]
  },
  {
   "cell_type": "code",
   "execution_count": null,
   "metadata": {},
   "outputs": [],
   "source": [
    "from lingeo import random_int_list"
   ]
  },
  {
   "cell_type": "markdown",
   "metadata": {},
   "source": [
    "## Main idea"
   ]
  },
  {
   "cell_type": "markdown",
   "metadata": {},
   "source": [
    "Let $A$ be an $m\\times n$ matrix, \n",
    "$\\mathcal{E}_n = \\{ \\be_1, \\ldots, \\be_n \\}$ the standard basis of $\\mathbb{R}^n$, and \n",
    "$\\bu_1, \\ldots, \\bu_n$ the columns of $A$.  \n",
    "Recall that $f_A$ is the unique linear function that satisfies the following conditions.  \n",
    "$$\\begin{array}{rcl}\n",
    " f : \\mathbb{R}^n & \\rightarrow & \\mathbb{R}^m \\\\ \n",
    " \\be_1 & \\mapsto & \\bu_1 \\\\ \n",
    " ~ & \\cdots & ~ \\\\\n",
    " \\be_n & \\mapsto & \\bu_n \\\\\n",
    "\\end{array}$$"
   ]
  },
  {
   "cell_type": "markdown",
   "metadata": {},
   "source": [
    "In fact, every linear function $f$ from $\\mathbb{R}^n$ to $\\mathbb{R}^m$ has an $m\\times n$ matrix $A$ such that $f(\\bv) = A\\bv$ for all $\\bv\\in\\mathbb{R}^n$.  \n",
    "Let $f$ be a linear function from $\\mathbb{R}^n$ to $\\mathbb{R}^m$ and  \n",
    "$\\mathcal{E}_n = \\{ \\be_1, \\ldots, \\be_n \\}$ the standard basis of $\\mathbb{R}^n$.  \n",
    "Calculate $\\bu_1 = f(\\be_1)$, $\\ldots$, $\\bu_n = f(\\be_n)$ and  \n",
    "construct a matrix $A$ whose columns are $\\bu_1, \\ldots, \\bu_n$.  \n",
    "Thus, $f(\\bv) = A\\bv$ for all $\\bv\\in\\mathbb{R}^n$, and we call $A$ the **matrix representation** of $f$, denoted as $A = [f]$."
   ]
  },
  {
   "cell_type": "markdown",
   "metadata": {},
   "source": [
    "##### Dimension theorem ($\\mathbb{R}^n$ to $\\mathbb{R}^m$)\n",
    "\n",
    "Let $f$ be a linear function from $\\mathbb{R}^n$ to $\\mathbb{R}^m$.  \n",
    "Then $\\rank(f) + \\nul(f) = n$.  "
   ]
  },
  {
   "cell_type": "markdown",
   "metadata": {},
   "source": [
    "As a consequence, for a linear function from $\\mathbb{R}^n$ to $\\mathbb{R}^m$, the following are equivalent.  \n",
    "1. $f$ is injective.  \n",
    "2. $\\nul(f) = 0$.  \n",
    "3. $\\rank(f) = n$.  "
   ]
  },
  {
   "cell_type": "markdown",
   "metadata": {},
   "source": [
    "## Side stories\n",
    "- total derivative"
   ]
  },
  {
   "cell_type": "markdown",
   "metadata": {},
   "source": [
    "## Experiments"
   ]
  },
  {
   "cell_type": "markdown",
   "metadata": {},
   "source": [
    "##### Exercise 1\n",
    "\n",
    "執行以下程式碼。  \n",
    "己知 $f$ 是從 $\\mathbb{R}^4$ 到 $\\mathbb{R}^3$ 的一個函數。  \n",
    "\n",
    "<!-- eng start -->\n",
    "Run the code below.  Suppose $f$ is a function from $\\mathbb{R}^4$ to $\\mathbb{R}^3$.   \n",
    "<!-- eng end -->"
   ]
  },
  {
   "cell_type": "code",
   "execution_count": null,
   "metadata": {
    "scrolled": false
   },
   "outputs": [],
   "source": [
    "### code\n",
    "set_random_seed(0)\n",
    "print_ans = False\n",
    "m,n = 3,4\n",
    "A = matrix(m, random_int_list(m*n))\n",
    "f = lambda v: A * v\n",
    "\n",
    "if print_ans:\n",
    "    print(\"f(0) = 0?\", True)\n",
    "    print(\"f(v1 + v2) = f(v1) + f(v2)?\", True)\n",
    "    print(\"f(k * v) = k * f(v)?\", True)\n",
    "    print(\"A =\")\n",
    "    show(A)"
   ]
  },
  {
   "cell_type": "markdown",
   "metadata": {},
   "source": [
    "##### Exercise 1(a)\n",
    "\n",
    "驗證是否 $f(\\bzero) = \\bzero$。  \n",
    "注意這裡兩個零向量分別是定義域和對應域上的零向量。\n",
    "\n",
    "<!-- eng start -->\n",
    "Verify if $f(\\bzero) = \\bzero$.  Notice that the two zero vectors in the formula are the zero vectors in the domain and the codomain.  \n",
    "<!-- eng end -->"
   ]
  },
  {
   "cell_type": "code",
   "execution_count": null,
   "metadata": {},
   "outputs": [],
   "source": [
    "zero4 = vector([0,0,0,0])\n",
    "f(zero4)"
   ]
  },
  {
   "cell_type": "markdown",
   "metadata": {},
   "source": [
    "##### Exercise 1(b)\n",
    "\n",
    "輸入任意的 $\\bv_1, \\bv_2\\in\\mathbb{R}^4$。  \n",
    "驗證明是否 $f(\\bv_1 + \\bv_2) = f(\\bv_1) + f(\\bv_2)$。  \n",
    "\n",
    "<!-- eng start -->\n",
    "Input any $\\bv_1, \\bv_2\\in\\mathbb{R}^4$.  Then verify if $f(\\bv_1 + \\bv_2) = f(\\bv_1) + f(\\bv_2)$.  \n",
    "<!-- eng end -->"
   ]
  },
  {
   "cell_type": "code",
   "execution_count": null,
   "metadata": {},
   "outputs": [],
   "source": [
    "v1 = vector([1,2,3,4])\n",
    "v2 = vector([1,1,1,1])\n",
    "print(f(v1 + v2))\n",
    "print(\"%s + %s =\"%(f(v1), f(v2)), f(v1) + f(v2))"
   ]
  },
  {
   "cell_type": "markdown",
   "metadata": {},
   "source": [
    "##### Exercise 1(c)\n",
    "\n",
    "輸入任意的 $k\\in\\mathbb{R}$ 及 $\\bv\\in\\mathbb{R}^4$。  \n",
    "驗證明是否 $f(k\\bv) = kf(\\bv)$。  \n",
    "\n",
    "<!-- eng start -->\n",
    "Input any $k\\in\\mathbb{R}$ and $\\bv\\in\\mathbb{R}^4$.  Then verify if $f(k\\bv) = kf(\\bv)$.  \n",
    "<!-- eng end -->"
   ]
  },
  {
   "cell_type": "code",
   "execution_count": null,
   "metadata": {},
   "outputs": [],
   "source": [
    "k = 3\n",
    "v = vector([1,1,1,1])\n",
    "print(f(k * v))\n",
    "print(\"%s * %s =\"%(k, f(v)), k*f(v))"
   ]
  },
  {
   "cell_type": "markdown",
   "metadata": {},
   "source": [
    "##### Exercise 1(d)\n",
    "\n",
    "找到一個矩陣 $A$ 使得對於所有 $\\bv\\in\\mathbb{R}^4$ 都有 $f(\\bv) = A\\bv$。  \n",
    "\n",
    "<!-- eng start -->\n",
    "Find a matrix $A$ such that $f(\\bv) = A\\bv$ for any $\\bv\\in\\mathbb{R}^4$.  \n",
    "<!-- eng end -->"
   ]
  },
  {
   "cell_type": "markdown",
   "metadata": {},
   "source": [
    "## Exercises"
   ]
  },
  {
   "cell_type": "markdown",
   "metadata": {},
   "source": [
    "##### Exercise 2\n",
    "\n",
    "考慮以下函數 $f$﹐求出矩陣 $A$ 使得 $f = f_A$。  \n",
    "\n",
    "<!-- eng start -->\n",
    "Consider each of the following function $f$.  Find a matrix $A$ such that $f = f_A$.  \n",
    "<!-- eng end -->"
   ]
  },
  {
   "cell_type": "markdown",
   "metadata": {},
   "source": [
    "##### Exercise 2(a)\n",
    "\n",
    "$$\n",
    "    f(x,y,z) = (x,y,0).\n",
    "$$  "
   ]
  },
  {
   "cell_type": "markdown",
   "metadata": {},
   "source": [
    "##### Exercise 2(b)\n",
    "\n",
    "$$\n",
    "    f(x,y,z) = (3x,4y,5z).\n",
    "$$  "
   ]
  },
  {
   "cell_type": "markdown",
   "metadata": {},
   "source": [
    "##### Exercise 2(c)\n",
    "\n",
    "$$\n",
    "    f(x,y,z) = (x+2y+3z,4x+5y+6z,7x+8y+9z).\n",
    "$$  "
   ]
  },
  {
   "cell_type": "markdown",
   "metadata": {},
   "source": [
    "##### Exercise 2(d)\n",
    "\n",
    "$$\n",
    "    f(x,y,z) = (y,z,x).\n",
    "$$  "
   ]
  },
  {
   "cell_type": "markdown",
   "metadata": {},
   "source": [
    "##### Exercise 2(e)\n",
    "\n",
    "函數 $f$ 把每個 $\\mathbb{R}^3$ 中的向量投影到 $(1,1,1)$ 的方向上。\n",
    "\n",
    "<!-- eng start -->\n",
    "The function $f: \\mathbb{R}^3 \\rightarrow \\mathbb{R}^3$ that project every vector onto the line of $(1,1,1)$.  \n",
    "<!-- eng end -->"
   ]
  },
  {
   "cell_type": "markdown",
   "metadata": {},
   "source": [
    "##### Exercise 2(f)\n",
    "\n",
    "函數 $f$ 把每個 $\\mathbb{R}^3$ 中的向量沿著 $z$ 軸逆時鐘旋轉 $45^\\circ$。  \n",
    "（這裡的旋轉是以北極往南看的逆時鐘。）  \n",
    "\n",
    "<!-- eng start -->\n",
    "The function $f: \\mathbb{R}^3 \\rightarrow \\mathbb{R}^3$ that rotates every vector by $45^\\circ$ along the $z$-axis.  Here the rotation is counterclockwise, from the point of view from the north pole seeing the origin.    \n",
    "<!-- eng end -->"
   ]
  },
  {
   "cell_type": "markdown",
   "metadata": {},
   "source": [
    "##### Exercise 3\n",
    "\n",
    "令 $f$ 是一個 $\\mathbb{R}^n$ 到 $\\mathbb{R}^m$ 的可微分函數（不一定線性）﹐  \n",
    "則 $f$ 可以寫成 \n",
    "\n",
    "$$\n",
    "    f(x_1,\\ldots, x_n) = (f_1(x_1,\\ldots, x_n), \\ldots, f_m(x_1,\\ldots, x_n)).\n",
    "$$\n",
    "\n",
    "而 $f$ 的 **全微分** 為  \n",
    "\n",
    "$$\n",
    "    \\begin{bmatrix}  \n",
    "     \\frac{\\partial f_1}{\\partial x_1} & \\cdots & \\frac{\\partial f_1}{\\partial x_n} \\\\\n",
    "     \\vdots & \\cdots & \\vdots \\\\\n",
    "     \\frac{\\partial f_m}{\\partial x_1} & \\cdots & \\frac{\\partial f_m}{\\partial x_n} \\\\\n",
    "    \\end{bmatrix}.\n",
    "$$\n",
    "\n",
    "<!-- eng start -->\n",
    "Let $F$ be a differentiable function from $\\mathbb{R}^n$ to $\\mathbb{R}^m$, which is not necessarily linear.  Then $f$ can be written as \n",
    "\n",
    "$$\n",
    "    f(x_1,\\ldots, x_n) = (f_1(x_1,\\ldots, x_n), \\ldots, f_m(x_1,\\ldots, x_n)).\n",
    "$$\n",
    "\n",
    "Then the **total derivative** of $f$ is  \n",
    "\n",
    "$$\n",
    "    \\begin{bmatrix}  \n",
    "     \\frac{\\partial f_1}{\\partial x_1} & \\cdots & \\frac{\\partial f_1}{\\partial x_n} \\\\\n",
    "     \\vdots & \\cdots & \\vdots \\\\\n",
    "     \\frac{\\partial f_m}{\\partial x_1} & \\cdots & \\frac{\\partial f_m}{\\partial x_n} \\\\\n",
    "    \\end{bmatrix}.\n",
    "$$\n",
    "<!-- eng end -->"
   ]
  },
  {
   "cell_type": "markdown",
   "metadata": {},
   "source": [
    "##### Exercise 3(a)\n",
    "\n",
    "微分的用意是希望函數的區部性質非常接近線性函數。  \n",
    "說明為什麼全微分會被定為一個 $m\\times n$ 矩陣而不是一個 $n\\times m$ 矩陣。  \n",
    "\n",
    "<!-- eng start -->\n",
    "The goal of taking the derivative is to approximate a function by a linear function.  Give some intuition of why the total derivative of a function from $\\mathbb{R}^n$ to $\\mathbb{R}^m$ has to be an $m\\times n$ matrix, but not an $n\\times m$ matrix.  \n",
    "<!-- eng end -->"
   ]
  },
  {
   "cell_type": "markdown",
   "metadata": {},
   "source": [
    "##### Exercise 3(b)\n",
    "\n",
    "令 $A$ 為一 $m\\times n$ 矩陣而 $\\bb\\in\\mathbb{R}^m$。  \n",
    "定義 $f(\\bx) = A\\bx + \\bb$。  \n",
    "求 $f$ 的全微分。  \n",
    "\n",
    "<!-- eng start -->\n",
    "Let $A$ be an $m\\times n$ matrix and $\\bb\\in\\mathbb{R}^m$.  Define $f(\\bx) = A\\bx + \\bb$.  Find the total derivative of $f$.  \n",
    "<!-- eng end -->"
   ]
  }
 ],
 "metadata": {
  "kernelspec": {
   "display_name": "SageMath 9.6",
   "language": "sage",
   "name": "sagemath"
  },
  "language_info": {
   "codemirror_mode": {
    "name": "ipython",
    "version": 3
   },
   "file_extension": ".py",
   "mimetype": "text/x-python",
   "name": "python",
   "nbconvert_exporter": "python",
   "pygments_lexer": "ipython3",
   "version": "3.10.6"
  }
 },
 "nbformat": 4,
 "nbformat_minor": 4
}
