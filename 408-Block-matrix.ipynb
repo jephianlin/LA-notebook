{
 "cells": [
  {
   "cell_type": "markdown",
   "metadata": {},
   "source": [
    "# 區塊矩陣"
   ]
  },
  {
   "cell_type": "markdown",
   "metadata": {},
   "source": [
    "![Creative Commons License](https://i.creativecommons.org/l/by/4.0/88x31.png)  \n",
    "This work by Jephian Lin is licensed under a [Creative Commons Attribution 4.0 International License](http://creativecommons.org/licenses/by/4.0/)."
   ]
  },
  {
   "cell_type": "markdown",
   "metadata": {},
   "source": [
    "$\\newcommand{\\trans}{^\\top}\n",
    "\\newcommand{\\adj}{^{\\rm adj}}\n",
    "\\newcommand{\\cof}{^{\\rm cof}}\n",
    "\\newcommand{\\inp}[2]{\\left\\langle#1,#2\\right\\rangle}\n",
    "\\newcommand{\\dunion}{\\mathbin{\\dot\\cup}}\n",
    "\\newcommand{\\bzero}{\\mathbf{0}}\n",
    "\\newcommand{\\bone}{\\mathbf{1}}\n",
    "\\newcommand{\\ba}{\\mathbf{a}}\n",
    "\\newcommand{\\bb}{\\mathbf{b}}\n",
    "\\newcommand{\\bc}{\\mathbf{c}}\n",
    "\\newcommand{\\bd}{\\mathbf{d}}\n",
    "\\newcommand{\\be}{\\mathbf{e}}\n",
    "\\newcommand{\\bh}{\\mathbf{h}}\n",
    "\\newcommand{\\bp}{\\mathbf{p}}\n",
    "\\newcommand{\\bq}{\\mathbf{q}}\n",
    "\\newcommand{\\br}{\\mathbf{r}}\n",
    "\\newcommand{\\bx}{\\mathbf{x}}\n",
    "\\newcommand{\\by}{\\mathbf{y}}\n",
    "\\newcommand{\\bz}{\\mathbf{z}}\n",
    "\\newcommand{\\bu}{\\mathbf{u}}\n",
    "\\newcommand{\\bv}{\\mathbf{v}}\n",
    "\\newcommand{\\bw}{\\mathbf{w}}\n",
    "\\newcommand{\\tr}{\\operatorname{tr}}\n",
    "\\newcommand{\\nul}{\\operatorname{null}}\n",
    "\\newcommand{\\rank}{\\operatorname{rank}}\n",
    "%\\newcommand{\\ker}{\\operatorname{ker}}\n",
    "\\newcommand{\\range}{\\operatorname{range}}\n",
    "\\newcommand{\\Col}{\\operatorname{Col}}\n",
    "\\newcommand{\\Row}{\\operatorname{Row}}\n",
    "\\newcommand{\\spec}{\\operatorname{spec}}\n",
    "\\newcommand{\\vspan}{\\operatorname{span}}\n",
    "\\newcommand{\\Vol}{\\operatorname{Vol}}$"
   ]
  },
  {
   "cell_type": "code",
   "execution_count": null,
   "metadata": {},
   "outputs": [],
   "source": [
    "from lingeo import random_int_list"
   ]
  },
  {
   "cell_type": "markdown",
   "metadata": {},
   "source": [
    "## Main idea"
   ]
  },
  {
   "cell_type": "markdown",
   "metadata": {},
   "source": [
    "For different purposes, we often partition a matrix into several blocks.  \n",
    "The dimensions of each block should be clear through the context.  \n",
    "\n",
    "The multiplication of two block matrices can be just as expected.  \n",
    "Let  \n",
    "$$\n",
    "    A = \\begin{bmatrix}\n",
    "     A_{11} & \\cdots & A_{1n} \\\\\n",
    "     \\vdots & ~ & \\vdots \\\\\n",
    "     A_{m1} & \\cdots & A_{mn}\n",
    "    \\end{bmatrix}  \n",
    "    \\text{ and }\n",
    "    B = \\begin{bmatrix}\n",
    "     B_{11} & \\cdots & B_{1\\ell} \\\\\n",
    "     \\vdots & ~ & \\vdots \\\\\n",
    "     B_{n1} & \\cdots & B_{n\\ell}\n",
    "    \\end{bmatrix}\n",
    "$$\n",
    "such that the width of $A_{1k}$ is the same as $B_{k1}$ for $k = 1,\\ldots, n$.  \n",
    "Then $AB$ can be written as a block matrix such that its $ij$-block is \n",
    "$$\n",
    "    \\sum_{k = 1}^n A_{ik} B_{kj}.\n",
    "$$"
   ]
  },
  {
   "cell_type": "markdown",
   "metadata": {},
   "source": [
    "For block matrices, one may perform the **block row operations**.\n",
    "\n",
    "1. swapping: swap the $i$-th and the $j$-th block rows.  \n",
    "Its block elementary matrix $E$ has $\\det(E) = (-1)^{m_im_j}$, where $m_i$ and $m_j$ are the number of rows in these two block rows, respectively. \n",
    "2. rescaling: multiply the $i$-th block row by an invertible matrix $K$.  \n",
    "Its block elementary matrix $E$ has $\\det(E) = \\det(K)$.\n",
    "3. row combination: multiply the $j$-th block row by a matrix $K$ and add the result to the $i$-th block row.  \n",
    "Its block elementary matrix $E$ has $\\det(E) = 1$.\n",
    "\n",
    "Similar **block column operations** also apply.  "
   ]
  },
  {
   "cell_type": "markdown",
   "metadata": {},
   "source": [
    "Consider the matrix  \n",
    "$$\n",
    "    M = \n",
    "    \\begin{bmatrix}\n",
    "     A & B \\\\\n",
    "     O & D\n",
    "    \\end{bmatrix}.\n",
    "$$\n",
    "If both $A$ and $D$ are invertible (sqaure) matrice, one may rescale the first block row and the second block column and get   \n",
    "\n",
    "$$\n",
    "    \\begin{bmatrix}\n",
    "     A & B \\\\\n",
    "     O & D\n",
    "    \\end{bmatrix}\n",
    "    = \n",
    "    \\begin{bmatrix}\n",
    "     A & O \\\\\n",
    "     O & I \n",
    "    \\end{bmatrix}\n",
    "    \\begin{bmatrix}\n",
    "     I & A^{-1}BD^{-1} \\\\\n",
    "     O & I \n",
    "    \\end{bmatrix}\n",
    "    \\begin{bmatrix}\n",
    "     I & O \\\\\n",
    "     O & D \n",
    "    \\end{bmatrix}.\n",
    "$$\n",
    "\n",
    "Therefore, \n",
    "\n",
    "$$\n",
    "    \\det(M) = \\det(A)\\det(D).\n",
    "$$"
   ]
  },
  {
   "cell_type": "markdown",
   "metadata": {},
   "source": [
    "If $A$ or $D$ is not invertible, then M is also not invertible.  \n",
    "Therefore, the same equality still holds.  \n",
    "$$\n",
    "    \\det(M) = \\det(A)\\det(D) = 0.\n",
    "$$"
   ]
  },
  {
   "cell_type": "markdown",
   "metadata": {},
   "source": [
    "Consider the other matrix  \n",
    "$$\n",
    "    M = \\begin{bmatrix}\n",
    "     A & B \\\\\n",
    "     C & D\n",
    "    \\end{bmatrix}\n",
    "$$\n",
    "such that $A$ is invertible.  \n",
    "One may take the first block row, pre-multiply by $-CA^{-1}$, and add it to the second block row.  \n",
    "Thus, \n",
    "\n",
    "$$\n",
    "    \\begin{bmatrix}\n",
    "     A & B \\\\\n",
    "     C & D\n",
    "    \\end{bmatrix}\n",
    "    = \n",
    "    \\begin{bmatrix}\n",
    "     I & O \\\\\n",
    "     CA^{-1} & I \n",
    "    \\end{bmatrix}\n",
    "    \\begin{bmatrix}\n",
    "     A & B \\\\\n",
    "     O & D - CA^{-1}B\n",
    "    \\end{bmatrix}.\n",
    "$$  \n",
    "\n",
    "Therefore,  \n",
    "\n",
    "$$\n",
    "    \\det(M) = \\det(A)\\det(D - CA^{-1}B).\n",
    "$$"
   ]
  },
  {
   "cell_type": "markdown",
   "metadata": {},
   "source": [
    "The matrix $D - CA^{-1}B$ is called the **Schur complement** of $A$ in $M$, denoted as $M / A$.  \n",
    "The notation is justified by $\\det(M/A) = \\det(M) / \\det(A)$."
   ]
  },
  {
   "cell_type": "markdown",
   "metadata": {},
   "source": [
    "## Side stories\n",
    "\n",
    "- Schur complement"
   ]
  },
  {
   "cell_type": "markdown",
   "metadata": {},
   "source": [
    "## Experiments"
   ]
  },
  {
   "cell_type": "markdown",
   "metadata": {},
   "source": [
    "##### Exercise 1\n",
    "\n",
    "執行以下程式碼。  "
   ]
  },
  {
   "cell_type": "code",
   "execution_count": null,
   "metadata": {
    "scrolled": false
   },
   "outputs": [],
   "source": [
    "### code\n",
    "set_random_seed(0)\n",
    "print_ans = False\n",
    "\n",
    "while True:\n",
    "    A = matrix(2, random_int_list(4,2))\n",
    "    if A.det() != 0:\n",
    "        break\n",
    "B = matrix(2, random_int_list(6,3))\n",
    "C = matrix(3, random_int_list(6,3))\n",
    "D = matrix(3, random_int_list(9,3))\n",
    "\n",
    "M = block_matrix([\n",
    "    [A, B], \n",
    "    [C, D]\n",
    "])\n",
    "\n",
    "op = choice([1,2,3])\n",
    "if op == 1:\n",
    "    E = block_matrix([[zero_matrix(3,2), identity_matrix(3)], [identity_matrix(2), zero_matrix(2,3)]])\n",
    "if op == 2:\n",
    "    E = block_matrix([[A.inverse(), zero_matrix(2,3)], [zero_matrix(3,2), identity_matrix(3)]])\n",
    "if op == 3:\n",
    "    E = block_matrix([[identity_matrix(2), zero_matrix(2,3)], [-C*A.inverse(), identity_matrix(3)]])\n",
    "\n",
    "W = E * M\n",
    "if op == 1:\n",
    "    W.subdivide(3,2)\n",
    "\n",
    "print(\"M =\")\n",
    "pretty_print(M)\n",
    "\n",
    "print(\"W =\")\n",
    "pretty_print(W)\n",
    "\n",
    "if print_ans:\n",
    "    print(\"E =\")\n",
    "    pretty_print(E)\n",
    "    print(\"det(E) =\", E.det())"
   ]
  },
  {
   "cell_type": "markdown",
   "metadata": {},
   "source": [
    "##### Exercise 1(a)\n",
    "\n",
    "觀察如何從 $M$ 經過區塊列運算得到 $W$，  \n",
    "並寫出相對應的區塊基本矩陣 $E$。"
   ]
  },
  {
   "cell_type": "markdown",
   "metadata": {},
   "source": [
    "##### Exercise 1(b)\n",
    "\n",
    "求 $\\det(E)$。"
   ]
  },
  {
   "cell_type": "markdown",
   "metadata": {},
   "source": [
    "## Exercises"
   ]
  },
  {
   "cell_type": "markdown",
   "metadata": {},
   "source": [
    "##### Exercise 2\n",
    "\n",
    "計算以下矩陣的行列式值。"
   ]
  },
  {
   "cell_type": "markdown",
   "metadata": {},
   "source": [
    "##### Exercise 2(a)\n",
    "\n",
    "$$\n",
    "    A = \\begin{bmatrix}\n",
    "     1 & 0 & 0 \\\\\n",
    "     0 & 1 & 2 \\\\\n",
    "     0 & 3 & 4\n",
    "    \\end{bmatrix}.\n",
    "$$"
   ]
  },
  {
   "cell_type": "markdown",
   "metadata": {},
   "source": [
    "##### Exercise 2(b)\n",
    "\n",
    "$$\n",
    "    A = \\begin{bmatrix}\n",
    "     0 & 1 & 2 \\\\\n",
    "     1 & 0 & 0 \\\\\n",
    "     0 & 3 & 4\n",
    "    \\end{bmatrix}.\n",
    "$$"
   ]
  },
  {
   "cell_type": "markdown",
   "metadata": {},
   "source": [
    "##### Exercise 2(c)\n",
    "\n",
    "$$\n",
    "    A = \\begin{bmatrix}\n",
    "     0 & 1 & 2 \\\\\n",
    "     0 & 3 & 4 \\\\\n",
    "     1 & 0 & 0 \n",
    "    \\end{bmatrix}.\n",
    "$$"
   ]
  },
  {
   "cell_type": "markdown",
   "metadata": {},
   "source": [
    "##### Exercise 2(d)\n",
    "\n",
    "$$\n",
    "    A = \\begin{bmatrix}\n",
    "    1 & 0 & 2 \\\\\n",
    "    3 & 0 & 4 \\\\\n",
    "    0 & 1 & 0\n",
    "    \\end{bmatrix}.\n",
    "$$"
   ]
  },
  {
   "cell_type": "markdown",
   "metadata": {},
   "source": [
    "##### Exercise 3\n",
    "\n",
    "計算以下矩陣的行列式值。"
   ]
  },
  {
   "cell_type": "markdown",
   "metadata": {},
   "source": [
    "##### Exercise 3(a)\n",
    "\n",
    "$$\n",
    "    A = \\begin{bmatrix}\n",
    "     1 & 2 & 0 & 0 \\\\\n",
    "     3 & 4 & 0 & 0 \\\\\n",
    "     0 & 0 & 5 & 6 \\\\\n",
    "     0 & 0 & 7 & 8\n",
    "    \\end{bmatrix}.\n",
    "$$"
   ]
  },
  {
   "cell_type": "markdown",
   "metadata": {},
   "source": [
    "##### Exercise 3(b)\n",
    "\n",
    "$$\n",
    "    A = \\begin{bmatrix}\n",
    "     0 & 0 & 5 & 6 \\\\\n",
    "     0 & 0 & 7 & 8 \\\\\n",
    "     1 & 2 & 0 & 0 \\\\\n",
    "     3 & 4 & 0 & 0 \n",
    "    \\end{bmatrix}.\n",
    "$$"
   ]
  },
  {
   "cell_type": "markdown",
   "metadata": {},
   "source": [
    "##### Exercise 3(c)\n",
    "\n",
    "$$\n",
    "    A = \\begin{bmatrix}\n",
    "     1 & 0 & 2 & 0 \\\\\n",
    "     0 & 5 & 0 & 6 \\\\\n",
    "     3 & 0 & 4 & 0 \\\\\n",
    "     0 & 7 & 0 & 8\n",
    "    \\end{bmatrix}.\n",
    "$$"
   ]
  },
  {
   "cell_type": "markdown",
   "metadata": {},
   "source": [
    "##### Exercise 4\n",
    "\n",
    "若矩陣 $A$ 可寫成  \n",
    "$$\n",
    "    A = \\begin{bmatrix}\n",
    "     A_{11} & A_{12} & \\cdots & A_{1n} \\\\\n",
    "     O & A_{22} & \\ddots & \\vdots  \\\\\n",
    "     \\vdots & \\ddots & \\ddots & A_{n-1,n} \\\\\n",
    "     O & \\cdots & O & A_{nn}\n",
    "    \\end{bmatrix}  \n",
    "$$\n",
    "使得 $A_{11},\\ldots,A_{nn}$ 皆是方陣  \n",
    "（可能不同大小），   \n",
    "說明 $\\det(A) = \\det(A_{11})\\cdots \\det(A_{nn})$。"
   ]
  },
  {
   "cell_type": "markdown",
   "metadata": {},
   "source": [
    "##### Exercise 5\n",
    "\n",
    "若 $A$ 為 $m\\times n$ 矩陣、  \n",
    "而 $B$ 為 $n\\times m$ 矩陣，  \n",
    "證明  \n",
    "\n",
    "$$\n",
    "    \\det\\begin{bmatrix}\n",
    "     I_n & B \\\\\n",
    "     A & I_m \n",
    "    \\end{bmatrix} \n",
    "     = \n",
    "    \\det(I_m - AB) \n",
    "     = \n",
    "    \\det(I_n - BA).\n",
    "$$"
   ]
  }
 ],
 "metadata": {
  "kernelspec": {
   "display_name": "SageMath 9.5",
   "language": "sage",
   "name": "sagemath"
  },
  "language_info": {
   "codemirror_mode": {
    "name": "ipython",
    "version": 3
   },
   "file_extension": ".py",
   "mimetype": "text/x-python",
   "name": "python",
   "nbconvert_exporter": "python",
   "pygments_lexer": "ipython3",
   "version": "3.10.2"
  }
 },
 "nbformat": 4,
 "nbformat_minor": 4
}
