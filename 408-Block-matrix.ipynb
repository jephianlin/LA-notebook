{
 "cells": [
  {
   "cell_type": "markdown",
   "metadata": {},
   "source": [
    "# 矩陣乘積與轉置"
   ]
  },
  {
   "cell_type": "markdown",
   "metadata": {},
   "source": [
    "![Creative Commons License](https://i.creativecommons.org/l/by/4.0/88x31.png)  \n",
    "This work by Jephian Lin is licensed under a [Creative Commons Attribution 4.0 International License](http://creativecommons.org/licenses/by/4.0/)."
   ]
  },
  {
   "cell_type": "markdown",
   "metadata": {},
   "source": [
    "$\\newcommand{\\trans}{^\\top}\n",
    "\\newcommand{\\adj}{^{\\rm adj}}\n",
    "\\newcommand{\\cof}{^{\\rm cof}}\n",
    "\\newcommand{\\inp}[2]{\\left\\langle#1,#2\\right\\rangle}\n",
    "\\newcommand{\\dunion}{\\mathbin{\\dot\\cup}}\n",
    "\\newcommand{\\bzero}{\\mathbf{0}}\n",
    "\\newcommand{\\bone}{\\mathbf{1}}\n",
    "\\newcommand{\\ba}{\\mathbf{a}}\n",
    "\\newcommand{\\bb}{\\mathbf{b}}\n",
    "\\newcommand{\\bc}{\\mathbf{c}}\n",
    "\\newcommand{\\bd}{\\mathbf{d}}\n",
    "\\newcommand{\\be}{\\mathbf{e}}\n",
    "\\newcommand{\\bh}{\\mathbf{h}}\n",
    "\\newcommand{\\bp}{\\mathbf{p}}\n",
    "\\newcommand{\\bq}{\\mathbf{q}}\n",
    "\\newcommand{\\br}{\\mathbf{r}}\n",
    "\\newcommand{\\bx}{\\mathbf{x}}\n",
    "\\newcommand{\\by}{\\mathbf{y}}\n",
    "\\newcommand{\\bz}{\\mathbf{z}}\n",
    "\\newcommand{\\bu}{\\mathbf{u}}\n",
    "\\newcommand{\\bv}{\\mathbf{v}}\n",
    "\\newcommand{\\bw}{\\mathbf{w}}\n",
    "\\newcommand{\\tr}{\\operatorname{tr}}\n",
    "\\newcommand{\\nul}{\\operatorname{null}}\n",
    "\\newcommand{\\rank}{\\operatorname{rank}}\n",
    "%\\newcommand{\\ker}{\\operatorname{ker}}\n",
    "\\newcommand{\\range}{\\operatorname{range}}\n",
    "\\newcommand{\\Col}{\\operatorname{Col}}\n",
    "\\newcommand{\\Row}{\\operatorname{Row}}\n",
    "\\newcommand{\\spec}{\\operatorname{spec}}\n",
    "\\newcommand{\\vspan}{\\operatorname{span}}\n",
    "\\newcommand{\\Vol}{\\operatorname{Vol}}$"
   ]
  },
  {
   "cell_type": "code",
   "execution_count": null,
   "metadata": {},
   "outputs": [],
   "source": [
    "from lingeo import random_int_list"
   ]
  },
  {
   "cell_type": "markdown",
   "metadata": {},
   "source": [
    "## Main idea"
   ]
  },
  {
   "cell_type": "markdown",
   "metadata": {},
   "source": [
    "For different purposes, we often partition a matrix into several blocks.  \n",
    "The dimensions of each block should be clear through the context.  \n",
    "\n",
    "The multiplication of two block matrices can be just as expected.  \n",
    "Let  \n",
    "$$\n",
    "    A = \\begin{bmatrix}\n",
    "     A_{11} & \\cdots & A_{1n} \\\\\n",
    "     \\vdots & ~ & \\vdots \\\\\n",
    "     A_{m1} & \\cdots & A_{mn}\n",
    "    \\end{bmatrix}  \n",
    "    \\text{ and }\n",
    "    B = \\begin{bmatrix}\n",
    "     B_{11} & \\cdots & B_{1\\ell} \\\\\n",
    "     \\vdots & ~ & \\vdots \\\\\n",
    "     B_{n1} & \\cdots & B_{n\\ell}\n",
    "    \\end{bmatrix}\n",
    "$$\n",
    "such that the width of $A_{1k}$ is the same as $B_{k1}$ for $k = 1,\\ldots, n$.  \n",
    "Then $AB$ can be written as a block matrix such that its $ij$-block is \n",
    "$$\n",
    "    \\sum_{k = 1}^n A_{ik} B_{kj}.\n",
    "$$"
   ]
  },
  {
   "cell_type": "markdown",
   "metadata": {},
   "source": [
    "For block matrices, one may perform the **block row operations**.\n",
    "\n",
    "1. swapping: swap the $i$-th and the $j$-th block rows.  \n",
    "Its block elementary matrix $E$ has $\\det(E) = (-1)^{m_im_j}$, where $m_i$ and $m_j$ are the number of rows in these two block rows, respectively. \n",
    "2. rescaling: multiply the $i$-th block row by an invertible matrix $K$.  \n",
    "Its block elementary matrix $E$ has $\\det(E) = \\det(K)$.\n",
    "3. row combination: multiply the $j$-th block row by a matrix $K$ and add the result to the $i$-th block row.  \n",
    "Its block elementary matrix $E$ has $\\det(E) = 1$.\n",
    "\n",
    "Similar **block column operations** also apply.  "
   ]
  },
  {
   "cell_type": "markdown",
   "metadata": {},
   "source": [
    "Consider the matrix  \n",
    "$$\n",
    "    M = \n",
    "    \\begin{bmatrix}\n",
    "     A & B \\\\\n",
    "     O & D\n",
    "    \\end{bmatrix}.\n",
    "$$\n",
    "If both $A$ and $D$ are invertible (sqaure) matrice, one may rescale the first block row and the second block column and get   \n",
    "$$\n",
    "    \\begin{bmatrix}\n",
    "     A & B \\\\\n",
    "     O & D\n",
    "    \\end{bmatrix}\n",
    "    = \n",
    "    \\begin{bmatrix}\n",
    "     A & O \\\\\n",
    "     O & I \n",
    "    \\end{bmatrix}\n",
    "    \\begin{bmatrix}\n",
    "     I & A^{-1}BD^{-1} \\\\\n",
    "     O & I \n",
    "    \\end{bmatrix}\n",
    "    \\begin{bmatrix}\n",
    "     I & O \\\\\n",
    "     O & D \n",
    "    \\end{bmatrix}.\n",
    "$$\n",
    "Therefore, \n",
    "$$\n",
    "    \\det(M) = \\det(A)\\det(D).\n",
    "$$"
   ]
  },
  {
   "cell_type": "markdown",
   "metadata": {},
   "source": [
    "If $A$ or $D$ is not invertible, then M is also not invertible.  \n",
    "Therefore, the same equality still holds.  \n",
    "$$\n",
    "    \\det(M) = \\det(A)\\det(D) = 0.\n",
    "$$"
   ]
  },
  {
   "cell_type": "markdown",
   "metadata": {},
   "source": [
    "Consider the other matrix  \n",
    "$$\n",
    "    M = \\begin{bmatrix}\n",
    "     A & B \\\\\n",
    "     C & D\n",
    "    \\end{bmatrix}\n",
    "$$\n",
    "such that $A$ is invertible.  \n",
    "One may take the first block row, pre-multiply by $-CA^{-1}$, and add it to the second block row.  \n",
    "Thus, \n",
    "$$\n",
    "    \\begin{bmatrix}\n",
    "     A & B \\\\\n",
    "     C & D\n",
    "    \\end{bmatrix}\n",
    "    = \n",
    "    \\begin{bmatrix}\n",
    "     I & O \\\\\n",
    "     CA^{-1} & I \n",
    "    \\end{bmatrix}\n",
    "    \\begin{bmatrix}\n",
    "     A & B \\\\\n",
    "     O & D - CA^{-1}B\n",
    "    \\end{bmatrix}.\n",
    "$$  \n",
    "Therefore,  \n",
    "$$\n",
    "    \\det(M) = \\det(A)\\det(D - CA^{-1}B).\n",
    "$$"
   ]
  },
  {
   "cell_type": "markdown",
   "metadata": {},
   "source": [
    "The matrix $D - CA^{-1}B$ is called the **Schur complement** of $A$ in $M$, denoted as $M / A$.  \n",
    "The notation is justified by $\\det(M/A) = \\det(M) / \\det(A)$."
   ]
  },
  {
   "cell_type": "markdown",
   "metadata": {},
   "source": [
    "## Side stories\n",
    "\n",
    "- Schur complement"
   ]
  },
  {
   "cell_type": "markdown",
   "metadata": {},
   "source": [
    "## Experiments"
   ]
  },
  {
   "cell_type": "markdown",
   "metadata": {},
   "source": [
    "##### Exercise 1\n",
    "\n",
    "執行以下程式碼。  "
   ]
  },
  {
   "cell_type": "code",
   "execution_count": null,
   "metadata": {
    "scrolled": false
   },
   "outputs": [],
   "source": [
    "### code\n",
    "set_random_seed(0)\n",
    "print_ans = False\n",
    "\n",
    "while True:\n",
    "    A = matrix(2, random_int_list(4,2))\n",
    "    if A.det() != 0:\n",
    "        break\n",
    "B = matrix(2, random_int_list(6,3))\n",
    "C = matrix(3, random_int_list(6,3))\n",
    "D = matrix(3, random_int_list(9,3))\n",
    "\n",
    "M = block_matrix([\n",
    "    [A, B], \n",
    "    [C, D]\n",
    "])\n",
    "\n",
    "op = choice([1,2,3])\n",
    "if op == 1:\n",
    "    E = block_matrix([[zero_matrix(3,2), identity_matrix(3)], [identity_matrix(2), zero_matrix(2,3)]])\n",
    "if op == 2:\n",
    "    E = block_matrix([[A.inverse(), zero_matrix(2,3)], [zero_matrix(3,2), identity_matrix(3)]])\n",
    "if op == 3:\n",
    "    E = block_matrix([[identity_matrix(2), zero_matrix(2,3)], [-C*A.inverse(), identity_matrix(3)]])\n",
    "\n",
    "W = E * M\n",
    "if op == 1:\n",
    "    W.subdivide(3,2)\n",
    "\n",
    "print(\"M =\")\n",
    "pretty_print(M)\n",
    "\n",
    "print(\"W =\")\n",
    "pretty_print(W)\n",
    "\n",
    "if print_ans:\n",
    "    print(\"E =\")\n",
    "    pretty_print(E)\n",
    "    print(\"det(E) =\", E.det())"
   ]
  },
  {
   "cell_type": "markdown",
   "metadata": {},
   "source": [
    "##### Exercise 1(a)\n",
    "\n",
    "觀察如何從 $M$ 經過區塊列運算得到 $W$，  \n",
    "並寫出相對應的區塊基本矩陣 $E$。"
   ]
  },
  {
   "cell_type": "markdown",
   "metadata": {},
   "source": [
    "##### Exercise 1(b)\n",
    "\n",
    "求 $\\det(E)$。"
   ]
  },
  {
   "cell_type": "markdown",
   "metadata": {},
   "source": [
    "## Exercises"
   ]
  },
  {
   "cell_type": "markdown",
   "metadata": {},
   "source": [
    "##### Exercise 2\n",
    "\n",
    "在總列數為 $3$ 的情況下，  \n",
    "寫下以下列運算的基本矩陣 $E$，  \n",
    "並解釋 $E\\trans$ 所對應的列運算是什麼。"
   ]
  },
  {
   "cell_type": "markdown",
   "metadata": {},
   "source": [
    "##### Exercise 2(a)\n",
    "\n",
    "列運算 $\\rho_i\\rightarrow\\rho_j$。"
   ]
  },
  {
   "cell_type": "markdown",
   "metadata": {},
   "source": [
    "##### Exercise 2(b)\n",
    "\n",
    "列運算 $\\rho_i: \\times k$。"
   ]
  },
  {
   "cell_type": "markdown",
   "metadata": {},
   "source": [
    "##### Exercise 2(c)\n",
    "\n",
    "列運算 $\\rho_i: +k\\rho_j$。"
   ]
  },
  {
   "cell_type": "markdown",
   "metadata": {},
   "source": [
    "##### Exercise 3\n",
    "\n",
    "若 $A$ 為一可逆矩陣。  \n",
    "證明 $\\det(A^{-1}) = \\det(A)^{-1}$。"
   ]
  },
  {
   "cell_type": "markdown",
   "metadata": {},
   "source": [
    "##### Exercise 4\n",
    "\n",
    "若 $A$ 為一垂直矩陣（$A\\trans A = AA\\trans = I_n$）。  \n",
    "證明 $\\det(A) = \\pm 1$。"
   ]
  },
  {
   "cell_type": "markdown",
   "metadata": {},
   "source": [
    "##### Exercise 5\n",
    "\n",
    "令 $V$ 為 $\\mathbb{R}^3$ 中的一個二維空間，  \n",
    "而 $f:\\mathbb{R}^3 \\rightarrow \\mathbb{R}^3$ 將向量 $\\bv\\in\\mathbb{R}^3$ 投影到 $V$ 上。  \n",
    "求 $\\det(f)$。"
   ]
  },
  {
   "cell_type": "markdown",
   "metadata": {},
   "source": [
    "##### Exercise 6\n",
    "\n",
    "令 $V$ 為 $\\mathbb{R}^3$ 中的一個二維空間，  \n",
    "而 $f:\\mathbb{R}^3 \\rightarrow \\mathbb{R}^3$ 將向量 $\\bv\\in\\mathbb{R}^3$ 鏡射到 $V$ 的對面。  \n",
    "求 $\\det(f)$。"
   ]
  },
  {
   "cell_type": "markdown",
   "metadata": {},
   "source": [
    "##### Exercise 7\n",
    "\n",
    "令 $A$ 和 $B$ 皆為 $n\\times n$ 矩陣。  \n",
    "依照以下步驟證明以下敘述等價。  \n",
    "\n",
    "- $AB$ 可逆。\n",
    "- $A$ 和 $B$ 皆可逆。\n",
    "\n",
    "（這題為證明 $\\det(AB) = \\det(A)\\det(B)$ 的必要過程，  \n",
    "所以請不要用行列式值來證明。）"
   ]
  },
  {
   "cell_type": "markdown",
   "metadata": {},
   "source": [
    "##### Exercise 7(a)\n",
    "\n",
    "證明：  \n",
    "若 $\\ker(B) \\neq \\{\\bzero\\}$，則 $\\ker(AB) \\neq \\{\\bzero\\}$。"
   ]
  },
  {
   "cell_type": "markdown",
   "metadata": {},
   "source": [
    "##### Exercise 7(b)\n",
    "\n",
    "證明：  \n",
    "若 $\\Col(A) \\neq \\mathbb{R}^n$，則 $\\Col(AB) \\neq \\mathbb{R}^n$。"
   ]
  },
  {
   "cell_type": "markdown",
   "metadata": {},
   "source": [
    "##### Exercise 7(a)\n",
    "\n",
    "證明：  \n",
    "若 $A$ 和 $B$ 皆可逆，則 $AB$ 可逆。"
   ]
  }
 ],
 "metadata": {
  "kernelspec": {
   "display_name": "SageMath 9.4",
   "language": "sage",
   "name": "sagemath"
  },
  "language_info": {
   "codemirror_mode": {
    "name": "ipython",
    "version": 3
   },
   "file_extension": ".py",
   "mimetype": "text/x-python",
   "name": "python",
   "nbconvert_exporter": "python",
   "pygments_lexer": "ipython3",
   "version": "3.10.1"
  }
 },
 "nbformat": 4,
 "nbformat_minor": 4
}
