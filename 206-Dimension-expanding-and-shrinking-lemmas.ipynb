{
 "cells": [
  {
   "cell_type": "markdown",
   "metadata": {},
   "source": [
    "# 維度、擴充與縮限法則"
   ]
  },
  {
   "cell_type": "markdown",
   "metadata": {},
   "source": [
    "![Creative Commons License](https://i.creativecommons.org/l/by/4.0/88x31.png)  \n",
    "This work by Jephian Lin is licensed under a [Creative Commons Attribution 4.0 International License](http://creativecommons.org/licenses/by/4.0/)."
   ]
  },
  {
   "cell_type": "markdown",
   "metadata": {},
   "source": [
    "$\\newcommand{\\trans}{^\\top}\n",
    "\\newcommand{\\adj}{^{\\rm adj}}\n",
    "\\newcommand{\\cof}{^{\\rm cof}}\n",
    "\\newcommand{\\inp}[2]{\\left\\langle#1,#2\\right\\rangle}\n",
    "\\newcommand{\\dunion}{\\mathbin{\\dot\\cup}}\n",
    "\\newcommand{\\bzero}{\\mathbf{0}}\n",
    "\\newcommand{\\bone}{\\mathbf{1}}\n",
    "\\newcommand{\\ba}{\\mathbf{a}}\n",
    "\\newcommand{\\bb}{\\mathbf{b}}\n",
    "\\newcommand{\\bc}{\\mathbf{c}}\n",
    "\\newcommand{\\bd}{\\mathbf{d}}\n",
    "\\newcommand{\\be}{\\mathbf{e}}\n",
    "\\newcommand{\\bh}{\\mathbf{h}}\n",
    "\\newcommand{\\bp}{\\mathbf{p}}\n",
    "\\newcommand{\\bq}{\\mathbf{q}}\n",
    "\\newcommand{\\br}{\\mathbf{r}}\n",
    "\\newcommand{\\bx}{\\mathbf{x}}\n",
    "\\newcommand{\\by}{\\mathbf{y}}\n",
    "\\newcommand{\\bz}{\\mathbf{z}}\n",
    "\\newcommand{\\bu}{\\mathbf{u}}\n",
    "\\newcommand{\\bv}{\\mathbf{v}}\n",
    "\\newcommand{\\bw}{\\mathbf{w}}\n",
    "\\newcommand{\\tr}{\\operatorname{tr}}\n",
    "\\newcommand{\\nul}{\\operatorname{null}}\n",
    "\\newcommand{\\rank}{\\operatorname{rank}}\n",
    "%\\newcommand{\\ker}{\\operatorname{ker}}\n",
    "\\newcommand{\\range}{\\operatorname{range}}\n",
    "\\newcommand{\\Col}{\\operatorname{Col}}\n",
    "\\newcommand{\\Row}{\\operatorname{Row}}\n",
    "\\newcommand{\\spec}{\\operatorname{spec}}\n",
    "\\newcommand{\\vspan}{\\operatorname{span}}\n",
    "\\newcommand{\\Vol}{\\operatorname{Vol}}\n",
    "\\newcommand{\\sgn}{\\operatorname{sgn}}\n",
    "\\newcommand{\\idmap}{\\operatorname{id}}\n",
    "\\newcommand{\\am}{\\operatorname{am}}\n",
    "\\newcommand{\\gm}{\\operatorname{gm}}\n",
    "\\newcommand{\\mult}{\\operatorname{mult}}\n",
    "\\newcommand{\\iner}{\\operatorname{iner}}$"
   ]
  },
  {
   "cell_type": "code",
   "execution_count": null,
   "metadata": {},
   "outputs": [],
   "source": [
    "from lingeo import random_int_list, random_good_matrix, find_pivots"
   ]
  },
  {
   "cell_type": "markdown",
   "metadata": {},
   "source": [
    "## Main idea"
   ]
  },
  {
   "cell_type": "markdown",
   "metadata": {},
   "source": [
    "An important consequence of the basis exchange lemma is:  \n",
    "If $V$ has a finite basis $\\beta$, then every linearly independent set $\\alpha$ in $V$ is finite and $|\\alpha|\\leq |\\beta|$.  \n",
    "Suppose $V$ has two finite bases $\\alpha$ and $\\beta$.  \n",
    "Then we have $|\\beta|\\leq |\\alpha|$ and $|\\alpha|\\leq|\\beta|$, so $|\\alpha| = |\\beta|$.  \n",
    "Therefore, if $V$ has a finite basis, then every basis of $V$ has the same size.  \n",
    "We define the **dimension** of $V$ as the size of a basis of $V$, denoted as $\\dim(V)$."
   ]
  },
  {
   "cell_type": "markdown",
   "metadata": {},
   "source": [
    "Starting with a linearly independent set, one may keep adding vectors not in the span until it becomes a basis.  \n",
    "The only unfortunate case is the unintuitive possibilty when adding new vectors never reaches to a spanning set but results in a linearly independent set of infinitely many vectors.  \n",
    "However, the basis exchange lemma excludes this possibility!"
   ]
  },
  {
   "cell_type": "markdown",
   "metadata": {},
   "source": [
    "##### Expanding lemma\n",
    "\n",
    "Let $V$ be a subspace contained in another subspace $U$.  \n",
    "Suppose $U$ is has a finite basis.  \n",
    "Let $\\alpha$ be a linearly independent set in $V$.  \n",
    "Then there is a finite basis $\\beta$ of $V$ with $\\alpha\\subseteq\\beta$.  \n",
    "In particular, every subspace in $\\mathbb{R}^n$ has a finite basis.  "
   ]
  },
  {
   "cell_type": "markdown",
   "metadata": {},
   "source": [
    "On the other hand, one may start with a spanning set and keep removing redundant vectors.  \n",
    "(We have seen this before, but let's formally write it down as below.)"
   ]
  },
  {
   "cell_type": "markdown",
   "metadata": {},
   "source": [
    "##### Shrinking lemma\n",
    "\n",
    "Let $V = \\vspan(S)$ be a subspace and $S$ a finite set of vectors.  \n",
    "Then there is a basis $\\beta$ of $V$ with $\\beta\\subseteq S$ "
   ]
  },
  {
   "cell_type": "markdown",
   "metadata": {},
   "source": [
    "## Side stories\n",
    "- common subspaces\n",
    "- intersection and sum of two subspaces"
   ]
  },
  {
   "cell_type": "markdown",
   "metadata": {},
   "source": [
    "## Experiments"
   ]
  },
  {
   "cell_type": "markdown",
   "metadata": {},
   "source": [
    "##### Exercise 1\n",
    "\n",
    "執行下方程式碼。  \n",
    "令 $S = \\{ \\bu_1, \\ldots, \\bu_5 \\}$ 為 $A$ 的各行向量  \n",
    "且 $V = \\vspan(S)$。  \n",
    "已知 $\\ba\\in V$、  \n",
    "$R$ 為 $A$ 的最簡階梯形式矩陣、  \n",
    "$\\left[\\begin{array}{c|c} \\be_1 & R' \\end{array}\\right]$ 為 $\\left[\\begin{array}{c|c} \\ba & A \\end{array}\\right]$ 的最簡階梯形式矩陣。  "
   ]
  },
  {
   "cell_type": "code",
   "execution_count": null,
   "metadata": {
    "scrolled": false
   },
   "outputs": [],
   "source": [
    "### code\n",
    "set_random_seed(0)\n",
    "print_ans = False\n",
    "m,n,r = 4,5,3\n",
    "A, R, A_pivots = random_good_matrix(m,n,r, return_answer=True)\n",
    "a = A * vector(random_int_list(5))\n",
    "aA = matrix(a).transpose().augment(A, subdivide=True)\n",
    "aR = aA.rref()\n",
    "aA_pivots = find_pivots(aR)\n",
    "\n",
    "print(\"A =\")\n",
    "show(A)\n",
    "print(\"a =\", a)\n",
    "print(\"R =\")\n",
    "show(R)\n",
    "print(\"[ e1 | R' ] =\")\n",
    "show(aR)\n",
    "\n",
    "if print_ans:\n",
    "    print(\"{ a, \" + \", \".join(\"u%i\"%(i) for i in aA_pivots[1:]) + \" } is a basis of V containing a.\")\n",
    "    print(\"{ \" + \", \".join(\"u%i\"%(i+1) for i in A_pivots) + \" } is a basis of V contained in S.\")"
   ]
  },
  {
   "cell_type": "markdown",
   "metadata": {},
   "source": [
    "##### Exercise 1(a)\n",
    "\n",
    "求一組 $V$ 的基底 $\\beta$ 且 $\\ba\\in \\beta$。  "
   ]
  },
  {
   "cell_type": "markdown",
   "metadata": {},
   "source": [
    "##### Exercise 1(b)\n",
    "\n",
    "求一組 $V$ 的基底 $\\beta$ 且 $\\beta\\subseteq S$。  "
   ]
  },
  {
   "cell_type": "markdown",
   "metadata": {},
   "source": [
    "## Exercises"
   ]
  },
  {
   "cell_type": "markdown",
   "metadata": {},
   "source": [
    "##### Exercise 2(a)\n",
    "\n",
    "求  \n",
    "$$V = \\vspan\\left\\{ \n",
    "\\begin{bmatrix} 1 \\\\ 1 \\\\ 1 \\end{bmatrix}, \n",
    "\\begin{bmatrix} 1 \\\\ 2 \\\\ 3 \\end{bmatrix}, \n",
    "\\begin{bmatrix} 1 \\\\ 4 \\\\ 9 \\end{bmatrix}\n",
    "\\right\\}$$  \n",
    "的維度。  "
   ]
  },
  {
   "cell_type": "markdown",
   "metadata": {},
   "source": [
    "##### Exercise 2(b)\n",
    "\n",
    "求  \n",
    "$$V = \\vspan\\left\\{ \n",
    "\\begin{bmatrix} 1 \\\\ 1 \\\\ 2 \\end{bmatrix}, \n",
    "\\begin{bmatrix} 1 \\\\ 2 \\\\ 1 \\end{bmatrix}, \n",
    "\\begin{bmatrix} 1 \\\\ 2 \\\\ 1 \\end{bmatrix}\n",
    "\\right\\}$$  \n",
    "的維度。  "
   ]
  },
  {
   "cell_type": "markdown",
   "metadata": {},
   "source": [
    "##### Exercise 2(c)\n",
    "\n",
    "令 \n",
    "$$A = \\begin{bmatrix}  \n",
    " 1 & 1 & 1 & 1 \\\\\n",
    " 0 & 1 & 1 & 1 \\\\\n",
    "\\end{bmatrix}$$\n",
    "求  \n",
    "$$V = \\{ \\bx\\in\\mathbb{R}^4 : A\\bx = \\bzero\\}$$  \n",
    "的維度。  "
   ]
  },
  {
   "cell_type": "markdown",
   "metadata": {},
   "source": [
    "##### Exercise 2(d)\n",
    "\n",
    "令 \n",
    "$$A = \\begin{bmatrix}  \n",
    " 1 & 1 & 1 & 1 \\\\\n",
    " 1 & 1 & 2 & 2 \\\\\n",
    " 2 & 2 & 1 & 1 \\\\\n",
    "\\end{bmatrix}$$\n",
    "求  \n",
    "$$V = \\{ \\bx\\in\\mathbb{R}^4 : A\\bx = \\bzero\\}$$  \n",
    "的維度。  "
   ]
  },
  {
   "cell_type": "markdown",
   "metadata": {},
   "source": [
    "##### Exercise 3\n",
    "\n",
    "令 $U = \\{ \\bx = (x,y,z,w)\\in\\mathbb{R}^4 : x + y + z + w = 0 \\}$ 且  \n",
    "$V = \\{ \\bx = (x,y,z,w)\\in\\mathbb{R}^4 : x + y + 2z + 2w = 0 \\}$。  \n",
    "求出 $\\bu_1, \\ldots, \\bu_3$ 使得  \n",
    "$\\{ \\bu_1,\\bu_2 \\}$ 是 $U\\cap V$ 的一組基底、  \n",
    "$\\{ \\bu_1,\\bu_2,\\bu_3 \\}$ 是 $U$ 的一組基底、  \n",
    "$\\{ \\bu_1,\\bu_2,\\bu_4 \\}$ 是 $V$ 的一組基底。  "
   ]
  },
  {
   "cell_type": "markdown",
   "metadata": {},
   "source": [
    "##### Exercise 4\n",
    "\n",
    "令  \n",
    "$$A = \\begin{bmatrix}  \n",
    " 1 & 2 \\\\\n",
    " 1 & 2 \\\\\n",
    " 2 & 1 \\\\\n",
    " 2 & 1 \\\\\n",
    "\\end{bmatrix}, B = \\begin{bmatrix}\n",
    " 1 & 2 \\\\\n",
    " 2 & 1 \\\\\n",
    " 1 & 2 \\\\\n",
    " 2 & 1 \\\\\n",
    "\\end{bmatrix}.$$  \n",
    "求 $\\vspan(\\Col(A) \\cup \\Col(B))$ 的一組基底。  "
   ]
  },
  {
   "cell_type": "markdown",
   "metadata": {},
   "source": [
    "##### Exercise 5\n",
    "\n",
    "證明 expanding lemma。  "
   ]
  },
  {
   "cell_type": "markdown",
   "metadata": {},
   "source": [
    "##### Exercise 6\n",
    "\n",
    "利用 expanding lemma 證明所有 $\\mathbb{R}^n$ 中的子空間都有一組有限個數的基底。  "
   ]
  }
 ],
 "metadata": {
  "kernelspec": {
   "display_name": "SageMath 9.6",
   "language": "sage",
   "name": "sagemath"
  },
  "language_info": {
   "codemirror_mode": {
    "name": "ipython",
    "version": 3
   },
   "file_extension": ".py",
   "mimetype": "text/x-python",
   "name": "python",
   "nbconvert_exporter": "python",
   "pygments_lexer": "ipython3",
   "version": "3.10.5"
  }
 },
 "nbformat": 4,
 "nbformat_minor": 4
}
