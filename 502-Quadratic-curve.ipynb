{
 "cells": [
  {
   "cell_type": "markdown",
   "metadata": {},
   "source": [
    "# 二次曲線"
   ]
  },
  {
   "cell_type": "markdown",
   "metadata": {},
   "source": [
    "![Creative Commons License](https://i.creativecommons.org/l/by/4.0/88x31.png)  \n",
    "This work by Jephian Lin is licensed under a [Creative Commons Attribution 4.0 International License](http://creativecommons.org/licenses/by/4.0/)."
   ]
  },
  {
   "cell_type": "markdown",
   "metadata": {},
   "source": [
    "$\\newcommand{\\trans}{^\\top}\n",
    "\\newcommand{\\adj}{^{\\rm adj}}\n",
    "\\newcommand{\\cof}{^{\\rm cof}}\n",
    "\\newcommand{\\inp}[2]{\\left\\langle#1,#2\\right\\rangle}\n",
    "\\newcommand{\\dunion}{\\mathbin{\\dot\\cup}}\n",
    "\\newcommand{\\bzero}{\\mathbf{0}}\n",
    "\\newcommand{\\bone}{\\mathbf{1}}\n",
    "\\newcommand{\\ba}{\\mathbf{a}}\n",
    "\\newcommand{\\bb}{\\mathbf{b}}\n",
    "\\newcommand{\\bc}{\\mathbf{c}}\n",
    "\\newcommand{\\bd}{\\mathbf{d}}\n",
    "\\newcommand{\\be}{\\mathbf{e}}\n",
    "\\newcommand{\\bh}{\\mathbf{h}}\n",
    "\\newcommand{\\bp}{\\mathbf{p}}\n",
    "\\newcommand{\\bq}{\\mathbf{q}}\n",
    "\\newcommand{\\br}{\\mathbf{r}}\n",
    "\\newcommand{\\bx}{\\mathbf{x}}\n",
    "\\newcommand{\\by}{\\mathbf{y}}\n",
    "\\newcommand{\\bz}{\\mathbf{z}}\n",
    "\\newcommand{\\bu}{\\mathbf{u}}\n",
    "\\newcommand{\\bv}{\\mathbf{v}}\n",
    "\\newcommand{\\bw}{\\mathbf{w}}\n",
    "\\newcommand{\\tr}{\\operatorname{tr}}\n",
    "\\newcommand{\\nul}{\\operatorname{null}}\n",
    "\\newcommand{\\rank}{\\operatorname{rank}}\n",
    "%\\newcommand{\\ker}{\\operatorname{ker}}\n",
    "\\newcommand{\\range}{\\operatorname{range}}\n",
    "\\newcommand{\\Col}{\\operatorname{Col}}\n",
    "\\newcommand{\\Row}{\\operatorname{Row}}\n",
    "\\newcommand{\\spec}{\\operatorname{spec}}\n",
    "\\newcommand{\\vspan}{\\operatorname{span}}\n",
    "\\newcommand{\\Vol}{\\operatorname{Vol}}\n",
    "\\newcommand{\\sgn}{\\operatorname{sgn}}\n",
    "\\newcommand{\\idmap}{\\operatorname{id}}$"
   ]
  },
  {
   "cell_type": "code",
   "execution_count": null,
   "metadata": {},
   "outputs": [],
   "source": [
    "from lingeo import random_int_list"
   ]
  },
  {
   "cell_type": "markdown",
   "metadata": {},
   "source": [
    "## Main idea"
   ]
  },
  {
   "cell_type": "markdown",
   "metadata": {},
   "source": [
    "Consider an equation of the form \n",
    "$$\n",
    "    ax^2 + bx^2 + cxy = 1.\n",
    "$$\n",
    "Then it can be written as \n",
    "$$\n",
    "    \\begin{bmatrix} x & y \\end{bmatrix}\n",
    "    \\begin{bmatrix}\n",
    "     a & \\frac{c}{2} \\\\\n",
    "     \\frac{c}{2} & c\n",
    "    \\end{bmatrix}\n",
    "    \\begin{bmatrix} x \\\\ y \\end{bmatrix} = \\begin{bmatrix} 1 \\end{bmatrix}.  \n",
    "$$  \n",
    "Although an $1\\times 1$ matrix is different from a scalar, we often abuse the notation and write  \n",
    "$$\n",
    "    \\bx\\trans A \\bx = 1.\n",
    "$$"
   ]
  },
  {
   "cell_type": "markdown",
   "metadata": {},
   "source": [
    "Since $A$ is symmetirc, by the spectral theorem,  \n",
    "there is an orthonormal basis $\\beta$ of $\\mathbb{R}^n$ such that $[f_A]_\\beta^\\beta = D$ is a diagonal matrix.  \n",
    "By setting $Q$ as the matrix whose columns are vectors in $\\beta$,  \n",
    "we get $Q$ is an orthogonal matrix such that $Q\\trans AQ = D$ is a diagonal matrix.  "
   ]
  },
  {
   "cell_type": "markdown",
   "metadata": {},
   "source": [
    "We may let $Q\\by = \\bx$ and $\\bx = Q^{-1}\\by$.  \n",
    "This means $\\by = [\\bx]_\\beta$ is the vector representation of $\\bx$."
   ]
  },
  {
   "cell_type": "markdown",
   "metadata": {},
   "source": [
    "By viewing the equation $\\bx\\trans A\\bx = 1$ from the perspective of $\\beta$, \n",
    "we get  \n",
    "$$\n",
    "    \\bx\\trans A\\bx = \\by\\trans Q\\trans A Q\\by = \\by\\trans D\\by = 1.  \n",
    "$$\n",
    "It is much easier to describe the solution set of $\\by\\trans D\\by = 1$ since $D$ is diagonal."
   ]
  },
  {
   "cell_type": "markdown",
   "metadata": {},
   "source": [
    "## Side stories\n",
    "\n",
    "- conic section"
   ]
  },
  {
   "cell_type": "markdown",
   "metadata": {},
   "source": [
    "## Experiments"
   ]
  },
  {
   "cell_type": "markdown",
   "metadata": {},
   "source": [
    "##### Exercise 1\n",
    "\n",
    "執行以下程式碼。  \n",
    "令 $\\beta = \\{\\bv_1, \\cdots, \\bv_n\\}$ 為 $Q$ 的各行向量。"
   ]
  },
  {
   "cell_type": "code",
   "execution_count": null,
   "metadata": {
    "scrolled": false
   },
   "outputs": [],
   "source": [
    "### code\n",
    "set_random_seed(0)\n",
    "print_ans = False\n",
    "\n",
    "while True:\n",
    "    theta = choice([pi/6, pi/4, pi/3])\n",
    "    Q = matrix([\n",
    "        [cos(theta), -sin(theta)],\n",
    "        [sin(theta), cos(theta)]\n",
    "    ])\n",
    "    l = [4*lam for lam in random_int_list(2, 3)]\n",
    "    D = diagonal_matrix(l)\n",
    "    A = Q * D * Q.transpose()\n",
    "    if A[0,1] != 0 and 0 not in l:\n",
    "        break\n",
    "        \n",
    "x,y = var(\"x y\")\n",
    "eqn = (A[0,0]*x^2 + 2*A[0,1]*x*y + A[1,1]*y^2 == 1)\n",
    "\n",
    "pretty_print(eqn)\n",
    "pretty_print(LatexExpr(\"Q =\"), Q)\n",
    "\n",
    "if print_ans:\n",
    "    pretty_print(LatexExpr(\"A =\"), A)\n",
    "    pretty_print(LatexExpr(\"D =\"), D)\n",
    "    if l[0] < 0 and l[1] < 0:\n",
    "        print(\"No solution.\")\n",
    "    if l[0] * l[1] < 0:\n",
    "        print(\"Hyperbola counterclockwisely rotated in angle:\")\n",
    "        pretty_print(theta)\n",
    "    if l[0] > 0 and l[1] > 0:\n",
    "        print(\"Ellipse counterclockwisely rotated in angle:\")\n",
    "        pretty_print(theta)"
   ]
  },
  {
   "cell_type": "markdown",
   "metadata": {},
   "source": [
    "##### Exercise 1(a)\n",
    "\n",
    "找一個 $2\\times 2$ 矩陣 $A$，將上述方程式寫成  \n",
    "$$\n",
    "    \\begin{bmatrix} x & y \\end{bmatrix}\n",
    "    A\n",
    "    \\begin{bmatrix} x \\\\ y \\end{bmatrix} = \\begin{bmatrix} 1 \\end{bmatrix}.  \n",
    "$$"
   ]
  },
  {
   "cell_type": "markdown",
   "metadata": {},
   "source": [
    "##### Exercise 1(b)\n",
    "\n",
    "計算 $D = Q^{-1}AQ$。"
   ]
  },
  {
   "cell_type": "markdown",
   "metadata": {},
   "source": [
    "##### Exercise 1(c)\n",
    "\n",
    "描述這個方程式的解集合的形狀。"
   ]
  },
  {
   "cell_type": "markdown",
   "metadata": {},
   "source": [
    "## Exercises"
   ]
  },
  {
   "cell_type": "markdown",
   "metadata": {},
   "source": [
    "##### Exercise 2\n",
    "\n",
    "描述以下方程式的解集合的形狀。"
   ]
  },
  {
   "cell_type": "markdown",
   "metadata": {},
   "source": [
    "##### Exercise 2(a)\n",
    "\n",
    "已知  \n",
    "$$\n",
    "    \\begin{bmatrix}\n",
    "    4 & 0 \\\\\n",
    "    0 & 6\n",
    "    \\end{bmatrix}\n",
    "    = \n",
    "    \\begin{bmatrix}\n",
    "    \\frac{1}{\\sqrt{2}} & \\frac{1}{\\sqrt{2}} \\\\\n",
    "    \\frac{1}{\\sqrt{2}} & -\\frac{1}{\\sqrt{2}}\n",
    "    \\end{bmatrix}^{-1}\n",
    "    \\begin{bmatrix}\n",
    "    5 & -1 \\\\\n",
    "    -1 & 5\n",
    "    \\end{bmatrix}\n",
    "    \\begin{bmatrix}\n",
    "    \\frac{1}{\\sqrt{2}} & \\frac{1}{\\sqrt{2}} \\\\\n",
    "    \\frac{1}{\\sqrt{2}} & -\\frac{1}{\\sqrt{2}}\n",
    "    \\end{bmatrix}.\n",
    "$$\n",
    "考慮方程式 $5x^2 + 5y^2 - 2xy = 1$。"
   ]
  },
  {
   "cell_type": "markdown",
   "metadata": {},
   "source": [
    "##### Exercise 2(b)\n",
    "\n",
    "已知  \n",
    "$$\n",
    "    \\begin{bmatrix}\n",
    "    4 & 0 \\\\\n",
    "    0 & -6\n",
    "    \\end{bmatrix}\n",
    "    = \n",
    "    \\begin{bmatrix}\n",
    "    \\frac{1}{\\sqrt{2}} & \\frac{1}{\\sqrt{2}} \\\\\n",
    "    \\frac{1}{\\sqrt{2}} & -\\frac{1}{\\sqrt{2}}\n",
    "    \\end{bmatrix}^{-1}\n",
    "    \\begin{bmatrix}\n",
    "    -1 & 5 \\\\\n",
    "    5 & -1\n",
    "    \\end{bmatrix}\n",
    "    \\begin{bmatrix}\n",
    "    \\frac{1}{\\sqrt{2}} & \\frac{1}{\\sqrt{2}} \\\\\n",
    "    \\frac{1}{\\sqrt{2}} & -\\frac{1}{\\sqrt{2}}\n",
    "    \\end{bmatrix}.\n",
    "$$\n",
    "考慮方程式 $-x^2 -y^2 + 10xy = 1$。"
   ]
  },
  {
   "cell_type": "markdown",
   "metadata": {},
   "source": [
    "##### Exercise 2(c)\n",
    "\n",
    "已知  \n",
    "$$\n",
    "    \\begin{bmatrix}\n",
    "    2 & 0 \\\\\n",
    "    0 & 0\n",
    "    \\end{bmatrix}\n",
    "    = \n",
    "    \\begin{bmatrix}\n",
    "    \\frac{1}{\\sqrt{2}} & \\frac{1}{\\sqrt{2}} \\\\\n",
    "    \\frac{1}{\\sqrt{2}} & -\\frac{1}{\\sqrt{2}}\n",
    "    \\end{bmatrix}^{-1}\n",
    "    \\begin{bmatrix}\n",
    "    1 & 1 \\\\\n",
    "    1 & 1\n",
    "    \\end{bmatrix}\n",
    "    \\begin{bmatrix}\n",
    "    \\frac{1}{\\sqrt{2}} & \\frac{1}{\\sqrt{2}} \\\\\n",
    "    \\frac{1}{\\sqrt{2}} & -\\frac{1}{\\sqrt{2}}\n",
    "    \\end{bmatrix}.\n",
    "$$\n",
    "考慮方程式 $x^2 + y^2 + 2xy = 1$。"
   ]
  },
  {
   "cell_type": "markdown",
   "metadata": {},
   "source": [
    "##### Exercise 3\n",
    "\n",
    "描述以下方程式的解集合的形狀。"
   ]
  },
  {
   "cell_type": "markdown",
   "metadata": {},
   "source": [
    "##### Exercise 3(a)\n",
    "\n",
    "已知  \n",
    "$$\n",
    "    \\begin{bmatrix}\n",
    "    3 & 0 & 0 \\\\\n",
    "    0 & 4 & 0 \\\\\n",
    "    0 & 0 & 6\n",
    "    \\end{bmatrix}\n",
    "    = \n",
    "    \\begin{bmatrix}\n",
    "    \\frac{1}{\\sqrt{3}} & \\frac{1}{\\sqrt{2}} & \\frac{1}{\\sqrt{6}} \\\\\n",
    "    \\frac{1}{\\sqrt{3}} & -\\frac{1}{\\sqrt{2}} & \\frac{1}{\\sqrt{6}} \\\\\n",
    "    \\frac{1}{\\sqrt{3}} & 0 & -\\frac{2}{\\sqrt{6}}\n",
    "    \\end{bmatrix}^{-1}\n",
    "    \\begin{bmatrix}\n",
    "    4 & 0 & -1 \\\\\n",
    "    0 & 4 & -1 \\\\\n",
    "    -1 & -1 & 5\n",
    "    \\end{bmatrix}\n",
    "    \\begin{bmatrix}\n",
    "    \\frac{1}{\\sqrt{3}} & \\frac{1}{\\sqrt{2}} & \\frac{1}{\\sqrt{6}} \\\\\n",
    "    \\frac{1}{\\sqrt{3}} & -\\frac{1}{\\sqrt{2}} & \\frac{1}{\\sqrt{6}} \\\\\n",
    "    \\frac{1}{\\sqrt{3}} & 0 & -\\frac{2}{\\sqrt{6}}\n",
    "    \\end{bmatrix}.\n",
    "$$\n",
    "考慮方程式 $4x^2 + 4y^2 + 5z^2 - 2xz - 2yz = 1$。"
   ]
  },
  {
   "cell_type": "markdown",
   "metadata": {},
   "source": [
    "##### Exercise 3(b)\n",
    "\n",
    "已知  \n",
    "$$\n",
    "    \\begin{bmatrix}\n",
    "    3 & 0 & 0 \\\\\n",
    "    0 & 4 & 0 \\\\\n",
    "    0 & 0 & -6\n",
    "    \\end{bmatrix}\n",
    "    = \n",
    "    \\begin{bmatrix}\n",
    "    \\frac{1}{\\sqrt{3}} & \\frac{1}{\\sqrt{2}} & \\frac{1}{\\sqrt{6}} \\\\\n",
    "    \\frac{1}{\\sqrt{3}} & -\\frac{1}{\\sqrt{2}} & \\frac{1}{\\sqrt{6}} \\\\\n",
    "    \\frac{1}{\\sqrt{3}} & 0 & -\\frac{2}{\\sqrt{6}}\n",
    "    \\end{bmatrix}^{-1}\n",
    "    \\begin{bmatrix}\n",
    "    2 & -2 & 3 \\\\\n",
    "    -2 & 2 & 3 \\\\\n",
    "    3 & 3 & -3\n",
    "    \\end{bmatrix}\n",
    "    \\begin{bmatrix}\n",
    "    \\frac{1}{\\sqrt{3}} & \\frac{1}{\\sqrt{2}} & \\frac{1}{\\sqrt{6}} \\\\\n",
    "    \\frac{1}{\\sqrt{3}} & -\\frac{1}{\\sqrt{2}} & \\frac{1}{\\sqrt{6}} \\\\\n",
    "    \\frac{1}{\\sqrt{3}} & 0 & -\\frac{2}{\\sqrt{6}}\n",
    "    \\end{bmatrix}.\n",
    "$$\n",
    "考慮方程式 $2x^2 + 2y^2 - 3z^2 - 4xy + 6xz + 6yz = 1$。"
   ]
  },
  {
   "cell_type": "markdown",
   "metadata": {},
   "source": [
    "##### Exercise 4\n",
    "\n",
    "令 $D$ 為一對角矩陣，  \n",
    "$n_+$、$n_-$、$n_0$ 分別為 $D$ 的對角線上正的、負的、為零的元素的個數。\n",
    "考慮  \n",
    "$$\n",
    "    \\begin{bmatrix} x & y \\end{bmatrix}\n",
    "    D\n",
    "    \\begin{bmatrix} x \\\\ y \\end{bmatrix} = \\begin{bmatrix} 1 \\end{bmatrix}  \n",
    "$$  \n",
    "的解集合。\n",
    "完成以下表格。  \n",
    "\n",
    "| $n_+$ | $n_-$ | $n_0$ | 解集合形狀 |\n",
    "|-------|-------|-------|------------|\n",
    "|2      |0      |0      |            |\n",
    "|0      |2      |0      |            |\n",
    "|0      |0      |2      |            |\n",
    "|1      |1      |0      |            |\n",
    "|1      |0      |1      |            |\n",
    "|0      |1      |1      |            |\n"
   ]
  },
  {
   "cell_type": "markdown",
   "metadata": {},
   "source": [
    "##### Exercise 5(a)\n",
    "\n",
    "以矩陣運算說明 \n",
    "$$\n",
    "    Q^{-1}AQ + Q^{-1}BQ = Q^{-1}(A + B)Q.\n",
    "$$"
   ]
  },
  {
   "cell_type": "markdown",
   "metadata": {},
   "source": [
    "##### Exercise 5(b)\n",
    "\n",
    "利用 $f_A + f_B = f_{A + B}$ 的性質說明 \n",
    "$$\n",
    "    Q^{-1}AQ + Q^{-1}BQ = Q^{-1}(A + B)Q.\n",
    "$$"
   ]
  },
  {
   "cell_type": "markdown",
   "metadata": {},
   "source": [
    "##### Exercise 5(c)\n",
    "\n",
    "以矩陣運算說明 \n",
    "$$\n",
    "    (Q^{-1}AQ)^n = Q^{-1}A^nQ.\n",
    "$$"
   ]
  },
  {
   "cell_type": "markdown",
   "metadata": {},
   "source": [
    "##### Exercise 5(d)\n",
    "\n",
    "利用 $f_A \\circ \\cdots \\circ f_A = f_{A^n}$ 的性質說明 \n",
    "$$\n",
    "    (Q^{-1}AQ)^n = Q^{-1}A^nQ,\n",
    "$$\n",
    "其中 $f_A \\circ \\cdots \\circ f_A$ 是指將 $f_A$ 函數和自己合成 $n$ 次。"
   ]
  },
  {
   "cell_type": "markdown",
   "metadata": {},
   "source": [
    "##### Exercise 5(e)\n",
    "\n",
    "說明若 $A$ 可逆，則  \n",
    "$$\n",
    "    (Q^{-1}AQ)^{-1} = Q^{-1}A^{-1}Q.\n",
    "$$"
   ]
  },
  {
   "cell_type": "markdown",
   "metadata": {},
   "source": [
    "##### Exercise 6\n",
    "\n",
    "對以下矩陣 $A$，利用 5c 的結果計算 $A^n$。"
   ]
  },
  {
   "cell_type": "markdown",
   "metadata": {},
   "source": [
    "##### Exercise 6(a)\n",
    "\n",
    "$$\n",
    "    A = \\begin{bmatrix}\n",
    "    0 & 1 \\\\\n",
    "    -6 & 5\n",
    "    \\end{bmatrix}.\n",
    "$$\n",
    "（參考 2d。）"
   ]
  },
  {
   "cell_type": "markdown",
   "metadata": {},
   "source": [
    "##### Exercise 6(b)\n",
    "\n",
    "$$\n",
    "    A = \\begin{bmatrix}\n",
    "    0 & 1 \\\\\n",
    "    -4 & 4\n",
    "    \\end{bmatrix}.\n",
    "$$\n",
    "（參考 3b。）"
   ]
  },
  {
   "cell_type": "markdown",
   "metadata": {},
   "source": [
    "##### Exercise 7\n",
    "\n",
    "令 $A$ 及 $B$ 為兩 $n\\times n$ 矩陣，而 $Q$ 為一 $n\\times n$ 可逆矩陣。  \n",
    "若 $Q^{-1}AQ$ 和 $Q^{-1}BQ$ 都是對角矩陣，證明 $AB = BA$。"
   ]
  }
 ],
 "metadata": {
  "kernelspec": {
   "display_name": "SageMath 9.4",
   "language": "sage",
   "name": "sagemath"
  },
  "language_info": {
   "codemirror_mode": {
    "name": "ipython",
    "version": 3
   },
   "file_extension": ".py",
   "mimetype": "text/x-python",
   "name": "python",
   "nbconvert_exporter": "python",
   "pygments_lexer": "ipython3",
   "version": "3.10.1"
  }
 },
 "nbformat": 4,
 "nbformat_minor": 4
}
