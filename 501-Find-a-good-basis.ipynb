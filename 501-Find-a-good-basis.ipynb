{
 "cells": [
  {
   "cell_type": "markdown",
   "metadata": {},
   "source": [
    "# 找一組好基底"
   ]
  },
  {
   "cell_type": "markdown",
   "metadata": {},
   "source": [
    "![Creative Commons License](https://i.creativecommons.org/l/by/4.0/88x31.png)  \n",
    "This work by Jephian Lin is licensed under a [Creative Commons Attribution 4.0 International License](http://creativecommons.org/licenses/by/4.0/)."
   ]
  },
  {
   "cell_type": "markdown",
   "metadata": {},
   "source": [
    "$\\newcommand{\\trans}{^\\top}\n",
    "\\newcommand{\\adj}{^{\\rm adj}}\n",
    "\\newcommand{\\cof}{^{\\rm cof}}\n",
    "\\newcommand{\\inp}[2]{\\left\\langle#1,#2\\right\\rangle}\n",
    "\\newcommand{\\dunion}{\\mathbin{\\dot\\cup}}\n",
    "\\newcommand{\\bzero}{\\mathbf{0}}\n",
    "\\newcommand{\\bone}{\\mathbf{1}}\n",
    "\\newcommand{\\ba}{\\mathbf{a}}\n",
    "\\newcommand{\\bb}{\\mathbf{b}}\n",
    "\\newcommand{\\bc}{\\mathbf{c}}\n",
    "\\newcommand{\\bd}{\\mathbf{d}}\n",
    "\\newcommand{\\be}{\\mathbf{e}}\n",
    "\\newcommand{\\bh}{\\mathbf{h}}\n",
    "\\newcommand{\\bp}{\\mathbf{p}}\n",
    "\\newcommand{\\bq}{\\mathbf{q}}\n",
    "\\newcommand{\\br}{\\mathbf{r}}\n",
    "\\newcommand{\\bx}{\\mathbf{x}}\n",
    "\\newcommand{\\by}{\\mathbf{y}}\n",
    "\\newcommand{\\bz}{\\mathbf{z}}\n",
    "\\newcommand{\\bu}{\\mathbf{u}}\n",
    "\\newcommand{\\bv}{\\mathbf{v}}\n",
    "\\newcommand{\\bw}{\\mathbf{w}}\n",
    "\\newcommand{\\tr}{\\operatorname{tr}}\n",
    "\\newcommand{\\nul}{\\operatorname{null}}\n",
    "\\newcommand{\\rank}{\\operatorname{rank}}\n",
    "%\\newcommand{\\ker}{\\operatorname{ker}}\n",
    "\\newcommand{\\range}{\\operatorname{range}}\n",
    "\\newcommand{\\Col}{\\operatorname{Col}}\n",
    "\\newcommand{\\Row}{\\operatorname{Row}}\n",
    "\\newcommand{\\spec}{\\operatorname{spec}}\n",
    "\\newcommand{\\vspan}{\\operatorname{span}}\n",
    "\\newcommand{\\Vol}{\\operatorname{Vol}}\n",
    "\\newcommand{\\sgn}{\\operatorname{sgn}}\n",
    "\\newcommand{\\idmap}{\\operatorname{id}}$"
   ]
  },
  {
   "cell_type": "code",
   "execution_count": null,
   "metadata": {},
   "outputs": [],
   "source": [
    "from lingeo import random_int_list, random_good_matrix"
   ]
  },
  {
   "cell_type": "markdown",
   "metadata": {},
   "source": [
    "## Main idea"
   ]
  },
  {
   "cell_type": "markdown",
   "metadata": {},
   "source": [
    "Let $A$ be an $n\\times n$ matrix.  \n",
    "Recall that $f_A:\\mathbb{R}^n \\rightarrow \\mathbb{R}^n$ is the function defined by $f_A(\\bx) = A\\bx$.  \n",
    "Using the standard basis $\\mathcal{E}_n$, the matrix representation of $f_A$ is  \n",
    "$$\n",
    "    [f_A] = [f_A]_{\\mathcal{E}_n}^{\\mathcal{E}_n} = A.\n",
    "$$"
   ]
  },
  {
   "cell_type": "markdown",
   "metadata": {},
   "source": [
    "In constrast, the matrix representation of $f_A$ with respect to another basis $\\beta$ is  \n",
    "$$\n",
    "    [f_A]_\\beta^\\beta = [\\idmap]_{\\mathcal{E}_n}^\\beta [f_A] [\\idmap]_\\beta^{\\mathcal{E}_n}.\n",
    "$$\n",
    "If we let $Q = [\\idmap]_\\beta^{\\mathcal{E}_n}$, then the columns of $Q$ are the vectors in $\\beta$.  \n",
    "Also, we can write, $[f_A]_\\beta^\\beta = Q^{-1}AQ$."
   ]
  },
  {
   "cell_type": "markdown",
   "metadata": {},
   "source": [
    "On a matrix level, we say $A$ and $B$ are **similar** if there is an invertible matrix $Q$ such that $B = Q^{-1}AQ$.  \n",
    "In other words, $A$ and $B$ are just the same linear function represented under different bases.  "
   ]
  },
  {
   "cell_type": "markdown",
   "metadata": {},
   "source": [
    "Suppose $\\beta = \\{\\bv_1, \\ldots, \\bv_n\\}$ has the nice property that  \n",
    "$$\n",
    "    A\\bv_i = \\lambda_i \\bv_i\n",
    "$$\n",
    "for some values $\\lambda_i$ and for $i = 1,\\ldots, n$.  \n",
    "\n",
    "Then we know  \n",
    "$$\n",
    "    [f_A]_\\beta^\\beta = \n",
    "    \\begin{bmatrix}\n",
    "     | & ~ & | \\\\\n",
    "     [f_A(\\bv_1)]_\\beta & \\cdots & [f_A(\\bv_n)]_\\beta \\\\\n",
    "     | & ~ & | \\\\\n",
    "    \\end{bmatrix} = \n",
    "    \\begin{bmatrix}\n",
    "     | & ~ & | \\\\\n",
    "     [\\lambda_1\\bv_1]_\\beta & \\cdots & [\\lambda_n\\bv_n]_\\beta \\\\\n",
    "     | & ~ & | \\\\\n",
    "    \\end{bmatrix} = \n",
    "    \\begin{bmatrix}\n",
    "     \\lambda_1 & ~ & ~ \\\\\n",
    "     ~ & \\ddots & ~ \\\\\n",
    "     ~ & ~ & \\lambda_n\n",
    "    \\end{bmatrix},\n",
    "$$\n",
    "which is a diagonal matrix.  \n",
    "In this case, we say $A$ is **diagonalizable**.  \n",
    "Whenever $A\\bv = \\lambda\\bv$ for some value $\\lambda$ and some nonzero vector $\\bv$,  \n",
    "we say $\\lambda$ is an **eigenvalue** of $A$ and  \n",
    "$\\bv$ is an **eigenvector** of $A$ with respect to $\\lambda$.  "
   ]
  },
  {
   "cell_type": "markdown",
   "metadata": {},
   "source": [
    "##### Proposition\n",
    "\n",
    "Let $A$ be an $n\\times n$ matrix.  Then the following are equivalent.  \n",
    "\n",
    "- $A$ is diagonalizable.  \n",
    "- There is a basis $\\beta$ of $\\mathbb{R}^n$ that is composed of eigenvectors.\n",
    "- There are an invertible matrix $Q$ and a diagonal matrix $D$ such that $D = Q^{-1}AQ$.  "
   ]
  },
  {
   "cell_type": "markdown",
   "metadata": {},
   "source": [
    "When $A$ is a real symmetric matrix (meaning $A\\trans = A$), such a nice basis exists;  \n",
    "moreover, it can be chosen to be orthonormal, so the corresponding $Q$ has $Q\\trans = Q^{-1}$.  "
   ]
  },
  {
   "cell_type": "markdown",
   "metadata": {},
   "source": [
    "##### Spectral theorem (vector version)\n",
    "\n",
    "Let $A$ be an $n\\times n$ symmetric matrix.  \n",
    "Then there is an orthonormal basis $\\beta$ of $\\mathbb{R}^n$ such that $[f_A]_\\beta^\\beta = D$ is a diagonal matrix.  \n",
    "That is, there is an orthogonal matrix $Q$ such that $Q^\\top AQ = D$ is a diagonal matrix.  "
   ]
  },
  {
   "cell_type": "markdown",
   "metadata": {},
   "source": [
    "## Side stories\n",
    "\n",
    "- Jordan canonical form\n",
    "- algebra of $Q^{-1}AQ$\n",
    "- matrix power\n",
    "- simultaneously diagonalizable"
   ]
  },
  {
   "cell_type": "markdown",
   "metadata": {},
   "source": [
    "## Experiments"
   ]
  },
  {
   "cell_type": "markdown",
   "metadata": {},
   "source": [
    "##### Exercise 1\n",
    "\n",
    "執行以下程式碼。  \n",
    "令 $\\beta = \\{\\bv_1, \\cdots, \\bv_n\\}$ 為 $Q$ 的各行向量。"
   ]
  },
  {
   "cell_type": "code",
   "execution_count": null,
   "metadata": {
    "scrolled": false
   },
   "outputs": [],
   "source": [
    "### code\n",
    "set_random_seed(0)\n",
    "print_ans = False\n",
    "\n",
    "n = 3\n",
    "D = diagonal_matrix(random_int_list(n, 3))\n",
    "Q = random_good_matrix(n,n,n, 2)\n",
    "A = Q * D * Q.inverse()\n",
    "\n",
    "pretty_print(LatexExpr(\"A =\"), A)\n",
    "pretty_print(LatexExpr(\"Q =\"), Q)\n",
    "\n",
    "\n",
    "if print_ans:\n",
    "    v1, v2, v3 = Q.columns()\n",
    "    u1, u2, u3 = D.columns()\n",
    "    print(\"f_A(v1) =\", A * v1)\n",
    "    print(\"vector representation =\", u1)\n",
    "    print(\"f_A(v1) =\", A * v2)\n",
    "    print(\"vector representation =\", u2)\n",
    "    print(\"f_A(v1) =\", A * v3)\n",
    "    print(\"vector representation =\", u3)\n",
    "    print(\"matrix represesntation =\")\n",
    "    pretty_print(D)"
   ]
  },
  {
   "cell_type": "markdown",
   "metadata": {},
   "source": [
    "##### Exercise 1(a)\n",
    "\n",
    "求 $f_A(\\bv_1)$ 及 $[f_A(\\bv_1)]_\\beta$。"
   ]
  },
  {
   "cell_type": "markdown",
   "metadata": {},
   "source": [
    "##### Exercise 1(b)\n",
    "\n",
    "求 $f_A(\\bv_2)$ 及 $[f_A(\\bv_2)]_\\beta$。"
   ]
  },
  {
   "cell_type": "markdown",
   "metadata": {},
   "source": [
    "##### Exercise 1(c)\n",
    "\n",
    "求 $f_A(\\bv_3)$ 及 $[f_A(\\bv_3)]_\\beta$。"
   ]
  },
  {
   "cell_type": "markdown",
   "metadata": {},
   "source": [
    "##### Exercise 1(d)\n",
    "\n",
    "求 $[f_A]_\\beta^\\beta$。"
   ]
  },
  {
   "cell_type": "markdown",
   "metadata": {},
   "source": [
    "## Exercises"
   ]
  },
  {
   "cell_type": "markdown",
   "metadata": {},
   "source": [
    "##### Exercise 2\n",
    "\n",
    "對以下的矩陣 $A$ 及基底 $\\beta$，  \n",
    "求出 $[f_A]_\\beta^\\beta$。  "
   ]
  },
  {
   "cell_type": "markdown",
   "metadata": {},
   "source": [
    "##### Exercise 2(a)\n",
    "\n",
    "$$\n",
    "    A = \\begin{bmatrix}\n",
    "    5 & -1 \\\\\n",
    "    -1 & 5\n",
    "    \\end{bmatrix}\n",
    "    \\quad\\text{and}\\quad\n",
    "    \\beta = \\left\\{\n",
    "    \\begin{bmatrix} 1 \\\\ 1 \\end{bmatrix}, \n",
    "    \\begin{bmatrix} 1 \\\\ -1 \\end{bmatrix}\n",
    "    \\right\\}.\n",
    "$$"
   ]
  },
  {
   "cell_type": "markdown",
   "metadata": {},
   "source": [
    "##### Exercise 2(b)\n",
    "\n",
    "$$\n",
    "    A = \\begin{bmatrix}\n",
    "    -1 & 5 \\\\\n",
    "    5 & -1\n",
    "    \\end{bmatrix}\n",
    "    \\quad\\text{and}\\quad\n",
    "    \\beta = \\left\\{\n",
    "    \\begin{bmatrix} 1 \\\\ 1 \\end{bmatrix}, \n",
    "    \\begin{bmatrix} 1 \\\\ -1 \\end{bmatrix}\n",
    "    \\right\\}.\n",
    "$$"
   ]
  },
  {
   "cell_type": "markdown",
   "metadata": {},
   "source": [
    "##### Exercise 2(c)\n",
    "\n",
    "$$\n",
    "    A = \\begin{bmatrix}\n",
    "    1 & 1 \\\\\n",
    "    1 & 1\n",
    "    \\end{bmatrix}\n",
    "    \\quad\\text{and}\\quad\n",
    "    \\beta = \\left\\{\n",
    "    \\begin{bmatrix} 1 \\\\ 1 \\end{bmatrix}, \n",
    "    \\begin{bmatrix} 1 \\\\ -1 \\end{bmatrix}\n",
    "    \\right\\}.\n",
    "$$"
   ]
  },
  {
   "cell_type": "markdown",
   "metadata": {},
   "source": [
    "##### Exercise 2(d)\n",
    "\n",
    "$$\n",
    "    A = \\begin{bmatrix}\n",
    "    0 & 1 \\\\\n",
    "    -6 & 5\n",
    "    \\end{bmatrix}\n",
    "    \\quad\\text{and}\\quad\n",
    "    \\beta = \\left\\{\n",
    "    \\begin{bmatrix} 1 \\\\ 3 \\end{bmatrix}, \n",
    "    \\begin{bmatrix} 1 \\\\ 2 \\end{bmatrix}\n",
    "    \\right\\}.\n",
    "$$"
   ]
  },
  {
   "cell_type": "markdown",
   "metadata": {},
   "source": [
    "##### Exercise 2(e)\n",
    "\n",
    "$$\n",
    "    A = \\begin{bmatrix}\n",
    "    0 & 1 \\\\\n",
    "    -4 & 0\n",
    "    \\end{bmatrix}\n",
    "    \\quad\\text{and}\\quad\n",
    "    \\beta = \\left\\{\n",
    "    \\begin{bmatrix} 1 \\\\ 2 \\end{bmatrix}, \n",
    "    \\begin{bmatrix} 1 \\\\ -2 \\end{bmatrix}\n",
    "    \\right\\}.\n",
    "$$"
   ]
  },
  {
   "cell_type": "markdown",
   "metadata": {},
   "source": [
    "##### Exercise 3\n",
    "\n",
    "以下練習說明有些時候儘管矩陣無法對角化，  \n",
    "還是可以把 $[f_A]_\\beta^\\beta$ 化成一定簡單的形式。  \n",
    "未來會學到這些例子叫喬丹標準型。\n",
    "\n",
    "對以下的矩陣 $A$ 及基底 $\\beta$，  \n",
    "求出 $[f_A]_\\beta^\\beta$。  "
   ]
  },
  {
   "cell_type": "markdown",
   "metadata": {},
   "source": [
    "##### Exercise 3(a)\n",
    "\n",
    "$$\n",
    "    A = \\begin{bmatrix}\n",
    "    \\frac{1}{2} & -\\frac{1}{2} \\\\\n",
    "    \\frac{1}{2} & -\\frac{1}{2}\n",
    "    \\end{bmatrix}\n",
    "    \\quad\\text{and}\\quad\n",
    "    \\beta = \\left\\{\n",
    "    \\begin{bmatrix} 1 \\\\ 1 \\end{bmatrix}, \n",
    "    \\begin{bmatrix} 1 \\\\ -1 \\end{bmatrix}\n",
    "    \\right\\}.\n",
    "$$"
   ]
  },
  {
   "cell_type": "markdown",
   "metadata": {},
   "source": [
    "##### Exercise 3(b)\n",
    "\n",
    "$$\n",
    "    A = \\begin{bmatrix}\n",
    "    0 & 1 \\\\\n",
    "    -4 & 4\n",
    "    \\end{bmatrix}\n",
    "    \\quad\\text{and}\\quad\n",
    "    \\beta = \\left\\{\n",
    "    \\begin{bmatrix} 2 \\\\ 4 \\end{bmatrix}, \n",
    "    \\begin{bmatrix} -1 \\\\ 0 \\end{bmatrix}\n",
    "    \\right\\}.\n",
    "$$"
   ]
  },
  {
   "cell_type": "markdown",
   "metadata": {},
   "source": [
    "##### Exercise 3(c)\n",
    "\n",
    "$$\n",
    "    A = \\begin{bmatrix}\n",
    "    0 & 1 \\\\\n",
    "    -9 & 6\n",
    "    \\end{bmatrix}\n",
    "    \\quad\\text{and}\\quad\n",
    "    \\beta = \\left\\{\n",
    "    \\begin{bmatrix} 3 \\\\ 9 \\end{bmatrix}, \n",
    "    \\begin{bmatrix} -1 \\\\ 0 \\end{bmatrix}\n",
    "    \\right\\}.\n",
    "$$"
   ]
  },
  {
   "cell_type": "markdown",
   "metadata": {},
   "source": [
    "##### Exercise 4\n",
    "\n",
    "對以下的矩陣 $A$ 及基底 $\\beta$，  \n",
    "求出 $[f_A]_\\beta^\\beta$。  "
   ]
  },
  {
   "cell_type": "markdown",
   "metadata": {},
   "source": [
    "##### Exercise 4(a)\n",
    "\n",
    "$$\n",
    "    A = \\begin{bmatrix}\n",
    "    4 & 0 & -1 \\\\\n",
    "    0 & 4 & -1 \\\\\n",
    "    -1 & -1 & 5\n",
    "    \\end{bmatrix}\n",
    "    \\quad\\text{and}\\quad\n",
    "    \\beta = \\left\\{\n",
    "    \\begin{bmatrix} 1 \\\\ 1 \\\\ 1 \\end{bmatrix}, \n",
    "    \\begin{bmatrix} 1 \\\\ -1 \\\\ 0 \\end{bmatrix},\n",
    "    \\begin{bmatrix} 1 \\\\ 1 \\\\ -2 \\end{bmatrix}\n",
    "    \\right\\}.\n",
    "$$"
   ]
  },
  {
   "cell_type": "markdown",
   "metadata": {},
   "source": [
    "##### Exercise 4(b)\n",
    "\n",
    "$$\n",
    "    A = \\begin{bmatrix}\n",
    "    2 & -2 & 3 \\\\\n",
    "    -2 & 2 & 3 \\\\\n",
    "    3 & 3 & -3\n",
    "    \\end{bmatrix}\n",
    "    \\quad\\text{and}\\quad\n",
    "    \\beta = \\left\\{\n",
    "    \\begin{bmatrix} 1 \\\\ 1 \\\\ 1 \\end{bmatrix}, \n",
    "    \\begin{bmatrix} 1 \\\\ -1 \\\\ 0 \\end{bmatrix},\n",
    "    \\begin{bmatrix} 1 \\\\ 1 \\\\ -2 \\end{bmatrix}\n",
    "    \\right\\}.\n",
    "$$"
   ]
  },
  {
   "cell_type": "markdown",
   "metadata": {},
   "source": [
    "##### Exercise 4(c)\n",
    "\n",
    "$$\n",
    "    A = \\begin{bmatrix}\n",
    "    0 & 1 & 0 \\\\\n",
    "    0 & 0 & 1 \\\\\n",
    "    6 & -11 & 6\n",
    "    \\end{bmatrix}\n",
    "    \\quad\\text{and}\\quad\n",
    "    \\beta = \\left\\{\n",
    "    \\begin{bmatrix} 1 \\\\ 3 \\\\ 9 \\end{bmatrix}, \n",
    "    \\begin{bmatrix} 1 \\\\ 2 \\\\ 4 \\end{bmatrix},\n",
    "    \\begin{bmatrix} 1 \\\\ 1 \\\\ 1 \\end{bmatrix}\n",
    "    \\right\\}.\n",
    "$$"
   ]
  },
  {
   "cell_type": "markdown",
   "metadata": {},
   "source": [
    "##### Exercise 5\n",
    "\n",
    "令 $A$ 及 $B$ 為兩 $n\\times n$ 矩陣，而 $Q$ 為一 $n\\times n$ 可逆矩陣。"
   ]
  },
  {
   "cell_type": "markdown",
   "metadata": {},
   "source": [
    "##### Exercise 5(a)\n",
    "\n",
    "以矩陣運算說明 \n",
    "$$\n",
    "    Q^{-1}AQ + Q^{-1}BQ = Q^{-1}(A + B)Q.\n",
    "$$"
   ]
  },
  {
   "cell_type": "markdown",
   "metadata": {},
   "source": [
    "##### Exercise 5(b)\n",
    "\n",
    "利用 $f_A + f_B = f_{A + B}$ 的性質說明 \n",
    "$$\n",
    "    Q^{-1}AQ + Q^{-1}BQ = Q^{-1}(A + B)Q.\n",
    "$$"
   ]
  },
  {
   "cell_type": "markdown",
   "metadata": {},
   "source": [
    "##### Exercise 5(c)\n",
    "\n",
    "以矩陣運算說明 \n",
    "$$\n",
    "    (Q^{-1}AQ)^n = Q^{-1}A^nQ.\n",
    "$$"
   ]
  },
  {
   "cell_type": "markdown",
   "metadata": {},
   "source": [
    "##### Exercise 5(d)\n",
    "\n",
    "利用 $f_A \\circ \\cdots \\circ f_A = f_{A^n}$ 的性質說明 \n",
    "$$\n",
    "    (Q^{-1}AQ)^n = Q^{-1}A^nQ,\n",
    "$$\n",
    "其中 $f_A \\circ \\cdots \\circ f_A$ 是指將 $f_A$ 函數和自己合成 $n$ 次。"
   ]
  },
  {
   "cell_type": "markdown",
   "metadata": {},
   "source": [
    "##### Exercise 5(e)\n",
    "\n",
    "說明若 $A$ 可逆，則  \n",
    "$$\n",
    "    (Q^{-1}AQ)^{-1} = Q^{-1}A^{-1}Q.\n",
    "$$"
   ]
  },
  {
   "cell_type": "markdown",
   "metadata": {},
   "source": [
    "##### Exercise 6\n",
    "\n",
    "對以下矩陣 $A$，利用 5c 的結果計算 $A^n$。"
   ]
  },
  {
   "cell_type": "markdown",
   "metadata": {},
   "source": [
    "##### Exercise 6(a)\n",
    "\n",
    "$$\n",
    "    A = \\begin{bmatrix}\n",
    "    0 & 1 \\\\\n",
    "    -6 & 5\n",
    "    \\end{bmatrix}.\n",
    "$$\n",
    "（參考 2d。）"
   ]
  },
  {
   "cell_type": "markdown",
   "metadata": {},
   "source": [
    "##### Exercise 6(b)\n",
    "\n",
    "$$\n",
    "    A = \\begin{bmatrix}\n",
    "    0 & 1 \\\\\n",
    "    -4 & 4\n",
    "    \\end{bmatrix}.\n",
    "$$\n",
    "（參考 3b。）"
   ]
  },
  {
   "cell_type": "markdown",
   "metadata": {},
   "source": [
    "##### Exercise 7\n",
    "\n",
    "令 $A$ 及 $B$ 為兩 $n\\times n$ 矩陣，而 $Q$ 為一 $n\\times n$ 可逆矩陣。  \n",
    "若 $Q^{-1}AQ$ 和 $Q^{-1}BQ$ 都是對角矩陣，證明 $AB = BA$。"
   ]
  }
 ],
 "metadata": {
  "kernelspec": {
   "display_name": "SageMath 9.4",
   "language": "sage",
   "name": "sagemath"
  },
  "language_info": {
   "codemirror_mode": {
    "name": "ipython",
    "version": 3
   },
   "file_extension": ".py",
   "mimetype": "text/x-python",
   "name": "python",
   "nbconvert_exporter": "python",
   "pygments_lexer": "ipython3",
   "version": "3.10.1"
  }
 },
 "nbformat": 4,
 "nbformat_minor": 4
}
