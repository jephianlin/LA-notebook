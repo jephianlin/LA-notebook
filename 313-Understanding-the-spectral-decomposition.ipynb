{
 "cells": [
  {
   "cell_type": "markdown",
   "metadata": {},
   "source": [
    "# 西爾維斯特矩陣、結式"
   ]
  },
  {
   "cell_type": "markdown",
   "metadata": {},
   "source": [
    "![Creative Commons License](https://i.creativecommons.org/l/by/4.0/88x31.png)  \n",
    "This work by Jephian Lin is licensed under a [Creative Commons Attribution 4.0 International License](http://creativecommons.org/licenses/by/4.0/)."
   ]
  },
  {
   "cell_type": "code",
   "execution_count": null,
   "metadata": {},
   "outputs": [],
   "source": [
    "from lingeo import random_int_list"
   ]
  },
  {
   "cell_type": "markdown",
   "metadata": {},
   "source": [
    "## Main idea"
   ]
  },
  {
   "cell_type": "markdown",
   "metadata": {},
   "source": [
    "Let $A$ be an $n\\times n$ matrix and  \n",
    "$f_A : \\mathbb{R}^n\\rightarrow\\mathbb{R}^n$ the corresponding linear function defined by $f({\\bf v}) = A{\\bf v}$. Let $\\mathcal{E}_n$ be the standard basis of $\\mathbb{R}^n$.  \n",
    "Then $[f_A] = [f_A]_{\\mathcal{E}_n}^{\\mathcal{E}_n} = A$.  "
   ]
  },
  {
   "cell_type": "markdown",
   "metadata": {},
   "source": [
    "Let $\\beta$ be another basis of $\\mathcal{R}^n$ and $Q = [\\operatorname{id}]_\\beta^{\\mathcal{E}_n}$.  \n",
    "Then $[f_A]_\\beta^\\beta = Q^{-1}AQ$.  "
   ]
  },
  {
   "cell_type": "markdown",
   "metadata": {},
   "source": [
    "##### Spectral theorem (vector version)\n",
    "\n",
    "Let $A$ be an $n\\times n$ symmetric matrix.  \n",
    "Then there is an orthonormal basis $\\beta$ of $\\mathbb{R}^n$ such that $[f_A]_\\beta^\\beta = D$ is a diagonal matrix.  \n",
    "That is, there is an orthogonal matrix $Q$ such that $Q^\\top AQ = D$ is a diagonal matrix.  "
   ]
  },
  {
   "cell_type": "markdown",
   "metadata": {},
   "source": [
    "Let $\\beta = \\{ {\\bf v}_1, \\ldots, {\\bf v}_n \\}$ be the basis in the spectral theorem.  \n",
    "Then $Q$ is the matrix whose columns are vectors in $\\beta$.  \n",
    "Since $\\beta$ is orthonormal, $Q$ is orthogonal and $Q^{-1} = Q^\\top$.  "
   ]
  },
  {
   "cell_type": "markdown",
   "metadata": {},
   "source": [
    "Suppose the $D$ matrix in the spectral theorem is \n",
    "$$\\begin{bmatrix}  \n",
    " \\lambda_1 & ~ & ~ \\\\ \n",
    " ~ & \\ddots & ~ \\\\ \n",
    " ~ & ~ & \\lambda_n \\\\ \n",
    "\\end{bmatrix}.$$  \n",
    "By examining $AQ = QD$, we have  \n",
    "$$AQ = \n",
    "A\\begin{bmatrix}\n",
    " | & ~ & | \\\\\n",
    " {\\bf v}_1 & \\cdots & {\\bf v}_n \\\\\n",
    " | & ~ & | \n",
    "\\end{bmatrix} = \n",
    "\\begin{bmatrix}\n",
    " | & ~ & | \\\\\n",
    " \\lambda_1{\\bf v}_1 & \\cdots & \\lambda_n{\\bf v}_n \\\\\n",
    " | & ~ & | \n",
    "\\end{bmatrix} = \n",
    "\\begin{bmatrix}\n",
    " | & ~ & | \\\\\n",
    " {\\bf v}_1 & \\cdots & {\\bf v}_n \\\\\n",
    " | & ~ & | \n",
    "\\end{bmatrix}\n",
    "\\begin{bmatrix}\n",
    " \\lambda_1 & ~ & ~ \\\\\n",
    " ~ & \\ddots & ~ \\\\\n",
    " ~ & ~ & \\lambda_n \n",
    "\\end{bmatrix} = \n",
    "QD.$$ \n",
    "Therefore, $A{\\bf v}_i = \\lambda_i {\\bf v}_i$ for $i = 1,\\ldots, n$.  "
   ]
  },
  {
   "cell_type": "markdown",
   "metadata": {},
   "source": [
    "If a nonzero vector ${\\bf v}$ satisfies $A{\\bf v} = \\lambda{\\bf v}$ for some scalar $\\lambda$, then ${\\bf v}$ is called an **eigenvector** of $A$ and $\\lambda$ is called an **eigenvalue** of $A$.  "
   ]
  },
  {
   "cell_type": "markdown",
   "metadata": {},
   "source": [
    "On the other hand, we may write $A = QDQ^\\top$.  \n",
    "Thus,  \n",
    "$$A = QDQ^\\top = \n",
    "\\begin{bmatrix}\n",
    " | & ~ & | \\\\\n",
    " {\\bf v}_1 & \\cdots & {\\bf v}_n \\\\\n",
    " | & ~ & | \n",
    "\\end{bmatrix}\n",
    "\\begin{bmatrix}  \n",
    " \\lambda_1 & ~ & ~ \\\\ \n",
    " ~ & \\ddots & ~ \\\\ \n",
    " ~ & ~ & \\lambda_n \\\\ \n",
    "\\end{bmatrix}\n",
    "\\begin{bmatrix}\n",
    " - & {\\bf v}_1^\\top & - \\\\\n",
    " ~ & \\vdots & ~\\\\\n",
    " - & {\\bf v}_n^\\top & - \n",
    "\\end{bmatrix} = \n",
    "\\sum_{i = 1}^n \\lambda_i {\\bf v}_i{\\bf v}_i^\\top.$$"
   ]
  },
  {
   "cell_type": "markdown",
   "metadata": {},
   "source": [
    "Suppose $\\{\\lambda_1,\\ldots,\\lambda_n\\}$ only has $q$ distinct values $\\{\\mu_1,\\ldots, \\mu_q\\}$.  \n",
    "For each $j = 1,\\ldots, q$, we may let $\\displaystyle P_j = \\sum_{\\lambda_i = \\mu_j} {\\bf v}_i{\\bf v}_i^\\top$.  \n",
    "Thus, we have the following.  "
   ]
  },
  {
   "cell_type": "markdown",
   "metadata": {},
   "source": [
    "##### Spectral theorem (projection version)\n",
    "\n",
    "Let $A$ be an $n\\times n$ symmetric matrix.  \n",
    "Then there are $q$ distinct values $\\mu_1,\\ldots, \\mu_q$ and $q$ projection matrices $P_1,\\ldots, P_q$ such that  \n",
    "- $A = \\sum_{j=1}^q \\mu_j P_j$,   \n",
    "- $P_iP_j = P_jP_i$ for any $i$ and $j$, and \n",
    "- $\\sum_{j=1}^q P_j = I_n$."
   ]
  },
  {
   "cell_type": "markdown",
   "metadata": {},
   "source": [
    "## Side stories\n",
    "- quadratic form\n",
    "- differential equation\n",
    "- diagonalization for general matrices"
   ]
  },
  {
   "cell_type": "markdown",
   "metadata": {},
   "source": [
    "## Experiments"
   ]
  },
  {
   "cell_type": "markdown",
   "metadata": {},
   "source": [
    "##### Exercise 1\n",
    "\n",
    "執行以下程式碼。  "
   ]
  },
  {
   "cell_type": "code",
   "execution_count": null,
   "metadata": {
    "scrolled": false
   },
   "outputs": [],
   "source": [
    "### code\n",
    "set_random_seed(0)\n",
    "print_ans = False\n",
    "n = 3\n",
    "Q = matrix([\n",
    "    [1 / sqrt(3), 1 / sqrt(2), 1 / sqrt(6)],\n",
    "    [1 / sqrt(3), -1 / sqrt(2), 1 / sqrt(6)],\n",
    "    [1 / sqrt(3), 0, -2 / sqrt(6)]\n",
    "])\n",
    "v = random_int_list(n)\n",
    "D = diagonal_matrix(v)\n",
    "A = Q * D * Q.transpose()\n",
    "\n",
    "cs = random_int_list(n)\n",
    "\n",
    "print(\"A =\")\n",
    "show(A)\n",
    "for i in range(n):\n",
    "    print(\"v%s =\"%(i+1), Q.column(i))\n",
    "print(\"b = \" + \" + \".join(\"%s v%s\"%(cs[i], i+1) for i in range(n))) \n",
    "\n",
    "if print_ans:\n",
    "    for i in range(n):\n",
    "        print(\"A v%s = %s v%s\"%(i+1, v[i], i+1))\n",
    "    print(\"A b = \" + \" + \".join(\"%s v%s\"%(cs[i]*v[i], i+1) for i in range(n))) \n",
    "    print(\"Q =\")\n",
    "    show(Q)\n",
    "    print(\"D =\")\n",
    "    show(D)"
   ]
  },
  {
   "cell_type": "markdown",
   "metadata": {},
   "source": [
    "##### Exercise 1(a)\n",
    "\n",
    "驗證 ${\\bf v}_1, \\ldots, {\\bf v}_3$ 是 $A$ 的特徵向量﹐並找出相對應的特徵值。  "
   ]
  },
  {
   "cell_type": "markdown",
   "metadata": {},
   "source": [
    "##### Exercise 1(b)\n",
    "\n",
    "把 $A{\\bf b}$ 寫成 $\\{{\\bf v}_1, \\ldots, {\\bf v}_3\\}$的線性組合。  "
   ]
  },
  {
   "cell_type": "markdown",
   "metadata": {},
   "source": [
    "##### Exercise 1(c)\n",
    "\n",
    "找出一個垂直矩陣 $A$ 和一個對角矩陣使得 $D = Q^\\top AQ$。  "
   ]
  },
  {
   "cell_type": "markdown",
   "metadata": {},
   "source": [
    "## Exercises"
   ]
  },
  {
   "cell_type": "markdown",
   "metadata": {},
   "source": [
    "##### Exercise 2\n",
    "\n",
    "令 $A$ 為一 $3\\times 3$ 矩陣而  \n",
    "$\\beta = \\{ {\\bf v}_1,\\ldots,{\\bf v}_3 \\}$ 為 $\\mathbb{R}^3$ 的一組基底。  \n",
    "已知  \n",
    "$$[f_A]_\\beta^\\beta = \\begin{bmatrix}  \n",
    " 3 & 0 & 0 \\\\\n",
    " 0 & 4 & 0 \\\\\n",
    " 0 & 0 & 5 \\\\\n",
    "\\end{bmatrix}.$$  \n",
    "將 $A{\\bf v}_1$、$A{\\bf v}_2$、$A{\\bf v}_3$、及 $A({\\bf v}_1 + {\\bf v}_2 + {\\bf v}_3)$ 分別寫成 $\\beta$ 的線性組合。  "
   ]
  },
  {
   "cell_type": "markdown",
   "metadata": {},
   "source": [
    "##### Exercise 3\n",
    "\n",
    "令 \n",
    "$$A = \\begin{bmatrix}  \n",
    " 0 & 1 & 1 \\\\\n",
    " 1 & 0 & 1 \\\\\n",
    " 1 & 1 & 0 \\\\\n",
    "\\end{bmatrix}$$ \n",
    "且 $\\beta = \\{ {\\bf v}_1, \\ldots, {\\bf v}_3 \\}$ 為  \n",
    "$$\\begin{bmatrix}\n",
    " \\frac{1}{\\sqrt{3}} & \\frac{1}{\\sqrt{2}} & \\frac{1}{\\sqrt{6}} \\\\\n",
    " \\frac{1}{\\sqrt{3}} & -\\frac{1}{\\sqrt{2}} & \\frac{1}{\\sqrt{6}} \\\\\n",
    " \\frac{1}{\\sqrt{3}} & 0 & -\\frac{2}{\\sqrt{6}} \\\\\n",
    "\\end{bmatrix}$$\n",
    "的行向量集合。  "
   ]
  },
  {
   "cell_type": "markdown",
   "metadata": {},
   "source": [
    "##### Exercise 3(a)\n",
    "\n",
    "寫出 $[f_A]_\\beta^\\beta$ 並說明 $f_A$ 的作用。  "
   ]
  },
  {
   "cell_type": "markdown",
   "metadata": {},
   "source": [
    "##### Exercise 3(b)\n",
    "\n",
    "找出一個垂直矩陣 $A$ 和一個對角矩陣使得 $D = Q^\\top AQ$。  "
   ]
  },
  {
   "cell_type": "markdown",
   "metadata": {},
   "source": [
    "##### Exercise 3(c)\n",
    "\n",
    "令 $P_1$ 為投影到 $\\operatorname{span}(\\{{\\bf v}_1\\})$ 的投影矩陣、  \n",
    "$P_2$ 為投影到 $\\operatorname{span}(\\{{\\bf v}_2, {\\bf v}_3\\})$ 的投影矩陣。  \n",
    "說明 $P_1 = {\\bf v}_1{\\bf v}_1^\\top$ 且 $P_2 = {\\bf v}_2{\\bf v}_2^\\top + {\\bf v}_3{\\bf v}_3^\\top$。  "
   ]
  },
  {
   "cell_type": "markdown",
   "metadata": {},
   "source": [
    "##### Exercise 3(d)\n",
    "\n",
    "將 $A$ 寫成一些投影矩陣的線性組合﹐並再次說明 $f_A$ 的作用﹐看看是否和第一小題一致。  "
   ]
  },
  {
   "cell_type": "markdown",
   "metadata": {},
   "source": [
    "##### Exercise 4\n",
    "\n",
    "令  \n",
    "$$A = \\begin{bmatrix} \n",
    " 1 & 2 \\\\\n",
    " 2 & 4 \\\\\n",
    "\\end{bmatrix}.$$"
   ]
  },
  {
   "cell_type": "markdown",
   "metadata": {},
   "source": [
    "##### Exercise 4(a)\n",
    "\n",
    "說明要找一個非零向量 ${\\bf v}$ 使得 $A{\\bf v} = \\lambda{\\bf v}$﹐  \n",
    "等同於在 $(A - \\lambda I){\\bf v} = {\\bf 0}$ 中找非零解。  "
   ]
  },
  {
   "cell_type": "markdown",
   "metadata": {},
   "source": [
    "##### Exercise 4(b)\n",
    "\n",
    "方程式 $(A - \\lambda I){\\bf v} = {\\bf 0}$ 有非零解只會發生在 $\\det(A - \\lambda I) = 0$ 的時候。  \n",
    "利用這個性質找出所有可能的 $\\lambda$。  "
   ]
  },
  {
   "cell_type": "markdown",
   "metadata": {},
   "source": [
    "##### Exercise 4(c)\n",
    "\n",
    "對每一個 $\\lambda$ 解出相對應的 ${\\bf v}$。  \n",
    "向量 ${\\bf v}$ 的選擇可能很多﹐把它的長度縮為 $1$。  "
   ]
  },
  {
   "cell_type": "markdown",
   "metadata": {},
   "source": [
    "##### Exercise 4(d)\n",
    "\n",
    "找出一個垂直矩陣 $A$ 和一個對角矩陣使得 $D = Q^\\top AQ$。  "
   ]
  },
  {
   "cell_type": "markdown",
   "metadata": {},
   "source": [
    "##### Exercise 5\n",
    "\n",
    "令  \n",
    "$$A = \\begin{bmatrix} \n",
    " 1 & 2 \\\\ \n",
    " 2 & 1 \\\\\n",
    "\\end{bmatrix}, \n",
    "Q = \\begin{bmatrix}\n",
    " \\frac{1}{\\sqrt{2}} & \\frac{1}{\\sqrt{2}} \\\\\n",
    " \\frac{1}{\\sqrt{2}} & - \\frac{1}{\\sqrt{2}} \\\\\n",
    "\\end{bmatrix}, \n",
    "D = \\begin{bmatrix} \n",
    " 3 & 0 \\\\\n",
    " 0 & -1 \\\\\n",
    "\\end{bmatrix}.$$"
   ]
  },
  {
   "cell_type": "markdown",
   "metadata": {},
   "source": [
    "##### Exercise 5(a)\n",
    "\n",
    "驗證 $Q^\\top AQ = D$。  "
   ]
  },
  {
   "cell_type": "markdown",
   "metadata": {},
   "source": [
    "##### Exercise 5(a)\n",
    "\n",
    "令 $p(x,y) = x^2 + 4xy + y^2$。  \n",
    "找一些係數 $a,b,c,d$ 並令  \n",
    "$\\hat{x} = a x + b y$、  \n",
    "$\\hat{y} = c x + D y$﹐  \n",
    "使得 $p(x,y) = 3\\hat{x}^2 - \\hat{y}^2$。  \n",
    "藉此說明 $p(x,y) = 1$ 的圖形是雙曲線。  "
   ]
  },
  {
   "cell_type": "markdown",
   "metadata": {},
   "source": [
    "##### Exercise 5(b)\n",
    "\n",
    "令 $x(t), y(t)$ 為以 $t$ 為變數的函數。  \n",
    "令 $x'(t), y'(t)$ 為其對 $t$ 的微分。  \n",
    "考慮微分方程  \n",
    "$x' = x + 2y$、  \n",
    "$y' = 2x + y$。  \n",
    "找一些係數 $a,b,c,d$ 並令  \n",
    "$\\hat{x} = a x + b y$、  \n",
    "$\\hat{y} = c x + D y$﹐  \n",
    "使得原方程可以改寫為  \n",
    "$\\hat{x}' = 3\\hat{x}$、  \n",
    "$\\hat{y}' = -\\hat{y}$。  \n",
    "（此方程的解為  \n",
    "$\\hat{x} = C_1e^{3t}$、  \n",
    "$\\hat{y} = C_2e^{-t}$﹐  \n",
    "其中 $C_1$ 和 $C_2$ 是任意常數。）  \n",
    "解原方程。  "
   ]
  },
  {
   "cell_type": "markdown",
   "metadata": {},
   "source": [
    "##### Exercise 6\n",
    "\n",
    "以下例題說明並非對稱矩陣才能表示成對角矩陣。  \n",
    "然而其所用的基底不再是垂直的﹐同時基底也不見得存在。  \n",
    "令  \n",
    "$$A = \\begin{bmatrix} \n",
    " 1 & 2 \\\\\n",
    " 1 & 2 \\\\\n",
    "\\end{bmatrix}.$$"
   ]
  },
  {
   "cell_type": "markdown",
   "metadata": {},
   "source": [
    "##### Exercise 6(a)\n",
    "\n",
    "說明要找一個非零向量 ${\\bf v}$ 使得 $A{\\bf v} = \\lambda{\\bf v}$﹐  \n",
    "等同於在 $(A - \\lambda I){\\bf v} = {\\bf 0}$ 中找非零解。  "
   ]
  },
  {
   "cell_type": "markdown",
   "metadata": {},
   "source": [
    "##### Exercise 6(b)\n",
    "\n",
    "方程式 $(A - \\lambda I){\\bf v} = {\\bf 0}$ 有非零解只會發生在 $\\det(A - \\lambda I) = 0$ 的時候。  \n",
    "利用這個性質找出所有可能的 $\\lambda$。  "
   ]
  },
  {
   "cell_type": "markdown",
   "metadata": {},
   "source": [
    "##### Exercise 6(c)\n",
    "\n",
    "對每一個 $\\lambda$ 解出相對應的 ${\\bf v}$。  \n",
    "向量 ${\\bf v}$ 的選擇可能很多﹐把它的長度縮為 $1$。  "
   ]
  },
  {
   "cell_type": "markdown",
   "metadata": {},
   "source": [
    "##### Exercise 6(d)\n",
    "\n",
    "找出一個垂直矩陣 $A$ 和一個對角矩陣使得 $D = Q^{-1} AQ$。  "
   ]
  }
 ],
 "metadata": {
  "kernelspec": {
   "display_name": "SageMath 9.0",
   "language": "sage",
   "name": "sagemath"
  },
  "language_info": {
   "codemirror_mode": {
    "name": "ipython",
    "version": 3
   },
   "file_extension": ".py",
   "mimetype": "text/x-python",
   "name": "python",
   "nbconvert_exporter": "python",
   "pygments_lexer": "ipython3",
   "version": "3.8.10"
  }
 },
 "nbformat": 4,
 "nbformat_minor": 4
}
