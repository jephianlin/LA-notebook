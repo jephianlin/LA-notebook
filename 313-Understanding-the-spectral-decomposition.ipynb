{
 "cells": [
  {
   "cell_type": "markdown",
   "metadata": {},
   "source": [
    "# 體驗譜分解\n",
    "\n",
    "Understanding the spectral decomposition"
   ]
  },
  {
   "cell_type": "markdown",
   "metadata": {},
   "source": [
    "![Creative Commons License](https://i.creativecommons.org/l/by/4.0/88x31.png)  \n",
    "This work by Jephian Lin is licensed under a [Creative Commons Attribution 4.0 International License](http://creativecommons.org/licenses/by/4.0/)."
   ]
  },
  {
   "cell_type": "markdown",
   "metadata": {},
   "source": [
    "$\\newcommand{\\trans}{^\\top}\n",
    "\\newcommand{\\adj}{^{\\rm adj}}\n",
    "\\newcommand{\\cof}{^{\\rm cof}}\n",
    "\\newcommand{\\inp}[2]{\\left\\langle#1,#2\\right\\rangle}\n",
    "\\newcommand{\\dunion}{\\mathbin{\\dot\\cup}}\n",
    "\\newcommand{\\bzero}{\\mathbf{0}}\n",
    "\\newcommand{\\bone}{\\mathbf{1}}\n",
    "\\newcommand{\\ba}{\\mathbf{a}}\n",
    "\\newcommand{\\bb}{\\mathbf{b}}\n",
    "\\newcommand{\\bc}{\\mathbf{c}}\n",
    "\\newcommand{\\bd}{\\mathbf{d}}\n",
    "\\newcommand{\\be}{\\mathbf{e}}\n",
    "\\newcommand{\\bh}{\\mathbf{h}}\n",
    "\\newcommand{\\bp}{\\mathbf{p}}\n",
    "\\newcommand{\\bq}{\\mathbf{q}}\n",
    "\\newcommand{\\br}{\\mathbf{r}}\n",
    "\\newcommand{\\bx}{\\mathbf{x}}\n",
    "\\newcommand{\\by}{\\mathbf{y}}\n",
    "\\newcommand{\\bz}{\\mathbf{z}}\n",
    "\\newcommand{\\bu}{\\mathbf{u}}\n",
    "\\newcommand{\\bv}{\\mathbf{v}}\n",
    "\\newcommand{\\bw}{\\mathbf{w}}\n",
    "\\newcommand{\\tr}{\\operatorname{tr}}\n",
    "\\newcommand{\\nul}{\\operatorname{null}}\n",
    "\\newcommand{\\rank}{\\operatorname{rank}}\n",
    "%\\newcommand{\\ker}{\\operatorname{ker}}\n",
    "\\newcommand{\\range}{\\operatorname{range}}\n",
    "\\newcommand{\\Col}{\\operatorname{Col}}\n",
    "\\newcommand{\\Row}{\\operatorname{Row}}\n",
    "\\newcommand{\\spec}{\\operatorname{spec}}\n",
    "\\newcommand{\\vspan}{\\operatorname{span}}\n",
    "\\newcommand{\\Vol}{\\operatorname{Vol}}\n",
    "\\newcommand{\\sgn}{\\operatorname{sgn}}\n",
    "\\newcommand{\\idmap}{\\operatorname{id}}\n",
    "\\newcommand{\\am}{\\operatorname{am}}\n",
    "\\newcommand{\\gm}{\\operatorname{gm}}\n",
    "\\newcommand{\\mult}{\\operatorname{mult}}\n",
    "\\newcommand{\\iner}{\\operatorname{iner}}$"
   ]
  },
  {
   "cell_type": "code",
   "execution_count": null,
   "metadata": {},
   "outputs": [],
   "source": [
    "from lingeo import random_int_list"
   ]
  },
  {
   "cell_type": "markdown",
   "metadata": {},
   "source": [
    "## Main idea"
   ]
  },
  {
   "cell_type": "markdown",
   "metadata": {},
   "source": [
    "Let $A$ be an $n\\times n$ matrix and  \n",
    "$f_A : \\mathbb{R}^n\\rightarrow\\mathbb{R}^n$ the corresponding linear function defined by $f(\\bv) = A\\bv$.  \n",
    "Let $\\mathcal{E}_n$ be the standard basis of $\\mathbb{R}^n$.  \n",
    "Then $[f_A] = [f_A]_{\\mathcal{E}_n}^{\\mathcal{E}_n} = A$.  "
   ]
  },
  {
   "cell_type": "markdown",
   "metadata": {},
   "source": [
    "Let $\\beta$ be another basis of $\\mathcal{R}^n$ and $Q = [\\idmap]_\\beta^{\\mathcal{E}_n}$.  \n",
    "Then $[f_A]_\\beta^\\beta = Q^{-1}AQ$.  "
   ]
  },
  {
   "cell_type": "markdown",
   "metadata": {},
   "source": [
    "##### Spectral theorem (vector version)\n",
    "\n",
    "Let $A$ be an $n\\times n$ symmetric matrix.  \n",
    "Then there is an orthonormal basis $\\beta$ of $\\mathbb{R}^n$ such that $[f_A]_\\beta^\\beta = D$ is a diagonal matrix.  \n",
    "That is, there is an orthogonal matrix $Q$ such that $Q\\trans AQ = D$ is a diagonal matrix.  "
   ]
  },
  {
   "cell_type": "markdown",
   "metadata": {},
   "source": [
    "Let $\\beta = \\{ \\bv_1, \\ldots, \\bv_n \\}$ be the basis in the spectral theorem.  \n",
    "Then $Q$ is the matrix whose columns are vectors in $\\beta$.  \n",
    "Since $\\beta$ is orthonormal, $Q$ is orthogonal and $Q^{-1} = Q\\trans$.  "
   ]
  },
  {
   "cell_type": "markdown",
   "metadata": {},
   "source": [
    "Suppose the $D$ matrix in the spectral theorem is \n",
    "\n",
    "$$\n",
    "    \\begin{bmatrix}  \n",
    "     \\lambda_1 & ~ & ~ \\\\ \n",
    "     ~ & \\ddots & ~ \\\\ \n",
    "     ~ & ~ & \\lambda_n \\\\ \n",
    "    \\end{bmatrix}.\n",
    "$$  \n",
    "\n",
    "By examining $AQ = QD$, we have  \n",
    "\n",
    "$$\n",
    "    AQ = \n",
    "    A\\begin{bmatrix}\n",
    "     | & ~ & | \\\\\n",
    "     \\bv_1 & \\cdots & \\bv_n \\\\\n",
    "     | & ~ & | \n",
    "    \\end{bmatrix} = \n",
    "    QD = \n",
    "    \\begin{bmatrix}\n",
    "     | & ~ & | \\\\\n",
    "     \\bv_1 & \\cdots & \\bv_n \\\\\n",
    "     | & ~ & | \n",
    "    \\end{bmatrix}\n",
    "    \\begin{bmatrix}\n",
    "     \\lambda_1 & ~ & ~ \\\\\n",
    "     ~ & \\ddots & ~ \\\\\n",
    "     ~ & ~ & \\lambda_n \n",
    "    \\end{bmatrix} =\n",
    "    \\begin{bmatrix}\n",
    "     | & ~ & | \\\\\n",
    "     \\lambda_1\\bv_1 & \\cdots & \\lambda_n\\bv_n \\\\\n",
    "     | & ~ & | \n",
    "    \\end{bmatrix}.\n",
    "$$ \n",
    "\n",
    "Therefore, $A\\bv_i = \\lambda_i \\bv_i$ for $i = 1,\\ldots, n$.  "
   ]
  },
  {
   "cell_type": "markdown",
   "metadata": {},
   "source": [
    "If a nonzero vector $\\bv$ satisfies $A\\bv = \\lambda\\bv$ for some scalar $\\lambda$, then $\\bv$ is called an **eigenvector** of $A$ and $\\lambda$ is called an **eigenvalue** of $A$.  "
   ]
  },
  {
   "cell_type": "markdown",
   "metadata": {},
   "source": [
    "On the other hand, we may write $A = QDQ\\trans$.  \n",
    "Thus,  \n",
    "\n",
    "$$\n",
    "    A = QDQ\\trans = \n",
    "    \\begin{bmatrix}\n",
    "     | & ~ & | \\\\\n",
    "     \\bv_1 & \\cdots & \\bv_n \\\\\n",
    "     | & ~ & | \n",
    "    \\end{bmatrix}\n",
    "    \\begin{bmatrix}  \n",
    "     \\lambda_1 & ~ & ~ \\\\ \n",
    "     ~ & \\ddots & ~ \\\\ \n",
    "     ~ & ~ & \\lambda_n \\\\ \n",
    "    \\end{bmatrix}\n",
    "    \\begin{bmatrix}\n",
    "     - & \\bv_1\\trans & - \\\\\n",
    "     ~ & \\vdots & ~\\\\\n",
    "     - & \\bv_n\\trans & - \n",
    "    \\end{bmatrix} = \n",
    "    \\sum_{i = 1}^n \\lambda_i \\bv_i\\bv_i\\trans.\n",
    "$$"
   ]
  },
  {
   "cell_type": "markdown",
   "metadata": {},
   "source": [
    "Suppose $\\{\\lambda_1,\\ldots,\\lambda_n\\}$ only has $q$ distinct values $\\{\\mu_1,\\ldots, \\mu_q\\}$.  \n",
    "For each $j = 1,\\ldots, q$, we may let $\\displaystyle P_j = \\sum_{\\lambda_i = \\mu_j} \\bv_i\\bv_i\\trans$.  \n",
    "Thus, we have the following.  "
   ]
  },
  {
   "cell_type": "markdown",
   "metadata": {},
   "source": [
    "##### Spectral theorem (projection version)\n",
    "\n",
    "Let $A$ be an $n\\times n$ symmetric matrix.  \n",
    "Then there are $q$ distinct values $\\mu_1,\\ldots, \\mu_q$ and $q$ projection matrices $P_1,\\ldots, P_q$ such that  \n",
    "\n",
    "- $A = \\sum_{j=1}^q \\mu_j P_j$,  \n",
    "- $P_i^2 = P_i$ for any $i$, \n",
    "- $P_iP_j = O$ for any $i$ and $j$, and \n",
    "- $\\sum_{j=1}^q P_j = I_n$."
   ]
  },
  {
   "cell_type": "markdown",
   "metadata": {},
   "source": [
    "## Side stories\n",
    "\n",
    "- quadratic form\n",
    "- differential equation\n",
    "- diagonalization for general matrices"
   ]
  },
  {
   "cell_type": "markdown",
   "metadata": {},
   "source": [
    "## Experiments"
   ]
  },
  {
   "cell_type": "markdown",
   "metadata": {},
   "source": [
    "##### Exercise 1\n",
    "\n",
    "執行以下程式碼。  \n",
    "\n",
    "<!-- eng start -->\n",
    "Run the code below.  \n",
    "<!-- eng end -->"
   ]
  },
  {
   "cell_type": "code",
   "execution_count": null,
   "metadata": {
    "scrolled": false
   },
   "outputs": [],
   "source": [
    "### code\n",
    "set_random_seed(0)\n",
    "print_ans = False\n",
    "n = 3\n",
    "Q = matrix([\n",
    "    [1 / sqrt(3), 1 / sqrt(2), 1 / sqrt(6)],\n",
    "    [1 / sqrt(3), -1 / sqrt(2), 1 / sqrt(6)],\n",
    "    [1 / sqrt(3), 0, -2 / sqrt(6)]\n",
    "])\n",
    "v = random_int_list(n)\n",
    "D = diagonal_matrix(v)\n",
    "A = Q * D * Q.transpose()\n",
    "\n",
    "cs = random_int_list(n)\n",
    "\n",
    "print(\"A =\")\n",
    "show(A)\n",
    "for i in range(n):\n",
    "    print(\"v%s =\"%(i+1), Q.column(i))\n",
    "print(\"b = \" + \" + \".join(\"%s v%s\"%(cs[i], i+1) for i in range(n))) \n",
    "\n",
    "if print_ans:\n",
    "    for i in range(n):\n",
    "        print(\"A v%s = %s v%s\"%(i+1, v[i], i+1))\n",
    "    print(\"A b = \" + \" + \".join(\"%s v%s\"%(cs[i]*v[i], i+1) for i in range(n))) \n",
    "    print(\"Q =\")\n",
    "    show(Q)\n",
    "    print(\"D =\")\n",
    "    show(D)"
   ]
  },
  {
   "cell_type": "markdown",
   "metadata": {},
   "source": [
    "##### Exercise 1(a)\n",
    "\n",
    "驗證 $\\bv_1, \\ldots, \\bv_3$ 是 $A$ 的特徵向量﹐並找出相對應的特徵值。  \n",
    "\n",
    "<!-- eng start -->\n",
    "Verify that $\\bv_1, \\ldots, \\bv_3$ are eigenvectors of $A$ and find the corresponding eigenvalues.  \n",
    "<!-- eng end -->"
   ]
  },
  {
   "cell_type": "markdown",
   "metadata": {},
   "source": [
    "##### Exercise 1(b)\n",
    "\n",
    "把 $A\\bb$ 寫成 $\\{\\bv_1, \\ldots, \\bv_3\\}$ 的線性組合。  \n",
    "\n",
    "<!-- eng start -->\n",
    "Write $A\\bb$ as a linear combination of $\\{\\bv_1, \\ldots, \\bv_3\\}$.  \n",
    "<!-- eng end -->"
   ]
  },
  {
   "cell_type": "markdown",
   "metadata": {},
   "source": [
    "##### Exercise 1(c)\n",
    "\n",
    "找出一個垂直矩陣 $Q$ 和一個對角矩陣 $D$ 使得 $D = Q\\trans AQ$。  \n",
    "\n",
    "<!-- eng start -->\n",
    "Find an orthogonal matrix $Q$ and a diagonal matrix $D$ such that $D = Q\\trans AQ$.  \n",
    "<!-- eng end -->"
   ]
  },
  {
   "cell_type": "markdown",
   "metadata": {},
   "source": [
    "## Exercises"
   ]
  },
  {
   "cell_type": "markdown",
   "metadata": {},
   "source": [
    "##### Exercise 2\n",
    "\n",
    "令 $A$ 為一 $3\\times 3$ 矩陣而  \n",
    "$\\beta = \\{ \\bv_1,\\ldots,\\bv_3 \\}$ 為 $\\mathbb{R}^3$ 的一組基底。  \n",
    "已知  \n",
    "\n",
    "$$\n",
    "    [f_A]_\\beta^\\beta = \\begin{bmatrix}  \n",
    "     3 & 0 & 0 \\\\\n",
    "     0 & 4 & 0 \\\\\n",
    "     0 & 0 & 5 \\\\\n",
    "    \\end{bmatrix}.\n",
    "$$  \n",
    "\n",
    "將 $A\\bv_1$、$A\\bv_2$、$A\\bv_3$、及 $A(\\bv_1 + \\bv_2 + \\bv_3)$ 分別寫成 $\\beta$ 的線性組合。  \n",
    "\n",
    "<!-- eng start -->\n",
    "Let $A$ be a $3\\times 3$ matrix and $\\beta = \\{ \\bv_1,\\ldots,\\bv_3 \\}$ a basis of $\\mathbb{R}^3$.  Suppose \n",
    "\n",
    "$$\n",
    "    [f_A]_\\beta^\\beta = \\begin{bmatrix}  \n",
    "     3 & 0 & 0 \\\\\n",
    "     0 & 4 & 0 \\\\\n",
    "     0 & 0 & 5 \\\\\n",
    "    \\end{bmatrix}.\n",
    "$$  \n",
    "\n",
    "Write $A\\bv_1$, $A\\bv_2$, $A\\bv_3$, and $A(\\bv_1 + \\bv_2 + \\bv_3)$ as linear combinations of $\\beta$.  \n",
    "<!-- eng end -->"
   ]
  },
  {
   "cell_type": "markdown",
   "metadata": {},
   "source": [
    "##### Exercise 3\n",
    "\n",
    "令  \n",
    "\n",
    "$$\n",
    "    A = \\begin{bmatrix}  \n",
    "     0 & 1 & 1 \\\\\n",
    "     1 & 0 & 1 \\\\\n",
    "     1 & 1 & 0 \\\\\n",
    "    \\end{bmatrix}\n",
    "$$ \n",
    "\n",
    "且 $\\beta = \\{ \\bv_1, \\ldots, \\bv_3 \\}$ 為  \n",
    "\n",
    "$$\n",
    "    \\begin{bmatrix}\n",
    "     \\frac{1}{\\sqrt{3}} & \\frac{1}{\\sqrt{2}} & \\frac{1}{\\sqrt{6}} \\\\\n",
    "     \\frac{1}{\\sqrt{3}} & -\\frac{1}{\\sqrt{2}} & \\frac{1}{\\sqrt{6}} \\\\\n",
    "     \\frac{1}{\\sqrt{3}} & 0 & -\\frac{2}{\\sqrt{6}} \\\\\n",
    "    \\end{bmatrix}\n",
    "$$\n",
    "\n",
    "的行向量集合。  \n",
    "\n",
    "<!-- eng start -->\n",
    "Let  \n",
    "\n",
    "$$\n",
    "    A = \\begin{bmatrix}  \n",
    "     0 & 1 & 1 \\\\\n",
    "     1 & 0 & 1 \\\\\n",
    "     1 & 1 & 0 \\\\\n",
    "    \\end{bmatrix}\n",
    "$$ \n",
    "\n",
    "and $\\beta = \\{ \\bv_1, \\ldots, \\bv_3 \\}$ the columns of  \n",
    "\n",
    "$$\n",
    "    \\begin{bmatrix}\n",
    "     \\frac{1}{\\sqrt{3}} & \\frac{1}{\\sqrt{2}} & \\frac{1}{\\sqrt{6}} \\\\\n",
    "     \\frac{1}{\\sqrt{3}} & -\\frac{1}{\\sqrt{2}} & \\frac{1}{\\sqrt{6}} \\\\\n",
    "     \\frac{1}{\\sqrt{3}} & 0 & -\\frac{2}{\\sqrt{6}} \\\\\n",
    "    \\end{bmatrix}.\n",
    "$$\n",
    "<!-- eng end -->"
   ]
  },
  {
   "cell_type": "markdown",
   "metadata": {},
   "source": [
    "##### Exercise 3(a)\n",
    "\n",
    "寫出 $[f_A]_\\beta^\\beta$ 並說明 $f_A$ 的作用。  \n",
    "\n",
    "<!-- eng start -->\n",
    "Find $[f_A]_\\beta^\\beta$ and describe the effect of $f_A$.  \n",
    "<!-- eng end -->"
   ]
  },
  {
   "cell_type": "markdown",
   "metadata": {},
   "source": [
    "##### Exercise 3(b)\n",
    "\n",
    "找出一個垂直矩陣 $Q$ 和一個對角矩陣 $D$ 使得 $D = Q\\trans AQ$。  \n",
    "\n",
    "<!-- eng start -->\n",
    "Find an orthogonal matrix $Q$ and a diagonal matrix $D$ such that $D = Q\\trans AQ$.  \n",
    "<!-- eng end -->"
   ]
  },
  {
   "cell_type": "markdown",
   "metadata": {},
   "source": [
    "##### Exercise 3(c)\n",
    "\n",
    "令 $P_1$ 為投影到 $\\vspan(\\{\\bv_1\\})$ 的投影矩陣、  \n",
    "$P_2$ 為投影到 $\\vspan(\\{\\bv_2, \\bv_3\\})$ 的投影矩陣。  \n",
    "說明 $P_1 = \\bv_1\\bv_1\\trans$ 且 $P_2 = \\bv_2\\bv_2\\trans + \\bv_3\\bv_3\\trans$。  \n",
    "\n",
    "<!-- eng start -->\n",
    "Let $P_1$ be the projection matrix onto $\\vspan(\\{\\bv_1\\})$ and $P_2$ the projection matrix onto $\\vspan(\\{\\bv_2, \\bv_3\\})$.  Show that $P_1 = \\bv_1\\bv_1\\trans$ and $P_2 = \\bv_2\\bv_2\\trans + \\bv_3\\bv_3\\trans$.  \n",
    "<!-- eng end -->"
   ]
  },
  {
   "cell_type": "markdown",
   "metadata": {},
   "source": [
    "##### Exercise 3(d)\n",
    "\n",
    "將 $A$ 寫成一些投影矩陣的線性組合﹐並再次說明 $f_A$ 的作用﹐看看是否和第一小題一致。  \n",
    "\n",
    "<!-- eng start -->\n",
    "Write $A$ as a linear combination of some projection matrices.  Use this representation to describe again the effect of $f_A$.  Is it the same as 3(a)?\n",
    "<!-- eng end -->"
   ]
  },
  {
   "cell_type": "markdown",
   "metadata": {},
   "source": [
    "##### Exercise 4\n",
    "\n",
    "令  \n",
    "\n",
    "$$\n",
    "    A = \\begin{bmatrix} \n",
    "     1 & 2 \\\\\n",
    "     2 & 4 \\\\\n",
    "    \\end{bmatrix}.\n",
    "$$\n",
    "\n",
    "<!-- eng start -->\n",
    "Let  \n",
    "\n",
    "$$\n",
    "    A = \\begin{bmatrix} \n",
    "     1 & 2 \\\\\n",
    "     2 & 4 \\\\\n",
    "    \\end{bmatrix}.\n",
    "$$\n",
    "<!-- eng end -->"
   ]
  },
  {
   "cell_type": "markdown",
   "metadata": {},
   "source": [
    "##### Exercise 4(a)\n",
    "\n",
    "說明要找一個非零向量 $\\bv$ 使得 $A\\bv = \\lambda\\bv$﹐  \n",
    "等同於在 $(A - \\lambda I)\\bv = \\bzero$ 中找非零解。  \n",
    "\n",
    "<!-- eng start -->\n",
    "Let $\\lambda$ be a given number.  Show that finding a nonzero vector $\\bv$ with $A\\bv = \\lambda\\bv$ is equivalent to finding a nonzero solution to $(A - \\lambda I)\\bv = \\bzero$.  \n",
    "<!-- eng end -->"
   ]
  },
  {
   "cell_type": "markdown",
   "metadata": {},
   "source": [
    "##### Exercise 4(b)\n",
    "\n",
    "方程式 $(A - \\lambda I)\\bv = \\bzero$ 有非零解只會發生在 $\\det(A - \\lambda I) = 0$ 的時候。  \n",
    "利用這個性質找出所有可能的 $\\lambda$。  \n",
    "\n",
    "<!-- eng start -->\n",
    "The equation $(A - \\lambda I)\\bv = \\bzero$ has a nonzero solution only when $\\det(A - \\lambda I) = 0$.  Use this fact to find all possible $\\lambda$.  \n",
    "<!-- eng end -->"
   ]
  },
  {
   "cell_type": "markdown",
   "metadata": {},
   "source": [
    "##### Exercise 4(c)\n",
    "\n",
    "對每一個 $\\lambda$ 解出相對應的 $\\bv$。  \n",
    "向量 $\\bv$ 的選擇可能很多﹐把它的長度縮為 $1$。  \n",
    "\n",
    "<!-- eng start -->\n",
    "For a given number $\\lambda$, there might be many choices of $\\bv$.  Find one with length $1$.  \n",
    "<!-- eng end -->"
   ]
  },
  {
   "cell_type": "markdown",
   "metadata": {},
   "source": [
    "##### Exercise 4(d)\n",
    "\n",
    "找出一個垂直矩陣 $Q$ 和一個對角矩陣 $D$ 使得 $D = Q\\trans AQ$。  \n",
    "\n",
    "<!-- eng start -->\n",
    "Find an orthogonal matrix $Q$ and a diagonal matrix $D$ such that $D = Q\\trans AQ$.  \n",
    "<!-- eng end -->"
   ]
  },
  {
   "cell_type": "markdown",
   "metadata": {},
   "source": [
    "##### Exercise 5\n",
    "\n",
    "令  \n",
    "\n",
    "$$\n",
    "    A = \\begin{bmatrix} \n",
    "     1 & 2 \\\\ \n",
    "     2 & 1 \\\\\n",
    "    \\end{bmatrix}, \n",
    "    Q = \\begin{bmatrix}\n",
    "     \\frac{1}{\\sqrt{2}} & \\frac{1}{\\sqrt{2}} \\\\\n",
    "     \\frac{1}{\\sqrt{2}} & - \\frac{1}{\\sqrt{2}} \\\\\n",
    "    \\end{bmatrix}, \n",
    "    D = \\begin{bmatrix} \n",
    "     3 & 0 \\\\\n",
    "     0 & -1 \\\\\n",
    "    \\end{bmatrix}.\n",
    "$$\n",
    "\n",
    "<!-- eng start -->\n",
    "Let  \n",
    "\n",
    "$$\n",
    "    A = \\begin{bmatrix} \n",
    "     1 & 2 \\\\ \n",
    "     2 & 1 \\\\\n",
    "    \\end{bmatrix}, \n",
    "    Q = \\begin{bmatrix}\n",
    "     \\frac{1}{\\sqrt{2}} & \\frac{1}{\\sqrt{2}} \\\\\n",
    "     \\frac{1}{\\sqrt{2}} & - \\frac{1}{\\sqrt{2}} \\\\\n",
    "    \\end{bmatrix}, \n",
    "    D = \\begin{bmatrix} \n",
    "     3 & 0 \\\\\n",
    "     0 & -1 \\\\\n",
    "    \\end{bmatrix}.\n",
    "$$\n",
    "<!-- eng end -->"
   ]
  },
  {
   "cell_type": "markdown",
   "metadata": {},
   "source": [
    "##### Exercise 5(a)\n",
    "\n",
    "驗證 $Q\\trans AQ = D$。  \n",
    "\n",
    "<!-- eng start -->\n",
    "Verify that $Q\\trans AQ = D$.  \n",
    "<!-- eng end -->"
   ]
  },
  {
   "cell_type": "markdown",
   "metadata": {},
   "source": [
    "##### Exercise 5(b)\n",
    "\n",
    "令 $p(x,y) = x^2 + 4xy + y^2$。  \n",
    "找一些係數 $a,b,c,d$ 並令  \n",
    "$\\hat{x} = a x + b y$、  \n",
    "$\\hat{y} = c x + D y$﹐  \n",
    "使得 $p(x,y) = 3\\hat{x}^2 - \\hat{y}^2$。  \n",
    "藉此說明 $p(x,y) = 1$ 的圖形是雙曲線。  \n",
    "\n",
    "<!-- eng start -->\n",
    "Let $p(x,y) = x^2 + 4xy + y^2$.  Find some coefficients $a, b, c, d$ and define $\\hat{x} = a x + b y$ and $\\hat{y} = c x + D y$ such that $p(x,y) = 3\\hat{x}^2 - \\hat{y}^2$.  Use this fact to show that $p(x,y) = 1$ is a hyperbola.  \n",
    "<!-- eng end -->"
   ]
  },
  {
   "cell_type": "markdown",
   "metadata": {},
   "source": [
    "##### Exercise 5(c)\n",
    "\n",
    "令 $x(t), y(t)$ 為以 $t$ 為變數的函數。  \n",
    "令 $x'(t), y'(t)$ 為其對 $t$ 的微分。  \n",
    "考慮微分方程  \n",
    "\n",
    "$$\n",
    "    \\begin{aligned}\n",
    "    x' &= x + 2y, \\\\\n",
    "    y' &= 2x + y.\n",
    "    \\end{aligned}\n",
    "$$\n",
    "\n",
    "找一些係數 $a,b,c,d$ 並令  \n",
    "$\\hat{x} = a x + b y$、  \n",
    "$\\hat{y} = c x + D y$﹐  \n",
    "使得原方程可以改寫為  \n",
    "$\\hat{x}' = 3\\hat{x}$、  \n",
    "$\\hat{y}' = -\\hat{y}$。  \n",
    "（此方程的解為  \n",
    "$\\hat{x} = C_1e^{3t}$、  \n",
    "$\\hat{y} = C_2e^{-t}$﹐  \n",
    "其中 $C_1$ 和 $C_2$ 是任意常數。）  \n",
    "解原方程。  \n",
    "\n",
    "<!-- eng start -->\n",
    "Let $x(t)$ and $y(t)$ be functions on variable $t$.  Let $x'(t)$ and $y'(t)$ their derivative with respect to $t$.  Consider the system of differential equations  \n",
    "\n",
    "$$\n",
    "    \\begin{aligned}\n",
    "    x' &= x + 2y, \\\\\n",
    "    y' &= 2x + y.\n",
    "    \\end{aligned}\n",
    "$$\n",
    "\n",
    "Find some coefficients $a, b, c, d$ and define $\\hat{x} = a x + b y$ and $\\hat{y} = c x + D y$ so that the original system becomes  \n",
    "\n",
    "$$\n",
    "    \\begin{aligned}\n",
    "    \\hat{x}' &= 3\\hat{x}, \\\\\n",
    "    \\hat{y}' &= -\\hat{y}.\n",
    "    \\end{aligned}\n",
    "$$\n",
    "\n",
    "Note that the solutions to this system is $\\hat{x} = C_1e^{3t}$ and $\\hat{y} = C_2e^{-t}$, where $C_1$ and $C_2$ can be any constants.  \n",
    "<!-- eng end -->"
   ]
  },
  {
   "cell_type": "markdown",
   "metadata": {},
   "source": [
    "##### Exercise 6\n",
    "\n",
    "以下例題說明並非對稱矩陣才能表示成對角矩陣。  \n",
    "然而其所用的基底不再是垂直的。  \n",
    "（也有可能這樣的基底找不到。）  \n",
    "令  \n",
    "\n",
    "$$\n",
    "    A = \\begin{bmatrix} \n",
    "     1 & 2 \\\\\n",
    "     1 & 2 \\\\\n",
    "    \\end{bmatrix}.\n",
    "$$\n",
    "\n",
    "<!-- eng start -->\n",
    "The following examples indicate that not only the symmetric matrices can be transformed into a diagonal matrices by using a different basis.  However, the basis might not be orthogonal.  (It is also possible that such a basis does not exist.)  \n",
    "\n",
    "Let  \n",
    "\n",
    "$$\n",
    "    A = \\begin{bmatrix} \n",
    "     1 & 2 \\\\\n",
    "     1 & 2 \\\\\n",
    "    \\end{bmatrix}.\n",
    "$$\n",
    "<!-- eng end -->"
   ]
  },
  {
   "cell_type": "markdown",
   "metadata": {},
   "source": [
    "##### Exercise 6(a)\n",
    "\n",
    "說明要找一個非零向量 $\\bv$ 使得 $A\\bv = \\lambda\\bv$﹐  \n",
    "等同於在 $(A - \\lambda I)\\bv = \\bzero$ 中找非零解。  \n",
    "\n",
    "<!-- eng start -->\n",
    "Let $\\lambda$ be a given number.  Show that finding a nonzero vector $\\bv$ with $A\\bv = \\lambda\\bv$ is equivalent to finding a nonzero solution to $(A - \\lambda I)\\bv = \\bzero$.  \n",
    "<!-- eng end -->"
   ]
  },
  {
   "cell_type": "markdown",
   "metadata": {},
   "source": [
    "##### Exercise 6(b)\n",
    "\n",
    "方程式 $(A - \\lambda I)\\bv = \\bzero$ 有非零解只會發生在 $\\det(A - \\lambda I) = 0$ 的時候。  \n",
    "利用這個性質找出所有可能的 $\\lambda$。  \n",
    "\n",
    "<!-- eng start -->\n",
    "The equation $(A - \\lambda I)\\bv = \\bzero$ has a nonzero solution only when $\\det(A - \\lambda I) = 0$.  Use this fact to find all possible $\\lambda$.  \n",
    "<!-- eng end -->"
   ]
  },
  {
   "cell_type": "markdown",
   "metadata": {},
   "source": [
    "##### Exercise 6(c)\n",
    "\n",
    "對每一個 $\\lambda$ 解出相對應的 $\\bv$。  \n",
    "向量 $\\bv$ 的選擇可能很多﹐把它的長度縮為 $1$。  \n",
    "\n",
    "<!-- eng start -->\n",
    "For a given number $\\lambda$, there might be many choices of $\\bv$.  Find one with length $1$.  \n",
    "<!-- eng end -->"
   ]
  },
  {
   "cell_type": "markdown",
   "metadata": {},
   "source": [
    "##### Exercise 6(d)\n",
    "\n",
    "找出一個可逆矩陣 $Q$ 和一個對角矩陣使得 $D = Q^{-1} AQ$。  \n",
    "\n",
    "<!-- eng start -->\n",
    "Find an invertibile matrix $Q$ and a diagonal matrix $D$ such that $D = Q^{-1} AQ$.  \n",
    "<!-- eng end -->"
   ]
  }
 ],
 "metadata": {
  "kernelspec": {
   "display_name": "SageMath 9.6",
   "language": "sage",
   "name": "sagemath"
  },
  "language_info": {
   "codemirror_mode": {
    "name": "ipython",
    "version": 3
   },
   "file_extension": ".py",
   "mimetype": "text/x-python",
   "name": "python",
   "nbconvert_exporter": "python",
   "pygments_lexer": "ipython3",
   "version": "3.10.6"
  }
 },
 "nbformat": 4,
 "nbformat_minor": 4
}
