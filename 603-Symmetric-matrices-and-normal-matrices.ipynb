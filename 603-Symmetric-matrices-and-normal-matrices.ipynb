{
 "cells": [
  {
   "cell_type": "markdown",
   "metadata": {},
   "source": [
    "# 對稱矩陣與正規矩陣"
   ]
  },
  {
   "cell_type": "markdown",
   "metadata": {},
   "source": [
    "![Creative Commons License](https://i.creativecommons.org/l/by/4.0/88x31.png)  \n",
    "This work by Jephian Lin is licensed under a [Creative Commons Attribution 4.0 International License](http://creativecommons.org/licenses/by/4.0/)."
   ]
  },
  {
   "cell_type": "markdown",
   "metadata": {},
   "source": [
    "$\\newcommand{\\trans}{^\\top}\n",
    "\\newcommand{\\adj}{^{\\rm adj}}\n",
    "\\newcommand{\\cof}{^{\\rm cof}}\n",
    "\\newcommand{\\inp}[2]{\\left\\langle#1,#2\\right\\rangle}\n",
    "\\newcommand{\\dunion}{\\mathbin{\\dot\\cup}}\n",
    "\\newcommand{\\bzero}{\\mathbf{0}}\n",
    "\\newcommand{\\bone}{\\mathbf{1}}\n",
    "\\newcommand{\\ba}{\\mathbf{a}}\n",
    "\\newcommand{\\bb}{\\mathbf{b}}\n",
    "\\newcommand{\\bc}{\\mathbf{c}}\n",
    "\\newcommand{\\bd}{\\mathbf{d}}\n",
    "\\newcommand{\\be}{\\mathbf{e}}\n",
    "\\newcommand{\\bh}{\\mathbf{h}}\n",
    "\\newcommand{\\bp}{\\mathbf{p}}\n",
    "\\newcommand{\\bq}{\\mathbf{q}}\n",
    "\\newcommand{\\br}{\\mathbf{r}}\n",
    "\\newcommand{\\bx}{\\mathbf{x}}\n",
    "\\newcommand{\\by}{\\mathbf{y}}\n",
    "\\newcommand{\\bz}{\\mathbf{z}}\n",
    "\\newcommand{\\bu}{\\mathbf{u}}\n",
    "\\newcommand{\\bv}{\\mathbf{v}}\n",
    "\\newcommand{\\bw}{\\mathbf{w}}\n",
    "\\newcommand{\\tr}{\\operatorname{tr}}\n",
    "\\newcommand{\\nul}{\\operatorname{null}}\n",
    "\\newcommand{\\rank}{\\operatorname{rank}}\n",
    "%\\newcommand{\\ker}{\\operatorname{ker}}\n",
    "\\newcommand{\\range}{\\operatorname{range}}\n",
    "\\newcommand{\\Col}{\\operatorname{Col}}\n",
    "\\newcommand{\\Row}{\\operatorname{Row}}\n",
    "\\newcommand{\\spec}{\\operatorname{spec}}\n",
    "\\newcommand{\\vspan}{\\operatorname{span}}\n",
    "\\newcommand{\\Vol}{\\operatorname{Vol}}\n",
    "\\newcommand{\\sgn}{\\operatorname{sgn}}\n",
    "\\newcommand{\\idmap}{\\operatorname{id}}\n",
    "\\newcommand{\\am}{\\operatorname{am}}\n",
    "\\newcommand{\\gm}{\\operatorname{gm}}$"
   ]
  },
  {
   "cell_type": "code",
   "execution_count": null,
   "metadata": {},
   "outputs": [],
   "source": [
    "from lingeo import random_int_list"
   ]
  },
  {
   "cell_type": "markdown",
   "metadata": {},
   "source": [
    "## Main idea"
   ]
  },
  {
   "cell_type": "markdown",
   "metadata": {},
   "source": [
    "Let $A$ be a complex matrix.  \n",
    "If $A^* = A$, then $A$ is **Hermitian** .  \n",
    "If $A^*A = AA^*$, then $A$ is **normal** .  \n",
    "\n",
    "Following the Schur triangulation theorem, these matrices can be diagonalized nicely.  "
   ]
  },
  {
   "cell_type": "markdown",
   "metadata": {},
   "source": [
    "##### Spectral theorem (normal matrix)\n",
    "\n",
    "Let $A$ be a normal matrix.  \n",
    "Then there is a unitary matrix $Q$ such that $Q^* AQ$ is diagonal.  \n",
    "\n",
    "Equivalently, $A$ has an orthonormal eigenbasis over $\\mathbb{C}$."
   ]
  },
  {
   "cell_type": "markdown",
   "metadata": {},
   "source": [
    "##### Spectral theorem (Hermitian matrix)\n",
    "\n",
    "Let $A$ be a Hermitian matrix.  \n",
    "Then there is a unitary matrix $Q$ such that $Q^* AQ$ is diagonal and real.  \n",
    "\n",
    "Equivalently, $A$ has an orthonormal eigenbasis over $\\mathbb{C}$ and its eigenvalues are all real.  "
   ]
  },
  {
   "cell_type": "markdown",
   "metadata": {},
   "source": [
    "##### Remark\n",
    "\n",
    "Let $A$ be a real matrix.  \n",
    "Then $A$ is normal if and only if $A\\trans A = AA\\trans$.  \n",
    "Thus, $A$ has an orthonormal basis over $\\mathbb{C}$ (not necessarily over $\\mathbb{R}$).  \n",
    "\n",
    "Similarly, $A$ is Hermitian if and only if $A\\trans = A$.  \n",
    "That is, $A$ is a symmetric matrix.  \n",
    "The spectral theorem ensures that $A$ has an orthonormal basis over $\\mathbb{C}$ and its all eigenvalues real.  \n",
    "It requires a few more steps to say the basis can actually be taken over $\\mathbb{R}$.  "
   ]
  },
  {
   "cell_type": "markdown",
   "metadata": {},
   "source": [
    "##### Spectral theorem (symmetric matrix)\n",
    "\n",
    "Let $A$ be a real symmetric matrix.  \n",
    "Then there is a real orthogonal matrix $Q$ such that $Q\\trans AQ$ is diagonal and real.  \n",
    "\n",
    "Equivalently, $A$ has an orthonormal eigenbasis over $\\mathbb{R}$ and its eigenvalues are all real.  "
   ]
  },
  {
   "cell_type": "markdown",
   "metadata": {},
   "source": [
    "## Side stories\n",
    "\n",
    "- spectrum of a unitary/orthogonal matrix"
   ]
  },
  {
   "cell_type": "markdown",
   "metadata": {},
   "source": [
    "## Experiments"
   ]
  },
  {
   "cell_type": "markdown",
   "metadata": {},
   "source": [
    "##### Exercise 1\n",
    "\n",
    "執行以下程式碼。  "
   ]
  },
  {
   "cell_type": "code",
   "execution_count": null,
   "metadata": {
    "scrolled": false
   },
   "outputs": [],
   "source": [
    "### code\n",
    "set_random_seed(0)\n",
    "print_ans = False\n",
    "\n",
    "while True:\n",
    "    eigs = random_int_list(2)\n",
    "    v1 = vector(random_int_list(2))\n",
    "    if eigs[0] != eigs[1] and v1.is_zero() == False:\n",
    "        break\n",
    "        \n",
    "v2 = vector([-v1[1], v1[0]])\n",
    "Q = matrix([v1.normalized(), v2.normalized()]).transpose()\n",
    "A = Q * diagonal_matrix(eigs) * Q.inverse()\n",
    "\n",
    "pretty_print(LatexExpr(\"A =\"), A)\n",
    "\n",
    "if print_ans:\n",
    "    print(\"eigenvalues of A:\", eigs)\n",
    "    pretty_print(LatexExpr(\"Q =\"), Q)"
   ]
  },
  {
   "cell_type": "markdown",
   "metadata": {},
   "source": [
    "##### Exercise 1(a)\n",
    "\n",
    "求 $A$ 的所有特徵值。"
   ]
  },
  {
   "cell_type": "markdown",
   "metadata": {},
   "source": [
    "##### Exercise 1(b)\n",
    "\n",
    "找一個實垂直矩陣 $Q$ 使得 $Q\\trans AQ$ 為一對角矩陣。"
   ]
  },
  {
   "cell_type": "markdown",
   "metadata": {},
   "source": [
    "## Exercises"
   ]
  },
  {
   "cell_type": "markdown",
   "metadata": {},
   "source": [
    "##### Exercise 2\n",
    "\n",
    "將以下矩陣以實對稱矩陣對角化。"
   ]
  },
  {
   "cell_type": "markdown",
   "metadata": {},
   "source": [
    "##### Exercise 2(a)\n",
    "\n",
    "$$\n",
    "    A = \\begin{bmatrix}\n",
    "     0 & 1 \\\\\n",
    "     1 & 0\n",
    "    \\end{bmatrix}.\n",
    "$$"
   ]
  },
  {
   "cell_type": "markdown",
   "metadata": {},
   "source": [
    "##### Exercise 2(b)\n",
    "\n",
    "$$\n",
    "    A = \\begin{bmatrix}\n",
    "     1 & 1 \\\\\n",
    "     1 & 1\n",
    "    \\end{bmatrix}.\n",
    "$$"
   ]
  },
  {
   "cell_type": "markdown",
   "metadata": {},
   "source": [
    "##### Exercise 2(c)\n",
    "\n",
    "$$\n",
    "    A = \\begin{bmatrix}\n",
    "     1 & -1 \\\\\n",
    "     -1 & 1\n",
    "    \\end{bmatrix}.\n",
    "$$"
   ]
  },
  {
   "cell_type": "markdown",
   "metadata": {},
   "source": [
    "##### Exercise 2(d)\n",
    "\n",
    "$$\n",
    "    A = \\begin{bmatrix}\n",
    "     1 & 2 \\\\\n",
    "     2 & 4\n",
    "    \\end{bmatrix}.\n",
    "$$"
   ]
  },
  {
   "cell_type": "markdown",
   "metadata": {},
   "source": [
    "##### Exercise 3\n",
    "\n",
    "將以下矩陣以么正矩陣對角化。"
   ]
  },
  {
   "cell_type": "markdown",
   "metadata": {},
   "source": [
    "##### Exercise 3(a)\n",
    "\n",
    "$$\n",
    "    A = \\begin{bmatrix}\n",
    "     0 & -1 \\\\\n",
    "     1 & 0\n",
    "    \\end{bmatrix}.\n",
    "$$"
   ]
  },
  {
   "cell_type": "markdown",
   "metadata": {},
   "source": [
    "##### Exercise 3(b)\n",
    "\n",
    "$$\n",
    "    A = \\begin{bmatrix}\n",
    "     1 & i \\\\\n",
    "     -i & 1\n",
    "    \\end{bmatrix}.\n",
    "$$"
   ]
  },
  {
   "cell_type": "markdown",
   "metadata": {},
   "source": [
    "##### Exercise 3(c)\n",
    "\n",
    "$$\n",
    "    A = \\begin{bmatrix}\n",
    "     \\frac{1}{\\sqrt{2}} & -\\frac{1}{\\sqrt{2}} \\\\\n",
    "     \\frac{1}{\\sqrt{2}} & \\frac{1}{\\sqrt{2}}\n",
    "    \\end{bmatrix}.\n",
    "$$"
   ]
  },
  {
   "cell_type": "markdown",
   "metadata": {},
   "source": [
    "##### Exercise 4\n",
    "\n",
    "將  \n",
    "\n",
    "$$\n",
    "    A = \\begin{bmatrix}\n",
    "     1 & 1 & 1 \\\\\n",
    "     1 & 1 & 1 \\\\\n",
    "     1 & 1 & 1 \\\\\n",
    "    \\end{bmatrix}\n",
    "$$\n",
    "\n",
    "以實對稱矩陣對角化。"
   ]
  },
  {
   "cell_type": "markdown",
   "metadata": {},
   "source": [
    "##### Exercise 5\n",
    "\n",
    "將  \n",
    "\n",
    "$$\n",
    "    A = \\begin{bmatrix}\n",
    "     0 & 0 & 1 & 1 \\\\\n",
    "     0 & 0 & 1 & 1 \\\\\n",
    "     1 & 1 & 0 & 0 \\\\\n",
    "     1 & 1 & 0 & 0 \\\\\n",
    "    \\end{bmatrix}\n",
    "$$\n",
    "\n",
    "以實對稱矩陣對角化。"
   ]
  },
  {
   "cell_type": "markdown",
   "metadata": {},
   "source": [
    "##### Exercise 6\n",
    "\n",
    "令 $T$ 為一上三角複矩陣。"
   ]
  },
  {
   "cell_type": "markdown",
   "metadata": {},
   "source": [
    "##### Exercise 6(a)\n",
    "\n",
    "證明以下敘述等價：  \n",
    "\n",
    "1. $T$ 是正規矩陣。\n",
    "2. $T$ 是對角矩陣。"
   ]
  },
  {
   "cell_type": "markdown",
   "metadata": {},
   "source": [
    "##### Exercise 6(b)\n",
    "\n",
    "證明以下敘述等價：  \n",
    "\n",
    "1. $T$ 是自伴矩陣。\n",
    "2. $T$ 是對角矩陣且對角線項均為實數。"
   ]
  },
  {
   "cell_type": "markdown",
   "metadata": {},
   "source": [
    "##### Exercise 7\n",
    "\n",
    "利用第 6 題及薛爾上三角化證明以下定理。"
   ]
  },
  {
   "cell_type": "markdown",
   "metadata": {},
   "source": [
    "##### Exercise 7(a)\n",
    "\n",
    "證明：\n",
    "\n",
    "##### Spectral theorem (normal matrix)\n",
    "\n",
    "Let $A$ be a normal matrix.  \n",
    "Then there is a unitary matrix $Q$ such that $Q^* AQ$ is diagonal.  \n",
    "\n",
    "Equivalently, $A$ has an orthonormal basis."
   ]
  },
  {
   "cell_type": "markdown",
   "metadata": {},
   "source": [
    "##### Exercise 7(b)\n",
    "\n",
    "證明：\n",
    "\n",
    "##### Spectral theorem (Hermitian matrix)\n",
    "\n",
    "Let $A$ be a Hermitian matrix.  \n",
    "Then there is a unitary matrix $Q$ such that $Q^* AQ$ is diagonal and real.  \n",
    "\n",
    "Equivalently, $A$ has an orthonormal basis and its eigenvalues are all real.  "
   ]
  },
  {
   "cell_type": "markdown",
   "metadata": {},
   "source": [
    "##### Exercise 7(c)\n",
    "\n",
    "證明：\n",
    "\n",
    "##### Spectral theorem (symmetric matrix)\n",
    "\n",
    "Let $A$ be a real symmetric matrix.  \n",
    "Then there is a real orthogonal matrix $Q$ such that $Q\\trans AQ$ is diagonal and real.  \n",
    "\n",
    "Equivalently, $A$ has an orthonormal basis over $\\mathbb{R}$ and its eigenvalues are all real.  "
   ]
  },
  {
   "cell_type": "markdown",
   "metadata": {},
   "source": [
    "##### Exercise 8\n",
    "\n",
    "實際上，要證明一個自伴矩陣的特徵值均為實數  \n",
    "不一定要用到譜定理。  \n",
    "\n",
    "令 $A$ 為一自伴矩陣。  \n",
    "若 $A\\bx = \\lambda \\bx$，考慮 $\\bx^* A \\bx$ 及其共軛轉置。  \n",
    "藉此說明 $A$ 的特徵值均為實數。"
   ]
  },
  {
   "cell_type": "markdown",
   "metadata": {},
   "source": [
    "##### Exercise 9\n",
    "\n",
    "以下練習探討么正矩陣和實垂直矩陣的相關性質。"
   ]
  },
  {
   "cell_type": "markdown",
   "metadata": {},
   "source": [
    "##### Exercise 9(a)\n",
    "\n",
    "說明么正矩陣是正規矩陣。  \n",
    "藉此說明么正矩陣可以被么正矩陣對角化。  \n",
    "並證明其特徵值的絕對值均為 $1$。"
   ]
  },
  {
   "cell_type": "markdown",
   "metadata": {},
   "source": [
    "##### Exercise 9(b)\n",
    "\n",
    "說明實垂直矩陣可以被么正矩陣對角化、  \n",
    "其特徵值的絕對值均為 $1$、  \n",
    "而且其特徵值對實軸對稱。"
   ]
  }
 ],
 "metadata": {
  "kernelspec": {
   "display_name": "SageMath 9.5",
   "language": "sage",
   "name": "sagemath"
  },
  "language_info": {
   "codemirror_mode": {
    "name": "ipython",
    "version": 3
   },
   "file_extension": ".py",
   "mimetype": "text/x-python",
   "name": "python",
   "nbconvert_exporter": "python",
   "pygments_lexer": "ipython3",
   "version": "3.10.2"
  }
 },
 "nbformat": 4,
 "nbformat_minor": 4
}
