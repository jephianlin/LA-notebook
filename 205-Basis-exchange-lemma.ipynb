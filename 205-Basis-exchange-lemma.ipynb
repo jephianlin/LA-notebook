{
 "cells": [
  {
   "cell_type": "markdown",
   "metadata": {},
   "source": [
    "# 基底交換法則"
   ]
  },
  {
   "cell_type": "markdown",
   "metadata": {},
   "source": [
    "![Creative Commons License](https://i.creativecommons.org/l/by/4.0/88x31.png)  \n",
    "This work by Jephian Lin is licensed under a [Creative Commons Attribution 4.0 International License](http://creativecommons.org/licenses/by/4.0/)."
   ]
  },
  {
   "cell_type": "markdown",
   "metadata": {},
   "source": [
    "$\\newcommand{\\trans}{^\\top}\n",
    "\\newcommand{\\adj}{^{\\rm adj}}\n",
    "\\newcommand{\\cof}{^{\\rm cof}}\n",
    "\\newcommand{\\inp}[2]{\\left\\langle#1,#2\\right\\rangle}\n",
    "\\newcommand{\\dunion}{\\mathbin{\\dot\\cup}}\n",
    "\\newcommand{\\bzero}{\\mathbf{0}}\n",
    "\\newcommand{\\bone}{\\mathbf{1}}\n",
    "\\newcommand{\\ba}{\\mathbf{a}}\n",
    "\\newcommand{\\bb}{\\mathbf{b}}\n",
    "\\newcommand{\\bc}{\\mathbf{c}}\n",
    "\\newcommand{\\bd}{\\mathbf{d}}\n",
    "\\newcommand{\\be}{\\mathbf{e}}\n",
    "\\newcommand{\\bh}{\\mathbf{h}}\n",
    "\\newcommand{\\bp}{\\mathbf{p}}\n",
    "\\newcommand{\\bq}{\\mathbf{q}}\n",
    "\\newcommand{\\br}{\\mathbf{r}}\n",
    "\\newcommand{\\bx}{\\mathbf{x}}\n",
    "\\newcommand{\\by}{\\mathbf{y}}\n",
    "\\newcommand{\\bz}{\\mathbf{z}}\n",
    "\\newcommand{\\bu}{\\mathbf{u}}\n",
    "\\newcommand{\\bv}{\\mathbf{v}}\n",
    "\\newcommand{\\bw}{\\mathbf{w}}\n",
    "\\newcommand{\\tr}{\\operatorname{tr}}\n",
    "\\newcommand{\\nul}{\\operatorname{null}}\n",
    "\\newcommand{\\rank}{\\operatorname{rank}}\n",
    "%\\newcommand{\\ker}{\\operatorname{ker}}\n",
    "\\newcommand{\\range}{\\operatorname{range}}\n",
    "\\newcommand{\\Col}{\\operatorname{Col}}\n",
    "\\newcommand{\\Row}{\\operatorname{Row}}\n",
    "\\newcommand{\\spec}{\\operatorname{spec}}\n",
    "\\newcommand{\\vspan}{\\operatorname{span}}\n",
    "\\newcommand{\\Vol}{\\operatorname{Vol}}\n",
    "\\newcommand{\\sgn}{\\operatorname{sgn}}\n",
    "\\newcommand{\\idmap}{\\operatorname{id}}\n",
    "\\newcommand{\\am}{\\operatorname{am}}\n",
    "\\newcommand{\\gm}{\\operatorname{gm}}\n",
    "\\newcommand{\\mult}{\\operatorname{mult}}\n",
    "\\newcommand{\\iner}{\\operatorname{iner}}$"
   ]
  },
  {
   "cell_type": "code",
   "execution_count": null,
   "metadata": {},
   "outputs": [],
   "source": [
    "from lingeo import random_int_list, random_good_matrix, find_pivots"
   ]
  },
  {
   "cell_type": "markdown",
   "metadata": {},
   "source": [
    "## Main idea"
   ]
  },
  {
   "cell_type": "markdown",
   "metadata": {},
   "source": [
    "It is attempting to define the _dimension_ of a subspace as the number of vectors in one of its basis.  \n",
    "The following two sections considers the following questions:  \n",
    "1. Do different bases of a subspace contain the same number of vectors?\n",
    "2. Can $\\mathbb{R}^n$ contain a linearly independent set of infinitely many vectors?\n",
    "\n",
    "It turns out intuition wins!  \n",
    "The answer is YES to 1 and NO to 2, and we will walk through these theoretical foundations of the dimension."
   ]
  },
  {
   "cell_type": "markdown",
   "metadata": {},
   "source": [
    "##### Basis exchange lemma (vector form)\n",
    "\n",
    "Let $\\beta = \\{ \\bb_1, \\ldots, \\bb_d \\}$ be a basis of a subspace $V$.  \n",
    "Let $\\ba$ be a nonzero vector in $V$.  \n",
    "Then there is a vector $\\bb\\in\\beta$ such that $\\beta\\cup\\{\\ba\\}\\setminus\\{\\bb\\}$ is again a basis of $V$.  \n",
    "Moreover, if $\\ba = c_1\\bb_1 + \\cdots + c_d\\bb_d$, then $\\bb$ can be chosen as any $\\bb_i$ with $c_i\\neq 0$."
   ]
  },
  {
   "cell_type": "markdown",
   "metadata": {},
   "source": [
    "##### Basis exchange lemma (set form)\n",
    "\n",
    "Let $\\beta = \\{ \\bb_1, \\ldots, \\bb_d \\}$ be a basis of a subspace $V$.  \n",
    "Let $\\alpha$ be a linearly independent set of (possibly infinitely many) vectors in $V$.  \n",
    "Then $|\\alpha|<|\\beta|$ and there is a subset $\\beta'\\subseteq\\beta$ such that $\\beta\\cup\\alpha\\setminus\\beta'$  is again a basis of $V$ and $|\\beta'| = |\\alpha|$.  "
   ]
  },
  {
   "cell_type": "markdown",
   "metadata": {},
   "source": [
    "## Side stories\n",
    "- algorithm for exchanging the basis"
   ]
  },
  {
   "cell_type": "markdown",
   "metadata": {},
   "source": [
    "## Experiments"
   ]
  },
  {
   "cell_type": "markdown",
   "metadata": {},
   "source": [
    "##### Exercise 1\n",
    "\n",
    "執行下方程式碼。  \n",
    "己知 $\\ba\\in\\Col(B)$。  \n",
    "令 $\\bb_1,\\ldots,\\bb_3$ 為 $B$ 的各行向量。  \n",
    "令 $R$ 為 $B$ 的最簡階梯形式矩陣、  \n",
    "$\\left[\\begin{array}{c|c} \\be_1 & R' \\end{array}\\right]$ 為 $\\left[\\begin{array}{c|c} \\ba & B \\end{array}\\right]$ 的最簡階梯形式矩陣。"
   ]
  },
  {
   "cell_type": "code",
   "execution_count": null,
   "metadata": {
    "scrolled": false
   },
   "outputs": [],
   "source": [
    "### code\n",
    "set_random_seed(0)\n",
    "print_ans = False\n",
    "m,n,r = 4,3,3\n",
    "B = random_good_matrix(m,n,r)\n",
    "R = B.rref()\n",
    "v = random_int_list(3, r=1)\n",
    "a = B * vector(v)\n",
    "aB = matrix(a).transpose().augment(B, subdivide=True)\n",
    "eRp = aB.rref()\n",
    "pivots = find_pivots(eRp)\n",
    "\n",
    "print(\"[ a | B ] =\")\n",
    "show(aB)\n",
    "print(\"R =\")\n",
    "show(R)\n",
    "print(\"[ e1 | R' ] =\")\n",
    "show(eRp)\n",
    "\n",
    "if print_ans:\n",
    "    print(\"Number of pivots for R and [ e1 | R' ] are %s; they are the same.\"%len(pivots))\n",
    "    print(\"The betaC for B is { b1, ..., b3 }.\")\n",
    "    print(\"The betaC for [ a | B ] is { a, \" + \", \".join(\"b%s\"%i for i in pivots[1:]) + \" }.\")\n",
    "    print(\"a = \" + \" + \".join(\"%s u%s\"%(v[i], i+1) for i in range(n)) )\n",
    "    for i in range(n):\n",
    "        if i in pivots:\n",
    "            print(\"{ a, \" + \", \".join(\"b%s\"%(j+1) for j in range(n) if j != i) + \" } is a basis.\")\n",
    "        else:\n",
    "            print(\"{ a, \" + \", \".join(\"b%s\"%(j+1) for j in range(n) if j != i) + \" } is not a basis.\")"
   ]
  },
  {
   "cell_type": "markdown",
   "metadata": {},
   "source": [
    "##### Exercise 1(a)\n",
    "\n",
    "判斷 $R$ 和 $\\left[\\begin{array}{c|c} \\be_1 & R' \\end{array}\\right]$ 的軸數量是否一樣？  \n",
    "也就是 $B$ 和 $\\left[\\begin{array}{c|c} \\ba & B \\end{array}\\right]$ 所得出來的 $\\beta_C$ 其包含的向量個數是否一樣？"
   ]
  },
  {
   "cell_type": "markdown",
   "metadata": {},
   "source": [
    "##### Exercise 1(b)\n",
    "\n",
    "計算 $B$ 和 $\\left[\\begin{array}{c|c} \\ba & B \\end{array}\\right]$ 各算得出來的 $\\beta_C$。  "
   ]
  },
  {
   "cell_type": "markdown",
   "metadata": {},
   "source": [
    "##### Exercise 1(c)\n",
    "\n",
    "把 $\\ba$ 表示成 $B$ 的各行向量的線性組合。  "
   ]
  },
  {
   "cell_type": "markdown",
   "metadata": {},
   "source": [
    "##### Exercise 1(d)\n",
    "\n",
    "用程式計算看看對於哪些 $i = 1,\\ldots, 5$﹐  \n",
    "$\\beta\\cup\\{\\ba\\}\\setminus\\{\\bb_i\\}$ 是 $\\Col(B)$ 的基底。  "
   ]
  },
  {
   "cell_type": "markdown",
   "metadata": {},
   "source": [
    "## Exercises"
   ]
  },
  {
   "cell_type": "markdown",
   "metadata": {},
   "source": [
    "##### Exercise 2\n",
    "\n",
    "若 $\\beta = \\{ \\bb_1, \\bb_2, \\bb_3 \\}$ 是子空間 $V$ 的一組基底。  \n",
    "已知 $\\ba = 4\\bb_2 + 5\\bb_3$。  \n",
    "令 $\\beta_1 = \\beta \\cup \\{\\ba\\} \\setminus \\{ \\bb_3 \\}$。  "
   ]
  },
  {
   "cell_type": "markdown",
   "metadata": {},
   "source": [
    "##### Exercise 2(a)\n",
    "\n",
    "將 $\\bb_3$ 寫成 $\\beta_1$ 的線性組合﹐  \n",
    "並說明 $\\operatorname{\\beta} = \\operatorname{\\beta_1} = V$。  "
   ]
  },
  {
   "cell_type": "markdown",
   "metadata": {},
   "source": [
    "##### Exercise 2(b)\n",
    "\n",
    "證明 $\\beta_1$ 線性獨立﹐因此它是 $V$ 的一組基底。  "
   ]
  },
  {
   "cell_type": "markdown",
   "metadata": {},
   "source": [
    "##### Exercise 3\n",
    "\n",
    "令 $\\beta = \\{\\bb_1,\\ldots,\\bb_n\\}$ 為子空間 $V$ 的一組基底  \n",
    "而 $B$ 為一矩陣其行向量為 $\\beta$ 的向量。  \n",
    "令 $R$ 為 $B$ 的最簡階梯形式矩陣。  \n",
    "若 $i$ 為 $R$ 的一個軸﹐  \n",
    "則表示在 $R$ 上第 $i$ 行比前面幾行多了一列非零的元素﹐  \n",
    "因此我們有以下等價敘述：  \n",
    "1. $i$ is a pivot of $R$.\n",
    "2. $\\bb_i\\notin \\vspan(\\{\\bb_1,\\ldots,\\bb_{i-1}\\})$."
   ]
  },
  {
   "cell_type": "markdown",
   "metadata": {},
   "source": [
    "##### Exercise 3(a)\n",
    "\n",
    "令 $\\ba\\in V$ 是一個非零向量  \n",
    "並計算 $\\left[\\begin{array}{c|c} \\ba & B \\end{array}\\right]$ 的 $\\beta_C$。  \n",
    "說明 $\\ba$ 一定會落在 $\\beta_C$ 裡﹐  \n",
    "因此 $\\beta_C$ 是 $V$ 的一組基底並且包含 $\\ba$。  "
   ]
  },
  {
   "cell_type": "markdown",
   "metadata": {},
   "source": [
    "##### Exercise 3(a)\n",
    "\n",
    "令 $\\alpha$ 是一群 $V$ 中有限個數的向量且線性獨立﹐  \n",
    "且 $A$ 為一矩陣其各行向量為 $\\alpha$ 中的向量。    \n",
    "並計算 $\\left[\\begin{array}{c|c} A & B \\end{array}\\right]$ 的 $\\beta_C$。  \n",
    "說明 $\\alpha\\subseteq\\beta_C$ 裡﹐  \n",
    "因此 $\\beta_C$ 是 $V$ 的一組基底並且包含 $\\alpha$。  "
   ]
  },
  {
   "cell_type": "markdown",
   "metadata": {},
   "source": [
    "##### Exercise 4\n",
    "\n",
    "證明 basis exchange lemma (vector form)。"
   ]
  },
  {
   "cell_type": "markdown",
   "metadata": {},
   "source": [
    "Sample:  \n",
    "Since $\\beta$ is a basis of $V$ and $\\ba\\in V$, $\\ba$ can be written as the linear combination \n",
    "$$\\ba = c_1\\bb_1 + \\cdots + c_d\\bb_d$$\n",
    "of $\\beta$.  \n",
    "Since $\\ba\\neq\\bzero$, at least one of $c_i$ is nonzero.  \n",
    "Without loss of generality, we may assume $c_d\\neq 0$.  \n",
    "Let $\\beta_1 = \\beta \\cup \\{\\ba\\} \\setminus \\{\\bb_d\\}$.\n",
    "\n",
    "**Claim: $\\vspan(\\beta_1) = V$**  \n",
    "...  \n",
    "\n",
    "**Claim: $\\vspan(\\beta_1)$ is linearly independent**  \n",
    "...  "
   ]
  },
  {
   "cell_type": "markdown",
   "metadata": {},
   "source": [
    "##### Exercise 5\n",
    "\n",
    "利用 basis exchange lemma (vector form) 證明 basis exchange lemma (set form)。  "
   ]
  },
  {
   "cell_type": "markdown",
   "metadata": {},
   "source": [
    "Sample:  \n",
    "If $\\alpha = \\emptyset$, then there is nothing to prove.  \n",
    "Suppose $\\alpha \\neq \\emptyset$.  \n",
    "Pick an element $\\ba\\in\\alpha$ and let $\\alpha'_1 = \\{\\ba\\}$.  \n",
    "By the basis exchange lemma (vector form), $\\beta_1 = \\beta \\cup \\alpha \\setminus \\beta'_1$ with $\\beta'_1 = \\{\\bb\\}$ for some $\\bb\\in\\beta$.  \n",
    "\n",
    "Continue the following process for $i = 2, \\ldots, d$.  \n",
    "If $\\alpha'_{i-1} = \\alpha$, then we are done.  \n",
    "Otherwise, pick an element $\\ba\\in\\alpha\\setminus\\alpha'$ and let $\\alpha'_i = \\alpha'_{i-1} \\cup \\{\\ba\\}$.  \n",
    "Since $\\beta_{i-1}$ is a basis, ...  \n",
    "...  \n",
    "By the basis exchange lemma (vector form), $\\beta_i = \\beta \\cup \\alpha \\setminus \\beta'_i$ with $\\beta'_i = \\beta'_{i-1} \\cup \\{\\bb\\}$ for some  $\\bb\\in\\beta\\setminus\\beta'_{i-1}$.   \n",
    "\n",
    "Suppose the process finished at $i = d$.  \n",
    "Then $\\beta_d$ is composed of some $d$ vectors in $\\alpha$.  \n",
    "Since $\\beta_d$ is a basis, $\\alpha\\setminus\\beta_d$ is empty for otherwise $\\alpha$ is not linearly independent.  \n",
    "Therefore, necessarily $|\\alpha|\\leq|\\beta|$, and there is a subset $\\beta'\\subseteq\\beta$ such that $\\beta\\cup\\alpha\\setminus\\beta'$  is again a basis of $V$ and $|\\beta'| = |\\alpha|$.  "
   ]
  }
 ],
 "metadata": {
  "kernelspec": {
   "display_name": "SageMath 9.6",
   "language": "sage",
   "name": "sagemath"
  },
  "language_info": {
   "codemirror_mode": {
    "name": "ipython",
    "version": 3
   },
   "file_extension": ".py",
   "mimetype": "text/x-python",
   "name": "python",
   "nbconvert_exporter": "python",
   "pygments_lexer": "ipython3",
   "version": "3.10.5"
  }
 },
 "nbformat": 4,
 "nbformat_minor": 4
}
