{
 "cells": [
  {
   "cell_type": "markdown",
   "metadata": {},
   "source": [
    "# 基底交換法則"
   ]
  },
  {
   "cell_type": "markdown",
   "metadata": {},
   "source": [
    "![Creative Commons License](https://i.creativecommons.org/l/by/4.0/88x31.png)  \n",
    "This work by Jephian Lin is licensed under a [Creative Commons Attribution 4.0 International License](http://creativecommons.org/licenses/by/4.0/)."
   ]
  },
  {
   "cell_type": "code",
   "execution_count": null,
   "metadata": {},
   "outputs": [],
   "source": [
    "from lingeo import random_int_list, random_good_matrix, find_pivots"
   ]
  },
  {
   "cell_type": "markdown",
   "metadata": {},
   "source": [
    "## Main idea"
   ]
  },
  {
   "cell_type": "markdown",
   "metadata": {},
   "source": [
    "It is attempting to define the _dimension_ of a subspace as the number of vectors in one of its basis.  \n",
    "The following three sections considers the following questions:  \n",
    "1. Do different bases of a subspace contain the same number of vectors?\n",
    "2. Can $\\mathbb{R}^n$ contain a linearly independent set of infinitely many vectors?\n",
    "\n",
    "It turns out intuition wins!  \n",
    "The answer is YES to 1 and NO to 2, and we will walk through these theoretical foundations of the dimension."
   ]
  },
  {
   "cell_type": "markdown",
   "metadata": {},
   "source": [
    "##### Basis exchange lemma (vector form)\n",
    "\n",
    "Let $\\beta = \\{ {\\bf b}_1, \\ldots, {\\bf b}_d \\}$ be a basis of a subspace $V$.  \n",
    "Let ${\\bf a}$ be a nonzero vector in $V$.  \n",
    "Then there is a vector ${\\bf b}\\in\\beta$ such that $\\beta\\cup\\{{\\bf a}\\}\\setminus\\{{\\bf b}\\}$ is again a basis of $V$.  \n",
    "Moreover, if ${\\bf a} = c_1{\\bf b}_1 + \\cdots + c_d{\\bf b}_d$, then ${\\bf b}$ can be chosen as any ${\\bf b}_i$ with $c_i\\neq 0$."
   ]
  },
  {
   "cell_type": "markdown",
   "metadata": {},
   "source": [
    "##### Basis exchange lemma (set form)\n",
    "\n",
    "Let $\\beta = \\{ {\\bf b}_1, \\ldots, {\\bf b}_d \\}$ be a basis of a subspace $V$.  \n",
    "Let $\\alpha$ be a linearly independent set of (possibly infinitely many) vectors in $V$.  \n",
    "Then $|\\alpha|<|\\beta|$ and there is a subset $\\beta'\\subseteq\\beta$ such that $\\beta\\cup\\alpha\\setminus\\beta'$  is again a basis of $V$ and $|\\beta'| = |\\alpha|$.  "
   ]
  },
  {
   "cell_type": "markdown",
   "metadata": {},
   "source": [
    "## Side stories\n",
    "- algorithm for exchanging the basis"
   ]
  },
  {
   "cell_type": "markdown",
   "metadata": {},
   "source": [
    "## Experiments"
   ]
  },
  {
   "cell_type": "markdown",
   "metadata": {},
   "source": [
    "##### Exercise 1\n",
    "\n",
    "執行下方程式碼。  \n",
    "己知 ${\\bf a}\\in\\operatorname{Col}(B)$。  \n",
    "令 ${\\bf b}_1,\\ldots,{\\bf b}_3$ 為 $B$ 的各行向量。  \n",
    "令 $R$ 為 $B$ 的最簡階梯形式矩陣、  \n",
    "$\\left[\\begin{array}{c|c} {\\bf e}_1 & R' \\end{array}\\right]$ 為 $\\left[\\begin{array}{c|c} {\\bf a} & B \\end{array}\\right]$ 的最簡階梯形式矩陣。"
   ]
  },
  {
   "cell_type": "code",
   "execution_count": null,
   "metadata": {
    "scrolled": false
   },
   "outputs": [],
   "source": [
    "### code\n",
    "set_random_seed(0)\n",
    "print_ans = False\n",
    "m,n,r = 4,3,3\n",
    "B = random_good_matrix(m,n,r)\n",
    "R = B.rref()\n",
    "v = random_int_list(3, r=1)\n",
    "a = B * vector(v)\n",
    "aB = matrix(a).transpose().augment(B, subdivide=True)\n",
    "eRp = aB.rref()\n",
    "pivots = find_pivots(eRp)\n",
    "\n",
    "print(\"[ a | B ] =\")\n",
    "show(aB)\n",
    "print(\"R =\")\n",
    "show(R)\n",
    "print(\"[ e1 | R' ] =\")\n",
    "show(eRp)\n",
    "\n",
    "if print_ans:\n",
    "    print(\"Number of pivots for R and [ e1 | R' ] are %s; they are the same.\"%len(pivots))\n",
    "    print(\"The betaC for B is { b1, ..., b3 }.\")\n",
    "    print(\"The betaC for [ a | B ] is { a, \" + \", \".join(\"b%s\"%i for i in pivots[1:]) + \" }.\")\n",
    "    print(\"a = \" + \" + \".join(\"%s u%s\"%(v[i], i+1) for i in range(n)) )\n",
    "    for i in range(n):\n",
    "        if i in pivots:\n",
    "            print(\"{ a, \" + \", \".join(\"b%s\"%(j+1) for j in range(n) if j != i) + \" } is a basis.\")\n",
    "        else:\n",
    "            print(\"{ a, \" + \", \".join(\"b%s\"%(j+1) for j in range(n) if j != i) + \" } is not a basis.\")"
   ]
  },
  {
   "cell_type": "markdown",
   "metadata": {},
   "source": [
    "##### Exercise 1(a)\n",
    "\n",
    "判斷 $R$ 和 $\\left[\\begin{array}{c|c} {\\bf e}_1 & R' \\end{array}\\right]$ 的軸數量是否一樣？  \n",
    "也就是 $B$ 和 $\\left[\\begin{array}{c|c} {\\bf a} & B \\end{array}\\right]$ 所得出來的 $\\beta_C$ 其包含的向量個數是否一樣？"
   ]
  },
  {
   "cell_type": "markdown",
   "metadata": {},
   "source": [
    "##### Exercise 1(b)\n",
    "\n",
    "計算 $B$ 和 $\\left[\\begin{array}{c|c} {\\bf a} & B \\end{array}\\right]$ 各算得出來的 $\\beta_C$。  "
   ]
  },
  {
   "cell_type": "markdown",
   "metadata": {},
   "source": [
    "##### Exercise 1(c)\n",
    "\n",
    "把 ${\\bf a}$ 表示成 $B$ 的各行向量的線性組合。  "
   ]
  },
  {
   "cell_type": "markdown",
   "metadata": {},
   "source": [
    "##### Exercise 1(d)\n",
    "\n",
    "用程式計算看看對於哪些 $i = 1,\\ldots, 5$﹐  \n",
    "$\\beta\\cup\\{{\\bf a}\\}\\setminus\\{{\\bf b}_i\\}$ 是 $\\operatorname{Col}(B)$ 的基底。  "
   ]
  },
  {
   "cell_type": "markdown",
   "metadata": {},
   "source": [
    "## Exercises"
   ]
  },
  {
   "cell_type": "markdown",
   "metadata": {},
   "source": [
    "##### Exercise 2\n",
    "\n",
    "若 $\\beta = \\{ {\\bf b}_1, {\\bf b}_2, {\\bf b}_3 \\}$ 是子空間 $V$ 的一組基底。  \n",
    "已知 ${\\bf a} = 4{\\bf b}_2 + 5{\\bf b}_3$。  \n",
    "令 $\\beta_1 = \\beta \\cup \\{{\\bf a}\\} \\setminus \\{ {\\bf b}_3 \\}$。  "
   ]
  },
  {
   "cell_type": "markdown",
   "metadata": {},
   "source": [
    "##### Exercise 2(a)\n",
    "\n",
    "將 ${\\bf b}_3$ 寫成 $\\beta_1$ 的線性組合﹐  \n",
    "並說明 $\\operatorname{\\beta} = \\operatorname{\\beta_1} = V$。  "
   ]
  },
  {
   "cell_type": "markdown",
   "metadata": {},
   "source": [
    "##### Exercise 2(b)\n",
    "\n",
    "證明 $\\beta_1$ 線性獨立﹐因此它是 $V$ 的一組基底。  "
   ]
  },
  {
   "cell_type": "markdown",
   "metadata": {},
   "source": [
    "##### Exercise 3\n",
    "\n",
    "令 $\\beta = \\{{\\bf b}_1,\\ldots,{\\bf b}_n\\}$ 為子空間 $V$ 的一組基底  \n",
    "而 $B$ 為一矩陣其行向量為 $\\beta$ 的向量。  \n",
    "令 $R$ 為 $B$ 的最簡階梯形式矩陣。  \n",
    "若 $i$ 為 $R$ 的一個軸﹐  \n",
    "則表示在 $R$ 上第 $i$ 行比前面幾行多了一列非零的元素﹐  \n",
    "因此我們有以下等價敘述：  \n",
    "1. $i$ is a pivot of $R$.\n",
    "2. ${\\bf b}_i\\notin \\operatorname{span}(\\{{\\bf b}_1,\\ldots,{\\bf b}_{i-1}\\})$."
   ]
  },
  {
   "cell_type": "markdown",
   "metadata": {},
   "source": [
    "##### Exercise 3(a)\n",
    "\n",
    "令 ${\\bf a}\\in V$ 是一個非零向量  \n",
    "並計算 $\\left[\\begin{array}{c|c} {\\bf a} & B \\end{array}\\right]$ 的 $\\beta_C$。  \n",
    "說明 ${\\bf a}$ 一定會落在 $\\beta_C$ 裡﹐  \n",
    "因此 $\\beta_C$ 是 $V$ 的一組基底並且包含 ${\\bf a}$。  "
   ]
  },
  {
   "cell_type": "markdown",
   "metadata": {},
   "source": [
    "##### Exercise 3(a)\n",
    "\n",
    "令 $\\alpha$ 是一群 $V$ 中有限個數的向量且線性獨立﹐  \n",
    "且 $A$ 為一矩陣其各行向量為 $\\alpha$ 中的向量。    \n",
    "並計算 $\\left[\\begin{array}{c|c} A & B \\end{array}\\right]$ 的 $\\beta_C$。  \n",
    "說明 $\\alpha\\subseteq\\beta_C$ 裡﹐  \n",
    "因此 $\\beta_C$ 是 $V$ 的一組基底並且包含 $\\alpha$。  "
   ]
  },
  {
   "cell_type": "markdown",
   "metadata": {},
   "source": [
    "##### Exercise 4\n",
    "\n",
    "證明 Basis exchange lemma (vector form)。"
   ]
  },
  {
   "cell_type": "markdown",
   "metadata": {},
   "source": [
    "Sample:  \n",
    "Since $\\beta$ is a basis of $V$ and ${\\bf a}\\in V$, ${\\bf a}$ can be written as the linear combination \n",
    "$${\\bf a} = c_1{\\bf b}_1 + \\cdots + c_d{\\bf b}_d$$\n",
    "of $\\beta$.  \n",
    "Since ${\\bf a}\\neq{\\bf 0}$, at least one of $c_i$ is nonzero.  \n",
    "Without loss of generality, we may assume $c_d\\neq 0$.  \n",
    "Let $\\beta_1 = \\beta \\cup \\{{\\bf a}\\} \\setminus \\{{\\bf b}_d\\}$.\n",
    "\n",
    "**Claim: $\\operatorname{span}(\\beta_1) = V$**  \n",
    "...  \n",
    "\n",
    "**Claim: $\\operatorname{span}(\\beta_1)$ is linearly independent**  \n",
    "...  "
   ]
  },
  {
   "cell_type": "markdown",
   "metadata": {},
   "source": [
    "##### Exercise 5\n",
    "\n",
    "利用 Basis exchange lemma (vector form) 證明 Basis exchange lemma (set form)。  "
   ]
  },
  {
   "cell_type": "markdown",
   "metadata": {},
   "source": [
    "Sample:  \n",
    "If $\\alpha = \\emptyset$, then there is nothing to prove.  \n",
    "Suppose $\\alpha \\neq \\emptyset$.  \n",
    "Pick an element ${\\bf a}\\in\\alpha$ and let $\\alpha'_1 = \\{{\\bf a}\\}$.  \n",
    "By the Basis Exchange Lemma (vector form), $\\beta_1 = \\beta \\cup \\alpha \\setminus \\beta'_1$ with $\\beta'_1 = \\{{\\bf b}\\}$ for some ${\\bf b}\\in\\beta$.  \n",
    "\n",
    "Continue the following process for $i = 2, \\ldots, d$.  \n",
    "If $\\alpha'_{i-1} = \\alpha$, then we are done.  \n",
    "Otherwise, pick an element ${\\bf a}\\in\\alpha\\setminus\\alpha'$ and let $\\alpha'_i = \\alpha'_{i-1} \\cup \\{{\\bf a}\\}$.  \n",
    "Since $\\beta_{i-1}$ is a basis, ...  \n",
    "...  \n",
    "By the Basis Exchange Lemma (vector form), $\\beta_i = \\beta \\cup \\alpha \\setminus \\beta'_i$ with $\\beta'_i = \\beta'_{i-1} \\cup \\{{\\bf b}\\}$ for some  ${\\bf b}\\in\\beta\\setminus\\beta'_{i-1}$.   \n",
    "\n",
    "Suppose the process finished at $i = d$.  \n",
    "Then $\\beta_d$ is composed of some $d$ vectors in $\\alpha$.  \n",
    "Since $\\beta_d$ is a basis, $\\alpha\\setminus\\beta_d$ is empty for otherwise $\\alpha$ is not linearly independent.  \n",
    "Therefore, necessarily $|\\alpha|\\leq|\\beta|$, and there is a subset $\\beta'\\subseteq\\beta$ such that $\\beta\\cup\\alpha\\setminus\\beta'$  is again a basis of $V$ and $|\\beta'| = |\\alpha|$.  "
   ]
  }
 ],
 "metadata": {
  "kernelspec": {
   "display_name": "SageMath 9.0",
   "language": "sage",
   "name": "sagemath"
  },
  "language_info": {
   "codemirror_mode": {
    "name": "ipython",
    "version": 3
   },
   "file_extension": ".py",
   "mimetype": "text/x-python",
   "name": "python",
   "nbconvert_exporter": "python",
   "pygments_lexer": "ipython3",
   "version": "3.8.10"
  }
 },
 "nbformat": 4,
 "nbformat_minor": 4
}
