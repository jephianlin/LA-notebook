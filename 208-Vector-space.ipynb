{
 "cells": [
  {
   "cell_type": "markdown",
   "metadata": {},
   "source": [
    "# 向量空間"
   ]
  },
  {
   "cell_type": "markdown",
   "metadata": {},
   "source": [
    "![Creative Commons License](https://i.creativecommons.org/l/by/4.0/88x31.png)  \n",
    "This work by Jephian Lin is licensed under a [Creative Commons Attribution 4.0 International License](http://creativecommons.org/licenses/by/4.0/)."
   ]
  },
  {
   "cell_type": "markdown",
   "metadata": {},
   "source": [
    "$\\newcommand{\\trans}{^\\top}\n",
    "\\newcommand{\\adj}{^{\\rm adj}}\n",
    "\\newcommand{\\cof}{^{\\rm cof}}\n",
    "\\newcommand{\\inp}[2]{\\left\\langle#1,#2\\right\\rangle}\n",
    "\\newcommand{\\dunion}{\\mathbin{\\dot\\cup}}\n",
    "\\newcommand{\\bzero}{\\mathbf{0}}\n",
    "\\newcommand{\\bone}{\\mathbf{1}}\n",
    "\\newcommand{\\ba}{\\mathbf{a}}\n",
    "\\newcommand{\\bb}{\\mathbf{b}}\n",
    "\\newcommand{\\bc}{\\mathbf{c}}\n",
    "\\newcommand{\\bd}{\\mathbf{d}}\n",
    "\\newcommand{\\be}{\\mathbf{e}}\n",
    "\\newcommand{\\bh}{\\mathbf{h}}\n",
    "\\newcommand{\\bp}{\\mathbf{p}}\n",
    "\\newcommand{\\bq}{\\mathbf{q}}\n",
    "\\newcommand{\\br}{\\mathbf{r}}\n",
    "\\newcommand{\\bx}{\\mathbf{x}}\n",
    "\\newcommand{\\by}{\\mathbf{y}}\n",
    "\\newcommand{\\bz}{\\mathbf{z}}\n",
    "\\newcommand{\\bu}{\\mathbf{u}}\n",
    "\\newcommand{\\bv}{\\mathbf{v}}\n",
    "\\newcommand{\\bw}{\\mathbf{w}}\n",
    "\\newcommand{\\tr}{\\operatorname{tr}}\n",
    "\\newcommand{\\nul}{\\operatorname{null}}\n",
    "\\newcommand{\\rank}{\\operatorname{rank}}\n",
    "%\\newcommand{\\ker}{\\operatorname{ker}}\n",
    "\\newcommand{\\range}{\\operatorname{range}}\n",
    "\\newcommand{\\Col}{\\operatorname{Col}}\n",
    "\\newcommand{\\Row}{\\operatorname{Row}}\n",
    "\\newcommand{\\spec}{\\operatorname{spec}}\n",
    "\\newcommand{\\vspan}{\\operatorname{span}}\n",
    "\\newcommand{\\Vol}{\\operatorname{Vol}}\n",
    "\\newcommand{\\sgn}{\\operatorname{sgn}}\n",
    "\\newcommand{\\idmap}{\\operatorname{id}}\n",
    "\\newcommand{\\am}{\\operatorname{am}}\n",
    "\\newcommand{\\gm}{\\operatorname{gm}}\n",
    "\\newcommand{\\mult}{\\operatorname{mult}}\n",
    "\\newcommand{\\iner}{\\operatorname{iner}}$"
   ]
  },
  {
   "cell_type": "code",
   "execution_count": null,
   "metadata": {},
   "outputs": [],
   "source": [
    "from lingeo import random_int_list, random_good_matrix"
   ]
  },
  {
   "cell_type": "markdown",
   "metadata": {},
   "source": [
    "## Main idea"
   ]
  },
  {
   "cell_type": "markdown",
   "metadata": {},
   "source": [
    "The vectors in $\\mathbb{R}^n$ enjoy some nice properties, such as $\\bu + \\bv = \\bv + \\bu$.  \n",
    "Although one can always expand a vector $\\bx$ in $\\mathbb{R}^n$ as $(x_1,\\ldots, x_n)$, this seemingly natural setting is not always required.  \n",
    "For example, linear combinations $c_1\\bu_1 + \\cdots + c_d\\bu_d$ are defined without really examing the entries.  "
   ]
  },
  {
   "cell_type": "markdown",
   "metadata": {},
   "source": [
    "Similarly, we may say `apple` and `banana` are vectors.  \n",
    "We can make a linear combination like `1 apple + 2 banana`  \n",
    "and say `{ apple, banana }` is a linearly independent set  \n",
    "since intuitively there is no way to replace `apples` with `bananas` such as `1 apple + 2 banana = 0` ."
   ]
  },
  {
   "cell_type": "markdown",
   "metadata": {},
   "source": [
    "##### Definition (Vector space)\n",
    "A **vector space** over $\\mathbb{R}$ consists of three parts:  \n",
    "1. a set $V$ (considered as the set of vectors), \n",
    "2. an addition $+$ for two vectors, and \n",
    "3. a scalar multiplication $\\cdot$ for a scalar and a vector.  \n",
    "\n",
    "The addition has to have the following basic properties:\n",
    "1. For any $\\bu, \\bv\\in W$, $\\bu + \\bv\\in W$.  (closed under vector addition)\n",
    "2. For any $\\bu, \\bv\\in W$, $\\bu + \\bv = \\bv + \\bu$.  (commutative)\n",
    "3. For any $\\bu, \\bv, \\bw\\in W$, $(\\bu + \\bv) + \\bw = \\bu + (\\bv + \\bw)$.  (associative)  \n",
    "4. There is a **zero vector** $\\bzero\\in V$ such that $\\bv + \\bzero = \\bv$ for any $\\bv\\in V$.  (additive identity)\n",
    "5. Every vector $\\bv$ has an additive inverse $\\bw$ such that $\\bv + \\bw = \\bzero$.  (additive inverse)\n",
    "\n",
    "The scalar multiplication has to cooperate with the addition in a good mannar:  \n",
    "\n",
    "6. For any $k\\in\\mathbb{R}$ and $\\bv\\in V$, $k\\cdot \\bv\\in V$.  (closed under scalar multiplication)\n",
    "7. For any $k,\\ell\\in\\mathbb{R}$ and $\\bv\\in V$, $(k + \\ell)\\cdot \\bv = k\\cdot\\bv + \\ell\\cdot\\bv$.  (distributive over scalar addition)\n",
    "8. For any $k\\in\\mathbb{R}$ and $\\bu, \\bv\\in V$, $k\\cdot(\\bu + \\bv) = k\\cdot \\bu + k\\cdot\\bv$.  (distributive over vector addition)\n",
    "9. For any $k,\\ell\\in\\mathbb{R}$ and $\\bv\\in V$, $(rs)\\cdot \\bv = r\\cdot(s\\cdot\\bv)$.  (associative over field multiplication and scalar multiplication)\n",
    "10. For $1\\in\\mathbb{R}$ and $\\bv\\in V$, $1\\cdot \\bv = \\bv$.  ($1$ is the identity operation)"
   ]
  },
  {
   "cell_type": "markdown",
   "metadata": {},
   "source": [
    "Obviously, one may check $\\mathbb{R}^n$ along with the classical vector addition $+$ and the scalar multiplication $\\cdot$ is a vector space.  \n",
    "In addition, the following can be viewed as vector spaces with the standard vector addition and scalar multiplication:\n",
    "1. All polynomial of degree at most $d$.  \n",
    "2. All $m\\times n$ matrices over $\\mathbb{R}^n$.  \n",
    "3. All functions on the interval $[0,1]$.  \n",
    "4. All continuous functions on the interval $[0,1]$.  \n",
    "\n",
    "There are still many instances of vector spaces.  \n",
    "And the nice thing about them is all the things we have learnt so far also apply to them, including span, linearly independence, dimension, ans so on."
   ]
  },
  {
   "cell_type": "markdown",
   "metadata": {},
   "source": [
    "We usually consider $\\mathbb{R}$ as the scalar, but any other number system with a _field_ structure also works.  \n",
    "A field is, roughly speaking, a set of elements equipped with customized $+$, $-$, $\\times$, and $\\div$.  \n",
    "Common examples are $\\mathbb{R}$, $\\mathbb{C}$, and $\\mathbb{Q}$.  \n",
    "In contrast, $\\mathbb{Z}$ is not a field since it does not allow division."
   ]
  },
  {
   "cell_type": "markdown",
   "metadata": {},
   "source": [
    "## Side stories\n",
    "- field\n",
    "- polynomial space\n",
    "- matrix space"
   ]
  },
  {
   "cell_type": "markdown",
   "metadata": {},
   "source": [
    "## Experiments"
   ]
  },
  {
   "cell_type": "markdown",
   "metadata": {},
   "source": [
    "##### Exercise 1\n",
    "\n",
    "執行以下程式碼。  \n",
    "令 $S = \\{ p_1, p_2, p_3 \\}$。  "
   ]
  },
  {
   "cell_type": "code",
   "execution_count": null,
   "metadata": {
    "scrolled": false
   },
   "outputs": [],
   "source": [
    "### code\n",
    "set_random_seed(0)\n",
    "print_ans = False\n",
    "m,n,r = 3,3,choice([2,3])\n",
    "A = random_good_matrix(m,n,r)\n",
    "v = vector(random_int_list(m))\n",
    "b = v * A\n",
    "\n",
    "xp = vector([x**p for p in range(n)])\n",
    "ps = A * xp\n",
    "for i in range(m):\n",
    "    pretty_print(\"p%s =\"%(i+1), ps[i])\n",
    "pretty_print(\"b =\", b * xp)\n",
    "\n",
    "if print_ans:\n",
    "    print(\"b = \" + \" + \".join(\"%s p%s\"%(v[i], i+1) for i in range(n)) )\n",
    "    print(\"Linearly independent?\", r == 3)\n",
    "    print(\"span = all polynomial of degree at most 2?\", r == 3)"
   ]
  },
  {
   "cell_type": "markdown",
   "metadata": {},
   "source": [
    "##### Exercise 1(a)\n",
    "\n",
    "將 $b$ 寫成 $S$ 的線性組合。  "
   ]
  },
  {
   "cell_type": "markdown",
   "metadata": {},
   "source": [
    "##### Exercise 1(b)\n",
    "\n",
    "判斷 $S$ 是否線性獨立？  "
   ]
  },
  {
   "cell_type": "markdown",
   "metadata": {},
   "source": [
    "##### Exercise 1(c)\n",
    "\n",
    "判斷 $\\vspan(S)$ 是否等於所有二次以下的多項式？"
   ]
  },
  {
   "cell_type": "markdown",
   "metadata": {},
   "source": [
    "## Exercises"
   ]
  },
  {
   "cell_type": "markdown",
   "metadata": {},
   "source": [
    "##### Exercise 2\n",
    "\n",
    "令  \n",
    "$$\\begin{aligned} \n",
    " p_1 &= (x + 1)(x + 2), \\\\\n",
    " p_2 &= (x + 1)(x + 3)\n",
    "\\end{aligned}$$  \n",
    "且 $S = \\{p_1, p_2\\}$。  "
   ]
  },
  {
   "cell_type": "markdown",
   "metadata": {},
   "source": [
    "##### Exercise 2(a)\n",
    "\n",
    "寫出一個 $S$ 的線性組合。  "
   ]
  },
  {
   "cell_type": "markdown",
   "metadata": {},
   "source": [
    "##### Exercise 2(b)\n",
    "\n",
    "判斷 $S$ 是否線性獨立。  "
   ]
  },
  {
   "cell_type": "markdown",
   "metadata": {},
   "source": [
    "##### Exercise 2(c)\n",
    "\n",
    "判斷 $\\vspan(S)$ 是否等於所有二次以下的多項式。  "
   ]
  },
  {
   "cell_type": "markdown",
   "metadata": {},
   "source": [
    "##### Exercise 3\n",
    "\n",
    "令  \n",
    "$$\\begin{aligned} \n",
    " A_1 &= \\begin{bmatrix} 1 & 1 \\\\ 1 & 1 \\end{bmatrix}, \\\\\n",
    " A_2 &= \\begin{bmatrix} 1 & 2 \\\\ 2 & 1 \\end{bmatrix}, \\\\\n",
    " A_3 &= \\begin{bmatrix} 2 & 1 \\\\ 1 & 2 \\end{bmatrix}\n",
    "\\end{aligned}$$  \n",
    "且 $S = \\{A_1, A_2, A_3\\}$。  "
   ]
  },
  {
   "cell_type": "markdown",
   "metadata": {},
   "source": [
    "##### Exercise 3(a)\n",
    "\n",
    "寫出一個 $S$ 的線性組合。  "
   ]
  },
  {
   "cell_type": "markdown",
   "metadata": {},
   "source": [
    "##### Exercise 3(b)\n",
    "\n",
    "判斷 $S$ 是否線性獨立。  "
   ]
  },
  {
   "cell_type": "markdown",
   "metadata": {},
   "source": [
    "##### Exercise 3(c)\n",
    "\n",
    "判斷 $\\vspan(S)$ 是否等於所有 $2\\times 2$ 的實係數矩陣。  "
   ]
  },
  {
   "cell_type": "markdown",
   "metadata": {},
   "source": [
    "##### Exercise 4\n",
    "\n",
    "以下考慮一種奇怪的加法 $\\oplus$ 和乘法 $\\otimes$。  \n",
    "考慮 $\\mathbb{R}_+$ 為所有正實數的集合、$+$ 和 $\\times$ 分別是實數的正常加法和乘法。  \n",
    "若 $a,b\\in\\mathbb{R}_+$ 定義 $a \\oplus b = a \\times b$﹐  \n",
    "若 $k\\in\\mathbb{R}$ 而 $a\\in\\mathbb{R}_+$ 定義 $k\\otimes a = a^k$。\n",
    "\n",
    "驗證 $(\\mathbb{R}_+, \\oplus, \\otimes)$ 配合在一起是一個向量空間。  "
   ]
  },
  {
   "cell_type": "markdown",
   "metadata": {},
   "source": [
    "##### Exercise 5\n",
    "\n",
    "若 $V$ 為一向量空間。  \n",
    "證明以下性質。  "
   ]
  },
  {
   "cell_type": "markdown",
   "metadata": {},
   "source": [
    "##### Exercise 5(a)\n",
    "\n",
    "對於任何 $\\bv\\in V$，都有 $0\\cdot \\bv = \\bzero$。  \n",
    "（這個式子的口頭敘述是：  \n",
    "實數的 $0$ 乘上任何一個向量  \n",
    "都是零向量。）  "
   ]
  },
  {
   "cell_type": "markdown",
   "metadata": {},
   "source": [
    "##### Exercise 5(a)\n",
    "\n",
    "對於任何 $\\bv\\in V$，$-1\\cdot \\bv + \\bv = \\bzero$。  \n",
    "（這個式子的口頭敘述是：  \n",
    "實數的 $-1$ 乘上任何一個向量  \n",
    "都是該向量的加法反元素。）  "
   ]
  },
  {
   "cell_type": "markdown",
   "metadata": {},
   "source": [
    "##### Exercise 6\n",
    "\n",
    "一個體的指的是一個集合 $F$ 搭配一個加法一個乘法  \n",
    "（想像實數集 $\\mathbb{R}$、或是有理數集 $\\mathbb{Q}$；但整數集 $\\mathbb{Z}$ 則不是一個體。）  \n",
    "使得：\n",
    "1. 加法和乘法都有交換律和結合律。  \n",
    "2. 乘法配合加法有分配律。  \n",
    "3. 加法有單位元素 $0$ 使得對任意 $a\\in F$ 都有 $a + 0 = a$。  \n",
    "4. 乘法有單位元素 $1$ 使得對任意 $a\\in F$ 都有 $a \\cdot 1 = a$。  \n",
    "5. 每個元素 $a\\in F$ 都有加法反元素 $b\\in F$ 使得 $a + b = 0$。  \n",
    "6. 每個非加法單位元素 $0$ 的元素 $a\\in F$ 都有乘法反元素 $b\\in F$ 使得 $a \\cdot b = 1$。  \n",
    "\n",
    "驗證 $\\mathbb{Z}_2 = \\{0,1\\}$ 搭配  \n",
    "加法 $a + b = (a + b) \\pmod{2}$ 和  \n",
    "乘法 $a \\cdot b = a \\cdot b$  \n",
    "是一個體。  \n",
    "\n",
    "（所以向量空間中的純量也可以代換成 $\\mathbb{Z}_2$。）"
   ]
  }
 ],
 "metadata": {
  "kernelspec": {
   "display_name": "SageMath 9.6",
   "language": "sage",
   "name": "sagemath"
  },
  "language_info": {
   "codemirror_mode": {
    "name": "ipython",
    "version": 3
   },
   "file_extension": ".py",
   "mimetype": "text/x-python",
   "name": "python",
   "nbconvert_exporter": "python",
   "pygments_lexer": "ipython3",
   "version": "3.10.5"
  }
 },
 "nbformat": 4,
 "nbformat_minor": 4
}
