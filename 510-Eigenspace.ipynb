{
 "cells": [
  {
   "cell_type": "markdown",
   "metadata": {},
   "source": [
    "# 特徵空間"
   ]
  },
  {
   "cell_type": "markdown",
   "metadata": {},
   "source": [
    "![Creative Commons License](https://i.creativecommons.org/l/by/4.0/88x31.png)  \n",
    "This work by Jephian Lin is licensed under a [Creative Commons Attribution 4.0 International License](http://creativecommons.org/licenses/by/4.0/)."
   ]
  },
  {
   "cell_type": "markdown",
   "metadata": {},
   "source": [
    "$\\newcommand{\\trans}{^\\top}\n",
    "\\newcommand{\\adj}{^{\\rm adj}}\n",
    "\\newcommand{\\cof}{^{\\rm cof}}\n",
    "\\newcommand{\\inp}[2]{\\left\\langle#1,#2\\right\\rangle}\n",
    "\\newcommand{\\dunion}{\\mathbin{\\dot\\cup}}\n",
    "\\newcommand{\\bzero}{\\mathbf{0}}\n",
    "\\newcommand{\\bone}{\\mathbf{1}}\n",
    "\\newcommand{\\ba}{\\mathbf{a}}\n",
    "\\newcommand{\\bb}{\\mathbf{b}}\n",
    "\\newcommand{\\bc}{\\mathbf{c}}\n",
    "\\newcommand{\\bd}{\\mathbf{d}}\n",
    "\\newcommand{\\be}{\\mathbf{e}}\n",
    "\\newcommand{\\bh}{\\mathbf{h}}\n",
    "\\newcommand{\\bp}{\\mathbf{p}}\n",
    "\\newcommand{\\bq}{\\mathbf{q}}\n",
    "\\newcommand{\\br}{\\mathbf{r}}\n",
    "\\newcommand{\\bx}{\\mathbf{x}}\n",
    "\\newcommand{\\by}{\\mathbf{y}}\n",
    "\\newcommand{\\bz}{\\mathbf{z}}\n",
    "\\newcommand{\\bu}{\\mathbf{u}}\n",
    "\\newcommand{\\bv}{\\mathbf{v}}\n",
    "\\newcommand{\\bw}{\\mathbf{w}}\n",
    "\\newcommand{\\tr}{\\operatorname{tr}}\n",
    "\\newcommand{\\nul}{\\operatorname{null}}\n",
    "\\newcommand{\\rank}{\\operatorname{rank}}\n",
    "%\\newcommand{\\ker}{\\operatorname{ker}}\n",
    "\\newcommand{\\range}{\\operatorname{range}}\n",
    "\\newcommand{\\Col}{\\operatorname{Col}}\n",
    "\\newcommand{\\Row}{\\operatorname{Row}}\n",
    "\\newcommand{\\spec}{\\operatorname{spec}}\n",
    "\\newcommand{\\vspan}{\\operatorname{span}}\n",
    "\\newcommand{\\Vol}{\\operatorname{Vol}}\n",
    "\\newcommand{\\sgn}{\\operatorname{sgn}}\n",
    "\\newcommand{\\idmap}{\\operatorname{id}}\n",
    "\\newcommand{\\am}{\\operatorname{am}}\n",
    "\\newcommand{\\gm}{\\operatorname{gm}}$"
   ]
  },
  {
   "cell_type": "code",
   "execution_count": null,
   "metadata": {},
   "outputs": [],
   "source": [
    "from lingeo import random_int_list, random_good_matrix"
   ]
  },
  {
   "cell_type": "markdown",
   "metadata": {},
   "source": [
    "## Main idea"
   ]
  },
  {
   "cell_type": "markdown",
   "metadata": {},
   "source": [
    "Let $A$ be a square matrix and $\\lambda\\in\\spec(A)$.  \n",
    "The **eigenspace** of $A$ with respect to $\\lambda$ is defined as  \n",
    "$$\n",
    "    E_\\lambda = \\ker(A - \\lambda I).\n",
    "$$\n",
    "By definition, we have $\\gm(\\lambda) = \\dim(E_\\lambda)$."
   ]
  },
  {
   "cell_type": "markdown",
   "metadata": {},
   "source": [
    "Similarly, if $f:V \\rightarrow V$ is a linear function and $\\lambda\\in\\spec(f)$,  \n",
    "then the **eigenspace** of $f$ with respect to $\\lambda$ is  \n",
    "$$\n",
    "    E_\\lambda = \\ker(f - \\lambda\\idmap_V) = \\{\\bv\\in V: f(v) = \\lambda \\bv\\}.\n",
    "$$"
   ]
  },
  {
   "cell_type": "markdown",
   "metadata": {},
   "source": [
    "Recall that a set of subspaces $\\{V_1,\\ldots,V_k\\}$ is linearly independent if  \n",
    "the only choice of ${\\bf v}_1\\in V_1, \\ldots, {\\bf v}_k\\in V_k$ satisfying  \n",
    "$${\\bf v}_1 + \\cdots + {\\bf v}_k = {\\bf 0}$$  \n",
    "is ${\\bf v}_1 = \\cdots = {\\bf v}_k = {\\bf 0}$.  \n",
    "(See 211 for more details and exercises.)"
   ]
  },
  {
   "cell_type": "markdown",
   "metadata": {},
   "source": [
    "Let $A$ be an $n\\times n$ matrix with distinct eigenvalues $\\lambda_1, \\ldots, \\lambda_q$.  \n",
    "Then $\\{E_{\\lambda_1}, \\ldots, E_{\\lambda_q}\\}$ is linearly independent.  "
   ]
  },
  {
   "cell_type": "markdown",
   "metadata": {},
   "source": [
    "Therefore, if $\\gm(\\lambda_i) = \\am(\\lambda_i)$,  \n",
    "or, equivalently, the sum of geometric multiplicity is $n$,  \n",
    "then one may pick a basis $\\beta_{\\lambda_i}$ for each $E_{\\lambda_i}$ and $\\beta = \\beta_{\\lambda_1} \\cup \\cdots \\cup \\beta_{\\lambda_q}$ is a basis of $\\mathbb{R}^n$.  \n",
    "Therefore, $A$ is diagonalizable.  "
   ]
  },
  {
   "cell_type": "markdown",
   "metadata": {},
   "source": [
    "In a different language, the following are equivalent.  \n",
    "\n",
    "- $A$ is diagonalizable.  \n",
    "- $\\mathbb{R}^n = E_{\\lambda_1} \\oplus \\cdots \\oplus E_{\\lambda_q}$.  \n",
    "\n",
    "That is, $\\mathbb{R}^n$ can be written as the direct sum of the eigenspaces of $A$.  "
   ]
  },
  {
   "cell_type": "markdown",
   "metadata": {},
   "source": [
    "## Side stories\n",
    "\n",
    "- simultaneously diagonalizable"
   ]
  },
  {
   "cell_type": "markdown",
   "metadata": {},
   "source": [
    "## Experiments"
   ]
  },
  {
   "cell_type": "markdown",
   "metadata": {},
   "source": [
    "##### Exercise 1\n",
    "\n",
    "執行以下程式碼。  \n",
    "令 $\\bu_1$ 為 $A_1$ 的行向量、  \n",
    "$\\bu_2,\\bu_3$ 為 $A_2$ 的行向量、  \n",
    "$\\bu_4,\\bu_5$ 為 $A_3$ 的行向量、  \n",
    "而 $R$ 為 $\\begin{bmatrix} A_1 A_2 A_3 \\end{bmatrix}$ 的最簡階梯型。  \n",
    "（已知 $\\ker(A_1) = \\ker(A_2) = \\ker(A_3) = \\{\\bzero\\}$。）"
   ]
  },
  {
   "cell_type": "code",
   "execution_count": null,
   "metadata": {
    "scrolled": false
   },
   "outputs": [],
   "source": [
    "### code\n",
    "set_random_seed(None)\n",
    "print_ans = True\n",
    "\n",
    "indep = choice([True, False])\n",
    "\n",
    "n = 6\n",
    "A = random_good_matrix(n,n,5)\n",
    "if not indep:\n",
    "    while True:\n",
    "        l = random_int_list(4)\n",
    "        if 0 not in l:\n",
    "            break\n",
    "    A.columns()[-1] = A[:,[0,1,2,3]] * vector(l)\n",
    "    \n",
    "A1 = A[:,[0]]\n",
    "A2 = A[:,[1,2]]\n",
    "A3 = A[:,[3,4]]\n",
    "\n",
    "pretty_print(LatexExpr(\"A_1 =\"), A1, LatexExpr(\", A_2 =\"), A2, LatexExpr(\"A_3 =\"), A3)\n",
    "# am1 = choice([2,3])\n",
    "# am2 = choice([2,3])\n",
    "# n = am1 + am2\n",
    "# while True:\n",
    "#     lam1, lam2 = random_int_list(2,3)\n",
    "#     if lam1 != lam2:\n",
    "#         break\n",
    "# gm1 = randint(1,am1)\n",
    "# gm2 = randint(1,am2)\n",
    "\n",
    "# block1 = [matrix([[lam1]]) for i in range(gm1 - 1)] + [jordan_block(lam1, am1 - gm1 + 1)]\n",
    "# block2 = [matrix([[lam2]]) for i in range(gm2 - 1)] + [jordan_block(lam2, am2 - gm2 + 1)]\n",
    "# D = block_diagonal_matrix(block1 + block2)\n",
    "# Q = random_good_matrix(n,n,n,2)\n",
    "# A = Q * D * Q.inverse()\n",
    "\n",
    "# pretty_print(LatexExpr(\"A =\"), A)\n",
    "# pA = (-1)^n * A.charpoly()\n",
    "# print(\"characteristic polyomial =\", pA)\n",
    "# print(\"                         =\", factor(pA))\n",
    "# print(\"rref of A - (%s)I:\"%lam1)\n",
    "# pretty_print((A - lam1).rref())\n",
    "# print(\"rref of A - (%s)I:\"%lam2)\n",
    "# pretty_print((A - lam2).rref())\n",
    "\n",
    "# if print_ans:\n",
    "#     print(\"lambda =\", lam1)\n",
    "#     print(\"am(lambda) =\", am1)\n",
    "#     print(\"gm(lambda) =\", gm1)\n",
    "#     print(\"lambda =\", lam2)\n",
    "#     print(\"am(lambda) =\", am2)\n",
    "#     print(\"gm(lambda) =\", gm2)\n",
    "#     print(\"Diagonalizable?\", am1 == gm1 and am2 == gm2)"
   ]
  },
  {
   "cell_type": "markdown",
   "metadata": {},
   "source": [
    "##### Exercise 1(a)\n",
    "\n",
    "求 $A$ 的每一個特徵值的代數重數與幾何重數。"
   ]
  },
  {
   "cell_type": "markdown",
   "metadata": {},
   "source": [
    "##### Exercise 1(b)\n",
    "\n",
    "判斷 $A$ 是否可對角化。"
   ]
  },
  {
   "cell_type": "markdown",
   "metadata": {},
   "source": [
    "## Exercises"
   ]
  },
  {
   "cell_type": "markdown",
   "metadata": {},
   "source": [
    "##### Exercise 2\n",
    "\n",
    "對以下矩陣，  \n",
    "計算每一個特徵值的代數重數與幾何重數，  \n",
    "並判斷其是否可以對角化。"
   ]
  },
  {
   "cell_type": "markdown",
   "metadata": {},
   "source": [
    "##### Exercise 2(a)\n",
    "\n",
    "$$\n",
    "    A = \\begin{bmatrix}\n",
    "    0 & 1 \\\\\n",
    "    -6 & 5\n",
    "    \\end{bmatrix}.\n",
    "$$"
   ]
  },
  {
   "cell_type": "markdown",
   "metadata": {},
   "source": [
    "##### Exercise 2(b)\n",
    "\n",
    "$$\n",
    "    A = \\begin{bmatrix}\n",
    "    -1 & 1 \\\\\n",
    "    -1 & 1\n",
    "    \\end{bmatrix}.\n",
    "$$"
   ]
  },
  {
   "cell_type": "markdown",
   "metadata": {},
   "source": [
    "##### Exercise 3\n",
    "\n",
    "對以下矩陣，  \n",
    "計算每一個特徵值的代數重數與幾何重數，  \n",
    "並判斷其是否可以對角化。"
   ]
  },
  {
   "cell_type": "markdown",
   "metadata": {},
   "source": [
    "##### Exercise 3(a)\n",
    "\n",
    "$$\n",
    "    A = \\begin{bmatrix}\n",
    "    4 & 0 & -1 \\\\\n",
    "    0 & 4 & -1 \\\\\n",
    "    -1 & -1 & 5\n",
    "    \\end{bmatrix}.\n",
    "$$"
   ]
  },
  {
   "cell_type": "markdown",
   "metadata": {},
   "source": [
    "##### Exercise 3(b)\n",
    "\n",
    "$$\n",
    "    A = \\begin{bmatrix}\n",
    "    1 & 3 & 2 \\\\\n",
    "    2 & 4 & 3 \\\\\n",
    "    -3 & -7 & -5\n",
    "    \\end{bmatrix}.\n",
    "$$"
   ]
  },
  {
   "cell_type": "markdown",
   "metadata": {},
   "source": [
    "##### Exercise 4\n",
    "\n",
    "以下矩陣稱為喬丹區塊矩陣（Jordan block）。  \n",
    "說明以下矩陣  \n",
    "不計算重數的話只有一個特徵值，  \n",
    "計算這個特徵值的代數重數與幾何重數。  \n",
    "\n",
    "因此大小大於等於 $2$ 的喬丹區塊矩陣皆不可對角化。"
   ]
  },
  {
   "cell_type": "markdown",
   "metadata": {},
   "source": [
    "##### Exercise 4(a)\n",
    "\n",
    "$$\n",
    "    A = \\begin{bmatrix}\n",
    "    0 & 1 & 0 & 0 \\\\\n",
    "    0 & 0 & 1 & 0 \\\\\n",
    "    0 & 0 & 0 & 1 \\\\\n",
    "    0 & 0 & 0 & 0\n",
    "    \\end{bmatrix}.\n",
    "$$"
   ]
  },
  {
   "cell_type": "markdown",
   "metadata": {},
   "source": [
    "##### Exercise 4(b)\n",
    "\n",
    "$$\n",
    "    A = \\begin{bmatrix}\n",
    "    3 & 1 & 0 & 0 & 0 \\\\\n",
    "    0 & 3 & 1 & 0 & 0 \\\\\n",
    "    0 & 0 & 3 & 1 & 0 \\\\\n",
    "    0 & 0 & 0 & 3 & 1 \\\\\n",
    "    0 & 0 & 0 & 0 & 3\n",
    "    \\end{bmatrix}.\n",
    "$$"
   ]
  },
  {
   "cell_type": "markdown",
   "metadata": {},
   "source": [
    "##### Exercise 5\n",
    "\n",
    "找尋滿足以下條件的矩陣。"
   ]
  },
  {
   "cell_type": "markdown",
   "metadata": {},
   "source": [
    "##### Exercise 5(a)\n",
    "\n",
    "找一個矩陣 $A$ 使得  \n",
    "$\\spec(A) = \\{2,2,3,3,3\\}$、  \n",
    "$\\gm(2) = 1$ 且 $\\gm(3) = 2$。"
   ]
  },
  {
   "cell_type": "markdown",
   "metadata": {},
   "source": [
    "##### Exercise 5(a)\n",
    "\n",
    "找一個每一項都不為零的矩陣 $A$ 使得  \n",
    "$\\spec(A) = \\{2,2,3,3,3\\}$、  \n",
    "$\\gm(2) = 1$ 且 $\\gm(3) = 2$。"
   ]
  },
  {
   "cell_type": "markdown",
   "metadata": {},
   "source": [
    "##### Exercise 6\n",
    "\n",
    "令 $A$ 為一 $n\\times n$ 矩陣而 $\\lambda$ 為其一特徵值。  \n",
    "依照以下步驟證明 $\\gm(\\lambda) \\leq \\am(\\lambda)$。"
   ]
  },
  {
   "cell_type": "markdown",
   "metadata": {},
   "source": [
    "##### Exercise 6(a)\n",
    "\n",
    "令 $d = \\gm(\\lambda)$ 為 $\\ker(A - \\lambda I)$ 的維度。  \n",
    "找一組 $\\ker(A - \\lambda I)$ 的基底 $\\alpha$，  \n",
    "並將其擴展為 $\\mathbb{R}^n$ 的一組基底 $\\beta$。  \n",
    "（所以 $\\alpha\\subseteq\\beta$ 且 $|\\alpha| = d$。）  \n",
    "說明 $[f_A]_\\beta^\\beta$ 會有以下型式  \n",
    "$$\n",
    "    \\begin{bmatrix}\n",
    "    \\lambda I_d & B \\\\\n",
    "    O_{n-d,d} & D\n",
    "    \\end{bmatrix}.\n",
    "$$  \n",
    "（這裡 $D$ 只是一個矩陣的符號，不一定是對角矩陣。）"
   ]
  },
  {
   "cell_type": "markdown",
   "metadata": {},
   "source": [
    "##### Exercise 6(b)\n",
    "\n",
    "由於 $[f_A]_\\beta^\\beta$ 和 $A$ 有相同的特徵多項式。  \n",
    "說明 $p_A(x)$ 中有 $(\\lambda - x)^d$ 這個因式，  \n",
    "因此 $\\gm(\\lambda) \\leq \\am(\\lambda)$。"
   ]
  },
  {
   "cell_type": "markdown",
   "metadata": {},
   "source": [
    "##### Exercise 7\n",
    "\n",
    "令 $A$ 為一矩陣而 $W$ 為一 $\\mathbb{R}^n$ 的子空間。  \n",
    "如果  \n",
    "$$\n",
    "    f_A(W) = \\{A\\bw: \\bw\\in W\\} \\subseteq W,\n",
    "$$\n",
    "則我們稱 $W$ 是一個 **$A$-不變子空間（$A$-invariant subspace）**。  \n",
    "\n",
    "同樣地，令 $f:V\\rightarrow V$ 為一個線性函數  \n",
    "而 $W$ 是 $V$ 的一個子空間。\n",
    "如果  \n",
    "$$\n",
    "    f(W) = \\{f(\\bw): \\bw\\in W\\} \\subseteq W,\n",
    "$$\n",
    "則我們稱 $W$ 是一個 **$f$-不變子空間（$f$-invariant subspace）**。  "
   ]
  },
  {
   "cell_type": "markdown",
   "metadata": {},
   "source": [
    "##### Exercise 7(a)\n",
    "\n",
    "令 $A$ 為一 $n\\times n$ 矩陣而 $W$ 為一 $A$-不變子空間。  \n",
    "令 $\\alpha$ 為 $W$ 的一組基底  \n",
    "並將基擴展為 $\\mathbb{R}^n$ 的一組基底 $\\beta$。  \n",
    "說明 $[f_A]_\\beta^\\beta$ 會有以下型式  \n",
    "$$\n",
    "    \\begin{bmatrix}\n",
    "    \\lambda A & B \\\\\n",
    "    O_{n-d,d} & D\n",
    "    \\end{bmatrix}.\n",
    "$$  \n",
    "（這裡 $D$ 只是一個矩陣的符號，不一定是對角矩陣。）"
   ]
  },
  {
   "cell_type": "markdown",
   "metadata": {},
   "source": [
    "##### Exercise 7(b)\n",
    "\n",
    "若 $A$ 為一矩陣，而 $\\lambda$ 為其一特徵值。  \n",
    "說明 $\\ker(A - \\lambda I)$ 為一 $A$-不變子空間。"
   ]
  }
 ],
 "metadata": {
  "kernelspec": {
   "display_name": "SageMath 9.4",
   "language": "sage",
   "name": "sagemath"
  },
  "language_info": {
   "codemirror_mode": {
    "name": "ipython",
    "version": 3
   },
   "file_extension": ".py",
   "mimetype": "text/x-python",
   "name": "python",
   "nbconvert_exporter": "python",
   "pygments_lexer": "ipython3",
   "version": "3.10.1"
  }
 },
 "nbformat": 4,
 "nbformat_minor": 4
}
