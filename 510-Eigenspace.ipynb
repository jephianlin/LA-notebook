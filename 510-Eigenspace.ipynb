{
 "cells": [
  {
   "cell_type": "markdown",
   "metadata": {},
   "source": [
    "# 特徵空間"
   ]
  },
  {
   "cell_type": "markdown",
   "metadata": {},
   "source": [
    "![Creative Commons License](https://i.creativecommons.org/l/by/4.0/88x31.png)  \n",
    "This work by Jephian Lin is licensed under a [Creative Commons Attribution 4.0 International License](http://creativecommons.org/licenses/by/4.0/)."
   ]
  },
  {
   "cell_type": "markdown",
   "metadata": {},
   "source": [
    "$\\newcommand{\\trans}{^\\top}\n",
    "\\newcommand{\\adj}{^{\\rm adj}}\n",
    "\\newcommand{\\cof}{^{\\rm cof}}\n",
    "\\newcommand{\\inp}[2]{\\left\\langle#1,#2\\right\\rangle}\n",
    "\\newcommand{\\dunion}{\\mathbin{\\dot\\cup}}\n",
    "\\newcommand{\\bzero}{\\mathbf{0}}\n",
    "\\newcommand{\\bone}{\\mathbf{1}}\n",
    "\\newcommand{\\ba}{\\mathbf{a}}\n",
    "\\newcommand{\\bb}{\\mathbf{b}}\n",
    "\\newcommand{\\bc}{\\mathbf{c}}\n",
    "\\newcommand{\\bd}{\\mathbf{d}}\n",
    "\\newcommand{\\be}{\\mathbf{e}}\n",
    "\\newcommand{\\bh}{\\mathbf{h}}\n",
    "\\newcommand{\\bp}{\\mathbf{p}}\n",
    "\\newcommand{\\bq}{\\mathbf{q}}\n",
    "\\newcommand{\\br}{\\mathbf{r}}\n",
    "\\newcommand{\\bx}{\\mathbf{x}}\n",
    "\\newcommand{\\by}{\\mathbf{y}}\n",
    "\\newcommand{\\bz}{\\mathbf{z}}\n",
    "\\newcommand{\\bu}{\\mathbf{u}}\n",
    "\\newcommand{\\bv}{\\mathbf{v}}\n",
    "\\newcommand{\\bw}{\\mathbf{w}}\n",
    "\\newcommand{\\tr}{\\operatorname{tr}}\n",
    "\\newcommand{\\nul}{\\operatorname{null}}\n",
    "\\newcommand{\\rank}{\\operatorname{rank}}\n",
    "%\\newcommand{\\ker}{\\operatorname{ker}}\n",
    "\\newcommand{\\range}{\\operatorname{range}}\n",
    "\\newcommand{\\Col}{\\operatorname{Col}}\n",
    "\\newcommand{\\Row}{\\operatorname{Row}}\n",
    "\\newcommand{\\spec}{\\operatorname{spec}}\n",
    "\\newcommand{\\vspan}{\\operatorname{span}}\n",
    "\\newcommand{\\Vol}{\\operatorname{Vol}}\n",
    "\\newcommand{\\sgn}{\\operatorname{sgn}}\n",
    "\\newcommand{\\idmap}{\\operatorname{id}}\n",
    "\\newcommand{\\am}{\\operatorname{am}}\n",
    "\\newcommand{\\gm}{\\operatorname{gm}}\n",
    "\\newcommand{\\mult}{\\operatorname{mult}}\n",
    "\\newcommand{\\iner}{\\operatorname{iner}}$"
   ]
  },
  {
   "cell_type": "code",
   "execution_count": null,
   "metadata": {},
   "outputs": [],
   "source": [
    "from lingeo import random_int_list, random_good_matrix"
   ]
  },
  {
   "cell_type": "markdown",
   "metadata": {},
   "source": [
    "## Main idea"
   ]
  },
  {
   "cell_type": "markdown",
   "metadata": {},
   "source": [
    "Let $A$ be a square matrix and $\\lambda\\in\\spec(A)$.  \n",
    "The **eigenspace** of $A$ with respect to $\\lambda$ is defined as  \n",
    "\n",
    "$$\n",
    "    E_\\lambda = \\ker(A - \\lambda I).\n",
    "$$\n",
    "\n",
    "By definition, we have $\\gm(\\lambda) = \\dim(E_\\lambda)$."
   ]
  },
  {
   "cell_type": "markdown",
   "metadata": {},
   "source": [
    "Similarly, if $f:V \\rightarrow V$ is a linear function and $\\lambda\\in\\spec(f)$,  \n",
    "then the **eigenspace** of $f$ with respect to $\\lambda$ is  \n",
    "\n",
    "$$\n",
    "    E_\\lambda = \\ker(f - \\lambda\\idmap_V) = \\{\\bv\\in V: f(v) = \\lambda \\bv\\}.\n",
    "$$"
   ]
  },
  {
   "cell_type": "markdown",
   "metadata": {},
   "source": [
    "Recall that a set of subspaces $\\{V_1,\\ldots,V_k\\}$ is linearly independent if  \n",
    "the only choice of ${\\bf v}_1\\in V_1, \\ldots, {\\bf v}_k\\in V_k$ satisfying  \n",
    "\n",
    "$$\n",
    "    {\\bf v}_1 + \\cdots + {\\bf v}_k = {\\bf 0}\n",
    "$$  \n",
    "\n",
    "is ${\\bf v}_1 = \\cdots = {\\bf v}_k = {\\bf 0}$.  \n",
    "(See 211 for more details and exercises.)"
   ]
  },
  {
   "cell_type": "markdown",
   "metadata": {},
   "source": [
    "Let $A$ be an $n\\times n$ matrix with distinct eigenvalues $\\lambda_1, \\ldots, \\lambda_q$.  \n",
    "Then $\\{E_{\\lambda_1}, \\ldots, E_{\\lambda_q}\\}$ is linearly independent.  "
   ]
  },
  {
   "cell_type": "markdown",
   "metadata": {},
   "source": [
    "Therefore, if $\\gm(\\lambda_i) = \\am(\\lambda_i)$,  \n",
    "or, equivalently, the sum of geometric multiplicity is $n$,  \n",
    "then one may pick a basis $\\beta_{\\lambda_i}$ for each $E_{\\lambda_i}$ and $\\beta = \\beta_{\\lambda_1} \\cup \\cdots \\cup \\beta_{\\lambda_q}$ is a basis of $\\mathbb{R}^n$.  \n",
    "Therefore, $A$ is diagonalizable.  "
   ]
  },
  {
   "cell_type": "markdown",
   "metadata": {},
   "source": [
    "In a different language, the following are equivalent.  \n",
    "\n",
    "- $A$ is diagonalizable.  \n",
    "- $\\mathbb{R}^n = E_{\\lambda_1} \\oplus \\cdots \\oplus E_{\\lambda_q}$.  \n",
    "\n",
    "That is, $\\mathbb{R}^n$ can be written as the direct sum of the eigenspaces of $A$.  "
   ]
  },
  {
   "cell_type": "markdown",
   "metadata": {},
   "source": [
    "## Side stories\n",
    "\n",
    "- simultaneously diagonalizable"
   ]
  },
  {
   "cell_type": "markdown",
   "metadata": {},
   "source": [
    "## Experiments"
   ]
  },
  {
   "cell_type": "markdown",
   "metadata": {},
   "source": [
    "##### Exercise 1\n",
    "\n",
    "執行以下程式碼。  \n",
    "令 $\\bu_1$ 為 $A_1$ 的行向量、  \n",
    "$\\bu_2,\\bu_3$ 為 $A_2$ 的行向量、  \n",
    "$\\bu_4,\\bu_5$ 為 $A_3$ 的行向量、  \n",
    "而 $R$ 為 $\\begin{bmatrix} A_1 A_2 A_3 \\end{bmatrix}$ 的最簡階梯型。  \n",
    "（已知 $\\ker(A_1) = \\ker(A_2) = \\ker(A_3) = \\{\\bzero\\}$。）  \n",
    "\n",
    "<!-- eng start -->\n",
    "Run the code below.  Let $\\bu_1$ be the column of $A_1$, $\\bu_2,\\bu_3$ the columns of $A_2$, $\\bu_4,\\bu_5$ the columns of $A_3$, and $R$ the reduced echelon form of $\\begin{bmatrix} A_1 A_2 A_3 \\end{bmatrix}$.  (Suppose $\\ker(A_1) = \\ker(A_2) = \\ker(A_3) = \\{\\bzero\\}$.)  \n",
    "<!-- eng end -->"
   ]
  },
  {
   "cell_type": "code",
   "execution_count": null,
   "metadata": {
    "scrolled": false
   },
   "outputs": [],
   "source": [
    "### code\n",
    "set_random_seed(0)\n",
    "print_ans = False\n",
    "\n",
    "indep = choice([True, False])\n",
    "\n",
    "n = 6\n",
    "A = random_good_matrix(n,5,5)\n",
    "if not indep:\n",
    "    while True:\n",
    "        l = random_int_list(4)\n",
    "        if 0 not in l:\n",
    "            break\n",
    "    A[:,-1] = A[:,[0,1,2,3]] * matrix(4, l)\n",
    "    \n",
    "A1 = A[:,[0]]\n",
    "A2 = A[:,[1,2]]\n",
    "A3 = A[:,[3,4]]\n",
    "R = A.rref()\n",
    "\n",
    "pretty_print(LatexExpr(\"A_1 =\"), A1, LatexExpr(\", A_2 =\"), A2, LatexExpr(\"A_3 =\"), A3)\n",
    "pretty_print(LatexExpr(\"R =\"), R)\n",
    "\n",
    "if print_ans:\n",
    "    print(\"Linearly independent?\", indep)\n",
    "    if indep:\n",
    "        print(\"If v1 + v2 + v3 = 0,\")\n",
    "        print(\"then v1 = a1 u1, v2 = a2 u2 + a3 u3, v3 = a4 u4 + a5 u5,\")\n",
    "        print(\"and a1 u1 + a2 u2 + a3 u3 + a4 u4 + a5 u5 = 0.\")\n",
    "        print(\"But then {u1, u2, u3, u4, u5} is linearly independent.\")\n",
    "    else:\n",
    "        v1 = A1 * vector(l[:1])\n",
    "        v2 = A2 * vector(l[1:3])\n",
    "        v3 = A3 * vector(l[3:] + [-1])\n",
    "        print(\"v1 = (%s)u1\"%l[0], v1)\n",
    "        print(\"v2 = (%s)u2 + (%s)u3\"%(l[1], l[2]), v2)\n",
    "        print(\"v3 = (%s)u4 + (%s)u5\"%(l[3], -1), v3)"
   ]
  },
  {
   "cell_type": "markdown",
   "metadata": {},
   "source": [
    "##### Exercise 1(a)\n",
    "\n",
    "判斷 $\\{\\Col(A_1), \\Col(A_2), \\Col(A_3)\\}$ 是否線性獨立。  \n",
    "\n",
    "<!-- eng start -->\n",
    "Determine if $\\{\\Col(A_1), \\Col(A_2), \\Col(A_3)\\}$ is linearly independent.  \n",
    "<!-- eng end -->"
   ]
  },
  {
   "cell_type": "markdown",
   "metadata": {},
   "source": [
    "##### Exercise 1(b)\n",
    "\n",
    "若線性獨立，請說明原因。  \n",
    "若不線性獨立，請找出 $\\bv_1\\in\\Col(A_1)$、$\\bv_2\\in\\Col(A_2)$、及 $\\bv_3\\in\\Col(A_3)$  \n",
    "使得 $\\bv_1 + \\bv_2 + \\bv_3 = \\bzero$ 且三向量不全為零向量。  \n",
    "\n",
    "<!-- eng start -->\n",
    "If yes, provide your reasonse.  If no, find nonzero vectors $\\bv_1\\in\\Col(A_1)$, $\\bv_2\\in\\Col(A_2)$, and $\\bv_3\\in\\Col(A_3)$ such that $\\bv_1 + \\bv_2 + \\bv_3 = \\bzero$.  \n",
    "<!-- eng end -->"
   ]
  },
  {
   "cell_type": "markdown",
   "metadata": {},
   "source": [
    "## Exercises"
   ]
  },
  {
   "cell_type": "markdown",
   "metadata": {},
   "source": [
    "##### Exercise 2\n",
    "\n",
    "令  \n",
    "\n",
    "$$\n",
    "    A = \\begin{bmatrix}\n",
    "    8 & -2 & 3 & -5 & -1 \\\\\n",
    "    -11 & 7 & -5 & 11 & 1 \\\\\n",
    "    -34 & 14 & -14 & 33 & 4 \\\\\n",
    "    0 & 0 & 0 & 3 & 0 \\\\\n",
    "    -40 & 16 & -19 & 39 & 7\n",
    "    \\end{bmatrix}.\n",
    "$$\n",
    "\n",
    "已知 $A$ 有三個相異的特徵值 $1,2,3$，  \n",
    "對於 $\\lambda = 1,2,3$，  \n",
    "找出特徵空間 $E_\\lambda$ 的一組基底 $\\beta_\\lambda$。  \n",
    "判斷 $\\beta = \\beta_1 \\cup \\beta_2 \\cup \\beta_3$ 是否為 $\\mathbb{R}^5$ 的一組基底。  \n",
    "\n",
    "<!-- eng start -->\n",
    "Let  \n",
    "\n",
    "$$\n",
    "    A = \\begin{bmatrix}\n",
    "    8 & -2 & 3 & -5 & -1 \\\\\n",
    "    -11 & 7 & -5 & 11 & 1 \\\\\n",
    "    -34 & 14 & -14 & 33 & 4 \\\\\n",
    "    0 & 0 & 0 & 3 & 0 \\\\\n",
    "    -40 & 16 & -19 & 39 & 7\n",
    "    \\end{bmatrix}.\n",
    "$$\n",
    "\n",
    "It is known that $A$ has three distinct eigenvalues $1,2,3$.  For each of $\\lambda = 1,2,3$, find a basis for the eigenspace $E_\\lambda$.  Determine if $\\beta = \\beta_1 \\cup \\beta_2 \\cup \\beta_3$ is a basis of $\\mathbb{R}^5$.  \n",
    "<!-- eng end -->"
   ]
  },
  {
   "cell_type": "markdown",
   "metadata": {},
   "source": [
    "##### Exercise 3\n",
    "\n",
    "令  \n",
    "\n",
    "$$\n",
    "    A = \\begin{bmatrix}\n",
    "    -1 & 5 & -6 & 5 & -2 \\\\\n",
    "    4 & -9 & 11 & -8 & 3 \\\\\n",
    "    6 & -18 & 19 & -12 & 4 \\\\\n",
    "    -1 & -2 & 1 & 2 & 0 \\\\\n",
    "    -6 & 15 & -13 & 9 & 0\n",
    "    \\end{bmatrix}.\n",
    "$$\n",
    "\n",
    "已知 $A$ 有三個相異的特徵值 $1,2,3$，  \n",
    "對於 $\\lambda = 1,2,3$，  \n",
    "找出特徵空間 $E_\\lambda$ 的一組基底 $\\beta_\\lambda$。  \n",
    "判斷 $\\beta = \\beta_1 \\cup \\beta_2 \\cup \\beta_3$ 是否為 $\\mathbb{R}^5$ 的一組基底。  \n",
    "\n",
    "<!-- eng start -->\n",
    "Let  \n",
    "\n",
    "$$\n",
    "    A = \\begin{bmatrix}\n",
    "    -1 & 5 & -6 & 5 & -2 \\\\\n",
    "    4 & -9 & 11 & -8 & 3 \\\\\n",
    "    6 & -18 & 19 & -12 & 4 \\\\\n",
    "    -1 & -2 & 1 & 2 & 0 \\\\\n",
    "    -6 & 15 & -13 & 9 & 0\n",
    "    \\end{bmatrix}.\n",
    "$$\n",
    "\n",
    "It is known that $A$ has three distinct eigenvalues $1,2,3$.  For each of $\\lambda = 1,2,3$, find a basis for the eigenspace $E_\\lambda$.  Determine if $\\beta = \\beta_1 \\cup \\beta_2 \\cup \\beta_3$ is a basis of $\\mathbb{R}^5$.  \n",
    "<!-- eng end -->"
   ]
  },
  {
   "cell_type": "markdown",
   "metadata": {},
   "source": [
    "##### Exercise 4\n",
    "\n",
    "對以下線性函數 $f$，描述它的每一個特徵空間。  \n",
    "\n",
    "<!-- eng start -->\n",
    "For the following linear functions, describe their eigenspaces.  \n",
    "<!-- eng end -->"
   ]
  },
  {
   "cell_type": "markdown",
   "metadata": {},
   "source": [
    "##### Exercise 4(a)\n",
    "\n",
    "令 $V$ 為 $\\mathbb{R}^3$ 中的一個二維空間，  \n",
    "而 $f:\\mathbb{R}^3 \\rightarrow \\mathbb{R}^3$ 將向量 $\\bv\\in\\mathbb{R}^3$ 投影到 $V$ 上。  \n",
    "\n",
    "<!-- eng start -->\n",
    "Let $V$ be a $2$-dimensional subspace of $\\mathbb{R}^3$ and $f:\\mathbb{R}^3 \\rightarrow \\mathbb{R}^3$ the projection that sends vectors in $\\bv\\in\\mathbb{R}^3$ onto $V$.  \n",
    "<!-- eng end -->"
   ]
  },
  {
   "cell_type": "markdown",
   "metadata": {},
   "source": [
    "##### Exercise 4(b)\n",
    "\n",
    "令 $V$ 為 $\\mathbb{R}^3$ 中的一個二維空間，  \n",
    "而 $f:\\mathbb{R}^3 \\rightarrow \\mathbb{R}^3$ 將向量 $\\bv\\in\\mathbb{R}^3$ 鏡射到 $V$ 的對面。  \n",
    "\n",
    "<!-- eng start -->\n",
    "Let $V$ be a $2$-dimensional subspace of $\\mathbb{R}^3$ and $f:\\mathbb{R}^3 \\rightarrow \\mathbb{R}^3$ the reflection that sends vectors in $\\bv\\in\\mathbb{R}^3$ the other side of $V$.  \n",
    "<!-- eng end -->"
   ]
  },
  {
   "cell_type": "markdown",
   "metadata": {},
   "source": [
    "##### Exercise 5\n",
    "\n",
    "令 $V_1,\\ldots, V_k$ 為同一向量空間中的子空間，  \n",
    "且 $\\{V_1, \\ldots, V_k\\}$ 線性獨立。  \n",
    "若對於 $i = 1,\\ldots, k$ 分別有 $\\beta_i$ 為 $V_i$ 的基底。  \n",
    "證明 $\\beta = \\beta_1 \\cup \\cdots \\cup \\beta_k$ 為 $V_1 \\oplus \\cdots \\oplus V_k$ 的基底。  \n",
    "\n",
    "<!-- eng start -->\n",
    "Let $V_1,\\ldots, V_k$ be subspaces of the same universal space.  Suppose $\\{V_1, \\ldots, V_k\\}$ is linearlyl independent.  For each $i = 1,\\ldots, k$, let $\\beta_i$ be a basis of $V_i$.  Show that $\\beta = \\beta_1 \\cup \\cdots \\cup \\beta_k$ is a basis of $V_1 \\oplus \\cdots \\oplus V_k$.  \n",
    "<!-- eng end -->"
   ]
  },
  {
   "cell_type": "markdown",
   "metadata": {},
   "source": [
    "##### Exercise 6\n",
    "\n",
    "令 $A$ 為一矩陣且其相異的特徵值為 $\\lambda_1,\\ldots,\\lambda_q$。  \n",
    "證明其所有特徵空間 $\\{E_{\\lambda_1}, \\ldots, E_{\\lambda_q}\\}$ 線性獨立。  \n",
    "\n",
    "（參考 311-5。）  \n",
    "\n",
    "<!-- eng start -->\n",
    "Let $A$ be a matrix with distinct eigenvalues $\\lambda_1,\\ldots,\\lambda_q$.  Show that the collection of its eigenspaces $\\{E_{\\lambda_1}, \\ldots, E_{\\lambda_q}\\}$ is linearly independent.  \n",
    "\n",
    "(See 311-5.)  \n",
    "<!-- eng end -->"
   ]
  },
  {
   "cell_type": "markdown",
   "metadata": {},
   "source": [
    "##### Exercise 7\n",
    "\n",
    "給定兩大小相同的方陣 $A$ 和 $B$，  \n",
    "若存在一個可逆矩陣 $Q$  \n",
    "使得 $Q^{-1}AQ$ 和 $Q^{-1}BQ$ 同時是對角矩陣，  \n",
    "則我們稱 $A$ 和 $B$ 可 **同時對角化（simultaneously diagonalizable）**。  \n",
    "\n",
    "依照以下步驟說明：  \n",
    "若 $A$ 和 $B$ 皆可對角化，且 $AB = BA$，  \n",
    "則 $A$ 和 $B$ 可同時對角化。  \n",
    "\n",
    "<!-- eng start -->\n",
    "Let $A$ and $B$ be square matrices of the same size.  If there is an invertible matrix $Q$ such that both $Q^{-1}AQ$ and $Q^{-1}BQ$ are diagonal matrices, then we say $A$ and $B$ are **simultaneously diagonalizable** .  \n",
    "\n",
    "Use the given instructions to show:  \n",
    "If $A$ and $B$ are diagonalizable with $AB = BA$, then $A$ and $B$ are simultaneously diagonalizable.  \n",
    "<!-- eng end -->"
   ]
  },
  {
   "cell_type": "markdown",
   "metadata": {},
   "source": [
    "##### Exercise 7(a)\n",
    "\n",
    "令 $A$ 和 $B$ 為大小相同的方陣。  \n",
    "令 $\\lambda$ 為 $A$ 的一個特徵值，而 $E_\\lambda$ 為其特徵空間。  \n",
    "證明若 $AB = BA$，則 $E_\\lambda$ 同時為 $A$-不變子空間、也是 $B$-不變子空間。  \n",
    "\n",
    "<!-- eng start -->\n",
    "Let $A$ and $B$ be square matrices of the same size.  Let $\\lambda$ be an eigenvalue of $A$ and $E_\\lambda$ its eigenspace.  Show that if $AB = BA$, then $E_\\lambda$ is both $A$-invariant and $B$-invariant.  \n",
    "<!-- eng end -->"
   ]
  },
  {
   "cell_type": "markdown",
   "metadata": {},
   "source": [
    "##### Exercise 7(b)\n",
    "\n",
    "令 $A_1$ 和 $A_2$ 分別為 $n_1\\times n_1$ 及 $n_2\\times n_2$ 的可對角化的方陣。  \n",
    "若一 $n_1\\times n_2$ 矩陣 $X$ 滿足 $A_1X = XA_2$，  \n",
    "且 $A_1$ 和 $A_2$ 沒有共同的特徵值，  \n",
    "說明 $X$ 必為零矩陣。\n",
    "\n",
    "提示：先考慮 $A_1$ 和 $A_2$ 都是對角矩陣的情況。  \n",
    "\n",
    "<!-- eng start -->\n",
    "Let $A_1$ and $A_2$ be $n_1\\times n_1$ and $n_2\\times n_2$ diagonalizable matrices, respectively.  Suppose $X$ is an $n_1\\times n_2$ matrix with $A_1X = XA_2$ and $A$ and $B$ share no common eigenvalues.  Then $X$ must be the zero matrix.  \n",
    "\n",
    "Hint:  Consider the case when both $A_1$ and $A_2$ are diagonal.  \n",
    "<!-- eng end -->"
   ]
  },
  {
   "cell_type": "markdown",
   "metadata": {},
   "source": [
    "##### Exercise 7(c)\n",
    "\n",
    "令 $A$ 和 $B$ 為大小相同的方陣且 $AB = BA$。  \n",
    "假設 $A$ 的相異特徵值為 $\\lambda_1, \\ldots, \\lambda_q$、$q \\geq 2$、  \n",
    "且 $E_{\\lambda_1},\\ldots,E_{\\lambda_q}$ 分別為其特徵空間。  \n",
    "令 $V_1 = E_{\\lambda_1}$ 而 $V_2 = E_{\\lambda_2}\\oplus \\cdots \\oplus E_{\\lambda_q}$、  \n",
    "且 $\\beta_1$ 和 $\\beta_2$ 分別為 $V_1$ 和 $V_2$ 的基底。  \n",
    "取 $\\beta = \\beta_1 \\cup \\beta_2$，  \n",
    "證明有以下型式：\n",
    "\n",
    "$$\n",
    "    [f_A]_\\beta^\\beta = \n",
    "    \\begin{bmatrix}\n",
    "    A_1 & O \\\\\n",
    "    O & A_2\n",
    "    \\end{bmatrix}\n",
    "    \\text{ and }\n",
    "    [f_B]_\\beta^\\beta = \n",
    "    \\begin{bmatrix}\n",
    "    B_1 & O \\\\\n",
    "    O & B_2\n",
    "    \\end{bmatrix},\n",
    "$$\n",
    "\n",
    "其中 $A_1$ 和 $B_1$ 的大小為 $V_1$ 的維度、  \n",
    "而 $A_2$ 和 $B_2$ 的大小為 $V_2$ 的維度。  \n",
    "\n",
    "<!-- eng start -->\n",
    "Let $A$ and $B$ be square matrices of the same size such that $AB = BA$.  Let $\\lambda_1, \\ldots, \\lambda_q$ be the distinct eigenvalues of $A$ and $E_{\\lambda_1},\\ldots,E_{\\lambda_q}$ their eigenspaces, respectively.  Suppose $q \\geq 2$.  Let $V_1 = E_{\\lambda_1}$ and $V_2 = E_{\\lambda_2}\\oplus \\cdots \\oplus E_{\\lambda_q}$.  Let $\\beta_1$ and $\\beta_2$ be the bases of $V_1$ and $V_2$, respectively.  Let $\\beta = \\beta_1 \\cup \\beta_2$.  Show that the matrices have the following form:\n",
    "\n",
    "$$\n",
    "    [f_A]_\\beta^\\beta = \n",
    "    \\begin{bmatrix}\n",
    "    A_1 & O \\\\\n",
    "    O & A_2\n",
    "    \\end{bmatrix}\n",
    "    \\text{ and }\n",
    "    [f_B]_\\beta^\\beta = \n",
    "    \\begin{bmatrix}\n",
    "    B_1 & O \\\\\n",
    "    O & B_2\n",
    "    \\end{bmatrix},\n",
    "$$\n",
    "\n",
    "Here the sizes of $A_1$ and $B_2$ are equal to the dimension of $V_1$, and the sizes of $A_2$ and $B_2$ are equal to the dimension of $V_2$.  \n",
    "<!-- eng end -->"
   ]
  },
  {
   "cell_type": "markdown",
   "metadata": {},
   "source": [
    "##### Exercise 7(d)\n",
    "\n",
    "證明將前一題 $q = 1$ 的情況，  \n",
    "並用數學歸納法證明：  \n",
    "若 $A$ 和 $B$ 皆可對角化，且 $AB = BA$，  \n",
    "則 $A$ 和 $B$ 可同時對角化。  \n",
    "\n",
    "<!-- eng start -->\n",
    "Finish the case when $q = 1$.  Then prove the statement by induction:  \n",
    "If $A$ and $B$ are diagonalizable with $AB = BA$, then $A$ and $B$ are simultaneously diagonalizable.  \n",
    "<!-- eng end -->"
   ]
  }
 ],
 "metadata": {
  "kernelspec": {
   "display_name": "SageMath 9.7",
   "language": "sage",
   "name": "sagemath"
  },
  "language_info": {
   "codemirror_mode": {
    "name": "ipython",
    "version": 3
   },
   "file_extension": ".py",
   "mimetype": "text/x-python",
   "name": "python",
   "nbconvert_exporter": "python",
   "pygments_lexer": "ipython3",
   "version": "3.10.8"
  }
 },
 "nbformat": 4,
 "nbformat_minor": 4
}
