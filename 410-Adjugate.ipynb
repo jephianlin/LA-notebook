{
 "cells": [
  {
   "cell_type": "markdown",
   "metadata": {},
   "source": [
    "# 伴隨矩陣"
   ]
  },
  {
   "cell_type": "markdown",
   "metadata": {},
   "source": [
    "![Creative Commons License](https://i.creativecommons.org/l/by/4.0/88x31.png)  \n",
    "This work by Jephian Lin is licensed under a [Creative Commons Attribution 4.0 International License](http://creativecommons.org/licenses/by/4.0/)."
   ]
  },
  {
   "cell_type": "markdown",
   "metadata": {},
   "source": [
    "$\\newcommand{\\trans}{^\\top}\n",
    "\\newcommand{\\adj}{^{\\rm adj}}\n",
    "\\newcommand{\\cof}{^{\\rm cof}}\n",
    "\\newcommand{\\inp}[2]{\\left\\langle#1,#2\\right\\rangle}\n",
    "\\newcommand{\\dunion}{\\mathbin{\\dot\\cup}}\n",
    "\\newcommand{\\bzero}{\\mathbf{0}}\n",
    "\\newcommand{\\bone}{\\mathbf{1}}\n",
    "\\newcommand{\\ba}{\\mathbf{a}}\n",
    "\\newcommand{\\bb}{\\mathbf{b}}\n",
    "\\newcommand{\\bc}{\\mathbf{c}}\n",
    "\\newcommand{\\bd}{\\mathbf{d}}\n",
    "\\newcommand{\\be}{\\mathbf{e}}\n",
    "\\newcommand{\\bh}{\\mathbf{h}}\n",
    "\\newcommand{\\bp}{\\mathbf{p}}\n",
    "\\newcommand{\\bq}{\\mathbf{q}}\n",
    "\\newcommand{\\br}{\\mathbf{r}}\n",
    "\\newcommand{\\bx}{\\mathbf{x}}\n",
    "\\newcommand{\\by}{\\mathbf{y}}\n",
    "\\newcommand{\\bz}{\\mathbf{z}}\n",
    "\\newcommand{\\bu}{\\mathbf{u}}\n",
    "\\newcommand{\\bv}{\\mathbf{v}}\n",
    "\\newcommand{\\bw}{\\mathbf{w}}\n",
    "\\newcommand{\\tr}{\\operatorname{tr}}\n",
    "\\newcommand{\\nul}{\\operatorname{null}}\n",
    "\\newcommand{\\rank}{\\operatorname{rank}}\n",
    "%\\newcommand{\\ker}{\\operatorname{ker}}\n",
    "\\newcommand{\\range}{\\operatorname{range}}\n",
    "\\newcommand{\\Col}{\\operatorname{Col}}\n",
    "\\newcommand{\\Row}{\\operatorname{Row}}\n",
    "\\newcommand{\\spec}{\\operatorname{spec}}\n",
    "\\newcommand{\\vspan}{\\operatorname{span}}\n",
    "\\newcommand{\\Vol}{\\operatorname{Vol}}\n",
    "\\newcommand{\\sgn}{\\operatorname{sgn}}\n",
    "\\newcommand{\\idmap}{\\operatorname{id}}\n",
    "\\newcommand{\\am}{\\operatorname{am}}\n",
    "\\newcommand{\\gm}{\\operatorname{gm}}\n",
    "\\newcommand{\\mult}{\\operatorname{mult}}\n",
    "\\newcommand{\\iner}{\\operatorname{iner}}$"
   ]
  },
  {
   "cell_type": "code",
   "execution_count": null,
   "metadata": {},
   "outputs": [],
   "source": [
    "from lingeo import random_int_list"
   ]
  },
  {
   "cell_type": "markdown",
   "metadata": {},
   "source": [
    "## Main idea"
   ]
  },
  {
   "cell_type": "markdown",
   "metadata": {},
   "source": [
    "Let $A$ be an $n\\times n$ matrix.  \n",
    "The **$ij$-minor** of $A$ is $\\det A(i,j)$, while  \n",
    "the **$ij$-cofactor** of $A$ is $(-1)^{i + j} \\det A(i,j)$.  \n",
    "The **cofactor matrix** of $A$ is an $n\\times n$ matrix $A\\cof$ whose $ij$-entry is the $ij$-cofactor of $A$.  "
   ]
  },
  {
   "cell_type": "markdown",
   "metadata": {},
   "source": [
    "Let $\\br_1,\\ldots,\\br_n$ be the rows of $A$.  \n",
    "Let $\\bc_1,\\ldots,\\bc_n$ be the rows of $A\\cof$.  \n",
    "Thus, the Laplace expansion can be written as  \n",
    "\n",
    "$$\n",
    "    \\inp{\\br_i}{\\bc_i} = \\det(A)\n",
    "$$\n",
    "\n",
    "for any $i = 1,\\ldots, n$."
   ]
  },
  {
   "cell_type": "markdown",
   "metadata": {},
   "source": [
    "Suppose $i$ and $j$ are two different indices in $\\{1,\\ldots,n\\}$.  \n",
    "Consider the matrix $B$ obtained from $A$ by replacing its $j$-th row with $\\br_i$.  \n",
    "Since $B$ has repeated rows, $\\det(B) = 0$.  \n",
    "Meanwhile, the $jk$-cofactor of $B$ is the same as the $jk$-cofactor of $A$ for any $k = 1,\\ldots, n$.  \n",
    "This means  \n",
    "\n",
    "$$\n",
    "    \\inp{\\br_i}{\\bc_j} = \\det(B) = 0.\n",
    "$$"
   ]
  },
  {
   "cell_type": "markdown",
   "metadata": {},
   "source": [
    "In summary,  \n",
    "\n",
    "$$\n",
    "    \\inp{\\br_i}{\\bc_j} = \n",
    "    \\begin{cases}\n",
    "    \\det(A) & \\text{if }i = j, \\\\\n",
    "    0 & \\text{if }i \\neq j.\n",
    "    \\end{cases}\n",
    "$$"
   ]
  },
  {
   "cell_type": "markdown",
   "metadata": {},
   "source": [
    "Define the **adjugate** of $A$ as $A\\adj = (A\\cof)\\trans$.  \n",
    "Thus, the above summary leads to the identity  \n",
    "\n",
    "$$\n",
    "    AA\\adj = \\det(A)I = A\\adj A.\n",
    "$$"
   ]
  },
  {
   "cell_type": "markdown",
   "metadata": {},
   "source": [
    "Therefore, when $\\det(A) \\neq 0$,   \n",
    "\n",
    "$$\n",
    "    A^{-1} = \\frac{1}{\\det(A)}A\\adj.\n",
    "$$"
   ]
  },
  {
   "cell_type": "markdown",
   "metadata": {},
   "source": [
    "## Side stories\n",
    "\n",
    "- unimodular\n",
    "- outer product\n",
    "- adjugate when $\\rank(A) = n-1$ or $\\rank(A) = n-2$\n",
    "- Stirling numbers"
   ]
  },
  {
   "cell_type": "markdown",
   "metadata": {},
   "source": [
    "## Experiments"
   ]
  },
  {
   "cell_type": "markdown",
   "metadata": {},
   "source": [
    "##### Exercise 1\n",
    "\n",
    "執行以下程式碼。  \n",
    "\n",
    "<!-- eng start -->\n",
    "Run the code below.  \n",
    "<!-- eng end -->"
   ]
  },
  {
   "cell_type": "code",
   "execution_count": null,
   "metadata": {
    "scrolled": false
   },
   "outputs": [],
   "source": [
    "### code\n",
    "set_random_seed(0)\n",
    "print_ans = False\n",
    "\n",
    "n = 3\n",
    "A = matrix(n, random_int_list(n^2,3))\n",
    "\n",
    "pretty_print(LatexExpr(\"A =\"), A) \n",
    "\n",
    "if print_ans:\n",
    "    for i in range(n):\n",
    "        for j in range(n):\n",
    "            alpha = list(range(n))\n",
    "            alpha.remove(i)\n",
    "            beta = list(range(n))\n",
    "            beta.remove(j)\n",
    "            print(\"det A(%s,%s) =\"%(i,j), A[alpha,beta].det())\n",
    "    print(\"cofactor matrix:\")\n",
    "    pretty_print(A.adjugate().transpose())\n",
    "    print(\"adjugate:\")\n",
    "    pretty_print(A.adjugate())"
   ]
  },
  {
   "cell_type": "markdown",
   "metadata": {},
   "source": [
    "##### Exercise 1(a)\n",
    "\n",
    "對所有 $i,j$，求出 $\\det A(i,j)$。  \n",
    "\n",
    "<!-- eng start -->\n",
    "For each $i,j$, find $\\det A(i,j)$.  \n",
    "<!-- eng end -->"
   ]
  },
  {
   "cell_type": "markdown",
   "metadata": {},
   "source": [
    "##### Exercise 1(b)\n",
    "\n",
    "求 $A$ 的餘因子矩陣 $A\\cof$。  \n",
    "\n",
    "<!-- eng start -->\n",
    "Find the cofactor matrix $A\\cof$ of $A$.  \n",
    "<!-- eng end -->"
   ]
  },
  {
   "cell_type": "markdown",
   "metadata": {},
   "source": [
    "##### Exercise 1(c)\n",
    "\n",
    "求 $A$ 的伴隨矩陣 $A\\adj$。  \n",
    "\n",
    "<!-- eng start -->\n",
    "Find the adjugate $A\\adj$ of $A$.  \n",
    "<!-- eng end -->"
   ]
  },
  {
   "cell_type": "markdown",
   "metadata": {},
   "source": [
    "## Exercises"
   ]
  },
  {
   "cell_type": "markdown",
   "metadata": {},
   "source": [
    "##### Exercise 2\n",
    "\n",
    "根據拉普拉斯展開，計算行列式值時只會用到加法和乘法。  \n",
    "所以一個整數矩陣的行列式值也會是整數、  \n",
    "而一個有理數矩陣的行列式值也會是有理數。  \n",
    "利用這個性質回答以下問題。  \n",
    "\n",
    "<!-- eng start -->\n",
    "According to the Laplace expansion, the computation of a determinant only uses the addition and the multiplication.  Therefore, the determinant of an integer matrix is also an integer, and the determinant of a rational matrix is also a rational number.  Use these facts to answer the following problems.  \n",
    "<!-- eng end -->"
   ]
  },
  {
   "cell_type": "markdown",
   "metadata": {},
   "source": [
    "##### Exercise 2(a)\n",
    "\n",
    "說明一個有理數矩陣（若可逆）的反矩陣也會是有理數矩陣。  \n",
    "\n",
    "<!-- eng start -->\n",
    "Explain why the inverse of an invertible rational matrix is also a rational matrix.  \n",
    "<!-- eng end -->"
   ]
  },
  {
   "cell_type": "markdown",
   "metadata": {},
   "source": [
    "##### Exercise 2(b)\n",
    "\n",
    "找一個可逆的整數矩陣，其反矩陣不是整數矩陣。  \n",
    "\n",
    "<!-- eng start -->\n",
    "Find an invertible integer matrix such that its inverse it not an integer matrix.  \n",
    "<!-- eng end -->"
   ]
  },
  {
   "cell_type": "markdown",
   "metadata": {},
   "source": [
    "##### Exercise 2(c)\n",
    "\n",
    "一個整數方陣如果行列式值為 $\\pm 1$，  \n",
    "則被稱為**么模矩陣（unimodular matrix）** 。   \n",
    "說明么模矩陣的反矩陣一定是整數矩陣。  \n",
    "\n",
    "<!-- eng start -->\n",
    "An integer matrix with determinant $\\pm 1$ is called a **unimodular matrix** .  Explain why the inverse of a unimodular matrix is also an integer matrix.    \n",
    "<!-- eng end -->"
   ]
  },
  {
   "cell_type": "markdown",
   "metadata": {},
   "source": [
    "##### Exercise 3\n",
    "\n",
    "令 $\\br_1,\\br_2,\\br_3$ 為 $\\mathbb{R}^3$ 中的向量、  \n",
    "且  \n",
    "\n",
    "$$\n",
    "    A = \\begin{bmatrix}\n",
    "     - & \\br_1 & - \\\\\n",
    "     ~ & \\vdots & ~ \\\\\n",
    "     - & \\br_3 & -\n",
    "    \\end{bmatrix}.\n",
    "$$\n",
    "\n",
    "說明 $A\\cof$ 的第一列即為 $\\br_2$ 和 $\\br_3$ 的外積。  \n",
    "（根據定義，$A\\cof$ 的第一列和 $\\br_1$ 無關。）\n",
    "\n",
    "<!-- eng start -->\n",
    "Let $\\br_1,\\br_2,\\br_3$ be vectors in $\\mathbb{R}^3$ and \n",
    "\n",
    "$$\n",
    "    A = \\begin{bmatrix}\n",
    "     - & \\br_1 & - \\\\\n",
    "     ~ & \\vdots & ~ \\\\\n",
    "     - & \\br_3 & -\n",
    "    \\end{bmatrix}.\n",
    "$$\n",
    "\n",
    "Explain why the first row of $A\\cof$ is exactly the cross product of $\\br_2$ and $\\br_3$.  (By definition, the first row of $A\\cof$ is independent of $\\br_1$.)      \n",
    "<!-- eng end -->"
   ]
  },
  {
   "cell_type": "markdown",
   "metadata": {},
   "source": [
    "##### Exercise 4\n",
    "\n",
    "給定 $\\beta = \\{\\br_2,\\ldots,\\br_n\\}$ 為 $\\mathbb{R}^n$ 中的一群線性獨立的向量。  \n",
    "說明如何利用 $A\\cof$ 找到一根向量 $\\bv$ 使得 $\\bv$ 跟 $\\beta$ 中的所有向量都垂直。  \n",
    "（這個動作可以看成是 $\\beta$ 中向量的外積。）  \n",
    "\n",
    "<!-- eng start -->\n",
    "Let $\\beta = \\{\\br_2,\\ldots,\\br_n\\}$ be a linearly independent set in $\\mathbb{R}^n$.  Explain how to use $A\\cof$ to find a vector $\\bv$ such that $\\bv$ is orthogonal to each vector in $\\beta$.  (You may also view this operation as the cross product of $\\beta$.)  \n",
    "<!-- eng end -->"
   ]
  },
  {
   "cell_type": "markdown",
   "metadata": {},
   "source": [
    "##### Exercise 5\n",
    "\n",
    "令 $A$ 為一 $n\\times n$ 矩陣。  \n",
    "當 $\\rank(A) = n$ 時，我們知道 $A\\adj = \\det(A)A^{-1}$。  \n",
    "\n",
    "<!-- eng start -->\n",
    "Let $A$ be an $n\\times n$ matrix.  When $\\rank(A) = n$, we know $A\\adj = \\det(A)A^{-1}$.  \n",
    "<!-- eng end -->"
   ]
  },
  {
   "cell_type": "markdown",
   "metadata": {},
   "source": [
    "##### Exercise 5(a)\n",
    "\n",
    "當 $\\rank(A) = n - 1$ 時，  \n",
    "可以假設 $A$ 的左右核分別為 $\\ker(A) = \\vspan\\{\\bu\\}$ 及 $\\ker(A\\trans) = \\vspan\\{\\bv\\}$。  \n",
    "說明存在某個係數 $c$ 使得 $A\\adj = c\\bu\\bv\\trans$。  \n",
    "\n",
    "<!-- eng start -->\n",
    "Suppose $\\rank(A) = n - 1$.  We may assume the left kernel and the right kernel of $A$ are $\\ker(A) = \\vspan\\{\\bu\\}$ 及 $\\ker(A\\trans) = \\vspan\\{\\bv\\}$, respectively.  Show that there is a constanct $c$ such that $A\\adj = c\\bu\\bv\\trans$.  \n",
    "<!-- eng end -->"
   ]
  },
  {
   "cell_type": "markdown",
   "metadata": {},
   "source": [
    "##### Exercise 5(b)\n",
    "\n",
    "當 $\\rank(A) \\leq n - 2$ 時，  \n",
    "說明 $A\\adj = O$。  \n",
    "（提示：子矩陣的秩一定要比原矩陣的秩來得小。）  \n",
    "\n",
    "<!-- eng start -->\n",
    "Suppose $\\rank(A) = n - 2$.  Show that $A\\adj = O$.  (Hint:  The rank of a submatrix is smaller than the rank of the matrix itself.)  \n",
    "<!-- eng end -->"
   ]
  },
  {
   "cell_type": "markdown",
   "metadata": {},
   "source": [
    "##### Exercise 6\n",
    "\n",
    "定義 $(x)_k = x(x-1)\\cdots(x-k+1)$ 且 $(x)_0 = 1$。  \n",
    "已知  \n",
    "$\\alpha = \\{1,x,\\ldots, x_d\\}$ 及  \n",
    "$\\beta = \\{(x)_0, (x)_1, \\ldots, (x)_d\\}$  \n",
    "皆是 $\\mathcal{P}_d$ 的基底。  \n",
    "\n",
    "<!-- eng start -->\n",
    "Define $(x)_k = x(x-1)\\cdots(x-k+1)$ and $(x)_0 = 1$.  Suppose we know $\\alpha = \\{1,x,\\ldots, x_d\\}$ and $\\beta = \\{(x)_0, (x)_1, \\ldots, (x)_d\\}$ are both bases of $\\mathcal{P}_d$.  \n",
    "<!-- eng end -->"
   ]
  },
  {
   "cell_type": "markdown",
   "metadata": {},
   "source": [
    "##### Exercise 6(a)\n",
    "\n",
    "當 $d = 3$ 時，求出基底轉換矩陣 $[\\operatorname{id}]_\\beta^\\alpha$。  \n",
    "並說明對任意的 $d$ 來說，$[\\operatorname{id}]_\\beta^\\alpha$ 都會是整數矩陣  \n",
    "且行列式值為 $1$。  \n",
    "\n",
    "<!-- eng start -->\n",
    "When $d = 3$, find the change-of-bases matrix $[\\operatorname{id}]_\\beta^\\alpha$.  Explain why $[\\operatorname{id}]_\\beta^\\alpha$ is always an integer matrix with determinant $1$ for any $d$.  \n",
    "<!-- eng end -->"
   ]
  },
  {
   "cell_type": "markdown",
   "metadata": {},
   "source": [
    "##### Exercise 6(b)\n",
    "\n",
    "當 $d = 3$ 時，求出基底轉換矩陣 $[\\operatorname{id}]_\\alpha^\\beta$。  \n",
    "利用上一題的結果，說明對任意的 $d$ 來說，$[\\operatorname{id}]_\\alpha^\\beta$ 都會是整數矩陣。  \n",
    "\n",
    "<!-- eng start -->\n",
    "When $d = 3$, find the change-of-bases matrix $[\\operatorname{id}]_\\alpha^\\beta$.  Explain why $[\\operatorname{id}]_\\beta^\\alpha$ is always an integer matrix for any $d$.  \n",
    "<!-- eng end -->"
   ]
  }
 ],
 "metadata": {
  "kernelspec": {
   "display_name": "SageMath 9.7",
   "language": "sage",
   "name": "sagemath"
  },
  "language_info": {
   "codemirror_mode": {
    "name": "ipython",
    "version": 3
   },
   "file_extension": ".py",
   "mimetype": "text/x-python",
   "name": "python",
   "nbconvert_exporter": "python",
   "pygments_lexer": "ipython3",
   "version": "3.10.8"
  }
 },
 "nbformat": 4,
 "nbformat_minor": 4
}
