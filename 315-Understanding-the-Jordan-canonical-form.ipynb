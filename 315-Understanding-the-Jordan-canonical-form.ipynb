{
 "cells": [
  {
   "cell_type": "markdown",
   "metadata": {},
   "source": [
    "# 體驗喬丹標準型\n",
    "\n",
    "Understand the Jordan canonical form"
   ]
  },
  {
   "cell_type": "markdown",
   "metadata": {},
   "source": [
    "![Creative Commons License](https://i.creativecommons.org/l/by/4.0/88x31.png)  \n",
    "This work by Jephian Lin is licensed under a [Creative Commons Attribution 4.0 International License](http://creativecommons.org/licenses/by/4.0/)."
   ]
  },
  {
   "cell_type": "markdown",
   "metadata": {},
   "source": [
    "$\\newcommand{\\trans}{^\\top}\n",
    "\\newcommand{\\adj}{^{\\rm adj}}\n",
    "\\newcommand{\\cof}{^{\\rm cof}}\n",
    "\\newcommand{\\inp}[2]{\\left\\langle#1,#2\\right\\rangle}\n",
    "\\newcommand{\\dunion}{\\mathbin{\\dot\\cup}}\n",
    "\\newcommand{\\bzero}{\\mathbf{0}}\n",
    "\\newcommand{\\bone}{\\mathbf{1}}\n",
    "\\newcommand{\\ba}{\\mathbf{a}}\n",
    "\\newcommand{\\bb}{\\mathbf{b}}\n",
    "\\newcommand{\\bc}{\\mathbf{c}}\n",
    "\\newcommand{\\bd}{\\mathbf{d}}\n",
    "\\newcommand{\\be}{\\mathbf{e}}\n",
    "\\newcommand{\\bh}{\\mathbf{h}}\n",
    "\\newcommand{\\bp}{\\mathbf{p}}\n",
    "\\newcommand{\\bq}{\\mathbf{q}}\n",
    "\\newcommand{\\br}{\\mathbf{r}}\n",
    "\\newcommand{\\bx}{\\mathbf{x}}\n",
    "\\newcommand{\\by}{\\mathbf{y}}\n",
    "\\newcommand{\\bz}{\\mathbf{z}}\n",
    "\\newcommand{\\bu}{\\mathbf{u}}\n",
    "\\newcommand{\\bv}{\\mathbf{v}}\n",
    "\\newcommand{\\bw}{\\mathbf{w}}\n",
    "\\newcommand{\\tr}{\\operatorname{tr}}\n",
    "\\newcommand{\\nul}{\\operatorname{null}}\n",
    "\\newcommand{\\rank}{\\operatorname{rank}}\n",
    "%\\newcommand{\\ker}{\\operatorname{ker}}\n",
    "\\newcommand{\\range}{\\operatorname{range}}\n",
    "\\newcommand{\\Col}{\\operatorname{Col}}\n",
    "\\newcommand{\\Row}{\\operatorname{Row}}\n",
    "\\newcommand{\\spec}{\\operatorname{spec}}\n",
    "\\newcommand{\\vspan}{\\operatorname{span}}\n",
    "\\newcommand{\\Vol}{\\operatorname{Vol}}\n",
    "\\newcommand{\\sgn}{\\operatorname{sgn}}\n",
    "\\newcommand{\\idmap}{\\operatorname{id}}\n",
    "\\newcommand{\\am}{\\operatorname{am}}\n",
    "\\newcommand{\\gm}{\\operatorname{gm}}\n",
    "\\newcommand{\\mult}{\\operatorname{mult}}\n",
    "\\newcommand{\\iner}{\\operatorname{iner}}$"
   ]
  },
  {
   "cell_type": "code",
   "execution_count": null,
   "metadata": {},
   "outputs": [],
   "source": [
    "from lingeo import random_int_list, random_good_matrix"
   ]
  },
  {
   "cell_type": "markdown",
   "metadata": {},
   "source": [
    "## Main idea"
   ]
  },
  {
   "cell_type": "markdown",
   "metadata": {},
   "source": [
    "Let $\\lambda\\in\\mathbb{C}$ and $n$ an integer.  \n",
    "A **Jordan block** of $\\lambda$ of order $n$ is the $n\\times n$ matrix  \n",
    "$$J_{\\lambda,n} = \\begin{bmatrix}\n",
    " \\lambda & 1 & & \\\\\n",
    "  & \\ddots & \\ddots & \\\\\n",
    "  & & & 1 \\\\ \n",
    "  & & & \\lambda \\\\\n",
    "\\end{bmatrix}.$$"
   ]
  },
  {
   "cell_type": "markdown",
   "metadata": {},
   "source": [
    "According to the spectrum theorem, for every symmetric matrix $A$, there is an orthonormal basis $\\beta$ such that $[f_A]_\\beta^\\beta$ is orthogonal.  \n",
    "This is not necessarily true for not necessarily symmetric matrices, even we give up the condition of being orthonormal.  \n",
    "Any Jordan block of order at least $2$ is such an example.  \n",
    "Fortunately, we have the folloing canonical form.  "
   ]
  },
  {
   "cell_type": "markdown",
   "metadata": {},
   "source": [
    "##### Jordan canonical form\n",
    "\n",
    "Let $A$ be an $n\\times n$ matrix.  \n",
    "Then there is a basis $\\beta$ of $\\mathbb{R}^n$ such that \n",
    "$$[f_A]_\\beta^\\beta = J_{\\lambda_1,n_1}\\oplus \\cdots \\oplus J_{\\lambda_d,n_d},$$\n",
    "where $\\oplus$ is the direct sum of two matrices.  \n",
    "\n",
    "That is, there is an invertible matrix $Q$ such that $Q^{-1}AQ = J_{\\lambda_1,n_1}\\oplus \\cdots \\oplus J_{\\lambda_d,n_d}$.  "
   ]
  },
  {
   "cell_type": "markdown",
   "metadata": {},
   "source": [
    "We say two $n\\times n$ matrices $A$ and $B$ are **similar** if there is an invertible matrix $Q$ such that $Q^{-1}AQ = B$.  \n",
    "Equivalently, $A$ and $B$ are similar if there is a basis $\\beta$ of $\\mathbb{R}^n$ such that $[f_A]_\\beta^\\beta = B$.  \n",
    "It is not trivial how to determine whether two given matrices are similar.  \n",
    "It turns out that two matrices are similar if and only if they have the same Jordan canonical form."
   ]
  },
  {
   "cell_type": "markdown",
   "metadata": {},
   "source": [
    "## Side stories\n",
    "- matrix algebra"
   ]
  },
  {
   "cell_type": "markdown",
   "metadata": {},
   "source": [
    "## Experiments"
   ]
  },
  {
   "cell_type": "markdown",
   "metadata": {},
   "source": [
    "##### Exercise 1\n",
    "\n",
    "執行以下程式碼。  \n",
    "已知 $A$ 和 $B$ 相似﹐且 $Q^{-1}AQ = B$。  \n",
    "\n",
    "<!-- eng start -->\n",
    "Run the code below.  Suppose $A$ and $B$ are similar and $Q^{-1}AQ = B$.  \n",
    "<!-- eng end -->"
   ]
  },
  {
   "cell_type": "code",
   "execution_count": null,
   "metadata": {
    "scrolled": false
   },
   "outputs": [],
   "source": [
    "### code\n",
    "set_random_seed(0)\n",
    "print_ans = False\n",
    "n = 2\n",
    "A = matrix(2, random_int_list(n*n))\n",
    "Q = random_good_matrix(n,n,n)\n",
    "B = Q.inverse() * A * Q\n",
    "\n",
    "print(\"Qinv * A * Q = B\")\n",
    "pretty_print(Q.inverse(), A, Q, \"=\", B)\n",
    "\n",
    "if print_ans:\n",
    "    print(\"rank =\", A.rank())\n",
    "    print(\"nullity =\", A.nullity())\n",
    "    print(\"determinant =\", A.determinant())\n",
    "    print(\"B (Qinv v) = (Qinv b)\")"
   ]
  },
  {
   "cell_type": "markdown",
   "metadata": {},
   "source": [
    "##### Exercise 1(a)\n",
    "\n",
    "驗證 $A$ 和 $B$ 有相同的秩、核數、行列式值。  \n",
    "\n",
    "<!-- eng start -->\n",
    "Verify that $A$ and $B$ have the same rank, nullity, and determinant.  \n",
    "<!-- eng end -->"
   ]
  },
  {
   "cell_type": "markdown",
   "metadata": {},
   "source": [
    "##### Exercise 1(b)\n",
    "\n",
    "若已知 $A\\bv = \\bb$。  \n",
    "求 $B(Q^{-1}\\bv)$。  \n",
    "\n",
    "<!-- eng start -->\n",
    "Suppose $A\\bv = \\bb$.  Then find $B(Q^{-1}\\bv)$.  \n",
    "<!-- eng end -->"
   ]
  },
  {
   "cell_type": "markdown",
   "metadata": {},
   "source": [
    "## Exercises"
   ]
  },
  {
   "cell_type": "markdown",
   "metadata": {},
   "source": [
    "##### Exercise 2\n",
    "\n",
    "令 $A$ 和 $B$ 為兩 $n\\times n$ 矩陣。  \n",
    "證明以下敘述等價：  \n",
    "\n",
    "1. $A$ 和 $B$ 相似。  \n",
    "2. 存在 $\\mathbb{R}^n$ 的一組基底 $\\beta$ 使得 $[f_A]_\\beta^\\beta = B$。  \n",
    "\n",
    "<!-- eng start -->\n",
    "Let $A$ and $B$ be $n\\times n$ matrices.  Show that the following are equivalent:  \n",
    "\n",
    "1. $A$ and $B$ are similar.  \n",
    "2. There is a basis $\\beta$ of $\\mathbb{R}^n$ such that $[f_A]_\\beta^\\beta = B$.  \n",
    "<!-- eng end -->"
   ]
  },
  {
   "cell_type": "markdown",
   "metadata": {},
   "source": [
    "##### Exercise 3\n",
    "\n",
    "令  \n",
    "\n",
    "$$\n",
    "    J = J_{2,3} = \n",
    "    \\begin{bmatrix} \n",
    "     2 & 1 & 0 \\\\\n",
    "     0 & 2 & 1 \\\\\n",
    "     0 & 0 & 2 \\\\\n",
    "    \\end{bmatrix}.\n",
    "$$  \n",
    "\n",
    "<!-- eng start -->\n",
    "Let  \n",
    "\n",
    "$$\n",
    "    J = J_{2,3} = \n",
    "    \\begin{bmatrix} \n",
    "     2 & 1 & 0 \\\\\n",
    "     0 & 2 & 1 \\\\\n",
    "     0 & 0 & 2 \\\\\n",
    "    \\end{bmatrix}.\n",
    "$$  \n",
    "<!-- eng end -->"
   ]
  },
  {
   "cell_type": "markdown",
   "metadata": {},
   "source": [
    "##### Exercise 3(a)\n",
    "\n",
    "說明若存在一組基底 $\\beta = \\{ \\bv_1,\\ldots,\\bv_3 \\}$ 使得 $[f_J]_\\beta^\\beta$ 是對角矩陣 $\\operatorname{diag}(\\lambda_1,\\lambda_2,\\lambda_3)$﹐  \n",
    "則對每個 $i = 1,\\ldots, 3$ 都有 $J\\bv_i = \\lambda_i \\bv_i$。  \n",
    "\n",
    "<!-- eng start -->\n",
    "Show that if there is a basis $\\beta = \\{ \\bv_1,\\ldots,\\bv_3 \\}$ such that $[f_J]_\\beta^\\beta$ is a diagonal matrix $\\operatorname{diag}(\\lambda_1,\\lambda_2,\\lambda_3)$, then $J\\bv_i = \\lambda_i \\bv_i$ for each $i = 1, \\ldots, 3$.  \n",
    "<!-- eng end -->"
   ]
  },
  {
   "cell_type": "markdown",
   "metadata": {},
   "source": [
    "##### Exercise 3(b)\n",
    "\n",
    "說明若這樣的基底存在﹐必定是 $\\lambda_1 = \\cdots = \\lambda_3 = 2$﹐  \n",
    "然而 $J$ 不可能和 $2I$ 相似。\n",
    "\n",
    "<!-- eng start -->\n",
    "Show that if such a basis exists, then it must be $\\lambda_1 = \\cdots = \\lambda_3 = 2$.  However, $J$ is impossible to be similar with $2I$.  \n",
    "<!-- eng end -->"
   ]
  },
  {
   "cell_type": "markdown",
   "metadata": {},
   "source": [
    "##### Exercise 4\n",
    "\n",
    "令 $A$ 為一 $n\\times n$ 矩陣。  \n",
    "已知 $\\beta$ 為 $\\mathbb{R}^n$ 的一組基底使得 $[f_A]_\\beta^\\beta = J = J_{\\lambda,n}$。  \n",
    "將每個 $A\\bv_i$ 寫成 $\\beta$ 的線性組合。\n",
    "\n",
    "<!-- eng start -->\n",
    "Let $A$ be an $n\\times n$ matrix.  Suppose $\\beta$ is a basis of $\\mathbb{R}^n$ such that $[f_A]_\\beta^\\beta = J = J_{\\lambda,n}$.  Write each $A\\bv_i$ as a linear combination of $\\beta$.  \n",
    "<!-- eng end -->"
   ]
  },
  {
   "cell_type": "markdown",
   "metadata": {},
   "source": [
    "##### Exercise 5\n",
    "\n",
    "令  \n",
    "\n",
    "$$\n",
    "    A = \\begin{bmatrix}\n",
    "    5 & 1 & 0 \\\\\n",
    "    -7 & -1 & 1 \\\\\n",
    "    -6 & -2 & 2\n",
    "    \\end{bmatrix}.\n",
    "$$  \n",
    "\n",
    "令  \n",
    "$\\bv_1 = (1, -3, -2)$、  \n",
    "$\\bv_2 = (1, -2, -2)$、  \n",
    "$\\bv_3 = (2, -5, -3)$、  \n",
    "$\\beta = \\{ \\bv_1, \\ldots, \\bv_3 \\}$。  \n",
    "求 $[f_A]_\\beta^\\beta$。  \n",
    "\n",
    "<!-- eng start -->\n",
    "Let  \n",
    "\n",
    "$$\n",
    "    A = \\begin{bmatrix}\n",
    "    5 & 1 & 0 \\\\\n",
    "    -7 & -1 & 1 \\\\\n",
    "    -6 & -2 & 2\n",
    "    \\end{bmatrix}.\n",
    "$$  \n",
    "\n",
    "Let $\\bv_1 = (1, -3, -2)$, $\\bv_2 = (1, -2, -2)$, $\\bv_3 = (2, -5, -3)$, and $\\beta = \\{ \\bv_1, \\ldots, \\bv_3 \\}$.  Find $[f_A]_\\beta^\\beta$.  \n",
    "<!-- eng end -->"
   ]
  },
  {
   "cell_type": "markdown",
   "metadata": {},
   "source": [
    "##### Exercise 6\n",
    "\n",
    "證明兩矩陣相似是等價關係。\n",
    "\n",
    "<!-- eng start -->\n",
    "Show that the similarity between matrices is an equivalence relation.  \n",
    "<!-- eng end -->"
   ]
  }
 ],
 "metadata": {
  "kernelspec": {
   "display_name": "SageMath 9.6",
   "language": "sage",
   "name": "sagemath"
  },
  "language_info": {
   "codemirror_mode": {
    "name": "ipython",
    "version": 3
   },
   "file_extension": ".py",
   "mimetype": "text/x-python",
   "name": "python",
   "nbconvert_exporter": "python",
   "pygments_lexer": "ipython3",
   "version": "3.10.6"
  }
 },
 "nbformat": 4,
 "nbformat_minor": 4
}
