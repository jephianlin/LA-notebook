{
 "cells": [
  {
   "cell_type": "markdown",
   "metadata": {},
   "source": [
    "# 特徵多項式\n",
    "\n",
    "Characteristic polynomial"
   ]
  },
  {
   "cell_type": "markdown",
   "metadata": {},
   "source": [
    "![Creative Commons License](https://i.creativecommons.org/l/by/4.0/88x31.png)  \n",
    "This work by Jephian Lin is licensed under a [Creative Commons Attribution 4.0 International License](http://creativecommons.org/licenses/by/4.0/)."
   ]
  },
  {
   "cell_type": "markdown",
   "metadata": {},
   "source": [
    "$\\newcommand{\\trans}{^\\top}\n",
    "\\newcommand{\\adj}{^{\\rm adj}}\n",
    "\\newcommand{\\cof}{^{\\rm cof}}\n",
    "\\newcommand{\\inp}[2]{\\left\\langle#1,#2\\right\\rangle}\n",
    "\\newcommand{\\dunion}{\\mathbin{\\dot\\cup}}\n",
    "\\newcommand{\\bzero}{\\mathbf{0}}\n",
    "\\newcommand{\\bone}{\\mathbf{1}}\n",
    "\\newcommand{\\ba}{\\mathbf{a}}\n",
    "\\newcommand{\\bb}{\\mathbf{b}}\n",
    "\\newcommand{\\bc}{\\mathbf{c}}\n",
    "\\newcommand{\\bd}{\\mathbf{d}}\n",
    "\\newcommand{\\be}{\\mathbf{e}}\n",
    "\\newcommand{\\bh}{\\mathbf{h}}\n",
    "\\newcommand{\\bp}{\\mathbf{p}}\n",
    "\\newcommand{\\bq}{\\mathbf{q}}\n",
    "\\newcommand{\\br}{\\mathbf{r}}\n",
    "\\newcommand{\\bx}{\\mathbf{x}}\n",
    "\\newcommand{\\by}{\\mathbf{y}}\n",
    "\\newcommand{\\bz}{\\mathbf{z}}\n",
    "\\newcommand{\\bu}{\\mathbf{u}}\n",
    "\\newcommand{\\bv}{\\mathbf{v}}\n",
    "\\newcommand{\\bw}{\\mathbf{w}}\n",
    "\\newcommand{\\tr}{\\operatorname{tr}}\n",
    "\\newcommand{\\nul}{\\operatorname{null}}\n",
    "\\newcommand{\\rank}{\\operatorname{rank}}\n",
    "%\\newcommand{\\ker}{\\operatorname{ker}}\n",
    "\\newcommand{\\range}{\\operatorname{range}}\n",
    "\\newcommand{\\Col}{\\operatorname{Col}}\n",
    "\\newcommand{\\Row}{\\operatorname{Row}}\n",
    "\\newcommand{\\spec}{\\operatorname{spec}}\n",
    "\\newcommand{\\vspan}{\\operatorname{span}}\n",
    "\\newcommand{\\Vol}{\\operatorname{Vol}}\n",
    "\\newcommand{\\sgn}{\\operatorname{sgn}}\n",
    "\\newcommand{\\idmap}{\\operatorname{id}}\n",
    "\\newcommand{\\am}{\\operatorname{am}}\n",
    "\\newcommand{\\gm}{\\operatorname{gm}}\n",
    "\\newcommand{\\mult}{\\operatorname{mult}}\n",
    "\\newcommand{\\iner}{\\operatorname{iner}}$"
   ]
  },
  {
   "cell_type": "code",
   "execution_count": null,
   "metadata": {},
   "outputs": [],
   "source": [
    "from lingeo import random_int_list, random_good_matrix"
   ]
  },
  {
   "cell_type": "markdown",
   "metadata": {},
   "source": [
    "## Main idea"
   ]
  },
  {
   "cell_type": "markdown",
   "metadata": {},
   "source": [
    "We have seen the power of matrix diagonalization and how it relies on the equation  \n",
    "\n",
    "$$\n",
    "    A\\bv = \\lambda \\bv.\n",
    "$$"
   ]
  },
  {
   "cell_type": "markdown",
   "metadata": {},
   "source": [
    "To find the eigenvalues and the eigenvectors, we may may rewrite the equation as $A\\bv = \\lambda I\\bv$ and obtain  \n",
    "\n",
    "$$\n",
    "    (A - \\lambda I) \\bv = \\bzero,\n",
    "$$\n",
    "\n",
    "which means  \n",
    "\n",
    "- $\\lambda$ is an eigenvalue if and only if $A - \\lambda I$ is singular; and   \n",
    "- when $\\lambda$ is an eigenvalue, then $\\bv$ can be any nonzero vector in $\\ker(A - \\lambda I)$."
   ]
  },
  {
   "cell_type": "markdown",
   "metadata": {},
   "source": [
    "We also know the determinant can be used to detect singularity.  \n",
    "Therefore, $\\lambda$ is an eigenvalue of $A$ if and only if $\\det(A - \\lambda I) = 0$.  "
   ]
  },
  {
   "cell_type": "markdown",
   "metadata": {},
   "source": [
    "If we compute $p_A(x) = \\det(A - x I)$, then $\\lambda$ is an eigenvalue of $A$ if and only if $\\lambda$ is a root of $p_A(x)$.  \n",
    "\n",
    "We call $p_A(x)$ the **characteristic polyonimal** of $A$ and the multiset of its roots as the **spectrum** of $A$, denoted by $\\spec(A)$. "
   ]
  },
  {
   "cell_type": "markdown",
   "metadata": {},
   "source": [
    "Not that even if $A$ is a real matrix, $\\spec(A)$ might contains complex numbers."
   ]
  },
  {
   "cell_type": "markdown",
   "metadata": {},
   "source": [
    "Note that if $A$ and $B$ are similar by $B = Q^{-1}AQ$, then $p_A(x) = p_B(x)$ since  \n",
    "\n",
    "$$\n",
    "    \\begin{aligned}\n",
    "    p_B(x) &= \\det(Q^{-1}AQ - xI) \\\\\n",
    "     &= \\det(Q^{-1}AQ - Q^{-1}(xI)Q) \\\\\n",
    "     &= \\det(Q^{-1}(A - xI)Q) \\\\\n",
    "     &= \\det(Q^{-1})\\det(A - xI)\\det(Q) \\\\\n",
    "     &= p_A(x).\n",
    "    \\end{aligned}\n",
    "$$\n",
    "\n",
    "Therefore, the **characteristic polynomial** of a linear function $f:V\\rightarrow V$ is $p_f(x) = \\det([f]_\\beta^\\beta - xI)$ for any basis $\\beta$ of $V$, while the multiset of its roots is called the **spectrum** of $f$, denoted by $\\spec(f)$.  "
   ]
  },
  {
   "cell_type": "markdown",
   "metadata": {},
   "source": [
    "## Side stories\n",
    "\n",
    "- continuity argument\n",
    "- differentiation"
   ]
  },
  {
   "cell_type": "markdown",
   "metadata": {},
   "source": [
    "## Experiments"
   ]
  },
  {
   "cell_type": "markdown",
   "metadata": {},
   "source": [
    "##### Exercise 1\n",
    "\n",
    "執行以下程式碼。  \n",
    "\n",
    "<!-- eng start -->\n",
    "Run the code below.  \n",
    "<!-- eng end -->"
   ]
  },
  {
   "cell_type": "code",
   "execution_count": null,
   "metadata": {
    "scrolled": false
   },
   "outputs": [],
   "source": [
    "### code\n",
    "set_random_seed(0)\n",
    "print_ans = False\n",
    "\n",
    "n = 2\n",
    "spec = random_int_list(n, 3)\n",
    "D = diagonal_matrix(spec)\n",
    "Q = random_good_matrix(n,n,n)\n",
    "A = Q * D * Q.inverse()\n",
    "\n",
    "pretty_print(LatexExpr(\"A =\"), A)\n",
    "\n",
    "if print_ans:\n",
    "    pA = (-1)^n * A.charpoly()\n",
    "    print(\"characteristic polyomial =\", pA)\n",
    "    print(\"spectrum is the set { \" + \", \".join(\"%s\"%val for val in spec) + \" }\")"
   ]
  },
  {
   "cell_type": "markdown",
   "metadata": {},
   "source": [
    "##### Exercise 1(a)\n",
    "\n",
    "計算 $A$ 的特徵多項式。  \n",
    "\n",
    "<!-- eng start -->\n",
    "Find the characteristic polynomial of $A$.  \n",
    "<!-- eng end -->"
   ]
  },
  {
   "cell_type": "markdown",
   "metadata": {},
   "source": [
    "##### Exercise 1(b)\n",
    "\n",
    "計算 $\\spec(A)$。  \n",
    "\n",
    "<!-- eng start -->\n",
    "Find $\\spec(A)$.  \n",
    "<!-- eng end -->"
   ]
  },
  {
   "cell_type": "markdown",
   "metadata": {},
   "source": [
    "## Exercises"
   ]
  },
  {
   "cell_type": "markdown",
   "metadata": {},
   "source": [
    "##### Exercise 2\n",
    "\n",
    "令  \n",
    "\n",
    "$$\n",
    "    A = \\begin{bmatrix}\n",
    "    1 & 2 \\\\\n",
    "    3 & 4 \n",
    "    \\end{bmatrix}\n",
    "$$\n",
    "\n",
    "且 $\\bv = (x, y)$。  \n",
    "把 $A\\bv = \\lambda \\bv$ 和 $(A - \\lambda I)\\bv$ 分別寫成 $x,y$ 的聯立方程組，  \n",
    "並說明它們等價。  \n",
    "\n",
    "<!-- eng start -->\n",
    "Let  \n",
    "\n",
    "$$\n",
    "    A = \\begin{bmatrix}\n",
    "    1 & 2 \\\\\n",
    "    3 & 4 \n",
    "    \\end{bmatrix}\n",
    "$$\n",
    "\n",
    "and $\\bv = (x, y)$.  Then write each of $A\\bv = \\lambda \\bv$ and $(A - \\lambda I)\\bv$ as a system of linear equations.  Show that they are equivalent.    \n",
    "<!-- eng end -->"
   ]
  },
  {
   "cell_type": "markdown",
   "metadata": {},
   "source": [
    "##### Exercise 3\n",
    "\n",
    "計算以下矩陣 $A$ 的特徵多項式以及 $\\spec(A)$。  \n",
    "\n",
    "<!-- eng start -->\n",
    "Find the characteristic polynomial and $\\spec(A)$ for each of the following matrices $A$.  \n",
    "<!-- eng end -->"
   ]
  },
  {
   "cell_type": "markdown",
   "metadata": {},
   "source": [
    "##### Exercise 3(a)\n",
    "\n",
    "$$\n",
    "    A = \\begin{bmatrix}\n",
    "    5 & -1 \\\\\n",
    "    -1 & 5\n",
    "    \\end{bmatrix}.\n",
    "$$"
   ]
  },
  {
   "cell_type": "markdown",
   "metadata": {},
   "source": [
    "##### Exercise 3(b)\n",
    "\n",
    "$$\n",
    "    A = \\begin{bmatrix}\n",
    "    0 & 1 \\\\\n",
    "    -6 & 5\n",
    "    \\end{bmatrix}.\n",
    "$$"
   ]
  },
  {
   "cell_type": "markdown",
   "metadata": {},
   "source": [
    "##### Exercise 3(c)\n",
    "\n",
    "$$\n",
    "    A = \\begin{bmatrix}\n",
    "    0 & 1 \\\\\n",
    "    -4 & 0\n",
    "    \\end{bmatrix}.\n",
    "$$"
   ]
  },
  {
   "cell_type": "markdown",
   "metadata": {},
   "source": [
    "##### Exercise 3(d)\n",
    "\n",
    "$$\n",
    "    A = \\begin{bmatrix}\n",
    "    0 & -1 \\\\\n",
    "    1 & 0\n",
    "    \\end{bmatrix}.\n",
    "$$"
   ]
  },
  {
   "cell_type": "markdown",
   "metadata": {},
   "source": [
    "##### Exercise 4\n",
    "\n",
    "計算以下矩陣 $A$ 的特徵多項式以及 $\\spec(A)$。  \n",
    "\n",
    "<!-- eng start -->\n",
    "Find the characteristic polynomial and $\\spec(A)$ for each of the following matrices $A$.  \n",
    "<!-- eng end -->"
   ]
  },
  {
   "cell_type": "markdown",
   "metadata": {},
   "source": [
    "##### Exercise 4(a)\n",
    "\n",
    "$$\n",
    "    A = \\begin{bmatrix}\n",
    "    4 & 0 & -1 \\\\\n",
    "    0 & 4 & -1 \\\\\n",
    "    -1 & -1 & 5\n",
    "    \\end{bmatrix}.\n",
    "$$"
   ]
  },
  {
   "cell_type": "markdown",
   "metadata": {},
   "source": [
    "##### Exercise 4(b)\n",
    "\n",
    "$$\n",
    "    A = \\begin{bmatrix}\n",
    "    0 & 1 & 0 \\\\\n",
    "    0 & 0 & 1 \\\\\n",
    "    6 & -11 & 6\n",
    "    \\end{bmatrix}.\n",
    "$$"
   ]
  },
  {
   "cell_type": "markdown",
   "metadata": {},
   "source": [
    "##### Exercise 4(c)\n",
    "\n",
    "$$\n",
    "    A = \\begin{bmatrix}\n",
    "    0 & 1 & 0 \\\\\n",
    "    0 & 0 & 1 \\\\\n",
    "    1 & 0 & 0\n",
    "    \\end{bmatrix}.\n",
    "$$"
   ]
  },
  {
   "cell_type": "markdown",
   "metadata": {},
   "source": [
    "##### Exercise 5\n",
    "\n",
    "令 $J_n$ 為 $n\\times n$ 的全 $1$ 矩陣。  \n",
    "求 $J_n$ 的特徵多項式及 $\\spec(J_n)$。  \n",
    "\n",
    "提示：先用列運算把所有列加到第一列。  \n",
    "\n",
    "<!-- eng start -->\n",
    "Let $J_n$ be the $n\\times n$ all-ones matrix.  Find the characteristic polynomial of $J_n$ and $\\spec(J_n)$.  \n",
    "Hint:  You may apply the row operations that add each row to the first row.  \n",
    "<!-- eng end -->"
   ]
  },
  {
   "cell_type": "markdown",
   "metadata": {},
   "source": [
    "##### Exercise 6\n",
    "\n",
    "令 $A$ 和 $B$ 分別為 $m\\times n$ 及 $n\\times m$ 矩陣，並令  \n",
    "\n",
    "$$\n",
    "    M = \\begin{bmatrix}\n",
    "    O_{n,n} & B \\\\\n",
    "    A & O_{m,m}\n",
    "    \\end{bmatrix}.\n",
    "$$\n",
    "\n",
    "<!-- eng start -->\n",
    "Let $A$ and $B$ be $m\\times n$ and $n\\times m$ matrices, respectively, and \n",
    "\n",
    "$$\n",
    "    M = \\begin{bmatrix}\n",
    "    O_{n,n} & B \\\\\n",
    "    A & O_{m,m}\n",
    "    \\end{bmatrix}.\n",
    "$$\n",
    "<!-- eng end -->"
   ]
  },
  {
   "cell_type": "markdown",
   "metadata": {},
   "source": [
    "##### Exercise 6(a)\n",
    "\n",
    "假設 $x \\neq 0$，參考 408-5 計算  \n",
    "\n",
    "$$\n",
    "    \\det\\begin{bmatrix}\n",
    "    -xI_n & B \\\\\n",
    "    A & -xI_m\n",
    "    \\end{bmatrix}.\n",
    "$$\n",
    "\n",
    "<!-- eng start -->\n",
    "Suppose $x \\neq 0$.  Use the techniques in 408-5 to find  \n",
    "\n",
    "$$\n",
    "    \\det\\begin{bmatrix}\n",
    "    -xI_n & B \\\\\n",
    "    A & -xI_m\n",
    "    \\end{bmatrix}.\n",
    "$$\n",
    "<!-- eng end -->"
   ]
  },
  {
   "cell_type": "markdown",
   "metadata": {},
   "source": [
    "##### Exercise 6(b)\n",
    "\n",
    "利用行列式值的連續性來補足 $x = 0$ 的狀況。  \n",
    "求 $M$ 的特徵多項式。  \n",
    "\n",
    "<!-- eng start -->\n",
    "By the continuity of determinant, show your answer in the previous problem also holds when $x = 0$.  Find the characteristict polynomial of $M$.  \n",
    "<!-- eng end -->"
   ]
  },
  {
   "cell_type": "markdown",
   "metadata": {},
   "source": [
    "##### Exercise 6(c)\n",
    "\n",
    "若 $m\\geq n$，證明 $AB$ 和 $BA$ 有相同的非零特徵值集合。  \n",
    "\n",
    "<!-- eng start -->\n",
    "Suppose $m\\geq n$.  Show that $AB$ and $BA$ have the same set of nonzero eigenvalues, including the multiplicities.  \n",
    "<!-- eng end -->"
   ]
  },
  {
   "cell_type": "markdown",
   "metadata": {},
   "source": [
    "##### Remark\n",
    "\n",
    "以上的手法稱作連續性論證（continuity argument）。  \n",
    "由於矩陣不可逆的情況只發生在行列式值為零的時候，  \n",
    "一般來說我們都可以先假設矩陣可逆，再看看是否能用連續性處理不可逆的情況。  \n",
    "\n",
    "<!-- eng start -->\n",
    "The above method is an example of the continuity argument.  Since a matrix is singular only when its determinant is $0$, we may generally assume that the matrices are invertible and then use the invertible case to deal with the singular case.  \n",
    "<!-- eng end -->"
   ]
  },
  {
   "cell_type": "markdown",
   "metadata": {},
   "source": [
    "##### Exercise 7\n",
    "\n",
    "令 $J_{m,n}$ 為 $m\\times n$ 的全 $1$ 矩陣，而  \n",
    "\n",
    "$$\n",
    "    A = \\begin{bmatrix}\n",
    "    O_{n,n} & J_{n,m} \\\\\n",
    "    J_{m,n} & O_{m,m}\n",
    "    \\end{bmatrix}.\n",
    "$$\n",
    "\n",
    "求 $A$ 的特徵多項式及 $\\spec(A)$。  \n",
    "\n",
    "<!-- eng start -->\n",
    "Let $J_{m,n}$ be the $m\\times n$ all-ones matrix and  \n",
    "\n",
    "$$\n",
    "    A = \\begin{bmatrix}\n",
    "    O_{n,n} & J_{n,m} \\\\\n",
    "    J_{m,n} & O_{m,m}\n",
    "    \\end{bmatrix}.\n",
    "$$\n",
    "\n",
    "Find the characteristic polynomial of $A$ and $\\spec(A)$.  \n",
    "<!-- eng end -->"
   ]
  },
  {
   "cell_type": "markdown",
   "metadata": {},
   "source": [
    "##### Exercise 8\n",
    "\n",
    "令 $V$ 為 $\\mathbb{R}^3$ 中的一個二維空間，  \n",
    "而 $f:\\mathbb{R}^3 \\rightarrow \\mathbb{R}^3$ 將向量 $\\bv\\in\\mathbb{R}^3$ 投影到 $V$ 上。  \n",
    "求 $f$ 的特徵多項式。  \n",
    "\n",
    "<!-- eng start -->\n",
    "Let $V$ be a $2$-dimensional subspace in $\\mathbb{R}^3$.  Let $f:\\mathbb{R}^3 \\rightarrow \\mathbb{R}^3$ be the projection that sends vectors in $\\bv\\in\\mathbb{R}^3$ onto $V$.  Find the characteristic polynomial of $f$.  \n",
    "<!-- eng end -->"
   ]
  },
  {
   "cell_type": "markdown",
   "metadata": {},
   "source": [
    "##### Exercise 9\n",
    "\n",
    "令 $V$ 為 $\\mathbb{R}^3$ 中的一個二維空間，  \n",
    "而 $f:\\mathbb{R}^3 \\rightarrow \\mathbb{R}^3$ 將向量 $\\bv\\in\\mathbb{R}^3$ 鏡射到 $V$ 的對面。  \n",
    "求 $f$ 的特徵多項式。  \n",
    "\n",
    "<!-- eng start -->\n",
    "Let $V$ be a $2$-dimensional subspace in $\\mathbb{R}^3$.  Let $f:\\mathbb{R}^3 \\rightarrow \\mathbb{R}^3$ be the reflection that sends vectors in $\\bv\\in\\mathbb{R}^3$ to the other side of $V$.  Find the characteristic polynomial of $f$.  \n",
    "<!-- eng end -->"
   ]
  },
  {
   "cell_type": "markdown",
   "metadata": {},
   "source": [
    "##### Exercise 10\n",
    "\n",
    "令 $A$ 為一 $n\\times n$ 矩陣。  \n",
    "對 $i = 1,\\ldots,n$，令 $A(i)$ 為將 $A$ 的第 $i$ 行及第 $i$ 列拿掉所得的子矩陣。\n",
    "\n",
    "證明  \n",
    "\n",
    "$$\n",
    "    \\frac{dp_A(x)}{dx} = -\\sum_{i = 1}^n p_{A(i)}(x).\n",
    "$$\n",
    "\n",
    "提示：  \n",
    "在計算 $\\det(A - xI)$ 時可以先把裡面的 $n$ 個 $x$ 當作獨立的變數 $x_1,\\ldots, x_n$。  \n",
    "接下來搭配 409-2 及連鎖律  \n",
    "\n",
    "$$\n",
    "    \\frac{dp_A(x)}{dx} = \\sum_{i = 1}^n \\frac{\\partial p_A(x)}{\\partial x_i} \\frac{d x_i}{dx}\n",
    "$$\n",
    "\n",
    "來計算微分。  \n",
    "\n",
    "<!-- eng start -->\n",
    "Let $A$ be an $n\\times n$ matrix.  For $i = 1,\\ldots,n$, let $A(i)$ be the matrix obtained from $A$ by removing its $i$-th row and column.  \n",
    "\n",
    "Show that  \n",
    "\n",
    "$$\n",
    "    \\frac{dp_A(x)}{dx} = -\\sum_{i = 1}^n p_{A(i)}(x).\n",
    "$$\n",
    "\n",
    "Hint:  You may consider the $n$ occurrences of $x$ in $\\det(A - xI)$ as independent variables $x_1,\\ldots, x_n$.  Then use 409-2 and the chain rule\n",
    "\n",
    "$$\n",
    "    \\frac{dp_A(x)}{dx} = \\sum_{i = 1}^n \\frac{\\partial p_A(x)}{\\partial x_i} \\frac{d x_i}{dx}\n",
    "$$\n",
    "\n",
    "to find its derivative.    \n",
    "<!-- eng end -->"
   ]
  }
 ],
 "metadata": {
  "kernelspec": {
   "display_name": "SageMath 9.7",
   "language": "sage",
   "name": "sagemath"
  },
  "language_info": {
   "codemirror_mode": {
    "name": "ipython",
    "version": 3
   },
   "file_extension": ".py",
   "mimetype": "text/x-python",
   "name": "python",
   "nbconvert_exporter": "python",
   "pygments_lexer": "ipython3",
   "version": "3.10.8"
  }
 },
 "nbformat": 4,
 "nbformat_minor": 4
}
