{
 "cells": [
  {
   "cell_type": "markdown",
   "metadata": {},
   "source": [
    "# 遞迴關係式"
   ]
  },
  {
   "cell_type": "markdown",
   "metadata": {},
   "source": [
    "![Creative Commons License](https://i.creativecommons.org/l/by/4.0/88x31.png)  \n",
    "This work by Jephian Lin is licensed under a [Creative Commons Attribution 4.0 International License](http://creativecommons.org/licenses/by/4.0/)."
   ]
  },
  {
   "cell_type": "markdown",
   "metadata": {},
   "source": [
    "$\\newcommand{\\trans}{^\\top}\n",
    "\\newcommand{\\adj}{^{\\rm adj}}\n",
    "\\newcommand{\\cof}{^{\\rm cof}}\n",
    "\\newcommand{\\inp}[2]{\\left\\langle#1,#2\\right\\rangle}\n",
    "\\newcommand{\\dunion}{\\mathbin{\\dot\\cup}}\n",
    "\\newcommand{\\bzero}{\\mathbf{0}}\n",
    "\\newcommand{\\bone}{\\mathbf{1}}\n",
    "\\newcommand{\\ba}{\\mathbf{a}}\n",
    "\\newcommand{\\bb}{\\mathbf{b}}\n",
    "\\newcommand{\\bc}{\\mathbf{c}}\n",
    "\\newcommand{\\bd}{\\mathbf{d}}\n",
    "\\newcommand{\\be}{\\mathbf{e}}\n",
    "\\newcommand{\\bh}{\\mathbf{h}}\n",
    "\\newcommand{\\bp}{\\mathbf{p}}\n",
    "\\newcommand{\\bq}{\\mathbf{q}}\n",
    "\\newcommand{\\br}{\\mathbf{r}}\n",
    "\\newcommand{\\bx}{\\mathbf{x}}\n",
    "\\newcommand{\\by}{\\mathbf{y}}\n",
    "\\newcommand{\\bz}{\\mathbf{z}}\n",
    "\\newcommand{\\bu}{\\mathbf{u}}\n",
    "\\newcommand{\\bv}{\\mathbf{v}}\n",
    "\\newcommand{\\bw}{\\mathbf{w}}\n",
    "\\newcommand{\\tr}{\\operatorname{tr}}\n",
    "\\newcommand{\\nul}{\\operatorname{null}}\n",
    "\\newcommand{\\rank}{\\operatorname{rank}}\n",
    "%\\newcommand{\\ker}{\\operatorname{ker}}\n",
    "\\newcommand{\\range}{\\operatorname{range}}\n",
    "\\newcommand{\\Col}{\\operatorname{Col}}\n",
    "\\newcommand{\\Row}{\\operatorname{Row}}\n",
    "\\newcommand{\\spec}{\\operatorname{spec}}\n",
    "\\newcommand{\\vspan}{\\operatorname{span}}\n",
    "\\newcommand{\\Vol}{\\operatorname{Vol}}\n",
    "\\newcommand{\\sgn}{\\operatorname{sgn}}\n",
    "\\newcommand{\\idmap}{\\operatorname{id}}$"
   ]
  },
  {
   "cell_type": "code",
   "execution_count": null,
   "metadata": {},
   "outputs": [],
   "source": [
    "from lingeo import random_int_list"
   ]
  },
  {
   "cell_type": "markdown",
   "metadata": {},
   "source": [
    "## Main idea"
   ]
  },
  {
   "cell_type": "markdown",
   "metadata": {},
   "source": [
    "We know the exponential function can be written as  \n",
    "$$\n",
    "    e^x = \\frac{1}{0!} + \\frac{1}{1!}x + \\frac{1}{2!}x^2 + \\cdots.\n",
    "$$  "
   ]
  },
  {
   "cell_type": "markdown",
   "metadata": {},
   "source": [
    "In a similar way, the **matrix exponential** of a square matrix $A$ is defined as  \n",
    "$$\n",
    "    e^A = \\frac{1}{0!}I + \\frac{1}{1!}A + \\frac{1}{2!}A^2 + \\cdots.  \n",
    "$$"
   ]
  },
  {
   "cell_type": "markdown",
   "metadata": {},
   "source": [
    "The computation of the matrix exponential can be a tedious work, at least by hand.  \n",
    "However, when $D$ is a diagonal matrix, its matrix exponential can be easily obtained by  \n",
    "$$\n",
    "    \\begin{aligned}\n",
    "    e^D &= \\frac{1}{0!}I + \\frac{1}{1!}D + \\frac{1}{2!}D^2 + \\cdots \\\\\n",
    "     &= \n",
    "    \\frac{1}{0!}\n",
    "    \\begin{bmatrix} \n",
    "     1 & ~ & ~ \\\\\n",
    "     ~ & \\ddots & ~ \\\\\n",
    "     ~ & ~ & 1\n",
    "    \\end{bmatrix}\n",
    "    +\n",
    "    \\frac{1}{1!}\n",
    "    \\begin{bmatrix} \n",
    "     \\lambda_1 & ~ & ~ \\\\\n",
    "     ~ & \\ddots & ~ \\\\\n",
    "     ~ & ~ & \\lambda_n\n",
    "    \\end{bmatrix}\n",
    "    +\n",
    "    \\frac{1}{2!}\n",
    "    \\begin{bmatrix} \n",
    "     \\lambda_1^2 & ~ & ~ \\\\\n",
    "     ~ & \\ddots & ~ \\\\\n",
    "     ~ & ~ & \\lambda_n^2\n",
    "    \\end{bmatrix} \n",
    "    + \\cdots \\\\\n",
    "     &= \n",
    "    \\begin{bmatrix} \n",
    "    \\frac{1}{0!} + \\frac{1}{1!}\\lambda_1 + \\frac{1}{2!}\\lambda_1^2 + \\cdots & ~ & ~ \\\\\n",
    "     ~ & \\ddots & ~ \\\\\n",
    "     ~ & ~ & \\frac{1}{0!} + \\frac{1}{1!}\\lambda_n + \\frac{1}{2!}\\lambda_n^2 + \\cdots\n",
    "    \\end{bmatrix} \\\\\n",
    "     &= \n",
    "    \\begin{bmatrix} \n",
    "     e^{\\lambda_1} & ~ & ~ \\\\\n",
    "     ~ & \\ddots & ~ \\\\\n",
    "     ~ & ~ & e^{\\lambda_n}\n",
    "    \\end{bmatrix}.\n",
    "    \\end{aligned}\n",
    "$$"
   ]
  },
  {
   "cell_type": "markdown",
   "metadata": {},
   "source": [
    "Moreover, suppose $A$ is diagonalizable as $D = Q^{-1}AQ$ and $A = QDQ^{-1}$.  \n",
    "Then the matrix exponential can be computed as  \n",
    "$$\n",
    "    \\begin{aligned}\n",
    "    e^A &=  \\frac{1}{0!}I + \\frac{1}{1!}A + \\frac{1}{2!}A^2 + \\cdots \\\\\n",
    "     &= \\frac{1}{0!}I + \\frac{1}{1!}QAQ^{-1} + \\frac{1}{2!}QA^2Q^{-1} + \\cdots \\\\\n",
    "     &= Q\\left(\\frac{1}{0!}I + \\frac{1}{1!}D + \\frac{1}{2!}D^2 + \\cdots \\right)Q^{-1} \\\\\n",
    "     &= Qe^DQ^{-1}.  \n",
    "    \\end{aligned}\n",
    "$$"
   ]
  },
  {
   "cell_type": "markdown",
   "metadata": {},
   "source": [
    "## Side stories\n",
    "\n",
    "- Taylor expansion\n",
    "- Cayley transform\n",
    "- solution to $\\dot{\\bx} = A\\bx$"
   ]
  },
  {
   "cell_type": "markdown",
   "metadata": {},
   "source": [
    "## Experiments"
   ]
  },
  {
   "cell_type": "markdown",
   "metadata": {},
   "source": [
    "##### Exercise 1\n",
    "\n",
    "執行以下程式碼。  \n",
    "令 $s_k = \\sum_{r = 0}^k \\frac{1}{r!}A^r$ 為計算 $e^A$ 時的部份和。  \n",
    "定義 $\\|B - C\\|^2$ 為 $B - C$ 矩陣各項的平方和。"
   ]
  },
  {
   "cell_type": "code",
   "execution_count": null,
   "metadata": {
    "scrolled": false
   },
   "outputs": [],
   "source": [
    "### code\n",
    "set_random_seed(0)\n",
    "print_ans = False\n",
    "\n",
    "n = 2\n",
    "A = matrix(n, random_int_list(n^2, 3))\n",
    "\n",
    "pretty_print(LatexExpr(\"A =\"), A)\n",
    "\n",
    "tk = [identity_matrix(n), A]\n",
    "for k in range(2,16):\n",
    "    tk.append(tk[-1] * A / k)\n",
    "\n",
    "sk = tk[:1]\n",
    "for k in range(1,16):\n",
    "    sk.append(sk[-1] + tk[k])\n",
    "    \n",
    "pretty_print(LatexExpr(\"s_{5} =\"), N(sk[5]))\n",
    "pretty_print(LatexExpr(\"s_{10} =\"), N(sk[10]))\n",
    "pretty_print(LatexExpr(\"s_{15} =\"), N(sk[15]))\n",
    "\n",
    "if print_ans:\n",
    "    print(\"| s5 - s10 |^2 =\", (sk[5] - sk[10]).norm(\"frob\"))\n",
    "    print(\"| s10 - s15 |^2 =\", (sk[10] - sk[15]).norm(\"frob\"))"
   ]
  },
  {
   "cell_type": "markdown",
   "metadata": {},
   "source": [
    "##### Exercise 1(a)\n",
    "\n",
    "計算 $\\|s_5 - s_{10}\\|^2$。"
   ]
  },
  {
   "cell_type": "markdown",
   "metadata": {},
   "source": [
    "##### Exercise 1(b)\n",
    "\n",
    "計算 $\\|s_{10} - s_{15}\\|^2$。"
   ]
  },
  {
   "cell_type": "markdown",
   "metadata": {},
   "source": [
    "##### Remark\n",
    "\n",
    "在高等微積分會算到，在一個完備的空間裡  \n",
    "（像是 $\\mathbb{R}$ 或是 $\\mathbb{R}^n$ 或是跟矩陣長很像的 $\\mathbb{R}^{n^2}$），  \n",
    "如果一個數列有 $\\| s_n - s_m \\|$ 隨著 $n,m$ 變大而距離愈來愈小，  \n",
    "則 $s_n$ 數列會收斂。"
   ]
  },
  {
   "cell_type": "markdown",
   "metadata": {},
   "source": [
    "## Exercises"
   ]
  },
  {
   "cell_type": "markdown",
   "metadata": {},
   "source": [
    "##### Exercise 2\n",
    "\n",
    "令 $O_n$ 為 $n\\times n$ 的零矩陣，用定義計算 $e^{O_n}$。"
   ]
  },
  {
   "cell_type": "markdown",
   "metadata": {},
   "source": [
    "##### Exercise 3\n",
    "\n",
    "令  \n",
    "$$\n",
    "    A = \\begin{bmatrix}\n",
    "     0 & -1 \\\\\n",
    "     1 & 0\n",
    "    \\end{bmatrix}.\n",
    "$$\n",
    "依照以下步驟求出 $e^{tA}$，其中 $t$ 是變數。"
   ]
  },
  {
   "cell_type": "markdown",
   "metadata": {},
   "source": [
    "##### Exercise 3(a)\n",
    "\n",
    "計算 $A, A^2, A^3, A^4$ 並找出 $A^n$ 的規律。"
   ]
  },
  {
   "cell_type": "markdown",
   "metadata": {},
   "source": [
    "##### Exercise 3(b)\n",
    "\n",
    "利用定義求出 $e^{tA}$，並 $t$ 在旋轉矩陣中扮演的角色。"
   ]
  },
  {
   "cell_type": "markdown",
   "metadata": {},
   "source": [
    "##### Exercise 4\n",
    "\n",
    "對以下矩陣 $A$ 求出 $e^A$。"
   ]
  },
  {
   "cell_type": "markdown",
   "metadata": {},
   "source": [
    "##### Exercise 4(a)\n",
    "\n",
    "已知  \n",
    "$$\n",
    "    \\begin{bmatrix}\n",
    "    4 & 0 \\\\\n",
    "    0 & 6\n",
    "    \\end{bmatrix}\n",
    "    = \n",
    "    \\begin{bmatrix}\n",
    "    1 & 1 \\\\\n",
    "    1 & -1\n",
    "    \\end{bmatrix}^{-1}\n",
    "    \\begin{bmatrix}\n",
    "    5 & -1 \\\\\n",
    "    -1 & 5\n",
    "    \\end{bmatrix}\n",
    "    \\begin{bmatrix}\n",
    "    1 & 1 \\\\\n",
    "    1 & -1\n",
    "    \\end{bmatrix}.\n",
    "$$\n",
    "令  \n",
    "$$\n",
    "    A = \\begin{bmatrix}\n",
    "    5 & -1 \\\\\n",
    "    -1 & 5\n",
    "    \\end{bmatrix}.\n",
    "$$"
   ]
  },
  {
   "cell_type": "markdown",
   "metadata": {},
   "source": [
    "##### Exercise 4(b)\n",
    "\n",
    "已知  \n",
    "$$\n",
    "    \\begin{bmatrix}\n",
    "    4 & 0 \\\\\n",
    "    0 & -6\n",
    "    \\end{bmatrix}\n",
    "    = \n",
    "    \\begin{bmatrix}\n",
    "    1 & 1 \\\\\n",
    "    1 & -1\n",
    "    \\end{bmatrix}^{-1}\n",
    "    \\begin{bmatrix}\n",
    "    -1 & 5 \\\\\n",
    "    5 & -1\n",
    "    \\end{bmatrix}\n",
    "    \\begin{bmatrix}\n",
    "    1 & 1 \\\\\n",
    "    1 & -1\n",
    "    \\end{bmatrix}.\n",
    "$$\n",
    "令  \n",
    "$$\n",
    "    A = \\begin{bmatrix}\n",
    "    -1 & 5 \\\\\n",
    "    5 & -1\n",
    "    \\end{bmatrix}.\n",
    "$$"
   ]
  },
  {
   "cell_type": "markdown",
   "metadata": {},
   "source": [
    "##### Exercise 4(c)\n",
    "\n",
    "已知  \n",
    "$$\n",
    "    \\begin{bmatrix}\n",
    "    2 & 0 \\\\\n",
    "    0 & 0\n",
    "    \\end{bmatrix}\n",
    "    = \n",
    "    \\begin{bmatrix}\n",
    "    1 & 1 \\\\\n",
    "    1 & -1\n",
    "    \\end{bmatrix}^{-1}\n",
    "    \\begin{bmatrix}\n",
    "    1 & 1 \\\\\n",
    "    1 & 1\n",
    "    \\end{bmatrix}\n",
    "    \\begin{bmatrix}\n",
    "    1 & 1 \\\\\n",
    "    1 & -1\n",
    "    \\end{bmatrix}.\n",
    "$$\n",
    "令  \n",
    "$$\n",
    "    A = \\begin{bmatrix}\n",
    "    1 & 1 \\\\\n",
    "    1 & 1\n",
    "    \\end{bmatrix}.\n",
    "$$"
   ]
  },
  {
   "cell_type": "markdown",
   "metadata": {},
   "source": [
    "##### Exercise 5\n",
    "\n",
    "對以下矩陣 $A$ 求出 $e^A$。"
   ]
  },
  {
   "cell_type": "markdown",
   "metadata": {},
   "source": [
    "##### Exercise 5(a)\n",
    "\n",
    "已知  \n",
    "$$\n",
    "    \\begin{bmatrix}\n",
    "    3 & 0 & 0 \\\\\n",
    "    0 & 4 & 0 \\\\\n",
    "    0 & 0 & 6\n",
    "    \\end{bmatrix}\n",
    "    = \n",
    "    \\begin{bmatrix}\n",
    "    1 & 1 & 1 \\\\\n",
    "    1 & -1 & 1 \\\\\n",
    "    1 & 0 & -2\n",
    "    \\end{bmatrix}^{-1}\n",
    "    \\begin{bmatrix}\n",
    "    4 & 0 & -1 \\\\\n",
    "    0 & 4 & -1 \\\\\n",
    "    -1 & -1 & 5\n",
    "    \\end{bmatrix}\n",
    "    \\begin{bmatrix}\n",
    "    1 & 1 & 1 \\\\\n",
    "    1 & -1 & 1 \\\\\n",
    "    1 & 0 & -2\n",
    "    \\end{bmatrix}.\n",
    "$$\n",
    "令  \n",
    "$$\n",
    "    A = \\begin{bmatrix}\n",
    "    4 & 0 & -1 \\\\\n",
    "    0 & 4 & -1 \\\\\n",
    "    -1 & -1 & 5\n",
    "    \\end{bmatrix}.\n",
    "$$"
   ]
  },
  {
   "cell_type": "markdown",
   "metadata": {},
   "source": [
    "##### Exercise 5(b)\n",
    "\n",
    "已知  \n",
    "$$\n",
    "    \\begin{bmatrix}\n",
    "    3 & 0 & 0 \\\\\n",
    "    0 & 4 & 0 \\\\\n",
    "    0 & 0 & -6\n",
    "    \\end{bmatrix}\n",
    "    = \n",
    "    \\begin{bmatrix}\n",
    "    1 & 1 & 1 \\\\\n",
    "    1 & -1 & 1 \\\\\n",
    "    1 & 0 & -2\n",
    "    \\end{bmatrix}^{-1}\n",
    "    \\begin{bmatrix}\n",
    "    2 & -2 & 3 \\\\\n",
    "    -2 & 2 & 3 \\\\\n",
    "    3 & 3 & -3\n",
    "    \\end{bmatrix}\n",
    "    \\begin{bmatrix}\n",
    "    1 & 1 & 1 \\\\\n",
    "    1 & -1 & 1 \\\\\n",
    "    1 & 0 & -2\n",
    "    \\end{bmatrix}.\n",
    "$$\n",
    "令  \n",
    "$$\n",
    "    A = \\begin{bmatrix}\n",
    "    2 & -2 & 3 \\\\\n",
    "    -2 & 2 & 3 \\\\\n",
    "    3 & 3 & -3\n",
    "    \\end{bmatrix}.\n",
    "$$"
   ]
  },
  {
   "cell_type": "markdown",
   "metadata": {},
   "source": [
    "##### Exercise 6\n",
    "\n",
    "對以下矩陣 $A$ 求出 $e^A$。"
   ]
  },
  {
   "cell_type": "markdown",
   "metadata": {},
   "source": [
    "##### Exercise 6(a)\n",
    "\n",
    "已知  \n",
    "$$\n",
    "    \\begin{bmatrix}\n",
    "    2 & 0 \\\\\n",
    "    0 & 3\n",
    "    \\end{bmatrix}\n",
    "    = \n",
    "    \\begin{bmatrix}\n",
    "    1 & 1 \\\\\n",
    "    3 & 2\n",
    "    \\end{bmatrix}^{-1}\n",
    "    \\begin{bmatrix}\n",
    "    0 & 1 \\\\\n",
    "    -6 & 5\n",
    "    \\end{bmatrix}\n",
    "    \\begin{bmatrix}\n",
    "    1 & 1 \\\\\n",
    "    3 & 2\n",
    "    \\end{bmatrix}.\n",
    "$$\n",
    "令  \n",
    "$$\n",
    "    A = \\begin{bmatrix}\n",
    "    0 & 1 \\\\\n",
    "    -6 & 5\n",
    "    \\end{bmatrix}.\n",
    "$$"
   ]
  },
  {
   "cell_type": "markdown",
   "metadata": {},
   "source": [
    "##### Exercise 6(b)\n",
    "\n",
    "已知  \n",
    "$$\n",
    "    \\begin{bmatrix}\n",
    "    2 & 0 \\\\\n",
    "    0 & -2\n",
    "    \\end{bmatrix}\n",
    "    = \n",
    "    \\begin{bmatrix}\n",
    "    1 & 1 \\\\\n",
    "    2 & -2\n",
    "    \\end{bmatrix}^{-1}\n",
    "    \\begin{bmatrix}\n",
    "    0 & 1 \\\\\n",
    "    -4 & 0\n",
    "    \\end{bmatrix}\n",
    "    \\begin{bmatrix}\n",
    "    1 & 1 \\\\\n",
    "    2 & -2\n",
    "    \\end{bmatrix}.\n",
    "$$\n",
    "令  \n",
    "$$\n",
    "    A = \\begin{bmatrix}\n",
    "    0 & 1 \\\\\n",
    "    -4 & 0\n",
    "    \\end{bmatrix}.\n",
    "$$"
   ]
  },
  {
   "cell_type": "markdown",
   "metadata": {},
   "source": [
    "##### Exercise 6(c)\n",
    "\n",
    "已知  \n",
    "$$\n",
    "    \\begin{bmatrix}\n",
    "    2 & 1 \\\\\n",
    "    0 & 2\n",
    "    \\end{bmatrix}\n",
    "    = \n",
    "    \\begin{bmatrix}\n",
    "    2 & -1 \\\\\n",
    "    4 & 0\n",
    "    \\end{bmatrix}^{-1}\n",
    "    \\begin{bmatrix}\n",
    "    0 & 1 \\\\\n",
    "    -4 & 4\n",
    "    \\end{bmatrix}\n",
    "    \\begin{bmatrix}\n",
    "    2 & -1 \\\\\n",
    "    4 & 0\n",
    "    \\end{bmatrix}.\n",
    "$$\n",
    "令  \n",
    "$$\n",
    "    A = \\begin{bmatrix}\n",
    "    0 & 1 \\\\\n",
    "    -4 & 4\n",
    "    \\end{bmatrix}.\n",
    "$$"
   ]
  },
  {
   "cell_type": "markdown",
   "metadata": {},
   "source": [
    "##### Exercise 6(d)\n",
    "\n",
    "已知  \n",
    "$$\n",
    "    \\begin{bmatrix}\n",
    "    3 & 1 \\\\\n",
    "    0 & 3\n",
    "    \\end{bmatrix}\n",
    "    = \n",
    "    \\begin{bmatrix}\n",
    "    3 & -1 \\\\\n",
    "    9 & 0\n",
    "    \\end{bmatrix}^{-1}\n",
    "    \\begin{bmatrix}\n",
    "    0 & 1 \\\\\n",
    "    -9 & 6\n",
    "    \\end{bmatrix}\n",
    "    \\begin{bmatrix}\n",
    "    3 & -1 \\\\\n",
    "    9 & 0\n",
    "    \\end{bmatrix}.\n",
    "$$\n",
    "令  \n",
    "$$\n",
    "    A = \\begin{bmatrix}\n",
    "    0 & 1 \\\\\n",
    "    -9 & 6\n",
    "    \\end{bmatrix}.\n",
    "$$"
   ]
  },
  {
   "cell_type": "markdown",
   "metadata": {},
   "source": [
    "##### Exercise 7\n",
    "\n",
    "經由以下步驟說明 $\\dot{\\bx} = A\\bx$ 的解就是 $e^{tA}\\bc$，  \n",
    "其中 $\\bc = (c_1,\\ldots, c_n)$ 是一個控制常數的向量。"
   ]
  },
  {
   "cell_type": "markdown",
   "metadata": {},
   "source": [
    "##### Exercise 7(a)\n",
    "\n",
    "若 $A$ 可被對角化為 $D = Q^{-1}AQ$。  \n",
    "令 $Q\\by = \\bx$。  \n",
    "首先說明 $\\dot{\\by} = D\\by$ 的解就是 $e^{Dt}\\bd$，  \n",
    "其中 $\\bd = (d_1,\\ldots, d_n)$ 可以是任何常數。"
   ]
  },
  {
   "cell_type": "markdown",
   "metadata": {},
   "source": [
    "##### Exercise 7(b)\n",
    "\n",
    "藉由 $\\bx = Q^{-1}\\by$ 來得到 $\\bx = e^{tA}\\bc$，  \n",
    "其中 $\\bc = Q\\bd$ 是一組獨立的常數（因為 $Q$ 可逆）。"
   ]
  },
  {
   "cell_type": "markdown",
   "metadata": {},
   "source": [
    "##### Remark\n",
    "\n",
    "如果 $A$ 不可對角化則必須仰賴喬丹標準型，但 $e^{tA}\\bc$ 這個公式還是正確的。"
   ]
  }
 ],
 "metadata": {
  "kernelspec": {
   "display_name": "SageMath 9.4",
   "language": "sage",
   "name": "sagemath"
  },
  "language_info": {
   "codemirror_mode": {
    "name": "ipython",
    "version": 3
   },
   "file_extension": ".py",
   "mimetype": "text/x-python",
   "name": "python",
   "nbconvert_exporter": "python",
   "pygments_lexer": "ipython3",
   "version": "3.10.1"
  }
 },
 "nbformat": 4,
 "nbformat_minor": 4
}
