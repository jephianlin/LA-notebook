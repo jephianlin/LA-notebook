{
 "cells": [
  {
   "cell_type": "markdown",
   "metadata": {},
   "source": [
    "# 特解"
   ]
  },
  {
   "cell_type": "markdown",
   "metadata": {},
   "source": [
    "![Creative Commons License](https://i.creativecommons.org/l/by/4.0/88x31.png)  \n",
    "This work by Jephian Lin is licensed under a [Creative Commons Attribution 4.0 International License](http://creativecommons.org/licenses/by/4.0/)."
   ]
  },
  {
   "cell_type": "markdown",
   "metadata": {},
   "source": [
    "## Main idea"
   ]
  },
  {
   "cell_type": "markdown",
   "metadata": {},
   "source": [
    "Let $A$ be an $m\\times n$ matrix and ${\\bf b}$ a vector in $\\mathbb{R}^n$.  \n",
    "Recall that the augmented matrix of $A{\\bf x} = {\\bf b}$ is the $m\\times (n+1)$ matrix $\\left[\\begin{array}{c|c}A&{\\bf b}\\end{array}\\right]$.  \n",
    "We may perform row operations on $\\left[\\begin{array}{c|c}A&{\\bf b}\\end{array}\\right]$ to get its reduced echelon form $\\left[\\begin{array}{c|c}R&{\\bf r}\\end{array}\\right]$.  \n",
    "The equation $R{\\bf x} = {\\bf r}$ has a solution if and only if the $i$-th entry of ${\\bf r}$ is zero whenever the $i$-th row of $R$ is zero.  "
   ]
  },
  {
   "cell_type": "markdown",
   "metadata": {},
   "source": [
    "Let ${\\bf x} = (x_1, \\ldots, x_n)$.  \n",
    "The variables $x_i$ correponding to a pivot $i$ of $R$ are called **leading variables**.  \n",
    "The other variables are called **free variables**.  \n",
    "Suppose the $i$-th entry of ${\\bf r}$ is zero whenever the $i$-th row of $R$ is zero.  \n",
    "One may set each free variable as an arbitrary number (e.g., all zeros).  \n",
    "Then there is a solution ${\\bf x}$ satisfying the setting."
   ]
  },
  {
   "cell_type": "markdown",
   "metadata": {},
   "source": [
    "Therefore, the following are equivalent:\n",
    "1. $A{\\bf x} = {\\bf b}$ has a solution.  \n",
    "2. The reduced echelon form of $\\left[\\begin{array}{c|c}A&{\\bf b}\\end{array}\\right]$ does not contain a row where the last entry is nonzero but the other entries are zero.\n",
    "3. ${\\bf b} \\in \\operatorname{Col}(A)$.  "
   ]
  },
  {
   "cell_type": "markdown",
   "metadata": {},
   "source": [
    "On the other hand, if $R$ has no zero row, then $R{\\bf x} = {\\bf r}$ has a solution regardless the choice of ${\\bf r}$.  \n",
    "Therefore, the followin are equivalent for an $m\\times n$ matrix:\n",
    "1. $A{\\bf x} = {\\bf b}$ has a solution for any ${\\bf b}\\in\\mathbb{R}^m$.  \n",
    "2. The reduced echelon form of $A$ contains no zero row.  \n",
    "3. $\\operatorname{Col}(A) = \\mathbb{R}^m$."
   ]
  },
  {
   "cell_type": "markdown",
   "metadata": {},
   "source": [
    "## Side stories\n",
    "- constraint\n",
    "- polynomial passing through given points"
   ]
  },
  {
   "cell_type": "markdown",
   "metadata": {},
   "source": [
    "## Experiments"
   ]
  },
  {
   "cell_type": "code",
   "execution_count": null,
   "metadata": {},
   "outputs": [],
   "source": [
    "from lingeo import random_good_matrix, random_ref"
   ]
  },
  {
   "cell_type": "markdown",
   "metadata": {},
   "source": [
    "##### Exercise 1\n",
    "執行下方程式碼。  \n",
    "矩陣 $\\left[\\begin{array}{c|c}R&{\\bf r}\\end{array}\\right]$ 是 $\\left[\\begin{array}{c|c}A&{\\bf b}\\end{array}\\right]$ 的最簡階梯形式矩陣。  \n",
    "考慮方程組 $A{\\bf x} = {\\bf b}$ 且 ${\\bf x} = (x_1,\\ldots,x_5)$。"
   ]
  },
  {
   "cell_type": "code",
   "execution_count": null,
   "metadata": {
    "scrolled": false
   },
   "outputs": [],
   "source": [
    "### code\n",
    "set_random_seed(0)\n",
    "print_ans = False\n",
    "Ab, R, pivots = random_good_matrix(3,6,3, return_answer=True)\n",
    "A = Ab[:,:5]\n",
    "b = vector(Ab[:,5])\n",
    "Ab = A.augment(b, subdivide=True)\n",
    "Rr = Ab.rref()\n",
    "\n",
    "print(\"[ A | b ] =\")\n",
    "show(Ab)\n",
    "print(\"[ R | r ] =\")\n",
    "show(Rr)\n",
    "\n",
    "if print_ans:\n",
    "    has_sol = False if 5 in pivots else True\n",
    "    leading = [i+1 for i in pivots if i != 5]\n",
    "    free = [i for i in range(1,6) if i not in leading]\n",
    "    print(\"Has a solution?\", has_sol)\n",
    "    print(\"Leading variables are xi with i =\", leading)\n",
    "    print(\"Free variables are xi with i =\", free)\n",
    "    if has_sol:\n",
    "        x = vector([0]*5)\n",
    "        for i in range(3):\n",
    "            x[pivots[i]] = Rr[i,5]\n",
    "        print(\"By setting free variables as zeros, x =\", x)"
   ]
  },
  {
   "cell_type": "markdown",
   "metadata": {},
   "source": [
    "##### Exercise 1(a)\n",
    "在 $x_1,\\ldots,x_5$ 中﹐  \n",
    "哪些是領導變數、  \n",
    "哪些是自由變數？  "
   ]
  },
  {
   "cell_type": "markdown",
   "metadata": {},
   "source": [
    "##### Exercise 1(b)\n",
    "\n",
    "方程式是否有解？  \n",
    "若有解﹐繼續前往下一題。  \n",
    "若無解﹐忽略以下題目。"
   ]
  },
  {
   "cell_type": "markdown",
   "metadata": {},
   "source": [
    "##### Exercise 1(c)\n",
    "\n",
    "將所有自由變數設成 $0$ 求解。"
   ]
  },
  {
   "cell_type": "markdown",
   "metadata": {},
   "source": [
    "##### Exercise 1(d)\n",
    "\n",
    "隨意將自由變數設成任意數字求解。"
   ]
  },
  {
   "cell_type": "markdown",
   "metadata": {},
   "source": [
    "## Exercises"
   ]
  },
  {
   "cell_type": "markdown",
   "metadata": {},
   "source": [
    "##### Exercise 2\n",
    "\n",
    "以下類型的問題通稱為反問題﹐可以加深對數學概的理解。"
   ]
  },
  {
   "cell_type": "markdown",
   "metadata": {},
   "source": [
    "##### Exercise 2(a)\n",
    "\n",
    "找一個 $5\\times 3$ 的最簡階梯形式矩陣﹐它的軸落在 $1,3,5$ 的位置。"
   ]
  },
  {
   "cell_type": "markdown",
   "metadata": {},
   "source": [
    "##### Exercise 2(b)\n",
    "\n",
    "找一個 $5\\times 3$ 的矩陣﹐  \n",
    "它的所有項皆不是零﹐  \n",
    "且它的最簡階梯形式的軸落在 $1,3,5$ 的位置。"
   ]
  },
  {
   "cell_type": "markdown",
   "metadata": {},
   "source": [
    "##### Exercise 3\n",
    "\n",
    "給定一個矩陣 $A$﹐  \n",
    "依照以下步驟求出 ${\\bf b}\\in\\operatorname{Col}(A)$ 的等價條件。"
   ]
  },
  {
   "cell_type": "markdown",
   "metadata": {},
   "source": [
    "##### Exercise 3(a)\n",
    "\n",
    "執行下以程式碼。  \n",
    "令 ${\\bf b} = (b_1,b_2,b_3,b_4)$。  \n",
    "令 $A'$ 為 $A{\\bf x} = {\\bf b}$ 的增廣矩陣。  \n",
    "\n",
    "把 ${\\bf b}$ 的各項當作變數處理﹐經過列運把 $A'$ 中的 $A$ 消成階梯形式矩陣。  \n",
    "如果左側有一列零向量﹐則右側對應到的項必須要是零才有解。  \n",
    "利用這個性質給出 ${\\bf b}\\in\\operatorname{Col}(A)$ 的等價條件。"
   ]
  },
  {
   "cell_type": "code",
   "execution_count": null,
   "metadata": {},
   "outputs": [],
   "source": [
    "### code\n",
    "set_random_seed(0)\n",
    "A = random_good_matrix(4,3,2)\n",
    "var('b1 b2 b3 b4')\n",
    "b = vector([b1, b2, b3, b4])\n",
    "\n",
    "Ab = A.change_ring(SR).augment(b, subdivide=True)\n",
    "print(\"A' =\")\n",
    "show(Ab)\n",
    "\n",
    "### do something here to get the echelon form on the A side\n",
    "# Ab.swap_rows(...)\n",
    "# Ab.rescale_row(...)\n",
    "# Ab.add_multiple_of_row(...)\n",
    "\n",
    "print(\"After reduction:\")\n",
    "show(Ab)"
   ]
  },
  {
   "cell_type": "markdown",
   "metadata": {},
   "source": [
    "##### Exercise 3(b)\n",
    "\n",
    "每個線性方程式都對應到一個法向量﹐  \n",
    "找到一些向量 $\\{{\\bf u}_1,\\ldots,{\\bf u}_k\\}$  \n",
    "（以這題的設定 就足夠）\n",
    "使得以下敘述等價：  \n",
    "1. $\\langle{\\bf u}_i,{\\bf b}\\rangle = 0$ if $i = 1,\\ldots,k$.  \n",
    "2. ${\\bf b}\\in\\operatorname{Col}(A)$.  "
   ]
  },
  {
   "cell_type": "markdown",
   "metadata": {},
   "source": [
    "##### Exercise 4(a)\n",
    "\n",
    "執行以下程式碼。  \n",
    "說明 $\\operatorname{Col}(A) = \\mathbb{R}^3$。  "
   ]
  },
  {
   "cell_type": "code",
   "execution_count": null,
   "metadata": {},
   "outputs": [],
   "source": [
    "### code\n",
    "set_random_seed(0)\n",
    "A = random_good_matrix(3,5,3)\n",
    "print(\"A =\")\n",
    "show(A)"
   ]
  },
  {
   "cell_type": "markdown",
   "metadata": {},
   "source": [
    "##### Exercise 4(b)\n",
    "\n",
    "若 $f(x) = c_0 + c_1 x + c_2 x^2$。  \n",
    "若 $f(1) = b_1$、  \n",
    "$f(2) = b_2$、  \n",
    "$f(3) = b_3$。  \n",
    "說明不論 $b_1$、$b_2$、$b_3$ 給的是多少﹐$c_0$、$c_1$、$c_2$ 都有解。"
   ]
  },
  {
   "cell_type": "markdown",
   "metadata": {},
   "source": [
    "##### Exercise 4(c)\n",
    "\n",
    "若 $f(x) = c_0 + c_1 x + c_2 x^2$。  \n",
    "若 $x_1$、$x_2$、$x_3$ 為三相異實數且   \n",
    "$f(x_1) = b_1$、  \n",
    "$f(x_2) = b_2$、  \n",
    "$f(x_3) = b_3$。  \n",
    "說明不論 $b_1$、$b_2$、$b_3$ 給的是多少﹐$c_0$、$c_1$、$c_2$ 都有解。"
   ]
  }
 ],
 "metadata": {
  "kernelspec": {
   "display_name": "SageMath 9.0",
   "language": "sage",
   "name": "sagemath"
  },
  "language_info": {
   "codemirror_mode": {
    "name": "ipython",
    "version": 3
   },
   "file_extension": ".py",
   "mimetype": "text/x-python",
   "name": "python",
   "nbconvert_exporter": "python",
   "pygments_lexer": "ipython3",
   "version": "3.8.10"
  }
 },
 "nbformat": 4,
 "nbformat_minor": 4
}
