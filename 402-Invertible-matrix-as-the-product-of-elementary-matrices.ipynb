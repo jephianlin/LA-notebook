{
 "cells": [
  {
   "cell_type": "markdown",
   "metadata": {},
   "source": [
    "# 將可逆矩陣展開為基本矩陣的乘積\n",
    "\n",
    "Invertible matrix as the product of elementary matrices"
   ]
  },
  {
   "cell_type": "markdown",
   "metadata": {},
   "source": [
    "![Creative Commons License](https://i.creativecommons.org/l/by/4.0/88x31.png)  \n",
    "This work by Jephian Lin is licensed under a [Creative Commons Attribution 4.0 International License](http://creativecommons.org/licenses/by/4.0/)."
   ]
  },
  {
   "cell_type": "markdown",
   "metadata": {},
   "source": [
    "$\\newcommand{\\trans}{^\\top}\n",
    "\\newcommand{\\adj}{^{\\rm adj}}\n",
    "\\newcommand{\\cof}{^{\\rm cof}}\n",
    "\\newcommand{\\inp}[2]{\\left\\langle#1,#2\\right\\rangle}\n",
    "\\newcommand{\\dunion}{\\mathbin{\\dot\\cup}}\n",
    "\\newcommand{\\bzero}{\\mathbf{0}}\n",
    "\\newcommand{\\bone}{\\mathbf{1}}\n",
    "\\newcommand{\\ba}{\\mathbf{a}}\n",
    "\\newcommand{\\bb}{\\mathbf{b}}\n",
    "\\newcommand{\\bc}{\\mathbf{c}}\n",
    "\\newcommand{\\bd}{\\mathbf{d}}\n",
    "\\newcommand{\\be}{\\mathbf{e}}\n",
    "\\newcommand{\\bh}{\\mathbf{h}}\n",
    "\\newcommand{\\bp}{\\mathbf{p}}\n",
    "\\newcommand{\\bq}{\\mathbf{q}}\n",
    "\\newcommand{\\br}{\\mathbf{r}}\n",
    "\\newcommand{\\bx}{\\mathbf{x}}\n",
    "\\newcommand{\\by}{\\mathbf{y}}\n",
    "\\newcommand{\\bz}{\\mathbf{z}}\n",
    "\\newcommand{\\bu}{\\mathbf{u}}\n",
    "\\newcommand{\\bv}{\\mathbf{v}}\n",
    "\\newcommand{\\bw}{\\mathbf{w}}\n",
    "\\newcommand{\\tr}{\\operatorname{tr}}\n",
    "\\newcommand{\\nul}{\\operatorname{null}}\n",
    "\\newcommand{\\rank}{\\operatorname{rank}}\n",
    "%\\newcommand{\\ker}{\\operatorname{ker}}\n",
    "\\newcommand{\\range}{\\operatorname{range}}\n",
    "\\newcommand{\\Col}{\\operatorname{Col}}\n",
    "\\newcommand{\\Row}{\\operatorname{Row}}\n",
    "\\newcommand{\\spec}{\\operatorname{spec}}\n",
    "\\newcommand{\\vspan}{\\operatorname{span}}\n",
    "\\newcommand{\\Vol}{\\operatorname{Vol}}\n",
    "\\newcommand{\\sgn}{\\operatorname{sgn}}\n",
    "\\newcommand{\\idmap}{\\operatorname{id}}\n",
    "\\newcommand{\\am}{\\operatorname{am}}\n",
    "\\newcommand{\\gm}{\\operatorname{gm}}\n",
    "\\newcommand{\\mult}{\\operatorname{mult}}\n",
    "\\newcommand{\\iner}{\\operatorname{iner}}$"
   ]
  },
  {
   "cell_type": "code",
   "execution_count": null,
   "metadata": {},
   "outputs": [],
   "source": [
    "from lingeo import random_good_matrix, row_operation_process"
   ]
  },
  {
   "cell_type": "markdown",
   "metadata": {},
   "source": [
    "## Main idea"
   ]
  },
  {
   "cell_type": "markdown",
   "metadata": {},
   "source": [
    "Recall that the elementary matrix of a row operation is the resulting matrix of performing the row opertion on the identity matrix.  \n",
    "(See Section 113 for more details.)"
   ]
  },
  {
   "cell_type": "markdown",
   "metadata": {},
   "source": [
    "Let $A$ be a matrix and $R$ its reduced echelon form.  \n",
    "Then one may perform row operations on $A$ to obtain $R$.  \n",
    "Therefore, there is a sequence of elementary matrices $E_1, \\ldots, E_k$ such that  \n",
    "\n",
    "$$\n",
    "    E_k\\cdots E_1 A = R.\n",
    "$$\n",
    "\n",
    "Since any row operation is revertible, \n",
    "\n",
    "$$\n",
    "    E_1^{-1}\\cdots E_k^{-1} R = A\n",
    "$$\n",
    "\n",
    "where $E_i^{-1}$ is the elementary matrix of the reverse row operation  corresponding to $E_i$.   "
   ]
  },
  {
   "cell_type": "markdown",
   "metadata": {},
   "source": [
    "When $A$ is a square matrix and is invertible, its reduced echelon form is the identity matrix $I_n$.  \n",
    "Therefore, $A$ can be written as the product of a sequence of elementary matrices  \n",
    "\n",
    "$$\n",
    "    A = F_1 \\cdots F_k.\n",
    "$$"
   ]
  },
  {
   "cell_type": "markdown",
   "metadata": {},
   "source": [
    "Note that this decomposition is not unique.  \n",
    "In particular, any swapping operation  \n",
    "\n",
    "$$\n",
    "    \\rho_i\\leftrightarrow\\rho_j\n",
    "$$\n",
    "\n",
    "can be replaced by \n",
    "\n",
    "$$\n",
    "    \\begin{aligned}\n",
    "    \\rho_j&: + \\rho_i, \\\\\n",
    "    \\rho_i&: - \\rho_i, \\\\\n",
    "    \\rho_j&: + \\rho_i,\\text{ and} \\\\ \n",
    "    \\rho_i&: \\times (-1)\n",
    "    \\end{aligned}\n",
    "$$\n",
    "\n",
    "in order.  "
   ]
  },
  {
   "cell_type": "markdown",
   "metadata": {},
   "source": [
    "## Side stories\n",
    "- column operation\n",
    "- congruent\n",
    "- swap variables"
   ]
  },
  {
   "cell_type": "markdown",
   "metadata": {},
   "source": [
    "## Experiments"
   ]
  },
  {
   "cell_type": "markdown",
   "metadata": {},
   "source": [
    "##### Exercise 1\n",
    "\n",
    "執行以下程式碼。  \n",
    "\n",
    "<!-- eng start -->\n",
    "Run the code below.  \n",
    "<!-- eng end -->"
   ]
  },
  {
   "cell_type": "code",
   "execution_count": null,
   "metadata": {
    "scrolled": false
   },
   "outputs": [],
   "source": [
    "### code\n",
    "set_random_seed(0)\n",
    "print_ans = False\n",
    "n = 3\n",
    "A = random_good_matrix(n,n,n)\n",
    "\n",
    "print(\"A\")\n",
    "pretty_print(A)\n",
    "\n",
    "if print_ans:\n",
    "    elems = row_operation_process(A, inv=True)\n",
    "    pretty_print(elems)"
   ]
  },
  {
   "cell_type": "markdown",
   "metadata": {},
   "source": [
    "##### Exercise 1(a)\n",
    "\n",
    "將 $A$ 用列運算化簡為單位矩陣，  \n",
    "並將過程依序記錄下來。  \n",
    "\n",
    "<!-- eng start -->\n",
    "Apply row operations to $A$ and record each step of how it becomes an identity matrix.  \n",
    "<!-- eng end -->"
   ]
  },
  {
   "cell_type": "markdown",
   "metadata": {},
   "source": [
    "##### Exercise 1(b)\n",
    "\n",
    "將 $A$ 寫成基本矩陣的乘積。  \n",
    "\n",
    "<!-- eng start -->\n",
    "Write $A$ as a product of elementary matrices.  \n",
    "<!-- eng end -->"
   ]
  },
  {
   "cell_type": "markdown",
   "metadata": {},
   "source": [
    "## Exercises"
   ]
  },
  {
   "cell_type": "markdown",
   "metadata": {},
   "source": [
    "##### Exercise 2\n",
    "\n",
    "執行以下程式碼。\n",
    "\n",
    "<!-- eng start -->\n",
    "Run the code below.  \n",
    "<!-- eng end -->"
   ]
  },
  {
   "cell_type": "code",
   "execution_count": null,
   "metadata": {},
   "outputs": [],
   "source": [
    "### code\n",
    "set_random_seed(0)\n",
    "print_ans = False\n",
    "n = 3\n",
    "A, R, pvts = random_good_matrix(n,n + 1,n, return_answer=True)\n",
    "\n",
    "print(\"A\")\n",
    "pretty_print(A)\n",
    "print(\"R\")\n",
    "pretty_print(R)\n",
    "\n",
    "if print_ans:\n",
    "    elems = row_operation_process(A)\n",
    "    pretty_print(*(elems[::-1]), A, LatexExpr(\"=\"), R)\n",
    "    elems = row_operation_process(A, inv=True)\n",
    "    pretty_print(*elems, R, LatexExpr(\"=\"), A)"
   ]
  },
  {
   "cell_type": "markdown",
   "metadata": {},
   "source": [
    "##### Exercise 2(a)\n",
    "\n",
    "找出一些基本矩陣 $E_1,\\ldots, E_k$ 使得 $E_k\\cdots E_1 A = R$。  \n",
    "\n",
    "<!-- eng start -->\n",
    "Find some elementary matrices $E_1,\\ldots, E_k$ such that $E_k\\cdots E_1 A = R$.  \n",
    "<!-- eng end -->"
   ]
  },
  {
   "cell_type": "markdown",
   "metadata": {},
   "source": [
    "##### Exercise 2(b)\n",
    "\n",
    "找出一些基本矩陣 $F_1,\\ldots, F_k$ 使得 $F_1\\cdots F_k R = A$。  \n",
    "\n",
    "<!-- eng start -->\n",
    "Find some elementary matrices $F_1,\\ldots, F_k$ such that $F_1\\cdots F_k R = A$.  \n",
    "<!-- eng end -->"
   ]
  },
  {
   "cell_type": "markdown",
   "metadata": {},
   "source": [
    "##### Exercise 3\n",
    "\n",
    "執行以下程式碼。  \n",
    "\n",
    "<!-- eng start -->\n",
    "Run the code below.  \n",
    "<!-- eng end -->"
   ]
  },
  {
   "cell_type": "code",
   "execution_count": null,
   "metadata": {},
   "outputs": [],
   "source": [
    "### code\n",
    "set_random_seed(0)\n",
    "print_ans = False\n",
    "n = 3\n",
    "A, R, pvts = random_good_matrix(n,n + 1,n - 1, return_answer=True)\n",
    "\n",
    "print(\"A\")\n",
    "pretty_print(A)\n",
    "print(\"R\")\n",
    "pretty_print(R)\n",
    "\n",
    "if print_ans:\n",
    "    elems = row_operation_process(A)\n",
    "    pretty_print(*(elems[::-1]), A, LatexExpr(\"=\"), R)\n",
    "    elems = row_operation_process(A, inv=True)\n",
    "    pretty_print(*elems, R, LatexExpr(\"=\"), A)"
   ]
  },
  {
   "cell_type": "markdown",
   "metadata": {},
   "source": [
    "##### Exercise 3(a)\n",
    "\n",
    "找出一些基本矩陣 $E_1,\\ldots, E_k$ 使得 $E_k\\cdots E_1 A = R$。  \n",
    "\n",
    "<!-- eng start -->\n",
    "Find some elementary matrices $E_1,\\ldots, E_k$ such that $E_k\\cdots E_1 A = R$.  \n",
    "<!-- eng end -->"
   ]
  },
  {
   "cell_type": "markdown",
   "metadata": {},
   "source": [
    "##### Exercise 3(b)\n",
    "\n",
    "找出一些基本矩陣 $F_1,\\ldots, F_k$ 使得 $F_1\\cdots F_k R = A$。  \n",
    "\n",
    "<!-- eng start -->\n",
    "Find some elementary matrices $F_1,\\ldots, F_k$ such that $F_1\\cdots F_k R = A$.  \n",
    "<!-- eng end -->"
   ]
  },
  {
   "cell_type": "markdown",
   "metadata": {},
   "source": [
    "##### Exercise 4\n",
    "\n",
    "將  \n",
    "\n",
    "$$\n",
    "    A = \\begin{bmatrix}\n",
    "     0 & 1 \\\\\n",
    "     1 & 0 \n",
    "    \\end{bmatrix}\n",
    "$$\n",
    "\n",
    "寫成基本矩陣的乘積，  \n",
    "且所用到的基本矩陣沒有對應到「兩列交換」這個動作。  \n",
    "\n",
    "<!-- eng start -->\n",
    "Write  \n",
    "\n",
    "$$\n",
    "    A = \\begin{bmatrix}\n",
    "     0 & 1 \\\\\n",
    "     1 & 0 \n",
    "    \\end{bmatrix}\n",
    "$$\n",
    "\n",
    "as a product of elementary matrices in a way that none of the elementary matrices corresponds to \"swapping two rows\".    \n",
    "<!-- eng end -->"
   ]
  },
  {
   "cell_type": "markdown",
   "metadata": {},
   "source": [
    "##### Exercise 5\n",
    "\n",
    "列運算所對應到的基本矩陣會乘在左邊，  \n",
    "而行運算所對應到的基本矩陣會乘在右邊。  \n",
    "（參考 113-6。）\n",
    "\n",
    "令  \n",
    "\n",
    "$$\n",
    "    A = \\begin{bmatrix}\n",
    "     1 & 1 & 1 & 1 \\\\\n",
    "     1 & 2 & 2 & 2 \\\\\n",
    "     1 & 2 & 3 & 3 \\\\\n",
    "     1 & 2 & 3 & 4\n",
    "    \\end{bmatrix}.\n",
    "$$\n",
    "\n",
    "找出一些基本矩陣 $E_1,\\ldots, E_k$ 使得 $E_k\\cdots E_1 A E_1\\trans\\cdots E_k\\trans = I_4$。  \n",
    "\n",
    "<!-- eng start -->\n",
    "A row operation corresponds to an elementary matrix to be multiplied on the left hand side, while a column operation corresponds to an elementary matrix to be multiplied on the right hand side.  (See 113-6.)\n",
    "\n",
    "Let  \n",
    "\n",
    "$$\n",
    "    A = \\begin{bmatrix}\n",
    "     1 & 1 & 1 & 1 \\\\\n",
    "     1 & 2 & 2 & 2 \\\\\n",
    "     1 & 2 & 3 & 3 \\\\\n",
    "     1 & 2 & 3 & 4\n",
    "    \\end{bmatrix}.\n",
    "$$\n",
    "\n",
    "Find some elementary matrices $E_1,\\ldots, E_k$ such that $E_k\\cdots E_1 A E_1\\trans\\cdots E_k\\trans = I_4$.    \n",
    "<!-- eng end -->"
   ]
  }
 ],
 "metadata": {
  "kernelspec": {
   "display_name": "SageMath 9.7",
   "language": "sage",
   "name": "sagemath"
  },
  "language_info": {
   "codemirror_mode": {
    "name": "ipython",
    "version": 3
   },
   "file_extension": ".py",
   "mimetype": "text/x-python",
   "name": "python",
   "nbconvert_exporter": "python",
   "pygments_lexer": "ipython3",
   "version": "3.10.8"
  }
 },
 "nbformat": 4,
 "nbformat_minor": 4
}
