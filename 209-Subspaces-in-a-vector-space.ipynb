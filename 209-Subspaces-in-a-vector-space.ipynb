{
 "cells": [
  {
   "cell_type": "markdown",
   "metadata": {},
   "source": [
    "# 向量子空間\n",
    "\n",
    "Subspaces in a vector space"
   ]
  },
  {
   "cell_type": "markdown",
   "metadata": {},
   "source": [
    "![Creative Commons License](https://i.creativecommons.org/l/by/4.0/88x31.png)  \n",
    "This work by Jephian Lin is licensed under a [Creative Commons Attribution 4.0 International License](http://creativecommons.org/licenses/by/4.0/)."
   ]
  },
  {
   "cell_type": "markdown",
   "metadata": {},
   "source": [
    "$\\newcommand{\\trans}{^\\top}\n",
    "\\newcommand{\\adj}{^{\\rm adj}}\n",
    "\\newcommand{\\cof}{^{\\rm cof}}\n",
    "\\newcommand{\\inp}[2]{\\left\\langle#1,#2\\right\\rangle}\n",
    "\\newcommand{\\dunion}{\\mathbin{\\dot\\cup}}\n",
    "\\newcommand{\\bzero}{\\mathbf{0}}\n",
    "\\newcommand{\\bone}{\\mathbf{1}}\n",
    "\\newcommand{\\ba}{\\mathbf{a}}\n",
    "\\newcommand{\\bb}{\\mathbf{b}}\n",
    "\\newcommand{\\bc}{\\mathbf{c}}\n",
    "\\newcommand{\\bd}{\\mathbf{d}}\n",
    "\\newcommand{\\be}{\\mathbf{e}}\n",
    "\\newcommand{\\bh}{\\mathbf{h}}\n",
    "\\newcommand{\\bp}{\\mathbf{p}}\n",
    "\\newcommand{\\bq}{\\mathbf{q}}\n",
    "\\newcommand{\\br}{\\mathbf{r}}\n",
    "\\newcommand{\\bx}{\\mathbf{x}}\n",
    "\\newcommand{\\by}{\\mathbf{y}}\n",
    "\\newcommand{\\bz}{\\mathbf{z}}\n",
    "\\newcommand{\\bu}{\\mathbf{u}}\n",
    "\\newcommand{\\bv}{\\mathbf{v}}\n",
    "\\newcommand{\\bw}{\\mathbf{w}}\n",
    "\\newcommand{\\tr}{\\operatorname{tr}}\n",
    "\\newcommand{\\nul}{\\operatorname{null}}\n",
    "\\newcommand{\\rank}{\\operatorname{rank}}\n",
    "%\\newcommand{\\ker}{\\operatorname{ker}}\n",
    "\\newcommand{\\range}{\\operatorname{range}}\n",
    "\\newcommand{\\Col}{\\operatorname{Col}}\n",
    "\\newcommand{\\Row}{\\operatorname{Row}}\n",
    "\\newcommand{\\spec}{\\operatorname{spec}}\n",
    "\\newcommand{\\vspan}{\\operatorname{span}}\n",
    "\\newcommand{\\Vol}{\\operatorname{Vol}}\n",
    "\\newcommand{\\sgn}{\\operatorname{sgn}}\n",
    "\\newcommand{\\idmap}{\\operatorname{id}}\n",
    "\\newcommand{\\am}{\\operatorname{am}}\n",
    "\\newcommand{\\gm}{\\operatorname{gm}}\n",
    "\\newcommand{\\mult}{\\operatorname{mult}}\n",
    "\\newcommand{\\iner}{\\operatorname{iner}}$"
   ]
  },
  {
   "cell_type": "markdown",
   "metadata": {},
   "source": [
    "## Main idea"
   ]
  },
  {
   "cell_type": "markdown",
   "metadata": {},
   "source": [
    "Let $(U, +, \\cdot)$ be a vector space.  \n",
    "If $V\\subseteq U$ along with the same $+$ and $\\cdot$ is also a vector space, then naturally $V$ is a substructure under $U$.  \n",
    "Since most of the good properties are inherited from $U$, we only need to check the closedness and the existence of the additive identity.  \n",
    "(Notice that $V$ has to use the same operations.)"
   ]
  },
  {
   "cell_type": "markdown",
   "metadata": {},
   "source": [
    "Let $U$ be a vector space and $V\\subseteq U$.  \n",
    "Then $V$ is a **subspace** of $U$ under the same vector addition and scalar multiplication if:  \n",
    "1. $V \\neq \\emptyset$. \n",
    "2. For any scalar $k$ and vector $\\bv\\in V$, $k\\bv\\in V$. (closed under scalr multiplication)\n",
    "3. For any two vectors $\\bu,\\bv\\in V$, $\\bu + \\bv\\in V$. (closed under vector addition) "
   ]
  },
  {
   "cell_type": "markdown",
   "metadata": {},
   "source": [
    "\n",
    "A set $V$ is a subspace of the vector space $U$ if and only if $V = \\vspan(S)$ for some $S\\subseteq U$.  "
   ]
  },
  {
   "cell_type": "markdown",
   "metadata": {},
   "source": [
    "## Side stories\n",
    "- symmetrix and skew-symmetric matrices\n",
    "- even and odd functions\n",
    "- subspace uses same operations"
   ]
  },
  {
   "cell_type": "markdown",
   "metadata": {},
   "source": [
    "## Experiments"
   ]
  },
  {
   "cell_type": "markdown",
   "metadata": {},
   "source": [
    "##### Exercise 1\n",
    "\n",
    "若 $U$ 是一個向量空間  \n",
    "而 $V$ 是一個 $U$ 中的子空間。  \n",
    "證明 $V$ 也是一個向量空間。\n",
    "\n",
    "<!-- eng start -->\n",
    "Let $U$ be a vector space and $V$ a subspace of $U$.  Show that $V$ is also a vector space.  \n",
    "<!-- eng end -->"
   ]
  },
  {
   "cell_type": "markdown",
   "metadata": {},
   "source": [
    "## Exercises"
   ]
  },
  {
   "cell_type": "markdown",
   "metadata": {},
   "source": [
    "##### Exercise 2\n",
    "\n",
    "令 $U$ 為一個向量空間且 $S\\subseteq U$。 \n",
    "回顧 $\\mathbb{R}^n$ 中的各種性質。  \n",
    "試著寫出下列概念的定義。  \n",
    "\n",
    "<!-- eng start -->\n",
    "Let $U$ be a vector space and $S\\subseteq U$.  Based on the properties in $\\mathbb{R}^n$, guess the definition of the following concepts.  \n",
    "<!-- eng end -->"
   ]
  },
  {
   "cell_type": "markdown",
   "metadata": {},
   "source": [
    "##### Exercise 2(a)\n",
    "\n",
    "寫出 $S$ 的線性組合以及 $\\vspan(S)$ 的定義。  \n",
    "\n",
    "<!-- eng start -->\n",
    "What is a linear combination of $S$?  What is $\\vspan(S)$?  \n",
    "<!-- eng end -->"
   ]
  },
  {
   "cell_type": "markdown",
   "metadata": {},
   "source": [
    "##### Exercise 2(b)\n",
    "\n",
    "寫出 $S$ 是線性獨立的定義。\n",
    "\n",
    "<!-- eng start -->\n",
    "What is the meaning of \"$S$ is linearly independent\"?\n",
    "<!-- eng end -->"
   ]
  },
  {
   "cell_type": "markdown",
   "metadata": {},
   "source": [
    "##### Exercise 2(c)\n",
    "\n",
    "寫出 $S$ 是一個子空間 $V$ 的基底的定義、  \n",
    "並定義 $V$ 的維度。  \n",
    "\n",
    "<!-- eng start -->\n",
    "What is the meaning of \"$S$ is a basis of $V$\"?  Define the dimension of $V$.  \n",
    "<!-- eng end -->"
   ]
  },
  {
   "cell_type": "markdown",
   "metadata": {},
   "source": [
    "##### Exercise 3\n",
    "\n",
    "令 $U$ 為所有三次以下的多項式。  \n",
    "考慮 $S$ 為所有 $U$ 中可以寫成 $(x-1)p(x)$ 的多項式的集合。  \n",
    "\n",
    "<!-- eng start -->\n",
    "Let $U$ be the set of all polynomials of degree at most $3$.  Let $S$ be the subset of $U$ consisting of all polynomials of the form $(x-1)p(x)$ for some polynomial $p(x)$.  \n",
    "<!-- eng end -->"
   ]
  },
  {
   "cell_type": "markdown",
   "metadata": {},
   "source": [
    "##### Exercise 3(a)\n",
    "\n",
    "判斷 $S$ 是否為一個子空間。  \n",
    "\n",
    "<!-- eng start -->\n",
    "Is $S$ a subspace?\n",
    "<!-- eng end -->"
   ]
  },
  {
   "cell_type": "markdown",
   "metadata": {},
   "source": [
    "##### Exercise 3(b)\n",
    "\n",
    "找出 $S$ 的一組基底﹐並算出 $S$ 的維度。  \n",
    "（可以先找出一組生成集﹐再判斷其是否獨立。）  \n",
    "\n",
    "<!-- eng start -->\n",
    "Find a basis of $S$ and determine the dimension of $S$.  (Try to find a spanning set first and then show it is linearly independent.)  \n",
    "<!-- eng end -->"
   ]
  },
  {
   "cell_type": "markdown",
   "metadata": {},
   "source": [
    "##### Exercise 4\n",
    "\n",
    "令 $U$ 為所有 $3\\times 3$ 的矩陣。  \n",
    "考慮 $S$ 為所有 $U$ 中的上三角矩陣  \n",
    "（所有非零項都在對角線及其上方的部位內）。  \n",
    "\n",
    "<!-- eng start -->\n",
    "Let $U$ be the set of all $3\\times 3$ matrices.  Let $S$ be the subset of $U$ consisting of all upper triangular matrices.  (That is, an upper triangular matrix is a matrix whose nonzero entries only occurs on the diagonal or above.)  \n",
    "<!-- eng end -->"
   ]
  },
  {
   "cell_type": "markdown",
   "metadata": {},
   "source": [
    "##### Exercise 3(a)\n",
    "\n",
    "判斷 $S$ 是否為一個子空間。  \n",
    "\n",
    "<!-- eng start -->\n",
    "Is $S$ a subspace?  \n",
    "<!-- eng end -->"
   ]
  },
  {
   "cell_type": "markdown",
   "metadata": {},
   "source": [
    "##### Exercise 3(b)\n",
    "\n",
    "找出 $S$ 的一組基底﹐並算出 $S$ 的維度。  \n",
    "（可以先找出一組生成集﹐再判斷其是否獨立。）  \n",
    "\n",
    "<!-- eng start -->\n",
    "Find a basis of $S$ and determine the dimension of $S$.  (Try to find a spanning set first and then show it is linearly independent.)  \n",
    "<!-- eng end -->"
   ]
  },
  {
   "cell_type": "markdown",
   "metadata": {},
   "source": [
    "##### Exercise 4\n",
    "\n",
    "下列敘述是否正確。\n",
    "\n",
    "<!-- eng start -->\n",
    "For each of the following statements, determine if it is true or false.  \n",
    "<!-- eng end -->"
   ]
  },
  {
   "cell_type": "markdown",
   "metadata": {},
   "source": [
    "##### Exercise 4(a)\n",
    "\n",
    "令 $\\mathcal{P}_3$ 為所有三次以下多項式所形成的集合。  \n",
    "從中取出兩個多項式 $x^3$ 和 $x^3 + 1$﹐  \n",
    "由於 $x^3\\cdot(x^3 + 1)$ 是六次式﹐  \n",
    "$\\mathcal{P}_3$ 對乘法不封閉﹐  \n",
    "因此不是一個子空間。  \n",
    "\n",
    "<!-- eng start -->\n",
    "Let $\\mathcal{P}_3$ be the set of all polynomials of degree at most $3$.  We may choose two polynomials, e.g., $x^3$ and $x^3 + 1$ such that their product $x^3\\cdot(x^3 + 1)$ has degree $6$.  Therefore, $\\mathcal{P}_3$ is not closed under multiplication and it is not a vector space.  \n",
    "<!-- eng end -->"
   ]
  },
  {
   "cell_type": "markdown",
   "metadata": {},
   "source": [
    "##### Exercise 4(b)\n",
    "\n",
    "令 $\\operatorname{Sym}_2(\\mathbb{R})$ 為所有 $2\\times 2$ 的實對稱矩陣所形成的集合。  \n",
    "從中取出兩個矩陣 \n",
    "$A = \\begin{bmatrix} 1 & 1 \\\\ 1 & 1 \\end{bmatrix}$ 和 \n",
    "$B = \\begin{bmatrix} 0 & 1 \\\\ 1 & 2 \\end{bmatrix}$﹐  \n",
    "由於 $AB$ 不對稱﹐  \n",
    "$\\operatorname{Sym}_2(\\mathbb{R})$ 對乘法不封閉﹐  \n",
    "因此不是一個子空間。  \n",
    "\n",
    "<!-- eng start -->\n",
    "Let $\\operatorname{Sym}_2(\\mathbb{R})$ be the set of all $2\\times 2$ real symmetric matrices.  We may choose two matrices, e.g., $A = \\begin{bmatrix} 1 & 1 \\\\ 1 & 1 \\end{bmatrix}$ and $B = \\begin{bmatrix} 0 & 1 \\\\ 1 & 2 \\end{bmatrix}$ such that their product $AB$ is not symmetric.  Therefore, $\\mathcal{P}_3$ is not closed under multiplication and it is not a vector space.  \n",
    "<!-- eng end -->"
   ]
  },
  {
   "cell_type": "markdown",
   "metadata": {},
   "source": [
    "##### Exercise 5\n",
    "\n",
    "證明以下的分解成立。  \n",
    "\n",
    "<!-- eng start -->\n",
    "Prove the following statements about decompositions.  \n",
    "<!-- eng end -->"
   ]
  },
  {
   "cell_type": "markdown",
   "metadata": {},
   "source": [
    "##### Exercise 5(a)\n",
    "\n",
    "令 $U$ 為所有 $n\\times n$ 的實數矩陣所形成的集合。  \n",
    "令 $V$ 為 $U$ 中的對稱矩陣的集合。  \n",
    "令 $W$ 為 $U$ 中的反對稱矩陣的集合。  \n",
    "（一個矩陣 $A$ 如果有 $A\\trans = -A$﹐則被稱為反對稱。）  \n",
    "證明每一個 $U$ 中的元素 $\\bb$  \n",
    "都可以寫成 $\\bb = \\bv + \\bw$  \n",
    "使得 $\\bv\\in V$ 且 $\\bw\\in W$。  \n",
    "\n",
    "<!-- eng start -->\n",
    "Let $U$ be the set of all $n\\times n$ real matrices.  Let $V$ be the subset of $U$ consisting of all symmetric matrices.  Let $W$ be the subset of $U$ consisting of all skew-symmetric matrices.  (A matrix $A$ is skew-symmetric if $A\\trans = -A$.)  Show that every matrix $\\bb\\in U$ can be written as $\\bb = \\bv + \\bw$ such that $\\bv\\in V$ and $\\bw\\in W$.  \n",
    "<!-- eng end -->"
   ]
  },
  {
   "cell_type": "markdown",
   "metadata": {},
   "source": [
    "##### Exercise 5(b)\n",
    "\n",
    "令 $U$ 為所有 $10$ 次以下的多項式所形成的集合。  \n",
    "令 $V$ 為 $U$ 中的偶函數的集合。  \n",
    "令 $W$ 為 $U$ 中的奇函數的集合。  \n",
    "（一個多項式如果只有在偶數次方有非零係數﹐則被稱為偶函數。  \n",
    "一個多項式如果只有在奇數次方有非零係數﹐則被稱為奇函數。）  \n",
    "證明每一個 $U$ 中的元素 $\\bb$  \n",
    "都可以寫成 $\\bb = \\bv + \\bw$  \n",
    "使得 $\\bv\\in V$ 且 $\\bw\\in W$。  \n",
    "\n",
    "<!-- eng start -->\n",
    "Let $U$ be the set of all polynomials of degree at most $10$.  Let $V$ be the subset of $U$ consisting of all even functions.  Let $W$ be the subset of $U$ consisting of all odd functions.  (A polynomial is an even function if its nonzero coefficients only occurs at the positions of even degrees.  A polynomial is an odd function if its nonzero coefficients only occurs at the positions of odd degrees.)  Show that every polynomial $\\bb\\in U$ can be written as $\\bb = \\bv + \\bw$ such that $\\bv\\in V$ and $\\bw\\in W$.  \n",
    "<!-- eng end -->"
   ]
  },
  {
   "cell_type": "markdown",
   "metadata": {},
   "source": [
    "##### Exercise 5(c)\n",
    "\n",
    "令 $U$ 為所有 $\\mathbb{R}\\rightarrow\\mathbb{R}$ 的函數所形成的集合。  \n",
    "令 $V$ 為 $U$ 中的偶函數的集合。  \n",
    "令 $W$ 為 $U$ 中的奇函數的集合。  \n",
    "（一個函數 $f$ 如果對所有 $x$ 都有 $f(-x) = f(x)$﹐則被稱為偶函數。  \n",
    "一個函數 $f$ 如果對所有 $x$ 都有 $f(-x) = -f(x)$﹐則被稱為奇函數。）  \n",
    "證明每一個 $U$ 中的元素 $\\bb$  \n",
    "都可以寫成 $\\bb = \\bv + \\bw$  \n",
    "使得 $\\bv\\in V$ 且 $\\bw\\in W$。  \n",
    "\n",
    "<!-- eng start -->\n",
    "Let $U$ be the set of all functions from $\\mathbb{R}$ to $\\mathbb{R}$.  Let $V$ be the subset of $U$ consisting of all even functions.  Let $W$ be the subset of $U$ consisting of all odd functions.  (A function $f$ is an even function if $f(-x) = f(x)$ for all $x$.  A function $f$ is an odd function if $f(-x) = -f(x)$ for all $x$.)  Show that every function $\\bb\\in U$ can be written as $\\bb = \\bv + \\bw$ such that $\\bv\\in V$ and $\\bw\\in W$.  \n",
    "<!-- eng end -->"
   ]
  }
 ],
 "metadata": {
  "kernelspec": {
   "display_name": "SageMath 9.6",
   "language": "sage",
   "name": "sagemath"
  },
  "language_info": {
   "codemirror_mode": {
    "name": "ipython",
    "version": 3
   },
   "file_extension": ".py",
   "mimetype": "text/x-python",
   "name": "python",
   "nbconvert_exporter": "python",
   "pygments_lexer": "ipython3",
   "version": "3.10.5"
  }
 },
 "nbformat": 4,
 "nbformat_minor": 4
}
