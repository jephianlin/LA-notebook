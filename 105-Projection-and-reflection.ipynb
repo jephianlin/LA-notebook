{
 "cells": [
  {
   "cell_type": "markdown",
   "metadata": {},
   "source": [
    "# 投影與鏡射"
   ]
  },
  {
   "cell_type": "markdown",
   "metadata": {},
   "source": [
    "![Creative Commons License](https://i.creativecommons.org/l/by/4.0/88x31.png)  \n",
    "This work by Jephian Lin is licensed under a [Creative Commons Attribution 4.0 International License](http://creativecommons.org/licenses/by/4.0/)."
   ]
  },
  {
   "cell_type": "code",
   "execution_count": null,
   "metadata": {},
   "outputs": [],
   "source": [
    "from lingeo import random_int_list"
   ]
  },
  {
   "cell_type": "markdown",
   "metadata": {},
   "source": [
    "## Main idea"
   ]
  },
  {
   "cell_type": "markdown",
   "metadata": {},
   "source": [
    "##### Matrix-matrix multiplication (by entry)\n",
    "Let  \n",
    "$$ A = \\begin{bmatrix}  \n",
    " a_{11} & \\cdots & a_{1n} \\\\ \n",
    " \\vdots & ~ & \\vdots \\\\\n",
    " a_{m1} & \\cdots & a_{mn} \\\\\n",
    "\\end{bmatrix} \\text{ and } \n",
    "B = \\begin{bmatrix}  \n",
    " b_{11} & \\cdots & b_{1\\ell} \\\\ \n",
    " \\vdots & ~ & \\vdots \\\\\n",
    " b_{n1} & \\cdots & b_{n\\ell} \\\\\n",
    "\\end{bmatrix}$$\n",
    "be $m\\times n$ and $n\\times \\ell$ matrices, respectively.  \n",
    "Then the $ij$-entry of $AB$ is  \n",
    "$$(AB)_{ij} = \\sum_{k = 1}^n a_{ik}b_{k\\ell}.$$"
   ]
  },
  {
   "cell_type": "markdown",
   "metadata": {},
   "source": [
    "Let $A$ be an $m\\times n$ matrix.  \n",
    "The **transpose** of $A$ is the $n\\times m$ matrix $A^\\top$ whose $ij$-entry is the $ji$-entry of $A$.  "
   ]
  },
  {
   "cell_type": "markdown",
   "metadata": {},
   "source": [
    "The $n\\times n$ **identity matrix** is the matrix whose diagonal entries are one and other entries are zero, usually denoted as  $I_n$.  \n",
    "The $m\\times n$ **zero matrix** is the matrix whose entries are zero, usually denoted as $O_{m,n}$.  \n",
    "If $A$ is an $n\\times n$ matrix and there is a matrix $B$ such that $AB = BA = I_n$,  \n",
    "then $B$ is called the **inverse** of $A$, denoted as $A^{-1} = B$.  \n",
    "A matrix with an inverse is **invertible**.  "
   ]
  },
  {
   "cell_type": "markdown",
   "metadata": {},
   "source": [
    "Suppose $A$ is an $n\\times k$ matrix with $\\operatorname{ker}(A) = \\{{\\bf 0}\\}$.  \n",
    "Then every vector ${\\bf b}\\in\\mathbb{R}^n$ can be written as  \n",
    "$${\\bf b} = {\\bf w} + {\\bf h}$$\n",
    "where ${\\bf w}\\in\\operatorname{Col}(A)$ and ${\\bf h}\\in\\operatorname{Col}(A)^\\perp$.  \n",
    "Moreover,  \n",
    "$$\\begin{aligned}  \n",
    " {\\bf w} &= A(A^\\top A)^{-1}A^\\top {\\bf b}, \\\\\n",
    " {\\bf h} &= {\\bf b} - {\\bf w}.\n",
    "\\end{aligned}$$"
   ]
  },
  {
   "cell_type": "markdown",
   "metadata": {},
   "source": [
    "We say ${\\bf w}$ is the **projection** of ${\\bf b}$ onto the subspace $\\operatorname{Col}(A)$, and  \n",
    "${\\bf w} - {\\bf h}$ the **reflection** of ${\\bf b}$ along the subspace $\\operatorname{Col}(A)$.  \n",
    "Both action can be done by matrices.  \n",
    "That is,  \n",
    "$$\\begin{aligned}\n",
    " {\\bf w} &= A(A^\\top A)^{-1}A^\\top {\\bf b}, \\\\\n",
    " {\\bf w} - {\\bf h} &= 2{\\bf w} - {\\bf b} = (2A(A^\\top A)^{-1}A^\\top - I_n){\\bf b}.\n",
    "\\end{aligned}$$"
   ]
  },
  {
   "cell_type": "markdown",
   "metadata": {},
   "source": [
    "## Side stories\n",
    "- $\\langle{\\bf x},{\\bf y}\\rangle = {\\bf y}^\\top{\\bf x}$\n",
    "- matrix algbra"
   ]
  },
  {
   "cell_type": "markdown",
   "metadata": {},
   "source": [
    "## Experiments"
   ]
  },
  {
   "cell_type": "markdown",
   "metadata": {},
   "source": [
    "##### Exercise 1\n",
    "執行下方程式碼。  \n",
    "依照步驟求出 ${\\bf b}$ 在 $\\operatorname{Col}(A)$ 上的投影。"
   ]
  },
  {
   "cell_type": "code",
   "execution_count": null,
   "metadata": {
    "scrolled": false
   },
   "outputs": [],
   "source": [
    "### code\n",
    "set_random_seed(0)\n",
    "print_ans = False\n",
    "while True:\n",
    "    A = matrix(2, random_int_list(8)).transpose()\n",
    "    if (A.transpose() * A).is_invertible():\n",
    "        break\n",
    "b = vector(random_int_list(4))\n",
    "        \n",
    "print(\"A =\")\n",
    "print(A)\n",
    "print(\"b =\", b)\n",
    "\n",
    "if print_ans:\n",
    "    AT = A.transpose()\n",
    "    ATA = AT * A\n",
    "    w = A * ATA.inverse() * AT * b\n",
    "    print(\"The projection is %s.\"%w)"
   ]
  },
  {
   "cell_type": "markdown",
   "metadata": {},
   "source": [
    "##### Exercise 1(a)\n",
    "假設 ${\\bf b} = {\\bf w} + {\\bf h}$ 使得  \n",
    "${\\bf w}\\in\\operatorname{Col}(A)$（也就是有某一個 ${\\bf v}$ 使得 ${\\bf w} = A{\\bf v}$）、  \n",
    "${\\bf h}\\in\\operatorname{Col}(A)^\\perp = \\operatorname{Row}(A^\\top)^\\perp = \\operatorname{ker}(A^\\top)$（也就是 $A^\\top{\\bf h} = {\\bf 0}$）。  \n",
    "\n",
    "將 ${\\bf b} = {\\bf w} + {\\bf h}$ 兩邊前乘 ${\\bf A}^\\top$﹐  \n",
    "並用 $A$、${\\bf b}$、和 ${\\bf v}$ 表示出來。"
   ]
  },
  {
   "cell_type": "markdown",
   "metadata": {},
   "source": [
    "##### Exercise 1(b)\n",
    "將 $A$ 和 ${\\bf b}$ 的數字代入並解方程式求出 ${\\bf v}$。  \n",
    "\n",
    "（如果 $A^\\top A$ 可逆﹐  \n",
    "則可以把上一題的式子寫成 ${\\bf v} = (A^\\top A)^{-1} A^\\top {\\bf b}$。）  "
   ]
  },
  {
   "cell_type": "markdown",
   "metadata": {},
   "source": [
    "##### Exercise 1(c)\n",
    "因此我們知道  \n",
    "$$\\begin{aligned}  \n",
    " {\\bf w} &= A{\\bf v}, \\\\\n",
    " {\\bf h} &= {\\bf b} - {\\bf w}.\n",
    "\\end{aligned}$$\n",
    "\n",
    "以題目給的 $A$ 和 ${\\bf b}$ 將 ${\\bf w}$ 和 ${\\bf h}$ 求出來﹐  \n",
    "並確認 $A^\\top{\\bf h} = {\\bf 0}$。  "
   ]
  },
  {
   "cell_type": "markdown",
   "metadata": {},
   "source": [
    "## Exercises"
   ]
  },
  {
   "cell_type": "markdown",
   "metadata": {},
   "source": [
    "##### Exercise 2\n",
    "超平面的基本性質。"
   ]
  },
  {
   "cell_type": "markdown",
   "metadata": {},
   "source": [
    "##### Exercise 2(a)\n",
    "找兩個向量 ${\\bf u}_1, {\\bf u}_2$  \n",
    "使得 $\\left\\{\\begin{bmatrix}x\\\\y\\\\z\\end{bmatrix} : x + y + z = 0\\right\\} = \\operatorname{span}(\\{{\\bf u}_1, {\\bf u}_2\\})$。  \n",
    "（可以令 $y = c_1$ 及 $z = c_2$ 來算出解的參數式。）  \n",
    "這讓我們更確定一個通過原點的超平面是一個子空間。  "
   ]
  },
  {
   "cell_type": "markdown",
   "metadata": {},
   "source": [
    "##### Exercise 2(b)\n",
    "說明如果一個超平面沒有通過原點則不是一個子空間。"
   ]
  },
  {
   "cell_type": "markdown",
   "metadata": {},
   "source": [
    "##### Exercise 2(c)\n",
    "實際上﹐每個齊次線性方程組（$A{\\bf v} = {\\bf 0}$）  \n",
    "的解都可以用參數式表達。  \n",
    "找兩個向量 ${\\bf u}_1, {\\bf u}_2$  \n",
    "使得 $\\left\\{\\begin{bmatrix}x\\\\y\\\\z\\\\w\\end{bmatrix} :  \n",
    "\\begin{array}{ccccc} \n",
    "x & +y &   & +w & =0 \\\\\n",
    "  &    & z & +w &= 0 \\\\\n",
    "\\end{array}\\right\\} = \\operatorname{span}(\\{{\\bf u}_1, {\\bf u}_2\\})$。  \n",
    "（可以令 $y = c_1$ 及 $w = c_2$ 來算出解的參數式。）"
   ]
  },
  {
   "cell_type": "markdown",
   "metadata": {},
   "source": [
    "##### Exercise 3\n",
    "證明 $\\operatorname{ker}(A) = \\operatorname{Row}(A)^\\perp$。  "
   ]
  },
  {
   "cell_type": "markdown",
   "metadata": {},
   "source": [
    "Sample:  \n",
    "Let ${\\bf r}_1, \\ldots, {\\bf r}_m$ be the rows of $A$.  \n",
    "\n",
    "**\"$\\subseteq$\"**  \n",
    "If ${\\bf v}\\in\\operatorname{ker}(A)$, then ...  \n",
    "...  \n",
    "Therefore, ${\\bf v}\\in\\operatorname{Row}(A)^\\perp$.  \n",
    "\n",
    "**\"$\\supseteq$\"**  \n",
    "If ${\\bf v}\\in\\operatorname{Row}(A)^\\perp$, then ...  \n",
    "...  \n",
    "Therefore, ${\\bf v}\\in\\operatorname{ker}(A)$.  "
   ]
  },
  {
   "cell_type": "markdown",
   "metadata": {},
   "source": [
    "##### Exercise 4\n",
    "\n",
    "一個超平面會把 $\\mathbb{R}^n$ 分割成兩部份。  \n",
    "更精確來說﹐  \n",
    "給定法量向 ${\\bf r}$ 和偏移量 $b$﹐  \n",
    "整個 空間會被分成三部份  \n",
    "正部︰$\\{{\\bf v}: \\langle{\\bf r},{\\bf v}\\rangle > b\\}$、  \n",
    "負部︰$\\{{\\bf v}: \\langle{\\bf r},{\\bf v}\\rangle < b\\}$、  \n",
    "邊界︰$\\{{\\bf v}: \\langle{\\bf r},{\\bf v}\\rangle = b\\}$（超平面本身）。  "
   ]
  },
  {
   "cell_type": "markdown",
   "metadata": {},
   "source": [
    "##### Exercise 4(a)\n",
    "考慮法向量 ${\\bf r} = (1,1,1)$ 和偏移量 $b = 5$ 所定義出來的超平面。  \n",
    "問點  \n",
    "${\\bf v}_1 = (0,2,3)$、  \n",
    "${\\bf v}_2 = (1,0,1)$、  \n",
    "${\\bf v}_3 = (3,2,1)$  \n",
    "分別落在超平面的正部、負部、或是邊界？  "
   ]
  },
  {
   "cell_type": "markdown",
   "metadata": {},
   "source": [
    "##### Exercise 4(b)\n",
    "\n",
    "給定以下點  \n",
    "${\\bf v}_1 = (3,4,5,6)$、  \n",
    "${\\bf v}_2 = (2,3,6,7)$、  \n",
    "${\\bf v}_3 = (3,1,8,6)$、  \n",
    "${\\bf v}_4 = (5,5,5,3)$、  \n",
    "${\\bf v}_5 = (0,0,0,0)$、  \n",
    "${\\bf v}_6 = (1,1,2,2)$、  \n",
    "${\\bf v}_7 = (1,3,-1,-2)$、  \n",
    "${\\bf v}_8 = (1,2,3,4)$、  \n",
    "找一組法向量以及偏移量使得  \n",
    "其定義出來的超平面讓  \n",
    "${\\bf v}_1, {\\bf v}_2, {\\bf v}_3, {\\bf v}_4$ 落在正部、  \n",
    "${\\bf v}_5, {\\bf v}_6, {\\bf v}_7, {\\bf v}_8$ 落在負部。  "
   ]
  }
 ],
 "metadata": {
  "kernelspec": {
   "display_name": "SageMath 9.0",
   "language": "sage",
   "name": "sagemath"
  },
  "language_info": {
   "codemirror_mode": {
    "name": "ipython",
    "version": 3
   },
   "file_extension": ".py",
   "mimetype": "text/x-python",
   "name": "python",
   "nbconvert_exporter": "python",
   "pygments_lexer": "ipython3",
   "version": "3.8.10"
  }
 },
 "nbformat": 4,
 "nbformat_minor": 4
}
