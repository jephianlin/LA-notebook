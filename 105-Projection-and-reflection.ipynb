{
 "cells": [
  {
   "cell_type": "markdown",
   "metadata": {},
   "source": [
    "# 投影與鏡射\n",
    "\n",
    "Projection and reflection"
   ]
  },
  {
   "cell_type": "markdown",
   "metadata": {},
   "source": [
    "![Creative Commons License](https://i.creativecommons.org/l/by/4.0/88x31.png)  \n",
    "This work by Jephian Lin is licensed under a [Creative Commons Attribution 4.0 International License](http://creativecommons.org/licenses/by/4.0/)."
   ]
  },
  {
   "cell_type": "markdown",
   "metadata": {},
   "source": [
    "$\\newcommand{\\trans}{^\\top}\n",
    "\\newcommand{\\adj}{^{\\rm adj}}\n",
    "\\newcommand{\\cof}{^{\\rm cof}}\n",
    "\\newcommand{\\inp}[2]{\\left\\langle#1,#2\\right\\rangle}\n",
    "\\newcommand{\\dunion}{\\mathbin{\\dot\\cup}}\n",
    "\\newcommand{\\bzero}{\\mathbf{0}}\n",
    "\\newcommand{\\bone}{\\mathbf{1}}\n",
    "\\newcommand{\\ba}{\\mathbf{a}}\n",
    "\\newcommand{\\bb}{\\mathbf{b}}\n",
    "\\newcommand{\\bc}{\\mathbf{c}}\n",
    "\\newcommand{\\bd}{\\mathbf{d}}\n",
    "\\newcommand{\\be}{\\mathbf{e}}\n",
    "\\newcommand{\\bh}{\\mathbf{h}}\n",
    "\\newcommand{\\bp}{\\mathbf{p}}\n",
    "\\newcommand{\\bq}{\\mathbf{q}}\n",
    "\\newcommand{\\br}{\\mathbf{r}}\n",
    "\\newcommand{\\bx}{\\mathbf{x}}\n",
    "\\newcommand{\\by}{\\mathbf{y}}\n",
    "\\newcommand{\\bz}{\\mathbf{z}}\n",
    "\\newcommand{\\bu}{\\mathbf{u}}\n",
    "\\newcommand{\\bv}{\\mathbf{v}}\n",
    "\\newcommand{\\bw}{\\mathbf{w}}\n",
    "\\newcommand{\\tr}{\\operatorname{tr}}\n",
    "\\newcommand{\\nul}{\\operatorname{null}}\n",
    "\\newcommand{\\rank}{\\operatorname{rank}}\n",
    "%\\newcommand{\\ker}{\\operatorname{ker}}\n",
    "\\newcommand{\\range}{\\operatorname{range}}\n",
    "\\newcommand{\\Col}{\\operatorname{Col}}\n",
    "\\newcommand{\\Row}{\\operatorname{Row}}\n",
    "\\newcommand{\\spec}{\\operatorname{spec}}\n",
    "\\newcommand{\\vspan}{\\operatorname{span}}\n",
    "\\newcommand{\\Vol}{\\operatorname{Vol}}\n",
    "\\newcommand{\\sgn}{\\operatorname{sgn}}\n",
    "\\newcommand{\\idmap}{\\operatorname{id}}\n",
    "\\newcommand{\\am}{\\operatorname{am}}\n",
    "\\newcommand{\\gm}{\\operatorname{gm}}\n",
    "\\newcommand{\\mult}{\\operatorname{mult}}\n",
    "\\newcommand{\\iner}{\\operatorname{iner}}$"
   ]
  },
  {
   "cell_type": "code",
   "execution_count": null,
   "metadata": {},
   "outputs": [],
   "source": [
    "from lingeo import random_int_list"
   ]
  },
  {
   "cell_type": "markdown",
   "metadata": {},
   "source": [
    "## Main idea"
   ]
  },
  {
   "cell_type": "markdown",
   "metadata": {},
   "source": [
    "##### Matrix-matrix multiplication (by entry)\n",
    "Let  \n",
    "$$ A = \\begin{bmatrix}  \n",
    " a_{11} & \\cdots & a_{1n} \\\\ \n",
    " \\vdots & ~ & \\vdots \\\\\n",
    " a_{m1} & \\cdots & a_{mn} \\\\\n",
    "\\end{bmatrix} \\text{ and } \n",
    "B = \\begin{bmatrix}  \n",
    " b_{11} & \\cdots & b_{1\\ell} \\\\ \n",
    " \\vdots & ~ & \\vdots \\\\\n",
    " b_{n1} & \\cdots & b_{n\\ell} \\\\\n",
    "\\end{bmatrix}$$\n",
    "be $m\\times n$ and $n\\times \\ell$ matrices, respectively.  \n",
    "Then the $ij$-entry of $AB$ is  \n",
    "$$(AB)_{ij} = \\sum_{k = 1}^n a_{ik}b_{kj}.$$"
   ]
  },
  {
   "cell_type": "markdown",
   "metadata": {},
   "source": [
    "Let $A$ be an $m\\times n$ matrix.  \n",
    "The **transpose** of $A$ is the $n\\times m$ matrix $A\\trans$ whose $ij$-entry is the $ji$-entry of $A$.  "
   ]
  },
  {
   "cell_type": "markdown",
   "metadata": {},
   "source": [
    "The $n\\times n$ **identity matrix** is the matrix whose diagonal entries are one and other entries are zero, usually denoted as  $I_n$.  \n",
    "The $m\\times n$ **zero matrix** is the matrix whose entries are zero, usually denoted as $O_{m,n}$.  \n",
    "If $A$ is an $n\\times n$ matrix and there is a matrix $B$ such that $AB = BA = I_n$,  \n",
    "then $B$ is called the **inverse** of $A$, denoted as $A^{-1} = B$.  \n",
    "A matrix with an inverse is **invertible**.  "
   ]
  },
  {
   "cell_type": "markdown",
   "metadata": {},
   "source": [
    "Suppose $A$ is an $n\\times k$ matrix with $\\ker(A) = \\{\\bzero\\}$.  \n",
    "Then every vector $\\bb\\in\\mathbb{R}^n$ can be written as  \n",
    "$$\\bb = \\bw + \\bh$$\n",
    "where $\\bw\\in\\Col(A)$ and $\\bh\\in\\Col(A)^\\perp$.  \n",
    "Moreover,  \n",
    "$$\\begin{aligned}  \n",
    " \\bw &= A(A\\trans A)^{-1}A\\trans \\bb, \\\\\n",
    " \\bh &= \\bb - \\bw.\n",
    "\\end{aligned}$$"
   ]
  },
  {
   "cell_type": "markdown",
   "metadata": {},
   "source": [
    "We say $\\bw$ is the **projection** of $\\bb$ onto the subspace $\\Col(A)$, and  \n",
    "$\\bw - \\bh$ the **reflection** of $\\bb$ along the subspace $\\Col(A)$.  \n",
    "Both action can be done by matrices.  \n",
    "That is,  \n",
    "$$\\begin{aligned}\n",
    " \\bw &= A(A\\trans A)^{-1}A\\trans \\bb, \\\\\n",
    " \\bw - \\bh &= 2\\bw - \\bb = (2A(A\\trans A)^{-1}A\\trans - I_n)\\bb.\n",
    "\\end{aligned}$$"
   ]
  },
  {
   "cell_type": "markdown",
   "metadata": {},
   "source": [
    "## Side stories\n",
    "- $\\inp{\\bx}{\\by} = \\by\\trans\\bx$\n",
    "- matrix algbra"
   ]
  },
  {
   "cell_type": "markdown",
   "metadata": {},
   "source": [
    "## Experiments"
   ]
  },
  {
   "cell_type": "markdown",
   "metadata": {},
   "source": [
    "##### Exercise 1\n",
    "\n",
    "執行下方程式碼。  \n",
    "依照步驟求出 $\\bb$ 在 $\\Col(A)$ 上的投影。\n",
    "\n",
    "<!-- eng start -->\n",
    "Run the code below.  Use the given instructions to find the projection of $\\bb$ onto $\\Col(A)$.\n",
    "<!-- eng end -->"
   ]
  },
  {
   "cell_type": "code",
   "execution_count": null,
   "metadata": {
    "scrolled": false
   },
   "outputs": [],
   "source": [
    "### code\n",
    "set_random_seed(0)\n",
    "print_ans = False\n",
    "while True:\n",
    "    A = matrix(2, random_int_list(8)).transpose()\n",
    "    if (A.transpose() * A).is_invertible():\n",
    "        break\n",
    "b = vector(random_int_list(4))\n",
    "        \n",
    "print(\"A =\")\n",
    "print(A)\n",
    "print(\"b =\", b)\n",
    "\n",
    "if print_ans:\n",
    "    AT = A.transpose()\n",
    "    ATA = AT * A\n",
    "    w = A * ATA.inverse() * AT * b\n",
    "    print(\"The projection is %s.\"%w)"
   ]
  },
  {
   "cell_type": "markdown",
   "metadata": {},
   "source": [
    "##### Exercise 1(a)\n",
    "\n",
    "假設 $\\bb = \\bw + \\bh$ 使得  \n",
    "$\\bw\\in\\Col(A)$（也就是有某一個 $\\bv$ 使得 $\\bw = A\\bv$）、  \n",
    "$\\bh\\in\\Col(A)^\\perp = \\Row(A\\trans)^\\perp = \\ker(A\\trans)$（也就是 $A\\trans\\bh = \\bzero$）。  \n",
    "\n",
    "將 $\\bb = \\bw + \\bh$ 兩邊前乘 $A\\trans$﹐  \n",
    "並用 $A$、$\\bb$、和 $\\bv$ 表示出來。\n",
    "\n",
    "<!-- eng start -->\n",
    "Assume $\\bb = \\bw + \\bh$ such that $\\bw\\in\\Col(A)$ (meaning $\\bw = A\\bv$ for some $\\bv$) and $\\bh\\in\\Col(A)^\\perp = \\Row(A\\trans)^\\perp = \\ker(A\\trans)$ (meaning $A\\trans\\bh = \\bzero$).  \n",
    "\n",
    "Multiply the both sides of $\\bb = \\bw + \\bh$ by $A\\trans$.  Then rewrite the equation by $A$, $\\bb$, and $\\bv$.  \n",
    "<!-- eng end -->"
   ]
  },
  {
   "cell_type": "markdown",
   "metadata": {},
   "source": [
    "##### Exercise 1(b)\n",
    "\n",
    "將 $A$ 和 $\\bb$ 的數字代入並解方程式求出 $\\bv$。  \n",
    "\n",
    "（如果 $A\\trans A$ 可逆﹐  \n",
    "則可以把上一題的式子寫成 $\\bv = (A\\trans A)^{-1} A\\trans \\bb$。）  \n",
    "\n",
    "<!-- eng start -->\n",
    "Plug in the numbers for $A$ and $\\bb$ to find $\\bv$.  \n",
    "\n",
    "(Note that if $A\\trans A$ is invertible, then the equation from the previous problem can be written as $\\bv = (A\\trans A)^{-1} A\\trans \\bb$.)\n",
    "<!-- eng end -->"
   ]
  },
  {
   "cell_type": "markdown",
   "metadata": {},
   "source": [
    "##### Exercise 1(c)\n",
    "\n",
    "因此我們知道  \n",
    "\n",
    "$$\n",
    "    \\begin{aligned}  \n",
    "     \\bw &= A\\bv, \\\\\n",
    "     \\bh &= \\bb - \\bw.\n",
    "    \\end{aligned}\n",
    "$$\n",
    "\n",
    "以題目給的 $A$ 和 $\\bb$ 將 $\\bw$ 和 $\\bh$ 求出來﹐  \n",
    "並確認 $A\\trans\\bh = \\bzero$。  \n",
    "\n",
    "<!-- eng start -->\n",
    "Therefore, we know\n",
    "\n",
    "$$\n",
    "    \\begin{aligned}  \n",
    "     \\bw &= A\\bv, \\\\\n",
    "     \\bh &= \\bb - \\bw.\n",
    "    \\end{aligned}\n",
    "$$\n",
    "\n",
    "Use the $A$ and $\\bb$ given in the problem to find $\\bw$ and $\\bh$.  Then verify $A\\trans\\bh = \\bzero$.\n",
    "<!-- eng end -->"
   ]
  },
  {
   "cell_type": "markdown",
   "metadata": {},
   "source": [
    "## Exercises"
   ]
  },
  {
   "cell_type": "markdown",
   "metadata": {},
   "source": [
    "##### Exercise 2\n",
    "\n",
    "以下小題說明為何 $A\\trans A$ 可逆。\n",
    "\n",
    "<!-- eng start -->\n",
    "The following problems explain why $A\\trans A$ is invertible.\n",
    "<!-- eng end -->"
   ]
  },
  {
   "cell_type": "markdown",
   "metadata": {},
   "source": [
    "##### Exercise 2(a)\n",
    "\n",
    "若 $\\bx$ 和 $\\by$ 為 $\\mathbb{R}^n$ 中的兩向量。  \n",
    "驗證 $\\inp{\\bx}{\\by} = \\by\\trans\\bx$。  \n",
    "（這裡的右式把 $\\bx$ 和 $\\by$ 都當成 $n\\times 1$ 的矩陣  \n",
    "而算出來的 $1\\times 1$ 的矩陣 $\\by\\trans\\bx$ 被當成一個數字。）\n",
    "\n",
    "<!-- eng start -->\n",
    "Let $\\bx$ and $\\by$ be vectors in $\\mathbb{R}^n$.  Verify $\\inp{\\bx}{\\by} = \\by\\trans\\bx$.  (Here on the right hand side of the equation, we view $\\bx$ and $\\by$ as $n\\times 1$ matrices, while the output $\\by\\trans\\bx$ is an $1\\times 1$ matrix and is viewed as a number.)\n",
    "<!-- eng end -->"
   ]
  },
  {
   "cell_type": "markdown",
   "metadata": {},
   "source": [
    "##### Exercise 2(b)\n",
    "\n",
    "若 $A$ 和 $B$ 分別為 $m\\times n$ 和 $n\\times \\ell$ 的兩矩陣。  \n",
    "驗證 $(AB)\\trans = B\\trans A\\trans$。  \n",
    "\n",
    "<!-- eng start -->\n",
    "Let $A$ and $B$ be $m\\times n$ and $n\\times m$ matrices, respectively.  Verify $(AB)\\trans = B\\trans A\\trans$.\n",
    "<!-- eng end -->"
   ]
  },
  {
   "cell_type": "markdown",
   "metadata": {},
   "source": [
    "##### Exercise 2(c)\n",
    "\n",
    "驗證 $\\inp{A\\bx}{\\by} = \\by\\trans A\\bx = \\inp{\\bx}{A\\trans\\by}$。  \n",
    "\n",
    "<!-- eng start -->\n",
    "Verify $\\inp{A\\bx}{\\by} = \\by\\trans A\\bx = \\inp{\\bx}{A\\trans\\by}$.\n",
    "<!-- eng end -->"
   ]
  },
  {
   "cell_type": "markdown",
   "metadata": {},
   "source": [
    "##### Exercise 2(d)\n",
    "\n",
    "證明 $\\ker(A) = \\ker(A\\trans A)$。  \n",
    "\n",
    "因為 $A\\trans A$ 是一個方陣，  \n",
    "後面會證明一個方陣 $M$ 可逆的等價條件就是 $\\ker(M) = \\{\\bzero\\}$。  \n",
    "因此 $\\ker(A) = \\{\\bzero\\}$ 足以保證 $A\\trans A$ 可逆。  \n",
    "\n",
    "另一方面，  \n",
    "如果 $\\ker(A) \\neq \\{\\bzero\\}$，  \n",
    "表示 $A$ 中的行向量有一些可以去掉並不會影響到行空間。  \n",
    "重覆這個步驟直到沒有任何多餘的行向量時  \n",
    "（這時行空間都還是同一個）  \n",
    "就保證有 $\\ker(A) = \\{\\bzero\\}$。  \n",
    "（參考【矩陣的行向量】中的練習。）\n",
    "\n",
    "<!-- eng start -->\n",
    "Prove $\\ker(A) = \\ker(A\\trans A)$.\n",
    "\n",
    "We will learn that a square matrix $M$ with $\\ker(M) = \\{\\bzero\\}$ is always invertible.  Since $A\\trans A$ is a square matrix, $\\ker(A) = \\{\\bzero\\}$ implies $A\\trans A$ is invertible.  \n",
    "\n",
    "On the other hand, if $\\ker(A) \\neq \\{\\bzero\\}$, then there are some redundant columns in $A$, whose removal does not change the column space.  Keep removing these volumns while preserving the column space until there is no more redundant column.  Therefore, we may always assume $\\ker(A) = \\{\\bzero\\}$.  (See 103-4.)\n",
    "<!-- eng end -->"
   ]
  },
  {
   "cell_type": "markdown",
   "metadata": {},
   "source": [
    "##### Exercise 3(a)\n",
    "\n",
    "想像矩陣乘法就是一個動作（像是投影、或是鏡射）  \n",
    "若 $A$ 是一個投影矩陣、  \n",
    "$\\bb$ 是一個向量。  \n",
    "猜看看 $A^2\\bb$ 會是什麼？  \n",
    "猜看看 $A^2$ 會是什麼？  \n",
    "（下方程式碼中的矩陣是一個投影矩陣。  \n",
    "可以試試看。）\n",
    "\n",
    "<!-- eng start -->\n",
    "Imagine that multiplying a matrix is like applying an action, e.g., projection or reflection, to a vector.  Let $A$ is a projection matrix and $\\bb$ a vector.  Guess what is $A^2\\bb$ and what is $A^2$?  Provide your reasons.  (You may run some examples by the code below.)\n",
    "<!-- eng end -->"
   ]
  },
  {
   "cell_type": "code",
   "execution_count": null,
   "metadata": {},
   "outputs": [],
   "source": [
    "### code\n",
    "set_random_seed(0)\n",
    "a = vector(random_int_list(3))\n",
    "A = a.outer_product(a) / a.norm()**2\n",
    "b = vector(random_int_list(3))\n",
    "\n",
    "print(\"A =\")\n",
    "show(A)\n",
    "print(\"b =\", b)"
   ]
  },
  {
   "cell_type": "markdown",
   "metadata": {},
   "source": [
    "##### Exercise 3(b)\n",
    "\n",
    "想像矩陣乘法就是一個動作（像是投影、或是鏡射）  \n",
    "若 $A$ 是一個鏡射矩陣、  \n",
    "$\\bb$ 是一個向量。  \n",
    "猜看看 $A^2\\bb$ 會是什麼？  \n",
    "猜看看 $A^2$ 會是什麼？  \n",
    "（下方程式碼中的矩陣是一個投影矩陣。  \n",
    "可以試試看。）\n",
    "\n",
    "<!-- eng start -->\n",
    "Imagine that multiplying a matrix is like applying an action, e.g., projection or reflection, to a vector.  Let $A$ is a reflection matrix and $\\bb$ a vector.  Guess what is $A^2\\bb$ and what is $A^2$?  Provide your reasons.  (You may run some examples by the code below.)\n",
    "<!-- eng end -->"
   ]
  },
  {
   "cell_type": "code",
   "execution_count": null,
   "metadata": {},
   "outputs": [],
   "source": [
    "### code\n",
    "set_random_seed(0)\n",
    "a = vector(random_int_list(3))\n",
    "A = 2*a.outer_product(a) / a.norm()**2 - identity_matrix(3)\n",
    "b = vector(random_int_list(3))\n",
    "\n",
    "print(\"A =\")\n",
    "show(A)\n",
    "print(\"b =\", b)"
   ]
  },
  {
   "cell_type": "markdown",
   "metadata": {},
   "source": [
    "##### Exercise 4\n",
    "\n",
    "令 $A$、$B$、$C$ 為矩陣  \n",
    "$\\bx$ 和 $\\by$ 為向量、$k$ 為純量。  \n",
    "驗證以下的矩陣運算等式。\n",
    "\n",
    "<!-- eng start -->\n",
    "Let $A$, $B$, and $C$ be matrices.  Let $\\bx$ and $\\by$ be vectors.  Let $k$ be a scalar.  Verify the following identities.\n",
    "<!-- eng end -->"
   ]
  },
  {
   "cell_type": "markdown",
   "metadata": {},
   "source": [
    "##### Exercise 4(a)\n",
    "\n",
    "1. $(AB)C = A(BC)$.\n",
    "2. $A(B + C) = AB + AC$.\n",
    "3. $A(kB) = k(AB)$.  \n",
    "4. $A(\\bx + \\by) = A\\bx + A\\by$.  \n",
    "5. $A(k\\bx) = k(A\\bx)$."
   ]
  },
  {
   "cell_type": "markdown",
   "metadata": {},
   "source": [
    "##### Exercise 4(b)\n",
    "\n",
    "給一組例子使得 $AB \\neq BA$。  \n",
    "\n",
    "<!-- eng start -->\n",
    "Find an example where $AB \\neq BA$.\n",
    "<!-- eng end -->"
   ]
  },
  {
   "cell_type": "markdown",
   "metadata": {},
   "source": [
    "##### Exercise 4(c)\n",
    "\n",
    "若 $A$ 和 $B$ 皆為可逆矩陣。  \n",
    "則 $(AB)^{-1} = B^{-1}A^{-1}$。  \n",
    "\n",
    "<!-- eng start -->\n",
    "Show that if both $A$ and $B$ are invertible, then $(AB)^{-1} = B^{-1}A^{-1}$.\n",
    "<!-- eng end -->"
   ]
  },
  {
   "cell_type": "markdown",
   "metadata": {},
   "source": [
    "##### Exercise 4(d)\n",
    "\n",
    "定義一個方陣 $M$ 的**跡數**（trace）為其對角線上的所有元素相加，記作 $\\tr(M)$。  \n",
    "則 $\\tr(A +B) = \\tr(A) + \\tr(B)$。  \n",
    "\n",
    "<!-- eng start -->\n",
    "Define the **trace** of a square matrix $M$ as the sum of all its diagonal entries, denoted by $\\tr(M)$.  Show that $\\tr(A +B) = \\tr(A) + \\tr(B)$.\n",
    "<!-- eng end -->"
   ]
  },
  {
   "cell_type": "markdown",
   "metadata": {},
   "source": [
    "##### Exercise 4(e)\n",
    "\n",
    "若 $A$ 和 $B$ 為 $2\\times 2$ 的方陣。  \n",
    "則 $\\det(AB) = \\det(A) \\cdot \\det(B)$。  \n",
    "\n",
    "（實際上 $n\\times n$ 都對，但我們還沒學到 $n\\times n$ 方陣的行列式值怎麼算。）\n",
    "\n",
    "<!-- eng start -->\n",
    "Let $A$ and $B$ be $2\\times 2$ matrices.  Show that $\\det(AB) = \\det(A) \\cdot \\det(B)$.  \n",
    "\n",
    "(In fact, this identity is true for any $n\\times n$ matrices.  However, we have not learned what is the determinant of an $n\\times n$ matrix.)\n",
    "<!-- eng end -->"
   ]
  }
 ],
 "metadata": {
  "kernelspec": {
   "display_name": "SageMath 9.6",
   "language": "sage",
   "name": "sagemath"
  },
  "language_info": {
   "codemirror_mode": {
    "name": "ipython",
    "version": 3
   },
   "file_extension": ".py",
   "mimetype": "text/x-python",
   "name": "python",
   "nbconvert_exporter": "python",
   "pygments_lexer": "ipython3",
   "version": "3.10.5"
  }
 },
 "nbformat": 4,
 "nbformat_minor": 4
}
