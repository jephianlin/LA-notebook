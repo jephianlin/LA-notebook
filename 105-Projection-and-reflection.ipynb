{
 "cells": [
  {
   "cell_type": "markdown",
   "metadata": {},
   "source": [
    "# 投影與鏡射"
   ]
  },
  {
   "cell_type": "markdown",
   "metadata": {},
   "source": [
    "![Creative Commons License](https://i.creativecommons.org/l/by/4.0/88x31.png)  \n",
    "This work by Jephian Lin is licensed under a [Creative Commons Attribution 4.0 International License](http://creativecommons.org/licenses/by/4.0/)."
   ]
  },
  {
   "cell_type": "code",
   "execution_count": null,
   "metadata": {},
   "outputs": [],
   "source": [
    "from lingeo import random_int_list"
   ]
  },
  {
   "cell_type": "markdown",
   "metadata": {},
   "source": [
    "## Main idea"
   ]
  },
  {
   "cell_type": "markdown",
   "metadata": {},
   "source": [
    "##### Matrix-matrix multiplication (by entry)\n",
    "Let  \n",
    "$$ A = \\begin{bmatrix}  \n",
    " a_{11} & \\cdots & a_{1n} \\\\ \n",
    " \\vdots & ~ & \\vdots \\\\\n",
    " a_{m1} & \\cdots & a_{mn} \\\\\n",
    "\\end{bmatrix} \\text{ and } \n",
    "B = \\begin{bmatrix}  \n",
    " b_{11} & \\cdots & b_{1\\ell} \\\\ \n",
    " \\vdots & ~ & \\vdots \\\\\n",
    " b_{n1} & \\cdots & b_{n\\ell} \\\\\n",
    "\\end{bmatrix}$$\n",
    "be $m\\times n$ and $n\\times \\ell$ matrices, respectively.  \n",
    "Then the $ij$-entry of $AB$ is  \n",
    "$$(AB)_{ij} = \\sum_{k = 1}^n a_{ik}b_{k\\ell}.$$"
   ]
  },
  {
   "cell_type": "markdown",
   "metadata": {},
   "source": [
    "Let $A$ be an $m\\times n$ matrix.  \n",
    "The **transpose** of $A$ is the $n\\times m$ matrix $A^\\top$ whose $ij$-entry is the $ji$-entry of $A$.  "
   ]
  },
  {
   "cell_type": "markdown",
   "metadata": {},
   "source": [
    "The $n\\times n$ **identity matrix** is the matrix whose diagonal entries are one and other entries are zero, usually denoted as  $I_n$.  \n",
    "The $m\\times n$ **zero matrix** is the matrix whose entries are zero, usually denoted as $O_{m,n}$.  \n",
    "If $A$ is an $n\\times n$ matrix and there is a matrix $B$ such that $AB = BA = I_n$,  \n",
    "then $B$ is called the **inverse** of $A$, denoted as $A^{-1} = B$.  \n",
    "A matrix with an inverse is **invertible**.  "
   ]
  },
  {
   "cell_type": "markdown",
   "metadata": {},
   "source": [
    "Suppose $A$ is an $n\\times k$ matrix with $\\operatorname{ker}(A) = \\{{\\bf 0}\\}$.  \n",
    "Then every vector ${\\bf b}\\in\\mathbb{R}^n$ can be written as  \n",
    "$${\\bf b} = {\\bf w} + {\\bf h}$$\n",
    "where ${\\bf w}\\in\\operatorname{Col}(A)$ and ${\\bf h}\\in\\operatorname{Col}(A)^\\perp$.  \n",
    "Moreover,  \n",
    "$$\\begin{aligned}  \n",
    " {\\bf w} &= A(A^\\top A)^{-1}A^\\top {\\bf b}, \\\\\n",
    " {\\bf h} &= {\\bf b} - {\\bf w}.\n",
    "\\end{aligned}$$"
   ]
  },
  {
   "cell_type": "markdown",
   "metadata": {},
   "source": [
    "We say ${\\bf w}$ is the **projection** of ${\\bf b}$ onto the subspace $\\operatorname{Col}(A)$, and  \n",
    "${\\bf w} - {\\bf h}$ the **reflection** of ${\\bf b}$ along the subspace $\\operatorname{Col}(A)$.  \n",
    "Both action can be done by matrices.  \n",
    "That is,  \n",
    "$$\\begin{aligned}\n",
    " {\\bf w} &= A(A^\\top A)^{-1}A^\\top {\\bf b}, \\\\\n",
    " {\\bf w} - {\\bf h} &= 2{\\bf w} - {\\bf b} = (2A(A^\\top A)^{-1}A^\\top - I_n){\\bf b}.\n",
    "\\end{aligned}$$"
   ]
  },
  {
   "cell_type": "markdown",
   "metadata": {},
   "source": [
    "## Side stories\n",
    "- $\\langle{\\bf x},{\\bf y}\\rangle = {\\bf y}^\\top{\\bf x}$\n",
    "- matrix algbra"
   ]
  },
  {
   "cell_type": "markdown",
   "metadata": {},
   "source": [
    "## Experiments"
   ]
  },
  {
   "cell_type": "markdown",
   "metadata": {},
   "source": [
    "##### Exercise 1\n",
    "執行下方程式碼。  \n",
    "依照步驟求出 ${\\bf b}$ 在 $\\operatorname{Col}(A)$ 上的投影。"
   ]
  },
  {
   "cell_type": "code",
   "execution_count": null,
   "metadata": {
    "scrolled": false
   },
   "outputs": [],
   "source": [
    "### code\n",
    "set_random_seed(0)\n",
    "print_ans = False\n",
    "while True:\n",
    "    A = matrix(2, random_int_list(8)).transpose()\n",
    "    if (A.transpose() * A).is_invertible():\n",
    "        break\n",
    "b = vector(random_int_list(4))\n",
    "        \n",
    "print(\"A =\")\n",
    "print(A)\n",
    "print(\"b =\", b)\n",
    "\n",
    "if print_ans:\n",
    "    AT = A.transpose()\n",
    "    ATA = AT * A\n",
    "    w = A * ATA.inverse() * AT * b\n",
    "    print(\"The projection is %s.\"%w)"
   ]
  },
  {
   "cell_type": "markdown",
   "metadata": {},
   "source": [
    "##### Exercise 1(a)\n",
    "假設 ${\\bf b} = {\\bf w} + {\\bf h}$ 使得  \n",
    "${\\bf w}\\in\\operatorname{Col}(A)$（也就是有某一個 ${\\bf v}$ 使得 ${\\bf w} = A{\\bf v}$）、  \n",
    "${\\bf h}\\in\\operatorname{Col}(A)^\\perp = \\operatorname{Row}(A^\\top)^\\perp = \\operatorname{ker}(A^\\top)$（也就是 $A^\\top{\\bf h} = {\\bf 0}$）。  \n",
    "\n",
    "將 ${\\bf b} = {\\bf w} + {\\bf h}$ 兩邊前乘 ${\\bf A}^\\top$﹐  \n",
    "並用 $A$、${\\bf b}$、和 ${\\bf v}$ 表示出來。"
   ]
  },
  {
   "cell_type": "markdown",
   "metadata": {},
   "source": [
    "##### Exercise 1(b)\n",
    "將 $A$ 和 ${\\bf b}$ 的數字代入並解方程式求出 ${\\bf v}$。  \n",
    "\n",
    "（如果 $A^\\top A$ 可逆﹐  \n",
    "則可以把上一題的式子寫成 ${\\bf v} = (A^\\top A)^{-1} A^\\top {\\bf b}$。）  "
   ]
  },
  {
   "cell_type": "markdown",
   "metadata": {},
   "source": [
    "##### Exercise 1(c)\n",
    "因此我們知道  \n",
    "$$\\begin{aligned}  \n",
    " {\\bf w} &= A{\\bf v}, \\\\\n",
    " {\\bf h} &= {\\bf b} - {\\bf w}.\n",
    "\\end{aligned}$$\n",
    "\n",
    "以題目給的 $A$ 和 ${\\bf b}$ 將 ${\\bf w}$ 和 ${\\bf h}$ 求出來﹐  \n",
    "並確認 $A^\\top{\\bf h} = {\\bf 0}$。  "
   ]
  },
  {
   "cell_type": "markdown",
   "metadata": {},
   "source": [
    "## Exercises"
   ]
  },
  {
   "cell_type": "markdown",
   "metadata": {},
   "source": [
    "##### Exercise 2\n",
    "以下小題說明為何 $A^\\top A$ 可逆。"
   ]
  },
  {
   "cell_type": "markdown",
   "metadata": {},
   "source": [
    "##### Exercise 2(a)\n",
    "若 ${\\bf x}$ 和 ${\\bf y}$ 為 $\\mathbb{R}^n$ 中的兩向量。  \n",
    "驗證 $\\langle{\\bf x},{\\bf y}\\rangle = {\\bf y}^\\top{\\bf x}$。  \n",
    "（這裡的右式把 ${\\bf x}$ 和 ${\\bf y}$ 都當成 $n\\times 1$ 的矩陣  \n",
    "而算出來的 $1\\times 1$ 的矩陣 ${\\bf y}^\\top{\\bf x}$ 被當成一個數字。）"
   ]
  },
  {
   "cell_type": "markdown",
   "metadata": {},
   "source": [
    "##### Exercise 2(b)\n",
    "若 $A$ 和 $B$ 分別為 $m\\times n$ 和 $n\\times \\ell$ 的兩矩陣。  \n",
    "驗證 $(AB)^\\top = B^\\top A^\\top$。  "
   ]
  },
  {
   "cell_type": "markdown",
   "metadata": {},
   "source": [
    "##### Exercise 2(c)\n",
    "驗證 $\\langle A{\\bf x}, {\\bf y}\\rangle = {\\bf y}^\\top A{\\bf x} = \\langle {\\bf x}, A^\\top{\\bf y}\\rangle$。  "
   ]
  },
  {
   "cell_type": "markdown",
   "metadata": {},
   "source": [
    "##### Exercise 2(d)\n",
    "證明 $\\operatorname{ker}(A) = \\operatorname{ker}(A^\\top A)$。  \n",
    "\n",
    "因為 $A^\\top A$ 是一個方陣，  \n",
    "後面會證明一個方陣 $M$ 可逆的等價條件就是 $\\ker(M) = \\{{\\bf 0}\\}$。  \n",
    "因此 $\\operatorname{ker}(A) = \\{{\\bf 0}\\}$ 足以保證 $A^\\top A$ 可逆。  \n",
    "\n",
    "另一方面，  \n",
    "如果 $\\operatorname{ker}(A) \\neq \\{{\\bf 0}\\}$，  \n",
    "表示 $A$ 中的行向量有一些可以去掉並不會影響到行空間。  \n",
    "重覆這個步驟直到沒有任何多餘的行向量時  \n",
    "（這時行空間都還是同一個）  \n",
    "就保證有 $\\operatorname{ker}(A)$。  \n",
    "（參考【矩陣的行向量】中的練習。）"
   ]
  },
  {
   "cell_type": "markdown",
   "metadata": {},
   "source": [
    "##### Exercise 3(a)\n",
    "想像矩陣乘法就是一個動作（像是投影、或是鏡射）  \n",
    "若 $A$ 是一個投影矩陣、  \n",
    "${\\bf b}$ 是一個向量。  \n",
    "猜看看 $A^2{\\bf b} $會是什麼？  \n",
    "猜看看 $A^2$ 會是什麼？  \n",
    "（下方程式碼中的矩陣是一個投影矩陣。  \n",
    "可以試試看。）"
   ]
  },
  {
   "cell_type": "code",
   "execution_count": null,
   "metadata": {},
   "outputs": [],
   "source": [
    "### code\n",
    "set_random_seed(0)\n",
    "a = vector(random_int_list(3))\n",
    "A = a.outer_product(a) / a.norm()**2\n",
    "b = vector(random_int_list(3))\n",
    "\n",
    "print(\"A =\")\n",
    "show(A)\n",
    "print(\"b =\", b)"
   ]
  },
  {
   "cell_type": "markdown",
   "metadata": {},
   "source": [
    "##### Exercise 3(b)\n",
    "想像矩陣乘法就是一個動作（像是投影、或是鏡射）  \n",
    "若 $A$ 是一個鏡射矩陣、  \n",
    "${\\bf b}$ 是一個向量。  \n",
    "猜看看 $A^2{\\bf b} $會是什麼？  \n",
    "猜看看 $A^2$ 會是什麼？  \n",
    "（下方程式碼中的矩陣是一個投影矩陣。  \n",
    "可以試試看。）"
   ]
  },
  {
   "cell_type": "code",
   "execution_count": null,
   "metadata": {},
   "outputs": [],
   "source": [
    "### code\n",
    "set_random_seed(0)\n",
    "a = vector(random_int_list(3))\n",
    "A = 2*a.outer_product(a) / a.norm()**2 - identity_matrix(3)\n",
    "b = vector(random_int_list(3))\n",
    "\n",
    "print(\"A =\")\n",
    "show(A)\n",
    "print(\"b =\", b)"
   ]
  },
  {
   "cell_type": "markdown",
   "metadata": {},
   "source": [
    "##### Exercise 4\n",
    "\n",
    "令 $A$、$B$、$C$ 為矩陣  \n",
    "${\\bf x}$ 和 ${\\bf y}$ 為向量、$k$ 為純量。  \n",
    "驗證以下的矩陣運算等式。"
   ]
  },
  {
   "cell_type": "markdown",
   "metadata": {},
   "source": [
    "##### Exercise 4(a)\n",
    "1. $(AB)C = A(BC)$.\n",
    "2. $A(B + C) = AB + AC$.\n",
    "3. $A(kB) = k(AB)$.  \n",
    "4. $A({\\bf x} + {\\bf y}) = A{\\bf x} + A{\\bf y}$.  \n",
    "5. $A(k{\\bf x}) = k(A{\\bf x})$."
   ]
  },
  {
   "cell_type": "markdown",
   "metadata": {},
   "source": [
    "##### Exercise 4(b)\n",
    "\n",
    "給一組例子使得 $AB \\neq BA$。  "
   ]
  },
  {
   "cell_type": "markdown",
   "metadata": {},
   "source": [
    "##### Exercise 4(c)\n",
    "若 $A$、$B$、$C$ 皆為可逆矩陣。  \n",
    "則 $(AB)^{-1} = B^{-1}A^{-1}$。  "
   ]
  },
  {
   "cell_type": "markdown",
   "metadata": {},
   "source": [
    "##### Exercise 4(d)\n",
    "定義一個方陣 $M$ 的**跡數**（trace）為其對角線上的所有元素相加，記作 $\\operatorname{tr}(M)$。  \n",
    "則 $\\operatorname{tr}(A +B) = \\operatorname{tr}(A) + \\operatorname{tr}(B)$。  "
   ]
  },
  {
   "cell_type": "markdown",
   "metadata": {},
   "source": [
    "##### Exercise 4(e)\n",
    "若 $A$ 是一個 $2\\times 2$ 的方陣。  \n",
    "則 $\\operatorname{det}(AB) = \\operatorname{det}(A) \\cdot \\operatorname{det}(B)$。  \n",
    "\n",
    "（實際上 $n\\times n$ 都對，但我們還沒學到 $n\\times n$ 方陣的行列式值怎麼算。）"
   ]
  }
 ],
 "metadata": {
  "kernelspec": {
   "display_name": "SageMath 9.3",
   "language": "sage",
   "name": "sagemath"
  },
  "language_info": {
   "codemirror_mode": {
    "name": "ipython",
    "version": 3
   },
   "file_extension": ".py",
   "mimetype": "text/x-python",
   "name": "python",
   "nbconvert_exporter": "python",
   "pygments_lexer": "ipython3",
   "version": "3.9.5"
  }
 },
 "nbformat": 4,
 "nbformat_minor": 4
}
