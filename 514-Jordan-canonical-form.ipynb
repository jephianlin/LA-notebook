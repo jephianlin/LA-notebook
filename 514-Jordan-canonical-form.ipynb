{
 "cells": [
  {
   "cell_type": "markdown",
   "metadata": {},
   "source": [
    "# 喬丹標準型"
   ]
  },
  {
   "cell_type": "markdown",
   "metadata": {},
   "source": [
    "![Creative Commons License](https://i.creativecommons.org/l/by/4.0/88x31.png)  \n",
    "This work by Jephian Lin is licensed under a [Creative Commons Attribution 4.0 International License](http://creativecommons.org/licenses/by/4.0/)."
   ]
  },
  {
   "cell_type": "markdown",
   "metadata": {},
   "source": [
    "$\\newcommand{\\trans}{^\\top}\n",
    "\\newcommand{\\adj}{^{\\rm adj}}\n",
    "\\newcommand{\\cof}{^{\\rm cof}}\n",
    "\\newcommand{\\inp}[2]{\\left\\langle#1,#2\\right\\rangle}\n",
    "\\newcommand{\\dunion}{\\mathbin{\\dot\\cup}}\n",
    "\\newcommand{\\bzero}{\\mathbf{0}}\n",
    "\\newcommand{\\bone}{\\mathbf{1}}\n",
    "\\newcommand{\\ba}{\\mathbf{a}}\n",
    "\\newcommand{\\bb}{\\mathbf{b}}\n",
    "\\newcommand{\\bc}{\\mathbf{c}}\n",
    "\\newcommand{\\bd}{\\mathbf{d}}\n",
    "\\newcommand{\\be}{\\mathbf{e}}\n",
    "\\newcommand{\\bh}{\\mathbf{h}}\n",
    "\\newcommand{\\bp}{\\mathbf{p}}\n",
    "\\newcommand{\\bq}{\\mathbf{q}}\n",
    "\\newcommand{\\br}{\\mathbf{r}}\n",
    "\\newcommand{\\bx}{\\mathbf{x}}\n",
    "\\newcommand{\\by}{\\mathbf{y}}\n",
    "\\newcommand{\\bz}{\\mathbf{z}}\n",
    "\\newcommand{\\bu}{\\mathbf{u}}\n",
    "\\newcommand{\\bv}{\\mathbf{v}}\n",
    "\\newcommand{\\bw}{\\mathbf{w}}\n",
    "\\newcommand{\\tr}{\\operatorname{tr}}\n",
    "\\newcommand{\\nul}{\\operatorname{null}}\n",
    "\\newcommand{\\rank}{\\operatorname{rank}}\n",
    "%\\newcommand{\\ker}{\\operatorname{ker}}\n",
    "\\newcommand{\\range}{\\operatorname{range}}\n",
    "\\newcommand{\\Col}{\\operatorname{Col}}\n",
    "\\newcommand{\\Row}{\\operatorname{Row}}\n",
    "\\newcommand{\\spec}{\\operatorname{spec}}\n",
    "\\newcommand{\\vspan}{\\operatorname{span}}\n",
    "\\newcommand{\\Vol}{\\operatorname{Vol}}\n",
    "\\newcommand{\\sgn}{\\operatorname{sgn}}\n",
    "\\newcommand{\\idmap}{\\operatorname{id}}\n",
    "\\newcommand{\\am}{\\operatorname{am}}\n",
    "\\newcommand{\\gm}{\\operatorname{gm}}$"
   ]
  },
  {
   "cell_type": "code",
   "execution_count": null,
   "metadata": {},
   "outputs": [],
   "source": [
    "from lingeo import random_good_matrix"
   ]
  },
  {
   "cell_type": "markdown",
   "metadata": {},
   "source": [
    "## Main idea"
   ]
  },
  {
   "cell_type": "markdown",
   "metadata": {},
   "source": [
    "A **Jordan block** $J_{\\lambda,m}$ is an $m\\times m$ matrix  \n",
    "$$\n",
    "    J_{\\lambda,m} = \n",
    "    \\begin{bmatrix}\n",
    "    \\lambda & 1 & 0 & \\cdots & 0 \\\\\n",
    "    0 & \\lambda & 1 & \\ddots & \\vdots \\\\\n",
    "    0 & 0 & \\lambda & \\ddots & 0 \\\\\n",
    "    \\vdots & ~ & \\ddots & \\ddots & 1 \\\\\n",
    "    0 & \\cdots & 0 & 0 & \\lambda\n",
    "    \\end{bmatrix}.\n",
    "$$\n",
    "A Jordan block $J_{\\lambda,m}$ has only one eigenvalue $\\lambda$ with $\\am(\\lambda) = m$ and $\\gm(\\lambda) = 1$.  \n",
    "Therefore, it is not diagonalizable whenever $m\\geq 2$.  "
   ]
  },
  {
   "cell_type": "markdown",
   "metadata": {},
   "source": [
    "##### Theorem (Jordan canonical form)\n",
    "\n",
    "For any square matrix $A$ over $\\mathbb{C}$ there is a basis $\\beta$ such that $[f_A]_\\beta^\\beta$ is a block diagonal matrix whose diagonal blocks are Jordan blocks.  "
   ]
  },
  {
   "cell_type": "markdown",
   "metadata": {},
   "source": [
    "A **generalized eigenvector** of $A$ with respect to $\\lambda$ is a nonzero vector $\\bv$ such that  \n",
    "$$\n",
    "    (A - \\lambda I)^k\\bv = \\bzero\n",
    "$$\n",
    "for some $k$.  \n",
    "Equivalently, $p(A)\\bv = \\bzero$ for $p(x) = (x - \\lambda)^k$.  \n",
    "Therefore, $m_{A,\\bv}(x) \\mid (x - \\lambda)^k$ and $p(x)$ can be chosen as $m_{A,\\bv}(x) = (x - \\lambda)^d$ for some $d \\leq n$ instead.  \n",
    "Consequently, the set of all generalized eigenvectors of $A$ with respect to $\\lambda$ are exactly the nonzero vectors in  \n",
    "$$\n",
    "    F_\\lambda = \\ker(A - \\lambda I)^n,\n",
    "$$\n",
    "and we call $F_\\lambda$ as the **generalized eigenspace** of $A$ with respect to $\\lambda$.  "
   ]
  },
  {
   "cell_type": "markdown",
   "metadata": {},
   "source": [
    "A subspace $W$ is called an $A$-invariant subspace if  \n",
    "$$\n",
    "    \\{A\\bw: \\bw\\in W\\} \\subseteq W.\n",
    "$$\n",
    "If $W$ is an $A$-invariant subspace, then the restriction $f_A\\big|_W: W \\rightarrow W$ defined as $f_A(\\bw) = A\\bw$ is a well-defined function with $\\spec(f_A\\big|_W) \\subseteq \\spec(f_A)$.  \n",
    "Indeed, if $\\alpha$ is a basis of $W$ and $\\beta\\supseteq\\alpha$ is an extendsion of $\\alpha$ as a basis of $\\mathbb {R}^n$, then  \n",
    "$$\n",
    "    [f_A]_\\beta^\\beta = \n",
    "    \\begin{bmatrix}\n",
    "    A_W & B \\\\\n",
    "    O & C\n",
    "    \\end{bmatrix},\n",
    "$$\n",
    "where $A_W = [f_A\\big|_W]_\\alpha^\\alpha$.e of $A$, "
   ]
  },
  {
   "cell_type": "markdown",
   "metadata": {},
   "source": [
    "Therefore, $F_\\lambda$ is an $A$-invariant subspace.  \n",
    "A foundation of the theorem of Jordan canonical form is the following.  \n",
    "\n",
    "##### Theorem (Generalized eigenspace decomposition)\n",
    "\n",
    "Let $A$ be an $n\\times n$ matrix over $\\mathbb{C}$ with distinct eigenvalues $\\lambda_1,\\ldots,\\lambda_q$.  \n",
    "Then $\\{F_{\\lambda_1}, \\ldots, F_{\\lambda_q}\\}$ is linearly independent, and  \n",
    "$$\n",
    "    \\mathbb{R}^n = F_{\\lambda_1} \\oplus \\cdots \\oplus F_{\\lambda_q}.\n",
    "$$"
   ]
  },
  {
   "cell_type": "markdown",
   "metadata": {},
   "source": [
    "That is to say, if we pick a basis $\\beta_{\\lambda_i}$ of $F_{\\lambda_i}$ for $i = 1,\\ldots, q$ and  \n",
    "set $\\beta = \\beta_{\\lambda_1} \\cup \\cdots \\cup \\beta_{\\lambda_q}$, then  \n",
    "$$\n",
    "    [f_A]_\\beta^\\beta = \n",
    "    \\begin{bmatrix}\n",
    "    N_1 & O & \\cdots & O \\\\\n",
    "    O & N_2 & \\ddots & \\vdots \\\\\n",
    "    \\vdots & \\ddots & \\ddots & O \\\\\n",
    "    O & \\cdots & O & N_q\n",
    "    \\end{bmatrix}.\n",
    "$$\n",
    "Here we may set $f_{\\lambda_i}$ as the resetriction $f_A\\big|_{E_{\\lambda_i}}$ such that $N_i = [f_{\\lambda_i}]_{\\beta_i}^{\\beta_i}$."
   ]
  },
  {
   "cell_type": "markdown",
   "metadata": {},
   "source": [
    "Note that each $N_i$ only has a single eigenvalue $\\lambda_i$ whose algebraic multiplicity is the size of $N_1$.  \n",
    "In other words,  $N_i - \\lambda_i I$ is a matrix with a single eigenvalue $0$.  "
   ]
  },
  {
   "cell_type": "markdown",
   "metadata": {},
   "source": [
    "An $n\\times n$ matrix $A$ such that $A^k = O$ for some $k$ is called a **nilpotent matrix**, whose eigenvalues are $0$ with multiplicity $n$.  \n",
    "Therefore, $N_i - \\lambda_i I$ is a nilpotent matrix, and we are going to focus on these matrices."
   ]
  },
  {
   "cell_type": "markdown",
   "metadata": {},
   "source": [
    "##### Theorem (Nilpotent matrix decomposition)\n",
    "\n",
    "Let $N$ be an $n\\times n$ nilpotent matrix.  \n",
    "Then there is a basis $\\beta$ of $\\mathbb{C}^n$ such that $[f_N]_\\beta^\\beta$ is a block diagonal matrix whose diagonal blocks are nilpotent Jordan blocks."
   ]
  },
  {
   "cell_type": "markdown",
   "metadata": {},
   "source": [
    "Let $N - \\lambda I$ be an $n\\times n$ nilpotent matrix.  \n",
    "The steps for finding such a basis are as follows:  \n",
    "\n",
    "1. Calculate $n_k = \\nul(N - \\lambda I)^k$ for $k = 1, \\ldots, n$.  \n",
    "2. Pick $d$ as the smallest $k$ such that $n_k = n$.  \n",
    "3. Pick a basis $\\alpha_{d - 1}$ for $\\ker(N - \\lambda I)^{d-1}$ and extend it to a basis $\\alpha_{d - 1} \\cup \\beta_d$ of $\\ker(N - \\lambda I)^{d}$.\n",
    "4. Pick a basis $\\alpha_{d - 2}$ for $\\ker(N - \\lambda I) ^{d-2}$ and extend $\\alpha_{d - 2} \\cup f_A(\\beta_d)$ to a basis $\\alpha_{d - 2} \\cup f_A(\\beta_d) \\cup \\beta_{d-1}$.\n",
    "5. Continuous this process to find bases $\\beta_{d},\\ldots, \\beta_1$.  And let $\\beta = \\beta_1\\cup\\cdots\\cup\\beta_d$.  \n",
    "6. Then $\\mathbb{C}^n$ such that $[f_N]_\\beta^\\beta$ is a block diagonal matrix whose diagonal blocks are Jordan blocks with eigenvalue $\\lambda$."
   ]
  },
  {
   "cell_type": "markdown",
   "metadata": {},
   "source": [
    "## Side stories\n",
    "\n",
    "- read the minimal polynomial from the Jordan canonical form"
   ]
  },
  {
   "cell_type": "markdown",
   "metadata": {},
   "source": [
    "## Experiments"
   ]
  },
  {
   "cell_type": "markdown",
   "metadata": {},
   "source": [
    "##### Exercise 1\n",
    "\n",
    "執行以下程式碼。  "
   ]
  },
  {
   "cell_type": "code",
   "execution_count": null,
   "metadata": {
    "scrolled": false
   },
   "outputs": [],
   "source": [
    "### code\n",
    "set_random_seed(0)\n",
    "print_ans = False\n",
    "\n",
    "b = 4\n",
    "h = 3\n",
    "ms = [choice(list(range(1, h + 1))) for i in range(b)]\n",
    "max_ms = max(ms)\n",
    "D = block_diagonal_matrix([jordan_block(0,ms[i]) for i in range(b)])\n",
    "n = sum(ms)\n",
    "Q = random_good_matrix(n,n,n,2)\n",
    "A = Q * D * Q.inverse()\n",
    "\n",
    "print(\"n =\", n)\n",
    "pretty_print(LatexExpr(\"A =\"), A)\n",
    "for i in range(1, h + 1):\n",
    "    pretty_print(LatexExpr(r\"\\operatorname{nul}(A - 0I)^{%s} =\"%i), (A^i).nullity())\n",
    "\n",
    "\n",
    "if print_ans:\n",
    "    print(\"Jordan canonical form:\")\n",
    "    pretty_print(D)\n",
    "    print(\"minimal polynomial =\", x^max_ms)"
   ]
  },
  {
   "cell_type": "markdown",
   "metadata": {},
   "source": [
    "##### Exercise 1(a)\n",
    "\n",
    "求出 $A$ 的喬丹標準型。"
   ]
  },
  {
   "cell_type": "markdown",
   "metadata": {},
   "source": [
    "##### Exercise 1(b)\n",
    "\n",
    "計算 $m_A(x)$。"
   ]
  },
  {
   "cell_type": "markdown",
   "metadata": {},
   "source": [
    "## Exercises"
   ]
  },
  {
   "cell_type": "markdown",
   "metadata": {},
   "source": [
    "##### Exercise 2\n",
    "\n",
    "以下討論對角矩陣的最小多項式。"
   ]
  },
  {
   "cell_type": "markdown",
   "metadata": {},
   "source": [
    "##### Exercise 2(a)\n",
    "\n",
    "令  \n",
    "$$\n",
    "    A = \\begin{bmatrix}\n",
    "    1 & 0 & 0 \\\\\n",
    "    0 & 2 & 0 \\\\\n",
    "    0 & 0 & 3\n",
    "    \\end{bmatrix}.\n",
    "$$\n",
    "求 $m_A(x)$。"
   ]
  },
  {
   "cell_type": "markdown",
   "metadata": {},
   "source": [
    "##### Exercise 2(b)\n",
    "\n",
    "令  \n",
    "$$\n",
    "    A = \\begin{bmatrix}\n",
    "    2 & 0 & 0 \\\\\n",
    "    0 & 2 & 0 \\\\\n",
    "    0 & 0 & 3\n",
    "    \\end{bmatrix}.\n",
    "$$\n",
    "求 $m_A(x)$。"
   ]
  },
  {
   "cell_type": "markdown",
   "metadata": {},
   "source": [
    "##### Exercise 2(c)\n",
    "\n",
    "若 $r_1,\\ldots,r_n$ 為 $n$ 個實數，  \n",
    "而扣掉重覆元素後，其相異實數為 $\\lambda_1,\\ldots,\\lambda_q$。  \n",
    "令 $A$ 為一對角矩陣，其對角線上元素為 $r_1,\\ldots,r_n$。 \n",
    "求 $m_A(x)$。"
   ]
  },
  {
   "cell_type": "markdown",
   "metadata": {},
   "source": [
    "##### Exercise 3\n",
    "\n",
    "以下討論喬丹標準型的最小多項式。"
   ]
  },
  {
   "cell_type": "markdown",
   "metadata": {},
   "source": [
    "##### Exercise 3(a)\n",
    "\n",
    "令  \n",
    "$$\n",
    "    A = \\begin{bmatrix}\n",
    "    2 & 1 & 0 \\\\\n",
    "    0 & 2 & 1 \\\\\n",
    "    0 & 0 & 2\n",
    "    \\end{bmatrix}.\n",
    "$$\n",
    "求 $m_A(x)$。"
   ]
  },
  {
   "cell_type": "markdown",
   "metadata": {},
   "source": [
    "##### Exercise 3(b)\n",
    "\n",
    "令  \n",
    "$$\n",
    "    A = \\begin{bmatrix}\n",
    "    2 & 1 & 0 & 0 & 0 & 0 & 0 \\\\\n",
    "    0 & 2 & 1 & 0 & 0 & 0 & 0 \\\\\n",
    "    0 & 0 & 2 & 0 & 0 & 0 & 0 \\\\\n",
    "    0 & 0 & 0 & 2 & 1 & 0 & 0 \\\\\n",
    "    0 & 0 & 0 & 0 & 2 & 0 & 0 \\\\\n",
    "    0 & 0 & 0 & 0 & 0 & 3 & 1 \\\\\n",
    "    0 & 0 & 0 & 0 & 0 & 0 & 3\n",
    "    \\end{bmatrix}.\n",
    "$$\n",
    "求 $m_A(x)$。"
   ]
  },
  {
   "cell_type": "markdown",
   "metadata": {},
   "source": [
    "##### Exercise 3(c)\n",
    "\n",
    "定義 $J_{\\lambda,m}$ 為一 $m\\times m$ 矩陣，  \n",
    "其對角線上的元素皆為 $\\lambda$，  \n",
    "而在每個 $\\lambda$ 的上面一項放一個 $1$（除了第一行），  \n",
    "其餘元素為 $0$。  \n",
    "\n",
    "求 $J_{\\lambda,m}$ 的最小多項式。"
   ]
  },
  {
   "cell_type": "markdown",
   "metadata": {},
   "source": [
    "##### Exercise 3(d)\n",
    "\n",
    "令矩陣 $A$ 是一個區塊對角矩陣，  \n",
    "其對角區塊皆由一些 $J_{\\lambda,m}$ 組成。  \n",
    "\n",
    "說明 $A$ 的最小多項式為 $\\prod_\\lambda (x - \\lambda)^h$，  \n",
    "其中 $\\lambda$ 跑過對角線上所有的相異 $\\lambda$，  \n",
    "而對每個 $\\lambda$ 而言，$h$ 是所有 $J_{\\lambda,m}$ 中最大的區塊的大小。"
   ]
  },
  {
   "cell_type": "markdown",
   "metadata": {},
   "source": [
    "##### Exercise 4\n",
    "\n",
    "令  \n",
    "$$\n",
    "    A = \\begin{bmatrix}\n",
    "    4 & 6 & 2 \\\\\n",
    "    -4 & -10 & -4 \\\\\n",
    "    11 & 33 & 13\n",
    "    \\end{bmatrix}.\n",
    "$$"
   ]
  },
  {
   "cell_type": "markdown",
   "metadata": {},
   "source": [
    "##### Exercise 4(a)\n",
    "\n",
    "計算 $A^0, A^1, A^2$，  \n",
    "並求出  \n",
    "$$\n",
    "    \\Psi = \\begin{bmatrix}\n",
    "     | & | & | \\\\\n",
    "     [I]_\\beta & [A]_\\beta & [A^{2}]_\\beta \\\\\n",
    "     | & | & | \\\\\n",
    "    \\end{bmatrix}.\n",
    "$$"
   ]
  },
  {
   "cell_type": "markdown",
   "metadata": {},
   "source": [
    "##### Exercise 4(b)\n",
    "\n",
    "求 $m_A(x)$。"
   ]
  },
  {
   "cell_type": "markdown",
   "metadata": {},
   "source": [
    "##### Exercise 4(c)\n",
    "\n",
    "令 $\\bv = (2, -8, 22)$。  \n",
    "計算 $A^0\\bv, A^1\\bv, A^2\\bv$，  \n",
    "並求出  \n",
    "$$\n",
    "    \\Psi = \\begin{bmatrix}\n",
    "     | & | & | \\\\\n",
    "     I\\bv & A\\bv & A^{2}\\bv \\\\\n",
    "     | & | & | \\\\\n",
    "    \\end{bmatrix}\n",
    "$$"
   ]
  },
  {
   "cell_type": "markdown",
   "metadata": {},
   "source": [
    "##### Exercise 4(d)\n",
    "\n",
    "求 $m_{A,\\bv}(x)$。"
   ]
  },
  {
   "cell_type": "markdown",
   "metadata": {},
   "source": [
    "##### Exercise 5\n",
    "\n",
    "令 $A$ 為一 $n\\times n$ 矩陣。  \n",
    "說明若 $A^d \\in \\vspan\\{I, A, \\ldots, A^{d-1}\\}$  \n",
    "則對任何 $k\\geq d$ 都有 $A^k \\in \\vspan\\{I, A, \\ldots, A^{d-1}\\}$。  \n",
    "\n",
    "因此若 $A$ 的最小多項式為 $d$ 次時，  \n",
    "$\\{I, A, \\ldots, A^{d-1}\\}$ 為 $\\vspan\\{I, A, A^2, \\ldots \\}$ 的一組基底。"
   ]
  },
  {
   "cell_type": "markdown",
   "metadata": {},
   "source": [
    "##### Exercise 6\n",
    "\n",
    "令 $A$ 為一 $n\\times n$ 矩陣。  \n",
    "以下探討 $m_A(x)$ 的一些基本性質。"
   ]
  },
  {
   "cell_type": "markdown",
   "metadata": {},
   "source": [
    "##### Exercise 6(a)\n",
    "\n",
    "若 $p(x)$ 為一多項式且 $p(A) = O$，  \n",
    "說明對於任何多項式 $a(x)$ 和 $b(x)$，  \n",
    "把多項式 $a(x)p(x) + b(x)m_A(x)$ 代入 $A$ 也會是 $O$。  \n",
    "\n",
    "因此把 $g(x) = \\gcd(p(x), m_A(x))$ 代入 $A$ 也是 $O$。  \n",
    "由於 $m_A(x)$ 已經是次方數最小的，$g(x) = m_A(x)$，且 $m_A(x) \\mid p(x)$。  \n",
    "\n",
    "提示：參考 312。"
   ]
  },
  {
   "cell_type": "markdown",
   "metadata": {},
   "source": [
    "##### Exercise 6(b)\n",
    "\n",
    "說明每個矩陣的最小多項式是唯一的。"
   ]
  },
  {
   "cell_type": "markdown",
   "metadata": {},
   "source": [
    "##### Exercise 6(c)\n",
    "\n",
    "說明 $m_A(x) \\mid p_A(x)$。"
   ]
  },
  {
   "cell_type": "markdown",
   "metadata": {},
   "source": [
    "##### Exercise 7\n",
    "\n",
    "令 $A$ 為一 $n\\times n$ 矩陣、  \n",
    "而 $\\bv$ 為一 $\\mathbb{R}^n$ 中的向量。  \n",
    "以下探討 $m_{A,\\bv}(x)$ 的一些基本性質。"
   ]
  },
  {
   "cell_type": "markdown",
   "metadata": {},
   "source": [
    "##### Exercise 7(a)\n",
    "\n",
    "若 $p(x)$ 為一多項式且 $p(A)\\bv = \\bzero$，  \n",
    "說明對於任何多項式 $a(x)$ 和 $b(x)$，  \n",
    "把多項式 $a(x)p(x) + b(x)m_{A,\\bv}(x)$ 代入 $A$ 後再乘上 $\\bv$ 也會是 $\\bzero$。  \n",
    "\n",
    "因此把 $g(x) = \\gcd(p(x), m_{A,\\bv}(x))$ 代入 $A$ 後再乘上 $\\bv$ 也是 $\\bzero$。  \n",
    "由於 $m_{A,\\bv}(x)$ 已經是次方數最小的，$g(x) = m_{A,\\bv}(x)$，且 $m_{A,\\bv}(x) \\mid p(x)$。"
   ]
  },
  {
   "cell_type": "markdown",
   "metadata": {},
   "source": [
    "##### Exercise 7(b)\n",
    "\n",
    "說明每個矩陣在任一向量上的最小多項式是唯一的。"
   ]
  },
  {
   "cell_type": "markdown",
   "metadata": {},
   "source": [
    "##### Exercise 7(c)\n",
    "\n",
    "說明 $m_{A,\\bv}(x) \\mid m_A(x)$。"
   ]
  },
  {
   "cell_type": "markdown",
   "metadata": {},
   "source": [
    "##### Exercise 7(d)\n",
    "\n",
    "說明任何 $p_A(x)$ 的根也是 $m_A(x)$ 的根。"
   ]
  },
  {
   "cell_type": "markdown",
   "metadata": {},
   "source": [
    "##### Exercise 8\n",
    "\n",
    "依照以下步驟證明以下敘述等價：  \n",
    "\n",
    "1. $A$ 可以在複數中對角化。\n",
    "2. $A$ 的最小多項式沒有重根。  \n",
    "\n",
    "（由本節第 2 題已看出條件 1 會推得條件 2，所以以下著重在另一個方向的推導。）"
   ]
  },
  {
   "cell_type": "markdown",
   "metadata": {},
   "source": [
    "##### Exercise 8(a)\n",
    "\n",
    "令 $B_1,\\ldots, B_q$ 為 $n\\times n$ 矩陣。  \n",
    "證明若 $B_1\\cdots B_q = O$，則 $\\nul(B_1) + \\cdots + \\nul(B_q) \\geq n$。"
   ]
  },
  {
   "cell_type": "markdown",
   "metadata": {},
   "source": [
    "##### Exercise 8(b)\n",
    "\n",
    "令 $\\lambda_1,\\ldots,\\lambda_q$ 為 $A$ 的相異特徵值。  \n",
    "若 $A$ 的最小多項式沒有重根，\n",
    "說明 $\\gm(\\lambda_1) + \\cdots + \\gm(\\lambda_q) \\geq n$。"
   ]
  },
  {
   "cell_type": "markdown",
   "metadata": {},
   "source": [
    "##### Exercise 8(c)\n",
    "\n",
    "證明若 $A$ 的最小多項式沒有重根，則 $A$ 可對角化。"
   ]
  },
  {
   "cell_type": "markdown",
   "metadata": {},
   "source": [
    "##### Exercise 9\n",
    "\n",
    "以下探討最小多項式的應用。"
   ]
  },
  {
   "cell_type": "markdown",
   "metadata": {},
   "source": [
    "##### Exercise 9(a)\n",
    "\n",
    "若一個 $n\\times n$ 矩陣 $A$ 滿足 $A^2 = A$，則稱之為**冪等矩陣（idempotent matrix）** 。  \n",
    "說明任何冪等矩陣一定可以對角化，並找出所有的相異特徵值。"
   ]
  },
  {
   "cell_type": "markdown",
   "metadata": {},
   "source": [
    "##### Exercise 9(a)\n",
    "\n",
    "若一個 $n\\times n$ 矩陣 $A$ 找得到一個整數 $k \\geq 0$ 使得 $A^k = O$，則稱之為**冪零矩陣（nilpotent matrix）** 。  \n",
    "找出一個冪等矩陣所有的相異特徵值。"
   ]
  }
 ],
 "metadata": {
  "kernelspec": {
   "display_name": "SageMath 9.4",
   "language": "sage",
   "name": "sagemath"
  },
  "language_info": {
   "codemirror_mode": {
    "name": "ipython",
    "version": 3
   },
   "file_extension": ".py",
   "mimetype": "text/x-python",
   "name": "python",
   "nbconvert_exporter": "python",
   "pygments_lexer": "ipython3",
   "version": "3.10.1"
  }
 },
 "nbformat": 4,
 "nbformat_minor": 4
}
