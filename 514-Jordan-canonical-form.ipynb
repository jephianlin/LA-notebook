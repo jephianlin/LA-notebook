{
 "cells": [
  {
   "cell_type": "markdown",
   "metadata": {},
   "source": [
    "# 喬丹標準型"
   ]
  },
  {
   "cell_type": "markdown",
   "metadata": {},
   "source": [
    "![Creative Commons License](https://i.creativecommons.org/l/by/4.0/88x31.png)  \n",
    "This work by Jephian Lin is licensed under a [Creative Commons Attribution 4.0 International License](http://creativecommons.org/licenses/by/4.0/)."
   ]
  },
  {
   "cell_type": "markdown",
   "metadata": {},
   "source": [
    "$\\newcommand{\\trans}{^\\top}\n",
    "\\newcommand{\\adj}{^{\\rm adj}}\n",
    "\\newcommand{\\cof}{^{\\rm cof}}\n",
    "\\newcommand{\\inp}[2]{\\left\\langle#1,#2\\right\\rangle}\n",
    "\\newcommand{\\dunion}{\\mathbin{\\dot\\cup}}\n",
    "\\newcommand{\\bzero}{\\mathbf{0}}\n",
    "\\newcommand{\\bone}{\\mathbf{1}}\n",
    "\\newcommand{\\ba}{\\mathbf{a}}\n",
    "\\newcommand{\\bb}{\\mathbf{b}}\n",
    "\\newcommand{\\bc}{\\mathbf{c}}\n",
    "\\newcommand{\\bd}{\\mathbf{d}}\n",
    "\\newcommand{\\be}{\\mathbf{e}}\n",
    "\\newcommand{\\bh}{\\mathbf{h}}\n",
    "\\newcommand{\\bp}{\\mathbf{p}}\n",
    "\\newcommand{\\bq}{\\mathbf{q}}\n",
    "\\newcommand{\\br}{\\mathbf{r}}\n",
    "\\newcommand{\\bx}{\\mathbf{x}}\n",
    "\\newcommand{\\by}{\\mathbf{y}}\n",
    "\\newcommand{\\bz}{\\mathbf{z}}\n",
    "\\newcommand{\\bu}{\\mathbf{u}}\n",
    "\\newcommand{\\bv}{\\mathbf{v}}\n",
    "\\newcommand{\\bw}{\\mathbf{w}}\n",
    "\\newcommand{\\tr}{\\operatorname{tr}}\n",
    "\\newcommand{\\nul}{\\operatorname{null}}\n",
    "\\newcommand{\\rank}{\\operatorname{rank}}\n",
    "%\\newcommand{\\ker}{\\operatorname{ker}}\n",
    "\\newcommand{\\range}{\\operatorname{range}}\n",
    "\\newcommand{\\Col}{\\operatorname{Col}}\n",
    "\\newcommand{\\Row}{\\operatorname{Row}}\n",
    "\\newcommand{\\spec}{\\operatorname{spec}}\n",
    "\\newcommand{\\vspan}{\\operatorname{span}}\n",
    "\\newcommand{\\Vol}{\\operatorname{Vol}}\n",
    "\\newcommand{\\sgn}{\\operatorname{sgn}}\n",
    "\\newcommand{\\idmap}{\\operatorname{id}}\n",
    "\\newcommand{\\am}{\\operatorname{am}}\n",
    "\\newcommand{\\gm}{\\operatorname{gm}}$"
   ]
  },
  {
   "cell_type": "code",
   "execution_count": null,
   "metadata": {},
   "outputs": [],
   "source": [
    "from lingeo import random_good_matrix"
   ]
  },
  {
   "cell_type": "markdown",
   "metadata": {},
   "source": [
    "## Main idea"
   ]
  },
  {
   "cell_type": "markdown",
   "metadata": {},
   "source": [
    "A **Jordan block** $J_{\\lambda,m}$ is an $m\\times m$ matrix  \n",
    "$$\n",
    "    J_{\\lambda,m} = \n",
    "    \\begin{bmatrix}\n",
    "    \\lambda & 1 & 0 & \\cdots & 0 \\\\\n",
    "    0 & \\lambda & 1 & \\ddots & \\vdots \\\\\n",
    "    0 & 0 & \\lambda & \\ddots & 0 \\\\\n",
    "    \\vdots & ~ & \\ddots & \\ddots & 1 \\\\\n",
    "    0 & \\cdots & 0 & 0 & \\lambda\n",
    "    \\end{bmatrix}.\n",
    "$$\n",
    "A Jordan block $J_{\\lambda,m}$ has only one eigenvalue $\\lambda$ with $\\am(\\lambda) = m$ and $\\gm(\\lambda) = 1$.  \n",
    "Therefore, it is not diagonalizable whenever $m\\geq 2$.  "
   ]
  },
  {
   "cell_type": "markdown",
   "metadata": {},
   "source": [
    "##### Theorem (Jordan canonical form)\n",
    "\n",
    "For any square matrix $A$ over $\\mathbb{C}$ there is a basis $\\beta$ such that $[f_A]_\\beta^\\beta$ is a block diagonal matrix whose diagonal blocks are Jordan blocks.  "
   ]
  },
  {
   "cell_type": "markdown",
   "metadata": {},
   "source": [
    "A **generalized eigenvector** of $A$ with respect to $\\lambda$ is a nonzero vector $\\bv$ such that  \n",
    "$$\n",
    "    (A - \\lambda I)^k\\bv = \\bzero\n",
    "$$\n",
    "for some $k$.  \n",
    "Equivalently, $p(A)\\bv = \\bzero$ for $p(x) = (x - \\lambda)^k$.  \n",
    "Therefore, $m_{A,\\bv}(x) \\mid (x - \\lambda)^k$ and $p(x)$ can be chosen as $m_{A,\\bv}(x) = (x - \\lambda)^d$ for some $d \\leq n$ instead.  \n",
    "Consequently, the set of all generalized eigenvectors of $A$ with respect to $\\lambda$ are exactly the nonzero vectors in  \n",
    "$$\n",
    "    F_\\lambda = \\ker(A - \\lambda I)^n,\n",
    "$$\n",
    "and we call $F_\\lambda$ as the **generalized eigenspace** of $A$ with respect to $\\lambda$.  "
   ]
  },
  {
   "cell_type": "markdown",
   "metadata": {},
   "source": [
    "A subspace $W$ is called an $A$-invariant subspace if  \n",
    "$$\n",
    "    \\{A\\bw: \\bw\\in W\\} \\subseteq W.\n",
    "$$\n",
    "If $W$ is an $A$-invariant subspace, then the restriction $f_A\\big|_W: W \\rightarrow W$ defined as $f_A(\\bw) = A\\bw$ is a well-defined function with $\\spec(f_A\\big|_W) \\subseteq \\spec(f_A)$.  \n",
    "Indeed, if $\\alpha$ is a basis of $W$ and $\\beta\\supseteq\\alpha$ is an extendsion of $\\alpha$ as a basis of $\\mathbb {R}^n$, then  \n",
    "$$\n",
    "    [f_A]_\\beta^\\beta = \n",
    "    \\begin{bmatrix}\n",
    "    A_W & B \\\\\n",
    "    O & C\n",
    "    \\end{bmatrix},\n",
    "$$\n",
    "where $A_W = [f_A\\big|_W]_\\alpha^\\alpha$."
   ]
  },
  {
   "cell_type": "markdown",
   "metadata": {},
   "source": [
    "Therefore, $F_\\lambda$ is an $A$-invariant subspace.  \n",
    "A foundation of the theorem of Jordan canonical form is the following.  \n",
    "\n",
    "##### Theorem (Generalized eigenspace decomposition)\n",
    "\n",
    "Let $A$ be an $n\\times n$ matrix over $\\mathbb{C}$ with distinct eigenvalues $\\lambda_1,\\ldots,\\lambda_q$.  \n",
    "Then $\\{F_{\\lambda_1}, \\ldots, F_{\\lambda_q}\\}$ is linearly independent, and  \n",
    "$$\n",
    "    \\mathbb{R}^n = F_{\\lambda_1} \\oplus \\cdots \\oplus F_{\\lambda_q}.\n",
    "$$"
   ]
  },
  {
   "cell_type": "markdown",
   "metadata": {},
   "source": [
    "That is to say, if we pick a basis $\\beta_{\\lambda_i}$ of $F_{\\lambda_i}$ for $i = 1,\\ldots, q$ and  \n",
    "set $\\beta = \\beta_{\\lambda_1} \\cup \\cdots \\cup \\beta_{\\lambda_q}$, then  \n",
    "$$\n",
    "    [f_A]_\\beta^\\beta = \n",
    "    \\begin{bmatrix}\n",
    "    N_1 & O & \\cdots & O \\\\\n",
    "    O & N_2 & \\ddots & \\vdots \\\\\n",
    "    \\vdots & \\ddots & \\ddots & O \\\\\n",
    "    O & \\cdots & O & N_q\n",
    "    \\end{bmatrix}.\n",
    "$$\n",
    "Here we may set $f_{\\lambda_i}$ as the resetriction $f_A\\big|_{E_{\\lambda_i}}$ such that $N_i = [f_{\\lambda_i}]_{\\beta_i}^{\\beta_i}$."
   ]
  },
  {
   "cell_type": "markdown",
   "metadata": {},
   "source": [
    "Note that each $N_i$ only has a single eigenvalue $\\lambda_i$ whose algebraic multiplicity is the size of $N_1$.  \n",
    "In other words,  $N_i - \\lambda_i I$ is a matrix with a single eigenvalue $0$.  "
   ]
  },
  {
   "cell_type": "markdown",
   "metadata": {},
   "source": [
    "An $n\\times n$ matrix $A$ such that $A^k = O$ for some $k$ is called a **nilpotent matrix**, whose eigenvalues are $0$ with multiplicity $n$.  \n",
    "The minimum integer $d\\geq 0$ such that $A^d = O$ is called the **index** of $A$.  \n",
    "Therefore, $N_i - \\lambda_i I$ is a nilpotent matrix, and we are going to focus on these matrices."
   ]
  },
  {
   "cell_type": "markdown",
   "metadata": {},
   "source": [
    "##### Theorem (Nilpotent matrix decomposition)\n",
    "\n",
    "Let $N$ be an $n\\times n$ nilpotent matrix.  \n",
    "Then there is a basis $\\beta$ of $\\mathbb{C}^n$ such that $[f_N]_\\beta^\\beta$ is a block diagonal matrix whose diagonal blocks are nilpotent Jordan blocks."
   ]
  },
  {
   "cell_type": "markdown",
   "metadata": {},
   "source": [
    "Let $N - \\lambda I$ be an $n\\times n$ nilpotent matrix of index $d$.  \n",
    "The steps for finding such a basis are as follows:  \n",
    "\n",
    "1. Find a basis $\\beta_{d-1}$ for $\\Col(A^{d-1})\\cap \\ker(A)$.  \n",
    "2. Expand $\\beta_{d-1}$ to $\\beta_{d-1}\\cup\\beta_{d-2}$ as a basis of $\\Col(A^{d-2})\\cap\\ker(A)$.  \n",
    "Keep doing this until we find a basis $\\beta_{d-1}\\cup\\cdots\\cup\\beta_0$ of $\\Col(A^0)\\cap\\ker(A) = \\ker(A)$.  \n",
    "3. Start with $\\beta = \\emptyset$.  \n",
    "For $k = d-1, \\ldots, 0$ and each vector $\\bv\\in\\beta_k$, solve $A^{k}\\bx = \\bv$ for $\\bx$.  \n",
    "Then add $\\bv = A^{d-1}\\bx, A^{d-2}\\bx, \\ldots, \\bx$ to $\\beta$.  "
   ]
  },
  {
   "cell_type": "markdown",
   "metadata": {},
   "source": [
    "## Side stories\n",
    "\n",
    "- read the minimal polynomial from the Jordan canonical form"
   ]
  },
  {
   "cell_type": "markdown",
   "metadata": {},
   "source": [
    "## Experiments"
   ]
  },
  {
   "cell_type": "markdown",
   "metadata": {},
   "source": [
    "##### Exercise 1\n",
    "\n",
    "執行以下程式碼。  "
   ]
  },
  {
   "cell_type": "code",
   "execution_count": null,
   "metadata": {
    "scrolled": false
   },
   "outputs": [],
   "source": [
    "### code\n",
    "set_random_seed(0)\n",
    "print_ans = False\n",
    "\n",
    "b = 4\n",
    "h = 3\n",
    "ms = [choice(list(range(1, h + 1))) for i in range(b)]\n",
    "max_ms = max(ms)\n",
    "D = block_diagonal_matrix([jordan_block(0,ms[i]) for i in range(b)])\n",
    "n = sum(ms)\n",
    "Q = random_good_matrix(n,n,n,2)\n",
    "A = Q * D * Q.inverse()\n",
    "\n",
    "print(\"n =\", n)\n",
    "pretty_print(LatexExpr(\"A =\"), A)\n",
    "for i in range(1, h + 1):\n",
    "    pretty_print(LatexExpr(r\"\\operatorname{nul}(A - 0I)^{%s} =\"%i), (A^i).nullity())\n",
    "\n",
    "\n",
    "if print_ans:\n",
    "    print(\"Jordan canonical form:\")\n",
    "    pretty_print(D)\n",
    "    print(\"minimal polynomial =\", x^max_ms)"
   ]
  },
  {
   "cell_type": "markdown",
   "metadata": {},
   "source": [
    "##### Exercise 1(a)\n",
    "\n",
    "求出 $A$ 的喬丹標準型。"
   ]
  },
  {
   "cell_type": "markdown",
   "metadata": {},
   "source": [
    "##### Exercise 1(b)\n",
    "\n",
    "計算 $m_A(x)$。"
   ]
  },
  {
   "cell_type": "markdown",
   "metadata": {},
   "source": [
    "## Exercises"
   ]
  },
  {
   "cell_type": "markdown",
   "metadata": {},
   "source": [
    "##### Exercise 2\n",
    "\n",
    "令  \n",
    "$$\n",
    "    A = \\begin{bmatrix}\n",
    "    3 & -17 & 23 & 1 & 5 \\\\\n",
    "    1 & 18 & -21 & 0 & -5 \\\\\n",
    "    5 & -3 & 5 & 3 & -1 \\\\\n",
    "    -10 & 69 & -90 & -6 & -17 \\\\\n",
    "    -19 & 56 & -69 & -13 & -7\n",
    "    \\end{bmatrix}.\n",
    "$$\n",
    "已知 $A$ 的相異特徵值為 $2, 3$。  \n",
    "求出廣義特徵空間 $F_2$ 的一組基底 $\\beta_2$、  \n",
    "及 $F_3$ 的一組基底 $\\beta_3$、  \n",
    "並令 $\\beta = \\beta_2\\cup\\beta_3$。  \n",
    "\n",
    "求 $[f_A]_\\beta^\\beta$。"
   ]
  },
  {
   "cell_type": "markdown",
   "metadata": {},
   "source": [
    "##### Exercise 3\n",
    "\n",
    "令  \n",
    "$$\n",
    "    A = \\begin{bmatrix}\n",
    "    -2 & -9 & -1 & 5 & -5 \\\\\n",
    "    4 & 20 & 1 & -9 & 10 \\\\\n",
    "    -3 & -9 & -2 & 7 & -6 \\\\\n",
    "    -10 & -47 & -4 & 24 & -25 \\\\\n",
    "    -16 & -78 & -5 & 37 & -40\n",
    "    \\end{bmatrix}.\n",
    "$$\n",
    "已知 $A$ 為一冪零矩陣。  \n",
    "求一基底 $\\beta$ 使得 $[f_A]_\\beta^\\beta$ 是喬丹標準型。"
   ]
  },
  {
   "cell_type": "markdown",
   "metadata": {},
   "source": [
    "##### Exercise 4\n",
    "\n",
    "凱力–漢米頓定理是證明喬丹標準型理論的關鍵之一。  \n",
    "然而假設已經知道每個複數矩陣都有喬丹標準型，  \n",
    "說明凱力–漢米頓定理在喬丹標準型的前提下是直觀的。"
   ]
  },
  {
   "cell_type": "markdown",
   "metadata": {},
   "source": [
    "##### Exercise 5\n",
    "\n",
    "令 $A$ 為一複數方陣。  \n",
    "說明 $e^A$ 會收斂。"
   ]
  },
  {
   "cell_type": "markdown",
   "metadata": {},
   "source": [
    "##### Exercise 6\n",
    "\n",
    "喬丹標準型的重要功用之一是判斷兩個矩陣是否相似。  \n",
    "在喬丹標準型的理論下不難發現以下敘述等價：  \n",
    "\n",
    "1. $A$ 和 $B$ 相似。  \n",
    "2. $A$ 和 $B$ 有相同的喬丹標準型。\n",
    "\n",
    "判斷以下矩陣是否相似。"
   ]
  },
  {
   "cell_type": "markdown",
   "metadata": {},
   "source": [
    "##### Exercise 6(a)\n",
    "\n",
    "$$\n",
    "    A = \\begin{bmatrix}\n",
    "    2 & 0 \\\\\n",
    "    -1 & 3\n",
    "    \\end{bmatrix}\n",
    "    \\text{ and }\n",
    "    B = \\begin{bmatrix}\n",
    "    1 & 1 \\\\\n",
    "    -2 & 4\n",
    "    \\end{bmatrix}.\n",
    "$$"
   ]
  },
  {
   "cell_type": "markdown",
   "metadata": {},
   "source": [
    "##### Exercise 6(b)\n",
    "\n",
    "$$\n",
    "    A = \\begin{bmatrix}\n",
    "    6 & -2 & -2 \\\\\n",
    "    0 & 3 & 0 \\\\\n",
    "    6 & -4 & -1\n",
    "    \\end{bmatrix}\n",
    "    \\text{ and }\n",
    "    B = \\begin{bmatrix}\n",
    "    4 & -2 & 0 \\\\\n",
    "    3 & 3 & 1 \\\\\n",
    "    -8 & 4 & 1\n",
    "    \\end{bmatrix}.\n",
    "$$"
   ]
  },
  {
   "cell_type": "markdown",
   "metadata": {},
   "source": [
    "##### Exercise 7\n",
    "\n",
    "令 $A$ 為一 $n\\times n$ 矩陣 ，$\\lambda$ 為其一特徵值。  \n",
    "令 $F_\\lambda$ 為其廣義特徵空間。  \n",
    "證明以下關於廣義特徵空間的性質。"
   ]
  },
  {
   "cell_type": "markdown",
   "metadata": {},
   "source": [
    "##### Exercise 7(a)\n",
    "\n",
    "證明 $F_\\lambda$ 是一個 $A$-不變子空間。  \n",
    "\n",
    "提示：$A(A - \\lambda I)^k = (A - \\lambda I)^k A$。"
   ]
  },
  {
   "cell_type": "markdown",
   "metadata": {},
   "source": [
    "##### Exercise 7(b)\n",
    "\n",
    "令 $d$ 為 $(x - \\lambda)$ 在 $m_A(x)$ 中的重數。  \n",
    "說明 $F_\\lambda = \\ker (A - \\lambda I)^d$。  "
   ]
  },
  {
   "cell_type": "markdown",
   "metadata": {},
   "source": [
    "##### Exercise 7(c)\n",
    "\n",
    "令 $\\alpha$ 為 $F_\\lambda$ 的一組基底，  \n",
    "將其擴展為 $\\mathbb{R}^n$ 的一組基底 $\\beta$。  \n",
    "說明 $[f_A]_\\beta^\\beta$ 有以下型式  \n",
    "$$\n",
    "    [f_A]_\\beta^\\beta = \n",
    "    \\begin{bmatrix}\n",
    "    N_\\lambda & B \\\\\n",
    "    O & D\n",
    "    \\end{bmatrix},\n",
    "$$\n",
    "其中 $N_\\lambda$ 的特徵值均為 $\\lambda$。  \n",
    "藉此說明 $\\dim(F_\\lambda) \\leq \\am(\\lambda)$。"
   ]
  },
  {
   "cell_type": "markdown",
   "metadata": {},
   "source": [
    "##### Exercise 7(d)\n",
    "\n",
    "令 $A$ 的相異特徵值為 $\\lambda_1, \\ldots, \\lambda_q$，  \n",
    "而 $F_{\\lambda_1}, \\ldots, F_{\\lambda_q}$ 為它們的廣義特徵空間。  \n",
    "證明 $\\{F_{\\lambda_1}, \\ldots, F_{\\lambda_q}\\}$ 線性獨立。  \n",
    "\n",
    "提示：令 $p_1(x)$ 為 $p_A(x)$ 中去掉所有 $(x - \\lambda_1)$ 因式的多項式。  \n",
    "假設 $\\bv_1 + \\cdots + \\bv_q = \\bzero$ 且對於 $i = 1, \\ldots, q$ 滿足 $\\bv_i \\in F_{\\lambda_i}$。  \n",
    "將等號兩邊同乘 $p_1(A)$ 並利用 $m_{A,\\bv}(x)$ 的性質來說明 $\\bv_1 = \\bzero$。"
   ]
  },
  {
   "cell_type": "markdown",
   "metadata": {},
   "source": [
    "##### Exercise 7(e)\n",
    "\n",
    "令  \n",
    "$$\n",
    "    p_A(x) = (\\lambda_1 - x)^{\\am(\\lambda_1)} \\cdots (\\lambda_q - x)^{\\am(\\lambda_q)}\n",
    "$$\n",
    "且對每個 $i = 1,\\ldots, q$ 計算 $B_i = (A - \\lambda_i I)^{\\am(\\lambda_i)}$。  \n",
    "\n",
    "證明 \n",
    "$$\n",
    "    \\nul(B_1) + \\cdots + \\nul(B_q) \\geq n\n",
    "$$\n",
    "且  \n",
    "$$\n",
    "    \\mathbb{R}^n = F_{\\lambda_1} \\oplus \\cdots \\oplus F_{\\lambda_q}.\n",
    "$$"
   ]
  },
  {
   "cell_type": "markdown",
   "metadata": {},
   "source": [
    "##### Exercise 8\n",
    "\n",
    "令 $A$ 為一冪零矩陣且其深度（index）為 $d$。  \n",
    "證明以下關於冪零矩陣的性質。  "
   ]
  },
  {
   "cell_type": "markdown",
   "metadata": {},
   "source": [
    "##### Exercise 8(a)\n",
    "\n",
    "已知 $\\{\\bv_1,\\bv_2,\\bv_3\\}$ 為 $\\ker(A)$ 中的線性獨立集。  \n",
    "若存在 $\\bx_1$ 及 $\\bx_2$ 使得 $A\\bx_1 = \\bv_1$ 且 $A\\bx_2 = \\bv_2$。  \n",
    "說明 $\\{\\bv_1,\\bv_2,\\bv_3,\\bx_1,\\bx_2\\}$ 線性獨立。"
   ]
  },
  {
   "cell_type": "markdown",
   "metadata": {},
   "source": [
    "##### Exercise 8(b)\n",
    "\n",
    "定義函數一系列函數\n",
    "$$\n",
    "    \\mathbb{R}^n \\xrightarrow{f_1} \\Col(A) \\xrightarrow{f_2} \\Col(A^2) \\xrightarrow{f_3}\\cdots \\xrightarrow{f_d} \\Col(A^d) = \\{\\bzero\\} \n",
    "$$\n",
    "其中對任意 $k = 1,\\ldots, d$ 都定義 $f_k(\\bx) = A\\bx$。  \n",
    "證明對任意 $k = 1,\\ldots, d$ 都有  \n",
    "$$\n",
    "    \\rank(A^{k - 1}) = \\rank(A^k) + \\dim(\\Col(A^{k-1})\\cap\\ker(A)),\n",
    "$$\n",
    "也就是  \n",
    "$$\n",
    "    \\dim(\\Col(A^{k-1})\\cap\\ker(A)) = \\rank(A^{k - 1}) - \\rank(A^k) = \\nul(A^k) - \\nul(A^{k - 1}).\n",
    "$$"
   ]
  },
  {
   "cell_type": "markdown",
   "metadata": {},
   "source": [
    "##### Exercise 8(c)\n",
    "\n",
    "證明\n",
    "$$\n",
    "    \\rank(A^{k - 1}) - \\rank(A^k) = \\nul(A^k) - \\nul(A^{k - 1})\n",
    "$$\n",
    "會隨著 $k$ 變大而遞減（或不變）。"
   ]
  }
 ],
 "metadata": {
  "kernelspec": {
   "display_name": "SageMath 9.4",
   "language": "sage",
   "name": "sagemath"
  },
  "language_info": {
   "codemirror_mode": {
    "name": "ipython",
    "version": 3
   },
   "file_extension": ".py",
   "mimetype": "text/x-python",
   "name": "python",
   "nbconvert_exporter": "python",
   "pygments_lexer": "ipython3",
   "version": "3.10.1"
  }
 },
 "nbformat": 4,
 "nbformat_minor": 4
}
