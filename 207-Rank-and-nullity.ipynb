{
 "cells": [
  {
   "cell_type": "markdown",
   "metadata": {},
   "source": [
    "# 秩與核數"
   ]
  },
  {
   "cell_type": "markdown",
   "metadata": {},
   "source": [
    "![Creative Commons License](https://i.creativecommons.org/l/by/4.0/88x31.png)  \n",
    "This work by Jephian Lin is licensed under a [Creative Commons Attribution 4.0 International License](http://creativecommons.org/licenses/by/4.0/)."
   ]
  },
  {
   "cell_type": "markdown",
   "metadata": {},
   "source": [
    "$\\newcommand{\\trans}{^\\top}\n",
    "\\newcommand{\\adj}{^{\\rm adj}}\n",
    "\\newcommand{\\cof}{^{\\rm cof}}\n",
    "\\newcommand{\\inp}[2]{\\left\\langle#1,#2\\right\\rangle}\n",
    "\\newcommand{\\dunion}{\\mathbin{\\dot\\cup}}\n",
    "\\newcommand{\\bzero}{\\mathbf{0}}\n",
    "\\newcommand{\\bone}{\\mathbf{1}}\n",
    "\\newcommand{\\ba}{\\mathbf{a}}\n",
    "\\newcommand{\\bb}{\\mathbf{b}}\n",
    "\\newcommand{\\bc}{\\mathbf{c}}\n",
    "\\newcommand{\\bd}{\\mathbf{d}}\n",
    "\\newcommand{\\be}{\\mathbf{e}}\n",
    "\\newcommand{\\bh}{\\mathbf{h}}\n",
    "\\newcommand{\\bp}{\\mathbf{p}}\n",
    "\\newcommand{\\bq}{\\mathbf{q}}\n",
    "\\newcommand{\\br}{\\mathbf{r}}\n",
    "\\newcommand{\\bx}{\\mathbf{x}}\n",
    "\\newcommand{\\by}{\\mathbf{y}}\n",
    "\\newcommand{\\bz}{\\mathbf{z}}\n",
    "\\newcommand{\\bu}{\\mathbf{u}}\n",
    "\\newcommand{\\bv}{\\mathbf{v}}\n",
    "\\newcommand{\\bw}{\\mathbf{w}}\n",
    "\\newcommand{\\tr}{\\operatorname{tr}}\n",
    "\\newcommand{\\nul}{\\operatorname{null}}\n",
    "\\newcommand{\\rank}{\\operatorname{rank}}\n",
    "%\\newcommand{\\ker}{\\operatorname{ker}}\n",
    "\\newcommand{\\range}{\\operatorname{range}}\n",
    "\\newcommand{\\Col}{\\operatorname{Col}}\n",
    "\\newcommand{\\Row}{\\operatorname{Row}}\n",
    "\\newcommand{\\spec}{\\operatorname{spec}}\n",
    "\\newcommand{\\vspan}{\\operatorname{span}}\n",
    "\\newcommand{\\Vol}{\\operatorname{Vol}}\n",
    "\\newcommand{\\sgn}{\\operatorname{sgn}}\n",
    "\\newcommand{\\idmap}{\\operatorname{id}}\n",
    "\\newcommand{\\am}{\\operatorname{am}}\n",
    "\\newcommand{\\gm}{\\operatorname{gm}}\n",
    "\\newcommand{\\mult}{\\operatorname{mult}}\n",
    "\\newcommand{\\iner}{\\operatorname{iner}}$"
   ]
  },
  {
   "cell_type": "code",
   "execution_count": null,
   "metadata": {},
   "outputs": [],
   "source": [
    "from lingeo import random_good_matrix"
   ]
  },
  {
   "cell_type": "markdown",
   "metadata": {},
   "source": [
    "## Main idea"
   ]
  },
  {
   "cell_type": "markdown",
   "metadata": {},
   "source": [
    "Recall that the number of of pivots of a matrix is the number of nonzero rows in its reduced echelon form.  "
   ]
  },
  {
   "cell_type": "markdown",
   "metadata": {},
   "source": [
    "Let $A$ be an $m\\times n$ matrix with $r$ pivots.  \n",
    "Since we know bases of its four fundamental subspaces, we have  \n",
    "1. $\\dim(\\operatorname{Row}(A)) = \\dim(\\operatorname{Col}(A)) = r$.  \n",
    "2. $\\dim(\\operatorname{ker}(A)) = n - r$.\n",
    "3. $\\dim(\\operatorname{ker}(A^\\top)) = m - r$.\n",
    "\n",
    "The value $r$ is the **rank** of $A$, denoted as $\\operatorname{rank}(A)$,  \n",
    "the value $n - r$ is the **nullity** of $A$, denoted as $\\operatorname{null}(A) = n - r$,  \n",
    "while $m - r$ is usually referred to as the **left nullity** of $A$.  "
   ]
  },
  {
   "cell_type": "markdown",
   "metadata": {},
   "source": [
    "Note that $r$ is also the number of leading variables, and $n - r$ is also the number of free variables.  "
   ]
  },
  {
   "cell_type": "markdown",
   "metadata": {},
   "source": [
    "##### Dimension theorem (matrix form)\n",
    "\n",
    "Let $A$ be an $m\\times n$ matrix.  \n",
    "Then $\\operatorname{rank}(A) + \\operatorname{nullity}(A) = n$, the number of columns."
   ]
  },
  {
   "cell_type": "markdown",
   "metadata": {},
   "source": [
    "## Side stories\n",
    "- low-rank matrix\n",
    "- row rank and column rank"
   ]
  },
  {
   "cell_type": "markdown",
   "metadata": {},
   "source": [
    "## Experiments"
   ]
  },
  {
   "cell_type": "markdown",
   "metadata": {},
   "source": [
    "##### Exercise 1\n",
    "\n",
    "執行下方程式碼。  \n",
    "試著看出 $A$ 的秩、核數、以及左核數。"
   ]
  },
  {
   "cell_type": "code",
   "execution_count": null,
   "metadata": {
    "scrolled": false
   },
   "outputs": [],
   "source": [
    "### code\n",
    "set_random_seed(0)\n",
    "print_ans = False\n",
    "r = choice([3,2,1,0])\n",
    "m,n,r = 3,4,r\n",
    "A = random_good_matrix(m,n,r)\n",
    "\n",
    "print(\"A =\")\n",
    "show(A)\n",
    "\n",
    "if print_ans:\n",
    "    print(\"rank =\", r)\n",
    "    print(\"nullity =\", n - r)\n",
    "    print(\"left nullity =\", m - r)"
   ]
  },
  {
   "cell_type": "markdown",
   "metadata": {},
   "source": [
    "## Exercises"
   ]
  },
  {
   "cell_type": "markdown",
   "metadata": {},
   "source": [
    "##### Exercise 2\n",
    "\n",
    "令 $A$ 為一矩陣且其秩為 $r$。  \n",
    "回顧 $r$ 同時是列空間和行空間的維度。  \n",
    "以下討論秩的一些基本性質。"
   ]
  },
  {
   "cell_type": "markdown",
   "metadata": {},
   "source": [
    "##### Exercise 2(a)\n",
    "\n",
    "說明 $\\operatorname{rank} \\begin{bmatrix} A & O \\end{bmatrix} = \n",
    "\\operatorname{rank} \\begin{bmatrix} A \\\\ O \\end{bmatrix} = r$。  \n",
    "更一般來說 $\\operatorname{rank} \\begin{bmatrix} A & O \\\\ O & O \\end{bmatrix} = r$。  "
   ]
  },
  {
   "cell_type": "markdown",
   "metadata": {},
   "source": [
    "##### Exercise 2(b)\n",
    "\n",
    "說明對大小適當的矩陣 $B,C,D$ 來說﹐  \n",
    "$\\operatorname{rank} \\begin{bmatrix} A & B \\end{bmatrix} \\geq r$ 且  \n",
    "$\\operatorname{rank} \\begin{bmatrix} A \\\\ C \\end{bmatrix} \\geq r$。  \n",
    "更一般來說 $\\operatorname{rank} \\begin{bmatrix} A & B \\\\ C & D \\end{bmatrix} \\geq r$。  "
   ]
  },
  {
   "cell_type": "markdown",
   "metadata": {},
   "source": [
    "##### Exercise 3\n",
    "\n",
    "證明所有秩為 $1$ 的 $m\\times n$ 矩陣 $A$ 都可寫成 $A = {\\bf u}{\\bf v}^\\top$﹐  \n",
    "其中 ${\\bf u}\\in\\mathbb{R}^m$ 而 ${\\bf v}\\in\\mathbb{R}^n$ 被視為是行向量。  "
   ]
  },
  {
   "cell_type": "markdown",
   "metadata": {},
   "source": [
    "##### Exercise 4\n",
    "\n",
    "如果沒有先前的理論證明﹐很難想像列空間和行空間的維度永遠是一樣的。  \n",
    "（而且它們還一個在 $\\mathbb{R}^m$ 中、另一個在 $\\mathbb{R}^n$ 裡！）  \n",
    "依照以下的方式再次看出這兩個空間的維度相同。  "
   ]
  },
  {
   "cell_type": "markdown",
   "metadata": {},
   "source": [
    "##### Exercise 4(a)\n",
    "\n",
    "令 $A$ 為一 $m\\times n$ 矩陣、  \n",
    "$Q$ 為一 $m\\times m$ 可逆矩陣、  \n",
    "$P$ 為一 $n\\times n$ 可逆矩陣。  \n",
    "回顧為什麼 $QA$ 和 $A$ 的列空間相同。  \n",
    "同理 $AP$ 和 $A$ 的行空間相同。  "
   ]
  },
  {
   "cell_type": "markdown",
   "metadata": {},
   "source": [
    "##### Exercise 4(b)\n",
    "\n",
    "令 $Q$ 為一可逆矩陣且  \n",
    "$S = \\{{\\bf u}_1,\\ldots,{\\bf u}_k\\}$ 是線性獨立的向量集合。  \n",
    "證明 $\\{ Q{\\bf u}_1,\\ldots,Q{\\bf u}_k \\}$ 也線性獨立。  \n",
    "\n",
    "令 $A$ 為一 $m\\times n$ 矩陣、  \n",
    "$Q$ 為一 $m\\times m$ 可逆矩陣、  \n",
    "$P$ 為一 $n\\times n$ 可逆矩陣。  \n",
    "藉此證明 $AP$ 和 $A$ 的列空間維度相同。  \n",
    "同理 $QA$ 和 $A$ 的行空間維度相同。  "
   ]
  },
  {
   "cell_type": "markdown",
   "metadata": {},
   "source": [
    "##### Exercise 4(c)\n",
    "\n",
    "說明任一個 $m\\times n$ 矩陣 $A$ 都可以利用列運算及行算運變成 \n",
    "$$R = \\begin{bmatrix}\n",
    "I_r & O_{r, n-r} \\\\ \n",
    "O_{m-r, r} & O_{m-r, n-r} \\\\\n",
    "\\end{bmatrix}.$$  \n",
    "藉由基本矩陣的幫忙﹐可以找到  \n",
    "$m\\times m$ 的可逆矩陣 $E$ 和  \n",
    "$n\\times n$ 的可逆矩陣 $F$  \n",
    "使得 $R = E A F$。  "
   ]
  },
  {
   "cell_type": "markdown",
   "metadata": {},
   "source": [
    "##### Exercise 4(d)\n",
    "\n",
    "可以看出 $R$ 的行空間和列空間維度相同。  \n",
    "證明 $A$ 的行空間和列空間維度也相同。  "
   ]
  },
  {
   "cell_type": "markdown",
   "metadata": {},
   "source": [
    "##### Exercise 5\n",
    "\n",
    "證明以下關於秩的不等式。  "
   ]
  },
  {
   "cell_type": "markdown",
   "metadata": {},
   "source": [
    "##### Exercise 5(a)\n",
    "\n",
    "證明 $\\operatorname{rank}(A + B) \\leq \\operatorname{rank}(A) + \\operatorname{rank}(B)$。  "
   ]
  },
  {
   "cell_type": "markdown",
   "metadata": {},
   "source": [
    "##### Exercise 5(b)\n",
    "\n",
    "證明 $\\operatorname{rank}(AB) \\leq \\min \\{\\operatorname{rank}(A), \\operatorname{rank}(B)\\}$。  "
   ]
  }
 ],
 "metadata": {
  "kernelspec": {
   "display_name": "SageMath 9.6",
   "language": "sage",
   "name": "sagemath"
  },
  "language_info": {
   "codemirror_mode": {
    "name": "ipython",
    "version": 3
   },
   "file_extension": ".py",
   "mimetype": "text/x-python",
   "name": "python",
   "nbconvert_exporter": "python",
   "pygments_lexer": "ipython3",
   "version": "3.10.5"
  }
 },
 "nbformat": 4,
 "nbformat_minor": 4
}
