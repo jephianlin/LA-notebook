{
 "cells": [
  {
   "cell_type": "markdown",
   "metadata": {},
   "source": [
    "# 列空間、零解空間、及其基底"
   ]
  },
  {
   "cell_type": "markdown",
   "metadata": {},
   "source": [
    "![Creative Commons License](https://i.creativecommons.org/l/by/4.0/88x31.png)  \n",
    "This work by Jephian Lin is licensed under a [Creative Commons Attribution 4.0 International License](http://creativecommons.org/licenses/by/4.0/)."
   ]
  },
  {
   "cell_type": "code",
   "execution_count": 1,
   "metadata": {},
   "outputs": [],
   "source": [
    "from lingeo import random_good_matrix, row_space_matrix, kernel_matrix"
   ]
  },
  {
   "cell_type": "markdown",
   "metadata": {},
   "source": [
    "## Main idea"
   ]
  },
  {
   "cell_type": "markdown",
   "metadata": {},
   "source": [
    "You are recommended to read the section _Four fundamental subspaces_ first, where you will find the definition of $\\beta_R$, $\\beta_K$, $\\beta_C$, $\\beta_L$.  "
   ]
  },
  {
   "cell_type": "markdown",
   "metadata": {},
   "source": [
    "Let $A$ be a matrix.  \n",
    "Let $\\beta_R$ and $\\beta_K$ be the standard bases of $\\operatorname{Row}(A)$ and $\\operatorname{ker}(A)$, respectively.  \n",
    "We have known that  \n",
    "1. $\\operatorname{Row}(A) = \\operatorname{span}(\\beta_R)$.  \n",
    "2. $\\operatorname{ker}(A) = \\operatorname{span}(\\beta_K)$.  \n",
    "\n",
    "In fact, both $\\beta_R$ and $\\beta_K$ are linearly independent.  \n",
    "Therefore, it is fine that we call them the standard bases."
   ]
  },
  {
   "cell_type": "markdown",
   "metadata": {},
   "source": [
    "Let $V$ be a subspace in $\\mathbb{R}^n$ spanned by a finite set of vectors $S$.  \n",
    "Then we may find a basis of $V^\\perp$ as follows.  \n",
    "1. Write the matrix $A$ whose rows are the vectors in the basis.  \n",
    "3. Calculate $\\beta_K$ and it is a basis of $V^\\perp$.  "
   ]
  },
  {
   "cell_type": "markdown",
   "metadata": {},
   "source": [
    "## Side stories\n",
    "- basis of the orthogonal complement\n",
    "- basis of a hyperplane"
   ]
  },
  {
   "cell_type": "markdown",
   "metadata": {},
   "source": [
    "## Experiments"
   ]
  },
  {
   "cell_type": "markdown",
   "metadata": {},
   "source": [
    "##### Exercise 1\n",
    "\n",
    "執行下方程式碼。  \n",
    "令 $R$ 為 $A$ 最簡階梯形式矩陣。  \n",
    "令 $S= \\{ {\\bf u}_1, \\ldots, {\\bf u}_5 \\}$ 為 $A$ 的各行向量且 $V = \\operatorname{span}(S)$。  "
   ]
  },
  {
   "cell_type": "code",
   "execution_count": null,
   "metadata": {
    "scrolled": true
   },
   "outputs": [],
   "source": [
    "### code\n",
    "set_random_seed(0)\n",
    "print_ans = False\n",
    "m,n,r = 3,5,2\n",
    "A, R, pivots = random_good_matrix(m,n,r, return_answer=True)\n",
    "C = column_space_matrix(A)\n",
    "\n",
    "print(\"A =\")\n",
    "show(A)\n",
    "print(\"R =\")\n",
    "show(R)\n",
    "\n",
    "if print_ans:\n",
    "    print(\"A basis of V can be the set of columns of\")\n",
    "    show(C)\n",
    "    free = [i for i in range(n) if i not in pivots]\n",
    "    for f in free:\n",
    "        print(\"u%s = \"%f + \" + \".join(\"%s u%s\"%(-R[j,f], pivots[j]+1) for j in range(r)) )"
   ]
  },
  {
   "cell_type": "markdown",
   "metadata": {},
   "source": [
    "##### Exercise 1(a)\n",
    "\n",
    "求 $V$ 的一組基底。  "
   ]
  },
  {
   "cell_type": "markdown",
   "metadata": {},
   "source": [
    "##### Exercise 1(b)\n",
    "\n",
    "把每個 $S$ 中不在基底裡的向量  \n",
    "寫成基底的線性組合。  "
   ]
  },
  {
   "cell_type": "markdown",
   "metadata": {},
   "source": [
    "## Exercises"
   ]
  },
  {
   "cell_type": "markdown",
   "metadata": {},
   "source": [
    "##### Exercise 2\n",
    "\n",
    "執行以下程式碼。  \n",
    "其中 $\\left[\\begin{array}{c|c} R & B \\end{array}\\right]$ 是 $\\left[\\begin{array}{c|c} A & I \\end{array}\\right]$ 的最簡階梯形式矩陣。  "
   ]
  },
  {
   "cell_type": "code",
   "execution_count": null,
   "metadata": {},
   "outputs": [],
   "source": [
    "### code\n",
    "set_random_seed(0)\n",
    "print_ans = False\n",
    "m,n,r = 4,5,2\n",
    "A = random_good_matrix(m,n,r)\n",
    "AI = A.augment(identity_matrix(m), subdivide=True)\n",
    "RB = AI.rref()\n",
    "\n",
    "print(\"[ A | I ] =\")\n",
    "show(AI)\n",
    "print(\"[ R | B ]=\")\n",
    "show(RB)\n",
    "\n",
    "if print_ans:\n",
    "    print(\"A basis of the column space can be the set of columns of\")\n",
    "    show(column_space_matrix(A))\n",
    "    print(\"A basis of the left kernel can be the set of rows of\")\n",
    "    show(left_kernel_matrix(A))"
   ]
  },
  {
   "cell_type": "markdown",
   "metadata": {},
   "source": [
    "##### Exercise 2(a)\n",
    "\n",
    "求出 $\\operatorname{Col}(A)$ 的一組基底。  "
   ]
  },
  {
   "cell_type": "markdown",
   "metadata": {},
   "source": [
    "##### Exercise 2(b)\n",
    "\n",
    "求出 $\\operatorname{ker}(A^\\top)$ 的一組基底。  "
   ]
  },
  {
   "cell_type": "markdown",
   "metadata": {},
   "source": [
    "##### Exercise 3\n",
    "\n",
    "令  \n",
    "$$A = \\begin{bmatrix}\n",
    " 1 & 0 & 0 & 0 & 0 \\\\\n",
    " -1 & 1 & 1 & 0 & 0 \\\\\n",
    " 0 & -1 & 0 & 1 & 0 \\\\\n",
    " 0 & 0 & -1 & -1 & 1 \\\\\n",
    " 0 & 0 & 0 & 0 & -1 \\\\\n",
    "\\end{bmatrix}$$  \n",
    "而 $S = \\{ {\\bf u}_1, \\ldots, {\\bf u}_5 \\}$ 為 $A$ 的各行向量。  \n",
    "集合 $S$ 有 $\\binom{5}{3} = 10$ 個大小為 $3$ 的子集。  \n",
    "把這些子集分類﹐哪些是行空間的基底？哪些不是？  "
   ]
  },
  {
   "cell_type": "markdown",
   "metadata": {},
   "source": [
    "##### Exercise 4\n",
    "\n",
    "令 $A$ 為一矩陣而 $R$ 為其最簡階梯形式矩陣。  \n",
    "考慮 $R$ 的軸﹐  \n",
    "令 $A_p$ 為 $A$ 中對應到軸的那些行所組成的矩陣、  \n",
    "令 $R_p$ 為 $R$ 中對應到軸的那些行所組成的矩陣。  \n",
    "（所以 $A_p$ 的各行向量就是 $\\beta_C$。）  \n",
    "\n",
    "依序證明 $\\operatorname{ker}(R_p) = \\{ {\\bf 0} \\}$ 以及 $\\operatorname{ker}(A_p) = \\{ {\\bf 0} \\}$﹐  \n",
    "最後得到 $\\beta_C$ 是線性獨立的。  "
   ]
  },
  {
   "cell_type": "markdown",
   "metadata": {},
   "source": [
    "##### Exercise 5\n",
    "\n",
    "若 $S = \\{ {\\bf u}_1, \\ldots, {\\bf u}_k \\}$ 為一群 $\\mathbb{R}^n$ 中的向量。  \n",
    "在某些比較簡單的狀況下﹐我們可以用以下的過程來說明 $S$ 是一個線性獨立集。  \n",
    "1. 令 $S' = S$。  \n",
    "2. 若 $j = 1,\\ldots, n$ 中有一個足標﹐使得 $S'$ 中的每個向量的第 $j$ 項都是零﹐除了 ${\\bf u}_i$ 的第 $j$ 項不是零﹐則把 ${\\bf u}_i$ 從 $S'$ 中拿掉。  \n",
    "3. 重覆步驟 2﹐如果最後可以把所有向量都拿掉的話﹐則 $S$ 是一個線性獨立集。  \n",
    "\n",
    "這個方法稱作 zero forcing。  "
   ]
  },
  {
   "cell_type": "markdown",
   "metadata": {},
   "source": [
    "##### Exercise 5(a)\n",
    "\n",
    "利用 zero forcing 的方法﹐  \n",
    "說明 \n",
    "$$ A = \\begin{bmatrix}\n",
    " 1 & 0 & 0 & 0 & 1 \\\\\n",
    " 1 & 1 & 1 & 0 & 1 \\\\\n",
    " 1 & 1 & 1 & 1 & 1 \\\\\n",
    " 1 & 1 & 0 & 0 & 1 \\\\\n",
    "\\end{bmatrix}$$\n",
    "的列向量集合是線性獨立的。  "
   ]
  },
  {
   "cell_type": "markdown",
   "metadata": {},
   "source": [
    "##### Exercise 5(b)\n",
    "\n",
    "說明  \n",
    "$$ A = \\begin{bmatrix}\n",
    " 1 & 1 & 1 & 1  \\\\\n",
    " 1 & 2 & 4 & 8  \\\\\n",
    " 1 & 3 & 9 & 27 \\\\\n",
    "\\end{bmatrix}$$  \n",
    "的列向量集合是線性獨立的﹐  \n",
    "但 zero forcing 的方法並不適用。  "
   ]
  },
  {
   "cell_type": "markdown",
   "metadata": {},
   "source": [
    "##### Exercise 6\n",
    "\n",
    "利用 zero forcing 的方法來說明 $\\beta_L$ 是線性獨立的。  "
   ]
  },
  {
   "cell_type": "markdown",
   "metadata": {},
   "source": [
    "##### Exercise 7\n",
    "\n",
    "令  \n",
    "$$A = \\begin{bmatrix}\n",
    " 1 & 0 & 0 & 0 & 0 \\\\\n",
    " -1 & 1 & 1 & 0 & 0 \\\\\n",
    " 0 & -1 & 0 & 1 & 0 \\\\\n",
    " 0 & 0 & -1 & -1 & 1 \\\\\n",
    " 0 & 0 & 0 & 0 & -1 \\\\\n",
    "\\end{bmatrix}$$  \n",
    "而 $S = \\{ {\\bf u}_1, \\ldots, {\\bf u}_5 \\}$ 為 $A$ 的各行向量。  \n",
    "令 $A'$ 是把 $A$ 中第一列和第三列互換所得的矩陣。  \n",
    "因此 。  \n",
    "計算 $A$ 和 $A'$ 各自算出來的 $\\beta_C$。  \n",
    "它們一樣嗎？  \n",
    "\n",
    "（這個例子說明如果想把確保某一個非零向量有被選到基底中﹐  \n",
    "只要把它放在第一行再做高斯消去法就好。）"
   ]
  }
 ],
 "metadata": {
  "kernelspec": {
   "display_name": "SageMath 9.0",
   "language": "sage",
   "name": "sagemath"
  },
  "language_info": {
   "codemirror_mode": {
    "name": "ipython",
    "version": 3
   },
   "file_extension": ".py",
   "mimetype": "text/x-python",
   "name": "python",
   "nbconvert_exporter": "python",
   "pygments_lexer": "ipython3",
   "version": "3.8.10"
  }
 },
 "nbformat": 4,
 "nbformat_minor": 4
}
