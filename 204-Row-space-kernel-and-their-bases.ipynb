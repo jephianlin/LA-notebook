{
 "cells": [
  {
   "cell_type": "markdown",
   "metadata": {},
   "source": [
    "# 列空間、零解空間、及其基底\n",
    "\n",
    "Row space, kernel, and their bases"
   ]
  },
  {
   "cell_type": "markdown",
   "metadata": {},
   "source": [
    "![Creative Commons License](https://i.creativecommons.org/l/by/4.0/88x31.png)  \n",
    "This work by Jephian Lin is licensed under a [Creative Commons Attribution 4.0 International License](http://creativecommons.org/licenses/by/4.0/)."
   ]
  },
  {
   "cell_type": "markdown",
   "metadata": {},
   "source": [
    "$\\newcommand{\\trans}{^\\top}\n",
    "\\newcommand{\\adj}{^{\\rm adj}}\n",
    "\\newcommand{\\cof}{^{\\rm cof}}\n",
    "\\newcommand{\\inp}[2]{\\left\\langle#1,#2\\right\\rangle}\n",
    "\\newcommand{\\dunion}{\\mathbin{\\dot\\cup}}\n",
    "\\newcommand{\\bzero}{\\mathbf{0}}\n",
    "\\newcommand{\\bone}{\\mathbf{1}}\n",
    "\\newcommand{\\ba}{\\mathbf{a}}\n",
    "\\newcommand{\\bb}{\\mathbf{b}}\n",
    "\\newcommand{\\bc}{\\mathbf{c}}\n",
    "\\newcommand{\\bd}{\\mathbf{d}}\n",
    "\\newcommand{\\be}{\\mathbf{e}}\n",
    "\\newcommand{\\bh}{\\mathbf{h}}\n",
    "\\newcommand{\\bp}{\\mathbf{p}}\n",
    "\\newcommand{\\bq}{\\mathbf{q}}\n",
    "\\newcommand{\\br}{\\mathbf{r}}\n",
    "\\newcommand{\\bx}{\\mathbf{x}}\n",
    "\\newcommand{\\by}{\\mathbf{y}}\n",
    "\\newcommand{\\bz}{\\mathbf{z}}\n",
    "\\newcommand{\\bu}{\\mathbf{u}}\n",
    "\\newcommand{\\bv}{\\mathbf{v}}\n",
    "\\newcommand{\\bw}{\\mathbf{w}}\n",
    "\\newcommand{\\tr}{\\operatorname{tr}}\n",
    "\\newcommand{\\nul}{\\operatorname{null}}\n",
    "\\newcommand{\\rank}{\\operatorname{rank}}\n",
    "%\\newcommand{\\ker}{\\operatorname{ker}}\n",
    "\\newcommand{\\range}{\\operatorname{range}}\n",
    "\\newcommand{\\Col}{\\operatorname{Col}}\n",
    "\\newcommand{\\Row}{\\operatorname{Row}}\n",
    "\\newcommand{\\spec}{\\operatorname{spec}}\n",
    "\\newcommand{\\vspan}{\\operatorname{span}}\n",
    "\\newcommand{\\Vol}{\\operatorname{Vol}}\n",
    "\\newcommand{\\sgn}{\\operatorname{sgn}}\n",
    "\\newcommand{\\idmap}{\\operatorname{id}}\n",
    "\\newcommand{\\am}{\\operatorname{am}}\n",
    "\\newcommand{\\gm}{\\operatorname{gm}}\n",
    "\\newcommand{\\mult}{\\operatorname{mult}}\n",
    "\\newcommand{\\iner}{\\operatorname{iner}}$"
   ]
  },
  {
   "cell_type": "code",
   "execution_count": null,
   "metadata": {},
   "outputs": [],
   "source": [
    "from lingeo import random_good_matrix, row_space_matrix, kernel_matrix"
   ]
  },
  {
   "cell_type": "markdown",
   "metadata": {},
   "source": [
    "## Main idea"
   ]
  },
  {
   "cell_type": "markdown",
   "metadata": {},
   "source": [
    "You are recommended to read the section _Four fundamental subspaces_ first, where you will find the definition of $\\beta_R$, $\\beta_K$, $\\beta_C$, $\\beta_L$.  "
   ]
  },
  {
   "cell_type": "markdown",
   "metadata": {},
   "source": [
    "Let $A$ be a matrix.  \n",
    "Let $\\beta_R$ and $\\beta_K$ be the standard bases of $\\Row(A)$ and $\\ker(A)$, respectively.  \n",
    "We have known that  \n",
    "1. $\\Row(A) = \\vspan(\\beta_R)$.  \n",
    "2. $\\ker(A) = \\vspan(\\beta_K)$.  \n",
    "\n",
    "In fact, both $\\beta_R$ and $\\beta_K$ are linearly independent.  \n",
    "Therefore, it is fine that we call them the standard bases."
   ]
  },
  {
   "cell_type": "markdown",
   "metadata": {},
   "source": [
    "Let $V$ be a subspace in $\\mathbb{R}^n$ spanned by a finite set of vectors $S$.  \n",
    "Then we may find a basis of $V^\\perp$ as follows.  \n",
    "1. Write the matrix $A$ whose rows are the vectors in the basis.  \n",
    "3. Calculate $\\beta_K$ and it is a basis of $V^\\perp$.  "
   ]
  },
  {
   "cell_type": "markdown",
   "metadata": {},
   "source": [
    "## Side stories\n",
    "- basis of the orthogonal complement\n",
    "- basis of a hyperplane"
   ]
  },
  {
   "cell_type": "markdown",
   "metadata": {},
   "source": [
    "## Experiments"
   ]
  },
  {
   "cell_type": "markdown",
   "metadata": {},
   "source": [
    "##### Exercise 1\n",
    "\n",
    "執行下方程式碼。  \n",
    "令 $\\left[\\begin{array}{c|c} R & B \\end{array}\\right]$ 為 $\\left[\\begin{array}{c|c} A & I \\end{array}\\right]$ 最簡階梯形式矩陣。  \n",
    "令 $S = \\{ \\br_1, \\ldots, \\br_3 \\}$ 為 $A$ 的各列向量﹐  \n",
    "而 $S' = \\{ \\br'_1, \\ldots, \\br'_3 \\}$ 為 $R$ 的各列向量。  \n",
    "\n",
    "<!-- eng start -->\n",
    "Run the code below.  Let $\\left[\\begin{array}{c|c} R & B \\end{array}\\right]$ be the reduced echelon form of $\\left[\\begin{array}{c|c} A & I \\end{array}\\right]$.  Let $S= \\{ \\bu_1, \\ldots, \\bu_3 \\}$ be the rows of $A$ and $S' = \\{ \\br'_1, \\ldots, \\br'_3 \\}$ the rows of $R$.  \n",
    "<!-- eng end -->"
   ]
  },
  {
   "cell_type": "code",
   "execution_count": null,
   "metadata": {
    "scrolled": true
   },
   "outputs": [],
   "source": [
    "### code\n",
    "set_random_seed(0)\n",
    "print_ans = False\n",
    "m,n,r = 3,5,2\n",
    "A = random_good_matrix(m,n,r)\n",
    "AI = A.augment(identity_matrix(m), subdivide=True)\n",
    "RB = AI.rref()\n",
    "B = RB[:,n:]\n",
    "\n",
    "print(\"[ A | I ] =\")\n",
    "show(AI)\n",
    "print(\"[ R | B ] =\")\n",
    "show(RB)\n",
    "\n",
    "if print_ans:\n",
    "    for i in range(m):\n",
    "        print( \"r'%s = \"%(i+1) + \" + \".join(\"%s u%s\"%(B[i,k], k+1) for k in range(m)) )"
   ]
  },
  {
   "cell_type": "markdown",
   "metadata": {},
   "source": [
    "##### Exercise 1(a)\n",
    "\n",
    "將 $S'$ 中的每一個向量寫成 $S$ 的線性組合。  \n",
    "\n",
    "<!-- eng start -->\n",
    "For each vector in $S'$, write it as a linear combination of $S$.  \n",
    "<!-- eng end -->"
   ]
  },
  {
   "cell_type": "markdown",
   "metadata": {},
   "source": [
    "##### Exercise 1(b)\n",
    "\n",
    "令 $B$ 的第一列為 $(b_1, \\ldots, b_3)$。  \n",
    "說明如果要把 $\\left[\\begin{array}{c|c} R & B \\end{array}\\right]$ 的第一列寫成 $\\left[\\begin{array}{c|c} A & I \\end{array}\\right]$ 各列的線性組合﹐  \n",
    "使用係數 $b_1, \\ldots, b_3$ 是唯一的辦法。  \n",
    "更一般來說﹐說明 $BA = R$。\n",
    "\n",
    "（提示：令 $\\left[\\begin{array}{c|c} R & B \\end{array}\\right]$ 的各列為 $\\bw'_1, \\ldots, \\bw'_3$、  \n",
    "而 $\\left[\\begin{array}{c|c} A & I \\end{array}\\right]$  的各列為 $\\bw_1, \\ldots, \\bw_3$。  \n",
    "解 $x_1\\bw_1 + x_2\\bw_2 + x_3\\bw_3 = \\bw'_1$。  \n",
    "只要觀察這個方程式每個項量的最後幾項就好。）\n",
    "\n",
    "<!-- eng start -->\n",
    "Let $(b_1, \\ldots, b_3)$ be the first row of $B$.  Explain the only way to write the first row of $\\left[\\begin{array}{c|c} R & B \\end{array}\\right]$ as a linear combination of rows of $\\left[\\begin{array}{c|c} A & I \\end{array}\\right]$ is by the coefficients $b_1, \\ldots, b_3$.  More generally, explain why $BA = R$.  \n",
    "\n",
    "Hint:  Let $\\bw'_1, \\ldots, \\bw'_3$ be the rows of $\\left[\\begin{array}{c|c} R & B \\end{array}\\right]$ and $\\bw_1, \\ldots, \\bw_3$ the rows of $\\left[\\begin{array}{c|c} A & I \\end{array}\\right]$.  Try to solve $x_1\\bw_1 + x_2\\bw_2 + x_3\\bw_3 = \\bw'_1$ for $x_1, x_2, x_3$.  Note that you only need to focus on the last few entries.  \n",
    "<!-- eng end -->"
   ]
  },
  {
   "cell_type": "markdown",
   "metadata": {},
   "source": [
    "##### Exercise 1(c)\n",
    "\n",
    "若 $A$ 是一個 $n\\times n$ 矩陣。  \n",
    "而 $\\left[\\begin{array}{c|c} A & I_n \\end{array}\\right]$ 的最簡階梯形式矩陣是 $\\left[\\begin{array}{c|c} I_n & B \\end{array}\\right]$。  \n",
    "藉由上一小題的結果（再次）證明  \n",
    "若 $B$ 是 $n\\times n$ 矩陣使得 $AB = I_n$﹐  \n",
    "則 $BA = I_n$。  \n",
    "\n",
    "<!-- eng start -->\n",
    "Let $A$ be an $n\\times n$ matrix.  Suppose $\\left[\\begin{array}{c|c} I_n & B \\end{array}\\right]$ is the reduced echelon form of $\\left[\\begin{array}{c|c} A & I_n \\end{array}\\right]$.  Use the observation from the previous problem prove (again) that if $B$ is an $n\\times n$ matrix such that $AB = I_n$, then $BA = I_n$.   \n",
    "<!-- eng end -->"
   ]
  },
  {
   "cell_type": "markdown",
   "metadata": {},
   "source": [
    "## Exercises"
   ]
  },
  {
   "cell_type": "markdown",
   "metadata": {},
   "source": [
    "##### Exercise 2\n",
    "\n",
    "執行以下程式碼。  \n",
    "其中 $R$ 是 $A$ 的最簡階梯形式矩陣。  \n",
    "\n",
    "<!-- eng start -->\n",
    "Run the code below.  Let $R$ be the reduced echelon form of $A$.  \n",
    "<!-- eng end -->"
   ]
  },
  {
   "cell_type": "code",
   "execution_count": null,
   "metadata": {},
   "outputs": [],
   "source": [
    "### code\n",
    "set_random_seed(0)\n",
    "print_ans = False\n",
    "m,n,r = 4,5,2\n",
    "A = random_good_matrix(m,n,r)\n",
    "R = A.rref()\n",
    "\n",
    "print(\"A =\")\n",
    "show(A)\n",
    "print(\"R =\")\n",
    "show(R)\n",
    "\n",
    "if print_ans:\n",
    "    print(\"A basis of the row space can be the set of rows of\")\n",
    "    show(row_space_matrix(A))\n",
    "    print(\"A basis of the kernel can be the set of columns of\")\n",
    "    show(kernel_matrix(A))"
   ]
  },
  {
   "cell_type": "markdown",
   "metadata": {},
   "source": [
    "##### Exercise 2(a)\n",
    "\n",
    "求出 $\\Row(A)$ 的一組基底。  \n",
    "\n",
    "<!-- eng start -->\n",
    "Find a basis of $\\Row(A)$.  \n",
    "<!-- eng end -->"
   ]
  },
  {
   "cell_type": "markdown",
   "metadata": {},
   "source": [
    "##### Exercise 2(b)\n",
    "\n",
    "求出 $\\ker(A)$ 的一組基底。  \n",
    "\n",
    "<!-- eng start -->\n",
    "Find a basis of $\\ker(A)$.  \n",
    "<!-- eng end -->"
   ]
  },
  {
   "cell_type": "markdown",
   "metadata": {},
   "source": [
    "##### Exercise 3\n",
    "\n",
    "令  \n",
    "\n",
    "$$\n",
    "    A = \\begin{bmatrix}\n",
    "     1 & 1 & 0 \\\\\n",
    "     -1 & 0 & 1 \\\\\n",
    "     0 & -1 & -1 \\\\\n",
    "    \\end{bmatrix}\n",
    "$$  \n",
    "\n",
    "且 $S = \\{\\br_1,\\ldots,\\br_3\\}$ 為其各列向量。  \n",
    "令 $V = \\vspan(S)$，  \n",
    "求 $V^\\perp$ 的一組基底。  \n",
    "\n",
    "<!-- eng start -->\n",
    "Let  \n",
    "\n",
    "$$\n",
    "    A = \\begin{bmatrix}\n",
    "     1 & 1 & 0 \\\\\n",
    "     -1 & 0 & 1 \\\\\n",
    "     0 & -1 & -1 \\\\\n",
    "    \\end{bmatrix}\n",
    "$$  \n",
    "\n",
    "and $S = \\{\\br_1,\\ldots,\\br_3\\}$ its rows.  Let $V = \\vspan(S)$.  Find a basis of $V^\\perp$.  \n",
    "<!-- eng end -->"
   ]
  },
  {
   "cell_type": "markdown",
   "metadata": {},
   "source": [
    "##### Exercise 4\n",
    "\n",
    "利用 zero forcing 的方法來說明 $\\beta_R$ 是線性獨立的。  \n",
    "\n",
    "<!-- eng start -->\n",
    "Use zero forcing to show that $\\beta_R$ is linearly independent.  \n",
    "<!-- eng end -->"
   ]
  },
  {
   "cell_type": "markdown",
   "metadata": {},
   "source": [
    "##### Exercise 5\n",
    "\n",
    "利用 zero forcing 的方法來說明 $\\beta_K$ 是線性獨立的。  \n",
    "\n",
    "<!-- eng start -->\n",
    "Use zero forcing to show that $\\beta_K$ is linearly independent.  \n",
    "<!-- eng end -->"
   ]
  },
  {
   "cell_type": "markdown",
   "metadata": {},
   "source": [
    "##### Exercise 6\n",
    "\n",
    "令 $A$ 為一 $m \\times n$ 矩陣。  \n",
    "若 $E$ 是一個 $m\\times m$ 可逆矩陣且 $B = EA$。\n",
    "\n",
    "<!-- eng start -->\n",
    "Let $A$ be an $m\\times n$ matrix.  Suppose $E$ is an $m\\times m$ invertible matrix and $B = EA$.  \n",
    "<!-- eng end -->"
   ]
  },
  {
   "cell_type": "markdown",
   "metadata": {},
   "source": [
    "##### Exercise 6(a)\n",
    "\n",
    "證明 $\\Row(A) = \\Row(B)$。  \n",
    "（提示：可以把 $E$ 拆成基本矩陣當做列運算。  \n",
    "另一個方法是說明 $B$ 的每一列都可以 $A$ 的各列的線性組合，而且反之亦然。）\n",
    "\n",
    "<!-- eng start -->\n",
    "Show that $\\Row(A) = \\Row(B)$.  \n",
    "\n",
    "Hint:  You may write $E$ as the product of some elementary matrices.  Alternatively, you may show that each row of $B$ is a linear combination of $A$, and vice versa.  \n",
    "<!-- eng end -->"
   ]
  },
  {
   "cell_type": "markdown",
   "metadata": {},
   "source": [
    "##### Exercise 6(b)\n",
    "\n",
    "證明以下敘述等價：  \n",
    "\n",
    "1. $A$ 的各列集合線性獨立。  \n",
    "2. $B$ 的各列集合線性獨立。  \n",
    "（提示：證明 $\\Col(A)^\\perp = \\{\\bzero\\}$ 和 $\\Col(B)^\\perp = \\{\\bzero\\}$ 等價。）\n",
    "\n",
    "<!-- eng start -->\n",
    "Show that the following are equivalent:  \n",
    "\n",
    "1. The rows of $A$ form a linearly independent set.  \n",
    "2. The rows of $B$ form a linearly independent set.  \n",
    "\n",
    "Hint:  You may show that $\\Col(A)^\\perp = \\{\\bzero\\}$ and $\\Col(B)^\\perp = \\{\\bzero\\}$ are equivalent.  \n",
    "<!-- eng end -->"
   ]
  },
  {
   "cell_type": "markdown",
   "metadata": {},
   "source": [
    "##### Exercise 6(c)\n",
    "\n",
    "總結來說，  \n",
    "證明若 $A$ 的各列集合是 $\\Row(A)$ 的一組基底，  \n",
    "則 $B$ 的各列集合也是 $\\Row(A)$ 的一組基底。\n",
    "\n",
    "<!-- eng start -->\n",
    "In summary, if the rows of $A$ form a basis of $\\Row(A)$, then the rows of $B$ also form a basis of $\\Row(A)$.  \n",
    "<!-- eng end -->"
   ]
  }
 ],
 "metadata": {
  "kernelspec": {
   "display_name": "SageMath 9.6",
   "language": "sage",
   "name": "sagemath"
  },
  "language_info": {
   "codemirror_mode": {
    "name": "ipython",
    "version": 3
   },
   "file_extension": ".py",
   "mimetype": "text/x-python",
   "name": "python",
   "nbconvert_exporter": "python",
   "pygments_lexer": "ipython3",
   "version": "3.10.5"
  }
 },
 "nbformat": 4,
 "nbformat_minor": 4
}
