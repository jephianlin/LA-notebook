{
 "cells": [
  {
   "cell_type": "markdown",
   "metadata": {},
   "source": [
    "# 列空間、零解空間、及其基底"
   ]
  },
  {
   "cell_type": "markdown",
   "metadata": {},
   "source": [
    "![Creative Commons License](https://i.creativecommons.org/l/by/4.0/88x31.png)  \n",
    "This work by Jephian Lin is licensed under a [Creative Commons Attribution 4.0 International License](http://creativecommons.org/licenses/by/4.0/)."
   ]
  },
  {
   "cell_type": "markdown",
   "metadata": {},
   "source": [
    "$\\newcommand{\\trans}{^\\top}\n",
    "\\newcommand{\\adj}{^{\\rm adj}}\n",
    "\\newcommand{\\cof}{^{\\rm cof}}\n",
    "\\newcommand{\\inp}[2]{\\left\\langle#1,#2\\right\\rangle}\n",
    "\\newcommand{\\dunion}{\\mathbin{\\dot\\cup}}\n",
    "\\newcommand{\\bzero}{\\mathbf{0}}\n",
    "\\newcommand{\\bone}{\\mathbf{1}}\n",
    "\\newcommand{\\ba}{\\mathbf{a}}\n",
    "\\newcommand{\\bb}{\\mathbf{b}}\n",
    "\\newcommand{\\bc}{\\mathbf{c}}\n",
    "\\newcommand{\\bd}{\\mathbf{d}}\n",
    "\\newcommand{\\be}{\\mathbf{e}}\n",
    "\\newcommand{\\bh}{\\mathbf{h}}\n",
    "\\newcommand{\\bp}{\\mathbf{p}}\n",
    "\\newcommand{\\bq}{\\mathbf{q}}\n",
    "\\newcommand{\\br}{\\mathbf{r}}\n",
    "\\newcommand{\\bx}{\\mathbf{x}}\n",
    "\\newcommand{\\by}{\\mathbf{y}}\n",
    "\\newcommand{\\bz}{\\mathbf{z}}\n",
    "\\newcommand{\\bu}{\\mathbf{u}}\n",
    "\\newcommand{\\bv}{\\mathbf{v}}\n",
    "\\newcommand{\\bw}{\\mathbf{w}}\n",
    "\\newcommand{\\tr}{\\operatorname{tr}}\n",
    "\\newcommand{\\nul}{\\operatorname{null}}\n",
    "\\newcommand{\\rank}{\\operatorname{rank}}\n",
    "%\\newcommand{\\ker}{\\operatorname{ker}}\n",
    "\\newcommand{\\range}{\\operatorname{range}}\n",
    "\\newcommand{\\Col}{\\operatorname{Col}}\n",
    "\\newcommand{\\Row}{\\operatorname{Row}}\n",
    "\\newcommand{\\spec}{\\operatorname{spec}}\n",
    "\\newcommand{\\vspan}{\\operatorname{span}}\n",
    "\\newcommand{\\Vol}{\\operatorname{Vol}}\n",
    "\\newcommand{\\sgn}{\\operatorname{sgn}}\n",
    "\\newcommand{\\idmap}{\\operatorname{id}}\n",
    "\\newcommand{\\am}{\\operatorname{am}}\n",
    "\\newcommand{\\gm}{\\operatorname{gm}}\n",
    "\\newcommand{\\mult}{\\operatorname{mult}}\n",
    "\\newcommand{\\iner}{\\operatorname{iner}}$"
   ]
  },
  {
   "cell_type": "code",
   "execution_count": null,
   "metadata": {},
   "outputs": [],
   "source": [
    "from lingeo import random_good_matrix, row_space_matrix, kernel_matrix"
   ]
  },
  {
   "cell_type": "markdown",
   "metadata": {},
   "source": [
    "## Main idea"
   ]
  },
  {
   "cell_type": "markdown",
   "metadata": {},
   "source": [
    "You are recommended to read the section _Four fundamental subspaces_ first, where you will find the definition of $\\beta_R$, $\\beta_K$, $\\beta_C$, $\\beta_L$.  "
   ]
  },
  {
   "cell_type": "markdown",
   "metadata": {},
   "source": [
    "Let $A$ be a matrix.  \n",
    "Let $\\beta_R$ and $\\beta_K$ be the standard bases of $\\operatorname{Row}(A)$ and $\\operatorname{ker}(A)$, respectively.  \n",
    "We have known that  \n",
    "1. $\\operatorname{Row}(A) = \\operatorname{span}(\\beta_R)$.  \n",
    "2. $\\operatorname{ker}(A) = \\operatorname{span}(\\beta_K)$.  \n",
    "\n",
    "In fact, both $\\beta_R$ and $\\beta_K$ are linearly independent.  \n",
    "Therefore, it is fine that we call them the standard bases."
   ]
  },
  {
   "cell_type": "markdown",
   "metadata": {},
   "source": [
    "Let $V$ be a subspace in $\\mathbb{R}^n$ spanned by a finite set of vectors $S$.  \n",
    "Then we may find a basis of $V^\\perp$ as follows.  \n",
    "1. Write the matrix $A$ whose rows are the vectors in the basis.  \n",
    "3. Calculate $\\beta_K$ and it is a basis of $V^\\perp$.  "
   ]
  },
  {
   "cell_type": "markdown",
   "metadata": {},
   "source": [
    "## Side stories\n",
    "- basis of the orthogonal complement\n",
    "- basis of a hyperplane"
   ]
  },
  {
   "cell_type": "markdown",
   "metadata": {},
   "source": [
    "## Experiments"
   ]
  },
  {
   "cell_type": "markdown",
   "metadata": {},
   "source": [
    "##### Exercise 1\n",
    "\n",
    "執行下方程式碼。  \n",
    "令 $\\left[\\begin{array}{c|c} R & B \\end{array}\\right]$ 為 $\\left[\\begin{array}{c|c} A & I \\end{array}\\right]$ 最簡階梯形式矩陣。  \n",
    "令 $S = \\{ {\\bf r}_1, \\ldots, {\\bf r}_3 \\}$ 為 $A$ 的各列向量﹐  \n",
    "而 $S' = \\{ {\\bf r}'_1, \\ldots, {\\bf r}'_3 \\}$ 為 $R$ 的各列向量。  "
   ]
  },
  {
   "cell_type": "code",
   "execution_count": null,
   "metadata": {
    "scrolled": true
   },
   "outputs": [],
   "source": [
    "### code\n",
    "set_random_seed(0)\n",
    "print_ans = False\n",
    "m,n,r = 3,5,2\n",
    "A = random_good_matrix(m,n,r)\n",
    "AI = A.augment(identity_matrix(m), subdivide=True)\n",
    "RB = AI.rref()\n",
    "B = RB[:,n:]\n",
    "\n",
    "print(\"[ A | I ] =\")\n",
    "show(AI)\n",
    "print(\"[ R | B ] =\")\n",
    "show(RB)\n",
    "\n",
    "if print_ans:\n",
    "    for i in range(m):\n",
    "        print( \"r'%s = \"%(i+1) + \" + \".join(\"%s u%s\"%(B[i,k], k+1) for k in range(m)) )"
   ]
  },
  {
   "cell_type": "markdown",
   "metadata": {},
   "source": [
    "##### Exercise 1(a)\n",
    "\n",
    "將 $S'$ 中的每一個向量寫成 $S$ 的線性組合。  "
   ]
  },
  {
   "cell_type": "markdown",
   "metadata": {},
   "source": [
    "##### Exercise 1(b)\n",
    "\n",
    "令 $B$ 的第一列為 $(b_1, \\ldots, b_3)$。  \n",
    "說明如果要把 $\\left[\\begin{array}{c|c} R & B \\end{array}\\right]$ 的第一列寫成 $\\left[\\begin{array}{c|c} A & I \\end{array}\\right]$ 各列的線性組合﹐  \n",
    "使用係數 $b_1, \\ldots, b_3$ 是唯一的辦法。  \n",
    "更一般來說﹐說明 $BA = R$。\n",
    "\n",
    "（提示：令 $\\left[\\begin{array}{c|c} R & B \\end{array}\\right]$ 的各列為 ${\\bf w}'_1, \\ldots, {\\bf w}'_3$、  \n",
    "而 $\\left[\\begin{array}{c|c} A & I \\end{array}\\right]$  的各列為 ${\\bf w}_1, \\ldots, {\\bf w}_3$。  \n",
    "解 $x_1{\\bf w}_1 + x_2{\\bf w}_2 + x_3{\\bf w}_3 = {\\bf w}'_1$。  \n",
    "只要觀察這個方程式每個項量的最後幾項就好。）"
   ]
  },
  {
   "cell_type": "markdown",
   "metadata": {},
   "source": [
    "##### Exercise 1(c)\n",
    "\n",
    "若 $A$ 是一個 $n\\times n$ 矩陣。  \n",
    "而 $\\left[\\begin{array}{c|c} A & I_n \\end{array}\\right]$ 的最簡階梯形式矩陣是 $\\left[\\begin{array}{c|c} I_n & B \\end{array}\\right]$。  \n",
    "藉由上一小題的結果（再次）證明  \n",
    "若 $B$ 是 $n\\times n$ 矩陣使得 $AB = I_n$﹐  \n",
    "則 $BA = I_n$。  "
   ]
  },
  {
   "cell_type": "markdown",
   "metadata": {},
   "source": [
    "## Exercises"
   ]
  },
  {
   "cell_type": "markdown",
   "metadata": {},
   "source": [
    "##### Exercise 2\n",
    "\n",
    "執行以下程式碼。  \n",
    "其中 $R$ 是 $A$ 的最簡階梯形式矩陣。  "
   ]
  },
  {
   "cell_type": "code",
   "execution_count": null,
   "metadata": {},
   "outputs": [],
   "source": [
    "### code\n",
    "set_random_seed(0)\n",
    "print_ans = False\n",
    "m,n,r = 4,5,2\n",
    "A = random_good_matrix(m,n,r)\n",
    "R = A.rref()\n",
    "\n",
    "print(\"A =\")\n",
    "show(A)\n",
    "print(\"R =\")\n",
    "show(R)\n",
    "\n",
    "if print_ans:\n",
    "    print(\"A basis of the row space can be the set of rows of\")\n",
    "    show(row_space_matrix(A))\n",
    "    print(\"A basis of the kernel can be the set of columns of\")\n",
    "    show(kernel_matrix(A))"
   ]
  },
  {
   "cell_type": "markdown",
   "metadata": {},
   "source": [
    "##### Exercise 2(a)\n",
    "\n",
    "求出 $\\operatorname{Row}(A)$ 的一組基底。  "
   ]
  },
  {
   "cell_type": "markdown",
   "metadata": {},
   "source": [
    "##### Exercise 2(b)\n",
    "\n",
    "求出 $\\operatorname{ker}(A)$ 的一組基底。  "
   ]
  },
  {
   "cell_type": "markdown",
   "metadata": {},
   "source": [
    "##### Exercise 3\n",
    "\n",
    "令  \n",
    "$$A = \\begin{bmatrix}\n",
    " 1 & 1 & 0 \\\\\n",
    " -1 & 0 & 1 \\\\\n",
    " 0 & -1 & -1 \\\\\n",
    "\\end{bmatrix}$$  \n",
    "且 $S = \\{{\\bf r}_1,\\ldots,{\\bf r}_3\\}$ 為其各列向量。  \n",
    "令 $V = \\operatorname{span}(S)$，  \n",
    "求 $V^\\perp$ 的一組基底。  "
   ]
  },
  {
   "cell_type": "markdown",
   "metadata": {},
   "source": [
    "##### Exercise 4\n",
    "\n",
    "利用 zero forcing 的方法來說明 $\\beta_R$ 是線性獨立的。  "
   ]
  },
  {
   "cell_type": "markdown",
   "metadata": {},
   "source": [
    "##### Exercise 5\n",
    "\n",
    "利用 zero forcing 的方法來說明 $\\beta_K$ 是線性獨立的。  "
   ]
  },
  {
   "cell_type": "markdown",
   "metadata": {},
   "source": [
    "##### Exercise 6\n",
    "\n",
    "令 $A$ 為一 $m \\times n$ 矩陣。  \n",
    "若 $E$ 是一個 $m\\times m$ 可逆矩陣且 $B = EA$。"
   ]
  },
  {
   "cell_type": "markdown",
   "metadata": {},
   "source": [
    "##### Exercise 6(a)\n",
    "\n",
    "證明 $\\operatorname{Row}(A) = \\operatorname{Row}(B)$。  \n",
    "（提示：可以把 $E$ 拆成基本矩陣當做列運算。  \n",
    "另一個方法是說明 $B$ 的每一列都可以 $A$ 的各列的線性組合，而且反之亦然。）"
   ]
  },
  {
   "cell_type": "markdown",
   "metadata": {},
   "source": [
    "##### Exercise 6(b)\n",
    "\n",
    "證明以下敘述等價：  \n",
    "1. $A$ 的各列集合線性獨立。  \n",
    "2. $B$ 的各列集合線性獨立。  \n",
    "（提示：證明 $\\operatorname{Col}(A)^\\perp = \\{{\\bf 0}\\}$ 和 $\\operatorname{Col}(B)^\\perp = \\{{\\bf 0}\\}$ 等價。）"
   ]
  },
  {
   "cell_type": "markdown",
   "metadata": {},
   "source": [
    "##### Exercise 6(c)\n",
    "\n",
    "總結來說，  \n",
    "證明若 $A$ 的各列集合是 $\\operatorname{Row}(A)$ 的一組基底，  \n",
    "則 $B$ 的各列集合也是 $\\operatorname{Row}(A)$ 的一組基底。"
   ]
  }
 ],
 "metadata": {
  "kernelspec": {
   "display_name": "SageMath 9.6",
   "language": "sage",
   "name": "sagemath"
  },
  "language_info": {
   "codemirror_mode": {
    "name": "ipython",
    "version": 3
   },
   "file_extension": ".py",
   "mimetype": "text/x-python",
   "name": "python",
   "nbconvert_exporter": "python",
   "pygments_lexer": "ipython3",
   "version": "3.10.5"
  }
 },
 "nbformat": 4,
 "nbformat_minor": 4
}
