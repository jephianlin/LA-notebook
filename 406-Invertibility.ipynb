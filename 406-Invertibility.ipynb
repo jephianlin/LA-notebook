{
 "cells": [
  {
   "cell_type": "markdown",
   "metadata": {},
   "source": [
    "# 判斷矩陣是否可逆\n",
    "\n",
    "Invertibility"
   ]
  },
  {
   "cell_type": "markdown",
   "metadata": {},
   "source": [
    "![Creative Commons License](https://i.creativecommons.org/l/by/4.0/88x31.png)  \n",
    "This work by Jephian Lin is licensed under a [Creative Commons Attribution 4.0 International License](http://creativecommons.org/licenses/by/4.0/)."
   ]
  },
  {
   "cell_type": "markdown",
   "metadata": {},
   "source": [
    "$\\newcommand{\\trans}{^\\top}\n",
    "\\newcommand{\\adj}{^{\\rm adj}}\n",
    "\\newcommand{\\cof}{^{\\rm cof}}\n",
    "\\newcommand{\\inp}[2]{\\left\\langle#1,#2\\right\\rangle}\n",
    "\\newcommand{\\dunion}{\\mathbin{\\dot\\cup}}\n",
    "\\newcommand{\\bzero}{\\mathbf{0}}\n",
    "\\newcommand{\\bone}{\\mathbf{1}}\n",
    "\\newcommand{\\ba}{\\mathbf{a}}\n",
    "\\newcommand{\\bb}{\\mathbf{b}}\n",
    "\\newcommand{\\bc}{\\mathbf{c}}\n",
    "\\newcommand{\\bd}{\\mathbf{d}}\n",
    "\\newcommand{\\be}{\\mathbf{e}}\n",
    "\\newcommand{\\bh}{\\mathbf{h}}\n",
    "\\newcommand{\\bp}{\\mathbf{p}}\n",
    "\\newcommand{\\bq}{\\mathbf{q}}\n",
    "\\newcommand{\\br}{\\mathbf{r}}\n",
    "\\newcommand{\\bx}{\\mathbf{x}}\n",
    "\\newcommand{\\by}{\\mathbf{y}}\n",
    "\\newcommand{\\bz}{\\mathbf{z}}\n",
    "\\newcommand{\\bu}{\\mathbf{u}}\n",
    "\\newcommand{\\bv}{\\mathbf{v}}\n",
    "\\newcommand{\\bw}{\\mathbf{w}}\n",
    "\\newcommand{\\tr}{\\operatorname{tr}}\n",
    "\\newcommand{\\nul}{\\operatorname{null}}\n",
    "\\newcommand{\\rank}{\\operatorname{rank}}\n",
    "%\\newcommand{\\ker}{\\operatorname{ker}}\n",
    "\\newcommand{\\range}{\\operatorname{range}}\n",
    "\\newcommand{\\Col}{\\operatorname{Col}}\n",
    "\\newcommand{\\Row}{\\operatorname{Row}}\n",
    "\\newcommand{\\spec}{\\operatorname{spec}}\n",
    "\\newcommand{\\vspan}{\\operatorname{span}}\n",
    "\\newcommand{\\Vol}{\\operatorname{Vol}}\n",
    "\\newcommand{\\sgn}{\\operatorname{sgn}}\n",
    "\\newcommand{\\idmap}{\\operatorname{id}}\n",
    "\\newcommand{\\am}{\\operatorname{am}}\n",
    "\\newcommand{\\gm}{\\operatorname{gm}}\n",
    "\\newcommand{\\mult}{\\operatorname{mult}}\n",
    "\\newcommand{\\iner}{\\operatorname{iner}}$"
   ]
  },
  {
   "cell_type": "code",
   "execution_count": null,
   "metadata": {},
   "outputs": [],
   "source": [
    "from lingeo import random_int_list, kernel_matrix"
   ]
  },
  {
   "cell_type": "markdown",
   "metadata": {},
   "source": [
    "## Main idea"
   ]
  },
  {
   "cell_type": "markdown",
   "metadata": {},
   "source": [
    "In this section, we emphasize the relation between the determinant and the invertibility of a matrix.  \n",
    "For any $n\\times n$ matrix $A$, the matrix $A$ is invertible if and only if $\\det(A) \\neq 0$."
   ]
  },
  {
   "cell_type": "markdown",
   "metadata": {},
   "source": [
    "Here we summarize some equivalent conditions.  \n",
    "Let $A$ be an $n\\times n$ matrix.  \n",
    "Then the following are equivalent.  \n",
    "\n",
    "- $A$ is invertible.\n",
    "- $\\Col(A) = \\mathbb{R}^n$.  \n",
    "- $\\ker(A) = \\{\\bzero\\}$.  \n",
    "- $\\rank(A) = n$.  \n",
    "- $\\nul(A) = 0$.  \n",
    "- $\\det(A) \\neq 0$."
   ]
  },
  {
   "cell_type": "markdown",
   "metadata": {},
   "source": [
    "## Side stories\n",
    "\n",
    "- characteristic polynomial\n",
    "- Vandermonde matrix\n",
    "- Sylvester matrix"
   ]
  },
  {
   "cell_type": "markdown",
   "metadata": {},
   "source": [
    "## Experiments"
   ]
  },
  {
   "cell_type": "markdown",
   "metadata": {},
   "source": [
    "##### Exercise 1\n",
    "\n",
    "執行以下程式碼。  \n",
    "\n",
    "<!-- eng start -->\n",
    "Run the code below.  \n",
    "<!-- eng end -->"
   ]
  },
  {
   "cell_type": "code",
   "execution_count": null,
   "metadata": {
    "scrolled": false
   },
   "outputs": [],
   "source": [
    "### code\n",
    "set_random_seed(0)\n",
    "print_ans = False\n",
    "\n",
    "inv = choice([True, False])\n",
    "\n",
    "n = 4\n",
    "while True:\n",
    "    A = matrix(n, random_int_list(n^2, 3))\n",
    "    if (A.det() != 0) == inv:\n",
    "        break\n",
    "\n",
    "print(\"A =\")\n",
    "pretty_print(A)\n",
    "\n",
    "if print_ans:\n",
    "    print(\"Invertible?\", inv)\n",
    "    if inv:\n",
    "        print(\"A inverse =\")\n",
    "        pretty_print(A.inverse())\n",
    "    else:\n",
    "        print(\"The kernel of A is the column space of\")\n",
    "        pretty_print(kernel_matrix(A))"
   ]
  },
  {
   "cell_type": "markdown",
   "metadata": {},
   "source": [
    "##### Exercise 1(a)\n",
    "\n",
    "嘗試不同的 `seed` ，  \n",
    "找出一個可逆矩陣 $A$、  \n",
    "並求出 $A^{-1}$。  \n",
    "\n",
    "<!-- eng start -->\n",
    "Run the code with different `seed` and find an invertible $A$.  Then find its inverse $A^{-1}$.  \n",
    "<!-- eng end -->"
   ]
  },
  {
   "cell_type": "markdown",
   "metadata": {},
   "source": [
    "##### Exercise 1(b)\n",
    "\n",
    "嘗試不同的 `seed` ，  \n",
    "找出一個不可逆矩陣 $A$、  \n",
    "並求出一個 $\\ker(A)$ 中的非零向量。  \n",
    "\n",
    "<!-- eng start -->\n",
    "Run the code with different `seed` and find an invertible $A$.  Then find a nonzero vector in $\\ker(A)$.  \n",
    "<!-- eng end -->"
   ]
  },
  {
   "cell_type": "markdown",
   "metadata": {},
   "source": [
    "## Exercises"
   ]
  },
  {
   "cell_type": "markdown",
   "metadata": {},
   "source": [
    "##### Exercise 2\n",
    "\n",
    "對以下矩陣，求出所有讓 $A$ 不可逆的 $x$。  \n",
    "\n",
    "<!-- eng start -->\n",
    "For each of following matrices, find all possible $x$ such that $A$ is singular.  \n",
    "<!-- eng end -->"
   ]
  },
  {
   "cell_type": "markdown",
   "metadata": {},
   "source": [
    "##### Exercise 2(a)\n",
    "\n",
    "$$\n",
    "    A = \\begin{bmatrix}\n",
    "     1 - x & 2 \\\\\n",
    "     3 & 4 - x \n",
    "    \\end{bmatrix}.\n",
    "$$"
   ]
  },
  {
   "cell_type": "markdown",
   "metadata": {},
   "source": [
    "##### Exercise 2(b)\n",
    "\n",
    "$$\n",
    "    A = \\begin{bmatrix}\n",
    "     2 - x & 3 \\\\\n",
    "     3 & 2 - x\n",
    "    \\end{bmatrix}.\n",
    "$$"
   ]
  },
  {
   "cell_type": "markdown",
   "metadata": {},
   "source": [
    "##### Exercise 2(c)\n",
    "\n",
    "$$\n",
    "    A = \\begin{bmatrix}\n",
    "     1 - x & 1 & 1 \\\\\n",
    "     1 & 1 - x & 1 \\\\\n",
    "     1 & 1 & 1 - x \n",
    "    \\end{bmatrix}.\n",
    "$$"
   ]
  },
  {
   "cell_type": "markdown",
   "metadata": {},
   "source": [
    "##### Exercise 2(d)\n",
    "\n",
    "$$\n",
    "    A = \\begin{bmatrix}\n",
    "     1 - x & 1 & 0 \\\\\n",
    "     1 & 1 - x & 1 \\\\\n",
    "     0 & 1 & 1 - x \n",
    "    \\end{bmatrix}.\n",
    "$$"
   ]
  },
  {
   "cell_type": "markdown",
   "metadata": {},
   "source": [
    "##### Exercise 3\n",
    "\n",
    "給定相異實數 $\\lambda_0, \\ldots, \\lambda_d$，  \n",
    "其所對應的凡德孟矩陣為  \n",
    "\n",
    "$$\n",
    "    A = \\begin{bmatrix} \n",
    "     1 & \\lambda_0 & \\cdots & \\lambda_0^d \\\\\n",
    "     1 & \\lambda_1 & \\cdots & \\lambda_1^d \\\\\n",
    "     \\vdots & \\vdots & ~ & \\vdots \\\\\n",
    "     1 & \\lambda_d & \\cdots & \\lambda_d^d\n",
    "    \\end{bmatrix}.\n",
    "$$\n",
    "\n",
    "（相關性質請見 311。）  \n",
    "已知  \n",
    "\n",
    "$$\n",
    "    \\det(A) = \\prod_{j > i} (\\lambda_j - \\lambda_i).\n",
    "$$\n",
    "\n",
    "所以當 $\\lambda_0, \\ldots, \\lambda_d$ 相異時其凡德孟矩陣的行列式值一定非零。  \n",
    "\n",
    "利用這個性質證明：  \n",
    "給定 $d+1$ 個相異實數 $\\lambda_0, \\ldots, \\lambda_d$、  \n",
    "並給定 $d+1$ 個實數 $y_0, \\ldots, y_d$，  \n",
    "則必存在唯一一個 $d$ 次以下的多項式 $p$ 使得 $p(\\lambda_0) = y_0, \\ldots, p(\\lambda_d) = y_d$。  \n",
    "\n",
    "<!-- eng start -->\n",
    "Given distinct real numbers $\\lambda_0, \\ldots, \\lambda_d$, the associated Vandermonde matrix is \n",
    "\n",
    "$$\n",
    "    A = \\begin{bmatrix} \n",
    "     1 & \\lambda_0 & \\cdots & \\lambda_0^d \\\\\n",
    "     1 & \\lambda_1 & \\cdots & \\lambda_1^d \\\\\n",
    "     \\vdots & \\vdots & ~ & \\vdots \\\\\n",
    "     1 & \\lambda_d & \\cdots & \\lambda_d^d\n",
    "    \\end{bmatrix}.\n",
    "$$\n",
    "\n",
    "(See 311 for more details.)  \n",
    "\n",
    "We knew that   \n",
    "\n",
    "$$\n",
    "    \\det(A) = \\prod_{j > i} (\\lambda_j - \\lambda_i).\n",
    "$$\n",
    "\n",
    "Therefore, the determinant of $A$ is nonzero whenever $\\lambda_0, \\ldots, \\lambda_d$ are distinct.   \n",
    "\n",
    "Use this property to show:  \n",
    "Given any $d + 1$ distinct real numbers $\\lambda_0, \\ldots, \\lambda_d$ and any $d+1$ real numbers $y_0, \\ldots, y_d$, there must be a unique polynomial $p$ of degree at most $d$ such that $p(\\lambda_0) = y_0, \\ldots, p(\\lambda_d) = y_d$.  \n",
    "<!-- eng end -->"
   ]
  },
  {
   "cell_type": "markdown",
   "metadata": {},
   "source": [
    "##### Exercise 4\n",
    "\n",
    "參考 312 中西爾維斯特矩陣的定義及性質。  \n",
    "\n",
    "<!-- eng start -->\n",
    "See 312 for the definition and the properties of a Sylvester matrix.  \n",
    "<!-- eng end -->"
   ]
  },
  {
   "cell_type": "markdown",
   "metadata": {},
   "source": [
    "##### Exercise 4(a)\n",
    "\n",
    "給定兩多項式  \n",
    "$p = 2 - 3x + x^2$、  \n",
    "$q = 6 + 11x + 6x^2 + x^3$。  \n",
    "判斷 $p$ 和 $q$ 是否互質。  \n",
    "\n",
    "<!-- eng start -->\n",
    "Let $p = 2 - 3x + x^2$ and $q = 6 + 11x + 6x^2 + x^3$.  Determine if $\\gcd(p,q) = 1$ or not.  \n",
    "<!-- eng end -->"
   ]
  },
  {
   "cell_type": "markdown",
   "metadata": {},
   "source": [
    "##### Exercise 4(b)\n",
    "\n",
    "給定兩多項式  \n",
    "$p = 2 - 3x + x^2$、  \n",
    "$q = -6 + x + 4x^2 + x^3$。  \n",
    "判斷 $p$ 和 $q$ 是否互質。  \n",
    "\n",
    "<!-- eng start -->\n",
    "Let $p = 2 - 3x + x^2$ and $q = -6 + x + 4x^2 + x^3$.  Determine if $\\gcd(p,q) = 1$ or not.  \n",
    "<!-- eng end -->"
   ]
  },
  {
   "cell_type": "markdown",
   "metadata": {},
   "source": [
    "##### Exercise 4(c)\n",
    "\n",
    "已知以下兩敘述等價。  \n",
    "\n",
    "- 多項式 $p$ 有重根。  \n",
    "- $p$ 和 $p'$ 有共同根。\n",
    "\n",
    "利用這個性質判斷 $p = 3 - 5x + x^2 + x^3$ 是否有重根。  \n",
    "\n",
    "<!-- eng start -->\n",
    "Suppose we know the following are equivalent.  \n",
    "\n",
    "- The polynomial $p$ has a multiple root.    \n",
    "- $p$ and $p'$ have a common root.\n",
    "\n",
    "Use this fact to determine whetehr $p = 3 - 5x + x^2 + x^3$ has a multiple root.  \n",
    "<!-- eng end -->"
   ]
  },
  {
   "cell_type": "markdown",
   "metadata": {},
   "source": [
    "##### Exercise 4(d)\n",
    "\n",
    "令 $p = c + bx + ax^2$ 為一二次多項式（$a\\neq 0$）。  \n",
    "求 $a,b,c$ 在什麼條件下會有重根。  \n",
    "\n",
    "<!-- eng start -->\n",
    "Let $p = c + bx + ax^2$ be a polynomial of degree $2$ with $a\\neq 0$.  Find a criterion on $a,b,c$ for $p$ having a multiple root.  \n",
    "<!-- eng end -->"
   ]
  },
  {
   "cell_type": "markdown",
   "metadata": {},
   "source": [
    "##### Exercise 4(e)\n",
    "\n",
    "令 $p = d + cx + bx^2 + ax^3$ 為一三次多項式（$a\\neq 0$）。  \n",
    "求 $a,b,c,d$ 在什麼條件下會有重根。  \n",
    "\n",
    "<!-- eng start -->\n",
    "Let $p = d + cx + bx^2 + ax^3$ be a polynomial of degree $2$ with $a\\neq 0$.  Find a criterion on $a,b,c,d$ for $p$ having a multiple root.  \n",
    "<!-- eng end -->"
   ]
  },
  {
   "cell_type": "markdown",
   "metadata": {},
   "source": [
    "##### Exercise 5\n",
    "\n",
    "已知對任意矩陣 $\\ker(A) = \\ker(A\\trans A)$。  \n",
    "（參考 105-2。）  \n",
    "\n",
    "令  \n",
    "\n",
    "$$\n",
    "    A = \\begin{bmatrix}\n",
    "     1 & 1 & 1 \\\\\n",
    "     -1 & 1 & 1 \\\\\n",
    "     1 & -1 & 1 \\\\\n",
    "     1 & 1 & -1\n",
    "    \\end{bmatrix}.\n",
    "$$\n",
    "\n",
    "<!-- eng start -->\n",
    "Suppose we know $\\ker(A) = \\ker(A\\trans A)$.  (See 105-2.)  \n",
    "\n",
    "Let  \n",
    "\n",
    "$$\n",
    "    A = \\begin{bmatrix}\n",
    "     1 & 1 & 1 \\\\\n",
    "     -1 & 1 & 1 \\\\\n",
    "     1 & -1 & 1 \\\\\n",
    "     1 & 1 & -1\n",
    "    \\end{bmatrix}.\n",
    "$$\n",
    "<!-- eng end -->"
   ]
  },
  {
   "cell_type": "markdown",
   "metadata": {},
   "source": [
    "##### Exercise 5(a)\n",
    "\n",
    "求 $\\det(A\\trans A)$。  \n",
    "\n",
    "<!-- eng start -->\n",
    "Find $\\det(A\\trans A)$.  \n",
    "<!-- eng end -->"
   ]
  },
  {
   "cell_type": "markdown",
   "metadata": {},
   "source": [
    "##### Exercise 5(b)\n",
    "\n",
    "利用 $\\det(A\\trans A)$ 判斷 $A$ 的行向量集是否線性獨立。  \n",
    "\n",
    "<!-- eng start -->\n",
    "Use $\\det(A\\trans A)$ to determine if the columns of $A$ form an independent set.  \n",
    "<!-- eng end -->"
   ]
  }
 ],
 "metadata": {
  "kernelspec": {
   "display_name": "SageMath 9.7",
   "language": "sage",
   "name": "sagemath"
  },
  "language_info": {
   "codemirror_mode": {
    "name": "ipython",
    "version": 3
   },
   "file_extension": ".py",
   "mimetype": "text/x-python",
   "name": "python",
   "nbconvert_exporter": "python",
   "pygments_lexer": "ipython3",
   "version": "3.10.8"
  }
 },
 "nbformat": 4,
 "nbformat_minor": 4
}
