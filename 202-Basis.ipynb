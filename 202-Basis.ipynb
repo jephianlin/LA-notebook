{
 "cells": [
  {
   "cell_type": "markdown",
   "metadata": {},
   "source": [
    "# 基底\n",
    "\n",
    "Basis"
   ]
  },
  {
   "cell_type": "markdown",
   "metadata": {},
   "source": [
    "![Creative Commons License](https://i.creativecommons.org/l/by/4.0/88x31.png)  \n",
    "This work by Jephian Lin is licensed under a [Creative Commons Attribution 4.0 International License](http://creativecommons.org/licenses/by/4.0/)."
   ]
  },
  {
   "cell_type": "markdown",
   "metadata": {},
   "source": [
    "$\\newcommand{\\trans}{^\\top}\n",
    "\\newcommand{\\adj}{^{\\rm adj}}\n",
    "\\newcommand{\\cof}{^{\\rm cof}}\n",
    "\\newcommand{\\inp}[2]{\\left\\langle#1,#2\\right\\rangle}\n",
    "\\newcommand{\\dunion}{\\mathbin{\\dot\\cup}}\n",
    "\\newcommand{\\bzero}{\\mathbf{0}}\n",
    "\\newcommand{\\bone}{\\mathbf{1}}\n",
    "\\newcommand{\\ba}{\\mathbf{a}}\n",
    "\\newcommand{\\bb}{\\mathbf{b}}\n",
    "\\newcommand{\\bc}{\\mathbf{c}}\n",
    "\\newcommand{\\bd}{\\mathbf{d}}\n",
    "\\newcommand{\\be}{\\mathbf{e}}\n",
    "\\newcommand{\\bh}{\\mathbf{h}}\n",
    "\\newcommand{\\bp}{\\mathbf{p}}\n",
    "\\newcommand{\\bq}{\\mathbf{q}}\n",
    "\\newcommand{\\br}{\\mathbf{r}}\n",
    "\\newcommand{\\bx}{\\mathbf{x}}\n",
    "\\newcommand{\\by}{\\mathbf{y}}\n",
    "\\newcommand{\\bz}{\\mathbf{z}}\n",
    "\\newcommand{\\bu}{\\mathbf{u}}\n",
    "\\newcommand{\\bv}{\\mathbf{v}}\n",
    "\\newcommand{\\bw}{\\mathbf{w}}\n",
    "\\newcommand{\\tr}{\\operatorname{tr}}\n",
    "\\newcommand{\\nul}{\\operatorname{null}}\n",
    "\\newcommand{\\rank}{\\operatorname{rank}}\n",
    "%\\newcommand{\\ker}{\\operatorname{ker}}\n",
    "\\newcommand{\\range}{\\operatorname{range}}\n",
    "\\newcommand{\\Col}{\\operatorname{Col}}\n",
    "\\newcommand{\\Row}{\\operatorname{Row}}\n",
    "\\newcommand{\\spec}{\\operatorname{spec}}\n",
    "\\newcommand{\\vspan}{\\operatorname{span}}\n",
    "\\newcommand{\\Vol}{\\operatorname{Vol}}\n",
    "\\newcommand{\\sgn}{\\operatorname{sgn}}\n",
    "\\newcommand{\\idmap}{\\operatorname{id}}\n",
    "\\newcommand{\\am}{\\operatorname{am}}\n",
    "\\newcommand{\\gm}{\\operatorname{gm}}\n",
    "\\newcommand{\\mult}{\\operatorname{mult}}\n",
    "\\newcommand{\\iner}{\\operatorname{iner}}$"
   ]
  },
  {
   "cell_type": "code",
   "execution_count": null,
   "metadata": {},
   "outputs": [],
   "source": [
    "from lingeo import random_good_matrix"
   ]
  },
  {
   "cell_type": "markdown",
   "metadata": {},
   "source": [
    "## Main idea"
   ]
  },
  {
   "cell_type": "markdown",
   "metadata": {},
   "source": [
    "Let $V$ be a subspace in $\\mathbb{R}^n$ and $S$ a set of vectors.  \n",
    "The set $S$ is a **spanning set** of $V$ if $V = \\vspan(S)$.  \n",
    "The set $S$ is a **basis** of $V$ if  \n",
    "1. $S$ is a spanning set of $V$, and  \n",
    "2. $S$ is independent.  \n",
    "\n",
    "In other words, $S$ is a basis of $V$ if every vector in $V$ can be written as a linear combination of $S$ and the representation is unique.  "
   ]
  },
  {
   "cell_type": "markdown",
   "metadata": {},
   "source": [
    "Let $\\mathcal{E}_n = \\{ \\be_1, \\ldots, \\be_n \\}$ be the columns of $I_n$.  \n",
    "Then $\\beta$ is a basis of $\\mathbb{R}^n$.  \n",
    "We call $\\mathcal{E}_n$ as the **standard basis** of $\\mathbb{R}^n$.  "
   ]
  },
  {
   "cell_type": "markdown",
   "metadata": {},
   "source": [
    "Let $S$ and $T$ be two sets of vectors in $\\mathbb{R}^n$.  \n",
    "If $T\\subseteq\\vspan(S)$, then $\\vspan(T)\\subseteq\\vspan(S)$.  \n",
    "Suppose the sets $S$ and $T$ are finite.  \n",
    "Let $A_S$ and $A_T$ be the matrices whose columns are vectors in $S$ and in $T$, respectively.  \n",
    "Let $\\left[\\begin{array}{c|c} R_S & R_T \\end{array}\\right]$ be the reduced echelon form of $\\left[\\begin{array}{c|c} A_S & A_T \\end{array}\\right]$.  \n",
    "Then the following are equivalent:  \n",
    "1. $T\\subseteq\\vspan(S)$.\n",
    "2. A row in $R_T$ is zero whenever the corresponding row in $R_S$ is zero."
   ]
  },
  {
   "cell_type": "markdown",
   "metadata": {},
   "source": [
    "Let $A$ be an $m\\times n$ matrix.  \n",
    "Then the set of columns of $A$ is a basis of $\\Col(A)$ if $\\ker(A) = \\{\\bzero\\}$.  \n",
    "In particular, if $m = n$ and $A$ is invertible, then the set of columns of $A$ is a basis of $\\mathbb{R}^n$."
   ]
  },
  {
   "cell_type": "markdown",
   "metadata": {},
   "source": [
    "## Side stories\n",
    "- basis of polynomials\n",
    "- interpolation"
   ]
  },
  {
   "cell_type": "markdown",
   "metadata": {},
   "source": [
    "## Experiments"
   ]
  },
  {
   "cell_type": "markdown",
   "metadata": {},
   "source": [
    "##### Exercise 1\n",
    "\n",
    "執行下方程式碼。  \n",
    "令 $S$ 和 $T$ 為 $A_S$ 和 $A_T$ 的各行向量。  \n",
    "已知 $\\left[\\begin{array}{c|c} A_S & A_T \\end{array}\\right]$ 的最簡階梯形式矩陣為 $\\left[\\begin{array}{c|c} R_S & R_T \\end{array}\\right]$﹐  \n",
    "而 $\\left[\\begin{array}{c|c} A_T & A_S \\end{array}\\right]$ 的最簡階梯形式矩陣為 $\\left[\\begin{array}{c|c} Q_T & Q_S \\end{array}\\right]$。  \n",
    "\n",
    "<!-- eng start -->\n",
    "Run the code below.  Let $S$ and $T$ be the columns of $A_S$ and $A_T$.  Suppose $\\left[\\begin{array}{c|c} R_S & R_T \\end{array}\\right]$ is the reduced echelon form of $\\left[\\begin{array}{c|c} A_S & A_T \\end{array}\\right]$, while $\\left[\\begin{array}{c|c} Q_T & Q_S \\end{array}\\right]$ is the reduced echelon form of $\\left[\\begin{array}{c|c} A_T & A_S \\end{array}\\right]$.  \n",
    "<!-- eng end -->"
   ]
  },
  {
   "cell_type": "code",
   "execution_count": null,
   "metadata": {
    "scrolled": false
   },
   "outputs": [],
   "source": [
    "### code\n",
    "set_random_seed(0)\n",
    "print_ans = False\n",
    "m,n,r = 5,4,4\n",
    "A = random_good_matrix(m,n,r)\n",
    "ES = random_good_matrix(3,3,3)\n",
    "ET = random_good_matrix(3,3,3)\n",
    "SinT = choice([True, False])\n",
    "TinS = choice([True, False])\n",
    "if SinT and TinS:\n",
    "    AS,AT = A[:,:3],A[:,:3]\n",
    "if SinT and not TinS:\n",
    "    AS,AT = A[:,[0,1,1]],A[:,:3]\n",
    "if not SinT and TinS:\n",
    "    AS,AT = A[:,:3],A[:,[0,1,1]]\n",
    "if not SinT and not TinS:\n",
    "    AS,AT = A[:,:3],A[:,1:]\n",
    "AS = AS * ES\n",
    "AT = AT * ET\n",
    "\n",
    "ST = AS.augment(AT, subdivide=True)\n",
    "RST = ST.rref()\n",
    "TS = AT.augment(AS, subdivide=True)\n",
    "QTS = TS.rref()\n",
    "\n",
    "print(\"[ A_S | A_T ] =\")\n",
    "show(ST)\n",
    "print(\"[ R_S | R_T ] =\")\n",
    "show(RST)\n",
    "print(\"[ Q_T | Q_S ] =\")\n",
    "show(QTS)\n",
    "\n",
    "if print_ans:\n",
    "    print(\"span(S) in span(T)?\", SinT)\n",
    "    print(\"span(T) in span(S)?\", TinS)"
   ]
  },
  {
   "cell_type": "markdown",
   "metadata": {},
   "source": [
    "##### Exercise 1(a)\n",
    "\n",
    "問 $\\vspan(S)\\subseteq\\vspan(T)$？\n",
    "\n",
    "<!-- eng start -->\n",
    "Is $\\vspan(S)\\subseteq\\vspan(T)$?  \n",
    "<!-- eng end -->"
   ]
  },
  {
   "cell_type": "markdown",
   "metadata": {},
   "source": [
    "##### Exercise 1(b)\n",
    "\n",
    "問 $\\vspan(T)\\subseteq\\vspan(S)$？\n",
    "\n",
    "<!-- eng start -->\n",
    "Is $\\vspan(T)\\subseteq\\vspan(S)$?  \n",
    "<!-- eng end -->"
   ]
  },
  {
   "cell_type": "markdown",
   "metadata": {},
   "source": [
    "## Exercises"
   ]
  },
  {
   "cell_type": "markdown",
   "metadata": {},
   "source": [
    "##### Exercise 2(a)\n",
    "\n",
    "執行以下程式碼。  \n",
    "其中 $R$ 是 $A$ 的最簡階梯形式矩陣。  \n",
    "說明 $A$ 的行向量所成的集合  \n",
    "是 $A$ 的行空間的基底。  \n",
    "\n",
    "<!-- eng start -->\n",
    "Run the code below.  Suppose $R$ is the reduced echelon form of $A$.  Explain why the columns of $A$ form a basis of the column space of $A$.  \n",
    "<!-- eng end -->"
   ]
  },
  {
   "cell_type": "code",
   "execution_count": null,
   "metadata": {},
   "outputs": [],
   "source": [
    "### code\n",
    "set_random_seed(0)\n",
    "# print_ans = False\n",
    "m,n,r = 5,3,3\n",
    "A = random_good_matrix(m,n,r)\n",
    "print(\"A =\")\n",
    "show(A)\n",
    "R = A.rref()\n",
    "print(\"R =\")\n",
    "show(R)"
   ]
  },
  {
   "cell_type": "markdown",
   "metadata": {},
   "source": [
    "##### Exercise 2(b)\n",
    "\n",
    "執行以下程式碼。  \n",
    "其中 $R$ 是 $A$ 的最簡階梯形式矩陣。  \n",
    "說明 $A$ 的行向量所成的集合  \n",
    "是 $\\mathbb{R}^4$ 的基底。  \n",
    "\n",
    "<!-- eng start -->\n",
    "Run the code below.  Suppose $R$ is the reduced echelon form of $A$.  Explain why the columns of $A$ form a basis of $\\mathbb{R}^4$.  \n",
    "<!-- eng end -->"
   ]
  },
  {
   "cell_type": "code",
   "execution_count": null,
   "metadata": {},
   "outputs": [],
   "source": [
    "### code\n",
    "set_random_seed(0)\n",
    "# print_ans = False\n",
    "m,n,r = 4,4,4\n",
    "A = random_good_matrix(m,n,r)\n",
    "print(\"A =\")\n",
    "show(A)\n",
    "R = A.rref()\n",
    "print(\"R =\")\n",
    "show(R)"
   ]
  },
  {
   "cell_type": "markdown",
   "metadata": {},
   "source": [
    "##### Exercise 2(c)\n",
    "\n",
    "令  \n",
    "\n",
    "$$\n",
    "    \\beta = \\left\\{ \n",
    "    \\begin{bmatrix} 1 \\\\ -1 \\\\ 0 \\end{bmatrix}, \n",
    "    \\begin{bmatrix} 0 \\\\ 1 \\\\ -1 \\end{bmatrix}  \n",
    "    \\right\\}\n",
    "$$  \n",
    "\n",
    "且  \n",
    "\n",
    "$$\n",
    "    V = \\{ \\bx\\in\\mathbb{R}^3 : \\inp{\\bone}{\\bx} = 0 \\}.\n",
    "$$  \n",
    "\n",
    "其中 $\\bone$ 是 $\\mathbb{R}^3$ 中的全 $1$ 向量。  \n",
    "證明 $\\beta$ 是 $V$ 的一組基底。  \n",
    "\n",
    "<!-- eng start -->\n",
    "Let \n",
    "\n",
    "$$\n",
    "    \\beta = \\left\\{ \n",
    "    \\begin{bmatrix} 1 \\\\ -1 \\\\ 0 \\end{bmatrix}, \n",
    "    \\begin{bmatrix} 0 \\\\ 1 \\\\ -1 \\end{bmatrix}  \n",
    "    \\right\\}\n",
    "$$  \n",
    "\n",
    "and  \n",
    "\n",
    "$$\n",
    "    V = \\{ \\bx\\in\\mathbb{R}^3 : \\inp{\\bone}{\\bx} = 0 \\}.\n",
    "$$   \n",
    "\n",
    "Here $\\bone$ is the all-ones vector in $\\mathbb{R}^3$.  Show that $\\beta$ is a basis of $V$.  \n",
    "<!-- eng end -->"
   ]
  },
  {
   "cell_type": "markdown",
   "metadata": {},
   "source": [
    "##### Exercise 3\n",
    "\n",
    "以下的例子說明了多項式也有類似地基底的性質：  \n",
    "每一個多項式都可以被某些多項式組合出來、  \n",
    "而且「表示法唯一」。  \n",
    "\n",
    "<!-- eng start -->\n",
    "The following examples demonstrate that polynomials have the similar behavior as the basis:  Every polynomial can represented as the linear combination of some polynomials, and the representation is unique.  \n",
    "<!-- eng end -->"
   ]
  },
  {
   "cell_type": "markdown",
   "metadata": {},
   "source": [
    "##### Exercise 3(a)\n",
    "\n",
    "證明每一個二次多項式 $f(x)$ 都可以寫成 $c_0 + c_1(x-1) + c_2(x-1)^2$ 的樣子﹐  \n",
    "而且 $c_0,c_1,c_2$ 的選擇唯一。  \n",
    "\n",
    "<!-- eng start -->\n",
    "Show that every polynomial $f(x)$ of degree at most $2$ can be written as $c_0 + c_1(x-1) + c_2(x-1)^2$, and the choice of $c_0, c_1, c_2$ is unqiue.  \n",
    "<!-- eng end -->"
   ]
  },
  {
   "cell_type": "markdown",
   "metadata": {},
   "source": [
    "##### Exercise 3(b)\n",
    "\n",
    "令  \n",
    "\n",
    "$$\n",
    "    \\begin{aligned}\n",
    "    f_1(x) &= \\frac{(x-2)(x-3)}{(1-2)(1-3)}, \\\\\n",
    "    f_2(x) &= \\frac{(x-1)(x-3)}{(2-1)(2-3)}, \\\\\n",
    "    f_3(x) &= \\frac{(x-1)(x-2)}{(3-1)(3-2)}. \\\\\n",
    "    \\end{aligned}\n",
    "$$\n",
    "\n",
    "證明每一個二次多項式 $f(x)$ 都可以寫成 $c_1f_1(x) + c_2f_2(x) + c_3f_3(x)$ 的樣子﹐  \n",
    "而且 $c_1,c_2,c_3$ 的選擇唯一。  \n",
    "\n",
    "<!-- eng start -->\n",
    "Let  \n",
    "\n",
    "$$\n",
    "    \\begin{aligned}\n",
    "    f_1(x) &= \\frac{(x-2)(x-3)}{(1-2)(1-3)}, \\\\\n",
    "    f_2(x) &= \\frac{(x-1)(x-3)}{(2-1)(2-3)}, \\\\\n",
    "    f_3(x) &= \\frac{(x-1)(x-2)}{(3-1)(3-2)}. \\\\\n",
    "    \\end{aligned}\n",
    "$$\n",
    "\n",
    "Show that every polynomial $f(x)$ of degree at most $2$ can be written as $c_1f_1(x) + c_2f_2(x) + c_3f_3(x)$, and the choice of $c_1, c_2, c_3$ is unqiue.  \n",
    "<!-- eng end -->"
   ]
  },
  {
   "cell_type": "markdown",
   "metadata": {},
   "source": [
    "##### Exercise 4\n",
    "\n",
    "執行以下程式碼。  \n",
    "其中 $B$ 為 $A$ 的反矩陣。  \n",
    "令 $S = \\{\\bu_1,\\bu_2,\\bu_3\\}$ 為 $A$ 的各行向量。  \n",
    "因為 $A$ 可逆﹐所以 $S$ 為 $\\mathbb{R}^3$ 的一組基底。  \n",
    "也就是說﹐每一個 $\\mathbb{R}^3$ 中的向量都可以用 $S$ 中的向量組合出來﹐而且組合方法唯一。  \n",
    "\n",
    "<!-- eng start -->\n",
    "Run the code below.  Let $B$ be the inverse of $A$ and $S = \\{\\bu_1,\\bu_2,\\bu_3\\}$ the columns of $A$.  Since $A$ is invertible, so $S$ is a basis of $\\mathbb{R}^3$.  That is, every vector in $\\mathbb{R}^3$ can be written as a linear combination of $S$, and the representation is unique.    \n",
    "<!-- eng end -->"
   ]
  },
  {
   "cell_type": "code",
   "execution_count": null,
   "metadata": {},
   "outputs": [],
   "source": [
    "### code\n",
    "set_random_seed(0)\n",
    "A = random_good_matrix(3,3,3)\n",
    "B = A.inverse()\n",
    "print(\"A =\")\n",
    "show(A)\n",
    "print(\"B =\")\n",
    "show(B)"
   ]
  },
  {
   "cell_type": "markdown",
   "metadata": {},
   "source": [
    "##### Exercise 4(a)\n",
    "\n",
    "令 $\\be_1,\\be_2,\\be_3$ 分別為 $I_3$ 的三個行向量。  \n",
    "對每一個 $i = 1,2,3$﹐求出 $\\be_i$ 寫成 $S$ 的線性組合的表示法。  \n",
    "\n",
    "<!-- eng start -->\n",
    "Let $\\be_1, \\be_2, \\be_3$ be the columns of $I_3$.  For each $i = 1, 2, 3$, write $\\be_i$ as a linear combination of $S$.  \n",
    "<!-- eng end -->"
   ]
  },
  {
   "cell_type": "markdown",
   "metadata": {},
   "source": [
    "##### Exercise 4(b)\n",
    "\n",
    "令 $\\bb = \\begin{bmatrix} 1 \\\\ 1 \\\\ 1 \\end{bmatrix}$。  \n",
    "求出 $\\bb$ 寫成 $S$ 的線性組合的表示法。  \n",
    "\n",
    "<!-- eng start -->\n",
    "Let $\\bb = \\begin{bmatrix} 1 \\\\ 1 \\\\ 1 \\end{bmatrix}$.  Write $\\bb$ as a linear combination of $S$.  \n",
    "<!-- eng end -->"
   ]
  }
 ],
 "metadata": {
  "kernelspec": {
   "display_name": "SageMath 9.6",
   "language": "sage",
   "name": "sagemath"
  },
  "language_info": {
   "codemirror_mode": {
    "name": "ipython",
    "version": 3
   },
   "file_extension": ".py",
   "mimetype": "text/x-python",
   "name": "python",
   "nbconvert_exporter": "python",
   "pygments_lexer": "ipython3",
   "version": "3.10.5"
  }
 },
 "nbformat": 4,
 "nbformat_minor": 4
}
