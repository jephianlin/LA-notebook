{
 "cells": [
  {
   "cell_type": "markdown",
   "metadata": {},
   "source": [
    "# 基底"
   ]
  },
  {
   "cell_type": "markdown",
   "metadata": {},
   "source": [
    "![Creative Commons License](https://i.creativecommons.org/l/by/4.0/88x31.png)  \n",
    "This work by Jephian Lin is licensed under a [Creative Commons Attribution 4.0 International License](http://creativecommons.org/licenses/by/4.0/)."
   ]
  },
  {
   "cell_type": "code",
   "execution_count": null,
   "metadata": {},
   "outputs": [],
   "source": [
    "from lingeo import random_good_matrix"
   ]
  },
  {
   "cell_type": "markdown",
   "metadata": {},
   "source": [
    "## Main idea"
   ]
  },
  {
   "cell_type": "markdown",
   "metadata": {},
   "source": [
    "Let $V$ be a subspace in $\\mathbb{R}^n$ and $S$ a set of vectors.  \n",
    "The set $S$ is a **spanning set** of $V$ if $V = \\operatorname{span}(S)$.  \n",
    "The set $S$ is a **basis** of $V$ if  \n",
    "1. $S$ is a spanning set of $V$, and  \n",
    "2. $S$ is independent.  \n",
    "\n",
    "In other words, $S$ is a basis of $V$ if every vector in $V$ can be written as a linear combination of $S$ and the representation is unique.  "
   ]
  },
  {
   "cell_type": "markdown",
   "metadata": {},
   "source": [
    "Let $S$ and $T$ be two sets of vectors in $\\mathbb{R}^n$.  \n",
    "If $T\\subseteq\\operatorname{span}(S)$, then $\\operatorname{span}(T)\\subseteq\\operatorname{span}(S)$.  \n",
    "Suppose the sets $S$ and $T$ are finite.  \n",
    "Let $A_S$ and $A_T$ be the matrices whose columns are vectors in $S$ and in $T$, respectively.  \n",
    "Let $\\left[\\begin{array}{c|c} R_S & R_T \\end{array}\\right]$ be the reduced echelon form of $\\left[\\begin{array}{c|c} A_S & A_T \\end{array}\\right]$.  \n",
    "Then the following are equivalent:  \n",
    "1. $T\\subseteq\\operatorname{span}(S)$.\n",
    "2. A row in $R_T$ is zero whenever the corresponding row in $R_S$ is zero."
   ]
  },
  {
   "cell_type": "markdown",
   "metadata": {},
   "source": [
    "Let $A$ be an $m\\times n$ matrix.  \n",
    "Then the set of columns of $A$ is a basis of $\\operatorname{Col}(A)$ if $\\operatorname{ker}(A) = \\{{\\bf 0}\\}$.  \n",
    "In particular, if $m = n$ and $A$ is invertible, then the set of columns of $A$ is a basis of $\\mathbb{R}^n$."
   ]
  },
  {
   "cell_type": "markdown",
   "metadata": {},
   "source": [
    "## Side stories\n",
    "- basis of polynomials\n",
    "- interpolation"
   ]
  },
  {
   "cell_type": "markdown",
   "metadata": {},
   "source": [
    "## Experiments"
   ]
  },
  {
   "cell_type": "markdown",
   "metadata": {},
   "source": [
    "##### Exercise 1\n",
    "\n",
    "執行下方程式碼。  \n",
    "令 $S$ 和 $T$ 為 $A_S$ 和 $A_T$ 的各行向量。  \n",
    "已知 $\\left[\\begin{array}{c|c} A_S & A_T \\end{array}\\right]$ 的最簡階梯形式矩陣為 $\\left[\\begin{array}{c|c} R_S & R_T \\end{array}\\right]$﹐  \n",
    "而 $\\left[\\begin{array}{c|c} A_T & A_S \\end{array}\\right]$ 的最簡階梯形式矩陣為 $\\left[\\begin{array}{c|c} Q_T & Q_S \\end{array}\\right]$。  "
   ]
  },
  {
   "cell_type": "code",
   "execution_count": null,
   "metadata": {
    "scrolled": false
   },
   "outputs": [],
   "source": [
    "### code\n",
    "set_random_seed(0)\n",
    "print_ans = False\n",
    "m,n,r = 5,4,4\n",
    "A = random_good_matrix(m,n,r)\n",
    "ES = random_good_matrix(3,3,3)\n",
    "ET = random_good_matrix(3,3,3)\n",
    "SinT = choice([True, False])\n",
    "TinS = choice([True, False])\n",
    "if SinT and TinS:\n",
    "    AS,AT = A[:,:3],A[:,:3]\n",
    "if SinT and not TinS:\n",
    "    AS,AT = A[:,[0,1,1]],A[:,:3]\n",
    "if not SinT and TinS:\n",
    "    AS,AT = A[:,:3],A[:,[0,1,1]]\n",
    "if not SinT and not TinS:\n",
    "    AS,AT = A[:,:3],A[:,1:]\n",
    "AS = AS * ES\n",
    "AT = AT * ET\n",
    "\n",
    "ST = AS.augment(AT, subdivide=True)\n",
    "RST = ST.rref()\n",
    "TS = AT.augment(AS, subdivide=True)\n",
    "QTS = TS.rref()\n",
    "\n",
    "print(\"[ A_S | A_T ] =\")\n",
    "show(ST)\n",
    "print(\"[ R_S | R_T ] =\")\n",
    "show(RST)\n",
    "print(\"[ Q_T | Q_S ] =\")\n",
    "show(QTS)\n",
    "\n",
    "if print_ans:\n",
    "    print(\"span(S) in span(T)?\", SinT)\n",
    "    print(\"span(T) in span(S)?\", TinS)"
   ]
  },
  {
   "cell_type": "markdown",
   "metadata": {},
   "source": [
    "##### Exercise 1(a)\n",
    "\n",
    "問 $\\operatorname{span}(S)\\subseteq\\operatorname{span}(T)$？"
   ]
  },
  {
   "cell_type": "markdown",
   "metadata": {},
   "source": [
    "##### Exercise 1(b)\n",
    "\n",
    "問 $\\operatorname{span}(T)\\subseteq\\operatorname{span}(S)$？"
   ]
  },
  {
   "cell_type": "markdown",
   "metadata": {},
   "source": [
    "## Exercises"
   ]
  },
  {
   "cell_type": "markdown",
   "metadata": {},
   "source": [
    "##### Exercise 2(a)\n",
    "\n",
    "執行以下程式碼。  \n",
    "其中 $R$ 是 $A$ 的最簡階梯形式矩陣。  \n",
    "說明 $A$ 的行向量所成的集合  \n",
    "是 $A$ 的行空間的基底。  "
   ]
  },
  {
   "cell_type": "code",
   "execution_count": null,
   "metadata": {},
   "outputs": [],
   "source": [
    "### code\n",
    "set_random_seed(0)\n",
    "# print_ans = False\n",
    "m,n,r = 5,3,3\n",
    "A = random_good_matrix(m,n,r)\n",
    "print(\"A =\")\n",
    "show(A)\n",
    "R = A.rref()\n",
    "print(\"R =\")\n",
    "show(R)"
   ]
  },
  {
   "cell_type": "markdown",
   "metadata": {},
   "source": [
    "##### Exercise 2(b)\n",
    "\n",
    "執行以下程式碼。  \n",
    "其中 $R$ 是 $A$ 的最簡階梯形式矩陣。  \n",
    "說明 $A$ 的行向量所成的集合  \n",
    "是 $\\mathbb{R}^4$ 的基底。  "
   ]
  },
  {
   "cell_type": "code",
   "execution_count": null,
   "metadata": {},
   "outputs": [],
   "source": [
    "### code\n",
    "set_random_seed(0)\n",
    "# print_ans = False\n",
    "m,n,r = 4,4,4\n",
    "A = random_good_matrix(m,n,r)\n",
    "print(\"A =\")\n",
    "show(A)\n",
    "R = A.rref()\n",
    "print(\"R =\")\n",
    "show(R)"
   ]
  },
  {
   "cell_type": "markdown",
   "metadata": {},
   "source": [
    "##### Exercise 2(c)\n",
    "\n",
    "令  \n",
    "$$\\beta = \\left\\{ \n",
    "\\begin{bmatrix} 1 \\\\ -1 \\\\ 0 \\end{bmatrix}, \n",
    "\\begin{bmatrix} 0 \\\\ 1 \\\\ -1 \\end{bmatrix}  \n",
    "\\right\\}$$  \n",
    "且  \n",
    "$$V = \\{ {\\bf x}\\in\\mathbb{R}^3 : \\langle {\\bf 1,},{\\bf x}\\rangle = 0 \\}.$$  \n",
    "其中 ${\\bf 1}$ 是 $\\mathbb{R}^3$ 中的全 $1$ 向量。  \n",
    "證明 $\\beta$ 是 $V$ 的一組基底。  "
   ]
  },
  {
   "cell_type": "markdown",
   "metadata": {},
   "source": [
    "##### Exercise 3\n",
    "\n",
    "以下的例子說明了多項式也有類似地基底的性質：  \n",
    "每一個多項式都可以被某些多項式組合出來、  \n",
    "而且「表示法唯一」。  "
   ]
  },
  {
   "cell_type": "markdown",
   "metadata": {},
   "source": [
    "##### Exercise 3(a)\n",
    "\n",
    "證明每一個二次多項式 $f(x)$ 都可以寫成 $c_0 + c_1(x-1) + c_2(x-1)^2$ 的樣子﹐  \n",
    "而且 $c_0,c_1,c_2$ 的選擇唯一。  "
   ]
  },
  {
   "cell_type": "markdown",
   "metadata": {},
   "source": [
    "##### Exercise 3(b)\n",
    "\n",
    "令  \n",
    "$$\\begin{aligned}\n",
    "f_1(x) &= \\frac{(x-2)(x-3)}{(1-2)(1-3)}, \\\\\n",
    "f_2(x) &= \\frac{(x-1)(x-3)}{(2-1)(2-3)}, \\\\\n",
    "f_3(x) &= \\frac{(x-1)(x-2)}{(3-1)(3-2)}. \\\\\n",
    "\\end{aligned}$$\n",
    "證明每一個二次多項式 $f(x)$ 都可以寫成 $c_1f_1(x) + c_2f_2(x) + c_3f_3(x)$ 的樣子﹐  \n",
    "而且 $c_1,c_2,c_3$ 的選擇唯一。  "
   ]
  },
  {
   "cell_type": "markdown",
   "metadata": {},
   "source": [
    "##### Exercise 4\n",
    "\n",
    "執行以下程式碼。  \n",
    "其中 $B$ 為 $A$ 的反矩陣。  \n",
    "令 $S = \\{{\\bf u}_1,{\\bf u}_2,{\\bf u}_3\\}$ 為 $A$ 的各行向量。  \n",
    "因為 $A$ 可逆﹐所以 $S$ 為 $\\mathbb{R}^3$ 的一組基底。  \n",
    "也就是說﹐每一個 $\\mathbb{R}^3$ 中的向量都可以用 $S$ 中的向量組合出來﹐而且組合方法唯一。  "
   ]
  },
  {
   "cell_type": "code",
   "execution_count": null,
   "metadata": {},
   "outputs": [],
   "source": [
    "### code\n",
    "set_random_seed(0)\n",
    "A = random_good_matrix(3,3,3)\n",
    "B = A.inverse()\n",
    "print(\"A =\")\n",
    "show(A)\n",
    "print(\"B =\")\n",
    "show(B)"
   ]
  },
  {
   "cell_type": "markdown",
   "metadata": {},
   "source": [
    "##### Exercise 4(a)\n",
    "\n",
    "令 ${\\bf e}_1,{\\bf e}_2,{\\bf e}_3$ 分別為 $I_3$ 的三個行向量。  \n",
    "對每一個 $i = 1,2,3$﹐求出 ${\\bf e}_i$ 寫成 $S$ 的線性組合的表示法。  "
   ]
  },
  {
   "cell_type": "markdown",
   "metadata": {},
   "source": [
    "##### Exercise 4(b)\n",
    "\n",
    "令 ${\\bf b} = \\begin{bmatrix} 1 \\\\ 1 \\\\ 1 \\end{bmatrix}$。  \n",
    "求出 ${\\bf b}$ 寫成 $S$ 的線性組合的表示法。  "
   ]
  }
 ],
 "metadata": {
  "kernelspec": {
   "display_name": "SageMath 9.0",
   "language": "sage",
   "name": "sagemath"
  },
  "language_info": {
   "codemirror_mode": {
    "name": "ipython",
    "version": 3
   },
   "file_extension": ".py",
   "mimetype": "text/x-python",
   "name": "python",
   "nbconvert_exporter": "python",
   "pygments_lexer": "ipython3",
   "version": "3.8.10"
  }
 },
 "nbformat": 4,
 "nbformat_minor": 4
}
