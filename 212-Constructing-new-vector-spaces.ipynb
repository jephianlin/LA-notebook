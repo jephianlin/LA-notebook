{
 "cells": [
  {
   "cell_type": "markdown",
   "metadata": {},
   "source": [
    "# 建構新的向量空間"
   ]
  },
  {
   "cell_type": "markdown",
   "metadata": {},
   "source": [
    "![Creative Commons License](https://i.creativecommons.org/l/by/4.0/88x31.png)  \n",
    "This work by Jephian Lin is licensed under a [Creative Commons Attribution 4.0 International License](http://creativecommons.org/licenses/by/4.0/)."
   ]
  },
  {
   "cell_type": "code",
   "execution_count": null,
   "metadata": {},
   "outputs": [],
   "source": [
    "from lingeo import random_good_matrix\n",
    "from linspace import vtop, vtom"
   ]
  },
  {
   "cell_type": "markdown",
   "metadata": {},
   "source": [
    "## Main idea"
   ]
  },
  {
   "cell_type": "markdown",
   "metadata": {},
   "source": [
    "Let $S_1$ and $S_2$ be two set.  \n",
    "The **Cartesian product** of $S_1$ and $S_2$ is  \n",
    "$$S_1 \\times S_2 = \\{ (s_1,s_2) : s_1\\in S_1, s_2\\in S_2 \\}.$$  \n",
    "If $S_1$ and $S_2$ are finite sets, then $|S_1\\times S_2| = |S_1|\\times |S_2|$.  "
   ]
  },
  {
   "cell_type": "markdown",
   "metadata": {},
   "source": [
    "Let $U$ and $V$ be two vector spaces.  \n",
    "The **Cartesian product** of $U$ and $V$ is the set   \n",
    "$$U\\times V = \\{ ({\\bf u}, {\\bf v}) : {\\bf u}\\in U, {\\bf v}\\in V \\}$$  \n",
    "along with the vector addition  \n",
    "$$({\\bf u}_1, {\\bf v}_1) + ({\\bf u}_1, {\\bf v}_1) = ({\\bf u}_1 + {\\bf u}_2, {\\bf v}_1 + {\\bf v}_2)$$  \n",
    "and the scalr multiplication  \n",
    "$$k({\\bf u}, {\\bf v}) = (k{\\bf u}, k{\\bf v}).$$  \n",
    "The Cartesian product of two vector spaces is again a vector space.  \n",
    "For example, $\\mathbb{R}^2 = \\mathbb{R} \\times \\mathbb{R}$."
   ]
  },
  {
   "cell_type": "markdown",
   "metadata": {},
   "source": [
    "Suppose $\\beta_U$ and $\\beta_V$ are bases of $U$ and $W$, respectively.  \n",
    "Then  \n",
    "$$\\{ ({\\bf u}, {\\bf 0}_W) : {\\bf u}\\in U \\} \\cup \\{ ({\\bf 0}_V, {\\bf v}) : {\\bf v}\\in V \\}$$\n",
    "is a basis of $U \\times V$, where ${\\bf 0}_V$ and ${\\bf 0}_W$ are the zero vectors in $V$ and $W$, respectively.  \n",
    "Therefore, $\\dim(U \\times V) = \\dim(U) + \\dim(V)$ if both of $U$ and $V$ are finite-dimensional."
   ]
  },
  {
   "cell_type": "markdown",
   "metadata": {},
   "source": [
    "Let $U$ be a vector space and $V$ a subspace of $U$.  \n",
    "Recall that an affine subspace is of the form ${\\bf u} + V$ for some vector ${\\bf u}$.  \n",
    "Thus, the **quotient space** of $U$ by $V$ is the set of all affine subspaces  \n",
    "$$U / V = \\{ {\\bf u} +  V : {\\bf u} \\in U\\}$$  \n",
    "(here each affine subspace ${\\bf u} + V$ is treated as a vector)  \n",
    "along with the vector addition  \n",
    "$$({\\bf u}_1 + V) + ({\\bf u}_2 + V) = ({\\bf u}_1 + {\\bf u}_2) + V$$\n",
    "and the scalar multiplication  \n",
    "$$k({\\bf u} + V) = (k{\\bf u}) + V.$$  \n",
    "For example, when $V$ is the $x,y$-plane, then the structure of $\\mathbb{R}^2 / V$ is similar to $\\mathbb{R}^1$, since each $z$ value decides an affine plane."
   ]
  },
  {
   "cell_type": "markdown",
   "metadata": {},
   "source": [
    "By the expanding lemma, one may obtain a basis $\\beta_V$ of $V$ and expand it to a basis $\\beta_U$.  \n",
    "Thus,  \n",
    "$$\\{ {\\bf u} + V : {\\bf u} \\in \\beta_U \\setminus \\beta_V \\}$$\n",
    "is a basis of $U / V$.  \n",
    "(Note that $/$ is the quotient while $\\setminus$ is the setminus.)  \n",
    "Therefore, $\\dim(U / V) = \\dim(U) - \\dim(V)$ if both $U$ and $V$ are finite-dimensional."
   ]
  },
  {
   "cell_type": "markdown",
   "metadata": {},
   "source": [
    "## Side stories\n",
    "- well-defined"
   ]
  },
  {
   "cell_type": "markdown",
   "metadata": {},
   "source": [
    "## Experiments"
   ]
  },
  {
   "cell_type": "markdown",
   "metadata": {},
   "source": [
    "##### Exercise 1\n",
    "\n",
    "執行以下程式碼。  \n",
    "考慮向量空間 $\\mathbb{R}^3\\times \\mathcal{P}_1$。  "
   ]
  },
  {
   "cell_type": "code",
   "execution_count": null,
   "metadata": {
    "scrolled": true
   },
   "outputs": [],
   "source": [
    "### code\n",
    "set_random_seed(0)\n",
    "print_ans = False\n",
    "m,n,r = 3,5,choice([2,3])\n",
    "A = random_good_matrix(m,n,r)\n",
    "v1,v2,v3 = A[:,:3]\n",
    "p1,p2,p3 = [vtop(v) for v in A[:,3:]]\n",
    "\n",
    "print(\"u1 = (v1, p1) =\", (v1, p1))\n",
    "print(\"u2 = (v2, p2) =\", (v2, p2))\n",
    "print(\"u3 = (v3, p3) =\", (v3, p3))\n",
    "\n",
    "\n",
    "if print_ans:\n",
    "    print(\"u1 + u2 =\", (v1 + v2, p1 + p2))\n",
    "    print(\"Linear independent?\", r == 3)"
   ]
  },
  {
   "cell_type": "markdown",
   "metadata": {},
   "source": [
    "##### Exercise 1(a)\n",
    "\n",
    "計算 ${\\bf u}_1 + {\\bf u}_2$。  "
   ]
  },
  {
   "cell_type": "markdown",
   "metadata": {},
   "source": [
    "##### Exercise 1(b)\n",
    "\n",
    "判斷 $\\{ {\\bf u}_1, {\\bf u}_2, {\\bf u}_3 \\}$ 是否線性獨立。  "
   ]
  },
  {
   "cell_type": "markdown",
   "metadata": {},
   "source": [
    "## Exercises"
   ]
  },
  {
   "cell_type": "markdown",
   "metadata": {},
   "source": [
    "##### Exercise 2\n",
    "\n",
    "考慮 $V = \\mathbb{R}^3 \\times \\mathbb{R}^2$。  "
   ]
  },
  {
   "cell_type": "markdown",
   "metadata": {},
   "source": [
    "##### Exercise 2(a)\n",
    "\n",
    "求 $V$ 中的零向量。  "
   ]
  },
  {
   "cell_type": "markdown",
   "metadata": {},
   "source": [
    "##### Exercise 2(b)\n",
    "\n",
    "令  \n",
    "$$\\begin{aligned}\n",
    " {\\bf v}_1 &= ((1,1,1), (1,1)) \\\\\n",
    " {\\bf v}_2 &= ((0,1,1), (1,1)) \\\\\n",
    " {\\bf v}_3 &= ((0,0,1), (1,1)) \\\\\n",
    "\\end{aligned}$$  \n",
    "且 $S = \\{ {\\bf v}_1, {\\bf v}_2, {\\bf v}_3 \\}$。  \n",
    "判斷 $\\operatorname{span}(S)$ 是否可以生成全空間 $V$。  "
   ]
  },
  {
   "cell_type": "markdown",
   "metadata": {},
   "source": [
    "##### Exercise 2(c)\n",
    "\n",
    "判斷 $S$ 是否線性獨立。  "
   ]
  },
  {
   "cell_type": "markdown",
   "metadata": {},
   "source": [
    "##### Exercise 3\n",
    "\n",
    "考慮 $V = \\mathcal{P}_2 \\times \\mathcal{P}_1$。  \n",
    "令 \n",
    "$$\\begin{aligned}\n",
    " p_1 &= (x+1)(x+2), \\\\\n",
    " p_2 &= (x+1)(x^2 + x + 1). \\\\ \n",
    "\\end{aligned}$$"
   ]
  },
  {
   "cell_type": "markdown",
   "metadata": {},
   "source": [
    "##### Exercise 3(a)\n",
    "\n",
    "令 $\\operatorname{ptov}_d$ 為把 $\\mathcal{P}_d$ 中的多項式寫為 $\\mathbb{R}^{d+1}$ 中向量的函數。  \n",
    "建一個矩陣 $A$ 其行向量分別為  \n",
    "$\\operatorname{ptov}_4(p_1), \n",
    "\\operatorname{ptov}_4(xp_1), \n",
    "\\operatorname{ptov}_4(x^2p_1), \n",
    "\\operatorname{ptov}_4(p_2), \n",
    "\\operatorname{ptov}_4(xp_2)$。  \n",
    "寫出 $A$。  "
   ]
  },
  {
   "cell_type": "markdown",
   "metadata": {},
   "source": [
    "##### Exercise 3(b)\n",
    "\n",
    "驗證對任何 $a\\in\\mathcal{P}_2$ 及 $b\\in\\mathcal{P}_1$    \n",
    "$$A \\begin{bmatrix}\n",
    " \\operatorname{ptov}_2(a) \\\\\n",
    " \\operatorname{ptov}_1(b) \n",
    "\\end{bmatrix} = \n",
    "\\operatorname{ptov}_4(ap_1 + bp_2)$$  \n",
    "都成立。  "
   ]
  },
  {
   "cell_type": "markdown",
   "metadata": {},
   "source": [
    "##### Exercise 3(c)\n",
    "\n",
    "求出所有可以讓 $ap_1 + bp_2 = 0$ 的 $(a,b)\\in V$。  "
   ]
  },
  {
   "cell_type": "markdown",
   "metadata": {},
   "source": [
    "##### Exercise 4\n",
    "\n",
    "令 $U$ 為一向量空間而 $V$ 為其一子空間。  "
   ]
  },
  {
   "cell_type": "markdown",
   "metadata": {},
   "source": [
    "##### Exercise 4(a)\n",
    "\n",
    "證明以下敘述等價：  \n",
    "1. ${\\bf u}_1 + V = {\\bf u}_2 + V$.\n",
    "2. ${\\bf u}_1 - {\\bf u}_2 \\in V$.  \n",
    "\n",
    "因此另外一個定義商空間的方法是定義向量之間的關係：  \n",
    "$${\\bf u}_1 \\sim {\\bf u}_2 \\iff {\\bf u}_1 - {\\bf u}_2 \\in V.$$  \n",
    "可以證明這樣的關係是一個**等價關係**。  \n",
    "如此一來 $U / \\sim$ 和 $U / V$ 的概念是一樣的。  "
   ]
  },
  {
   "cell_type": "markdown",
   "metadata": {},
   "source": [
    "##### Exercise 4(b)\n",
    "\n",
    "我們可以不管直觀上的任何意義來定義加法：  \n",
    "$$({\\bf u}_1 + V) + ({\\bf u}_2 + V) = ({\\bf u}_1 + {\\bf u}_2) + V.$$\n",
    "然而要小心的是  \n",
    "如果 ${\\bf u}_1 + V$ 和 ${\\bf u}'_1 + V$ 一樣、  \n",
    "同時 ${\\bf u}_2 + V$ 和 ${\\bf u}'_2 + V$ 一樣﹐  \n",
    "那麼加出來的 $({\\bf u}_1 + {\\bf u}_2) + V$ 和 $({\\bf u}'_1 + {\\bf u}'_2) + V$ 也會一樣嗎？  \n",
    "符合這樣性質的定義我們稱為是**定義完善的**（well-defined）。\n",
    "\n",
    "證明商空間上定義的向量加法是定義完善的。"
   ]
  },
  {
   "cell_type": "markdown",
   "metadata": {},
   "source": [
    "##### Exercise 4(c)\n",
    "\n",
    "證明商空間上的純量乘法\n",
    "$$k({\\bf u} + V) = (k{\\bf u}) + V$$  \n",
    "是定義完善的。  "
   ]
  },
  {
   "cell_type": "markdown",
   "metadata": {},
   "source": [
    "##### Exercise 5\n",
    "\n",
    "證明笛卡爾積做出來的新結構是一個向量空間。  \n",
    "找出一組基底並證明其正確性。  "
   ]
  },
  {
   "cell_type": "markdown",
   "metadata": {},
   "source": [
    "##### Exercise 6\n",
    "\n",
    "證明商空間做出來的新結構是一個向量空間。  \n",
    "找出一組基底並證明其正確性。  "
   ]
  }
 ],
 "metadata": {
  "kernelspec": {
   "display_name": "SageMath 9.0",
   "language": "sage",
   "name": "sagemath"
  },
  "language_info": {
   "codemirror_mode": {
    "name": "ipython",
    "version": 3
   },
   "file_extension": ".py",
   "mimetype": "text/x-python",
   "name": "python",
   "nbconvert_exporter": "python",
   "pygments_lexer": "ipython3",
   "version": "3.8.10"
  }
 },
 "nbformat": 4,
 "nbformat_minor": 4
}
