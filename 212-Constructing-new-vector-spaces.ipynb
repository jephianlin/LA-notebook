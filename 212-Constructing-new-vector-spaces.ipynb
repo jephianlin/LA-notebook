{
 "cells": [
  {
   "cell_type": "markdown",
   "metadata": {},
   "source": [
    "# 建構新的向量空間\n",
    "\n",
    "Constructing new vector spaces"
   ]
  },
  {
   "cell_type": "markdown",
   "metadata": {},
   "source": [
    "![Creative Commons License](https://i.creativecommons.org/l/by/4.0/88x31.png)  \n",
    "This work by Jephian Lin is licensed under a [Creative Commons Attribution 4.0 International License](http://creativecommons.org/licenses/by/4.0/)."
   ]
  },
  {
   "cell_type": "markdown",
   "metadata": {},
   "source": [
    "$\\newcommand{\\trans}{^\\top}\n",
    "\\newcommand{\\adj}{^{\\rm adj}}\n",
    "\\newcommand{\\cof}{^{\\rm cof}}\n",
    "\\newcommand{\\inp}[2]{\\left\\langle#1,#2\\right\\rangle}\n",
    "\\newcommand{\\dunion}{\\mathbin{\\dot\\cup}}\n",
    "\\newcommand{\\bzero}{\\mathbf{0}}\n",
    "\\newcommand{\\bone}{\\mathbf{1}}\n",
    "\\newcommand{\\ba}{\\mathbf{a}}\n",
    "\\newcommand{\\bb}{\\mathbf{b}}\n",
    "\\newcommand{\\bc}{\\mathbf{c}}\n",
    "\\newcommand{\\bd}{\\mathbf{d}}\n",
    "\\newcommand{\\be}{\\mathbf{e}}\n",
    "\\newcommand{\\bh}{\\mathbf{h}}\n",
    "\\newcommand{\\bp}{\\mathbf{p}}\n",
    "\\newcommand{\\bq}{\\mathbf{q}}\n",
    "\\newcommand{\\br}{\\mathbf{r}}\n",
    "\\newcommand{\\bx}{\\mathbf{x}}\n",
    "\\newcommand{\\by}{\\mathbf{y}}\n",
    "\\newcommand{\\bz}{\\mathbf{z}}\n",
    "\\newcommand{\\bu}{\\mathbf{u}}\n",
    "\\newcommand{\\bv}{\\mathbf{v}}\n",
    "\\newcommand{\\bw}{\\mathbf{w}}\n",
    "\\newcommand{\\tr}{\\operatorname{tr}}\n",
    "\\newcommand{\\nul}{\\operatorname{null}}\n",
    "\\newcommand{\\rank}{\\operatorname{rank}}\n",
    "%\\newcommand{\\ker}{\\operatorname{ker}}\n",
    "\\newcommand{\\range}{\\operatorname{range}}\n",
    "\\newcommand{\\Col}{\\operatorname{Col}}\n",
    "\\newcommand{\\Row}{\\operatorname{Row}}\n",
    "\\newcommand{\\spec}{\\operatorname{spec}}\n",
    "\\newcommand{\\vspan}{\\operatorname{span}}\n",
    "\\newcommand{\\Vol}{\\operatorname{Vol}}\n",
    "\\newcommand{\\sgn}{\\operatorname{sgn}}\n",
    "\\newcommand{\\idmap}{\\operatorname{id}}\n",
    "\\newcommand{\\am}{\\operatorname{am}}\n",
    "\\newcommand{\\gm}{\\operatorname{gm}}\n",
    "\\newcommand{\\mult}{\\operatorname{mult}}\n",
    "\\newcommand{\\iner}{\\operatorname{iner}}$"
   ]
  },
  {
   "cell_type": "code",
   "execution_count": null,
   "metadata": {},
   "outputs": [],
   "source": [
    "from lingeo import random_good_matrix\n",
    "from linspace import vtop, vtom"
   ]
  },
  {
   "cell_type": "markdown",
   "metadata": {},
   "source": [
    "## Main idea"
   ]
  },
  {
   "cell_type": "markdown",
   "metadata": {},
   "source": [
    "Let $S_1$ and $S_2$ be two set.  \n",
    "The **Cartesian product** of $S_1$ and $S_2$ is  \n",
    "$$S_1 \\times S_2 = \\{ (s_1,s_2) : s_1\\in S_1, s_2\\in S_2 \\}.$$  \n",
    "If $S_1$ and $S_2$ are finite sets, then $|S_1\\times S_2| = |S_1|\\times |S_2|$.  "
   ]
  },
  {
   "cell_type": "markdown",
   "metadata": {},
   "source": [
    "Let $U$ and $V$ be two vector spaces.  \n",
    "The **Cartesian product** of $U$ and $V$ is the set   \n",
    "$$U\\times V = \\{ (\\bu, \\bv) : \\bu\\in U, \\bv\\in V \\}$$  \n",
    "along with the vector addition  \n",
    "$$(\\bu_1, \\bv_1) + (\\bu_1, \\bv_1) = (\\bu_1 + \\bu_2, \\bv_1 + \\bv_2)$$  \n",
    "and the scalr multiplication  \n",
    "$$k(\\bu, \\bv) = (k\\bu, k\\bv).$$  \n",
    "The Cartesian product of two vector spaces is again a vector space.  \n",
    "For example, $\\mathbb{R}^2 = \\mathbb{R} \\times \\mathbb{R}$."
   ]
  },
  {
   "cell_type": "markdown",
   "metadata": {},
   "source": [
    "Suppose $\\beta_U$ and $\\beta_V$ are bases of $U$ and $V$, respectively.  \n",
    "Then  \n",
    "$$\\{ (\\bu, \\bzero_V) : \\bu\\in \\beta_U \\} \\cup \\{ (\\bzero_U, \\bv) : \\bv\\in \\beta_V \\}$$\n",
    "is a basis of $U \\times V$, where $\\bzero_U$ and $\\bzero_V$ are the zero vectors in $U$ and $V$, respectively.  \n",
    "Therefore, $\\dim(U \\times V) = \\dim(U) + \\dim(V)$ if both of $U$ and $V$ are finite-dimensional."
   ]
  },
  {
   "cell_type": "markdown",
   "metadata": {},
   "source": [
    "Let $U$ be a vector space and $V$ a subspace of $U$.  \n",
    "Recall that an affine subspace is of the form $\\bu + V$ for some vector $\\bu$.  \n",
    "Thus, the **quotient space** of $U$ by $V$ is the set of all affine subspaces  \n",
    "$$U / V = \\{ \\bu +  V : \\bu \\in U\\}$$  \n",
    "(here each affine subspace $\\bu + V$ is treated as a vector)  \n",
    "along with the vector addition  \n",
    "$$(\\bu_1 + V) + (\\bu_2 + V) = (\\bu_1 + \\bu_2) + V$$\n",
    "and the scalar multiplication  \n",
    "$$k(\\bu + V) = (k\\bu) + V.$$  \n",
    "For example, when $V$ is the $x,y$-plane, then the structure of $\\mathbb{R}^2 / V$ is similar to $\\mathbb{R}^1$, since each $z$ value decides an affine plane."
   ]
  },
  {
   "cell_type": "markdown",
   "metadata": {},
   "source": [
    "By the expanding lemma, one may obtain a basis $\\beta_V$ of $V$ and expand it to a basis $\\beta_U$.  \n",
    "Thus,  \n",
    "$$\\{ \\bu + V : \\bu \\in \\beta_U \\setminus \\beta_V \\}$$\n",
    "is a basis of $U / V$.  \n",
    "(Note that $/$ is the quotient while $\\setminus$ is the setminus.)  \n",
    "Therefore, $\\dim(U / V) = \\dim(U) - \\dim(V)$ if both $U$ and $V$ are finite-dimensional."
   ]
  },
  {
   "cell_type": "markdown",
   "metadata": {},
   "source": [
    "## Side stories\n",
    "- well-defined"
   ]
  },
  {
   "cell_type": "markdown",
   "metadata": {},
   "source": [
    "## Experiments"
   ]
  },
  {
   "cell_type": "markdown",
   "metadata": {},
   "source": [
    "##### Exercise 1\n",
    "\n",
    "執行以下程式碼。  \n",
    "考慮向量空間 $\\mathbb{R}^3\\times \\mathcal{P}_1$。  \n",
    "\n",
    "<!-- eng start -->\n",
    "Run the code below.  Consider the vector space $\\mathbb{R}^3 \\times \\mathcal{P}_1$.  \n",
    "<!-- eng end -->"
   ]
  },
  {
   "cell_type": "code",
   "execution_count": null,
   "metadata": {
    "scrolled": true
   },
   "outputs": [],
   "source": [
    "### code\n",
    "set_random_seed(0)\n",
    "print_ans = False\n",
    "m,n,r = 3,5,choice([2,3])\n",
    "A = random_good_matrix(m,n,r)\n",
    "v1,v2,v3 = A[:,:3]\n",
    "p1,p2,p3 = [vtop(v) for v in A[:,3:]]\n",
    "\n",
    "print(\"u1 = (v1, p1) =\", (v1, p1))\n",
    "print(\"u2 = (v2, p2) =\", (v2, p2))\n",
    "print(\"u3 = (v3, p3) =\", (v3, p3))\n",
    "\n",
    "\n",
    "if print_ans:\n",
    "    print(\"u1 + u2 =\", (v1 + v2, p1 + p2))\n",
    "    print(\"Linear independent?\", r == 3)"
   ]
  },
  {
   "cell_type": "markdown",
   "metadata": {},
   "source": [
    "##### Exercise 1(a)\n",
    "\n",
    "計算 $\\bu_1 + \\bu_2$。  \n",
    "\n",
    "<!-- eng start -->\n",
    "Calculate $\\bu_1 + \\bu_2$.  \n",
    "<!-- eng end -->"
   ]
  },
  {
   "cell_type": "markdown",
   "metadata": {},
   "source": [
    "##### Exercise 1(b)\n",
    "\n",
    "判斷 $\\{ \\bu_1, \\bu_2, \\bu_3 \\}$ 是否線性獨立。  \n",
    "\n",
    "<!-- eng start -->\n",
    "Is $\\{ \\bu_1, \\bu_2, \\bu_3 \\}$ linearly independent?  \n",
    "<!-- eng end -->"
   ]
  },
  {
   "cell_type": "markdown",
   "metadata": {},
   "source": [
    "## Exercises"
   ]
  },
  {
   "cell_type": "markdown",
   "metadata": {},
   "source": [
    "##### Exercise 2\n",
    "\n",
    "考慮 $V = \\mathbb{R}^3 \\times \\mathbb{R}^2$。  \n",
    "\n",
    "<!-- eng start -->\n",
    "Consider $V = \\mathbb{R}^3 \\times \\mathbb{R}^2$.  \n",
    "<!-- eng end -->"
   ]
  },
  {
   "cell_type": "markdown",
   "metadata": {},
   "source": [
    "##### Exercise 2(a)\n",
    "\n",
    "求 $V$ 中的零向量。  \n",
    "\n",
    "<!-- eng start -->\n",
    "What is the zero vector in $V$?  \n",
    "<!-- eng end -->"
   ]
  },
  {
   "cell_type": "markdown",
   "metadata": {},
   "source": [
    "##### Exercise 2(b)\n",
    "\n",
    "令  \n",
    "\n",
    "$$\n",
    "    \\begin{aligned}\n",
    "     \\bv_1 &= ((1,1,1), (1,1)) \\\\\n",
    "     \\bv_2 &= ((0,1,1), (1,1)) \\\\\n",
    "     \\bv_3 &= ((0,0,1), (1,1)) \\\\\n",
    "    \\end{aligned}\n",
    "$$  \n",
    "\n",
    "且 $S = \\{ \\bv_1, \\bv_2, \\bv_3 \\}$。  \n",
    "判斷 $\\vspan(S)$ 是否可以生成全空間 $V$。  \n",
    "\n",
    "<!-- eng start -->\n",
    "Let  \n",
    "\n",
    "$$\n",
    "    \\begin{aligned}\n",
    "     \\bv_1 &= ((1,1,1), (1,1)) \\\\\n",
    "     \\bv_2 &= ((0,1,1), (1,1)) \\\\\n",
    "     \\bv_3 &= ((0,0,1), (1,1)) \\\\\n",
    "    \\end{aligned}\n",
    "$$  \n",
    "\n",
    "and $S = \\{ \\bv_1, \\bv_2, \\bv_3 \\}$.  Determine if $\\vspan(S)$ equal the whole space $V$.  \n",
    "<!-- eng end -->"
   ]
  },
  {
   "cell_type": "markdown",
   "metadata": {},
   "source": [
    "##### Exercise 2(c)\n",
    "\n",
    "判斷 $S$ 是否線性獨立。  \n",
    "\n",
    "<!-- eng start -->\n",
    "Is $S$ linearly independent?  \n",
    "<!-- eng end -->"
   ]
  },
  {
   "cell_type": "markdown",
   "metadata": {},
   "source": [
    "##### Exercise 3\n",
    "\n",
    "考慮 $V = \\mathcal{P}_2 \\times \\mathcal{P}_1$。  \n",
    "令 \n",
    "\n",
    "$$\n",
    "    \\begin{aligned}\n",
    "     p_1 &= (x+1)(x+2), \\\\\n",
    "     p_2 &= (x+1)(x^2 + x + 1). \\\\ \n",
    "    \\end{aligned}\n",
    "$$\n",
    "\n",
    "<!-- eng start -->\n",
    "Consider the vector space $V = \\mathcal{P}_2 \\times \\mathcal{P}_1$.  Let  \n",
    "\n",
    "$$\n",
    "    \\begin{aligned}\n",
    "     p_1 &= (x+1)(x+2), \\\\\n",
    "     p_2 &= (x+1)(x^2 + x + 1). \\\\ \n",
    "    \\end{aligned}\n",
    "$$\n",
    "<!-- eng end -->"
   ]
  },
  {
   "cell_type": "markdown",
   "metadata": {},
   "source": [
    "##### Exercise 3(a)\n",
    "\n",
    "令 $\\operatorname{ptov}_d$ 為把 $\\mathcal{P}_d$ 中的多項式寫為 $\\mathbb{R}^{d+1}$ 中向量的函數。  \n",
    "建一個矩陣 $A$ 其行向量分別為  \n",
    "$\\operatorname{ptov}_4(p_1), \n",
    "\\operatorname{ptov}_4(xp_1), \n",
    "\\operatorname{ptov}_4(x^2p_1), \n",
    "\\operatorname{ptov}_4(p_2), \n",
    "\\operatorname{ptov}_4(xp_2)$。  \n",
    "寫出 $A$。  \n",
    "\n",
    "<!-- eng start -->\n",
    "Let $\\operatorname{ptov}_d$ be the function sending a polynomial in $\\mathcal{P}_d$ to a vector in $\\mathbb{R}^{d+1}$ by recording its coefficients from lower degree to higher dergee.  Construct a matrix $A$ whose columns are $\\operatorname{ptov}_4(p_1)$, $\\operatorname{ptov}_4(xp_1)$, $\\operatorname{ptov}_4(x^2p_1)$, $\\operatorname{ptov}_4(p_2)$, and $\\operatorname{ptov}_4(xp_2)$.  Calculate $A$.  \n",
    "<!-- eng end -->"
   ]
  },
  {
   "cell_type": "markdown",
   "metadata": {},
   "source": [
    "##### Exercise 3(b)\n",
    "\n",
    "驗證對任何 $a\\in\\mathcal{P}_2$ 及 $b\\in\\mathcal{P}_1$    \n",
    "\n",
    "$$\n",
    "    A \\begin{bmatrix}\n",
    "     \\operatorname{ptov}_2(a) \\\\\n",
    "     \\operatorname{ptov}_1(b) \n",
    "    \\end{bmatrix} = \n",
    "    \\operatorname{ptov}_4(ap_1 + bp_2)\n",
    "$$  \n",
    "\n",
    "都成立。  \n",
    "\n",
    "<!-- eng start -->\n",
    "Show that  \n",
    "\n",
    "$$\n",
    "    A \\begin{bmatrix}\n",
    "     \\operatorname{ptov}_2(a) \\\\\n",
    "     \\operatorname{ptov}_1(b) \n",
    "    \\end{bmatrix} = \n",
    "    \\operatorname{ptov}_4(ap_1 + bp_2)\n",
    "$$  \n",
    "\n",
    "for any $a\\in\\mathcal{P}_2$ and $b\\in\\mathcal{P}_1$.\n",
    "<!-- eng end -->"
   ]
  },
  {
   "cell_type": "markdown",
   "metadata": {},
   "source": [
    "##### Exercise 3(c)\n",
    "\n",
    "求出所有可以讓 $ap_1 + bp_2 = 0$ 的 $(a,b)\\in V$。  \n",
    "\n",
    "<!-- eng start -->\n",
    "Find all $(a,b)\\in V$ such that $ap_1 + bp_2 = 0$.  \n",
    "<!-- eng end -->"
   ]
  },
  {
   "cell_type": "markdown",
   "metadata": {},
   "source": [
    "##### Exercise 4\n",
    "\n",
    "令 $U$ 為一向量空間而 $V$ 為其一子空間。  \n",
    "\n",
    "<!-- eng start -->\n",
    "Let $U$ be a vector space and $V$ its subspace.  \n",
    "<!-- eng end -->"
   ]
  },
  {
   "cell_type": "markdown",
   "metadata": {},
   "source": [
    "##### Exercise 4(a)\n",
    "\n",
    "證明以下敘述等價：  \n",
    "\n",
    "1. $\\bu_1 + V = \\bu_2 + V$.\n",
    "2. $\\bu_1 - \\bu_2 \\in V$.  \n",
    "\n",
    "因此另外一個定義商空間的方法是定義向量之間的關係：  \n",
    "\n",
    "$$\n",
    "    \\bu_1 \\sim \\bu_2 \\iff \\bu_1 - \\bu_2 \\in V.\n",
    "$$  \n",
    "\n",
    "可以證明這樣的關係是一個等價關係。  \n",
    "如此一來 $U / \\sim$ 和 $U / V$ 的概念是一樣的。  \n",
    "\n",
    "<!-- eng start -->\n",
    "Show that the following are equivalent:  \n",
    "\n",
    "1. $\\bu_1 + V = \\bu_2 + V$.\n",
    "2. $\\bu_1 - \\bu_2 \\in V$.  \n",
    "\n",
    "Therefore, the quotient space can be defined by the relation of vectors in $V$:\n",
    "\n",
    "$$\n",
    "    \\bu_1 \\sim \\bu_2 \\iff \\bu_1 - \\bu_2 \\in V.\n",
    "$$  \n",
    "\n",
    "One may verify that this is an equivalence relation.  Thus, $U / \\sim$ and $U / V$ are equivalent.  \n",
    "<!-- eng end -->"
   ]
  },
  {
   "cell_type": "markdown",
   "metadata": {},
   "source": [
    "##### Exercise 4(b)\n",
    "\n",
    "我們可以不管直觀上的任何意義來定義加法：  \n",
    "\n",
    "$$\n",
    "    (\\bu_1 + V) + (\\bu_2 + V) = (\\bu_1 + \\bu_2) + V.\n",
    "$$\n",
    "\n",
    "然而要小心的是  \n",
    "如果 $\\bu_1 + V$ 和 $\\bu'_1 + V$ 一樣、  \n",
    "同時 $\\bu_2 + V$ 和 $\\bu'_2 + V$ 一樣﹐  \n",
    "那麼加出來的 $(\\bu_1 + \\bu_2) + V$ 和 $(\\bu'_1 + \\bu'_2) + V$ 也會一樣嗎？  \n",
    "符合這樣性質的定義我們稱為是**定義完善的**（well-defined）。\n",
    "\n",
    "證明商空間上定義的向量加法是定義完善的。\n",
    "\n",
    "<!-- eng start -->\n",
    "We may naïvely define the addition of two elements in the quotient space:  \n",
    "\n",
    "$$\n",
    "    (\\bu_1 + V) + (\\bu_2 + V) = (\\bu_1 + \\bu_2) + V.\n",
    "$$\n",
    "\n",
    "However, we need to be careful about the potential contradiction:  Suppose $\\bu_1 + V = \\bu'_1 + V$ and $\\bu_2 + V = \\bu'_2 + V$.  Is it true that $(\\bu_1 + \\bu_2) + V = (\\bu'_1 + \\bu'_2) + V$?  If this is true, then we say our definition of the addition is **well-defined** .  \n",
    "\n",
    "Show that the addition on the elements in the quotient space is well-defined.  \n",
    "<!-- eng end -->"
   ]
  },
  {
   "cell_type": "markdown",
   "metadata": {},
   "source": [
    "##### Exercise 4(c)\n",
    "\n",
    "證明商空間上的純量乘法\n",
    "\n",
    "$$\n",
    "    k(\\bu + V) = (k\\bu) + V\n",
    "$$  \n",
    "\n",
    "是定義完善的。  \n",
    "\n",
    "<!-- eng start -->\n",
    "Show that the definition of the scalar multiplication  \n",
    "\n",
    "$$\n",
    "    k(\\bu + V) = (k\\bu) + V\n",
    "$$  \n",
    "\n",
    "is well-defined.  \n",
    "<!-- eng end -->"
   ]
  },
  {
   "cell_type": "markdown",
   "metadata": {},
   "source": [
    "##### Exercise 5\n",
    "\n",
    "證明笛卡爾積做出來的新結構是一個向量空間。  \n",
    "找出一組基底並證明其正確性。  \n",
    "\n",
    "<!-- eng start -->\n",
    "Show that the Cartesian product of two vector spaces is again a vector space.  Find a basis of the product and show that it is indeed a basis.  \n",
    "<!-- eng end -->"
   ]
  },
  {
   "cell_type": "markdown",
   "metadata": {},
   "source": [
    "##### Exercise 6\n",
    "\n",
    "證明商空間做出來的新結構是一個向量空間。  \n",
    "找出一組基底並證明其正確性。  \n",
    "\n",
    "<!-- eng start -->\n",
    "Show that the quotient space of two vector spaces is again a vector space.  Find a basis of the product and show that it is indeed a basis.  \n",
    "<!-- eng end -->"
   ]
  }
 ],
 "metadata": {
  "kernelspec": {
   "display_name": "SageMath 9.6",
   "language": "sage",
   "name": "sagemath"
  },
  "language_info": {
   "codemirror_mode": {
    "name": "ipython",
    "version": 3
   },
   "file_extension": ".py",
   "mimetype": "text/x-python",
   "name": "python",
   "nbconvert_exporter": "python",
   "pygments_lexer": "ipython3",
   "version": "3.10.6"
  }
 },
 "nbformat": 4,
 "nbformat_minor": 4
}
