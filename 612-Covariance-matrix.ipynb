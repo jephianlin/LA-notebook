{
 "cells": [
  {
   "cell_type": "markdown",
   "metadata": {},
   "source": [
    "# 共變異數矩陣"
   ]
  },
  {
   "cell_type": "markdown",
   "metadata": {},
   "source": [
    "![Creative Commons License](https://i.creativecommons.org/l/by/4.0/88x31.png)  \n",
    "This work by Jephian Lin is licensed under a [Creative Commons Attribution 4.0 International License](http://creativecommons.org/licenses/by/4.0/)."
   ]
  },
  {
   "cell_type": "markdown",
   "metadata": {},
   "source": [
    "$\\newcommand{\\trans}{^\\top}\n",
    "\\newcommand{\\adj}{^{\\rm adj}}\n",
    "\\newcommand{\\cof}{^{\\rm cof}}\n",
    "\\newcommand{\\inp}[2]{\\left\\langle#1,#2\\right\\rangle}\n",
    "\\newcommand{\\dunion}{\\mathbin{\\dot\\cup}}\n",
    "\\newcommand{\\bzero}{\\mathbf{0}}\n",
    "\\newcommand{\\bone}{\\mathbf{1}}\n",
    "\\newcommand{\\ba}{\\mathbf{a}}\n",
    "\\newcommand{\\bb}{\\mathbf{b}}\n",
    "\\newcommand{\\bc}{\\mathbf{c}}\n",
    "\\newcommand{\\bd}{\\mathbf{d}}\n",
    "\\newcommand{\\be}{\\mathbf{e}}\n",
    "\\newcommand{\\bh}{\\mathbf{h}}\n",
    "\\newcommand{\\bp}{\\mathbf{p}}\n",
    "\\newcommand{\\bq}{\\mathbf{q}}\n",
    "\\newcommand{\\br}{\\mathbf{r}}\n",
    "\\newcommand{\\bx}{\\mathbf{x}}\n",
    "\\newcommand{\\by}{\\mathbf{y}}\n",
    "\\newcommand{\\bz}{\\mathbf{z}}\n",
    "\\newcommand{\\bu}{\\mathbf{u}}\n",
    "\\newcommand{\\bv}{\\mathbf{v}}\n",
    "\\newcommand{\\bw}{\\mathbf{w}}\n",
    "\\newcommand{\\tr}{\\operatorname{tr}}\n",
    "\\newcommand{\\nul}{\\operatorname{null}}\n",
    "\\newcommand{\\rank}{\\operatorname{rank}}\n",
    "%\\newcommand{\\ker}{\\operatorname{ker}}\n",
    "\\newcommand{\\range}{\\operatorname{range}}\n",
    "\\newcommand{\\Col}{\\operatorname{Col}}\n",
    "\\newcommand{\\Row}{\\operatorname{Row}}\n",
    "\\newcommand{\\spec}{\\operatorname{spec}}\n",
    "\\newcommand{\\vspan}{\\operatorname{span}}\n",
    "\\newcommand{\\Vol}{\\operatorname{Vol}}\n",
    "\\newcommand{\\sgn}{\\operatorname{sgn}}\n",
    "\\newcommand{\\idmap}{\\operatorname{id}}\n",
    "\\newcommand{\\am}{\\operatorname{am}}\n",
    "\\newcommand{\\gm}{\\operatorname{gm}}\n",
    "\\newcommand{\\mult}{\\operatorname{mult}}\n",
    "\\newcommand{\\iner}{\\operatorname{iner}}$"
   ]
  },
  {
   "cell_type": "code",
   "execution_count": null,
   "metadata": {},
   "outputs": [],
   "source": [
    "from lingeo import random_int_list"
   ]
  },
  {
   "cell_type": "markdown",
   "metadata": {},
   "source": [
    "## Main idea"
   ]
  },
  {
   "cell_type": "markdown",
   "metadata": {},
   "source": [
    "Let $\\bx = (x_1, \\ldots, x_N)$ be a collection of $N$ numbers.  \n",
    "The **mean** of $\\bx$ is  \n",
    "\n",
    "$$\n",
    "    \\mu = \\frac{1}{n}(x_1 + \\cdots + x_N),\n",
    "$$\n",
    "\n",
    "which can also be computed by $\\frac{1}{N}\\inp{\\bx}{\\bone}$.  "
   ]
  },
  {
   "cell_type": "markdown",
   "metadata": {},
   "source": [
    "The **variance** of $\\bx$ is \n",
    "\n",
    "$$\n",
    "    \\sigma^2 = \\frac{1}{N-1}\\left[(x_1 - \\mu)^2 + \\cdots + (x_N - \\mu)^2\\right], \n",
    "$$\n",
    "\n",
    "which can also be computed by $\\frac{1}{N-1}\\inp{\\bx -\\mu\\bone}{\\bx - \\mu\\bone}$.  "
   ]
  },
  {
   "cell_type": "markdown",
   "metadata": {},
   "source": [
    "That is, one may shift the data and replace $\\bx$ with $\\bx - \\mu\\bone$.  \n",
    "Thus, the new data is centered at the origin,  \n",
    "and the variance of it is simply $\\frac{1}{N-1}\\inp{\\bx}{\\bx}$.  "
   ]
  },
  {
   "cell_type": "markdown",
   "metadata": {},
   "source": [
    "Let $\\bx = (x_1, \\ldots, x_N)$ and $\\by = (y_1, \\ldots, y_N)$ be two collections of numbers.  \n",
    "Let $\\mu_\\bx$ and $\\mu_\\by$ be the means of $\\bx$ and $\\by$, respectively.\n",
    "\n",
    "The **covariance** of $\\bx$ and $\\by$ is  \n",
    "\n",
    "$$\n",
    "    \\frac{1}{N-1}[(x_1 - \\mu_\\bx)(y_1 - \\mu_\\by) + \\cdots + (x_N - \\mu_\\bx)(y_N - \\mu_\\by)].  \n",
    "$$\n",
    "\n",
    "Similarly, the covariance can be computed by $\\frac{1}{N-1}\\inp{\\bx - \\mu_\\bx\\bone}{\\by - \\mu_\\by\\bone}$,  \n",
    "and the covariance of $\\bx$ and $\\bx$ is the variance of itself."
   ]
  },
  {
   "cell_type": "markdown",
   "metadata": {},
   "source": [
    "As mentioned in 606, data is often stored in a matrix such that each row represents a sample while each column represents a feature.  \n",
    "When $X$ is a such matrix of dimension $N\\times d$, the row vectors are called the **sameple vectors** while the columns are called the **feature vectors**.  "
   ]
  },
  {
   "cell_type": "markdown",
   "metadata": {},
   "source": [
    "One may make each feature vector centered at $0$ in a few steps.  \n",
    "\n",
    "1. Let $\\mu\\trans = \\frac{1}{N}\\bone\\trans X$ be the vector that records the mean of each feature vector.  \n",
    "2. Replace $X$ with $X - \\bone\\mu\\trans = X - \\frac{1}{N}JX = (I - \\frac{1}{N}J)X$, where $J$ is the $N\\times N$ all-ones matrix. "
   ]
  },
  {
   "cell_type": "markdown",
   "metadata": {},
   "source": [
    "Once each feature is centered at $0$, the matrix $C = \\frac{1}{N-1}X\\trans X$ is called the **covariance matrix**, whose $i,j$-entry is the covariance between the $i$-th and the $j$-th feature."
   ]
  },
  {
   "cell_type": "markdown",
   "metadata": {},
   "source": [
    "## Side stories\n",
    "\n",
    "- np.random.multivariate_normal"
   ]
  },
  {
   "cell_type": "markdown",
   "metadata": {},
   "source": [
    "## Experiments"
   ]
  },
  {
   "cell_type": "markdown",
   "metadata": {},
   "source": [
    "##### Exercise 1\n",
    "\n",
    "執行以下程式碼。  "
   ]
  },
  {
   "cell_type": "code",
   "execution_count": null,
   "metadata": {
    "scrolled": false
   },
   "outputs": [],
   "source": [
    "### code\n",
    "set_random_seed(0)\n",
    "print_ans = False\n",
    "\n",
    "n = 5\n",
    "while True:\n",
    "    X = matrix(n, random_int_list(2*n))\n",
    "    if sum(X.transpose()[0]) % n == 0 and sum(X.transpose()[1]) % n == 0:\n",
    "        break\n",
    "\n",
    "pretty_print(LatexExpr(\"X =\"), X)\n",
    "\n",
    "if print_ans:\n",
    "    mu = (1/n) * ones_matrix(1,n) * X\n",
    "    print(\"means of x and y:\", mu)\n",
    "    X_shifted = X - (1/n) * ones_matrix(n,n) * X\n",
    "    print(\"covariance matrix =\")\n",
    "    pretty_print(LatexExpr(r\"\\frac{1}{%s}\"%(n-1)), X_shifted.transpose() * X_shifted)"
   ]
  },
  {
   "cell_type": "markdown",
   "metadata": {},
   "source": [
    "##### Exercise 1(a)\n",
    "\n",
    "令 $\\bx$ 和 $\\by$ 分別為 $X$ 的兩個行向量。  \n",
    "求 $\\bx$ 的平均值和變異數、$\\by$ 的平均值和變異數、以及 $\\bx$ 和 $\\by$ 的共變異數。"
   ]
  },
  {
   "cell_type": "markdown",
   "metadata": {},
   "source": [
    "##### Exercise 1(b)\n",
    "\n",
    "將 $X$ 的各行當成資料的特徵。  \n",
    "求特徵和特徵之間的共變異數矩陣。"
   ]
  },
  {
   "cell_type": "markdown",
   "metadata": {},
   "source": [
    "## Exercises"
   ]
  },
  {
   "cell_type": "markdown",
   "metadata": {},
   "source": [
    "##### Exercise 2\n",
    "\n",
    "說明資料矩陣的共變異數矩陣必定是半正定。"
   ]
  },
  {
   "cell_type": "markdown",
   "metadata": {},
   "source": [
    "##### Exercise 3\n",
    "\n",
    "令 $\\bx$ 和 $\\by$ 為兩筆平均值為 $0$ 的資料。  \n",
    "令 $X$ 為由 $\\bx$ 和 $\\by$ 作為行向量的資料矩陣。  \n",
    "若已知 $C = \\frac{1}{N-1}X\\trans X$ 為其共變異數矩陣。  \n",
    "利用 $C$ 來求 $\\bx + \\by$ 的變異數。  "
   ]
  },
  {
   "cell_type": "markdown",
   "metadata": {},
   "source": [
    "##### Exercise 4\n",
    "\n",
    "執行以下程式碼。  \n",
    "每張圖中都代表一筆二維資料，  \n",
    "每個點的 $x$-座標組成一個特徵向量 $\\bx$，  \n",
    "而每個點的 $y$-座標組成一個特徵向量 $\\by$。"
   ]
  },
  {
   "cell_type": "code",
   "execution_count": null,
   "metadata": {},
   "outputs": [],
   "source": [
    "### code\n",
    "import numpy as np\n",
    "import matplotlib.pyplot as plt\n",
    "\n",
    "fig = plt.figure(figsize=(12,4))\n",
    "axs = fig.subplots(1, 3)\n",
    "mu  = np.array([0,0])\n",
    "covs = [np.array([[5,0],[0,1]]), \n",
    "        np.array([[1,0.9], [0.9,1]]), \n",
    "        np.array([[1,-0.9], [-0.9,1]])]\n",
    "for i in range(3):\n",
    "    axs[i].set_xlim(-5,5)\n",
    "    axs[i].set_ylim(-5,5)\n",
    "    data = np.random.multivariate_normal(mu, covs[i], (100,))\n",
    "    axs[i].scatter(*data.T)"
   ]
  },
  {
   "cell_type": "markdown",
   "metadata": {},
   "source": [
    "##### Exercise 4(a)\n",
    "\n",
    "利用圖形來判斷哪一筆資料中的 $\\bx$ 的變異數最大。"
   ]
  },
  {
   "cell_type": "markdown",
   "metadata": {},
   "source": [
    "##### Exercise 4(b)\n",
    "\n",
    "判斷每張圖中 $\\bx$ 和 $\\by$ 的共變異數為正、負、或是零。"
   ]
  },
  {
   "cell_type": "markdown",
   "metadata": {},
   "source": [
    "##### Exercise 5\n",
    "\n",
    "查找資料並解釋 `np.random.multivariate_normal` 的用法。"
   ]
  },
  {
   "cell_type": "markdown",
   "metadata": {},
   "source": [
    "##### Exercise 6\n",
    "\n",
    "令 $\\bx$ 和 $\\by$ 為兩筆長度為 $N$ 的資料、  \n",
    "而 $\\mu_\\bx$ 和 $\\mu_\\by$ 分別為它們的平均數。  \n",
    "以下探討計算共變異數、變異數不同計算方法。"
   ]
  },
  {
   "cell_type": "markdown",
   "metadata": {},
   "source": [
    "##### Exercise 6(a)\n",
    "\n",
    "證明 $\\bx$ 和 $\\by$ 的共變異數也可寫成  \n",
    "\n",
    "$$\n",
    "    \\frac{1}{N-1}(\\inp{\\bx}{\\by} - N\\mu_\\bx\\mu_\\by).\n",
    "$$"
   ]
  },
  {
   "cell_type": "markdown",
   "metadata": {},
   "source": [
    "##### Exercise 6(a)\n",
    "\n",
    "證明 $\\bx$ 的變異數也可寫成  \n",
    "\n",
    "$$\n",
    "    \\frac{1}{N-1}(\\|\\bx\\|^2 - N\\mu_\\bx^2).\n",
    "$$"
   ]
  }
 ],
 "metadata": {
  "kernelspec": {
   "display_name": "SageMath 9.7",
   "language": "sage",
   "name": "sagemath"
  },
  "language_info": {
   "codemirror_mode": {
    "name": "ipython",
    "version": 3
   },
   "file_extension": ".py",
   "mimetype": "text/x-python",
   "name": "python",
   "nbconvert_exporter": "python",
   "pygments_lexer": "ipython3",
   "version": "3.10.8"
  }
 },
 "nbformat": 4,
 "nbformat_minor": 4
}
