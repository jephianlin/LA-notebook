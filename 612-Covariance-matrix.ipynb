{
 "cells": [
  {
   "cell_type": "markdown",
   "metadata": {},
   "source": [
    "# 共變異數矩陣"
   ]
  },
  {
   "cell_type": "markdown",
   "metadata": {},
   "source": [
    "![Creative Commons License](https://i.creativecommons.org/l/by/4.0/88x31.png)  \n",
    "This work by Jephian Lin is licensed under a [Creative Commons Attribution 4.0 International License](http://creativecommons.org/licenses/by/4.0/)."
   ]
  },
  {
   "cell_type": "markdown",
   "metadata": {},
   "source": [
    "$\\newcommand{\\trans}{^\\top}\n",
    "\\newcommand{\\adj}{^{\\rm adj}}\n",
    "\\newcommand{\\cof}{^{\\rm cof}}\n",
    "\\newcommand{\\inp}[2]{\\left\\langle#1,#2\\right\\rangle}\n",
    "\\newcommand{\\dunion}{\\mathbin{\\dot\\cup}}\n",
    "\\newcommand{\\bzero}{\\mathbf{0}}\n",
    "\\newcommand{\\bone}{\\mathbf{1}}\n",
    "\\newcommand{\\ba}{\\mathbf{a}}\n",
    "\\newcommand{\\bb}{\\mathbf{b}}\n",
    "\\newcommand{\\bc}{\\mathbf{c}}\n",
    "\\newcommand{\\bd}{\\mathbf{d}}\n",
    "\\newcommand{\\be}{\\mathbf{e}}\n",
    "\\newcommand{\\bh}{\\mathbf{h}}\n",
    "\\newcommand{\\bp}{\\mathbf{p}}\n",
    "\\newcommand{\\bq}{\\mathbf{q}}\n",
    "\\newcommand{\\br}{\\mathbf{r}}\n",
    "\\newcommand{\\bx}{\\mathbf{x}}\n",
    "\\newcommand{\\by}{\\mathbf{y}}\n",
    "\\newcommand{\\bz}{\\mathbf{z}}\n",
    "\\newcommand{\\bu}{\\mathbf{u}}\n",
    "\\newcommand{\\bv}{\\mathbf{v}}\n",
    "\\newcommand{\\bw}{\\mathbf{w}}\n",
    "\\newcommand{\\tr}{\\operatorname{tr}}\n",
    "\\newcommand{\\nul}{\\operatorname{null}}\n",
    "\\newcommand{\\rank}{\\operatorname{rank}}\n",
    "%\\newcommand{\\ker}{\\operatorname{ker}}\n",
    "\\newcommand{\\range}{\\operatorname{range}}\n",
    "\\newcommand{\\Col}{\\operatorname{Col}}\n",
    "\\newcommand{\\Row}{\\operatorname{Row}}\n",
    "\\newcommand{\\spec}{\\operatorname{spec}}\n",
    "\\newcommand{\\vspan}{\\operatorname{span}}\n",
    "\\newcommand{\\Vol}{\\operatorname{Vol}}\n",
    "\\newcommand{\\sgn}{\\operatorname{sgn}}\n",
    "\\newcommand{\\idmap}{\\operatorname{id}}\n",
    "\\newcommand{\\am}{\\operatorname{am}}\n",
    "\\newcommand{\\gm}{\\operatorname{gm}}\n",
    "\\newcommand{\\mult}{\\operatorname{mult}}\n",
    "\\newcommand{\\iner}{\\operatorname{iner}}$"
   ]
  },
  {
   "cell_type": "code",
   "execution_count": null,
   "metadata": {},
   "outputs": [],
   "source": [
    "# from lingeo import random_int_list"
   ]
  },
  {
   "cell_type": "markdown",
   "metadata": {},
   "source": [
    "## Main idea"
   ]
  },
  {
   "cell_type": "markdown",
   "metadata": {},
   "source": [
    "Let $\\bx = (x_1, \\ldots, x_N)$ be a collection of $N$ numbers.  \n",
    "The **mean** of $\\bx$ is  \n",
    "\n",
    "$$\n",
    "    \\mu = \\frac{1}{n}(x_1 + \\cdots + x_N),\n",
    "$$\n",
    "\n",
    "which can also be computed by $\\frac{1}{N}\\inp{\\bx}{\\bone}$.  "
   ]
  },
  {
   "cell_type": "markdown",
   "metadata": {},
   "source": [
    "The **variance** of $\\bx$ is \n",
    "\n",
    "$$\n",
    "    \\sigma^2 = \\frac{1}{N-1}\\left[(x_1 - \\mu)^2 + \\cdots + (x_N - \\mu)^2\\right], \n",
    "$$\n",
    "\n",
    "which can also be computed by $\\frac{1}{N-1}\\inp{\\bx -\\mu\\bone}{\\bx - \\mu\\bone}$.  "
   ]
  },
  {
   "cell_type": "markdown",
   "metadata": {},
   "source": [
    "That is, one may shift the data and replace $\\bx$ with $\\bx - \\mu\\bone$.  \n",
    "Thus, the new data is centered at the origin,  \n",
    "and the variance of it is simply $\\frac{1}{N-1}\\inp{\\bx}{\\bx}$.  "
   ]
  },
  {
   "cell_type": "markdown",
   "metadata": {},
   "source": [
    "Let $\\bx = (x_1, \\ldots, x_N)$ and $\\by = (y_1, \\ldots, y_N)$ be two collections of numbers.  \n",
    "Let $\\mu_\\bx$ and $\\mu_\\by$ be the means of $\\bx$ and $\\by$, respectively.\n",
    "\n",
    "The **covariance** of $\\bx$ and $\\by$ is  \n",
    "\n",
    "$$\n",
    "    \\frac{1}{N-1}[(x_1 - \\mu_\\bx)(y_1 - \\mu_\\by) + \\cdots + (x_N - \\mu_\\bx)(y_N - \\mu_\\by)].  \n",
    "$$\n",
    "\n",
    "Similarly, the covariance can be computed by $\\frac{1}{N-1}\\inp{\\bx - \\mu_\\bx\\bone}{\\by - \\mu_\\by\\bone}$,  \n",
    "and the covariance of $\\bx$ and $\\bx$ is the variance of itself."
   ]
  },
  {
   "cell_type": "markdown",
   "metadata": {},
   "source": [
    "## Side stories\n",
    "\n",
    "- remaining eigenvalues"
   ]
  },
  {
   "cell_type": "markdown",
   "metadata": {},
   "source": [
    "## Experiments"
   ]
  },
  {
   "cell_type": "markdown",
   "metadata": {},
   "source": [
    "##### Exercise 1\n",
    "\n",
    "執行以下程式碼。  "
   ]
  },
  {
   "cell_type": "code",
   "execution_count": null,
   "metadata": {
    "scrolled": false
   },
   "outputs": [],
   "source": [
    "### code\n",
    "set_random_seed(0)\n",
    "print_ans = None\n",
    "\n",
    "A = zero_matrix(5,5)\n",
    "quo = random_int_list(3,2)\n",
    "A[:3,:3] = graphs.CompleteGraph(3).laplacian_matrix() + quo[0] * identity_matrix(3)\n",
    "A[3:,3:] = graphs.CompleteGraph(2).laplacian_matrix() + quo[2] * identity_matrix(2)\n",
    "A[:3,3:] = quo[1] * ones_matrix(3,2)\n",
    "A[3:,:3] = A[:3,3:].transpose()\n",
    "\n",
    "pretty_print(LatexExpr(\"A =\"), A)\n",
    "\n",
    "if print_ans:\n",
    "    par = [[0,1,2],[3,4]]\n",
    "    print(\"an equitable partition can be\", par)\n",
    "    k = len(par)\n",
    "    C = zero_matrix(k,k)\n",
    "    for i in range(k):\n",
    "        for j in range(k):\n",
    "            C[i,j] = sum(A[par[i], par[j]][0])\n",
    "    print(\"quotient matrix =\")\n",
    "    show(C)"
   ]
  },
  {
   "cell_type": "markdown",
   "metadata": {},
   "source": [
    "##### Exercise 1(a)\n",
    "\n",
    "找出一個 $A$ 的等量分割。"
   ]
  },
  {
   "cell_type": "markdown",
   "metadata": {},
   "source": [
    "##### Exercise 1(b)\n",
    "\n",
    "求出這個等量分割的商矩陣、及其所有特徵值。"
   ]
  },
  {
   "cell_type": "markdown",
   "metadata": {},
   "source": [
    "## Exercises"
   ]
  },
  {
   "cell_type": "markdown",
   "metadata": {},
   "source": [
    "##### Exercise 2\n",
    "\n",
    "求以下特定形態矩陣的特徵值。"
   ]
  },
  {
   "cell_type": "markdown",
   "metadata": {},
   "source": [
    "##### Exercise 2(a)\n",
    "\n",
    "已知  \n",
    "\n",
    "$$\n",
    "    A = \\begin{bmatrix}\n",
    "     0 & 0 & 1 & 1 & 1 \\\\\n",
    "     0 & 0 & 1 & 1 & 1 \\\\\n",
    "     1 & 1 & 0 & 0 & 0 \\\\\n",
    "     1 & 1 & 0 & 0 & 0 \\\\\n",
    "     1 & 1 & 0 & 0 & 0 \\\\\n",
    "    \\end{bmatrix}\n",
    "$$\n",
    "\n",
    "有特徵值 $0$ 且其重數為 $3$。  \n",
    "利用等量分割的方法來找出最後兩個特徵值。"
   ]
  },
  {
   "cell_type": "markdown",
   "metadata": {},
   "source": [
    "##### Exercise 2(b)\n",
    "\n",
    "求\n",
    "\n",
    "$$\n",
    "    A = \\begin{bmatrix}\n",
    "     O_{m,m} & J_{m,n} \\\\\n",
    "     J_{n,m} & O_{n,n}\n",
    "    \\end{bmatrix}\n",
    "$$\n",
    "\n",
    "的所有特徵值。  \n",
    "這裡 $O$ 和 $J$ 分別是相對應大小的全零和全一矩陣。"
   ]
  },
  {
   "cell_type": "markdown",
   "metadata": {},
   "source": [
    "##### Exercise 3\n",
    "\n",
    "求  \n",
    "\n",
    "$$\n",
    "    A = \\begin{bmatrix}\n",
    "     0 & 0 & 1 & 1 & 1 & 1 \\\\\n",
    "     0 & 0 & 1 & 1 & 1 & 1 \\\\\n",
    "     1 & 1 & 0 & 0 & 1 & 1 \\\\\n",
    "     1 & 1 & 0 & 0 & 1 & 1 \\\\\n",
    "     1 & 1 & 1 & 1 & 0 & 0 \\\\\n",
    "     1 & 1 & 1 & 1 & 0 & 0\n",
    "    \\end{bmatrix}\n",
    "$$\n",
    "\n",
    "的所有特徵值。"
   ]
  },
  {
   "cell_type": "markdown",
   "metadata": {},
   "source": [
    "##### Exercise 4\n",
    "\n",
    "令  \n",
    "\n",
    "$$\n",
    "    A = \\begin{bmatrix}\n",
    "     3 & -1 & -1 & -1 \\\\\n",
    "     -1 & 1 & 0 & 0 \\\\\n",
    "     -1 & 0 & 1 & 0 \\\\\n",
    "     -1 & 0 & 0 & 1 \\\\\n",
    "    \\end{bmatrix}.\n",
    "$$\n",
    "\n",
    "當 $X_1 = \\{1\\}$、$X_2 = \\{2,3,4\\}$ 時，$\\pi = (X_1,X_2)$ 為 $A$ 的一個等量分割。\n",
    "\n",
    "以下練習說明可以利用商矩陣的特徵向量回推原矩陣的特徵向量。"
   ]
  },
  {
   "cell_type": "markdown",
   "metadata": {},
   "source": [
    "##### Exercise 4(a)\n",
    "\n",
    "將 $A\\phi_{X_1}$ 和 $A\\phi_{X_2}$ 分別寫成 $\\beta = \\{\\phi_{X_1}, \\phi_{X_2}\\}$ 的線性組合。  \n",
    "令 $V = \\vspan(\\beta)$。  \n",
    "求出 $[f_A\\big|_V]_\\beta^\\beta$。"
   ]
  },
  {
   "cell_type": "markdown",
   "metadata": {},
   "source": [
    "##### Exercise 4(b)\n",
    "\n",
    "計算 $A/\\pi$ 並和上一題的結果作比較。"
   ]
  },
  {
   "cell_type": "markdown",
   "metadata": {},
   "source": [
    "##### Exercise 4(c)\n",
    "\n",
    "計算 $A/\\pi$ 的所有特徵值及特徵向量。"
   ]
  },
  {
   "cell_type": "markdown",
   "metadata": {},
   "source": [
    "##### Exercise 4(d)\n",
    "\n",
    "若  \n",
    "\n",
    "$$\n",
    "    \\bu = \\begin{bmatrix} a \\\\ b \\end{bmatrix}\n",
    "$$\n",
    "\n",
    "為 $A/\\pi$ 的一特徵向量、且其特徵值為 $\\lambda$。  \n",
    "驗證 $a\\phi_{X_1} + b\\phi_{X_2}$ 為 $A$ 的特徵向量、且其特徵值也是 $\\lambda$。  \n",
    "說明為什麼。"
   ]
  },
  {
   "cell_type": "markdown",
   "metadata": {},
   "source": [
    "##### Exercise 5\n",
    "\n",
    "令  \n",
    "$$\n",
    "    A = \\begin{bmatrix}\n",
    "     nI_m & -J_{m,n} \\\\\n",
    "     -J_{n,m} & mI_n\n",
    "    \\end{bmatrix}.\n",
    "$$\n",
    "\n",
    "求 $A$ 的所有特徵值和特徵向量。"
   ]
  },
  {
   "cell_type": "markdown",
   "metadata": {},
   "source": [
    "##### Exercise 6\n",
    "\n",
    "令 $A$ 為一 $n\\times n$ 方陣、而 $\\pi = (X_1,\\ldots,X_k)$ 為一等量分割。  \n",
    "令 $\\beta = \\left\\{\\frac{1}{\\|\\phi_{X_1}\\|}\\phi_{X_1}, \\ldots, \\frac{1}{\\|\\phi_{X_k}\\|}\\phi_{X_k}\\right\\}$ 為 $\\vspan(\\beta)$ 的垂直標準基底。  \n",
    "將 $\\beta$ 擴充成一組 $\\mathbb{R}^n$ 的垂直標準基底 $\\alpha = \\beta\\cup\\gamma$。  \n",
    "\n",
    "說明 $[f_A]_\\alpha^\\alpha$ 可寫成  \n",
    "\n",
    "$$\n",
    "    \\begin{bmatrix}\n",
    "     A_1 & O \\\\\n",
    "     O & A_2\n",
    "    \\end{bmatrix}\n",
    "$$\n",
    "\n",
    "的形式，其中 $A_1 = A/\\pi$。  \n",
    "因此所有等量分割沒找出來的特徵值都落在 $A_2$ 裡。"
   ]
  }
 ],
 "metadata": {
  "kernelspec": {
   "display_name": "SageMath 9.5",
   "language": "sage",
   "name": "sagemath"
  },
  "language_info": {
   "codemirror_mode": {
    "name": "ipython",
    "version": 3
   },
   "file_extension": ".py",
   "mimetype": "text/x-python",
   "name": "python",
   "nbconvert_exporter": "python",
   "pygments_lexer": "ipython3",
   "version": "3.10.2"
  }
 },
 "nbformat": 4,
 "nbformat_minor": 4
}
