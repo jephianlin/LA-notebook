{
 "cells": [
  {
   "cell_type": "markdown",
   "metadata": {},
   "source": [
    "# 圖與特徵方程式"
   ]
  },
  {
   "cell_type": "markdown",
   "metadata": {},
   "source": [
    "![Creative Commons License](https://i.creativecommons.org/l/by/4.0/88x31.png)  \n",
    "This work by Jephian Lin is licensed under a [Creative Commons Attribution 4.0 International License](http://creativecommons.org/licenses/by/4.0/)."
   ]
  },
  {
   "cell_type": "markdown",
   "metadata": {},
   "source": [
    "$\\newcommand{\\trans}{^\\top}\n",
    "\\newcommand{\\adj}{^{\\rm adj}}\n",
    "\\newcommand{\\cof}{^{\\rm cof}}\n",
    "\\newcommand{\\inp}[2]{\\left\\langle#1,#2\\right\\rangle}\n",
    "\\newcommand{\\dunion}{\\mathbin{\\dot\\cup}}\n",
    "\\newcommand{\\bzero}{\\mathbf{0}}\n",
    "\\newcommand{\\bone}{\\mathbf{1}}\n",
    "\\newcommand{\\ba}{\\mathbf{a}}\n",
    "\\newcommand{\\bb}{\\mathbf{b}}\n",
    "\\newcommand{\\bc}{\\mathbf{c}}\n",
    "\\newcommand{\\bd}{\\mathbf{d}}\n",
    "\\newcommand{\\be}{\\mathbf{e}}\n",
    "\\newcommand{\\bh}{\\mathbf{h}}\n",
    "\\newcommand{\\bp}{\\mathbf{p}}\n",
    "\\newcommand{\\bq}{\\mathbf{q}}\n",
    "\\newcommand{\\br}{\\mathbf{r}}\n",
    "\\newcommand{\\bx}{\\mathbf{x}}\n",
    "\\newcommand{\\by}{\\mathbf{y}}\n",
    "\\newcommand{\\bz}{\\mathbf{z}}\n",
    "\\newcommand{\\bu}{\\mathbf{u}}\n",
    "\\newcommand{\\bv}{\\mathbf{v}}\n",
    "\\newcommand{\\bw}{\\mathbf{w}}\n",
    "\\newcommand{\\tr}{\\operatorname{tr}}\n",
    "\\newcommand{\\nul}{\\operatorname{null}}\n",
    "\\newcommand{\\rank}{\\operatorname{rank}}\n",
    "%\\newcommand{\\ker}{\\operatorname{ker}}\n",
    "\\newcommand{\\range}{\\operatorname{range}}\n",
    "\\newcommand{\\Col}{\\operatorname{Col}}\n",
    "\\newcommand{\\Row}{\\operatorname{Row}}\n",
    "\\newcommand{\\spec}{\\operatorname{spec}}\n",
    "\\newcommand{\\vspan}{\\operatorname{span}}\n",
    "\\newcommand{\\Vol}{\\operatorname{Vol}}\n",
    "\\newcommand{\\sgn}{\\operatorname{sgn}}\n",
    "\\newcommand{\\idmap}{\\operatorname{id}}\n",
    "\\newcommand{\\am}{\\operatorname{am}}\n",
    "\\newcommand{\\gm}{\\operatorname{gm}}$"
   ]
  },
  {
   "cell_type": "code",
   "execution_count": null,
   "metadata": {},
   "outputs": [],
   "source": [
    "from lingeo import random_int_list\n",
    "from gnm import matrix_digraph, illustrate_sk"
   ]
  },
  {
   "cell_type": "markdown",
   "metadata": {},
   "source": [
    "## Main idea"
   ]
  },
  {
   "cell_type": "markdown",
   "metadata": {},
   "source": [
    "Let $A$ be an $n\\times n$ matrix.  \n",
    "From 507, we know that  \n",
    "$$\n",
    "     \\det(A - xI) = s_0(-x)^n + s_1(-x)^{n-1} + \\cdots + s_n.\n",
    "$$\n",
    "with \n",
    "$$\n",
    "    s_k = \\sum_{\\substack{\\alpha\\subseteq[n] \\\\ |\\alpha| = k}} \\det A[\\alpha].\n",
    "$$"
   ]
  },
  {
   "cell_type": "markdown",
   "metadata": {},
   "source": [
    "We also know that the determinants can be calculated through graph theory in 414.  \n",
    "In this section, we will see how $s_k$ can be found through the digraph of $A$.  "
   ]
  },
  {
   "cell_type": "markdown",
   "metadata": {},
   "source": [
    "Let $\\Gamma$ be the weighted digraph of $A$ and $\\alpha\\subseteq [n]$ a subset of vertices.  \n",
    "An **elementary subgraph on $\\alpha$** of $\\Gamma$ is a subgraph $H$ of $\\Gamma$ such that  \n",
    "\n",
    "- $V(H) = \\alpha$, \n",
    "- $E(H) \\subseteq E(\\Gamma)$, and \n",
    "- every vertex of $H$ has exactly one directed edge leaving it and exactly one directed edge arriving it.  \n",
    "\n",
    "The set of all elementary subgraphs on $\\alpha$ of $\\Gamma$ is denoted by $\\mathfrak{E}_\\alpha(\\Gamma)$.  "
   ]
  },
  {
   "cell_type": "markdown",
   "metadata": {},
   "source": [
    "Every elementary subgraph on $\\alpha$ must be composed of some cycles.  \n",
    "Let $c(H)$ be the number of cycles, including loops, doubly directed edges, and cycles of length at least $3$.  \n",
    "The **sign** of $H$ is defined as $\\sgn(H) = (-1)^{|\\alpha| + c(H)}$.  \n",
    "The **weight** of $H$ is defined as the product of the weights of every edges of $H$.  \n",
    "\n",
    "We vacuously define the graph $H$ with no edge and no vertex as the only elementary subgraph on $\\emptyset$.  \n",
    "Its sign is $1$ and its weight is $1$.  "
   ]
  },
  {
   "cell_type": "markdown",
   "metadata": {},
   "source": [
    "Thus, we have \n",
    "$$\n",
    "    \\det A[\\alpha] = \\sum_{H\\in\\mathfrak{E}_\\alpha(\\Gamma)} \\sgn(H) w(H).\n",
    "$$"
   ]
  },
  {
   "cell_type": "markdown",
   "metadata": {},
   "source": [
    "Moreover, let $\\mathfrak{E}_k(\\Gamma)$ be the set of all elementary subgraphs on $\\alpha$ of $\\Gamma$ with $|\\alpha| = k$.  \n",
    "Then  \n",
    "$$\n",
    "    s_k = \\sum_{\\substack{\\alpha\\subseteq[n] \\\\ |\\alpha| = k}} \\det A[\\alpha] = \\sum_{H\\in\\mathfrak{E}_k(\\Gamma)} \\sgn(H) w(H).\n",
    "$$"
   ]
  },
  {
   "cell_type": "markdown",
   "metadata": {},
   "source": [
    "## Side stories\n",
    "\n",
    "- companion matrix"
   ]
  },
  {
   "cell_type": "markdown",
   "metadata": {},
   "source": [
    "## Experiments"
   ]
  },
  {
   "cell_type": "markdown",
   "metadata": {},
   "source": [
    "##### Exercise 1\n",
    "\n",
    "執行以下程式碼。  "
   ]
  },
  {
   "cell_type": "code",
   "execution_count": null,
   "metadata": {
    "scrolled": false
   },
   "outputs": [],
   "source": [
    "### code\n",
    "set_random_seed(0)\n",
    "print_ans = False\n",
    "\n",
    "n = 3\n",
    "b = 3\n",
    "l = random_int_list(n^2 - b, 3) + [0]*b\n",
    "shuffle(l)\n",
    "A = matrix(n, l)\n",
    "\n",
    "pretty_print(LatexExpr(\"A =\"), A)\n",
    "\n",
    "if print_ans:\n",
    "    Gamma = matrix_digraph(A)\n",
    "    Gamma.show(edge_labels=True)\n",
    "    for k in range(1,n+1):\n",
    "        print(\"k =\", k)\n",
    "        illustrate_sk(A, k)\n",
    "    print(\"characteristic polynomial =\", (-1)^n * A.charpoly())"
   ]
  },
  {
   "cell_type": "markdown",
   "metadata": {},
   "source": [
    "##### Exercise 1(a)\n",
    "\n",
    "畫出 $\\Gamma(A)$ 並標上每條邊的權重。"
   ]
  },
  {
   "cell_type": "markdown",
   "metadata": {},
   "source": [
    "##### Exercise 1(b)\n",
    "\n",
    "對於所有 $k = 1,2,3$，求出所有 $k$ 點的基本子圖，計算其正負號以及權重。"
   ]
  },
  {
   "cell_type": "markdown",
   "metadata": {},
   "source": [
    "##### Exercise 1(c)\n",
    "\n",
    "計算 $A$ 的特徵多項式。"
   ]
  },
  {
   "cell_type": "markdown",
   "metadata": {},
   "source": [
    "## Exercises"
   ]
  },
  {
   "cell_type": "markdown",
   "metadata": {},
   "source": [
    "##### Exercise 2\n",
    "\n",
    "令  \n",
    "$$\n",
    "    A = \\begin{bmatrix}\n",
    "    0 & 1 & 0 & 0 & 0 \\\\\n",
    "    0 & 0 & 1 & 0 & 0 \\\\\n",
    "    0 & 0 & 0 & 1 & 0 \\\\\n",
    "    0 & 0 & 0 & 0 & 1 \\\\\n",
    "    1 & 0 & 0 & 0 & 0\n",
    "    \\end{bmatrix}\n",
    "$$\n",
    "且 $\\Gamma$ 為其賦權有向圖。  \n",
    "說明 $\\mathfrak{E}_k(\\Gamma)$ 在 $k = 0,\\ldots, 4$ 的時候都是空集合，  \n",
    "而 $\\mathfrak{E}_5(\\Gamma)$ 只有一個基本子圖。  \n",
    "計算 $A$ 的特徵多項式。"
   ]
  },
  {
   "cell_type": "markdown",
   "metadata": {},
   "source": [
    "##### Exercise 3\n",
    "\n",
    "令  \n",
    "$$\n",
    "    A = \\begin{bmatrix}\n",
    "    0 & 0 & 0 & 0 & -a_5 \\\\\n",
    "    1 & 0 & 0 & 0 & -a_4 \\\\\n",
    "    0 & 1 & 0 & 0 & -a_3 \\\\\n",
    "    0 & 0 & 1 & 0 & -a_2 \\\\\n",
    "    0 & 0 & 0 & 1 & -a_1\n",
    "    \\end{bmatrix}\n",
    "$$\n",
    "且 $\\Gamma$ 為其賦權有向圖。  \n",
    "說明 $\\mathfrak{E}_k(\\Gamma)$ 在 $k = 0,\\ldots, 5$ 的時候都恰只有一個基本子圖。  \n",
    "計算 $A$ 的特徵多項式。"
   ]
  },
  {
   "cell_type": "markdown",
   "metadata": {},
   "source": [
    "##### Exercise 4\n",
    "\n",
    "令  \n",
    "$$\n",
    "    A = \\begin{bmatrix}\n",
    "    0 & 1 & 0 & 0 & 0 & 0 & 0 & 0 \\\\\n",
    "    1 & 0 & 1 & 0 & 0 & 0 & 0 & 0 \\\\\n",
    "    0 & 1 & 0 & 1 & 0 & 0 & 0 & 0 \\\\\n",
    "    0 & 0 & 1 & 0 & 1 & 0 & 0 & 0 \\\\\n",
    "    0 & 0 & 0 & 1 & 0 & 1 & 0 & 0 \\\\\n",
    "    0 & 0 & 0 & 0 & 1 & 0 & 1 & 0 \\\\\n",
    "    0 & 0 & 0 & 0 & 0 & 1 & 0 & 1 \\\\\n",
    "    0 & 0 & 0 & 0 & 0 & 0 & 1 & 0\n",
    "    \\end{bmatrix}\n",
    "$$\n",
    "計算 $A$ 的特徵多項式。"
   ]
  },
  {
   "cell_type": "markdown",
   "metadata": {},
   "source": [
    "##### Exercise 5\n",
    "\n",
    "令  \n",
    "$$\n",
    "    A = \\begin{bmatrix}\n",
    "    0 & 1 & 0 & 0 & 0 & 0 & 0 & 1 \\\\\n",
    "    1 & 0 & 1 & 0 & 0 & 0 & 0 & 0 \\\\\n",
    "    0 & 1 & 0 & 1 & 0 & 0 & 0 & 0 \\\\\n",
    "    0 & 0 & 1 & 0 & 1 & 0 & 0 & 0 \\\\\n",
    "    0 & 0 & 0 & 1 & 0 & 1 & 0 & 0 \\\\\n",
    "    0 & 0 & 0 & 0 & 1 & 0 & 1 & 0 \\\\\n",
    "    0 & 0 & 0 & 0 & 0 & 1 & 0 & 1 \\\\\n",
    "    1 & 0 & 0 & 0 & 0 & 0 & 1 & 0\n",
    "    \\end{bmatrix}\n",
    "$$\n",
    "計算 $A$ 的特徵多項式。"
   ]
  },
  {
   "cell_type": "markdown",
   "metadata": {},
   "source": [
    "##### Exercise 6\n",
    "\n",
    "令 $n_1$ 和 $n_2$ 為兩正整數。  \n",
    "令\n",
    "$$\n",
    "    M = \\begin{bmatrix}\n",
    "    O_{n_1,n_1} & B \\\\\n",
    "    A & O_{n_2,n_2}\n",
    "    \\end{bmatrix}\n",
    "$$\n",
    "且 $\\Gamma$ 為其賦權有向圖。  \n",
    "說明 $\\mathfrak{E}_k(\\Gamma)$ 在 $k$ 不是偶數時都是空集合，  \n",
    "因此 $s_k(M) = 0$。"
   ]
  },
  {
   "cell_type": "markdown",
   "metadata": {},
   "source": [
    "##### Exercise 7\n",
    "\n",
    "令 $n_1$、$n_2$、和 $n_3$ 為正整數。  \n",
    "令\n",
    "$$\n",
    "    M = \\begin{bmatrix}\n",
    "    O_{n_1,n_1} & B & O \\\\\n",
    "    O & O_{n_2,n_2} & C \\\\\n",
    "    A & O & O_{n_3,n_3}\n",
    "    \\end{bmatrix}\n",
    "$$\n",
    "且 $\\Gamma$ 為其賦權有向圖。  \n",
    "說明 $\\mathfrak{E}_k(\\Gamma)$ 在 $k$ 不是 $3$ 的倍數時都是空集合，  \n",
    "因此 $s_k(M) = 0$。"
   ]
  }
 ],
 "metadata": {
  "kernelspec": {
   "display_name": "SageMath 9.5",
   "language": "sage",
   "name": "sagemath"
  },
  "language_info": {
   "codemirror_mode": {
    "name": "ipython",
    "version": 3
   },
   "file_extension": ".py",
   "mimetype": "text/x-python",
   "name": "python",
   "nbconvert_exporter": "python",
   "pygments_lexer": "ipython3",
   "version": "3.10.1"
  }
 },
 "nbformat": 4,
 "nbformat_minor": 4
}
