{
 "cells": [
  {
   "cell_type": "markdown",
   "metadata": {},
   "source": [
    "# 行列式值是定義完善的"
   ]
  },
  {
   "cell_type": "markdown",
   "metadata": {},
   "source": [
    "![Creative Commons License](https://i.creativecommons.org/l/by/4.0/88x31.png)  \n",
    "This work by Jephian Lin is licensed under a [Creative Commons Attribution 4.0 International License](http://creativecommons.org/licenses/by/4.0/)."
   ]
  },
  {
   "cell_type": "markdown",
   "metadata": {},
   "source": [
    "$\\newcommand{\\trans}{^\\top}\n",
    "\\newcommand{\\adj}{^{\\rm adj}}\n",
    "\\newcommand{\\cof}{^{\\rm cof}}\n",
    "\\newcommand{\\inp}[2]{\\left\\langle#1,#2\\right\\rangle}\n",
    "\\newcommand{\\dunion}{\\mathbin{\\dot\\cup}}\n",
    "\\newcommand{\\bzero}{\\mathbf{0}}\n",
    "\\newcommand{\\bone}{\\mathbf{1}}\n",
    "\\newcommand{\\ba}{\\mathbf{a}}\n",
    "\\newcommand{\\bb}{\\mathbf{b}}\n",
    "\\newcommand{\\bc}{\\mathbf{c}}\n",
    "\\newcommand{\\bd}{\\mathbf{d}}\n",
    "\\newcommand{\\be}{\\mathbf{e}}\n",
    "\\newcommand{\\bh}{\\mathbf{h}}\n",
    "\\newcommand{\\bp}{\\mathbf{p}}\n",
    "\\newcommand{\\bq}{\\mathbf{q}}\n",
    "\\newcommand{\\br}{\\mathbf{r}}\n",
    "\\newcommand{\\bx}{\\mathbf{x}}\n",
    "\\newcommand{\\by}{\\mathbf{y}}\n",
    "\\newcommand{\\bz}{\\mathbf{z}}\n",
    "\\newcommand{\\bu}{\\mathbf{u}}\n",
    "\\newcommand{\\bv}{\\mathbf{v}}\n",
    "\\newcommand{\\bw}{\\mathbf{w}}\n",
    "\\newcommand{\\tr}{\\operatorname{tr}}\n",
    "\\newcommand{\\nul}{\\operatorname{null}}\n",
    "\\newcommand{\\rank}{\\operatorname{rank}}\n",
    "%\\newcommand{\\ker}{\\operatorname{ker}}\n",
    "\\newcommand{\\range}{\\operatorname{range}}\n",
    "\\newcommand{\\Col}{\\operatorname{Col}}\n",
    "\\newcommand{\\Row}{\\operatorname{Row}}\n",
    "\\newcommand{\\spec}{\\operatorname{spec}}\n",
    "\\newcommand{\\vspan}{\\operatorname{span}}\n",
    "\\newcommand{\\Vol}{\\operatorname{Vol}}\n",
    "\\newcommand{\\sgn}{\\operatorname{sgn}}\n",
    "\\newcommand{\\idmap}{\\operatorname{id}}\n",
    "\\newcommand{\\am}{\\operatorname{am}}\n",
    "\\newcommand{\\gm}{\\operatorname{gm}}\n",
    "\\newcommand{\\mult}{\\operatorname{mult}}\n",
    "\\newcommand{\\iner}{\\operatorname{iner}}$"
   ]
  },
  {
   "cell_type": "code",
   "execution_count": null,
   "metadata": {},
   "outputs": [],
   "source": [
    "from lingeo import random_int_list\n",
    "from gnm import effective_permutations, illustrate_det"
   ]
  },
  {
   "cell_type": "markdown",
   "metadata": {},
   "source": [
    "## Main idea"
   ]
  },
  {
   "cell_type": "markdown",
   "metadata": {},
   "source": [
    "In this section, we will review our treatment on the definition and the properties of the determinant function.  "
   ]
  },
  {
   "cell_type": "markdown",
   "metadata": {},
   "source": [
    "In 405, we defined the determinants of elementary matrices and define \n",
    "\n",
    "$$\n",
    "    \\det(A) = \\det(F_1) \\cdots \\det(F_k)\n",
    "$$\n",
    "\n",
    "if $A = F_1\\cdots F_k$ for some elementary matrices,  \n",
    "and $\\det(A) = 0$ if $A$ is not invertible.\n",
    "\n",
    "This help us to find the value of $\\det(A)$  \n",
    "but it is not certain whether this definition is well-defined since $A$ can be written as different products of elementary matrices.  "
   ]
  },
  {
   "cell_type": "markdown",
   "metadata": {},
   "source": [
    "Based on the definition, we realized that the determinant, if well-defined, must satisfies the following properties:  \n",
    "\n",
    "- $\\det(A\\trans) = \\det(A)$.  \n",
    "- $\\det(AB) = \\det(A)\\det(B)$.  \n",
    "- distributive law on any row and any column.  \n",
    "- Laplace expansion along any row and any column."
   ]
  },
  {
   "cell_type": "markdown",
   "metadata": {},
   "source": [
    "Thanks to the Laplace expansion, we noticed that $\\det(A)$, again, if well-defined, must equal to the value  \n",
    "\n",
    "$$\n",
    "    \\sum_{\\sigma\\in\\mathfrak{S}_n}\\sgn(\\sigma) w(\\sigma).\n",
    "$$\n",
    "\n",
    "We tentatively call this formula of the permutation expansion as $\\det_p(A)$.  "
   ]
  },
  {
   "cell_type": "markdown",
   "metadata": {},
   "source": [
    "If we focus only on the definition of $\\det_p(A)$, then it is obviously well-defined.  \n",
    "And it is known if $\\det(A)$ is well-defined, meaning there is no internal violation of the four rules in its definition, then $\\det(A) = \\det_p(A)$.  \n",
    "Therefore, all we need to do is to make sure $\\det_p(A)$ satisfies the four rules in the definition of $\\det(A)$.  "
   ]
  },
  {
   "cell_type": "markdown",
   "metadata": {},
   "source": [
    "## Side stories\n",
    "\n",
    "- summary"
   ]
  },
  {
   "cell_type": "markdown",
   "metadata": {},
   "source": [
    "## Experiments"
   ]
  },
  {
   "cell_type": "markdown",
   "metadata": {},
   "source": [
    "##### Exercise 1\n",
    "\n",
    "執行以下程式碼。  \n",
    "\n",
    "<!-- eng start -->\n",
    "Run the code below.  \n",
    "<!-- eng end -->"
   ]
  },
  {
   "cell_type": "code",
   "execution_count": null,
   "metadata": {
    "scrolled": false
   },
   "outputs": [],
   "source": [
    "### code\n",
    "set_random_seed(0)\n",
    "print_ans = False\n",
    "\n",
    "n = 6\n",
    "b = 20\n",
    "while True:\n",
    "    l = random_int_list(n^2 - b, 3) + [0]*b\n",
    "    shuffle(l)\n",
    "    A = matrix(n, l)\n",
    "    perms = effective_permutations(A)\n",
    "    if len(perms) >= 3 and len(perms) <= 8 and A.det() != 0:\n",
    "        break\n",
    "\n",
    "B = copy(A)\n",
    "B.swap_rows(0,1)\n",
    "pretty_print(LatexExpr(\"A =\"), A)\n",
    "pretty_print(LatexExpr(\"B =\"), B)\n",
    "\n",
    "\n",
    "if print_ans:\n",
    "    print(\"elementary subgraphs of Gamma(A):\")\n",
    "    illustrate_det(A)\n",
    "    print(\"elementary subgraphs of Gamma(B):\")\n",
    "    illustrate_det(B)\n",
    "    print(\"Take one elementary subgraph H_A for A.\")\n",
    "    print(\"If (1,i) and (2,j) are directed edges in H_A,\")\n",
    "    print(\"then changing them to (1,j) and (2,i) will result in an elementary subgraph H_B for B.\")\n",
    "    print(\"This builds up a bijection between the elementary subgraphs of Gamma(A) and Gamma(B).\")"
   ]
  },
  {
   "cell_type": "markdown",
   "metadata": {},
   "source": [
    "##### Exercise 1(a)\n",
    "\n",
    "畫出 $\\Gamma(A)$ 的所有基本子圖，並標上每條邊的權重。  \n",
    "\n",
    "<!-- eng start -->\n",
    "Draw all elementary subgraphs of $\\Gamma(A)$ and mark the weight on each edge.  \n",
    "<!-- eng end -->"
   ]
  },
  {
   "cell_type": "markdown",
   "metadata": {},
   "source": [
    "##### Exercise 1(b)\n",
    "\n",
    "畫出 $\\Gamma(B)$ 的所有基本子圖，並標上每條邊的權重。  \n",
    "\n",
    "<!-- eng start -->\n",
    "Draw all elementary subgraphs of $\\Gamma(B)$ and mark the weight on each edge.  \n",
    "<!-- eng end -->"
   ]
  },
  {
   "cell_type": "markdown",
   "metadata": {},
   "source": [
    "##### Exercise 1(c)\n",
    "\n",
    "找一個 $\\mathfrak{E}(\\Gamma(A))$ 到 $\\mathfrak{E}(\\Gamma(B))$ 的一對一對應。  \n",
    "這個對應會把 $\\mathfrak{E}(\\Gamma(A))$ 對到 $\\mathfrak{E}(\\Gamma(B))$ 的一個權重一樣的基本子圖，  \n",
    "但是圈數差一，因此正負號會變號。  \n",
    "\n",
    "<!-- eng start -->\n",
    "Find a bijection between $\\mathfrak{E}(\\Gamma(A))$ and $\\mathfrak{E}(\\Gamma(B))$ such that the corresponding elementary subgraphs have the same weight but their numbers of cycles are off by $1$, which flips their signs.  \n",
    "<!-- eng end -->"
   ]
  },
  {
   "cell_type": "markdown",
   "metadata": {},
   "source": [
    "## Exercises"
   ]
  },
  {
   "cell_type": "markdown",
   "metadata": {},
   "source": [
    "##### Exercise 2\n",
    "\n",
    "找出 $\\Gamma(I_n)$ 中的基本子圖，  \n",
    "並說明 $\\det_p(I_n) = 1$。  \n",
    "\n",
    "<!-- eng start -->\n",
    "Find the elementary subgraphs of $\\Gamma(I_n)$ and explain why $\\det_p(I_n) = 1$.  \n",
    "<!-- eng end -->"
   ]
  },
  {
   "cell_type": "markdown",
   "metadata": {},
   "source": [
    "##### Exercise 3\n",
    "\n",
    "令 $A$ 是一矩陣，  \n",
    "而 $B$ 是由 $A$ 矩陣將第 $i$ 列和第 $j$ 列交換得來，且 $i \\neq j$。  \n",
    "令 $\\mathfrak{E}_A = \\mathfrak{E}(\\Gamma(A))$ 且 $\\mathfrak{E}_B = \\mathfrak{E}(\\Gamma(B))$。  \n",
    "找一個對射函數 $f: \\mathfrak{E}_A \\rightarrow \\mathfrak{E}_B$ 使得  \n",
    "\n",
    "- $w(f(H)) = w(H)$、 \n",
    "- $|c(f(H)) - c(H)|$、且  \n",
    "- $\\sgn(f(H)) = - \\sgn(H)$。  \n",
    "\n",
    "因此 $\\det_p(B) = -\\det_p(A)$。  \n",
    "\n",
    "<!-- eng start -->\n",
    "Let $A$ be a matrix and $B$ the matrix obtained from $A$ by swapping the $i$-th and the $j$-th rows, where $i \\neq j$.  Let $\\mathfrak{E}_A = \\mathfrak{E}(\\Gamma(A))$ and $\\mathfrak{E}_B = \\mathfrak{E}(\\Gamma(B))$.  Find a bjection $f: \\mathfrak{E}_A \\rightarrow \\mathfrak{E}_B$ such that  \n",
    "\n",
    "- $w(f(H)) = w(H)$,  \n",
    "- $|c(f(H)) - c(H)|$, and  \n",
    "- $\\sgn(f(H)) = - \\sgn(H)$.  \n",
    "\n",
    "Therefore, $\\det_p(B) = -\\det_p(A)$.  \n",
    "<!-- eng end -->"
   ]
  },
  {
   "cell_type": "markdown",
   "metadata": {},
   "source": [
    "##### Exercise 4\n",
    "\n",
    "令 $A$ 是一矩陣，  \n",
    "而 $B$ 是由 $A$ 矩陣將第 $i$ 列乘上 $k$ 倍得來。  \n",
    "令 $\\mathfrak{E}_A = \\mathfrak{E}(\\Gamma(A))$ 且 $\\mathfrak{E}_B = \\mathfrak{E}(\\Gamma(B))$。  \n",
    "找一個對射函數 $f: \\mathfrak{E}_A \\rightarrow \\mathfrak{E}_B$ 使得  \n",
    "\n",
    "- $w(f(H)) = k\\cdot w(H)$、 \n",
    "- $c(f(H)) = c(H)$、且  \n",
    "- $\\sgn(f(H)) = \\sgn(H)$。  \n",
    "\n",
    "因此 $\\det_p(B) = k\\cdot\\det_p(A)$。  \n",
    "\n",
    "<!-- eng start -->\n",
    "Let $A$ be a matrix and $B$ the matrix obtained from $A$ by rescaling the $i$-th by $k$.  Let $\\mathfrak{E}_A = \\mathfrak{E}(\\Gamma(A))$ and $\\mathfrak{E}_B = \\mathfrak{E}(\\Gamma(B))$.  Find a bjection $f: \\mathfrak{E}_A \\rightarrow \\mathfrak{E}_B$ such that  \n",
    "\n",
    "- $w(f(H)) = k\\cdot w(H)$,   \n",
    "- $c(f(H)) = c(H)$, and  \n",
    "- $\\sgn(f(H)) = \\sgn(H)$.  \n",
    "\n",
    "Therefore, $\\det_p(B) = k\\cdot\\det_p(A)$.  \n",
    "<!-- eng end -->"
   ]
  },
  {
   "cell_type": "markdown",
   "metadata": {},
   "source": [
    "##### Exercise 5\n",
    "\n",
    "藉由前兩題，說明以下性質。  \n",
    "\n",
    "<!-- eng start -->\n",
    "Based on the previous two exercises, prove the following properties.  \n",
    "<!-- eng end -->"
   ]
  },
  {
   "cell_type": "markdown",
   "metadata": {},
   "source": [
    "##### Exercise 5(a)\n",
    "\n",
    "若 $A$ 中有兩列相同，則 $\\det_p(A) = 0$。  \n",
    "\n",
    "<!-- eng start -->\n",
    "If $A$ has two rows in common, then $\\det_p(A) = 0$.  \n",
    "<!-- eng end -->"
   ]
  },
  {
   "cell_type": "markdown",
   "metadata": {},
   "source": [
    "##### Exercise 5(b)\n",
    "\n",
    "若 $A$ 中有一列是另一列的倍數，則 $\\det_p(A) = 0$。  \n",
    "\n",
    "<!-- eng start -->\n",
    "If a row of $A$ is the multiple of the other row, then $\\det_p(A) = 0$.  \n",
    "<!-- eng end -->"
   ]
  },
  {
   "cell_type": "markdown",
   "metadata": {},
   "source": [
    "##### Exercise 6\n",
    "\n",
    "令 $M$ 是一矩陣，且其第一列可以寫成兩向量相加 $\\ba + \\bb$。  \n",
    "將 $M$ 的第一列改為 $\\ba$ 並稱之為矩陣 $A$。  \n",
    "將 $M$ 的第一列改為 $\\bb$ 並稱之為矩陣 $B$。  \n",
    "令 $\\mathfrak{E}_M = \\mathfrak{E}(\\Gamma(M))$、$\\mathfrak{E}_A = \\mathfrak{E}(\\Gamma(A))$ 且 $\\mathfrak{E}_B = \\mathfrak{E}(\\Gamma(B))$。  \n",
    "找兩個對射函數 $f_A: \\mathfrak{E}_M \\rightarrow \\mathfrak{E}_A$ 及 $f_B: \\mathfrak{E}_M \\rightarrow \\mathfrak{E}_B$ 使得  \n",
    "\n",
    "- $w(f_A(H)) + w(f_B(H)) = w(H)$、 \n",
    "- $c(f_A(H)) = c(H)$ 及 $c(f_B(H)) = c(H)$、且  \n",
    "- $\\sgn(f(H)) = \\sgn(H)$ 及 $\\sgn(f(H)) = \\sgn(H)$。  \n",
    "\n",
    "因此 $\\det_p(M) = \\det_p(A) + \\det_p(B)$。  \n",
    "\n",
    "<!-- eng start -->\n",
    "Let $M$ be a matrix whose first row has the form $\\ba + \\bb$.  Replace the first row by $\\ba$ and call the resulting matrix as $A$.  Similarly, replace the first row by $\\bb$ and call the resulting matrix as $B$.  Let $\\mathfrak{E}_M = \\mathfrak{E}(\\Gamma(M))$、$\\mathfrak{E}_A = \\mathfrak{E}(\\Gamma(A))$ and $\\mathfrak{E}_B = \\mathfrak{E}(\\Gamma(B))$.  Find two bijections $f_A: \\mathfrak{E}_M \\rightarrow \\mathfrak{E}_A$ and $f_B: \\mathfrak{E}_M \\rightarrow \\mathfrak{E}_B$ such that  \n",
    "\n",
    "- $w(f_A(H)) + w(f_B(H)) = w(H)$,   \n",
    "- $c(f_A(H)) = c(H)$ and $c(f_B(H)) = c(H)$, and  \n",
    "- $\\sgn(f(H)) = \\sgn(H)$ 及 $\\sgn(f(H)) = \\sgn(H)$.  \n",
    "\n",
    "Therefore, $\\det_p(M) = \\det_p(A) + \\det_p(B)$.  \n",
    "<!-- eng end -->"
   ]
  },
  {
   "cell_type": "markdown",
   "metadata": {},
   "source": [
    "##### Exercise 7\n",
    "\n",
    "令 $A$ 是一矩陣，  \n",
    "而 $B$ 是由 $A$ 矩陣將第 $j$ 列乘上 $k$ 倍後加到第 $i$ 列得來，且 $i \\neq j$。  \n",
    "利用前兩題的性質說明 $\\det_p(B) = \\det_p(A)$。  \n",
    "\n",
    "<!-- eng start -->\n",
    "Let $A$ be a matrix and $B$ the matrix obtained from $A$ by adding $k$ times the $j$-th row to the $i$-th row, where $i \\neq j$.  Use the previous two exercises to show that $\\det_p(B) = \\det_p(A)$.  \n",
    "<!-- eng end -->"
   ]
  }
 ],
 "metadata": {
  "kernelspec": {
   "display_name": "SageMath 9.7",
   "language": "sage",
   "name": "sagemath"
  },
  "language_info": {
   "codemirror_mode": {
    "name": "ipython",
    "version": 3
   },
   "file_extension": ".py",
   "mimetype": "text/x-python",
   "name": "python",
   "nbconvert_exporter": "python",
   "pygments_lexer": "ipython3",
   "version": "3.10.8"
  }
 },
 "nbformat": 4,
 "nbformat_minor": 4
}
