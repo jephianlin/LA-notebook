{
 "cells": [
  {
   "cell_type": "markdown",
   "metadata": {},
   "source": [
    "# 反矩陣"
   ]
  },
  {
   "cell_type": "markdown",
   "metadata": {},
   "source": [
    "![Creative Commons License](https://i.creativecommons.org/l/by/4.0/88x31.png)  \n",
    "This work by Jephian Lin is licensed under a [Creative Commons Attribution 4.0 International License](http://creativecommons.org/licenses/by/4.0/)."
   ]
  },
  {
   "cell_type": "code",
   "execution_count": null,
   "metadata": {},
   "outputs": [],
   "source": [
    "from lingeo import random_good_matrix"
   ]
  },
  {
   "cell_type": "markdown",
   "metadata": {},
   "source": [
    "## Main idea"
   ]
  },
  {
   "cell_type": "markdown",
   "metadata": {},
   "source": [
    "##### Matrix-matrix multipliciation (by column)\n",
    "\n",
    "Let $A$ be an $m\\times n$ matrix.  \n",
    "Let $B$ be an $n\\times \\ell$ matrix whose columns are ${\\bf u}_1,\\ldots,{\\bf u}_\\ell$.  \n",
    "Then the columns of $AB$ are $A{\\bf u}_1, \\ldots, A{\\bf u}_\\ell$."
   ]
  },
  {
   "cell_type": "markdown",
   "metadata": {},
   "source": [
    "Recall that an $n\\times n$ matrix $A$ is invertible if there is a matrix $B$ such that $AB = BA = I_n$.  \n",
    "Indeed, an $n\\times n$ matrix is invertible if and only if it is nonsingular.  "
   ]
  },
  {
   "cell_type": "markdown",
   "metadata": {},
   "source": [
    "**invertible $\\implies$ nonsingular**  \n",
    "Suppose $A$ and $B$ are $n\\times n$ matrices such that $AB = I_n$.  \n",
    "Then both $A$ and $B$ are nonsingular.  "
   ]
  },
  {
   "cell_type": "markdown",
   "metadata": {},
   "source": [
    "**nonsingular $\\implies$ invertible**  \n",
    "Suppose $A$ is an $n\\times n$ nonsingular matrix.  \n",
    "Let ${\\bf e}_1,\\ldots,{\\bf e}_n$ be the columns of $I_n$.  \n",
    "Since $A$ is nonsingular and $\\operatorname{Col}(A) = \\mathbb{R}^n$, the equation $A{\\bf x} = {\\bf e}_i$ has a solution ${\\bf x} = {\\bf b}_i$ for each $i = 1,\\ldots, n$.  \n",
    "Let $B$ be the matrix whose columns are ${\\bf b}_1,\\ldots,{\\bf b}_n$.  \n",
    "Then $AB = I_n$.  "
   ]
  },
  {
   "cell_type": "markdown",
   "metadata": {},
   "source": [
    "Here is a way to calculate $B$ at once:  \n",
    "1. Consider the $n\\times 2n$ augmented matrix $\\left[\\begin{array}{c|c} A & I_n \\end{array}\\right]$.  \n",
    "2. Since $A$ is nonsingular, necessarily the reduced echelon form of $\\left[\\begin{array}{c|c} A & I_n \\end{array}\\right]$ is $\\left[\\begin{array}{c|c} I_n & B \\end{array}\\right]$ for some $B$.  \n",
    "3. Thus, $AB = I_n$."
   ]
  },
  {
   "cell_type": "markdown",
   "metadata": {},
   "source": [
    "Suppose $A$ and $B$ be $n\\times n$ matrices such that $AB = I_n$.  \n",
    "Then $BA = I_n$.  \n",
    "Therefore, if $AB = I_n$, then both $A$ and $B$ are invertible and they are the inverse of each other.  "
   ]
  },
  {
   "cell_type": "markdown",
   "metadata": {},
   "source": [
    "Suppose $A$, $B$, and $C$ are $n\\times n$ matrices such that $CA = I_n$ and $AB = I_n$.  \n",
    "Then $C = B$.  \n",
    "Therefore, each matrix only has one inverse."
   ]
  },
  {
   "cell_type": "markdown",
   "metadata": {},
   "source": [
    "## Side stories\n",
    "- `is_invertible`\n",
    "- `inverse`\n",
    "- inverse algebra"
   ]
  },
  {
   "cell_type": "markdown",
   "metadata": {},
   "source": [
    "## Experiments"
   ]
  },
  {
   "cell_type": "markdown",
   "metadata": {},
   "source": [
    "##### Exercise 1\n",
    "\n",
    "執行下方程式碼。  \n",
    "矩陣 $\\left[\\begin{array}{c|c} I & B \\end{array}\\right]$ 是 $\\left[\\begin{array}{c|c} A & I \\end{array}\\right]$ 的最簡階梯形式矩陣。  "
   ]
  },
  {
   "cell_type": "code",
   "execution_count": null,
   "metadata": {
    "scrolled": false
   },
   "outputs": [],
   "source": [
    "### code\n",
    "set_random_seed(0)\n",
    "print_ans = False\n",
    "A = random_good_matrix(4,4,4)\n",
    "AI = A.augment(identity_matrix(4), subdivide=True)\n",
    "IB = AI.rref()\n",
    "B = IB[:,4:]\n",
    "\n",
    "print(\"[ A | I ] =\")\n",
    "show(AI)\n",
    "print(\"[ I | B ] =\")\n",
    "show(IB)"
   ]
  },
  {
   "cell_type": "markdown",
   "metadata": {},
   "source": [
    "##### Exercise 1(a)\n",
    "令 ${\\bf b}_i$ 為 $B$ 的第 $i$ 個行向量。  \n",
    "令 ${\\bf e}_i$ 為 $I$ 的第 $i$ 個行向量。  \n",
    "驗證是否 $A{\\bf b}_i = {\\bf e}_i$。  \n",
    "說明為什麼。"
   ]
  },
  {
   "cell_type": "markdown",
   "metadata": {},
   "source": [
    "##### Exercise 1(b)\n",
    "驗證是否 $AB = I_n$。  "
   ]
  },
  {
   "cell_type": "markdown",
   "metadata": {},
   "source": [
    "## Exercises"
   ]
  },
  {
   "cell_type": "markdown",
   "metadata": {},
   "source": [
    "##### Exercise 2\n",
    "\n",
    "令 $A$ 和 $B$ 為 $n\\times n$ 矩陣。  \n",
    "驗證以下反矩陣的性質。"
   ]
  },
  {
   "cell_type": "markdown",
   "metadata": {},
   "source": [
    "##### Exercise 2(a)\n",
    "\n",
    "若 $A$ 可逆。  \n",
    "如果 $X$ 和 $B$ 是 $n\\times m$ 矩陣且 $AX = B$  \n",
    "則 $X = A^{-1}B$。  \n",
    "如果 $X$ 和 $B$ 是 $m\\times n$ 矩陣且 $XA = B$  \n",
    "則 $X = BA^{-1}$。  "
   ]
  },
  {
   "cell_type": "markdown",
   "metadata": {},
   "source": [
    "##### Exercise 2(b)\n",
    "\n",
    "若 $A$ 和 $B$ 都可逆﹐  \n",
    "則 $AB$ 也可逆且 $(AB)^{-1} = B^{-1}A^{-1}$。  "
   ]
  },
  {
   "cell_type": "markdown",
   "metadata": {},
   "source": [
    "##### Exercise 2(c)\n",
    "\n",
    "若 $AB$ 可逆﹐  \n",
    "則 $A$ 和 $B$ 都可逆。  "
   ]
  },
  {
   "cell_type": "markdown",
   "metadata": {},
   "source": [
    "##### Exercise 2(d)\n",
    "\n",
    "若 $A$ 可逆且 $B = A^{-1}$﹐  \n",
    "則 $B$ 也可逆且 $A = B^{-1}$。  "
   ]
  },
  {
   "cell_type": "markdown",
   "metadata": {},
   "source": [
    "##### Exercise 2(e)\n",
    "\n",
    "若 $A$ 可逆﹐  \n",
    "則 $A^\\top$ 也可逆且 $(A^\\top)^{-1} = (A^{-1})^\\top$。  "
   ]
  },
  {
   "cell_type": "markdown",
   "metadata": {},
   "source": [
    "##### Exercise 3\n",
    "\n",
    "令 $A$ 是一個 $m\\times n$ 矩陣。  \n",
    "以下討論 $A^\\top A$ 是否可逆。  "
   ]
  },
  {
   "cell_type": "markdown",
   "metadata": {},
   "source": [
    "##### Exercise 3(a)\n",
    "\n",
    "證明以下敘述等價：  \n",
    "1. $\\operatorname{ker}(A) = \\{{\\bf 0}\\}$（因此必有 $m\\geq n$）。    \n",
    "2. $A^\\top A$ 可逆。  "
   ]
  },
  {
   "cell_type": "markdown",
   "metadata": {},
   "source": [
    "##### Exercise 3(b)\n",
    "\n",
    "證明若 $m < n$ 則 $A^\\top A$ 不可逆。  "
   ]
  },
  {
   "cell_type": "markdown",
   "metadata": {},
   "source": [
    "##### Exercise 4\n",
    "\n",
    "令 $A$ 和 $B$ 為 $n\\times n$ 矩陣。  \n",
    "依照以下步驟證明  \n",
    "若 $AB = I_n$ 則 $BA = I_n$。  "
   ]
  },
  {
   "cell_type": "markdown",
   "metadata": {},
   "source": [
    "##### Exercise 4(a)\n",
    "\n",
    "若 $AB = I_n$。  \n",
    "證明增廣矩陣 $\\left[\\begin{array}{c|c} A & I_n \\end{array}\\right]$ 的最簡階梯形式矩陣  \n",
    "一定是 $\\left[\\begin{array}{c|c} I_n & B \\end{array}\\right]$。  "
   ]
  },
  {
   "cell_type": "markdown",
   "metadata": {},
   "source": [
    "##### Exercise 4(b)\n",
    "\n",
    "\n",
    "令 ${\\bf e}_i$ 為 $I_n$ 的第 $i$ 個行向量。  \n",
    "令 ${\\bf a}_i$ 為 $A$ 的第 $i$ 個行向量。  \n",
    "\n",
    "說明對每個 $i = 1,\\ldots, n$ 都有  \n",
    "$$\\left[\\begin{array}{c|c} A & I_n \\end{array}\\right]  \n",
    "\\begin{bmatrix} {\\bf e}_i \\\\ -{\\bf a}_i \\end{bmatrix} = {\\bf 0},$$  \n",
    "因此也有  \n",
    "$$\\left[\\begin{array}{c|c} I_n & B \\end{array}\\right]  \n",
    "\\begin{bmatrix} {\\bf e}_i \\\\ -{\\bf a}_i \\end{bmatrix} = {\\bf 0}.$$  "
   ]
  },
  {
   "cell_type": "markdown",
   "metadata": {},
   "source": [
    "##### Exercise 4(c)\n",
    "\n",
    "因為對每個 $i = 1,\\ldots, n$ 都有  \n",
    "$$\\left[\\begin{array}{c|c} I_n & B \\end{array}\\right]  \n",
    "\\begin{bmatrix} {\\bf e}_i \\\\ -{\\bf a}_i \\end{bmatrix} = {\\bf 0}.$$  \n",
    "說明對每個 $i = 1,\\ldots, n$ 都有 $B{\\bf a}_i = {\\bf e}_i$、   \n",
    "因此 $BA = I_n$。  "
   ]
  },
  {
   "cell_type": "markdown",
   "metadata": {},
   "source": [
    "##### Exercise 4(d)\n",
    "\n",
    "找一組例子使得  \n",
    "$A$ 是 $n\\times m$ 矩陣、  \n",
    "$B$ 是 $m\\times n$ 矩陣、  \n",
    "$AB = I_n$、  \n",
    "但是 $BA \\neq I_m$。  "
   ]
  },
  {
   "cell_type": "markdown",
   "metadata": {},
   "source": [
    "##### Exercise 5\n",
    "\n",
    "令 $A = \\begin{bmatrix} a & b \\\\ c & d \\end{bmatrix}$ 且 $\\det(A) \\neq 0$。  \n",
    "證明 $A^{-1} = \\frac{1}{\\det(A)}\\begin{bmatrix} d & -b \\\\ -c & a \\end{bmatrix}$。"
   ]
  }
 ],
 "metadata": {
  "kernelspec": {
   "display_name": "SageMath 9.0",
   "language": "sage",
   "name": "sagemath"
  },
  "language_info": {
   "codemirror_mode": {
    "name": "ipython",
    "version": 3
   },
   "file_extension": ".py",
   "mimetype": "text/x-python",
   "name": "python",
   "nbconvert_exporter": "python",
   "pygments_lexer": "ipython3",
   "version": "3.8.10"
  }
 },
 "nbformat": 4,
 "nbformat_minor": 4
}
