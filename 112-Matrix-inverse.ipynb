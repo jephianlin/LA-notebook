{
 "cells": [
  {
   "cell_type": "markdown",
   "metadata": {},
   "source": [
    "# 反矩陣\n",
    "\n",
    "Matrix inverse"
   ]
  },
  {
   "cell_type": "markdown",
   "metadata": {},
   "source": [
    "![Creative Commons License](https://i.creativecommons.org/l/by/4.0/88x31.png)  \n",
    "This work by Jephian Lin is licensed under a [Creative Commons Attribution 4.0 International License](http://creativecommons.org/licenses/by/4.0/)."
   ]
  },
  {
   "cell_type": "markdown",
   "metadata": {},
   "source": [
    "$\\newcommand{\\trans}{^\\top}\n",
    "\\newcommand{\\adj}{^{\\rm adj}}\n",
    "\\newcommand{\\cof}{^{\\rm cof}}\n",
    "\\newcommand{\\inp}[2]{\\left\\langle#1,#2\\right\\rangle}\n",
    "\\newcommand{\\dunion}{\\mathbin{\\dot\\cup}}\n",
    "\\newcommand{\\bzero}{\\mathbf{0}}\n",
    "\\newcommand{\\bone}{\\mathbf{1}}\n",
    "\\newcommand{\\ba}{\\mathbf{a}}\n",
    "\\newcommand{\\bb}{\\mathbf{b}}\n",
    "\\newcommand{\\bc}{\\mathbf{c}}\n",
    "\\newcommand{\\bd}{\\mathbf{d}}\n",
    "\\newcommand{\\be}{\\mathbf{e}}\n",
    "\\newcommand{\\bh}{\\mathbf{h}}\n",
    "\\newcommand{\\bp}{\\mathbf{p}}\n",
    "\\newcommand{\\bq}{\\mathbf{q}}\n",
    "\\newcommand{\\br}{\\mathbf{r}}\n",
    "\\newcommand{\\bx}{\\mathbf{x}}\n",
    "\\newcommand{\\by}{\\mathbf{y}}\n",
    "\\newcommand{\\bz}{\\mathbf{z}}\n",
    "\\newcommand{\\bu}{\\mathbf{u}}\n",
    "\\newcommand{\\bv}{\\mathbf{v}}\n",
    "\\newcommand{\\bw}{\\mathbf{w}}\n",
    "\\newcommand{\\tr}{\\operatorname{tr}}\n",
    "\\newcommand{\\nul}{\\operatorname{null}}\n",
    "\\newcommand{\\rank}{\\operatorname{rank}}\n",
    "%\\newcommand{\\ker}{\\operatorname{ker}}\n",
    "\\newcommand{\\range}{\\operatorname{range}}\n",
    "\\newcommand{\\Col}{\\operatorname{Col}}\n",
    "\\newcommand{\\Row}{\\operatorname{Row}}\n",
    "\\newcommand{\\spec}{\\operatorname{spec}}\n",
    "\\newcommand{\\vspan}{\\operatorname{span}}\n",
    "\\newcommand{\\Vol}{\\operatorname{Vol}}\n",
    "\\newcommand{\\sgn}{\\operatorname{sgn}}\n",
    "\\newcommand{\\idmap}{\\operatorname{id}}\n",
    "\\newcommand{\\am}{\\operatorname{am}}\n",
    "\\newcommand{\\gm}{\\operatorname{gm}}\n",
    "\\newcommand{\\mult}{\\operatorname{mult}}\n",
    "\\newcommand{\\iner}{\\operatorname{iner}}$"
   ]
  },
  {
   "cell_type": "code",
   "execution_count": null,
   "metadata": {},
   "outputs": [],
   "source": [
    "from lingeo import random_good_matrix"
   ]
  },
  {
   "cell_type": "markdown",
   "metadata": {},
   "source": [
    "## Main idea"
   ]
  },
  {
   "cell_type": "markdown",
   "metadata": {},
   "source": [
    "##### Matrix-matrix multipliciation (by column)\n",
    "\n",
    "Let $A$ be an $m\\times n$ matrix.  \n",
    "Let $B$ be an $n\\times \\ell$ matrix whose columns are $\\bu_1,\\ldots,\\bu_\\ell$.  \n",
    "Then the columns of $AB$ are $A\\bu_1, \\ldots, A\\bu_\\ell$."
   ]
  },
  {
   "cell_type": "markdown",
   "metadata": {},
   "source": [
    "Recall that an $n\\times n$ matrix $A$ is invertible if there is a matrix $B$ such that $AB = BA = I_n$.  \n",
    "Indeed, an $n\\times n$ matrix is invertible if and only if it is nonsingular.  "
   ]
  },
  {
   "cell_type": "markdown",
   "metadata": {},
   "source": [
    "**invertible $\\implies$ nonsingular**  \n",
    "Suppose $A$ and $B$ are $n\\times n$ matrices such that $AB = I_n$.  \n",
    "Then both $A$ and $B$ are nonsingular.  "
   ]
  },
  {
   "cell_type": "markdown",
   "metadata": {},
   "source": [
    "**nonsingular $\\implies$ invertible**  \n",
    "Suppose $A$ is an $n\\times n$ nonsingular matrix.  \n",
    "Let $\\be_1,\\ldots,\\be_n$ be the columns of $I_n$.  \n",
    "Since $A$ is nonsingular and $\\Col(A) = \\mathbb{R}^n$, the equation $A\\bx = \\be_i$ has a solution $\\bx = \\bb_i$ for each $i = 1,\\ldots, n$.  \n",
    "Let $B$ be the matrix whose columns are $\\bb_1,\\ldots,\\bb_n$.  \n",
    "Then $AB = I_n$.  "
   ]
  },
  {
   "cell_type": "markdown",
   "metadata": {},
   "source": [
    "Here is a way to calculate $B$ at once:  \n",
    "1. Consider the $n\\times 2n$ augmented matrix $\\left[\\begin{array}{c|c} A & I_n \\end{array}\\right]$.  \n",
    "2. Since $A$ is nonsingular, necessarily the reduced echelon form of $\\left[\\begin{array}{c|c} A & I_n \\end{array}\\right]$ is $\\left[\\begin{array}{c|c} I_n & B \\end{array}\\right]$ for some $B$.  \n",
    "3. Thus, $AB = I_n$."
   ]
  },
  {
   "cell_type": "markdown",
   "metadata": {},
   "source": [
    "Suppose $A$ and $B$ be $n\\times n$ matrices such that $AB = I_n$.  \n",
    "Then $BA = I_n$.  \n",
    "Therefore, if $AB = I_n$, then both $A$ and $B$ are invertible and they are the inverse of each other.  "
   ]
  },
  {
   "cell_type": "markdown",
   "metadata": {},
   "source": [
    "Suppose $A$, $B$, and $C$ are $n\\times n$ matrices such that $CA = I_n$ and $AB = I_n$.  \n",
    "Then $C = B$.  \n",
    "Therefore, each matrix only has one inverse."
   ]
  },
  {
   "cell_type": "markdown",
   "metadata": {},
   "source": [
    "## Side stories\n",
    "- `is_invertible`\n",
    "- `inverse`\n",
    "- inverse algebra"
   ]
  },
  {
   "cell_type": "markdown",
   "metadata": {},
   "source": [
    "## Experiments"
   ]
  },
  {
   "cell_type": "markdown",
   "metadata": {},
   "source": [
    "##### Exercise 1\n",
    "\n",
    "執行下方程式碼。  \n",
    "矩陣 $\\left[\\begin{array}{c|c} I & B \\end{array}\\right]$ 是 $\\left[\\begin{array}{c|c} A & I \\end{array}\\right]$ 的最簡階梯形式矩陣。  \n",
    "\n",
    "<!-- eng start -->\n",
    "Run the code below.  Let $\\left[\\begin{array}{c|c} I & B \\end{array}\\right]$ be the reduced echelon form of $\\left[\\begin{array}{c|c} A & I \\end{array}\\right]$.\n",
    "<!-- eng end -->"
   ]
  },
  {
   "cell_type": "code",
   "execution_count": null,
   "metadata": {
    "scrolled": false
   },
   "outputs": [],
   "source": [
    "### code\n",
    "set_random_seed(0)\n",
    "print_ans = False\n",
    "A = random_good_matrix(4,4,4)\n",
    "AI = A.augment(identity_matrix(4), subdivide=True)\n",
    "IB = AI.rref()\n",
    "B = IB[:,4:]\n",
    "\n",
    "print(\"[ A | I ] =\")\n",
    "show(AI)\n",
    "print(\"[ I | B ] =\")\n",
    "show(IB)"
   ]
  },
  {
   "cell_type": "markdown",
   "metadata": {},
   "source": [
    "##### Exercise 1(a)\n",
    "\n",
    "令 $\\bb_i$ 為 $B$ 的第 $i$ 個行向量。  \n",
    "令 $\\be_i$ 為 $I$ 的第 $i$ 個行向量。  \n",
    "驗證是否 $A\\bb_i = \\be_i$。  \n",
    "說明為什麼。\n",
    "\n",
    "<!-- eng start -->\n",
    "Let $\\bb_i$ be the $i$-th column of $B$ and $\\be_i$ the $i$-th column of $I$.  Check if $A\\bb_i = \\be_i$.  Can you explain it?\n",
    "<!-- eng end -->"
   ]
  },
  {
   "cell_type": "markdown",
   "metadata": {},
   "source": [
    "##### Exercise 1(b)\n",
    "\n",
    "驗證是否 $AB = I$。  \n",
    "\n",
    "<!-- eng start -->\n",
    "Verify that $AB = I$.  \n",
    "<!-- eng end -->"
   ]
  },
  {
   "cell_type": "markdown",
   "metadata": {},
   "source": [
    "## Exercises"
   ]
  },
  {
   "cell_type": "markdown",
   "metadata": {},
   "source": [
    "##### Exercise 2\n",
    "\n",
    "令 $A$ 和 $B$ 為 $n\\times n$ 矩陣。  \n",
    "驗證以下反矩陣的性質。\n",
    "\n",
    "<!-- eng start -->\n",
    "Let $A$ and $B$ be $n\\times n$ matrices.  Verify the following properties of an inverse matrix.\n",
    "<!-- eng end -->"
   ]
  },
  {
   "cell_type": "markdown",
   "metadata": {},
   "source": [
    "##### Exercise 2(a)\n",
    "\n",
    "若 $A$ 可逆。  \n",
    "如果 $X$ 和 $B$ 是 $n\\times m$ 矩陣且 $AX = B$  \n",
    "則 $X = A^{-1}B$。  \n",
    "如果 $X$ 和 $B$ 是 $m\\times n$ 矩陣且 $XA = B$  \n",
    "則 $X = BA^{-1}$。  \n",
    "\n",
    "<!-- eng start -->\n",
    "Suppose $A$ is invertible.  If $X$ and $B$ are $n\\times m$ matrices and $AX = B$, then $X = A^{-1}B$.  If $X$ and $B$ are $m\\times n$ matrices and $XA = B$, then $X = BA^{-1}$.  \n",
    "<!-- eng end -->"
   ]
  },
  {
   "cell_type": "markdown",
   "metadata": {},
   "source": [
    "##### Exercise 2(b)\n",
    "\n",
    "若 $A$ 和 $B$ 都可逆﹐  \n",
    "則 $AB$ 也可逆且 $(AB)^{-1} = B^{-1}A^{-1}$。  \n",
    "\n",
    "<!-- eng start -->\n",
    "If $A$ and $B$ are invertible, then $AB$ is also invertible with $(AB)^{-1} = B^{-1}A^{-1}$.  \n",
    "<!-- eng end -->"
   ]
  },
  {
   "cell_type": "markdown",
   "metadata": {},
   "source": [
    "##### Exercise 2(c)\n",
    "\n",
    "若 $AB$ 可逆﹐  \n",
    "則 $A$ 和 $B$ 都可逆。  \n",
    "\n",
    "<!-- eng start -->\n",
    "If $AB$ are invertible, then both $A$ and $B$ are invertible.  \n",
    "<!-- eng end -->"
   ]
  },
  {
   "cell_type": "markdown",
   "metadata": {},
   "source": [
    "##### Exercise 2(d)\n",
    "\n",
    "若 $A$ 可逆且 $B = A^{-1}$﹐  \n",
    "則 $B$ 也可逆且 $A = B^{-1}$。  \n",
    "\n",
    "<!-- eng start -->\n",
    "If $A$ is invertible with $B = A^{-1}$, then $B$ is invertible with $A = B^{-1}$.   \n",
    "<!-- eng end -->"
   ]
  },
  {
   "cell_type": "markdown",
   "metadata": {},
   "source": [
    "##### Exercise 2(e)\n",
    "\n",
    "若 $A$ 可逆﹐  \n",
    "則 $A\\trans$ 也可逆且 $(A\\trans)^{-1} = (A^{-1})\\trans$。  \n",
    "\n",
    "<!-- eng start -->\n",
    "If $A$ is invertible, then $A\\trans$ is invertible with $(A\\trans)^{-1} = (A^{-1})\\trans$.  \n",
    "<!-- eng end -->"
   ]
  },
  {
   "cell_type": "markdown",
   "metadata": {},
   "source": [
    "##### Exercise 3\n",
    "\n",
    "令 $A$ 是一個 $m\\times n$ 矩陣。  \n",
    "以下討論 $A\\trans A$ 是否可逆。  \n",
    "\n",
    "<!-- eng start -->\n",
    "Let $A$ be an $m\\times n$.  The following problems are about the invertibility of $A\\trans A$.  \n",
    "<!-- eng end -->"
   ]
  },
  {
   "cell_type": "markdown",
   "metadata": {},
   "source": [
    "##### Exercise 3(a)\n",
    "\n",
    "證明以下敘述等價： \n",
    "\n",
    "1. $\\ker(A) = \\{\\bzero\\}$（因此必有 $m\\geq n$）。    \n",
    "2. $A\\trans A$ 可逆。  \n",
    "\n",
    "<!-- eng start -->\n",
    "Show that the following are equivalent:  \n",
    "\n",
    "1. $\\ker(A) = \\{\\bzero\\}$ (so necessarily $m\\geq n$).    \n",
    "2. $A\\trans A$ is invertible.  \n",
    "<!-- eng end -->"
   ]
  },
  {
   "cell_type": "markdown",
   "metadata": {},
   "source": [
    "##### Exercise 3(b)\n",
    "\n",
    "證明若 $m < n$ 則 $A\\trans A$ 不可逆。  \n",
    "\n",
    "<!-- eng start -->\n",
    "Show that if $m < n$ then $A\\trans A$ is not invertible.  \n",
    "<!-- eng end -->"
   ]
  },
  {
   "cell_type": "markdown",
   "metadata": {},
   "source": [
    "##### Exercise 4\n",
    "\n",
    "令 $A$ 和 $B$ 為 $n\\times n$ 矩陣。  \n",
    "依照以下步驟證明  \n",
    "若 $AB = I_n$ 則 $BA = I_n$。  \n",
    "\n",
    "<!-- eng start -->\n",
    "Let $A$ and $B$ be $n\\times n$ matrices.  Use the given instructions to prove that $AB = I_n$ if and only if $BA = I_n$.  \n",
    "<!-- eng end -->"
   ]
  },
  {
   "cell_type": "markdown",
   "metadata": {},
   "source": [
    "##### Exercise 4(a)\n",
    "\n",
    "若 $AB = I_n$。  \n",
    "證明增廣矩陣 $\\left[\\begin{array}{c|c} A & I_n \\end{array}\\right]$ 的最簡階梯形式矩陣  \n",
    "一定是 $\\left[\\begin{array}{c|c} I_n & B \\end{array}\\right]$。  \n",
    "\n",
    "<!-- eng start -->\n",
    "Suppose $AB = I_n$.  Show that the reduced echelon form of $\\left[\\begin{array}{c|c} A & I_n \\end{array}\\right]$ is $\\left[\\begin{array}{c|c} I_n & B \\end{array}\\right]$.  \n",
    "<!-- eng end -->"
   ]
  },
  {
   "cell_type": "markdown",
   "metadata": {},
   "source": [
    "##### Exercise 4(b)\n",
    "\n",
    "\n",
    "令 $\\be_i$ 為 $I_n$ 的第 $i$ 個行向量。  \n",
    "令 $\\ba_i$ 為 $A$ 的第 $i$ 個行向量。  \n",
    "\n",
    "說明對每個 $i = 1,\\ldots, n$ 都有  \n",
    "\n",
    "$$\n",
    "    \\left[\\begin{array}{c|c} A & I_n \\end{array}\\right]  \n",
    "    \\begin{bmatrix} \\be_i \\\\ -\\ba_i \\end{bmatrix} = \\bzero,\n",
    "$$  \n",
    "\n",
    "因此也有  \n",
    "\n",
    "$$\n",
    "    \\left[\\begin{array}{c|c} I_n & B \\end{array}\\right]  \n",
    "    \\begin{bmatrix} \\be_i \\\\ -\\ba_i \\end{bmatrix} = \\bzero.\n",
    "$$  \n",
    "\n",
    "<!-- eng start -->\n",
    "Let $\\be_i$ be the $i$-th column of $I_n$ and $\\ba_i$ the $i$-th column of $A$.  \n",
    "\n",
    "Show that for each $i = 1,\\ldots, n$, we have  \n",
    "\n",
    "$$\n",
    "    \\left[\\begin{array}{c|c} A & I_n \\end{array}\\right]  \n",
    "    \\begin{bmatrix} \\be_i \\\\ -\\ba_i \\end{bmatrix} = \\bzero,\n",
    "$$  \n",
    "\n",
    "and \n",
    "\n",
    "$$\n",
    "    \\left[\\begin{array}{c|c} I_n & B \\end{array}\\right]  \n",
    "    \\begin{bmatrix} \\be_i \\\\ -\\ba_i \\end{bmatrix} = \\bzero.\n",
    "$$  \n",
    "<!-- eng end -->"
   ]
  },
  {
   "cell_type": "markdown",
   "metadata": {},
   "source": [
    "##### Exercise 4(c)\n",
    "\n",
    "因為對每個 $i = 1,\\ldots, n$ 都有  \n",
    "\n",
    "$$\n",
    "    \\left[\\begin{array}{c|c} I_n & B \\end{array}\\right]  \n",
    "    \\begin{bmatrix} \\be_i \\\\ -\\ba_i \\end{bmatrix} = \\bzero.\n",
    "$$  \n",
    "\n",
    "說明對每個 $i = 1,\\ldots, n$ 都有 $B\\ba_i = \\be_i$、   \n",
    "因此 $BA = I_n$。  \n",
    "\n",
    "<!-- eng start -->\n",
    "For each $i = 1,\\ldots, n$, we know \n",
    "\n",
    "$$\n",
    "    \\left[\\begin{array}{c|c} I_n & B \\end{array}\\right]  \n",
    "    \\begin{bmatrix} \\be_i \\\\ -\\ba_i \\end{bmatrix} = \\bzero.\n",
    "$$  \n",
    "\n",
    "Use this fact to show that $B\\ba_i = \\be_i$ for each $i = 1,\\ldots, n$.  Therefore, $BA = I_n$.  \n",
    "<!-- eng end -->"
   ]
  },
  {
   "cell_type": "markdown",
   "metadata": {},
   "source": [
    "##### Exercise 4(d)\n",
    "\n",
    "找一組例子使得  \n",
    "$A$ 是 $n\\times m$ 矩陣、  \n",
    "$B$ 是 $m\\times n$ 矩陣、  \n",
    "$AB = I_n$、  \n",
    "但是 $BA \\neq I_m$。  \n",
    "\n",
    "<!-- eng start -->\n",
    "Find an $n\\times m$ matrix $A$ and an $m\\times n$ matrix $B$ such that $AB = I_n$ but $BA \\neq I_m$.  \n",
    "<!-- eng end -->"
   ]
  },
  {
   "cell_type": "markdown",
   "metadata": {},
   "source": [
    "##### Exercise 5\n",
    "\n",
    "令 $A = \\begin{bmatrix} a & b \\\\ c & d \\end{bmatrix}$ 且 $\\det(A) \\neq 0$。  \n",
    "證明 $A^{-1} = \\frac{1}{\\det(A)}\\begin{bmatrix} d & -b \\\\ -c & a \\end{bmatrix}$。\n",
    "\n",
    "<!-- eng start -->\n",
    "Let $A = \\begin{bmatrix} a & b \\\\ c & d \\end{bmatrix}$ with $\\det(A) \\neq 0$.  Show that $A^{-1} = \\frac{1}{\\det(A)}\\begin{bmatrix} d & -b \\\\ -c & a \\end{bmatrix}$.  \n",
    "<!-- eng end -->"
   ]
  }
 ],
 "metadata": {
  "kernelspec": {
   "display_name": "SageMath 9.6",
   "language": "sage",
   "name": "sagemath"
  },
  "language_info": {
   "codemirror_mode": {
    "name": "ipython",
    "version": 3
   },
   "file_extension": ".py",
   "mimetype": "text/x-python",
   "name": "python",
   "nbconvert_exporter": "python",
   "pygments_lexer": "ipython3",
   "version": "3.10.5"
  }
 },
 "nbformat": 4,
 "nbformat_minor": 4
}
