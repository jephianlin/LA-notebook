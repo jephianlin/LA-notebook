{
 "cells": [
  {
   "cell_type": "markdown",
   "metadata": {},
   "source": [
    "# 克拉瑪公式"
   ]
  },
  {
   "cell_type": "markdown",
   "metadata": {},
   "source": [
    "![Creative Commons License](https://i.creativecommons.org/l/by/4.0/88x31.png)  \n",
    "This work by Jephian Lin is licensed under a [Creative Commons Attribution 4.0 International License](http://creativecommons.org/licenses/by/4.0/)."
   ]
  },
  {
   "cell_type": "markdown",
   "metadata": {},
   "source": [
    "$\\newcommand{\\trans}{^\\top}\n",
    "\\newcommand{\\adj}{^{\\rm adj}}\n",
    "\\newcommand{\\cof}{^{\\rm cof}}\n",
    "\\newcommand{\\inp}[2]{\\left\\langle#1,#2\\right\\rangle}\n",
    "\\newcommand{\\dunion}{\\mathbin{\\dot\\cup}}\n",
    "\\newcommand{\\bzero}{\\mathbf{0}}\n",
    "\\newcommand{\\bone}{\\mathbf{1}}\n",
    "\\newcommand{\\ba}{\\mathbf{a}}\n",
    "\\newcommand{\\bb}{\\mathbf{b}}\n",
    "\\newcommand{\\bc}{\\mathbf{c}}\n",
    "\\newcommand{\\bd}{\\mathbf{d}}\n",
    "\\newcommand{\\be}{\\mathbf{e}}\n",
    "\\newcommand{\\bh}{\\mathbf{h}}\n",
    "\\newcommand{\\bp}{\\mathbf{p}}\n",
    "\\newcommand{\\bq}{\\mathbf{q}}\n",
    "\\newcommand{\\br}{\\mathbf{r}}\n",
    "\\newcommand{\\bx}{\\mathbf{x}}\n",
    "\\newcommand{\\by}{\\mathbf{y}}\n",
    "\\newcommand{\\bz}{\\mathbf{z}}\n",
    "\\newcommand{\\bu}{\\mathbf{u}}\n",
    "\\newcommand{\\bv}{\\mathbf{v}}\n",
    "\\newcommand{\\bw}{\\mathbf{w}}\n",
    "\\newcommand{\\tr}{\\operatorname{tr}}\n",
    "\\newcommand{\\nul}{\\operatorname{null}}\n",
    "\\newcommand{\\rank}{\\operatorname{rank}}\n",
    "%\\newcommand{\\ker}{\\operatorname{ker}}\n",
    "\\newcommand{\\range}{\\operatorname{range}}\n",
    "\\newcommand{\\Col}{\\operatorname{Col}}\n",
    "\\newcommand{\\Row}{\\operatorname{Row}}\n",
    "\\newcommand{\\spec}{\\operatorname{spec}}\n",
    "\\newcommand{\\vspan}{\\operatorname{span}}\n",
    "\\newcommand{\\Vol}{\\operatorname{Vol}}$"
   ]
  },
  {
   "cell_type": "code",
   "execution_count": null,
   "metadata": {},
   "outputs": [],
   "source": [
    "from lingeo import random_int_list"
   ]
  },
  {
   "cell_type": "markdown",
   "metadata": {},
   "source": [
    "## Main idea"
   ]
  },
  {
   "cell_type": "markdown",
   "metadata": {},
   "source": [
    "Let $A$ be an $n\\times n$ invertible matrix  \n",
    "and $\\bb\\in\\mathbb{R}^n$.  \n",
    "To solve the equation $A\\bx = \\bb$, one may calculate the reduced echelon form of the augmented matrix as follows.  \n",
    "$$\n",
    "    \\left[\\begin{array}{c|c} A & \\bb \\end{array}\\right]\n",
    "    \\rightarrow\n",
    "    \\left[\\begin{array}{c|c} I_n & \\bx \\end{array}\\right]\n",
    "$$"
   ]
  },
  {
   "cell_type": "markdown",
   "metadata": {},
   "source": [
    "This means there is an invertible matrix $E$  \n",
    "such that $EA = I_n$ and $E\\bb = \\bx$.  \n",
    "(So actually $E = A^{-1}$.)"
   ]
  },
  {
   "cell_type": "markdown",
   "metadata": {},
   "source": [
    "Let $A_j$ be the matrix obtained from $A$ by replacing the $j$-th column with the vector $\\bb$.  \n",
    "Then we have  \n",
    "$$\n",
    "    EA_j = \n",
    "    \\begin{bmatrix}\n",
    "     ~ & | & | & | & ~ \\\\\n",
    "     \\cdots & \\be_{j-1} & \\bx & \\be_{j+1} & \\cdots \\\\\n",
    "     ~ & | & | & | & ~ \n",
    "    \\end{bmatrix}.\n",
    "$$\n",
    "If $\\bx = (x_1,\\ldots, x_n)$, then by taking the determinant of the above equality on both sides, we get  \n",
    "$$\n",
    "    \\det(E)\\det(A_j) = x_j.\n",
    "$$\n",
    "This leads to Cramer's rule below."
   ]
  },
  {
   "cell_type": "markdown",
   "metadata": {},
   "source": [
    "##### Theorem (Cramer's rule)\n",
    "Let $A$ be an $n\\times n$ invertible matrix and $\\bb\\in\\mathbb{R}^n$.  \n",
    "Let $A_j$ be the matrix obtained from $A$ by replacing the $j$-th column with $\\bb$.  \n",
    "Then the solution $\\bx = (x_1,\\ldots,x_n)$ to the equation $A\\bx = \\bb$ can be solved by  \n",
    "$$\n",
    "    x_j = \\frac{\\det(A_j)}{\\det(A)}.\n",
    "$$"
   ]
  },
  {
   "cell_type": "markdown",
   "metadata": {},
   "source": [
    "## Side stories\n",
    "\n",
    "- unimodular\n",
    "- totally unimodular"
   ]
  },
  {
   "cell_type": "markdown",
   "metadata": {},
   "source": [
    "## Experiments"
   ]
  },
  {
   "cell_type": "markdown",
   "metadata": {},
   "source": [
    "##### Exercise 1\n",
    "\n",
    "執行以下程式碼。  "
   ]
  },
  {
   "cell_type": "code",
   "execution_count": null,
   "metadata": {
    "scrolled": false
   },
   "outputs": [],
   "source": [
    "### code\n",
    "set_random_seed(0)\n",
    "print_ans = False\n",
    "\n",
    "n = 3\n",
    "while True:\n",
    "    A = matrix(n, random_int_list(n^2,3))\n",
    "    if A.det() != 0:\n",
    "        break\n",
    "b = vector(random_int_list(n, 3))\n",
    "\n",
    "print(\"n =\", n)\n",
    "pretty_print(LatexExpr(\"A =\"), A) \n",
    "pretty_print(LatexExpr(r\"{\\bf b} =\"), b)\n",
    "\n",
    "if print_ans:\n",
    "    for j in range(n):\n",
    "        Aj = copy(A)\n",
    "        Aj[:,j] = b\n",
    "        print(\"j =\", j+1)\n",
    "        pretty_print(LatexExpr(\"A_j =\"), Aj)\n",
    "        print(\"det(Aj) =\", Aj.det())\n",
    "        \n",
    "    print(\"det(A) =\", A.det())\n",
    "    print(A \\ b)"
   ]
  },
  {
   "cell_type": "markdown",
   "metadata": {},
   "source": [
    "##### Exercise 1(a)\n",
    "\n",
    "對所有 $j = 1,\\ldots, n$，寫下 $A_j$ 並求出 $\\det A_j$。"
   ]
  },
  {
   "cell_type": "markdown",
   "metadata": {},
   "source": [
    "##### Exercise 1(b)\n",
    "\n",
    "計算 $\\det(A)$ 並用克拉瑪公式求出 $A\\bx = \\bb$ 的解 $\\bx$。"
   ]
  },
  {
   "cell_type": "markdown",
   "metadata": {},
   "source": [
    "## Exercises"
   ]
  },
  {
   "cell_type": "markdown",
   "metadata": {},
   "source": [
    "##### Exercise 2\n",
    "\n",
    "根據拉普拉斯展開，計算行列式值時只會用到加法和乘法。  \n",
    "所以一個整數矩陣的行列式值也會是整數、  \n",
    "而一個有理數矩陣的行列式值也會是有理數。  \n",
    "利用這個性質回答以下問題。"
   ]
  },
  {
   "cell_type": "markdown",
   "metadata": {},
   "source": [
    "##### Exercise 2(a)\n",
    "\n",
    "說明若 $A$ 是一個可逆有理數矩陣、  \n",
    "而 $\\bb$ 是一個有理數向量，  \n",
    "則 $A\\bx = \\bb$ 的解 $\\bx$ 也會是有理數向量。  "
   ]
  },
  {
   "cell_type": "markdown",
   "metadata": {},
   "source": [
    "##### Exercise 2(b)\n",
    "\n",
    "找一個可逆的整數矩陣 $A$、以及一個整數向量 $\\bb$，  \n",
    "使得 $A\\bx = \\bb$ 的解 $\\bx$ 並不是整數向量。  "
   ]
  },
  {
   "cell_type": "markdown",
   "metadata": {},
   "source": [
    "##### Exercise 2(c)\n",
    "\n",
    "回顧一個整數方陣如果行列式值為 $\\pm 1$，  \n",
    "則被稱為么模矩陣 。   \n",
    "說明若 $A$ 是一個么模矩陣、  \n",
    "而 $\\bb$ 是一個整數向量，  \n",
    "則 $A\\bx = \\bb$ 的解 $\\bx$ 也會是整數向量。  "
   ]
  },
  {
   "cell_type": "markdown",
   "metadata": {},
   "source": [
    "##### Exercise 3\n",
    "\n",
    "令  \n",
    "$$\n",
    "    A = \\begin{bmatrix}\n",
    "     1 & 1 & 1 \\\\\n",
    "     1 & 2 & 4 \\\\\n",
    "     1 & 3 & 9\n",
    "    \\end{bmatrix}\n",
    "$$\n",
    "且 $\\bb = (1,0,1)$。"
   ]
  },
  {
   "cell_type": "markdown",
   "metadata": {},
   "source": [
    "##### Exercise 3(a)\n",
    "\n",
    "利用列運算將 $A$ 消成 $I_3$、  \n",
    "並記錄每一步的列運算。"
   ]
  },
  {
   "cell_type": "markdown",
   "metadata": {},
   "source": [
    "##### Exercise 3(b)\n",
    "\n",
    "對 $A_2$ 進行與上一題相同的列運算，求其得到的結果 $R$。"
   ]
  },
  {
   "cell_type": "markdown",
   "metadata": {},
   "source": [
    "##### Exercise 3(c)\n",
    "\n",
    "求一個矩陣 $E$ 使得 $EA = I_3$ 且 $EA_2 = R$。"
   ]
  },
  {
   "cell_type": "markdown",
   "metadata": {},
   "source": [
    "##### Exercise 4\n",
    "\n",
    "克拉瑪公式也可以由伴隨矩陣及餘因子矩陣的性質得到。  \n",
    "依照以下步驟給出克拉瑪公式的另一種證明。  \n",
    "令 $A$ 為一 $n\\times n$ 可逆矩陣、而 $\\bb\\in\\mathbb{R}^n$。  \n",
    "令 $\\bx = (x_1,\\ldots, x_n)$ 為 $A\\bx = \\bb$ 的解。  "
   ]
  },
  {
   "cell_type": "markdown",
   "metadata": {},
   "source": [
    "##### Exercise 4(a)\n",
    "\n",
    "令 $\\bc_j$ 為 $A\\cof$ 的第 $j$ 行。  \n",
    "說明 $\\det(A_j) = \\inp{\\bb}{\\bc_j}$。"
   ]
  },
  {
   "cell_type": "markdown",
   "metadata": {},
   "source": [
    "##### Exercise 4(b)\n",
    "\n",
    "利用 $A\\adj = (A\\cof)\\trans = \\det(A)A^{-1}$ 等性質，  \n",
    "說明 $x_j = \\frac{1}{\\det(A)}\\inp{\\bb}{\\bc_j} = \\frac{\\det(A_j)}{\\det(A)}$。"
   ]
  },
  {
   "cell_type": "markdown",
   "metadata": {},
   "source": [
    "##### Exercise 5\n",
    "\n",
    "令  \n",
    "$$\n",
    "    A = \\begin{bmatrix}\n",
    "     1 & 1 \\\\\n",
    "     0 & 1 \\\\\n",
    "     1 & 0\n",
    "    \\end{bmatrix}\n",
    "$$\n",
    "且 $\\bb = (3,1,1)$。"
   ]
  },
  {
   "cell_type": "markdown",
   "metadata": {},
   "source": [
    "##### Exercise 5(a)\n",
    "\n",
    "寫出所有 $A$ 的 $2\\times 2$ 子矩陣，並計算它們的行列式值。  \n",
    "是否全部為 $\\pm 1$？"
   ]
  },
  {
   "cell_type": "markdown",
   "metadata": {},
   "source": [
    "##### Exercise 5(b)\n",
    "\n",
    "畫出 $A\\bx \\leq \\bb$ 的圖形，  \n",
    "並計算圖形中的所有頂點。  \n",
    "（這裡 $\\bx = (x,y)$  \n",
    "而 $A\\bx \\leq \\bb$ 的意思是 $\\bb - A\\bx$ 每一項都大於等於 $0$。）"
   ]
  },
  {
   "cell_type": "markdown",
   "metadata": {},
   "source": [
    "##### Exercise 5(c)\n",
    "\n",
    "利用 (a) 小題的結果  \n",
    "說明為什麼 (b) 小題算出來的頂點都是格子點（座標都是整數）。"
   ]
  },
  {
   "cell_type": "markdown",
   "metadata": {},
   "source": [
    "##### Remark\n",
    "\n",
    "一個整數矩陣 $A$ 如果  \n",
    "所有的 $k\\times k$ 子矩陣其行列式值皆為 $0,1,-1$，  \n",
    "則稱其為**全么模矩陣（totally unimodular）**。  \n",
    "\n",
    "而當 $A$ 是全么模矩陣且 $\\bb$ 是整數向量時  \n",
    "$$\n",
    "    \\begin{aligned}\n",
    "    A\\bx &\\leq \\bb \\\\\n",
    "    \\bx &\\geq \\bzero\n",
    "    \\end{aligned}\n",
    "$$\n",
    "所圍出的圖形，其頂點都會是格子點。  \n",
    "\n",
    "這表示在做線性規劃的時候，所求出來的最佳解都會是整數。"
   ]
  }
 ],
 "metadata": {
  "kernelspec": {
   "display_name": "SageMath 9.4",
   "language": "sage",
   "name": "sagemath"
  },
  "language_info": {
   "codemirror_mode": {
    "name": "ipython",
    "version": 3
   },
   "file_extension": ".py",
   "mimetype": "text/x-python",
   "name": "python",
   "nbconvert_exporter": "python",
   "pygments_lexer": "ipython3",
   "version": "3.10.1"
  }
 },
 "nbformat": 4,
 "nbformat_minor": 4
}
